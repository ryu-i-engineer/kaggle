{
  "nbformat": 4,
  "nbformat_minor": 0,
  "metadata": {
    "colab": {
      "name": "Amex-Default-Prediction-CreateDS.ipynb",
      "provenance": [],
      "machine_shape": "hm",
      "authorship_tag": "ABX9TyML6Zl0aVVhXxmpVr1JZfFZ"
    },
    "kernelspec": {
      "name": "python3",
      "display_name": "Python 3"
    },
    "language_info": {
      "name": "python"
    },
    "accelerator": "TPU",
    "gpuClass": "standard"
  },
  "cells": [
    {
      "cell_type": "markdown",
      "source": [
        "# Preparing for colab"
      ],
      "metadata": {
        "id": "whFMYLB1u7rD"
      }
    },
    {
      "cell_type": "code",
      "source": [
        "!pip install kaggle"
      ],
      "metadata": {
        "id": "MwbPTJbLu1oU",
        "outputId": "c0059e0e-c706-4c1d-bd59-f480241aaef6",
        "colab": {
          "base_uri": "https://localhost:8080/"
        }
      },
      "execution_count": 1,
      "outputs": [
        {
          "output_type": "stream",
          "name": "stdout",
          "text": [
            "Looking in indexes: https://pypi.org/simple, https://us-python.pkg.dev/colab-wheels/public/simple/\n",
            "Requirement already satisfied: kaggle in /usr/local/lib/python3.7/dist-packages (1.5.12)\n",
            "Requirement already satisfied: certifi in /usr/local/lib/python3.7/dist-packages (from kaggle) (2022.6.15)\n",
            "Requirement already satisfied: python-slugify in /usr/local/lib/python3.7/dist-packages (from kaggle) (6.1.2)\n",
            "Requirement already satisfied: urllib3 in /usr/local/lib/python3.7/dist-packages (from kaggle) (1.24.3)\n",
            "Requirement already satisfied: six>=1.10 in /usr/local/lib/python3.7/dist-packages (from kaggle) (1.15.0)\n",
            "Requirement already satisfied: python-dateutil in /usr/local/lib/python3.7/dist-packages (from kaggle) (2.8.2)\n",
            "Requirement already satisfied: requests in /usr/local/lib/python3.7/dist-packages (from kaggle) (2.23.0)\n",
            "Requirement already satisfied: tqdm in /usr/local/lib/python3.7/dist-packages (from kaggle) (4.64.0)\n",
            "Requirement already satisfied: text-unidecode>=1.3 in /usr/local/lib/python3.7/dist-packages (from python-slugify->kaggle) (1.3)\n",
            "Requirement already satisfied: idna<3,>=2.5 in /usr/local/lib/python3.7/dist-packages (from requests->kaggle) (2.10)\n",
            "Requirement already satisfied: chardet<4,>=3.0.2 in /usr/local/lib/python3.7/dist-packages (from requests->kaggle) (3.0.4)\n"
          ]
        }
      ]
    },
    {
      "cell_type": "code",
      "source": [
        "from google.colab import drive\n",
        "drive.mount('/content/drive')\n",
        "\n",
        "# Then move kaggle.json into the folder where the API expects to find it.\n",
        "!mkdir -p ~/.kaggle/ && cp /content/drive/MyDrive/backups/kaggle.json ~/.kaggle/ && chmod 600 ~/.kaggle/kaggle.json"
      ],
      "metadata": {
        "id": "o1piHn7q7SRh",
        "outputId": "73dea170-02e2-46e4-d535-678b89d1f6d0",
        "colab": {
          "base_uri": "https://localhost:8080/"
        }
      },
      "execution_count": 2,
      "outputs": [
        {
          "output_type": "stream",
          "name": "stdout",
          "text": [
            "Mounted at /content/drive\n"
          ]
        }
      ]
    },
    {
      "cell_type": "code",
      "source": [
        "!kaggle competitions download -c amex-default-prediction -f sample_submission.csv\n",
        "!unzip /content/sample_submission.csv.zip"
      ],
      "metadata": {
        "id": "jeIvlVN0vQ08",
        "outputId": "57856016-d950-42d3-ae8a-0c2f6acb945c",
        "colab": {
          "base_uri": "https://localhost:8080/"
        }
      },
      "execution_count": 20,
      "outputs": [
        {
          "output_type": "stream",
          "name": "stdout",
          "text": [
            "Downloading sample_submission.csv.zip to /content\n",
            "\r  0% 0.00/32.4M [00:00<?, ?B/s]\r 19% 6.00M/32.4M [00:00<00:00, 62.6MB/s]\n",
            "\r100% 32.4M/32.4M [00:00<00:00, 181MB/s] \n",
            "Archive:  /content/sample_submission.csv.zip\n",
            "  inflating: sample_submission.csv   \n"
          ]
        }
      ]
    },
    {
      "cell_type": "code",
      "source": [
        "!kaggle competitions download -c amex-default-prediction -f train_labels.csv\n",
        "!unzip /content/train_labels.csv.zip"
      ],
      "metadata": {
        "id": "PfGNoPMDxoPk",
        "outputId": "fdca7b0f-09c4-42c0-9fd2-c03048da8149",
        "colab": {
          "base_uri": "https://localhost:8080/"
        }
      },
      "execution_count": 21,
      "outputs": [
        {
          "output_type": "stream",
          "name": "stdout",
          "text": [
            "Downloading train_labels.csv.zip to /content\n",
            "\r  0% 0.00/16.2M [00:00<?, ?B/s]\n",
            "\r100% 16.2M/16.2M [00:00<00:00, 225MB/s]\n",
            "Archive:  /content/train_labels.csv.zip\n",
            "  inflating: train_labels.csv        \n"
          ]
        }
      ]
    },
    {
      "cell_type": "code",
      "source": [
        "!kaggle datasets download -d raddar/amex-data-integer-dtypes-parquet-format\n",
        "!unzip /content/amex-data-integer-dtypes-parquet-format.zip"
      ],
      "metadata": {
        "colab": {
          "base_uri": "https://localhost:8080/"
        },
        "id": "FdxHrT8y0iJY",
        "outputId": "92f4da56-bdfa-4b5c-858d-a237abc7cb17"
      },
      "execution_count": 22,
      "outputs": [
        {
          "output_type": "stream",
          "name": "stdout",
          "text": [
            "Downloading amex-data-integer-dtypes-parquet-format.zip to /content\n",
            "100% 4.07G/4.07G [00:31<00:00, 162MB/s]\n",
            "100% 4.07G/4.07G [00:31<00:00, 140MB/s]\n",
            "Archive:  /content/amex-data-integer-dtypes-parquet-format.zip\n",
            "  inflating: test.parquet            \n",
            "  inflating: train.parquet           \n"
          ]
        }
      ]
    },
    {
      "cell_type": "markdown",
      "source": [
        "# Create Dataset"
      ],
      "metadata": {
        "id": "34iwBmT90mYE"
      }
    },
    {
      "cell_type": "code",
      "source": [
        "# ====================================================\n",
        "# Library\n",
        "# ====================================================\n",
        "import gc; gc.enable()\n",
        "import warnings\n",
        "warnings.filterwarnings('ignore')\n",
        "import scipy as sp\n",
        "import numpy as np\n",
        "import pandas as pd\n",
        "pd.set_option('display.max_rows', 500)\n",
        "pd.set_option('display.max_columns', 500)\n",
        "pd.set_option('display.width', 1000)\n",
        "from tqdm.auto import tqdm\n",
        "import itertools\n",
        "\n",
        "# ====================================================\n",
        "# Read & preprocess data and save it to disk\n",
        "# ====================================================\n",
        "def read_preprocess_data():\n",
        "    train = pd.read_parquet('/content/train.parquet')\n",
        "    features = train.drop(['customer_ID', 'S_2'], axis = 1).columns.to_list()\n",
        "    cat_features = [\n",
        "        \"B_30\",\n",
        "        \"B_38\",\n",
        "        \"D_114\",\n",
        "        \"D_116\",\n",
        "        \"D_117\",\n",
        "        \"D_120\",\n",
        "        \"D_126\",\n",
        "        \"D_63\",\n",
        "        \"D_64\",\n",
        "        \"D_66\",\n",
        "        \"D_68\",\n",
        "    ]\n",
        "    num_features = [col for col in features if col not in cat_features]\n",
        "    \n",
        "    # Train FE\n",
        "    print('Starting train feature extraction')\n",
        "    train_num_agg = train.groupby(\"customer_ID\")[num_features].agg(['first', 'mean', 'std', 'min', 'max', 'last'])\n",
        "    train_num_agg.columns = ['_'.join(x) for x in train_num_agg.columns]\n",
        "    train_num_agg.reset_index(inplace = True)\n",
        "\n",
        "    # Lag Features\n",
        "    for col in train_num_agg:\n",
        "        if 'last' in col and col.replace('last', 'first') in train_num_agg:\n",
        "            train_num_agg[col + '_lag_sub'] = train_num_agg[col] - train_num_agg[col.replace('last', 'first')]\n",
        "            # train_num_agg[col + '_lag_div'] = train_num_agg[col] / train_num_agg[col.replace('last', 'first')]\n",
        "\n",
        "        if 'max' in col and col.replace('min', 'max') in train_num_agg:\n",
        "            train_num_agg[col + '_lag_sub'] = train_num_agg[col] - train_num_agg[col.replace('max', 'min')]\n",
        "            # train_num_agg[col + '_lag_div'] = train_num_agg[col] / train_num_agg[col.replace('max', 'min')]\n",
        "\n",
        "    train_cat_agg = train.groupby(\"customer_ID\")[cat_features].agg(['count', 'first', 'last', 'nunique'])\n",
        "    train_cat_agg.columns = ['_'.join(x) for x in train_cat_agg.columns]\n",
        "    train_cat_agg.reset_index(inplace = True)\n",
        "    \n",
        "    train_labels = pd.read_csv('/content/train_labels.csv')\n",
        "    train = train_num_agg.merge(train_cat_agg, how = 'inner', on = 'customer_ID').merge(train_labels, how = 'inner', on = 'customer_ID')\n",
        "    print('Train shape: ', train.shape)    \n",
        "    del train_num_agg, train_cat_agg\n",
        "    gc.collect()\n",
        "    \n",
        "    train.to_parquet('train_fe_plus_plus.parquet')\n",
        "    del train\n",
        "    gc.collect()\n",
        "    \n",
        "    # Test FE\n",
        "    test = pd.read_parquet('/content/test.parquet')\n",
        "    print('Starting test feature extraction')\n",
        "    test_num_agg = test.groupby(\"customer_ID\")[num_features].agg(['first', 'mean', 'std', 'min', 'max', 'last'])\n",
        "    test_num_agg.columns = ['_'.join(x) for x in test_num_agg.columns]\n",
        "    test_num_agg.reset_index(inplace = True)\n",
        "\n",
        "    # Lag Features\n",
        "    for col in test_num_agg:\n",
        "        if 'last' in col and col.replace('last', 'first') in test_num_agg:\n",
        "            test_num_agg[col + '_lag_sub'] = test_num_agg[col] - test_num_agg[col.replace('last', 'first')]\n",
        "            # test_num_agg[col + '_lag_div'] = test_num_agg[col] / test_num_agg[col.replace('last', 'first')]\n",
        "        \n",
        "        if 'max' in col and col.replace('min', 'max') in test_num_agg:\n",
        "            test_num_agg[col + '_lag_sub'] = test_num_agg[col] - test_num_agg[col.replace('max', 'min')]\n",
        "            # test_num_agg[col + '_lag_div'] = test_num_agg[col] / test_num_agg[col.replace('max', 'min')]\n",
        "\n",
        "    test_cat_agg = test.groupby(\"customer_ID\")[cat_features].agg(['count', 'first', 'last', 'nunique'])\n",
        "    test_cat_agg.columns = ['_'.join(x) for x in test_cat_agg.columns]\n",
        "    test_cat_agg.reset_index(inplace = True)\n",
        "    \n",
        "    test = test_num_agg.merge(test_cat_agg, how = 'inner', on = 'customer_ID')\n",
        "    print('Test shape: ', test.shape)\n",
        "    del test_num_agg, test_cat_agg\n",
        "    gc.collect()\n",
        "    \n",
        "    \n",
        "    # Save files to disk\n",
        "    test.to_parquet('test_fe_plus_plus.parquet')\n",
        "    del test\n",
        "    gc.collect()\n",
        "    \n",
        "# Read & Preprocess Data\n",
        "read_preprocess_data()"
      ],
      "metadata": {
        "colab": {
          "base_uri": "https://localhost:8080/"
        },
        "id": "RUcDu4Y00is4",
        "outputId": "25d330f0-e9c0-486a-f4fa-0672dd5dda69"
      },
      "execution_count": 1,
      "outputs": [
        {
          "output_type": "stream",
          "name": "stdout",
          "text": [
            "Starting train feature extraction\n",
            "Train shape:  (458913, 1462)\n",
            "Starting test feature extraction\n",
            "Test shape:  (924621, 1461)\n"
          ]
        }
      ]
    },
    {
      "cell_type": "code",
      "source": [
        "!mkdir amex-fe-plus"
      ],
      "metadata": {
        "id": "6NBwlG5F158O"
      },
      "execution_count": 2,
      "outputs": []
    },
    {
      "cell_type": "code",
      "source": [
        "!mv /content/train_fe_plus_plus.parquet /content/amex-fe-plus/\n",
        "!mv /content/test_fe_plus_plus.parquet /content/amex-fe-plus/"
      ],
      "metadata": {
        "id": "7hS5QEfe3nL-"
      },
      "execution_count": 3,
      "outputs": []
    },
    {
      "cell_type": "code",
      "source": [
        "!kaggle datasets init -p /content/amex-fe-plus"
      ],
      "metadata": {
        "id": "6IfjfgG657Oa",
        "colab": {
          "base_uri": "https://localhost:8080/"
        },
        "outputId": "2506dd9f-a7a4-4470-a4df-c5012ce5ec0a"
      },
      "execution_count": 4,
      "outputs": [
        {
          "output_type": "stream",
          "name": "stdout",
          "text": [
            "Data package template written to: /content/amex-fe-plus/dataset-metadata.json\n"
          ]
        }
      ]
    },
    {
      "cell_type": "code",
      "source": [
        "%%writefile /content/amex-fe-plus/dataset-metadata.json\n",
        "{\n",
        "  \"title\": \"Amex-FE-Plus\",\n",
        "  \"id\": \"ryuina/amex-fe-plus\",\n",
        "  \"licenses\": [\n",
        "    {\n",
        "      \"name\": \"CC0-1.0\"\n",
        "    }\n",
        "  ]\n",
        "}"
      ],
      "metadata": {
        "colab": {
          "base_uri": "https://localhost:8080/"
        },
        "id": "jCz5AoIe55_K",
        "outputId": "9cb69112-403d-458e-b6b7-e0aea5417a87"
      },
      "execution_count": 5,
      "outputs": [
        {
          "output_type": "stream",
          "name": "stdout",
          "text": [
            "Overwriting /content/amex-fe-plus/dataset-metadata.json\n"
          ]
        }
      ]
    },
    {
      "cell_type": "code",
      "source": [
        "!kaggle datasets version -p /content/amex-fe-plus -m \"removed div features for avoiding infnity values included\"\n",
        "\n",
        "# for the first time\n",
        "# !kaggle datasets create -p /content/amex-fe-plus"
      ],
      "metadata": {
        "id": "dvPRC0IB4E7Z",
        "colab": {
          "base_uri": "https://localhost:8080/"
        },
        "outputId": "d3981d58-3b67-4617-f5f3-acfb3a6f48be"
      },
      "execution_count": 6,
      "outputs": [
        {
          "output_type": "stream",
          "name": "stdout",
          "text": [
            "Starting upload for file train_fe_plus_plus.parquet\n",
            "100% 1.51G/1.51G [00:20<00:00, 77.4MB/s]\n",
            "Upload successful: train_fe_plus_plus.parquet (2GB)\n",
            "Starting upload for file test_fe_plus_plus.parquet\n",
            "100% 2.76G/2.76G [00:42<00:00, 70.3MB/s]\n",
            "Upload successful: test_fe_plus_plus.parquet (3GB)\n",
            "Dataset version is being created. Please check progress at https://www.kaggle.com/ryuina/amex-fe-plus\n"
          ]
        }
      ]
    }
  ]
}
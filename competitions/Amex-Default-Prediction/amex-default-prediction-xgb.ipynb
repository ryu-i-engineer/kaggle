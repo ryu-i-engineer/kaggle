{
 "cells": [
  {
   "cell_type": "code",
   "execution_count": 1,
   "id": "0cefa024",
   "metadata": {
    "_cell_guid": "b1076dfc-b9ad-4769-8c92-a6c4dae69d19",
    "_uuid": "8f2839f25d086af736a60e9eeb907d3b93b6e0e5",
    "execution": {
     "iopub.execute_input": "2022-07-04T13:01:38.436316Z",
     "iopub.status.busy": "2022-07-04T13:01:38.435786Z",
     "iopub.status.idle": "2022-07-04T13:01:43.060937Z",
     "shell.execute_reply": "2022-07-04T13:01:43.060171Z"
    },
    "papermill": {
     "duration": 4.635244,
     "end_time": "2022-07-04T13:01:43.063314",
     "exception": false,
     "start_time": "2022-07-04T13:01:38.428070",
     "status": "completed"
    },
    "tags": []
   },
   "outputs": [],
   "source": [
    "import pandas as pd\n",
    "import numpy as np\n",
    "import matplotlib.pyplot\n",
    "import cudf\n",
    "\n",
    "import os, gc"
   ]
  },
  {
   "cell_type": "code",
   "execution_count": 2,
   "id": "17248184",
   "metadata": {
    "execution": {
     "iopub.execute_input": "2022-07-04T13:01:43.076128Z",
     "iopub.status.busy": "2022-07-04T13:01:43.075830Z",
     "iopub.status.idle": "2022-07-04T13:01:43.080702Z",
     "shell.execute_reply": "2022-07-04T13:01:43.079819Z"
    },
    "papermill": {
     "duration": 0.012689,
     "end_time": "2022-07-04T13:01:43.082482",
     "exception": false,
     "start_time": "2022-07-04T13:01:43.069793",
     "status": "completed"
    },
    "tags": []
   },
   "outputs": [],
   "source": [
    "VER=1\n",
    "SEED = 42\n",
    "FOLDS = 5\n",
    "NAN_VALUE = -127"
   ]
  },
  {
   "cell_type": "code",
   "execution_count": 3,
   "id": "3ebbb233",
   "metadata": {
    "execution": {
     "iopub.execute_input": "2022-07-04T13:01:43.093967Z",
     "iopub.status.busy": "2022-07-04T13:01:43.093691Z",
     "iopub.status.idle": "2022-07-04T13:01:43.102029Z",
     "shell.execute_reply": "2022-07-04T13:01:43.101350Z"
    },
    "papermill": {
     "duration": 0.016331,
     "end_time": "2022-07-04T13:01:43.103688",
     "exception": false,
     "start_time": "2022-07-04T13:01:43.087357",
     "status": "completed"
    },
    "tags": []
   },
   "outputs": [],
   "source": [
    "def read_file(path = '', usecols = None):\n",
    "    # LOAD DATAFRAME\n",
    "    if usecols is not None: df = cudf.read_parquet(path, columns=usecols)\n",
    "    else: df = cudf.read_parquet(path)\n",
    "    # REDUCE DTYPE FOR CUSTOMER AND DATE\n",
    "    df['customer_ID'] = df['customer_ID'].str[-16:].str.hex_to_int().astype('int64')\n",
    "    df.S_2 = cudf.to_datetime( df.S_2 )\n",
    "    # SORT BY CUSTOMER AND DATE (so agg('last') works correctly)\n",
    "#     df = df.sort_values(['customer_ID','S_2'])\n",
    "#     df = df.reset_index(drop=True)\n",
    "    \n",
    "    float_cols = list(df.dtypes[(df.dtypes == 'float16') | (df.dtypes == 'float32') | (df.dtypes == 'float64')].index)\n",
    "    float_cols = [col for col in float_cols if 'last' in col]\n",
    "\n",
    "    df[float_cols] = df[float_cols].round(2)\n",
    "    \n",
    "    # FILL NAN\n",
    "    df = df.fillna(NAN_VALUE) \n",
    "    print('shape of data:', df.shape)\n",
    "    \n",
    "    return df"
   ]
  },
  {
   "cell_type": "code",
   "execution_count": 4,
   "id": "d8f651f3",
   "metadata": {
    "execution": {
     "iopub.execute_input": "2022-07-04T13:01:43.114699Z",
     "iopub.status.busy": "2022-07-04T13:01:43.114397Z",
     "iopub.status.idle": "2022-07-04T13:02:05.993976Z",
     "shell.execute_reply": "2022-07-04T13:02:05.992888Z"
    },
    "papermill": {
     "duration": 22.887855,
     "end_time": "2022-07-04T13:02:05.996335",
     "exception": false,
     "start_time": "2022-07-04T13:01:43.108480",
     "status": "completed"
    },
    "tags": []
   },
   "outputs": [
    {
     "name": "stdout",
     "output_type": "stream",
     "text": [
      "Reading train data...\n",
      "shape of data: (5531451, 190)\n"
     ]
    }
   ],
   "source": [
    "print('Reading train data...')\n",
    "TRAIN_PATH = '../input/amex-data-integer-dtypes-parquet-format/train.parquet'\n",
    "train = read_file(path = TRAIN_PATH)"
   ]
  },
  {
   "cell_type": "code",
   "execution_count": 5,
   "id": "d834dbfb",
   "metadata": {
    "execution": {
     "iopub.execute_input": "2022-07-04T13:02:06.008782Z",
     "iopub.status.busy": "2022-07-04T13:02:06.008453Z",
     "iopub.status.idle": "2022-07-04T13:02:06.242924Z",
     "shell.execute_reply": "2022-07-04T13:02:06.242168Z"
    },
    "papermill": {
     "duration": 0.242675,
     "end_time": "2022-07-04T13:02:06.244896",
     "exception": false,
     "start_time": "2022-07-04T13:02:06.002221",
     "status": "completed"
    },
    "tags": []
   },
   "outputs": [
    {
     "data": {
      "text/html": [
       "<div>\n",
       "<style scoped>\n",
       "    .dataframe tbody tr th:only-of-type {\n",
       "        vertical-align: middle;\n",
       "    }\n",
       "\n",
       "    .dataframe tbody tr th {\n",
       "        vertical-align: top;\n",
       "    }\n",
       "\n",
       "    .dataframe thead th {\n",
       "        text-align: right;\n",
       "    }\n",
       "</style>\n",
       "<table border=\"1\" class=\"dataframe\">\n",
       "  <thead>\n",
       "    <tr style=\"text-align: right;\">\n",
       "      <th></th>\n",
       "      <th>customer_ID</th>\n",
       "      <th>S_2</th>\n",
       "      <th>P_2</th>\n",
       "      <th>D_39</th>\n",
       "      <th>B_1</th>\n",
       "      <th>B_2</th>\n",
       "      <th>R_1</th>\n",
       "      <th>S_3</th>\n",
       "      <th>D_41</th>\n",
       "      <th>B_3</th>\n",
       "      <th>...</th>\n",
       "      <th>D_136</th>\n",
       "      <th>D_137</th>\n",
       "      <th>D_138</th>\n",
       "      <th>D_139</th>\n",
       "      <th>D_140</th>\n",
       "      <th>D_141</th>\n",
       "      <th>D_142</th>\n",
       "      <th>D_143</th>\n",
       "      <th>D_144</th>\n",
       "      <th>D_145</th>\n",
       "    </tr>\n",
       "  </thead>\n",
       "  <tbody>\n",
       "    <tr>\n",
       "      <th>0</th>\n",
       "      <td>-4532153018459703766</td>\n",
       "      <td>2017-03-09</td>\n",
       "      <td>0.938469</td>\n",
       "      <td>0</td>\n",
       "      <td>0.008724</td>\n",
       "      <td>1.006838</td>\n",
       "      <td>0.009228</td>\n",
       "      <td>0.124035</td>\n",
       "      <td>0.0</td>\n",
       "      <td>0.004709</td>\n",
       "      <td>...</td>\n",
       "      <td>-1</td>\n",
       "      <td>-1</td>\n",
       "      <td>-1</td>\n",
       "      <td>0</td>\n",
       "      <td>0</td>\n",
       "      <td>0.0</td>\n",
       "      <td>-127.0</td>\n",
       "      <td>0</td>\n",
       "      <td>0.000610</td>\n",
       "      <td>0</td>\n",
       "    </tr>\n",
       "    <tr>\n",
       "      <th>1</th>\n",
       "      <td>-4532153018459703766</td>\n",
       "      <td>2017-04-07</td>\n",
       "      <td>0.936665</td>\n",
       "      <td>0</td>\n",
       "      <td>0.004923</td>\n",
       "      <td>1.000653</td>\n",
       "      <td>0.006151</td>\n",
       "      <td>0.126750</td>\n",
       "      <td>0.0</td>\n",
       "      <td>0.002714</td>\n",
       "      <td>...</td>\n",
       "      <td>-1</td>\n",
       "      <td>-1</td>\n",
       "      <td>-1</td>\n",
       "      <td>0</td>\n",
       "      <td>0</td>\n",
       "      <td>0.0</td>\n",
       "      <td>-127.0</td>\n",
       "      <td>0</td>\n",
       "      <td>0.005492</td>\n",
       "      <td>0</td>\n",
       "    </tr>\n",
       "    <tr>\n",
       "      <th>2</th>\n",
       "      <td>-4532153018459703766</td>\n",
       "      <td>2017-05-28</td>\n",
       "      <td>0.954180</td>\n",
       "      <td>3</td>\n",
       "      <td>0.021655</td>\n",
       "      <td>1.009672</td>\n",
       "      <td>0.006815</td>\n",
       "      <td>0.123977</td>\n",
       "      <td>0.0</td>\n",
       "      <td>0.009423</td>\n",
       "      <td>...</td>\n",
       "      <td>-1</td>\n",
       "      <td>-1</td>\n",
       "      <td>-1</td>\n",
       "      <td>0</td>\n",
       "      <td>0</td>\n",
       "      <td>0.0</td>\n",
       "      <td>-127.0</td>\n",
       "      <td>0</td>\n",
       "      <td>0.006986</td>\n",
       "      <td>0</td>\n",
       "    </tr>\n",
       "    <tr>\n",
       "      <th>3</th>\n",
       "      <td>-4532153018459703766</td>\n",
       "      <td>2017-06-13</td>\n",
       "      <td>0.960384</td>\n",
       "      <td>0</td>\n",
       "      <td>0.013683</td>\n",
       "      <td>1.002700</td>\n",
       "      <td>0.001373</td>\n",
       "      <td>0.117169</td>\n",
       "      <td>0.0</td>\n",
       "      <td>0.005531</td>\n",
       "      <td>...</td>\n",
       "      <td>-1</td>\n",
       "      <td>-1</td>\n",
       "      <td>-1</td>\n",
       "      <td>0</td>\n",
       "      <td>0</td>\n",
       "      <td>0.0</td>\n",
       "      <td>-127.0</td>\n",
       "      <td>0</td>\n",
       "      <td>0.006527</td>\n",
       "      <td>0</td>\n",
       "    </tr>\n",
       "    <tr>\n",
       "      <th>4</th>\n",
       "      <td>-4532153018459703766</td>\n",
       "      <td>2017-07-16</td>\n",
       "      <td>0.947248</td>\n",
       "      <td>0</td>\n",
       "      <td>0.015193</td>\n",
       "      <td>1.000727</td>\n",
       "      <td>0.007605</td>\n",
       "      <td>0.117325</td>\n",
       "      <td>0.0</td>\n",
       "      <td>0.009312</td>\n",
       "      <td>...</td>\n",
       "      <td>-1</td>\n",
       "      <td>-1</td>\n",
       "      <td>-1</td>\n",
       "      <td>0</td>\n",
       "      <td>0</td>\n",
       "      <td>0.0</td>\n",
       "      <td>-127.0</td>\n",
       "      <td>0</td>\n",
       "      <td>0.008126</td>\n",
       "      <td>0</td>\n",
       "    </tr>\n",
       "  </tbody>\n",
       "</table>\n",
       "<p>5 rows × 190 columns</p>\n",
       "</div>"
      ],
      "text/plain": [
       "           customer_ID        S_2       P_2  D_39       B_1       B_2  \\\n",
       "0 -4532153018459703766 2017-03-09  0.938469     0  0.008724  1.006838   \n",
       "1 -4532153018459703766 2017-04-07  0.936665     0  0.004923  1.000653   \n",
       "2 -4532153018459703766 2017-05-28  0.954180     3  0.021655  1.009672   \n",
       "3 -4532153018459703766 2017-06-13  0.960384     0  0.013683  1.002700   \n",
       "4 -4532153018459703766 2017-07-16  0.947248     0  0.015193  1.000727   \n",
       "\n",
       "        R_1       S_3  D_41       B_3  ...  D_136  D_137  D_138  D_139  D_140  \\\n",
       "0  0.009228  0.124035   0.0  0.004709  ...     -1     -1     -1      0      0   \n",
       "1  0.006151  0.126750   0.0  0.002714  ...     -1     -1     -1      0      0   \n",
       "2  0.006815  0.123977   0.0  0.009423  ...     -1     -1     -1      0      0   \n",
       "3  0.001373  0.117169   0.0  0.005531  ...     -1     -1     -1      0      0   \n",
       "4  0.007605  0.117325   0.0  0.009312  ...     -1     -1     -1      0      0   \n",
       "\n",
       "   D_141  D_142  D_143     D_144  D_145  \n",
       "0    0.0 -127.0      0  0.000610      0  \n",
       "1    0.0 -127.0      0  0.005492      0  \n",
       "2    0.0 -127.0      0  0.006986      0  \n",
       "3    0.0 -127.0      0  0.006527      0  \n",
       "4    0.0 -127.0      0  0.008126      0  \n",
       "\n",
       "[5 rows x 190 columns]"
      ]
     },
     "execution_count": 5,
     "metadata": {},
     "output_type": "execute_result"
    }
   ],
   "source": [
    "train.head()"
   ]
  },
  {
   "cell_type": "code",
   "execution_count": 6,
   "id": "b24d14be",
   "metadata": {
    "execution": {
     "iopub.execute_input": "2022-07-04T13:02:06.257546Z",
     "iopub.status.busy": "2022-07-04T13:02:06.256868Z",
     "iopub.status.idle": "2022-07-04T13:02:06.264537Z",
     "shell.execute_reply": "2022-07-04T13:02:06.263802Z"
    },
    "papermill": {
     "duration": 0.015534,
     "end_time": "2022-07-04T13:02:06.266199",
     "exception": false,
     "start_time": "2022-07-04T13:02:06.250665",
     "status": "completed"
    },
    "tags": []
   },
   "outputs": [],
   "source": [
    "def process_and_feature_engineering(df: pd.DataFrame):\n",
    "    # from https://www.kaggle.com/code/huseyncot/amex-agg-data-how-it-created\n",
    "    all_cols = [c for c in list(df.columns) if c not in ['customer_ID', 'S_2']]\n",
    "    cat_features = [\"B_30\", \"B_38\", \"D_114\", \"D_116\", \"D_117\", \"D_120\", \"D_126\", \"D_63\", \"D_64\", \"D_66\", \"D_68\"]\n",
    "    num_features = [col for col in all_cols if col not in cat_features]\n",
    "    \n",
    "    test_num_agg = df.groupby(\"customer_ID\")[num_features].agg(['mean', 'std', 'min', 'max', 'last'])\n",
    "    test_num_agg.columns = ['_'.join(x) for x in test_num_agg.columns]\n",
    "    \n",
    "    test_cat_agg = df.groupby(\"customer_ID\")[cat_features].agg(['count', 'last', 'nunique'])\n",
    "    test_cat_agg.columns = ['_'.join(x) for x in test_cat_agg.columns]\n",
    "        \n",
    "    df = cudf.concat([test_num_agg, test_cat_agg], axis=1)\n",
    "    del test_num_agg, test_cat_agg\n",
    "    print('shape after engineering', df.shape)\n",
    "    \n",
    "    return df"
   ]
  },
  {
   "cell_type": "code",
   "execution_count": 7,
   "id": "833aa370",
   "metadata": {
    "execution": {
     "iopub.execute_input": "2022-07-04T13:02:06.278271Z",
     "iopub.status.busy": "2022-07-04T13:02:06.277935Z",
     "iopub.status.idle": "2022-07-04T13:02:07.450299Z",
     "shell.execute_reply": "2022-07-04T13:02:07.449423Z"
    },
    "papermill": {
     "duration": 1.180536,
     "end_time": "2022-07-04T13:02:07.452219",
     "exception": false,
     "start_time": "2022-07-04T13:02:06.271683",
     "status": "completed"
    },
    "tags": []
   },
   "outputs": [
    {
     "name": "stdout",
     "output_type": "stream",
     "text": [
      "shape after engineering (458913, 918)\n"
     ]
    }
   ],
   "source": [
    "train = process_and_feature_engineering(train)"
   ]
  },
  {
   "cell_type": "code",
   "execution_count": 8,
   "id": "cabf856f",
   "metadata": {
    "execution": {
     "iopub.execute_input": "2022-07-04T13:02:07.465853Z",
     "iopub.status.busy": "2022-07-04T13:02:07.464891Z",
     "iopub.status.idle": "2022-07-04T13:02:08.820061Z",
     "shell.execute_reply": "2022-07-04T13:02:08.818921Z"
    },
    "papermill": {
     "duration": 1.364443,
     "end_time": "2022-07-04T13:02:08.822726",
     "exception": false,
     "start_time": "2022-07-04T13:02:07.458283",
     "status": "completed"
    },
    "tags": []
   },
   "outputs": [
    {
     "name": "stdout",
     "output_type": "stream",
     "text": [
      "There are 918 features!\n"
     ]
    }
   ],
   "source": [
    "# ADD TARGETS\n",
    "targets = cudf.read_csv('../input/amex-default-prediction/train_labels.csv')\n",
    "targets['customer_ID'] = targets['customer_ID'].str[-16:].str.hex_to_int().astype('int64')\n",
    "targets = targets.set_index('customer_ID')\n",
    "train = train.merge(targets, left_index=True, right_index=True, how='left')\n",
    "train.target = train.target.astype('int8')\n",
    "del targets\n",
    "\n",
    "# NEEDED TO MAKE CV DETERMINISTIC (cudf merge above randomly shuffles rows)\n",
    "train = train.sort_index().reset_index()\n",
    "\n",
    "# FEATURES\n",
    "FEATURES = train.columns[1:-1]\n",
    "print(f'There are {len(FEATURES)} features!')"
   ]
  },
  {
   "cell_type": "code",
   "execution_count": 9,
   "id": "e2e16045",
   "metadata": {
    "execution": {
     "iopub.execute_input": "2022-07-04T13:02:08.835750Z",
     "iopub.status.busy": "2022-07-04T13:02:08.835423Z",
     "iopub.status.idle": "2022-07-04T13:02:08.940492Z",
     "shell.execute_reply": "2022-07-04T13:02:08.939570Z"
    },
    "papermill": {
     "duration": 0.114046,
     "end_time": "2022-07-04T13:02:08.942929",
     "exception": false,
     "start_time": "2022-07-04T13:02:08.828883",
     "status": "completed"
    },
    "tags": []
   },
   "outputs": [
    {
     "name": "stdout",
     "output_type": "stream",
     "text": [
      "XGB Version 1.6.1\n"
     ]
    }
   ],
   "source": [
    "# LOAD XGB LIBRARY\n",
    "from sklearn.model_selection import KFold\n",
    "import xgboost as xgb\n",
    "print('XGB Version',xgb.__version__)\n",
    "\n",
    "# XGB MODEL PARAMETERS\n",
    "xgb_parms = {\n",
    "    'max_depth':7,\n",
    "    'eta':0.03,\n",
    "    'subsample':0.88,\n",
    "    'colsample_bytree':0.5,\n",
    "    'min_child_weight':8,\n",
    "#     'booster': 'dart',\n",
    "    'max_delta_step': 16,\n",
    "    'gamma':1.5,\n",
    "    'lambda':70,\n",
    "#     'reg_alpha':2,\n",
    "#     'reg_lambda':2,\n",
    "#     'scale_pos_weight':2.5,\n",
    "#     'eval_metric':'logloss',\n",
    "    'objective':'binary:logistic',\n",
    "    'tree_method':'gpu_hist',\n",
    "    'predictor':'gpu_predictor',\n",
    "    'random_state':SEED\n",
    "}"
   ]
  },
  {
   "cell_type": "code",
   "execution_count": 10,
   "id": "4fa90591",
   "metadata": {
    "execution": {
     "iopub.execute_input": "2022-07-04T13:02:08.956770Z",
     "iopub.status.busy": "2022-07-04T13:02:08.955236Z",
     "iopub.status.idle": "2022-07-04T13:02:08.965277Z",
     "shell.execute_reply": "2022-07-04T13:02:08.964414Z"
    },
    "papermill": {
     "duration": 0.018354,
     "end_time": "2022-07-04T13:02:08.967128",
     "exception": false,
     "start_time": "2022-07-04T13:02:08.948774",
     "status": "completed"
    },
    "tags": []
   },
   "outputs": [],
   "source": [
    "# NEEDED WITH DeviceQuantileDMatrix BELOW\n",
    "class IterLoadForDMatrix(xgb.core.DataIter):\n",
    "    def __init__(self, df=None, features=None, target=None, batch_size=256*1024):\n",
    "        self.features = features\n",
    "        self.target = target\n",
    "        self.df = df\n",
    "        self.it = 0 # set iterator to 0\n",
    "        self.batch_size = batch_size\n",
    "        self.batches = int( np.ceil( len(df) / self.batch_size ) )\n",
    "        super().__init__()\n",
    "\n",
    "    def reset(self):\n",
    "        '''Reset the iterator'''\n",
    "        self.it = 0\n",
    "\n",
    "    def next(self, input_data):\n",
    "        '''Yield next batch of data.'''\n",
    "        if self.it == self.batches:\n",
    "            return 0 # Return 0 when there's no more batch.\n",
    "        \n",
    "        a = self.it * self.batch_size\n",
    "        b = min( (self.it + 1) * self.batch_size, len(self.df) )\n",
    "        dt = cudf.DataFrame(self.df.iloc[a:b])\n",
    "        input_data(data=dt[self.features], label=dt[self.target]) #weight=dt['weight'])\n",
    "        self.it += 1\n",
    "        return 1"
   ]
  },
  {
   "cell_type": "code",
   "execution_count": 11,
   "id": "6775c038",
   "metadata": {
    "execution": {
     "iopub.execute_input": "2022-07-04T13:02:08.979183Z",
     "iopub.status.busy": "2022-07-04T13:02:08.978886Z",
     "iopub.status.idle": "2022-07-04T13:02:08.987112Z",
     "shell.execute_reply": "2022-07-04T13:02:08.986307Z"
    },
    "papermill": {
     "duration": 0.016143,
     "end_time": "2022-07-04T13:02:08.988733",
     "exception": false,
     "start_time": "2022-07-04T13:02:08.972590",
     "status": "completed"
    },
    "tags": []
   },
   "outputs": [],
   "source": [
    "# https://www.kaggle.com/competitions/amex-default-prediction/discussion/328020\n",
    "import numpy as np\n",
    "\n",
    "def amex_metric_numpy(y_true: np.array, y_pred: np.array) -> float:\n",
    "\n",
    "    # count of positives and negatives\n",
    "    n_pos = y_true.sum()\n",
    "    n_neg = y_true.shape[0] - n_pos\n",
    "\n",
    "    # sorting by descring prediction values\n",
    "    indices = np.argsort(y_pred)[::-1]\n",
    "    preds, target = y_pred[indices], y_true[indices]\n",
    "\n",
    "    # filter the top 4% by cumulative row weights\n",
    "    weight = 20.0 - target * 19.0\n",
    "    cum_norm_weight = (weight / weight.sum()).cumsum()\n",
    "    four_pct_filter = cum_norm_weight <= 0.04\n",
    "\n",
    "    # default rate captured at 4%\n",
    "    d = target[four_pct_filter].sum() / n_pos\n",
    "\n",
    "    # weighted gini coefficient\n",
    "    lorentz = (target / n_pos).cumsum()\n",
    "    gini = ((lorentz - cum_norm_weight) * weight).sum()\n",
    "\n",
    "    # max weighted gini coefficient\n",
    "    gini_max = 10 * n_neg * (1 - 19 / (n_pos + 20 * n_neg))\n",
    "\n",
    "    # normalized weighted gini coefficient\n",
    "    g = gini / gini_max\n",
    "\n",
    "    return 0.5 * (g + d)\n",
    "\n",
    "def xgb_amex(y_pred, y_true):\n",
    "    return 'amex', amex_metric_numpy(y_true.get_label(), y_pred)"
   ]
  },
  {
   "cell_type": "code",
   "execution_count": 12,
   "id": "84789615",
   "metadata": {
    "execution": {
     "iopub.execute_input": "2022-07-04T13:02:09.000747Z",
     "iopub.status.busy": "2022-07-04T13:02:09.000475Z",
     "iopub.status.idle": "2022-07-04T13:27:24.271291Z",
     "shell.execute_reply": "2022-07-04T13:27:24.270308Z"
    },
    "papermill": {
     "duration": 1515.279182,
     "end_time": "2022-07-04T13:27:24.273416",
     "exception": false,
     "start_time": "2022-07-04T13:02:08.994234",
     "status": "completed"
    },
    "tags": []
   },
   "outputs": [
    {
     "name": "stdout",
     "output_type": "stream",
     "text": [
      "#########################\n",
      "### Fold 1\n",
      "### Train size 367130 Valid size 91783\n",
      "### Training with 100% fold data...\n",
      "#########################\n",
      "[0]\ttrain-logloss:0.67410\ttrain-amex:0.69315\teval-logloss:0.67416\teval-amex:0.68320\n",
      "[100]\ttrain-logloss:0.24284\ttrain-amex:0.78002\teval-logloss:0.24922\teval-amex:0.76433\n",
      "[200]\ttrain-logloss:0.21746\ttrain-amex:0.79728\teval-logloss:0.22824\teval-amex:0.77675\n",
      "[300]\ttrain-logloss:0.20839\ttrain-amex:0.80998\teval-logloss:0.22326\teval-amex:0.78326\n",
      "[400]\ttrain-logloss:0.20219\ttrain-amex:0.81979\teval-logloss:0.22090\teval-amex:0.78670\n",
      "[500]\ttrain-logloss:0.19752\ttrain-amex:0.82710\teval-logloss:0.21962\teval-amex:0.78826\n",
      "[600]\ttrain-logloss:0.19329\ttrain-amex:0.83456\teval-logloss:0.21875\teval-amex:0.78963\n",
      "[700]\ttrain-logloss:0.18956\ttrain-amex:0.84115\teval-logloss:0.21819\teval-amex:0.79024\n",
      "[800]\ttrain-logloss:0.18600\ttrain-amex:0.84761\teval-logloss:0.21779\teval-amex:0.79138\n",
      "[900]\ttrain-logloss:0.18246\ttrain-amex:0.85376\teval-logloss:0.21744\teval-amex:0.79212\n",
      "[1000]\ttrain-logloss:0.17919\ttrain-amex:0.85975\teval-logloss:0.21717\teval-amex:0.79241\n",
      "[1100]\ttrain-logloss:0.17595\ttrain-amex:0.86585\teval-logloss:0.21707\teval-amex:0.79252\n",
      "[1200]\ttrain-logloss:0.17277\ttrain-amex:0.87122\teval-logloss:0.21691\teval-amex:0.79325\n",
      "[1300]\ttrain-logloss:0.16981\ttrain-amex:0.87655\teval-logloss:0.21673\teval-amex:0.79357\n",
      "[1400]\ttrain-logloss:0.16690\ttrain-amex:0.88188\teval-logloss:0.21664\teval-amex:0.79353\n",
      "[1500]\ttrain-logloss:0.16404\ttrain-amex:0.88690\teval-logloss:0.21658\teval-amex:0.79383\n",
      "[1600]\ttrain-logloss:0.16120\ttrain-amex:0.89202\teval-logloss:0.21648\teval-amex:0.79372\n",
      "[1700]\ttrain-logloss:0.15832\ttrain-amex:0.89741\teval-logloss:0.21642\teval-amex:0.79346\n",
      "[1800]\ttrain-logloss:0.15578\ttrain-amex:0.90178\teval-logloss:0.21639\teval-amex:0.79391\n",
      "[1900]\ttrain-logloss:0.15326\ttrain-amex:0.90596\teval-logloss:0.21634\teval-amex:0.79440\n",
      "[2000]\ttrain-logloss:0.15065\ttrain-amex:0.91038\teval-logloss:0.21630\teval-amex:0.79449\n",
      "[2100]\ttrain-logloss:0.14821\ttrain-amex:0.91475\teval-logloss:0.21630\teval-amex:0.79479\n",
      "[2200]\ttrain-logloss:0.14565\ttrain-amex:0.91868\teval-logloss:0.21632\teval-amex:0.79479\n",
      "[2300]\ttrain-logloss:0.14318\ttrain-amex:0.92286\teval-logloss:0.21636\teval-amex:0.79510\n",
      "[2400]\ttrain-logloss:0.14108\ttrain-amex:0.92634\teval-logloss:0.21642\teval-amex:0.79555\n",
      "[2500]\ttrain-logloss:0.13876\ttrain-amex:0.92990\teval-logloss:0.21643\teval-amex:0.79456\n",
      "[2600]\ttrain-logloss:0.13648\ttrain-amex:0.93318\teval-logloss:0.21645\teval-amex:0.79467\n",
      "[2682]\ttrain-logloss:0.13463\ttrain-amex:0.93624\teval-logloss:0.21645\teval-amex:0.79437\n",
      "Kaggle Metric = 0.7940048822424325 \n",
      "\n",
      "#########################\n",
      "### Fold 2\n",
      "### Train size 367130 Valid size 91783\n",
      "### Training with 100% fold data...\n",
      "#########################\n",
      "[0]\ttrain-logloss:0.67407\ttrain-amex:0.69728\teval-logloss:0.67410\teval-amex:0.69450\n",
      "[100]\ttrain-logloss:0.24324\ttrain-amex:0.77949\teval-logloss:0.24761\teval-amex:0.77170\n",
      "[200]\ttrain-logloss:0.21789\ttrain-amex:0.79787\teval-logloss:0.22626\teval-amex:0.78077\n",
      "[300]\ttrain-logloss:0.20883\ttrain-amex:0.81135\teval-logloss:0.22139\teval-amex:0.78690\n",
      "[400]\ttrain-logloss:0.20279\ttrain-amex:0.82097\teval-logloss:0.21920\teval-amex:0.78847\n",
      "[500]\ttrain-logloss:0.19805\ttrain-amex:0.82880\teval-logloss:0.21801\teval-amex:0.78988\n",
      "[600]\ttrain-logloss:0.19385\ttrain-amex:0.83624\teval-logloss:0.21724\teval-amex:0.79004\n",
      "[700]\ttrain-logloss:0.18996\ttrain-amex:0.84295\teval-logloss:0.21677\teval-amex:0.79112\n",
      "[800]\ttrain-logloss:0.18633\ttrain-amex:0.84879\teval-logloss:0.21643\teval-amex:0.79071\n",
      "[900]\ttrain-logloss:0.18279\ttrain-amex:0.85510\teval-logloss:0.21611\teval-amex:0.79170\n",
      "[1000]\ttrain-logloss:0.17944\ttrain-amex:0.86119\teval-logloss:0.21590\teval-amex:0.79178\n",
      "[1100]\ttrain-logloss:0.17622\ttrain-amex:0.86640\teval-logloss:0.21577\teval-amex:0.79160\n",
      "[1200]\ttrain-logloss:0.17314\ttrain-amex:0.87167\teval-logloss:0.21561\teval-amex:0.79209\n",
      "[1300]\ttrain-logloss:0.17009\ttrain-amex:0.87719\teval-logloss:0.21546\teval-amex:0.79303\n",
      "[1400]\ttrain-logloss:0.16719\ttrain-amex:0.88269\teval-logloss:0.21541\teval-amex:0.79299\n",
      "[1500]\ttrain-logloss:0.16441\ttrain-amex:0.88749\teval-logloss:0.21537\teval-amex:0.79324\n",
      "[1600]\ttrain-logloss:0.16159\ttrain-amex:0.89274\teval-logloss:0.21536\teval-amex:0.79331\n",
      "[1700]\ttrain-logloss:0.15890\ttrain-amex:0.89739\teval-logloss:0.21535\teval-amex:0.79426\n",
      "[1800]\ttrain-logloss:0.15618\ttrain-amex:0.90236\teval-logloss:0.21530\teval-amex:0.79417\n",
      "[1900]\ttrain-logloss:0.15370\ttrain-amex:0.90670\teval-logloss:0.21531\teval-amex:0.79353\n",
      "[2000]\ttrain-logloss:0.15102\ttrain-amex:0.91141\teval-logloss:0.21527\teval-amex:0.79438\n",
      "[2100]\ttrain-logloss:0.14860\ttrain-amex:0.91565\teval-logloss:0.21532\teval-amex:0.79395\n",
      "[2200]\ttrain-logloss:0.14621\ttrain-amex:0.91978\teval-logloss:0.21531\teval-amex:0.79413\n",
      "[2300]\ttrain-logloss:0.14382\ttrain-amex:0.92376\teval-logloss:0.21530\teval-amex:0.79445\n",
      "[2400]\ttrain-logloss:0.14142\ttrain-amex:0.92793\teval-logloss:0.21531\teval-amex:0.79454\n",
      "[2500]\ttrain-logloss:0.13917\ttrain-amex:0.93156\teval-logloss:0.21533\teval-amex:0.79454\n",
      "[2556]\ttrain-logloss:0.13789\ttrain-amex:0.93353\teval-logloss:0.21539\teval-amex:0.79438\n",
      "Kaggle Metric = 0.79479431239303 \n",
      "\n",
      "#########################\n",
      "### Fold 3\n",
      "### Train size 367130 Valid size 91783\n",
      "### Training with 100% fold data...\n",
      "#########################\n",
      "[0]\ttrain-logloss:0.67406\ttrain-amex:0.69699\teval-logloss:0.67419\teval-amex:0.69004\n",
      "[100]\ttrain-logloss:0.24258\ttrain-amex:0.77911\teval-logloss:0.25027\teval-amex:0.76582\n",
      "[200]\ttrain-logloss:0.21717\ttrain-amex:0.79698\teval-logloss:0.22948\teval-amex:0.77708\n",
      "[300]\ttrain-logloss:0.20802\ttrain-amex:0.80970\teval-logloss:0.22467\teval-amex:0.78432\n",
      "[400]\ttrain-logloss:0.20203\ttrain-amex:0.81923\teval-logloss:0.22243\teval-amex:0.78745\n",
      "[500]\ttrain-logloss:0.19735\ttrain-amex:0.82666\teval-logloss:0.22123\teval-amex:0.78998\n",
      "[600]\ttrain-logloss:0.19326\ttrain-amex:0.83355\teval-logloss:0.22047\teval-amex:0.79049\n",
      "[700]\ttrain-logloss:0.18946\ttrain-amex:0.84001\teval-logloss:0.21994\teval-amex:0.79072\n",
      "[800]\ttrain-logloss:0.18584\ttrain-amex:0.84640\teval-logloss:0.21961\teval-amex:0.79135\n",
      "[900]\ttrain-logloss:0.18247\ttrain-amex:0.85216\teval-logloss:0.21927\teval-amex:0.79160\n",
      "[1000]\ttrain-logloss:0.17929\ttrain-amex:0.85806\teval-logloss:0.21900\teval-amex:0.79244\n",
      "[1100]\ttrain-logloss:0.17616\ttrain-amex:0.86355\teval-logloss:0.21886\teval-amex:0.79294\n",
      "[1200]\ttrain-logloss:0.17307\ttrain-amex:0.86906\teval-logloss:0.21873\teval-amex:0.79341\n",
      "[1300]\ttrain-logloss:0.17010\ttrain-amex:0.87460\teval-logloss:0.21862\teval-amex:0.79310\n",
      "[1400]\ttrain-logloss:0.16725\ttrain-amex:0.87940\teval-logloss:0.21849\teval-amex:0.79325\n",
      "[1500]\ttrain-logloss:0.16425\ttrain-amex:0.88473\teval-logloss:0.21845\teval-amex:0.79230\n",
      "[1600]\ttrain-logloss:0.16133\ttrain-amex:0.88986\teval-logloss:0.21839\teval-amex:0.79250\n",
      "[1678]\ttrain-logloss:0.15915\ttrain-amex:0.89396\teval-logloss:0.21832\teval-amex:0.79251\n",
      "Kaggle Metric = 0.7920905060200587 \n",
      "\n",
      "#########################\n",
      "### Fold 4\n",
      "### Train size 367131 Valid size 91782\n",
      "### Training with 100% fold data...\n",
      "#########################\n",
      "[0]\ttrain-logloss:0.67403\ttrain-amex:0.69964\teval-logloss:0.67418\teval-amex:0.69022\n",
      "[100]\ttrain-logloss:0.24249\ttrain-amex:0.78097\teval-logloss:0.25041\teval-amex:0.76401\n",
      "[200]\ttrain-logloss:0.21722\ttrain-amex:0.79863\teval-logloss:0.22951\teval-amex:0.77714\n",
      "[300]\ttrain-logloss:0.20813\ttrain-amex:0.81206\teval-logloss:0.22476\teval-amex:0.78245\n",
      "[400]\ttrain-logloss:0.20220\ttrain-amex:0.82133\teval-logloss:0.22260\teval-amex:0.78470\n",
      "[500]\ttrain-logloss:0.19739\ttrain-amex:0.82931\teval-logloss:0.22148\teval-amex:0.78551\n",
      "[600]\ttrain-logloss:0.19325\ttrain-amex:0.83598\teval-logloss:0.22069\teval-amex:0.78638\n",
      "[700]\ttrain-logloss:0.18970\ttrain-amex:0.84159\teval-logloss:0.22024\teval-amex:0.78773\n",
      "[800]\ttrain-logloss:0.18628\ttrain-amex:0.84762\teval-logloss:0.21992\teval-amex:0.78842\n",
      "[900]\ttrain-logloss:0.18295\ttrain-amex:0.85357\teval-logloss:0.21971\teval-amex:0.78885\n",
      "[1000]\ttrain-logloss:0.17959\ttrain-amex:0.85996\teval-logloss:0.21951\teval-amex:0.78869\n",
      "[1100]\ttrain-logloss:0.17633\ttrain-amex:0.86620\teval-logloss:0.21940\teval-amex:0.78955\n",
      "[1200]\ttrain-logloss:0.17320\ttrain-amex:0.87156\teval-logloss:0.21929\teval-amex:0.78880\n",
      "[1300]\ttrain-logloss:0.17030\ttrain-amex:0.87668\teval-logloss:0.21923\teval-amex:0.78853\n",
      "[1333]\ttrain-logloss:0.16925\ttrain-amex:0.87854\teval-logloss:0.21921\teval-amex:0.78887\n",
      "Kaggle Metric = 0.7887405435784104 \n",
      "\n",
      "#########################\n",
      "### Fold 5\n",
      "### Train size 367131 Valid size 91782\n",
      "### Training with 100% fold data...\n",
      "#########################\n",
      "[0]\ttrain-logloss:0.67413\ttrain-amex:0.69031\teval-logloss:0.67415\teval-amex:0.69114\n",
      "[100]\ttrain-logloss:0.24326\ttrain-amex:0.77746\teval-logloss:0.24737\teval-amex:0.76976\n",
      "[200]\ttrain-logloss:0.21825\ttrain-amex:0.79488\teval-logloss:0.22617\teval-amex:0.78305\n",
      "[300]\ttrain-logloss:0.20923\ttrain-amex:0.80804\teval-logloss:0.22121\teval-amex:0.78913\n",
      "[400]\ttrain-logloss:0.20325\ttrain-amex:0.81750\teval-logloss:0.21887\teval-amex:0.79142\n",
      "[500]\ttrain-logloss:0.19842\ttrain-amex:0.82550\teval-logloss:0.21763\teval-amex:0.79224\n",
      "[600]\ttrain-logloss:0.19424\ttrain-amex:0.83270\teval-logloss:0.21680\teval-amex:0.79323\n",
      "[700]\ttrain-logloss:0.19045\ttrain-amex:0.83922\teval-logloss:0.21630\teval-amex:0.79393\n",
      "[800]\ttrain-logloss:0.18679\ttrain-amex:0.84608\teval-logloss:0.21587\teval-amex:0.79500\n",
      "[900]\ttrain-logloss:0.18329\ttrain-amex:0.85238\teval-logloss:0.21557\teval-amex:0.79447\n",
      "[1000]\ttrain-logloss:0.17997\ttrain-amex:0.85822\teval-logloss:0.21534\teval-amex:0.79501\n",
      "[1100]\ttrain-logloss:0.17680\ttrain-amex:0.86379\teval-logloss:0.21513\teval-amex:0.79526\n",
      "[1200]\ttrain-logloss:0.17372\ttrain-amex:0.86941\teval-logloss:0.21505\teval-amex:0.79491\n",
      "[1300]\ttrain-logloss:0.17080\ttrain-amex:0.87484\teval-logloss:0.21490\teval-amex:0.79437\n",
      "[1400]\ttrain-logloss:0.16782\ttrain-amex:0.88030\teval-logloss:0.21482\teval-amex:0.79537\n",
      "[1414]\ttrain-logloss:0.16740\ttrain-amex:0.88114\teval-logloss:0.21481\teval-amex:0.79495\n",
      "Kaggle Metric = 0.7952123900395048 \n",
      "\n",
      "#########################\n",
      "OVERALL CV Kaggle Metric = 0.7931073645503943\n"
     ]
    }
   ],
   "source": [
    "importances = []\n",
    "oof = []\n",
    "train = train.to_pandas() # free GPU memory\n",
    "TRAIN_SUBSAMPLE = 1.0\n",
    "gc.collect()\n",
    "\n",
    "skf = KFold(n_splits=FOLDS, shuffle=True, random_state=SEED)\n",
    "for fold,(train_idx, valid_idx) in enumerate(skf.split(\n",
    "            train, train.target )):\n",
    "    \n",
    "    # TRAIN WITH SUBSAMPLE OF TRAIN FOLD DATA\n",
    "    if TRAIN_SUBSAMPLE<1.0:\n",
    "        np.random.seed(SEED)\n",
    "        train_idx = np.random.choice(train_idx, \n",
    "                       int(len(train_idx)*TRAIN_SUBSAMPLE), replace=False)\n",
    "        np.random.seed(None)\n",
    "    \n",
    "    print('#'*25)\n",
    "    print('### Fold',fold+1)\n",
    "    print('### Train size',len(train_idx),'Valid size',len(valid_idx))\n",
    "    print(f'### Training with {int(TRAIN_SUBSAMPLE*100)}% fold data...')\n",
    "    print('#'*25)\n",
    "    \n",
    "    # TRAIN, VALID, TEST FOR FOLD K\n",
    "    Xy_train = IterLoadForDMatrix(train.loc[train_idx], FEATURES, 'target')\n",
    "    X_valid = train.loc[valid_idx, FEATURES]\n",
    "    y_valid = train.loc[valid_idx, 'target']\n",
    "    \n",
    "    dtrain = xgb.DeviceQuantileDMatrix(Xy_train, max_bin=256)\n",
    "    dvalid = xgb.DMatrix(data=X_valid, label=y_valid)\n",
    "    \n",
    "    # TRAIN MODEL FOLD K\n",
    "    model = xgb.train(xgb_parms, \n",
    "                dtrain=dtrain,\n",
    "                evals=[(dtrain,'train'),(dvalid,'eval')],\n",
    "                num_boost_round=9999,\n",
    "                early_stopping_rounds=300,\n",
    "                maximize=True,\n",
    "                custom_metric= xgb_amex,\n",
    "                verbose_eval=100) \n",
    "    model.save_model(f'XGB_v{VER}_fold{fold}.xgb')\n",
    "    \n",
    "    # GET FEATURE IMPORTANCE FOR FOLD K\n",
    "    dd = model.get_score(importance_type='weight')\n",
    "    df = pd.DataFrame({'feature':dd.keys(),f'importance_{fold}':dd.values()})\n",
    "    importances.append(df)\n",
    "            \n",
    "    # INFER OOF FOLD K\n",
    "    oof_preds = model.predict(dvalid)\n",
    "    acc = amex_metric_numpy(y_valid.values, oof_preds)\n",
    "    print('Kaggle Metric =',acc,'\\n')\n",
    "    \n",
    "    # SAVE OOF\n",
    "    df = train.loc[valid_idx, ['customer_ID','target'] ].copy()\n",
    "    df['oof_pred'] = oof_preds\n",
    "    oof.append( df )\n",
    "    \n",
    "    del dtrain, Xy_train, dd, df\n",
    "    del X_valid, y_valid, dvalid, model\n",
    "    _ = gc.collect()\n",
    "    \n",
    "print('#'*25)\n",
    "oof = pd.concat(oof,axis=0,ignore_index=True).set_index('customer_ID')\n",
    "acc = amex_metric_numpy(oof.target.values, oof.oof_pred.values)\n",
    "print('OVERALL CV Kaggle Metric =',acc)"
   ]
  },
  {
   "cell_type": "code",
   "execution_count": 13,
   "id": "0bd365fd",
   "metadata": {
    "execution": {
     "iopub.execute_input": "2022-07-04T13:27:24.301415Z",
     "iopub.status.busy": "2022-07-04T13:27:24.300833Z",
     "iopub.status.idle": "2022-07-04T13:27:24.450955Z",
     "shell.execute_reply": "2022-07-04T13:27:24.450101Z"
    },
    "papermill": {
     "duration": 0.166186,
     "end_time": "2022-07-04T13:27:24.452686",
     "exception": false,
     "start_time": "2022-07-04T13:27:24.286500",
     "status": "completed"
    },
    "tags": []
   },
   "outputs": [],
   "source": [
    "# CLEAN RAM\n",
    "del train\n",
    "_ = gc.collect()"
   ]
  },
  {
   "cell_type": "code",
   "execution_count": 14,
   "id": "e8c0824f",
   "metadata": {
    "execution": {
     "iopub.execute_input": "2022-07-04T13:27:24.478761Z",
     "iopub.status.busy": "2022-07-04T13:27:24.477918Z",
     "iopub.status.idle": "2022-07-04T13:27:24.510535Z",
     "shell.execute_reply": "2022-07-04T13:27:24.509770Z"
    },
    "papermill": {
     "duration": 0.047858,
     "end_time": "2022-07-04T13:27:24.512689",
     "exception": false,
     "start_time": "2022-07-04T13:27:24.464831",
     "status": "completed"
    },
    "tags": []
   },
   "outputs": [],
   "source": [
    "import matplotlib.pyplot as plt\n",
    "\n",
    "df = importances[0].copy()\n",
    "for k in range(1,FOLDS): df = df.merge(importances[k], on='feature', how='left')\n",
    "df['importance'] = df.iloc[:,1:].mean(axis=1)\n",
    "df = df.sort_values('importance',ascending=False)\n",
    "df.to_csv(f'xgb_feature_importance_v{VER}.csv',index=False)"
   ]
  },
  {
   "cell_type": "code",
   "execution_count": 15,
   "id": "5e638ea7",
   "metadata": {
    "execution": {
     "iopub.execute_input": "2022-07-04T13:27:24.539029Z",
     "iopub.status.busy": "2022-07-04T13:27:24.538285Z",
     "iopub.status.idle": "2022-07-04T13:27:24.828609Z",
     "shell.execute_reply": "2022-07-04T13:27:24.827850Z"
    },
    "papermill": {
     "duration": 0.305296,
     "end_time": "2022-07-04T13:27:24.830416",
     "exception": false,
     "start_time": "2022-07-04T13:27:24.525120",
     "status": "completed"
    },
    "tags": []
   },
   "outputs": [
    {
     "data": {
      "image/png": "[encoded data removed]",
      "text/plain": [
       "<Figure size 720x720 with 1 Axes>"
      ]
     },
     "metadata": {
      "needs_background": "light"
     },
     "output_type": "display_data"
    }
   ],
   "source": [
    "NUM_FEATURES = 20\n",
    "plt.figure(figsize=(10,5*NUM_FEATURES//10))\n",
    "plt.barh(np.arange(NUM_FEATURES,0,-1), df.importance.values[:NUM_FEATURES])\n",
    "plt.yticks(np.arange(NUM_FEATURES,0,-1), df.feature.values[:NUM_FEATURES])\n",
    "plt.title(f'XGB Feature Importance - Top {NUM_FEATURES}')\n",
    "plt.show()"
   ]
  },
  {
   "cell_type": "code",
   "execution_count": 16,
   "id": "9faace59",
   "metadata": {
    "execution": {
     "iopub.execute_input": "2022-07-04T13:27:24.857468Z",
     "iopub.status.busy": "2022-07-04T13:27:24.857117Z",
     "iopub.status.idle": "2022-07-04T13:27:27.754734Z",
     "shell.execute_reply": "2022-07-04T13:27:27.753826Z"
    },
    "papermill": {
     "duration": 2.921098,
     "end_time": "2022-07-04T13:27:27.764381",
     "exception": false,
     "start_time": "2022-07-04T13:27:24.843283",
     "status": "completed"
    },
    "tags": []
   },
   "outputs": [
    {
     "name": "stdout",
     "output_type": "stream",
     "text": [
      "Reading test data...\n",
      "shape of data: (11363762, 2)\n",
      "We will process test data as 4 separate parts.\n",
      "There will be 231155 customers in each part (except the last part).\n",
      "Below are number of rows in each part:\n",
      "[2841209, 2839857, 2842105, 2840591]\n"
     ]
    }
   ],
   "source": [
    "# CALCULATE SIZE OF EACH SEPARATE TEST PART\n",
    "def get_rows(customers, test, NUM_PARTS = 4, verbose = ''):\n",
    "    chunk = len(customers)//NUM_PARTS\n",
    "    if verbose != '':\n",
    "        print(f'We will process {verbose} data as {NUM_PARTS} separate parts.')\n",
    "        print(f'There will be {chunk} customers in each part (except the last part).')\n",
    "        print('Below are number of rows in each part:')\n",
    "    rows = []\n",
    "\n",
    "    for k in range(NUM_PARTS):\n",
    "        if k==NUM_PARTS-1: cc = customers[k*chunk:]\n",
    "        else: cc = customers[k*chunk:(k+1)*chunk]\n",
    "        s = test.loc[test.customer_ID.isin(cc)].shape[0]\n",
    "        rows.append(s)\n",
    "    if verbose != '': print( rows )\n",
    "    return rows,chunk\n",
    "\n",
    "# COMPUTE SIZE OF 4 PARTS FOR TEST DATA\n",
    "NUM_PARTS = 4\n",
    "TEST_PATH = '../input/amex-data-integer-dtypes-parquet-format/test.parquet'\n",
    "\n",
    "print(f'Reading test data...')\n",
    "test = read_file(path = TEST_PATH, usecols = ['customer_ID','S_2'])\n",
    "customers = test[['customer_ID']].drop_duplicates().sort_index().values.flatten()\n",
    "rows,num_cust = get_rows(customers, test[['customer_ID']], NUM_PARTS = NUM_PARTS, verbose = 'test')"
   ]
  },
  {
   "cell_type": "code",
   "execution_count": 17,
   "id": "6f0de852",
   "metadata": {
    "execution": {
     "iopub.execute_input": "2022-07-04T13:27:27.820507Z",
     "iopub.status.busy": "2022-07-04T13:27:27.819915Z",
     "iopub.status.idle": "2022-07-04T13:32:14.003310Z",
     "shell.execute_reply": "2022-07-04T13:32:14.002489Z"
    },
    "papermill": {
     "duration": 286.214296,
     "end_time": "2022-07-04T13:32:14.005517",
     "exception": false,
     "start_time": "2022-07-04T13:27:27.791221",
     "status": "completed"
    },
    "tags": []
   },
   "outputs": [
    {
     "name": "stdout",
     "output_type": "stream",
     "text": [
      "\n",
      "Reading test data...\n",
      "shape of data: (11363762, 190)\n",
      "=> Test part 1 has shape (2841209, 190)\n",
      "shape after engineering (231155, 918)\n",
      "\n",
      "Reading test data...\n",
      "shape of data: (11363762, 190)\n",
      "=> Test part 2 has shape (2839857, 190)\n",
      "shape after engineering (231155, 918)\n",
      "\n",
      "Reading test data...\n",
      "shape of data: (11363762, 190)\n",
      "=> Test part 3 has shape (2842105, 190)\n",
      "shape after engineering (231155, 918)\n",
      "\n",
      "Reading test data...\n",
      "shape of data: (11363762, 190)\n",
      "=> Test part 4 has shape (2840591, 190)\n",
      "shape after engineering (231156, 918)\n"
     ]
    }
   ],
   "source": [
    "# INFER TEST DATA IN PARTS\n",
    "skip_rows = 0\n",
    "skip_cust = 0\n",
    "test_preds = []\n",
    "\n",
    "for k in range(NUM_PARTS):\n",
    "    \n",
    "    # READ PART OF TEST DATA\n",
    "    print(f'\\nReading test data...')\n",
    "    test = read_file(path = TEST_PATH)\n",
    "    test = test.iloc[skip_rows:skip_rows+rows[k]]\n",
    "    skip_rows += rows[k]\n",
    "    print(f'=> Test part {k+1} has shape', test.shape )\n",
    "    \n",
    "    # PROCESS AND FEATURE ENGINEER PART OF TEST DATA\n",
    "    test = process_and_feature_engineering(test)\n",
    "    if k==NUM_PARTS-1: test = test.loc[customers[skip_cust:]]\n",
    "    else: test = test.loc[customers[skip_cust:skip_cust+num_cust]]\n",
    "    skip_cust += num_cust\n",
    "    \n",
    "    # TEST DATA FOR XGB\n",
    "    X_test = test[FEATURES]\n",
    "    dtest = xgb.DMatrix(data=X_test)\n",
    "    test = test[['P_2_mean']] # reduce memory\n",
    "    del X_test\n",
    "    gc.collect()\n",
    "\n",
    "    # INFER XGB MODELS ON TEST DATA\n",
    "    model = xgb.Booster()\n",
    "    model.load_model(f'XGB_v{VER}_fold0.xgb')\n",
    "    preds = model.predict(dtest)\n",
    "    for f in range(1,FOLDS):\n",
    "        model.load_model(f'XGB_v{VER}_fold{f}.xgb')\n",
    "        preds += model.predict(dtest)\n",
    "    preds /= FOLDS\n",
    "    test_preds.append(preds)\n",
    "\n",
    "    # CLEAN MEMORY\n",
    "    del dtest, model\n",
    "    _ = gc.collect()"
   ]
  },
  {
   "cell_type": "code",
   "execution_count": 18,
   "id": "a8138d43",
   "metadata": {
    "execution": {
     "iopub.execute_input": "2022-07-04T13:32:14.034664Z",
     "iopub.status.busy": "2022-07-04T13:32:14.034172Z",
     "iopub.status.idle": "2022-07-04T13:32:15.471299Z",
     "shell.execute_reply": "2022-07-04T13:32:15.470408Z"
    },
    "papermill": {
     "duration": 1.454439,
     "end_time": "2022-07-04T13:32:15.474052",
     "exception": false,
     "start_time": "2022-07-04T13:32:14.019613",
     "status": "completed"
    },
    "tags": []
   },
   "outputs": [
    {
     "name": "stdout",
     "output_type": "stream",
     "text": [
      "Submission file shape is (924621, 2)\n"
     ]
    },
    {
     "data": {
      "text/html": [
       "<div>\n",
       "<style scoped>\n",
       "    .dataframe tbody tr th:only-of-type {\n",
       "        vertical-align: middle;\n",
       "    }\n",
       "\n",
       "    .dataframe tbody tr th {\n",
       "        vertical-align: top;\n",
       "    }\n",
       "\n",
       "    .dataframe thead th {\n",
       "        text-align: right;\n",
       "    }\n",
       "</style>\n",
       "<table border=\"1\" class=\"dataframe\">\n",
       "  <thead>\n",
       "    <tr style=\"text-align: right;\">\n",
       "      <th></th>\n",
       "      <th>customer_ID</th>\n",
       "      <th>prediction</th>\n",
       "    </tr>\n",
       "  </thead>\n",
       "  <tbody>\n",
       "    <tr>\n",
       "      <th>0</th>\n",
       "      <td>03999d5e3bd61a69504cc6e7025c260c1ed2e5b449dba5...</td>\n",
       "      <td>0.143416</td>\n",
       "    </tr>\n",
       "    <tr>\n",
       "      <th>1</th>\n",
       "      <td>039b4f21aa584fb0c3c7055beabc098af55013f9f25515...</td>\n",
       "      <td>0.007795</td>\n",
       "    </tr>\n",
       "    <tr>\n",
       "      <th>2</th>\n",
       "      <td>039a6aea85575ebd33eec75e5c45bc7973481b81a99b62...</td>\n",
       "      <td>0.107616</td>\n",
       "    </tr>\n",
       "    <tr>\n",
       "      <th>3</th>\n",
       "      <td>039bd96164c6567580b24ba13c2b85b60f4554eb43d55b...</td>\n",
       "      <td>0.604406</td>\n",
       "    </tr>\n",
       "    <tr>\n",
       "      <th>4</th>\n",
       "      <td>0399a5a95461ced4134cd9693712fb012351cca1bde04d...</td>\n",
       "      <td>0.000409</td>\n",
       "    </tr>\n",
       "  </tbody>\n",
       "</table>\n",
       "</div>"
      ],
      "text/plain": [
       "                                         customer_ID  prediction\n",
       "0  03999d5e3bd61a69504cc6e7025c260c1ed2e5b449dba5...    0.143416\n",
       "1  039b4f21aa584fb0c3c7055beabc098af55013f9f25515...    0.007795\n",
       "2  039a6aea85575ebd33eec75e5c45bc7973481b81a99b62...    0.107616\n",
       "3  039bd96164c6567580b24ba13c2b85b60f4554eb43d55b...    0.604406\n",
       "4  0399a5a95461ced4134cd9693712fb012351cca1bde04d...    0.000409"
      ]
     },
     "execution_count": 18,
     "metadata": {},
     "output_type": "execute_result"
    }
   ],
   "source": [
    "# WRITE SUBMISSION FILE\n",
    "test_preds = np.concatenate(test_preds)\n",
    "test = cudf.DataFrame(index=customers,data={'prediction':test_preds})\n",
    "sub = cudf.read_csv('../input/amex-default-prediction/sample_submission.csv')[['customer_ID']]\n",
    "sub['customer_ID_hash'] = sub['customer_ID'].str[-16:].str.hex_to_int().astype('int64')\n",
    "sub = sub.set_index('customer_ID_hash')\n",
    "sub = sub.merge(test[['prediction']], left_index=True, right_index=True, how='left')\n",
    "sub = sub.reset_index(drop=True)\n",
    "\n",
    "# DISPLAY PREDICTIONS\n",
    "sub.to_csv(f'submission_xgb_v{VER}.csv',index=False)\n",
    "print('Submission file shape is', sub.shape )\n",
    "sub.head()"
   ]
  },
  {
   "cell_type": "code",
   "execution_count": 19,
   "id": "657e1f57",
   "metadata": {
    "execution": {
     "iopub.execute_input": "2022-07-04T13:32:15.503086Z",
     "iopub.status.busy": "2022-07-04T13:32:15.502397Z",
     "iopub.status.idle": "2022-07-04T13:32:16.420033Z",
     "shell.execute_reply": "2022-07-04T13:32:16.419309Z"
    },
    "papermill": {
     "duration": 0.933419,
     "end_time": "2022-07-04T13:32:16.421801",
     "exception": false,
     "start_time": "2022-07-04T13:32:15.488382",
     "status": "completed"
    },
    "tags": []
   },
   "outputs": [
    {
     "data": {
      "image/png": "[encoded data removed]",
      "text/plain": [
       "<Figure size 432x288 with 1 Axes>"
      ]
     },
     "metadata": {
      "needs_background": "light"
     },
     "output_type": "display_data"
    }
   ],
   "source": [
    "# PLOT PREDICTIONS\n",
    "plt.hist(sub.to_pandas().prediction, bins=100)\n",
    "plt.title('Test Predictions')\n",
    "plt.show()"
   ]
  }
 ],
 "metadata": {
  "kernelspec": {
   "display_name": "Python 3",
   "language": "python",
   "name": "python3"
  },
  "language_info": {
   "codemirror_mode": {
    "name": "ipython",
    "version": 3
   },
   "file_extension": ".py",
   "mimetype": "text/x-python",
   "name": "python",
   "nbconvert_exporter": "python",
   "pygments_lexer": "ipython3",
   "version": "3.7.12"
  },
  "papermill": {
   "default_parameters": {},
   "duration": 1849.174947,
   "end_time": "2022-07-04T13:32:18.882705",
   "environment_variables": {},
   "exception": null,
   "input_path": "__notebook__.ipynb",
   "output_path": "__notebook__.ipynb",
   "parameters": {},
   "start_time": "2022-07-04T13:01:29.707758",
   "version": "2.3.4"
  }
 },
 "nbformat": 4,
 "nbformat_minor": 5
}

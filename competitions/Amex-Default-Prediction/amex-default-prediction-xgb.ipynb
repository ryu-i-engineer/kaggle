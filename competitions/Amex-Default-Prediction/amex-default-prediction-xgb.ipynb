{
  "cells": [
    {
      "cell_type": "markdown",
      "metadata": {
        "papermill": {
          "duration": 0.009252,
          "end_time": "2022-07-15T16:13:27.338460",
          "exception": false,
          "start_time": "2022-07-15T16:13:27.329208",
          "status": "completed"
        },
        "tags": [],
        "id": "ec8911a0"
      },
      "source": [
        "# Prepare for colab"
      ],
      "id": "ec8911a0"
    },
    {
      "cell_type": "code",
      "execution_count": 3,
      "metadata": {
        "execution": {
          "iopub.execute_input": "2022-07-15T16:13:27.400098Z",
          "iopub.status.busy": "2022-07-15T16:13:27.399391Z",
          "iopub.status.idle": "2022-07-15T16:13:27.403356Z",
          "shell.execute_reply": "2022-07-15T16:13:27.402606Z"
        },
        "papermill": {
          "duration": 0.015568,
          "end_time": "2022-07-15T16:13:27.405067",
          "exception": false,
          "start_time": "2022-07-15T16:13:27.389499",
          "status": "completed"
        },
        "tags": [],
        "id": "bad112fb",
        "colab": {
          "base_uri": "https://localhost:8080/"
        },
        "outputId": "52f9cc82-8b9c-46b1-e0fc-7740adbb7e46"
      },
      "outputs": [
        {
          "output_type": "stream",
          "name": "stdout",
          "text": [
            "Looking in indexes: https://pypi.org/simple, https://us-python.pkg.dev/colab-wheels/public/simple/\n",
            "Requirement already satisfied: xgboost in /usr/local/lib/python3.7/dist-packages (0.90)\n",
            "Collecting xgboost\n",
            "  Downloading xgboost-1.6.1-py3-none-manylinux2014_x86_64.whl (192.9 MB)\n",
            "\u001b[K     |████████████████████████████████| 192.9 MB 53 kB/s \n",
            "\u001b[?25hRequirement already satisfied: scipy in /usr/local/lib/python3.7/dist-packages (from xgboost) (1.7.3)\n",
            "Requirement already satisfied: numpy in /usr/local/lib/python3.7/dist-packages (from xgboost) (1.21.6)\n",
            "Installing collected packages: xgboost\n",
            "  Attempting uninstall: xgboost\n",
            "    Found existing installation: xgboost 0.90\n",
            "    Uninstalling xgboost-0.90:\n",
            "      Successfully uninstalled xgboost-0.90\n",
            "Successfully installed xgboost-1.6.1\n",
            "Looking in indexes: https://pypi.org/simple, https://us-python.pkg.dev/colab-wheels/public/simple/\n",
            "Requirement already satisfied: kaggle in /usr/local/lib/python3.7/dist-packages (1.5.12)\n",
            "Requirement already satisfied: python-slugify in /usr/local/lib/python3.7/dist-packages (from kaggle) (6.1.2)\n",
            "Requirement already satisfied: certifi in /usr/local/lib/python3.7/dist-packages (from kaggle) (2022.6.15)\n",
            "Requirement already satisfied: urllib3 in /usr/local/lib/python3.7/dist-packages (from kaggle) (1.24.3)\n",
            "Requirement already satisfied: tqdm in /usr/local/lib/python3.7/dist-packages (from kaggle) (4.64.0)\n",
            "Requirement already satisfied: six>=1.10 in /usr/local/lib/python3.7/dist-packages (from kaggle) (1.15.0)\n",
            "Requirement already satisfied: requests in /usr/local/lib/python3.7/dist-packages (from kaggle) (2.23.0)\n",
            "Requirement already satisfied: python-dateutil in /usr/local/lib/python3.7/dist-packages (from kaggle) (2.8.2)\n",
            "Requirement already satisfied: text-unidecode>=1.3 in /usr/local/lib/python3.7/dist-packages (from python-slugify->kaggle) (1.3)\n",
            "Requirement already satisfied: chardet<4,>=3.0.2 in /usr/local/lib/python3.7/dist-packages (from requests->kaggle) (3.0.4)\n",
            "Requirement already satisfied: idna<3,>=2.5 in /usr/local/lib/python3.7/dist-packages (from requests->kaggle) (2.10)\n"
          ]
        }
      ],
      "source": [
        "!pip install xgboost -U\n",
        "!pip install kaggle"
      ],
      "id": "bad112fb"
    },
    {
      "cell_type": "markdown",
      "metadata": {
        "papermill": {
          "duration": 0.008806,
          "end_time": "2022-07-15T16:13:27.422550",
          "exception": false,
          "start_time": "2022-07-15T16:13:27.413744",
          "status": "completed"
        },
        "tags": [],
        "id": "3fa90515"
      },
      "source": [
        "## Upload API Token"
      ],
      "id": "3fa90515"
    },
    {
      "cell_type": "code",
      "execution_count": 4,
      "metadata": {
        "execution": {
          "iopub.execute_input": "2022-07-15T16:13:27.442237Z",
          "iopub.status.busy": "2022-07-15T16:13:27.441555Z",
          "iopub.status.idle": "2022-07-15T16:13:27.448196Z",
          "shell.execute_reply": "2022-07-15T16:13:27.447549Z"
        },
        "papermill": {
          "duration": 0.01814,
          "end_time": "2022-07-15T16:13:27.449796",
          "exception": false,
          "start_time": "2022-07-15T16:13:27.431656",
          "status": "completed"
        },
        "tags": [],
        "id": "54e44e29",
        "colab": {
          "base_uri": "https://localhost:8080/"
        },
        "outputId": "1c1656e2-030a-4502-9d97-c81e07c53b28"
      },
      "outputs": [
        {
          "output_type": "stream",
          "name": "stdout",
          "text": [
            "Mounted at /content/drive\n"
          ]
        }
      ],
      "source": [
        "from google.colab import drive\n",
        "drive.mount('/content/drive')\n",
        "\n",
        "# Then move kaggle.json into the folder where the API expects to find it.\n",
        "!mkdir -p ~/.kaggle/ && cp /content/drive/MyDrive/backups/kaggle.json ~/.kaggle/ && chmod 600 ~/.kaggle/kaggle.json"
      ],
      "id": "54e44e29"
    },
    {
      "cell_type": "markdown",
      "metadata": {
        "papermill": {
          "duration": 0.008512,
          "end_time": "2022-07-15T16:13:27.467327",
          "exception": false,
          "start_time": "2022-07-15T16:13:27.458815",
          "status": "completed"
        },
        "tags": [],
        "id": "1abbc588"
      },
      "source": [
        "## Download and unzip dataset"
      ],
      "id": "1abbc588"
    },
    {
      "cell_type": "code",
      "execution_count": 5,
      "metadata": {
        "execution": {
          "iopub.execute_input": "2022-07-15T16:13:27.486038Z",
          "iopub.status.busy": "2022-07-15T16:13:27.485615Z",
          "iopub.status.idle": "2022-07-15T16:13:27.490276Z",
          "shell.execute_reply": "2022-07-15T16:13:27.489580Z"
        },
        "papermill": {
          "duration": 0.016071,
          "end_time": "2022-07-15T16:13:27.491993",
          "exception": false,
          "start_time": "2022-07-15T16:13:27.475922",
          "status": "completed"
        },
        "tags": [],
        "id": "c17f8dd7",
        "colab": {
          "base_uri": "https://localhost:8080/"
        },
        "outputId": "b7ec4d9c-cedc-4783-b09b-e63c2a049e8a"
      },
      "outputs": [
        {
          "output_type": "stream",
          "name": "stdout",
          "text": [
            "Downloading amex-fe-plus2.zip to /content\n",
            "100% 4.68G/4.70G [00:35<00:00, 152MB/s]\n",
            "100% 4.70G/4.70G [00:36<00:00, 140MB/s]\n",
            "Archive:  /content/amex-fe-plus2.zip\n",
            "  inflating: test_fe_plus_plus.parquet  \n",
            "  inflating: train_fe_plus_plus.parquet  \n"
          ]
        }
      ],
      "source": [
        "!kaggle datasets download -d ryuina/amex-fe-plus2\n",
        "!unzip /content/amex-fe-plus2.zip"
      ],
      "id": "c17f8dd7"
    },
    {
      "cell_type": "code",
      "execution_count": 6,
      "metadata": {
        "execution": {
          "iopub.execute_input": "2022-07-15T16:13:27.515341Z",
          "iopub.status.busy": "2022-07-15T16:13:27.514880Z",
          "iopub.status.idle": "2022-07-15T16:13:27.523654Z",
          "shell.execute_reply": "2022-07-15T16:13:27.522700Z"
        },
        "papermill": {
          "duration": 0.025128,
          "end_time": "2022-07-15T16:13:27.526436",
          "exception": false,
          "start_time": "2022-07-15T16:13:27.501308",
          "status": "completed"
        },
        "tags": [],
        "id": "e4df1701",
        "colab": {
          "base_uri": "https://localhost:8080/"
        },
        "outputId": "64c92766-da9a-48f6-8286-83d2c1d82f84"
      },
      "outputs": [
        {
          "output_type": "stream",
          "name": "stdout",
          "text": [
            "Downloading sample_submission.csv.zip to /content\n",
            " 71% 23.0M/32.4M [00:00<00:00, 115MB/s] \n",
            "100% 32.4M/32.4M [00:00<00:00, 132MB/s]\n",
            "Archive:  /content/sample_submission.csv.zip\n",
            "  inflating: sample_submission.csv   \n"
          ]
        }
      ],
      "source": [
        "!kaggle competitions download -c amex-default-prediction -f sample_submission.csv\n",
        "!unzip /content/sample_submission.csv.zip"
      ],
      "id": "e4df1701"
    },
    {
      "cell_type": "code",
      "source": [
        "!kaggle competitions download -c amex-default-prediction -f train_labels.csv\n",
        "!unzip /content/train_labels.csv.zip"
      ],
      "metadata": {
        "colab": {
          "base_uri": "https://localhost:8080/"
        },
        "id": "AVz5ZOwL-mic",
        "outputId": "e95006f3-d264-4bbb-f5a8-726c0067d047"
      },
      "id": "AVz5ZOwL-mic",
      "execution_count": 7,
      "outputs": [
        {
          "output_type": "stream",
          "name": "stdout",
          "text": [
            "Downloading train_labels.csv.zip to /content\n",
            "\r  0% 0.00/16.2M [00:00<?, ?B/s]\r 31% 5.00M/16.2M [00:00<00:00, 26.3MB/s]\n",
            "\r100% 16.2M/16.2M [00:00<00:00, 70.9MB/s]\n",
            "Archive:  /content/train_labels.csv.zip\n",
            "  inflating: train_labels.csv        \n"
          ]
        }
      ]
    },
    {
      "cell_type": "markdown",
      "source": [
        "# Training"
      ],
      "metadata": {
        "id": "Sc_uUzZtcYfw"
      },
      "id": "Sc_uUzZtcYfw"
    },
    {
      "cell_type": "code",
      "execution_count": 8,
      "id": "75a923db",
      "metadata": {
        "_cell_guid": "b1076dfc-b9ad-4769-8c92-a6c4dae69d19",
        "_uuid": "8f2839f25d086af736a60e9eeb907d3b93b6e0e5",
        "execution": {
          "iopub.execute_input": "2022-07-04T13:37:46.871349Z",
          "iopub.status.busy": "2022-07-04T13:37:46.870600Z",
          "iopub.status.idle": "2022-07-04T13:37:50.917325Z",
          "shell.execute_reply": "2022-07-04T13:37:50.916525Z"
        },
        "papermill": {
          "duration": 4.059938,
          "end_time": "2022-07-04T13:37:50.919741",
          "exception": false,
          "start_time": "2022-07-04T13:37:46.859803",
          "status": "completed"
        },
        "tags": [],
        "id": "75a923db"
      },
      "outputs": [],
      "source": [
        "import pandas as pd\n",
        "import numpy as np\n",
        "import random\n",
        "import matplotlib.pyplot\n",
        "import os\n",
        "import gc; gc.enable()\n",
        "\n",
        "from sklearn.preprocessing import LabelEncoder"
      ]
    },
    {
      "cell_type": "code",
      "execution_count": 9,
      "id": "b06e1731",
      "metadata": {
        "execution": {
          "iopub.execute_input": "2022-07-04T13:37:50.930838Z",
          "iopub.status.busy": "2022-07-04T13:37:50.930542Z",
          "iopub.status.idle": "2022-07-04T13:37:50.934301Z",
          "shell.execute_reply": "2022-07-04T13:37:50.933487Z"
        },
        "papermill": {
          "duration": 0.011323,
          "end_time": "2022-07-04T13:37:50.936212",
          "exception": false,
          "start_time": "2022-07-04T13:37:50.924889",
          "status": "completed"
        },
        "tags": [],
        "id": "b06e1731"
      },
      "outputs": [],
      "source": [
        "VER=1\n",
        "SEED = 42\n",
        "FOLDS = 5\n",
        "\n",
        "cat_features = [\"B_30\", \"B_38\", \"D_114\", \"D_116\", \"D_117\", \"D_120\", \"D_126\", \"D_63\", \"D_64\", \"D_66\", \"D_68\"]\n",
        "\n",
        "def seed_everything(seed):\n",
        "    random.seed(seed)\n",
        "    np.random.seed(seed)\n",
        "    os.environ['PYTHONHASHSEED'] = str(seed)\n",
        "\n",
        "seed_everything(SEED)"
      ]
    },
    {
      "cell_type": "code",
      "execution_count": 10,
      "id": "d8f2573f",
      "metadata": {
        "execution": {
          "iopub.execute_input": "2022-07-04T13:37:50.966158Z",
          "iopub.status.busy": "2022-07-04T13:37:50.965558Z",
          "iopub.status.idle": "2022-07-04T13:38:12.628753Z",
          "shell.execute_reply": "2022-07-04T13:38:12.627666Z"
        },
        "papermill": {
          "duration": 21.671053,
          "end_time": "2022-07-04T13:38:12.631246",
          "exception": false,
          "start_time": "2022-07-04T13:37:50.960193",
          "status": "completed"
        },
        "tags": [],
        "id": "d8f2573f"
      },
      "outputs": [],
      "source": [
        "train = pd.read_parquet(\"/content/train_fe_plus_plus.parquet\")\n",
        "# train = train.reset_index(level=0)"
      ]
    },
    {
      "cell_type": "code",
      "execution_count": 11,
      "id": "64d772da",
      "metadata": {
        "execution": {
          "iopub.execute_input": "2022-07-04T13:38:12.881106Z",
          "iopub.status.busy": "2022-07-04T13:38:12.880449Z",
          "iopub.status.idle": "2022-07-04T13:38:12.888042Z",
          "shell.execute_reply": "2022-07-04T13:38:12.887178Z"
        },
        "papermill": {
          "duration": 0.01539,
          "end_time": "2022-07-04T13:38:12.889725",
          "exception": false,
          "start_time": "2022-07-04T13:38:12.874335",
          "status": "completed"
        },
        "tags": [],
        "id": "64d772da"
      },
      "outputs": [],
      "source": [
        "# https://www.kaggle.com/code/ragnar123/amex-lgbm-dart-cv-0-7963\n",
        "# Round last float features to 2 decimal place\n",
        "float_cols = list(train.dtypes[(train.dtypes == 'float32') | (train.dtypes == 'float64')].index)\n",
        "float_cols = [col for col in float_cols if 'last' in col]\n",
        "\n",
        "train[float_cols] = train[float_cols].round(2)\n",
        "train.replace([-np.inf, np.inf], np.nan, inplace=True)\n",
        "train.fillna(-127, inplace=True)"
      ]
    },
    {
      "cell_type": "code",
      "execution_count": 12,
      "id": "e9e4628c",
      "metadata": {
        "execution": {
          "iopub.execute_input": "2022-07-04T13:38:12.901239Z",
          "iopub.status.busy": "2022-07-04T13:38:12.900951Z",
          "iopub.status.idle": "2022-07-04T13:38:14.055784Z",
          "shell.execute_reply": "2022-07-04T13:38:14.054043Z"
        },
        "papermill": {
          "duration": 1.163442,
          "end_time": "2022-07-04T13:38:14.058383",
          "exception": false,
          "start_time": "2022-07-04T13:38:12.894941",
          "status": "completed"
        },
        "tags": [],
        "id": "e9e4628c"
      },
      "outputs": [],
      "source": [
        "train = train.set_index('customer_ID')\n",
        "train = train.sort_index().reset_index()\n",
        "FEATURES = train.drop(columns=['customer_ID', 'target']).columns"
      ]
    },
    {
      "cell_type": "code",
      "execution_count": 13,
      "id": "d98b705b",
      "metadata": {
        "execution": {
          "iopub.execute_input": "2022-07-04T13:38:15.369855Z",
          "iopub.status.busy": "2022-07-04T13:38:15.369570Z",
          "iopub.status.idle": "2022-07-04T13:38:15.468113Z",
          "shell.execute_reply": "2022-07-04T13:38:15.466877Z"
        },
        "papermill": {
          "duration": 0.106496,
          "end_time": "2022-07-04T13:38:15.469835",
          "exception": false,
          "start_time": "2022-07-04T13:38:15.363339",
          "status": "completed"
        },
        "tags": [],
        "id": "d98b705b",
        "outputId": "e8b4ae5e-f9a8-4b9f-a62f-41698b346689",
        "colab": {
          "base_uri": "https://localhost:8080/"
        }
      },
      "outputs": [
        {
          "output_type": "stream",
          "name": "stdout",
          "text": [
            "XGB Version 1.6.1\n"
          ]
        }
      ],
      "source": [
        "# LOAD XGB LIBRARY\n",
        "from sklearn.model_selection import KFold\n",
        "import xgboost as xgb\n",
        "print('XGB Version',xgb.__version__)\n",
        "\n",
        "# XGB MODEL PARAMETERS\n",
        "xgb_parms = {\n",
        "    'max_depth':7,\n",
        "    'eta':0.02,\n",
        "    'subsample':0.88,\n",
        "    'colsample_bytree':0.5,\n",
        "    'min_child_weight':8,\n",
        "#     'booster': 'dart',\n",
        "#     'max_delta_step': 16,\n",
        "    'gamma':1.5,\n",
        "    'lambda':70,\n",
        "#     'reg_alpha':2,\n",
        "#     'reg_lambda':2,\n",
        "#     'scale_pos_weight':2.5,\n",
        "#     'eval_metric':'logloss',\n",
        "    'objective':'binary:logistic',\n",
        "    'tree_method':'gpu_hist',\n",
        "    'predictor':'gpu_predictor',\n",
        "    'random_state':SEED\n",
        "}"
      ]
    },
    {
      "cell_type": "code",
      "execution_count": 14,
      "id": "89f2c8a7",
      "metadata": {
        "execution": {
          "iopub.execute_input": "2022-07-04T13:38:15.503475Z",
          "iopub.status.busy": "2022-07-04T13:38:15.503227Z",
          "iopub.status.idle": "2022-07-04T13:38:15.511646Z",
          "shell.execute_reply": "2022-07-04T13:38:15.510996Z"
        },
        "papermill": {
          "duration": 0.01593,
          "end_time": "2022-07-04T13:38:15.513211",
          "exception": false,
          "start_time": "2022-07-04T13:38:15.497281",
          "status": "completed"
        },
        "tags": [],
        "id": "89f2c8a7"
      },
      "outputs": [],
      "source": [
        "# https://www.kaggle.com/competitions/amex-default-prediction/discussion/328020\n",
        "import numpy as np\n",
        "\n",
        "def amex_metric_numpy(y_true: np.array, y_pred: np.array) -> float:\n",
        "\n",
        "    # count of positives and negatives\n",
        "    n_pos = y_true.sum()\n",
        "    n_neg = y_true.shape[0] - n_pos\n",
        "\n",
        "    # sorting by descring prediction values\n",
        "    indices = np.argsort(y_pred)[::-1]\n",
        "    preds, target = y_pred[indices], y_true[indices]\n",
        "\n",
        "    # filter the top 4% by cumulative row weights\n",
        "    weight = 20.0 - target * 19.0\n",
        "    cum_norm_weight = (weight / weight.sum()).cumsum()\n",
        "    four_pct_filter = cum_norm_weight <= 0.04\n",
        "\n",
        "    # default rate captured at 4%\n",
        "    d = target[four_pct_filter].sum() / n_pos\n",
        "\n",
        "    # weighted gini coefficient\n",
        "    lorentz = (target / n_pos).cumsum()\n",
        "    gini = ((lorentz - cum_norm_weight) * weight).sum()\n",
        "\n",
        "    # max weighted gini coefficient\n",
        "    gini_max = 10 * n_neg * (1 - 19 / (n_pos + 20 * n_neg))\n",
        "\n",
        "    # normalized weighted gini coefficient\n",
        "    g = gini / gini_max\n",
        "\n",
        "    return 0.5 * (g + d)\n",
        "\n",
        "def xgb_amex(y_pred, y_true):\n",
        "    return 'amex', amex_metric_numpy(y_true.get_label(), y_pred)"
      ]
    },
    {
      "cell_type": "code",
      "execution_count": 15,
      "id": "1b3c3440",
      "metadata": {
        "execution": {
          "iopub.execute_input": "2022-07-04T13:38:15.524655Z",
          "iopub.status.busy": "2022-07-04T13:38:15.524403Z",
          "iopub.status.idle": "2022-07-04T13:57:20.743694Z",
          "shell.execute_reply": "2022-07-04T13:57:20.742632Z"
        },
        "papermill": {
          "duration": 1145.227069,
          "end_time": "2022-07-04T13:57:20.745545",
          "exception": false,
          "start_time": "2022-07-04T13:38:15.518476",
          "status": "completed"
        },
        "tags": [],
        "id": "1b3c3440",
        "colab": {
          "base_uri": "https://localhost:8080/"
        },
        "outputId": "4d83c267-3e7f-4df4-a50b-f8c8cc3bd472"
      },
      "outputs": [
        {
          "output_type": "stream",
          "name": "stdout",
          "text": [
            "#########################\n",
            "### Fold 1\n",
            "### Train size 367130 Valid size 91783\n",
            "#########################\n",
            "[0]\ttrain-logloss:0.68019\ttrain-amex:0.70710\teval-logloss:0.68025\teval-amex:0.69868\n",
            "[200]\ttrain-logloss:0.22890\ttrain-amex:0.78584\teval-logloss:0.23636\teval-amex:0.77414\n",
            "[400]\ttrain-logloss:0.21024\ttrain-amex:0.80798\teval-logloss:0.22399\teval-amex:0.78430\n",
            "[600]\ttrain-logloss:0.20130\ttrain-amex:0.82202\teval-logloss:0.22070\teval-amex:0.78777\n",
            "[800]\ttrain-logloss:0.19465\ttrain-amex:0.83253\teval-logloss:0.21912\teval-amex:0.79058\n",
            "[1000]\ttrain-logloss:0.18912\ttrain-amex:0.84206\teval-logloss:0.21827\teval-amex:0.79175\n",
            "[1200]\ttrain-logloss:0.18412\ttrain-amex:0.85096\teval-logloss:0.21774\teval-amex:0.79315\n",
            "[1400]\ttrain-logloss:0.17933\ttrain-amex:0.85922\teval-logloss:0.21736\teval-amex:0.79299\n",
            "[1600]\ttrain-logloss:0.17486\ttrain-amex:0.86773\teval-logloss:0.21713\teval-amex:0.79332\n",
            "[1800]\ttrain-logloss:0.17048\ttrain-amex:0.87588\teval-logloss:0.21690\teval-amex:0.79409\n",
            "[2000]\ttrain-logloss:0.16615\ttrain-amex:0.88367\teval-logloss:0.21675\teval-amex:0.79461\n",
            "[2200]\ttrain-logloss:0.16200\ttrain-amex:0.89110\teval-logloss:0.21668\teval-amex:0.79511\n",
            "[2400]\ttrain-logloss:0.15813\ttrain-amex:0.89812\teval-logloss:0.21662\teval-amex:0.79495\n",
            "[2600]\ttrain-logloss:0.15441\ttrain-amex:0.90446\teval-logloss:0.21662\teval-amex:0.79507\n",
            "[2800]\ttrain-logloss:0.15088\ttrain-amex:0.91095\teval-logloss:0.21656\teval-amex:0.79518\n",
            "[3000]\ttrain-logloss:0.14736\ttrain-amex:0.91694\teval-logloss:0.21654\teval-amex:0.79515\n",
            "[3158]\ttrain-logloss:0.14477\ttrain-amex:0.92126\teval-logloss:0.21655\teval-amex:0.79452\n",
            "Kaggle Metric = 0.7942578879867357 \n",
            "\n",
            "#########################\n",
            "### Fold 2\n",
            "### Train size 367130 Valid size 91783\n",
            "#########################\n",
            "[0]\ttrain-logloss:0.68020\ttrain-amex:0.70584\teval-logloss:0.68024\teval-amex:0.69815\n",
            "[200]\ttrain-logloss:0.22880\ttrain-amex:0.78759\teval-logloss:0.23603\teval-amex:0.77219\n",
            "[400]\ttrain-logloss:0.21024\ttrain-amex:0.80854\teval-logloss:0.22364\teval-amex:0.78580\n",
            "[600]\ttrain-logloss:0.20124\ttrain-amex:0.82238\teval-logloss:0.22016\teval-amex:0.78922\n",
            "[800]\ttrain-logloss:0.19480\ttrain-amex:0.83298\teval-logloss:0.21859\teval-amex:0.79108\n",
            "[1000]\ttrain-logloss:0.18905\ttrain-amex:0.84347\teval-logloss:0.21770\teval-amex:0.79216\n",
            "[1200]\ttrain-logloss:0.18385\ttrain-amex:0.85300\teval-logloss:0.21722\teval-amex:0.79275\n",
            "[1400]\ttrain-logloss:0.17909\ttrain-amex:0.86191\teval-logloss:0.21683\teval-amex:0.79342\n",
            "[1600]\ttrain-logloss:0.17455\ttrain-amex:0.87006\teval-logloss:0.21659\teval-amex:0.79382\n",
            "[1800]\ttrain-logloss:0.17018\ttrain-amex:0.87784\teval-logloss:0.21639\teval-amex:0.79442\n",
            "[2000]\ttrain-logloss:0.16594\ttrain-amex:0.88557\teval-logloss:0.21625\teval-amex:0.79357\n",
            "[2200]\ttrain-logloss:0.16203\ttrain-amex:0.89296\teval-logloss:0.21614\teval-amex:0.79403\n",
            "[2278]\ttrain-logloss:0.16041\ttrain-amex:0.89560\teval-logloss:0.21609\teval-amex:0.79428\n",
            "Kaggle Metric = 0.7945454836668503 \n",
            "\n",
            "#########################\n",
            "### Fold 3\n",
            "### Train size 367130 Valid size 91783\n",
            "#########################\n",
            "[0]\ttrain-logloss:0.68022\ttrain-amex:0.70088\teval-logloss:0.68023\teval-amex:0.69921\n",
            "[200]\ttrain-logloss:0.22940\ttrain-amex:0.78763\teval-logloss:0.23399\teval-amex:0.77582\n",
            "[400]\ttrain-logloss:0.21078\ttrain-amex:0.80859\teval-logloss:0.22127\teval-amex:0.78658\n",
            "[600]\ttrain-logloss:0.20196\ttrain-amex:0.82164\teval-logloss:0.21788\teval-amex:0.79223\n",
            "[800]\ttrain-logloss:0.19539\ttrain-amex:0.83320\teval-logloss:0.21627\teval-amex:0.79333\n",
            "[1000]\ttrain-logloss:0.18996\ttrain-amex:0.84263\teval-logloss:0.21539\teval-amex:0.79514\n",
            "[1200]\ttrain-logloss:0.18496\ttrain-amex:0.85134\teval-logloss:0.21487\teval-amex:0.79592\n",
            "[1400]\ttrain-logloss:0.18019\ttrain-amex:0.85981\teval-logloss:0.21449\teval-amex:0.79611\n",
            "[1600]\ttrain-logloss:0.17596\ttrain-amex:0.86794\teval-logloss:0.21423\teval-amex:0.79659\n",
            "[1800]\ttrain-logloss:0.17166\ttrain-amex:0.87599\teval-logloss:0.21399\teval-amex:0.79694\n",
            "[2000]\ttrain-logloss:0.16749\ttrain-amex:0.88350\teval-logloss:0.21378\teval-amex:0.79729\n",
            "[2200]\ttrain-logloss:0.16346\ttrain-amex:0.89108\teval-logloss:0.21362\teval-amex:0.79676\n",
            "[2400]\ttrain-logloss:0.15950\ttrain-amex:0.89805\teval-logloss:0.21348\teval-amex:0.79786\n",
            "[2600]\ttrain-logloss:0.15585\ttrain-amex:0.90480\teval-logloss:0.21340\teval-amex:0.79791\n",
            "[2800]\ttrain-logloss:0.15209\ttrain-amex:0.91137\teval-logloss:0.21331\teval-amex:0.79836\n",
            "[2968]\ttrain-logloss:0.14910\ttrain-amex:0.91644\teval-logloss:0.21328\teval-amex:0.79726\n",
            "Kaggle Metric = 0.797343798657523 \n",
            "\n",
            "#########################\n",
            "### Fold 4\n",
            "### Train size 367131 Valid size 91782\n",
            "#########################\n",
            "[0]\ttrain-logloss:0.68021\ttrain-amex:0.70539\teval-logloss:0.68026\teval-amex:0.69862\n",
            "[200]\ttrain-logloss:0.22870\ttrain-amex:0.78791\teval-logloss:0.23709\teval-amex:0.76866\n",
            "[400]\ttrain-logloss:0.21010\ttrain-amex:0.80958\teval-logloss:0.22448\teval-amex:0.77876\n",
            "[600]\ttrain-logloss:0.20100\ttrain-amex:0.82355\teval-logloss:0.22087\teval-amex:0.78360\n",
            "[800]\ttrain-logloss:0.19438\ttrain-amex:0.83488\teval-logloss:0.21925\teval-amex:0.78545\n",
            "[1000]\ttrain-logloss:0.18902\ttrain-amex:0.84392\teval-logloss:0.21828\teval-amex:0.78747\n",
            "[1200]\ttrain-logloss:0.18386\ttrain-amex:0.85286\teval-logloss:0.21764\teval-amex:0.78791\n",
            "[1400]\ttrain-logloss:0.17927\ttrain-amex:0.86120\teval-logloss:0.21725\teval-amex:0.78904\n",
            "[1600]\ttrain-logloss:0.17453\ttrain-amex:0.86975\teval-logloss:0.21699\teval-amex:0.78888\n",
            "[1800]\ttrain-logloss:0.17007\ttrain-amex:0.87769\teval-logloss:0.21680\teval-amex:0.78973\n",
            "[2000]\ttrain-logloss:0.16600\ttrain-amex:0.88513\teval-logloss:0.21667\teval-amex:0.79032\n",
            "[2200]\ttrain-logloss:0.16177\ttrain-amex:0.89275\teval-logloss:0.21655\teval-amex:0.79026\n",
            "[2400]\ttrain-logloss:0.15781\ttrain-amex:0.89988\teval-logloss:0.21651\teval-amex:0.79107\n",
            "[2600]\ttrain-logloss:0.15408\ttrain-amex:0.90627\teval-logloss:0.21646\teval-amex:0.79076\n",
            "[2800]\ttrain-logloss:0.15042\ttrain-amex:0.91255\teval-logloss:0.21645\teval-amex:0.79069\n",
            "[2825]\ttrain-logloss:0.14992\ttrain-amex:0.91340\teval-logloss:0.21644\teval-amex:0.79075\n",
            "Kaggle Metric = 0.7911934672969074 \n",
            "\n",
            "#########################\n",
            "### Fold 5\n",
            "### Train size 367131 Valid size 91782\n",
            "#########################\n",
            "[0]\ttrain-logloss:0.68017\ttrain-amex:0.70845\teval-logloss:0.68030\teval-amex:0.69483\n",
            "[200]\ttrain-logloss:0.22828\ttrain-amex:0.78836\teval-logloss:0.23852\teval-amex:0.77150\n",
            "[400]\ttrain-logloss:0.20970\ttrain-amex:0.80864\teval-logloss:0.22608\teval-amex:0.78209\n",
            "[600]\ttrain-logloss:0.20083\ttrain-amex:0.82261\teval-logloss:0.22251\teval-amex:0.78641\n",
            "[800]\ttrain-logloss:0.19414\ttrain-amex:0.83386\teval-logloss:0.22080\teval-amex:0.78903\n",
            "[1000]\ttrain-logloss:0.18849\ttrain-amex:0.84372\teval-logloss:0.21984\teval-amex:0.79081\n",
            "[1200]\ttrain-logloss:0.18341\ttrain-amex:0.85305\teval-logloss:0.21919\teval-amex:0.79225\n",
            "[1400]\ttrain-logloss:0.17868\ttrain-amex:0.86176\teval-logloss:0.21873\teval-amex:0.79263\n",
            "[1600]\ttrain-logloss:0.17425\ttrain-amex:0.86999\teval-logloss:0.21838\teval-amex:0.79295\n",
            "[1800]\ttrain-logloss:0.16983\ttrain-amex:0.87811\teval-logloss:0.21814\teval-amex:0.79352\n",
            "[2000]\ttrain-logloss:0.16564\ttrain-amex:0.88570\teval-logloss:0.21796\teval-amex:0.79378\n",
            "[2200]\ttrain-logloss:0.16172\ttrain-amex:0.89270\teval-logloss:0.21788\teval-amex:0.79350\n",
            "[2383]\ttrain-logloss:0.15823\ttrain-amex:0.89921\teval-logloss:0.21779\teval-amex:0.79316\n",
            "Kaggle Metric = 0.7929734690013535 \n",
            "\n",
            "#########################\n",
            "OVERALL CV Kaggle Metric = 0.7938017861548023\n"
          ]
        }
      ],
      "source": [
        "importances = []\n",
        "oof = []\n",
        "gc.collect()\n",
        "\n",
        "skf = KFold(n_splits=FOLDS, shuffle=True, random_state=SEED)\n",
        "for fold,(train_idx, valid_idx) in enumerate(skf.split(train, train.target )):\n",
        "    print('#'*25)\n",
        "    print('### Fold',fold+1)\n",
        "    print('### Train size',len(train_idx),'Valid size',len(valid_idx))\n",
        "    print('#'*25)\n",
        "    \n",
        "    # TRAIN, VALID, TEST FOR FOLD K\n",
        "    y_valid = train.loc[valid_idx, 'target']\n",
        "    \n",
        "    dtrain = xgb.DMatrix(data=train.loc[train_idx, FEATURES], label=train.loc[train_idx, 'target'])\n",
        "    dvalid = xgb.DMatrix(data=train.loc[valid_idx, FEATURES], label=y_valid)\n",
        "\n",
        "    # TRAIN MODEL FOLD K\n",
        "    model = xgb.train(xgb_parms, \n",
        "                dtrain=dtrain,\n",
        "                evals=[(dtrain,'train'),(dvalid,'eval')],\n",
        "                num_boost_round=15000,\n",
        "                early_stopping_rounds=500,\n",
        "                maximize=True,\n",
        "                custom_metric= xgb_amex,\n",
        "                verbose_eval=200) \n",
        "    model.save_model(f'XGB_v{VER}_fold{fold}.xgb')\n",
        "    \n",
        "    # GET FEATURE IMPORTANCE FOR FOLD K\n",
        "    dd = model.get_score(importance_type='weight')\n",
        "    df = pd.DataFrame({'feature':dd.keys(),f'importance_{fold}':dd.values()})\n",
        "    importances.append(df)\n",
        "            \n",
        "    # INFER OOF FOLD K\n",
        "    oof_preds = model.predict(dvalid)\n",
        "    acc = amex_metric_numpy(y_valid.values, oof_preds)\n",
        "    print('Kaggle Metric =',acc,'\\n')\n",
        "    \n",
        "    # SAVE OOF\n",
        "    df = train.loc[valid_idx, ['customer_ID','target'] ].copy()\n",
        "    df['oof_pred'] = oof_preds\n",
        "    oof.append( df )\n",
        "\n",
        "    del dtrain, dd, df\n",
        "    del y_valid, dvalid, model\n",
        "    _ = gc.collect()\n",
        "    \n",
        "print('#'*25)\n",
        "oof = pd.concat(oof,axis=0,ignore_index=True).set_index('customer_ID')\n",
        "acc = amex_metric_numpy(oof.target.values, oof.oof_pred.values)\n",
        "print('OVERALL CV Kaggle Metric =',acc)"
      ]
    },
    {
      "cell_type": "code",
      "execution_count": 16,
      "id": "a0683792",
      "metadata": {
        "execution": {
          "iopub.execute_input": "2022-07-04T13:57:20.767668Z",
          "iopub.status.busy": "2022-07-04T13:57:20.767389Z",
          "iopub.status.idle": "2022-07-04T13:57:20.897259Z",
          "shell.execute_reply": "2022-07-04T13:57:20.896305Z"
        },
        "papermill": {
          "duration": 0.143223,
          "end_time": "2022-07-04T13:57:20.899414",
          "exception": false,
          "start_time": "2022-07-04T13:57:20.756191",
          "status": "completed"
        },
        "tags": [],
        "id": "a0683792"
      },
      "outputs": [],
      "source": [
        "# CLEAN RAM\n",
        "del train\n",
        "_ = gc.collect()"
      ]
    },
    {
      "cell_type": "code",
      "execution_count": 17,
      "id": "7c84e45b",
      "metadata": {
        "execution": {
          "iopub.execute_input": "2022-07-04T13:57:20.922375Z",
          "iopub.status.busy": "2022-07-04T13:57:20.922102Z",
          "iopub.status.idle": "2022-07-04T13:57:20.952759Z",
          "shell.execute_reply": "2022-07-04T13:57:20.952102Z"
        },
        "papermill": {
          "duration": 0.044099,
          "end_time": "2022-07-04T13:57:20.954464",
          "exception": false,
          "start_time": "2022-07-04T13:57:20.910365",
          "status": "completed"
        },
        "tags": [],
        "id": "7c84e45b"
      },
      "outputs": [],
      "source": [
        "import matplotlib.pyplot as plt\n",
        "\n",
        "df = importances[0].copy()\n",
        "for k in range(1,FOLDS): df = df.merge(importances[k], on='feature', how='left')\n",
        "df['importance'] = df.iloc[:,1:].mean(axis=1)\n",
        "df = df.sort_values('importance',ascending=False)\n",
        "df.to_csv(f'xgb_feature_importance_v{VER}.csv',index=False)"
      ]
    },
    {
      "cell_type": "code",
      "execution_count": 18,
      "id": "cf219aaf",
      "metadata": {
        "execution": {
          "iopub.execute_input": "2022-07-04T13:57:20.976586Z",
          "iopub.status.busy": "2022-07-04T13:57:20.976325Z",
          "iopub.status.idle": "2022-07-04T13:57:21.242333Z",
          "shell.execute_reply": "2022-07-04T13:57:21.241620Z"
        },
        "papermill": {
          "duration": 0.278865,
          "end_time": "2022-07-04T13:57:21.244004",
          "exception": false,
          "start_time": "2022-07-04T13:57:20.965139",
          "status": "completed"
        },
        "tags": [],
        "id": "cf219aaf",
        "colab": {
          "base_uri": "https://localhost:8080/",
          "height": 607
        },
        "outputId": "594fb515-4e29-4989-fe3a-c250a42a6579"
      },
      "outputs": [
        {
          "output_type": "display_data",
          "data": {
            "text/plain": [
              "<Figure size 720x720 with 1 Axes>"
            ],
            "image/png": "[encoded data removed]"
          },
          "metadata": {
            "needs_background": "light"
          }
        }
      ],
      "source": [
        "NUM_FEATURES = 20\n",
        "plt.figure(figsize=(10,5*NUM_FEATURES//10))\n",
        "plt.barh(np.arange(NUM_FEATURES,0,-1), df.importance.values[:NUM_FEATURES])\n",
        "plt.yticks(np.arange(NUM_FEATURES,0,-1), df.feature.values[:NUM_FEATURES])\n",
        "plt.title(f'XGB Feature Importance - Top {NUM_FEATURES}')\n",
        "plt.show()"
      ]
    },
    {
      "cell_type": "markdown",
      "source": [
        "# Test part"
      ],
      "metadata": {
        "id": "5eVl7ZgaHTai"
      },
      "id": "5eVl7ZgaHTai"
    },
    {
      "cell_type": "code",
      "execution_count": 19,
      "id": "caceea59",
      "metadata": {
        "execution": {
          "iopub.execute_input": "2022-07-04T13:57:21.266604Z",
          "iopub.status.busy": "2022-07-04T13:57:21.266343Z",
          "iopub.status.idle": "2022-07-04T13:57:23.926842Z",
          "shell.execute_reply": "2022-07-04T13:57:23.925728Z"
        },
        "papermill": {
          "duration": 2.67433,
          "end_time": "2022-07-04T13:57:23.929254",
          "exception": false,
          "start_time": "2022-07-04T13:57:21.254924",
          "status": "completed"
        },
        "tags": [],
        "id": "caceea59"
      },
      "outputs": [],
      "source": [
        "# CALCULATE SIZE OF EACH SEPARATE TEST PART\n",
        "def get_rows(customers, test, NUM_PARTS = 4, verbose = ''):\n",
        "    chunk = len(customers)//NUM_PARTS\n",
        "    if verbose != '':\n",
        "        print(f'We will process {verbose} data as {NUM_PARTS} separate parts.')\n",
        "        print(f'There will be {chunk} customers in each part (except the last part).')\n",
        "        print('Below are number of rows in each part:')\n",
        "    rows = []\n",
        "\n",
        "    for k in range(NUM_PARTS):\n",
        "        if k==NUM_PARTS-1: cc = customers[k*chunk:]\n",
        "        else: cc = customers[k*chunk:(k+1)*chunk]\n",
        "        s = test.loc[test.customer_ID.isin(cc)].shape[0]\n",
        "        rows.append(s)\n",
        "    if verbose != '': print( rows )\n",
        "    return rows,chunk"
      ]
    },
    {
      "cell_type": "code",
      "source": [
        "# COMPUTE SIZE OF 4 PARTS FOR TEST DATA\n",
        "NUM_PARTS = 4\n",
        "\n",
        "test = pd.read_parquet(\"/content/test_fe_plus_plus.parquet\")\n",
        "\n",
        "customers = test[['customer_ID']].drop_duplicates().sort_index().values.flatten()\n",
        "rows,num_cust = get_rows(customers, test[['customer_ID']], NUM_PARTS = NUM_PARTS, verbose = 'test')"
      ],
      "metadata": {
        "id": "Bx78HcsneJfF",
        "colab": {
          "base_uri": "https://localhost:8080/"
        },
        "outputId": "16c45c26-eb62-42a0-b7e7-94c2e700fd14"
      },
      "id": "Bx78HcsneJfF",
      "execution_count": 20,
      "outputs": [
        {
          "output_type": "stream",
          "name": "stdout",
          "text": [
            "We will process test data as 4 separate parts.\n",
            "There will be 231155 customers in each part (except the last part).\n",
            "Below are number of rows in each part:\n",
            "[231155, 231155, 231155, 231156]\n"
          ]
        }
      ]
    },
    {
      "cell_type": "code",
      "execution_count": 21,
      "id": "284c3ec2",
      "metadata": {
        "execution": {
          "iopub.execute_input": "2022-07-04T13:57:23.953558Z",
          "iopub.status.busy": "2022-07-04T13:57:23.952895Z",
          "iopub.status.idle": "2022-07-04T14:00:05.767912Z",
          "shell.execute_reply": "2022-07-04T14:00:05.767103Z"
        },
        "papermill": {
          "duration": 161.82896,
          "end_time": "2022-07-04T14:00:05.770110",
          "exception": false,
          "start_time": "2022-07-04T13:57:23.941150",
          "status": "completed"
        },
        "tags": [],
        "id": "284c3ec2",
        "colab": {
          "base_uri": "https://localhost:8080/"
        },
        "outputId": "ad9b8735-00d5-47df-b55e-b041bcbdfab0"
      },
      "outputs": [
        {
          "output_type": "stream",
          "name": "stdout",
          "text": [
            "\n",
            "Reading test data...\n",
            "=> Test part 1 has shape (231155, 1815)\n",
            "\n",
            "Reading test data...\n",
            "=> Test part 2 has shape (231155, 1815)\n",
            "\n",
            "Reading test data...\n",
            "=> Test part 3 has shape (231155, 1815)\n",
            "\n",
            "Reading test data...\n",
            "=> Test part 4 has shape (231156, 1815)\n"
          ]
        }
      ],
      "source": [
        "# INFER TEST DATA IN PARTS\n",
        "skip_rows = 0\n",
        "skip_cust = 0\n",
        "test_preds = []\n",
        "\n",
        "for k in range(NUM_PARTS):\n",
        "    # READ PART OF TEST DATA\n",
        "    print(f'\\nReading test data...')\n",
        "    test_copy = test.iloc[skip_rows:skip_rows+rows[k]].copy()\n",
        "    test_copy = test_copy.set_index('customer_ID')\n",
        "    skip_rows += rows[k]\n",
        "    print(f'=> Test part {k+1} has shape', test_copy.shape )\n",
        "\n",
        "    test_copy[float_cols] = test_copy[float_cols].round(2)\n",
        "    test_copy.replace([-np.inf, np.inf], np.nan, inplace=True)\n",
        "    test_copy.fillna(-127, inplace=True)\n",
        "    \n",
        "    # PROCESS AND FEATURE ENGINEER PART OF TEST DATA\n",
        "    if k==NUM_PARTS-1: test_copy = test_copy.loc[customers[skip_cust:]]\n",
        "    else: test_copy = test_copy.loc[customers[skip_cust:skip_cust+num_cust]]\n",
        "    skip_cust += num_cust\n",
        "    \n",
        "    # TEST DATA FOR XGB\n",
        "    X_test = test_copy[FEATURES]\n",
        "    dtest = xgb.DMatrix(data=X_test)\n",
        "    test_copy = test_copy[['P_2_mean']] # reduce memory\n",
        "    del X_test\n",
        "    gc.collect()\n",
        "\n",
        "    # INFER XGB MODELS ON TEST DATA\n",
        "    model = xgb.Booster()\n",
        "    model.load_model(f'XGB_v{VER}_fold0.xgb')\n",
        "    preds = model.predict(dtest)\n",
        "    for f in range(1,FOLDS):\n",
        "        model.load_model(f'XGB_v{VER}_fold{f}.xgb')\n",
        "        preds += model.predict(dtest)\n",
        "    preds /= FOLDS\n",
        "    test_preds.append(preds)\n",
        "\n",
        "    # CLEAN MEMORY\n",
        "    del test_copy, dtest, model\n",
        "    _ = gc.collect()\n",
        "\n",
        "del test\n",
        "_ = gc.collect()"
      ]
    },
    {
      "cell_type": "code",
      "execution_count": 22,
      "id": "a9cdac27",
      "metadata": {
        "execution": {
          "iopub.execute_input": "2022-07-04T14:00:05.795436Z",
          "iopub.status.busy": "2022-07-04T14:00:05.795158Z",
          "iopub.status.idle": "2022-07-04T14:00:06.821793Z",
          "shell.execute_reply": "2022-07-04T14:00:06.820885Z"
        },
        "papermill": {
          "duration": 1.042409,
          "end_time": "2022-07-04T14:00:06.824706",
          "exception": false,
          "start_time": "2022-07-04T14:00:05.782297",
          "status": "completed"
        },
        "tags": [],
        "id": "a9cdac27",
        "colab": {
          "base_uri": "https://localhost:8080/",
          "height": 224
        },
        "outputId": "692e30a4-65bb-4c95-8dad-2fa5219f6ec2"
      },
      "outputs": [
        {
          "output_type": "stream",
          "name": "stdout",
          "text": [
            "Submission file shape is (924621, 2)\n"
          ]
        },
        {
          "output_type": "execute_result",
          "data": {
            "text/plain": [
              "                                         customer_ID  prediction\n",
              "0  00000469ba478561f23a92a868bd366de6f6527a684c9a...    0.025877\n",
              "1  00001bf2e77ff879fab36aa4fac689b9ba411dae63ae39...    0.000737\n",
              "2  0000210045da4f81e5f122c6bde5c2a617d03eef67f82c...    0.059260\n",
              "3  00003b41e58ede33b8daf61ab56d9952f17c9ad1c3976c...    0.253657\n",
              "4  00004b22eaeeeb0ec976890c1d9bfc14fd9427e98c4ee9...    0.899506"
            ],
            "text/html": [
              "\n",
              "  <div id=\"df-6fd6df17-b810-45bc-911d-162081ca2e42\">\n",
              "    <div class=\"colab-df-container\">\n",
              "      <div>\n",
              "<style scoped>\n",
              "    .dataframe tbody tr th:only-of-type {\n",
              "        vertical-align: middle;\n",
              "    }\n",
              "\n",
              "    .dataframe tbody tr th {\n",
              "        vertical-align: top;\n",
              "    }\n",
              "\n",
              "    .dataframe thead th {\n",
              "        text-align: right;\n",
              "    }\n",
              "</style>\n",
              "<table border=\"1\" class=\"dataframe\">\n",
              "  <thead>\n",
              "    <tr style=\"text-align: right;\">\n",
              "      <th></th>\n",
              "      <th>customer_ID</th>\n",
              "      <th>prediction</th>\n",
              "    </tr>\n",
              "  </thead>\n",
              "  <tbody>\n",
              "    <tr>\n",
              "      <th>0</th>\n",
              "      <td>00000469ba478561f23a92a868bd366de6f6527a684c9a...</td>\n",
              "      <td>0.025877</td>\n",
              "    </tr>\n",
              "    <tr>\n",
              "      <th>1</th>\n",
              "      <td>00001bf2e77ff879fab36aa4fac689b9ba411dae63ae39...</td>\n",
              "      <td>0.000737</td>\n",
              "    </tr>\n",
              "    <tr>\n",
              "      <th>2</th>\n",
              "      <td>0000210045da4f81e5f122c6bde5c2a617d03eef67f82c...</td>\n",
              "      <td>0.059260</td>\n",
              "    </tr>\n",
              "    <tr>\n",
              "      <th>3</th>\n",
              "      <td>00003b41e58ede33b8daf61ab56d9952f17c9ad1c3976c...</td>\n",
              "      <td>0.253657</td>\n",
              "    </tr>\n",
              "    <tr>\n",
              "      <th>4</th>\n",
              "      <td>00004b22eaeeeb0ec976890c1d9bfc14fd9427e98c4ee9...</td>\n",
              "      <td>0.899506</td>\n",
              "    </tr>\n",
              "  </tbody>\n",
              "</table>\n",
              "</div>\n",
              "      <button class=\"colab-df-convert\" onclick=\"convertToInteractive('df-6fd6df17-b810-45bc-911d-162081ca2e42')\"\n",
              "              title=\"Convert this dataframe to an interactive table.\"\n",
              "              style=\"display:none;\">\n",
              "        \n",
              "  <svg xmlns=\"http://www.w3.org/2000/svg\" height=\"24px\"viewBox=\"0 0 24 24\"\n",
              "       width=\"24px\">\n",
              "    <path d=\"M0 0h24v24H0V0z\" fill=\"none\"/>\n",
              "    <path d=\"M18.56 5.44l.94 2.06.94-2.06 2.06-.94-2.06-.94-.94-2.06-.94 2.06-2.06.94zm-11 1L8.5 8.5l.94-2.06 2.06-.94-2.06-.94L8.5 2.5l-.94 2.06-2.06.94zm10 10l.94 2.06.94-2.06 2.06-.94-2.06-.94-.94-2.06-.94 2.06-2.06.94z\"/><path d=\"M17.41 7.96l-1.37-1.37c-.4-.4-.92-.59-1.43-.59-.52 0-1.04.2-1.43.59L10.3 9.45l-7.72 7.72c-.78.78-.78 2.05 0 2.83L4 21.41c.39.39.9.59 1.41.59.51 0 1.02-.2 1.41-.59l7.78-7.78 2.81-2.81c.8-.78.8-2.07 0-2.86zM5.41 20L4 18.59l7.72-7.72 1.47 1.35L5.41 20z\"/>\n",
              "  </svg>\n",
              "      </button>\n",
              "      \n",
              "  <style>\n",
              "    .colab-df-container {\n",
              "      display:flex;\n",
              "      flex-wrap:wrap;\n",
              "      gap: 12px;\n",
              "    }\n",
              "\n",
              "    .colab-df-convert {\n",
              "      background-color: #E8F0FE;\n",
              "      border: none;\n",
              "      border-radius: 50%;\n",
              "      cursor: pointer;\n",
              "      display: none;\n",
              "      fill: #1967D2;\n",
              "      height: 32px;\n",
              "      padding: 0 0 0 0;\n",
              "      width: 32px;\n",
              "    }\n",
              "\n",
              "    .colab-df-convert:hover {\n",
              "      background-color: #E2EBFA;\n",
              "      box-shadow: 0px 1px 2px rgba(60, 64, 67, 0.3), 0px 1px 3px 1px rgba(60, 64, 67, 0.15);\n",
              "      fill: #174EA6;\n",
              "    }\n",
              "\n",
              "    [theme=dark] .colab-df-convert {\n",
              "      background-color: #3B4455;\n",
              "      fill: #D2E3FC;\n",
              "    }\n",
              "\n",
              "    [theme=dark] .colab-df-convert:hover {\n",
              "      background-color: #434B5C;\n",
              "      box-shadow: 0px 1px 3px 1px rgba(0, 0, 0, 0.15);\n",
              "      filter: drop-shadow(0px 1px 2px rgba(0, 0, 0, 0.3));\n",
              "      fill: #FFFFFF;\n",
              "    }\n",
              "  </style>\n",
              "\n",
              "      <script>\n",
              "        const buttonEl =\n",
              "          document.querySelector('#df-6fd6df17-b810-45bc-911d-162081ca2e42 button.colab-df-convert');\n",
              "        buttonEl.style.display =\n",
              "          google.colab.kernel.accessAllowed ? 'block' : 'none';\n",
              "\n",
              "        async function convertToInteractive(key) {\n",
              "          const element = document.querySelector('#df-6fd6df17-b810-45bc-911d-162081ca2e42');\n",
              "          const dataTable =\n",
              "            await google.colab.kernel.invokeFunction('convertToInteractive',\n",
              "                                                     [key], {});\n",
              "          if (!dataTable) return;\n",
              "\n",
              "          const docLinkHtml = 'Like what you see? Visit the ' +\n",
              "            '<a target=\"_blank\" href=https://colab.research.google.com/notebooks/data_table.ipynb>data table notebook</a>'\n",
              "            + ' to learn more about interactive tables.';\n",
              "          element.innerHTML = '';\n",
              "          dataTable['output_type'] = 'display_data';\n",
              "          await google.colab.output.renderOutput(dataTable, element);\n",
              "          const docLink = document.createElement('div');\n",
              "          docLink.innerHTML = docLinkHtml;\n",
              "          element.appendChild(docLink);\n",
              "        }\n",
              "      </script>\n",
              "    </div>\n",
              "  </div>\n",
              "  "
            ]
          },
          "metadata": {},
          "execution_count": 22
        }
      ],
      "source": [
        "# WRITE SUBMISSION FILE\n",
        "test = pd.DataFrame(index=customers,data={'prediction': np.concatenate(test_preds)})\n",
        "sub = pd.read_csv('/content/sample_submission.csv')[['customer_ID']]\n",
        "sub['customer_ID_hash'] = sub['customer_ID'].copy()\n",
        "sub = sub.set_index('customer_ID_hash')\n",
        "sub = sub.merge(test[['prediction']], left_index=True, right_index=True, how='left')\n",
        "sub = sub.reset_index(drop=True)\n",
        "\n",
        "# DISPLAY PREDICTIONS\n",
        "sub.to_csv(f'submission_xgb_v{VER}_seed{SEED}_fold{FOLDS}.csv',index=False)\n",
        "print('Submission file shape is', sub.shape )\n",
        "sub.head()"
      ]
    },
    {
      "cell_type": "code",
      "execution_count": 23,
      "id": "63453bcd",
      "metadata": {
        "execution": {
          "iopub.execute_input": "2022-07-04T14:00:06.852363Z",
          "iopub.status.busy": "2022-07-04T14:00:06.851721Z",
          "iopub.status.idle": "2022-07-04T14:00:07.547496Z",
          "shell.execute_reply": "2022-07-04T14:00:07.546749Z"
        },
        "papermill": {
          "duration": 0.710906,
          "end_time": "2022-07-04T14:00:07.549303",
          "exception": false,
          "start_time": "2022-07-04T14:00:06.838397",
          "status": "completed"
        },
        "tags": [],
        "id": "63453bcd",
        "colab": {
          "base_uri": "https://localhost:8080/",
          "height": 281
        },
        "outputId": "f9cb8bca-aa7a-49f4-a79c-d679393b4619"
      },
      "outputs": [
        {
          "output_type": "display_data",
          "data": {
            "text/plain": [
              "<Figure size 432x288 with 1 Axes>"
            ],
            "image/png": "[encoded data removed]"
          },
          "metadata": {
            "needs_background": "light"
          }
        }
      ],
      "source": [
        "# PLOT PREDICTIONS\n",
        "import matplotlib.pyplot as plt\n",
        "\n",
        "plt.hist(sub.prediction, bins=100)\n",
        "plt.title('Test Predictions')\n",
        "plt.show()"
      ]
    },
    {
      "cell_type": "markdown",
      "metadata": {
        "papermill": {
          "duration": 0.042841,
          "end_time": "2022-07-15T16:51:28.477165",
          "exception": false,
          "start_time": "2022-07-15T16:51:28.434324",
          "status": "completed"
        },
        "tags": [],
        "id": "802623f7"
      },
      "source": [
        "# Submit to Kaggle from Colab"
      ],
      "id": "802623f7"
    },
    {
      "cell_type": "code",
      "execution_count": 27,
      "metadata": {
        "execution": {
          "iopub.execute_input": "2022-07-15T16:51:28.552420Z",
          "iopub.status.busy": "2022-07-15T16:51:28.551829Z",
          "iopub.status.idle": "2022-07-15T16:51:28.557906Z",
          "shell.execute_reply": "2022-07-15T16:51:28.557166Z"
        },
        "papermill": {
          "duration": 0.048007,
          "end_time": "2022-07-15T16:51:28.561880",
          "exception": false,
          "start_time": "2022-07-15T16:51:28.513873",
          "status": "completed"
        },
        "tags": [],
        "id": "efc54970",
        "colab": {
          "base_uri": "https://localhost:8080/"
        },
        "outputId": "46d6ef81-5f99-464d-aadc-8587a989c563"
      },
      "outputs": [
        {
          "output_type": "stream",
          "name": "stdout",
          "text": [
            "100% 67.6M/67.6M [00:10<00:00, 6.47MB/s]\n",
            "Successfully submitted to American Express - Default Prediction"
          ]
        }
      ],
      "source": [
        "# Submit\n",
        "!kaggle competitions submit -c amex-default-prediction -f submission_xgb_v1_seed42_fold5.csv -m \"From colab seed 42 fold 5 lag plus\""
      ],
      "id": "efc54970"
    },
    {
      "cell_type": "code",
      "execution_count": 28,
      "metadata": {
        "execution": {
          "iopub.execute_input": "2022-07-15T16:51:28.636400Z",
          "iopub.status.busy": "2022-07-15T16:51:28.635706Z",
          "iopub.status.idle": "2022-07-15T16:51:28.643060Z",
          "shell.execute_reply": "2022-07-15T16:51:28.640501Z"
        },
        "papermill": {
          "duration": 0.04911,
          "end_time": "2022-07-15T16:51:28.647823",
          "exception": false,
          "start_time": "2022-07-15T16:51:28.598713",
          "status": "completed"
        },
        "tags": [],
        "id": "aad5cc1a",
        "colab": {
          "base_uri": "https://localhost:8080/"
        },
        "outputId": "cebd1338-3b32-49f5-9422-b1e33df44b93"
      },
      "outputs": [
        {
          "output_type": "stream",
          "name": "stdout",
          "text": [
            "fileName                            date                 description                                               status    publicScore  privateScore  \n",
            "----------------------------------  -------------------  --------------------------------------------------------  --------  -----------  ------------  \n",
            "submission_xgb_v1_seed42_fold5.csv  2022-07-23 10:58:31  From colab seed 42 fold 5 lag plus                        complete  0.795                      \n",
            "submission_cat_v1_seed42_fold5.csv  2022-07-23 09:53:21  From colab seed 42 fold 5 lag plus                        complete  0.796                      \n",
            "Amex Default Prediction - Ensemble  2022-07-22 12:32:58  Notebook Amex Default Prediction - Ensemble | Version 12  complete  0.798                      \n",
            "Amex Default Prediction - Ensemble  2022-07-22 12:30:01  Notebook Amex Default Prediction - Ensemble | Version 11  complete  0.798                      \n",
            "submission_xgb_v1_seed42_fold2.csv  2022-07-22 12:19:29  From colab seed 42 fold 5 lag plus                        complete  0.794                      \n",
            "Amex Default Prediction - Ensemble  2022-07-21 12:48:16  Notebook Amex Default Prediction - Ensemble | Version 9   complete  0.798                      \n",
            "submission_xgb_v1_seed42_fold5.csv  2022-07-21 12:36:23  From colab seed 42 fold 5 lag plus                        complete  0.794                      \n",
            "Amex Default Prediction - Ensemble  2022-07-20 17:29:34  Notebook Amex Default Prediction - Ensemble | Version 8   complete  0.798                      \n",
            "Amex Default Prediction - Ensemble  2022-07-20 17:13:37  Notebook Amex Default Prediction - Ensemble | Version 7   complete  0.798                      \n",
            "Amex Default Prediction - Ensemble  2022-07-20 17:10:16  Notebook Amex Default Prediction - Ensemble | Version 6   complete  0.798                      \n",
            "Amex Default Prediction - Ensemble  2022-07-20 17:08:15  Notebook Amex Default Prediction - Ensemble | Version 5   complete  0.798                      \n",
            "submission_xgb_v1_seed42_fold5.csv  2022-07-20 16:58:31  From colab seed 42 fold 5 lag plus                        complete  0.794                      \n",
            "submission_cat_v1_seed42_fold5.csv  2022-07-19 17:31:52  From colab seed 42 fold 5 lag plus                        complete  0.795                      \n",
            "Amex Default Prediction - Ensemble  2022-07-19 16:37:40  Notebook Amex Default Prediction - Ensemble | Version 4   complete  0.798                      \n",
            "Amex Default Prediction - Ensemble  2022-07-19 16:34:17  Notebook Amex Default Prediction - Ensemble | Version 2   complete  0.798                      \n",
            "submission_cat_v1_seed42_fold5.csv  2022-07-19 12:11:59  From colab seed 42 fold 5 lag plus                        complete  0.795                      \n",
            "Amex Default Prediction with Cat    2022-07-18 23:01:33  Notebook Amex Default Prediction with Cat | Version 129   complete  0.798                      \n",
            "Amex Default Prediction with Cat    2022-07-18 22:58:51  Notebook Amex Default Prediction with Cat | Version 128   complete  0.798                      \n",
            "submission_cat_v1_seed42_fold5.csv  2022-07-18 22:27:50  From colab seed 42 fold 5 lag plus                        complete  0.795                      \n",
            "submission_lgb_v1_seed42_fold5.csv  2022-07-18 20:37:22  the first version. fe lag plus seed 52 fold 5 From colab  complete  0.797                      \n",
            "submission_cat_v1.csv               2022-07-18 06:30:57  From colab seed 42 fold 5 lag plus                        complete  0.795                      \n",
            "Amex Default Prediction with Cat    2022-07-16 16:14:20  Notebook Amex Default Prediction with Cat | Version 125   complete  0.794                      \n",
            "Amex Default Prediction with Cat    2022-07-15 16:33:32  Notebook Amex Default Prediction with Cat | Version 127   complete  0.798                      \n",
            "Amex Default Prediction with Cat    2022-07-15 16:24:25  Notebook Amex Default Prediction with Cat | Version 126   complete  0.798                      \n",
            "submission_cat_v123_seed52_794.csv  2022-07-15 16:12:09                                                            complete  0.795                      \n",
            "submission_cat_v123_0794.csv        2022-07-15 15:47:08                                                            complete  0.795                      \n",
            "Amex Default Prediction with Cat    2022-07-15 13:53:07  Notebook Amex Default Prediction with Cat | Version 123   complete  0.798                      \n",
            "Amex Default Prediction with Cat    2022-07-12 10:17:49  Notebook Amex Default Prediction with Cat | Version 122   complete  0.794                      \n",
            "Amex Default Prediction with Cat    2022-07-11 16:41:48  Notebook Amex Default Prediction with Cat | Version 119   complete  0.794                      \n",
            "Amex Default Prediction with Cat    2022-07-11 13:00:10  Notebook Amex Default Prediction with Cat | Version 116   complete  0.794                      \n",
            "Amex Default Prediction with Cat    2022-07-10 12:29:19  Notebook Amex Default Prediction with Cat | Version 115   complete  0.798                      \n",
            "Amex Default Prediction with Cat    2022-07-10 12:26:36  Notebook Amex Default Prediction with Cat | Version 114   complete  0.797                      \n",
            "Amex Default Prediction with Cat    2022-07-10 07:38:14  Notebook Amex Default Prediction with Cat | Version 109   complete  0.798                      \n",
            "Amex Default Prediction with Cat    2022-07-10 07:34:41  Notebook Amex Default Prediction with Cat | Version 108   complete  0.798                      \n",
            "Amex Default Prediction with Cat    2022-07-10 07:31:41  Notebook Amex Default Prediction with Cat | Version 107   complete  0.798                      \n",
            "Amex Default Prediction with Cat    2022-07-07 16:06:53  Notebook Amex Default Prediction with Cat | Version 106   complete  0.798                      \n",
            "Amex Default Prediction with Cat    2022-07-07 16:01:41  Notebook Amex Default Prediction with Cat | Version 105   complete  0.797                      \n",
            "Amex Default Prediction with Cat    2022-07-07 15:55:53  Notebook Amex Default Prediction with Cat | Version 104   complete  0.798                      \n",
            "Amex Default Prediction with Cat    2022-07-07 15:52:16  Notebook Amex Default Prediction with Cat | Version 103   complete  0.797                      \n",
            "Amex Default Prediction with Cat    2022-07-05 15:48:47  Notebook Amex Default Prediction with Cat | Version 102   complete  0.797                      \n",
            "Amex Default Prediction with Cat    2022-07-05 15:46:36  Notebook Amex Default Prediction with Cat | Version 101   complete  0.797                      \n",
            "Amex Default Prediction with Cat    2022-07-05 15:37:48  Notebook Amex Default Prediction with Cat | Version 100   complete  0.797                      \n",
            "Amex Default Prediction with Cat    2022-07-05 15:33:29  Notebook Amex Default Prediction with Cat | Version 99    complete  0.797                      \n",
            "Amex Default Prediction with Cat    2022-07-05 15:29:38  Notebook Amex Default Prediction with Cat | Version 98    complete  0.797                      \n",
            "Amex Default Prediction with Cat    2022-07-04 16:21:46  Notebook Amex Default Prediction with Cat | Version 97    complete  0.797                      \n",
            "Amex Default Prediction with Cat    2022-07-04 16:09:39  Notebook Amex Default Prediction with Cat | Version 95    complete  0.797                      \n",
            "Amex Default Prediction with Cat    2022-07-04 14:45:39  Notebook Amex Default Prediction with Cat | Version 93    complete  0.797                      \n",
            "Amex Default Prediction - XGBoost   2022-07-04 14:01:00  Notebook Amex Default Prediction - XGBoost | Version 25   complete  0.793                      \n",
            "Amex Default Prediction - XGBoost   2022-07-04 13:34:15  Notebook Amex Default Prediction - XGBoost | Version 24   complete  0.794                      \n",
            "Amex Default Prediction with Cat    2022-07-03 11:56:30  Notebook Amex Default Prediction with Cat | Version 86    complete  0.797                      \n"
          ]
        }
      ],
      "source": [
        "# Run after few seconds\n",
        "!kaggle competitions submissions amex-default-prediction"
      ],
      "id": "aad5cc1a"
    }
  ],
  "metadata": {
    "kernelspec": {
      "display_name": "Python 3",
      "language": "python",
      "name": "python3"
    },
    "language_info": {
      "codemirror_mode": {
        "name": "ipython",
        "version": 3
      },
      "file_extension": ".py",
      "mimetype": "text/x-python",
      "name": "python",
      "nbconvert_exporter": "python",
      "pygments_lexer": "ipython3",
      "version": "3.7.12"
    },
    "papermill": {
      "default_parameters": {},
      "duration": 1350.063162,
      "end_time": "2022-07-04T14:00:08.785368",
      "environment_variables": {},
      "exception": null,
      "input_path": "__notebook__.ipynb",
      "output_path": "__notebook__.ipynb",
      "parameters": {},
      "start_time": "2022-07-04T13:37:38.722206",
      "version": "2.3.4"
    },
    "colab": {
      "name": "amex-default-prediction-xgb.ipynb",
      "provenance": [],
      "machine_shape": "hm"
    },
    "gpuClass": "standard",
    "accelerator": "GPU"
  },
  "nbformat": 4,
  "nbformat_minor": 5
}
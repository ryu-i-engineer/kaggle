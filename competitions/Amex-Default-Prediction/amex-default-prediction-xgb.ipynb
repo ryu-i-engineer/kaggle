{
  "cells": [
    {
      "cell_type": "markdown",
      "metadata": {
        "papermill": {
          "duration": 0.009252,
          "end_time": "2022-07-15T16:13:27.338460",
          "exception": false,
          "start_time": "2022-07-15T16:13:27.329208",
          "status": "completed"
        },
        "tags": [],
        "id": "ec8911a0"
      },
      "source": [
        "# Prepare for colab"
      ],
      "id": "ec8911a0"
    },
    {
      "cell_type": "code",
      "execution_count": null,
      "metadata": {
        "execution": {
          "iopub.execute_input": "2022-07-15T16:13:27.400098Z",
          "iopub.status.busy": "2022-07-15T16:13:27.399391Z",
          "iopub.status.idle": "2022-07-15T16:13:27.403356Z",
          "shell.execute_reply": "2022-07-15T16:13:27.402606Z"
        },
        "papermill": {
          "duration": 0.015568,
          "end_time": "2022-07-15T16:13:27.405067",
          "exception": false,
          "start_time": "2022-07-15T16:13:27.389499",
          "status": "completed"
        },
        "tags": [],
        "id": "bad112fb",
        "colab": {
          "base_uri": "https://localhost:8080/"
        },
        "outputId": "d90ca7ac-aa69-42bb-c4fc-8ff6d3bb187d"
      },
      "outputs": [
        {
          "output_type": "stream",
          "name": "stdout",
          "text": [
            "Looking in indexes: https://pypi.org/simple, https://us-python.pkg.dev/colab-wheels/public/simple/\n",
            "Requirement already satisfied: xgboost in /usr/local/lib/python3.7/dist-packages (0.90)\n",
            "Collecting xgboost\n",
            "  Downloading xgboost-1.6.1-py3-none-manylinux2014_x86_64.whl (192.9 MB)\n",
            "\u001b[K     |████████████████████████████████| 192.9 MB 52 kB/s \n",
            "\u001b[?25hRequirement already satisfied: scipy in /usr/local/lib/python3.7/dist-packages (from xgboost) (1.7.3)\n",
            "Requirement already satisfied: numpy in /usr/local/lib/python3.7/dist-packages (from xgboost) (1.21.6)\n",
            "Installing collected packages: xgboost\n",
            "  Attempting uninstall: xgboost\n",
            "    Found existing installation: xgboost 0.90\n",
            "    Uninstalling xgboost-0.90:\n",
            "      Successfully uninstalled xgboost-0.90\n",
            "Successfully installed xgboost-1.6.1\n",
            "Looking in indexes: https://pypi.org/simple, https://us-python.pkg.dev/colab-wheels/public/simple/\n",
            "Requirement already satisfied: kaggle in /usr/local/lib/python3.7/dist-packages (1.5.12)\n",
            "Requirement already satisfied: requests in /usr/local/lib/python3.7/dist-packages (from kaggle) (2.23.0)\n",
            "Requirement already satisfied: python-dateutil in /usr/local/lib/python3.7/dist-packages (from kaggle) (2.8.2)\n",
            "Requirement already satisfied: certifi in /usr/local/lib/python3.7/dist-packages (from kaggle) (2022.6.15)\n",
            "Requirement already satisfied: six>=1.10 in /usr/local/lib/python3.7/dist-packages (from kaggle) (1.15.0)\n",
            "Requirement already satisfied: python-slugify in /usr/local/lib/python3.7/dist-packages (from kaggle) (6.1.2)\n",
            "Requirement already satisfied: urllib3 in /usr/local/lib/python3.7/dist-packages (from kaggle) (1.24.3)\n",
            "Requirement already satisfied: tqdm in /usr/local/lib/python3.7/dist-packages (from kaggle) (4.64.0)\n",
            "Requirement already satisfied: text-unidecode>=1.3 in /usr/local/lib/python3.7/dist-packages (from python-slugify->kaggle) (1.3)\n",
            "Requirement already satisfied: idna<3,>=2.5 in /usr/local/lib/python3.7/dist-packages (from requests->kaggle) (2.10)\n",
            "Requirement already satisfied: chardet<4,>=3.0.2 in /usr/local/lib/python3.7/dist-packages (from requests->kaggle) (3.0.4)\n"
          ]
        }
      ],
      "source": [
        "!pip install xgboost -U\n",
        "!pip install kaggle"
      ],
      "id": "bad112fb"
    },
    {
      "cell_type": "markdown",
      "metadata": {
        "papermill": {
          "duration": 0.008806,
          "end_time": "2022-07-15T16:13:27.422550",
          "exception": false,
          "start_time": "2022-07-15T16:13:27.413744",
          "status": "completed"
        },
        "tags": [],
        "id": "3fa90515"
      },
      "source": [
        "## Upload API Token"
      ],
      "id": "3fa90515"
    },
    {
      "cell_type": "code",
      "execution_count": null,
      "metadata": {
        "execution": {
          "iopub.execute_input": "2022-07-15T16:13:27.442237Z",
          "iopub.status.busy": "2022-07-15T16:13:27.441555Z",
          "iopub.status.idle": "2022-07-15T16:13:27.448196Z",
          "shell.execute_reply": "2022-07-15T16:13:27.447549Z"
        },
        "papermill": {
          "duration": 0.01814,
          "end_time": "2022-07-15T16:13:27.449796",
          "exception": false,
          "start_time": "2022-07-15T16:13:27.431656",
          "status": "completed"
        },
        "tags": [],
        "id": "54e44e29",
        "colab": {
          "base_uri": "https://localhost:8080/"
        },
        "outputId": "2542045c-57c6-4003-bcd1-bbad6bcf3848"
      },
      "outputs": [
        {
          "output_type": "stream",
          "name": "stdout",
          "text": [
            "Mounted at /content/drive\n"
          ]
        }
      ],
      "source": [
        "from google.colab import drive\n",
        "drive.mount('/content/drive')\n",
        "\n",
        "# Then move kaggle.json into the folder where the API expects to find it.\n",
        "!mkdir -p ~/.kaggle/ && cp /content/drive/MyDrive/backups/kaggle.json ~/.kaggle/ && chmod 600 ~/.kaggle/kaggle.json"
      ],
      "id": "54e44e29"
    },
    {
      "cell_type": "markdown",
      "metadata": {
        "papermill": {
          "duration": 0.008512,
          "end_time": "2022-07-15T16:13:27.467327",
          "exception": false,
          "start_time": "2022-07-15T16:13:27.458815",
          "status": "completed"
        },
        "tags": [],
        "id": "1abbc588"
      },
      "source": [
        "## Download and unzip dataset"
      ],
      "id": "1abbc588"
    },
    {
      "cell_type": "code",
      "execution_count": null,
      "metadata": {
        "execution": {
          "iopub.execute_input": "2022-07-15T16:13:27.486038Z",
          "iopub.status.busy": "2022-07-15T16:13:27.485615Z",
          "iopub.status.idle": "2022-07-15T16:13:27.490276Z",
          "shell.execute_reply": "2022-07-15T16:13:27.489580Z"
        },
        "papermill": {
          "duration": 0.016071,
          "end_time": "2022-07-15T16:13:27.491993",
          "exception": false,
          "start_time": "2022-07-15T16:13:27.475922",
          "status": "completed"
        },
        "tags": [],
        "id": "c17f8dd7",
        "colab": {
          "base_uri": "https://localhost:8080/"
        },
        "outputId": "3b8cfa3b-3c43-4eac-832b-23783479d23c"
      },
      "outputs": [
        {
          "output_type": "stream",
          "name": "stdout",
          "text": [
            "Downloading amex-fe-plus.zip to /content\n",
            "100% 3.84G/3.85G [01:49<00:00, 43.8MB/s]\n",
            "100% 3.85G/3.85G [01:49<00:00, 37.8MB/s]\n",
            "Archive:  /content/amex-fe-plus.zip\n",
            "  inflating: test_fe_plus_plus.parquet  \n",
            "  inflating: train_fe_plus_plus.parquet  \n"
          ]
        }
      ],
      "source": [
        "!kaggle datasets download -d ryuina/amex-fe-plus\n",
        "!unzip /content/amex-fe-plus.zip"
      ],
      "id": "c17f8dd7"
    },
    {
      "cell_type": "code",
      "execution_count": null,
      "metadata": {
        "execution": {
          "iopub.execute_input": "2022-07-15T16:13:27.515341Z",
          "iopub.status.busy": "2022-07-15T16:13:27.514880Z",
          "iopub.status.idle": "2022-07-15T16:13:27.523654Z",
          "shell.execute_reply": "2022-07-15T16:13:27.522700Z"
        },
        "papermill": {
          "duration": 0.025128,
          "end_time": "2022-07-15T16:13:27.526436",
          "exception": false,
          "start_time": "2022-07-15T16:13:27.501308",
          "status": "completed"
        },
        "tags": [],
        "id": "e4df1701",
        "colab": {
          "base_uri": "https://localhost:8080/"
        },
        "outputId": "ff6ced0e-8287-4c81-927a-c6d8206b5e52"
      },
      "outputs": [
        {
          "output_type": "stream",
          "name": "stdout",
          "text": [
            "Downloading sample_submission.csv.zip to /content\n",
            " 28% 9.00M/32.4M [00:01<00:04, 5.01MB/s]\n",
            "100% 32.4M/32.4M [00:01<00:00, 19.4MB/s]\n",
            "Archive:  /content/sample_submission.csv.zip\n",
            "  inflating: sample_submission.csv   \n"
          ]
        }
      ],
      "source": [
        "!kaggle competitions download -c amex-default-prediction -f sample_submission.csv\n",
        "!unzip /content/sample_submission.csv.zip"
      ],
      "id": "e4df1701"
    },
    {
      "cell_type": "code",
      "source": [
        "!kaggle competitions download -c amex-default-prediction -f train_labels.csv\n",
        "!unzip /content/train_labels.csv.zip"
      ],
      "metadata": {
        "colab": {
          "base_uri": "https://localhost:8080/"
        },
        "id": "AVz5ZOwL-mic",
        "outputId": "176e336d-2dfc-4bd0-d143-93c1c968acd4"
      },
      "id": "AVz5ZOwL-mic",
      "execution_count": null,
      "outputs": [
        {
          "output_type": "stream",
          "name": "stdout",
          "text": [
            "Downloading train_labels.csv.zip to /content\n",
            " 31% 5.00M/16.2M [00:01<00:03, 3.55MB/s]\n",
            "100% 16.2M/16.2M [00:01<00:00, 11.2MB/s]\n",
            "Archive:  /content/train_labels.csv.zip\n",
            "  inflating: train_labels.csv        \n"
          ]
        }
      ]
    },
    {
      "cell_type": "markdown",
      "source": [
        "# Training"
      ],
      "metadata": {
        "id": "Sc_uUzZtcYfw"
      },
      "id": "Sc_uUzZtcYfw"
    },
    {
      "cell_type": "code",
      "execution_count": null,
      "id": "75a923db",
      "metadata": {
        "_cell_guid": "b1076dfc-b9ad-4769-8c92-a6c4dae69d19",
        "_uuid": "8f2839f25d086af736a60e9eeb907d3b93b6e0e5",
        "execution": {
          "iopub.execute_input": "2022-07-04T13:37:46.871349Z",
          "iopub.status.busy": "2022-07-04T13:37:46.870600Z",
          "iopub.status.idle": "2022-07-04T13:37:50.917325Z",
          "shell.execute_reply": "2022-07-04T13:37:50.916525Z"
        },
        "papermill": {
          "duration": 4.059938,
          "end_time": "2022-07-04T13:37:50.919741",
          "exception": false,
          "start_time": "2022-07-04T13:37:46.859803",
          "status": "completed"
        },
        "tags": [],
        "id": "75a923db"
      },
      "outputs": [],
      "source": [
        "import pandas as pd\n",
        "import numpy as np\n",
        "import random\n",
        "import matplotlib.pyplot\n",
        "import os\n",
        "import gc; gc.enable()\n",
        "\n",
        "from sklearn.preprocessing import LabelEncoder\n",
        "from tqdm import tqdm\n",
        "\n",
        "import warnings\n",
        "warnings.filterwarnings('ignore')"
      ]
    },
    {
      "cell_type": "code",
      "execution_count": null,
      "id": "b06e1731",
      "metadata": {
        "execution": {
          "iopub.execute_input": "2022-07-04T13:37:50.930838Z",
          "iopub.status.busy": "2022-07-04T13:37:50.930542Z",
          "iopub.status.idle": "2022-07-04T13:37:50.934301Z",
          "shell.execute_reply": "2022-07-04T13:37:50.933487Z"
        },
        "papermill": {
          "duration": 0.011323,
          "end_time": "2022-07-04T13:37:50.936212",
          "exception": false,
          "start_time": "2022-07-04T13:37:50.924889",
          "status": "completed"
        },
        "tags": [],
        "id": "b06e1731"
      },
      "outputs": [],
      "source": [
        "VER=6\n",
        "SEED = 42\n",
        "FOLDS = 5\n",
        "\n",
        "cat_features = [\"B_30\", \"B_38\", \"D_114\", \"D_116\", \"D_117\", \"D_120\", \"D_126\", \"D_63\", \"D_64\", \"D_66\", \"D_68\"]\n",
        "\n",
        "def seed_everything(seed):\n",
        "    random.seed(seed)\n",
        "    np.random.seed(seed)\n",
        "    os.environ['PYTHONHASHSEED'] = str(seed)\n",
        "\n",
        "seed_everything(SEED)"
      ]
    },
    {
      "cell_type": "code",
      "execution_count": null,
      "id": "d8f2573f",
      "metadata": {
        "execution": {
          "iopub.execute_input": "2022-07-04T13:37:50.966158Z",
          "iopub.status.busy": "2022-07-04T13:37:50.965558Z",
          "iopub.status.idle": "2022-07-04T13:38:12.628753Z",
          "shell.execute_reply": "2022-07-04T13:38:12.627666Z"
        },
        "papermill": {
          "duration": 21.671053,
          "end_time": "2022-07-04T13:38:12.631246",
          "exception": false,
          "start_time": "2022-07-04T13:37:50.960193",
          "status": "completed"
        },
        "tags": [],
        "id": "d8f2573f"
      },
      "outputs": [],
      "source": [
        "train = pd.read_parquet(\"/content/train_fe_plus_plus.parquet\")\n",
        "# train = train.reset_index(level=0)"
      ]
    },
    {
      "cell_type": "code",
      "execution_count": null,
      "id": "64d772da",
      "metadata": {
        "execution": {
          "iopub.execute_input": "2022-07-04T13:38:12.881106Z",
          "iopub.status.busy": "2022-07-04T13:38:12.880449Z",
          "iopub.status.idle": "2022-07-04T13:38:12.888042Z",
          "shell.execute_reply": "2022-07-04T13:38:12.887178Z"
        },
        "papermill": {
          "duration": 0.01539,
          "end_time": "2022-07-04T13:38:12.889725",
          "exception": false,
          "start_time": "2022-07-04T13:38:12.874335",
          "status": "completed"
        },
        "tags": [],
        "id": "64d772da",
        "outputId": "597e1822-c3aa-468f-dcd3-2e63298e37e3",
        "colab": {
          "base_uri": "https://localhost:8080/"
        }
      },
      "outputs": [
        {
          "output_type": "stream",
          "name": "stderr",
          "text": [
            "100%|██████████| 1461/1461 [01:54<00:00, 12.81it/s] \n"
          ]
        }
      ],
      "source": [
        "# https://www.kaggle.com/code/ragnar123/amex-lgbm-dart-cv-0-7963\n",
        "# Round last float features to 2 decimal place\n",
        "float_cols = list(train.dtypes[(train.dtypes == 'float32') | (train.dtypes == 'float64')].index)\n",
        "float_cols = [col for col in float_cols if 'last' in col]\n",
        "\n",
        "for col in float_cols:\n",
        "    train[col + '_round2'] = train[col].round(2)\n",
        "\n",
        "num_cols = [col for col in train.columns if 'last' in col]\n",
        "num_cols = [col[:-5] for col in num_cols if 'round' not in col]\n",
        "for col in num_cols:\n",
        "    try:\n",
        "        train[f'{col}_last_mean'] = train[f'{col}_last'] - train[f'{col}_mean']\n",
        "        train[f'{col}_last_min'] = train[f'{col}_last'] - train[f'{col}_min']\n",
        "        train[f'{col}_last_max'] = train[f'{col}_last'] - train[f'{col}_max']\n",
        "        train[f'{col}_first-last_s2'] = (train[f'{col}_last_sub'] / train['S_2_lag']).round(2)\n",
        "    except: pass\n",
        "num_cols = list(train.dtypes[(train.dtypes == 'float32') | (train.dtypes == 'float64')].index)\n",
        "for col in tqdm(num_cols):\n",
        "    train[col] = train[col].astype(np.float16)\n",
        "\n",
        "train.replace([np.nan, np.inf, -np.inf], -127, inplace=True)"
      ]
    },
    {
      "cell_type": "code",
      "execution_count": null,
      "id": "e9e4628c",
      "metadata": {
        "execution": {
          "iopub.execute_input": "2022-07-04T13:38:12.901239Z",
          "iopub.status.busy": "2022-07-04T13:38:12.900951Z",
          "iopub.status.idle": "2022-07-04T13:38:14.055784Z",
          "shell.execute_reply": "2022-07-04T13:38:14.054043Z"
        },
        "papermill": {
          "duration": 1.163442,
          "end_time": "2022-07-04T13:38:14.058383",
          "exception": false,
          "start_time": "2022-07-04T13:38:12.894941",
          "status": "completed"
        },
        "tags": [],
        "id": "e9e4628c"
      },
      "outputs": [],
      "source": [
        "train = train.set_index('customer_ID')\n",
        "train = train.sort_index().reset_index()\n",
        "FEATURES = train.drop(columns=['customer_ID', 'target']).columns"
      ]
    },
    {
      "cell_type": "code",
      "execution_count": null,
      "id": "d98b705b",
      "metadata": {
        "execution": {
          "iopub.execute_input": "2022-07-04T13:38:15.369855Z",
          "iopub.status.busy": "2022-07-04T13:38:15.369570Z",
          "iopub.status.idle": "2022-07-04T13:38:15.468113Z",
          "shell.execute_reply": "2022-07-04T13:38:15.466877Z"
        },
        "papermill": {
          "duration": 0.106496,
          "end_time": "2022-07-04T13:38:15.469835",
          "exception": false,
          "start_time": "2022-07-04T13:38:15.363339",
          "status": "completed"
        },
        "tags": [],
        "id": "d98b705b",
        "colab": {
          "base_uri": "https://localhost:8080/"
        },
        "outputId": "4fcc5a23-4750-425d-ca1b-0bd7a4aa7796"
      },
      "outputs": [
        {
          "output_type": "stream",
          "name": "stdout",
          "text": [
            "XGB Version 1.6.1\n"
          ]
        }
      ],
      "source": [
        "# LOAD XGB LIBRARY\n",
        "from sklearn.model_selection import KFold\n",
        "import xgboost as xgb\n",
        "print('XGB Version',xgb.__version__)\n",
        "\n",
        "# XGB MODEL PARAMETERS\n",
        "xgb_parms = {\n",
        "    'max_depth':7,\n",
        "    'eta':0.01,\n",
        "    'subsample':0.75,\n",
        "    'colsample_bytree':0.35,\n",
        "    'min_child_weight':8,\n",
        "    # 'booster': 'dart',\n",
        "#     'max_delta_step': 16,\n",
        "    'eval_metric':['logloss', 'auc'],\n",
        "    'gamma':1.5,\n",
        "    'lambda':70,\n",
        "#     'reg_alpha':2,\n",
        "#     'reg_lambda':2,\n",
        "#     'scale_pos_weight':2.5,\n",
        "#     'eval_metric':'logloss',\n",
        "    'objective':'binary:logistic',\n",
        "    'tree_method':'gpu_hist',\n",
        "    'predictor':'gpu_predictor',\n",
        "    'random_state':SEED\n",
        "}"
      ]
    },
    {
      "cell_type": "code",
      "execution_count": null,
      "id": "89f2c8a7",
      "metadata": {
        "execution": {
          "iopub.execute_input": "2022-07-04T13:38:15.503475Z",
          "iopub.status.busy": "2022-07-04T13:38:15.503227Z",
          "iopub.status.idle": "2022-07-04T13:38:15.511646Z",
          "shell.execute_reply": "2022-07-04T13:38:15.510996Z"
        },
        "papermill": {
          "duration": 0.01593,
          "end_time": "2022-07-04T13:38:15.513211",
          "exception": false,
          "start_time": "2022-07-04T13:38:15.497281",
          "status": "completed"
        },
        "tags": [],
        "id": "89f2c8a7"
      },
      "outputs": [],
      "source": [
        "# https://www.kaggle.com/competitions/amex-default-prediction/discussion/328020\n",
        "import numpy as np\n",
        "\n",
        "def amex_metric_numpy(y_true: np.array, y_pred: np.array) -> float:\n",
        "\n",
        "    # count of positives and negatives\n",
        "    n_pos = y_true.sum()\n",
        "    n_neg = y_true.shape[0] - n_pos\n",
        "\n",
        "    # sorting by descring prediction values\n",
        "    indices = np.argsort(y_pred)[::-1]\n",
        "    preds, target = y_pred[indices], y_true[indices]\n",
        "\n",
        "    # filter the top 4% by cumulative row weights\n",
        "    weight = 20.0 - target * 19.0\n",
        "    cum_norm_weight = (weight / weight.sum()).cumsum()\n",
        "    four_pct_filter = cum_norm_weight <= 0.04\n",
        "\n",
        "    # default rate captured at 4%\n",
        "    d = target[four_pct_filter].sum() / n_pos\n",
        "\n",
        "    # weighted gini coefficient\n",
        "    lorentz = (target / n_pos).cumsum()\n",
        "    gini = ((lorentz - cum_norm_weight) * weight).sum()\n",
        "\n",
        "    # max weighted gini coefficient\n",
        "    gini_max = 10 * n_neg * (1 - 19 / (n_pos + 20 * n_neg))\n",
        "\n",
        "    # normalized weighted gini coefficient\n",
        "    g = gini / gini_max\n",
        "\n",
        "    return 0.5 * (g + d)\n",
        "\n",
        "def xgb_amex(y_pred, y_true):\n",
        "    return 'amex', amex_metric_numpy(y_true.get_label(), y_pred)"
      ]
    },
    {
      "cell_type": "code",
      "execution_count": null,
      "id": "1b3c3440",
      "metadata": {
        "execution": {
          "iopub.execute_input": "2022-07-04T13:38:15.524655Z",
          "iopub.status.busy": "2022-07-04T13:38:15.524403Z",
          "iopub.status.idle": "2022-07-04T13:57:20.743694Z",
          "shell.execute_reply": "2022-07-04T13:57:20.742632Z"
        },
        "papermill": {
          "duration": 1145.227069,
          "end_time": "2022-07-04T13:57:20.745545",
          "exception": false,
          "start_time": "2022-07-04T13:38:15.518476",
          "status": "completed"
        },
        "tags": [],
        "id": "1b3c3440",
        "colab": {
          "base_uri": "https://localhost:8080/"
        },
        "outputId": "7fa6a7a3-6cb3-4d33-a15e-07e9b3ca4f16"
      },
      "outputs": [
        {
          "output_type": "stream",
          "name": "stdout",
          "text": [
            "#########################\n",
            "### Fold 1\n",
            "### Train size 367130 Valid size 91783\n",
            "#########################\n",
            "[0]\ttrain-logloss:0.68663\ttrain-auc:0.93504\ttrain-amex:0.70557\teval-logloss:0.68666\teval-auc:0.93243\teval-amex:0.69876\n",
            "[200]\ttrain-logloss:0.27501\ttrain-auc:0.95657\ttrain-amex:0.77250\teval-logloss:0.27899\teval-auc:0.95345\teval-amex:0.76397\n",
            "[400]\ttrain-logloss:0.22874\ttrain-auc:0.96032\ttrain-amex:0.78756\teval-logloss:0.23588\teval-auc:0.95649\teval-amex:0.77464\n",
            "[600]\ttrain-logloss:0.21691\ttrain-auc:0.96284\ttrain-amex:0.79831\teval-logloss:0.22701\teval-auc:0.95820\teval-amex:0.78119\n",
            "[800]\ttrain-logloss:0.21039\ttrain-auc:0.96481\ttrain-amex:0.80756\teval-logloss:0.22340\teval-auc:0.95929\teval-amex:0.78511\n",
            "[1000]\ttrain-logloss:0.20571\ttrain-auc:0.96634\ttrain-amex:0.81465\teval-logloss:0.22141\teval-auc:0.95996\teval-amex:0.78794\n",
            "[1200]\ttrain-logloss:0.20187\ttrain-auc:0.96764\ttrain-amex:0.82072\teval-logloss:0.22012\teval-auc:0.96040\teval-amex:0.78963\n",
            "[1400]\ttrain-logloss:0.19844\ttrain-auc:0.96881\ttrain-amex:0.82616\teval-logloss:0.21922\teval-auc:0.96072\teval-amex:0.79057\n",
            "[1600]\ttrain-logloss:0.19530\ttrain-auc:0.96988\ttrain-amex:0.83146\teval-logloss:0.21855\teval-auc:0.96095\teval-amex:0.79174\n",
            "[1800]\ttrain-logloss:0.19245\ttrain-auc:0.97086\ttrain-amex:0.83655\teval-logloss:0.21805\teval-auc:0.96113\teval-amex:0.79230\n",
            "[2000]\ttrain-logloss:0.18961\ttrain-auc:0.97184\ttrain-amex:0.84165\teval-logloss:0.21768\teval-auc:0.96126\teval-amex:0.79279\n",
            "[2200]\ttrain-logloss:0.18690\ttrain-auc:0.97277\ttrain-amex:0.84648\teval-logloss:0.21739\teval-auc:0.96137\teval-amex:0.79334\n",
            "[2400]\ttrain-logloss:0.18439\ttrain-auc:0.97364\ttrain-amex:0.85073\teval-logloss:0.21716\teval-auc:0.96145\teval-amex:0.79383\n",
            "[2600]\ttrain-logloss:0.18189\ttrain-auc:0.97448\ttrain-amex:0.85495\teval-logloss:0.21699\teval-auc:0.96151\teval-amex:0.79395\n",
            "[2800]\ttrain-logloss:0.17944\ttrain-auc:0.97532\ttrain-amex:0.85927\teval-logloss:0.21684\teval-auc:0.96157\teval-amex:0.79460\n",
            "[3000]\ttrain-logloss:0.17695\ttrain-auc:0.97617\ttrain-amex:0.86368\teval-logloss:0.21668\teval-auc:0.96162\teval-amex:0.79481\n",
            "[3200]\ttrain-logloss:0.17460\ttrain-auc:0.97696\ttrain-amex:0.86818\teval-logloss:0.21656\teval-auc:0.96167\teval-amex:0.79492\n",
            "[3400]\ttrain-logloss:0.17230\ttrain-auc:0.97772\ttrain-amex:0.87227\teval-logloss:0.21647\teval-auc:0.96170\teval-amex:0.79495\n",
            "[3600]\ttrain-logloss:0.17006\ttrain-auc:0.97847\ttrain-amex:0.87644\teval-logloss:0.21638\teval-auc:0.96174\teval-amex:0.79511\n",
            "[3800]\ttrain-logloss:0.16784\ttrain-auc:0.97920\ttrain-amex:0.88040\teval-logloss:0.21630\teval-auc:0.96177\teval-amex:0.79563\n",
            "[4000]\ttrain-logloss:0.16563\ttrain-auc:0.97992\ttrain-amex:0.88421\teval-logloss:0.21625\teval-auc:0.96178\teval-amex:0.79516\n",
            "[4200]\ttrain-logloss:0.16358\ttrain-auc:0.98059\ttrain-amex:0.88809\teval-logloss:0.21625\teval-auc:0.96179\teval-amex:0.79523\n",
            "[4400]\ttrain-logloss:0.16150\ttrain-auc:0.98125\ttrain-amex:0.89188\teval-logloss:0.21621\teval-auc:0.96181\teval-amex:0.79508\n",
            "[4600]\ttrain-logloss:0.15944\ttrain-auc:0.98190\ttrain-amex:0.89574\teval-logloss:0.21619\teval-auc:0.96182\teval-amex:0.79509\n",
            "[4623]\ttrain-logloss:0.15919\ttrain-auc:0.98198\ttrain-amex:0.89614\teval-logloss:0.21618\teval-auc:0.96182\teval-amex:0.79537\n",
            "Kaggle Metric = 0.7952355553944972 \n",
            "\n",
            "#########################\n",
            "### Fold 2\n",
            "### Train size 367130 Valid size 91783\n",
            "#########################\n",
            "[0]\ttrain-logloss:0.68663\ttrain-auc:0.93530\ttrain-amex:0.70826\teval-logloss:0.68664\teval-auc:0.93421\teval-amex:0.70419\n",
            "[200]\ttrain-logloss:0.27499\ttrain-auc:0.95652\ttrain-amex:0.77455\teval-logloss:0.27899\teval-auc:0.95417\teval-amex:0.76218\n",
            "[400]\ttrain-logloss:0.22878\ttrain-auc:0.96021\ttrain-amex:0.78800\teval-logloss:0.23574\teval-auc:0.95716\teval-amex:0.77433\n",
            "[600]\ttrain-logloss:0.21699\ttrain-auc:0.96270\ttrain-amex:0.79890\teval-logloss:0.22671\teval-auc:0.95885\teval-amex:0.78195\n",
            "[800]\ttrain-logloss:0.21046\ttrain-auc:0.96468\ttrain-amex:0.80833\teval-logloss:0.22307\teval-auc:0.95990\teval-amex:0.78653\n",
            "[1000]\ttrain-logloss:0.20577\ttrain-auc:0.96622\ttrain-amex:0.81531\teval-logloss:0.22099\teval-auc:0.96057\teval-amex:0.78907\n",
            "[1200]\ttrain-logloss:0.20185\ttrain-auc:0.96754\ttrain-amex:0.82160\teval-logloss:0.21962\teval-auc:0.96103\teval-amex:0.78999\n",
            "[1400]\ttrain-logloss:0.19839\ttrain-auc:0.96872\ttrain-amex:0.82708\teval-logloss:0.21869\teval-auc:0.96134\teval-amex:0.79095\n",
            "[1600]\ttrain-logloss:0.19533\ttrain-auc:0.96978\ttrain-amex:0.83247\teval-logloss:0.21800\teval-auc:0.96158\teval-amex:0.79124\n",
            "[1800]\ttrain-logloss:0.19234\ttrain-auc:0.97081\ttrain-amex:0.83787\teval-logloss:0.21747\teval-auc:0.96176\teval-amex:0.79196\n",
            "[2000]\ttrain-logloss:0.18950\ttrain-auc:0.97179\ttrain-amex:0.84280\teval-logloss:0.21707\teval-auc:0.96190\teval-amex:0.79229\n",
            "[2200]\ttrain-logloss:0.18684\ttrain-auc:0.97270\ttrain-amex:0.84733\teval-logloss:0.21673\teval-auc:0.96202\teval-amex:0.79229\n",
            "[2400]\ttrain-logloss:0.18426\ttrain-auc:0.97360\ttrain-amex:0.85187\teval-logloss:0.21645\teval-auc:0.96212\teval-amex:0.79329\n",
            "[2600]\ttrain-logloss:0.18173\ttrain-auc:0.97446\ttrain-amex:0.85625\teval-logloss:0.21625\teval-auc:0.96219\teval-amex:0.79342\n",
            "[2800]\ttrain-logloss:0.17925\ttrain-auc:0.97531\ttrain-amex:0.86080\teval-logloss:0.21609\teval-auc:0.96225\teval-amex:0.79362\n",
            "[3000]\ttrain-logloss:0.17683\ttrain-auc:0.97614\ttrain-amex:0.86498\teval-logloss:0.21598\teval-auc:0.96229\teval-amex:0.79404\n",
            "[3200]\ttrain-logloss:0.17439\ttrain-auc:0.97696\ttrain-amex:0.86938\teval-logloss:0.21585\teval-auc:0.96233\teval-amex:0.79427\n",
            "[3400]\ttrain-logloss:0.17212\ttrain-auc:0.97772\ttrain-amex:0.87366\teval-logloss:0.21575\teval-auc:0.96237\teval-amex:0.79402\n",
            "[3600]\ttrain-logloss:0.16988\ttrain-auc:0.97847\ttrain-amex:0.87775\teval-logloss:0.21565\teval-auc:0.96241\teval-amex:0.79376\n",
            "[3800]\ttrain-logloss:0.16758\ttrain-auc:0.97922\ttrain-amex:0.88198\teval-logloss:0.21555\teval-auc:0.96244\teval-amex:0.79470\n",
            "[4000]\ttrain-logloss:0.16529\ttrain-auc:0.97998\ttrain-amex:0.88596\teval-logloss:0.21546\teval-auc:0.96247\teval-amex:0.79464\n",
            "[4200]\ttrain-logloss:0.16320\ttrain-auc:0.98065\ttrain-amex:0.88991\teval-logloss:0.21541\teval-auc:0.96249\teval-amex:0.79494\n",
            "[4400]\ttrain-logloss:0.16113\ttrain-auc:0.98132\ttrain-amex:0.89361\teval-logloss:0.21536\teval-auc:0.96251\teval-amex:0.79523\n",
            "[4600]\ttrain-logloss:0.15904\ttrain-auc:0.98198\ttrain-amex:0.89740\teval-logloss:0.21532\teval-auc:0.96254\teval-amex:0.79555\n",
            "[4800]\ttrain-logloss:0.15701\ttrain-auc:0.98262\ttrain-amex:0.90096\teval-logloss:0.21531\teval-auc:0.96254\teval-amex:0.79509\n",
            "[5000]\ttrain-logloss:0.15496\ttrain-auc:0.98326\ttrain-amex:0.90490\teval-logloss:0.21530\teval-auc:0.96254\teval-amex:0.79499\n",
            "[5200]\ttrain-logloss:0.15295\ttrain-auc:0.98387\ttrain-amex:0.90835\teval-logloss:0.21531\teval-auc:0.96255\teval-amex:0.79512\n",
            "[5356]\ttrain-logloss:0.15144\ttrain-auc:0.98433\ttrain-amex:0.91121\teval-logloss:0.21527\teval-auc:0.96256\teval-amex:0.79505\n",
            "Kaggle Metric = 0.7953126787636982 \n",
            "\n",
            "#########################\n",
            "### Fold 3\n",
            "### Train size 367130 Valid size 91783\n",
            "#########################\n",
            "[0]\ttrain-logloss:0.68664\ttrain-auc:0.93513\ttrain-amex:0.70858\teval-logloss:0.68664\teval-auc:0.93526\teval-amex:0.70432\n",
            "[200]\ttrain-logloss:0.27551\ttrain-auc:0.95630\ttrain-amex:0.77442\teval-logloss:0.27731\teval-auc:0.95540\teval-amex:0.76780\n",
            "[400]\ttrain-logloss:0.22930\ttrain-auc:0.96002\ttrain-amex:0.78895\teval-logloss:0.23341\teval-auc:0.95818\teval-amex:0.77748\n",
            "[600]\ttrain-logloss:0.21756\ttrain-auc:0.96252\ttrain-amex:0.79944\teval-logloss:0.22417\teval-auc:0.95982\teval-amex:0.78481\n",
            "[800]\ttrain-logloss:0.21114\ttrain-auc:0.96446\ttrain-amex:0.80808\teval-logloss:0.22051\teval-auc:0.96081\teval-amex:0.78950\n",
            "[1000]\ttrain-logloss:0.20645\ttrain-auc:0.96601\ttrain-amex:0.81516\teval-logloss:0.21847\teval-auc:0.96144\teval-amex:0.79090\n",
            "[1200]\ttrain-logloss:0.20257\ttrain-auc:0.96732\ttrain-amex:0.82166\teval-logloss:0.21715\teval-auc:0.96186\teval-amex:0.79274\n",
            "[1400]\ttrain-logloss:0.19913\ttrain-auc:0.96851\ttrain-amex:0.82756\teval-logloss:0.21626\teval-auc:0.96215\teval-amex:0.79409\n",
            "[1600]\ttrain-logloss:0.19602\ttrain-auc:0.96958\ttrain-amex:0.83267\teval-logloss:0.21562\teval-auc:0.96235\teval-amex:0.79478\n",
            "[1800]\ttrain-logloss:0.19312\ttrain-auc:0.97058\ttrain-amex:0.83711\teval-logloss:0.21512\teval-auc:0.96251\teval-amex:0.79484\n",
            "[2000]\ttrain-logloss:0.19038\ttrain-auc:0.97153\ttrain-amex:0.84181\teval-logloss:0.21472\teval-auc:0.96264\teval-amex:0.79581\n",
            "[2200]\ttrain-logloss:0.18772\ttrain-auc:0.97245\ttrain-amex:0.84665\teval-logloss:0.21443\teval-auc:0.96274\teval-amex:0.79569\n",
            "[2400]\ttrain-logloss:0.18511\ttrain-auc:0.97335\ttrain-amex:0.85114\teval-logloss:0.21417\teval-auc:0.96282\teval-amex:0.79576\n",
            "[2600]\ttrain-logloss:0.18267\ttrain-auc:0.97418\ttrain-amex:0.85540\teval-logloss:0.21392\teval-auc:0.96290\teval-amex:0.79672\n",
            "[2800]\ttrain-logloss:0.18023\ttrain-auc:0.97503\ttrain-amex:0.86010\teval-logloss:0.21375\teval-auc:0.96296\teval-amex:0.79671\n",
            "[3000]\ttrain-logloss:0.17798\ttrain-auc:0.97579\ttrain-amex:0.86399\teval-logloss:0.21358\teval-auc:0.96302\teval-amex:0.79709\n",
            "[3200]\ttrain-logloss:0.17561\ttrain-auc:0.97659\ttrain-amex:0.86810\teval-logloss:0.21344\teval-auc:0.96306\teval-amex:0.79707\n",
            "[3400]\ttrain-logloss:0.17331\ttrain-auc:0.97737\ttrain-amex:0.87230\teval-logloss:0.21331\teval-auc:0.96311\teval-amex:0.79728\n",
            "[3600]\ttrain-logloss:0.17105\ttrain-auc:0.97813\ttrain-amex:0.87648\teval-logloss:0.21321\teval-auc:0.96314\teval-amex:0.79752\n",
            "[3800]\ttrain-logloss:0.16878\ttrain-auc:0.97888\ttrain-amex:0.88059\teval-logloss:0.21310\teval-auc:0.96318\teval-amex:0.79752\n",
            "[4000]\ttrain-logloss:0.16661\ttrain-auc:0.97959\ttrain-amex:0.88463\teval-logloss:0.21303\teval-auc:0.96320\teval-amex:0.79763\n",
            "[4200]\ttrain-logloss:0.16443\ttrain-auc:0.98030\ttrain-amex:0.88847\teval-logloss:0.21292\teval-auc:0.96324\teval-amex:0.79777\n",
            "[4400]\ttrain-logloss:0.16226\ttrain-auc:0.98101\ttrain-amex:0.89245\teval-logloss:0.21285\teval-auc:0.96326\teval-amex:0.79846\n",
            "[4600]\ttrain-logloss:0.16013\ttrain-auc:0.98168\ttrain-amex:0.89633\teval-logloss:0.21278\teval-auc:0.96329\teval-amex:0.79815\n",
            "[4800]\ttrain-logloss:0.15812\ttrain-auc:0.98232\ttrain-amex:0.89996\teval-logloss:0.21273\teval-auc:0.96330\teval-amex:0.79834\n",
            "[5000]\ttrain-logloss:0.15614\ttrain-auc:0.98294\ttrain-amex:0.90345\teval-logloss:0.21269\teval-auc:0.96332\teval-amex:0.79829\n",
            "[5200]\ttrain-logloss:0.15418\ttrain-auc:0.98354\ttrain-amex:0.90688\teval-logloss:0.21265\teval-auc:0.96333\teval-amex:0.79830\n",
            "[5400]\ttrain-logloss:0.15228\ttrain-auc:0.98412\ttrain-amex:0.91022\teval-logloss:0.21259\teval-auc:0.96335\teval-amex:0.79830\n",
            "[5600]\ttrain-logloss:0.15027\ttrain-auc:0.98473\ttrain-amex:0.91373\teval-logloss:0.21256\teval-auc:0.96337\teval-amex:0.79817\n",
            "[5622]\ttrain-logloss:0.15006\ttrain-auc:0.98479\ttrain-amex:0.91400\teval-logloss:0.21256\teval-auc:0.96336\teval-amex:0.79802\n",
            "Kaggle Metric = 0.7981057505334084 \n",
            "\n",
            "#########################\n",
            "### Fold 4\n",
            "### Train size 367131 Valid size 91782\n",
            "#########################\n",
            "[0]\ttrain-logloss:0.68663\ttrain-auc:0.93590\ttrain-amex:0.71150\teval-logloss:0.68665\teval-auc:0.93475\teval-amex:0.70126\n",
            "[200]\ttrain-logloss:0.27482\ttrain-auc:0.95649\ttrain-amex:0.77450\teval-logloss:0.27975\teval-auc:0.95389\teval-amex:0.75920\n",
            "[400]\ttrain-logloss:0.22863\ttrain-auc:0.96021\ttrain-amex:0.78836\teval-logloss:0.23666\teval-auc:0.95685\teval-amex:0.76980\n",
            "[600]\ttrain-logloss:0.21685\ttrain-auc:0.96273\ttrain-amex:0.79948\teval-logloss:0.22756\teval-auc:0.95857\teval-amex:0.77667\n",
            "[800]\ttrain-logloss:0.21028\ttrain-auc:0.96472\ttrain-amex:0.80914\teval-logloss:0.22379\teval-auc:0.95969\teval-amex:0.78102\n",
            "[1000]\ttrain-logloss:0.20565\ttrain-auc:0.96624\ttrain-amex:0.81669\teval-logloss:0.22168\teval-auc:0.96039\teval-amex:0.78348\n",
            "[1200]\ttrain-logloss:0.20175\ttrain-auc:0.96755\ttrain-amex:0.82244\teval-logloss:0.22027\teval-auc:0.96087\teval-amex:0.78610\n",
            "[1400]\ttrain-logloss:0.19819\ttrain-auc:0.96878\ttrain-amex:0.82854\teval-logloss:0.21930\teval-auc:0.96121\teval-amex:0.78749\n",
            "[1600]\ttrain-logloss:0.19505\ttrain-auc:0.96985\ttrain-amex:0.83364\teval-logloss:0.21860\teval-auc:0.96146\teval-amex:0.78868\n",
            "[1800]\ttrain-logloss:0.19221\ttrain-auc:0.97083\ttrain-amex:0.83852\teval-logloss:0.21807\teval-auc:0.96164\teval-amex:0.78878\n",
            "[2000]\ttrain-logloss:0.18939\ttrain-auc:0.97180\ttrain-amex:0.84315\teval-logloss:0.21765\teval-auc:0.96179\teval-amex:0.78943\n",
            "[2200]\ttrain-logloss:0.18668\ttrain-auc:0.97274\ttrain-amex:0.84790\teval-logloss:0.21730\teval-auc:0.96192\teval-amex:0.78995\n",
            "[2400]\ttrain-logloss:0.18418\ttrain-auc:0.97360\ttrain-amex:0.85197\teval-logloss:0.21702\teval-auc:0.96201\teval-amex:0.79034\n",
            "[2600]\ttrain-logloss:0.18171\ttrain-auc:0.97444\ttrain-amex:0.85605\teval-logloss:0.21680\teval-auc:0.96209\teval-amex:0.79057\n",
            "[2800]\ttrain-logloss:0.17935\ttrain-auc:0.97525\ttrain-amex:0.86028\teval-logloss:0.21661\teval-auc:0.96216\teval-amex:0.79112\n",
            "[3000]\ttrain-logloss:0.17696\ttrain-auc:0.97606\ttrain-amex:0.86476\teval-logloss:0.21645\teval-auc:0.96221\teval-amex:0.79100\n",
            "[3200]\ttrain-logloss:0.17459\ttrain-auc:0.97686\ttrain-amex:0.86905\teval-logloss:0.21630\teval-auc:0.96227\teval-amex:0.79106\n",
            "[3400]\ttrain-logloss:0.17224\ttrain-auc:0.97764\ttrain-amex:0.87370\teval-logloss:0.21619\teval-auc:0.96231\teval-amex:0.79158\n",
            "[3600]\ttrain-logloss:0.16994\ttrain-auc:0.97841\ttrain-amex:0.87796\teval-logloss:0.21609\teval-auc:0.96235\teval-amex:0.79181\n",
            "[3800]\ttrain-logloss:0.16771\ttrain-auc:0.97915\ttrain-amex:0.88178\teval-logloss:0.21598\teval-auc:0.96239\teval-amex:0.79170\n",
            "[4000]\ttrain-logloss:0.16557\ttrain-auc:0.97985\ttrain-amex:0.88596\teval-logloss:0.21593\teval-auc:0.96241\teval-amex:0.79189\n",
            "[4200]\ttrain-logloss:0.16344\ttrain-auc:0.98053\ttrain-amex:0.88964\teval-logloss:0.21587\teval-auc:0.96243\teval-amex:0.79231\n",
            "[4400]\ttrain-logloss:0.16133\ttrain-auc:0.98122\ttrain-amex:0.89334\teval-logloss:0.21581\teval-auc:0.96246\teval-amex:0.79248\n",
            "[4600]\ttrain-logloss:0.15932\ttrain-auc:0.98185\ttrain-amex:0.89697\teval-logloss:0.21577\teval-auc:0.96248\teval-amex:0.79261\n",
            "[4800]\ttrain-logloss:0.15726\ttrain-auc:0.98250\ttrain-amex:0.90063\teval-logloss:0.21573\teval-auc:0.96249\teval-amex:0.79235\n",
            "[5000]\ttrain-logloss:0.15523\ttrain-auc:0.98314\ttrain-amex:0.90432\teval-logloss:0.21569\teval-auc:0.96251\teval-amex:0.79252\n",
            "[5200]\ttrain-logloss:0.15323\ttrain-auc:0.98375\ttrain-amex:0.90782\teval-logloss:0.21565\teval-auc:0.96253\teval-amex:0.79291\n",
            "[5400]\ttrain-logloss:0.15117\ttrain-auc:0.98438\ttrain-amex:0.91125\teval-logloss:0.21563\teval-auc:0.96254\teval-amex:0.79242\n",
            "[5600]\ttrain-logloss:0.14931\ttrain-auc:0.98494\ttrain-amex:0.91404\teval-logloss:0.21561\teval-auc:0.96255\teval-amex:0.79324\n",
            "[5800]\ttrain-logloss:0.14741\ttrain-auc:0.98550\ttrain-amex:0.91734\teval-logloss:0.21561\teval-auc:0.96255\teval-amex:0.79300\n",
            "[6000]\ttrain-logloss:0.14554\ttrain-auc:0.98605\ttrain-amex:0.92045\teval-logloss:0.21559\teval-auc:0.96256\teval-amex:0.79295\n",
            "[6200]\ttrain-logloss:0.14366\ttrain-auc:0.98659\ttrain-amex:0.92353\teval-logloss:0.21558\teval-auc:0.96257\teval-amex:0.79285\n",
            "[6297]\ttrain-logloss:0.14276\ttrain-auc:0.98684\ttrain-amex:0.92513\teval-logloss:0.21559\teval-auc:0.96257\teval-amex:0.79272\n",
            "Kaggle Metric = 0.793062068892819 \n",
            "\n",
            "#########################\n",
            "### Fold 5\n",
            "### Train size 367131 Valid size 91782\n",
            "#########################\n",
            "[0]\ttrain-logloss:0.68662\ttrain-auc:0.93473\ttrain-amex:0.70789\teval-logloss:0.68668\teval-auc:0.93108\teval-amex:0.69577\n",
            "[200]\ttrain-logloss:0.27441\ttrain-auc:0.95681\ttrain-amex:0.77528\teval-logloss:0.28101\teval-auc:0.95264\teval-amex:0.76083\n",
            "[400]\ttrain-logloss:0.22820\ttrain-auc:0.96047\ttrain-amex:0.78870\teval-logloss:0.23813\teval-auc:0.95582\teval-amex:0.77325\n",
            "[600]\ttrain-logloss:0.21636\ttrain-auc:0.96296\ttrain-amex:0.79985\teval-logloss:0.22926\teval-auc:0.95759\teval-amex:0.77924\n",
            "[800]\ttrain-logloss:0.20987\ttrain-auc:0.96492\ttrain-amex:0.80907\teval-logloss:0.22558\teval-auc:0.95874\teval-amex:0.78310\n",
            "[1000]\ttrain-logloss:0.20514\ttrain-auc:0.96646\ttrain-amex:0.81630\teval-logloss:0.22348\teval-auc:0.95946\teval-amex:0.78565\n",
            "[1200]\ttrain-logloss:0.20127\ttrain-auc:0.96777\ttrain-amex:0.82270\teval-logloss:0.22211\teval-auc:0.95995\teval-amex:0.78789\n",
            "[1400]\ttrain-logloss:0.19782\ttrain-auc:0.96894\ttrain-amex:0.82825\teval-logloss:0.22110\teval-auc:0.96032\teval-amex:0.78893\n",
            "[1600]\ttrain-logloss:0.19474\ttrain-auc:0.96999\ttrain-amex:0.83341\teval-logloss:0.22040\teval-auc:0.96057\teval-amex:0.79008\n",
            "[1800]\ttrain-logloss:0.19178\ttrain-auc:0.97101\ttrain-amex:0.83837\teval-logloss:0.21988\teval-auc:0.96076\teval-amex:0.79065\n",
            "[2000]\ttrain-logloss:0.18897\ttrain-auc:0.97198\ttrain-amex:0.84305\teval-logloss:0.21946\teval-auc:0.96092\teval-amex:0.79179\n",
            "[2200]\ttrain-logloss:0.18630\ttrain-auc:0.97289\ttrain-amex:0.84751\teval-logloss:0.21911\teval-auc:0.96105\teval-amex:0.79213\n",
            "[2400]\ttrain-logloss:0.18375\ttrain-auc:0.97377\ttrain-amex:0.85203\teval-logloss:0.21883\teval-auc:0.96115\teval-amex:0.79286\n",
            "[2600]\ttrain-logloss:0.18123\ttrain-auc:0.97463\ttrain-amex:0.85678\teval-logloss:0.21858\teval-auc:0.96124\teval-amex:0.79308\n",
            "[2800]\ttrain-logloss:0.17885\ttrain-auc:0.97545\ttrain-amex:0.86095\teval-logloss:0.21840\teval-auc:0.96131\teval-amex:0.79336\n",
            "[3000]\ttrain-logloss:0.17651\ttrain-auc:0.97623\ttrain-amex:0.86525\teval-logloss:0.21824\teval-auc:0.96137\teval-amex:0.79375\n",
            "[3200]\ttrain-logloss:0.17416\ttrain-auc:0.97703\ttrain-amex:0.86943\teval-logloss:0.21811\teval-auc:0.96141\teval-amex:0.79378\n",
            "[3400]\ttrain-logloss:0.17181\ttrain-auc:0.97782\ttrain-amex:0.87404\teval-logloss:0.21800\teval-auc:0.96146\teval-amex:0.79408\n",
            "[3600]\ttrain-logloss:0.16962\ttrain-auc:0.97854\ttrain-amex:0.87816\teval-logloss:0.21791\teval-auc:0.96149\teval-amex:0.79449\n",
            "[3800]\ttrain-logloss:0.16742\ttrain-auc:0.97926\ttrain-amex:0.88210\teval-logloss:0.21780\teval-auc:0.96153\teval-amex:0.79436\n",
            "[4000]\ttrain-logloss:0.16525\ttrain-auc:0.97996\ttrain-amex:0.88615\teval-logloss:0.21771\teval-auc:0.96156\teval-amex:0.79445\n",
            "[4200]\ttrain-logloss:0.16304\ttrain-auc:0.98068\ttrain-amex:0.89009\teval-logloss:0.21766\teval-auc:0.96159\teval-amex:0.79437\n",
            "[4400]\ttrain-logloss:0.16092\ttrain-auc:0.98136\ttrain-amex:0.89392\teval-logloss:0.21760\teval-auc:0.96161\teval-amex:0.79402\n",
            "[4600]\ttrain-logloss:0.15885\ttrain-auc:0.98202\ttrain-amex:0.89745\teval-logloss:0.21752\teval-auc:0.96164\teval-amex:0.79428\n",
            "[4731]\ttrain-logloss:0.15747\ttrain-auc:0.98245\ttrain-amex:0.89990\teval-logloss:0.21749\teval-auc:0.96165\teval-amex:0.79412\n",
            "Kaggle Metric = 0.7939305212413541 \n",
            "\n",
            "#########################\n",
            "OVERALL CV Kaggle Metric = 0.7950230882438654\n"
          ]
        }
      ],
      "source": [
        "importances = []\n",
        "oof = []\n",
        "gc.collect()\n",
        "\n",
        "skf = KFold(n_splits=FOLDS, shuffle=True, random_state=SEED)\n",
        "for fold,(train_idx, valid_idx) in enumerate(skf.split(train, train.target )):\n",
        "    print('#'*25)\n",
        "    print('### Fold',fold+1)\n",
        "    print('### Train size',len(train_idx),'Valid size',len(valid_idx))\n",
        "    print('#'*25)\n",
        "    \n",
        "    # TRAIN, VALID, TEST FOR FOLD K\n",
        "    y_valid = train.loc[valid_idx, 'target']\n",
        "    \n",
        "    dtrain = xgb.DMatrix(data=train.loc[train_idx, FEATURES], label=train.loc[train_idx, 'target'])\n",
        "    dvalid = xgb.DMatrix(data=train.loc[valid_idx, FEATURES], label=y_valid)\n",
        "\n",
        "    # TRAIN MODEL FOLD K\n",
        "    model = xgb.train(xgb_parms, \n",
        "                dtrain=dtrain,\n",
        "                evals=[(dtrain,'train'),(dvalid,'eval')],\n",
        "                num_boost_round=15000,\n",
        "                early_stopping_rounds=750,\n",
        "                maximize=True,\n",
        "                custom_metric= xgb_amex,\n",
        "                verbose_eval=500) \n",
        "    model.save_model(f'XGB_v{VER}_fold{fold}.xgb')\n",
        "    \n",
        "    # GET FEATURE IMPORTANCE FOR FOLD K\n",
        "    dd = model.get_score(importance_type='weight')\n",
        "    df = pd.DataFrame({'feature':dd.keys(),f'importance_{fold}':dd.values()})\n",
        "    importances.append(df)\n",
        "            \n",
        "    # INFER OOF FOLD K\n",
        "    oof_preds = model.predict(dvalid)\n",
        "    acc = amex_metric_numpy(y_valid.values, oof_preds)\n",
        "    print('Kaggle Metric =',acc,'\\n')\n",
        "    \n",
        "    # SAVE OOF\n",
        "    df = train.loc[valid_idx, ['customer_ID','target'] ].copy()\n",
        "    df['oof_pred'] = oof_preds\n",
        "    oof.append( df )\n",
        "\n",
        "    del dtrain, dd, df\n",
        "    del y_valid, dvalid, model\n",
        "    _ = gc.collect()\n",
        "    \n",
        "print('#'*25)\n",
        "oof = pd.concat(oof,axis=0,ignore_index=True).set_index('customer_ID')\n",
        "acc = amex_metric_numpy(oof.target.values, oof.oof_pred.values)\n",
        "print('OVERALL CV Kaggle Metric =',acc)"
      ]
    },
    {
      "cell_type": "code",
      "execution_count": null,
      "id": "a0683792",
      "metadata": {
        "execution": {
          "iopub.execute_input": "2022-07-04T13:57:20.767668Z",
          "iopub.status.busy": "2022-07-04T13:57:20.767389Z",
          "iopub.status.idle": "2022-07-04T13:57:20.897259Z",
          "shell.execute_reply": "2022-07-04T13:57:20.896305Z"
        },
        "papermill": {
          "duration": 0.143223,
          "end_time": "2022-07-04T13:57:20.899414",
          "exception": false,
          "start_time": "2022-07-04T13:57:20.756191",
          "status": "completed"
        },
        "tags": [],
        "id": "a0683792"
      },
      "outputs": [],
      "source": [
        "# CLEAN RAM\n",
        "del train\n",
        "_ = gc.collect()"
      ]
    },
    {
      "cell_type": "code",
      "execution_count": null,
      "id": "7c84e45b",
      "metadata": {
        "execution": {
          "iopub.execute_input": "2022-07-04T13:57:20.922375Z",
          "iopub.status.busy": "2022-07-04T13:57:20.922102Z",
          "iopub.status.idle": "2022-07-04T13:57:20.952759Z",
          "shell.execute_reply": "2022-07-04T13:57:20.952102Z"
        },
        "papermill": {
          "duration": 0.044099,
          "end_time": "2022-07-04T13:57:20.954464",
          "exception": false,
          "start_time": "2022-07-04T13:57:20.910365",
          "status": "completed"
        },
        "tags": [],
        "id": "7c84e45b"
      },
      "outputs": [],
      "source": [
        "import matplotlib.pyplot as plt\n",
        "\n",
        "df = importances[0].copy()\n",
        "for k in range(1,FOLDS): df = df.merge(importances[k], on='feature', how='left')\n",
        "df['importance'] = df.iloc[:,1:].mean(axis=1)\n",
        "df = df.sort_values('importance',ascending=False)\n",
        "df.to_csv(f'xgb_feature_importance_v{VER}.csv',index=False)"
      ]
    },
    {
      "cell_type": "code",
      "execution_count": null,
      "id": "cf219aaf",
      "metadata": {
        "execution": {
          "iopub.execute_input": "2022-07-04T13:57:20.976586Z",
          "iopub.status.busy": "2022-07-04T13:57:20.976325Z",
          "iopub.status.idle": "2022-07-04T13:57:21.242333Z",
          "shell.execute_reply": "2022-07-04T13:57:21.241620Z"
        },
        "papermill": {
          "duration": 0.278865,
          "end_time": "2022-07-04T13:57:21.244004",
          "exception": false,
          "start_time": "2022-07-04T13:57:20.965139",
          "status": "completed"
        },
        "tags": [],
        "id": "cf219aaf",
        "colab": {
          "base_uri": "https://localhost:8080/",
          "height": 607
        },
        "outputId": "555d648f-a782-410f-9320-47f101f170e4"
      },
      "outputs": [
        {
          "output_type": "display_data",
          "data": {
            "text/plain": [
              "<Figure size 720x720 with 1 Axes>"
            ],
            "image/png": "[encoded data removed]"
          },
          "metadata": {
            "needs_background": "light"
          }
        }
      ],
      "source": [
        "NUM_FEATURES = 20\n",
        "plt.figure(figsize=(10,5*NUM_FEATURES//10))\n",
        "plt.barh(np.arange(NUM_FEATURES,0,-1), df.importance.values[:NUM_FEATURES])\n",
        "plt.yticks(np.arange(NUM_FEATURES,0,-1), df.feature.values[:NUM_FEATURES])\n",
        "plt.title(f'XGB Feature Importance - Top {NUM_FEATURES}')\n",
        "plt.show()"
      ]
    },
    {
      "cell_type": "markdown",
      "source": [
        "# Test part"
      ],
      "metadata": {
        "id": "5eVl7ZgaHTai"
      },
      "id": "5eVl7ZgaHTai"
    },
    {
      "cell_type": "code",
      "execution_count": null,
      "id": "caceea59",
      "metadata": {
        "execution": {
          "iopub.execute_input": "2022-07-04T13:57:21.266604Z",
          "iopub.status.busy": "2022-07-04T13:57:21.266343Z",
          "iopub.status.idle": "2022-07-04T13:57:23.926842Z",
          "shell.execute_reply": "2022-07-04T13:57:23.925728Z"
        },
        "papermill": {
          "duration": 2.67433,
          "end_time": "2022-07-04T13:57:23.929254",
          "exception": false,
          "start_time": "2022-07-04T13:57:21.254924",
          "status": "completed"
        },
        "tags": [],
        "id": "caceea59"
      },
      "outputs": [],
      "source": [
        "# CALCULATE SIZE OF EACH SEPARATE TEST PART\n",
        "def get_rows(customers, test, NUM_PARTS = 4, verbose = ''):\n",
        "    chunk = len(customers)//NUM_PARTS\n",
        "    if verbose != '':\n",
        "        print(f'We will process {verbose} data as {NUM_PARTS} separate parts.')\n",
        "        print(f'There will be {chunk} customers in each part (except the last part).')\n",
        "        print('Below are number of rows in each part:')\n",
        "    rows = []\n",
        "\n",
        "    for k in range(NUM_PARTS):\n",
        "        if k==NUM_PARTS-1: cc = customers[k*chunk:]\n",
        "        else: cc = customers[k*chunk:(k+1)*chunk]\n",
        "        s = test.loc[test.customer_ID.isin(cc)].shape[0]\n",
        "        rows.append(s)\n",
        "    if verbose != '': print( rows )\n",
        "    return rows,chunk"
      ]
    },
    {
      "cell_type": "code",
      "source": [
        "# COMPUTE SIZE OF 4 PARTS FOR TEST DATA\n",
        "NUM_PARTS = 4\n",
        "\n",
        "test = pd.read_parquet(\"/content/test_fe_plus_plus.parquet\")\n",
        "\n",
        "customers = test[['customer_ID']].drop_duplicates().sort_index().values.flatten()\n",
        "rows,num_cust = get_rows(customers, test[['customer_ID']], NUM_PARTS = NUM_PARTS, verbose = 'test')"
      ],
      "metadata": {
        "id": "Bx78HcsneJfF",
        "colab": {
          "base_uri": "https://localhost:8080/"
        },
        "outputId": "cbfa5305-5fc7-4c34-e158-f5bb413df6da"
      },
      "id": "Bx78HcsneJfF",
      "execution_count": null,
      "outputs": [
        {
          "output_type": "stream",
          "name": "stdout",
          "text": [
            "We will process test data as 4 separate parts.\n",
            "There will be 231155 customers in each part (except the last part).\n",
            "Below are number of rows in each part:\n",
            "[231155, 231155, 231155, 231156]\n"
          ]
        }
      ]
    },
    {
      "cell_type": "code",
      "execution_count": null,
      "id": "284c3ec2",
      "metadata": {
        "execution": {
          "iopub.execute_input": "2022-07-04T13:57:23.953558Z",
          "iopub.status.busy": "2022-07-04T13:57:23.952895Z",
          "iopub.status.idle": "2022-07-04T14:00:05.767912Z",
          "shell.execute_reply": "2022-07-04T14:00:05.767103Z"
        },
        "papermill": {
          "duration": 161.82896,
          "end_time": "2022-07-04T14:00:05.770110",
          "exception": false,
          "start_time": "2022-07-04T13:57:23.941150",
          "status": "completed"
        },
        "tags": [],
        "id": "284c3ec2",
        "colab": {
          "base_uri": "https://localhost:8080/"
        },
        "outputId": "ec68de33-819d-43fd-ce85-00879acfa966"
      },
      "outputs": [
        {
          "output_type": "stream",
          "name": "stdout",
          "text": [
            "\n",
            "Reading test data...\n",
            "=> Test part 1 has shape (231155, 1461)\n"
          ]
        },
        {
          "output_type": "stream",
          "name": "stderr",
          "text": [
            "100%|██████████| 1461/1461 [00:04<00:00, 333.98it/s]\n"
          ]
        },
        {
          "output_type": "stream",
          "name": "stdout",
          "text": [
            "\n",
            "Reading test data...\n",
            "=> Test part 2 has shape (231155, 1461)\n"
          ]
        },
        {
          "output_type": "stream",
          "name": "stderr",
          "text": [
            "100%|██████████| 1461/1461 [00:04<00:00, 303.51it/s]\n"
          ]
        },
        {
          "output_type": "stream",
          "name": "stdout",
          "text": [
            "\n",
            "Reading test data...\n",
            "=> Test part 3 has shape (231155, 1461)\n"
          ]
        },
        {
          "output_type": "stream",
          "name": "stderr",
          "text": [
            "100%|██████████| 1461/1461 [00:04<00:00, 293.43it/s]\n"
          ]
        },
        {
          "output_type": "stream",
          "name": "stdout",
          "text": [
            "\n",
            "Reading test data...\n",
            "=> Test part 4 has shape (231156, 1461)\n"
          ]
        },
        {
          "output_type": "stream",
          "name": "stderr",
          "text": [
            "100%|██████████| 1461/1461 [00:04<00:00, 295.43it/s]\n"
          ]
        }
      ],
      "source": [
        "# INFER TEST DATA IN PARTS\n",
        "skip_rows = 0\n",
        "skip_cust = 0\n",
        "test_preds = []\n",
        "\n",
        "for k in range(NUM_PARTS):\n",
        "    # READ PART OF TEST DATA\n",
        "    print(f'\\nReading test data...')\n",
        "    test_copy = test.iloc[skip_rows:skip_rows+rows[k]].copy()\n",
        "    test_copy = test_copy.set_index('customer_ID')\n",
        "    skip_rows += rows[k]\n",
        "    print(f'=> Test part {k+1} has shape', test_copy.shape )\n",
        "\n",
        "    for col in float_cols:\n",
        "        test_copy[col + '_round2'] = test_copy[col].round(2)\n",
        "\n",
        "    num_cols = [col for col in test_copy.columns if 'last' in col]\n",
        "    num_cols = [col[:-5] for col in num_cols if 'round' not in col]\n",
        "    for col in num_cols:\n",
        "        try:\n",
        "            test_copy[f'{col}_last_mean'] = test_copy[f'{col}_last'] - test_copy[f'{col}_mean']\n",
        "            test_copy[f'{col}_last_min'] = test_copy[f'{col}_last'] - test_copy[f'{col}_min']\n",
        "            test_copy[f'{col}_last_max'] = test_copy[f'{col}_last'] - test_copy[f'{col}_max']\n",
        "            test_copy[f'{col}_first-last_s2'] = (test_copy[f'{col}_last_sub'] / test_copy['S_2_lag']).round(2)\n",
        "        except: pass\n",
        "    num_cols = list(test_copy.dtypes[(test_copy.dtypes == 'float32') | (test_copy.dtypes == 'float64')].index)\n",
        "    for col in tqdm(num_cols):\n",
        "        test_copy[col] = test_copy[col].astype(np.float16)\n",
        "\n",
        "    test_copy.replace([np.nan, np.inf, -np.inf], -127, inplace=True)\n",
        "\n",
        "    # PROCESS AND FEATURE ENGINEER PART OF TEST DATA\n",
        "    if k==NUM_PARTS-1: test_copy = test_copy.loc[customers[skip_cust:]]\n",
        "    else: test_copy = test_copy.loc[customers[skip_cust:skip_cust+num_cust]]\n",
        "    skip_cust += num_cust\n",
        "    \n",
        "    # TEST DATA FOR XGB\n",
        "    X_test = test_copy[FEATURES]\n",
        "    dtest = xgb.DMatrix(data=X_test)\n",
        "    test_copy = test_copy[['P_2_mean']] # reduce memory\n",
        "    del X_test\n",
        "    gc.collect()\n",
        "\n",
        "    # INFER XGB MODELS ON TEST DATA\n",
        "    model = xgb.Booster()\n",
        "    model.load_model(f'XGB_v{VER}_fold0.xgb')\n",
        "    preds = model.predict(dtest)\n",
        "    for f in range(1,FOLDS):\n",
        "        model.load_model(f'XGB_v{VER}_fold{f}.xgb')\n",
        "        preds += model.predict(dtest)\n",
        "    preds /= FOLDS\n",
        "    test_preds.append(preds)\n",
        "\n",
        "    # CLEAN MEMORY\n",
        "    del test_copy, dtest, model\n",
        "    _ = gc.collect()\n",
        "\n",
        "del test\n",
        "_ = gc.collect()"
      ]
    },
    {
      "cell_type": "code",
      "execution_count": null,
      "id": "a9cdac27",
      "metadata": {
        "execution": {
          "iopub.execute_input": "2022-07-04T14:00:05.795436Z",
          "iopub.status.busy": "2022-07-04T14:00:05.795158Z",
          "iopub.status.idle": "2022-07-04T14:00:06.821793Z",
          "shell.execute_reply": "2022-07-04T14:00:06.820885Z"
        },
        "papermill": {
          "duration": 1.042409,
          "end_time": "2022-07-04T14:00:06.824706",
          "exception": false,
          "start_time": "2022-07-04T14:00:05.782297",
          "status": "completed"
        },
        "tags": [],
        "id": "a9cdac27",
        "colab": {
          "base_uri": "https://localhost:8080/",
          "height": 224
        },
        "outputId": "34fd14ae-f740-4930-a3a7-507baa6a8d8c"
      },
      "outputs": [
        {
          "output_type": "stream",
          "name": "stdout",
          "text": [
            "Submission file shape is (924621, 2)\n"
          ]
        },
        {
          "output_type": "execute_result",
          "data": {
            "text/plain": [
              "                                         customer_ID  prediction\n",
              "0  00000469ba478561f23a92a868bd366de6f6527a684c9a...    0.023920\n",
              "1  00001bf2e77ff879fab36aa4fac689b9ba411dae63ae39...    0.000754\n",
              "2  0000210045da4f81e5f122c6bde5c2a617d03eef67f82c...    0.034977\n",
              "3  00003b41e58ede33b8daf61ab56d9952f17c9ad1c3976c...    0.270246\n",
              "4  00004b22eaeeeb0ec976890c1d9bfc14fd9427e98c4ee9...    0.903010"
            ],
            "text/html": [
              "\n",
              "  <div id=\"df-beb414d3-a589-416d-b4a2-c7ecedbd2ee9\">\n",
              "    <div class=\"colab-df-container\">\n",
              "      <div>\n",
              "<style scoped>\n",
              "    .dataframe tbody tr th:only-of-type {\n",
              "        vertical-align: middle;\n",
              "    }\n",
              "\n",
              "    .dataframe tbody tr th {\n",
              "        vertical-align: top;\n",
              "    }\n",
              "\n",
              "    .dataframe thead th {\n",
              "        text-align: right;\n",
              "    }\n",
              "</style>\n",
              "<table border=\"1\" class=\"dataframe\">\n",
              "  <thead>\n",
              "    <tr style=\"text-align: right;\">\n",
              "      <th></th>\n",
              "      <th>customer_ID</th>\n",
              "      <th>prediction</th>\n",
              "    </tr>\n",
              "  </thead>\n",
              "  <tbody>\n",
              "    <tr>\n",
              "      <th>0</th>\n",
              "      <td>00000469ba478561f23a92a868bd366de6f6527a684c9a...</td>\n",
              "      <td>0.023920</td>\n",
              "    </tr>\n",
              "    <tr>\n",
              "      <th>1</th>\n",
              "      <td>00001bf2e77ff879fab36aa4fac689b9ba411dae63ae39...</td>\n",
              "      <td>0.000754</td>\n",
              "    </tr>\n",
              "    <tr>\n",
              "      <th>2</th>\n",
              "      <td>0000210045da4f81e5f122c6bde5c2a617d03eef67f82c...</td>\n",
              "      <td>0.034977</td>\n",
              "    </tr>\n",
              "    <tr>\n",
              "      <th>3</th>\n",
              "      <td>00003b41e58ede33b8daf61ab56d9952f17c9ad1c3976c...</td>\n",
              "      <td>0.270246</td>\n",
              "    </tr>\n",
              "    <tr>\n",
              "      <th>4</th>\n",
              "      <td>00004b22eaeeeb0ec976890c1d9bfc14fd9427e98c4ee9...</td>\n",
              "      <td>0.903010</td>\n",
              "    </tr>\n",
              "  </tbody>\n",
              "</table>\n",
              "</div>\n",
              "      <button class=\"colab-df-convert\" onclick=\"convertToInteractive('df-beb414d3-a589-416d-b4a2-c7ecedbd2ee9')\"\n",
              "              title=\"Convert this dataframe to an interactive table.\"\n",
              "              style=\"display:none;\">\n",
              "        \n",
              "  <svg xmlns=\"http://www.w3.org/2000/svg\" height=\"24px\"viewBox=\"0 0 24 24\"\n",
              "       width=\"24px\">\n",
              "    <path d=\"M0 0h24v24H0V0z\" fill=\"none\"/>\n",
              "    <path d=\"M18.56 5.44l.94 2.06.94-2.06 2.06-.94-2.06-.94-.94-2.06-.94 2.06-2.06.94zm-11 1L8.5 8.5l.94-2.06 2.06-.94-2.06-.94L8.5 2.5l-.94 2.06-2.06.94zm10 10l.94 2.06.94-2.06 2.06-.94-2.06-.94-.94-2.06-.94 2.06-2.06.94z\"/><path d=\"M17.41 7.96l-1.37-1.37c-.4-.4-.92-.59-1.43-.59-.52 0-1.04.2-1.43.59L10.3 9.45l-7.72 7.72c-.78.78-.78 2.05 0 2.83L4 21.41c.39.39.9.59 1.41.59.51 0 1.02-.2 1.41-.59l7.78-7.78 2.81-2.81c.8-.78.8-2.07 0-2.86zM5.41 20L4 18.59l7.72-7.72 1.47 1.35L5.41 20z\"/>\n",
              "  </svg>\n",
              "      </button>\n",
              "      \n",
              "  <style>\n",
              "    .colab-df-container {\n",
              "      display:flex;\n",
              "      flex-wrap:wrap;\n",
              "      gap: 12px;\n",
              "    }\n",
              "\n",
              "    .colab-df-convert {\n",
              "      background-color: #E8F0FE;\n",
              "      border: none;\n",
              "      border-radius: 50%;\n",
              "      cursor: pointer;\n",
              "      display: none;\n",
              "      fill: #1967D2;\n",
              "      height: 32px;\n",
              "      padding: 0 0 0 0;\n",
              "      width: 32px;\n",
              "    }\n",
              "\n",
              "    .colab-df-convert:hover {\n",
              "      background-color: #E2EBFA;\n",
              "      box-shadow: 0px 1px 2px rgba(60, 64, 67, 0.3), 0px 1px 3px 1px rgba(60, 64, 67, 0.15);\n",
              "      fill: #174EA6;\n",
              "    }\n",
              "\n",
              "    [theme=dark] .colab-df-convert {\n",
              "      background-color: #3B4455;\n",
              "      fill: #D2E3FC;\n",
              "    }\n",
              "\n",
              "    [theme=dark] .colab-df-convert:hover {\n",
              "      background-color: #434B5C;\n",
              "      box-shadow: 0px 1px 3px 1px rgba(0, 0, 0, 0.15);\n",
              "      filter: drop-shadow(0px 1px 2px rgba(0, 0, 0, 0.3));\n",
              "      fill: #FFFFFF;\n",
              "    }\n",
              "  </style>\n",
              "\n",
              "      <script>\n",
              "        const buttonEl =\n",
              "          document.querySelector('#df-beb414d3-a589-416d-b4a2-c7ecedbd2ee9 button.colab-df-convert');\n",
              "        buttonEl.style.display =\n",
              "          google.colab.kernel.accessAllowed ? 'block' : 'none';\n",
              "\n",
              "        async function convertToInteractive(key) {\n",
              "          const element = document.querySelector('#df-beb414d3-a589-416d-b4a2-c7ecedbd2ee9');\n",
              "          const dataTable =\n",
              "            await google.colab.kernel.invokeFunction('convertToInteractive',\n",
              "                                                     [key], {});\n",
              "          if (!dataTable) return;\n",
              "\n",
              "          const docLinkHtml = 'Like what you see? Visit the ' +\n",
              "            '<a target=\"_blank\" href=https://colab.research.google.com/notebooks/data_table.ipynb>data table notebook</a>'\n",
              "            + ' to learn more about interactive tables.';\n",
              "          element.innerHTML = '';\n",
              "          dataTable['output_type'] = 'display_data';\n",
              "          await google.colab.output.renderOutput(dataTable, element);\n",
              "          const docLink = document.createElement('div');\n",
              "          docLink.innerHTML = docLinkHtml;\n",
              "          element.appendChild(docLink);\n",
              "        }\n",
              "      </script>\n",
              "    </div>\n",
              "  </div>\n",
              "  "
            ]
          },
          "metadata": {},
          "execution_count": 15
        }
      ],
      "source": [
        "# WRITE SUBMISSION FILE\n",
        "test = pd.DataFrame(index=customers,data={'prediction': np.concatenate(test_preds)})\n",
        "sub = pd.read_csv('/content/sample_submission.csv')[['customer_ID']]\n",
        "sub['customer_ID_hash'] = sub['customer_ID'].copy()\n",
        "sub = sub.set_index('customer_ID_hash')\n",
        "sub = sub.merge(test[['prediction']], left_index=True, right_index=True, how='left')\n",
        "sub = sub.reset_index(drop=True)\n",
        "\n",
        "# DISPLAY PREDICTIONS\n",
        "sub.to_csv(f'submission_xgb_v{VER}_seed{SEED}_fold{FOLDS}.csv',index=False)\n",
        "print('Submission file shape is', sub.shape )\n",
        "sub.head()"
      ]
    },
    {
      "cell_type": "code",
      "execution_count": null,
      "id": "63453bcd",
      "metadata": {
        "execution": {
          "iopub.execute_input": "2022-07-04T14:00:06.852363Z",
          "iopub.status.busy": "2022-07-04T14:00:06.851721Z",
          "iopub.status.idle": "2022-07-04T14:00:07.547496Z",
          "shell.execute_reply": "2022-07-04T14:00:07.546749Z"
        },
        "papermill": {
          "duration": 0.710906,
          "end_time": "2022-07-04T14:00:07.549303",
          "exception": false,
          "start_time": "2022-07-04T14:00:06.838397",
          "status": "completed"
        },
        "tags": [],
        "id": "63453bcd",
        "colab": {
          "base_uri": "https://localhost:8080/",
          "height": 281
        },
        "outputId": "6ad87caa-e1bd-46b8-b9a8-4a670557fc9b"
      },
      "outputs": [
        {
          "output_type": "display_data",
          "data": {
            "text/plain": [
              "<Figure size 432x288 with 1 Axes>"
            ],
            "image/png": "[encoded data removed]"
          },
          "metadata": {
            "needs_background": "light"
          }
        }
      ],
      "source": [
        "# PLOT PREDICTIONS\n",
        "import matplotlib.pyplot as plt\n",
        "\n",
        "plt.hist(sub.prediction, bins=100)\n",
        "plt.title('Test Predictions')\n",
        "plt.show()"
      ]
    },
    {
      "cell_type": "markdown",
      "metadata": {
        "papermill": {
          "duration": 0.042841,
          "end_time": "2022-07-15T16:51:28.477165",
          "exception": false,
          "start_time": "2022-07-15T16:51:28.434324",
          "status": "completed"
        },
        "tags": [],
        "id": "802623f7"
      },
      "source": [
        "# Submit to Kaggle from Colab"
      ],
      "id": "802623f7"
    },
    {
      "cell_type": "code",
      "execution_count": null,
      "metadata": {
        "execution": {
          "iopub.execute_input": "2022-07-15T16:51:28.552420Z",
          "iopub.status.busy": "2022-07-15T16:51:28.551829Z",
          "iopub.status.idle": "2022-07-15T16:51:28.557906Z",
          "shell.execute_reply": "2022-07-15T16:51:28.557166Z"
        },
        "papermill": {
          "duration": 0.048007,
          "end_time": "2022-07-15T16:51:28.561880",
          "exception": false,
          "start_time": "2022-07-15T16:51:28.513873",
          "status": "completed"
        },
        "tags": [],
        "id": "efc54970",
        "colab": {
          "base_uri": "https://localhost:8080/"
        },
        "outputId": "4ce6ebf2-0e64-4a5e-d424-143d93fa2644"
      },
      "outputs": [
        {
          "output_type": "stream",
          "name": "stdout",
          "text": [
            "100% 67.6M/67.6M [00:08<00:00, 8.23MB/s]\n",
            "Successfully submitted to American Express - Default Prediction"
          ]
        }
      ],
      "source": [
        "# Submit\n",
        "!kaggle competitions submit -c amex-default-prediction -f submission_xgb_v6_seed42_fold5.csv -m \"Run with (last - first) / s_2 seed 42 fold 5\""
      ],
      "id": "efc54970"
    },
    {
      "cell_type": "code",
      "execution_count": null,
      "metadata": {
        "execution": {
          "iopub.execute_input": "2022-07-15T16:51:28.636400Z",
          "iopub.status.busy": "2022-07-15T16:51:28.635706Z",
          "iopub.status.idle": "2022-07-15T16:51:28.643060Z",
          "shell.execute_reply": "2022-07-15T16:51:28.640501Z"
        },
        "papermill": {
          "duration": 0.04911,
          "end_time": "2022-07-15T16:51:28.647823",
          "exception": false,
          "start_time": "2022-07-15T16:51:28.598713",
          "status": "completed"
        },
        "tags": [],
        "id": "aad5cc1a",
        "colab": {
          "base_uri": "https://localhost:8080/"
        },
        "outputId": "98c7dcb2-64b6-458a-c8d4-3227a3ce0388"
      },
      "outputs": [
        {
          "output_type": "stream",
          "name": "stdout",
          "text": [
            "fileName                            date                 description                                               status    publicScore  privateScore  \n",
            "----------------------------------  -------------------  --------------------------------------------------------  --------  -----------  ------------  \n",
            "submission_xgb_v6_seed42_fold5.csv  2022-07-27 14:21:18  Run with (last - first) / s_2 seed 42 fold 5              complete  0.796                      \n",
            "submission_cat_v1_seed42_fold5.csv  2022-07-27 09:46:57  Run with seed 42 fold 5 last / s2                         complete  0.796                      \n",
            "submission_cat_v1_seed42_fold5.csv  2022-07-27 06:08:24  From colab seed 42 fold 5 lag plus                        complete  0.794                      \n",
            "submission_xgb_v5_seed42_fold5.csv  2022-07-27 02:53:07  xgb fold 5 seed 42 last / s2 lag                          complete  0.796                      \n",
            "submission_xgb_v1_seed42_fold5.csv  2022-07-26 16:34:13  From colab seed 42 fold 5 lag plus                        complete  0.795                      \n",
            "Amex Default Prediction - Ensemble  2022-07-26 16:18:30  Notebook Amex Default Prediction - Ensemble | Version 24  complete  0.798                      \n",
            "Amex Default Prediction - Ensemble  2022-07-26 15:17:31  Notebook Amex Default Prediction - Ensemble | Version 23  complete  0.798                      \n",
            "submission_xgb_v1_seed42_fold5.csv  2022-07-26 14:59:19  From colab seed 42 fold 5 lag plus                        complete  0.795                      \n",
            "submission_cat_v1_seed42_fold5.csv  2022-07-26 13:10:11  From colab seed 42 fold 5 lag plus                        complete  0.796                      \n",
            "Amex Default Prediction - Ensemble  2022-07-25 18:21:01  Notebook Amex Default Prediction - Ensemble | Version 22  complete  0.799                      \n",
            "submission_cat_v1_seed42_fold5.csv  2022-07-25 18:15:57  From colab seed 42 fold 5 lag plus                        complete  0.796                      \n",
            "Amex Default Prediction - Ensemble  2022-07-24 15:56:24  Notebook Amex Default Prediction - Ensemble | Version 20  complete  0.759                      \n",
            "Amex Default Prediction - Ensemble  2022-07-24 15:55:05  Notebook Amex Default Prediction - Ensemble | Version 19  complete  0.745                      \n",
            "Amex Default Prediction - Ensemble  2022-07-24 14:26:44  Notebook Amex Default Prediction - Ensemble | Version 16  complete  0.798                      \n",
            "Amex Default Prediction - Ensemble  2022-07-24 14:22:52  Notebook Amex Default Prediction - Ensemble | Version 15  complete  0.798                      \n",
            "submission_cat_v1_seed42_fold5.csv  2022-07-24 13:58:18  Run with round 2 cat                                      complete  0.796                      \n",
            "submission_lgb_v1_seed42_fold5.csv  2022-07-23 16:48:14  the first version. fe lag plus seed 52 fold 5 From colab  complete  0.797                      \n",
            "Amex Default Prediction - Ensemble  2022-07-23 11:15:04  Notebook Amex Default Prediction - Ensemble | Version 14  complete  0.798                      \n",
            "Amex Default Prediction - Ensemble  2022-07-23 11:08:12  Notebook Amex Default Prediction - Ensemble | Version 13  complete  0.798                      \n",
            "submission_xgb_v1_seed42_fold5.csv  2022-07-23 10:58:31  From colab seed 42 fold 5 lag plus                        complete  0.795                      \n",
            "submission_cat_v1_seed42_fold5.csv  2022-07-23 09:53:21  From colab seed 42 fold 5 lag plus                        complete  0.796                      \n",
            "Amex Default Prediction - Ensemble  2022-07-22 12:32:58  Notebook Amex Default Prediction - Ensemble | Version 12  complete  0.798                      \n",
            "Amex Default Prediction - Ensemble  2022-07-22 12:30:01  Notebook Amex Default Prediction - Ensemble | Version 11  complete  0.798                      \n",
            "submission_xgb_v1_seed42_fold2.csv  2022-07-22 12:19:29  From colab seed 42 fold 5 lag plus                        complete  0.794                      \n",
            "Amex Default Prediction - Ensemble  2022-07-21 12:48:16  Notebook Amex Default Prediction - Ensemble | Version 9   complete  0.798                      \n",
            "submission_xgb_v1_seed42_fold5.csv  2022-07-21 12:36:23  From colab seed 42 fold 5 lag plus                        complete  0.794                      \n",
            "Amex Default Prediction - Ensemble  2022-07-20 17:29:34  Notebook Amex Default Prediction - Ensemble | Version 8   complete  0.798                      \n",
            "Amex Default Prediction - Ensemble  2022-07-20 17:13:37  Notebook Amex Default Prediction - Ensemble | Version 7   complete  0.798                      \n",
            "Amex Default Prediction - Ensemble  2022-07-20 17:10:16  Notebook Amex Default Prediction - Ensemble | Version 6   complete  0.798                      \n",
            "Amex Default Prediction - Ensemble  2022-07-20 17:08:15  Notebook Amex Default Prediction - Ensemble | Version 5   complete  0.798                      \n",
            "submission_xgb_v1_seed42_fold5.csv  2022-07-20 16:58:31  From colab seed 42 fold 5 lag plus                        complete  0.794                      \n",
            "submission_cat_v1_seed42_fold5.csv  2022-07-19 17:31:52  From colab seed 42 fold 5 lag plus                        complete  0.795                      \n",
            "Amex Default Prediction - Ensemble  2022-07-19 16:37:40  Notebook Amex Default Prediction - Ensemble | Version 4   complete  0.798                      \n",
            "Amex Default Prediction - Ensemble  2022-07-19 16:34:17  Notebook Amex Default Prediction - Ensemble | Version 2   complete  0.798                      \n",
            "submission_cat_v1_seed42_fold5.csv  2022-07-19 12:11:59  From colab seed 42 fold 5 lag plus                        complete  0.795                      \n",
            "Amex Default Prediction with Cat    2022-07-18 23:01:33  Notebook Amex Default Prediction with Cat | Version 129   complete  0.798                      \n",
            "Amex Default Prediction with Cat    2022-07-18 22:58:51  Notebook Amex Default Prediction with Cat | Version 128   complete  0.798                      \n",
            "submission_cat_v1_seed42_fold5.csv  2022-07-18 22:27:50  From colab seed 42 fold 5 lag plus                        complete  0.795                      \n",
            "submission_lgb_v1_seed42_fold5.csv  2022-07-18 20:37:22  the first version. fe lag plus seed 52 fold 5 From colab  complete  0.797                      \n",
            "submission_cat_v1.csv               2022-07-18 06:30:57  From colab seed 42 fold 5 lag plus                        complete  0.795                      \n",
            "Amex Default Prediction with Cat    2022-07-16 16:14:20  Notebook Amex Default Prediction with Cat | Version 125   complete  0.794                      \n",
            "Amex Default Prediction with Cat    2022-07-15 16:33:32  Notebook Amex Default Prediction with Cat | Version 127   complete  0.798                      \n",
            "Amex Default Prediction with Cat    2022-07-15 16:24:25  Notebook Amex Default Prediction with Cat | Version 126   complete  0.798                      \n",
            "submission_cat_v123_seed52_794.csv  2022-07-15 16:12:09                                                            complete  0.795                      \n",
            "submission_cat_v123_0794.csv        2022-07-15 15:47:08                                                            complete  0.795                      \n",
            "Amex Default Prediction with Cat    2022-07-15 13:53:07  Notebook Amex Default Prediction with Cat | Version 123   complete  0.798                      \n",
            "Amex Default Prediction with Cat    2022-07-12 10:17:49  Notebook Amex Default Prediction with Cat | Version 122   complete  0.794                      \n",
            "Amex Default Prediction with Cat    2022-07-11 16:41:48  Notebook Amex Default Prediction with Cat | Version 119   complete  0.794                      \n",
            "Amex Default Prediction with Cat    2022-07-11 13:00:10  Notebook Amex Default Prediction with Cat | Version 116   complete  0.794                      \n",
            "Amex Default Prediction with Cat    2022-07-10 12:29:19  Notebook Amex Default Prediction with Cat | Version 115   complete  0.798                      \n"
          ]
        }
      ],
      "source": [
        "# Run after few seconds\n",
        "!kaggle competitions submissions amex-default-prediction"
      ],
      "id": "aad5cc1a"
    }
  ],
  "metadata": {
    "kernelspec": {
      "display_name": "Python 3",
      "language": "python",
      "name": "python3"
    },
    "language_info": {
      "codemirror_mode": {
        "name": "ipython",
        "version": 3
      },
      "file_extension": ".py",
      "mimetype": "text/x-python",
      "name": "python",
      "nbconvert_exporter": "python",
      "pygments_lexer": "ipython3",
      "version": "3.7.12"
    },
    "papermill": {
      "default_parameters": {},
      "duration": 1350.063162,
      "end_time": "2022-07-04T14:00:08.785368",
      "environment_variables": {},
      "exception": null,
      "input_path": "__notebook__.ipynb",
      "output_path": "__notebook__.ipynb",
      "parameters": {},
      "start_time": "2022-07-04T13:37:38.722206",
      "version": "2.3.4"
    },
    "colab": {
      "name": "amex-default-prediction-xgb.ipynb",
      "provenance": [],
      "machine_shape": "hm"
    },
    "gpuClass": "standard",
    "accelerator": "GPU"
  },
  "nbformat": 4,
  "nbformat_minor": 5
}
{
  "cells": [
    {
      "cell_type": "markdown",
      "metadata": {
        "papermill": {
          "duration": 0.009252,
          "end_time": "2022-07-15T16:13:27.338460",
          "exception": false,
          "start_time": "2022-07-15T16:13:27.329208",
          "status": "completed"
        },
        "tags": [],
        "id": "ec8911a0"
      },
      "source": [
        "# Prepare for colab"
      ],
      "id": "ec8911a0"
    },
    {
      "cell_type": "code",
      "execution_count": 1,
      "metadata": {
        "execution": {
          "iopub.execute_input": "2022-07-15T16:13:27.400098Z",
          "iopub.status.busy": "2022-07-15T16:13:27.399391Z",
          "iopub.status.idle": "2022-07-15T16:13:27.403356Z",
          "shell.execute_reply": "2022-07-15T16:13:27.402606Z"
        },
        "papermill": {
          "duration": 0.015568,
          "end_time": "2022-07-15T16:13:27.405067",
          "exception": false,
          "start_time": "2022-07-15T16:13:27.389499",
          "status": "completed"
        },
        "tags": [],
        "id": "bad112fb",
        "colab": {
          "base_uri": "https://localhost:8080/"
        },
        "outputId": "424ed7bd-299e-4122-c36c-08ad8b7349d0"
      },
      "outputs": [
        {
          "output_type": "stream",
          "name": "stdout",
          "text": [
            "Looking in indexes: https://pypi.org/simple, https://us-python.pkg.dev/colab-wheels/public/simple/\n",
            "Requirement already satisfied: xgboost in /usr/local/lib/python3.7/dist-packages (0.90)\n",
            "Collecting xgboost\n",
            "  Downloading xgboost-1.6.1-py3-none-manylinux2014_x86_64.whl (192.9 MB)\n",
            "\u001b[K     |████████████████████████████████| 192.9 MB 53 kB/s \n",
            "\u001b[?25hRequirement already satisfied: numpy in /usr/local/lib/python3.7/dist-packages (from xgboost) (1.21.6)\n",
            "Requirement already satisfied: scipy in /usr/local/lib/python3.7/dist-packages (from xgboost) (1.7.3)\n",
            "Installing collected packages: xgboost\n",
            "  Attempting uninstall: xgboost\n",
            "    Found existing installation: xgboost 0.90\n",
            "    Uninstalling xgboost-0.90:\n",
            "      Successfully uninstalled xgboost-0.90\n",
            "Successfully installed xgboost-1.6.1\n",
            "Looking in indexes: https://pypi.org/simple, https://us-python.pkg.dev/colab-wheels/public/simple/\n",
            "Requirement already satisfied: kaggle in /usr/local/lib/python3.7/dist-packages (1.5.12)\n",
            "Requirement already satisfied: certifi in /usr/local/lib/python3.7/dist-packages (from kaggle) (2022.6.15)\n",
            "Requirement already satisfied: requests in /usr/local/lib/python3.7/dist-packages (from kaggle) (2.23.0)\n",
            "Requirement already satisfied: tqdm in /usr/local/lib/python3.7/dist-packages (from kaggle) (4.64.0)\n",
            "Requirement already satisfied: python-slugify in /usr/local/lib/python3.7/dist-packages (from kaggle) (6.1.2)\n",
            "Requirement already satisfied: python-dateutil in /usr/local/lib/python3.7/dist-packages (from kaggle) (2.8.2)\n",
            "Requirement already satisfied: urllib3 in /usr/local/lib/python3.7/dist-packages (from kaggle) (1.24.3)\n",
            "Requirement already satisfied: six>=1.10 in /usr/local/lib/python3.7/dist-packages (from kaggle) (1.15.0)\n",
            "Requirement already satisfied: text-unidecode>=1.3 in /usr/local/lib/python3.7/dist-packages (from python-slugify->kaggle) (1.3)\n",
            "Requirement already satisfied: idna<3,>=2.5 in /usr/local/lib/python3.7/dist-packages (from requests->kaggle) (2.10)\n",
            "Requirement already satisfied: chardet<4,>=3.0.2 in /usr/local/lib/python3.7/dist-packages (from requests->kaggle) (3.0.4)\n"
          ]
        }
      ],
      "source": [
        "!pip install xgboost -U\n",
        "!pip install kaggle"
      ],
      "id": "bad112fb"
    },
    {
      "cell_type": "markdown",
      "metadata": {
        "papermill": {
          "duration": 0.008806,
          "end_time": "2022-07-15T16:13:27.422550",
          "exception": false,
          "start_time": "2022-07-15T16:13:27.413744",
          "status": "completed"
        },
        "tags": [],
        "id": "3fa90515"
      },
      "source": [
        "## Upload API Token"
      ],
      "id": "3fa90515"
    },
    {
      "cell_type": "code",
      "execution_count": 2,
      "metadata": {
        "execution": {
          "iopub.execute_input": "2022-07-15T16:13:27.442237Z",
          "iopub.status.busy": "2022-07-15T16:13:27.441555Z",
          "iopub.status.idle": "2022-07-15T16:13:27.448196Z",
          "shell.execute_reply": "2022-07-15T16:13:27.447549Z"
        },
        "papermill": {
          "duration": 0.01814,
          "end_time": "2022-07-15T16:13:27.449796",
          "exception": false,
          "start_time": "2022-07-15T16:13:27.431656",
          "status": "completed"
        },
        "tags": [],
        "id": "54e44e29",
        "colab": {
          "base_uri": "https://localhost:8080/"
        },
        "outputId": "0bea2e99-2df8-4e08-8612-bc86d9a69261"
      },
      "outputs": [
        {
          "output_type": "stream",
          "name": "stdout",
          "text": [
            "Mounted at /content/drive\n"
          ]
        }
      ],
      "source": [
        "from google.colab import drive\n",
        "drive.mount('/content/drive')\n",
        "\n",
        "# Then move kaggle.json into the folder where the API expects to find it.\n",
        "!mkdir -p ~/.kaggle/ && cp /content/drive/MyDrive/backups/kaggle.json ~/.kaggle/ && chmod 600 ~/.kaggle/kaggle.json"
      ],
      "id": "54e44e29"
    },
    {
      "cell_type": "markdown",
      "metadata": {
        "papermill": {
          "duration": 0.008512,
          "end_time": "2022-07-15T16:13:27.467327",
          "exception": false,
          "start_time": "2022-07-15T16:13:27.458815",
          "status": "completed"
        },
        "tags": [],
        "id": "1abbc588"
      },
      "source": [
        "## Download and unzip dataset"
      ],
      "id": "1abbc588"
    },
    {
      "cell_type": "code",
      "execution_count": 3,
      "metadata": {
        "execution": {
          "iopub.execute_input": "2022-07-15T16:13:27.486038Z",
          "iopub.status.busy": "2022-07-15T16:13:27.485615Z",
          "iopub.status.idle": "2022-07-15T16:13:27.490276Z",
          "shell.execute_reply": "2022-07-15T16:13:27.489580Z"
        },
        "papermill": {
          "duration": 0.016071,
          "end_time": "2022-07-15T16:13:27.491993",
          "exception": false,
          "start_time": "2022-07-15T16:13:27.475922",
          "status": "completed"
        },
        "tags": [],
        "id": "c17f8dd7",
        "colab": {
          "base_uri": "https://localhost:8080/"
        },
        "outputId": "a69d7095-5cfc-4aa6-acc7-30d8d0ca8f05"
      },
      "outputs": [
        {
          "output_type": "stream",
          "name": "stdout",
          "text": [
            "Downloading amex-fe-plus.zip to /content\n",
            "100% 3.85G/3.85G [01:35<00:00, 56.3MB/s]\n",
            "100% 3.85G/3.85G [01:35<00:00, 43.4MB/s]\n",
            "Archive:  /content/amex-fe-plus.zip\n",
            "  inflating: test_fe_plus_plus.parquet  \n",
            "  inflating: train_fe_plus_plus.parquet  \n"
          ]
        }
      ],
      "source": [
        "!kaggle datasets download -d ryuina/amex-fe-plus\n",
        "!unzip /content/amex-fe-plus.zip"
      ],
      "id": "c17f8dd7"
    },
    {
      "cell_type": "code",
      "execution_count": 4,
      "metadata": {
        "execution": {
          "iopub.execute_input": "2022-07-15T16:13:27.515341Z",
          "iopub.status.busy": "2022-07-15T16:13:27.514880Z",
          "iopub.status.idle": "2022-07-15T16:13:27.523654Z",
          "shell.execute_reply": "2022-07-15T16:13:27.522700Z"
        },
        "papermill": {
          "duration": 0.025128,
          "end_time": "2022-07-15T16:13:27.526436",
          "exception": false,
          "start_time": "2022-07-15T16:13:27.501308",
          "status": "completed"
        },
        "tags": [],
        "id": "e4df1701",
        "colab": {
          "base_uri": "https://localhost:8080/"
        },
        "outputId": "dd627080-6a63-4eb9-bd26-81b16836754f"
      },
      "outputs": [
        {
          "output_type": "stream",
          "name": "stdout",
          "text": [
            "Downloading sample_submission.csv.zip to /content\n",
            " 80% 26.0M/32.4M [00:01<00:00, 25.1MB/s]\n",
            "100% 32.4M/32.4M [00:01<00:00, 23.6MB/s]\n",
            "Archive:  /content/sample_submission.csv.zip\n",
            "  inflating: sample_submission.csv   \n"
          ]
        }
      ],
      "source": [
        "!kaggle competitions download -c amex-default-prediction -f sample_submission.csv\n",
        "!unzip /content/sample_submission.csv.zip"
      ],
      "id": "e4df1701"
    },
    {
      "cell_type": "code",
      "source": [
        "!kaggle competitions download -c amex-default-prediction -f train_labels.csv\n",
        "!unzip /content/train_labels.csv.zip"
      ],
      "metadata": {
        "colab": {
          "base_uri": "https://localhost:8080/"
        },
        "id": "AVz5ZOwL-mic",
        "outputId": "a389ec7f-12bd-4377-d37c-985e1a5204ab"
      },
      "id": "AVz5ZOwL-mic",
      "execution_count": 5,
      "outputs": [
        {
          "output_type": "stream",
          "name": "stdout",
          "text": [
            "Downloading train_labels.csv.zip to /content\n",
            " 31% 5.00M/16.2M [00:00<00:00, 15.5MB/s]\n",
            "100% 16.2M/16.2M [00:00<00:00, 40.7MB/s]\n",
            "Archive:  /content/train_labels.csv.zip\n",
            "  inflating: train_labels.csv        \n"
          ]
        }
      ]
    },
    {
      "cell_type": "markdown",
      "source": [
        "# Training"
      ],
      "metadata": {
        "id": "Sc_uUzZtcYfw"
      },
      "id": "Sc_uUzZtcYfw"
    },
    {
      "cell_type": "code",
      "execution_count": 6,
      "id": "75a923db",
      "metadata": {
        "_cell_guid": "b1076dfc-b9ad-4769-8c92-a6c4dae69d19",
        "_uuid": "8f2839f25d086af736a60e9eeb907d3b93b6e0e5",
        "execution": {
          "iopub.execute_input": "2022-07-04T13:37:46.871349Z",
          "iopub.status.busy": "2022-07-04T13:37:46.870600Z",
          "iopub.status.idle": "2022-07-04T13:37:50.917325Z",
          "shell.execute_reply": "2022-07-04T13:37:50.916525Z"
        },
        "papermill": {
          "duration": 4.059938,
          "end_time": "2022-07-04T13:37:50.919741",
          "exception": false,
          "start_time": "2022-07-04T13:37:46.859803",
          "status": "completed"
        },
        "tags": [],
        "id": "75a923db"
      },
      "outputs": [],
      "source": [
        "import pandas as pd\n",
        "import numpy as np\n",
        "import random\n",
        "import matplotlib.pyplot\n",
        "import os\n",
        "import gc; gc.enable()\n",
        "\n",
        "from sklearn.preprocessing import LabelEncoder\n",
        "from tqdm import tqdm\n",
        "\n",
        "import warnings\n",
        "warnings.filterwarnings('ignore')"
      ]
    },
    {
      "cell_type": "code",
      "execution_count": 7,
      "id": "b06e1731",
      "metadata": {
        "execution": {
          "iopub.execute_input": "2022-07-04T13:37:50.930838Z",
          "iopub.status.busy": "2022-07-04T13:37:50.930542Z",
          "iopub.status.idle": "2022-07-04T13:37:50.934301Z",
          "shell.execute_reply": "2022-07-04T13:37:50.933487Z"
        },
        "papermill": {
          "duration": 0.011323,
          "end_time": "2022-07-04T13:37:50.936212",
          "exception": false,
          "start_time": "2022-07-04T13:37:50.924889",
          "status": "completed"
        },
        "tags": [],
        "id": "b06e1731"
      },
      "outputs": [],
      "source": [
        "VER=1\n",
        "SEED = 42\n",
        "FOLDS = 5\n",
        "\n",
        "cat_features = [\"B_30\", \"B_38\", \"D_114\", \"D_116\", \"D_117\", \"D_120\", \"D_126\", \"D_63\", \"D_64\", \"D_66\", \"D_68\"]\n",
        "\n",
        "def seed_everything(seed):\n",
        "    random.seed(seed)\n",
        "    np.random.seed(seed)\n",
        "    os.environ['PYTHONHASHSEED'] = str(seed)\n",
        "\n",
        "seed_everything(SEED)"
      ]
    },
    {
      "cell_type": "code",
      "execution_count": 8,
      "id": "d8f2573f",
      "metadata": {
        "execution": {
          "iopub.execute_input": "2022-07-04T13:37:50.966158Z",
          "iopub.status.busy": "2022-07-04T13:37:50.965558Z",
          "iopub.status.idle": "2022-07-04T13:38:12.628753Z",
          "shell.execute_reply": "2022-07-04T13:38:12.627666Z"
        },
        "papermill": {
          "duration": 21.671053,
          "end_time": "2022-07-04T13:38:12.631246",
          "exception": false,
          "start_time": "2022-07-04T13:37:50.960193",
          "status": "completed"
        },
        "tags": [],
        "id": "d8f2573f"
      },
      "outputs": [],
      "source": [
        "train = pd.read_parquet(\"/content/train_fe_plus_plus.parquet\")\n",
        "# train = train.reset_index(level=0)"
      ]
    },
    {
      "cell_type": "code",
      "execution_count": 9,
      "id": "64d772da",
      "metadata": {
        "execution": {
          "iopub.execute_input": "2022-07-04T13:38:12.881106Z",
          "iopub.status.busy": "2022-07-04T13:38:12.880449Z",
          "iopub.status.idle": "2022-07-04T13:38:12.888042Z",
          "shell.execute_reply": "2022-07-04T13:38:12.887178Z"
        },
        "papermill": {
          "duration": 0.01539,
          "end_time": "2022-07-04T13:38:12.889725",
          "exception": false,
          "start_time": "2022-07-04T13:38:12.874335",
          "status": "completed"
        },
        "tags": [],
        "id": "64d772da",
        "outputId": "54de2b9a-7486-4282-c84f-6942ab50861c",
        "colab": {
          "base_uri": "https://localhost:8080/"
        }
      },
      "outputs": [
        {
          "output_type": "stream",
          "name": "stderr",
          "text": [
            "100%|██████████| 1284/1284 [02:24<00:00,  8.91it/s] \n"
          ]
        }
      ],
      "source": [
        "# https://www.kaggle.com/code/ragnar123/amex-lgbm-dart-cv-0-7963\n",
        "# Round last float features to 2 decimal place\n",
        "float_cols = list(train.dtypes[(train.dtypes == 'float32') | (train.dtypes == 'float64')].index)\n",
        "float_cols = [col for col in float_cols if 'last' in col]\n",
        "\n",
        "for col in float_cols:\n",
        "    train[col + '_round2'] = train[col].round(2)\n",
        "\n",
        "num_cols = [col for col in train.columns if 'last' in col]\n",
        "num_cols = [col[:-5] for col in num_cols if 'round' not in col]\n",
        "for col in num_cols:\n",
        "    try:\n",
        "        train[f'{col}_last_min_diff'] = train[f'{col}_last'] - train[f'{col}_min']\n",
        "        train[f'{col}_last_max_diff'] = train[f'{col}_last'] - train[f'{col}_max']\n",
        "    except: pass\n",
        "num_cols = list(train.dtypes[(train.dtypes == 'float32') | (train.dtypes == 'float64')].index)\n",
        "for col in tqdm(num_cols):\n",
        "    train[col] = train[col].astype(np.float16)\n",
        "\n",
        "# train.replace([-np.inf, np.inf], np.nan, inplace=True)\n",
        "train.fillna(-127, inplace=True)"
      ]
    },
    {
      "cell_type": "code",
      "execution_count": 10,
      "id": "e9e4628c",
      "metadata": {
        "execution": {
          "iopub.execute_input": "2022-07-04T13:38:12.901239Z",
          "iopub.status.busy": "2022-07-04T13:38:12.900951Z",
          "iopub.status.idle": "2022-07-04T13:38:14.055784Z",
          "shell.execute_reply": "2022-07-04T13:38:14.054043Z"
        },
        "papermill": {
          "duration": 1.163442,
          "end_time": "2022-07-04T13:38:14.058383",
          "exception": false,
          "start_time": "2022-07-04T13:38:12.894941",
          "status": "completed"
        },
        "tags": [],
        "id": "e9e4628c"
      },
      "outputs": [],
      "source": [
        "train = train.set_index('customer_ID')\n",
        "train = train.sort_index().reset_index()\n",
        "FEATURES = train.drop(columns=['customer_ID', 'target']).columns"
      ]
    },
    {
      "cell_type": "code",
      "execution_count": 11,
      "id": "d98b705b",
      "metadata": {
        "execution": {
          "iopub.execute_input": "2022-07-04T13:38:15.369855Z",
          "iopub.status.busy": "2022-07-04T13:38:15.369570Z",
          "iopub.status.idle": "2022-07-04T13:38:15.468113Z",
          "shell.execute_reply": "2022-07-04T13:38:15.466877Z"
        },
        "papermill": {
          "duration": 0.106496,
          "end_time": "2022-07-04T13:38:15.469835",
          "exception": false,
          "start_time": "2022-07-04T13:38:15.363339",
          "status": "completed"
        },
        "tags": [],
        "id": "d98b705b",
        "colab": {
          "base_uri": "https://localhost:8080/"
        },
        "outputId": "b288c4d5-0259-426b-8c4b-2f21aa18f467"
      },
      "outputs": [
        {
          "output_type": "stream",
          "name": "stdout",
          "text": [
            "XGB Version 1.6.1\n"
          ]
        }
      ],
      "source": [
        "# LOAD XGB LIBRARY\n",
        "from sklearn.model_selection import KFold\n",
        "import xgboost as xgb\n",
        "print('XGB Version',xgb.__version__)\n",
        "\n",
        "# XGB MODEL PARAMETERS\n",
        "xgb_parms = {\n",
        "    'max_depth':7,\n",
        "    'eta':0.01,\n",
        "    'subsample':0.75,\n",
        "    'colsample_bytree':0.35,\n",
        "    'min_child_weight':8,\n",
        "    # 'booster': 'dart',\n",
        "#     'max_delta_step': 16,\n",
        "    'eval_metric':['logloss', 'auc'],\n",
        "    'gamma':1.5,\n",
        "    'lambda':70,\n",
        "#     'reg_alpha':2,\n",
        "#     'reg_lambda':2,\n",
        "#     'scale_pos_weight':2.5,\n",
        "#     'eval_metric':'logloss',\n",
        "    'objective':'binary:logistic',\n",
        "    'tree_method':'gpu_hist',\n",
        "    'predictor':'gpu_predictor',\n",
        "    'random_state':SEED\n",
        "}"
      ]
    },
    {
      "cell_type": "code",
      "execution_count": 12,
      "id": "89f2c8a7",
      "metadata": {
        "execution": {
          "iopub.execute_input": "2022-07-04T13:38:15.503475Z",
          "iopub.status.busy": "2022-07-04T13:38:15.503227Z",
          "iopub.status.idle": "2022-07-04T13:38:15.511646Z",
          "shell.execute_reply": "2022-07-04T13:38:15.510996Z"
        },
        "papermill": {
          "duration": 0.01593,
          "end_time": "2022-07-04T13:38:15.513211",
          "exception": false,
          "start_time": "2022-07-04T13:38:15.497281",
          "status": "completed"
        },
        "tags": [],
        "id": "89f2c8a7"
      },
      "outputs": [],
      "source": [
        "# https://www.kaggle.com/competitions/amex-default-prediction/discussion/328020\n",
        "import numpy as np\n",
        "\n",
        "def amex_metric_numpy(y_true: np.array, y_pred: np.array) -> float:\n",
        "\n",
        "    # count of positives and negatives\n",
        "    n_pos = y_true.sum()\n",
        "    n_neg = y_true.shape[0] - n_pos\n",
        "\n",
        "    # sorting by descring prediction values\n",
        "    indices = np.argsort(y_pred)[::-1]\n",
        "    preds, target = y_pred[indices], y_true[indices]\n",
        "\n",
        "    # filter the top 4% by cumulative row weights\n",
        "    weight = 20.0 - target * 19.0\n",
        "    cum_norm_weight = (weight / weight.sum()).cumsum()\n",
        "    four_pct_filter = cum_norm_weight <= 0.04\n",
        "\n",
        "    # default rate captured at 4%\n",
        "    d = target[four_pct_filter].sum() / n_pos\n",
        "\n",
        "    # weighted gini coefficient\n",
        "    lorentz = (target / n_pos).cumsum()\n",
        "    gini = ((lorentz - cum_norm_weight) * weight).sum()\n",
        "\n",
        "    # max weighted gini coefficient\n",
        "    gini_max = 10 * n_neg * (1 - 19 / (n_pos + 20 * n_neg))\n",
        "\n",
        "    # normalized weighted gini coefficient\n",
        "    g = gini / gini_max\n",
        "\n",
        "    return 0.5 * (g + d)\n",
        "\n",
        "def xgb_amex(y_pred, y_true):\n",
        "    return 'amex', amex_metric_numpy(y_true.get_label(), y_pred)"
      ]
    },
    {
      "cell_type": "code",
      "execution_count": 13,
      "id": "1b3c3440",
      "metadata": {
        "execution": {
          "iopub.execute_input": "2022-07-04T13:38:15.524655Z",
          "iopub.status.busy": "2022-07-04T13:38:15.524403Z",
          "iopub.status.idle": "2022-07-04T13:57:20.743694Z",
          "shell.execute_reply": "2022-07-04T13:57:20.742632Z"
        },
        "papermill": {
          "duration": 1145.227069,
          "end_time": "2022-07-04T13:57:20.745545",
          "exception": false,
          "start_time": "2022-07-04T13:38:15.518476",
          "status": "completed"
        },
        "tags": [],
        "id": "1b3c3440",
        "colab": {
          "base_uri": "https://localhost:8080/"
        },
        "outputId": "fe2d389e-1184-4595-d477-013cb49d8f0b"
      },
      "outputs": [
        {
          "output_type": "stream",
          "name": "stdout",
          "text": [
            "#########################\n",
            "### Fold 1\n",
            "### Train size 367130 Valid size 91783\n",
            "#########################\n",
            "[0]\ttrain-logloss:0.68663\ttrain-auc:0.93566\ttrain-amex:0.70584\teval-logloss:0.68665\teval-auc:0.93298\teval-amex:0.69976\n",
            "[200]\ttrain-logloss:0.27497\ttrain-auc:0.95656\ttrain-amex:0.77347\teval-logloss:0.27907\teval-auc:0.95336\teval-amex:0.76343\n",
            "[400]\ttrain-logloss:0.22876\ttrain-auc:0.96030\ttrain-amex:0.78758\teval-logloss:0.23593\teval-auc:0.95645\teval-amex:0.77434\n",
            "[600]\ttrain-logloss:0.21690\ttrain-auc:0.96284\ttrain-amex:0.79861\teval-logloss:0.22700\teval-auc:0.95819\teval-amex:0.78103\n",
            "[800]\ttrain-logloss:0.21042\ttrain-auc:0.96480\ttrain-amex:0.80781\teval-logloss:0.22340\teval-auc:0.95929\teval-amex:0.78555\n",
            "[1000]\ttrain-logloss:0.20581\ttrain-auc:0.96631\ttrain-amex:0.81460\teval-logloss:0.22139\teval-auc:0.95996\teval-amex:0.78853\n",
            "[1200]\ttrain-logloss:0.20197\ttrain-auc:0.96760\ttrain-amex:0.82079\teval-logloss:0.22008\teval-auc:0.96041\teval-amex:0.78939\n",
            "[1400]\ttrain-logloss:0.19846\ttrain-auc:0.96880\ttrain-amex:0.82628\teval-logloss:0.21914\teval-auc:0.96074\teval-amex:0.79093\n",
            "[1600]\ttrain-logloss:0.19537\ttrain-auc:0.96986\ttrain-amex:0.83099\teval-logloss:0.21848\teval-auc:0.96097\teval-amex:0.79163\n",
            "[1800]\ttrain-logloss:0.19239\ttrain-auc:0.97089\ttrain-amex:0.83603\teval-logloss:0.21797\teval-auc:0.96115\teval-amex:0.79188\n",
            "[2000]\ttrain-logloss:0.18962\ttrain-auc:0.97184\ttrain-amex:0.84092\teval-logloss:0.21761\teval-auc:0.96129\teval-amex:0.79305\n",
            "[2200]\ttrain-logloss:0.18703\ttrain-auc:0.97273\ttrain-amex:0.84536\teval-logloss:0.21733\teval-auc:0.96139\teval-amex:0.79326\n",
            "[2400]\ttrain-logloss:0.18448\ttrain-auc:0.97361\ttrain-amex:0.84991\teval-logloss:0.21706\teval-auc:0.96148\teval-amex:0.79414\n",
            "[2600]\ttrain-logloss:0.18200\ttrain-auc:0.97445\ttrain-amex:0.85433\teval-logloss:0.21687\teval-auc:0.96155\teval-amex:0.79433\n",
            "[2800]\ttrain-logloss:0.17959\ttrain-auc:0.97527\ttrain-amex:0.85868\teval-logloss:0.21669\teval-auc:0.96162\teval-amex:0.79444\n",
            "[3000]\ttrain-logloss:0.17720\ttrain-auc:0.97608\ttrain-amex:0.86313\teval-logloss:0.21659\teval-auc:0.96165\teval-amex:0.79443\n",
            "[3200]\ttrain-logloss:0.17482\ttrain-auc:0.97689\ttrain-amex:0.86781\teval-logloss:0.21649\teval-auc:0.96169\teval-amex:0.79500\n",
            "[3400]\ttrain-logloss:0.17248\ttrain-auc:0.97768\ttrain-amex:0.87199\teval-logloss:0.21639\teval-auc:0.96172\teval-amex:0.79578\n",
            "[3600]\ttrain-logloss:0.17030\ttrain-auc:0.97840\ttrain-amex:0.87613\teval-logloss:0.21633\teval-auc:0.96175\teval-amex:0.79513\n",
            "[3800]\ttrain-logloss:0.16812\ttrain-auc:0.97911\ttrain-amex:0.87989\teval-logloss:0.21628\teval-auc:0.96177\teval-amex:0.79559\n",
            "[3990]\ttrain-logloss:0.16599\ttrain-auc:0.97981\ttrain-amex:0.88401\teval-logloss:0.21623\teval-auc:0.96179\teval-amex:0.79512\n",
            "Kaggle Metric = 0.7949887795364678 \n",
            "\n",
            "#########################\n",
            "### Fold 2\n",
            "### Train size 367130 Valid size 91783\n",
            "#########################\n",
            "[0]\ttrain-logloss:0.68663\ttrain-auc:0.93602\ttrain-amex:0.70964\teval-logloss:0.68666\teval-auc:0.93470\teval-amex:0.70331\n",
            "[200]\ttrain-logloss:0.27502\ttrain-auc:0.95649\ttrain-amex:0.77478\teval-logloss:0.27892\teval-auc:0.95418\teval-amex:0.76276\n",
            "[400]\ttrain-logloss:0.22881\ttrain-auc:0.96019\ttrain-amex:0.78819\teval-logloss:0.23568\teval-auc:0.95716\teval-amex:0.77376\n",
            "[600]\ttrain-logloss:0.21698\ttrain-auc:0.96271\ttrain-amex:0.79922\teval-logloss:0.22670\teval-auc:0.95884\teval-amex:0.78153\n",
            "[800]\ttrain-logloss:0.21043\ttrain-auc:0.96469\ttrain-amex:0.80883\teval-logloss:0.22300\teval-auc:0.95992\teval-amex:0.78680\n",
            "[1000]\ttrain-logloss:0.20574\ttrain-auc:0.96623\ttrain-amex:0.81555\teval-logloss:0.22096\teval-auc:0.96057\teval-amex:0.78970\n",
            "[1200]\ttrain-logloss:0.20180\ttrain-auc:0.96757\ttrain-amex:0.82144\teval-logloss:0.21959\teval-auc:0.96103\teval-amex:0.79045\n",
            "[1400]\ttrain-logloss:0.19847\ttrain-auc:0.96870\ttrain-amex:0.82690\teval-logloss:0.21868\teval-auc:0.96135\teval-amex:0.79154\n",
            "[1600]\ttrain-logloss:0.19542\ttrain-auc:0.96976\ttrain-amex:0.83233\teval-logloss:0.21804\teval-auc:0.96157\teval-amex:0.79231\n",
            "[1800]\ttrain-logloss:0.19249\ttrain-auc:0.97077\ttrain-amex:0.83713\teval-logloss:0.21750\teval-auc:0.96175\teval-amex:0.79265\n",
            "[2000]\ttrain-logloss:0.18966\ttrain-auc:0.97174\ttrain-amex:0.84222\teval-logloss:0.21708\teval-auc:0.96190\teval-amex:0.79349\n",
            "[2200]\ttrain-logloss:0.18699\ttrain-auc:0.97266\ttrain-amex:0.84695\teval-logloss:0.21678\teval-auc:0.96201\teval-amex:0.79292\n",
            "[2400]\ttrain-logloss:0.18438\ttrain-auc:0.97357\ttrain-amex:0.85147\teval-logloss:0.21654\teval-auc:0.96209\teval-amex:0.79346\n",
            "[2600]\ttrain-logloss:0.18185\ttrain-auc:0.97443\ttrain-amex:0.85613\teval-logloss:0.21631\teval-auc:0.96217\teval-amex:0.79342\n",
            "[2800]\ttrain-logloss:0.17940\ttrain-auc:0.97526\ttrain-amex:0.86077\teval-logloss:0.21613\teval-auc:0.96223\teval-amex:0.79373\n",
            "[3000]\ttrain-logloss:0.17701\ttrain-auc:0.97607\ttrain-amex:0.86508\teval-logloss:0.21600\teval-auc:0.96228\teval-amex:0.79405\n",
            "[3200]\ttrain-logloss:0.17460\ttrain-auc:0.97689\ttrain-amex:0.86960\teval-logloss:0.21590\teval-auc:0.96232\teval-amex:0.79466\n",
            "[3400]\ttrain-logloss:0.17234\ttrain-auc:0.97765\ttrain-amex:0.87344\teval-logloss:0.21578\teval-auc:0.96236\teval-amex:0.79516\n",
            "[3600]\ttrain-logloss:0.17006\ttrain-auc:0.97841\ttrain-amex:0.87726\teval-logloss:0.21568\teval-auc:0.96240\teval-amex:0.79482\n",
            "[3800]\ttrain-logloss:0.16785\ttrain-auc:0.97914\ttrain-amex:0.88134\teval-logloss:0.21559\teval-auc:0.96243\teval-amex:0.79494\n",
            "[4000]\ttrain-logloss:0.16566\ttrain-auc:0.97986\ttrain-amex:0.88538\teval-logloss:0.21552\teval-auc:0.96245\teval-amex:0.79465\n",
            "[4200]\ttrain-logloss:0.16353\ttrain-auc:0.98055\ttrain-amex:0.88927\teval-logloss:0.21546\teval-auc:0.96248\teval-amex:0.79425\n",
            "[4206]\ttrain-logloss:0.16346\ttrain-auc:0.98057\ttrain-amex:0.88944\teval-logloss:0.21545\teval-auc:0.96248\teval-amex:0.79430\n",
            "Kaggle Metric = 0.7945628491989609 \n",
            "\n",
            "#########################\n",
            "### Fold 3\n",
            "### Train size 367130 Valid size 91783\n",
            "#########################\n",
            "[0]\ttrain-logloss:0.68664\ttrain-auc:0.93500\ttrain-amex:0.70564\teval-logloss:0.68665\teval-auc:0.93514\teval-amex:0.70450\n",
            "[200]\ttrain-logloss:0.27551\ttrain-auc:0.95628\ttrain-amex:0.77421\teval-logloss:0.27735\teval-auc:0.95531\teval-amex:0.76664\n",
            "[400]\ttrain-logloss:0.22941\ttrain-auc:0.95996\ttrain-amex:0.78858\teval-logloss:0.23350\teval-auc:0.95813\teval-amex:0.77733\n",
            "[600]\ttrain-logloss:0.21766\ttrain-auc:0.96249\ttrain-amex:0.79935\teval-logloss:0.22429\teval-auc:0.95976\teval-amex:0.78435\n",
            "[800]\ttrain-logloss:0.21120\ttrain-auc:0.96444\ttrain-amex:0.80833\teval-logloss:0.22062\teval-auc:0.96076\teval-amex:0.78892\n",
            "[1000]\ttrain-logloss:0.20655\ttrain-auc:0.96597\ttrain-amex:0.81515\teval-logloss:0.21853\teval-auc:0.96141\teval-amex:0.79205\n",
            "[1200]\ttrain-logloss:0.20264\ttrain-auc:0.96730\ttrain-amex:0.82126\teval-logloss:0.21720\teval-auc:0.96183\teval-amex:0.79361\n",
            "[1400]\ttrain-logloss:0.19930\ttrain-auc:0.96845\ttrain-amex:0.82695\teval-logloss:0.21630\teval-auc:0.96212\teval-amex:0.79389\n",
            "[1600]\ttrain-logloss:0.19615\ttrain-auc:0.96953\ttrain-amex:0.83234\teval-logloss:0.21562\teval-auc:0.96233\teval-amex:0.79466\n",
            "[1800]\ttrain-logloss:0.19324\ttrain-auc:0.97054\ttrain-amex:0.83708\teval-logloss:0.21514\teval-auc:0.96250\teval-amex:0.79562\n",
            "[2000]\ttrain-logloss:0.19059\ttrain-auc:0.97146\ttrain-amex:0.84151\teval-logloss:0.21472\teval-auc:0.96263\teval-amex:0.79622\n",
            "[2200]\ttrain-logloss:0.18795\ttrain-auc:0.97237\ttrain-amex:0.84613\teval-logloss:0.21444\teval-auc:0.96272\teval-amex:0.79681\n",
            "[2400]\ttrain-logloss:0.18530\ttrain-auc:0.97328\ttrain-amex:0.85040\teval-logloss:0.21417\teval-auc:0.96281\teval-amex:0.79663\n",
            "[2600]\ttrain-logloss:0.18290\ttrain-auc:0.97410\ttrain-amex:0.85485\teval-logloss:0.21393\teval-auc:0.96289\teval-amex:0.79704\n",
            "[2800]\ttrain-logloss:0.18047\ttrain-auc:0.97494\ttrain-amex:0.85930\teval-logloss:0.21373\teval-auc:0.96296\teval-amex:0.79736\n",
            "[3000]\ttrain-logloss:0.17810\ttrain-auc:0.97575\ttrain-amex:0.86378\teval-logloss:0.21356\teval-auc:0.96302\teval-amex:0.79761\n",
            "[3200]\ttrain-logloss:0.17579\ttrain-auc:0.97653\ttrain-amex:0.86776\teval-logloss:0.21339\teval-auc:0.96307\teval-amex:0.79789\n",
            "[3400]\ttrain-logloss:0.17344\ttrain-auc:0.97732\ttrain-amex:0.87193\teval-logloss:0.21329\teval-auc:0.96310\teval-amex:0.79782\n",
            "[3600]\ttrain-logloss:0.17113\ttrain-auc:0.97809\ttrain-amex:0.87650\teval-logloss:0.21316\teval-auc:0.96315\teval-amex:0.79802\n",
            "[3800]\ttrain-logloss:0.16892\ttrain-auc:0.97883\ttrain-amex:0.88062\teval-logloss:0.21306\teval-auc:0.96319\teval-amex:0.79792\n",
            "[4000]\ttrain-logloss:0.16680\ttrain-auc:0.97952\ttrain-amex:0.88463\teval-logloss:0.21297\teval-auc:0.96321\teval-amex:0.79825\n",
            "[4200]\ttrain-logloss:0.16473\ttrain-auc:0.98019\ttrain-amex:0.88842\teval-logloss:0.21290\teval-auc:0.96324\teval-amex:0.79838\n",
            "[4400]\ttrain-logloss:0.16258\ttrain-auc:0.98089\ttrain-amex:0.89226\teval-logloss:0.21286\teval-auc:0.96326\teval-amex:0.79875\n",
            "[4600]\ttrain-logloss:0.16056\ttrain-auc:0.98153\ttrain-amex:0.89569\teval-logloss:0.21279\teval-auc:0.96328\teval-amex:0.79829\n",
            "[4800]\ttrain-logloss:0.15851\ttrain-auc:0.98218\ttrain-amex:0.89909\teval-logloss:0.21274\teval-auc:0.96330\teval-amex:0.79850\n",
            "[5000]\ttrain-logloss:0.15648\ttrain-auc:0.98282\ttrain-amex:0.90281\teval-logloss:0.21272\teval-auc:0.96330\teval-amex:0.79825\n",
            "[5200]\ttrain-logloss:0.15445\ttrain-auc:0.98345\ttrain-amex:0.90636\teval-logloss:0.21268\teval-auc:0.96332\teval-amex:0.79785\n",
            "[5367]\ttrain-logloss:0.15280\ttrain-auc:0.98395\ttrain-amex:0.90918\teval-logloss:0.21267\teval-auc:0.96332\teval-amex:0.79810\n",
            "Kaggle Metric = 0.7981880097968728 \n",
            "\n",
            "#########################\n",
            "### Fold 4\n",
            "### Train size 367131 Valid size 91782\n",
            "#########################\n",
            "[0]\ttrain-logloss:0.68663\ttrain-auc:0.93554\ttrain-amex:0.70866\teval-logloss:0.68666\teval-auc:0.93472\teval-amex:0.70370\n",
            "[200]\ttrain-logloss:0.27479\ttrain-auc:0.95650\ttrain-amex:0.77426\teval-logloss:0.27974\teval-auc:0.95392\teval-amex:0.76030\n",
            "[400]\ttrain-logloss:0.22865\ttrain-auc:0.96019\ttrain-amex:0.78872\teval-logloss:0.23673\teval-auc:0.95680\teval-amex:0.77004\n",
            "[600]\ttrain-logloss:0.21695\ttrain-auc:0.96269\ttrain-amex:0.79946\teval-logloss:0.22761\teval-auc:0.95854\teval-amex:0.77648\n",
            "[800]\ttrain-logloss:0.21043\ttrain-auc:0.96466\ttrain-amex:0.80893\teval-logloss:0.22385\teval-auc:0.95966\teval-amex:0.78023\n",
            "[1000]\ttrain-logloss:0.20580\ttrain-auc:0.96619\ttrain-amex:0.81620\teval-logloss:0.22174\teval-auc:0.96036\teval-amex:0.78326\n",
            "[1200]\ttrain-logloss:0.20191\ttrain-auc:0.96750\ttrain-amex:0.82212\teval-logloss:0.22032\teval-auc:0.96085\teval-amex:0.78505\n",
            "[1400]\ttrain-logloss:0.19841\ttrain-auc:0.96870\ttrain-amex:0.82799\teval-logloss:0.21935\teval-auc:0.96118\teval-amex:0.78695\n",
            "[1600]\ttrain-logloss:0.19523\ttrain-auc:0.96979\ttrain-amex:0.83296\teval-logloss:0.21862\teval-auc:0.96144\teval-amex:0.78776\n",
            "[1800]\ttrain-logloss:0.19232\ttrain-auc:0.97080\ttrain-amex:0.83805\teval-logloss:0.21807\teval-auc:0.96164\teval-amex:0.78858\n",
            "[2000]\ttrain-logloss:0.18954\ttrain-auc:0.97176\ttrain-amex:0.84292\teval-logloss:0.21765\teval-auc:0.96179\teval-amex:0.78917\n",
            "[2200]\ttrain-logloss:0.18690\ttrain-auc:0.97267\ttrain-amex:0.84727\teval-logloss:0.21729\teval-auc:0.96192\teval-amex:0.78972\n",
            "[2400]\ttrain-logloss:0.18437\ttrain-auc:0.97354\ttrain-amex:0.85202\teval-logloss:0.21702\teval-auc:0.96201\teval-amex:0.79055\n",
            "[2600]\ttrain-logloss:0.18188\ttrain-auc:0.97439\ttrain-amex:0.85649\teval-logloss:0.21678\teval-auc:0.96210\teval-amex:0.78984\n",
            "[2800]\ttrain-logloss:0.17948\ttrain-auc:0.97521\ttrain-amex:0.86078\teval-logloss:0.21658\teval-auc:0.96217\teval-amex:0.79065\n",
            "[3000]\ttrain-logloss:0.17718\ttrain-auc:0.97599\ttrain-amex:0.86446\teval-logloss:0.21643\teval-auc:0.96223\teval-amex:0.79119\n",
            "[3200]\ttrain-logloss:0.17486\ttrain-auc:0.97677\ttrain-amex:0.86849\teval-logloss:0.21631\teval-auc:0.96227\teval-amex:0.79139\n",
            "[3400]\ttrain-logloss:0.17259\ttrain-auc:0.97753\ttrain-amex:0.87269\teval-logloss:0.21620\teval-auc:0.96231\teval-amex:0.79154\n",
            "[3600]\ttrain-logloss:0.17032\ttrain-auc:0.97830\ttrain-amex:0.87693\teval-logloss:0.21607\teval-auc:0.96235\teval-amex:0.79209\n",
            "[3800]\ttrain-logloss:0.16807\ttrain-auc:0.97905\ttrain-amex:0.88123\teval-logloss:0.21598\teval-auc:0.96239\teval-amex:0.79217\n",
            "[4000]\ttrain-logloss:0.16587\ttrain-auc:0.97977\ttrain-amex:0.88536\teval-logloss:0.21589\teval-auc:0.96242\teval-amex:0.79241\n",
            "[4200]\ttrain-logloss:0.16370\ttrain-auc:0.98047\ttrain-amex:0.88899\teval-logloss:0.21582\teval-auc:0.96245\teval-amex:0.79235\n",
            "[4400]\ttrain-logloss:0.16154\ttrain-auc:0.98116\ttrain-amex:0.89258\teval-logloss:0.21579\teval-auc:0.96246\teval-amex:0.79228\n",
            "[4579]\ttrain-logloss:0.15971\ttrain-auc:0.98174\ttrain-amex:0.89619\teval-logloss:0.21573\teval-auc:0.96249\teval-amex:0.79233\n",
            "Kaggle Metric = 0.7926848605296306 \n",
            "\n",
            "#########################\n",
            "### Fold 5\n",
            "### Train size 367131 Valid size 91782\n",
            "#########################\n",
            "[0]\ttrain-logloss:0.68662\ttrain-auc:0.93596\ttrain-amex:0.70949\teval-logloss:0.68668\teval-auc:0.93175\teval-amex:0.69815\n",
            "[200]\ttrain-logloss:0.27446\ttrain-auc:0.95678\ttrain-amex:0.77531\teval-logloss:0.28109\teval-auc:0.95265\teval-amex:0.76031\n",
            "[400]\ttrain-logloss:0.22823\ttrain-auc:0.96046\ttrain-amex:0.78910\teval-logloss:0.23814\teval-auc:0.95582\teval-amex:0.77223\n",
            "[600]\ttrain-logloss:0.21634\ttrain-auc:0.96297\ttrain-amex:0.80006\teval-logloss:0.22925\teval-auc:0.95760\teval-amex:0.77786\n",
            "[800]\ttrain-logloss:0.20988\ttrain-auc:0.96491\ttrain-amex:0.80875\teval-logloss:0.22564\teval-auc:0.95871\teval-amex:0.78288\n",
            "[1000]\ttrain-logloss:0.20522\ttrain-auc:0.96644\ttrain-amex:0.81622\teval-logloss:0.22359\teval-auc:0.95942\teval-amex:0.78549\n",
            "[1200]\ttrain-logloss:0.20139\ttrain-auc:0.96772\ttrain-amex:0.82232\teval-logloss:0.22219\teval-auc:0.95992\teval-amex:0.78721\n",
            "[1400]\ttrain-logloss:0.19791\ttrain-auc:0.96891\ttrain-amex:0.82749\teval-logloss:0.22119\teval-auc:0.96028\teval-amex:0.78872\n",
            "[1600]\ttrain-logloss:0.19492\ttrain-auc:0.96993\ttrain-amex:0.83280\teval-logloss:0.22052\teval-auc:0.96052\teval-amex:0.78976\n",
            "[1800]\ttrain-logloss:0.19201\ttrain-auc:0.97093\ttrain-amex:0.83769\teval-logloss:0.21997\teval-auc:0.96072\teval-amex:0.79099\n",
            "[2000]\ttrain-logloss:0.18921\ttrain-auc:0.97189\ttrain-amex:0.84251\teval-logloss:0.21954\teval-auc:0.96088\teval-amex:0.79136\n",
            "[2200]\ttrain-logloss:0.18650\ttrain-auc:0.97282\ttrain-amex:0.84711\teval-logloss:0.21921\teval-auc:0.96100\teval-amex:0.79139\n",
            "[2400]\ttrain-logloss:0.18404\ttrain-auc:0.97367\ttrain-amex:0.85143\teval-logloss:0.21890\teval-auc:0.96111\teval-amex:0.79218\n",
            "[2600]\ttrain-logloss:0.18143\ttrain-auc:0.97456\ttrain-amex:0.85621\teval-logloss:0.21865\teval-auc:0.96120\teval-amex:0.79298\n",
            "[2800]\ttrain-logloss:0.17892\ttrain-auc:0.97542\ttrain-amex:0.86071\teval-logloss:0.21844\teval-auc:0.96128\teval-amex:0.79333\n",
            "[3000]\ttrain-logloss:0.17661\ttrain-auc:0.97620\ttrain-amex:0.86494\teval-logloss:0.21829\teval-auc:0.96134\teval-amex:0.79379\n",
            "[3200]\ttrain-logloss:0.17421\ttrain-auc:0.97700\ttrain-amex:0.86931\teval-logloss:0.21814\teval-auc:0.96139\teval-amex:0.79353\n",
            "[3400]\ttrain-logloss:0.17197\ttrain-auc:0.97776\ttrain-amex:0.87339\teval-logloss:0.21802\teval-auc:0.96144\teval-amex:0.79422\n",
            "[3600]\ttrain-logloss:0.16976\ttrain-auc:0.97849\ttrain-amex:0.87789\teval-logloss:0.21791\teval-auc:0.96148\teval-amex:0.79437\n",
            "[3800]\ttrain-logloss:0.16755\ttrain-auc:0.97922\ttrain-amex:0.88204\teval-logloss:0.21783\teval-auc:0.96151\teval-amex:0.79427\n",
            "[4000]\ttrain-logloss:0.16531\ttrain-auc:0.97996\ttrain-amex:0.88594\teval-logloss:0.21775\teval-auc:0.96154\teval-amex:0.79437\n",
            "[4175]\ttrain-logloss:0.16348\ttrain-auc:0.98054\ttrain-amex:0.88921\teval-logloss:0.21767\teval-auc:0.96157\teval-amex:0.79427\n",
            "Kaggle Metric = 0.794084648783967 \n",
            "\n",
            "#########################\n",
            "OVERALL CV Kaggle Metric = 0.7947417559728374\n"
          ]
        }
      ],
      "source": [
        "importances = []\n",
        "oof = []\n",
        "gc.collect()\n",
        "\n",
        "skf = KFold(n_splits=FOLDS, shuffle=True, random_state=SEED)\n",
        "for fold,(train_idx, valid_idx) in enumerate(skf.split(train, train.target )):\n",
        "    print('#'*25)\n",
        "    print('### Fold',fold+1)\n",
        "    print('### Train size',len(train_idx),'Valid size',len(valid_idx))\n",
        "    print('#'*25)\n",
        "    \n",
        "    # TRAIN, VALID, TEST FOR FOLD K\n",
        "    y_valid = train.loc[valid_idx, 'target']\n",
        "    \n",
        "    dtrain = xgb.DMatrix(data=train.loc[train_idx, FEATURES], label=train.loc[train_idx, 'target'])\n",
        "    dvalid = xgb.DMatrix(data=train.loc[valid_idx, FEATURES], label=y_valid)\n",
        "\n",
        "    # TRAIN MODEL FOLD K\n",
        "    model = xgb.train(xgb_parms, \n",
        "                dtrain=dtrain,\n",
        "                evals=[(dtrain,'train'),(dvalid,'eval')],\n",
        "                num_boost_round=15000,\n",
        "                early_stopping_rounds=500,\n",
        "                maximize=True,\n",
        "                custom_metric= xgb_amex,\n",
        "                verbose_eval=200) \n",
        "    model.save_model(f'XGB_v{VER}_fold{fold}.xgb')\n",
        "    \n",
        "    # GET FEATURE IMPORTANCE FOR FOLD K\n",
        "    dd = model.get_score(importance_type='weight')\n",
        "    df = pd.DataFrame({'feature':dd.keys(),f'importance_{fold}':dd.values()})\n",
        "    importances.append(df)\n",
        "            \n",
        "    # INFER OOF FOLD K\n",
        "    oof_preds = model.predict(dvalid)\n",
        "    acc = amex_metric_numpy(y_valid.values, oof_preds)\n",
        "    print('Kaggle Metric =',acc,'\\n')\n",
        "    \n",
        "    # SAVE OOF\n",
        "    df = train.loc[valid_idx, ['customer_ID','target'] ].copy()\n",
        "    df['oof_pred'] = oof_preds\n",
        "    oof.append( df )\n",
        "\n",
        "    del dtrain, dd, df\n",
        "    del y_valid, dvalid, model\n",
        "    _ = gc.collect()\n",
        "    \n",
        "print('#'*25)\n",
        "oof = pd.concat(oof,axis=0,ignore_index=True).set_index('customer_ID')\n",
        "acc = amex_metric_numpy(oof.target.values, oof.oof_pred.values)\n",
        "print('OVERALL CV Kaggle Metric =',acc)"
      ]
    },
    {
      "cell_type": "code",
      "execution_count": 14,
      "id": "a0683792",
      "metadata": {
        "execution": {
          "iopub.execute_input": "2022-07-04T13:57:20.767668Z",
          "iopub.status.busy": "2022-07-04T13:57:20.767389Z",
          "iopub.status.idle": "2022-07-04T13:57:20.897259Z",
          "shell.execute_reply": "2022-07-04T13:57:20.896305Z"
        },
        "papermill": {
          "duration": 0.143223,
          "end_time": "2022-07-04T13:57:20.899414",
          "exception": false,
          "start_time": "2022-07-04T13:57:20.756191",
          "status": "completed"
        },
        "tags": [],
        "id": "a0683792"
      },
      "outputs": [],
      "source": [
        "# CLEAN RAM\n",
        "del train\n",
        "_ = gc.collect()"
      ]
    },
    {
      "cell_type": "code",
      "execution_count": 15,
      "id": "7c84e45b",
      "metadata": {
        "execution": {
          "iopub.execute_input": "2022-07-04T13:57:20.922375Z",
          "iopub.status.busy": "2022-07-04T13:57:20.922102Z",
          "iopub.status.idle": "2022-07-04T13:57:20.952759Z",
          "shell.execute_reply": "2022-07-04T13:57:20.952102Z"
        },
        "papermill": {
          "duration": 0.044099,
          "end_time": "2022-07-04T13:57:20.954464",
          "exception": false,
          "start_time": "2022-07-04T13:57:20.910365",
          "status": "completed"
        },
        "tags": [],
        "id": "7c84e45b"
      },
      "outputs": [],
      "source": [
        "import matplotlib.pyplot as plt\n",
        "\n",
        "df = importances[0].copy()\n",
        "for k in range(1,FOLDS): df = df.merge(importances[k], on='feature', how='left')\n",
        "df['importance'] = df.iloc[:,1:].mean(axis=1)\n",
        "df = df.sort_values('importance',ascending=False)\n",
        "df.to_csv(f'xgb_feature_importance_v{VER}.csv',index=False)"
      ]
    },
    {
      "cell_type": "code",
      "execution_count": 16,
      "id": "cf219aaf",
      "metadata": {
        "execution": {
          "iopub.execute_input": "2022-07-04T13:57:20.976586Z",
          "iopub.status.busy": "2022-07-04T13:57:20.976325Z",
          "iopub.status.idle": "2022-07-04T13:57:21.242333Z",
          "shell.execute_reply": "2022-07-04T13:57:21.241620Z"
        },
        "papermill": {
          "duration": 0.278865,
          "end_time": "2022-07-04T13:57:21.244004",
          "exception": false,
          "start_time": "2022-07-04T13:57:20.965139",
          "status": "completed"
        },
        "tags": [],
        "id": "cf219aaf",
        "colab": {
          "base_uri": "https://localhost:8080/",
          "height": 607
        },
        "outputId": "c9d00046-763f-4a74-b280-bee1848d62f2"
      },
      "outputs": [
        {
          "output_type": "display_data",
          "data": {
            "text/plain": [
              "<Figure size 720x720 with 1 Axes>"
            ],
            "image/png": "[encoded data removed]"
          },
          "metadata": {
            "needs_background": "light"
          }
        }
      ],
      "source": [
        "NUM_FEATURES = 20\n",
        "plt.figure(figsize=(10,5*NUM_FEATURES//10))\n",
        "plt.barh(np.arange(NUM_FEATURES,0,-1), df.importance.values[:NUM_FEATURES])\n",
        "plt.yticks(np.arange(NUM_FEATURES,0,-1), df.feature.values[:NUM_FEATURES])\n",
        "plt.title(f'XGB Feature Importance - Top {NUM_FEATURES}')\n",
        "plt.show()"
      ]
    },
    {
      "cell_type": "markdown",
      "source": [
        "# Test part"
      ],
      "metadata": {
        "id": "5eVl7ZgaHTai"
      },
      "id": "5eVl7ZgaHTai"
    },
    {
      "cell_type": "code",
      "execution_count": 17,
      "id": "caceea59",
      "metadata": {
        "execution": {
          "iopub.execute_input": "2022-07-04T13:57:21.266604Z",
          "iopub.status.busy": "2022-07-04T13:57:21.266343Z",
          "iopub.status.idle": "2022-07-04T13:57:23.926842Z",
          "shell.execute_reply": "2022-07-04T13:57:23.925728Z"
        },
        "papermill": {
          "duration": 2.67433,
          "end_time": "2022-07-04T13:57:23.929254",
          "exception": false,
          "start_time": "2022-07-04T13:57:21.254924",
          "status": "completed"
        },
        "tags": [],
        "id": "caceea59"
      },
      "outputs": [],
      "source": [
        "# CALCULATE SIZE OF EACH SEPARATE TEST PART\n",
        "def get_rows(customers, test, NUM_PARTS = 4, verbose = ''):\n",
        "    chunk = len(customers)//NUM_PARTS\n",
        "    if verbose != '':\n",
        "        print(f'We will process {verbose} data as {NUM_PARTS} separate parts.')\n",
        "        print(f'There will be {chunk} customers in each part (except the last part).')\n",
        "        print('Below are number of rows in each part:')\n",
        "    rows = []\n",
        "\n",
        "    for k in range(NUM_PARTS):\n",
        "        if k==NUM_PARTS-1: cc = customers[k*chunk:]\n",
        "        else: cc = customers[k*chunk:(k+1)*chunk]\n",
        "        s = test.loc[test.customer_ID.isin(cc)].shape[0]\n",
        "        rows.append(s)\n",
        "    if verbose != '': print( rows )\n",
        "    return rows,chunk"
      ]
    },
    {
      "cell_type": "code",
      "source": [
        "# COMPUTE SIZE OF 4 PARTS FOR TEST DATA\n",
        "NUM_PARTS = 4\n",
        "\n",
        "test = pd.read_parquet(\"/content/test_fe_plus_plus.parquet\")\n",
        "\n",
        "customers = test[['customer_ID']].drop_duplicates().sort_index().values.flatten()\n",
        "rows,num_cust = get_rows(customers, test[['customer_ID']], NUM_PARTS = NUM_PARTS, verbose = 'test')"
      ],
      "metadata": {
        "id": "Bx78HcsneJfF",
        "colab": {
          "base_uri": "https://localhost:8080/"
        },
        "outputId": "61ae4bd7-4dc5-4fa1-a745-206361ae929e"
      },
      "id": "Bx78HcsneJfF",
      "execution_count": 18,
      "outputs": [
        {
          "output_type": "stream",
          "name": "stdout",
          "text": [
            "We will process test data as 4 separate parts.\n",
            "There will be 231155 customers in each part (except the last part).\n",
            "Below are number of rows in each part:\n",
            "[231155, 231155, 231155, 231156]\n"
          ]
        }
      ]
    },
    {
      "cell_type": "code",
      "execution_count": 19,
      "id": "284c3ec2",
      "metadata": {
        "execution": {
          "iopub.execute_input": "2022-07-04T13:57:23.953558Z",
          "iopub.status.busy": "2022-07-04T13:57:23.952895Z",
          "iopub.status.idle": "2022-07-04T14:00:05.767912Z",
          "shell.execute_reply": "2022-07-04T14:00:05.767103Z"
        },
        "papermill": {
          "duration": 161.82896,
          "end_time": "2022-07-04T14:00:05.770110",
          "exception": false,
          "start_time": "2022-07-04T13:57:23.941150",
          "status": "completed"
        },
        "tags": [],
        "id": "284c3ec2",
        "colab": {
          "base_uri": "https://localhost:8080/"
        },
        "outputId": "64e71986-6d45-419c-c10b-fc1e8fa0c7fa"
      },
      "outputs": [
        {
          "output_type": "stream",
          "name": "stdout",
          "text": [
            "\n",
            "Reading test data...\n",
            "=> Test part 1 has shape (231155, 1461)\n"
          ]
        },
        {
          "output_type": "stream",
          "name": "stderr",
          "text": [
            "100%|██████████| 1284/1284 [01:51<00:00, 11.49it/s] \n"
          ]
        },
        {
          "output_type": "stream",
          "name": "stdout",
          "text": [
            "\n",
            "Reading test data...\n",
            "=> Test part 2 has shape (231155, 1461)\n"
          ]
        },
        {
          "output_type": "stream",
          "name": "stderr",
          "text": [
            "100%|██████████| 1284/1284 [01:57<00:00, 10.88it/s] \n"
          ]
        },
        {
          "output_type": "stream",
          "name": "stdout",
          "text": [
            "\n",
            "Reading test data...\n",
            "=> Test part 3 has shape (231155, 1461)\n"
          ]
        },
        {
          "output_type": "stream",
          "name": "stderr",
          "text": [
            "100%|██████████| 1284/1284 [01:59<00:00, 10.77it/s] \n"
          ]
        },
        {
          "output_type": "stream",
          "name": "stdout",
          "text": [
            "\n",
            "Reading test data...\n",
            "=> Test part 4 has shape (231156, 1461)\n"
          ]
        },
        {
          "output_type": "stream",
          "name": "stderr",
          "text": [
            "100%|██████████| 1284/1284 [02:02<00:00, 10.45it/s] \n"
          ]
        }
      ],
      "source": [
        "# INFER TEST DATA IN PARTS\n",
        "skip_rows = 0\n",
        "skip_cust = 0\n",
        "test_preds = []\n",
        "\n",
        "for k in range(NUM_PARTS):\n",
        "    # READ PART OF TEST DATA\n",
        "    print(f'\\nReading test data...')\n",
        "    test_copy = test.iloc[skip_rows:skip_rows+rows[k]].copy()\n",
        "    test_copy = test_copy.set_index('customer_ID')\n",
        "    skip_rows += rows[k]\n",
        "    print(f'=> Test part {k+1} has shape', test_copy.shape )\n",
        "\n",
        "    for col in float_cols:\n",
        "        test_copy[col + '_round2'] = test_copy[col].round(2)\n",
        "    # test_copy.replace([-np.inf, np.inf], np.nan, inplace=True)\n",
        "    test_copy.fillna(-127, inplace=True)\n",
        "\n",
        "    num_cols = [col for col in test_copy.columns if 'last' in col]\n",
        "    num_cols = [col[:-5] for col in num_cols if 'round' not in col]\n",
        "    for col in num_cols:\n",
        "        try:\n",
        "            test_copy[f'{col}_last_min_diff'] = test_copy[f'{col}_last'] - test_copy[f'{col}_min']\n",
        "            test_copy[f'{col}_last_max_diff'] = test_copy[f'{col}_last'] - test_copy[f'{col}_max']\n",
        "        except: pass\n",
        "    num_cols = list(test_copy.dtypes[(test_copy.dtypes == 'float32') | (test_copy.dtypes == 'float64')].index)\n",
        "    for col in tqdm(num_cols):\n",
        "        test_copy[col] = test_copy[col].astype(np.float16)\n",
        "\n",
        "    # PROCESS AND FEATURE ENGINEER PART OF TEST DATA\n",
        "    if k==NUM_PARTS-1: test_copy = test_copy.loc[customers[skip_cust:]]\n",
        "    else: test_copy = test_copy.loc[customers[skip_cust:skip_cust+num_cust]]\n",
        "    skip_cust += num_cust\n",
        "    \n",
        "    # TEST DATA FOR XGB\n",
        "    X_test = test_copy[FEATURES]\n",
        "    dtest = xgb.DMatrix(data=X_test)\n",
        "    test_copy = test_copy[['P_2_mean']] # reduce memory\n",
        "    del X_test\n",
        "    gc.collect()\n",
        "\n",
        "    # INFER XGB MODELS ON TEST DATA\n",
        "    model = xgb.Booster()\n",
        "    model.load_model(f'XGB_v{VER}_fold0.xgb')\n",
        "    preds = model.predict(dtest)\n",
        "    for f in range(1,FOLDS):\n",
        "        model.load_model(f'XGB_v{VER}_fold{f}.xgb')\n",
        "        preds += model.predict(dtest)\n",
        "    preds /= FOLDS\n",
        "    test_preds.append(preds)\n",
        "\n",
        "    # CLEAN MEMORY\n",
        "    del test_copy, dtest, model\n",
        "    _ = gc.collect()\n",
        "\n",
        "del test\n",
        "_ = gc.collect()"
      ]
    },
    {
      "cell_type": "code",
      "execution_count": 20,
      "id": "a9cdac27",
      "metadata": {
        "execution": {
          "iopub.execute_input": "2022-07-04T14:00:05.795436Z",
          "iopub.status.busy": "2022-07-04T14:00:05.795158Z",
          "iopub.status.idle": "2022-07-04T14:00:06.821793Z",
          "shell.execute_reply": "2022-07-04T14:00:06.820885Z"
        },
        "papermill": {
          "duration": 1.042409,
          "end_time": "2022-07-04T14:00:06.824706",
          "exception": false,
          "start_time": "2022-07-04T14:00:05.782297",
          "status": "completed"
        },
        "tags": [],
        "id": "a9cdac27",
        "colab": {
          "base_uri": "https://localhost:8080/",
          "height": 224
        },
        "outputId": "b0ae5851-7157-465d-b025-061cea5f7ab1"
      },
      "outputs": [
        {
          "output_type": "stream",
          "name": "stdout",
          "text": [
            "Submission file shape is (924621, 2)\n"
          ]
        },
        {
          "output_type": "execute_result",
          "data": {
            "text/plain": [
              "                                         customer_ID  prediction\n",
              "0  00000469ba478561f23a92a868bd366de6f6527a684c9a...    0.028336\n",
              "1  00001bf2e77ff879fab36aa4fac689b9ba411dae63ae39...    0.000963\n",
              "2  0000210045da4f81e5f122c6bde5c2a617d03eef67f82c...    0.038801\n",
              "3  00003b41e58ede33b8daf61ab56d9952f17c9ad1c3976c...    0.277272\n",
              "4  00004b22eaeeeb0ec976890c1d9bfc14fd9427e98c4ee9...    0.888025"
            ],
            "text/html": [
              "\n",
              "  <div id=\"df-47a5b34f-6dac-41c2-be79-258aeb30d804\">\n",
              "    <div class=\"colab-df-container\">\n",
              "      <div>\n",
              "<style scoped>\n",
              "    .dataframe tbody tr th:only-of-type {\n",
              "        vertical-align: middle;\n",
              "    }\n",
              "\n",
              "    .dataframe tbody tr th {\n",
              "        vertical-align: top;\n",
              "    }\n",
              "\n",
              "    .dataframe thead th {\n",
              "        text-align: right;\n",
              "    }\n",
              "</style>\n",
              "<table border=\"1\" class=\"dataframe\">\n",
              "  <thead>\n",
              "    <tr style=\"text-align: right;\">\n",
              "      <th></th>\n",
              "      <th>customer_ID</th>\n",
              "      <th>prediction</th>\n",
              "    </tr>\n",
              "  </thead>\n",
              "  <tbody>\n",
              "    <tr>\n",
              "      <th>0</th>\n",
              "      <td>00000469ba478561f23a92a868bd366de6f6527a684c9a...</td>\n",
              "      <td>0.028336</td>\n",
              "    </tr>\n",
              "    <tr>\n",
              "      <th>1</th>\n",
              "      <td>00001bf2e77ff879fab36aa4fac689b9ba411dae63ae39...</td>\n",
              "      <td>0.000963</td>\n",
              "    </tr>\n",
              "    <tr>\n",
              "      <th>2</th>\n",
              "      <td>0000210045da4f81e5f122c6bde5c2a617d03eef67f82c...</td>\n",
              "      <td>0.038801</td>\n",
              "    </tr>\n",
              "    <tr>\n",
              "      <th>3</th>\n",
              "      <td>00003b41e58ede33b8daf61ab56d9952f17c9ad1c3976c...</td>\n",
              "      <td>0.277272</td>\n",
              "    </tr>\n",
              "    <tr>\n",
              "      <th>4</th>\n",
              "      <td>00004b22eaeeeb0ec976890c1d9bfc14fd9427e98c4ee9...</td>\n",
              "      <td>0.888025</td>\n",
              "    </tr>\n",
              "  </tbody>\n",
              "</table>\n",
              "</div>\n",
              "      <button class=\"colab-df-convert\" onclick=\"convertToInteractive('df-47a5b34f-6dac-41c2-be79-258aeb30d804')\"\n",
              "              title=\"Convert this dataframe to an interactive table.\"\n",
              "              style=\"display:none;\">\n",
              "        \n",
              "  <svg xmlns=\"http://www.w3.org/2000/svg\" height=\"24px\"viewBox=\"0 0 24 24\"\n",
              "       width=\"24px\">\n",
              "    <path d=\"M0 0h24v24H0V0z\" fill=\"none\"/>\n",
              "    <path d=\"M18.56 5.44l.94 2.06.94-2.06 2.06-.94-2.06-.94-.94-2.06-.94 2.06-2.06.94zm-11 1L8.5 8.5l.94-2.06 2.06-.94-2.06-.94L8.5 2.5l-.94 2.06-2.06.94zm10 10l.94 2.06.94-2.06 2.06-.94-2.06-.94-.94-2.06-.94 2.06-2.06.94z\"/><path d=\"M17.41 7.96l-1.37-1.37c-.4-.4-.92-.59-1.43-.59-.52 0-1.04.2-1.43.59L10.3 9.45l-7.72 7.72c-.78.78-.78 2.05 0 2.83L4 21.41c.39.39.9.59 1.41.59.51 0 1.02-.2 1.41-.59l7.78-7.78 2.81-2.81c.8-.78.8-2.07 0-2.86zM5.41 20L4 18.59l7.72-7.72 1.47 1.35L5.41 20z\"/>\n",
              "  </svg>\n",
              "      </button>\n",
              "      \n",
              "  <style>\n",
              "    .colab-df-container {\n",
              "      display:flex;\n",
              "      flex-wrap:wrap;\n",
              "      gap: 12px;\n",
              "    }\n",
              "\n",
              "    .colab-df-convert {\n",
              "      background-color: #E8F0FE;\n",
              "      border: none;\n",
              "      border-radius: 50%;\n",
              "      cursor: pointer;\n",
              "      display: none;\n",
              "      fill: #1967D2;\n",
              "      height: 32px;\n",
              "      padding: 0 0 0 0;\n",
              "      width: 32px;\n",
              "    }\n",
              "\n",
              "    .colab-df-convert:hover {\n",
              "      background-color: #E2EBFA;\n",
              "      box-shadow: 0px 1px 2px rgba(60, 64, 67, 0.3), 0px 1px 3px 1px rgba(60, 64, 67, 0.15);\n",
              "      fill: #174EA6;\n",
              "    }\n",
              "\n",
              "    [theme=dark] .colab-df-convert {\n",
              "      background-color: #3B4455;\n",
              "      fill: #D2E3FC;\n",
              "    }\n",
              "\n",
              "    [theme=dark] .colab-df-convert:hover {\n",
              "      background-color: #434B5C;\n",
              "      box-shadow: 0px 1px 3px 1px rgba(0, 0, 0, 0.15);\n",
              "      filter: drop-shadow(0px 1px 2px rgba(0, 0, 0, 0.3));\n",
              "      fill: #FFFFFF;\n",
              "    }\n",
              "  </style>\n",
              "\n",
              "      <script>\n",
              "        const buttonEl =\n",
              "          document.querySelector('#df-47a5b34f-6dac-41c2-be79-258aeb30d804 button.colab-df-convert');\n",
              "        buttonEl.style.display =\n",
              "          google.colab.kernel.accessAllowed ? 'block' : 'none';\n",
              "\n",
              "        async function convertToInteractive(key) {\n",
              "          const element = document.querySelector('#df-47a5b34f-6dac-41c2-be79-258aeb30d804');\n",
              "          const dataTable =\n",
              "            await google.colab.kernel.invokeFunction('convertToInteractive',\n",
              "                                                     [key], {});\n",
              "          if (!dataTable) return;\n",
              "\n",
              "          const docLinkHtml = 'Like what you see? Visit the ' +\n",
              "            '<a target=\"_blank\" href=https://colab.research.google.com/notebooks/data_table.ipynb>data table notebook</a>'\n",
              "            + ' to learn more about interactive tables.';\n",
              "          element.innerHTML = '';\n",
              "          dataTable['output_type'] = 'display_data';\n",
              "          await google.colab.output.renderOutput(dataTable, element);\n",
              "          const docLink = document.createElement('div');\n",
              "          docLink.innerHTML = docLinkHtml;\n",
              "          element.appendChild(docLink);\n",
              "        }\n",
              "      </script>\n",
              "    </div>\n",
              "  </div>\n",
              "  "
            ]
          },
          "metadata": {},
          "execution_count": 20
        }
      ],
      "source": [
        "# WRITE SUBMISSION FILE\n",
        "test = pd.DataFrame(index=customers,data={'prediction': np.concatenate(test_preds)})\n",
        "sub = pd.read_csv('/content/sample_submission.csv')[['customer_ID']]\n",
        "sub['customer_ID_hash'] = sub['customer_ID'].copy()\n",
        "sub = sub.set_index('customer_ID_hash')\n",
        "sub = sub.merge(test[['prediction']], left_index=True, right_index=True, how='left')\n",
        "sub = sub.reset_index(drop=True)\n",
        "\n",
        "# DISPLAY PREDICTIONS\n",
        "sub.to_csv(f'submission_xgb_v{VER}_seed{SEED}_fold{FOLDS}.csv',index=False)\n",
        "print('Submission file shape is', sub.shape )\n",
        "sub.head()"
      ]
    },
    {
      "cell_type": "code",
      "execution_count": 21,
      "id": "63453bcd",
      "metadata": {
        "execution": {
          "iopub.execute_input": "2022-07-04T14:00:06.852363Z",
          "iopub.status.busy": "2022-07-04T14:00:06.851721Z",
          "iopub.status.idle": "2022-07-04T14:00:07.547496Z",
          "shell.execute_reply": "2022-07-04T14:00:07.546749Z"
        },
        "papermill": {
          "duration": 0.710906,
          "end_time": "2022-07-04T14:00:07.549303",
          "exception": false,
          "start_time": "2022-07-04T14:00:06.838397",
          "status": "completed"
        },
        "tags": [],
        "id": "63453bcd",
        "colab": {
          "base_uri": "https://localhost:8080/",
          "height": 281
        },
        "outputId": "97d596e9-68c5-4be2-a23b-1744f2278b0e"
      },
      "outputs": [
        {
          "output_type": "display_data",
          "data": {
            "text/plain": [
              "<Figure size 432x288 with 1 Axes>"
            ],
            "image/png": "[encoded data removed]"
          },
          "metadata": {
            "needs_background": "light"
          }
        }
      ],
      "source": [
        "# PLOT PREDICTIONS\n",
        "import matplotlib.pyplot as plt\n",
        "\n",
        "plt.hist(sub.prediction, bins=100)\n",
        "plt.title('Test Predictions')\n",
        "plt.show()"
      ]
    },
    {
      "cell_type": "markdown",
      "metadata": {
        "papermill": {
          "duration": 0.042841,
          "end_time": "2022-07-15T16:51:28.477165",
          "exception": false,
          "start_time": "2022-07-15T16:51:28.434324",
          "status": "completed"
        },
        "tags": [],
        "id": "802623f7"
      },
      "source": [
        "# Submit to Kaggle from Colab"
      ],
      "id": "802623f7"
    },
    {
      "cell_type": "code",
      "execution_count": 22,
      "metadata": {
        "execution": {
          "iopub.execute_input": "2022-07-15T16:51:28.552420Z",
          "iopub.status.busy": "2022-07-15T16:51:28.551829Z",
          "iopub.status.idle": "2022-07-15T16:51:28.557906Z",
          "shell.execute_reply": "2022-07-15T16:51:28.557166Z"
        },
        "papermill": {
          "duration": 0.048007,
          "end_time": "2022-07-15T16:51:28.561880",
          "exception": false,
          "start_time": "2022-07-15T16:51:28.513873",
          "status": "completed"
        },
        "tags": [],
        "id": "efc54970",
        "colab": {
          "base_uri": "https://localhost:8080/"
        },
        "outputId": "db21692b-e622-48f8-c2d3-09d6c55591eb"
      },
      "outputs": [
        {
          "output_type": "stream",
          "name": "stdout",
          "text": [
            "100% 67.6M/67.6M [00:08<00:00, 8.48MB/s]\n",
            "Successfully submitted to American Express - Default Prediction"
          ]
        }
      ],
      "source": [
        "# Submit\n",
        "!kaggle competitions submit -c amex-default-prediction -f submission_xgb_v1_seed42_fold5.csv -m \"From colab seed 42 fold 5 lag plus\""
      ],
      "id": "efc54970"
    },
    {
      "cell_type": "code",
      "execution_count": 24,
      "metadata": {
        "execution": {
          "iopub.execute_input": "2022-07-15T16:51:28.636400Z",
          "iopub.status.busy": "2022-07-15T16:51:28.635706Z",
          "iopub.status.idle": "2022-07-15T16:51:28.643060Z",
          "shell.execute_reply": "2022-07-15T16:51:28.640501Z"
        },
        "papermill": {
          "duration": 0.04911,
          "end_time": "2022-07-15T16:51:28.647823",
          "exception": false,
          "start_time": "2022-07-15T16:51:28.598713",
          "status": "completed"
        },
        "tags": [],
        "id": "aad5cc1a",
        "colab": {
          "base_uri": "https://localhost:8080/"
        },
        "outputId": "7501430f-a504-433b-e8e4-e48e26fb592f"
      },
      "outputs": [
        {
          "output_type": "stream",
          "name": "stdout",
          "text": [
            "fileName                            date                 description                                               status    publicScore  privateScore  \n",
            "----------------------------------  -------------------  --------------------------------------------------------  --------  -----------  ------------  \n",
            "submission_xgb_v1_seed42_fold5.csv  2022-07-26 14:59:19  From colab seed 42 fold 5 lag plus                        complete  0.795                      \n",
            "submission_cat_v1_seed42_fold5.csv  2022-07-26 13:10:11  From colab seed 42 fold 5 lag plus                        complete  0.796                      \n",
            "Amex Default Prediction - Ensemble  2022-07-25 18:21:01  Notebook Amex Default Prediction - Ensemble | Version 22  complete  0.799                      \n",
            "submission_cat_v1_seed42_fold5.csv  2022-07-25 18:15:57  From colab seed 42 fold 5 lag plus                        complete  0.796                      \n",
            "Amex Default Prediction - Ensemble  2022-07-24 15:56:24  Notebook Amex Default Prediction - Ensemble | Version 20  complete  0.759                      \n",
            "Amex Default Prediction - Ensemble  2022-07-24 15:55:05  Notebook Amex Default Prediction - Ensemble | Version 19  complete  0.745                      \n",
            "Amex Default Prediction - Ensemble  2022-07-24 14:26:44  Notebook Amex Default Prediction - Ensemble | Version 16  complete  0.798                      \n",
            "Amex Default Prediction - Ensemble  2022-07-24 14:22:52  Notebook Amex Default Prediction - Ensemble | Version 15  complete  0.798                      \n",
            "submission_cat_v1_seed42_fold5.csv  2022-07-24 13:58:18  Run with round 2 cat                                      complete  0.796                      \n",
            "submission_lgb_v1_seed42_fold5.csv  2022-07-23 16:48:14  the first version. fe lag plus seed 52 fold 5 From colab  complete  0.797                      \n",
            "Amex Default Prediction - Ensemble  2022-07-23 11:15:04  Notebook Amex Default Prediction - Ensemble | Version 14  complete  0.798                      \n",
            "Amex Default Prediction - Ensemble  2022-07-23 11:08:12  Notebook Amex Default Prediction - Ensemble | Version 13  complete  0.798                      \n",
            "submission_xgb_v1_seed42_fold5.csv  2022-07-23 10:58:31  From colab seed 42 fold 5 lag plus                        complete  0.795                      \n",
            "submission_cat_v1_seed42_fold5.csv  2022-07-23 09:53:21  From colab seed 42 fold 5 lag plus                        complete  0.796                      \n",
            "Amex Default Prediction - Ensemble  2022-07-22 12:32:58  Notebook Amex Default Prediction - Ensemble | Version 12  complete  0.798                      \n",
            "Amex Default Prediction - Ensemble  2022-07-22 12:30:01  Notebook Amex Default Prediction - Ensemble | Version 11  complete  0.798                      \n",
            "submission_xgb_v1_seed42_fold2.csv  2022-07-22 12:19:29  From colab seed 42 fold 5 lag plus                        complete  0.794                      \n",
            "Amex Default Prediction - Ensemble  2022-07-21 12:48:16  Notebook Amex Default Prediction - Ensemble | Version 9   complete  0.798                      \n",
            "submission_xgb_v1_seed42_fold5.csv  2022-07-21 12:36:23  From colab seed 42 fold 5 lag plus                        complete  0.794                      \n",
            "Amex Default Prediction - Ensemble  2022-07-20 17:29:34  Notebook Amex Default Prediction - Ensemble | Version 8   complete  0.798                      \n",
            "Amex Default Prediction - Ensemble  2022-07-20 17:13:37  Notebook Amex Default Prediction - Ensemble | Version 7   complete  0.798                      \n",
            "Amex Default Prediction - Ensemble  2022-07-20 17:10:16  Notebook Amex Default Prediction - Ensemble | Version 6   complete  0.798                      \n",
            "Amex Default Prediction - Ensemble  2022-07-20 17:08:15  Notebook Amex Default Prediction - Ensemble | Version 5   complete  0.798                      \n",
            "submission_xgb_v1_seed42_fold5.csv  2022-07-20 16:58:31  From colab seed 42 fold 5 lag plus                        complete  0.794                      \n",
            "submission_cat_v1_seed42_fold5.csv  2022-07-19 17:31:52  From colab seed 42 fold 5 lag plus                        complete  0.795                      \n",
            "Amex Default Prediction - Ensemble  2022-07-19 16:37:40  Notebook Amex Default Prediction - Ensemble | Version 4   complete  0.798                      \n",
            "Amex Default Prediction - Ensemble  2022-07-19 16:34:17  Notebook Amex Default Prediction - Ensemble | Version 2   complete  0.798                      \n",
            "submission_cat_v1_seed42_fold5.csv  2022-07-19 12:11:59  From colab seed 42 fold 5 lag plus                        complete  0.795                      \n",
            "Amex Default Prediction with Cat    2022-07-18 23:01:33  Notebook Amex Default Prediction with Cat | Version 129   complete  0.798                      \n",
            "Amex Default Prediction with Cat    2022-07-18 22:58:51  Notebook Amex Default Prediction with Cat | Version 128   complete  0.798                      \n",
            "submission_cat_v1_seed42_fold5.csv  2022-07-18 22:27:50  From colab seed 42 fold 5 lag plus                        complete  0.795                      \n",
            "submission_lgb_v1_seed42_fold5.csv  2022-07-18 20:37:22  the first version. fe lag plus seed 52 fold 5 From colab  complete  0.797                      \n",
            "submission_cat_v1.csv               2022-07-18 06:30:57  From colab seed 42 fold 5 lag plus                        complete  0.795                      \n",
            "Amex Default Prediction with Cat    2022-07-16 16:14:20  Notebook Amex Default Prediction with Cat | Version 125   complete  0.794                      \n",
            "Amex Default Prediction with Cat    2022-07-15 16:33:32  Notebook Amex Default Prediction with Cat | Version 127   complete  0.798                      \n",
            "Amex Default Prediction with Cat    2022-07-15 16:24:25  Notebook Amex Default Prediction with Cat | Version 126   complete  0.798                      \n",
            "submission_cat_v123_seed52_794.csv  2022-07-15 16:12:09                                                            complete  0.795                      \n",
            "submission_cat_v123_0794.csv        2022-07-15 15:47:08                                                            complete  0.795                      \n",
            "Amex Default Prediction with Cat    2022-07-15 13:53:07  Notebook Amex Default Prediction with Cat | Version 123   complete  0.798                      \n",
            "Amex Default Prediction with Cat    2022-07-12 10:17:49  Notebook Amex Default Prediction with Cat | Version 122   complete  0.794                      \n",
            "Amex Default Prediction with Cat    2022-07-11 16:41:48  Notebook Amex Default Prediction with Cat | Version 119   complete  0.794                      \n",
            "Amex Default Prediction with Cat    2022-07-11 13:00:10  Notebook Amex Default Prediction with Cat | Version 116   complete  0.794                      \n",
            "Amex Default Prediction with Cat    2022-07-10 12:29:19  Notebook Amex Default Prediction with Cat | Version 115   complete  0.798                      \n",
            "Amex Default Prediction with Cat    2022-07-10 12:26:36  Notebook Amex Default Prediction with Cat | Version 114   complete  0.797                      \n",
            "Amex Default Prediction with Cat    2022-07-10 07:38:14  Notebook Amex Default Prediction with Cat | Version 109   complete  0.798                      \n",
            "Amex Default Prediction with Cat    2022-07-10 07:34:41  Notebook Amex Default Prediction with Cat | Version 108   complete  0.798                      \n",
            "Amex Default Prediction with Cat    2022-07-10 07:31:41  Notebook Amex Default Prediction with Cat | Version 107   complete  0.798                      \n",
            "Amex Default Prediction with Cat    2022-07-07 16:06:53  Notebook Amex Default Prediction with Cat | Version 106   complete  0.798                      \n",
            "Amex Default Prediction with Cat    2022-07-07 16:01:41  Notebook Amex Default Prediction with Cat | Version 105   complete  0.797                      \n",
            "Amex Default Prediction with Cat    2022-07-07 15:55:53  Notebook Amex Default Prediction with Cat | Version 104   complete  0.798                      \n"
          ]
        }
      ],
      "source": [
        "# Run after few seconds\n",
        "!kaggle competitions submissions amex-default-prediction"
      ],
      "id": "aad5cc1a"
    }
  ],
  "metadata": {
    "kernelspec": {
      "display_name": "Python 3",
      "language": "python",
      "name": "python3"
    },
    "language_info": {
      "codemirror_mode": {
        "name": "ipython",
        "version": 3
      },
      "file_extension": ".py",
      "mimetype": "text/x-python",
      "name": "python",
      "nbconvert_exporter": "python",
      "pygments_lexer": "ipython3",
      "version": "3.7.12"
    },
    "papermill": {
      "default_parameters": {},
      "duration": 1350.063162,
      "end_time": "2022-07-04T14:00:08.785368",
      "environment_variables": {},
      "exception": null,
      "input_path": "__notebook__.ipynb",
      "output_path": "__notebook__.ipynb",
      "parameters": {},
      "start_time": "2022-07-04T13:37:38.722206",
      "version": "2.3.4"
    },
    "colab": {
      "name": "amex-default-prediction-xgb.ipynb",
      "provenance": [],
      "machine_shape": "hm"
    },
    "gpuClass": "standard",
    "accelerator": "GPU"
  },
  "nbformat": 4,
  "nbformat_minor": 5
}
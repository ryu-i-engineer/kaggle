{
  "cells": [
    {
      "cell_type": "markdown",
      "metadata": {
        "papermill": {
          "duration": 0.009252,
          "end_time": "2022-07-15T16:13:27.338460",
          "exception": false,
          "start_time": "2022-07-15T16:13:27.329208",
          "status": "completed"
        },
        "tags": [],
        "id": "ec8911a0"
      },
      "source": [
        "# Prepare for colab"
      ],
      "id": "ec8911a0"
    },
    {
      "cell_type": "code",
      "execution_count": 1,
      "metadata": {
        "execution": {
          "iopub.execute_input": "2022-07-15T16:13:27.400098Z",
          "iopub.status.busy": "2022-07-15T16:13:27.399391Z",
          "iopub.status.idle": "2022-07-15T16:13:27.403356Z",
          "shell.execute_reply": "2022-07-15T16:13:27.402606Z"
        },
        "papermill": {
          "duration": 0.015568,
          "end_time": "2022-07-15T16:13:27.405067",
          "exception": false,
          "start_time": "2022-07-15T16:13:27.389499",
          "status": "completed"
        },
        "tags": [],
        "id": "bad112fb",
        "colab": {
          "base_uri": "https://localhost:8080/"
        },
        "outputId": "daef3c15-d898-49cd-d486-7be19bf0b8b8"
      },
      "outputs": [
        {
          "output_type": "stream",
          "name": "stdout",
          "text": [
            "Looking in indexes: https://pypi.org/simple, https://us-python.pkg.dev/colab-wheels/public/simple/\n",
            "Requirement already satisfied: xgboost in /usr/local/lib/python3.7/dist-packages (0.90)\n",
            "Collecting xgboost\n",
            "  Downloading xgboost-1.6.1-py3-none-manylinux2014_x86_64.whl (192.9 MB)\n",
            "\u001b[K     |████████████████████████████████| 192.9 MB 53 kB/s \n",
            "\u001b[?25hRequirement already satisfied: numpy in /usr/local/lib/python3.7/dist-packages (from xgboost) (1.21.6)\n",
            "Requirement already satisfied: scipy in /usr/local/lib/python3.7/dist-packages (from xgboost) (1.7.3)\n",
            "Installing collected packages: xgboost\n",
            "  Attempting uninstall: xgboost\n",
            "    Found existing installation: xgboost 0.90\n",
            "    Uninstalling xgboost-0.90:\n",
            "      Successfully uninstalled xgboost-0.90\n",
            "Successfully installed xgboost-1.6.1\n",
            "Looking in indexes: https://pypi.org/simple, https://us-python.pkg.dev/colab-wheels/public/simple/\n",
            "Requirement already satisfied: kaggle in /usr/local/lib/python3.7/dist-packages (1.5.12)\n",
            "Requirement already satisfied: tqdm in /usr/local/lib/python3.7/dist-packages (from kaggle) (4.64.0)\n",
            "Requirement already satisfied: python-slugify in /usr/local/lib/python3.7/dist-packages (from kaggle) (6.1.2)\n",
            "Requirement already satisfied: six>=1.10 in /usr/local/lib/python3.7/dist-packages (from kaggle) (1.15.0)\n",
            "Requirement already satisfied: requests in /usr/local/lib/python3.7/dist-packages (from kaggle) (2.23.0)\n",
            "Requirement already satisfied: urllib3 in /usr/local/lib/python3.7/dist-packages (from kaggle) (1.24.3)\n",
            "Requirement already satisfied: certifi in /usr/local/lib/python3.7/dist-packages (from kaggle) (2022.6.15)\n",
            "Requirement already satisfied: python-dateutil in /usr/local/lib/python3.7/dist-packages (from kaggle) (2.8.2)\n",
            "Requirement already satisfied: text-unidecode>=1.3 in /usr/local/lib/python3.7/dist-packages (from python-slugify->kaggle) (1.3)\n",
            "Requirement already satisfied: idna<3,>=2.5 in /usr/local/lib/python3.7/dist-packages (from requests->kaggle) (2.10)\n",
            "Requirement already satisfied: chardet<4,>=3.0.2 in /usr/local/lib/python3.7/dist-packages (from requests->kaggle) (3.0.4)\n"
          ]
        }
      ],
      "source": [
        "!pip install xgboost -U\n",
        "!pip install kaggle"
      ],
      "id": "bad112fb"
    },
    {
      "cell_type": "markdown",
      "metadata": {
        "papermill": {
          "duration": 0.008806,
          "end_time": "2022-07-15T16:13:27.422550",
          "exception": false,
          "start_time": "2022-07-15T16:13:27.413744",
          "status": "completed"
        },
        "tags": [],
        "id": "3fa90515"
      },
      "source": [
        "## Upload API Token"
      ],
      "id": "3fa90515"
    },
    {
      "cell_type": "code",
      "execution_count": 2,
      "metadata": {
        "execution": {
          "iopub.execute_input": "2022-07-15T16:13:27.442237Z",
          "iopub.status.busy": "2022-07-15T16:13:27.441555Z",
          "iopub.status.idle": "2022-07-15T16:13:27.448196Z",
          "shell.execute_reply": "2022-07-15T16:13:27.447549Z"
        },
        "papermill": {
          "duration": 0.01814,
          "end_time": "2022-07-15T16:13:27.449796",
          "exception": false,
          "start_time": "2022-07-15T16:13:27.431656",
          "status": "completed"
        },
        "tags": [],
        "id": "54e44e29",
        "colab": {
          "base_uri": "https://localhost:8080/"
        },
        "outputId": "319dabb1-46b4-4eb3-93ed-97bbbb75c41e"
      },
      "outputs": [
        {
          "output_type": "stream",
          "name": "stdout",
          "text": [
            "Mounted at /content/drive\n"
          ]
        }
      ],
      "source": [
        "from google.colab import drive\n",
        "drive.mount('/content/drive')\n",
        "\n",
        "# Then move kaggle.json into the folder where the API expects to find it.\n",
        "!mkdir -p ~/.kaggle/ && cp /content/drive/MyDrive/backups/kaggle.json ~/.kaggle/ && chmod 600 ~/.kaggle/kaggle.json"
      ],
      "id": "54e44e29"
    },
    {
      "cell_type": "markdown",
      "metadata": {
        "papermill": {
          "duration": 0.008512,
          "end_time": "2022-07-15T16:13:27.467327",
          "exception": false,
          "start_time": "2022-07-15T16:13:27.458815",
          "status": "completed"
        },
        "tags": [],
        "id": "1abbc588"
      },
      "source": [
        "## Download and unzip dataset"
      ],
      "id": "1abbc588"
    },
    {
      "cell_type": "code",
      "execution_count": 3,
      "metadata": {
        "execution": {
          "iopub.execute_input": "2022-07-15T16:13:27.486038Z",
          "iopub.status.busy": "2022-07-15T16:13:27.485615Z",
          "iopub.status.idle": "2022-07-15T16:13:27.490276Z",
          "shell.execute_reply": "2022-07-15T16:13:27.489580Z"
        },
        "papermill": {
          "duration": 0.016071,
          "end_time": "2022-07-15T16:13:27.491993",
          "exception": false,
          "start_time": "2022-07-15T16:13:27.475922",
          "status": "completed"
        },
        "tags": [],
        "id": "c17f8dd7",
        "colab": {
          "base_uri": "https://localhost:8080/"
        },
        "outputId": "5363603c-e23a-4e09-f91e-17f076b02be0"
      },
      "outputs": [
        {
          "output_type": "stream",
          "name": "stdout",
          "text": [
            "Downloading amex-fe-plus3.zip to /content\n",
            "100% 3.46G/3.46G [00:24<00:00, 162MB/s]\n",
            "100% 3.46G/3.46G [00:24<00:00, 154MB/s]\n",
            "Archive:  /content/amex-fe-plus3.zip\n",
            "  inflating: test_fe_plus_plus.parquet  \n",
            "  inflating: train_fe_plus_plus.parquet  \n"
          ]
        }
      ],
      "source": [
        "!kaggle datasets download -d ryuina/amex-fe-plus3\n",
        "!unzip /content/amex-fe-plus3.zip"
      ],
      "id": "c17f8dd7"
    },
    {
      "cell_type": "code",
      "execution_count": 4,
      "metadata": {
        "execution": {
          "iopub.execute_input": "2022-07-15T16:13:27.515341Z",
          "iopub.status.busy": "2022-07-15T16:13:27.514880Z",
          "iopub.status.idle": "2022-07-15T16:13:27.523654Z",
          "shell.execute_reply": "2022-07-15T16:13:27.522700Z"
        },
        "papermill": {
          "duration": 0.025128,
          "end_time": "2022-07-15T16:13:27.526436",
          "exception": false,
          "start_time": "2022-07-15T16:13:27.501308",
          "status": "completed"
        },
        "tags": [],
        "id": "e4df1701",
        "colab": {
          "base_uri": "https://localhost:8080/"
        },
        "outputId": "df75a9a8-7693-45b5-f3c0-c6c461513577"
      },
      "outputs": [
        {
          "output_type": "stream",
          "name": "stdout",
          "text": [
            "Downloading sample_submission.csv.zip to /content\n",
            " 52% 17.0M/32.4M [00:00<00:00, 174MB/s]\n",
            "100% 32.4M/32.4M [00:00<00:00, 175MB/s]\n",
            "Archive:  /content/sample_submission.csv.zip\n",
            "  inflating: sample_submission.csv   \n"
          ]
        }
      ],
      "source": [
        "!kaggle competitions download -c amex-default-prediction -f sample_submission.csv\n",
        "!unzip /content/sample_submission.csv.zip"
      ],
      "id": "e4df1701"
    },
    {
      "cell_type": "code",
      "source": [
        "!kaggle competitions download -c amex-default-prediction -f train_labels.csv\n",
        "!unzip /content/train_labels.csv.zip"
      ],
      "metadata": {
        "colab": {
          "base_uri": "https://localhost:8080/"
        },
        "id": "AVz5ZOwL-mic",
        "outputId": "9fb6b1b6-fe99-4f32-9eb5-89a8cdc3cea2"
      },
      "id": "AVz5ZOwL-mic",
      "execution_count": 5,
      "outputs": [
        {
          "output_type": "stream",
          "name": "stdout",
          "text": [
            "Downloading train_labels.csv.zip to /content\n",
            "\r  0% 0.00/16.2M [00:00<?, ?B/s]\n",
            "\r100% 16.2M/16.2M [00:00<00:00, 195MB/s]\n",
            "Archive:  /content/train_labels.csv.zip\n",
            "  inflating: train_labels.csv        \n"
          ]
        }
      ]
    },
    {
      "cell_type": "markdown",
      "source": [
        "# Training"
      ],
      "metadata": {
        "id": "Sc_uUzZtcYfw"
      },
      "id": "Sc_uUzZtcYfw"
    },
    {
      "cell_type": "code",
      "execution_count": 6,
      "id": "75a923db",
      "metadata": {
        "_cell_guid": "b1076dfc-b9ad-4769-8c92-a6c4dae69d19",
        "_uuid": "8f2839f25d086af736a60e9eeb907d3b93b6e0e5",
        "execution": {
          "iopub.execute_input": "2022-07-04T13:37:46.871349Z",
          "iopub.status.busy": "2022-07-04T13:37:46.870600Z",
          "iopub.status.idle": "2022-07-04T13:37:50.917325Z",
          "shell.execute_reply": "2022-07-04T13:37:50.916525Z"
        },
        "papermill": {
          "duration": 4.059938,
          "end_time": "2022-07-04T13:37:50.919741",
          "exception": false,
          "start_time": "2022-07-04T13:37:46.859803",
          "status": "completed"
        },
        "tags": [],
        "id": "75a923db"
      },
      "outputs": [],
      "source": [
        "import pandas as pd\n",
        "import numpy as np\n",
        "import random\n",
        "import matplotlib.pyplot\n",
        "import os\n",
        "import gc; gc.enable()\n",
        "\n",
        "from sklearn.preprocessing import LabelEncoder\n",
        "from tqdm import tqdm\n",
        "\n",
        "import warnings\n",
        "warnings.filterwarnings('ignore')"
      ]
    },
    {
      "cell_type": "code",
      "execution_count": 7,
      "id": "b06e1731",
      "metadata": {
        "execution": {
          "iopub.execute_input": "2022-07-04T13:37:50.930838Z",
          "iopub.status.busy": "2022-07-04T13:37:50.930542Z",
          "iopub.status.idle": "2022-07-04T13:37:50.934301Z",
          "shell.execute_reply": "2022-07-04T13:37:50.933487Z"
        },
        "papermill": {
          "duration": 0.011323,
          "end_time": "2022-07-04T13:37:50.936212",
          "exception": false,
          "start_time": "2022-07-04T13:37:50.924889",
          "status": "completed"
        },
        "tags": [],
        "id": "b06e1731"
      },
      "outputs": [],
      "source": [
        "VER=10\n",
        "SEED = 42\n",
        "FOLDS = 5\n",
        "\n",
        "cat_features = [\"B_30\", \"B_38\", \"D_114\", \"D_116\", \"D_117\", \"D_120\", \"D_126\", \"D_63\", \"D_64\", \"D_66\", \"D_68\"]\n",
        "\n",
        "def seed_everything(seed):\n",
        "    random.seed(seed)\n",
        "    np.random.seed(seed)\n",
        "    os.environ['PYTHONHASHSEED'] = str(seed)\n",
        "\n",
        "seed_everything(SEED)"
      ]
    },
    {
      "cell_type": "code",
      "execution_count": 8,
      "id": "d8f2573f",
      "metadata": {
        "execution": {
          "iopub.execute_input": "2022-07-04T13:37:50.966158Z",
          "iopub.status.busy": "2022-07-04T13:37:50.965558Z",
          "iopub.status.idle": "2022-07-04T13:38:12.628753Z",
          "shell.execute_reply": "2022-07-04T13:38:12.627666Z"
        },
        "papermill": {
          "duration": 21.671053,
          "end_time": "2022-07-04T13:38:12.631246",
          "exception": false,
          "start_time": "2022-07-04T13:37:50.960193",
          "status": "completed"
        },
        "tags": [],
        "id": "d8f2573f"
      },
      "outputs": [],
      "source": [
        "train = pd.read_parquet(\"/content/train_fe_plus_plus.parquet\")\n",
        "# train = train.reset_index(level=0)"
      ]
    },
    {
      "cell_type": "code",
      "execution_count": 9,
      "id": "64d772da",
      "metadata": {
        "execution": {
          "iopub.execute_input": "2022-07-04T13:38:12.881106Z",
          "iopub.status.busy": "2022-07-04T13:38:12.880449Z",
          "iopub.status.idle": "2022-07-04T13:38:12.888042Z",
          "shell.execute_reply": "2022-07-04T13:38:12.887178Z"
        },
        "papermill": {
          "duration": 0.01539,
          "end_time": "2022-07-04T13:38:12.889725",
          "exception": false,
          "start_time": "2022-07-04T13:38:12.874335",
          "status": "completed"
        },
        "tags": [],
        "id": "64d772da",
        "outputId": "78f3a19c-7977-449c-998e-c05162624139",
        "colab": {
          "base_uri": "https://localhost:8080/"
        }
      },
      "outputs": [
        {
          "output_type": "stream",
          "name": "stderr",
          "text": [
            "100%|██████████| 1452/1452 [04:05<00:00,  5.92it/s] \n"
          ]
        }
      ],
      "source": [
        "# https://www.kaggle.com/code/ragnar123/amex-lgbm-dart-cv-0-7963\n",
        "# Round last float features to 2 decimal place\n",
        "float_cols = list(train.dtypes[(train.dtypes == 'float32') | (train.dtypes == 'float64')].index)\n",
        "float_cols = [col for col in float_cols if 'last' in col]\n",
        "\n",
        "for col in float_cols:\n",
        "    train[col + '_round2'] = train[col].round(2)\n",
        "\n",
        "num_cols = [col for col in train.columns if 'last' in col]\n",
        "num_cols = [col[:-5] for col in num_cols if 'round' not in col]\n",
        "for col in num_cols:\n",
        "    try:\n",
        "        train[f'{col}_last_mean'] = train[f'{col}_last'] - train[f'{col}_mean']\n",
        "        # train[f'{col}_mean-min'] = train[f'{col}_mean'] - train[f'{col}_min']\n",
        "        train[f'{col}_max-last'] = train[f'{col}_max'] - train[f'{col}_last']\n",
        "    except: pass\n",
        "num_cols = list(train.dtypes[(train.dtypes == 'float32') | (train.dtypes == 'float64')].index)\n",
        "\n",
        "for col in tqdm(num_cols):\n",
        "    train[col] = train[col].astype(np.float16)\n",
        "\n",
        "for col in train.columns:\n",
        "    train[col] = train[col].replace([np.nan, np.inf, -np.inf], -127)"
      ]
    },
    {
      "cell_type": "code",
      "execution_count": 10,
      "id": "e9e4628c",
      "metadata": {
        "execution": {
          "iopub.execute_input": "2022-07-04T13:38:12.901239Z",
          "iopub.status.busy": "2022-07-04T13:38:12.900951Z",
          "iopub.status.idle": "2022-07-04T13:38:14.055784Z",
          "shell.execute_reply": "2022-07-04T13:38:14.054043Z"
        },
        "papermill": {
          "duration": 1.163442,
          "end_time": "2022-07-04T13:38:14.058383",
          "exception": false,
          "start_time": "2022-07-04T13:38:12.894941",
          "status": "completed"
        },
        "tags": [],
        "id": "e9e4628c",
        "outputId": "94236cd1-6780-4ad3-9080-88b2e90d5ba7",
        "colab": {
          "base_uri": "https://localhost:8080/"
        }
      },
      "outputs": [
        {
          "output_type": "stream",
          "name": "stdout",
          "text": [
            "We have 2000 features\n"
          ]
        }
      ],
      "source": [
        "train = train.set_index('customer_ID')\n",
        "train = train.sort_index().reset_index()\n",
        "FEATURES = train.drop(columns=['customer_ID', 'target']).columns\n",
        "print(f\"We have {len(FEATURES)} features\")"
      ]
    },
    {
      "cell_type": "code",
      "execution_count": 11,
      "id": "d98b705b",
      "metadata": {
        "execution": {
          "iopub.execute_input": "2022-07-04T13:38:15.369855Z",
          "iopub.status.busy": "2022-07-04T13:38:15.369570Z",
          "iopub.status.idle": "2022-07-04T13:38:15.468113Z",
          "shell.execute_reply": "2022-07-04T13:38:15.466877Z"
        },
        "papermill": {
          "duration": 0.106496,
          "end_time": "2022-07-04T13:38:15.469835",
          "exception": false,
          "start_time": "2022-07-04T13:38:15.363339",
          "status": "completed"
        },
        "tags": [],
        "id": "d98b705b",
        "outputId": "13d40723-4027-4385-8115-ecd648b86be6",
        "colab": {
          "base_uri": "https://localhost:8080/"
        }
      },
      "outputs": [
        {
          "output_type": "stream",
          "name": "stdout",
          "text": [
            "XGB Version 1.6.1\n"
          ]
        }
      ],
      "source": [
        "# LOAD XGB LIBRARY\n",
        "from sklearn.model_selection import KFold\n",
        "import xgboost as xgb\n",
        "print('XGB Version',xgb.__version__)\n",
        "\n",
        "# XGB MODEL PARAMETERS\n",
        "xgb_parms = {\n",
        "    'max_depth':7,\n",
        "    'eta':0.01,\n",
        "    'subsample':0.75,\n",
        "    'colsample_bytree':0.35,\n",
        "    'min_child_weight':8,\n",
        "    # 'booster': 'dart',\n",
        "#     'max_delta_step': 16,\n",
        "    'eval_metric':['logloss', 'auc'],\n",
        "    'gamma':1.5,\n",
        "    'lambda':70,\n",
        "#     'reg_alpha':2,\n",
        "#     'reg_lambda':2,\n",
        "#     'scale_pos_weight':2.5,\n",
        "#     'eval_metric':'logloss',\n",
        "    'objective':'binary:logistic',\n",
        "    'tree_method':'gpu_hist',\n",
        "    'predictor':'gpu_predictor',\n",
        "    'random_state':SEED\n",
        "}"
      ]
    },
    {
      "cell_type": "code",
      "execution_count": 12,
      "id": "89f2c8a7",
      "metadata": {
        "execution": {
          "iopub.execute_input": "2022-07-04T13:38:15.503475Z",
          "iopub.status.busy": "2022-07-04T13:38:15.503227Z",
          "iopub.status.idle": "2022-07-04T13:38:15.511646Z",
          "shell.execute_reply": "2022-07-04T13:38:15.510996Z"
        },
        "papermill": {
          "duration": 0.01593,
          "end_time": "2022-07-04T13:38:15.513211",
          "exception": false,
          "start_time": "2022-07-04T13:38:15.497281",
          "status": "completed"
        },
        "tags": [],
        "id": "89f2c8a7"
      },
      "outputs": [],
      "source": [
        "# https://www.kaggle.com/competitions/amex-default-prediction/discussion/328020\n",
        "import numpy as np\n",
        "\n",
        "def amex_metric_numpy(y_true: np.array, y_pred: np.array) -> float:\n",
        "\n",
        "    # count of positives and negatives\n",
        "    n_pos = y_true.sum()\n",
        "    n_neg = y_true.shape[0] - n_pos\n",
        "\n",
        "    # sorting by descring prediction values\n",
        "    indices = np.argsort(y_pred)[::-1]\n",
        "    preds, target = y_pred[indices], y_true[indices]\n",
        "\n",
        "    # filter the top 4% by cumulative row weights\n",
        "    weight = 20.0 - target * 19.0\n",
        "    cum_norm_weight = (weight / weight.sum()).cumsum()\n",
        "    four_pct_filter = cum_norm_weight <= 0.04\n",
        "\n",
        "    # default rate captured at 4%\n",
        "    d = target[four_pct_filter].sum() / n_pos\n",
        "\n",
        "    # weighted gini coefficient\n",
        "    lorentz = (target / n_pos).cumsum()\n",
        "    gini = ((lorentz - cum_norm_weight) * weight).sum()\n",
        "\n",
        "    # max weighted gini coefficient\n",
        "    gini_max = 10 * n_neg * (1 - 19 / (n_pos + 20 * n_neg))\n",
        "\n",
        "    # normalized weighted gini coefficient\n",
        "    g = gini / gini_max\n",
        "\n",
        "    return 0.5 * (g + d)\n",
        "\n",
        "def xgb_amex(y_pred, y_true):\n",
        "    return 'amex', amex_metric_numpy(y_true.get_label(), y_pred)"
      ]
    },
    {
      "cell_type": "code",
      "execution_count": 13,
      "id": "1b3c3440",
      "metadata": {
        "execution": {
          "iopub.execute_input": "2022-07-04T13:38:15.524655Z",
          "iopub.status.busy": "2022-07-04T13:38:15.524403Z",
          "iopub.status.idle": "2022-07-04T13:57:20.743694Z",
          "shell.execute_reply": "2022-07-04T13:57:20.742632Z"
        },
        "papermill": {
          "duration": 1145.227069,
          "end_time": "2022-07-04T13:57:20.745545",
          "exception": false,
          "start_time": "2022-07-04T13:38:15.518476",
          "status": "completed"
        },
        "tags": [],
        "id": "1b3c3440",
        "outputId": "48ba6567-ec03-4cef-bd99-5b35d3d3552c",
        "colab": {
          "base_uri": "https://localhost:8080/"
        }
      },
      "outputs": [
        {
          "output_type": "stream",
          "name": "stdout",
          "text": [
            "#########################\n",
            "### Fold 1\n",
            "### Train size 367130 Valid size 91783\n",
            "#########################\n",
            "[0]\ttrain-logloss:0.68672\ttrain-auc:0.93274\ttrain-amex:0.69815\teval-logloss:0.68674\teval-auc:0.93036\teval-amex:0.69194\n",
            "[500]\ttrain-logloss:0.22157\ttrain-auc:0.96168\ttrain-amex:0.79348\teval-logloss:0.23009\teval-auc:0.95749\teval-amex:0.77852\n",
            "[1000]\ttrain-logloss:0.20565\ttrain-auc:0.96637\ttrain-amex:0.81470\teval-logloss:0.22126\teval-auc:0.96002\teval-amex:0.78879\n",
            "[1500]\ttrain-logloss:0.19681\ttrain-auc:0.96936\ttrain-amex:0.82860\teval-logloss:0.21860\teval-auc:0.96093\teval-amex:0.79106\n",
            "[2000]\ttrain-logloss:0.18988\ttrain-auc:0.97173\ttrain-amex:0.84007\teval-logloss:0.21743\teval-auc:0.96135\teval-amex:0.79347\n",
            "[2500]\ttrain-logloss:0.18359\ttrain-auc:0.97389\ttrain-amex:0.85133\teval-logloss:0.21676\teval-auc:0.96159\teval-amex:0.79467\n",
            "[3000]\ttrain-logloss:0.17766\ttrain-auc:0.97590\ttrain-amex:0.86192\teval-logloss:0.21634\teval-auc:0.96174\teval-amex:0.79646\n",
            "[3500]\ttrain-logloss:0.17192\ttrain-auc:0.97783\ttrain-amex:0.87249\teval-logloss:0.21603\teval-auc:0.96186\teval-amex:0.79593\n",
            "[3992]\ttrain-logloss:0.16647\ttrain-auc:0.97962\ttrain-amex:0.88239\teval-logloss:0.21585\teval-auc:0.96193\teval-amex:0.79609\n",
            "Kaggle Metric = 0.7960172162415367 \n",
            "\n",
            "#########################\n",
            "### Fold 2\n",
            "### Train size 367130 Valid size 91783\n",
            "#########################\n",
            "[0]\ttrain-logloss:0.68673\ttrain-auc:0.93323\ttrain-amex:0.69756\teval-logloss:0.68675\teval-auc:0.93202\teval-amex:0.69417\n",
            "[500]\ttrain-logloss:0.22163\ttrain-auc:0.96156\ttrain-amex:0.79465\teval-logloss:0.22990\teval-auc:0.95812\teval-amex:0.77812\n",
            "[1000]\ttrain-logloss:0.20563\ttrain-auc:0.96627\ttrain-amex:0.81568\teval-logloss:0.22088\teval-auc:0.96060\teval-amex:0.78770\n",
            "[1500]\ttrain-logloss:0.19677\ttrain-auc:0.96928\ttrain-amex:0.82979\teval-logloss:0.21822\teval-auc:0.96151\teval-amex:0.79105\n",
            "[2000]\ttrain-logloss:0.18956\ttrain-auc:0.97176\ttrain-amex:0.84223\teval-logloss:0.21700\teval-auc:0.96194\teval-amex:0.79304\n",
            "[2500]\ttrain-logloss:0.18299\ttrain-auc:0.97402\ttrain-amex:0.85397\teval-logloss:0.21636\teval-auc:0.96216\teval-amex:0.79335\n",
            "[3000]\ttrain-logloss:0.17683\ttrain-auc:0.97612\ttrain-amex:0.86537\teval-logloss:0.21591\teval-auc:0.96232\teval-amex:0.79403\n",
            "[3500]\ttrain-logloss:0.17106\ttrain-auc:0.97806\ttrain-amex:0.87570\teval-logloss:0.21563\teval-auc:0.96242\teval-amex:0.79442\n",
            "[4000]\ttrain-logloss:0.16543\ttrain-auc:0.97991\ttrain-amex:0.88584\teval-logloss:0.21542\teval-auc:0.96250\teval-amex:0.79528\n",
            "[4500]\ttrain-logloss:0.16001\ttrain-auc:0.98165\ttrain-amex:0.89563\teval-logloss:0.21529\teval-auc:0.96255\teval-amex:0.79549\n",
            "[5000]\ttrain-logloss:0.15490\ttrain-auc:0.98325\ttrain-amex:0.90430\teval-logloss:0.21517\teval-auc:0.96260\teval-amex:0.79578\n",
            "[5500]\ttrain-logloss:0.15000\ttrain-auc:0.98473\ttrain-amex:0.91277\teval-logloss:0.21506\teval-auc:0.96264\teval-amex:0.79524\n",
            "[5629]\ttrain-logloss:0.14874\ttrain-auc:0.98511\ttrain-amex:0.91481\teval-logloss:0.21503\teval-auc:0.96266\teval-amex:0.79573\n",
            "Kaggle Metric = 0.7959955589389616 \n",
            "\n",
            "#########################\n",
            "### Fold 3\n",
            "### Train size 367130 Valid size 91783\n",
            "#########################\n",
            "[0]\ttrain-logloss:0.68675\ttrain-auc:0.93248\ttrain-amex:0.69351\teval-logloss:0.68675\teval-auc:0.93281\teval-amex:0.69168\n",
            "[500]\ttrain-logloss:0.22229\ttrain-auc:0.96132\ttrain-amex:0.79465\teval-logloss:0.22756\teval-auc:0.95909\teval-amex:0.78151\n",
            "[1000]\ttrain-logloss:0.20641\ttrain-auc:0.96603\ttrain-amex:0.81581\teval-logloss:0.21836\teval-auc:0.96148\teval-amex:0.79212\n",
            "[1500]\ttrain-logloss:0.19774\ttrain-auc:0.96897\ttrain-amex:0.82977\teval-logloss:0.21577\teval-auc:0.96231\teval-amex:0.79455\n",
            "[2000]\ttrain-logloss:0.19068\ttrain-auc:0.97141\ttrain-amex:0.84197\teval-logloss:0.21449\teval-auc:0.96273\teval-amex:0.79627\n",
            "[2500]\ttrain-logloss:0.18425\ttrain-auc:0.97363\ttrain-amex:0.85302\teval-logloss:0.21373\teval-auc:0.96298\teval-amex:0.79656\n",
            "[3000]\ttrain-logloss:0.17819\ttrain-auc:0.97570\ttrain-amex:0.86350\teval-logloss:0.21320\teval-auc:0.96316\teval-amex:0.79741\n",
            "[3500]\ttrain-logloss:0.17244\ttrain-auc:0.97764\ttrain-amex:0.87413\teval-logloss:0.21286\teval-auc:0.96327\teval-amex:0.79811\n",
            "[4000]\ttrain-logloss:0.16699\ttrain-auc:0.97944\ttrain-amex:0.88424\teval-logloss:0.21259\teval-auc:0.96336\teval-amex:0.79783\n",
            "[4500]\ttrain-logloss:0.16171\ttrain-auc:0.98115\ttrain-amex:0.89390\teval-logloss:0.21238\teval-auc:0.96343\teval-amex:0.79760\n",
            "[4986]\ttrain-logloss:0.15670\ttrain-auc:0.98273\ttrain-amex:0.90261\teval-logloss:0.21225\teval-auc:0.96348\teval-amex:0.79800\n",
            "Kaggle Metric = 0.7980920125204838 \n",
            "\n",
            "#########################\n",
            "### Fold 4\n",
            "### Train size 367131 Valid size 91782\n",
            "#########################\n",
            "[0]\ttrain-logloss:0.68672\ttrain-auc:0.93362\ttrain-amex:0.70005\teval-logloss:0.68675\teval-auc:0.93180\teval-amex:0.68832\n",
            "[500]\ttrain-logloss:0.22159\ttrain-auc:0.96153\ttrain-amex:0.79535\teval-logloss:0.23054\teval-auc:0.95794\teval-amex:0.77520\n",
            "[1000]\ttrain-logloss:0.20567\ttrain-auc:0.96624\ttrain-amex:0.81667\teval-logloss:0.22125\teval-auc:0.96055\teval-amex:0.78540\n",
            "[1500]\ttrain-logloss:0.19669\ttrain-auc:0.96929\ttrain-amex:0.83064\teval-logloss:0.21854\teval-auc:0.96148\teval-amex:0.78795\n",
            "[2000]\ttrain-logloss:0.18950\ttrain-auc:0.97176\ttrain-amex:0.84316\teval-logloss:0.21729\teval-auc:0.96193\teval-amex:0.79053\n",
            "[2500]\ttrain-logloss:0.18318\ttrain-auc:0.97393\ttrain-amex:0.85433\teval-logloss:0.21651\teval-auc:0.96220\teval-amex:0.79189\n",
            "[3000]\ttrain-logloss:0.17721\ttrain-auc:0.97596\ttrain-amex:0.86486\teval-logloss:0.21602\teval-auc:0.96238\teval-amex:0.79270\n",
            "[3500]\ttrain-logloss:0.17163\ttrain-auc:0.97784\ttrain-amex:0.87475\teval-logloss:0.21570\teval-auc:0.96249\teval-amex:0.79358\n",
            "[4000]\ttrain-logloss:0.16613\ttrain-auc:0.97965\ttrain-amex:0.88487\teval-logloss:0.21543\teval-auc:0.96259\teval-amex:0.79389\n",
            "[4500]\ttrain-logloss:0.16087\ttrain-auc:0.98134\ttrain-amex:0.89379\teval-logloss:0.21526\teval-auc:0.96265\teval-amex:0.79366\n",
            "[4583]\ttrain-logloss:0.16008\ttrain-auc:0.98159\ttrain-amex:0.89514\teval-logloss:0.21524\teval-auc:0.96266\teval-amex:0.79336\n",
            "Kaggle Metric = 0.7937176294556152 \n",
            "\n",
            "#########################\n",
            "### Fold 5\n",
            "### Train size 367131 Valid size 91782\n",
            "#########################\n",
            "[0]\ttrain-logloss:0.68672\ttrain-auc:0.93269\ttrain-amex:0.69833\teval-logloss:0.68678\teval-auc:0.92891\teval-amex:0.68449\n",
            "[500]\ttrain-logloss:0.22103\ttrain-auc:0.96181\ttrain-amex:0.79517\teval-logloss:0.23249\teval-auc:0.95680\teval-amex:0.77486\n",
            "[1000]\ttrain-logloss:0.20514\ttrain-auc:0.96646\ttrain-amex:0.81652\teval-logloss:0.22337\teval-auc:0.95951\teval-amex:0.78472\n",
            "[1500]\ttrain-logloss:0.19646\ttrain-auc:0.96938\ttrain-amex:0.82994\teval-logloss:0.22071\teval-auc:0.96047\teval-amex:0.78939\n",
            "[2000]\ttrain-logloss:0.18929\ttrain-auc:0.97185\ttrain-amex:0.84223\teval-logloss:0.21938\teval-auc:0.96096\teval-amex:0.79194\n",
            "[2500]\ttrain-logloss:0.18292\ttrain-auc:0.97403\ttrain-amex:0.85341\teval-logloss:0.21861\teval-auc:0.96124\teval-amex:0.79367\n",
            "[3000]\ttrain-logloss:0.17687\ttrain-auc:0.97609\ttrain-amex:0.86466\teval-logloss:0.21806\teval-auc:0.96144\teval-amex:0.79446\n",
            "[3500]\ttrain-logloss:0.17126\ttrain-auc:0.97797\ttrain-amex:0.87489\teval-logloss:0.21775\teval-auc:0.96155\teval-amex:0.79430\n",
            "[4000]\ttrain-logloss:0.16562\ttrain-auc:0.97983\ttrain-amex:0.88528\teval-logloss:0.21754\teval-auc:0.96163\teval-amex:0.79499\n",
            "[4500]\ttrain-logloss:0.16031\ttrain-auc:0.98153\ttrain-amex:0.89468\teval-logloss:0.21736\teval-auc:0.96170\teval-amex:0.79489\n",
            "[4815]\ttrain-logloss:0.15713\ttrain-auc:0.98253\ttrain-amex:0.90039\teval-logloss:0.21729\teval-auc:0.96173\teval-amex:0.79479\n",
            "Kaggle Metric = 0.7944978896948127 \n",
            "\n",
            "#########################\n",
            "OVERALL CV Kaggle Metric = 0.7955754805918572\n"
          ]
        }
      ],
      "source": [
        "importances = []\n",
        "oof = []\n",
        "gc.collect()\n",
        "\n",
        "skf = KFold(n_splits=FOLDS, shuffle=True, random_state=SEED)\n",
        "for fold,(train_idx, valid_idx) in enumerate(skf.split(train, train.target )):\n",
        "    print('#'*25)\n",
        "    print('### Fold',fold+1)\n",
        "    print('### Train size',len(train_idx),'Valid size',len(valid_idx))\n",
        "    print('#'*25)\n",
        "    \n",
        "    # TRAIN, VALID, TEST FOR FOLD K\n",
        "    y_valid = train.loc[valid_idx, 'target']\n",
        "\n",
        "    dtrain = xgb.DMatrix(data=train.loc[train_idx, FEATURES], label=train.loc[train_idx, 'target'])\n",
        "    dvalid = xgb.DMatrix(data=train.loc[valid_idx, FEATURES], label=y_valid)\n",
        "\n",
        "    # TRAIN MODEL FOLD K\n",
        "    model = xgb.train(xgb_parms, \n",
        "                dtrain=dtrain,\n",
        "                evals=[(dtrain,'train'),(dvalid,'eval')],\n",
        "                num_boost_round=15000,\n",
        "                early_stopping_rounds=750,\n",
        "                maximize=True,\n",
        "                custom_metric= xgb_amex,\n",
        "                verbose_eval=500) \n",
        "    model.save_model(f'XGB_v{VER}_fold{fold}.xgb')\n",
        "    \n",
        "    # GET FEATURE IMPORTANCE FOR FOLD K\n",
        "    dd = model.get_score(importance_type='weight')\n",
        "    df = pd.DataFrame({'feature':dd.keys(),f'importance_{fold}':dd.values()})\n",
        "    importances.append(df)\n",
        "            \n",
        "    # INFER OOF FOLD K\n",
        "    oof_preds = model.predict(dvalid)\n",
        "    acc = amex_metric_numpy(y_valid.values, oof_preds)\n",
        "    print('Kaggle Metric =',acc,'\\n')\n",
        "    \n",
        "    # SAVE OOF\n",
        "    df = train.loc[valid_idx, ['customer_ID','target'] ].copy()\n",
        "    df['oof_pred'] = oof_preds\n",
        "    oof.append( df )\n",
        "\n",
        "    del dtrain, dd, df\n",
        "    del y_valid, dvalid, model\n",
        "    _ = gc.collect()\n",
        "    \n",
        "print('#'*25)\n",
        "oof = pd.concat(oof,axis=0,ignore_index=True).set_index('customer_ID')\n",
        "acc = amex_metric_numpy(oof.target.values, oof.oof_pred.values)\n",
        "print('OVERALL CV Kaggle Metric =',acc)"
      ]
    },
    {
      "cell_type": "code",
      "execution_count": 14,
      "id": "a0683792",
      "metadata": {
        "execution": {
          "iopub.execute_input": "2022-07-04T13:57:20.767668Z",
          "iopub.status.busy": "2022-07-04T13:57:20.767389Z",
          "iopub.status.idle": "2022-07-04T13:57:20.897259Z",
          "shell.execute_reply": "2022-07-04T13:57:20.896305Z"
        },
        "papermill": {
          "duration": 0.143223,
          "end_time": "2022-07-04T13:57:20.899414",
          "exception": false,
          "start_time": "2022-07-04T13:57:20.756191",
          "status": "completed"
        },
        "tags": [],
        "id": "a0683792"
      },
      "outputs": [],
      "source": [
        "# CLEAN RAM\n",
        "del train\n",
        "_ = gc.collect()"
      ]
    },
    {
      "cell_type": "code",
      "execution_count": 15,
      "id": "7c84e45b",
      "metadata": {
        "execution": {
          "iopub.execute_input": "2022-07-04T13:57:20.922375Z",
          "iopub.status.busy": "2022-07-04T13:57:20.922102Z",
          "iopub.status.idle": "2022-07-04T13:57:20.952759Z",
          "shell.execute_reply": "2022-07-04T13:57:20.952102Z"
        },
        "papermill": {
          "duration": 0.044099,
          "end_time": "2022-07-04T13:57:20.954464",
          "exception": false,
          "start_time": "2022-07-04T13:57:20.910365",
          "status": "completed"
        },
        "tags": [],
        "id": "7c84e45b"
      },
      "outputs": [],
      "source": [
        "import matplotlib.pyplot as plt\n",
        "\n",
        "df = importances[0].copy()\n",
        "for k in range(1,FOLDS): df = df.merge(importances[k], on='feature', how='left')\n",
        "df['importance'] = df.iloc[:,1:].mean(axis=1)\n",
        "df = df.sort_values('importance',ascending=False)\n",
        "df.to_csv(f'xgb_feature_importance_v{VER}.csv',index=False)"
      ]
    },
    {
      "cell_type": "code",
      "execution_count": 16,
      "id": "cf219aaf",
      "metadata": {
        "execution": {
          "iopub.execute_input": "2022-07-04T13:57:20.976586Z",
          "iopub.status.busy": "2022-07-04T13:57:20.976325Z",
          "iopub.status.idle": "2022-07-04T13:57:21.242333Z",
          "shell.execute_reply": "2022-07-04T13:57:21.241620Z"
        },
        "papermill": {
          "duration": 0.278865,
          "end_time": "2022-07-04T13:57:21.244004",
          "exception": false,
          "start_time": "2022-07-04T13:57:20.965139",
          "status": "completed"
        },
        "tags": [],
        "id": "cf219aaf",
        "outputId": "b5f98769-d543-4844-9f93-8843e5fd4b23",
        "colab": {
          "base_uri": "https://localhost:8080/",
          "height": 607
        }
      },
      "outputs": [
        {
          "output_type": "display_data",
          "data": {
            "text/plain": [
              "<Figure size 720x720 with 1 Axes>"
            ],
            "image/png": "[encoded data removed]"
          },
          "metadata": {
            "needs_background": "light"
          }
        }
      ],
      "source": [
        "NUM_FEATURES = 20\n",
        "plt.figure(figsize=(10,5*NUM_FEATURES//10))\n",
        "plt.barh(np.arange(NUM_FEATURES,0,-1), df.importance.values[:NUM_FEATURES])\n",
        "plt.yticks(np.arange(NUM_FEATURES,0,-1), df.feature.values[:NUM_FEATURES])\n",
        "plt.title(f'XGB Feature Importance - Top {NUM_FEATURES}')\n",
        "plt.show()"
      ]
    },
    {
      "cell_type": "markdown",
      "source": [
        "# Test part"
      ],
      "metadata": {
        "id": "5eVl7ZgaHTai"
      },
      "id": "5eVl7ZgaHTai"
    },
    {
      "cell_type": "code",
      "execution_count": 17,
      "id": "caceea59",
      "metadata": {
        "execution": {
          "iopub.execute_input": "2022-07-04T13:57:21.266604Z",
          "iopub.status.busy": "2022-07-04T13:57:21.266343Z",
          "iopub.status.idle": "2022-07-04T13:57:23.926842Z",
          "shell.execute_reply": "2022-07-04T13:57:23.925728Z"
        },
        "papermill": {
          "duration": 2.67433,
          "end_time": "2022-07-04T13:57:23.929254",
          "exception": false,
          "start_time": "2022-07-04T13:57:21.254924",
          "status": "completed"
        },
        "tags": [],
        "id": "caceea59"
      },
      "outputs": [],
      "source": [
        "# CALCULATE SIZE OF EACH SEPARATE TEST PART\n",
        "def get_rows(customers, test, NUM_PARTS = 4, verbose = ''):\n",
        "    chunk = len(customers)//NUM_PARTS\n",
        "    if verbose != '':\n",
        "        print(f'We will process {verbose} data as {NUM_PARTS} separate parts.')\n",
        "        print(f'There will be {chunk} customers in each part (except the last part).')\n",
        "        print('Below are number of rows in each part:')\n",
        "    rows = []\n",
        "\n",
        "    for k in range(NUM_PARTS):\n",
        "        if k==NUM_PARTS-1: cc = customers[k*chunk:]\n",
        "        else: cc = customers[k*chunk:(k+1)*chunk]\n",
        "        s = test.loc[test.customer_ID.isin(cc)].shape[0]\n",
        "        rows.append(s)\n",
        "    if verbose != '': print( rows )\n",
        "    return rows,chunk"
      ]
    },
    {
      "cell_type": "code",
      "source": [
        "# COMPUTE SIZE OF 4 PARTS FOR TEST DATA\n",
        "NUM_PARTS = 4\n",
        "\n",
        "test = pd.read_parquet(\"/content/test_fe_plus_plus.parquet\")\n",
        "\n",
        "customers = test[['customer_ID']].drop_duplicates().sort_index().values.flatten()\n",
        "rows,num_cust = get_rows(customers, test[['customer_ID']], NUM_PARTS = NUM_PARTS, verbose = 'test')"
      ],
      "metadata": {
        "id": "Bx78HcsneJfF",
        "outputId": "13ee4997-813b-4573-ab68-ee1357031043",
        "colab": {
          "base_uri": "https://localhost:8080/"
        }
      },
      "id": "Bx78HcsneJfF",
      "execution_count": 18,
      "outputs": [
        {
          "output_type": "stream",
          "name": "stdout",
          "text": [
            "We will process test data as 4 separate parts.\n",
            "There will be 231155 customers in each part (except the last part).\n",
            "Below are number of rows in each part:\n",
            "[231155, 231155, 231155, 231156]\n"
          ]
        }
      ]
    },
    {
      "cell_type": "code",
      "execution_count": 19,
      "id": "284c3ec2",
      "metadata": {
        "execution": {
          "iopub.execute_input": "2022-07-04T13:57:23.953558Z",
          "iopub.status.busy": "2022-07-04T13:57:23.952895Z",
          "iopub.status.idle": "2022-07-04T14:00:05.767912Z",
          "shell.execute_reply": "2022-07-04T14:00:05.767103Z"
        },
        "papermill": {
          "duration": 161.82896,
          "end_time": "2022-07-04T14:00:05.770110",
          "exception": false,
          "start_time": "2022-07-04T13:57:23.941150",
          "status": "completed"
        },
        "tags": [],
        "id": "284c3ec2",
        "outputId": "854a6e46-2d85-43ae-a5a2-c4887ee820d5",
        "colab": {
          "base_uri": "https://localhost:8080/"
        }
      },
      "outputs": [
        {
          "output_type": "stream",
          "name": "stdout",
          "text": [
            "\n",
            "Reading test data...\n",
            "=> Test part 1 has shape (231155, 1460)\n"
          ]
        },
        {
          "output_type": "stream",
          "name": "stderr",
          "text": [
            "100%|██████████| 1452/1452 [00:09<00:00, 156.65it/s]\n"
          ]
        },
        {
          "output_type": "stream",
          "name": "stdout",
          "text": [
            "\n",
            "Reading test data...\n",
            "=> Test part 2 has shape (231155, 1460)\n"
          ]
        },
        {
          "output_type": "stream",
          "name": "stderr",
          "text": [
            "100%|██████████| 1452/1452 [00:10<00:00, 141.12it/s]\n"
          ]
        },
        {
          "output_type": "stream",
          "name": "stdout",
          "text": [
            "\n",
            "Reading test data...\n",
            "=> Test part 3 has shape (231155, 1460)\n"
          ]
        },
        {
          "output_type": "stream",
          "name": "stderr",
          "text": [
            "100%|██████████| 1452/1452 [00:10<00:00, 139.77it/s]\n"
          ]
        },
        {
          "output_type": "stream",
          "name": "stdout",
          "text": [
            "\n",
            "Reading test data...\n",
            "=> Test part 4 has shape (231156, 1460)\n"
          ]
        },
        {
          "output_type": "stream",
          "name": "stderr",
          "text": [
            "100%|██████████| 1452/1452 [00:10<00:00, 136.31it/s]\n"
          ]
        }
      ],
      "source": [
        "# INFER TEST DATA IN PARTS\n",
        "skip_rows = 0\n",
        "skip_cust = 0\n",
        "test_preds = []\n",
        "\n",
        "for k in range(NUM_PARTS):\n",
        "    # READ PART OF TEST DATA\n",
        "    print(f'\\nReading test data...')\n",
        "    test_copy = test.iloc[skip_rows:skip_rows+rows[k]].copy()\n",
        "    test_copy = test_copy.set_index('customer_ID')\n",
        "    skip_rows += rows[k]\n",
        "    print(f'=> Test part {k+1} has shape', test_copy.shape )\n",
        "\n",
        "    for col in float_cols:\n",
        "        test_copy[col + '_round2'] = test_copy[col].round(2)\n",
        "\n",
        "    num_cols = [col for col in test_copy.columns if 'last' in col]\n",
        "    num_cols = [col[:-5] for col in num_cols if 'round' not in col]\n",
        "    for col in num_cols:\n",
        "        try:\n",
        "            test_copy[f'{col}_last_mean'] = test_copy[f'{col}_last'] - test_copy[f'{col}_mean']\n",
        "            # test_copy[f'{col}_mean-min'] = test_copy[f'{col}_mean'] - test_copy[f'{col}_min']\n",
        "            test_copy[f'{col}_max-last'] = test_copy[f'{col}_max'] - test_copy[f'{col}_last']\n",
        "        except: pass\n",
        "    num_cols = list(test_copy.dtypes[(test_copy.dtypes == 'float32') | (test_copy.dtypes == 'float64')].index)\n",
        "\n",
        "    for col in tqdm(num_cols):\n",
        "        test_copy[col] = test_copy[col].astype(np.float16)\n",
        "\n",
        "    test_copy.replace([np.nan, np.inf, -np.inf], -127, inplace=True)\n",
        "\n",
        "    # PROCESS AND FEATURE ENGINEER PART OF TEST DATA\n",
        "    if k==NUM_PARTS-1: test_copy = test_copy.loc[customers[skip_cust:]]\n",
        "    else: test_copy = test_copy.loc[customers[skip_cust:skip_cust+num_cust]]\n",
        "    skip_cust += num_cust\n",
        "    \n",
        "    # TEST DATA FOR XGB\n",
        "    X_test = test_copy[FEATURES]\n",
        "    dtest = xgb.DMatrix(data=X_test)\n",
        "    test_copy = test_copy[['P_2_mean']] # reduce memory\n",
        "    del X_test\n",
        "    gc.collect()\n",
        "\n",
        "    # INFER XGB MODELS ON TEST DATA\n",
        "    model = xgb.Booster()\n",
        "    model.load_model(f'XGB_v{VER}_fold0.xgb')\n",
        "    preds = model.predict(dtest)\n",
        "    for f in range(1,FOLDS):\n",
        "        model.load_model(f'XGB_v{VER}_fold{f}.xgb')\n",
        "        preds += model.predict(dtest)\n",
        "    preds /= FOLDS\n",
        "    test_preds.append(preds)\n",
        "\n",
        "    # CLEAN MEMORY\n",
        "    del test_copy, dtest, model\n",
        "    _ = gc.collect()\n",
        "\n",
        "del test\n",
        "_ = gc.collect()"
      ]
    },
    {
      "cell_type": "code",
      "execution_count": 20,
      "id": "a9cdac27",
      "metadata": {
        "execution": {
          "iopub.execute_input": "2022-07-04T14:00:05.795436Z",
          "iopub.status.busy": "2022-07-04T14:00:05.795158Z",
          "iopub.status.idle": "2022-07-04T14:00:06.821793Z",
          "shell.execute_reply": "2022-07-04T14:00:06.820885Z"
        },
        "papermill": {
          "duration": 1.042409,
          "end_time": "2022-07-04T14:00:06.824706",
          "exception": false,
          "start_time": "2022-07-04T14:00:05.782297",
          "status": "completed"
        },
        "tags": [],
        "id": "a9cdac27",
        "outputId": "da117b56-3ff4-40f8-edb0-04cea641c55f",
        "colab": {
          "base_uri": "https://localhost:8080/",
          "height": 224
        }
      },
      "outputs": [
        {
          "output_type": "stream",
          "name": "stdout",
          "text": [
            "Submission file shape is (924621, 2)\n"
          ]
        },
        {
          "output_type": "execute_result",
          "data": {
            "text/plain": [
              "                                         customer_ID  prediction\n",
              "0  00000469ba478561f23a92a868bd366de6f6527a684c9a...    0.026491\n",
              "1  00001bf2e77ff879fab36aa4fac689b9ba411dae63ae39...    0.000799\n",
              "2  0000210045da4f81e5f122c6bde5c2a617d03eef67f82c...    0.035526\n",
              "3  00003b41e58ede33b8daf61ab56d9952f17c9ad1c3976c...    0.219267\n",
              "4  00004b22eaeeeb0ec976890c1d9bfc14fd9427e98c4ee9...    0.902219"
            ],
            "text/html": [
              "\n",
              "  <div id=\"df-ab819995-e04c-47e9-ac21-8c1190c32abd\">\n",
              "    <div class=\"colab-df-container\">\n",
              "      <div>\n",
              "<style scoped>\n",
              "    .dataframe tbody tr th:only-of-type {\n",
              "        vertical-align: middle;\n",
              "    }\n",
              "\n",
              "    .dataframe tbody tr th {\n",
              "        vertical-align: top;\n",
              "    }\n",
              "\n",
              "    .dataframe thead th {\n",
              "        text-align: right;\n",
              "    }\n",
              "</style>\n",
              "<table border=\"1\" class=\"dataframe\">\n",
              "  <thead>\n",
              "    <tr style=\"text-align: right;\">\n",
              "      <th></th>\n",
              "      <th>customer_ID</th>\n",
              "      <th>prediction</th>\n",
              "    </tr>\n",
              "  </thead>\n",
              "  <tbody>\n",
              "    <tr>\n",
              "      <th>0</th>\n",
              "      <td>00000469ba478561f23a92a868bd366de6f6527a684c9a...</td>\n",
              "      <td>0.026491</td>\n",
              "    </tr>\n",
              "    <tr>\n",
              "      <th>1</th>\n",
              "      <td>00001bf2e77ff879fab36aa4fac689b9ba411dae63ae39...</td>\n",
              "      <td>0.000799</td>\n",
              "    </tr>\n",
              "    <tr>\n",
              "      <th>2</th>\n",
              "      <td>0000210045da4f81e5f122c6bde5c2a617d03eef67f82c...</td>\n",
              "      <td>0.035526</td>\n",
              "    </tr>\n",
              "    <tr>\n",
              "      <th>3</th>\n",
              "      <td>00003b41e58ede33b8daf61ab56d9952f17c9ad1c3976c...</td>\n",
              "      <td>0.219267</td>\n",
              "    </tr>\n",
              "    <tr>\n",
              "      <th>4</th>\n",
              "      <td>00004b22eaeeeb0ec976890c1d9bfc14fd9427e98c4ee9...</td>\n",
              "      <td>0.902219</td>\n",
              "    </tr>\n",
              "  </tbody>\n",
              "</table>\n",
              "</div>\n",
              "      <button class=\"colab-df-convert\" onclick=\"convertToInteractive('df-ab819995-e04c-47e9-ac21-8c1190c32abd')\"\n",
              "              title=\"Convert this dataframe to an interactive table.\"\n",
              "              style=\"display:none;\">\n",
              "        \n",
              "  <svg xmlns=\"http://www.w3.org/2000/svg\" height=\"24px\"viewBox=\"0 0 24 24\"\n",
              "       width=\"24px\">\n",
              "    <path d=\"M0 0h24v24H0V0z\" fill=\"none\"/>\n",
              "    <path d=\"M18.56 5.44l.94 2.06.94-2.06 2.06-.94-2.06-.94-.94-2.06-.94 2.06-2.06.94zm-11 1L8.5 8.5l.94-2.06 2.06-.94-2.06-.94L8.5 2.5l-.94 2.06-2.06.94zm10 10l.94 2.06.94-2.06 2.06-.94-2.06-.94-.94-2.06-.94 2.06-2.06.94z\"/><path d=\"M17.41 7.96l-1.37-1.37c-.4-.4-.92-.59-1.43-.59-.52 0-1.04.2-1.43.59L10.3 9.45l-7.72 7.72c-.78.78-.78 2.05 0 2.83L4 21.41c.39.39.9.59 1.41.59.51 0 1.02-.2 1.41-.59l7.78-7.78 2.81-2.81c.8-.78.8-2.07 0-2.86zM5.41 20L4 18.59l7.72-7.72 1.47 1.35L5.41 20z\"/>\n",
              "  </svg>\n",
              "      </button>\n",
              "      \n",
              "  <style>\n",
              "    .colab-df-container {\n",
              "      display:flex;\n",
              "      flex-wrap:wrap;\n",
              "      gap: 12px;\n",
              "    }\n",
              "\n",
              "    .colab-df-convert {\n",
              "      background-color: #E8F0FE;\n",
              "      border: none;\n",
              "      border-radius: 50%;\n",
              "      cursor: pointer;\n",
              "      display: none;\n",
              "      fill: #1967D2;\n",
              "      height: 32px;\n",
              "      padding: 0 0 0 0;\n",
              "      width: 32px;\n",
              "    }\n",
              "\n",
              "    .colab-df-convert:hover {\n",
              "      background-color: #E2EBFA;\n",
              "      box-shadow: 0px 1px 2px rgba(60, 64, 67, 0.3), 0px 1px 3px 1px rgba(60, 64, 67, 0.15);\n",
              "      fill: #174EA6;\n",
              "    }\n",
              "\n",
              "    [theme=dark] .colab-df-convert {\n",
              "      background-color: #3B4455;\n",
              "      fill: #D2E3FC;\n",
              "    }\n",
              "\n",
              "    [theme=dark] .colab-df-convert:hover {\n",
              "      background-color: #434B5C;\n",
              "      box-shadow: 0px 1px 3px 1px rgba(0, 0, 0, 0.15);\n",
              "      filter: drop-shadow(0px 1px 2px rgba(0, 0, 0, 0.3));\n",
              "      fill: #FFFFFF;\n",
              "    }\n",
              "  </style>\n",
              "\n",
              "      <script>\n",
              "        const buttonEl =\n",
              "          document.querySelector('#df-ab819995-e04c-47e9-ac21-8c1190c32abd button.colab-df-convert');\n",
              "        buttonEl.style.display =\n",
              "          google.colab.kernel.accessAllowed ? 'block' : 'none';\n",
              "\n",
              "        async function convertToInteractive(key) {\n",
              "          const element = document.querySelector('#df-ab819995-e04c-47e9-ac21-8c1190c32abd');\n",
              "          const dataTable =\n",
              "            await google.colab.kernel.invokeFunction('convertToInteractive',\n",
              "                                                     [key], {});\n",
              "          if (!dataTable) return;\n",
              "\n",
              "          const docLinkHtml = 'Like what you see? Visit the ' +\n",
              "            '<a target=\"_blank\" href=https://colab.research.google.com/notebooks/data_table.ipynb>data table notebook</a>'\n",
              "            + ' to learn more about interactive tables.';\n",
              "          element.innerHTML = '';\n",
              "          dataTable['output_type'] = 'display_data';\n",
              "          await google.colab.output.renderOutput(dataTable, element);\n",
              "          const docLink = document.createElement('div');\n",
              "          docLink.innerHTML = docLinkHtml;\n",
              "          element.appendChild(docLink);\n",
              "        }\n",
              "      </script>\n",
              "    </div>\n",
              "  </div>\n",
              "  "
            ]
          },
          "metadata": {},
          "execution_count": 20
        }
      ],
      "source": [
        "# WRITE SUBMISSION FILE\n",
        "test = pd.DataFrame(index=customers,data={'prediction': np.concatenate(test_preds)})\n",
        "sub = pd.read_csv('/content/sample_submission.csv')[['customer_ID']]\n",
        "sub['customer_ID_hash'] = sub['customer_ID'].copy()\n",
        "sub = sub.set_index('customer_ID_hash')\n",
        "sub = sub.merge(test[['prediction']], left_index=True, right_index=True, how='left')\n",
        "sub = sub.reset_index(drop=True)\n",
        "\n",
        "# DISPLAY PREDICTIONS\n",
        "sub.to_csv(f'submission_xgb_v{VER}_seed{SEED}_fold{FOLDS}.csv',index=False)\n",
        "print('Submission file shape is', sub.shape )\n",
        "sub.head()"
      ]
    },
    {
      "cell_type": "code",
      "execution_count": 21,
      "id": "63453bcd",
      "metadata": {
        "execution": {
          "iopub.execute_input": "2022-07-04T14:00:06.852363Z",
          "iopub.status.busy": "2022-07-04T14:00:06.851721Z",
          "iopub.status.idle": "2022-07-04T14:00:07.547496Z",
          "shell.execute_reply": "2022-07-04T14:00:07.546749Z"
        },
        "papermill": {
          "duration": 0.710906,
          "end_time": "2022-07-04T14:00:07.549303",
          "exception": false,
          "start_time": "2022-07-04T14:00:06.838397",
          "status": "completed"
        },
        "tags": [],
        "id": "63453bcd",
        "outputId": "85a7959c-0a54-40f7-c59a-3c610849bde3",
        "colab": {
          "base_uri": "https://localhost:8080/",
          "height": 281
        }
      },
      "outputs": [
        {
          "output_type": "display_data",
          "data": {
            "text/plain": [
              "<Figure size 432x288 with 1 Axes>"
            ],
            "image/png": "[encoded data removed]"
          },
          "metadata": {
            "needs_background": "light"
          }
        }
      ],
      "source": [
        "# PLOT PREDICTIONS\n",
        "import matplotlib.pyplot as plt\n",
        "\n",
        "plt.hist(sub.prediction, bins=100)\n",
        "plt.title('Test Predictions')\n",
        "plt.show()"
      ]
    },
    {
      "cell_type": "markdown",
      "metadata": {
        "papermill": {
          "duration": 0.042841,
          "end_time": "2022-07-15T16:51:28.477165",
          "exception": false,
          "start_time": "2022-07-15T16:51:28.434324",
          "status": "completed"
        },
        "tags": [],
        "id": "802623f7"
      },
      "source": [
        "# Submit to Kaggle from Colab"
      ],
      "id": "802623f7"
    },
    {
      "cell_type": "code",
      "execution_count": 24,
      "metadata": {
        "execution": {
          "iopub.execute_input": "2022-07-15T16:51:28.552420Z",
          "iopub.status.busy": "2022-07-15T16:51:28.551829Z",
          "iopub.status.idle": "2022-07-15T16:51:28.557906Z",
          "shell.execute_reply": "2022-07-15T16:51:28.557166Z"
        },
        "papermill": {
          "duration": 0.048007,
          "end_time": "2022-07-15T16:51:28.561880",
          "exception": false,
          "start_time": "2022-07-15T16:51:28.513873",
          "status": "completed"
        },
        "tags": [],
        "id": "efc54970",
        "outputId": "7695dd08-8f74-42ee-c876-a0a0e68f65b3",
        "colab": {
          "base_uri": "https://localhost:8080/"
        }
      },
      "outputs": [
        {
          "output_type": "stream",
          "name": "stdout",
          "text": [
            "100% 67.6M/67.6M [00:01<00:00, 63.4MB/s]\n",
            "Successfully submitted to American Express - Default Prediction"
          ]
        }
      ],
      "source": [
        "# Submit\n",
        "!kaggle competitions submit -c amex-default-prediction -f submission_xgb_v10_seed42_fold5.csv -m \"Run with bruto-force and last - min and max -last seed 42 fold 5\""
      ],
      "id": "efc54970"
    },
    {
      "cell_type": "code",
      "execution_count": 27,
      "metadata": {
        "execution": {
          "iopub.execute_input": "2022-07-15T16:51:28.636400Z",
          "iopub.status.busy": "2022-07-15T16:51:28.635706Z",
          "iopub.status.idle": "2022-07-15T16:51:28.643060Z",
          "shell.execute_reply": "2022-07-15T16:51:28.640501Z"
        },
        "papermill": {
          "duration": 0.04911,
          "end_time": "2022-07-15T16:51:28.647823",
          "exception": false,
          "start_time": "2022-07-15T16:51:28.598713",
          "status": "completed"
        },
        "tags": [],
        "id": "aad5cc1a",
        "outputId": "c9a36430-1550-4655-f964-b36f00fbb0aa",
        "colab": {
          "base_uri": "https://localhost:8080/"
        }
      },
      "outputs": [
        {
          "output_type": "stream",
          "name": "stdout",
          "text": [
            "fileName                             date                 description                                                       status    publicScore  privateScore  \n",
            "-----------------------------------  -------------------  ----------------------------------------------------------------  --------  -----------  ------------  \n",
            "submission_xgb_v10_seed42_fold5.csv  2022-08-08 11:25:33  Run with bruto-force and last - min and max -last seed 42 fold 5  complete  0.796                      \n",
            "Amex Default Prediction - Ensemble   2022-08-08 09:16:13  Notebook Amex Default Prediction - Ensemble | Version 52          complete  0.799                      \n",
            "Amex Default Prediction - Ensemble   2022-08-07 10:06:52  Notebook Amex Default Prediction - Ensemble | Version 51          complete  0.799                      \n",
            "Amex Default Prediction - Ensemble   2022-08-07 10:01:11  Notebook Amex Default Prediction - Ensemble | Version 50          complete  0.799                      \n",
            "Amex Default Prediction - Ensemble   2022-08-07 04:25:29  Notebook Amex Default Prediction - Ensemble | Version 49          complete  0.799                      \n",
            "Amex Default Prediction - Ensemble   2022-08-07 04:22:24  Notebook Amex Default Prediction - Ensemble | Version 48          complete  0.799                      \n",
            "Amex Default Prediction - Ensemble   2022-08-07 04:18:56  Notebook Amex Default Prediction - Ensemble | Version 47          complete  0.798                      \n",
            "Amex Default Prediction - Ensemble   2022-08-05 11:27:36  Notebook Amex Default Prediction - Ensemble | Version 46          complete  0.799                      \n",
            "Amex Default Prediction - Ensemble   2022-08-05 11:23:37  Notebook Amex Default Prediction - Ensemble | Version 45          complete  0.799                      \n",
            "Amex Default Prediction - Ensemble   2022-08-04 15:16:57  Notebook Amex Default Prediction - Ensemble | Version 44          complete  0.799                      \n",
            "Amex Default Prediction - Ensemble   2022-08-04 14:56:04  Notebook Amex Default Prediction - Ensemble | Version 43          complete  0.799                      \n",
            "Amex Default Prediction - Ensemble   2022-08-04 14:53:27  Notebook Amex Default Prediction - Ensemble | Version 42          complete  0.799                      \n",
            "submission_cat_v9_seed42_fold5.csv   2022-08-04 14:26:40  Run with max - last                                               complete  0.796                      \n",
            "submission_lgb_v1_seed42_fold5.csv   2022-08-04 14:14:31  the first version. fe lag plus seed 52 fold 5 From colab          complete  0.798                      \n",
            "Amex Default Prediction - Ensemble   2022-08-03 11:51:07  Notebook Amex Default Prediction - Ensemble | Version 40          complete  0.799                      \n",
            "Amex Default Prediction - Ensemble   2022-08-03 11:43:47  Notebook Amex Default Prediction - Ensemble | Version 38          complete  0.799                      \n",
            "Amex Default Prediction - Ensemble   2022-08-03 11:43:35  Notebook Amex Default Prediction - Ensemble | Version 38          complete  0.798                      \n",
            "Amex Default Prediction - Ensemble   2022-08-03 11:40:52  Notebook Amex Default Prediction - Ensemble | Version 37          complete  0.798                      \n",
            "Amex Default Prediction - Ensemble   2022-08-03 11:33:14  Notebook Amex Default Prediction - Ensemble | Version 36          complete  0.799                      \n",
            "submission_xgb_v8_seed42_fold5.csv   2022-08-02 17:47:50  Run with (last - first) / s_2 seed 42 fold 5                      complete  0.795                      \n",
            "submission_cat_v9_seed42_fold5.csv   2022-08-02 15:17:24  Run with max - last                                               complete  0.796                      \n",
            "submission_cat_v7_seed42_fold5.csv   2022-08-01 06:24:15  Run with max - last                                               complete  0.796                      \n",
            "Amex Default Prediction - Ensemble   2022-07-30 15:42:45  Notebook Amex Default Prediction - Ensemble | Version 35          complete  0.798                      \n",
            "Amex Default Prediction - Ensemble   2022-07-30 15:38:09  rank                                                              complete  0.798                      \n",
            "Amex Default Prediction - Ensemble   2022-07-30 15:36:03  mean ver                                                          complete  0.798                      \n",
            "Amex Default Prediction - Ensemble   2022-07-30 15:19:03  Notebook Amex Default Prediction - Ensemble | Version 32          complete  0.798                      \n",
            "Amex Default Prediction - Ensemble   2022-07-30 10:03:47  Notebook Amex Default Prediction - Ensemble | Version 31          complete  0.798                      \n",
            "Amex Default Prediction - Ensemble   2022-07-29 11:37:23  Notebook Amex Default Prediction - Ensemble | Version 30          complete  0.798                      \n",
            "submission_cat_v7_seed42_fold5.csv   2022-07-29 04:02:04  Run with seed 42 fold 5 last / s2                                 complete  0.796                      \n",
            "Amex Default Prediction - Ensemble   2022-07-28 14:38:46  Notebook Amex Default Prediction - Ensemble | Version 29          complete  0.798                      \n",
            "Amex Default Prediction - Ensemble   2022-07-28 14:34:35  Notebook Amex Default Prediction - Ensemble | Version 28          complete  0.798                      \n",
            "Amex Default Prediction - Ensemble   2022-07-28 13:10:11  Notebook Amex Default Prediction - Ensemble | Version 27          complete  0.798                      \n",
            "submission_lgb_v1_seed42_fold5.csv   2022-07-28 12:43:40  the first version. fe lag plus seed 52 fold 5 From colab          complete  0.798                      \n",
            "submission_lgb_v1_seed42_fold5.csv   2022-07-28 05:46:49  the first version. fe lag plus seed 52 fold 5 From colab          complete  0.798                      \n",
            "submission_xgb_v6_seed42_fold5.csv   2022-07-27 14:21:18  Run with (last - first) / s_2 seed 42 fold 5                      complete  0.796                      \n",
            "submission_cat_v1_seed42_fold5.csv   2022-07-27 09:46:57  Run with seed 42 fold 5 last / s2                                 complete  0.796                      \n",
            "submission_cat_v1_seed42_fold5.csv   2022-07-27 06:08:24  From colab seed 42 fold 5 lag plus                                complete  0.794                      \n",
            "submission_xgb_v5_seed42_fold5.csv   2022-07-27 02:53:07  xgb fold 5 seed 42 last / s2 lag                                  complete  0.796                      \n",
            "submission_xgb_v1_seed42_fold5.csv   2022-07-26 16:34:13  From colab seed 42 fold 5 lag plus                                complete  0.795                      \n",
            "Amex Default Prediction - Ensemble   2022-07-26 16:18:30  Notebook Amex Default Prediction - Ensemble | Version 24          complete  0.798                      \n",
            "Amex Default Prediction - Ensemble   2022-07-26 15:17:31  Notebook Amex Default Prediction - Ensemble | Version 23          complete  0.798                      \n",
            "submission_xgb_v1_seed42_fold5.csv   2022-07-26 14:59:19  From colab seed 42 fold 5 lag plus                                complete  0.795                      \n",
            "submission_cat_v1_seed42_fold5.csv   2022-07-26 13:10:11  From colab seed 42 fold 5 lag plus                                complete  0.796                      \n",
            "Amex Default Prediction - Ensemble   2022-07-25 18:21:01  Notebook Amex Default Prediction - Ensemble | Version 22          complete  0.799                      \n",
            "submission_cat_v1_seed42_fold5.csv   2022-07-25 18:15:57  From colab seed 42 fold 5 lag plus                                complete  0.796                      \n",
            "Amex Default Prediction - Ensemble   2022-07-24 15:56:24  Notebook Amex Default Prediction - Ensemble | Version 20          complete  0.759                      \n",
            "Amex Default Prediction - Ensemble   2022-07-24 15:55:05  Notebook Amex Default Prediction - Ensemble | Version 19          complete  0.745                      \n",
            "Amex Default Prediction - Ensemble   2022-07-24 14:26:44  Notebook Amex Default Prediction - Ensemble | Version 16          complete  0.798                      \n",
            "Amex Default Prediction - Ensemble   2022-07-24 14:22:52  Notebook Amex Default Prediction - Ensemble | Version 15          complete  0.798                      \n",
            "submission_cat_v1_seed42_fold5.csv   2022-07-24 13:58:18  Run with round 2 cat                                              complete  0.796                      \n"
          ]
        }
      ],
      "source": [
        "# Run after few seconds\n",
        "!kaggle competitions submissions amex-default-prediction"
      ],
      "id": "aad5cc1a"
    }
  ],
  "metadata": {
    "kernelspec": {
      "display_name": "Python 3",
      "language": "python",
      "name": "python3"
    },
    "language_info": {
      "codemirror_mode": {
        "name": "ipython",
        "version": 3
      },
      "file_extension": ".py",
      "mimetype": "text/x-python",
      "name": "python",
      "nbconvert_exporter": "python",
      "pygments_lexer": "ipython3",
      "version": "3.7.12"
    },
    "papermill": {
      "default_parameters": {},
      "duration": 1350.063162,
      "end_time": "2022-07-04T14:00:08.785368",
      "environment_variables": {},
      "exception": null,
      "input_path": "__notebook__.ipynb",
      "output_path": "__notebook__.ipynb",
      "parameters": {},
      "start_time": "2022-07-04T13:37:38.722206",
      "version": "2.3.4"
    },
    "colab": {
      "name": "amex-default-prediction-xgb.ipynb",
      "provenance": [],
      "machine_shape": "hm"
    },
    "gpuClass": "standard",
    "accelerator": "GPU"
  },
  "nbformat": 4,
  "nbformat_minor": 5
}
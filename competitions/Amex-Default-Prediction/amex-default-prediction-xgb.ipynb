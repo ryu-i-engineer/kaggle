{
 "cells": [
  {
   "cell_type": "code",
   "execution_count": 1,
   "id": "75a923db",
   "metadata": {
    "_cell_guid": "b1076dfc-b9ad-4769-8c92-a6c4dae69d19",
    "_uuid": "8f2839f25d086af736a60e9eeb907d3b93b6e0e5",
    "execution": {
     "iopub.execute_input": "2022-07-04T13:37:46.871349Z",
     "iopub.status.busy": "2022-07-04T13:37:46.870600Z",
     "iopub.status.idle": "2022-07-04T13:37:50.917325Z",
     "shell.execute_reply": "2022-07-04T13:37:50.916525Z"
    },
    "papermill": {
     "duration": 4.059938,
     "end_time": "2022-07-04T13:37:50.919741",
     "exception": false,
     "start_time": "2022-07-04T13:37:46.859803",
     "status": "completed"
    },
    "tags": []
   },
   "outputs": [],
   "source": [
    "import pandas as pd\n",
    "import numpy as np\n",
    "import matplotlib.pyplot\n",
    "import cudf\n",
    "\n",
    "import os, gc"
   ]
  },
  {
   "cell_type": "code",
   "execution_count": 2,
   "id": "b06e1731",
   "metadata": {
    "execution": {
     "iopub.execute_input": "2022-07-04T13:37:50.930838Z",
     "iopub.status.busy": "2022-07-04T13:37:50.930542Z",
     "iopub.status.idle": "2022-07-04T13:37:50.934301Z",
     "shell.execute_reply": "2022-07-04T13:37:50.933487Z"
    },
    "papermill": {
     "duration": 0.011323,
     "end_time": "2022-07-04T13:37:50.936212",
     "exception": false,
     "start_time": "2022-07-04T13:37:50.924889",
     "status": "completed"
    },
    "tags": []
   },
   "outputs": [],
   "source": [
    "VER=1\n",
    "SEED = 42\n",
    "FOLDS = 5\n",
    "NAN_VALUE = -127"
   ]
  },
  {
   "cell_type": "code",
   "execution_count": 3,
   "id": "57f97206",
   "metadata": {
    "execution": {
     "iopub.execute_input": "2022-07-04T13:37:50.946662Z",
     "iopub.status.busy": "2022-07-04T13:37:50.946419Z",
     "iopub.status.idle": "2022-07-04T13:37:50.953710Z",
     "shell.execute_reply": "2022-07-04T13:37:50.952893Z"
    },
    "papermill": {
     "duration": 0.014518,
     "end_time": "2022-07-04T13:37:50.955539",
     "exception": false,
     "start_time": "2022-07-04T13:37:50.941021",
     "status": "completed"
    },
    "tags": []
   },
   "outputs": [],
   "source": [
    "def read_file(path = '', usecols = None):\n",
    "    # LOAD DATAFRAME\n",
    "    if usecols is not None: df = cudf.read_parquet(path, columns=usecols)\n",
    "    else: df = cudf.read_parquet(path)\n",
    "    # REDUCE DTYPE FOR CUSTOMER AND DATE\n",
    "    df['customer_ID'] = df['customer_ID'].str[-16:].str.hex_to_int().astype('int64')\n",
    "    df.S_2 = cudf.to_datetime( df.S_2 )\n",
    "    # SORT BY CUSTOMER AND DATE (so agg('last') works correctly)\n",
    "#     df = df.sort_values(['customer_ID','S_2'])\n",
    "#     df = df.reset_index(drop=True)\n",
    "    \n",
    "    float_cols = list(df.dtypes[(df.dtypes == 'float16') | (df.dtypes == 'float32') | (df.dtypes == 'float64')].index)\n",
    "    float_cols = [col for col in float_cols if 'last' in col]\n",
    "\n",
    "    df[float_cols] = df[float_cols].round(2)\n",
    "    \n",
    "    # FILL NAN\n",
    "    df = df.fillna(NAN_VALUE) \n",
    "    print('shape of data:', df.shape)\n",
    "    \n",
    "    return df"
   ]
  },
  {
   "cell_type": "code",
   "execution_count": 4,
   "id": "d8f2573f",
   "metadata": {
    "execution": {
     "iopub.execute_input": "2022-07-04T13:37:50.966158Z",
     "iopub.status.busy": "2022-07-04T13:37:50.965558Z",
     "iopub.status.idle": "2022-07-04T13:38:12.628753Z",
     "shell.execute_reply": "2022-07-04T13:38:12.627666Z"
    },
    "papermill": {
     "duration": 21.671053,
     "end_time": "2022-07-04T13:38:12.631246",
     "exception": false,
     "start_time": "2022-07-04T13:37:50.960193",
     "status": "completed"
    },
    "tags": []
   },
   "outputs": [
    {
     "name": "stdout",
     "output_type": "stream",
     "text": [
      "Reading train data...\n",
      "shape of data: (5531451, 190)\n"
     ]
    }
   ],
   "source": [
    "print('Reading train data...')\n",
    "TRAIN_PATH = '../input/amex-data-integer-dtypes-parquet-format/train.parquet'\n",
    "train = read_file(path = TRAIN_PATH)"
   ]
  },
  {
   "cell_type": "code",
   "execution_count": 5,
   "id": "9254a8e5",
   "metadata": {
    "execution": {
     "iopub.execute_input": "2022-07-04T13:38:12.643832Z",
     "iopub.status.busy": "2022-07-04T13:38:12.642803Z",
     "iopub.status.idle": "2022-07-04T13:38:12.866832Z",
     "shell.execute_reply": "2022-07-04T13:38:12.865869Z"
    },
    "papermill": {
     "duration": 0.231915,
     "end_time": "2022-07-04T13:38:12.868913",
     "exception": false,
     "start_time": "2022-07-04T13:38:12.636998",
     "status": "completed"
    },
    "tags": []
   },
   "outputs": [
    {
     "data": {
      "text/html": [
       "<div>\n",
       "<style scoped>\n",
       "    .dataframe tbody tr th:only-of-type {\n",
       "        vertical-align: middle;\n",
       "    }\n",
       "\n",
       "    .dataframe tbody tr th {\n",
       "        vertical-align: top;\n",
       "    }\n",
       "\n",
       "    .dataframe thead th {\n",
       "        text-align: right;\n",
       "    }\n",
       "</style>\n",
       "<table border=\"1\" class=\"dataframe\">\n",
       "  <thead>\n",
       "    <tr style=\"text-align: right;\">\n",
       "      <th></th>\n",
       "      <th>customer_ID</th>\n",
       "      <th>S_2</th>\n",
       "      <th>P_2</th>\n",
       "      <th>D_39</th>\n",
       "      <th>B_1</th>\n",
       "      <th>B_2</th>\n",
       "      <th>R_1</th>\n",
       "      <th>S_3</th>\n",
       "      <th>D_41</th>\n",
       "      <th>B_3</th>\n",
       "      <th>...</th>\n",
       "      <th>D_136</th>\n",
       "      <th>D_137</th>\n",
       "      <th>D_138</th>\n",
       "      <th>D_139</th>\n",
       "      <th>D_140</th>\n",
       "      <th>D_141</th>\n",
       "      <th>D_142</th>\n",
       "      <th>D_143</th>\n",
       "      <th>D_144</th>\n",
       "      <th>D_145</th>\n",
       "    </tr>\n",
       "  </thead>\n",
       "  <tbody>\n",
       "    <tr>\n",
       "      <th>0</th>\n",
       "      <td>-4532153018459703766</td>\n",
       "      <td>2017-03-09</td>\n",
       "      <td>0.938469</td>\n",
       "      <td>0</td>\n",
       "      <td>0.008724</td>\n",
       "      <td>1.006838</td>\n",
       "      <td>0.009228</td>\n",
       "      <td>0.124035</td>\n",
       "      <td>0.0</td>\n",
       "      <td>0.004709</td>\n",
       "      <td>...</td>\n",
       "      <td>-1</td>\n",
       "      <td>-1</td>\n",
       "      <td>-1</td>\n",
       "      <td>0</td>\n",
       "      <td>0</td>\n",
       "      <td>0.0</td>\n",
       "      <td>-127.0</td>\n",
       "      <td>0</td>\n",
       "      <td>0.000610</td>\n",
       "      <td>0</td>\n",
       "    </tr>\n",
       "    <tr>\n",
       "      <th>1</th>\n",
       "      <td>-4532153018459703766</td>\n",
       "      <td>2017-04-07</td>\n",
       "      <td>0.936665</td>\n",
       "      <td>0</td>\n",
       "      <td>0.004923</td>\n",
       "      <td>1.000653</td>\n",
       "      <td>0.006151</td>\n",
       "      <td>0.126750</td>\n",
       "      <td>0.0</td>\n",
       "      <td>0.002714</td>\n",
       "      <td>...</td>\n",
       "      <td>-1</td>\n",
       "      <td>-1</td>\n",
       "      <td>-1</td>\n",
       "      <td>0</td>\n",
       "      <td>0</td>\n",
       "      <td>0.0</td>\n",
       "      <td>-127.0</td>\n",
       "      <td>0</td>\n",
       "      <td>0.005492</td>\n",
       "      <td>0</td>\n",
       "    </tr>\n",
       "    <tr>\n",
       "      <th>2</th>\n",
       "      <td>-4532153018459703766</td>\n",
       "      <td>2017-05-28</td>\n",
       "      <td>0.954180</td>\n",
       "      <td>3</td>\n",
       "      <td>0.021655</td>\n",
       "      <td>1.009672</td>\n",
       "      <td>0.006815</td>\n",
       "      <td>0.123977</td>\n",
       "      <td>0.0</td>\n",
       "      <td>0.009423</td>\n",
       "      <td>...</td>\n",
       "      <td>-1</td>\n",
       "      <td>-1</td>\n",
       "      <td>-1</td>\n",
       "      <td>0</td>\n",
       "      <td>0</td>\n",
       "      <td>0.0</td>\n",
       "      <td>-127.0</td>\n",
       "      <td>0</td>\n",
       "      <td>0.006986</td>\n",
       "      <td>0</td>\n",
       "    </tr>\n",
       "    <tr>\n",
       "      <th>3</th>\n",
       "      <td>-4532153018459703766</td>\n",
       "      <td>2017-06-13</td>\n",
       "      <td>0.960384</td>\n",
       "      <td>0</td>\n",
       "      <td>0.013683</td>\n",
       "      <td>1.002700</td>\n",
       "      <td>0.001373</td>\n",
       "      <td>0.117169</td>\n",
       "      <td>0.0</td>\n",
       "      <td>0.005531</td>\n",
       "      <td>...</td>\n",
       "      <td>-1</td>\n",
       "      <td>-1</td>\n",
       "      <td>-1</td>\n",
       "      <td>0</td>\n",
       "      <td>0</td>\n",
       "      <td>0.0</td>\n",
       "      <td>-127.0</td>\n",
       "      <td>0</td>\n",
       "      <td>0.006527</td>\n",
       "      <td>0</td>\n",
       "    </tr>\n",
       "    <tr>\n",
       "      <th>4</th>\n",
       "      <td>-4532153018459703766</td>\n",
       "      <td>2017-07-16</td>\n",
       "      <td>0.947248</td>\n",
       "      <td>0</td>\n",
       "      <td>0.015193</td>\n",
       "      <td>1.000727</td>\n",
       "      <td>0.007605</td>\n",
       "      <td>0.117325</td>\n",
       "      <td>0.0</td>\n",
       "      <td>0.009312</td>\n",
       "      <td>...</td>\n",
       "      <td>-1</td>\n",
       "      <td>-1</td>\n",
       "      <td>-1</td>\n",
       "      <td>0</td>\n",
       "      <td>0</td>\n",
       "      <td>0.0</td>\n",
       "      <td>-127.0</td>\n",
       "      <td>0</td>\n",
       "      <td>0.008126</td>\n",
       "      <td>0</td>\n",
       "    </tr>\n",
       "  </tbody>\n",
       "</table>\n",
       "<p>5 rows × 190 columns</p>\n",
       "</div>"
      ],
      "text/plain": [
       "           customer_ID        S_2       P_2  D_39       B_1       B_2  \\\n",
       "0 -4532153018459703766 2017-03-09  0.938469     0  0.008724  1.006838   \n",
       "1 -4532153018459703766 2017-04-07  0.936665     0  0.004923  1.000653   \n",
       "2 -4532153018459703766 2017-05-28  0.954180     3  0.021655  1.009672   \n",
       "3 -4532153018459703766 2017-06-13  0.960384     0  0.013683  1.002700   \n",
       "4 -4532153018459703766 2017-07-16  0.947248     0  0.015193  1.000727   \n",
       "\n",
       "        R_1       S_3  D_41       B_3  ...  D_136  D_137  D_138  D_139  D_140  \\\n",
       "0  0.009228  0.124035   0.0  0.004709  ...     -1     -1     -1      0      0   \n",
       "1  0.006151  0.126750   0.0  0.002714  ...     -1     -1     -1      0      0   \n",
       "2  0.006815  0.123977   0.0  0.009423  ...     -1     -1     -1      0      0   \n",
       "3  0.001373  0.117169   0.0  0.005531  ...     -1     -1     -1      0      0   \n",
       "4  0.007605  0.117325   0.0  0.009312  ...     -1     -1     -1      0      0   \n",
       "\n",
       "   D_141  D_142  D_143     D_144  D_145  \n",
       "0    0.0 -127.0      0  0.000610      0  \n",
       "1    0.0 -127.0      0  0.005492      0  \n",
       "2    0.0 -127.0      0  0.006986      0  \n",
       "3    0.0 -127.0      0  0.006527      0  \n",
       "4    0.0 -127.0      0  0.008126      0  \n",
       "\n",
       "[5 rows x 190 columns]"
      ]
     },
     "execution_count": 5,
     "metadata": {},
     "output_type": "execute_result"
    }
   ],
   "source": [
    "train.head()"
   ]
  },
  {
   "cell_type": "code",
   "execution_count": 6,
   "id": "64d772da",
   "metadata": {
    "execution": {
     "iopub.execute_input": "2022-07-04T13:38:12.881106Z",
     "iopub.status.busy": "2022-07-04T13:38:12.880449Z",
     "iopub.status.idle": "2022-07-04T13:38:12.888042Z",
     "shell.execute_reply": "2022-07-04T13:38:12.887178Z"
    },
    "papermill": {
     "duration": 0.01539,
     "end_time": "2022-07-04T13:38:12.889725",
     "exception": false,
     "start_time": "2022-07-04T13:38:12.874335",
     "status": "completed"
    },
    "tags": []
   },
   "outputs": [],
   "source": [
    "def process_and_feature_engineering(df: pd.DataFrame):\n",
    "    # from https://www.kaggle.com/code/huseyncot/amex-agg-data-how-it-created\n",
    "    all_cols = [c for c in list(df.columns) if c not in ['customer_ID', 'S_2']]\n",
    "    cat_features = [\"B_30\", \"B_38\", \"D_114\", \"D_116\", \"D_117\", \"D_120\", \"D_126\", \"D_63\", \"D_64\", \"D_66\", \"D_68\"]\n",
    "    num_features = [col for col in all_cols if col not in cat_features]\n",
    "    \n",
    "    test_num_agg = df.groupby(\"customer_ID\")[num_features].agg(['mean', 'std', 'min', 'max', 'last'])\n",
    "    test_num_agg.columns = ['_'.join(x) for x in test_num_agg.columns]\n",
    "    \n",
    "    test_cat_agg = df.groupby(\"customer_ID\")[cat_features].agg(['count', 'last', 'nunique'])\n",
    "    test_cat_agg.columns = ['_'.join(x) for x in test_cat_agg.columns]\n",
    "        \n",
    "    df = cudf.concat([test_num_agg, test_cat_agg], axis=1)\n",
    "    del test_num_agg, test_cat_agg\n",
    "    print('shape after engineering', df.shape)\n",
    "    \n",
    "    return df"
   ]
  },
  {
   "cell_type": "code",
   "execution_count": 7,
   "id": "e9e4628c",
   "metadata": {
    "execution": {
     "iopub.execute_input": "2022-07-04T13:38:12.901239Z",
     "iopub.status.busy": "2022-07-04T13:38:12.900951Z",
     "iopub.status.idle": "2022-07-04T13:38:14.055784Z",
     "shell.execute_reply": "2022-07-04T13:38:14.054043Z"
    },
    "papermill": {
     "duration": 1.163442,
     "end_time": "2022-07-04T13:38:14.058383",
     "exception": false,
     "start_time": "2022-07-04T13:38:12.894941",
     "status": "completed"
    },
    "tags": []
   },
   "outputs": [
    {
     "name": "stdout",
     "output_type": "stream",
     "text": [
      "shape after engineering (458913, 918)\n"
     ]
    }
   ],
   "source": [
    "train = process_and_feature_engineering(train)"
   ]
  },
  {
   "cell_type": "code",
   "execution_count": 8,
   "id": "11f925c6",
   "metadata": {
    "execution": {
     "iopub.execute_input": "2022-07-04T13:38:14.070813Z",
     "iopub.status.busy": "2022-07-04T13:38:14.070502Z",
     "iopub.status.idle": "2022-07-04T13:38:15.355863Z",
     "shell.execute_reply": "2022-07-04T13:38:15.355048Z"
    },
    "papermill": {
     "duration": 1.293512,
     "end_time": "2022-07-04T13:38:15.357820",
     "exception": false,
     "start_time": "2022-07-04T13:38:14.064308",
     "status": "completed"
    },
    "tags": []
   },
   "outputs": [
    {
     "name": "stdout",
     "output_type": "stream",
     "text": [
      "There are 918 features!\n"
     ]
    }
   ],
   "source": [
    "# ADD TARGETS\n",
    "targets = cudf.read_csv('../input/amex-default-prediction/train_labels.csv')\n",
    "targets['customer_ID'] = targets['customer_ID'].str[-16:].str.hex_to_int().astype('int64')\n",
    "targets = targets.set_index('customer_ID')\n",
    "train = train.merge(targets, left_index=True, right_index=True, how='left')\n",
    "train.target = train.target.astype('int8')\n",
    "del targets\n",
    "\n",
    "# NEEDED TO MAKE CV DETERMINISTIC (cudf merge above randomly shuffles rows)\n",
    "train = train.sort_index().reset_index()\n",
    "\n",
    "# FEATURES\n",
    "FEATURES = train.columns[1:-1]\n",
    "print(f'There are {len(FEATURES)} features!')"
   ]
  },
  {
   "cell_type": "code",
   "execution_count": 9,
   "id": "d98b705b",
   "metadata": {
    "execution": {
     "iopub.execute_input": "2022-07-04T13:38:15.369855Z",
     "iopub.status.busy": "2022-07-04T13:38:15.369570Z",
     "iopub.status.idle": "2022-07-04T13:38:15.468113Z",
     "shell.execute_reply": "2022-07-04T13:38:15.466877Z"
    },
    "papermill": {
     "duration": 0.106496,
     "end_time": "2022-07-04T13:38:15.469835",
     "exception": false,
     "start_time": "2022-07-04T13:38:15.363339",
     "status": "completed"
    },
    "tags": []
   },
   "outputs": [
    {
     "name": "stdout",
     "output_type": "stream",
     "text": [
      "XGB Version 1.6.1\n"
     ]
    }
   ],
   "source": [
    "# LOAD XGB LIBRARY\n",
    "from sklearn.model_selection import KFold\n",
    "import xgboost as xgb\n",
    "print('XGB Version',xgb.__version__)\n",
    "\n",
    "# XGB MODEL PARAMETERS\n",
    "xgb_parms = {\n",
    "    'max_depth':7,\n",
    "    'eta':0.03,\n",
    "    'subsample':0.88,\n",
    "    'colsample_bytree':0.5,\n",
    "    'min_child_weight':8,\n",
    "#     'booster': 'dart',\n",
    "#     'max_delta_step': 16,\n",
    "    'gamma':1.5,\n",
    "    'lambda':70,\n",
    "#     'reg_alpha':2,\n",
    "#     'reg_lambda':2,\n",
    "#     'scale_pos_weight':2.5,\n",
    "#     'eval_metric':'logloss',\n",
    "    'objective':'binary:logistic',\n",
    "    'tree_method':'gpu_hist',\n",
    "    'predictor':'gpu_predictor',\n",
    "    'random_state':SEED\n",
    "}"
   ]
  },
  {
   "cell_type": "code",
   "execution_count": 10,
   "id": "ab37d28f",
   "metadata": {
    "execution": {
     "iopub.execute_input": "2022-07-04T13:38:15.481802Z",
     "iopub.status.busy": "2022-07-04T13:38:15.481530Z",
     "iopub.status.idle": "2022-07-04T13:38:15.490279Z",
     "shell.execute_reply": "2022-07-04T13:38:15.489432Z"
    },
    "papermill": {
     "duration": 0.016588,
     "end_time": "2022-07-04T13:38:15.492062",
     "exception": false,
     "start_time": "2022-07-04T13:38:15.475474",
     "status": "completed"
    },
    "tags": []
   },
   "outputs": [],
   "source": [
    "# NEEDED WITH DeviceQuantileDMatrix BELOW\n",
    "class IterLoadForDMatrix(xgb.core.DataIter):\n",
    "    def __init__(self, df=None, features=None, target=None, batch_size=256*1024):\n",
    "        self.features = features\n",
    "        self.target = target\n",
    "        self.df = df\n",
    "        self.it = 0 # set iterator to 0\n",
    "        self.batch_size = batch_size\n",
    "        self.batches = int( np.ceil( len(df) / self.batch_size ) )\n",
    "        super().__init__()\n",
    "\n",
    "    def reset(self):\n",
    "        '''Reset the iterator'''\n",
    "        self.it = 0\n",
    "\n",
    "    def next(self, input_data):\n",
    "        '''Yield next batch of data.'''\n",
    "        if self.it == self.batches:\n",
    "            return 0 # Return 0 when there's no more batch.\n",
    "        \n",
    "        a = self.it * self.batch_size\n",
    "        b = min( (self.it + 1) * self.batch_size, len(self.df) )\n",
    "        dt = cudf.DataFrame(self.df.iloc[a:b])\n",
    "        input_data(data=dt[self.features], label=dt[self.target]) #weight=dt['weight'])\n",
    "        self.it += 1\n",
    "        return 1"
   ]
  },
  {
   "cell_type": "code",
   "execution_count": 11,
   "id": "89f2c8a7",
   "metadata": {
    "execution": {
     "iopub.execute_input": "2022-07-04T13:38:15.503475Z",
     "iopub.status.busy": "2022-07-04T13:38:15.503227Z",
     "iopub.status.idle": "2022-07-04T13:38:15.511646Z",
     "shell.execute_reply": "2022-07-04T13:38:15.510996Z"
    },
    "papermill": {
     "duration": 0.01593,
     "end_time": "2022-07-04T13:38:15.513211",
     "exception": false,
     "start_time": "2022-07-04T13:38:15.497281",
     "status": "completed"
    },
    "tags": []
   },
   "outputs": [],
   "source": [
    "# https://www.kaggle.com/competitions/amex-default-prediction/discussion/328020\n",
    "import numpy as np\n",
    "\n",
    "def amex_metric_numpy(y_true: np.array, y_pred: np.array) -> float:\n",
    "\n",
    "    # count of positives and negatives\n",
    "    n_pos = y_true.sum()\n",
    "    n_neg = y_true.shape[0] - n_pos\n",
    "\n",
    "    # sorting by descring prediction values\n",
    "    indices = np.argsort(y_pred)[::-1]\n",
    "    preds, target = y_pred[indices], y_true[indices]\n",
    "\n",
    "    # filter the top 4% by cumulative row weights\n",
    "    weight = 20.0 - target * 19.0\n",
    "    cum_norm_weight = (weight / weight.sum()).cumsum()\n",
    "    four_pct_filter = cum_norm_weight <= 0.04\n",
    "\n",
    "    # default rate captured at 4%\n",
    "    d = target[four_pct_filter].sum() / n_pos\n",
    "\n",
    "    # weighted gini coefficient\n",
    "    lorentz = (target / n_pos).cumsum()\n",
    "    gini = ((lorentz - cum_norm_weight) * weight).sum()\n",
    "\n",
    "    # max weighted gini coefficient\n",
    "    gini_max = 10 * n_neg * (1 - 19 / (n_pos + 20 * n_neg))\n",
    "\n",
    "    # normalized weighted gini coefficient\n",
    "    g = gini / gini_max\n",
    "\n",
    "    return 0.5 * (g + d)\n",
    "\n",
    "def xgb_amex(y_pred, y_true):\n",
    "    return 'amex', amex_metric_numpy(y_true.get_label(), y_pred)"
   ]
  },
  {
   "cell_type": "code",
   "execution_count": 12,
   "id": "1b3c3440",
   "metadata": {
    "execution": {
     "iopub.execute_input": "2022-07-04T13:38:15.524655Z",
     "iopub.status.busy": "2022-07-04T13:38:15.524403Z",
     "iopub.status.idle": "2022-07-04T13:57:20.743694Z",
     "shell.execute_reply": "2022-07-04T13:57:20.742632Z"
    },
    "papermill": {
     "duration": 1145.227069,
     "end_time": "2022-07-04T13:57:20.745545",
     "exception": false,
     "start_time": "2022-07-04T13:38:15.518476",
     "status": "completed"
    },
    "tags": []
   },
   "outputs": [
    {
     "name": "stdout",
     "output_type": "stream",
     "text": [
      "#########################\n",
      "### Fold 1\n",
      "### Train size 367130 Valid size 91783\n",
      "### Training with 100% fold data...\n",
      "#########################\n",
      "[0]\ttrain-logloss:0.67410\ttrain-amex:0.69309\teval-logloss:0.67416\teval-amex:0.68320\n",
      "[100]\ttrain-logloss:0.24283\ttrain-amex:0.78055\teval-logloss:0.24924\teval-amex:0.76421\n",
      "[200]\ttrain-logloss:0.21754\ttrain-amex:0.79707\teval-logloss:0.22831\teval-amex:0.77687\n",
      "[300]\ttrain-logloss:0.20848\ttrain-amex:0.81030\teval-logloss:0.22338\teval-amex:0.78274\n",
      "[400]\ttrain-logloss:0.20235\ttrain-amex:0.81991\teval-logloss:0.22107\teval-amex:0.78581\n",
      "[500]\ttrain-logloss:0.19765\ttrain-amex:0.82745\teval-logloss:0.21977\teval-amex:0.78791\n",
      "[600]\ttrain-logloss:0.19326\ttrain-amex:0.83500\teval-logloss:0.21888\teval-amex:0.78857\n",
      "[700]\ttrain-logloss:0.18955\ttrain-amex:0.84126\teval-logloss:0.21829\teval-amex:0.78913\n",
      "[800]\ttrain-logloss:0.18593\ttrain-amex:0.84739\teval-logloss:0.21786\teval-amex:0.78945\n",
      "[900]\ttrain-logloss:0.18237\ttrain-amex:0.85394\teval-logloss:0.21751\teval-amex:0.79142\n",
      "[1000]\ttrain-logloss:0.17899\ttrain-amex:0.86010\teval-logloss:0.21722\teval-amex:0.79150\n",
      "[1100]\ttrain-logloss:0.17566\ttrain-amex:0.86609\teval-logloss:0.21703\teval-amex:0.79200\n",
      "[1200]\ttrain-logloss:0.17257\ttrain-amex:0.87150\teval-logloss:0.21689\teval-amex:0.79234\n",
      "[1300]\ttrain-logloss:0.16965\ttrain-amex:0.87656\teval-logloss:0.21681\teval-amex:0.79192\n",
      "[1400]\ttrain-logloss:0.16669\ttrain-amex:0.88206\teval-logloss:0.21671\teval-amex:0.79238\n",
      "[1500]\ttrain-logloss:0.16370\ttrain-amex:0.88759\teval-logloss:0.21666\teval-amex:0.79290\n",
      "[1600]\ttrain-logloss:0.16100\ttrain-amex:0.89222\teval-logloss:0.21659\teval-amex:0.79317\n",
      "[1700]\ttrain-logloss:0.15822\ttrain-amex:0.89730\teval-logloss:0.21657\teval-amex:0.79290\n",
      "[1800]\ttrain-logloss:0.15575\ttrain-amex:0.90198\teval-logloss:0.21655\teval-amex:0.79361\n",
      "[1900]\ttrain-logloss:0.15318\ttrain-amex:0.90652\teval-logloss:0.21651\teval-amex:0.79366\n",
      "[2000]\ttrain-logloss:0.15055\ttrain-amex:0.91075\teval-logloss:0.21650\teval-amex:0.79354\n",
      "[2100]\ttrain-logloss:0.14816\ttrain-amex:0.91481\teval-logloss:0.21649\teval-amex:0.79302\n",
      "[2108]\ttrain-logloss:0.14802\ttrain-amex:0.91498\teval-logloss:0.21649\teval-amex:0.79332\n",
      "Kaggle Metric = 0.792957108175365 \n",
      "\n",
      "#########################\n",
      "### Fold 2\n",
      "### Train size 367130 Valid size 91783\n",
      "### Training with 100% fold data...\n",
      "#########################\n",
      "[0]\ttrain-logloss:0.67407\ttrain-amex:0.69728\teval-logloss:0.67410\teval-amex:0.69449\n",
      "[100]\ttrain-logloss:0.24327\ttrain-amex:0.77952\teval-logloss:0.24759\teval-amex:0.77166\n",
      "[200]\ttrain-logloss:0.21795\ttrain-amex:0.79812\teval-logloss:0.22621\teval-amex:0.78214\n",
      "[300]\ttrain-logloss:0.20893\ttrain-amex:0.81136\teval-logloss:0.22131\teval-amex:0.78695\n",
      "[400]\ttrain-logloss:0.20280\ttrain-amex:0.82077\teval-logloss:0.21914\teval-amex:0.78858\n",
      "[500]\ttrain-logloss:0.19808\ttrain-amex:0.82889\teval-logloss:0.21793\teval-amex:0.78995\n",
      "[600]\ttrain-logloss:0.19389\ttrain-amex:0.83620\teval-logloss:0.21717\teval-amex:0.79105\n",
      "[700]\ttrain-logloss:0.19005\ttrain-amex:0.84288\teval-logloss:0.21668\teval-amex:0.79149\n",
      "[800]\ttrain-logloss:0.18645\ttrain-amex:0.84894\teval-logloss:0.21637\teval-amex:0.79141\n",
      "[900]\ttrain-logloss:0.18283\ttrain-amex:0.85535\teval-logloss:0.21603\teval-amex:0.79171\n",
      "[943]\ttrain-logloss:0.18138\ttrain-amex:0.85791\teval-logloss:0.21592\teval-amex:0.79175\n",
      "Kaggle Metric = 0.7920442198920885 \n",
      "\n",
      "#########################\n",
      "### Fold 3\n",
      "### Train size 367130 Valid size 91783\n",
      "### Training with 100% fold data...\n",
      "#########################\n",
      "[0]\ttrain-logloss:0.67406\ttrain-amex:0.69681\teval-logloss:0.67419\teval-amex:0.69005\n",
      "[100]\ttrain-logloss:0.24262\ttrain-amex:0.77910\teval-logloss:0.25030\teval-amex:0.76513\n",
      "[200]\ttrain-logloss:0.21716\ttrain-amex:0.79693\teval-logloss:0.22947\teval-amex:0.77717\n",
      "[300]\ttrain-logloss:0.20802\ttrain-amex:0.81007\teval-logloss:0.22476\teval-amex:0.78380\n",
      "[400]\ttrain-logloss:0.20214\ttrain-amex:0.81907\teval-logloss:0.22259\teval-amex:0.78678\n",
      "[500]\ttrain-logloss:0.19736\ttrain-amex:0.82673\teval-logloss:0.22134\teval-amex:0.78842\n",
      "[600]\ttrain-logloss:0.19317\ttrain-amex:0.83338\teval-logloss:0.22060\teval-amex:0.78917\n",
      "[700]\ttrain-logloss:0.18919\ttrain-amex:0.84044\teval-logloss:0.22011\teval-amex:0.78992\n",
      "[800]\ttrain-logloss:0.18564\ttrain-amex:0.84695\teval-logloss:0.21971\teval-amex:0.79029\n",
      "[900]\ttrain-logloss:0.18229\ttrain-amex:0.85297\teval-logloss:0.21942\teval-amex:0.79154\n",
      "[1000]\ttrain-logloss:0.17905\ttrain-amex:0.85862\teval-logloss:0.21918\teval-amex:0.79168\n",
      "[1100]\ttrain-logloss:0.17587\ttrain-amex:0.86413\teval-logloss:0.21902\teval-amex:0.79203\n",
      "[1200]\ttrain-logloss:0.17281\ttrain-amex:0.86958\teval-logloss:0.21887\teval-amex:0.79139\n",
      "[1300]\ttrain-logloss:0.16994\ttrain-amex:0.87520\teval-logloss:0.21877\teval-amex:0.79156\n",
      "[1334]\ttrain-logloss:0.16897\ttrain-amex:0.87675\teval-logloss:0.21872\teval-amex:0.79196\n",
      "Kaggle Metric = 0.7916231788721004 \n",
      "\n",
      "#########################\n",
      "### Fold 4\n",
      "### Train size 367131 Valid size 91782\n",
      "### Training with 100% fold data...\n",
      "#########################\n",
      "[0]\ttrain-logloss:0.67403\ttrain-amex:0.69964\teval-logloss:0.67418\teval-amex:0.69022\n",
      "[100]\ttrain-logloss:0.24252\ttrain-amex:0.78106\teval-logloss:0.25041\teval-amex:0.76484\n",
      "[200]\ttrain-logloss:0.21723\ttrain-amex:0.79841\teval-logloss:0.22956\teval-amex:0.77731\n",
      "[300]\ttrain-logloss:0.20814\ttrain-amex:0.81159\teval-logloss:0.22483\teval-amex:0.78213\n",
      "[400]\ttrain-logloss:0.20212\ttrain-amex:0.82064\teval-logloss:0.22260\teval-amex:0.78510\n",
      "[500]\ttrain-logloss:0.19736\ttrain-amex:0.82857\teval-logloss:0.22142\teval-amex:0.78631\n",
      "[600]\ttrain-logloss:0.19321\ttrain-amex:0.83583\teval-logloss:0.22068\teval-amex:0.78704\n",
      "[700]\ttrain-logloss:0.18958\ttrain-amex:0.84194\teval-logloss:0.22021\teval-amex:0.78832\n",
      "[800]\ttrain-logloss:0.18605\ttrain-amex:0.84828\teval-logloss:0.21983\teval-amex:0.78907\n",
      "[900]\ttrain-logloss:0.18266\ttrain-amex:0.85437\teval-logloss:0.21965\teval-amex:0.78934\n",
      "[1000]\ttrain-logloss:0.17949\ttrain-amex:0.86034\teval-logloss:0.21947\teval-amex:0.78912\n",
      "[1100]\ttrain-logloss:0.17616\ttrain-amex:0.86614\teval-logloss:0.21933\teval-amex:0.78949\n",
      "[1200]\ttrain-logloss:0.17299\ttrain-amex:0.87200\teval-logloss:0.21925\teval-amex:0.78930\n",
      "[1300]\ttrain-logloss:0.17009\ttrain-amex:0.87723\teval-logloss:0.21917\teval-amex:0.78914\n",
      "[1400]\ttrain-logloss:0.16708\ttrain-amex:0.88283\teval-logloss:0.21907\teval-amex:0.78903\n",
      "[1414]\ttrain-logloss:0.16669\ttrain-amex:0.88363\teval-logloss:0.21909\teval-amex:0.78890\n",
      "Kaggle Metric = 0.788768242711914 \n",
      "\n",
      "#########################\n",
      "### Fold 5\n",
      "### Train size 367131 Valid size 91782\n",
      "### Training with 100% fold data...\n",
      "#########################\n",
      "[0]\ttrain-logloss:0.67413\ttrain-amex:0.69031\teval-logloss:0.67415\teval-amex:0.69114\n",
      "[100]\ttrain-logloss:0.24327\ttrain-amex:0.77758\teval-logloss:0.24737\teval-amex:0.76975\n",
      "[200]\ttrain-logloss:0.21812\ttrain-amex:0.79564\teval-logloss:0.22608\teval-amex:0.78333\n",
      "[300]\ttrain-logloss:0.20922\ttrain-amex:0.80824\teval-logloss:0.22127\teval-amex:0.78895\n",
      "[400]\ttrain-logloss:0.20322\ttrain-amex:0.81814\teval-logloss:0.21881\teval-amex:0.79136\n",
      "[500]\ttrain-logloss:0.19839\ttrain-amex:0.82573\teval-logloss:0.21756\teval-amex:0.79265\n",
      "[600]\ttrain-logloss:0.19411\ttrain-amex:0.83243\teval-logloss:0.21672\teval-amex:0.79375\n",
      "[700]\ttrain-logloss:0.19034\ttrain-amex:0.83933\teval-logloss:0.21618\teval-amex:0.79449\n",
      "[800]\ttrain-logloss:0.18684\ttrain-amex:0.84572\teval-logloss:0.21573\teval-amex:0.79509\n",
      "[900]\ttrain-logloss:0.18342\ttrain-amex:0.85211\teval-logloss:0.21547\teval-amex:0.79595\n",
      "[1000]\ttrain-logloss:0.18014\ttrain-amex:0.85806\teval-logloss:0.21522\teval-amex:0.79607\n",
      "[1100]\ttrain-logloss:0.17717\ttrain-amex:0.86324\teval-logloss:0.21500\teval-amex:0.79573\n",
      "[1200]\ttrain-logloss:0.17398\ttrain-amex:0.86920\teval-logloss:0.21484\teval-amex:0.79606\n",
      "[1300]\ttrain-logloss:0.17101\ttrain-amex:0.87475\teval-logloss:0.21470\teval-amex:0.79600\n",
      "[1400]\ttrain-logloss:0.16789\ttrain-amex:0.88040\teval-logloss:0.21459\teval-amex:0.79628\n",
      "[1500]\ttrain-logloss:0.16515\ttrain-amex:0.88556\teval-logloss:0.21453\teval-amex:0.79620\n",
      "[1592]\ttrain-logloss:0.16255\ttrain-amex:0.89013\teval-logloss:0.21448\teval-amex:0.79658\n",
      "Kaggle Metric = 0.7970075143118254 \n",
      "\n",
      "#########################\n",
      "OVERALL CV Kaggle Metric = 0.7924861493628701\n"
     ]
    }
   ],
   "source": [
    "importances = []\n",
    "oof = []\n",
    "train = train.to_pandas() # free GPU memory\n",
    "TRAIN_SUBSAMPLE = 1.0\n",
    "gc.collect()\n",
    "\n",
    "skf = KFold(n_splits=FOLDS, shuffle=True, random_state=SEED)\n",
    "for fold,(train_idx, valid_idx) in enumerate(skf.split(\n",
    "            train, train.target )):\n",
    "    \n",
    "    # TRAIN WITH SUBSAMPLE OF TRAIN FOLD DATA\n",
    "    if TRAIN_SUBSAMPLE<1.0:\n",
    "        np.random.seed(SEED)\n",
    "        train_idx = np.random.choice(train_idx, \n",
    "                       int(len(train_idx)*TRAIN_SUBSAMPLE), replace=False)\n",
    "        np.random.seed(None)\n",
    "    \n",
    "    print('#'*25)\n",
    "    print('### Fold',fold+1)\n",
    "    print('### Train size',len(train_idx),'Valid size',len(valid_idx))\n",
    "    print(f'### Training with {int(TRAIN_SUBSAMPLE*100)}% fold data...')\n",
    "    print('#'*25)\n",
    "    \n",
    "    # TRAIN, VALID, TEST FOR FOLD K\n",
    "    Xy_train = IterLoadForDMatrix(train.loc[train_idx], FEATURES, 'target')\n",
    "    X_valid = train.loc[valid_idx, FEATURES]\n",
    "    y_valid = train.loc[valid_idx, 'target']\n",
    "    \n",
    "    dtrain = xgb.DeviceQuantileDMatrix(Xy_train, max_bin=256)\n",
    "    dvalid = xgb.DMatrix(data=X_valid, label=y_valid)\n",
    "    \n",
    "    # TRAIN MODEL FOLD K\n",
    "    model = xgb.train(xgb_parms, \n",
    "                dtrain=dtrain,\n",
    "                evals=[(dtrain,'train'),(dvalid,'eval')],\n",
    "                num_boost_round=9999,\n",
    "                early_stopping_rounds=250,\n",
    "                maximize=True,\n",
    "                custom_metric= xgb_amex,\n",
    "                verbose_eval=100) \n",
    "    model.save_model(f'XGB_v{VER}_fold{fold}.xgb')\n",
    "    \n",
    "    # GET FEATURE IMPORTANCE FOR FOLD K\n",
    "    dd = model.get_score(importance_type='weight')\n",
    "    df = pd.DataFrame({'feature':dd.keys(),f'importance_{fold}':dd.values()})\n",
    "    importances.append(df)\n",
    "            \n",
    "    # INFER OOF FOLD K\n",
    "    oof_preds = model.predict(dvalid)\n",
    "    acc = amex_metric_numpy(y_valid.values, oof_preds)\n",
    "    print('Kaggle Metric =',acc,'\\n')\n",
    "    \n",
    "    # SAVE OOF\n",
    "    df = train.loc[valid_idx, ['customer_ID','target'] ].copy()\n",
    "    df['oof_pred'] = oof_preds\n",
    "    oof.append( df )\n",
    "    \n",
    "    del dtrain, Xy_train, dd, df\n",
    "    del X_valid, y_valid, dvalid, model\n",
    "    _ = gc.collect()\n",
    "    \n",
    "print('#'*25)\n",
    "oof = pd.concat(oof,axis=0,ignore_index=True).set_index('customer_ID')\n",
    "acc = amex_metric_numpy(oof.target.values, oof.oof_pred.values)\n",
    "print('OVERALL CV Kaggle Metric =',acc)"
   ]
  },
  {
   "cell_type": "code",
   "execution_count": 13,
   "id": "a0683792",
   "metadata": {
    "execution": {
     "iopub.execute_input": "2022-07-04T13:57:20.767668Z",
     "iopub.status.busy": "2022-07-04T13:57:20.767389Z",
     "iopub.status.idle": "2022-07-04T13:57:20.897259Z",
     "shell.execute_reply": "2022-07-04T13:57:20.896305Z"
    },
    "papermill": {
     "duration": 0.143223,
     "end_time": "2022-07-04T13:57:20.899414",
     "exception": false,
     "start_time": "2022-07-04T13:57:20.756191",
     "status": "completed"
    },
    "tags": []
   },
   "outputs": [],
   "source": [
    "# CLEAN RAM\n",
    "del train\n",
    "_ = gc.collect()"
   ]
  },
  {
   "cell_type": "code",
   "execution_count": 14,
   "id": "7c84e45b",
   "metadata": {
    "execution": {
     "iopub.execute_input": "2022-07-04T13:57:20.922375Z",
     "iopub.status.busy": "2022-07-04T13:57:20.922102Z",
     "iopub.status.idle": "2022-07-04T13:57:20.952759Z",
     "shell.execute_reply": "2022-07-04T13:57:20.952102Z"
    },
    "papermill": {
     "duration": 0.044099,
     "end_time": "2022-07-04T13:57:20.954464",
     "exception": false,
     "start_time": "2022-07-04T13:57:20.910365",
     "status": "completed"
    },
    "tags": []
   },
   "outputs": [],
   "source": [
    "import matplotlib.pyplot as plt\n",
    "\n",
    "df = importances[0].copy()\n",
    "for k in range(1,FOLDS): df = df.merge(importances[k], on='feature', how='left')\n",
    "df['importance'] = df.iloc[:,1:].mean(axis=1)\n",
    "df = df.sort_values('importance',ascending=False)\n",
    "df.to_csv(f'xgb_feature_importance_v{VER}.csv',index=False)"
   ]
  },
  {
   "cell_type": "code",
   "execution_count": 15,
   "id": "cf219aaf",
   "metadata": {
    "execution": {
     "iopub.execute_input": "2022-07-04T13:57:20.976586Z",
     "iopub.status.busy": "2022-07-04T13:57:20.976325Z",
     "iopub.status.idle": "2022-07-04T13:57:21.242333Z",
     "shell.execute_reply": "2022-07-04T13:57:21.241620Z"
    },
    "papermill": {
     "duration": 0.278865,
     "end_time": "2022-07-04T13:57:21.244004",
     "exception": false,
     "start_time": "2022-07-04T13:57:20.965139",
     "status": "completed"
    },
    "tags": []
   },
   "outputs": [
    {
     "data": {
      "image/png": "[encoded data removed]",
      "text/plain": [
       "<Figure size 720x720 with 1 Axes>"
      ]
     },
     "metadata": {
      "needs_background": "light"
     },
     "output_type": "display_data"
    }
   ],
   "source": [
    "NUM_FEATURES = 20\n",
    "plt.figure(figsize=(10,5*NUM_FEATURES//10))\n",
    "plt.barh(np.arange(NUM_FEATURES,0,-1), df.importance.values[:NUM_FEATURES])\n",
    "plt.yticks(np.arange(NUM_FEATURES,0,-1), df.feature.values[:NUM_FEATURES])\n",
    "plt.title(f'XGB Feature Importance - Top {NUM_FEATURES}')\n",
    "plt.show()"
   ]
  },
  {
   "cell_type": "code",
   "execution_count": 16,
   "id": "caceea59",
   "metadata": {
    "execution": {
     "iopub.execute_input": "2022-07-04T13:57:21.266604Z",
     "iopub.status.busy": "2022-07-04T13:57:21.266343Z",
     "iopub.status.idle": "2022-07-04T13:57:23.926842Z",
     "shell.execute_reply": "2022-07-04T13:57:23.925728Z"
    },
    "papermill": {
     "duration": 2.67433,
     "end_time": "2022-07-04T13:57:23.929254",
     "exception": false,
     "start_time": "2022-07-04T13:57:21.254924",
     "status": "completed"
    },
    "tags": []
   },
   "outputs": [
    {
     "name": "stdout",
     "output_type": "stream",
     "text": [
      "Reading test data...\n",
      "shape of data: (11363762, 2)\n",
      "We will process test data as 4 separate parts.\n",
      "There will be 231155 customers in each part (except the last part).\n",
      "Below are number of rows in each part:\n",
      "[2841209, 2839857, 2842105, 2840591]\n"
     ]
    }
   ],
   "source": [
    "# CALCULATE SIZE OF EACH SEPARATE TEST PART\n",
    "def get_rows(customers, test, NUM_PARTS = 4, verbose = ''):\n",
    "    chunk = len(customers)//NUM_PARTS\n",
    "    if verbose != '':\n",
    "        print(f'We will process {verbose} data as {NUM_PARTS} separate parts.')\n",
    "        print(f'There will be {chunk} customers in each part (except the last part).')\n",
    "        print('Below are number of rows in each part:')\n",
    "    rows = []\n",
    "\n",
    "    for k in range(NUM_PARTS):\n",
    "        if k==NUM_PARTS-1: cc = customers[k*chunk:]\n",
    "        else: cc = customers[k*chunk:(k+1)*chunk]\n",
    "        s = test.loc[test.customer_ID.isin(cc)].shape[0]\n",
    "        rows.append(s)\n",
    "    if verbose != '': print( rows )\n",
    "    return rows,chunk\n",
    "\n",
    "# COMPUTE SIZE OF 4 PARTS FOR TEST DATA\n",
    "NUM_PARTS = 4\n",
    "TEST_PATH = '../input/amex-data-integer-dtypes-parquet-format/test.parquet'\n",
    "\n",
    "print(f'Reading test data...')\n",
    "test = read_file(path = TEST_PATH, usecols = ['customer_ID','S_2'])\n",
    "customers = test[['customer_ID']].drop_duplicates().sort_index().values.flatten()\n",
    "rows,num_cust = get_rows(customers, test[['customer_ID']], NUM_PARTS = NUM_PARTS, verbose = 'test')"
   ]
  },
  {
   "cell_type": "code",
   "execution_count": 17,
   "id": "284c3ec2",
   "metadata": {
    "execution": {
     "iopub.execute_input": "2022-07-04T13:57:23.953558Z",
     "iopub.status.busy": "2022-07-04T13:57:23.952895Z",
     "iopub.status.idle": "2022-07-04T14:00:05.767912Z",
     "shell.execute_reply": "2022-07-04T14:00:05.767103Z"
    },
    "papermill": {
     "duration": 161.82896,
     "end_time": "2022-07-04T14:00:05.770110",
     "exception": false,
     "start_time": "2022-07-04T13:57:23.941150",
     "status": "completed"
    },
    "tags": []
   },
   "outputs": [
    {
     "name": "stdout",
     "output_type": "stream",
     "text": [
      "\n",
      "Reading test data...\n",
      "shape of data: (11363762, 190)\n",
      "=> Test part 1 has shape (2841209, 190)\n",
      "shape after engineering (231155, 918)\n",
      "\n",
      "Reading test data...\n",
      "shape of data: (11363762, 190)\n",
      "=> Test part 2 has shape (2839857, 190)\n",
      "shape after engineering (231155, 918)\n",
      "\n",
      "Reading test data...\n",
      "shape of data: (11363762, 190)\n",
      "=> Test part 3 has shape (2842105, 190)\n",
      "shape after engineering (231155, 918)\n",
      "\n",
      "Reading test data...\n",
      "shape of data: (11363762, 190)\n",
      "=> Test part 4 has shape (2840591, 190)\n",
      "shape after engineering (231156, 918)\n"
     ]
    }
   ],
   "source": [
    "# INFER TEST DATA IN PARTS\n",
    "skip_rows = 0\n",
    "skip_cust = 0\n",
    "test_preds = []\n",
    "\n",
    "for k in range(NUM_PARTS):\n",
    "    \n",
    "    # READ PART OF TEST DATA\n",
    "    print(f'\\nReading test data...')\n",
    "    test = read_file(path = TEST_PATH)\n",
    "    test = test.iloc[skip_rows:skip_rows+rows[k]]\n",
    "    skip_rows += rows[k]\n",
    "    print(f'=> Test part {k+1} has shape', test.shape )\n",
    "    \n",
    "    # PROCESS AND FEATURE ENGINEER PART OF TEST DATA\n",
    "    test = process_and_feature_engineering(test)\n",
    "    if k==NUM_PARTS-1: test = test.loc[customers[skip_cust:]]\n",
    "    else: test = test.loc[customers[skip_cust:skip_cust+num_cust]]\n",
    "    skip_cust += num_cust\n",
    "    \n",
    "    # TEST DATA FOR XGB\n",
    "    X_test = test[FEATURES]\n",
    "    dtest = xgb.DMatrix(data=X_test)\n",
    "    test = test[['P_2_mean']] # reduce memory\n",
    "    del X_test\n",
    "    gc.collect()\n",
    "\n",
    "    # INFER XGB MODELS ON TEST DATA\n",
    "    model = xgb.Booster()\n",
    "    model.load_model(f'XGB_v{VER}_fold0.xgb')\n",
    "    preds = model.predict(dtest)\n",
    "    for f in range(1,FOLDS):\n",
    "        model.load_model(f'XGB_v{VER}_fold{f}.xgb')\n",
    "        preds += model.predict(dtest)\n",
    "    preds /= FOLDS\n",
    "    test_preds.append(preds)\n",
    "\n",
    "    # CLEAN MEMORY\n",
    "    del dtest, model\n",
    "    _ = gc.collect()"
   ]
  },
  {
   "cell_type": "code",
   "execution_count": 18,
   "id": "a9cdac27",
   "metadata": {
    "execution": {
     "iopub.execute_input": "2022-07-04T14:00:05.795436Z",
     "iopub.status.busy": "2022-07-04T14:00:05.795158Z",
     "iopub.status.idle": "2022-07-04T14:00:06.821793Z",
     "shell.execute_reply": "2022-07-04T14:00:06.820885Z"
    },
    "papermill": {
     "duration": 1.042409,
     "end_time": "2022-07-04T14:00:06.824706",
     "exception": false,
     "start_time": "2022-07-04T14:00:05.782297",
     "status": "completed"
    },
    "tags": []
   },
   "outputs": [
    {
     "name": "stdout",
     "output_type": "stream",
     "text": [
      "Submission file shape is (924621, 2)\n"
     ]
    },
    {
     "data": {
      "text/html": [
       "<div>\n",
       "<style scoped>\n",
       "    .dataframe tbody tr th:only-of-type {\n",
       "        vertical-align: middle;\n",
       "    }\n",
       "\n",
       "    .dataframe tbody tr th {\n",
       "        vertical-align: top;\n",
       "    }\n",
       "\n",
       "    .dataframe thead th {\n",
       "        text-align: right;\n",
       "    }\n",
       "</style>\n",
       "<table border=\"1\" class=\"dataframe\">\n",
       "  <thead>\n",
       "    <tr style=\"text-align: right;\">\n",
       "      <th></th>\n",
       "      <th>customer_ID</th>\n",
       "      <th>prediction</th>\n",
       "    </tr>\n",
       "  </thead>\n",
       "  <tbody>\n",
       "    <tr>\n",
       "      <th>0</th>\n",
       "      <td>03999d5e3bd61a69504cc6e7025c260c1ed2e5b449dba5...</td>\n",
       "      <td>0.093414</td>\n",
       "    </tr>\n",
       "    <tr>\n",
       "      <th>1</th>\n",
       "      <td>039b4f21aa584fb0c3c7055beabc098af55013f9f25515...</td>\n",
       "      <td>0.008793</td>\n",
       "    </tr>\n",
       "    <tr>\n",
       "      <th>2</th>\n",
       "      <td>039a6aea85575ebd33eec75e5c45bc7973481b81a99b62...</td>\n",
       "      <td>0.122169</td>\n",
       "    </tr>\n",
       "    <tr>\n",
       "      <th>3</th>\n",
       "      <td>039bd96164c6567580b24ba13c2b85b60f4554eb43d55b...</td>\n",
       "      <td>0.550008</td>\n",
       "    </tr>\n",
       "    <tr>\n",
       "      <th>4</th>\n",
       "      <td>0399a5a95461ced4134cd9693712fb012351cca1bde04d...</td>\n",
       "      <td>0.000574</td>\n",
       "    </tr>\n",
       "  </tbody>\n",
       "</table>\n",
       "</div>"
      ],
      "text/plain": [
       "                                         customer_ID  prediction\n",
       "0  03999d5e3bd61a69504cc6e7025c260c1ed2e5b449dba5...    0.093414\n",
       "1  039b4f21aa584fb0c3c7055beabc098af55013f9f25515...    0.008793\n",
       "2  039a6aea85575ebd33eec75e5c45bc7973481b81a99b62...    0.122169\n",
       "3  039bd96164c6567580b24ba13c2b85b60f4554eb43d55b...    0.550008\n",
       "4  0399a5a95461ced4134cd9693712fb012351cca1bde04d...    0.000574"
      ]
     },
     "execution_count": 18,
     "metadata": {},
     "output_type": "execute_result"
    }
   ],
   "source": [
    "# WRITE SUBMISSION FILE\n",
    "test_preds = np.concatenate(test_preds)\n",
    "test = cudf.DataFrame(index=customers,data={'prediction':test_preds})\n",
    "sub = cudf.read_csv('../input/amex-default-prediction/sample_submission.csv')[['customer_ID']]\n",
    "sub['customer_ID_hash'] = sub['customer_ID'].str[-16:].str.hex_to_int().astype('int64')\n",
    "sub = sub.set_index('customer_ID_hash')\n",
    "sub = sub.merge(test[['prediction']], left_index=True, right_index=True, how='left')\n",
    "sub = sub.reset_index(drop=True)\n",
    "\n",
    "# DISPLAY PREDICTIONS\n",
    "sub.to_csv(f'submission_xgb_v{VER}.csv',index=False)\n",
    "print('Submission file shape is', sub.shape )\n",
    "sub.head()"
   ]
  },
  {
   "cell_type": "code",
   "execution_count": 19,
   "id": "63453bcd",
   "metadata": {
    "execution": {
     "iopub.execute_input": "2022-07-04T14:00:06.852363Z",
     "iopub.status.busy": "2022-07-04T14:00:06.851721Z",
     "iopub.status.idle": "2022-07-04T14:00:07.547496Z",
     "shell.execute_reply": "2022-07-04T14:00:07.546749Z"
    },
    "papermill": {
     "duration": 0.710906,
     "end_time": "2022-07-04T14:00:07.549303",
     "exception": false,
     "start_time": "2022-07-04T14:00:06.838397",
     "status": "completed"
    },
    "tags": []
   },
   "outputs": [
    {
     "data": {
      "image/png": "[encoded data removed]",
      "text/plain": [
       "<Figure size 432x288 with 1 Axes>"
      ]
     },
     "metadata": {
      "needs_background": "light"
     },
     "output_type": "display_data"
    }
   ],
   "source": [
    "# PLOT PREDICTIONS\n",
    "plt.hist(sub.to_pandas().prediction, bins=100)\n",
    "plt.title('Test Predictions')\n",
    "plt.show()"
   ]
  }
 ],
 "metadata": {
  "kernelspec": {
   "display_name": "Python 3",
   "language": "python",
   "name": "python3"
  },
  "language_info": {
   "codemirror_mode": {
    "name": "ipython",
    "version": 3
   },
   "file_extension": ".py",
   "mimetype": "text/x-python",
   "name": "python",
   "nbconvert_exporter": "python",
   "pygments_lexer": "ipython3",
   "version": "3.7.12"
  },
  "papermill": {
   "default_parameters": {},
   "duration": 1350.063162,
   "end_time": "2022-07-04T14:00:08.785368",
   "environment_variables": {},
   "exception": null,
   "input_path": "__notebook__.ipynb",
   "output_path": "__notebook__.ipynb",
   "parameters": {},
   "start_time": "2022-07-04T13:37:38.722206",
   "version": "2.3.4"
  }
 },
 "nbformat": 4,
 "nbformat_minor": 5
}

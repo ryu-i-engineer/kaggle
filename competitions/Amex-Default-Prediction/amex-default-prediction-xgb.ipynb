{
  "cells": [
    {
      "cell_type": "markdown",
      "metadata": {
        "papermill": {
          "duration": 0.009252,
          "end_time": "2022-07-15T16:13:27.338460",
          "exception": false,
          "start_time": "2022-07-15T16:13:27.329208",
          "status": "completed"
        },
        "tags": [],
        "id": "ec8911a0"
      },
      "source": [
        "# Prepare for colab"
      ],
      "id": "ec8911a0"
    },
    {
      "cell_type": "code",
      "execution_count": 1,
      "metadata": {
        "execution": {
          "iopub.execute_input": "2022-07-15T16:13:27.400098Z",
          "iopub.status.busy": "2022-07-15T16:13:27.399391Z",
          "iopub.status.idle": "2022-07-15T16:13:27.403356Z",
          "shell.execute_reply": "2022-07-15T16:13:27.402606Z"
        },
        "papermill": {
          "duration": 0.015568,
          "end_time": "2022-07-15T16:13:27.405067",
          "exception": false,
          "start_time": "2022-07-15T16:13:27.389499",
          "status": "completed"
        },
        "tags": [],
        "id": "bad112fb",
        "colab": {
          "base_uri": "https://localhost:8080/"
        },
        "outputId": "424ed7bd-299e-4122-c36c-08ad8b7349d0"
      },
      "outputs": [
        {
          "output_type": "stream",
          "name": "stdout",
          "text": [
            "Looking in indexes: https://pypi.org/simple, https://us-python.pkg.dev/colab-wheels/public/simple/\n",
            "Requirement already satisfied: xgboost in /usr/local/lib/python3.7/dist-packages (0.90)\n",
            "Collecting xgboost\n",
            "  Downloading xgboost-1.6.1-py3-none-manylinux2014_x86_64.whl (192.9 MB)\n",
            "\u001b[K     |████████████████████████████████| 192.9 MB 53 kB/s \n",
            "\u001b[?25hRequirement already satisfied: numpy in /usr/local/lib/python3.7/dist-packages (from xgboost) (1.21.6)\n",
            "Requirement already satisfied: scipy in /usr/local/lib/python3.7/dist-packages (from xgboost) (1.7.3)\n",
            "Installing collected packages: xgboost\n",
            "  Attempting uninstall: xgboost\n",
            "    Found existing installation: xgboost 0.90\n",
            "    Uninstalling xgboost-0.90:\n",
            "      Successfully uninstalled xgboost-0.90\n",
            "Successfully installed xgboost-1.6.1\n",
            "Looking in indexes: https://pypi.org/simple, https://us-python.pkg.dev/colab-wheels/public/simple/\n",
            "Requirement already satisfied: kaggle in /usr/local/lib/python3.7/dist-packages (1.5.12)\n",
            "Requirement already satisfied: certifi in /usr/local/lib/python3.7/dist-packages (from kaggle) (2022.6.15)\n",
            "Requirement already satisfied: requests in /usr/local/lib/python3.7/dist-packages (from kaggle) (2.23.0)\n",
            "Requirement already satisfied: tqdm in /usr/local/lib/python3.7/dist-packages (from kaggle) (4.64.0)\n",
            "Requirement already satisfied: python-slugify in /usr/local/lib/python3.7/dist-packages (from kaggle) (6.1.2)\n",
            "Requirement already satisfied: python-dateutil in /usr/local/lib/python3.7/dist-packages (from kaggle) (2.8.2)\n",
            "Requirement already satisfied: urllib3 in /usr/local/lib/python3.7/dist-packages (from kaggle) (1.24.3)\n",
            "Requirement already satisfied: six>=1.10 in /usr/local/lib/python3.7/dist-packages (from kaggle) (1.15.0)\n",
            "Requirement already satisfied: text-unidecode>=1.3 in /usr/local/lib/python3.7/dist-packages (from python-slugify->kaggle) (1.3)\n",
            "Requirement already satisfied: idna<3,>=2.5 in /usr/local/lib/python3.7/dist-packages (from requests->kaggle) (2.10)\n",
            "Requirement already satisfied: chardet<4,>=3.0.2 in /usr/local/lib/python3.7/dist-packages (from requests->kaggle) (3.0.4)\n"
          ]
        }
      ],
      "source": [
        "!pip install xgboost -U\n",
        "!pip install kaggle"
      ],
      "id": "bad112fb"
    },
    {
      "cell_type": "markdown",
      "metadata": {
        "papermill": {
          "duration": 0.008806,
          "end_time": "2022-07-15T16:13:27.422550",
          "exception": false,
          "start_time": "2022-07-15T16:13:27.413744",
          "status": "completed"
        },
        "tags": [],
        "id": "3fa90515"
      },
      "source": [
        "## Upload API Token"
      ],
      "id": "3fa90515"
    },
    {
      "cell_type": "code",
      "execution_count": 2,
      "metadata": {
        "execution": {
          "iopub.execute_input": "2022-07-15T16:13:27.442237Z",
          "iopub.status.busy": "2022-07-15T16:13:27.441555Z",
          "iopub.status.idle": "2022-07-15T16:13:27.448196Z",
          "shell.execute_reply": "2022-07-15T16:13:27.447549Z"
        },
        "papermill": {
          "duration": 0.01814,
          "end_time": "2022-07-15T16:13:27.449796",
          "exception": false,
          "start_time": "2022-07-15T16:13:27.431656",
          "status": "completed"
        },
        "tags": [],
        "id": "54e44e29",
        "colab": {
          "base_uri": "https://localhost:8080/"
        },
        "outputId": "0bea2e99-2df8-4e08-8612-bc86d9a69261"
      },
      "outputs": [
        {
          "output_type": "stream",
          "name": "stdout",
          "text": [
            "Mounted at /content/drive\n"
          ]
        }
      ],
      "source": [
        "from google.colab import drive\n",
        "drive.mount('/content/drive')\n",
        "\n",
        "# Then move kaggle.json into the folder where the API expects to find it.\n",
        "!mkdir -p ~/.kaggle/ && cp /content/drive/MyDrive/backups/kaggle.json ~/.kaggle/ && chmod 600 ~/.kaggle/kaggle.json"
      ],
      "id": "54e44e29"
    },
    {
      "cell_type": "markdown",
      "metadata": {
        "papermill": {
          "duration": 0.008512,
          "end_time": "2022-07-15T16:13:27.467327",
          "exception": false,
          "start_time": "2022-07-15T16:13:27.458815",
          "status": "completed"
        },
        "tags": [],
        "id": "1abbc588"
      },
      "source": [
        "## Download and unzip dataset"
      ],
      "id": "1abbc588"
    },
    {
      "cell_type": "code",
      "execution_count": 3,
      "metadata": {
        "execution": {
          "iopub.execute_input": "2022-07-15T16:13:27.486038Z",
          "iopub.status.busy": "2022-07-15T16:13:27.485615Z",
          "iopub.status.idle": "2022-07-15T16:13:27.490276Z",
          "shell.execute_reply": "2022-07-15T16:13:27.489580Z"
        },
        "papermill": {
          "duration": 0.016071,
          "end_time": "2022-07-15T16:13:27.491993",
          "exception": false,
          "start_time": "2022-07-15T16:13:27.475922",
          "status": "completed"
        },
        "tags": [],
        "id": "c17f8dd7",
        "colab": {
          "base_uri": "https://localhost:8080/"
        },
        "outputId": "a69d7095-5cfc-4aa6-acc7-30d8d0ca8f05"
      },
      "outputs": [
        {
          "output_type": "stream",
          "name": "stdout",
          "text": [
            "Downloading amex-fe-plus.zip to /content\n",
            "100% 3.85G/3.85G [01:35<00:00, 56.3MB/s]\n",
            "100% 3.85G/3.85G [01:35<00:00, 43.4MB/s]\n",
            "Archive:  /content/amex-fe-plus.zip\n",
            "  inflating: test_fe_plus_plus.parquet  \n",
            "  inflating: train_fe_plus_plus.parquet  \n"
          ]
        }
      ],
      "source": [
        "!kaggle datasets download -d ryuina/amex-fe-plus\n",
        "!unzip /content/amex-fe-plus.zip"
      ],
      "id": "c17f8dd7"
    },
    {
      "cell_type": "code",
      "execution_count": 4,
      "metadata": {
        "execution": {
          "iopub.execute_input": "2022-07-15T16:13:27.515341Z",
          "iopub.status.busy": "2022-07-15T16:13:27.514880Z",
          "iopub.status.idle": "2022-07-15T16:13:27.523654Z",
          "shell.execute_reply": "2022-07-15T16:13:27.522700Z"
        },
        "papermill": {
          "duration": 0.025128,
          "end_time": "2022-07-15T16:13:27.526436",
          "exception": false,
          "start_time": "2022-07-15T16:13:27.501308",
          "status": "completed"
        },
        "tags": [],
        "id": "e4df1701",
        "colab": {
          "base_uri": "https://localhost:8080/"
        },
        "outputId": "dd627080-6a63-4eb9-bd26-81b16836754f"
      },
      "outputs": [
        {
          "output_type": "stream",
          "name": "stdout",
          "text": [
            "Downloading sample_submission.csv.zip to /content\n",
            " 80% 26.0M/32.4M [00:01<00:00, 25.1MB/s]\n",
            "100% 32.4M/32.4M [00:01<00:00, 23.6MB/s]\n",
            "Archive:  /content/sample_submission.csv.zip\n",
            "  inflating: sample_submission.csv   \n"
          ]
        }
      ],
      "source": [
        "!kaggle competitions download -c amex-default-prediction -f sample_submission.csv\n",
        "!unzip /content/sample_submission.csv.zip"
      ],
      "id": "e4df1701"
    },
    {
      "cell_type": "code",
      "source": [
        "!kaggle competitions download -c amex-default-prediction -f train_labels.csv\n",
        "!unzip /content/train_labels.csv.zip"
      ],
      "metadata": {
        "colab": {
          "base_uri": "https://localhost:8080/"
        },
        "id": "AVz5ZOwL-mic",
        "outputId": "a389ec7f-12bd-4377-d37c-985e1a5204ab"
      },
      "id": "AVz5ZOwL-mic",
      "execution_count": 5,
      "outputs": [
        {
          "output_type": "stream",
          "name": "stdout",
          "text": [
            "Downloading train_labels.csv.zip to /content\n",
            " 31% 5.00M/16.2M [00:00<00:00, 15.5MB/s]\n",
            "100% 16.2M/16.2M [00:00<00:00, 40.7MB/s]\n",
            "Archive:  /content/train_labels.csv.zip\n",
            "  inflating: train_labels.csv        \n"
          ]
        }
      ]
    },
    {
      "cell_type": "markdown",
      "source": [
        "# Training"
      ],
      "metadata": {
        "id": "Sc_uUzZtcYfw"
      },
      "id": "Sc_uUzZtcYfw"
    },
    {
      "cell_type": "code",
      "execution_count": 1,
      "id": "75a923db",
      "metadata": {
        "_cell_guid": "b1076dfc-b9ad-4769-8c92-a6c4dae69d19",
        "_uuid": "8f2839f25d086af736a60e9eeb907d3b93b6e0e5",
        "execution": {
          "iopub.execute_input": "2022-07-04T13:37:46.871349Z",
          "iopub.status.busy": "2022-07-04T13:37:46.870600Z",
          "iopub.status.idle": "2022-07-04T13:37:50.917325Z",
          "shell.execute_reply": "2022-07-04T13:37:50.916525Z"
        },
        "papermill": {
          "duration": 4.059938,
          "end_time": "2022-07-04T13:37:50.919741",
          "exception": false,
          "start_time": "2022-07-04T13:37:46.859803",
          "status": "completed"
        },
        "tags": [],
        "id": "75a923db"
      },
      "outputs": [],
      "source": [
        "import pandas as pd\n",
        "import numpy as np\n",
        "import random\n",
        "import matplotlib.pyplot\n",
        "import os\n",
        "import gc; gc.enable()\n",
        "\n",
        "from sklearn.preprocessing import LabelEncoder\n",
        "from tqdm import tqdm\n",
        "\n",
        "import warnings\n",
        "warnings.filterwarnings('ignore')"
      ]
    },
    {
      "cell_type": "code",
      "execution_count": 2,
      "id": "b06e1731",
      "metadata": {
        "execution": {
          "iopub.execute_input": "2022-07-04T13:37:50.930838Z",
          "iopub.status.busy": "2022-07-04T13:37:50.930542Z",
          "iopub.status.idle": "2022-07-04T13:37:50.934301Z",
          "shell.execute_reply": "2022-07-04T13:37:50.933487Z"
        },
        "papermill": {
          "duration": 0.011323,
          "end_time": "2022-07-04T13:37:50.936212",
          "exception": false,
          "start_time": "2022-07-04T13:37:50.924889",
          "status": "completed"
        },
        "tags": [],
        "id": "b06e1731"
      },
      "outputs": [],
      "source": [
        "VER=1\n",
        "SEED = 42\n",
        "FOLDS = 5\n",
        "\n",
        "cat_features = [\"B_30\", \"B_38\", \"D_114\", \"D_116\", \"D_117\", \"D_120\", \"D_126\", \"D_63\", \"D_64\", \"D_66\", \"D_68\"]\n",
        "\n",
        "def seed_everything(seed):\n",
        "    random.seed(seed)\n",
        "    np.random.seed(seed)\n",
        "    os.environ['PYTHONHASHSEED'] = str(seed)\n",
        "\n",
        "seed_everything(SEED)"
      ]
    },
    {
      "cell_type": "code",
      "execution_count": 3,
      "id": "d8f2573f",
      "metadata": {
        "execution": {
          "iopub.execute_input": "2022-07-04T13:37:50.966158Z",
          "iopub.status.busy": "2022-07-04T13:37:50.965558Z",
          "iopub.status.idle": "2022-07-04T13:38:12.628753Z",
          "shell.execute_reply": "2022-07-04T13:38:12.627666Z"
        },
        "papermill": {
          "duration": 21.671053,
          "end_time": "2022-07-04T13:38:12.631246",
          "exception": false,
          "start_time": "2022-07-04T13:37:50.960193",
          "status": "completed"
        },
        "tags": [],
        "id": "d8f2573f"
      },
      "outputs": [],
      "source": [
        "train = pd.read_parquet(\"/content/train_fe_plus_plus.parquet\")\n",
        "# train = train.reset_index(level=0)"
      ]
    },
    {
      "cell_type": "code",
      "execution_count": 4,
      "id": "64d772da",
      "metadata": {
        "execution": {
          "iopub.execute_input": "2022-07-04T13:38:12.881106Z",
          "iopub.status.busy": "2022-07-04T13:38:12.880449Z",
          "iopub.status.idle": "2022-07-04T13:38:12.888042Z",
          "shell.execute_reply": "2022-07-04T13:38:12.887178Z"
        },
        "papermill": {
          "duration": 0.01539,
          "end_time": "2022-07-04T13:38:12.889725",
          "exception": false,
          "start_time": "2022-07-04T13:38:12.874335",
          "status": "completed"
        },
        "tags": [],
        "id": "64d772da",
        "outputId": "945110d7-a47b-4e76-bf3c-8979b513c659",
        "colab": {
          "base_uri": "https://localhost:8080/"
        }
      },
      "outputs": [
        {
          "output_type": "stream",
          "name": "stderr",
          "text": [
            "100%|██████████| 1461/1461 [02:17<00:00, 10.65it/s] \n"
          ]
        }
      ],
      "source": [
        "# https://www.kaggle.com/code/ragnar123/amex-lgbm-dart-cv-0-7963\n",
        "# Round last float features to 2 decimal place\n",
        "float_cols = list(train.dtypes[(train.dtypes == 'float32') | (train.dtypes == 'float64')].index)\n",
        "float_cols = [col for col in float_cols if 'last' in col]\n",
        "\n",
        "for col in float_cols:\n",
        "    train[col + '_round2'] = train[col].round(2)\n",
        "\n",
        "num_cols = [col for col in train.columns if 'last' in col]\n",
        "num_cols = [col[:-5] for col in num_cols if 'round' not in col]\n",
        "for col in num_cols:\n",
        "    try:\n",
        "        train[f'{col}_mean_min'] = train[f'{col}_mean'] - train[f'{col}_min']\n",
        "        train[f'{col}_last_min'] = train[f'{col}_last'] - train[f'{col}_min']\n",
        "        train[f'{col}_last_max'] = train[f'{col}_last'] - train[f'{col}_max']\n",
        "    except: pass\n",
        "num_cols = list(train.dtypes[(train.dtypes == 'float32') | (train.dtypes == 'float64')].index)\n",
        "for col in tqdm(num_cols):\n",
        "    train[col] = train[col].astype(np.float16)\n",
        "\n",
        "# train.replace([-np.inf, np.inf], np.nan, inplace=True)\n",
        "train.fillna(-127, inplace=True)"
      ]
    },
    {
      "cell_type": "code",
      "execution_count": 5,
      "id": "e9e4628c",
      "metadata": {
        "execution": {
          "iopub.execute_input": "2022-07-04T13:38:12.901239Z",
          "iopub.status.busy": "2022-07-04T13:38:12.900951Z",
          "iopub.status.idle": "2022-07-04T13:38:14.055784Z",
          "shell.execute_reply": "2022-07-04T13:38:14.054043Z"
        },
        "papermill": {
          "duration": 1.163442,
          "end_time": "2022-07-04T13:38:14.058383",
          "exception": false,
          "start_time": "2022-07-04T13:38:12.894941",
          "status": "completed"
        },
        "tags": [],
        "id": "e9e4628c"
      },
      "outputs": [],
      "source": [
        "train = train.set_index('customer_ID')\n",
        "train = train.sort_index().reset_index()\n",
        "FEATURES = train.drop(columns=['customer_ID', 'target']).columns"
      ]
    },
    {
      "cell_type": "code",
      "execution_count": 6,
      "id": "d98b705b",
      "metadata": {
        "execution": {
          "iopub.execute_input": "2022-07-04T13:38:15.369855Z",
          "iopub.status.busy": "2022-07-04T13:38:15.369570Z",
          "iopub.status.idle": "2022-07-04T13:38:15.468113Z",
          "shell.execute_reply": "2022-07-04T13:38:15.466877Z"
        },
        "papermill": {
          "duration": 0.106496,
          "end_time": "2022-07-04T13:38:15.469835",
          "exception": false,
          "start_time": "2022-07-04T13:38:15.363339",
          "status": "completed"
        },
        "tags": [],
        "id": "d98b705b",
        "colab": {
          "base_uri": "https://localhost:8080/"
        },
        "outputId": "4e141cf5-a593-4fc6-f600-8ceba715ea70"
      },
      "outputs": [
        {
          "output_type": "stream",
          "name": "stdout",
          "text": [
            "XGB Version 1.6.1\n"
          ]
        }
      ],
      "source": [
        "# LOAD XGB LIBRARY\n",
        "from sklearn.model_selection import KFold\n",
        "import xgboost as xgb\n",
        "print('XGB Version',xgb.__version__)\n",
        "\n",
        "# XGB MODEL PARAMETERS\n",
        "xgb_parms = {\n",
        "    'max_depth':7,\n",
        "    'eta':0.01,\n",
        "    'subsample':0.75,\n",
        "    'colsample_bytree':0.35,\n",
        "    'min_child_weight':8,\n",
        "    # 'booster': 'dart',\n",
        "#     'max_delta_step': 16,\n",
        "    'eval_metric':['logloss', 'auc'],\n",
        "    'gamma':1.5,\n",
        "    'lambda':70,\n",
        "#     'reg_alpha':2,\n",
        "#     'reg_lambda':2,\n",
        "#     'scale_pos_weight':2.5,\n",
        "#     'eval_metric':'logloss',\n",
        "    'objective':'binary:logistic',\n",
        "    'tree_method':'gpu_hist',\n",
        "    'predictor':'gpu_predictor',\n",
        "    'random_state':SEED\n",
        "}"
      ]
    },
    {
      "cell_type": "code",
      "execution_count": 7,
      "id": "89f2c8a7",
      "metadata": {
        "execution": {
          "iopub.execute_input": "2022-07-04T13:38:15.503475Z",
          "iopub.status.busy": "2022-07-04T13:38:15.503227Z",
          "iopub.status.idle": "2022-07-04T13:38:15.511646Z",
          "shell.execute_reply": "2022-07-04T13:38:15.510996Z"
        },
        "papermill": {
          "duration": 0.01593,
          "end_time": "2022-07-04T13:38:15.513211",
          "exception": false,
          "start_time": "2022-07-04T13:38:15.497281",
          "status": "completed"
        },
        "tags": [],
        "id": "89f2c8a7"
      },
      "outputs": [],
      "source": [
        "# https://www.kaggle.com/competitions/amex-default-prediction/discussion/328020\n",
        "import numpy as np\n",
        "\n",
        "def amex_metric_numpy(y_true: np.array, y_pred: np.array) -> float:\n",
        "\n",
        "    # count of positives and negatives\n",
        "    n_pos = y_true.sum()\n",
        "    n_neg = y_true.shape[0] - n_pos\n",
        "\n",
        "    # sorting by descring prediction values\n",
        "    indices = np.argsort(y_pred)[::-1]\n",
        "    preds, target = y_pred[indices], y_true[indices]\n",
        "\n",
        "    # filter the top 4% by cumulative row weights\n",
        "    weight = 20.0 - target * 19.0\n",
        "    cum_norm_weight = (weight / weight.sum()).cumsum()\n",
        "    four_pct_filter = cum_norm_weight <= 0.04\n",
        "\n",
        "    # default rate captured at 4%\n",
        "    d = target[four_pct_filter].sum() / n_pos\n",
        "\n",
        "    # weighted gini coefficient\n",
        "    lorentz = (target / n_pos).cumsum()\n",
        "    gini = ((lorentz - cum_norm_weight) * weight).sum()\n",
        "\n",
        "    # max weighted gini coefficient\n",
        "    gini_max = 10 * n_neg * (1 - 19 / (n_pos + 20 * n_neg))\n",
        "\n",
        "    # normalized weighted gini coefficient\n",
        "    g = gini / gini_max\n",
        "\n",
        "    return 0.5 * (g + d)\n",
        "\n",
        "def xgb_amex(y_pred, y_true):\n",
        "    return 'amex', amex_metric_numpy(y_true.get_label(), y_pred)"
      ]
    },
    {
      "cell_type": "code",
      "execution_count": 8,
      "id": "1b3c3440",
      "metadata": {
        "execution": {
          "iopub.execute_input": "2022-07-04T13:38:15.524655Z",
          "iopub.status.busy": "2022-07-04T13:38:15.524403Z",
          "iopub.status.idle": "2022-07-04T13:57:20.743694Z",
          "shell.execute_reply": "2022-07-04T13:57:20.742632Z"
        },
        "papermill": {
          "duration": 1145.227069,
          "end_time": "2022-07-04T13:57:20.745545",
          "exception": false,
          "start_time": "2022-07-04T13:38:15.518476",
          "status": "completed"
        },
        "tags": [],
        "id": "1b3c3440",
        "colab": {
          "base_uri": "https://localhost:8080/"
        },
        "outputId": "934e5c30-f03f-42dc-d899-0be1c2e268c4"
      },
      "outputs": [
        {
          "output_type": "stream",
          "name": "stdout",
          "text": [
            "#########################\n",
            "### Fold 1\n",
            "### Train size 367130 Valid size 91783\n",
            "#########################\n",
            "[0]\ttrain-logloss:0.68664\ttrain-auc:0.93495\ttrain-amex:0.70816\teval-logloss:0.68666\teval-auc:0.93216\teval-amex:0.70055\n",
            "[200]\ttrain-logloss:0.27499\ttrain-auc:0.95656\ttrain-amex:0.77285\teval-logloss:0.27903\teval-auc:0.95344\teval-amex:0.76392\n",
            "[400]\ttrain-logloss:0.22864\ttrain-auc:0.96036\ttrain-amex:0.78754\teval-logloss:0.23593\teval-auc:0.95645\teval-amex:0.77596\n",
            "[600]\ttrain-logloss:0.21676\ttrain-auc:0.96290\ttrain-amex:0.79883\teval-logloss:0.22698\teval-auc:0.95820\teval-amex:0.78170\n",
            "[800]\ttrain-logloss:0.21021\ttrain-auc:0.96488\ttrain-amex:0.80764\teval-logloss:0.22340\teval-auc:0.95929\teval-amex:0.78578\n",
            "[1000]\ttrain-logloss:0.20556\ttrain-auc:0.96641\ttrain-amex:0.81477\teval-logloss:0.22143\teval-auc:0.95995\teval-amex:0.78784\n",
            "[1200]\ttrain-logloss:0.20163\ttrain-auc:0.96773\ttrain-amex:0.82112\teval-logloss:0.22014\teval-auc:0.96039\teval-amex:0.79024\n",
            "[1400]\ttrain-logloss:0.19808\ttrain-auc:0.96894\ttrain-amex:0.82679\teval-logloss:0.21922\teval-auc:0.96071\teval-amex:0.79046\n",
            "[1600]\ttrain-logloss:0.19497\ttrain-auc:0.97000\ttrain-amex:0.83202\teval-logloss:0.21859\teval-auc:0.96094\teval-amex:0.79153\n",
            "[1800]\ttrain-logloss:0.19205\ttrain-auc:0.97101\ttrain-amex:0.83718\teval-logloss:0.21811\teval-auc:0.96111\teval-amex:0.79213\n",
            "[2000]\ttrain-logloss:0.18928\ttrain-auc:0.97196\ttrain-amex:0.84173\teval-logloss:0.21775\teval-auc:0.96124\teval-amex:0.79256\n",
            "[2200]\ttrain-logloss:0.18663\ttrain-auc:0.97287\ttrain-amex:0.84661\teval-logloss:0.21745\teval-auc:0.96135\teval-amex:0.79347\n",
            "[2400]\ttrain-logloss:0.18411\ttrain-auc:0.97374\ttrain-amex:0.85120\teval-logloss:0.21720\teval-auc:0.96143\teval-amex:0.79402\n",
            "[2600]\ttrain-logloss:0.18158\ttrain-auc:0.97460\ttrain-amex:0.85565\teval-logloss:0.21699\teval-auc:0.96151\teval-amex:0.79404\n",
            "[2800]\ttrain-logloss:0.17911\ttrain-auc:0.97544\ttrain-amex:0.86032\teval-logloss:0.21682\teval-auc:0.96157\teval-amex:0.79451\n",
            "[3000]\ttrain-logloss:0.17666\ttrain-auc:0.97627\ttrain-amex:0.86471\teval-logloss:0.21669\teval-auc:0.96162\teval-amex:0.79464\n",
            "[3200]\ttrain-logloss:0.17432\ttrain-auc:0.97706\ttrain-amex:0.86872\teval-logloss:0.21659\teval-auc:0.96166\teval-amex:0.79446\n",
            "[3400]\ttrain-logloss:0.17198\ttrain-auc:0.97784\ttrain-amex:0.87299\teval-logloss:0.21650\teval-auc:0.96169\teval-amex:0.79443\n",
            "[3529]\ttrain-logloss:0.17052\ttrain-auc:0.97833\ttrain-amex:0.87572\teval-logloss:0.21644\teval-auc:0.96172\teval-amex:0.79465\n",
            "Kaggle Metric = 0.7945539514593492 \n",
            "\n",
            "#########################\n",
            "### Fold 2\n",
            "### Train size 367130 Valid size 91783\n",
            "#########################\n",
            "[0]\ttrain-logloss:0.68664\ttrain-auc:0.93473\ttrain-amex:0.70465\teval-logloss:0.68666\teval-auc:0.93378\teval-amex:0.70279\n",
            "[200]\ttrain-logloss:0.27497\ttrain-auc:0.95655\ttrain-amex:0.77447\teval-logloss:0.27891\teval-auc:0.95421\teval-amex:0.76286\n",
            "[400]\ttrain-logloss:0.22869\ttrain-auc:0.96027\ttrain-amex:0.78841\teval-logloss:0.23564\teval-auc:0.95721\teval-amex:0.77427\n",
            "[600]\ttrain-logloss:0.21689\ttrain-auc:0.96275\ttrain-amex:0.79912\teval-logloss:0.22662\teval-auc:0.95889\teval-amex:0.78238\n",
            "[800]\ttrain-logloss:0.21036\ttrain-auc:0.96473\ttrain-amex:0.80867\teval-logloss:0.22302\teval-auc:0.95992\teval-amex:0.78668\n",
            "[1000]\ttrain-logloss:0.20561\ttrain-auc:0.96629\ttrain-amex:0.81560\teval-logloss:0.22094\teval-auc:0.96059\teval-amex:0.78991\n",
            "[1200]\ttrain-logloss:0.20160\ttrain-auc:0.96764\ttrain-amex:0.82206\teval-logloss:0.21960\teval-auc:0.96103\teval-amex:0.79067\n",
            "[1400]\ttrain-logloss:0.19810\ttrain-auc:0.96884\ttrain-amex:0.82763\teval-logloss:0.21862\teval-auc:0.96137\teval-amex:0.79155\n",
            "[1600]\ttrain-logloss:0.19504\ttrain-auc:0.96989\ttrain-amex:0.83339\teval-logloss:0.21795\teval-auc:0.96160\teval-amex:0.79236\n",
            "[1800]\ttrain-logloss:0.19204\ttrain-auc:0.97093\ttrain-amex:0.83824\teval-logloss:0.21742\teval-auc:0.96178\teval-amex:0.79270\n",
            "[2000]\ttrain-logloss:0.18927\ttrain-auc:0.97188\ttrain-amex:0.84308\teval-logloss:0.21705\teval-auc:0.96191\teval-amex:0.79322\n",
            "[2200]\ttrain-logloss:0.18657\ttrain-auc:0.97281\ttrain-amex:0.84779\teval-logloss:0.21677\teval-auc:0.96201\teval-amex:0.79439\n",
            "[2400]\ttrain-logloss:0.18388\ttrain-auc:0.97374\ttrain-amex:0.85267\teval-logloss:0.21651\teval-auc:0.96210\teval-amex:0.79421\n",
            "[2600]\ttrain-logloss:0.18134\ttrain-auc:0.97461\ttrain-amex:0.85713\teval-logloss:0.21629\teval-auc:0.96217\teval-amex:0.79485\n",
            "[2800]\ttrain-logloss:0.17887\ttrain-auc:0.97545\ttrain-amex:0.86156\teval-logloss:0.21612\teval-auc:0.96223\teval-amex:0.79522\n",
            "[3000]\ttrain-logloss:0.17643\ttrain-auc:0.97628\ttrain-amex:0.86608\teval-logloss:0.21597\teval-auc:0.96229\teval-amex:0.79513\n",
            "[3200]\ttrain-logloss:0.17390\ttrain-auc:0.97713\ttrain-amex:0.87061\teval-logloss:0.21586\teval-auc:0.96233\teval-amex:0.79527\n",
            "[3400]\ttrain-logloss:0.17160\ttrain-auc:0.97790\ttrain-amex:0.87477\teval-logloss:0.21576\teval-auc:0.96236\teval-amex:0.79546\n",
            "[3600]\ttrain-logloss:0.16934\ttrain-auc:0.97865\ttrain-amex:0.87868\teval-logloss:0.21565\teval-auc:0.96240\teval-amex:0.79556\n",
            "[3800]\ttrain-logloss:0.16704\ttrain-auc:0.97941\ttrain-amex:0.88274\teval-logloss:0.21559\teval-auc:0.96243\teval-amex:0.79590\n",
            "[4000]\ttrain-logloss:0.16478\ttrain-auc:0.98015\ttrain-amex:0.88674\teval-logloss:0.21553\teval-auc:0.96245\teval-amex:0.79553\n",
            "[4200]\ttrain-logloss:0.16268\ttrain-auc:0.98083\ttrain-amex:0.89061\teval-logloss:0.21547\teval-auc:0.96247\teval-amex:0.79553\n",
            "[4332]\ttrain-logloss:0.16131\ttrain-auc:0.98127\ttrain-amex:0.89312\teval-logloss:0.21542\teval-auc:0.96249\teval-amex:0.79569\n",
            "Kaggle Metric = 0.796060353349219 \n",
            "\n",
            "#########################\n",
            "### Fold 3\n",
            "### Train size 367130 Valid size 91783\n",
            "#########################\n",
            "[0]\ttrain-logloss:0.68665\ttrain-auc:0.93482\ttrain-amex:0.70559\teval-logloss:0.68666\teval-auc:0.93467\teval-amex:0.70333\n",
            "[200]\ttrain-logloss:0.27549\ttrain-auc:0.95631\ttrain-amex:0.77431\teval-logloss:0.27736\teval-auc:0.95535\teval-amex:0.76756\n",
            "[400]\ttrain-logloss:0.22923\ttrain-auc:0.96006\ttrain-amex:0.78901\teval-logloss:0.23350\teval-auc:0.95815\teval-amex:0.77751\n",
            "[600]\ttrain-logloss:0.21745\ttrain-auc:0.96257\ttrain-amex:0.79965\teval-logloss:0.22426\teval-auc:0.95979\teval-amex:0.78408\n",
            "[800]\ttrain-logloss:0.21099\ttrain-auc:0.96452\ttrain-amex:0.80840\teval-logloss:0.22057\teval-auc:0.96080\teval-amex:0.78924\n",
            "[1000]\ttrain-logloss:0.20628\ttrain-auc:0.96607\ttrain-amex:0.81548\teval-logloss:0.21853\teval-auc:0.96142\teval-amex:0.79156\n",
            "[1200]\ttrain-logloss:0.20233\ttrain-auc:0.96742\ttrain-amex:0.82198\teval-logloss:0.21720\teval-auc:0.96184\teval-amex:0.79362\n",
            "[1400]\ttrain-logloss:0.19893\ttrain-auc:0.96858\ttrain-amex:0.82730\teval-logloss:0.21628\teval-auc:0.96214\teval-amex:0.79434\n",
            "[1600]\ttrain-logloss:0.19583\ttrain-auc:0.96964\ttrain-amex:0.83259\teval-logloss:0.21563\teval-auc:0.96235\teval-amex:0.79507\n",
            "[1800]\ttrain-logloss:0.19285\ttrain-auc:0.97068\ttrain-amex:0.83788\teval-logloss:0.21510\teval-auc:0.96252\teval-amex:0.79562\n",
            "[2000]\ttrain-logloss:0.19006\ttrain-auc:0.97164\ttrain-amex:0.84271\teval-logloss:0.21468\teval-auc:0.96266\teval-amex:0.79605\n",
            "[2200]\ttrain-logloss:0.18738\ttrain-auc:0.97257\ttrain-amex:0.84733\teval-logloss:0.21435\teval-auc:0.96277\teval-amex:0.79637\n",
            "[2400]\ttrain-logloss:0.18482\ttrain-auc:0.97345\ttrain-amex:0.85162\teval-logloss:0.21409\teval-auc:0.96286\teval-amex:0.79650\n",
            "[2600]\ttrain-logloss:0.18238\ttrain-auc:0.97429\ttrain-amex:0.85587\teval-logloss:0.21384\teval-auc:0.96294\teval-amex:0.79707\n",
            "[2800]\ttrain-logloss:0.17997\ttrain-auc:0.97511\ttrain-amex:0.86001\teval-logloss:0.21366\teval-auc:0.96300\teval-amex:0.79729\n",
            "[3000]\ttrain-logloss:0.17767\ttrain-auc:0.97590\ttrain-amex:0.86439\teval-logloss:0.21350\teval-auc:0.96305\teval-amex:0.79771\n",
            "[3200]\ttrain-logloss:0.17531\ttrain-auc:0.97670\ttrain-amex:0.86892\teval-logloss:0.21334\teval-auc:0.96310\teval-amex:0.79774\n",
            "[3400]\ttrain-logloss:0.17298\ttrain-auc:0.97748\ttrain-amex:0.87327\teval-logloss:0.21321\teval-auc:0.96315\teval-amex:0.79788\n",
            "[3600]\ttrain-logloss:0.17074\ttrain-auc:0.97823\ttrain-amex:0.87755\teval-logloss:0.21311\teval-auc:0.96318\teval-amex:0.79721\n",
            "[3630]\ttrain-logloss:0.17041\ttrain-auc:0.97834\ttrain-amex:0.87812\teval-logloss:0.21309\teval-auc:0.96319\teval-amex:0.79732\n",
            "Kaggle Metric = 0.7973619266618462 \n",
            "\n",
            "#########################\n",
            "### Fold 4\n",
            "### Train size 367131 Valid size 91782\n",
            "#########################\n",
            "[0]\ttrain-logloss:0.68664\ttrain-auc:0.93554\ttrain-amex:0.70693\teval-logloss:0.68666\teval-auc:0.93429\teval-amex:0.69985\n",
            "[200]\ttrain-logloss:0.27478\ttrain-auc:0.95652\ttrain-amex:0.77472\teval-logloss:0.27971\teval-auc:0.95394\teval-amex:0.76047\n",
            "[400]\ttrain-logloss:0.22855\ttrain-auc:0.96026\ttrain-amex:0.78911\teval-logloss:0.23657\teval-auc:0.95690\teval-amex:0.77107\n",
            "[600]\ttrain-logloss:0.21673\ttrain-auc:0.96278\ttrain-amex:0.79988\teval-logloss:0.22744\teval-auc:0.95863\teval-amex:0.77738\n",
            "[800]\ttrain-logloss:0.21013\ttrain-auc:0.96479\ttrain-amex:0.80961\teval-logloss:0.22371\teval-auc:0.95973\teval-amex:0.78192\n",
            "[1000]\ttrain-logloss:0.20547\ttrain-auc:0.96631\ttrain-amex:0.81643\teval-logloss:0.22156\teval-auc:0.96044\teval-amex:0.78349\n",
            "[1200]\ttrain-logloss:0.20151\ttrain-auc:0.96764\ttrain-amex:0.82317\teval-logloss:0.22015\teval-auc:0.96092\teval-amex:0.78577\n",
            "[1400]\ttrain-logloss:0.19795\ttrain-auc:0.96886\ttrain-amex:0.82905\teval-logloss:0.21918\teval-auc:0.96125\teval-amex:0.78698\n",
            "[1600]\ttrain-logloss:0.19483\ttrain-auc:0.96993\ttrain-amex:0.83414\teval-logloss:0.21849\teval-auc:0.96149\teval-amex:0.78867\n",
            "[1800]\ttrain-logloss:0.19189\ttrain-auc:0.97095\ttrain-amex:0.83895\teval-logloss:0.21797\teval-auc:0.96168\teval-amex:0.78890\n",
            "[2000]\ttrain-logloss:0.18905\ttrain-auc:0.97193\ttrain-amex:0.84353\teval-logloss:0.21755\teval-auc:0.96183\teval-amex:0.78989\n",
            "[2200]\ttrain-logloss:0.18637\ttrain-auc:0.97285\ttrain-amex:0.84825\teval-logloss:0.21719\teval-auc:0.96195\teval-amex:0.78992\n",
            "[2400]\ttrain-logloss:0.18385\ttrain-auc:0.97372\ttrain-amex:0.85275\teval-logloss:0.21691\teval-auc:0.96205\teval-amex:0.79019\n",
            "[2600]\ttrain-logloss:0.18140\ttrain-auc:0.97456\ttrain-amex:0.85710\teval-logloss:0.21670\teval-auc:0.96213\teval-amex:0.79048\n",
            "[2800]\ttrain-logloss:0.17894\ttrain-auc:0.97540\ttrain-amex:0.86153\teval-logloss:0.21650\teval-auc:0.96220\teval-amex:0.79059\n",
            "[3000]\ttrain-logloss:0.17652\ttrain-auc:0.97621\ttrain-amex:0.86596\teval-logloss:0.21633\teval-auc:0.96226\teval-amex:0.79103\n",
            "[3200]\ttrain-logloss:0.17418\ttrain-auc:0.97701\ttrain-amex:0.87004\teval-logloss:0.21619\teval-auc:0.96231\teval-amex:0.79117\n",
            "[3400]\ttrain-logloss:0.17191\ttrain-auc:0.97776\ttrain-amex:0.87425\teval-logloss:0.21609\teval-auc:0.96235\teval-amex:0.79160\n",
            "[3600]\ttrain-logloss:0.16958\ttrain-auc:0.97854\ttrain-amex:0.87848\teval-logloss:0.21599\teval-auc:0.96238\teval-amex:0.79128\n",
            "[3800]\ttrain-logloss:0.16734\ttrain-auc:0.97928\ttrain-amex:0.88258\teval-logloss:0.21592\teval-auc:0.96241\teval-amex:0.79175\n",
            "[3868]\ttrain-logloss:0.16659\ttrain-auc:0.97952\ttrain-amex:0.88398\teval-logloss:0.21589\teval-auc:0.96242\teval-amex:0.79169\n",
            "Kaggle Metric = 0.7919892450860557 \n",
            "\n",
            "#########################\n",
            "### Fold 5\n",
            "### Train size 367131 Valid size 91782\n",
            "#########################\n",
            "[0]\ttrain-logloss:0.68663\ttrain-auc:0.93438\ttrain-amex:0.70490\teval-logloss:0.68669\teval-auc:0.93110\teval-amex:0.69659\n",
            "[200]\ttrain-logloss:0.27441\ttrain-auc:0.95681\ttrain-amex:0.77541\teval-logloss:0.28102\teval-auc:0.95267\teval-amex:0.76125\n",
            "[400]\ttrain-logloss:0.22809\ttrain-auc:0.96052\ttrain-amex:0.78899\teval-logloss:0.23807\teval-auc:0.95585\teval-amex:0.77325\n",
            "[600]\ttrain-logloss:0.21625\ttrain-auc:0.96301\ttrain-amex:0.80003\teval-logloss:0.22917\teval-auc:0.95763\teval-amex:0.77920\n",
            "[800]\ttrain-logloss:0.20971\ttrain-auc:0.96498\ttrain-amex:0.80924\teval-logloss:0.22547\teval-auc:0.95878\teval-amex:0.78405\n",
            "[1000]\ttrain-logloss:0.20501\ttrain-auc:0.96651\ttrain-amex:0.81662\teval-logloss:0.22338\teval-auc:0.95950\teval-amex:0.78658\n",
            "[1200]\ttrain-logloss:0.20114\ttrain-auc:0.96781\ttrain-amex:0.82255\teval-logloss:0.22205\teval-auc:0.95997\teval-amex:0.78707\n",
            "[1400]\ttrain-logloss:0.19762\ttrain-auc:0.96901\ttrain-amex:0.82896\teval-logloss:0.22103\teval-auc:0.96034\teval-amex:0.78817\n",
            "[1600]\ttrain-logloss:0.19452\ttrain-auc:0.97008\ttrain-amex:0.83429\teval-logloss:0.22035\teval-auc:0.96058\teval-amex:0.78940\n",
            "[1800]\ttrain-logloss:0.19145\ttrain-auc:0.97113\ttrain-amex:0.83910\teval-logloss:0.21979\teval-auc:0.96079\teval-amex:0.79053\n",
            "[2000]\ttrain-logloss:0.18868\ttrain-auc:0.97209\ttrain-amex:0.84392\teval-logloss:0.21936\teval-auc:0.96095\teval-amex:0.79205\n",
            "[2200]\ttrain-logloss:0.18596\ttrain-auc:0.97302\ttrain-amex:0.84857\teval-logloss:0.21904\teval-auc:0.96107\teval-amex:0.79188\n",
            "[2400]\ttrain-logloss:0.18336\ttrain-auc:0.97391\ttrain-amex:0.85323\teval-logloss:0.21875\teval-auc:0.96117\teval-amex:0.79219\n",
            "[2600]\ttrain-logloss:0.18088\ttrain-auc:0.97476\ttrain-amex:0.85776\teval-logloss:0.21853\teval-auc:0.96126\teval-amex:0.79278\n",
            "[2800]\ttrain-logloss:0.17846\ttrain-auc:0.97559\ttrain-amex:0.86221\teval-logloss:0.21832\teval-auc:0.96133\teval-amex:0.79267\n",
            "[3000]\ttrain-logloss:0.17607\ttrain-auc:0.97639\ttrain-amex:0.86637\teval-logloss:0.21816\teval-auc:0.96139\teval-amex:0.79283\n",
            "[3200]\ttrain-logloss:0.17375\ttrain-auc:0.97717\ttrain-amex:0.87038\teval-logloss:0.21801\teval-auc:0.96145\teval-amex:0.79306\n",
            "[3400]\ttrain-logloss:0.17138\ttrain-auc:0.97795\ttrain-amex:0.87488\teval-logloss:0.21787\teval-auc:0.96150\teval-amex:0.79324\n",
            "[3600]\ttrain-logloss:0.16914\ttrain-auc:0.97870\ttrain-amex:0.87903\teval-logloss:0.21777\teval-auc:0.96154\teval-amex:0.79367\n",
            "[3800]\ttrain-logloss:0.16683\ttrain-auc:0.97946\ttrain-amex:0.88311\teval-logloss:0.21767\teval-auc:0.96157\teval-amex:0.79371\n",
            "[4000]\ttrain-logloss:0.16467\ttrain-auc:0.98016\ttrain-amex:0.88692\teval-logloss:0.21759\teval-auc:0.96160\teval-amex:0.79326\n",
            "[4138]\ttrain-logloss:0.16317\ttrain-auc:0.98065\ttrain-amex:0.88966\teval-logloss:0.21753\teval-auc:0.96163\teval-amex:0.79334\n",
            "Kaggle Metric = 0.7932161232079138 \n",
            "\n",
            "#########################\n",
            "OVERALL CV Kaggle Metric = 0.7942056892635287\n"
          ]
        }
      ],
      "source": [
        "importances = []\n",
        "oof = []\n",
        "gc.collect()\n",
        "\n",
        "skf = KFold(n_splits=FOLDS, shuffle=True, random_state=SEED)\n",
        "for fold,(train_idx, valid_idx) in enumerate(skf.split(train, train.target )):\n",
        "    print('#'*25)\n",
        "    print('### Fold',fold+1)\n",
        "    print('### Train size',len(train_idx),'Valid size',len(valid_idx))\n",
        "    print('#'*25)\n",
        "    \n",
        "    # TRAIN, VALID, TEST FOR FOLD K\n",
        "    y_valid = train.loc[valid_idx, 'target']\n",
        "    \n",
        "    dtrain = xgb.DMatrix(data=train.loc[train_idx, FEATURES], label=train.loc[train_idx, 'target'])\n",
        "    dvalid = xgb.DMatrix(data=train.loc[valid_idx, FEATURES], label=y_valid)\n",
        "\n",
        "    # TRAIN MODEL FOLD K\n",
        "    model = xgb.train(xgb_parms, \n",
        "                dtrain=dtrain,\n",
        "                evals=[(dtrain,'train'),(dvalid,'eval')],\n",
        "                num_boost_round=15000,\n",
        "                early_stopping_rounds=500,\n",
        "                maximize=True,\n",
        "                custom_metric= xgb_amex,\n",
        "                verbose_eval=200) \n",
        "    model.save_model(f'XGB_v{VER}_fold{fold}.xgb')\n",
        "    \n",
        "    # GET FEATURE IMPORTANCE FOR FOLD K\n",
        "    dd = model.get_score(importance_type='weight')\n",
        "    df = pd.DataFrame({'feature':dd.keys(),f'importance_{fold}':dd.values()})\n",
        "    importances.append(df)\n",
        "            \n",
        "    # INFER OOF FOLD K\n",
        "    oof_preds = model.predict(dvalid)\n",
        "    acc = amex_metric_numpy(y_valid.values, oof_preds)\n",
        "    print('Kaggle Metric =',acc,'\\n')\n",
        "    \n",
        "    # SAVE OOF\n",
        "    df = train.loc[valid_idx, ['customer_ID','target'] ].copy()\n",
        "    df['oof_pred'] = oof_preds\n",
        "    oof.append( df )\n",
        "\n",
        "    del dtrain, dd, df\n",
        "    del y_valid, dvalid, model\n",
        "    _ = gc.collect()\n",
        "    \n",
        "print('#'*25)\n",
        "oof = pd.concat(oof,axis=0,ignore_index=True).set_index('customer_ID')\n",
        "acc = amex_metric_numpy(oof.target.values, oof.oof_pred.values)\n",
        "print('OVERALL CV Kaggle Metric =',acc)"
      ]
    },
    {
      "cell_type": "code",
      "execution_count": 9,
      "id": "a0683792",
      "metadata": {
        "execution": {
          "iopub.execute_input": "2022-07-04T13:57:20.767668Z",
          "iopub.status.busy": "2022-07-04T13:57:20.767389Z",
          "iopub.status.idle": "2022-07-04T13:57:20.897259Z",
          "shell.execute_reply": "2022-07-04T13:57:20.896305Z"
        },
        "papermill": {
          "duration": 0.143223,
          "end_time": "2022-07-04T13:57:20.899414",
          "exception": false,
          "start_time": "2022-07-04T13:57:20.756191",
          "status": "completed"
        },
        "tags": [],
        "id": "a0683792"
      },
      "outputs": [],
      "source": [
        "# CLEAN RAM\n",
        "del train\n",
        "_ = gc.collect()"
      ]
    },
    {
      "cell_type": "code",
      "execution_count": 10,
      "id": "7c84e45b",
      "metadata": {
        "execution": {
          "iopub.execute_input": "2022-07-04T13:57:20.922375Z",
          "iopub.status.busy": "2022-07-04T13:57:20.922102Z",
          "iopub.status.idle": "2022-07-04T13:57:20.952759Z",
          "shell.execute_reply": "2022-07-04T13:57:20.952102Z"
        },
        "papermill": {
          "duration": 0.044099,
          "end_time": "2022-07-04T13:57:20.954464",
          "exception": false,
          "start_time": "2022-07-04T13:57:20.910365",
          "status": "completed"
        },
        "tags": [],
        "id": "7c84e45b"
      },
      "outputs": [],
      "source": [
        "import matplotlib.pyplot as plt\n",
        "\n",
        "df = importances[0].copy()\n",
        "for k in range(1,FOLDS): df = df.merge(importances[k], on='feature', how='left')\n",
        "df['importance'] = df.iloc[:,1:].mean(axis=1)\n",
        "df = df.sort_values('importance',ascending=False)\n",
        "df.to_csv(f'xgb_feature_importance_v{VER}.csv',index=False)"
      ]
    },
    {
      "cell_type": "code",
      "execution_count": 11,
      "id": "cf219aaf",
      "metadata": {
        "execution": {
          "iopub.execute_input": "2022-07-04T13:57:20.976586Z",
          "iopub.status.busy": "2022-07-04T13:57:20.976325Z",
          "iopub.status.idle": "2022-07-04T13:57:21.242333Z",
          "shell.execute_reply": "2022-07-04T13:57:21.241620Z"
        },
        "papermill": {
          "duration": 0.278865,
          "end_time": "2022-07-04T13:57:21.244004",
          "exception": false,
          "start_time": "2022-07-04T13:57:20.965139",
          "status": "completed"
        },
        "tags": [],
        "id": "cf219aaf",
        "colab": {
          "base_uri": "https://localhost:8080/",
          "height": 607
        },
        "outputId": "963ece26-5216-424c-85eb-1e0b66355290"
      },
      "outputs": [
        {
          "output_type": "display_data",
          "data": {
            "text/plain": [
              "<Figure size 720x720 with 1 Axes>"
            ],
            "image/png": "[encoded data removed]"
          },
          "metadata": {
            "needs_background": "light"
          }
        }
      ],
      "source": [
        "NUM_FEATURES = 20\n",
        "plt.figure(figsize=(10,5*NUM_FEATURES//10))\n",
        "plt.barh(np.arange(NUM_FEATURES,0,-1), df.importance.values[:NUM_FEATURES])\n",
        "plt.yticks(np.arange(NUM_FEATURES,0,-1), df.feature.values[:NUM_FEATURES])\n",
        "plt.title(f'XGB Feature Importance - Top {NUM_FEATURES}')\n",
        "plt.show()"
      ]
    },
    {
      "cell_type": "markdown",
      "source": [
        "# Test part"
      ],
      "metadata": {
        "id": "5eVl7ZgaHTai"
      },
      "id": "5eVl7ZgaHTai"
    },
    {
      "cell_type": "code",
      "execution_count": 12,
      "id": "caceea59",
      "metadata": {
        "execution": {
          "iopub.execute_input": "2022-07-04T13:57:21.266604Z",
          "iopub.status.busy": "2022-07-04T13:57:21.266343Z",
          "iopub.status.idle": "2022-07-04T13:57:23.926842Z",
          "shell.execute_reply": "2022-07-04T13:57:23.925728Z"
        },
        "papermill": {
          "duration": 2.67433,
          "end_time": "2022-07-04T13:57:23.929254",
          "exception": false,
          "start_time": "2022-07-04T13:57:21.254924",
          "status": "completed"
        },
        "tags": [],
        "id": "caceea59"
      },
      "outputs": [],
      "source": [
        "# CALCULATE SIZE OF EACH SEPARATE TEST PART\n",
        "def get_rows(customers, test, NUM_PARTS = 4, verbose = ''):\n",
        "    chunk = len(customers)//NUM_PARTS\n",
        "    if verbose != '':\n",
        "        print(f'We will process {verbose} data as {NUM_PARTS} separate parts.')\n",
        "        print(f'There will be {chunk} customers in each part (except the last part).')\n",
        "        print('Below are number of rows in each part:')\n",
        "    rows = []\n",
        "\n",
        "    for k in range(NUM_PARTS):\n",
        "        if k==NUM_PARTS-1: cc = customers[k*chunk:]\n",
        "        else: cc = customers[k*chunk:(k+1)*chunk]\n",
        "        s = test.loc[test.customer_ID.isin(cc)].shape[0]\n",
        "        rows.append(s)\n",
        "    if verbose != '': print( rows )\n",
        "    return rows,chunk"
      ]
    },
    {
      "cell_type": "code",
      "source": [
        "# COMPUTE SIZE OF 4 PARTS FOR TEST DATA\n",
        "NUM_PARTS = 4\n",
        "\n",
        "test = pd.read_parquet(\"/content/test_fe_plus_plus.parquet\")\n",
        "\n",
        "customers = test[['customer_ID']].drop_duplicates().sort_index().values.flatten()\n",
        "rows,num_cust = get_rows(customers, test[['customer_ID']], NUM_PARTS = NUM_PARTS, verbose = 'test')"
      ],
      "metadata": {
        "id": "Bx78HcsneJfF",
        "colab": {
          "base_uri": "https://localhost:8080/"
        },
        "outputId": "47d8d00c-bc4f-4d72-9814-1a445c5713e7"
      },
      "id": "Bx78HcsneJfF",
      "execution_count": 13,
      "outputs": [
        {
          "output_type": "stream",
          "name": "stdout",
          "text": [
            "We will process test data as 4 separate parts.\n",
            "There will be 231155 customers in each part (except the last part).\n",
            "Below are number of rows in each part:\n",
            "[231155, 231155, 231155, 231156]\n"
          ]
        }
      ]
    },
    {
      "cell_type": "code",
      "execution_count": 14,
      "id": "284c3ec2",
      "metadata": {
        "execution": {
          "iopub.execute_input": "2022-07-04T13:57:23.953558Z",
          "iopub.status.busy": "2022-07-04T13:57:23.952895Z",
          "iopub.status.idle": "2022-07-04T14:00:05.767912Z",
          "shell.execute_reply": "2022-07-04T14:00:05.767103Z"
        },
        "papermill": {
          "duration": 161.82896,
          "end_time": "2022-07-04T14:00:05.770110",
          "exception": false,
          "start_time": "2022-07-04T13:57:23.941150",
          "status": "completed"
        },
        "tags": [],
        "id": "284c3ec2",
        "colab": {
          "base_uri": "https://localhost:8080/"
        },
        "outputId": "c6a9889b-efb8-43da-b86e-77d85a1a43d8"
      },
      "outputs": [
        {
          "output_type": "stream",
          "name": "stdout",
          "text": [
            "\n",
            "Reading test data...\n",
            "=> Test part 1 has shape (231155, 1461)\n"
          ]
        },
        {
          "output_type": "stream",
          "name": "stderr",
          "text": [
            "100%|██████████| 1461/1461 [02:12<00:00, 11.02it/s] \n"
          ]
        },
        {
          "output_type": "stream",
          "name": "stdout",
          "text": [
            "\n",
            "Reading test data...\n",
            "=> Test part 2 has shape (231155, 1461)\n"
          ]
        },
        {
          "output_type": "stream",
          "name": "stderr",
          "text": [
            "100%|██████████| 1461/1461 [02:14<00:00, 10.88it/s] \n"
          ]
        },
        {
          "output_type": "stream",
          "name": "stdout",
          "text": [
            "\n",
            "Reading test data...\n",
            "=> Test part 3 has shape (231155, 1461)\n"
          ]
        },
        {
          "output_type": "stream",
          "name": "stderr",
          "text": [
            "100%|██████████| 1461/1461 [02:15<00:00, 10.76it/s] \n"
          ]
        },
        {
          "output_type": "stream",
          "name": "stdout",
          "text": [
            "\n",
            "Reading test data...\n",
            "=> Test part 4 has shape (231156, 1461)\n"
          ]
        },
        {
          "output_type": "stream",
          "name": "stderr",
          "text": [
            "100%|██████████| 1461/1461 [02:16<00:00, 10.69it/s] \n"
          ]
        }
      ],
      "source": [
        "# INFER TEST DATA IN PARTS\n",
        "skip_rows = 0\n",
        "skip_cust = 0\n",
        "test_preds = []\n",
        "\n",
        "for k in range(NUM_PARTS):\n",
        "    # READ PART OF TEST DATA\n",
        "    print(f'\\nReading test data...')\n",
        "    test_copy = test.iloc[skip_rows:skip_rows+rows[k]].copy()\n",
        "    test_copy = test_copy.set_index('customer_ID')\n",
        "    skip_rows += rows[k]\n",
        "    print(f'=> Test part {k+1} has shape', test_copy.shape )\n",
        "\n",
        "    for col in float_cols:\n",
        "        test_copy[col + '_round2'] = test_copy[col].round(2)\n",
        "    # test_copy.replace([-np.inf, np.inf], np.nan, inplace=True)\n",
        "    test_copy.fillna(-127, inplace=True)\n",
        "\n",
        "    num_cols = [col for col in test_copy.columns if 'last' in col]\n",
        "    num_cols = [col[:-5] for col in num_cols if 'round' not in col]\n",
        "    for col in num_cols:\n",
        "        try:\n",
        "            test_copy[f'{col}_mean_min'] = test_copy[f'{col}_mean'] - test_copy[f'{col}_min']\n",
        "            test_copy[f'{col}_last_min'] = test_copy[f'{col}_last'] - test_copy[f'{col}_min']\n",
        "            test_copy[f'{col}_last_max'] = test_copy[f'{col}_last'] - test_copy[f'{col}_max']\n",
        "        except: pass\n",
        "    num_cols = list(test_copy.dtypes[(test_copy.dtypes == 'float32') | (test_copy.dtypes == 'float64')].index)\n",
        "    for col in tqdm(num_cols):\n",
        "        test_copy[col] = test_copy[col].astype(np.float16)\n",
        "\n",
        "    # PROCESS AND FEATURE ENGINEER PART OF TEST DATA\n",
        "    if k==NUM_PARTS-1: test_copy = test_copy.loc[customers[skip_cust:]]\n",
        "    else: test_copy = test_copy.loc[customers[skip_cust:skip_cust+num_cust]]\n",
        "    skip_cust += num_cust\n",
        "    \n",
        "    # TEST DATA FOR XGB\n",
        "    X_test = test_copy[FEATURES]\n",
        "    dtest = xgb.DMatrix(data=X_test)\n",
        "    test_copy = test_copy[['P_2_mean']] # reduce memory\n",
        "    del X_test\n",
        "    gc.collect()\n",
        "\n",
        "    # INFER XGB MODELS ON TEST DATA\n",
        "    model = xgb.Booster()\n",
        "    model.load_model(f'XGB_v{VER}_fold0.xgb')\n",
        "    preds = model.predict(dtest)\n",
        "    for f in range(1,FOLDS):\n",
        "        model.load_model(f'XGB_v{VER}_fold{f}.xgb')\n",
        "        preds += model.predict(dtest)\n",
        "    preds /= FOLDS\n",
        "    test_preds.append(preds)\n",
        "\n",
        "    # CLEAN MEMORY\n",
        "    del test_copy, dtest, model\n",
        "    _ = gc.collect()\n",
        "\n",
        "del test\n",
        "_ = gc.collect()"
      ]
    },
    {
      "cell_type": "code",
      "execution_count": 15,
      "id": "a9cdac27",
      "metadata": {
        "execution": {
          "iopub.execute_input": "2022-07-04T14:00:05.795436Z",
          "iopub.status.busy": "2022-07-04T14:00:05.795158Z",
          "iopub.status.idle": "2022-07-04T14:00:06.821793Z",
          "shell.execute_reply": "2022-07-04T14:00:06.820885Z"
        },
        "papermill": {
          "duration": 1.042409,
          "end_time": "2022-07-04T14:00:06.824706",
          "exception": false,
          "start_time": "2022-07-04T14:00:05.782297",
          "status": "completed"
        },
        "tags": [],
        "id": "a9cdac27",
        "colab": {
          "base_uri": "https://localhost:8080/",
          "height": 224
        },
        "outputId": "e9bd35f4-f56a-4b8e-ec11-bf4f65106892"
      },
      "outputs": [
        {
          "output_type": "stream",
          "name": "stdout",
          "text": [
            "Submission file shape is (924621, 2)\n"
          ]
        },
        {
          "output_type": "execute_result",
          "data": {
            "text/plain": [
              "                                         customer_ID  prediction\n",
              "0  00000469ba478561f23a92a868bd366de6f6527a684c9a...    0.032772\n",
              "1  00001bf2e77ff879fab36aa4fac689b9ba411dae63ae39...    0.000977\n",
              "2  0000210045da4f81e5f122c6bde5c2a617d03eef67f82c...    0.050219\n",
              "3  00003b41e58ede33b8daf61ab56d9952f17c9ad1c3976c...    0.292404\n",
              "4  00004b22eaeeeb0ec976890c1d9bfc14fd9427e98c4ee9...    0.896058"
            ],
            "text/html": [
              "\n",
              "  <div id=\"df-93345609-ccdf-4392-98b2-4df4e79deb8b\">\n",
              "    <div class=\"colab-df-container\">\n",
              "      <div>\n",
              "<style scoped>\n",
              "    .dataframe tbody tr th:only-of-type {\n",
              "        vertical-align: middle;\n",
              "    }\n",
              "\n",
              "    .dataframe tbody tr th {\n",
              "        vertical-align: top;\n",
              "    }\n",
              "\n",
              "    .dataframe thead th {\n",
              "        text-align: right;\n",
              "    }\n",
              "</style>\n",
              "<table border=\"1\" class=\"dataframe\">\n",
              "  <thead>\n",
              "    <tr style=\"text-align: right;\">\n",
              "      <th></th>\n",
              "      <th>customer_ID</th>\n",
              "      <th>prediction</th>\n",
              "    </tr>\n",
              "  </thead>\n",
              "  <tbody>\n",
              "    <tr>\n",
              "      <th>0</th>\n",
              "      <td>00000469ba478561f23a92a868bd366de6f6527a684c9a...</td>\n",
              "      <td>0.032772</td>\n",
              "    </tr>\n",
              "    <tr>\n",
              "      <th>1</th>\n",
              "      <td>00001bf2e77ff879fab36aa4fac689b9ba411dae63ae39...</td>\n",
              "      <td>0.000977</td>\n",
              "    </tr>\n",
              "    <tr>\n",
              "      <th>2</th>\n",
              "      <td>0000210045da4f81e5f122c6bde5c2a617d03eef67f82c...</td>\n",
              "      <td>0.050219</td>\n",
              "    </tr>\n",
              "    <tr>\n",
              "      <th>3</th>\n",
              "      <td>00003b41e58ede33b8daf61ab56d9952f17c9ad1c3976c...</td>\n",
              "      <td>0.292404</td>\n",
              "    </tr>\n",
              "    <tr>\n",
              "      <th>4</th>\n",
              "      <td>00004b22eaeeeb0ec976890c1d9bfc14fd9427e98c4ee9...</td>\n",
              "      <td>0.896058</td>\n",
              "    </tr>\n",
              "  </tbody>\n",
              "</table>\n",
              "</div>\n",
              "      <button class=\"colab-df-convert\" onclick=\"convertToInteractive('df-93345609-ccdf-4392-98b2-4df4e79deb8b')\"\n",
              "              title=\"Convert this dataframe to an interactive table.\"\n",
              "              style=\"display:none;\">\n",
              "        \n",
              "  <svg xmlns=\"http://www.w3.org/2000/svg\" height=\"24px\"viewBox=\"0 0 24 24\"\n",
              "       width=\"24px\">\n",
              "    <path d=\"M0 0h24v24H0V0z\" fill=\"none\"/>\n",
              "    <path d=\"M18.56 5.44l.94 2.06.94-2.06 2.06-.94-2.06-.94-.94-2.06-.94 2.06-2.06.94zm-11 1L8.5 8.5l.94-2.06 2.06-.94-2.06-.94L8.5 2.5l-.94 2.06-2.06.94zm10 10l.94 2.06.94-2.06 2.06-.94-2.06-.94-.94-2.06-.94 2.06-2.06.94z\"/><path d=\"M17.41 7.96l-1.37-1.37c-.4-.4-.92-.59-1.43-.59-.52 0-1.04.2-1.43.59L10.3 9.45l-7.72 7.72c-.78.78-.78 2.05 0 2.83L4 21.41c.39.39.9.59 1.41.59.51 0 1.02-.2 1.41-.59l7.78-7.78 2.81-2.81c.8-.78.8-2.07 0-2.86zM5.41 20L4 18.59l7.72-7.72 1.47 1.35L5.41 20z\"/>\n",
              "  </svg>\n",
              "      </button>\n",
              "      \n",
              "  <style>\n",
              "    .colab-df-container {\n",
              "      display:flex;\n",
              "      flex-wrap:wrap;\n",
              "      gap: 12px;\n",
              "    }\n",
              "\n",
              "    .colab-df-convert {\n",
              "      background-color: #E8F0FE;\n",
              "      border: none;\n",
              "      border-radius: 50%;\n",
              "      cursor: pointer;\n",
              "      display: none;\n",
              "      fill: #1967D2;\n",
              "      height: 32px;\n",
              "      padding: 0 0 0 0;\n",
              "      width: 32px;\n",
              "    }\n",
              "\n",
              "    .colab-df-convert:hover {\n",
              "      background-color: #E2EBFA;\n",
              "      box-shadow: 0px 1px 2px rgba(60, 64, 67, 0.3), 0px 1px 3px 1px rgba(60, 64, 67, 0.15);\n",
              "      fill: #174EA6;\n",
              "    }\n",
              "\n",
              "    [theme=dark] .colab-df-convert {\n",
              "      background-color: #3B4455;\n",
              "      fill: #D2E3FC;\n",
              "    }\n",
              "\n",
              "    [theme=dark] .colab-df-convert:hover {\n",
              "      background-color: #434B5C;\n",
              "      box-shadow: 0px 1px 3px 1px rgba(0, 0, 0, 0.15);\n",
              "      filter: drop-shadow(0px 1px 2px rgba(0, 0, 0, 0.3));\n",
              "      fill: #FFFFFF;\n",
              "    }\n",
              "  </style>\n",
              "\n",
              "      <script>\n",
              "        const buttonEl =\n",
              "          document.querySelector('#df-93345609-ccdf-4392-98b2-4df4e79deb8b button.colab-df-convert');\n",
              "        buttonEl.style.display =\n",
              "          google.colab.kernel.accessAllowed ? 'block' : 'none';\n",
              "\n",
              "        async function convertToInteractive(key) {\n",
              "          const element = document.querySelector('#df-93345609-ccdf-4392-98b2-4df4e79deb8b');\n",
              "          const dataTable =\n",
              "            await google.colab.kernel.invokeFunction('convertToInteractive',\n",
              "                                                     [key], {});\n",
              "          if (!dataTable) return;\n",
              "\n",
              "          const docLinkHtml = 'Like what you see? Visit the ' +\n",
              "            '<a target=\"_blank\" href=https://colab.research.google.com/notebooks/data_table.ipynb>data table notebook</a>'\n",
              "            + ' to learn more about interactive tables.';\n",
              "          element.innerHTML = '';\n",
              "          dataTable['output_type'] = 'display_data';\n",
              "          await google.colab.output.renderOutput(dataTable, element);\n",
              "          const docLink = document.createElement('div');\n",
              "          docLink.innerHTML = docLinkHtml;\n",
              "          element.appendChild(docLink);\n",
              "        }\n",
              "      </script>\n",
              "    </div>\n",
              "  </div>\n",
              "  "
            ]
          },
          "metadata": {},
          "execution_count": 15
        }
      ],
      "source": [
        "# WRITE SUBMISSION FILE\n",
        "test = pd.DataFrame(index=customers,data={'prediction': np.concatenate(test_preds)})\n",
        "sub = pd.read_csv('/content/sample_submission.csv')[['customer_ID']]\n",
        "sub['customer_ID_hash'] = sub['customer_ID'].copy()\n",
        "sub = sub.set_index('customer_ID_hash')\n",
        "sub = sub.merge(test[['prediction']], left_index=True, right_index=True, how='left')\n",
        "sub = sub.reset_index(drop=True)\n",
        "\n",
        "# DISPLAY PREDICTIONS\n",
        "sub.to_csv(f'submission_xgb_v{VER}_seed{SEED}_fold{FOLDS}.csv',index=False)\n",
        "print('Submission file shape is', sub.shape )\n",
        "sub.head()"
      ]
    },
    {
      "cell_type": "code",
      "execution_count": 16,
      "id": "63453bcd",
      "metadata": {
        "execution": {
          "iopub.execute_input": "2022-07-04T14:00:06.852363Z",
          "iopub.status.busy": "2022-07-04T14:00:06.851721Z",
          "iopub.status.idle": "2022-07-04T14:00:07.547496Z",
          "shell.execute_reply": "2022-07-04T14:00:07.546749Z"
        },
        "papermill": {
          "duration": 0.710906,
          "end_time": "2022-07-04T14:00:07.549303",
          "exception": false,
          "start_time": "2022-07-04T14:00:06.838397",
          "status": "completed"
        },
        "tags": [],
        "id": "63453bcd",
        "colab": {
          "base_uri": "https://localhost:8080/",
          "height": 281
        },
        "outputId": "a05f139b-e690-495e-cb8c-c47ba45284f9"
      },
      "outputs": [
        {
          "output_type": "display_data",
          "data": {
            "text/plain": [
              "<Figure size 432x288 with 1 Axes>"
            ],
            "image/png": "[encoded data removed]"
          },
          "metadata": {
            "needs_background": "light"
          }
        }
      ],
      "source": [
        "# PLOT PREDICTIONS\n",
        "import matplotlib.pyplot as plt\n",
        "\n",
        "plt.hist(sub.prediction, bins=100)\n",
        "plt.title('Test Predictions')\n",
        "plt.show()"
      ]
    },
    {
      "cell_type": "markdown",
      "metadata": {
        "papermill": {
          "duration": 0.042841,
          "end_time": "2022-07-15T16:51:28.477165",
          "exception": false,
          "start_time": "2022-07-15T16:51:28.434324",
          "status": "completed"
        },
        "tags": [],
        "id": "802623f7"
      },
      "source": [
        "# Submit to Kaggle from Colab"
      ],
      "id": "802623f7"
    },
    {
      "cell_type": "code",
      "execution_count": 17,
      "metadata": {
        "execution": {
          "iopub.execute_input": "2022-07-15T16:51:28.552420Z",
          "iopub.status.busy": "2022-07-15T16:51:28.551829Z",
          "iopub.status.idle": "2022-07-15T16:51:28.557906Z",
          "shell.execute_reply": "2022-07-15T16:51:28.557166Z"
        },
        "papermill": {
          "duration": 0.048007,
          "end_time": "2022-07-15T16:51:28.561880",
          "exception": false,
          "start_time": "2022-07-15T16:51:28.513873",
          "status": "completed"
        },
        "tags": [],
        "id": "efc54970",
        "colab": {
          "base_uri": "https://localhost:8080/"
        },
        "outputId": "2686736d-fb4d-4c95-e101-e75985a3a75b"
      },
      "outputs": [
        {
          "output_type": "stream",
          "name": "stdout",
          "text": [
            "100% 67.6M/67.6M [00:09<00:00, 7.82MB/s]\n",
            "Successfully submitted to American Express - Default Prediction"
          ]
        }
      ],
      "source": [
        "# Submit\n",
        "!kaggle competitions submit -c amex-default-prediction -f submission_xgb_v1_seed42_fold5.csv -m \"From colab seed 42 fold 5 lag plus\""
      ],
      "id": "efc54970"
    },
    {
      "cell_type": "code",
      "execution_count": 19,
      "metadata": {
        "execution": {
          "iopub.execute_input": "2022-07-15T16:51:28.636400Z",
          "iopub.status.busy": "2022-07-15T16:51:28.635706Z",
          "iopub.status.idle": "2022-07-15T16:51:28.643060Z",
          "shell.execute_reply": "2022-07-15T16:51:28.640501Z"
        },
        "papermill": {
          "duration": 0.04911,
          "end_time": "2022-07-15T16:51:28.647823",
          "exception": false,
          "start_time": "2022-07-15T16:51:28.598713",
          "status": "completed"
        },
        "tags": [],
        "id": "aad5cc1a",
        "colab": {
          "base_uri": "https://localhost:8080/"
        },
        "outputId": "79e22316-de57-4b11-97f5-efa99e94a03a"
      },
      "outputs": [
        {
          "output_type": "stream",
          "name": "stdout",
          "text": [
            "fileName                            date                 description                                               status    publicScore  privateScore  \n",
            "----------------------------------  -------------------  --------------------------------------------------------  --------  -----------  ------------  \n",
            "submission_xgb_v1_seed42_fold5.csv  2022-07-26 16:34:13  From colab seed 42 fold 5 lag plus                        complete  0.795                      \n",
            "Amex Default Prediction - Ensemble  2022-07-26 16:18:30  Notebook Amex Default Prediction - Ensemble | Version 24  complete  0.798                      \n",
            "Amex Default Prediction - Ensemble  2022-07-26 15:17:31  Notebook Amex Default Prediction - Ensemble | Version 23  complete  0.798                      \n",
            "submission_xgb_v1_seed42_fold5.csv  2022-07-26 14:59:19  From colab seed 42 fold 5 lag plus                        complete  0.795                      \n",
            "submission_cat_v1_seed42_fold5.csv  2022-07-26 13:10:11  From colab seed 42 fold 5 lag plus                        complete  0.796                      \n",
            "Amex Default Prediction - Ensemble  2022-07-25 18:21:01  Notebook Amex Default Prediction - Ensemble | Version 22  complete  0.799                      \n",
            "submission_cat_v1_seed42_fold5.csv  2022-07-25 18:15:57  From colab seed 42 fold 5 lag plus                        complete  0.796                      \n",
            "Amex Default Prediction - Ensemble  2022-07-24 15:56:24  Notebook Amex Default Prediction - Ensemble | Version 20  complete  0.759                      \n",
            "Amex Default Prediction - Ensemble  2022-07-24 15:55:05  Notebook Amex Default Prediction - Ensemble | Version 19  complete  0.745                      \n",
            "Amex Default Prediction - Ensemble  2022-07-24 14:26:44  Notebook Amex Default Prediction - Ensemble | Version 16  complete  0.798                      \n",
            "Amex Default Prediction - Ensemble  2022-07-24 14:22:52  Notebook Amex Default Prediction - Ensemble | Version 15  complete  0.798                      \n",
            "submission_cat_v1_seed42_fold5.csv  2022-07-24 13:58:18  Run with round 2 cat                                      complete  0.796                      \n",
            "submission_lgb_v1_seed42_fold5.csv  2022-07-23 16:48:14  the first version. fe lag plus seed 52 fold 5 From colab  complete  0.797                      \n",
            "Amex Default Prediction - Ensemble  2022-07-23 11:15:04  Notebook Amex Default Prediction - Ensemble | Version 14  complete  0.798                      \n",
            "Amex Default Prediction - Ensemble  2022-07-23 11:08:12  Notebook Amex Default Prediction - Ensemble | Version 13  complete  0.798                      \n",
            "submission_xgb_v1_seed42_fold5.csv  2022-07-23 10:58:31  From colab seed 42 fold 5 lag plus                        complete  0.795                      \n",
            "submission_cat_v1_seed42_fold5.csv  2022-07-23 09:53:21  From colab seed 42 fold 5 lag plus                        complete  0.796                      \n",
            "Amex Default Prediction - Ensemble  2022-07-22 12:32:58  Notebook Amex Default Prediction - Ensemble | Version 12  complete  0.798                      \n",
            "Amex Default Prediction - Ensemble  2022-07-22 12:30:01  Notebook Amex Default Prediction - Ensemble | Version 11  complete  0.798                      \n",
            "submission_xgb_v1_seed42_fold2.csv  2022-07-22 12:19:29  From colab seed 42 fold 5 lag plus                        complete  0.794                      \n",
            "Amex Default Prediction - Ensemble  2022-07-21 12:48:16  Notebook Amex Default Prediction - Ensemble | Version 9   complete  0.798                      \n",
            "submission_xgb_v1_seed42_fold5.csv  2022-07-21 12:36:23  From colab seed 42 fold 5 lag plus                        complete  0.794                      \n",
            "Amex Default Prediction - Ensemble  2022-07-20 17:29:34  Notebook Amex Default Prediction - Ensemble | Version 8   complete  0.798                      \n",
            "Amex Default Prediction - Ensemble  2022-07-20 17:13:37  Notebook Amex Default Prediction - Ensemble | Version 7   complete  0.798                      \n",
            "Amex Default Prediction - Ensemble  2022-07-20 17:10:16  Notebook Amex Default Prediction - Ensemble | Version 6   complete  0.798                      \n",
            "Amex Default Prediction - Ensemble  2022-07-20 17:08:15  Notebook Amex Default Prediction - Ensemble | Version 5   complete  0.798                      \n",
            "submission_xgb_v1_seed42_fold5.csv  2022-07-20 16:58:31  From colab seed 42 fold 5 lag plus                        complete  0.794                      \n",
            "submission_cat_v1_seed42_fold5.csv  2022-07-19 17:31:52  From colab seed 42 fold 5 lag plus                        complete  0.795                      \n",
            "Amex Default Prediction - Ensemble  2022-07-19 16:37:40  Notebook Amex Default Prediction - Ensemble | Version 4   complete  0.798                      \n",
            "Amex Default Prediction - Ensemble  2022-07-19 16:34:17  Notebook Amex Default Prediction - Ensemble | Version 2   complete  0.798                      \n",
            "submission_cat_v1_seed42_fold5.csv  2022-07-19 12:11:59  From colab seed 42 fold 5 lag plus                        complete  0.795                      \n",
            "Amex Default Prediction with Cat    2022-07-18 23:01:33  Notebook Amex Default Prediction with Cat | Version 129   complete  0.798                      \n",
            "Amex Default Prediction with Cat    2022-07-18 22:58:51  Notebook Amex Default Prediction with Cat | Version 128   complete  0.798                      \n",
            "submission_cat_v1_seed42_fold5.csv  2022-07-18 22:27:50  From colab seed 42 fold 5 lag plus                        complete  0.795                      \n",
            "submission_lgb_v1_seed42_fold5.csv  2022-07-18 20:37:22  the first version. fe lag plus seed 52 fold 5 From colab  complete  0.797                      \n",
            "submission_cat_v1.csv               2022-07-18 06:30:57  From colab seed 42 fold 5 lag plus                        complete  0.795                      \n",
            "Amex Default Prediction with Cat    2022-07-16 16:14:20  Notebook Amex Default Prediction with Cat | Version 125   complete  0.794                      \n",
            "Amex Default Prediction with Cat    2022-07-15 16:33:32  Notebook Amex Default Prediction with Cat | Version 127   complete  0.798                      \n",
            "Amex Default Prediction with Cat    2022-07-15 16:24:25  Notebook Amex Default Prediction with Cat | Version 126   complete  0.798                      \n",
            "submission_cat_v123_seed52_794.csv  2022-07-15 16:12:09                                                            complete  0.795                      \n",
            "submission_cat_v123_0794.csv        2022-07-15 15:47:08                                                            complete  0.795                      \n",
            "Amex Default Prediction with Cat    2022-07-15 13:53:07  Notebook Amex Default Prediction with Cat | Version 123   complete  0.798                      \n",
            "Amex Default Prediction with Cat    2022-07-12 10:17:49  Notebook Amex Default Prediction with Cat | Version 122   complete  0.794                      \n",
            "Amex Default Prediction with Cat    2022-07-11 16:41:48  Notebook Amex Default Prediction with Cat | Version 119   complete  0.794                      \n",
            "Amex Default Prediction with Cat    2022-07-11 13:00:10  Notebook Amex Default Prediction with Cat | Version 116   complete  0.794                      \n",
            "Amex Default Prediction with Cat    2022-07-10 12:29:19  Notebook Amex Default Prediction with Cat | Version 115   complete  0.798                      \n",
            "Amex Default Prediction with Cat    2022-07-10 12:26:36  Notebook Amex Default Prediction with Cat | Version 114   complete  0.797                      \n",
            "Amex Default Prediction with Cat    2022-07-10 07:38:14  Notebook Amex Default Prediction with Cat | Version 109   complete  0.798                      \n",
            "Amex Default Prediction with Cat    2022-07-10 07:34:41  Notebook Amex Default Prediction with Cat | Version 108   complete  0.798                      \n",
            "Amex Default Prediction with Cat    2022-07-10 07:31:41  Notebook Amex Default Prediction with Cat | Version 107   complete  0.798                      \n"
          ]
        }
      ],
      "source": [
        "# Run after few seconds\n",
        "!kaggle competitions submissions amex-default-prediction"
      ],
      "id": "aad5cc1a"
    }
  ],
  "metadata": {
    "kernelspec": {
      "display_name": "Python 3",
      "language": "python",
      "name": "python3"
    },
    "language_info": {
      "codemirror_mode": {
        "name": "ipython",
        "version": 3
      },
      "file_extension": ".py",
      "mimetype": "text/x-python",
      "name": "python",
      "nbconvert_exporter": "python",
      "pygments_lexer": "ipython3",
      "version": "3.7.12"
    },
    "papermill": {
      "default_parameters": {},
      "duration": 1350.063162,
      "end_time": "2022-07-04T14:00:08.785368",
      "environment_variables": {},
      "exception": null,
      "input_path": "__notebook__.ipynb",
      "output_path": "__notebook__.ipynb",
      "parameters": {},
      "start_time": "2022-07-04T13:37:38.722206",
      "version": "2.3.4"
    },
    "colab": {
      "name": "amex-default-prediction-xgb.ipynb",
      "provenance": [],
      "machine_shape": "hm"
    },
    "gpuClass": "standard",
    "accelerator": "GPU"
  },
  "nbformat": 4,
  "nbformat_minor": 5
}
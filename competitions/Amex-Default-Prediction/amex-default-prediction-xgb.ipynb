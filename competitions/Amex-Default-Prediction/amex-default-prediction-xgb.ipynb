{
  "cells": [
    {
      "cell_type": "markdown",
      "metadata": {
        "papermill": {
          "duration": 0.009252,
          "end_time": "2022-07-15T16:13:27.338460",
          "exception": false,
          "start_time": "2022-07-15T16:13:27.329208",
          "status": "completed"
        },
        "tags": [],
        "id": "ec8911a0"
      },
      "source": [
        "# Prepare for colab"
      ],
      "id": "ec8911a0"
    },
    {
      "cell_type": "code",
      "execution_count": 1,
      "metadata": {
        "execution": {
          "iopub.execute_input": "2022-07-15T16:13:27.400098Z",
          "iopub.status.busy": "2022-07-15T16:13:27.399391Z",
          "iopub.status.idle": "2022-07-15T16:13:27.403356Z",
          "shell.execute_reply": "2022-07-15T16:13:27.402606Z"
        },
        "papermill": {
          "duration": 0.015568,
          "end_time": "2022-07-15T16:13:27.405067",
          "exception": false,
          "start_time": "2022-07-15T16:13:27.389499",
          "status": "completed"
        },
        "tags": [],
        "id": "bad112fb",
        "colab": {
          "base_uri": "https://localhost:8080/"
        },
        "outputId": "6be34b9e-c91d-4707-81b7-c758ffb2c5fe"
      },
      "outputs": [
        {
          "output_type": "stream",
          "name": "stdout",
          "text": [
            "Looking in indexes: https://pypi.org/simple, https://us-python.pkg.dev/colab-wheels/public/simple/\n",
            "Requirement already satisfied: xgboost in /usr/local/lib/python3.7/dist-packages (0.90)\n",
            "Collecting xgboost\n",
            "  Downloading xgboost-1.6.1-py3-none-manylinux2014_x86_64.whl (192.9 MB)\n",
            "\u001b[K     |████████████████████████████████| 192.9 MB 62 kB/s \n",
            "\u001b[?25hRequirement already satisfied: numpy in /usr/local/lib/python3.7/dist-packages (from xgboost) (1.21.6)\n",
            "Requirement already satisfied: scipy in /usr/local/lib/python3.7/dist-packages (from xgboost) (1.7.3)\n",
            "Installing collected packages: xgboost\n",
            "  Attempting uninstall: xgboost\n",
            "    Found existing installation: xgboost 0.90\n",
            "    Uninstalling xgboost-0.90:\n",
            "      Successfully uninstalled xgboost-0.90\n",
            "Successfully installed xgboost-1.6.1\n",
            "Looking in indexes: https://pypi.org/simple, https://us-python.pkg.dev/colab-wheels/public/simple/\n",
            "Requirement already satisfied: kaggle in /usr/local/lib/python3.7/dist-packages (1.5.12)\n",
            "Requirement already satisfied: six>=1.10 in /usr/local/lib/python3.7/dist-packages (from kaggle) (1.15.0)\n",
            "Requirement already satisfied: python-dateutil in /usr/local/lib/python3.7/dist-packages (from kaggle) (2.8.2)\n",
            "Requirement already satisfied: certifi in /usr/local/lib/python3.7/dist-packages (from kaggle) (2022.6.15)\n",
            "Requirement already satisfied: python-slugify in /usr/local/lib/python3.7/dist-packages (from kaggle) (6.1.2)\n",
            "Requirement already satisfied: requests in /usr/local/lib/python3.7/dist-packages (from kaggle) (2.23.0)\n",
            "Requirement already satisfied: urllib3 in /usr/local/lib/python3.7/dist-packages (from kaggle) (1.24.3)\n",
            "Requirement already satisfied: tqdm in /usr/local/lib/python3.7/dist-packages (from kaggle) (4.64.0)\n",
            "Requirement already satisfied: text-unidecode>=1.3 in /usr/local/lib/python3.7/dist-packages (from python-slugify->kaggle) (1.3)\n",
            "Requirement already satisfied: idna<3,>=2.5 in /usr/local/lib/python3.7/dist-packages (from requests->kaggle) (2.10)\n",
            "Requirement already satisfied: chardet<4,>=3.0.2 in /usr/local/lib/python3.7/dist-packages (from requests->kaggle) (3.0.4)\n"
          ]
        }
      ],
      "source": [
        "!pip install xgboost -U\n",
        "!pip install kaggle"
      ],
      "id": "bad112fb"
    },
    {
      "cell_type": "markdown",
      "metadata": {
        "papermill": {
          "duration": 0.008806,
          "end_time": "2022-07-15T16:13:27.422550",
          "exception": false,
          "start_time": "2022-07-15T16:13:27.413744",
          "status": "completed"
        },
        "tags": [],
        "id": "3fa90515"
      },
      "source": [
        "## Upload API Token"
      ],
      "id": "3fa90515"
    },
    {
      "cell_type": "code",
      "execution_count": 2,
      "metadata": {
        "execution": {
          "iopub.execute_input": "2022-07-15T16:13:27.442237Z",
          "iopub.status.busy": "2022-07-15T16:13:27.441555Z",
          "iopub.status.idle": "2022-07-15T16:13:27.448196Z",
          "shell.execute_reply": "2022-07-15T16:13:27.447549Z"
        },
        "papermill": {
          "duration": 0.01814,
          "end_time": "2022-07-15T16:13:27.449796",
          "exception": false,
          "start_time": "2022-07-15T16:13:27.431656",
          "status": "completed"
        },
        "tags": [],
        "id": "54e44e29",
        "colab": {
          "base_uri": "https://localhost:8080/"
        },
        "outputId": "5dd5d529-1fc1-48b4-f29a-b87a6de2aacc"
      },
      "outputs": [
        {
          "output_type": "stream",
          "name": "stdout",
          "text": [
            "Mounted at /content/drive\n"
          ]
        }
      ],
      "source": [
        "from google.colab import drive\n",
        "drive.mount('/content/drive')\n",
        "\n",
        "# Then move kaggle.json into the folder where the API expects to find it.\n",
        "!mkdir -p ~/.kaggle/ && cp /content/drive/MyDrive/backups/kaggle.json ~/.kaggle/ && chmod 600 ~/.kaggle/kaggle.json"
      ],
      "id": "54e44e29"
    },
    {
      "cell_type": "markdown",
      "metadata": {
        "papermill": {
          "duration": 0.008512,
          "end_time": "2022-07-15T16:13:27.467327",
          "exception": false,
          "start_time": "2022-07-15T16:13:27.458815",
          "status": "completed"
        },
        "tags": [],
        "id": "1abbc588"
      },
      "source": [
        "## Download and unzip dataset"
      ],
      "id": "1abbc588"
    },
    {
      "cell_type": "code",
      "execution_count": 3,
      "metadata": {
        "execution": {
          "iopub.execute_input": "2022-07-15T16:13:27.486038Z",
          "iopub.status.busy": "2022-07-15T16:13:27.485615Z",
          "iopub.status.idle": "2022-07-15T16:13:27.490276Z",
          "shell.execute_reply": "2022-07-15T16:13:27.489580Z"
        },
        "papermill": {
          "duration": 0.016071,
          "end_time": "2022-07-15T16:13:27.491993",
          "exception": false,
          "start_time": "2022-07-15T16:13:27.475922",
          "status": "completed"
        },
        "tags": [],
        "id": "c17f8dd7",
        "colab": {
          "base_uri": "https://localhost:8080/"
        },
        "outputId": "7d150e6f-9bd4-49aa-ce68-283e345f2190"
      },
      "outputs": [
        {
          "output_type": "stream",
          "name": "stdout",
          "text": [
            "Downloading amex-fe-plus.zip to /content\n",
            "100% 3.85G/3.85G [00:32<00:00, 123MB/s]\n",
            "100% 3.85G/3.85G [00:32<00:00, 129MB/s]\n",
            "Archive:  /content/amex-fe-plus.zip\n",
            "  inflating: test_fe_plus_plus.parquet  \n",
            "  inflating: train_fe_plus_plus.parquet  \n"
          ]
        }
      ],
      "source": [
        "!kaggle datasets download -d ryuina/amex-fe-plus\n",
        "!unzip /content/amex-fe-plus.zip"
      ],
      "id": "c17f8dd7"
    },
    {
      "cell_type": "code",
      "execution_count": 4,
      "metadata": {
        "execution": {
          "iopub.execute_input": "2022-07-15T16:13:27.515341Z",
          "iopub.status.busy": "2022-07-15T16:13:27.514880Z",
          "iopub.status.idle": "2022-07-15T16:13:27.523654Z",
          "shell.execute_reply": "2022-07-15T16:13:27.522700Z"
        },
        "papermill": {
          "duration": 0.025128,
          "end_time": "2022-07-15T16:13:27.526436",
          "exception": false,
          "start_time": "2022-07-15T16:13:27.501308",
          "status": "completed"
        },
        "tags": [],
        "id": "e4df1701",
        "colab": {
          "base_uri": "https://localhost:8080/"
        },
        "outputId": "e6278bb6-0f3e-4bcf-ff73-7c485335a1c5"
      },
      "outputs": [
        {
          "output_type": "stream",
          "name": "stdout",
          "text": [
            "Downloading sample_submission.csv.zip to /content\n",
            " 99% 32.0M/32.4M [00:00<00:00, 165MB/s] \n",
            "100% 32.4M/32.4M [00:00<00:00, 144MB/s]\n",
            "Archive:  /content/sample_submission.csv.zip\n",
            "  inflating: sample_submission.csv   \n"
          ]
        }
      ],
      "source": [
        "!kaggle competitions download -c amex-default-prediction -f sample_submission.csv\n",
        "!unzip /content/sample_submission.csv.zip"
      ],
      "id": "e4df1701"
    },
    {
      "cell_type": "code",
      "source": [
        "!kaggle competitions download -c amex-default-prediction -f train_labels.csv\n",
        "!unzip /content/train_labels.csv.zip"
      ],
      "metadata": {
        "colab": {
          "base_uri": "https://localhost:8080/"
        },
        "id": "AVz5ZOwL-mic",
        "outputId": "965bdd0e-7a65-421f-feb9-4f987cd86ad7"
      },
      "id": "AVz5ZOwL-mic",
      "execution_count": 5,
      "outputs": [
        {
          "output_type": "stream",
          "name": "stdout",
          "text": [
            "Downloading train_labels.csv.zip to /content\n",
            "\r  0% 0.00/16.2M [00:00<?, ?B/s]\r 56% 9.00M/16.2M [00:00<00:00, 86.0MB/s]\n",
            "\r100% 16.2M/16.2M [00:00<00:00, 128MB/s] \n",
            "Archive:  /content/train_labels.csv.zip\n",
            "  inflating: train_labels.csv        \n"
          ]
        }
      ]
    },
    {
      "cell_type": "markdown",
      "source": [
        "# Training"
      ],
      "metadata": {
        "id": "Sc_uUzZtcYfw"
      },
      "id": "Sc_uUzZtcYfw"
    },
    {
      "cell_type": "code",
      "execution_count": 1,
      "id": "75a923db",
      "metadata": {
        "_cell_guid": "b1076dfc-b9ad-4769-8c92-a6c4dae69d19",
        "_uuid": "8f2839f25d086af736a60e9eeb907d3b93b6e0e5",
        "execution": {
          "iopub.execute_input": "2022-07-04T13:37:46.871349Z",
          "iopub.status.busy": "2022-07-04T13:37:46.870600Z",
          "iopub.status.idle": "2022-07-04T13:37:50.917325Z",
          "shell.execute_reply": "2022-07-04T13:37:50.916525Z"
        },
        "papermill": {
          "duration": 4.059938,
          "end_time": "2022-07-04T13:37:50.919741",
          "exception": false,
          "start_time": "2022-07-04T13:37:46.859803",
          "status": "completed"
        },
        "tags": [],
        "id": "75a923db"
      },
      "outputs": [],
      "source": [
        "import pandas as pd\n",
        "import numpy as np\n",
        "import random\n",
        "import matplotlib.pyplot\n",
        "import os\n",
        "import gc; gc.enable()\n",
        "\n",
        "from sklearn.preprocessing import LabelEncoder\n",
        "from tqdm import tqdm\n",
        "\n",
        "import warnings\n",
        "warnings.filterwarnings('ignore')"
      ]
    },
    {
      "cell_type": "code",
      "execution_count": 2,
      "id": "b06e1731",
      "metadata": {
        "execution": {
          "iopub.execute_input": "2022-07-04T13:37:50.930838Z",
          "iopub.status.busy": "2022-07-04T13:37:50.930542Z",
          "iopub.status.idle": "2022-07-04T13:37:50.934301Z",
          "shell.execute_reply": "2022-07-04T13:37:50.933487Z"
        },
        "papermill": {
          "duration": 0.011323,
          "end_time": "2022-07-04T13:37:50.936212",
          "exception": false,
          "start_time": "2022-07-04T13:37:50.924889",
          "status": "completed"
        },
        "tags": [],
        "id": "b06e1731"
      },
      "outputs": [],
      "source": [
        "VER=5\n",
        "SEED = 42\n",
        "FOLDS = 5\n",
        "\n",
        "cat_features = [\"B_30\", \"B_38\", \"D_114\", \"D_116\", \"D_117\", \"D_120\", \"D_126\", \"D_63\", \"D_64\", \"D_66\", \"D_68\"]\n",
        "\n",
        "def seed_everything(seed):\n",
        "    random.seed(seed)\n",
        "    np.random.seed(seed)\n",
        "    os.environ['PYTHONHASHSEED'] = str(seed)\n",
        "\n",
        "seed_everything(SEED)"
      ]
    },
    {
      "cell_type": "code",
      "execution_count": 3,
      "id": "d8f2573f",
      "metadata": {
        "execution": {
          "iopub.execute_input": "2022-07-04T13:37:50.966158Z",
          "iopub.status.busy": "2022-07-04T13:37:50.965558Z",
          "iopub.status.idle": "2022-07-04T13:38:12.628753Z",
          "shell.execute_reply": "2022-07-04T13:38:12.627666Z"
        },
        "papermill": {
          "duration": 21.671053,
          "end_time": "2022-07-04T13:38:12.631246",
          "exception": false,
          "start_time": "2022-07-04T13:37:50.960193",
          "status": "completed"
        },
        "tags": [],
        "id": "d8f2573f"
      },
      "outputs": [],
      "source": [
        "train = pd.read_parquet(\"/content/train_fe_plus_plus.parquet\")\n",
        "# train = train.reset_index(level=0)"
      ]
    },
    {
      "cell_type": "code",
      "execution_count": 4,
      "id": "64d772da",
      "metadata": {
        "execution": {
          "iopub.execute_input": "2022-07-04T13:38:12.881106Z",
          "iopub.status.busy": "2022-07-04T13:38:12.880449Z",
          "iopub.status.idle": "2022-07-04T13:38:12.888042Z",
          "shell.execute_reply": "2022-07-04T13:38:12.887178Z"
        },
        "papermill": {
          "duration": 0.01539,
          "end_time": "2022-07-04T13:38:12.889725",
          "exception": false,
          "start_time": "2022-07-04T13:38:12.874335",
          "status": "completed"
        },
        "tags": [],
        "id": "64d772da",
        "outputId": "f1869651-a310-406c-eeea-c1c9b9b83f68",
        "colab": {
          "base_uri": "https://localhost:8080/"
        }
      },
      "outputs": [
        {
          "output_type": "stream",
          "name": "stderr",
          "text": [
            "100%|██████████| 1461/1461 [01:54<00:00, 12.80it/s] \n"
          ]
        }
      ],
      "source": [
        "# https://www.kaggle.com/code/ragnar123/amex-lgbm-dart-cv-0-7963\n",
        "# Round last float features to 2 decimal place\n",
        "float_cols = list(train.dtypes[(train.dtypes == 'float32') | (train.dtypes == 'float64')].index)\n",
        "float_cols = [col for col in float_cols if 'last' in col]\n",
        "\n",
        "for col in float_cols:\n",
        "    train[col + '_round2'] = train[col].round(2)\n",
        "\n",
        "num_cols = [col for col in train.columns if 'last' in col]\n",
        "num_cols = [col[:-5] for col in num_cols if 'round' not in col]\n",
        "for col in num_cols:\n",
        "    try:\n",
        "        # train[f'{col}_mean_min'] = train[f'{col}_mean'] - train[f'{col}_min']\n",
        "        train[f'{col}_last_min'] = train[f'{col}_last'] - train[f'{col}_min']\n",
        "        train[f'{col}_last_max'] = train[f'{col}_last'] - train[f'{col}_max']\n",
        "        train[f'{col}_last_s2'] = (train[f'{col}_last'] / train['S_2_lag']).round(2)\n",
        "    except: pass\n",
        "num_cols = list(train.dtypes[(train.dtypes == 'float32') | (train.dtypes == 'float64')].index)\n",
        "for col in tqdm(num_cols):\n",
        "    train[col] = train[col].astype(np.float16)\n",
        "\n",
        "train.replace([np.nan, np.inf, -np.inf], -127, inplace=True)"
      ]
    },
    {
      "cell_type": "code",
      "execution_count": 5,
      "id": "e9e4628c",
      "metadata": {
        "execution": {
          "iopub.execute_input": "2022-07-04T13:38:12.901239Z",
          "iopub.status.busy": "2022-07-04T13:38:12.900951Z",
          "iopub.status.idle": "2022-07-04T13:38:14.055784Z",
          "shell.execute_reply": "2022-07-04T13:38:14.054043Z"
        },
        "papermill": {
          "duration": 1.163442,
          "end_time": "2022-07-04T13:38:14.058383",
          "exception": false,
          "start_time": "2022-07-04T13:38:12.894941",
          "status": "completed"
        },
        "tags": [],
        "id": "e9e4628c"
      },
      "outputs": [],
      "source": [
        "train = train.set_index('customer_ID')\n",
        "train = train.sort_index().reset_index()\n",
        "FEATURES = train.drop(columns=['customer_ID', 'target']).columns"
      ]
    },
    {
      "cell_type": "code",
      "execution_count": 6,
      "id": "d98b705b",
      "metadata": {
        "execution": {
          "iopub.execute_input": "2022-07-04T13:38:15.369855Z",
          "iopub.status.busy": "2022-07-04T13:38:15.369570Z",
          "iopub.status.idle": "2022-07-04T13:38:15.468113Z",
          "shell.execute_reply": "2022-07-04T13:38:15.466877Z"
        },
        "papermill": {
          "duration": 0.106496,
          "end_time": "2022-07-04T13:38:15.469835",
          "exception": false,
          "start_time": "2022-07-04T13:38:15.363339",
          "status": "completed"
        },
        "tags": [],
        "id": "d98b705b",
        "colab": {
          "base_uri": "https://localhost:8080/"
        },
        "outputId": "b980d5dd-24cc-4037-c341-0f294c392028"
      },
      "outputs": [
        {
          "output_type": "stream",
          "name": "stdout",
          "text": [
            "XGB Version 1.6.1\n"
          ]
        }
      ],
      "source": [
        "# LOAD XGB LIBRARY\n",
        "from sklearn.model_selection import KFold\n",
        "import xgboost as xgb\n",
        "print('XGB Version',xgb.__version__)\n",
        "\n",
        "# XGB MODEL PARAMETERS\n",
        "xgb_parms = {\n",
        "    'max_depth':7,\n",
        "    'eta':0.01,\n",
        "    'subsample':0.75,\n",
        "    'colsample_bytree':0.35,\n",
        "    'min_child_weight':8,\n",
        "    # 'booster': 'dart',\n",
        "#     'max_delta_step': 16,\n",
        "    'eval_metric':['logloss', 'auc'],\n",
        "    'gamma':1.5,\n",
        "    'lambda':70,\n",
        "#     'reg_alpha':2,\n",
        "#     'reg_lambda':2,\n",
        "#     'scale_pos_weight':2.5,\n",
        "#     'eval_metric':'logloss',\n",
        "    'objective':'binary:logistic',\n",
        "    'tree_method':'gpu_hist',\n",
        "    'predictor':'gpu_predictor',\n",
        "    'random_state':SEED\n",
        "}"
      ]
    },
    {
      "cell_type": "code",
      "execution_count": 7,
      "id": "89f2c8a7",
      "metadata": {
        "execution": {
          "iopub.execute_input": "2022-07-04T13:38:15.503475Z",
          "iopub.status.busy": "2022-07-04T13:38:15.503227Z",
          "iopub.status.idle": "2022-07-04T13:38:15.511646Z",
          "shell.execute_reply": "2022-07-04T13:38:15.510996Z"
        },
        "papermill": {
          "duration": 0.01593,
          "end_time": "2022-07-04T13:38:15.513211",
          "exception": false,
          "start_time": "2022-07-04T13:38:15.497281",
          "status": "completed"
        },
        "tags": [],
        "id": "89f2c8a7"
      },
      "outputs": [],
      "source": [
        "# https://www.kaggle.com/competitions/amex-default-prediction/discussion/328020\n",
        "import numpy as np\n",
        "\n",
        "def amex_metric_numpy(y_true: np.array, y_pred: np.array) -> float:\n",
        "\n",
        "    # count of positives and negatives\n",
        "    n_pos = y_true.sum()\n",
        "    n_neg = y_true.shape[0] - n_pos\n",
        "\n",
        "    # sorting by descring prediction values\n",
        "    indices = np.argsort(y_pred)[::-1]\n",
        "    preds, target = y_pred[indices], y_true[indices]\n",
        "\n",
        "    # filter the top 4% by cumulative row weights\n",
        "    weight = 20.0 - target * 19.0\n",
        "    cum_norm_weight = (weight / weight.sum()).cumsum()\n",
        "    four_pct_filter = cum_norm_weight <= 0.04\n",
        "\n",
        "    # default rate captured at 4%\n",
        "    d = target[four_pct_filter].sum() / n_pos\n",
        "\n",
        "    # weighted gini coefficient\n",
        "    lorentz = (target / n_pos).cumsum()\n",
        "    gini = ((lorentz - cum_norm_weight) * weight).sum()\n",
        "\n",
        "    # max weighted gini coefficient\n",
        "    gini_max = 10 * n_neg * (1 - 19 / (n_pos + 20 * n_neg))\n",
        "\n",
        "    # normalized weighted gini coefficient\n",
        "    g = gini / gini_max\n",
        "\n",
        "    return 0.5 * (g + d)\n",
        "\n",
        "def xgb_amex(y_pred, y_true):\n",
        "    return 'amex', amex_metric_numpy(y_true.get_label(), y_pred)"
      ]
    },
    {
      "cell_type": "code",
      "execution_count": 8,
      "id": "1b3c3440",
      "metadata": {
        "execution": {
          "iopub.execute_input": "2022-07-04T13:38:15.524655Z",
          "iopub.status.busy": "2022-07-04T13:38:15.524403Z",
          "iopub.status.idle": "2022-07-04T13:57:20.743694Z",
          "shell.execute_reply": "2022-07-04T13:57:20.742632Z"
        },
        "papermill": {
          "duration": 1145.227069,
          "end_time": "2022-07-04T13:57:20.745545",
          "exception": false,
          "start_time": "2022-07-04T13:38:15.518476",
          "status": "completed"
        },
        "tags": [],
        "id": "1b3c3440",
        "colab": {
          "base_uri": "https://localhost:8080/"
        },
        "outputId": "efebb63a-90bd-4f32-9d19-ba4d24517a85"
      },
      "outputs": [
        {
          "output_type": "stream",
          "name": "stdout",
          "text": [
            "#########################\n",
            "### Fold 1\n",
            "### Train size 367130 Valid size 91783\n",
            "#########################\n",
            "[0]\ttrain-logloss:0.68663\ttrain-auc:0.93515\ttrain-amex:0.70586\teval-logloss:0.68666\teval-auc:0.93254\teval-amex:0.69838\n",
            "[200]\ttrain-logloss:0.27495\ttrain-auc:0.95660\ttrain-amex:0.77290\teval-logloss:0.27896\teval-auc:0.95346\teval-amex:0.76433\n",
            "[400]\ttrain-logloss:0.22868\ttrain-auc:0.96035\ttrain-amex:0.78720\teval-logloss:0.23586\teval-auc:0.95649\teval-amex:0.77523\n",
            "[600]\ttrain-logloss:0.21688\ttrain-auc:0.96285\ttrain-amex:0.79870\teval-logloss:0.22694\teval-auc:0.95823\teval-amex:0.78141\n",
            "[800]\ttrain-logloss:0.21032\ttrain-auc:0.96484\ttrain-amex:0.80812\teval-logloss:0.22331\teval-auc:0.95932\teval-amex:0.78573\n",
            "[1000]\ttrain-logloss:0.20568\ttrain-auc:0.96636\ttrain-amex:0.81514\teval-logloss:0.22137\teval-auc:0.95997\teval-amex:0.78788\n",
            "[1200]\ttrain-logloss:0.20187\ttrain-auc:0.96763\ttrain-amex:0.82091\teval-logloss:0.22012\teval-auc:0.96040\teval-amex:0.78963\n",
            "[1400]\ttrain-logloss:0.19839\ttrain-auc:0.96883\ttrain-amex:0.82678\teval-logloss:0.21923\teval-auc:0.96071\teval-amex:0.79084\n",
            "[1600]\ttrain-logloss:0.19525\ttrain-auc:0.96990\ttrain-amex:0.83185\teval-logloss:0.21854\teval-auc:0.96095\teval-amex:0.79148\n",
            "[1800]\ttrain-logloss:0.19237\ttrain-auc:0.97089\ttrain-amex:0.83654\teval-logloss:0.21806\teval-auc:0.96112\teval-amex:0.79235\n",
            "[2000]\ttrain-logloss:0.18961\ttrain-auc:0.97184\ttrain-amex:0.84147\teval-logloss:0.21770\teval-auc:0.96125\teval-amex:0.79237\n",
            "[2200]\ttrain-logloss:0.18694\ttrain-auc:0.97275\ttrain-amex:0.84612\teval-logloss:0.21741\teval-auc:0.96135\teval-amex:0.79309\n",
            "[2400]\ttrain-logloss:0.18447\ttrain-auc:0.97360\ttrain-amex:0.85055\teval-logloss:0.21717\teval-auc:0.96144\teval-amex:0.79401\n",
            "[2600]\ttrain-logloss:0.18198\ttrain-auc:0.97445\ttrain-amex:0.85447\teval-logloss:0.21696\teval-auc:0.96152\teval-amex:0.79470\n",
            "[2800]\ttrain-logloss:0.17954\ttrain-auc:0.97528\ttrain-amex:0.85925\teval-logloss:0.21679\teval-auc:0.96158\teval-amex:0.79502\n",
            "[3000]\ttrain-logloss:0.17708\ttrain-auc:0.97612\ttrain-amex:0.86364\teval-logloss:0.21667\teval-auc:0.96163\teval-amex:0.79549\n",
            "[3200]\ttrain-logloss:0.17477\ttrain-auc:0.97689\ttrain-amex:0.86777\teval-logloss:0.21654\teval-auc:0.96168\teval-amex:0.79558\n",
            "[3400]\ttrain-logloss:0.17248\ttrain-auc:0.97766\ttrain-amex:0.87174\teval-logloss:0.21644\teval-auc:0.96171\teval-amex:0.79520\n",
            "[3600]\ttrain-logloss:0.17028\ttrain-auc:0.97839\ttrain-amex:0.87572\teval-logloss:0.21636\teval-auc:0.96175\teval-amex:0.79529\n",
            "[3800]\ttrain-logloss:0.16807\ttrain-auc:0.97911\ttrain-amex:0.87960\teval-logloss:0.21629\teval-auc:0.96177\teval-amex:0.79515\n",
            "[3883]\ttrain-logloss:0.16717\ttrain-auc:0.97941\ttrain-amex:0.88133\teval-logloss:0.21628\teval-auc:0.96178\teval-amex:0.79522\n",
            "Kaggle Metric = 0.7951469868099885 \n",
            "\n",
            "#########################\n",
            "### Fold 2\n",
            "### Train size 367130 Valid size 91783\n",
            "#########################\n",
            "[0]\ttrain-logloss:0.68663\ttrain-auc:0.93515\ttrain-amex:0.70846\teval-logloss:0.68664\teval-auc:0.93425\teval-amex:0.70489\n",
            "[200]\ttrain-logloss:0.27496\ttrain-auc:0.95659\ttrain-amex:0.77472\teval-logloss:0.27895\teval-auc:0.95419\teval-amex:0.76275\n",
            "[400]\ttrain-logloss:0.22869\ttrain-auc:0.96027\ttrain-amex:0.78854\teval-logloss:0.23570\teval-auc:0.95718\teval-amex:0.77328\n",
            "[600]\ttrain-logloss:0.21688\ttrain-auc:0.96275\ttrain-amex:0.79963\teval-logloss:0.22666\teval-auc:0.95887\teval-amex:0.78212\n",
            "[800]\ttrain-logloss:0.21037\ttrain-auc:0.96471\ttrain-amex:0.80863\teval-logloss:0.22297\teval-auc:0.95994\teval-amex:0.78621\n",
            "[1000]\ttrain-logloss:0.20569\ttrain-auc:0.96625\ttrain-amex:0.81541\teval-logloss:0.22094\teval-auc:0.96059\teval-amex:0.78911\n",
            "[1200]\ttrain-logloss:0.20173\ttrain-auc:0.96759\ttrain-amex:0.82147\teval-logloss:0.21963\teval-auc:0.96102\teval-amex:0.79011\n",
            "[1400]\ttrain-logloss:0.19832\ttrain-auc:0.96875\ttrain-amex:0.82748\teval-logloss:0.21869\teval-auc:0.96134\teval-amex:0.79125\n",
            "[1600]\ttrain-logloss:0.19523\ttrain-auc:0.96982\ttrain-amex:0.83299\teval-logloss:0.21803\teval-auc:0.96157\teval-amex:0.79171\n",
            "[1800]\ttrain-logloss:0.19230\ttrain-auc:0.97082\ttrain-amex:0.83781\teval-logloss:0.21754\teval-auc:0.96174\teval-amex:0.79257\n",
            "[2000]\ttrain-logloss:0.18952\ttrain-auc:0.97179\ttrain-amex:0.84261\teval-logloss:0.21718\teval-auc:0.96187\teval-amex:0.79320\n",
            "[2200]\ttrain-logloss:0.18686\ttrain-auc:0.97270\ttrain-amex:0.84738\teval-logloss:0.21685\teval-auc:0.96198\teval-amex:0.79367\n",
            "[2400]\ttrain-logloss:0.18427\ttrain-auc:0.97359\ttrain-amex:0.85190\teval-logloss:0.21661\teval-auc:0.96207\teval-amex:0.79365\n",
            "[2600]\ttrain-logloss:0.18178\ttrain-auc:0.97445\ttrain-amex:0.85645\teval-logloss:0.21640\teval-auc:0.96214\teval-amex:0.79379\n",
            "[2800]\ttrain-logloss:0.17929\ttrain-auc:0.97530\ttrain-amex:0.86066\teval-logloss:0.21621\teval-auc:0.96221\teval-amex:0.79459\n",
            "[3000]\ttrain-logloss:0.17683\ttrain-auc:0.97613\ttrain-amex:0.86513\teval-logloss:0.21607\teval-auc:0.96226\teval-amex:0.79514\n",
            "[3200]\ttrain-logloss:0.17442\ttrain-auc:0.97694\ttrain-amex:0.86937\teval-logloss:0.21595\teval-auc:0.96230\teval-amex:0.79497\n",
            "[3400]\ttrain-logloss:0.17215\ttrain-auc:0.97770\ttrain-amex:0.87353\teval-logloss:0.21584\teval-auc:0.96234\teval-amex:0.79483\n",
            "[3600]\ttrain-logloss:0.16992\ttrain-auc:0.97844\ttrain-amex:0.87715\teval-logloss:0.21576\teval-auc:0.96237\teval-amex:0.79505\n",
            "[3770]\ttrain-logloss:0.16799\ttrain-auc:0.97908\ttrain-amex:0.88086\teval-logloss:0.21568\teval-auc:0.96240\teval-amex:0.79474\n",
            "Kaggle Metric = 0.795001818772032 \n",
            "\n",
            "#########################\n",
            "### Fold 3\n",
            "### Train size 367130 Valid size 91783\n",
            "#########################\n",
            "[0]\ttrain-logloss:0.68664\ttrain-auc:0.93508\ttrain-amex:0.70855\teval-logloss:0.68664\teval-auc:0.93531\teval-amex:0.70486\n",
            "[200]\ttrain-logloss:0.27549\ttrain-auc:0.95631\ttrain-amex:0.77435\teval-logloss:0.27726\teval-auc:0.95543\teval-amex:0.76768\n",
            "[400]\ttrain-logloss:0.22923\ttrain-auc:0.96005\ttrain-amex:0.78922\teval-logloss:0.23339\teval-auc:0.95819\teval-amex:0.77728\n",
            "[600]\ttrain-logloss:0.21751\ttrain-auc:0.96254\ttrain-amex:0.79962\teval-logloss:0.22418\teval-auc:0.95981\teval-amex:0.78421\n",
            "[800]\ttrain-logloss:0.21106\ttrain-auc:0.96449\ttrain-amex:0.80851\teval-logloss:0.22051\teval-auc:0.96082\teval-amex:0.78902\n",
            "[1000]\ttrain-logloss:0.20642\ttrain-auc:0.96602\ttrain-amex:0.81583\teval-logloss:0.21848\teval-auc:0.96144\teval-amex:0.79181\n",
            "[1200]\ttrain-logloss:0.20258\ttrain-auc:0.96732\ttrain-amex:0.82145\teval-logloss:0.21714\teval-auc:0.96187\teval-amex:0.79404\n",
            "[1400]\ttrain-logloss:0.19920\ttrain-auc:0.96847\ttrain-amex:0.82724\teval-logloss:0.21626\teval-auc:0.96214\teval-amex:0.79381\n",
            "[1600]\ttrain-logloss:0.19614\ttrain-auc:0.96953\ttrain-amex:0.83262\teval-logloss:0.21562\teval-auc:0.96235\teval-amex:0.79467\n",
            "[1800]\ttrain-logloss:0.19322\ttrain-auc:0.97054\ttrain-amex:0.83725\teval-logloss:0.21513\teval-auc:0.96251\teval-amex:0.79491\n",
            "[2000]\ttrain-logloss:0.19051\ttrain-auc:0.97147\ttrain-amex:0.84172\teval-logloss:0.21474\teval-auc:0.96263\teval-amex:0.79613\n",
            "[2200]\ttrain-logloss:0.18785\ttrain-auc:0.97240\ttrain-amex:0.84656\teval-logloss:0.21447\teval-auc:0.96272\teval-amex:0.79624\n",
            "[2400]\ttrain-logloss:0.18523\ttrain-auc:0.97330\ttrain-amex:0.85090\teval-logloss:0.21422\teval-auc:0.96280\teval-amex:0.79676\n",
            "[2600]\ttrain-logloss:0.18282\ttrain-auc:0.97413\ttrain-amex:0.85520\teval-logloss:0.21396\teval-auc:0.96289\teval-amex:0.79740\n",
            "[2800]\ttrain-logloss:0.18041\ttrain-auc:0.97496\ttrain-amex:0.85947\teval-logloss:0.21376\teval-auc:0.96296\teval-amex:0.79729\n",
            "[3000]\ttrain-logloss:0.17818\ttrain-auc:0.97571\ttrain-amex:0.86347\teval-logloss:0.21359\teval-auc:0.96301\teval-amex:0.79744\n",
            "[3200]\ttrain-logloss:0.17584\ttrain-auc:0.97651\ttrain-amex:0.86796\teval-logloss:0.21346\teval-auc:0.96306\teval-amex:0.79790\n",
            "[3400]\ttrain-logloss:0.17354\ttrain-auc:0.97728\ttrain-amex:0.87210\teval-logloss:0.21336\teval-auc:0.96309\teval-amex:0.79743\n",
            "[3600]\ttrain-logloss:0.17132\ttrain-auc:0.97803\ttrain-amex:0.87598\teval-logloss:0.21326\teval-auc:0.96312\teval-amex:0.79778\n",
            "[3800]\ttrain-logloss:0.16912\ttrain-auc:0.97876\ttrain-amex:0.88030\teval-logloss:0.21317\teval-auc:0.96316\teval-amex:0.79766\n",
            "[4000]\ttrain-logloss:0.16690\ttrain-auc:0.97949\ttrain-amex:0.88455\teval-logloss:0.21308\teval-auc:0.96319\teval-amex:0.79843\n",
            "[4200]\ttrain-logloss:0.16475\ttrain-auc:0.98019\ttrain-amex:0.88828\teval-logloss:0.21299\teval-auc:0.96322\teval-amex:0.79882\n",
            "[4400]\ttrain-logloss:0.16256\ttrain-auc:0.98090\ttrain-amex:0.89196\teval-logloss:0.21292\teval-auc:0.96324\teval-amex:0.79844\n",
            "[4600]\ttrain-logloss:0.16050\ttrain-auc:0.98155\ttrain-amex:0.89557\teval-logloss:0.21285\teval-auc:0.96327\teval-amex:0.79870\n",
            "[4800]\ttrain-logloss:0.15849\ttrain-auc:0.98219\ttrain-amex:0.89905\teval-logloss:0.21277\teval-auc:0.96329\teval-amex:0.79910\n",
            "[5000]\ttrain-logloss:0.15650\ttrain-auc:0.98282\ttrain-amex:0.90269\teval-logloss:0.21273\teval-auc:0.96331\teval-amex:0.79925\n",
            "[5200]\ttrain-logloss:0.15458\ttrain-auc:0.98341\ttrain-amex:0.90621\teval-logloss:0.21271\teval-auc:0.96332\teval-amex:0.79858\n",
            "[5400]\ttrain-logloss:0.15273\ttrain-auc:0.98397\ttrain-amex:0.90929\teval-logloss:0.21265\teval-auc:0.96333\teval-amex:0.79845\n",
            "[5587]\ttrain-logloss:0.15091\ttrain-auc:0.98452\ttrain-amex:0.91256\teval-logloss:0.21261\teval-auc:0.96335\teval-amex:0.79813\n",
            "Kaggle Metric = 0.7982395432914577 \n",
            "\n",
            "#########################\n",
            "### Fold 4\n",
            "### Train size 367131 Valid size 91782\n",
            "#########################\n",
            "[0]\ttrain-logloss:0.68663\ttrain-auc:0.93595\ttrain-amex:0.71174\teval-logloss:0.68666\teval-auc:0.93475\teval-amex:0.70173\n",
            "[200]\ttrain-logloss:0.27472\ttrain-auc:0.95656\ttrain-amex:0.77497\teval-logloss:0.27968\teval-auc:0.95397\teval-amex:0.76040\n",
            "[400]\ttrain-logloss:0.22852\ttrain-auc:0.96026\ttrain-amex:0.78875\teval-logloss:0.23658\teval-auc:0.95690\teval-amex:0.77026\n",
            "[600]\ttrain-logloss:0.21672\ttrain-auc:0.96279\ttrain-amex:0.80000\teval-logloss:0.22744\teval-auc:0.95862\teval-amex:0.77788\n",
            "[800]\ttrain-logloss:0.21019\ttrain-auc:0.96476\ttrain-amex:0.80959\teval-logloss:0.22364\teval-auc:0.95975\teval-amex:0.78152\n",
            "[1000]\ttrain-logloss:0.20551\ttrain-auc:0.96629\ttrain-amex:0.81687\teval-logloss:0.22154\teval-auc:0.96044\teval-amex:0.78372\n",
            "[1200]\ttrain-logloss:0.20165\ttrain-auc:0.96759\ttrain-amex:0.82297\teval-logloss:0.22018\teval-auc:0.96090\teval-amex:0.78604\n",
            "[1400]\ttrain-logloss:0.19813\ttrain-auc:0.96880\ttrain-amex:0.82853\teval-logloss:0.21919\teval-auc:0.96124\teval-amex:0.78735\n",
            "[1600]\ttrain-logloss:0.19501\ttrain-auc:0.96986\ttrain-amex:0.83381\teval-logloss:0.21850\teval-auc:0.96149\teval-amex:0.78722\n",
            "[1800]\ttrain-logloss:0.19216\ttrain-auc:0.97085\ttrain-amex:0.83870\teval-logloss:0.21799\teval-auc:0.96167\teval-amex:0.78841\n",
            "[2000]\ttrain-logloss:0.18941\ttrain-auc:0.97180\ttrain-amex:0.84342\teval-logloss:0.21758\teval-auc:0.96182\teval-amex:0.78908\n",
            "[2200]\ttrain-logloss:0.18673\ttrain-auc:0.97272\ttrain-amex:0.84834\teval-logloss:0.21723\teval-auc:0.96194\teval-amex:0.78945\n",
            "[2400]\ttrain-logloss:0.18423\ttrain-auc:0.97358\ttrain-amex:0.85249\teval-logloss:0.21697\teval-auc:0.96203\teval-amex:0.78992\n",
            "[2600]\ttrain-logloss:0.18174\ttrain-auc:0.97443\ttrain-amex:0.85670\teval-logloss:0.21674\teval-auc:0.96211\teval-amex:0.78987\n",
            "[2800]\ttrain-logloss:0.17931\ttrain-auc:0.97526\ttrain-amex:0.86080\teval-logloss:0.21654\teval-auc:0.96218\teval-amex:0.79069\n",
            "[3000]\ttrain-logloss:0.17696\ttrain-auc:0.97606\ttrain-amex:0.86493\teval-logloss:0.21638\teval-auc:0.96224\teval-amex:0.79057\n",
            "[3200]\ttrain-logloss:0.17462\ttrain-auc:0.97685\ttrain-amex:0.86908\teval-logloss:0.21625\teval-auc:0.96228\teval-amex:0.79086\n",
            "[3400]\ttrain-logloss:0.17234\ttrain-auc:0.97761\ttrain-amex:0.87328\teval-logloss:0.21612\teval-auc:0.96233\teval-amex:0.79158\n",
            "[3600]\ttrain-logloss:0.17005\ttrain-auc:0.97838\ttrain-amex:0.87768\teval-logloss:0.21601\teval-auc:0.96237\teval-amex:0.79156\n",
            "[3800]\ttrain-logloss:0.16779\ttrain-auc:0.97913\ttrain-amex:0.88204\teval-logloss:0.21592\teval-auc:0.96241\teval-amex:0.79178\n",
            "[4000]\ttrain-logloss:0.16562\ttrain-auc:0.97984\ttrain-amex:0.88606\teval-logloss:0.21584\teval-auc:0.96243\teval-amex:0.79175\n",
            "[4200]\ttrain-logloss:0.16349\ttrain-auc:0.98052\ttrain-amex:0.88960\teval-logloss:0.21577\teval-auc:0.96246\teval-amex:0.79220\n",
            "[4400]\ttrain-logloss:0.16134\ttrain-auc:0.98121\ttrain-amex:0.89338\teval-logloss:0.21570\teval-auc:0.96249\teval-amex:0.79233\n",
            "[4600]\ttrain-logloss:0.15932\ttrain-auc:0.98185\ttrain-amex:0.89719\teval-logloss:0.21566\teval-auc:0.96251\teval-amex:0.79206\n",
            "[4800]\ttrain-logloss:0.15730\ttrain-auc:0.98249\ttrain-amex:0.90057\teval-logloss:0.21561\teval-auc:0.96254\teval-amex:0.79282\n",
            "[5000]\ttrain-logloss:0.15526\ttrain-auc:0.98312\ttrain-amex:0.90404\teval-logloss:0.21556\teval-auc:0.96256\teval-amex:0.79254\n",
            "[5200]\ttrain-logloss:0.15327\ttrain-auc:0.98373\ttrain-amex:0.90756\teval-logloss:0.21553\teval-auc:0.96257\teval-amex:0.79340\n",
            "[5400]\ttrain-logloss:0.15123\ttrain-auc:0.98435\ttrain-amex:0.91078\teval-logloss:0.21552\teval-auc:0.96258\teval-amex:0.79302\n",
            "[5600]\ttrain-logloss:0.14936\ttrain-auc:0.98492\ttrain-amex:0.91417\teval-logloss:0.21548\teval-auc:0.96259\teval-amex:0.79386\n",
            "[5800]\ttrain-logloss:0.14744\ttrain-auc:0.98549\ttrain-amex:0.91752\teval-logloss:0.21547\teval-auc:0.96260\teval-amex:0.79370\n",
            "[6000]\ttrain-logloss:0.14560\ttrain-auc:0.98602\ttrain-amex:0.92056\teval-logloss:0.21545\teval-auc:0.96262\teval-amex:0.79350\n",
            "[6200]\ttrain-logloss:0.14373\ttrain-auc:0.98657\ttrain-amex:0.92372\teval-logloss:0.21547\teval-auc:0.96261\teval-amex:0.79360\n",
            "[6400]\ttrain-logloss:0.14189\ttrain-auc:0.98709\ttrain-amex:0.92654\teval-logloss:0.21549\teval-auc:0.96261\teval-amex:0.79310\n",
            "[6519]\ttrain-logloss:0.14082\ttrain-auc:0.98740\ttrain-amex:0.92858\teval-logloss:0.21549\teval-auc:0.96261\teval-amex:0.79312\n",
            "Kaggle Metric = 0.793436974012208 \n",
            "\n",
            "#########################\n",
            "### Fold 5\n",
            "### Train size 367131 Valid size 91782\n",
            "#########################\n",
            "[0]\ttrain-logloss:0.68662\ttrain-auc:0.93475\ttrain-amex:0.70533\teval-logloss:0.68668\teval-auc:0.93109\teval-amex:0.69451\n",
            "[200]\ttrain-logloss:0.27441\ttrain-auc:0.95684\ttrain-amex:0.77549\teval-logloss:0.28104\teval-auc:0.95266\teval-amex:0.76090\n",
            "[400]\ttrain-logloss:0.22810\ttrain-auc:0.96051\ttrain-amex:0.78905\teval-logloss:0.23807\teval-auc:0.95585\teval-amex:0.77368\n",
            "[600]\ttrain-logloss:0.21626\ttrain-auc:0.96300\ttrain-amex:0.79985\teval-logloss:0.22919\teval-auc:0.95762\teval-amex:0.77952\n",
            "[800]\ttrain-logloss:0.20980\ttrain-auc:0.96494\ttrain-amex:0.80890\teval-logloss:0.22549\teval-auc:0.95877\teval-amex:0.78444\n",
            "[1000]\ttrain-logloss:0.20508\ttrain-auc:0.96648\ttrain-amex:0.81608\teval-logloss:0.22340\teval-auc:0.95950\teval-amex:0.78625\n",
            "[1200]\ttrain-logloss:0.20122\ttrain-auc:0.96778\ttrain-amex:0.82254\teval-logloss:0.22203\teval-auc:0.95999\teval-amex:0.78751\n",
            "[1400]\ttrain-logloss:0.19778\ttrain-auc:0.96895\ttrain-amex:0.82814\teval-logloss:0.22100\teval-auc:0.96036\teval-amex:0.78920\n",
            "[1600]\ttrain-logloss:0.19469\ttrain-auc:0.97001\ttrain-amex:0.83337\teval-logloss:0.22034\teval-auc:0.96060\teval-amex:0.79001\n",
            "[1800]\ttrain-logloss:0.19169\ttrain-auc:0.97104\ttrain-amex:0.83869\teval-logloss:0.21980\teval-auc:0.96080\teval-amex:0.79144\n",
            "[2000]\ttrain-logloss:0.18886\ttrain-auc:0.97201\ttrain-amex:0.84381\teval-logloss:0.21937\teval-auc:0.96096\teval-amex:0.79202\n",
            "[2200]\ttrain-logloss:0.18624\ttrain-auc:0.97292\ttrain-amex:0.84824\teval-logloss:0.21899\teval-auc:0.96109\teval-amex:0.79209\n",
            "[2400]\ttrain-logloss:0.18373\ttrain-auc:0.97377\ttrain-amex:0.85245\teval-logloss:0.21872\teval-auc:0.96119\teval-amex:0.79217\n",
            "[2600]\ttrain-logloss:0.18124\ttrain-auc:0.97462\ttrain-amex:0.85712\teval-logloss:0.21846\teval-auc:0.96129\teval-amex:0.79301\n",
            "[2800]\ttrain-logloss:0.17884\ttrain-auc:0.97544\ttrain-amex:0.86124\teval-logloss:0.21827\teval-auc:0.96136\teval-amex:0.79287\n",
            "[3000]\ttrain-logloss:0.17647\ttrain-auc:0.97624\ttrain-amex:0.86550\teval-logloss:0.21811\teval-auc:0.96142\teval-amex:0.79309\n",
            "[3200]\ttrain-logloss:0.17416\ttrain-auc:0.97702\ttrain-amex:0.86969\teval-logloss:0.21796\teval-auc:0.96147\teval-amex:0.79319\n",
            "[3400]\ttrain-logloss:0.17184\ttrain-auc:0.97780\ttrain-amex:0.87402\teval-logloss:0.21784\teval-auc:0.96152\teval-amex:0.79403\n",
            "[3600]\ttrain-logloss:0.16962\ttrain-auc:0.97853\ttrain-amex:0.87808\teval-logloss:0.21771\teval-auc:0.96157\teval-amex:0.79406\n",
            "[3800]\ttrain-logloss:0.16742\ttrain-auc:0.97925\ttrain-amex:0.88211\teval-logloss:0.21762\teval-auc:0.96160\teval-amex:0.79420\n",
            "[4000]\ttrain-logloss:0.16525\ttrain-auc:0.97996\ttrain-amex:0.88602\teval-logloss:0.21753\teval-auc:0.96163\teval-amex:0.79423\n",
            "[4200]\ttrain-logloss:0.16308\ttrain-auc:0.98067\ttrain-amex:0.89021\teval-logloss:0.21747\teval-auc:0.96166\teval-amex:0.79440\n",
            "[4400]\ttrain-logloss:0.16100\ttrain-auc:0.98134\ttrain-amex:0.89365\teval-logloss:0.21741\teval-auc:0.96168\teval-amex:0.79422\n",
            "[4600]\ttrain-logloss:0.15892\ttrain-auc:0.98200\ttrain-amex:0.89703\teval-logloss:0.21735\teval-auc:0.96171\teval-amex:0.79426\n",
            "[4800]\ttrain-logloss:0.15685\ttrain-auc:0.98265\ttrain-amex:0.90085\teval-logloss:0.21730\teval-auc:0.96173\teval-amex:0.79411\n",
            "[4997]\ttrain-logloss:0.15483\ttrain-auc:0.98327\ttrain-amex:0.90448\teval-logloss:0.21728\teval-auc:0.96174\teval-amex:0.79429\n",
            "Kaggle Metric = 0.7940209116515634 \n",
            "\n",
            "#########################\n",
            "OVERALL CV Kaggle Metric = 0.7949812599085827\n"
          ]
        }
      ],
      "source": [
        "importances = []\n",
        "oof = []\n",
        "gc.collect()\n",
        "\n",
        "skf = KFold(n_splits=FOLDS, shuffle=True, random_state=SEED)\n",
        "for fold,(train_idx, valid_idx) in enumerate(skf.split(train, train.target )):\n",
        "    print('#'*25)\n",
        "    print('### Fold',fold+1)\n",
        "    print('### Train size',len(train_idx),'Valid size',len(valid_idx))\n",
        "    print('#'*25)\n",
        "    \n",
        "    # TRAIN, VALID, TEST FOR FOLD K\n",
        "    y_valid = train.loc[valid_idx, 'target']\n",
        "    \n",
        "    dtrain = xgb.DMatrix(data=train.loc[train_idx, FEATURES], label=train.loc[train_idx, 'target'])\n",
        "    dvalid = xgb.DMatrix(data=train.loc[valid_idx, FEATURES], label=y_valid)\n",
        "\n",
        "    # TRAIN MODEL FOLD K\n",
        "    model = xgb.train(xgb_parms, \n",
        "                dtrain=dtrain,\n",
        "                evals=[(dtrain,'train'),(dvalid,'eval')],\n",
        "                num_boost_round=15000,\n",
        "                early_stopping_rounds=750,\n",
        "                maximize=True,\n",
        "                custom_metric= xgb_amex,\n",
        "                verbose_eval=200) \n",
        "    model.save_model(f'XGB_v{VER}_fold{fold}.xgb')\n",
        "    \n",
        "    # GET FEATURE IMPORTANCE FOR FOLD K\n",
        "    dd = model.get_score(importance_type='weight')\n",
        "    df = pd.DataFrame({'feature':dd.keys(),f'importance_{fold}':dd.values()})\n",
        "    importances.append(df)\n",
        "            \n",
        "    # INFER OOF FOLD K\n",
        "    oof_preds = model.predict(dvalid)\n",
        "    acc = amex_metric_numpy(y_valid.values, oof_preds)\n",
        "    print('Kaggle Metric =',acc,'\\n')\n",
        "    \n",
        "    # SAVE OOF\n",
        "    df = train.loc[valid_idx, ['customer_ID','target'] ].copy()\n",
        "    df['oof_pred'] = oof_preds\n",
        "    oof.append( df )\n",
        "\n",
        "    del dtrain, dd, df\n",
        "    del y_valid, dvalid, model\n",
        "    _ = gc.collect()\n",
        "    \n",
        "print('#'*25)\n",
        "oof = pd.concat(oof,axis=0,ignore_index=True).set_index('customer_ID')\n",
        "acc = amex_metric_numpy(oof.target.values, oof.oof_pred.values)\n",
        "print('OVERALL CV Kaggle Metric =',acc)"
      ]
    },
    {
      "cell_type": "code",
      "execution_count": 9,
      "id": "a0683792",
      "metadata": {
        "execution": {
          "iopub.execute_input": "2022-07-04T13:57:20.767668Z",
          "iopub.status.busy": "2022-07-04T13:57:20.767389Z",
          "iopub.status.idle": "2022-07-04T13:57:20.897259Z",
          "shell.execute_reply": "2022-07-04T13:57:20.896305Z"
        },
        "papermill": {
          "duration": 0.143223,
          "end_time": "2022-07-04T13:57:20.899414",
          "exception": false,
          "start_time": "2022-07-04T13:57:20.756191",
          "status": "completed"
        },
        "tags": [],
        "id": "a0683792"
      },
      "outputs": [],
      "source": [
        "# CLEAN RAM\n",
        "del train\n",
        "_ = gc.collect()"
      ]
    },
    {
      "cell_type": "code",
      "execution_count": 10,
      "id": "7c84e45b",
      "metadata": {
        "execution": {
          "iopub.execute_input": "2022-07-04T13:57:20.922375Z",
          "iopub.status.busy": "2022-07-04T13:57:20.922102Z",
          "iopub.status.idle": "2022-07-04T13:57:20.952759Z",
          "shell.execute_reply": "2022-07-04T13:57:20.952102Z"
        },
        "papermill": {
          "duration": 0.044099,
          "end_time": "2022-07-04T13:57:20.954464",
          "exception": false,
          "start_time": "2022-07-04T13:57:20.910365",
          "status": "completed"
        },
        "tags": [],
        "id": "7c84e45b"
      },
      "outputs": [],
      "source": [
        "import matplotlib.pyplot as plt\n",
        "\n",
        "df = importances[0].copy()\n",
        "for k in range(1,FOLDS): df = df.merge(importances[k], on='feature', how='left')\n",
        "df['importance'] = df.iloc[:,1:].mean(axis=1)\n",
        "df = df.sort_values('importance',ascending=False)\n",
        "df.to_csv(f'xgb_feature_importance_v{VER}.csv',index=False)"
      ]
    },
    {
      "cell_type": "code",
      "execution_count": 11,
      "id": "cf219aaf",
      "metadata": {
        "execution": {
          "iopub.execute_input": "2022-07-04T13:57:20.976586Z",
          "iopub.status.busy": "2022-07-04T13:57:20.976325Z",
          "iopub.status.idle": "2022-07-04T13:57:21.242333Z",
          "shell.execute_reply": "2022-07-04T13:57:21.241620Z"
        },
        "papermill": {
          "duration": 0.278865,
          "end_time": "2022-07-04T13:57:21.244004",
          "exception": false,
          "start_time": "2022-07-04T13:57:20.965139",
          "status": "completed"
        },
        "tags": [],
        "id": "cf219aaf",
        "colab": {
          "base_uri": "https://localhost:8080/",
          "height": 607
        },
        "outputId": "aaf7aeb3-25bb-46ca-f08b-5c834e5304ec"
      },
      "outputs": [
        {
          "output_type": "display_data",
          "data": {
            "text/plain": [
              "<Figure size 720x720 with 1 Axes>"
            ],
            "image/png": "[encoded data removed]"
          },
          "metadata": {
            "needs_background": "light"
          }
        }
      ],
      "source": [
        "NUM_FEATURES = 20\n",
        "plt.figure(figsize=(10,5*NUM_FEATURES//10))\n",
        "plt.barh(np.arange(NUM_FEATURES,0,-1), df.importance.values[:NUM_FEATURES])\n",
        "plt.yticks(np.arange(NUM_FEATURES,0,-1), df.feature.values[:NUM_FEATURES])\n",
        "plt.title(f'XGB Feature Importance - Top {NUM_FEATURES}')\n",
        "plt.show()"
      ]
    },
    {
      "cell_type": "markdown",
      "source": [
        "# Test part"
      ],
      "metadata": {
        "id": "5eVl7ZgaHTai"
      },
      "id": "5eVl7ZgaHTai"
    },
    {
      "cell_type": "code",
      "execution_count": 12,
      "id": "caceea59",
      "metadata": {
        "execution": {
          "iopub.execute_input": "2022-07-04T13:57:21.266604Z",
          "iopub.status.busy": "2022-07-04T13:57:21.266343Z",
          "iopub.status.idle": "2022-07-04T13:57:23.926842Z",
          "shell.execute_reply": "2022-07-04T13:57:23.925728Z"
        },
        "papermill": {
          "duration": 2.67433,
          "end_time": "2022-07-04T13:57:23.929254",
          "exception": false,
          "start_time": "2022-07-04T13:57:21.254924",
          "status": "completed"
        },
        "tags": [],
        "id": "caceea59"
      },
      "outputs": [],
      "source": [
        "# CALCULATE SIZE OF EACH SEPARATE TEST PART\n",
        "def get_rows(customers, test, NUM_PARTS = 4, verbose = ''):\n",
        "    chunk = len(customers)//NUM_PARTS\n",
        "    if verbose != '':\n",
        "        print(f'We will process {verbose} data as {NUM_PARTS} separate parts.')\n",
        "        print(f'There will be {chunk} customers in each part (except the last part).')\n",
        "        print('Below are number of rows in each part:')\n",
        "    rows = []\n",
        "\n",
        "    for k in range(NUM_PARTS):\n",
        "        if k==NUM_PARTS-1: cc = customers[k*chunk:]\n",
        "        else: cc = customers[k*chunk:(k+1)*chunk]\n",
        "        s = test.loc[test.customer_ID.isin(cc)].shape[0]\n",
        "        rows.append(s)\n",
        "    if verbose != '': print( rows )\n",
        "    return rows,chunk"
      ]
    },
    {
      "cell_type": "code",
      "source": [
        "# COMPUTE SIZE OF 4 PARTS FOR TEST DATA\n",
        "NUM_PARTS = 4\n",
        "\n",
        "test = pd.read_parquet(\"/content/test_fe_plus_plus.parquet\")\n",
        "\n",
        "customers = test[['customer_ID']].drop_duplicates().sort_index().values.flatten()\n",
        "rows,num_cust = get_rows(customers, test[['customer_ID']], NUM_PARTS = NUM_PARTS, verbose = 'test')"
      ],
      "metadata": {
        "id": "Bx78HcsneJfF",
        "colab": {
          "base_uri": "https://localhost:8080/"
        },
        "outputId": "396e9028-43ab-4197-ebe7-05d4182bc0a2"
      },
      "id": "Bx78HcsneJfF",
      "execution_count": 19,
      "outputs": [
        {
          "output_type": "stream",
          "name": "stdout",
          "text": [
            "We will process test data as 4 separate parts.\n",
            "There will be 231155 customers in each part (except the last part).\n",
            "Below are number of rows in each part:\n",
            "[231155, 231155, 231155, 231156]\n"
          ]
        }
      ]
    },
    {
      "cell_type": "code",
      "source": [
        "test.columns"
      ],
      "metadata": {
        "id": "HENYp2LuBwEn",
        "outputId": "861e0851-506f-47f0-adf7-3b6291dfa42c",
        "colab": {
          "base_uri": "https://localhost:8080/"
        }
      },
      "id": "HENYp2LuBwEn",
      "execution_count": 20,
      "outputs": [
        {
          "output_type": "execute_result",
          "data": {
            "text/plain": [
              "Index(['customer_ID', 'P_2_first', 'P_2_mean', 'P_2_std', 'P_2_min', 'P_2_max',\n",
              "       'P_2_last', 'D_39_first', 'D_39_mean', 'D_39_std',\n",
              "       ...\n",
              "       'D_64_nunique', 'D_66_count', 'D_66_first', 'D_66_last', 'D_66_nunique',\n",
              "       'D_68_count', 'D_68_first', 'D_68_last', 'D_68_nunique', 'S_2_lag'],\n",
              "      dtype='object', length=1462)"
            ]
          },
          "metadata": {},
          "execution_count": 20
        }
      ]
    },
    {
      "cell_type": "code",
      "execution_count": 16,
      "id": "284c3ec2",
      "metadata": {
        "execution": {
          "iopub.execute_input": "2022-07-04T13:57:23.953558Z",
          "iopub.status.busy": "2022-07-04T13:57:23.952895Z",
          "iopub.status.idle": "2022-07-04T14:00:05.767912Z",
          "shell.execute_reply": "2022-07-04T14:00:05.767103Z"
        },
        "papermill": {
          "duration": 161.82896,
          "end_time": "2022-07-04T14:00:05.770110",
          "exception": false,
          "start_time": "2022-07-04T13:57:23.941150",
          "status": "completed"
        },
        "tags": [],
        "id": "284c3ec2",
        "colab": {
          "base_uri": "https://localhost:8080/"
        },
        "outputId": "48c633f3-8685-48cb-c167-e880f52a317d"
      },
      "outputs": [
        {
          "output_type": "stream",
          "name": "stdout",
          "text": [
            "\n",
            "Reading test data...\n",
            "=> Test part 1 has shape (231155, 1461)\n"
          ]
        },
        {
          "output_type": "stream",
          "name": "stderr",
          "text": [
            "100%|██████████| 1461/1461 [00:03<00:00, 389.79it/s]\n"
          ]
        },
        {
          "output_type": "stream",
          "name": "stdout",
          "text": [
            "\n",
            "Reading test data...\n",
            "=> Test part 2 has shape (231155, 1461)\n"
          ]
        },
        {
          "output_type": "stream",
          "name": "stderr",
          "text": [
            "100%|██████████| 1461/1461 [00:03<00:00, 403.36it/s]\n"
          ]
        },
        {
          "output_type": "stream",
          "name": "stdout",
          "text": [
            "\n",
            "Reading test data...\n",
            "=> Test part 3 has shape (231155, 1461)\n"
          ]
        },
        {
          "output_type": "stream",
          "name": "stderr",
          "text": [
            "100%|██████████| 1461/1461 [00:03<00:00, 394.36it/s]\n"
          ]
        },
        {
          "output_type": "stream",
          "name": "stdout",
          "text": [
            "\n",
            "Reading test data...\n",
            "=> Test part 4 has shape (231156, 1461)\n"
          ]
        },
        {
          "output_type": "stream",
          "name": "stderr",
          "text": [
            "100%|██████████| 1461/1461 [00:03<00:00, 401.60it/s]\n"
          ]
        }
      ],
      "source": [
        "# INFER TEST DATA IN PARTS\n",
        "skip_rows = 0\n",
        "skip_cust = 0\n",
        "test_preds = []\n",
        "\n",
        "for k in range(NUM_PARTS):\n",
        "    # READ PART OF TEST DATA\n",
        "    print(f'\\nReading test data...')\n",
        "    test_copy = test.iloc[skip_rows:skip_rows+rows[k]].copy()\n",
        "    test_copy = test_copy.set_index('customer_ID')\n",
        "    skip_rows += rows[k]\n",
        "    print(f'=> Test part {k+1} has shape', test_copy.shape )\n",
        "\n",
        "    for col in float_cols:\n",
        "        test_copy[col + '_round2'] = test_copy[col].round(2)\n",
        "    # test_copy.replace([-np.inf, np.inf], np.nan, inplace=True)\n",
        "\n",
        "    num_cols = [col for col in test_copy.columns if 'last' in col]\n",
        "    num_cols = [col[:-5] for col in num_cols if 'round' not in col]\n",
        "    for col in num_cols:\n",
        "        try:\n",
        "            test_copy[f'{col}_mean_min'] = test_copy[f'{col}_mean'] - test_copy[f'{col}_min']\n",
        "            test_copy[f'{col}_last_min'] = test_copy[f'{col}_last'] - test_copy[f'{col}_min']\n",
        "            test_copy[f'{col}_last_max'] = test_copy[f'{col}_last'] - test_copy[f'{col}_max']\n",
        "            test_copy[f'{col}_last_s2'] = test_copy[f'{col}_last'] / train['_S_2_lag']\n",
        "        except: pass\n",
        "    num_cols = list(test_copy.dtypes[(test_copy.dtypes == 'float32') | (test_copy.dtypes == 'float64')].index)\n",
        "    for col in tqdm(num_cols):\n",
        "        test_copy[col] = test_copy[col].astype(np.float16)\n",
        "\n",
        "    test_copy.replace([np.nan, np.inf], -127, inplace=True)\n",
        "\n",
        "    # PROCESS AND FEATURE ENGINEER PART OF TEST DATA\n",
        "    if k==NUM_PARTS-1: test_copy = test_copy.loc[customers[skip_cust:]]\n",
        "    else: test_copy = test_copy.loc[customers[skip_cust:skip_cust+num_cust]]\n",
        "    skip_cust += num_cust\n",
        "    \n",
        "    # TEST DATA FOR XGB\n",
        "    # X_test = test_copy[FEATURES]\n",
        "    dtest = xgb.DMatrix(data=test_copy)\n",
        "    # test_copy = test_copy[['P_2_mean']] # reduce memory\n",
        "    # del X_test\n",
        "    # gc.collect()\n",
        "\n",
        "    # INFER XGB MODELS ON TEST DATA\n",
        "    model = xgb.Booster()\n",
        "    model.load_model(f'XGB_v{VER}_fold0.xgb')\n",
        "    preds = model.predict(dtest)\n",
        "    for f in range(1,FOLDS):\n",
        "        model.load_model(f'XGB_v{VER}_fold{f}.xgb')\n",
        "        preds += model.predict(dtest)\n",
        "    preds /= FOLDS\n",
        "    test_preds.append(preds)\n",
        "\n",
        "    # CLEAN MEMORY\n",
        "    del test_copy, dtest, model\n",
        "    _ = gc.collect()\n",
        "\n",
        "del test\n",
        "_ = gc.collect()"
      ]
    },
    {
      "cell_type": "code",
      "execution_count": 17,
      "id": "a9cdac27",
      "metadata": {
        "execution": {
          "iopub.execute_input": "2022-07-04T14:00:05.795436Z",
          "iopub.status.busy": "2022-07-04T14:00:05.795158Z",
          "iopub.status.idle": "2022-07-04T14:00:06.821793Z",
          "shell.execute_reply": "2022-07-04T14:00:06.820885Z"
        },
        "papermill": {
          "duration": 1.042409,
          "end_time": "2022-07-04T14:00:06.824706",
          "exception": false,
          "start_time": "2022-07-04T14:00:05.782297",
          "status": "completed"
        },
        "tags": [],
        "id": "a9cdac27",
        "colab": {
          "base_uri": "https://localhost:8080/",
          "height": 224
        },
        "outputId": "dfcb2a38-78df-45fd-b065-0c1b0eeb0416"
      },
      "outputs": [
        {
          "output_type": "stream",
          "name": "stdout",
          "text": [
            "Submission file shape is (924621, 2)\n"
          ]
        },
        {
          "output_type": "execute_result",
          "data": {
            "text/plain": [
              "                                         customer_ID  prediction\n",
              "0  00000469ba478561f23a92a868bd366de6f6527a684c9a...    0.047703\n",
              "1  00001bf2e77ff879fab36aa4fac689b9ba411dae63ae39...    0.001556\n",
              "2  0000210045da4f81e5f122c6bde5c2a617d03eef67f82c...    0.084629\n",
              "3  00003b41e58ede33b8daf61ab56d9952f17c9ad1c3976c...    0.456687\n",
              "4  00004b22eaeeeb0ec976890c1d9bfc14fd9427e98c4ee9...    0.882558"
            ],
            "text/html": [
              "\n",
              "  <div id=\"df-1a9e5724-4cb7-4729-8649-8364b8150dba\">\n",
              "    <div class=\"colab-df-container\">\n",
              "      <div>\n",
              "<style scoped>\n",
              "    .dataframe tbody tr th:only-of-type {\n",
              "        vertical-align: middle;\n",
              "    }\n",
              "\n",
              "    .dataframe tbody tr th {\n",
              "        vertical-align: top;\n",
              "    }\n",
              "\n",
              "    .dataframe thead th {\n",
              "        text-align: right;\n",
              "    }\n",
              "</style>\n",
              "<table border=\"1\" class=\"dataframe\">\n",
              "  <thead>\n",
              "    <tr style=\"text-align: right;\">\n",
              "      <th></th>\n",
              "      <th>customer_ID</th>\n",
              "      <th>prediction</th>\n",
              "    </tr>\n",
              "  </thead>\n",
              "  <tbody>\n",
              "    <tr>\n",
              "      <th>0</th>\n",
              "      <td>00000469ba478561f23a92a868bd366de6f6527a684c9a...</td>\n",
              "      <td>0.047703</td>\n",
              "    </tr>\n",
              "    <tr>\n",
              "      <th>1</th>\n",
              "      <td>00001bf2e77ff879fab36aa4fac689b9ba411dae63ae39...</td>\n",
              "      <td>0.001556</td>\n",
              "    </tr>\n",
              "    <tr>\n",
              "      <th>2</th>\n",
              "      <td>0000210045da4f81e5f122c6bde5c2a617d03eef67f82c...</td>\n",
              "      <td>0.084629</td>\n",
              "    </tr>\n",
              "    <tr>\n",
              "      <th>3</th>\n",
              "      <td>00003b41e58ede33b8daf61ab56d9952f17c9ad1c3976c...</td>\n",
              "      <td>0.456687</td>\n",
              "    </tr>\n",
              "    <tr>\n",
              "      <th>4</th>\n",
              "      <td>00004b22eaeeeb0ec976890c1d9bfc14fd9427e98c4ee9...</td>\n",
              "      <td>0.882558</td>\n",
              "    </tr>\n",
              "  </tbody>\n",
              "</table>\n",
              "</div>\n",
              "      <button class=\"colab-df-convert\" onclick=\"convertToInteractive('df-1a9e5724-4cb7-4729-8649-8364b8150dba')\"\n",
              "              title=\"Convert this dataframe to an interactive table.\"\n",
              "              style=\"display:none;\">\n",
              "        \n",
              "  <svg xmlns=\"http://www.w3.org/2000/svg\" height=\"24px\"viewBox=\"0 0 24 24\"\n",
              "       width=\"24px\">\n",
              "    <path d=\"M0 0h24v24H0V0z\" fill=\"none\"/>\n",
              "    <path d=\"M18.56 5.44l.94 2.06.94-2.06 2.06-.94-2.06-.94-.94-2.06-.94 2.06-2.06.94zm-11 1L8.5 8.5l.94-2.06 2.06-.94-2.06-.94L8.5 2.5l-.94 2.06-2.06.94zm10 10l.94 2.06.94-2.06 2.06-.94-2.06-.94-.94-2.06-.94 2.06-2.06.94z\"/><path d=\"M17.41 7.96l-1.37-1.37c-.4-.4-.92-.59-1.43-.59-.52 0-1.04.2-1.43.59L10.3 9.45l-7.72 7.72c-.78.78-.78 2.05 0 2.83L4 21.41c.39.39.9.59 1.41.59.51 0 1.02-.2 1.41-.59l7.78-7.78 2.81-2.81c.8-.78.8-2.07 0-2.86zM5.41 20L4 18.59l7.72-7.72 1.47 1.35L5.41 20z\"/>\n",
              "  </svg>\n",
              "      </button>\n",
              "      \n",
              "  <style>\n",
              "    .colab-df-container {\n",
              "      display:flex;\n",
              "      flex-wrap:wrap;\n",
              "      gap: 12px;\n",
              "    }\n",
              "\n",
              "    .colab-df-convert {\n",
              "      background-color: #E8F0FE;\n",
              "      border: none;\n",
              "      border-radius: 50%;\n",
              "      cursor: pointer;\n",
              "      display: none;\n",
              "      fill: #1967D2;\n",
              "      height: 32px;\n",
              "      padding: 0 0 0 0;\n",
              "      width: 32px;\n",
              "    }\n",
              "\n",
              "    .colab-df-convert:hover {\n",
              "      background-color: #E2EBFA;\n",
              "      box-shadow: 0px 1px 2px rgba(60, 64, 67, 0.3), 0px 1px 3px 1px rgba(60, 64, 67, 0.15);\n",
              "      fill: #174EA6;\n",
              "    }\n",
              "\n",
              "    [theme=dark] .colab-df-convert {\n",
              "      background-color: #3B4455;\n",
              "      fill: #D2E3FC;\n",
              "    }\n",
              "\n",
              "    [theme=dark] .colab-df-convert:hover {\n",
              "      background-color: #434B5C;\n",
              "      box-shadow: 0px 1px 3px 1px rgba(0, 0, 0, 0.15);\n",
              "      filter: drop-shadow(0px 1px 2px rgba(0, 0, 0, 0.3));\n",
              "      fill: #FFFFFF;\n",
              "    }\n",
              "  </style>\n",
              "\n",
              "      <script>\n",
              "        const buttonEl =\n",
              "          document.querySelector('#df-1a9e5724-4cb7-4729-8649-8364b8150dba button.colab-df-convert');\n",
              "        buttonEl.style.display =\n",
              "          google.colab.kernel.accessAllowed ? 'block' : 'none';\n",
              "\n",
              "        async function convertToInteractive(key) {\n",
              "          const element = document.querySelector('#df-1a9e5724-4cb7-4729-8649-8364b8150dba');\n",
              "          const dataTable =\n",
              "            await google.colab.kernel.invokeFunction('convertToInteractive',\n",
              "                                                     [key], {});\n",
              "          if (!dataTable) return;\n",
              "\n",
              "          const docLinkHtml = 'Like what you see? Visit the ' +\n",
              "            '<a target=\"_blank\" href=https://colab.research.google.com/notebooks/data_table.ipynb>data table notebook</a>'\n",
              "            + ' to learn more about interactive tables.';\n",
              "          element.innerHTML = '';\n",
              "          dataTable['output_type'] = 'display_data';\n",
              "          await google.colab.output.renderOutput(dataTable, element);\n",
              "          const docLink = document.createElement('div');\n",
              "          docLink.innerHTML = docLinkHtml;\n",
              "          element.appendChild(docLink);\n",
              "        }\n",
              "      </script>\n",
              "    </div>\n",
              "  </div>\n",
              "  "
            ]
          },
          "metadata": {},
          "execution_count": 17
        }
      ],
      "source": [
        "# WRITE SUBMISSION FILE\n",
        "test = pd.DataFrame(index=customers,data={'prediction': np.concatenate(test_preds)})\n",
        "sub = pd.read_csv('/content/sample_submission.csv')[['customer_ID']]\n",
        "sub['customer_ID_hash'] = sub['customer_ID'].copy()\n",
        "sub = sub.set_index('customer_ID_hash')\n",
        "sub = sub.merge(test[['prediction']], left_index=True, right_index=True, how='left')\n",
        "sub = sub.reset_index(drop=True)\n",
        "\n",
        "# DISPLAY PREDICTIONS\n",
        "sub.to_csv(f'submission_xgb_v{VER}_seed{SEED}_fold{FOLDS}.csv',index=False)\n",
        "print('Submission file shape is', sub.shape )\n",
        "sub.head()"
      ]
    },
    {
      "cell_type": "code",
      "execution_count": 18,
      "id": "63453bcd",
      "metadata": {
        "execution": {
          "iopub.execute_input": "2022-07-04T14:00:06.852363Z",
          "iopub.status.busy": "2022-07-04T14:00:06.851721Z",
          "iopub.status.idle": "2022-07-04T14:00:07.547496Z",
          "shell.execute_reply": "2022-07-04T14:00:07.546749Z"
        },
        "papermill": {
          "duration": 0.710906,
          "end_time": "2022-07-04T14:00:07.549303",
          "exception": false,
          "start_time": "2022-07-04T14:00:06.838397",
          "status": "completed"
        },
        "tags": [],
        "id": "63453bcd",
        "colab": {
          "base_uri": "https://localhost:8080/",
          "height": 281
        },
        "outputId": "8f6f924f-e190-4672-bd3a-358101ad0d0d"
      },
      "outputs": [
        {
          "output_type": "display_data",
          "data": {
            "text/plain": [
              "<Figure size 432x288 with 1 Axes>"
            ],
            "image/png": "[encoded data removed]"
          },
          "metadata": {
            "needs_background": "light"
          }
        }
      ],
      "source": [
        "# PLOT PREDICTIONS\n",
        "import matplotlib.pyplot as plt\n",
        "\n",
        "plt.hist(sub.prediction, bins=100)\n",
        "plt.title('Test Predictions')\n",
        "plt.show()"
      ]
    },
    {
      "cell_type": "markdown",
      "metadata": {
        "papermill": {
          "duration": 0.042841,
          "end_time": "2022-07-15T16:51:28.477165",
          "exception": false,
          "start_time": "2022-07-15T16:51:28.434324",
          "status": "completed"
        },
        "tags": [],
        "id": "802623f7"
      },
      "source": [
        "# Submit to Kaggle from Colab"
      ],
      "id": "802623f7"
    },
    {
      "cell_type": "code",
      "execution_count": null,
      "metadata": {
        "execution": {
          "iopub.execute_input": "2022-07-15T16:51:28.552420Z",
          "iopub.status.busy": "2022-07-15T16:51:28.551829Z",
          "iopub.status.idle": "2022-07-15T16:51:28.557906Z",
          "shell.execute_reply": "2022-07-15T16:51:28.557166Z"
        },
        "papermill": {
          "duration": 0.048007,
          "end_time": "2022-07-15T16:51:28.561880",
          "exception": false,
          "start_time": "2022-07-15T16:51:28.513873",
          "status": "completed"
        },
        "tags": [],
        "id": "efc54970",
        "colab": {
          "base_uri": "https://localhost:8080/"
        },
        "outputId": "2686736d-fb4d-4c95-e101-e75985a3a75b"
      },
      "outputs": [
        {
          "output_type": "stream",
          "name": "stdout",
          "text": [
            "100% 67.6M/67.6M [00:09<00:00, 7.82MB/s]\n",
            "Successfully submitted to American Express - Default Prediction"
          ]
        }
      ],
      "source": [
        "# Submit\n",
        "!kaggle competitions submit -c amex-default-prediction -f submission_xgb_v5_seed42_fold5.csv -m \"From colab seed 42 fold 5 lag plus\""
      ],
      "id": "efc54970"
    },
    {
      "cell_type": "code",
      "execution_count": null,
      "metadata": {
        "execution": {
          "iopub.execute_input": "2022-07-15T16:51:28.636400Z",
          "iopub.status.busy": "2022-07-15T16:51:28.635706Z",
          "iopub.status.idle": "2022-07-15T16:51:28.643060Z",
          "shell.execute_reply": "2022-07-15T16:51:28.640501Z"
        },
        "papermill": {
          "duration": 0.04911,
          "end_time": "2022-07-15T16:51:28.647823",
          "exception": false,
          "start_time": "2022-07-15T16:51:28.598713",
          "status": "completed"
        },
        "tags": [],
        "id": "aad5cc1a",
        "colab": {
          "base_uri": "https://localhost:8080/"
        },
        "outputId": "79e22316-de57-4b11-97f5-efa99e94a03a"
      },
      "outputs": [
        {
          "output_type": "stream",
          "name": "stdout",
          "text": [
            "fileName                            date                 description                                               status    publicScore  privateScore  \n",
            "----------------------------------  -------------------  --------------------------------------------------------  --------  -----------  ------------  \n",
            "submission_xgb_v1_seed42_fold5.csv  2022-07-26 16:34:13  From colab seed 42 fold 5 lag plus                        complete  0.795                      \n",
            "Amex Default Prediction - Ensemble  2022-07-26 16:18:30  Notebook Amex Default Prediction - Ensemble | Version 24  complete  0.798                      \n",
            "Amex Default Prediction - Ensemble  2022-07-26 15:17:31  Notebook Amex Default Prediction - Ensemble | Version 23  complete  0.798                      \n",
            "submission_xgb_v1_seed42_fold5.csv  2022-07-26 14:59:19  From colab seed 42 fold 5 lag plus                        complete  0.795                      \n",
            "submission_cat_v1_seed42_fold5.csv  2022-07-26 13:10:11  From colab seed 42 fold 5 lag plus                        complete  0.796                      \n",
            "Amex Default Prediction - Ensemble  2022-07-25 18:21:01  Notebook Amex Default Prediction - Ensemble | Version 22  complete  0.799                      \n",
            "submission_cat_v1_seed42_fold5.csv  2022-07-25 18:15:57  From colab seed 42 fold 5 lag plus                        complete  0.796                      \n",
            "Amex Default Prediction - Ensemble  2022-07-24 15:56:24  Notebook Amex Default Prediction - Ensemble | Version 20  complete  0.759                      \n",
            "Amex Default Prediction - Ensemble  2022-07-24 15:55:05  Notebook Amex Default Prediction - Ensemble | Version 19  complete  0.745                      \n",
            "Amex Default Prediction - Ensemble  2022-07-24 14:26:44  Notebook Amex Default Prediction - Ensemble | Version 16  complete  0.798                      \n",
            "Amex Default Prediction - Ensemble  2022-07-24 14:22:52  Notebook Amex Default Prediction - Ensemble | Version 15  complete  0.798                      \n",
            "submission_cat_v1_seed42_fold5.csv  2022-07-24 13:58:18  Run with round 2 cat                                      complete  0.796                      \n",
            "submission_lgb_v1_seed42_fold5.csv  2022-07-23 16:48:14  the first version. fe lag plus seed 52 fold 5 From colab  complete  0.797                      \n",
            "Amex Default Prediction - Ensemble  2022-07-23 11:15:04  Notebook Amex Default Prediction - Ensemble | Version 14  complete  0.798                      \n",
            "Amex Default Prediction - Ensemble  2022-07-23 11:08:12  Notebook Amex Default Prediction - Ensemble | Version 13  complete  0.798                      \n",
            "submission_xgb_v1_seed42_fold5.csv  2022-07-23 10:58:31  From colab seed 42 fold 5 lag plus                        complete  0.795                      \n",
            "submission_cat_v1_seed42_fold5.csv  2022-07-23 09:53:21  From colab seed 42 fold 5 lag plus                        complete  0.796                      \n",
            "Amex Default Prediction - Ensemble  2022-07-22 12:32:58  Notebook Amex Default Prediction - Ensemble | Version 12  complete  0.798                      \n",
            "Amex Default Prediction - Ensemble  2022-07-22 12:30:01  Notebook Amex Default Prediction - Ensemble | Version 11  complete  0.798                      \n",
            "submission_xgb_v1_seed42_fold2.csv  2022-07-22 12:19:29  From colab seed 42 fold 5 lag plus                        complete  0.794                      \n",
            "Amex Default Prediction - Ensemble  2022-07-21 12:48:16  Notebook Amex Default Prediction - Ensemble | Version 9   complete  0.798                      \n",
            "submission_xgb_v1_seed42_fold5.csv  2022-07-21 12:36:23  From colab seed 42 fold 5 lag plus                        complete  0.794                      \n",
            "Amex Default Prediction - Ensemble  2022-07-20 17:29:34  Notebook Amex Default Prediction - Ensemble | Version 8   complete  0.798                      \n",
            "Amex Default Prediction - Ensemble  2022-07-20 17:13:37  Notebook Amex Default Prediction - Ensemble | Version 7   complete  0.798                      \n",
            "Amex Default Prediction - Ensemble  2022-07-20 17:10:16  Notebook Amex Default Prediction - Ensemble | Version 6   complete  0.798                      \n",
            "Amex Default Prediction - Ensemble  2022-07-20 17:08:15  Notebook Amex Default Prediction - Ensemble | Version 5   complete  0.798                      \n",
            "submission_xgb_v1_seed42_fold5.csv  2022-07-20 16:58:31  From colab seed 42 fold 5 lag plus                        complete  0.794                      \n",
            "submission_cat_v1_seed42_fold5.csv  2022-07-19 17:31:52  From colab seed 42 fold 5 lag plus                        complete  0.795                      \n",
            "Amex Default Prediction - Ensemble  2022-07-19 16:37:40  Notebook Amex Default Prediction - Ensemble | Version 4   complete  0.798                      \n",
            "Amex Default Prediction - Ensemble  2022-07-19 16:34:17  Notebook Amex Default Prediction - Ensemble | Version 2   complete  0.798                      \n",
            "submission_cat_v1_seed42_fold5.csv  2022-07-19 12:11:59  From colab seed 42 fold 5 lag plus                        complete  0.795                      \n",
            "Amex Default Prediction with Cat    2022-07-18 23:01:33  Notebook Amex Default Prediction with Cat | Version 129   complete  0.798                      \n",
            "Amex Default Prediction with Cat    2022-07-18 22:58:51  Notebook Amex Default Prediction with Cat | Version 128   complete  0.798                      \n",
            "submission_cat_v1_seed42_fold5.csv  2022-07-18 22:27:50  From colab seed 42 fold 5 lag plus                        complete  0.795                      \n",
            "submission_lgb_v1_seed42_fold5.csv  2022-07-18 20:37:22  the first version. fe lag plus seed 52 fold 5 From colab  complete  0.797                      \n",
            "submission_cat_v1.csv               2022-07-18 06:30:57  From colab seed 42 fold 5 lag plus                        complete  0.795                      \n",
            "Amex Default Prediction with Cat    2022-07-16 16:14:20  Notebook Amex Default Prediction with Cat | Version 125   complete  0.794                      \n",
            "Amex Default Prediction with Cat    2022-07-15 16:33:32  Notebook Amex Default Prediction with Cat | Version 127   complete  0.798                      \n",
            "Amex Default Prediction with Cat    2022-07-15 16:24:25  Notebook Amex Default Prediction with Cat | Version 126   complete  0.798                      \n",
            "submission_cat_v123_seed52_794.csv  2022-07-15 16:12:09                                                            complete  0.795                      \n",
            "submission_cat_v123_0794.csv        2022-07-15 15:47:08                                                            complete  0.795                      \n",
            "Amex Default Prediction with Cat    2022-07-15 13:53:07  Notebook Amex Default Prediction with Cat | Version 123   complete  0.798                      \n",
            "Amex Default Prediction with Cat    2022-07-12 10:17:49  Notebook Amex Default Prediction with Cat | Version 122   complete  0.794                      \n",
            "Amex Default Prediction with Cat    2022-07-11 16:41:48  Notebook Amex Default Prediction with Cat | Version 119   complete  0.794                      \n",
            "Amex Default Prediction with Cat    2022-07-11 13:00:10  Notebook Amex Default Prediction with Cat | Version 116   complete  0.794                      \n",
            "Amex Default Prediction with Cat    2022-07-10 12:29:19  Notebook Amex Default Prediction with Cat | Version 115   complete  0.798                      \n",
            "Amex Default Prediction with Cat    2022-07-10 12:26:36  Notebook Amex Default Prediction with Cat | Version 114   complete  0.797                      \n",
            "Amex Default Prediction with Cat    2022-07-10 07:38:14  Notebook Amex Default Prediction with Cat | Version 109   complete  0.798                      \n",
            "Amex Default Prediction with Cat    2022-07-10 07:34:41  Notebook Amex Default Prediction with Cat | Version 108   complete  0.798                      \n",
            "Amex Default Prediction with Cat    2022-07-10 07:31:41  Notebook Amex Default Prediction with Cat | Version 107   complete  0.798                      \n"
          ]
        }
      ],
      "source": [
        "# Run after few seconds\n",
        "!kaggle competitions submissions amex-default-prediction"
      ],
      "id": "aad5cc1a"
    }
  ],
  "metadata": {
    "kernelspec": {
      "display_name": "Python 3",
      "language": "python",
      "name": "python3"
    },
    "language_info": {
      "codemirror_mode": {
        "name": "ipython",
        "version": 3
      },
      "file_extension": ".py",
      "mimetype": "text/x-python",
      "name": "python",
      "nbconvert_exporter": "python",
      "pygments_lexer": "ipython3",
      "version": "3.7.12"
    },
    "papermill": {
      "default_parameters": {},
      "duration": 1350.063162,
      "end_time": "2022-07-04T14:00:08.785368",
      "environment_variables": {},
      "exception": null,
      "input_path": "__notebook__.ipynb",
      "output_path": "__notebook__.ipynb",
      "parameters": {},
      "start_time": "2022-07-04T13:37:38.722206",
      "version": "2.3.4"
    },
    "colab": {
      "name": "amex-default-prediction-xgb.ipynb",
      "provenance": [],
      "machine_shape": "hm"
    },
    "gpuClass": "standard",
    "accelerator": "GPU"
  },
  "nbformat": 4,
  "nbformat_minor": 5
}
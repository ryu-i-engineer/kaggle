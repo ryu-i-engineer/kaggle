{
  "cells": [
    {
      "cell_type": "markdown",
      "metadata": {
        "papermill": {
          "duration": 0.009252,
          "end_time": "2022-07-15T16:13:27.338460",
          "exception": false,
          "start_time": "2022-07-15T16:13:27.329208",
          "status": "completed"
        },
        "tags": [],
        "id": "ec8911a0"
      },
      "source": [
        "# Prepare for colab"
      ],
      "id": "ec8911a0"
    },
    {
      "cell_type": "code",
      "execution_count": 1,
      "metadata": {
        "execution": {
          "iopub.execute_input": "2022-07-15T16:13:27.400098Z",
          "iopub.status.busy": "2022-07-15T16:13:27.399391Z",
          "iopub.status.idle": "2022-07-15T16:13:27.403356Z",
          "shell.execute_reply": "2022-07-15T16:13:27.402606Z"
        },
        "papermill": {
          "duration": 0.015568,
          "end_time": "2022-07-15T16:13:27.405067",
          "exception": false,
          "start_time": "2022-07-15T16:13:27.389499",
          "status": "completed"
        },
        "tags": [],
        "id": "bad112fb",
        "colab": {
          "base_uri": "https://localhost:8080/"
        },
        "outputId": "5f9ad924-d4d8-422a-ea78-aa311c4bcb1a"
      },
      "outputs": [
        {
          "output_type": "stream",
          "name": "stdout",
          "text": [
            "Looking in indexes: https://pypi.org/simple, https://us-python.pkg.dev/colab-wheels/public/simple/\n",
            "Requirement already satisfied: xgboost in /usr/local/lib/python3.7/dist-packages (0.90)\n",
            "Collecting xgboost\n",
            "  Downloading xgboost-1.6.1-py3-none-manylinux2014_x86_64.whl (192.9 MB)\n",
            "\u001b[K     |████████████████████████████████| 192.9 MB 54 kB/s \n",
            "\u001b[?25hRequirement already satisfied: scipy in /usr/local/lib/python3.7/dist-packages (from xgboost) (1.7.3)\n",
            "Requirement already satisfied: numpy in /usr/local/lib/python3.7/dist-packages (from xgboost) (1.21.6)\n",
            "Installing collected packages: xgboost\n",
            "  Attempting uninstall: xgboost\n",
            "    Found existing installation: xgboost 0.90\n",
            "    Uninstalling xgboost-0.90:\n",
            "      Successfully uninstalled xgboost-0.90\n",
            "Successfully installed xgboost-1.6.1\n",
            "Looking in indexes: https://pypi.org/simple, https://us-python.pkg.dev/colab-wheels/public/simple/\n",
            "Requirement already satisfied: kaggle in /usr/local/lib/python3.7/dist-packages (1.5.12)\n",
            "Requirement already satisfied: python-dateutil in /usr/local/lib/python3.7/dist-packages (from kaggle) (2.8.2)\n",
            "Requirement already satisfied: urllib3 in /usr/local/lib/python3.7/dist-packages (from kaggle) (1.24.3)\n",
            "Requirement already satisfied: requests in /usr/local/lib/python3.7/dist-packages (from kaggle) (2.23.0)\n",
            "Requirement already satisfied: tqdm in /usr/local/lib/python3.7/dist-packages (from kaggle) (4.64.0)\n",
            "Requirement already satisfied: six>=1.10 in /usr/local/lib/python3.7/dist-packages (from kaggle) (1.15.0)\n",
            "Requirement already satisfied: python-slugify in /usr/local/lib/python3.7/dist-packages (from kaggle) (6.1.2)\n",
            "Requirement already satisfied: certifi in /usr/local/lib/python3.7/dist-packages (from kaggle) (2022.6.15)\n",
            "Requirement already satisfied: text-unidecode>=1.3 in /usr/local/lib/python3.7/dist-packages (from python-slugify->kaggle) (1.3)\n",
            "Requirement already satisfied: chardet<4,>=3.0.2 in /usr/local/lib/python3.7/dist-packages (from requests->kaggle) (3.0.4)\n",
            "Requirement already satisfied: idna<3,>=2.5 in /usr/local/lib/python3.7/dist-packages (from requests->kaggle) (2.10)\n"
          ]
        }
      ],
      "source": [
        "!pip install xgboost -U\n",
        "!pip install kaggle"
      ],
      "id": "bad112fb"
    },
    {
      "cell_type": "markdown",
      "metadata": {
        "papermill": {
          "duration": 0.008806,
          "end_time": "2022-07-15T16:13:27.422550",
          "exception": false,
          "start_time": "2022-07-15T16:13:27.413744",
          "status": "completed"
        },
        "tags": [],
        "id": "3fa90515"
      },
      "source": [
        "## Upload API Token"
      ],
      "id": "3fa90515"
    },
    {
      "cell_type": "code",
      "execution_count": 2,
      "metadata": {
        "execution": {
          "iopub.execute_input": "2022-07-15T16:13:27.442237Z",
          "iopub.status.busy": "2022-07-15T16:13:27.441555Z",
          "iopub.status.idle": "2022-07-15T16:13:27.448196Z",
          "shell.execute_reply": "2022-07-15T16:13:27.447549Z"
        },
        "papermill": {
          "duration": 0.01814,
          "end_time": "2022-07-15T16:13:27.449796",
          "exception": false,
          "start_time": "2022-07-15T16:13:27.431656",
          "status": "completed"
        },
        "tags": [],
        "id": "54e44e29",
        "colab": {
          "base_uri": "https://localhost:8080/"
        },
        "outputId": "1465418c-a41a-4c4a-d2b2-207200a3ac2f"
      },
      "outputs": [
        {
          "output_type": "stream",
          "name": "stdout",
          "text": [
            "Mounted at /content/drive\n"
          ]
        }
      ],
      "source": [
        "from google.colab import drive\n",
        "drive.mount('/content/drive')\n",
        "\n",
        "# Then move kaggle.json into the folder where the API expects to find it.\n",
        "!mkdir -p ~/.kaggle/ && cp /content/drive/MyDrive/backups/kaggle.json ~/.kaggle/ && chmod 600 ~/.kaggle/kaggle.json"
      ],
      "id": "54e44e29"
    },
    {
      "cell_type": "markdown",
      "metadata": {
        "papermill": {
          "duration": 0.008512,
          "end_time": "2022-07-15T16:13:27.467327",
          "exception": false,
          "start_time": "2022-07-15T16:13:27.458815",
          "status": "completed"
        },
        "tags": [],
        "id": "1abbc588"
      },
      "source": [
        "## Download and unzip dataset"
      ],
      "id": "1abbc588"
    },
    {
      "cell_type": "code",
      "execution_count": 3,
      "metadata": {
        "execution": {
          "iopub.execute_input": "2022-07-15T16:13:27.486038Z",
          "iopub.status.busy": "2022-07-15T16:13:27.485615Z",
          "iopub.status.idle": "2022-07-15T16:13:27.490276Z",
          "shell.execute_reply": "2022-07-15T16:13:27.489580Z"
        },
        "papermill": {
          "duration": 0.016071,
          "end_time": "2022-07-15T16:13:27.491993",
          "exception": false,
          "start_time": "2022-07-15T16:13:27.475922",
          "status": "completed"
        },
        "tags": [],
        "id": "c17f8dd7",
        "colab": {
          "base_uri": "https://localhost:8080/"
        },
        "outputId": "22aa149b-b6c8-40a7-d290-4842ec821c33"
      },
      "outputs": [
        {
          "output_type": "stream",
          "name": "stdout",
          "text": [
            "Downloading amex-fe-plus2.zip to /content\n",
            "100% 3.95G/3.95G [00:18<00:00, 216MB/s]\n",
            "100% 3.95G/3.95G [00:18<00:00, 226MB/s]\n",
            "Archive:  /content/amex-fe-plus2.zip\n",
            "  inflating: test_fe_plus_plus.parquet  \n",
            "  inflating: train_fe_plus_plus.parquet  \n"
          ]
        }
      ],
      "source": [
        "!kaggle datasets download -d ryuina/amex-fe-plus2\n",
        "!unzip /content/amex-fe-plus2.zip"
      ],
      "id": "c17f8dd7"
    },
    {
      "cell_type": "code",
      "execution_count": 4,
      "metadata": {
        "execution": {
          "iopub.execute_input": "2022-07-15T16:13:27.515341Z",
          "iopub.status.busy": "2022-07-15T16:13:27.514880Z",
          "iopub.status.idle": "2022-07-15T16:13:27.523654Z",
          "shell.execute_reply": "2022-07-15T16:13:27.522700Z"
        },
        "papermill": {
          "duration": 0.025128,
          "end_time": "2022-07-15T16:13:27.526436",
          "exception": false,
          "start_time": "2022-07-15T16:13:27.501308",
          "status": "completed"
        },
        "tags": [],
        "id": "e4df1701",
        "colab": {
          "base_uri": "https://localhost:8080/"
        },
        "outputId": "8e6d885a-a15e-4774-f614-a94a4b24651a"
      },
      "outputs": [
        {
          "output_type": "stream",
          "name": "stdout",
          "text": [
            "Downloading sample_submission.csv.zip to /content\n",
            "\r  0% 0.00/32.4M [00:00<?, ?B/s]\r 46% 15.0M/32.4M [00:00<00:00, 152MB/s]\n",
            "\r100% 32.4M/32.4M [00:00<00:00, 209MB/s]\n",
            "Archive:  /content/sample_submission.csv.zip\n",
            "  inflating: sample_submission.csv   \n"
          ]
        }
      ],
      "source": [
        "!kaggle competitions download -c amex-default-prediction -f sample_submission.csv\n",
        "!unzip /content/sample_submission.csv.zip"
      ],
      "id": "e4df1701"
    },
    {
      "cell_type": "code",
      "source": [
        "!kaggle competitions download -c amex-default-prediction -f train_labels.csv\n",
        "!unzip /content/train_labels.csv.zip"
      ],
      "metadata": {
        "colab": {
          "base_uri": "https://localhost:8080/"
        },
        "id": "AVz5ZOwL-mic",
        "outputId": "3cc809e2-8e0e-4642-95f3-abb79e602a29"
      },
      "id": "AVz5ZOwL-mic",
      "execution_count": 5,
      "outputs": [
        {
          "output_type": "stream",
          "name": "stdout",
          "text": [
            "Downloading train_labels.csv.zip to /content\n",
            " 56% 9.00M/16.2M [00:00<00:00, 75.8MB/s]\n",
            "100% 16.2M/16.2M [00:00<00:00, 115MB/s] \n",
            "Archive:  /content/train_labels.csv.zip\n",
            "  inflating: train_labels.csv        \n"
          ]
        }
      ]
    },
    {
      "cell_type": "markdown",
      "source": [
        "# Training"
      ],
      "metadata": {
        "id": "Sc_uUzZtcYfw"
      },
      "id": "Sc_uUzZtcYfw"
    },
    {
      "cell_type": "code",
      "execution_count": 6,
      "id": "75a923db",
      "metadata": {
        "_cell_guid": "b1076dfc-b9ad-4769-8c92-a6c4dae69d19",
        "_uuid": "8f2839f25d086af736a60e9eeb907d3b93b6e0e5",
        "execution": {
          "iopub.execute_input": "2022-07-04T13:37:46.871349Z",
          "iopub.status.busy": "2022-07-04T13:37:46.870600Z",
          "iopub.status.idle": "2022-07-04T13:37:50.917325Z",
          "shell.execute_reply": "2022-07-04T13:37:50.916525Z"
        },
        "papermill": {
          "duration": 4.059938,
          "end_time": "2022-07-04T13:37:50.919741",
          "exception": false,
          "start_time": "2022-07-04T13:37:46.859803",
          "status": "completed"
        },
        "tags": [],
        "id": "75a923db"
      },
      "outputs": [],
      "source": [
        "import pandas as pd\n",
        "import numpy as np\n",
        "import random\n",
        "import matplotlib.pyplot\n",
        "import os\n",
        "import gc; gc.enable()\n",
        "\n",
        "from sklearn.preprocessing import LabelEncoder\n",
        "from tqdm import tqdm\n",
        "\n",
        "import warnings\n",
        "warnings.filterwarnings('ignore')"
      ]
    },
    {
      "cell_type": "code",
      "execution_count": 7,
      "id": "b06e1731",
      "metadata": {
        "execution": {
          "iopub.execute_input": "2022-07-04T13:37:50.930838Z",
          "iopub.status.busy": "2022-07-04T13:37:50.930542Z",
          "iopub.status.idle": "2022-07-04T13:37:50.934301Z",
          "shell.execute_reply": "2022-07-04T13:37:50.933487Z"
        },
        "papermill": {
          "duration": 0.011323,
          "end_time": "2022-07-04T13:37:50.936212",
          "exception": false,
          "start_time": "2022-07-04T13:37:50.924889",
          "status": "completed"
        },
        "tags": [],
        "id": "b06e1731"
      },
      "outputs": [],
      "source": [
        "VER=8\n",
        "SEED = 42\n",
        "FOLDS = 5\n",
        "\n",
        "cat_features = [\"B_30\", \"B_38\", \"D_114\", \"D_116\", \"D_117\", \"D_120\", \"D_126\", \"D_63\", \"D_64\", \"D_66\", \"D_68\"]\n",
        "\n",
        "def seed_everything(seed):\n",
        "    random.seed(seed)\n",
        "    np.random.seed(seed)\n",
        "    os.environ['PYTHONHASHSEED'] = str(seed)\n",
        "\n",
        "seed_everything(SEED)"
      ]
    },
    {
      "cell_type": "code",
      "execution_count": 8,
      "id": "d8f2573f",
      "metadata": {
        "execution": {
          "iopub.execute_input": "2022-07-04T13:37:50.966158Z",
          "iopub.status.busy": "2022-07-04T13:37:50.965558Z",
          "iopub.status.idle": "2022-07-04T13:38:12.628753Z",
          "shell.execute_reply": "2022-07-04T13:38:12.627666Z"
        },
        "papermill": {
          "duration": 21.671053,
          "end_time": "2022-07-04T13:38:12.631246",
          "exception": false,
          "start_time": "2022-07-04T13:37:50.960193",
          "status": "completed"
        },
        "tags": [],
        "id": "d8f2573f"
      },
      "outputs": [],
      "source": [
        "train = pd.read_parquet(\"/content/train_fe_plus_plus.parquet\")\n",
        "# train = train.reset_index(level=0)"
      ]
    },
    {
      "cell_type": "code",
      "execution_count": 10,
      "id": "64d772da",
      "metadata": {
        "execution": {
          "iopub.execute_input": "2022-07-04T13:38:12.881106Z",
          "iopub.status.busy": "2022-07-04T13:38:12.880449Z",
          "iopub.status.idle": "2022-07-04T13:38:12.888042Z",
          "shell.execute_reply": "2022-07-04T13:38:12.887178Z"
        },
        "papermill": {
          "duration": 0.01539,
          "end_time": "2022-07-04T13:38:12.889725",
          "exception": false,
          "start_time": "2022-07-04T13:38:12.874335",
          "status": "completed"
        },
        "tags": [],
        "id": "64d772da",
        "outputId": "041a5333-efb7-42ee-c5e3-92474f46f757",
        "colab": {
          "base_uri": "https://localhost:8080/"
        }
      },
      "outputs": [
        {
          "output_type": "stream",
          "name": "stderr",
          "text": [
            "100%|██████████| 1899/1899 [07:30<00:00,  4.22it/s] \n"
          ]
        }
      ],
      "source": [
        "# https://www.kaggle.com/code/ragnar123/amex-lgbm-dart-cv-0-7963\n",
        "# Round last float features to 2 decimal place\n",
        "float_cols = list(train.dtypes[(train.dtypes == 'float32') | (train.dtypes == 'float64')].index)\n",
        "float_cols = [col for col in float_cols if 'last' in col]\n",
        "\n",
        "for col in float_cols:\n",
        "    train[col + '_round2'] = train[col].round(2)\n",
        "\n",
        "num_cols = [col for col in train.columns if 'last' in col]\n",
        "num_cols = [col[:-5] for col in num_cols if 'round' not in col]\n",
        "for col in num_cols:\n",
        "    try:\n",
        "        train[f'{col}_last_mean'] = train[f'{col}_last'] - train[f'{col}_mean']\n",
        "    except: pass\n",
        "num_cols = list(train.dtypes[(train.dtypes == 'float32') | (train.dtypes == 'float64')].index)\n",
        "for col in tqdm(num_cols):\n",
        "    train[col] = train[col].astype(np.float16)"
      ]
    },
    {
      "cell_type": "code",
      "execution_count": null,
      "id": "e9e4628c",
      "metadata": {
        "execution": {
          "iopub.execute_input": "2022-07-04T13:38:12.901239Z",
          "iopub.status.busy": "2022-07-04T13:38:12.900951Z",
          "iopub.status.idle": "2022-07-04T13:38:14.055784Z",
          "shell.execute_reply": "2022-07-04T13:38:14.054043Z"
        },
        "papermill": {
          "duration": 1.163442,
          "end_time": "2022-07-04T13:38:14.058383",
          "exception": false,
          "start_time": "2022-07-04T13:38:12.894941",
          "status": "completed"
        },
        "tags": [],
        "id": "e9e4628c"
      },
      "outputs": [],
      "source": [
        "train = train.set_index('customer_ID')\n",
        "train = train.sort_index().reset_index()\n",
        "FEATURES = train.drop(columns=['customer_ID', 'target']).columns\n",
        "print(f\"We have {len(FEATURES)} features\")"
      ]
    },
    {
      "cell_type": "code",
      "execution_count": null,
      "id": "d98b705b",
      "metadata": {
        "execution": {
          "iopub.execute_input": "2022-07-04T13:38:15.369855Z",
          "iopub.status.busy": "2022-07-04T13:38:15.369570Z",
          "iopub.status.idle": "2022-07-04T13:38:15.468113Z",
          "shell.execute_reply": "2022-07-04T13:38:15.466877Z"
        },
        "papermill": {
          "duration": 0.106496,
          "end_time": "2022-07-04T13:38:15.469835",
          "exception": false,
          "start_time": "2022-07-04T13:38:15.363339",
          "status": "completed"
        },
        "tags": [],
        "id": "d98b705b"
      },
      "outputs": [],
      "source": [
        "# LOAD XGB LIBRARY\n",
        "from sklearn.model_selection import KFold\n",
        "import xgboost as xgb\n",
        "print('XGB Version',xgb.__version__)\n",
        "\n",
        "# XGB MODEL PARAMETERS\n",
        "xgb_parms = {\n",
        "    'max_depth':7,\n",
        "    'eta':0.01,\n",
        "    'subsample':0.75,\n",
        "    'colsample_bytree':0.35,\n",
        "    'min_child_weight':8,\n",
        "    # 'booster': 'dart',\n",
        "#     'max_delta_step': 16,\n",
        "    'eval_metric':['logloss', 'auc'],\n",
        "    'gamma':1.5,\n",
        "    'lambda':70,\n",
        "#     'reg_alpha':2,\n",
        "#     'reg_lambda':2,\n",
        "#     'scale_pos_weight':2.5,\n",
        "#     'eval_metric':'logloss',\n",
        "    'objective':'binary:logistic',\n",
        "    'tree_method':'gpu_hist',\n",
        "    'predictor':'gpu_predictor',\n",
        "    'random_state':SEED\n",
        "}"
      ]
    },
    {
      "cell_type": "code",
      "execution_count": null,
      "id": "89f2c8a7",
      "metadata": {
        "execution": {
          "iopub.execute_input": "2022-07-04T13:38:15.503475Z",
          "iopub.status.busy": "2022-07-04T13:38:15.503227Z",
          "iopub.status.idle": "2022-07-04T13:38:15.511646Z",
          "shell.execute_reply": "2022-07-04T13:38:15.510996Z"
        },
        "papermill": {
          "duration": 0.01593,
          "end_time": "2022-07-04T13:38:15.513211",
          "exception": false,
          "start_time": "2022-07-04T13:38:15.497281",
          "status": "completed"
        },
        "tags": [],
        "id": "89f2c8a7"
      },
      "outputs": [],
      "source": [
        "# https://www.kaggle.com/competitions/amex-default-prediction/discussion/328020\n",
        "import numpy as np\n",
        "\n",
        "def amex_metric_numpy(y_true: np.array, y_pred: np.array) -> float:\n",
        "\n",
        "    # count of positives and negatives\n",
        "    n_pos = y_true.sum()\n",
        "    n_neg = y_true.shape[0] - n_pos\n",
        "\n",
        "    # sorting by descring prediction values\n",
        "    indices = np.argsort(y_pred)[::-1]\n",
        "    preds, target = y_pred[indices], y_true[indices]\n",
        "\n",
        "    # filter the top 4% by cumulative row weights\n",
        "    weight = 20.0 - target * 19.0\n",
        "    cum_norm_weight = (weight / weight.sum()).cumsum()\n",
        "    four_pct_filter = cum_norm_weight <= 0.04\n",
        "\n",
        "    # default rate captured at 4%\n",
        "    d = target[four_pct_filter].sum() / n_pos\n",
        "\n",
        "    # weighted gini coefficient\n",
        "    lorentz = (target / n_pos).cumsum()\n",
        "    gini = ((lorentz - cum_norm_weight) * weight).sum()\n",
        "\n",
        "    # max weighted gini coefficient\n",
        "    gini_max = 10 * n_neg * (1 - 19 / (n_pos + 20 * n_neg))\n",
        "\n",
        "    # normalized weighted gini coefficient\n",
        "    g = gini / gini_max\n",
        "\n",
        "    return 0.5 * (g + d)\n",
        "\n",
        "def xgb_amex(y_pred, y_true):\n",
        "    return 'amex', amex_metric_numpy(y_true.get_label(), y_pred)"
      ]
    },
    {
      "cell_type": "code",
      "execution_count": null,
      "id": "1b3c3440",
      "metadata": {
        "execution": {
          "iopub.execute_input": "2022-07-04T13:38:15.524655Z",
          "iopub.status.busy": "2022-07-04T13:38:15.524403Z",
          "iopub.status.idle": "2022-07-04T13:57:20.743694Z",
          "shell.execute_reply": "2022-07-04T13:57:20.742632Z"
        },
        "papermill": {
          "duration": 1145.227069,
          "end_time": "2022-07-04T13:57:20.745545",
          "exception": false,
          "start_time": "2022-07-04T13:38:15.518476",
          "status": "completed"
        },
        "tags": [],
        "id": "1b3c3440"
      },
      "outputs": [],
      "source": [
        "importances = []\n",
        "oof = []\n",
        "gc.collect()\n",
        "\n",
        "skf = KFold(n_splits=FOLDS, shuffle=True, random_state=SEED)\n",
        "for fold,(train_idx, valid_idx) in enumerate(skf.split(train, train.target )):\n",
        "    print('#'*25)\n",
        "    print('### Fold',fold+1)\n",
        "    print('### Train size',len(train_idx),'Valid size',len(valid_idx))\n",
        "    print('#'*25)\n",
        "    \n",
        "    # TRAIN, VALID, TEST FOR FOLD K\n",
        "    y_valid = train.loc[valid_idx, 'target']\n",
        "    X_train = train.loc[train_idx, FEATURES]\n",
        "    X_valid = train.loc[valid_idx, FEATURES]\n",
        "    X_train.replace([np.nan, np.inf, -np.inf], -127, inplace=True)\n",
        "    X_valid.replace([np.nan, np.inf, -np.inf], -127, inplace=True)\n",
        "\n",
        "    dtrain = xgb.DMatrix(data=X_train, label=train.loc[train_idx, 'target'])\n",
        "    dvalid = xgb.DMatrix(data=X_valid, label=y_valid)\n",
        "\n",
        "    # TRAIN MODEL FOLD K\n",
        "    model = xgb.train(xgb_parms, \n",
        "                dtrain=dtrain,\n",
        "                evals=[(dtrain,'train'),(dvalid,'eval')],\n",
        "                num_boost_round=15000,\n",
        "                early_stopping_rounds=750,\n",
        "                maximize=True,\n",
        "                custom_metric= xgb_amex,\n",
        "                verbose_eval=500) \n",
        "    model.save_model(f'XGB_v{VER}_fold{fold}.xgb')\n",
        "    \n",
        "    # GET FEATURE IMPORTANCE FOR FOLD K\n",
        "    dd = model.get_score(importance_type='weight')\n",
        "    df = pd.DataFrame({'feature':dd.keys(),f'importance_{fold}':dd.values()})\n",
        "    importances.append(df)\n",
        "            \n",
        "    # INFER OOF FOLD K\n",
        "    oof_preds = model.predict(dvalid)\n",
        "    acc = amex_metric_numpy(y_valid.values, oof_preds)\n",
        "    print('Kaggle Metric =',acc,'\\n')\n",
        "    \n",
        "    # SAVE OOF\n",
        "    df = train.loc[valid_idx, ['customer_ID','target'] ].copy()\n",
        "    df['oof_pred'] = oof_preds\n",
        "    oof.append( df )\n",
        "\n",
        "    del dtrain, dd, df\n",
        "    del y_valid, dvalid, model\n",
        "    _ = gc.collect()\n",
        "    \n",
        "print('#'*25)\n",
        "oof = pd.concat(oof,axis=0,ignore_index=True).set_index('customer_ID')\n",
        "acc = amex_metric_numpy(oof.target.values, oof.oof_pred.values)\n",
        "print('OVERALL CV Kaggle Metric =',acc)"
      ]
    },
    {
      "cell_type": "code",
      "execution_count": null,
      "id": "a0683792",
      "metadata": {
        "execution": {
          "iopub.execute_input": "2022-07-04T13:57:20.767668Z",
          "iopub.status.busy": "2022-07-04T13:57:20.767389Z",
          "iopub.status.idle": "2022-07-04T13:57:20.897259Z",
          "shell.execute_reply": "2022-07-04T13:57:20.896305Z"
        },
        "papermill": {
          "duration": 0.143223,
          "end_time": "2022-07-04T13:57:20.899414",
          "exception": false,
          "start_time": "2022-07-04T13:57:20.756191",
          "status": "completed"
        },
        "tags": [],
        "id": "a0683792"
      },
      "outputs": [],
      "source": [
        "# CLEAN RAM\n",
        "del train\n",
        "_ = gc.collect()"
      ]
    },
    {
      "cell_type": "code",
      "execution_count": null,
      "id": "7c84e45b",
      "metadata": {
        "execution": {
          "iopub.execute_input": "2022-07-04T13:57:20.922375Z",
          "iopub.status.busy": "2022-07-04T13:57:20.922102Z",
          "iopub.status.idle": "2022-07-04T13:57:20.952759Z",
          "shell.execute_reply": "2022-07-04T13:57:20.952102Z"
        },
        "papermill": {
          "duration": 0.044099,
          "end_time": "2022-07-04T13:57:20.954464",
          "exception": false,
          "start_time": "2022-07-04T13:57:20.910365",
          "status": "completed"
        },
        "tags": [],
        "id": "7c84e45b"
      },
      "outputs": [],
      "source": [
        "import matplotlib.pyplot as plt\n",
        "\n",
        "df = importances[0].copy()\n",
        "for k in range(1,FOLDS): df = df.merge(importances[k], on='feature', how='left')\n",
        "df['importance'] = df.iloc[:,1:].mean(axis=1)\n",
        "df = df.sort_values('importance',ascending=False)\n",
        "df.to_csv(f'xgb_feature_importance_v{VER}.csv',index=False)"
      ]
    },
    {
      "cell_type": "code",
      "execution_count": null,
      "id": "cf219aaf",
      "metadata": {
        "execution": {
          "iopub.execute_input": "2022-07-04T13:57:20.976586Z",
          "iopub.status.busy": "2022-07-04T13:57:20.976325Z",
          "iopub.status.idle": "2022-07-04T13:57:21.242333Z",
          "shell.execute_reply": "2022-07-04T13:57:21.241620Z"
        },
        "papermill": {
          "duration": 0.278865,
          "end_time": "2022-07-04T13:57:21.244004",
          "exception": false,
          "start_time": "2022-07-04T13:57:20.965139",
          "status": "completed"
        },
        "tags": [],
        "id": "cf219aaf"
      },
      "outputs": [],
      "source": [
        "NUM_FEATURES = 20\n",
        "plt.figure(figsize=(10,5*NUM_FEATURES//10))\n",
        "plt.barh(np.arange(NUM_FEATURES,0,-1), df.importance.values[:NUM_FEATURES])\n",
        "plt.yticks(np.arange(NUM_FEATURES,0,-1), df.feature.values[:NUM_FEATURES])\n",
        "plt.title(f'XGB Feature Importance - Top {NUM_FEATURES}')\n",
        "plt.show()"
      ]
    },
    {
      "cell_type": "markdown",
      "source": [
        "# Test part"
      ],
      "metadata": {
        "id": "5eVl7ZgaHTai"
      },
      "id": "5eVl7ZgaHTai"
    },
    {
      "cell_type": "code",
      "execution_count": null,
      "id": "caceea59",
      "metadata": {
        "execution": {
          "iopub.execute_input": "2022-07-04T13:57:21.266604Z",
          "iopub.status.busy": "2022-07-04T13:57:21.266343Z",
          "iopub.status.idle": "2022-07-04T13:57:23.926842Z",
          "shell.execute_reply": "2022-07-04T13:57:23.925728Z"
        },
        "papermill": {
          "duration": 2.67433,
          "end_time": "2022-07-04T13:57:23.929254",
          "exception": false,
          "start_time": "2022-07-04T13:57:21.254924",
          "status": "completed"
        },
        "tags": [],
        "id": "caceea59"
      },
      "outputs": [],
      "source": [
        "# CALCULATE SIZE OF EACH SEPARATE TEST PART\n",
        "def get_rows(customers, test, NUM_PARTS = 4, verbose = ''):\n",
        "    chunk = len(customers)//NUM_PARTS\n",
        "    if verbose != '':\n",
        "        print(f'We will process {verbose} data as {NUM_PARTS} separate parts.')\n",
        "        print(f'There will be {chunk} customers in each part (except the last part).')\n",
        "        print('Below are number of rows in each part:')\n",
        "    rows = []\n",
        "\n",
        "    for k in range(NUM_PARTS):\n",
        "        if k==NUM_PARTS-1: cc = customers[k*chunk:]\n",
        "        else: cc = customers[k*chunk:(k+1)*chunk]\n",
        "        s = test.loc[test.customer_ID.isin(cc)].shape[0]\n",
        "        rows.append(s)\n",
        "    if verbose != '': print( rows )\n",
        "    return rows,chunk"
      ]
    },
    {
      "cell_type": "code",
      "source": [
        "# COMPUTE SIZE OF 4 PARTS FOR TEST DATA\n",
        "NUM_PARTS = 4\n",
        "\n",
        "test = pd.read_parquet(\"/content/test_fe_plus_plus.parquet\")\n",
        "\n",
        "customers = test[['customer_ID']].drop_duplicates().sort_index().values.flatten()\n",
        "rows,num_cust = get_rows(customers, test[['customer_ID']], NUM_PARTS = NUM_PARTS, verbose = 'test')"
      ],
      "metadata": {
        "id": "Bx78HcsneJfF"
      },
      "id": "Bx78HcsneJfF",
      "execution_count": null,
      "outputs": []
    },
    {
      "cell_type": "code",
      "execution_count": null,
      "id": "284c3ec2",
      "metadata": {
        "execution": {
          "iopub.execute_input": "2022-07-04T13:57:23.953558Z",
          "iopub.status.busy": "2022-07-04T13:57:23.952895Z",
          "iopub.status.idle": "2022-07-04T14:00:05.767912Z",
          "shell.execute_reply": "2022-07-04T14:00:05.767103Z"
        },
        "papermill": {
          "duration": 161.82896,
          "end_time": "2022-07-04T14:00:05.770110",
          "exception": false,
          "start_time": "2022-07-04T13:57:23.941150",
          "status": "completed"
        },
        "tags": [],
        "id": "284c3ec2"
      },
      "outputs": [],
      "source": [
        "# INFER TEST DATA IN PARTS\n",
        "skip_rows = 0\n",
        "skip_cust = 0\n",
        "test_preds = []\n",
        "\n",
        "for k in range(NUM_PARTS):\n",
        "    # READ PART OF TEST DATA\n",
        "    print(f'\\nReading test data...')\n",
        "    test_copy = test.iloc[skip_rows:skip_rows+rows[k]].copy()\n",
        "    test_copy = test_copy.set_index('customer_ID')\n",
        "    skip_rows += rows[k]\n",
        "    print(f'=> Test part {k+1} has shape', test_copy.shape )\n",
        "\n",
        "    for col in float_cols:\n",
        "        test_copy[col + '_round2'] = test_copy[col].round(2)\n",
        "\n",
        "    num_cols = [col for col in test_copy.columns if 'last' in col]\n",
        "    num_cols = [col[:-5] for col in num_cols if 'round' not in col]\n",
        "    for col in num_cols:\n",
        "        try:\n",
        "            test_copy[f'{col}_last_mean'] = test_copy[f'{col}_last'] - test_copy[f'{col}_mean']\n",
        "        except: pass\n",
        "    num_cols = list(test_copy.dtypes[(test_copy.dtypes == 'float32') | (test_copy.dtypes == 'float64')].index)\n",
        "    for col in tqdm(num_cols):\n",
        "        test_copy[col] = test_copy[col].astype(np.float16)\n",
        "\n",
        "    test_copy.replace([np.nan, np.inf, -np.inf], -127, inplace=True)\n",
        "\n",
        "    # PROCESS AND FEATURE ENGINEER PART OF TEST DATA\n",
        "    if k==NUM_PARTS-1: test_copy = test_copy.loc[customers[skip_cust:]]\n",
        "    else: test_copy = test_copy.loc[customers[skip_cust:skip_cust+num_cust]]\n",
        "    skip_cust += num_cust\n",
        "    \n",
        "    # TEST DATA FOR XGB\n",
        "    X_test = test_copy[FEATURES]\n",
        "    dtest = xgb.DMatrix(data=X_test)\n",
        "    test_copy = test_copy[['P_2_mean']] # reduce memory\n",
        "    del X_test\n",
        "    gc.collect()\n",
        "\n",
        "    # INFER XGB MODELS ON TEST DATA\n",
        "    model = xgb.Booster()\n",
        "    model.load_model(f'XGB_v{VER}_fold0.xgb')\n",
        "    preds = model.predict(dtest)\n",
        "    for f in range(1,FOLDS):\n",
        "        model.load_model(f'XGB_v{VER}_fold{f}.xgb')\n",
        "        preds += model.predict(dtest)\n",
        "    preds /= FOLDS\n",
        "    test_preds.append(preds)\n",
        "\n",
        "    # CLEAN MEMORY\n",
        "    del test_copy, dtest, model\n",
        "    _ = gc.collect()\n",
        "\n",
        "del test\n",
        "_ = gc.collect()"
      ]
    },
    {
      "cell_type": "code",
      "execution_count": null,
      "id": "a9cdac27",
      "metadata": {
        "execution": {
          "iopub.execute_input": "2022-07-04T14:00:05.795436Z",
          "iopub.status.busy": "2022-07-04T14:00:05.795158Z",
          "iopub.status.idle": "2022-07-04T14:00:06.821793Z",
          "shell.execute_reply": "2022-07-04T14:00:06.820885Z"
        },
        "papermill": {
          "duration": 1.042409,
          "end_time": "2022-07-04T14:00:06.824706",
          "exception": false,
          "start_time": "2022-07-04T14:00:05.782297",
          "status": "completed"
        },
        "tags": [],
        "id": "a9cdac27"
      },
      "outputs": [],
      "source": [
        "# WRITE SUBMISSION FILE\n",
        "test = pd.DataFrame(index=customers,data={'prediction': np.concatenate(test_preds)})\n",
        "sub = pd.read_csv('/content/sample_submission.csv')[['customer_ID']]\n",
        "sub['customer_ID_hash'] = sub['customer_ID'].copy()\n",
        "sub = sub.set_index('customer_ID_hash')\n",
        "sub = sub.merge(test[['prediction']], left_index=True, right_index=True, how='left')\n",
        "sub = sub.reset_index(drop=True)\n",
        "\n",
        "# DISPLAY PREDICTIONS\n",
        "sub.to_csv(f'submission_xgb_v{VER}_seed{SEED}_fold{FOLDS}.csv',index=False)\n",
        "print('Submission file shape is', sub.shape )\n",
        "sub.head()"
      ]
    },
    {
      "cell_type": "code",
      "execution_count": null,
      "id": "63453bcd",
      "metadata": {
        "execution": {
          "iopub.execute_input": "2022-07-04T14:00:06.852363Z",
          "iopub.status.busy": "2022-07-04T14:00:06.851721Z",
          "iopub.status.idle": "2022-07-04T14:00:07.547496Z",
          "shell.execute_reply": "2022-07-04T14:00:07.546749Z"
        },
        "papermill": {
          "duration": 0.710906,
          "end_time": "2022-07-04T14:00:07.549303",
          "exception": false,
          "start_time": "2022-07-04T14:00:06.838397",
          "status": "completed"
        },
        "tags": [],
        "id": "63453bcd"
      },
      "outputs": [],
      "source": [
        "# PLOT PREDICTIONS\n",
        "import matplotlib.pyplot as plt\n",
        "\n",
        "plt.hist(sub.prediction, bins=100)\n",
        "plt.title('Test Predictions')\n",
        "plt.show()"
      ]
    },
    {
      "cell_type": "markdown",
      "metadata": {
        "papermill": {
          "duration": 0.042841,
          "end_time": "2022-07-15T16:51:28.477165",
          "exception": false,
          "start_time": "2022-07-15T16:51:28.434324",
          "status": "completed"
        },
        "tags": [],
        "id": "802623f7"
      },
      "source": [
        "# Submit to Kaggle from Colab"
      ],
      "id": "802623f7"
    },
    {
      "cell_type": "code",
      "execution_count": null,
      "metadata": {
        "execution": {
          "iopub.execute_input": "2022-07-15T16:51:28.552420Z",
          "iopub.status.busy": "2022-07-15T16:51:28.551829Z",
          "iopub.status.idle": "2022-07-15T16:51:28.557906Z",
          "shell.execute_reply": "2022-07-15T16:51:28.557166Z"
        },
        "papermill": {
          "duration": 0.048007,
          "end_time": "2022-07-15T16:51:28.561880",
          "exception": false,
          "start_time": "2022-07-15T16:51:28.513873",
          "status": "completed"
        },
        "tags": [],
        "id": "efc54970"
      },
      "outputs": [],
      "source": [
        "# Submit\n",
        "!kaggle competitions submit -c amex-default-prediction -f submission_xgb_v6_seed42_fold5.csv -m \"Run with (last - first) / s_2 seed 42 fold 5\""
      ],
      "id": "efc54970"
    },
    {
      "cell_type": "code",
      "execution_count": null,
      "metadata": {
        "execution": {
          "iopub.execute_input": "2022-07-15T16:51:28.636400Z",
          "iopub.status.busy": "2022-07-15T16:51:28.635706Z",
          "iopub.status.idle": "2022-07-15T16:51:28.643060Z",
          "shell.execute_reply": "2022-07-15T16:51:28.640501Z"
        },
        "papermill": {
          "duration": 0.04911,
          "end_time": "2022-07-15T16:51:28.647823",
          "exception": false,
          "start_time": "2022-07-15T16:51:28.598713",
          "status": "completed"
        },
        "tags": [],
        "id": "aad5cc1a"
      },
      "outputs": [],
      "source": [
        "# Run after few seconds\n",
        "!kaggle competitions submissions amex-default-prediction"
      ],
      "id": "aad5cc1a"
    }
  ],
  "metadata": {
    "kernelspec": {
      "display_name": "Python 3",
      "language": "python",
      "name": "python3"
    },
    "language_info": {
      "codemirror_mode": {
        "name": "ipython",
        "version": 3
      },
      "file_extension": ".py",
      "mimetype": "text/x-python",
      "name": "python",
      "nbconvert_exporter": "python",
      "pygments_lexer": "ipython3",
      "version": "3.7.12"
    },
    "papermill": {
      "default_parameters": {},
      "duration": 1350.063162,
      "end_time": "2022-07-04T14:00:08.785368",
      "environment_variables": {},
      "exception": null,
      "input_path": "__notebook__.ipynb",
      "output_path": "__notebook__.ipynb",
      "parameters": {},
      "start_time": "2022-07-04T13:37:38.722206",
      "version": "2.3.4"
    },
    "colab": {
      "name": "amex-default-prediction-xgb.ipynb",
      "provenance": [],
      "machine_shape": "hm"
    },
    "gpuClass": "standard",
    "accelerator": "GPU"
  },
  "nbformat": 4,
  "nbformat_minor": 5
}
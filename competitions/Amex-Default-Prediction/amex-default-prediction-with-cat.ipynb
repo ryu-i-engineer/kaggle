{
 "cells": [
  {
   "cell_type": "markdown",
   "id": "cc01c817",
   "metadata": {
    "papermill": {
     "duration": 0.009636,
     "end_time": "2022-07-11T15:20:23.358010",
     "exception": false,
     "start_time": "2022-07-11T15:20:23.348374",
     "status": "completed"
    },
    "tags": []
   },
   "source": [
    "# Get env info"
   ]
  },
  {
   "cell_type": "code",
   "execution_count": 1,
   "id": "f01e5cd9",
   "metadata": {
    "execution": {
     "iopub.execute_input": "2022-07-11T15:20:23.377370Z",
     "iopub.status.busy": "2022-07-11T15:20:23.376857Z",
     "iopub.status.idle": "2022-07-11T15:20:23.388032Z",
     "shell.execute_reply": "2022-07-11T15:20:23.387216Z"
    },
    "papermill": {
     "duration": 0.023194,
     "end_time": "2022-07-11T15:20:23.389870",
     "exception": false,
     "start_time": "2022-07-11T15:20:23.366676",
     "status": "completed"
    },
    "tags": []
   },
   "outputs": [],
   "source": [
    "import os\n",
    "is_env_colab = True\n",
    "\n",
    "if \"kaggle\" in os.path.abspath(\".\"):\n",
    "    is_env_colab = False"
   ]
  },
  {
   "cell_type": "markdown",
   "id": "a426ad0c",
   "metadata": {
    "papermill": {
     "duration": 0.00862,
     "end_time": "2022-07-11T15:20:23.409667",
     "exception": false,
     "start_time": "2022-07-11T15:20:23.401047",
     "status": "completed"
    },
    "tags": []
   },
   "source": [
    "# Prepare for colab"
   ]
  },
  {
   "cell_type": "code",
   "execution_count": 2,
   "id": "7a9ce166",
   "metadata": {
    "execution": {
     "iopub.execute_input": "2022-07-11T15:20:23.428937Z",
     "iopub.status.busy": "2022-07-11T15:20:23.428505Z",
     "iopub.status.idle": "2022-07-11T15:20:23.432653Z",
     "shell.execute_reply": "2022-07-11T15:20:23.431845Z"
    },
    "papermill": {
     "duration": 0.015475,
     "end_time": "2022-07-11T15:20:23.434536",
     "exception": false,
     "start_time": "2022-07-11T15:20:23.419061",
     "status": "completed"
    },
    "tags": []
   },
   "outputs": [],
   "source": [
    "if is_env_colab:\n",
    "    !pip install catboost"
   ]
  },
  {
   "cell_type": "markdown",
   "id": "d7c52d18",
   "metadata": {
    "papermill": {
     "duration": 0.008199,
     "end_time": "2022-07-11T15:20:23.451485",
     "exception": false,
     "start_time": "2022-07-11T15:20:23.443286",
     "status": "completed"
    },
    "tags": []
   },
   "source": [
    "# Kaggle Set up"
   ]
  },
  {
   "cell_type": "code",
   "execution_count": 3,
   "id": "4d3efc44",
   "metadata": {
    "execution": {
     "iopub.execute_input": "2022-07-11T15:20:23.469850Z",
     "iopub.status.busy": "2022-07-11T15:20:23.469421Z",
     "iopub.status.idle": "2022-07-11T15:20:23.473475Z",
     "shell.execute_reply": "2022-07-11T15:20:23.472787Z"
    },
    "papermill": {
     "duration": 0.015197,
     "end_time": "2022-07-11T15:20:23.475246",
     "exception": false,
     "start_time": "2022-07-11T15:20:23.460049",
     "status": "completed"
    },
    "tags": []
   },
   "outputs": [],
   "source": [
    "if is_env_colab:\n",
    "    !pip install kaggle"
   ]
  },
  {
   "cell_type": "markdown",
   "id": "bf4aab8f",
   "metadata": {
    "papermill": {
     "duration": 0.008234,
     "end_time": "2022-07-11T15:20:23.491824",
     "exception": false,
     "start_time": "2022-07-11T15:20:23.483590",
     "status": "completed"
    },
    "tags": []
   },
   "source": [
    "## Upload API Token"
   ]
  },
  {
   "cell_type": "code",
   "execution_count": 4,
   "id": "ad1eccac",
   "metadata": {
    "execution": {
     "iopub.execute_input": "2022-07-11T15:20:23.510541Z",
     "iopub.status.busy": "2022-07-11T15:20:23.510216Z",
     "iopub.status.idle": "2022-07-11T15:20:23.516607Z",
     "shell.execute_reply": "2022-07-11T15:20:23.515799Z"
    },
    "papermill": {
     "duration": 0.017972,
     "end_time": "2022-07-11T15:20:23.518360",
     "exception": false,
     "start_time": "2022-07-11T15:20:23.500388",
     "status": "completed"
    },
    "tags": []
   },
   "outputs": [],
   "source": [
    "if is_env_colab:\n",
    "    from google.colab import files\n",
    "\n",
    "    uploaded = files.upload()\n",
    "\n",
    "    for fn in uploaded.keys():\n",
    "      print('User uploaded file \"{name}\" with length {length} bytes'.format(\n",
    "          name=fn, length=len(uploaded[fn])))\n",
    "\n",
    "    # Then move kaggle.json into the folder where the API expects to find it.\n",
    "    !mkdir -p ~/.kaggle/ && mv kaggle.json ~/.kaggle/ && chmod 600 ~/.kaggle/kaggle.json"
   ]
  },
  {
   "cell_type": "markdown",
   "id": "ab0fbfba",
   "metadata": {
    "papermill": {
     "duration": 0.008125,
     "end_time": "2022-07-11T15:20:23.534816",
     "exception": false,
     "start_time": "2022-07-11T15:20:23.526691",
     "status": "completed"
    },
    "tags": []
   },
   "source": [
    "## Download and unzip dataset"
   ]
  },
  {
   "cell_type": "code",
   "execution_count": 5,
   "id": "ee501097",
   "metadata": {
    "execution": {
     "iopub.execute_input": "2022-07-11T15:20:23.553303Z",
     "iopub.status.busy": "2022-07-11T15:20:23.552978Z",
     "iopub.status.idle": "2022-07-11T15:20:23.557783Z",
     "shell.execute_reply": "2022-07-11T15:20:23.557097Z"
    },
    "papermill": {
     "duration": 0.015925,
     "end_time": "2022-07-11T15:20:23.559360",
     "exception": false,
     "start_time": "2022-07-11T15:20:23.543435",
     "status": "completed"
    },
    "tags": []
   },
   "outputs": [],
   "source": [
    "if is_env_colab:\n",
    "    !kaggle datasets download -d huseyincot/amex-agg-data-pickle\n",
    "    !unzip /content/amex-agg-data-pickle.zip"
   ]
  },
  {
   "cell_type": "code",
   "execution_count": 6,
   "id": "50d73951",
   "metadata": {
    "execution": {
     "iopub.execute_input": "2022-07-11T15:20:23.577767Z",
     "iopub.status.busy": "2022-07-11T15:20:23.577030Z",
     "iopub.status.idle": "2022-07-11T15:20:23.582054Z",
     "shell.execute_reply": "2022-07-11T15:20:23.581380Z"
    },
    "papermill": {
     "duration": 0.015747,
     "end_time": "2022-07-11T15:20:23.583618",
     "exception": false,
     "start_time": "2022-07-11T15:20:23.567871",
     "status": "completed"
    },
    "tags": []
   },
   "outputs": [],
   "source": [
    "if is_env_colab:\n",
    "    !kaggle competitions download -c amex-default-prediction -f sample_submission.csv\n",
    "    !unzip /content/sample_submission.csv.zip"
   ]
  },
  {
   "cell_type": "markdown",
   "id": "57a5068e",
   "metadata": {
    "papermill": {
     "duration": 0.008301,
     "end_time": "2022-07-11T15:20:23.600290",
     "exception": false,
     "start_time": "2022-07-11T15:20:23.591989",
     "status": "completed"
    },
    "tags": []
   },
   "source": [
    "# Settings"
   ]
  },
  {
   "cell_type": "code",
   "execution_count": 7,
   "id": "ae343bea",
   "metadata": {
    "_cell_guid": "b1076dfc-b9ad-4769-8c92-a6c4dae69d19",
    "_uuid": "8f2839f25d086af736a60e9eeb907d3b93b6e0e5",
    "execution": {
     "iopub.execute_input": "2022-07-11T15:20:23.618906Z",
     "iopub.status.busy": "2022-07-11T15:20:23.618552Z",
     "iopub.status.idle": "2022-07-11T15:20:25.059699Z",
     "shell.execute_reply": "2022-07-11T15:20:25.058915Z"
    },
    "papermill": {
     "duration": 1.453153,
     "end_time": "2022-07-11T15:20:25.061886",
     "exception": false,
     "start_time": "2022-07-11T15:20:23.608733",
     "status": "completed"
    },
    "tags": []
   },
   "outputs": [],
   "source": [
    "import pandas as pd\n",
    "import numpy as np\n",
    "import matplotlib.pyplot as plt\n",
    "import random\n",
    "\n",
    "from catboost import CatBoostClassifier, Pool\n",
    "from sklearn.preprocessing import LabelEncoder\n",
    "from sklearn.model_selection import KFold\n",
    "\n",
    "import os\n",
    "import gc; gc.enable()\n",
    "\n",
    "import warnings\n",
    "warnings.filterwarnings('ignore')"
   ]
  },
  {
   "cell_type": "code",
   "execution_count": 8,
   "id": "37e99576",
   "metadata": {
    "execution": {
     "iopub.execute_input": "2022-07-11T15:20:25.081150Z",
     "iopub.status.busy": "2022-07-11T15:20:25.080477Z",
     "iopub.status.idle": "2022-07-11T15:20:25.086036Z",
     "shell.execute_reply": "2022-07-11T15:20:25.085285Z"
    },
    "papermill": {
     "duration": 0.017173,
     "end_time": "2022-07-11T15:20:25.087657",
     "exception": false,
     "start_time": "2022-07-11T15:20:25.070484",
     "status": "completed"
    },
    "tags": []
   },
   "outputs": [],
   "source": [
    "VER=1\n",
    "SEED = 42\n",
    "FOLDS = 5\n",
    "\n",
    "cat_features = [\"B_30\", \"B_38\", \"D_114\", \"D_116\", \"D_117\", \"D_120\", \"D_126\", \"D_63\", \"D_64\", \"D_66\", \"D_68\"]\n",
    "\n",
    "def seed_everything(seed):\n",
    "    random.seed(seed)\n",
    "    np.random.seed(seed)\n",
    "    os.environ['PYTHONHASHSEED'] = str(seed)\n",
    "\n",
    "seed_everything(SEED)"
   ]
  },
  {
   "cell_type": "code",
   "execution_count": 9,
   "id": "bc33a213",
   "metadata": {
    "execution": {
     "iopub.execute_input": "2022-07-11T15:20:25.106099Z",
     "iopub.status.busy": "2022-07-11T15:20:25.105398Z",
     "iopub.status.idle": "2022-07-11T15:20:25.109424Z",
     "shell.execute_reply": "2022-07-11T15:20:25.108569Z"
    },
    "papermill": {
     "duration": 0.015193,
     "end_time": "2022-07-11T15:20:25.111300",
     "exception": false,
     "start_time": "2022-07-11T15:20:25.096107",
     "status": "completed"
    },
    "tags": []
   },
   "outputs": [],
   "source": [
    "parent_dir = \"../input/\"\n",
    "if is_env_colab:\n",
    "    parent_dir = \"/content/\"    "
   ]
  },
  {
   "cell_type": "code",
   "execution_count": 10,
   "id": "0a096cf8",
   "metadata": {
    "execution": {
     "iopub.execute_input": "2022-07-11T15:20:25.129620Z",
     "iopub.status.busy": "2022-07-11T15:20:25.129282Z",
     "iopub.status.idle": "2022-07-11T15:21:22.934972Z",
     "shell.execute_reply": "2022-07-11T15:21:22.934122Z"
    },
    "papermill": {
     "duration": 57.817488,
     "end_time": "2022-07-11T15:21:22.937356",
     "exception": false,
     "start_time": "2022-07-11T15:20:25.119868",
     "status": "completed"
    },
    "tags": []
   },
   "outputs": [],
   "source": [
    "# train = pd.read_pickle(parent_dir + \"amexdefaultpickleincludemedian/train_agg.pkl\", compression=\"gzip\")\n",
    "# train = train.reset_index(level=0)\n",
    "\n",
    "# test = pd.read_pickle(parent_dir + \"amexdefaultpickleincludemedian/test.pkl\", compression=\"gzip\")\n",
    "# test = test.reset_index(level=0)\n",
    "\n",
    "train = pd.read_pickle(parent_dir + \"amex-agg-data-pickle/train_agg.pkl\", compression=\"gzip\")\n",
    "train = train.reset_index(level=0)\n",
    "test = pd.read_pickle(parent_dir + \"amex-agg-data-pickle/test_agg.pkl\", compression=\"gzip\")\n",
    "test = test.reset_index(level=0)"
   ]
  },
  {
   "cell_type": "code",
   "execution_count": 11,
   "id": "ee19d582",
   "metadata": {
    "execution": {
     "iopub.execute_input": "2022-07-11T15:21:22.956118Z",
     "iopub.status.busy": "2022-07-11T15:21:22.955815Z",
     "iopub.status.idle": "2022-07-11T15:21:29.444683Z",
     "shell.execute_reply": "2022-07-11T15:21:29.443819Z"
    },
    "papermill": {
     "duration": 6.50053,
     "end_time": "2022-07-11T15:21:29.446870",
     "exception": false,
     "start_time": "2022-07-11T15:21:22.946340",
     "status": "completed"
    },
    "tags": []
   },
   "outputs": [],
   "source": [
    "cat_features_last = [f\"{cf}_last\" for cf in cat_features]\n",
    "\n",
    "le_encoder = LabelEncoder()\n",
    "for categorical_feature in cat_features_last:\n",
    "    train[categorical_feature] = le_encoder.fit_transform(train[categorical_feature])\n",
    "    test[categorical_feature] = le_encoder.transform(test[categorical_feature])"
   ]
  },
  {
   "cell_type": "code",
   "execution_count": 12,
   "id": "747d1765",
   "metadata": {
    "execution": {
     "iopub.execute_input": "2022-07-11T15:21:29.467612Z",
     "iopub.status.busy": "2022-07-11T15:21:29.467054Z",
     "iopub.status.idle": "2022-07-11T15:21:29.632340Z",
     "shell.execute_reply": "2022-07-11T15:21:29.631515Z"
    },
    "papermill": {
     "duration": 0.177842,
     "end_time": "2022-07-11T15:21:29.634407",
     "exception": false,
     "start_time": "2022-07-11T15:21:29.456565",
     "status": "completed"
    },
    "tags": []
   },
   "outputs": [],
   "source": [
    "# https://www.kaggle.com/code/ragnar123/amex-lgbm-dart-cv-0-7963\n",
    "# Round last float features to 2 decimal place\n",
    "float_cols = list(train.dtypes[(train.dtypes == 'float32') | (train.dtypes == 'float64')].index)\n",
    "float_cols = [col for col in float_cols if 'last' in col]\n",
    "\n",
    "train[float_cols] = train[float_cols].round(2)\n",
    "test[float_cols] = test[float_cols].round(2)"
   ]
  },
  {
   "cell_type": "code",
   "execution_count": 13,
   "id": "3a0ca186",
   "metadata": {
    "execution": {
     "iopub.execute_input": "2022-07-11T15:21:29.654735Z",
     "iopub.status.busy": "2022-07-11T15:21:29.653414Z",
     "iopub.status.idle": "2022-07-11T15:21:32.814766Z",
     "shell.execute_reply": "2022-07-11T15:21:32.813919Z"
    },
    "papermill": {
     "duration": 3.173262,
     "end_time": "2022-07-11T15:21:32.816858",
     "exception": false,
     "start_time": "2022-07-11T15:21:29.643596",
     "status": "completed"
    },
    "tags": []
   },
   "outputs": [],
   "source": [
    "train = train.set_index('customer_ID')\n",
    "train = train.sort_index().reset_index()\n",
    "FEATURES = train.drop(columns=['customer_ID', 'target']).columns"
   ]
  },
  {
   "cell_type": "code",
   "execution_count": 14,
   "id": "8bcb6118",
   "metadata": {
    "execution": {
     "iopub.execute_input": "2022-07-11T15:21:32.837000Z",
     "iopub.status.busy": "2022-07-11T15:21:32.836387Z",
     "iopub.status.idle": "2022-07-11T15:21:32.843715Z",
     "shell.execute_reply": "2022-07-11T15:21:32.843019Z"
    },
    "papermill": {
     "duration": 0.019427,
     "end_time": "2022-07-11T15:21:32.845553",
     "exception": false,
     "start_time": "2022-07-11T15:21:32.826126",
     "status": "completed"
    },
    "tags": []
   },
   "outputs": [],
   "source": [
    "# https://www.kaggle.com/competitions/amex-default-prediction/discussion/328020\n",
    "# https://www.kaggle.com/code/rohanrao/amex-competition-metric-implementations\n",
    "def amex_metric_np(target: np.ndarray, preds: np.ndarray) -> float:\n",
    "    indices = np.argsort(preds)[::-1]\n",
    "    preds, target = preds[indices], target[indices]\n",
    "\n",
    "    n_pos = np.sum(target)\n",
    "    n_neg = target.shape[0] - n_pos\n",
    "    \n",
    "    weight = 20.0 - target * 19.0\n",
    "    cum_norm_weight = (weight * (1 / weight.sum())).cumsum()\n",
    "    four_pct_mask = cum_norm_weight <= 0.04\n",
    "    d = np.sum(target[four_pct_mask]) / n_pos\n",
    "    \n",
    "    lorentz = (target * (1 / n_pos)).cumsum()\n",
    "    gini = ((lorentz - cum_norm_weight) * weight).sum()\n",
    "    gini_max = 10 * n_neg * (1 - 19 / (n_pos + 20 * n_neg))\n",
    "\n",
    "    g = gini / gini_max\n",
    "\n",
    "    return 0.5 * (g + d)"
   ]
  },
  {
   "cell_type": "code",
   "execution_count": 15,
   "id": "4305d956",
   "metadata": {
    "execution": {
     "iopub.execute_input": "2022-07-11T15:21:32.863537Z",
     "iopub.status.busy": "2022-07-11T15:21:32.863255Z",
     "iopub.status.idle": "2022-07-11T15:21:32.867643Z",
     "shell.execute_reply": "2022-07-11T15:21:32.866819Z"
    },
    "papermill": {
     "duration": 0.015381,
     "end_time": "2022-07-11T15:21:32.869416",
     "exception": false,
     "start_time": "2022-07-11T15:21:32.854035",
     "status": "completed"
    },
    "tags": []
   },
   "outputs": [],
   "source": [
    "cat_params = {\n",
    "    'iterations':26000,\n",
    "    'random_state':SEED,\n",
    "    'learning_rate':0.02,\n",
    "    \n",
    "#     'depth': 8,\n",
    "    'l2_leaf_reg':14.0,\n",
    "    'one_hot_max_size':70,\n",
    "#     'random_strength': 0.5,\n",
    "#     'bagging_temperature': 0.75,\n",
    "    'task_type':\"GPU\",\n",
    "    'border_count':128,\n",
    "}"
   ]
  },
  {
   "cell_type": "code",
   "execution_count": 16,
   "id": "d3816f1b",
   "metadata": {
    "execution": {
     "iopub.execute_input": "2022-07-11T15:21:32.887563Z",
     "iopub.status.busy": "2022-07-11T15:21:32.887273Z",
     "iopub.status.idle": "2022-07-11T16:11:19.424978Z",
     "shell.execute_reply": "2022-07-11T16:11:19.424003Z"
    },
    "papermill": {
     "duration": 2986.549822,
     "end_time": "2022-07-11T16:11:19.427727",
     "exception": false,
     "start_time": "2022-07-11T15:21:32.877905",
     "status": "completed"
    },
    "tags": []
   },
   "outputs": [
    {
     "name": "stdout",
     "output_type": "stream",
     "text": [
      "#########################\n",
      "### Fold 1\n",
      "### Train size 367130 Valid size 91783\n",
      "### Training with 100% fold data...\n",
      "#########################\n",
      "0:\tlearn: 0.6673962\ttest: 0.6673916\tbest: 0.6673916 (0)\ttotal: 43.8ms\tremaining: 18m 57s\n",
      "500:\tlearn: 0.2234824\ttest: 0.2262366\tbest: 0.2262366 (500)\ttotal: 16.4s\tremaining: 13m 55s\n",
      "1000:\tlearn: 0.2170079\ttest: 0.2223560\tbest: 0.2223560 (1000)\ttotal: 33.2s\tremaining: 13m 50s\n",
      "1500:\tlearn: 0.2129852\ttest: 0.2210498\tbest: 0.2210498 (1500)\ttotal: 49.7s\tremaining: 13m 30s\n",
      "2000:\tlearn: 0.2097116\ttest: 0.2203003\tbest: 0.2203003 (2000)\ttotal: 1m 6s\tremaining: 13m 23s\n",
      "2500:\tlearn: 0.2067625\ttest: 0.2198188\tbest: 0.2198188 (2500)\ttotal: 1m 23s\tremaining: 13m\n",
      "3000:\tlearn: 0.2039908\ttest: 0.2194447\tbest: 0.2194447 (3000)\ttotal: 1m 40s\tremaining: 12m 47s\n",
      "3500:\tlearn: 0.2014012\ttest: 0.2191514\tbest: 0.2191514 (3500)\ttotal: 1m 56s\tremaining: 12m 26s\n",
      "4000:\tlearn: 0.1988822\ttest: 0.2189016\tbest: 0.2188993 (3997)\ttotal: 2m 13s\tremaining: 12m 13s\n",
      "4500:\tlearn: 0.1964389\ttest: 0.2187021\tbest: 0.2187021 (4500)\ttotal: 2m 29s\tremaining: 11m 54s\n",
      "5000:\tlearn: 0.1940284\ttest: 0.2185177\tbest: 0.2185137 (4986)\ttotal: 2m 46s\tremaining: 11m 38s\n",
      "5500:\tlearn: 0.1916945\ttest: 0.2183944\tbest: 0.2183888 (5453)\ttotal: 3m 2s\tremaining: 11m 19s\n",
      "6000:\tlearn: 0.1894071\ttest: 0.2182799\tbest: 0.2182777 (5992)\ttotal: 3m 19s\tremaining: 11m 4s\n",
      "6500:\tlearn: 0.1872483\ttest: 0.2181950\tbest: 0.2181913 (6480)\ttotal: 3m 35s\tremaining: 10m 45s\n",
      "7000:\tlearn: 0.1850681\ttest: 0.2180957\tbest: 0.2180899 (6991)\ttotal: 3m 52s\tremaining: 10m 30s\n",
      "7500:\tlearn: 0.1829767\ttest: 0.2180143\tbest: 0.2180128 (7469)\ttotal: 4m 8s\tremaining: 10m 12s\n",
      "8000:\tlearn: 0.1808772\ttest: 0.2179077\tbest: 0.2179076 (7995)\ttotal: 4m 24s\tremaining: 9m 55s\n",
      "8500:\tlearn: 0.1788863\ttest: 0.2178835\tbest: 0.2178812 (8431)\ttotal: 4m 40s\tremaining: 9m 37s\n",
      "9000:\tlearn: 0.1768605\ttest: 0.2178585\tbest: 0.2178585 (9000)\ttotal: 4m 57s\tremaining: 9m 22s\n",
      "9500:\tlearn: 0.1748880\ttest: 0.2178289\tbest: 0.2178270 (9471)\ttotal: 5m 13s\tremaining: 9m 4s\n",
      "10000:\tlearn: 0.1729801\ttest: 0.2178220\tbest: 0.2178152 (9770)\ttotal: 5m 30s\tremaining: 8m 48s\n",
      "bestTest = 0.2178151779\n",
      "bestIteration = 9770\n",
      "Shrink model to first 9771 iterations.\n",
      "Amex Metric = 0.7927424128895797 \n",
      "\n",
      "#########################\n",
      "### Fold 2\n",
      "### Train size 367130 Valid size 91783\n",
      "### Training with 100% fold data...\n",
      "#########################\n",
      "0:\tlearn: 0.6671961\ttest: 0.6671888\tbest: 0.6671888 (0)\ttotal: 34.8ms\tremaining: 15m 5s\n",
      "500:\tlearn: 0.2234202\ttest: 0.2262759\tbest: 0.2262759 (500)\ttotal: 17.6s\tremaining: 14m 57s\n",
      "1000:\tlearn: 0.2169252\ttest: 0.2223126\tbest: 0.2223126 (1000)\ttotal: 33.9s\tremaining: 14m 6s\n",
      "1500:\tlearn: 0.2129611\ttest: 0.2208976\tbest: 0.2208976 (1500)\ttotal: 51.1s\tremaining: 13m 54s\n",
      "2000:\tlearn: 0.2096406\ttest: 0.2200765\tbest: 0.2200756 (1997)\ttotal: 1m 7s\tremaining: 13m 26s\n",
      "2500:\tlearn: 0.2066716\ttest: 0.2195530\tbest: 0.2195530 (2500)\ttotal: 1m 24s\tremaining: 13m 12s\n",
      "3000:\tlearn: 0.2039028\ttest: 0.2191633\tbest: 0.2191633 (3000)\ttotal: 1m 40s\tremaining: 12m 49s\n",
      "3500:\tlearn: 0.2012615\ttest: 0.2188903\tbest: 0.2188894 (3499)\ttotal: 1m 57s\tremaining: 12m 34s\n",
      "4000:\tlearn: 0.1986876\ttest: 0.2186672\tbest: 0.2186672 (4000)\ttotal: 2m 13s\tremaining: 12m 13s\n",
      "4500:\tlearn: 0.1962237\ttest: 0.2184957\tbest: 0.2184957 (4500)\ttotal: 2m 30s\tremaining: 11m 58s\n",
      "5000:\tlearn: 0.1938637\ttest: 0.2183259\tbest: 0.2183243 (4999)\ttotal: 2m 46s\tremaining: 11m 38s\n",
      "5500:\tlearn: 0.1915565\ttest: 0.2181988\tbest: 0.2181988 (5500)\ttotal: 3m 3s\tremaining: 11m 23s\n",
      "6000:\tlearn: 0.1893099\ttest: 0.2180511\tbest: 0.2180475 (5997)\ttotal: 3m 19s\tremaining: 11m 4s\n",
      "6500:\tlearn: 0.1871489\ttest: 0.2179831\tbest: 0.2179819 (6497)\ttotal: 3m 36s\tremaining: 10m 48s\n",
      "7000:\tlearn: 0.1849594\ttest: 0.2178853\tbest: 0.2178853 (7000)\ttotal: 3m 52s\tremaining: 10m 30s\n",
      "7500:\tlearn: 0.1828414\ttest: 0.2178023\tbest: 0.2178023 (7500)\ttotal: 4m 9s\tremaining: 10m 14s\n",
      "8000:\tlearn: 0.1807575\ttest: 0.2177354\tbest: 0.2177354 (8000)\ttotal: 4m 25s\tremaining: 9m 56s\n",
      "8500:\tlearn: 0.1787239\ttest: 0.2176896\tbest: 0.2176812 (8464)\ttotal: 4m 42s\tremaining: 9m 40s\n",
      "9000:\tlearn: 0.1767721\ttest: 0.2176311\tbest: 0.2176281 (8994)\ttotal: 4m 58s\tremaining: 9m 23s\n",
      "9500:\tlearn: 0.1748238\ttest: 0.2175975\tbest: 0.2175944 (9474)\ttotal: 5m 15s\tremaining: 9m 7s\n",
      "10000:\tlearn: 0.1729295\ttest: 0.2175621\tbest: 0.2175620 (9854)\ttotal: 5m 31s\tremaining: 8m 49s\n",
      "10500:\tlearn: 0.1710438\ttest: 0.2175466\tbest: 0.2175428 (10224)\ttotal: 5m 48s\tremaining: 8m 33s\n",
      "11000:\tlearn: 0.1691860\ttest: 0.2175317\tbest: 0.2175213 (10712)\ttotal: 6m 4s\tremaining: 8m 16s\n",
      "11500:\tlearn: 0.1673675\ttest: 0.2175117\tbest: 0.2175049 (11232)\ttotal: 6m 21s\tremaining: 8m\n",
      "12000:\tlearn: 0.1655739\ttest: 0.2174887\tbest: 0.2174850 (11993)\ttotal: 6m 37s\tremaining: 7m 43s\n",
      "bestTest = 0.2174850003\n",
      "bestIteration = 11993\n",
      "Shrink model to first 11994 iterations.\n",
      "Amex Metric = 0.7929173715664075 \n",
      "\n",
      "#########################\n",
      "### Fold 3\n",
      "### Train size 367130 Valid size 91783\n",
      "### Training with 100% fold data...\n",
      "#########################\n",
      "0:\tlearn: 0.6674501\ttest: 0.6673591\tbest: 0.6673591 (0)\ttotal: 36.3ms\tremaining: 15m 42s\n",
      "500:\tlearn: 0.2240377\ttest: 0.2235787\tbest: 0.2235787 (500)\ttotal: 17.6s\tremaining: 14m 56s\n",
      "1000:\tlearn: 0.2175318\ttest: 0.2196837\tbest: 0.2196837 (1000)\ttotal: 33.8s\tremaining: 14m 3s\n",
      "1500:\tlearn: 0.2135800\ttest: 0.2182465\tbest: 0.2182464 (1499)\ttotal: 50.9s\tremaining: 13m 50s\n",
      "2000:\tlearn: 0.2102841\ttest: 0.2174557\tbest: 0.2174557 (2000)\ttotal: 1m 6s\tremaining: 13m 22s\n",
      "2500:\tlearn: 0.2072902\ttest: 0.2169166\tbest: 0.2169156 (2497)\ttotal: 1m 24s\tremaining: 13m 10s\n",
      "3000:\tlearn: 0.2045533\ttest: 0.2165679\tbest: 0.2165674 (2998)\ttotal: 1m 40s\tremaining: 12m 46s\n",
      "3500:\tlearn: 0.2019348\ttest: 0.2162714\tbest: 0.2162708 (3498)\ttotal: 1m 57s\tremaining: 12m 32s\n",
      "4000:\tlearn: 0.1994555\ttest: 0.2160905\tbest: 0.2160897 (3998)\ttotal: 2m 13s\tremaining: 12m 12s\n",
      "4500:\tlearn: 0.1970251\ttest: 0.2159029\tbest: 0.2159029 (4500)\ttotal: 2m 30s\tremaining: 11m 56s\n",
      "5000:\tlearn: 0.1946782\ttest: 0.2157047\tbest: 0.2157000 (4973)\ttotal: 2m 45s\tremaining: 11m 35s\n",
      "5500:\tlearn: 0.1923774\ttest: 0.2155682\tbest: 0.2155660 (5495)\ttotal: 3m 2s\tremaining: 11m 21s\n",
      "6000:\tlearn: 0.1900833\ttest: 0.2154179\tbest: 0.2154179 (6000)\ttotal: 3m 18s\tremaining: 11m 2s\n",
      "6500:\tlearn: 0.1878763\ttest: 0.2153029\tbest: 0.2153029 (6500)\ttotal: 3m 35s\tremaining: 10m 47s\n",
      "7000:\tlearn: 0.1857102\ttest: 0.2152029\tbest: 0.2151923 (6954)\ttotal: 3m 51s\tremaining: 10m 29s\n",
      "7500:\tlearn: 0.1836112\ttest: 0.2151212\tbest: 0.2151125 (7468)\ttotal: 4m 8s\tremaining: 10m 13s\n",
      "8000:\tlearn: 0.1815248\ttest: 0.2150101\tbest: 0.2150095 (7998)\ttotal: 4m 24s\tremaining: 9m 55s\n",
      "8500:\tlearn: 0.1795143\ttest: 0.2149505\tbest: 0.2149432 (8448)\ttotal: 4m 41s\tremaining: 9m 40s\n",
      "9000:\tlearn: 0.1775177\ttest: 0.2149022\tbest: 0.2148960 (8922)\ttotal: 4m 57s\tremaining: 9m 22s\n",
      "9500:\tlearn: 0.1755357\ttest: 0.2148476\tbest: 0.2148440 (9452)\ttotal: 5m 15s\tremaining: 9m 7s\n",
      "10000:\tlearn: 0.1735986\ttest: 0.2148029\tbest: 0.2148022 (9894)\ttotal: 5m 31s\tremaining: 8m 49s\n",
      "10500:\tlearn: 0.1717139\ttest: 0.2147607\tbest: 0.2147592 (10383)\ttotal: 5m 48s\tremaining: 8m 34s\n",
      "11000:\tlearn: 0.1698364\ttest: 0.2147345\tbest: 0.2147297 (10995)\ttotal: 6m 4s\tremaining: 8m 16s\n",
      "11500:\tlearn: 0.1680067\ttest: 0.2146861\tbest: 0.2146786 (11463)\ttotal: 6m 21s\tremaining: 8m\n",
      "12000:\tlearn: 0.1662267\ttest: 0.2146394\tbest: 0.2146389 (11996)\ttotal: 6m 37s\tremaining: 7m 43s\n",
      "12500:\tlearn: 0.1644576\ttest: 0.2146260\tbest: 0.2146190 (12433)\ttotal: 6m 54s\tremaining: 7m 27s\n",
      "bestTest = 0.2146190139\n",
      "bestIteration = 12433\n",
      "Shrink model to first 12434 iterations.\n",
      "Amex Metric = 0.794647582566411 \n",
      "\n",
      "#########################\n",
      "### Fold 4\n",
      "### Train size 367131 Valid size 91782\n",
      "### Training with 100% fold data...\n",
      "#########################\n",
      "0:\tlearn: 0.6674111\ttest: 0.6674391\tbest: 0.6674391 (0)\ttotal: 50.1ms\tremaining: 21m 41s\n",
      "500:\tlearn: 0.2234341\ttest: 0.2267770\tbest: 0.2267770 (500)\ttotal: 16.4s\tremaining: 13m 52s\n",
      "1000:\tlearn: 0.2169696\ttest: 0.2226470\tbest: 0.2226470 (1000)\ttotal: 33.6s\tremaining: 14m\n",
      "1500:\tlearn: 0.2129662\ttest: 0.2211146\tbest: 0.2211146 (1500)\ttotal: 49.6s\tremaining: 13m 28s\n",
      "2000:\tlearn: 0.2097279\ttest: 0.2203301\tbest: 0.2203301 (2000)\ttotal: 1m 6s\tremaining: 13m 18s\n",
      "2500:\tlearn: 0.2067234\ttest: 0.2197439\tbest: 0.2197437 (2495)\ttotal: 1m 22s\tremaining: 12m 55s\n",
      "3000:\tlearn: 0.2039674\ttest: 0.2193873\tbest: 0.2193866 (2997)\ttotal: 1m 39s\tremaining: 12m 43s\n",
      "3500:\tlearn: 0.2013391\ttest: 0.2191526\tbest: 0.2191519 (3497)\ttotal: 1m 55s\tremaining: 12m 23s\n",
      "4000:\tlearn: 0.1987990\ttest: 0.2189070\tbest: 0.2189055 (3997)\ttotal: 2m 11s\tremaining: 12m 5s\n",
      "4500:\tlearn: 0.1963518\ttest: 0.2187144\tbest: 0.2187144 (4499)\ttotal: 2m 28s\tremaining: 11m 50s\n",
      "5000:\tlearn: 0.1940004\ttest: 0.2185804\tbest: 0.2185722 (4987)\ttotal: 2m 45s\tremaining: 11m 33s\n",
      "5500:\tlearn: 0.1916760\ttest: 0.2184268\tbest: 0.2184240 (5465)\ttotal: 3m 1s\tremaining: 11m 16s\n",
      "6000:\tlearn: 0.1894415\ttest: 0.2183200\tbest: 0.2183107 (5964)\ttotal: 3m 18s\tremaining: 11m\n",
      "6500:\tlearn: 0.1872380\ttest: 0.2182366\tbest: 0.2182326 (6489)\ttotal: 3m 34s\tremaining: 10m 44s\n",
      "7000:\tlearn: 0.1850701\ttest: 0.2181424\tbest: 0.2181401 (6993)\ttotal: 3m 51s\tremaining: 10m 29s\n",
      "7500:\tlearn: 0.1829819\ttest: 0.2180785\tbest: 0.2180713 (7443)\ttotal: 4m 7s\tremaining: 10m 11s\n",
      "8000:\tlearn: 0.1809039\ttest: 0.2180337\tbest: 0.2180209 (7911)\ttotal: 4m 24s\tremaining: 9m 54s\n",
      "8500:\tlearn: 0.1788667\ttest: 0.2179481\tbest: 0.2179455 (8496)\ttotal: 4m 41s\tremaining: 9m 38s\n",
      "9000:\tlearn: 0.1768608\ttest: 0.2178839\tbest: 0.2178815 (8993)\ttotal: 4m 57s\tremaining: 9m 21s\n",
      "9500:\tlearn: 0.1749205\ttest: 0.2178395\tbest: 0.2178374 (9495)\ttotal: 5m 14s\tremaining: 9m 5s\n",
      "10000:\tlearn: 0.1730000\ttest: 0.2177958\tbest: 0.2177887 (9970)\ttotal: 5m 30s\tremaining: 8m 48s\n",
      "10500:\tlearn: 0.1711159\ttest: 0.2177330\tbest: 0.2177309 (10462)\ttotal: 5m 47s\tremaining: 8m 32s\n",
      "11000:\tlearn: 0.1692517\ttest: 0.2177163\tbest: 0.2177086 (10826)\ttotal: 6m 4s\tremaining: 8m 16s\n",
      "11500:\tlearn: 0.1673872\ttest: 0.2177166\tbest: 0.2177080 (11046)\ttotal: 6m 20s\tremaining: 8m\n",
      "bestTest = 0.2177080014\n",
      "bestIteration = 11046\n",
      "Shrink model to first 11047 iterations.\n",
      "Amex Metric = 0.7899724492752631 \n",
      "\n",
      "#########################\n",
      "### Fold 5\n",
      "### Train size 367131 Valid size 91782\n",
      "### Training with 100% fold data...\n",
      "#########################\n",
      "0:\tlearn: 0.6674640\ttest: 0.6676144\tbest: 0.6676144 (0)\ttotal: 36.6ms\tremaining: 15m 51s\n",
      "500:\tlearn: 0.2229521\ttest: 0.2279748\tbest: 0.2279748 (500)\ttotal: 17.1s\tremaining: 14m 28s\n",
      "1000:\tlearn: 0.2165819\ttest: 0.2240189\tbest: 0.2240189 (1000)\ttotal: 33.4s\tremaining: 13m 53s\n",
      "1500:\tlearn: 0.2126122\ttest: 0.2225776\tbest: 0.2225776 (1500)\ttotal: 50.1s\tremaining: 13m 37s\n",
      "2000:\tlearn: 0.2093492\ttest: 0.2217428\tbest: 0.2217428 (2000)\ttotal: 1m 6s\tremaining: 13m 16s\n",
      "2500:\tlearn: 0.2064218\ttest: 0.2212274\tbest: 0.2212251 (2489)\ttotal: 1m 23s\tremaining: 13m\n",
      "3000:\tlearn: 0.2036279\ttest: 0.2207816\tbest: 0.2207807 (2999)\ttotal: 1m 39s\tremaining: 12m 40s\n",
      "3500:\tlearn: 0.2010055\ttest: 0.2205018\tbest: 0.2205005 (3499)\ttotal: 1m 55s\tremaining: 12m 25s\n",
      "4000:\tlearn: 0.1984775\ttest: 0.2202415\tbest: 0.2202408 (3999)\ttotal: 2m 12s\tremaining: 12m 7s\n",
      "4500:\tlearn: 0.1960041\ttest: 0.2200355\tbest: 0.2200345 (4497)\ttotal: 2m 29s\tremaining: 11m 53s\n",
      "5000:\tlearn: 0.1936163\ttest: 0.2198601\tbest: 0.2198601 (5000)\ttotal: 2m 45s\tremaining: 11m 34s\n",
      "5500:\tlearn: 0.1912913\ttest: 0.2196787\tbest: 0.2196787 (5500)\ttotal: 3m 2s\tremaining: 11m 19s\n",
      "6000:\tlearn: 0.1890579\ttest: 0.2195448\tbest: 0.2195420 (5996)\ttotal: 3m 18s\tremaining: 11m 1s\n",
      "6500:\tlearn: 0.1868790\ttest: 0.2194227\tbest: 0.2194220 (6499)\ttotal: 3m 34s\tremaining: 10m 43s\n",
      "7000:\tlearn: 0.1847504\ttest: 0.2193278\tbest: 0.2193202 (6953)\ttotal: 3m 51s\tremaining: 10m 27s\n",
      "7500:\tlearn: 0.1826256\ttest: 0.2192246\tbest: 0.2192236 (7497)\ttotal: 4m 7s\tremaining: 10m 10s\n",
      "8000:\tlearn: 0.1805780\ttest: 0.2191084\tbest: 0.2191061 (7997)\ttotal: 4m 24s\tremaining: 9m 54s\n",
      "8500:\tlearn: 0.1785574\ttest: 0.2190554\tbest: 0.2190547 (8479)\ttotal: 4m 40s\tremaining: 9m 36s\n",
      "9000:\tlearn: 0.1765639\ttest: 0.2189685\tbest: 0.2189667 (8999)\ttotal: 4m 57s\tremaining: 9m 21s\n",
      "9500:\tlearn: 0.1746362\ttest: 0.2189262\tbest: 0.2189225 (9466)\ttotal: 5m 12s\tremaining: 9m 3s\n",
      "10000:\tlearn: 0.1727317\ttest: 0.2188961\tbest: 0.2188942 (9999)\ttotal: 5m 29s\tremaining: 8m 47s\n",
      "10500:\tlearn: 0.1708491\ttest: 0.2188684\tbest: 0.2188664 (10369)\ttotal: 5m 45s\tremaining: 8m 30s\n",
      "11000:\tlearn: 0.1689958\ttest: 0.2188291\tbest: 0.2188258 (10985)\ttotal: 6m 2s\tremaining: 8m 14s\n",
      "11500:\tlearn: 0.1671930\ttest: 0.2187803\tbest: 0.2187737 (11466)\ttotal: 6m 18s\tremaining: 7m 57s\n",
      "12000:\tlearn: 0.1654271\ttest: 0.2187149\tbest: 0.2187105 (11970)\ttotal: 6m 35s\tremaining: 7m 41s\n",
      "12500:\tlearn: 0.1636775\ttest: 0.2187043\tbest: 0.2187002 (12322)\ttotal: 6m 51s\tremaining: 7m 24s\n",
      "13000:\tlearn: 0.1619258\ttest: 0.2186971\tbest: 0.2186704 (12812)\ttotal: 7m 8s\tremaining: 7m 8s\n",
      "bestTest = 0.2186704339\n",
      "bestIteration = 12812\n",
      "Shrink model to first 12813 iterations.\n",
      "Amex Metric = 0.7942992591409506 \n",
      "\n",
      "#########################\n",
      "Overall Amex metric: 0.7928676976452451\n"
     ]
    }
   ],
   "source": [
    "importances = []\n",
    "oof = []\n",
    "gc.collect()\n",
    "\n",
    "clf = CatBoostClassifier(**cat_params)\n",
    "skf = KFold(n_splits=FOLDS, shuffle=True, random_state=SEED)\n",
    "for fold,(train_idx, valid_idx) in enumerate(skf.split(train, train.target)):\n",
    "    \n",
    "    print('#'*25)\n",
    "    print('### Fold',fold+1)\n",
    "    print('### Train size',len(train_idx),'Valid size',len(valid_idx))\n",
    "    print(f'### Training with 100% fold data...')\n",
    "    print('#'*25)\n",
    "    \n",
    "    # TRAIN, VALID, TEST FOR FOLD K\n",
    "    X_train = train.loc[train_idx, FEATURES]\n",
    "    X_valid = train.target.iloc[train_idx]\n",
    "    y_train = train.loc[valid_idx, FEATURES]\n",
    "    y_valid = train.target.iloc[valid_idx]\n",
    "    \n",
    "    # TRAIN MODEL FOLD K\n",
    "    model = clf.fit(X_train,\n",
    "                    X_valid,\n",
    "                    cat_features=cat_features_last,\n",
    "                    eval_set=[(y_train, y_valid)],\n",
    "                    use_best_model=True,\n",
    "                    early_stopping_rounds=500,\n",
    "                    verbose_eval=500)\n",
    "    model.save_model(f'CAT_v{VER}_fold{fold}.cbm')\n",
    "    \n",
    "    # GET FEATURE IMPORTANCE FOR FOLD K\n",
    "    dd = model.feature_importances_\n",
    "    df = pd.DataFrame({'feature':FEATURES,f'importance_{fold}':dd})\n",
    "    importances.append(df)\n",
    "            \n",
    "    # INFER OOF FOLD K\n",
    "    oof_preds = model.predict_proba(y_train)[:, 1]\n",
    "    acc = amex_metric_np(y_valid.values, oof_preds)\n",
    "    print('Amex Metric =',acc,'\\n')\n",
    "\n",
    "    df = train.loc[valid_idx, ['customer_ID','target'] ].copy()\n",
    "    df['oof_preds'] = oof_preds\n",
    "    oof.append(df)\n",
    "    \n",
    "    del X_train, y_train, dd, df\n",
    "    del X_valid, y_valid, model\n",
    "    _ = gc.collect()\n",
    "    \n",
    "print('#'*25)\n",
    "oof = pd.concat(oof,axis=0,ignore_index=True).set_index('customer_ID')\n",
    "acc = amex_metric_np(oof.target.values, oof.oof_preds.values)\n",
    "print(f\"Overall Amex metric: {acc}\")"
   ]
  },
  {
   "cell_type": "code",
   "execution_count": 17,
   "id": "4ecc417b",
   "metadata": {
    "execution": {
     "iopub.execute_input": "2022-07-11T16:11:19.463183Z",
     "iopub.status.busy": "2022-07-11T16:11:19.462861Z",
     "iopub.status.idle": "2022-07-11T16:11:19.569604Z",
     "shell.execute_reply": "2022-07-11T16:11:19.568705Z"
    },
    "papermill": {
     "duration": 0.126212,
     "end_time": "2022-07-11T16:11:19.571549",
     "exception": false,
     "start_time": "2022-07-11T16:11:19.445337",
     "status": "completed"
    },
    "tags": []
   },
   "outputs": [],
   "source": [
    "# CLEAN RAM\n",
    "del train\n",
    "_ = gc.collect()"
   ]
  },
  {
   "cell_type": "code",
   "execution_count": 18,
   "id": "aca64013",
   "metadata": {
    "execution": {
     "iopub.execute_input": "2022-07-11T16:11:19.605712Z",
     "iopub.status.busy": "2022-07-11T16:11:19.605420Z",
     "iopub.status.idle": "2022-07-11T16:11:19.644078Z",
     "shell.execute_reply": "2022-07-11T16:11:19.643252Z"
    },
    "papermill": {
     "duration": 0.057621,
     "end_time": "2022-07-11T16:11:19.646163",
     "exception": false,
     "start_time": "2022-07-11T16:11:19.588542",
     "status": "completed"
    },
    "scrolled": true,
    "tags": []
   },
   "outputs": [],
   "source": [
    "df = importances[0].copy()\n",
    "for k in range(1,FOLDS): df = df.merge(importances[k], on='feature', how='left')\n",
    "df['importance'] = df.iloc[:,1:].mean(axis=1, numeric_only=True)\n",
    "df = df.sort_values('importance',ascending=False)\n",
    "df.to_csv(f'cat_feature_importance_v{VER}.csv',index=False)"
   ]
  },
  {
   "cell_type": "code",
   "execution_count": 19,
   "id": "ce7acc58",
   "metadata": {
    "execution": {
     "iopub.execute_input": "2022-07-11T16:11:19.679403Z",
     "iopub.status.busy": "2022-07-11T16:11:19.679119Z",
     "iopub.status.idle": "2022-07-11T16:11:19.968590Z",
     "shell.execute_reply": "2022-07-11T16:11:19.967807Z"
    },
    "papermill": {
     "duration": 0.308249,
     "end_time": "2022-07-11T16:11:19.970603",
     "exception": false,
     "start_time": "2022-07-11T16:11:19.662354",
     "status": "completed"
    },
    "tags": []
   },
   "outputs": [
    {
     "data": {
      "image/png": "[encoded data removed]",
      "text/plain": [
       "<Figure size 720x720 with 1 Axes>"
      ]
     },
     "metadata": {
      "needs_background": "light"
     },
     "output_type": "display_data"
    }
   ],
   "source": [
    "NUM_FEATURES = 20\n",
    "plt.figure(figsize=(10,5*NUM_FEATURES//10))\n",
    "plt.barh(np.arange(NUM_FEATURES,0,-1), df.importance.values[:NUM_FEATURES])\n",
    "plt.yticks(np.arange(NUM_FEATURES,0,-1), df.feature.values[:NUM_FEATURES])\n",
    "plt.title(f'CAT Feature Importance - Top {NUM_FEATURES}')\n",
    "plt.show()"
   ]
  },
  {
   "cell_type": "markdown",
   "id": "04c16802",
   "metadata": {
    "papermill": {
     "duration": 0.016405,
     "end_time": "2022-07-11T16:11:20.004071",
     "exception": false,
     "start_time": "2022-07-11T16:11:19.987666",
     "status": "completed"
    },
    "tags": []
   },
   "source": [
    "# Test part"
   ]
  },
  {
   "cell_type": "code",
   "execution_count": 20,
   "id": "556c7152",
   "metadata": {
    "execution": {
     "iopub.execute_input": "2022-07-11T16:11:20.040021Z",
     "iopub.status.busy": "2022-07-11T16:11:20.039215Z",
     "iopub.status.idle": "2022-07-11T16:11:20.046105Z",
     "shell.execute_reply": "2022-07-11T16:11:20.045338Z"
    },
    "papermill": {
     "duration": 0.026598,
     "end_time": "2022-07-11T16:11:20.047706",
     "exception": false,
     "start_time": "2022-07-11T16:11:20.021108",
     "status": "completed"
    },
    "tags": []
   },
   "outputs": [],
   "source": [
    "# CALCULATE SIZE OF EACH SEPARATE TEST PART\n",
    "def get_rows(customers, test, NUM_PARTS = 4, verbose = ''):\n",
    "    chunk = len(customers)//NUM_PARTS\n",
    "    if verbose != '':\n",
    "        print(f'We will process {verbose} data as {NUM_PARTS} separate parts.')\n",
    "        print(f'There will be {chunk} customers in each part (except the last part).')\n",
    "        print('Below are number of rows in each part:')\n",
    "    rows = []\n",
    "\n",
    "    for k in range(NUM_PARTS):\n",
    "        if k==NUM_PARTS-1: cc = customers[k*chunk:]\n",
    "        else: cc = customers[k*chunk:(k+1)*chunk]\n",
    "        s = test.loc[test.customer_ID.isin(cc)].shape[0]\n",
    "        rows.append(s)\n",
    "    if verbose != '': print( rows )\n",
    "    return rows,chunk"
   ]
  },
  {
   "cell_type": "code",
   "execution_count": 21,
   "id": "7b4016c8",
   "metadata": {
    "execution": {
     "iopub.execute_input": "2022-07-11T16:11:20.082383Z",
     "iopub.status.busy": "2022-07-11T16:11:20.081570Z",
     "iopub.status.idle": "2022-07-11T16:11:20.761182Z",
     "shell.execute_reply": "2022-07-11T16:11:20.760328Z"
    },
    "papermill": {
     "duration": 0.698958,
     "end_time": "2022-07-11T16:11:20.763018",
     "exception": false,
     "start_time": "2022-07-11T16:11:20.064060",
     "status": "completed"
    },
    "tags": []
   },
   "outputs": [
    {
     "name": "stdout",
     "output_type": "stream",
     "text": [
      "We will process test data as 4 separate parts.\n",
      "There will be 231155 customers in each part (except the last part).\n",
      "Below are number of rows in each part:\n",
      "[231155, 231155, 231155, 231156]\n"
     ]
    }
   ],
   "source": [
    "# COMPUTE SIZE OF 4 PARTS FOR TEST DATA\n",
    "NUM_PARTS = 4\n",
    "\n",
    "customers = test[['customer_ID']].drop_duplicates().sort_index().values.flatten()\n",
    "rows,num_cust = get_rows(customers, test[['customer_ID']], NUM_PARTS = NUM_PARTS, verbose = 'test')"
   ]
  },
  {
   "cell_type": "code",
   "execution_count": 22,
   "id": "deda8d95",
   "metadata": {
    "execution": {
     "iopub.execute_input": "2022-07-11T16:11:20.799813Z",
     "iopub.status.busy": "2022-07-11T16:11:20.799124Z",
     "iopub.status.idle": "2022-07-11T16:33:56.857488Z",
     "shell.execute_reply": "2022-07-11T16:33:56.856650Z"
    },
    "papermill": {
     "duration": 1356.078743,
     "end_time": "2022-07-11T16:33:56.859663",
     "exception": false,
     "start_time": "2022-07-11T16:11:20.780920",
     "status": "completed"
    },
    "tags": []
   },
   "outputs": [
    {
     "name": "stdout",
     "output_type": "stream",
     "text": [
      "\n",
      "Reading test data...\n",
      "=> Test part 1 has shape (231155, 918)\n",
      "\n",
      "Reading test data...\n",
      "=> Test part 2 has shape (231155, 918)\n",
      "\n",
      "Reading test data...\n",
      "=> Test part 3 has shape (231155, 918)\n",
      "\n",
      "Reading test data...\n",
      "=> Test part 4 has shape (231156, 918)\n"
     ]
    }
   ],
   "source": [
    "# INFER TEST DATA IN PARTS\n",
    "skip_rows = 0\n",
    "skip_cust = 0\n",
    "test_preds = []\n",
    "\n",
    "for k in range(NUM_PARTS):\n",
    "    \n",
    "    # READ PART OF TEST DATA\n",
    "    print(f'\\nReading test data...')\n",
    "    test_copy = test.iloc[skip_rows:skip_rows+rows[k]].copy()\n",
    "    test_copy = test_copy.set_index('customer_ID')\n",
    "    skip_rows += rows[k]\n",
    "    print(f'=> Test part {k+1} has shape', test_copy.shape )\n",
    "    \n",
    "    # PROCESS AND FEATURE ENGINEER PART OF TEST DATA\n",
    "    if k==NUM_PARTS-1: test_copy = test_copy.loc[customers[skip_cust:]]\n",
    "    else: test_copy = test_copy.loc[customers[skip_cust:skip_cust+num_cust]]\n",
    "    skip_cust += num_cust\n",
    "        \n",
    "    # INFER XGB MODELS ON TEST DATA\n",
    "    model = CatBoostClassifier(**cat_params)\n",
    "    model.load_model(f'CAT_v{VER}_fold0.cbm')\n",
    "    preds = model.predict_proba(test_copy)[:, 1]\n",
    "    for f in range(1,FOLDS):\n",
    "        model.load_model(f'CAT_v{VER}_fold{f}.cbm')\n",
    "        preds += model.predict_proba(test_copy)[:, 1]\n",
    "    preds /= FOLDS\n",
    "    test_preds.append(preds)\n",
    "\n",
    "    # CLEAN MEMORY\n",
    "    del test_copy, model\n",
    "    _ = gc.collect()\n",
    "\n",
    "del test\n",
    "_ = gc.collect()"
   ]
  },
  {
   "cell_type": "markdown",
   "id": "32da7e3a",
   "metadata": {
    "papermill": {
     "duration": 0.017581,
     "end_time": "2022-07-11T16:33:56.896081",
     "exception": false,
     "start_time": "2022-07-11T16:33:56.878500",
     "status": "completed"
    },
    "tags": []
   },
   "source": [
    "# Submit"
   ]
  },
  {
   "cell_type": "code",
   "execution_count": 23,
   "id": "3cecbe9b",
   "metadata": {
    "execution": {
     "iopub.execute_input": "2022-07-11T16:33:56.932851Z",
     "iopub.status.busy": "2022-07-11T16:33:56.932490Z",
     "iopub.status.idle": "2022-07-11T16:34:03.827054Z",
     "shell.execute_reply": "2022-07-11T16:34:03.825977Z"
    },
    "papermill": {
     "duration": 6.915367,
     "end_time": "2022-07-11T16:34:03.829453",
     "exception": false,
     "start_time": "2022-07-11T16:33:56.914086",
     "status": "completed"
    },
    "tags": []
   },
   "outputs": [
    {
     "name": "stdout",
     "output_type": "stream",
     "text": [
      "Submission file shape is (924621, 2)\n"
     ]
    },
    {
     "data": {
      "text/html": [
       "<div>\n",
       "<style scoped>\n",
       "    .dataframe tbody tr th:only-of-type {\n",
       "        vertical-align: middle;\n",
       "    }\n",
       "\n",
       "    .dataframe tbody tr th {\n",
       "        vertical-align: top;\n",
       "    }\n",
       "\n",
       "    .dataframe thead th {\n",
       "        text-align: right;\n",
       "    }\n",
       "</style>\n",
       "<table border=\"1\" class=\"dataframe\">\n",
       "  <thead>\n",
       "    <tr style=\"text-align: right;\">\n",
       "      <th></th>\n",
       "      <th>customer_ID</th>\n",
       "      <th>prediction</th>\n",
       "    </tr>\n",
       "  </thead>\n",
       "  <tbody>\n",
       "    <tr>\n",
       "      <th>0</th>\n",
       "      <td>00000469ba478561f23a92a868bd366de6f6527a684c9a...</td>\n",
       "      <td>0.022613</td>\n",
       "    </tr>\n",
       "    <tr>\n",
       "      <th>1</th>\n",
       "      <td>00001bf2e77ff879fab36aa4fac689b9ba411dae63ae39...</td>\n",
       "      <td>0.001608</td>\n",
       "    </tr>\n",
       "    <tr>\n",
       "      <th>2</th>\n",
       "      <td>0000210045da4f81e5f122c6bde5c2a617d03eef67f82c...</td>\n",
       "      <td>0.039916</td>\n",
       "    </tr>\n",
       "    <tr>\n",
       "      <th>3</th>\n",
       "      <td>00003b41e58ede33b8daf61ab56d9952f17c9ad1c3976c...</td>\n",
       "      <td>0.195086</td>\n",
       "    </tr>\n",
       "    <tr>\n",
       "      <th>4</th>\n",
       "      <td>00004b22eaeeeb0ec976890c1d9bfc14fd9427e98c4ee9...</td>\n",
       "      <td>0.854902</td>\n",
       "    </tr>\n",
       "  </tbody>\n",
       "</table>\n",
       "</div>"
      ],
      "text/plain": [
       "                                         customer_ID  prediction\n",
       "0  00000469ba478561f23a92a868bd366de6f6527a684c9a...    0.022613\n",
       "1  00001bf2e77ff879fab36aa4fac689b9ba411dae63ae39...    0.001608\n",
       "2  0000210045da4f81e5f122c6bde5c2a617d03eef67f82c...    0.039916\n",
       "3  00003b41e58ede33b8daf61ab56d9952f17c9ad1c3976c...    0.195086\n",
       "4  00004b22eaeeeb0ec976890c1d9bfc14fd9427e98c4ee9...    0.854902"
      ]
     },
     "execution_count": 23,
     "metadata": {},
     "output_type": "execute_result"
    }
   ],
   "source": [
    "# WRITE SUBMISSION FILE\n",
    "test_preds = np.concatenate(test_preds)\n",
    "test = pd.DataFrame(index=customers,data={'prediction':test_preds})\n",
    "sub = pd.read_csv(parent_dir + 'amex-default-prediction/sample_submission.csv')[['customer_ID']]\n",
    "sub['customer_ID_hash'] = sub['customer_ID'].copy()\n",
    "sub = sub.set_index('customer_ID_hash')\n",
    "sub = sub.merge(test[['prediction']], left_index=True, right_index=True, how='left')\n",
    "sub = sub.reset_index(drop=True)\n",
    "\n",
    "# DISPLAY PREDICTIONS\n",
    "sub.to_csv(f'submission_cat_v{VER}.csv',index=False)\n",
    "print('Submission file shape is', sub.shape )\n",
    "sub.head()"
   ]
  },
  {
   "cell_type": "code",
   "execution_count": 24,
   "id": "c6e3eadf",
   "metadata": {
    "execution": {
     "iopub.execute_input": "2022-07-11T16:34:03.866444Z",
     "iopub.status.busy": "2022-07-11T16:34:03.865968Z",
     "iopub.status.idle": "2022-07-11T16:34:04.202539Z",
     "shell.execute_reply": "2022-07-11T16:34:04.201810Z"
    },
    "papermill": {
     "duration": 0.356837,
     "end_time": "2022-07-11T16:34:04.204288",
     "exception": false,
     "start_time": "2022-07-11T16:34:03.847451",
     "status": "completed"
    },
    "tags": []
   },
   "outputs": [
    {
     "data": {
      "image/png": "[encoded data removed]",
      "text/plain": [
       "<Figure size 432x288 with 1 Axes>"
      ]
     },
     "metadata": {
      "needs_background": "light"
     },
     "output_type": "display_data"
    }
   ],
   "source": [
    "# PLOT PREDICTIONS\n",
    "plt.hist(sub.prediction, bins=100)\n",
    "plt.title('Test Predictions')\n",
    "plt.show()"
   ]
  },
  {
   "cell_type": "markdown",
   "id": "5abb072a",
   "metadata": {
    "papermill": {
     "duration": 0.017882,
     "end_time": "2022-07-11T16:34:04.240265",
     "exception": false,
     "start_time": "2022-07-11T16:34:04.222383",
     "status": "completed"
    },
    "tags": []
   },
   "source": [
    "# Ensemble"
   ]
  },
  {
   "cell_type": "markdown",
   "id": "9629f2b7",
   "metadata": {
    "papermill": {
     "duration": 0.017842,
     "end_time": "2022-07-11T16:34:04.275937",
     "exception": false,
     "start_time": "2022-07-11T16:34:04.258095",
     "status": "completed"
    },
    "tags": []
   },
   "source": [
    "## Do only ensemble"
   ]
  },
  {
   "cell_type": "code",
   "execution_count": 25,
   "id": "bc7a4468",
   "metadata": {
    "execution": {
     "iopub.execute_input": "2022-07-11T16:34:04.312421Z",
     "iopub.status.busy": "2022-07-11T16:34:04.312089Z",
     "iopub.status.idle": "2022-07-11T16:34:05.182308Z",
     "shell.execute_reply": "2022-07-11T16:34:05.181135Z"
    },
    "papermill": {
     "duration": 0.891002,
     "end_time": "2022-07-11T16:34:05.184465",
     "exception": false,
     "start_time": "2022-07-11T16:34:04.293463",
     "status": "completed"
    },
    "tags": []
   },
   "outputs": [],
   "source": [
    "sub = pd.read_csv(parent_dir + 'amex-default-prediction/sample_submission.csv')"
   ]
  },
  {
   "cell_type": "code",
   "execution_count": 26,
   "id": "df8ba7e0",
   "metadata": {
    "execution": {
     "iopub.execute_input": "2022-07-11T16:34:05.222310Z",
     "iopub.status.busy": "2022-07-11T16:34:05.221974Z",
     "iopub.status.idle": "2022-07-11T16:34:05.228924Z",
     "shell.execute_reply": "2022-07-11T16:34:05.228167Z"
    },
    "papermill": {
     "duration": 0.027846,
     "end_time": "2022-07-11T16:34:05.230767",
     "exception": false,
     "start_time": "2022-07-11T16:34:05.202921",
     "status": "completed"
    },
    "tags": []
   },
   "outputs": [],
   "source": [
    "# https://www.kaggle.com/code/beezus666/ensemble-weighted-average\n",
    "#crude formula for model weighting.\n",
    "# Using this formaula the best model's weight = 1, the worst model's weight ~0.05\n",
    "def model_weight(model_loss, worst_loss, best_loss):\n",
    "    return 1- ((best_loss - model_loss)/(best_loss-(worst_loss - 0.01)))\n",
    "\n",
    "def read_weighted_preds(sub_dict: dict, worst_score:float, best_score: float) -> list:\n",
    "    preds = []\n",
    "    weights = []\n",
    "    for path, loss in sub_dict.items():\n",
    "        weight = model_weight(loss, worst_score, best_score)\n",
    "        \n",
    "        df = pd.read_csv(path)\n",
    "        df = df.set_index('customer_ID').sort_index().reset_index() # sort\n",
    "        df['prediction'] = df['prediction']*weight\n",
    "        \n",
    "        preds.append(df['prediction'])\n",
    "        weights.append(weight)\n",
    "    \n",
    "    return preds, weights"
   ]
  },
  {
   "cell_type": "code",
   "execution_count": 27,
   "id": "4adb667c",
   "metadata": {
    "execution": {
     "iopub.execute_input": "2022-07-11T16:34:05.267434Z",
     "iopub.status.busy": "2022-07-11T16:34:05.267135Z",
     "iopub.status.idle": "2022-07-11T16:34:23.370508Z",
     "shell.execute_reply": "2022-07-11T16:34:23.369692Z"
    },
    "papermill": {
     "duration": 18.12431,
     "end_time": "2022-07-11T16:34:23.372738",
     "exception": false,
     "start_time": "2022-07-11T16:34:05.248428",
     "status": "completed"
    },
    "tags": []
   },
   "outputs": [],
   "source": [
    "best = 0.799\n",
    "worst = 0.789\n",
    "\n",
    "sub_dict = {\n",
    "    parent_dir + 'amexdefaultsubmissions/submission_cat_v26_0794.csv': 0.794,\n",
    "#     parent_dir + 'amexdefaultsubmissions/submission_cat_v112_seed52.csv': 0.794, \n",
    "#     parent_dir + 'amexdefaultsubmissions/submission_cat_v113_seed62.csv': 0.794, \n",
    "    parent_dir + 'amexdefaultsubmissions/submission_TF_GRU0789.csv': 0.789,\n",
    "#     parent_dir + 'amexdefaultsubmissions/submission_xgb_v24.csv': 0.794,\n",
    "    parent_dir + 'amexdefaultsubmissions/test_lgbm_baseline_5fold_seed42.csv': 0.796,\n",
    "    parent_dir + 'amexdefaultsubmissions/test_lgbm_baseline_5fold_seed42_plus_0797.csv': 0.797,\n",
    "#     parent_dir + 'amexdefaultsubmissions/submission_cat_0.7923765971248049.csv': 0.792,\n",
    "    parent_dir + 'amexdefaultsubmissions/submission_tabnet0791.csv': 0.791,\n",
    "    parent_dir + 'amexdefaultsubmissions/lightautoml_tabularautoml0795.csv': 0.795,\n",
    "    parent_dir + 'amexdefaultsubmissions/submission_xgb_nvt_0._794csv.csv': 0.794,\n",
    "    '../input/amex-lgbm-dart-cv-0-7977/test_lgbm_baseline_5fold_seed_blend.csv': 0.799\n",
    "}\n",
    "\n",
    "preds, weights = read_weighted_preds(sub_dict, worst, best)"
   ]
  },
  {
   "cell_type": "code",
   "execution_count": 28,
   "id": "7cea3a7b",
   "metadata": {
    "execution": {
     "iopub.execute_input": "2022-07-11T16:34:23.412379Z",
     "iopub.status.busy": "2022-07-11T16:34:23.411598Z",
     "iopub.status.idle": "2022-07-11T16:34:28.137359Z",
     "shell.execute_reply": "2022-07-11T16:34:28.136588Z"
    },
    "papermill": {
     "duration": 4.747433,
     "end_time": "2022-07-11T16:34:28.139122",
     "exception": false,
     "start_time": "2022-07-11T16:34:23.391689",
     "status": "completed"
    },
    "tags": []
   },
   "outputs": [
    {
     "data": {
      "text/html": [
       "<div>\n",
       "<style scoped>\n",
       "    .dataframe tbody tr th:only-of-type {\n",
       "        vertical-align: middle;\n",
       "    }\n",
       "\n",
       "    .dataframe tbody tr th {\n",
       "        vertical-align: top;\n",
       "    }\n",
       "\n",
       "    .dataframe thead th {\n",
       "        text-align: right;\n",
       "    }\n",
       "</style>\n",
       "<table border=\"1\" class=\"dataframe\">\n",
       "  <thead>\n",
       "    <tr style=\"text-align: right;\">\n",
       "      <th></th>\n",
       "      <th>customer_ID</th>\n",
       "      <th>prediction</th>\n",
       "    </tr>\n",
       "  </thead>\n",
       "  <tbody>\n",
       "    <tr>\n",
       "      <th>0</th>\n",
       "      <td>00000469ba478561f23a92a868bd366de6f6527a684c9a...</td>\n",
       "      <td>0.027032</td>\n",
       "    </tr>\n",
       "    <tr>\n",
       "      <th>1</th>\n",
       "      <td>00001bf2e77ff879fab36aa4fac689b9ba411dae63ae39...</td>\n",
       "      <td>0.001071</td>\n",
       "    </tr>\n",
       "    <tr>\n",
       "      <th>2</th>\n",
       "      <td>0000210045da4f81e5f122c6bde5c2a617d03eef67f82c...</td>\n",
       "      <td>0.044517</td>\n",
       "    </tr>\n",
       "    <tr>\n",
       "      <th>3</th>\n",
       "      <td>00003b41e58ede33b8daf61ab56d9952f17c9ad1c3976c...</td>\n",
       "      <td>0.232760</td>\n",
       "    </tr>\n",
       "    <tr>\n",
       "      <th>4</th>\n",
       "      <td>00004b22eaeeeb0ec976890c1d9bfc14fd9427e98c4ee9...</td>\n",
       "      <td>0.858951</td>\n",
       "    </tr>\n",
       "    <tr>\n",
       "      <th>...</th>\n",
       "      <td>...</td>\n",
       "      <td>...</td>\n",
       "    </tr>\n",
       "    <tr>\n",
       "      <th>924616</th>\n",
       "      <td>ffff952c631f2c911b8a2a8ca56ea6e656309a83d2f64c...</td>\n",
       "      <td>0.013469</td>\n",
       "    </tr>\n",
       "    <tr>\n",
       "      <th>924617</th>\n",
       "      <td>ffffcf5df59e5e0bba2a5ac4578a34e2b5aa64a1546cd3...</td>\n",
       "      <td>0.794818</td>\n",
       "    </tr>\n",
       "    <tr>\n",
       "      <th>924618</th>\n",
       "      <td>ffffd61f098cc056dbd7d2a21380c4804bbfe60856f475...</td>\n",
       "      <td>0.459826</td>\n",
       "    </tr>\n",
       "    <tr>\n",
       "      <th>924619</th>\n",
       "      <td>ffffddef1fc3643ea179c93245b68dca0f36941cd83977...</td>\n",
       "      <td>0.280984</td>\n",
       "    </tr>\n",
       "    <tr>\n",
       "      <th>924620</th>\n",
       "      <td>fffffa7cf7e453e1acc6a1426475d5cb9400859f82ff61...</td>\n",
       "      <td>0.056131</td>\n",
       "    </tr>\n",
       "  </tbody>\n",
       "</table>\n",
       "<p>924621 rows × 2 columns</p>\n",
       "</div>"
      ],
      "text/plain": [
       "                                              customer_ID  prediction\n",
       "0       00000469ba478561f23a92a868bd366de6f6527a684c9a...    0.027032\n",
       "1       00001bf2e77ff879fab36aa4fac689b9ba411dae63ae39...    0.001071\n",
       "2       0000210045da4f81e5f122c6bde5c2a617d03eef67f82c...    0.044517\n",
       "3       00003b41e58ede33b8daf61ab56d9952f17c9ad1c3976c...    0.232760\n",
       "4       00004b22eaeeeb0ec976890c1d9bfc14fd9427e98c4ee9...    0.858951\n",
       "...                                                   ...         ...\n",
       "924616  ffff952c631f2c911b8a2a8ca56ea6e656309a83d2f64c...    0.013469\n",
       "924617  ffffcf5df59e5e0bba2a5ac4578a34e2b5aa64a1546cd3...    0.794818\n",
       "924618  ffffd61f098cc056dbd7d2a21380c4804bbfe60856f475...    0.459826\n",
       "924619  ffffddef1fc3643ea179c93245b68dca0f36941cd83977...    0.280984\n",
       "924620  fffffa7cf7e453e1acc6a1426475d5cb9400859f82ff61...    0.056131\n",
       "\n",
       "[924621 rows x 2 columns]"
      ]
     },
     "execution_count": 28,
     "metadata": {},
     "output_type": "execute_result"
    }
   ],
   "source": [
    "blend_ss = sub.copy()\n",
    "blend_ss['prediction'] = np.sum(np.column_stack(preds), axis=1) / sum(weights)\n",
    "# blend_ss['prediction'] = (np.mean(np.column_stack(preds), axis=1))\n",
    "blend_ss.to_csv('submission_blend.csv', index=False)\n",
    "blend_ss"
   ]
  },
  {
   "cell_type": "code",
   "execution_count": 29,
   "id": "8860bf49",
   "metadata": {
    "execution": {
     "iopub.execute_input": "2022-07-11T16:34:28.176510Z",
     "iopub.status.busy": "2022-07-11T16:34:28.176198Z",
     "iopub.status.idle": "2022-07-11T16:34:28.227680Z",
     "shell.execute_reply": "2022-07-11T16:34:28.226797Z"
    },
    "papermill": {
     "duration": 0.072465,
     "end_time": "2022-07-11T16:34:28.229844",
     "exception": false,
     "start_time": "2022-07-11T16:34:28.157379",
     "status": "completed"
    },
    "tags": []
   },
   "outputs": [
    {
     "data": {
      "text/html": [
       "<div>\n",
       "<style scoped>\n",
       "    .dataframe tbody tr th:only-of-type {\n",
       "        vertical-align: middle;\n",
       "    }\n",
       "\n",
       "    .dataframe tbody tr th {\n",
       "        vertical-align: top;\n",
       "    }\n",
       "\n",
       "    .dataframe thead th {\n",
       "        text-align: right;\n",
       "    }\n",
       "</style>\n",
       "<table border=\"1\" class=\"dataframe\">\n",
       "  <thead>\n",
       "    <tr style=\"text-align: right;\">\n",
       "      <th></th>\n",
       "      <th>prediction</th>\n",
       "    </tr>\n",
       "  </thead>\n",
       "  <tbody>\n",
       "    <tr>\n",
       "      <th>count</th>\n",
       "      <td>924621.000000</td>\n",
       "    </tr>\n",
       "    <tr>\n",
       "      <th>mean</th>\n",
       "      <td>0.249012</td>\n",
       "    </tr>\n",
       "    <tr>\n",
       "      <th>std</th>\n",
       "      <td>0.345418</td>\n",
       "    </tr>\n",
       "    <tr>\n",
       "      <th>min</th>\n",
       "      <td>0.000132</td>\n",
       "    </tr>\n",
       "    <tr>\n",
       "      <th>25%</th>\n",
       "      <td>0.003014</td>\n",
       "    </tr>\n",
       "    <tr>\n",
       "      <th>50%</th>\n",
       "      <td>0.026722</td>\n",
       "    </tr>\n",
       "    <tr>\n",
       "      <th>75%</th>\n",
       "      <td>0.481942</td>\n",
       "    </tr>\n",
       "    <tr>\n",
       "      <th>max</th>\n",
       "      <td>0.998233</td>\n",
       "    </tr>\n",
       "  </tbody>\n",
       "</table>\n",
       "</div>"
      ],
      "text/plain": [
       "          prediction\n",
       "count  924621.000000\n",
       "mean        0.249012\n",
       "std         0.345418\n",
       "min         0.000132\n",
       "25%         0.003014\n",
       "50%         0.026722\n",
       "75%         0.481942\n",
       "max         0.998233"
      ]
     },
     "execution_count": 29,
     "metadata": {},
     "output_type": "execute_result"
    }
   ],
   "source": [
    "blend_ss.describe()"
   ]
  },
  {
   "cell_type": "code",
   "execution_count": 30,
   "id": "2ff656fb",
   "metadata": {
    "execution": {
     "iopub.execute_input": "2022-07-11T16:34:28.268250Z",
     "iopub.status.busy": "2022-07-11T16:34:28.267921Z",
     "iopub.status.idle": "2022-07-11T16:34:28.706293Z",
     "shell.execute_reply": "2022-07-11T16:34:28.705393Z"
    },
    "papermill": {
     "duration": 0.460296,
     "end_time": "2022-07-11T16:34:28.708900",
     "exception": false,
     "start_time": "2022-07-11T16:34:28.248604",
     "status": "completed"
    },
    "tags": []
   },
   "outputs": [
    {
     "data": {
      "image/png": "[encoded data removed]",
      "text/plain": [
       "<Figure size 432x288 with 1 Axes>"
      ]
     },
     "metadata": {
      "needs_background": "light"
     },
     "output_type": "display_data"
    }
   ],
   "source": [
    "# PLOT PREDICTIONS\n",
    "plt.hist(blend_ss.prediction, bins=100)\n",
    "plt.title('Blend Test Predictions')\n",
    "plt.show()"
   ]
  },
  {
   "cell_type": "markdown",
   "id": "d639473c",
   "metadata": {
    "papermill": {
     "duration": 0.34912,
     "end_time": "2022-07-11T16:34:29.092000",
     "exception": false,
     "start_time": "2022-07-11T16:34:28.742880",
     "status": "completed"
    },
    "tags": []
   },
   "source": [
    "# Submit to Kaggle from Colab"
   ]
  },
  {
   "cell_type": "code",
   "execution_count": 31,
   "id": "10cfdc74",
   "metadata": {
    "execution": {
     "iopub.execute_input": "2022-07-11T16:34:29.133599Z",
     "iopub.status.busy": "2022-07-11T16:34:29.133249Z",
     "iopub.status.idle": "2022-07-11T16:34:29.137541Z",
     "shell.execute_reply": "2022-07-11T16:34:29.136814Z"
    },
    "papermill": {
     "duration": 0.026913,
     "end_time": "2022-07-11T16:34:29.139356",
     "exception": false,
     "start_time": "2022-07-11T16:34:29.112443",
     "status": "completed"
    },
    "tags": []
   },
   "outputs": [],
   "source": [
    "# Submit\n",
    "if is_env_colab:\n",
    "    # !kaggle competitions submit -c amex-default-prediction -f submission_cat_v1.csv -m \"From colab\"\n",
    "    !kaggle competitions submit -c amex-default-prediction -f submission_blend.csv -m \"From colab\""
   ]
  },
  {
   "cell_type": "code",
   "execution_count": 32,
   "id": "9749ee6c",
   "metadata": {
    "execution": {
     "iopub.execute_input": "2022-07-11T16:34:29.178747Z",
     "iopub.status.busy": "2022-07-11T16:34:29.178384Z",
     "iopub.status.idle": "2022-07-11T16:34:29.182551Z",
     "shell.execute_reply": "2022-07-11T16:34:29.181816Z"
    },
    "papermill": {
     "duration": 0.025572,
     "end_time": "2022-07-11T16:34:29.184216",
     "exception": false,
     "start_time": "2022-07-11T16:34:29.158644",
     "status": "completed"
    },
    "tags": []
   },
   "outputs": [],
   "source": [
    "# Run after few seconds\n",
    "if is_env_colab:\n",
    "    !kaggle competitions submissions amex-default-prediction"
   ]
  }
 ],
 "metadata": {
  "kernelspec": {
   "display_name": "Python 3",
   "language": "python",
   "name": "python3"
  },
  "language_info": {
   "codemirror_mode": {
    "name": "ipython",
    "version": 3
   },
   "file_extension": ".py",
   "mimetype": "text/x-python",
   "name": "python",
   "nbconvert_exporter": "python",
   "pygments_lexer": "ipython3",
   "version": "3.7.12"
  },
  "papermill": {
   "default_parameters": {},
   "duration": 4455.31868,
   "end_time": "2022-07-11T16:34:30.231068",
   "environment_variables": {},
   "exception": null,
   "input_path": "__notebook__.ipynb",
   "output_path": "__notebook__.ipynb",
   "parameters": {},
   "start_time": "2022-07-11T15:20:14.912388",
   "version": "2.3.4"
  }
 },
 "nbformat": 4,
 "nbformat_minor": 5
}

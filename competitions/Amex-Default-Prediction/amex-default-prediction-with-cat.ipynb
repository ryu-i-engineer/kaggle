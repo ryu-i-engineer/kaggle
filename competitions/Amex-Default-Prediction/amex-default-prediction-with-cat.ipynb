{
  "cells": [
    {
      "cell_type": "markdown",
      "id": "ec8911a0",
      "metadata": {
        "papermill": {
          "duration": 0.009252,
          "end_time": "2022-07-15T16:13:27.338460",
          "exception": false,
          "start_time": "2022-07-15T16:13:27.329208",
          "status": "completed"
        },
        "tags": [],
        "id": "ec8911a0"
      },
      "source": [
        "# Prepare for colab"
      ]
    },
    {
      "cell_type": "code",
      "execution_count": 1,
      "id": "bad112fb",
      "metadata": {
        "execution": {
          "iopub.execute_input": "2022-07-15T16:13:27.400098Z",
          "iopub.status.busy": "2022-07-15T16:13:27.399391Z",
          "iopub.status.idle": "2022-07-15T16:13:27.403356Z",
          "shell.execute_reply": "2022-07-15T16:13:27.402606Z"
        },
        "papermill": {
          "duration": 0.015568,
          "end_time": "2022-07-15T16:13:27.405067",
          "exception": false,
          "start_time": "2022-07-15T16:13:27.389499",
          "status": "completed"
        },
        "tags": [],
        "id": "bad112fb",
        "outputId": "3c790821-2fa7-46b2-b076-1297f58612b2",
        "colab": {
          "base_uri": "https://localhost:8080/"
        }
      },
      "outputs": [
        {
          "output_type": "stream",
          "name": "stdout",
          "text": [
            "Looking in indexes: https://pypi.org/simple, https://us-python.pkg.dev/colab-wheels/public/simple/\n",
            "Collecting catboost\n",
            "  Downloading catboost-1.0.6-cp37-none-manylinux1_x86_64.whl (76.6 MB)\n",
            "\u001b[K     |████████████████████████████████| 76.6 MB 1.7 MB/s \n",
            "\u001b[?25hRequirement already satisfied: matplotlib in /usr/local/lib/python3.7/dist-packages (from catboost) (3.2.2)\n",
            "Requirement already satisfied: scipy in /usr/local/lib/python3.7/dist-packages (from catboost) (1.7.3)\n",
            "Requirement already satisfied: numpy>=1.16.0 in /usr/local/lib/python3.7/dist-packages (from catboost) (1.21.6)\n",
            "Requirement already satisfied: pandas>=0.24.0 in /usr/local/lib/python3.7/dist-packages (from catboost) (1.3.5)\n",
            "Requirement already satisfied: six in /usr/local/lib/python3.7/dist-packages (from catboost) (1.15.0)\n",
            "Requirement already satisfied: plotly in /usr/local/lib/python3.7/dist-packages (from catboost) (5.5.0)\n",
            "Requirement already satisfied: graphviz in /usr/local/lib/python3.7/dist-packages (from catboost) (0.10.1)\n",
            "Requirement already satisfied: pytz>=2017.3 in /usr/local/lib/python3.7/dist-packages (from pandas>=0.24.0->catboost) (2022.1)\n",
            "Requirement already satisfied: python-dateutil>=2.7.3 in /usr/local/lib/python3.7/dist-packages (from pandas>=0.24.0->catboost) (2.8.2)\n",
            "Requirement already satisfied: cycler>=0.10 in /usr/local/lib/python3.7/dist-packages (from matplotlib->catboost) (0.11.0)\n",
            "Requirement already satisfied: pyparsing!=2.0.4,!=2.1.2,!=2.1.6,>=2.0.1 in /usr/local/lib/python3.7/dist-packages (from matplotlib->catboost) (3.0.9)\n",
            "Requirement already satisfied: kiwisolver>=1.0.1 in /usr/local/lib/python3.7/dist-packages (from matplotlib->catboost) (1.4.4)\n",
            "Requirement already satisfied: typing-extensions in /usr/local/lib/python3.7/dist-packages (from kiwisolver>=1.0.1->matplotlib->catboost) (4.1.1)\n",
            "Requirement already satisfied: tenacity>=6.2.0 in /usr/local/lib/python3.7/dist-packages (from plotly->catboost) (8.0.1)\n",
            "Installing collected packages: catboost\n",
            "Successfully installed catboost-1.0.6\n",
            "Looking in indexes: https://pypi.org/simple, https://us-python.pkg.dev/colab-wheels/public/simple/\n",
            "Requirement already satisfied: kaggle in /usr/local/lib/python3.7/dist-packages (1.5.12)\n",
            "Requirement already satisfied: six>=1.10 in /usr/local/lib/python3.7/dist-packages (from kaggle) (1.15.0)\n",
            "Requirement already satisfied: python-dateutil in /usr/local/lib/python3.7/dist-packages (from kaggle) (2.8.2)\n",
            "Requirement already satisfied: requests in /usr/local/lib/python3.7/dist-packages (from kaggle) (2.23.0)\n",
            "Requirement already satisfied: urllib3 in /usr/local/lib/python3.7/dist-packages (from kaggle) (1.24.3)\n",
            "Requirement already satisfied: python-slugify in /usr/local/lib/python3.7/dist-packages (from kaggle) (6.1.2)\n",
            "Requirement already satisfied: certifi in /usr/local/lib/python3.7/dist-packages (from kaggle) (2022.6.15)\n",
            "Requirement already satisfied: tqdm in /usr/local/lib/python3.7/dist-packages (from kaggle) (4.64.0)\n",
            "Requirement already satisfied: text-unidecode>=1.3 in /usr/local/lib/python3.7/dist-packages (from python-slugify->kaggle) (1.3)\n",
            "Requirement already satisfied: idna<3,>=2.5 in /usr/local/lib/python3.7/dist-packages (from requests->kaggle) (2.10)\n",
            "Requirement already satisfied: chardet<4,>=3.0.2 in /usr/local/lib/python3.7/dist-packages (from requests->kaggle) (3.0.4)\n"
          ]
        }
      ],
      "source": [
        "!pip install catboost\n",
        "!pip install kaggle"
      ]
    },
    {
      "cell_type": "markdown",
      "id": "3fa90515",
      "metadata": {
        "papermill": {
          "duration": 0.008806,
          "end_time": "2022-07-15T16:13:27.422550",
          "exception": false,
          "start_time": "2022-07-15T16:13:27.413744",
          "status": "completed"
        },
        "tags": [],
        "id": "3fa90515"
      },
      "source": [
        "## Upload API Token"
      ]
    },
    {
      "cell_type": "code",
      "execution_count": 2,
      "id": "54e44e29",
      "metadata": {
        "execution": {
          "iopub.execute_input": "2022-07-15T16:13:27.442237Z",
          "iopub.status.busy": "2022-07-15T16:13:27.441555Z",
          "iopub.status.idle": "2022-07-15T16:13:27.448196Z",
          "shell.execute_reply": "2022-07-15T16:13:27.447549Z"
        },
        "papermill": {
          "duration": 0.01814,
          "end_time": "2022-07-15T16:13:27.449796",
          "exception": false,
          "start_time": "2022-07-15T16:13:27.431656",
          "status": "completed"
        },
        "tags": [],
        "id": "54e44e29",
        "outputId": "9a5a6cec-3d13-425d-c76d-f50e1d8307be",
        "colab": {
          "base_uri": "https://localhost:8080/"
        }
      },
      "outputs": [
        {
          "output_type": "stream",
          "name": "stdout",
          "text": [
            "Mounted at /content/drive\n"
          ]
        }
      ],
      "source": [
        "from google.colab import drive\n",
        "drive.mount('/content/drive')\n",
        "\n",
        "# Then move kaggle.json into the folder where the API expects to find it.\n",
        "!mkdir -p ~/.kaggle/ && cp /content/drive/MyDrive/backups/kaggle.json ~/.kaggle/ && chmod 600 ~/.kaggle/kaggle.json"
      ]
    },
    {
      "cell_type": "markdown",
      "id": "1abbc588",
      "metadata": {
        "papermill": {
          "duration": 0.008512,
          "end_time": "2022-07-15T16:13:27.467327",
          "exception": false,
          "start_time": "2022-07-15T16:13:27.458815",
          "status": "completed"
        },
        "tags": [],
        "id": "1abbc588"
      },
      "source": [
        "## Download and unzip dataset"
      ]
    },
    {
      "cell_type": "code",
      "execution_count": 3,
      "id": "c17f8dd7",
      "metadata": {
        "execution": {
          "iopub.execute_input": "2022-07-15T16:13:27.486038Z",
          "iopub.status.busy": "2022-07-15T16:13:27.485615Z",
          "iopub.status.idle": "2022-07-15T16:13:27.490276Z",
          "shell.execute_reply": "2022-07-15T16:13:27.489580Z"
        },
        "papermill": {
          "duration": 0.016071,
          "end_time": "2022-07-15T16:13:27.491993",
          "exception": false,
          "start_time": "2022-07-15T16:13:27.475922",
          "status": "completed"
        },
        "tags": [],
        "id": "c17f8dd7",
        "outputId": "469a8afe-2e5d-4fc9-9cf9-512adc5a6030",
        "colab": {
          "base_uri": "https://localhost:8080/"
        }
      },
      "outputs": [
        {
          "output_type": "stream",
          "name": "stdout",
          "text": [
            "Downloading amex-fe-plus2.zip to /content\n",
            "100% 4.69G/4.70G [00:56<00:00, 96.6MB/s]\n",
            "100% 4.70G/4.70G [00:56<00:00, 89.5MB/s]\n",
            "Archive:  /content/amex-fe-plus2.zip\n",
            "  inflating: test_fe_plus_plus.parquet  \n",
            "  inflating: train_fe_plus_plus.parquet  \n"
          ]
        }
      ],
      "source": [
        "!kaggle datasets download -d ryuina/amex-fe-plus2\n",
        "!unzip /content/amex-fe-plus2.zip"
      ]
    },
    {
      "cell_type": "code",
      "execution_count": 4,
      "id": "e4df1701",
      "metadata": {
        "execution": {
          "iopub.execute_input": "2022-07-15T16:13:27.515341Z",
          "iopub.status.busy": "2022-07-15T16:13:27.514880Z",
          "iopub.status.idle": "2022-07-15T16:13:27.523654Z",
          "shell.execute_reply": "2022-07-15T16:13:27.522700Z"
        },
        "papermill": {
          "duration": 0.025128,
          "end_time": "2022-07-15T16:13:27.526436",
          "exception": false,
          "start_time": "2022-07-15T16:13:27.501308",
          "status": "completed"
        },
        "tags": [],
        "id": "e4df1701",
        "outputId": "e73e9082-c30d-4561-c135-de1b2481c797",
        "colab": {
          "base_uri": "https://localhost:8080/"
        }
      },
      "outputs": [
        {
          "output_type": "stream",
          "name": "stdout",
          "text": [
            "Downloading sample_submission.csv.zip to /content\n",
            " 28% 9.00M/32.4M [00:00<00:00, 33.4MB/s]\n",
            "100% 32.4M/32.4M [00:00<00:00, 101MB/s] \n",
            "Archive:  /content/sample_submission.csv.zip\n",
            "  inflating: sample_submission.csv   \n"
          ]
        }
      ],
      "source": [
        "!kaggle competitions download -c amex-default-prediction -f sample_submission.csv\n",
        "!unzip /content/sample_submission.csv.zip"
      ]
    },
    {
      "cell_type": "markdown",
      "id": "f4989bdc",
      "metadata": {
        "papermill": {
          "duration": 0.016438,
          "end_time": "2022-07-15T16:13:27.558017",
          "exception": false,
          "start_time": "2022-07-15T16:13:27.541579",
          "status": "completed"
        },
        "tags": [],
        "id": "f4989bdc"
      },
      "source": [
        "# Settings"
      ]
    },
    {
      "cell_type": "code",
      "execution_count": 5,
      "id": "95e00624",
      "metadata": {
        "_cell_guid": "b1076dfc-b9ad-4769-8c92-a6c4dae69d19",
        "_uuid": "8f2839f25d086af736a60e9eeb907d3b93b6e0e5",
        "execution": {
          "iopub.execute_input": "2022-07-15T16:13:27.588423Z",
          "iopub.status.busy": "2022-07-15T16:13:27.588075Z",
          "iopub.status.idle": "2022-07-15T16:13:28.957484Z",
          "shell.execute_reply": "2022-07-15T16:13:28.956421Z"
        },
        "papermill": {
          "duration": 1.38867,
          "end_time": "2022-07-15T16:13:28.960624",
          "exception": false,
          "start_time": "2022-07-15T16:13:27.571954",
          "status": "completed"
        },
        "tags": [],
        "id": "95e00624"
      },
      "outputs": [],
      "source": [
        "import pandas as pd\n",
        "import numpy as np\n",
        "import matplotlib.pyplot as plt\n",
        "import random\n",
        "\n",
        "from catboost import CatBoostClassifier, Pool\n",
        "from sklearn.preprocessing import LabelEncoder\n",
        "from sklearn.model_selection import KFold\n",
        "\n",
        "import os\n",
        "import gc; gc.enable()\n",
        "\n",
        "import warnings\n",
        "warnings.filterwarnings('ignore')"
      ]
    },
    {
      "cell_type": "code",
      "execution_count": 6,
      "id": "004febdf",
      "metadata": {
        "execution": {
          "iopub.execute_input": "2022-07-15T16:13:28.994650Z",
          "iopub.status.busy": "2022-07-15T16:13:28.994155Z",
          "iopub.status.idle": "2022-07-15T16:13:29.006339Z",
          "shell.execute_reply": "2022-07-15T16:13:29.002101Z"
        },
        "papermill": {
          "duration": 0.030433,
          "end_time": "2022-07-15T16:13:29.008239",
          "exception": false,
          "start_time": "2022-07-15T16:13:28.977806",
          "status": "completed"
        },
        "tags": [],
        "id": "004febdf"
      },
      "outputs": [],
      "source": [
        "VER=1\n",
        "SEED = 42\n",
        "FOLDS = 5\n",
        "\n",
        "cat_features = [\"B_30\", \"B_38\", \"D_114\", \"D_116\", \"D_117\", \"D_120\", \"D_126\", \"D_63\", \"D_64\", \"D_66\", \"D_68\"]\n",
        "\n",
        "def seed_everything(seed):\n",
        "    random.seed(seed)\n",
        "    np.random.seed(seed)\n",
        "    os.environ['PYTHONHASHSEED'] = str(seed)\n",
        "\n",
        "seed_everything(SEED)"
      ]
    },
    {
      "cell_type": "code",
      "execution_count": 7,
      "id": "c0e94a28",
      "metadata": {
        "execution": {
          "iopub.execute_input": "2022-07-15T16:13:29.093540Z",
          "iopub.status.busy": "2022-07-15T16:13:29.093091Z",
          "iopub.status.idle": "2022-07-15T16:14:14.382522Z",
          "shell.execute_reply": "2022-07-15T16:14:14.381643Z"
        },
        "papermill": {
          "duration": 45.307941,
          "end_time": "2022-07-15T16:14:14.385086",
          "exception": false,
          "start_time": "2022-07-15T16:13:29.077145",
          "status": "completed"
        },
        "tags": [],
        "id": "c0e94a28"
      },
      "outputs": [],
      "source": [
        "train = pd.read_parquet(\"/content/train_fe_plus_plus.parquet\")\n",
        "# train = train.reset_index(level=0)\n",
        "test = pd.read_parquet(\"/content/test_fe_plus_plus.parquet\")\n",
        "# test = test.reset_index(level=0)"
      ]
    },
    {
      "cell_type": "code",
      "execution_count": 8,
      "id": "81cbcbdf",
      "metadata": {
        "execution": {
          "iopub.execute_input": "2022-07-15T16:14:14.404618Z",
          "iopub.status.busy": "2022-07-15T16:14:14.404283Z",
          "iopub.status.idle": "2022-07-15T16:14:16.433273Z",
          "shell.execute_reply": "2022-07-15T16:14:16.432437Z"
        },
        "papermill": {
          "duration": 2.041229,
          "end_time": "2022-07-15T16:14:16.435648",
          "exception": false,
          "start_time": "2022-07-15T16:14:14.394419",
          "status": "completed"
        },
        "tags": [],
        "id": "81cbcbdf"
      },
      "outputs": [],
      "source": [
        "cat_features_last = [f\"{cf}_last\" for cf in cat_features]\n",
        "\n",
        "le_encoder = LabelEncoder()\n",
        "for categorical_feature in cat_features_last:\n",
        "    train[categorical_feature] = le_encoder.fit_transform(train[categorical_feature])\n",
        "    test[categorical_feature] = le_encoder.transform(test[categorical_feature])"
      ]
    },
    {
      "cell_type": "code",
      "execution_count": 9,
      "id": "b931bba5",
      "metadata": {
        "execution": {
          "iopub.execute_input": "2022-07-15T16:14:16.455441Z",
          "iopub.status.busy": "2022-07-15T16:14:16.455092Z",
          "iopub.status.idle": "2022-07-15T16:14:18.013098Z",
          "shell.execute_reply": "2022-07-15T16:14:18.012027Z"
        },
        "papermill": {
          "duration": 1.570551,
          "end_time": "2022-07-15T16:14:18.015521",
          "exception": false,
          "start_time": "2022-07-15T16:14:16.444970",
          "status": "completed"
        },
        "tags": [],
        "id": "b931bba5"
      },
      "outputs": [],
      "source": [
        "# https://www.kaggle.com/code/ragnar123/amex-lgbm-dart-cv-0-7963\n",
        "# Round last float features to 2 decimal place\n",
        "float_cols = list(train.dtypes[(train.dtypes == 'float32') | (train.dtypes == 'float64')].index)\n",
        "float_cols = [col for col in float_cols if 'last' in col]\n",
        "\n",
        "train[float_cols] = train[float_cols].round(2)\n",
        "test[float_cols] = test[float_cols].round(2)"
      ]
    },
    {
      "cell_type": "code",
      "execution_count": 10,
      "id": "ba13c62d",
      "metadata": {
        "execution": {
          "iopub.execute_input": "2022-07-15T16:14:18.035731Z",
          "iopub.status.busy": "2022-07-15T16:14:18.035409Z",
          "iopub.status.idle": "2022-07-15T16:14:24.212689Z",
          "shell.execute_reply": "2022-07-15T16:14:24.207569Z"
        },
        "papermill": {
          "duration": 6.191719,
          "end_time": "2022-07-15T16:14:24.216845",
          "exception": false,
          "start_time": "2022-07-15T16:14:18.025126",
          "status": "completed"
        },
        "tags": [],
        "id": "ba13c62d"
      },
      "outputs": [],
      "source": [
        "train = train.set_index('customer_ID')\n",
        "train = train.sort_index().reset_index()\n",
        "FEATURES = train.drop(columns=['customer_ID', 'target']).columns"
      ]
    },
    {
      "cell_type": "code",
      "execution_count": 11,
      "id": "f0ecff48",
      "metadata": {
        "execution": {
          "iopub.execute_input": "2022-07-15T16:14:24.269747Z",
          "iopub.status.busy": "2022-07-15T16:14:24.269149Z",
          "iopub.status.idle": "2022-07-15T16:14:24.287474Z",
          "shell.execute_reply": "2022-07-15T16:14:24.284982Z"
        },
        "papermill": {
          "duration": 0.043293,
          "end_time": "2022-07-15T16:14:24.290609",
          "exception": false,
          "start_time": "2022-07-15T16:14:24.247316",
          "status": "completed"
        },
        "tags": [],
        "id": "f0ecff48"
      },
      "outputs": [],
      "source": [
        "# https://www.kaggle.com/competitions/amex-default-prediction/discussion/328020\n",
        "# https://www.kaggle.com/code/rohanrao/amex-competition-metric-implementations\n",
        "def amex_metric_np(target: np.ndarray, preds: np.ndarray) -> float:\n",
        "    indices = np.argsort(preds)[::-1]\n",
        "    preds, target = preds[indices], target[indices]\n",
        "\n",
        "    n_pos = np.sum(target)\n",
        "    n_neg = target.shape[0] - n_pos\n",
        "    \n",
        "    weight = 20.0 - target * 19.0\n",
        "    cum_norm_weight = (weight * (1 / weight.sum())).cumsum()\n",
        "    four_pct_mask = cum_norm_weight <= 0.04\n",
        "    d = np.sum(target[four_pct_mask]) / n_pos\n",
        "    \n",
        "    lorentz = (target * (1 / n_pos)).cumsum()\n",
        "    gini = ((lorentz - cum_norm_weight) * weight).sum()\n",
        "    gini_max = 10 * n_neg * (1 - 19 / (n_pos + 20 * n_neg))\n",
        "\n",
        "    g = gini / gini_max\n",
        "\n",
        "    return 0.5 * (g + d)"
      ]
    },
    {
      "cell_type": "code",
      "execution_count": 12,
      "id": "155fb197",
      "metadata": {
        "execution": {
          "iopub.execute_input": "2022-07-15T16:14:24.334040Z",
          "iopub.status.busy": "2022-07-15T16:14:24.333456Z",
          "iopub.status.idle": "2022-07-15T16:14:24.341948Z",
          "shell.execute_reply": "2022-07-15T16:14:24.341087Z"
        },
        "papermill": {
          "duration": 0.030338,
          "end_time": "2022-07-15T16:14:24.346412",
          "exception": false,
          "start_time": "2022-07-15T16:14:24.316074",
          "status": "completed"
        },
        "tags": [],
        "id": "155fb197"
      },
      "outputs": [],
      "source": [
        "cat_params = {\n",
        "    'iterations':30000,\n",
        "    'random_state':SEED,\n",
        "    'learning_rate':0.01,\n",
        "\n",
        "    # 'depth': 4,\n",
        "    'l2_leaf_reg':14,\n",
        "    'one_hot_max_size':20,\n",
        "    # 'random_strength': 0.5,\n",
        "    # 'bagging_temperature': 0.75,\n",
        "\n",
        "    # 'num_leaves': 100,\n",
        "    'min_child_samples': 40,\n",
        "\n",
        "    'task_type':\"GPU\",\n",
        "    'border_count':128,\n",
        "}"
      ]
    },
    {
      "cell_type": "code",
      "execution_count": 13,
      "id": "72e0dac6",
      "metadata": {
        "execution": {
          "iopub.execute_input": "2022-07-15T16:14:24.385070Z",
          "iopub.status.busy": "2022-07-15T16:14:24.384608Z",
          "iopub.status.idle": "2022-07-15T16:48:45.264974Z",
          "shell.execute_reply": "2022-07-15T16:48:45.263500Z"
        },
        "papermill": {
          "duration": 2060.899656,
          "end_time": "2022-07-15T16:48:45.266833",
          "exception": false,
          "start_time": "2022-07-15T16:14:24.367177",
          "status": "completed"
        },
        "tags": [],
        "id": "72e0dac6",
        "outputId": "b9cb844d-9db5-4edc-b7c2-4568484293ec",
        "colab": {
          "base_uri": "https://localhost:8080/"
        }
      },
      "outputs": [
        {
          "output_type": "stream",
          "name": "stdout",
          "text": [
            "#########################\n",
            "### Fold 1\n",
            "### Train size 367130 Valid size 91783\n",
            "### Training with 100% fold data...\n",
            "#########################\n",
            "0:\tlearn: 0.6805387\ttest: 0.6805309\tbest: 0.6805309 (0)\ttotal: 53.2ms\tremaining: 26m 37s\n",
            "1000:\tlearn: 0.2233660\ttest: 0.2259177\tbest: 0.2259177 (1000)\ttotal: 33.1s\tremaining: 15m 58s\n",
            "2000:\tlearn: 0.2168754\ttest: 0.2218828\tbest: 0.2218828 (2000)\ttotal: 1m 4s\tremaining: 15m 6s\n",
            "3000:\tlearn: 0.2131463\ttest: 0.2204280\tbest: 0.2204280 (3000)\ttotal: 1m 35s\tremaining: 14m 20s\n",
            "4000:\tlearn: 0.2102899\ttest: 0.2196386\tbest: 0.2196386 (4000)\ttotal: 2m 6s\tremaining: 13m 38s\n",
            "5000:\tlearn: 0.2078071\ttest: 0.2191164\tbest: 0.2191164 (5000)\ttotal: 2m 36s\tremaining: 13m\n",
            "6000:\tlearn: 0.2055158\ttest: 0.2187444\tbest: 0.2187444 (6000)\ttotal: 3m 6s\tremaining: 12m 24s\n",
            "7000:\tlearn: 0.2033367\ttest: 0.2184531\tbest: 0.2184531 (7000)\ttotal: 3m 36s\tremaining: 11m 50s\n",
            "8000:\tlearn: 0.2012710\ttest: 0.2181500\tbest: 0.2181500 (7998)\ttotal: 4m 6s\tremaining: 11m 16s\n",
            "9000:\tlearn: 0.1992701\ttest: 0.2179110\tbest: 0.2179110 (8999)\ttotal: 4m 36s\tremaining: 10m 44s\n",
            "10000:\tlearn: 0.1973283\ttest: 0.2177284\tbest: 0.2177271 (9995)\ttotal: 5m 6s\tremaining: 10m 12s\n",
            "11000:\tlearn: 0.1954532\ttest: 0.2175384\tbest: 0.2175368 (10989)\ttotal: 5m 36s\tremaining: 9m 40s\n",
            "12000:\tlearn: 0.1936079\ttest: 0.2173788\tbest: 0.2173788 (12000)\ttotal: 6m 6s\tremaining: 9m 9s\n",
            "13000:\tlearn: 0.1918032\ttest: 0.2172667\tbest: 0.2172645 (12931)\ttotal: 6m 36s\tremaining: 8m 38s\n",
            "14000:\tlearn: 0.1900136\ttest: 0.2171468\tbest: 0.2171468 (14000)\ttotal: 7m 6s\tremaining: 8m 7s\n",
            "15000:\tlearn: 0.1882994\ttest: 0.2170461\tbest: 0.2170448 (14975)\ttotal: 7m 36s\tremaining: 7m 36s\n",
            "16000:\tlearn: 0.1865839\ttest: 0.2169470\tbest: 0.2169461 (15998)\ttotal: 8m 6s\tremaining: 7m 5s\n",
            "17000:\tlearn: 0.1848840\ttest: 0.2168566\tbest: 0.2168561 (16995)\ttotal: 8m 36s\tremaining: 6m 34s\n",
            "18000:\tlearn: 0.1832291\ttest: 0.2167764\tbest: 0.2167743 (17983)\ttotal: 9m 6s\tremaining: 6m 4s\n",
            "19000:\tlearn: 0.1815546\ttest: 0.2167201\tbest: 0.2167196 (18999)\ttotal: 9m 36s\tremaining: 5m 33s\n",
            "20000:\tlearn: 0.1799203\ttest: 0.2166361\tbest: 0.2166355 (19997)\ttotal: 10m 6s\tremaining: 5m 3s\n",
            "21000:\tlearn: 0.1783527\ttest: 0.2165829\tbest: 0.2165800 (20967)\ttotal: 10m 36s\tremaining: 4m 32s\n",
            "22000:\tlearn: 0.1767822\ttest: 0.2165208\tbest: 0.2165189 (21955)\ttotal: 11m 7s\tremaining: 4m 2s\n",
            "23000:\tlearn: 0.1752346\ttest: 0.2164582\tbest: 0.2164578 (22999)\ttotal: 11m 37s\tremaining: 3m 32s\n",
            "24000:\tlearn: 0.1736988\ttest: 0.2164024\tbest: 0.2164008 (23993)\ttotal: 12m 7s\tremaining: 3m 1s\n",
            "25000:\tlearn: 0.1721670\ttest: 0.2163789\tbest: 0.2163780 (24992)\ttotal: 12m 38s\tremaining: 2m 31s\n",
            "26000:\tlearn: 0.1706562\ttest: 0.2163347\tbest: 0.2163347 (26000)\ttotal: 13m 8s\tremaining: 2m 1s\n",
            "27000:\tlearn: 0.1691937\ttest: 0.2162874\tbest: 0.2162864 (26984)\ttotal: 13m 38s\tremaining: 1m 30s\n",
            "28000:\tlearn: 0.1677360\ttest: 0.2162672\tbest: 0.2162665 (27950)\ttotal: 14m 9s\tremaining: 1m\n",
            "bestTest = 0.2162534524\n",
            "bestIteration = 28318\n",
            "Shrink model to first 28319 iterations.\n",
            "Amex Metric = 0.7965366929540839 \n",
            "\n",
            "#########################\n",
            "### Fold 2\n",
            "### Train size 367130 Valid size 91783\n",
            "### Training with 100% fold data...\n",
            "#########################\n",
            "0:\tlearn: 0.6805832\ttest: 0.6806029\tbest: 0.6806029 (0)\ttotal: 38.1ms\tremaining: 19m 2s\n",
            "1000:\tlearn: 0.2231905\ttest: 0.2260095\tbest: 0.2260095 (1000)\ttotal: 33.2s\tremaining: 16m 2s\n",
            "2000:\tlearn: 0.2167044\ttest: 0.2219752\tbest: 0.2219752 (2000)\ttotal: 1m 5s\tremaining: 15m 11s\n",
            "3000:\tlearn: 0.2130272\ttest: 0.2205015\tbest: 0.2205015 (3000)\ttotal: 1m 35s\tremaining: 14m 22s\n",
            "4000:\tlearn: 0.2101033\ttest: 0.2196911\tbest: 0.2196911 (4000)\ttotal: 2m 6s\tremaining: 13m 39s\n",
            "5000:\tlearn: 0.2076618\ttest: 0.2191581\tbest: 0.2191581 (5000)\ttotal: 2m 35s\tremaining: 12m 59s\n",
            "6000:\tlearn: 0.2053741\ttest: 0.2187195\tbest: 0.2187195 (6000)\ttotal: 3m 5s\tremaining: 12m 23s\n",
            "7000:\tlearn: 0.2032227\ttest: 0.2183838\tbest: 0.2183837 (6999)\ttotal: 3m 35s\tremaining: 11m 48s\n",
            "8000:\tlearn: 0.2011309\ttest: 0.2180828\tbest: 0.2180814 (7997)\ttotal: 4m 5s\tremaining: 11m 14s\n",
            "9000:\tlearn: 0.1991579\ttest: 0.2178417\tbest: 0.2178408 (8997)\ttotal: 4m 35s\tremaining: 10m 41s\n",
            "10000:\tlearn: 0.1972198\ttest: 0.2176655\tbest: 0.2176653 (9999)\ttotal: 5m 4s\tremaining: 10m 9s\n",
            "11000:\tlearn: 0.1952965\ttest: 0.2174861\tbest: 0.2174855 (10996)\ttotal: 5m 34s\tremaining: 9m 37s\n",
            "12000:\tlearn: 0.1934733\ttest: 0.2173451\tbest: 0.2173443 (11995)\ttotal: 6m 4s\tremaining: 9m 6s\n",
            "13000:\tlearn: 0.1916710\ttest: 0.2171961\tbest: 0.2171955 (12998)\ttotal: 6m 34s\tremaining: 8m 35s\n",
            "14000:\tlearn: 0.1898850\ttest: 0.2170687\tbest: 0.2170684 (13999)\ttotal: 7m 4s\tremaining: 8m 4s\n",
            "15000:\tlearn: 0.1882021\ttest: 0.2169616\tbest: 0.2169616 (15000)\ttotal: 7m 33s\tremaining: 7m 33s\n",
            "16000:\tlearn: 0.1865032\ttest: 0.2168817\tbest: 0.2168804 (15968)\ttotal: 8m 4s\tremaining: 7m 3s\n",
            "17000:\tlearn: 0.1848147\ttest: 0.2167916\tbest: 0.2167916 (17000)\ttotal: 8m 33s\tremaining: 6m 32s\n",
            "18000:\tlearn: 0.1831364\ttest: 0.2167150\tbest: 0.2167149 (17999)\ttotal: 9m 4s\tremaining: 6m 2s\n",
            "19000:\tlearn: 0.1815088\ttest: 0.2166389\tbest: 0.2166388 (18999)\ttotal: 9m 34s\tremaining: 5m 32s\n",
            "20000:\tlearn: 0.1799209\ttest: 0.2165731\tbest: 0.2165731 (19992)\ttotal: 10m 4s\tremaining: 5m 2s\n",
            "21000:\tlearn: 0.1783022\ttest: 0.2165061\tbest: 0.2165061 (21000)\ttotal: 10m 34s\tremaining: 4m 31s\n",
            "22000:\tlearn: 0.1767329\ttest: 0.2164506\tbest: 0.2164506 (22000)\ttotal: 11m 4s\tremaining: 4m 1s\n",
            "23000:\tlearn: 0.1751777\ttest: 0.2163930\tbest: 0.2163920 (22996)\ttotal: 11m 35s\tremaining: 3m 31s\n",
            "24000:\tlearn: 0.1736764\ttest: 0.2163644\tbest: 0.2163637 (23996)\ttotal: 12m 4s\tremaining: 3m 1s\n",
            "25000:\tlearn: 0.1721595\ttest: 0.2163170\tbest: 0.2163170 (25000)\ttotal: 12m 34s\tremaining: 2m 30s\n",
            "26000:\tlearn: 0.1706581\ttest: 0.2162778\tbest: 0.2162737 (25841)\ttotal: 13m 5s\tremaining: 2m\n",
            "27000:\tlearn: 0.1692114\ttest: 0.2162373\tbest: 0.2162367 (26990)\ttotal: 13m 34s\tremaining: 1m 30s\n",
            "28000:\tlearn: 0.1677431\ttest: 0.2162276\tbest: 0.2162215 (27633)\ttotal: 14m 5s\tremaining: 1m\n",
            "bestTest = 0.2162214902\n",
            "bestIteration = 27633\n",
            "Shrink model to first 27634 iterations.\n",
            "Amex Metric = 0.7939861774452297 \n",
            "\n",
            "#########################\n",
            "### Fold 3\n",
            "### Train size 367130 Valid size 91783\n",
            "### Training with 100% fold data...\n",
            "#########################\n",
            "0:\tlearn: 0.6805201\ttest: 0.6804722\tbest: 0.6804722 (0)\ttotal: 37.8ms\tremaining: 18m 55s\n",
            "1000:\tlearn: 0.2239232\ttest: 0.2232912\tbest: 0.2232912 (1000)\ttotal: 33.1s\tremaining: 16m\n",
            "2000:\tlearn: 0.2173963\ttest: 0.2192155\tbest: 0.2192155 (2000)\ttotal: 1m 5s\tremaining: 15m 11s\n",
            "3000:\tlearn: 0.2136719\ttest: 0.2177942\tbest: 0.2177942 (3000)\ttotal: 1m 36s\tremaining: 14m 26s\n",
            "4000:\tlearn: 0.2107043\ttest: 0.2169651\tbest: 0.2169651 (4000)\ttotal: 2m 7s\tremaining: 13m 45s\n",
            "5000:\tlearn: 0.2082534\ttest: 0.2164088\tbest: 0.2164088 (5000)\ttotal: 2m 37s\tremaining: 13m 6s\n",
            "6000:\tlearn: 0.2059133\ttest: 0.2159855\tbest: 0.2159850 (5997)\ttotal: 3m 7s\tremaining: 12m 30s\n",
            "7000:\tlearn: 0.2038250\ttest: 0.2156557\tbest: 0.2156557 (7000)\ttotal: 3m 37s\tremaining: 11m 54s\n",
            "8000:\tlearn: 0.2018069\ttest: 0.2153706\tbest: 0.2153706 (7997)\ttotal: 4m 7s\tremaining: 11m 21s\n",
            "9000:\tlearn: 0.1999029\ttest: 0.2151581\tbest: 0.2151581 (8999)\ttotal: 4m 37s\tremaining: 10m 47s\n",
            "10000:\tlearn: 0.1980007\ttest: 0.2149543\tbest: 0.2149543 (10000)\ttotal: 5m 7s\tremaining: 10m 14s\n",
            "11000:\tlearn: 0.1961491\ttest: 0.2147817\tbest: 0.2147814 (10999)\ttotal: 5m 37s\tremaining: 9m 42s\n",
            "12000:\tlearn: 0.1943721\ttest: 0.2145967\tbest: 0.2145961 (11999)\ttotal: 6m 6s\tremaining: 9m 10s\n",
            "13000:\tlearn: 0.1925843\ttest: 0.2144516\tbest: 0.2144516 (13000)\ttotal: 6m 36s\tremaining: 8m 38s\n",
            "14000:\tlearn: 0.1908335\ttest: 0.2143203\tbest: 0.2143203 (14000)\ttotal: 7m 6s\tremaining: 8m 7s\n",
            "15000:\tlearn: 0.1891333\ttest: 0.2141758\tbest: 0.2141758 (15000)\ttotal: 7m 36s\tremaining: 7m 36s\n",
            "16000:\tlearn: 0.1874628\ttest: 0.2140583\tbest: 0.2140575 (15989)\ttotal: 8m 6s\tremaining: 7m 5s\n",
            "17000:\tlearn: 0.1858201\ttest: 0.2139669\tbest: 0.2139650 (16930)\ttotal: 8m 36s\tremaining: 6m 34s\n",
            "18000:\tlearn: 0.1841865\ttest: 0.2138878\tbest: 0.2138874 (17998)\ttotal: 9m 5s\tremaining: 6m 3s\n",
            "19000:\tlearn: 0.1825787\ttest: 0.2138162\tbest: 0.2138156 (18987)\ttotal: 9m 35s\tremaining: 5m 33s\n",
            "20000:\tlearn: 0.1809927\ttest: 0.2137466\tbest: 0.2137458 (19995)\ttotal: 10m 5s\tremaining: 5m 2s\n",
            "21000:\tlearn: 0.1793803\ttest: 0.2136622\tbest: 0.2136585 (20974)\ttotal: 10m 35s\tremaining: 4m 32s\n",
            "22000:\tlearn: 0.1778090\ttest: 0.2135998\tbest: 0.2135980 (21976)\ttotal: 11m 5s\tremaining: 4m 2s\n",
            "23000:\tlearn: 0.1762722\ttest: 0.2135331\tbest: 0.2135306 (22904)\ttotal: 11m 35s\tremaining: 3m 31s\n",
            "24000:\tlearn: 0.1747263\ttest: 0.2134848\tbest: 0.2134816 (23940)\ttotal: 12m 6s\tremaining: 3m 1s\n",
            "25000:\tlearn: 0.1732504\ttest: 0.2134278\tbest: 0.2134269 (24991)\ttotal: 12m 36s\tremaining: 2m 31s\n",
            "26000:\tlearn: 0.1717963\ttest: 0.2133640\tbest: 0.2133631 (25973)\ttotal: 13m 6s\tremaining: 2m\n",
            "27000:\tlearn: 0.1703368\ttest: 0.2133153\tbest: 0.2133151 (26995)\ttotal: 13m 36s\tremaining: 1m 30s\n",
            "28000:\tlearn: 0.1688846\ttest: 0.2132668\tbest: 0.2132657 (27693)\ttotal: 14m 6s\tremaining: 1m\n",
            "29000:\tlearn: 0.1674645\ttest: 0.2132196\tbest: 0.2132194 (28999)\ttotal: 14m 37s\tremaining: 30.2s\n",
            "29999:\tlearn: 0.1660632\ttest: 0.2131849\tbest: 0.2131806 (29891)\ttotal: 15m 7s\tremaining: 0us\n",
            "bestTest = 0.2131805624\n",
            "bestIteration = 29891\n",
            "Shrink model to first 29892 iterations.\n",
            "Amex Metric = 0.7987427266909772 \n",
            "\n",
            "#########################\n",
            "### Fold 4\n",
            "### Train size 367131 Valid size 91782\n",
            "### Training with 100% fold data...\n",
            "#########################\n",
            "0:\tlearn: 0.6808053\ttest: 0.6808101\tbest: 0.6808101 (0)\ttotal: 39ms\tremaining: 19m 31s\n",
            "1000:\tlearn: 0.2231072\ttest: 0.2266735\tbest: 0.2266735 (1000)\ttotal: 35s\tremaining: 16m 53s\n",
            "2000:\tlearn: 0.2166807\ttest: 0.2225477\tbest: 0.2225477 (2000)\ttotal: 1m 8s\tremaining: 15m 58s\n",
            "3000:\tlearn: 0.2130075\ttest: 0.2210571\tbest: 0.2210571 (3000)\ttotal: 1m 40s\tremaining: 15m 8s\n",
            "4000:\tlearn: 0.2101081\ttest: 0.2202177\tbest: 0.2202177 (4000)\ttotal: 2m 13s\tremaining: 14m 24s\n",
            "5000:\tlearn: 0.2076594\ttest: 0.2196547\tbest: 0.2196544 (4999)\ttotal: 2m 44s\tremaining: 13m 43s\n",
            "6000:\tlearn: 0.2053761\ttest: 0.2192355\tbest: 0.2192355 (6000)\ttotal: 3m 16s\tremaining: 13m 5s\n",
            "7000:\tlearn: 0.2032254\ttest: 0.2188815\tbest: 0.2188812 (6994)\ttotal: 3m 47s\tremaining: 12m 28s\n",
            "8000:\tlearn: 0.2011729\ttest: 0.2185949\tbest: 0.2185949 (8000)\ttotal: 4m 19s\tremaining: 11m 53s\n",
            "9000:\tlearn: 0.1991724\ttest: 0.2183180\tbest: 0.2183180 (9000)\ttotal: 4m 50s\tremaining: 11m 18s\n",
            "10000:\tlearn: 0.1972059\ttest: 0.2180906\tbest: 0.2180888 (9997)\ttotal: 5m 22s\tremaining: 10m 45s\n",
            "11000:\tlearn: 0.1953380\ttest: 0.2178961\tbest: 0.2178939 (10983)\ttotal: 5m 54s\tremaining: 10m 11s\n",
            "12000:\tlearn: 0.1935232\ttest: 0.2177572\tbest: 0.2177572 (12000)\ttotal: 6m 25s\tremaining: 9m 38s\n",
            "13000:\tlearn: 0.1917494\ttest: 0.2176244\tbest: 0.2176244 (12982)\ttotal: 6m 56s\tremaining: 9m 5s\n",
            "14000:\tlearn: 0.1900241\ttest: 0.2175108\tbest: 0.2175107 (13998)\ttotal: 7m 28s\tremaining: 8m 32s\n",
            "15000:\tlearn: 0.1883368\ttest: 0.2174084\tbest: 0.2174077 (14966)\ttotal: 7m 59s\tremaining: 7m 59s\n",
            "16000:\tlearn: 0.1866440\ttest: 0.2173039\tbest: 0.2173036 (15999)\ttotal: 8m 31s\tremaining: 7m 27s\n",
            "17000:\tlearn: 0.1849761\ttest: 0.2172028\tbest: 0.2172028 (17000)\ttotal: 9m 2s\tremaining: 6m 55s\n",
            "18000:\tlearn: 0.1833631\ttest: 0.2171146\tbest: 0.2171141 (17998)\ttotal: 9m 34s\tremaining: 6m 22s\n",
            "19000:\tlearn: 0.1817391\ttest: 0.2170274\tbest: 0.2170271 (18999)\ttotal: 10m 6s\tremaining: 5m 50s\n",
            "20000:\tlearn: 0.1801308\ttest: 0.2169565\tbest: 0.2169555 (19998)\ttotal: 10m 37s\tremaining: 5m 18s\n",
            "21000:\tlearn: 0.1785485\ttest: 0.2169055\tbest: 0.2169055 (21000)\ttotal: 11m 9s\tremaining: 4m 46s\n",
            "22000:\tlearn: 0.1770211\ttest: 0.2168631\tbest: 0.2168583 (21824)\ttotal: 11m 41s\tremaining: 4m 14s\n",
            "23000:\tlearn: 0.1754739\ttest: 0.2168162\tbest: 0.2168146 (22996)\ttotal: 12m 12s\tremaining: 3m 42s\n",
            "24000:\tlearn: 0.1739734\ttest: 0.2167750\tbest: 0.2167735 (23928)\ttotal: 12m 44s\tremaining: 3m 11s\n",
            "25000:\tlearn: 0.1725334\ttest: 0.2167292\tbest: 0.2167272 (24991)\ttotal: 13m 15s\tremaining: 2m 39s\n",
            "26000:\tlearn: 0.1710584\ttest: 0.2166726\tbest: 0.2166726 (26000)\ttotal: 13m 47s\tremaining: 2m 7s\n",
            "27000:\tlearn: 0.1696082\ttest: 0.2166328\tbest: 0.2166318 (26995)\ttotal: 14m 19s\tremaining: 1m 35s\n",
            "bestTest = 0.2166244641\n",
            "bestIteration = 27060\n",
            "Shrink model to first 27061 iterations.\n",
            "Amex Metric = 0.7897393047634275 \n",
            "\n",
            "#########################\n",
            "### Fold 5\n",
            "### Train size 367131 Valid size 91782\n",
            "### Training with 100% fold data...\n",
            "#########################\n",
            "0:\tlearn: 0.6804357\ttest: 0.6805014\tbest: 0.6805014 (0)\ttotal: 37.7ms\tremaining: 18m 50s\n",
            "1000:\tlearn: 0.2227496\ttest: 0.2278091\tbest: 0.2278091 (1000)\ttotal: 33.6s\tremaining: 16m 13s\n",
            "2000:\tlearn: 0.2162903\ttest: 0.2237936\tbest: 0.2237936 (2000)\ttotal: 1m 5s\tremaining: 15m 17s\n",
            "3000:\tlearn: 0.2126756\ttest: 0.2223749\tbest: 0.2223749 (3000)\ttotal: 1m 36s\tremaining: 14m 29s\n",
            "4000:\tlearn: 0.2098089\ttest: 0.2215882\tbest: 0.2215882 (4000)\ttotal: 2m 7s\tremaining: 13m 47s\n",
            "5000:\tlearn: 0.2072892\ttest: 0.2210353\tbest: 0.2210353 (4999)\ttotal: 2m 37s\tremaining: 13m 8s\n",
            "6000:\tlearn: 0.2049832\ttest: 0.2205933\tbest: 0.2205933 (6000)\ttotal: 3m 7s\tremaining: 12m 31s\n",
            "7000:\tlearn: 0.2028643\ttest: 0.2202608\tbest: 0.2202608 (7000)\ttotal: 3m 38s\tremaining: 11m 56s\n",
            "8000:\tlearn: 0.2007825\ttest: 0.2199885\tbest: 0.2199885 (7999)\ttotal: 4m 8s\tremaining: 11m 22s\n",
            "9000:\tlearn: 0.1988275\ttest: 0.2197585\tbest: 0.2197585 (9000)\ttotal: 4m 38s\tremaining: 10m 48s\n",
            "10000:\tlearn: 0.1969060\ttest: 0.2195750\tbest: 0.2195750 (10000)\ttotal: 5m 8s\tremaining: 10m 16s\n",
            "11000:\tlearn: 0.1950563\ttest: 0.2193974\tbest: 0.2193974 (11000)\ttotal: 5m 38s\tremaining: 9m 44s\n",
            "12000:\tlearn: 0.1932266\ttest: 0.2192272\tbest: 0.2192270 (11998)\ttotal: 6m 8s\tremaining: 9m 12s\n",
            "13000:\tlearn: 0.1914517\ttest: 0.2190838\tbest: 0.2190836 (12999)\ttotal: 6m 38s\tremaining: 8m 40s\n",
            "14000:\tlearn: 0.1897053\ttest: 0.2189469\tbest: 0.2189459 (13987)\ttotal: 7m 7s\tremaining: 8m 9s\n",
            "15000:\tlearn: 0.1879761\ttest: 0.2188240\tbest: 0.2188240 (14950)\ttotal: 7m 38s\tremaining: 7m 38s\n",
            "16000:\tlearn: 0.1862517\ttest: 0.2187088\tbest: 0.2187072 (15975)\ttotal: 8m 8s\tremaining: 7m 7s\n",
            "17000:\tlearn: 0.1845806\ttest: 0.2186060\tbest: 0.2186056 (16964)\ttotal: 8m 38s\tremaining: 6m 36s\n",
            "18000:\tlearn: 0.1829605\ttest: 0.2185417\tbest: 0.2185417 (18000)\ttotal: 9m 8s\tremaining: 6m 5s\n",
            "19000:\tlearn: 0.1813401\ttest: 0.2184479\tbest: 0.2184479 (19000)\ttotal: 9m 39s\tremaining: 5m 35s\n",
            "20000:\tlearn: 0.1797391\ttest: 0.2183704\tbest: 0.2183680 (19974)\ttotal: 10m 8s\tremaining: 5m 4s\n",
            "21000:\tlearn: 0.1781471\ttest: 0.2182818\tbest: 0.2182818 (21000)\ttotal: 10m 39s\tremaining: 4m 34s\n",
            "22000:\tlearn: 0.1766105\ttest: 0.2182387\tbest: 0.2182380 (21996)\ttotal: 11m 9s\tremaining: 4m 3s\n",
            "23000:\tlearn: 0.1750730\ttest: 0.2181875\tbest: 0.2181865 (22997)\ttotal: 11m 40s\tremaining: 3m 33s\n",
            "24000:\tlearn: 0.1735678\ttest: 0.2181249\tbest: 0.2181231 (23993)\ttotal: 12m 10s\tremaining: 3m 2s\n",
            "25000:\tlearn: 0.1720429\ttest: 0.2180543\tbest: 0.2180535 (24994)\ttotal: 12m 41s\tremaining: 2m 32s\n",
            "26000:\tlearn: 0.1705561\ttest: 0.2180140\tbest: 0.2180097 (25974)\ttotal: 13m 11s\tremaining: 2m 1s\n",
            "27000:\tlearn: 0.1690868\ttest: 0.2179737\tbest: 0.2179733 (26998)\ttotal: 13m 41s\tremaining: 1m 31s\n",
            "28000:\tlearn: 0.1676267\ttest: 0.2179206\tbest: 0.2179177 (27937)\ttotal: 14m 12s\tremaining: 1m\n",
            "29000:\tlearn: 0.1661870\ttest: 0.2178843\tbest: 0.2178843 (29000)\ttotal: 14m 42s\tremaining: 30.4s\n",
            "29999:\tlearn: 0.1647916\ttest: 0.2178619\tbest: 0.2178540 (29608)\ttotal: 15m 12s\tremaining: 0us\n",
            "bestTest = 0.2178539825\n",
            "bestIteration = 29608\n",
            "Shrink model to first 29609 iterations.\n",
            "Amex Metric = 0.794677097600123 \n",
            "\n",
            "#########################\n",
            "Overall Amex metric: 0.7948185619397332\n"
          ]
        }
      ],
      "source": [
        "importances = []\n",
        "oof = []\n",
        "gc.collect()\n",
        "\n",
        "clf = CatBoostClassifier(**cat_params)\n",
        "skf = KFold(n_splits=FOLDS, shuffle=True, random_state=SEED)\n",
        "for fold,(train_idx, valid_idx) in enumerate(skf.split(train, train.target)):\n",
        "    print('#'*25)\n",
        "    print('### Fold',fold+1)\n",
        "    print('### Train size',len(train_idx),'Valid size',len(valid_idx))\n",
        "    print(f'### Training with 100% fold data...')\n",
        "    print('#'*25)\n",
        "    \n",
        "    # TRAIN, VALID, TEST FOR FOLD K\n",
        "    X_train = train.loc[train_idx, FEATURES]\n",
        "    X_valid = train.target.iloc[train_idx]\n",
        "    y_train = train.loc[valid_idx, FEATURES]\n",
        "    y_valid = train.target.iloc[valid_idx]\n",
        "    \n",
        "    # TRAIN MODEL FOLD K\n",
        "    model = clf.fit(X_train,\n",
        "                    X_valid,\n",
        "                    cat_features=cat_features_last,\n",
        "                    eval_set=[(y_train, y_valid)],\n",
        "                    use_best_model=True,\n",
        "                    early_stopping_rounds=500,\n",
        "                    verbose_eval=1000)\n",
        "    model.save_model(f'CAT_v{VER}_fold{fold}.cbm')\n",
        "    \n",
        "    # GET FEATURE IMPORTANCE FOR FOLD K\n",
        "    dd = model.feature_importances_\n",
        "    df = pd.DataFrame({'feature':FEATURES,f'importance_{fold}':dd})\n",
        "    importances.append(df)\n",
        "            \n",
        "    # INFER OOF FOLD K\n",
        "    oof_preds = model.predict_proba(y_train)[:, 1]\n",
        "    acc = amex_metric_np(y_valid.values, oof_preds)\n",
        "    print('Amex Metric =',acc,'\\n')\n",
        "\n",
        "    df = train.loc[valid_idx, ['customer_ID','target'] ].copy()\n",
        "    df['oof_preds'] = oof_preds\n",
        "    oof.append(df)\n",
        "    \n",
        "    del X_train, y_train, dd, df\n",
        "    del X_valid, y_valid, model\n",
        "    _ = gc.collect()\n",
        "    \n",
        "print('#'*25)\n",
        "oof = pd.concat(oof,axis=0,ignore_index=True).set_index('customer_ID')\n",
        "acc = amex_metric_np(oof.target.values, oof.oof_preds.values)\n",
        "print(f\"Overall Amex metric: {acc}\")"
      ]
    },
    {
      "cell_type": "code",
      "execution_count": 14,
      "id": "9382e3d0",
      "metadata": {
        "execution": {
          "iopub.execute_input": "2022-07-15T16:48:45.305370Z",
          "iopub.status.busy": "2022-07-15T16:48:45.304754Z",
          "iopub.status.idle": "2022-07-15T16:48:45.407975Z",
          "shell.execute_reply": "2022-07-15T16:48:45.407068Z"
        },
        "papermill": {
          "duration": 0.123941,
          "end_time": "2022-07-15T16:48:45.409679",
          "exception": false,
          "start_time": "2022-07-15T16:48:45.285738",
          "status": "completed"
        },
        "tags": [],
        "id": "9382e3d0"
      },
      "outputs": [],
      "source": [
        "# CLEAN RAM\n",
        "del train\n",
        "_ = gc.collect()"
      ]
    },
    {
      "cell_type": "code",
      "execution_count": 15,
      "id": "3610c1b3",
      "metadata": {
        "execution": {
          "iopub.execute_input": "2022-07-15T16:48:45.448225Z",
          "iopub.status.busy": "2022-07-15T16:48:45.447584Z",
          "iopub.status.idle": "2022-07-15T16:48:45.488638Z",
          "shell.execute_reply": "2022-07-15T16:48:45.487878Z"
        },
        "papermill": {
          "duration": 0.06166,
          "end_time": "2022-07-15T16:48:45.490338",
          "exception": false,
          "start_time": "2022-07-15T16:48:45.428678",
          "status": "completed"
        },
        "scrolled": true,
        "tags": [],
        "id": "3610c1b3"
      },
      "outputs": [],
      "source": [
        "df = importances[0].copy()\n",
        "for k in range(1,FOLDS): df = df.merge(importances[k], on='feature', how='left')\n",
        "df['importance'] = df.iloc[:,1:].mean(axis=1, numeric_only=True)\n",
        "df = df.sort_values('importance',ascending=False)\n",
        "df.to_csv(f'cat_feature_importance_v{VER}.csv',index=False)"
      ]
    },
    {
      "cell_type": "code",
      "execution_count": 16,
      "id": "69357676",
      "metadata": {
        "execution": {
          "iopub.execute_input": "2022-07-15T16:48:45.527853Z",
          "iopub.status.busy": "2022-07-15T16:48:45.527216Z",
          "iopub.status.idle": "2022-07-15T16:48:45.823812Z",
          "shell.execute_reply": "2022-07-15T16:48:45.823089Z"
        },
        "papermill": {
          "duration": 0.317159,
          "end_time": "2022-07-15T16:48:45.825544",
          "exception": false,
          "start_time": "2022-07-15T16:48:45.508385",
          "status": "completed"
        },
        "tags": [],
        "id": "69357676",
        "outputId": "c8f36125-a4a1-4955-ea1b-c59000adfdd5",
        "colab": {
          "base_uri": "https://localhost:8080/",
          "height": 607
        }
      },
      "outputs": [
        {
          "output_type": "display_data",
          "data": {
            "text/plain": [
              "<Figure size 720x720 with 1 Axes>"
            ],
            "image/png": "[encoded data removed]"
          },
          "metadata": {
            "needs_background": "light"
          }
        }
      ],
      "source": [
        "NUM_FEATURES = 20\n",
        "plt.figure(figsize=(10,5*NUM_FEATURES//10))\n",
        "plt.barh(np.arange(NUM_FEATURES,0,-1), df.importance.values[:NUM_FEATURES])\n",
        "plt.yticks(np.arange(NUM_FEATURES,0,-1), df.feature.values[:NUM_FEATURES])\n",
        "plt.title(f'CAT Feature Importance - Top {NUM_FEATURES}')\n",
        "plt.show()"
      ]
    },
    {
      "cell_type": "markdown",
      "id": "bf46dad6",
      "metadata": {
        "papermill": {
          "duration": 0.018388,
          "end_time": "2022-07-15T16:48:45.862462",
          "exception": false,
          "start_time": "2022-07-15T16:48:45.844074",
          "status": "completed"
        },
        "tags": [],
        "id": "bf46dad6"
      },
      "source": [
        "# Test part"
      ]
    },
    {
      "cell_type": "code",
      "execution_count": 17,
      "id": "c28f1826",
      "metadata": {
        "execution": {
          "iopub.execute_input": "2022-07-15T16:48:45.901178Z",
          "iopub.status.busy": "2022-07-15T16:48:45.900848Z",
          "iopub.status.idle": "2022-07-15T16:48:45.907526Z",
          "shell.execute_reply": "2022-07-15T16:48:45.906709Z"
        },
        "papermill": {
          "duration": 0.027751,
          "end_time": "2022-07-15T16:48:45.909278",
          "exception": false,
          "start_time": "2022-07-15T16:48:45.881527",
          "status": "completed"
        },
        "tags": [],
        "id": "c28f1826"
      },
      "outputs": [],
      "source": [
        "# CALCULATE SIZE OF EACH SEPARATE TEST PART\n",
        "def get_rows(customers, test, NUM_PARTS = 4, verbose = ''):\n",
        "    chunk = len(customers)//NUM_PARTS\n",
        "    if verbose != '':\n",
        "        print(f'We will process {verbose} data as {NUM_PARTS} separate parts.')\n",
        "        print(f'There will be {chunk} customers in each part (except the last part).')\n",
        "        print('Below are number of rows in each part:')\n",
        "    rows = []\n",
        "\n",
        "    for k in range(NUM_PARTS):\n",
        "        if k==NUM_PARTS-1: cc = customers[k*chunk:]\n",
        "        else: cc = customers[k*chunk:(k+1)*chunk]\n",
        "        s = test.loc[test.customer_ID.isin(cc)].shape[0]\n",
        "        rows.append(s)\n",
        "    if verbose != '': print( rows )\n",
        "    return rows,chunk"
      ]
    },
    {
      "cell_type": "code",
      "execution_count": 18,
      "id": "8c7e70c5",
      "metadata": {
        "execution": {
          "iopub.execute_input": "2022-07-15T16:48:45.947705Z",
          "iopub.status.busy": "2022-07-15T16:48:45.947377Z",
          "iopub.status.idle": "2022-07-15T16:48:47.039525Z",
          "shell.execute_reply": "2022-07-15T16:48:47.038640Z"
        },
        "papermill": {
          "duration": 1.113806,
          "end_time": "2022-07-15T16:48:47.041416",
          "exception": false,
          "start_time": "2022-07-15T16:48:45.927610",
          "status": "completed"
        },
        "tags": [],
        "id": "8c7e70c5",
        "outputId": "4d579cf4-cb10-48aa-9479-22446c044cd1",
        "colab": {
          "base_uri": "https://localhost:8080/"
        }
      },
      "outputs": [
        {
          "output_type": "stream",
          "name": "stdout",
          "text": [
            "We will process test data as 4 separate parts.\n",
            "There will be 231155 customers in each part (except the last part).\n",
            "Below are number of rows in each part:\n",
            "[231155, 231155, 231155, 231156]\n"
          ]
        }
      ],
      "source": [
        "# COMPUTE SIZE OF 4 PARTS FOR TEST DATA\n",
        "NUM_PARTS = 4\n",
        "\n",
        "customers = test[['customer_ID']].drop_duplicates().sort_index().values.flatten()\n",
        "rows,num_cust = get_rows(customers, test[['customer_ID']], NUM_PARTS = NUM_PARTS, verbose = 'test')"
      ]
    },
    {
      "cell_type": "code",
      "execution_count": 19,
      "id": "9cf53fd3",
      "metadata": {
        "execution": {
          "iopub.execute_input": "2022-07-15T16:48:47.081924Z",
          "iopub.status.busy": "2022-07-15T16:48:47.081615Z",
          "iopub.status.idle": "2022-07-15T16:50:55.407348Z",
          "shell.execute_reply": "2022-07-15T16:50:55.406352Z"
        },
        "papermill": {
          "duration": 128.349422,
          "end_time": "2022-07-15T16:50:55.410249",
          "exception": false,
          "start_time": "2022-07-15T16:48:47.060827",
          "status": "completed"
        },
        "tags": [],
        "id": "9cf53fd3",
        "outputId": "f7bf6d2f-2b00-43a2-a963-f39486221b32",
        "colab": {
          "base_uri": "https://localhost:8080/"
        }
      },
      "outputs": [
        {
          "output_type": "stream",
          "name": "stdout",
          "text": [
            "\n",
            "Reading test data...\n",
            "=> Test part 1 has shape (231155, 1815)\n",
            "\n",
            "Reading test data...\n",
            "=> Test part 2 has shape (231155, 1815)\n",
            "\n",
            "Reading test data...\n",
            "=> Test part 3 has shape (231155, 1815)\n",
            "\n",
            "Reading test data...\n",
            "=> Test part 4 has shape (231156, 1815)\n"
          ]
        }
      ],
      "source": [
        "# INFER TEST DATA IN PARTS\n",
        "skip_rows = 0\n",
        "skip_cust = 0\n",
        "test_preds = []\n",
        "\n",
        "for k in range(NUM_PARTS):\n",
        "    # READ PART OF TEST DATA\n",
        "    print(f'\\nReading test data...')\n",
        "    test_copy = test.iloc[skip_rows:skip_rows+rows[k]].copy()\n",
        "    test_copy = test_copy.set_index('customer_ID')\n",
        "    skip_rows += rows[k]\n",
        "    print(f'=> Test part {k+1} has shape', test_copy.shape )\n",
        "    \n",
        "    # PROCESS AND FEATURE ENGINEER PART OF TEST DATA\n",
        "    if k==NUM_PARTS-1: test_copy = test_copy.loc[customers[skip_cust:]]\n",
        "    else: test_copy = test_copy.loc[customers[skip_cust:skip_cust+num_cust]]\n",
        "    skip_cust += num_cust\n",
        "        \n",
        "    # INFER XGB MODELS ON TEST DATA\n",
        "    model = CatBoostClassifier(**cat_params)\n",
        "    model.load_model(f'CAT_v{VER}_fold0.cbm')\n",
        "    preds = model.predict_proba(test_copy)[:, 1]\n",
        "    for f in range(1,FOLDS):\n",
        "        model.load_model(f'CAT_v{VER}_fold{f}.cbm')\n",
        "        preds += model.predict_proba(test_copy)[:, 1]\n",
        "    preds /= FOLDS\n",
        "    test_preds.append(preds)\n",
        "\n",
        "    # CLEAN MEMORY\n",
        "    del test_copy, model\n",
        "    _ = gc.collect()\n",
        "\n",
        "del test\n",
        "_ = gc.collect()"
      ]
    },
    {
      "cell_type": "markdown",
      "id": "02259545",
      "metadata": {
        "papermill": {
          "duration": 0.067515,
          "end_time": "2022-07-15T16:50:55.538577",
          "exception": false,
          "start_time": "2022-07-15T16:50:55.471062",
          "status": "completed"
        },
        "tags": [],
        "id": "02259545"
      },
      "source": [
        "# Submit"
      ]
    },
    {
      "cell_type": "code",
      "execution_count": 20,
      "id": "00d908fd",
      "metadata": {
        "execution": {
          "iopub.execute_input": "2022-07-15T16:50:55.628196Z",
          "iopub.status.busy": "2022-07-15T16:50:55.627855Z",
          "iopub.status.idle": "2022-07-15T16:51:02.864876Z",
          "shell.execute_reply": "2022-07-15T16:51:02.864114Z"
        },
        "papermill": {
          "duration": 7.268354,
          "end_time": "2022-07-15T16:51:02.866646",
          "exception": false,
          "start_time": "2022-07-15T16:50:55.598292",
          "status": "completed"
        },
        "tags": [],
        "id": "00d908fd",
        "outputId": "333aa77f-2ddf-4d95-8246-8238a23b8cf5",
        "colab": {
          "base_uri": "https://localhost:8080/",
          "height": 224
        }
      },
      "outputs": [
        {
          "output_type": "stream",
          "name": "stdout",
          "text": [
            "Submission file shape is (924621, 2)\n"
          ]
        },
        {
          "output_type": "execute_result",
          "data": {
            "text/plain": [
              "                                         customer_ID  prediction\n",
              "0  00000469ba478561f23a92a868bd366de6f6527a684c9a...    0.017628\n",
              "1  00001bf2e77ff879fab36aa4fac689b9ba411dae63ae39...    0.001304\n",
              "2  0000210045da4f81e5f122c6bde5c2a617d03eef67f82c...    0.049810\n",
              "3  00003b41e58ede33b8daf61ab56d9952f17c9ad1c3976c...    0.198331\n",
              "4  00004b22eaeeeb0ec976890c1d9bfc14fd9427e98c4ee9...    0.856203"
            ],
            "text/html": [
              "\n",
              "  <div id=\"df-f1cd80c3-cb47-47cb-8e17-a5727962a987\">\n",
              "    <div class=\"colab-df-container\">\n",
              "      <div>\n",
              "<style scoped>\n",
              "    .dataframe tbody tr th:only-of-type {\n",
              "        vertical-align: middle;\n",
              "    }\n",
              "\n",
              "    .dataframe tbody tr th {\n",
              "        vertical-align: top;\n",
              "    }\n",
              "\n",
              "    .dataframe thead th {\n",
              "        text-align: right;\n",
              "    }\n",
              "</style>\n",
              "<table border=\"1\" class=\"dataframe\">\n",
              "  <thead>\n",
              "    <tr style=\"text-align: right;\">\n",
              "      <th></th>\n",
              "      <th>customer_ID</th>\n",
              "      <th>prediction</th>\n",
              "    </tr>\n",
              "  </thead>\n",
              "  <tbody>\n",
              "    <tr>\n",
              "      <th>0</th>\n",
              "      <td>00000469ba478561f23a92a868bd366de6f6527a684c9a...</td>\n",
              "      <td>0.017628</td>\n",
              "    </tr>\n",
              "    <tr>\n",
              "      <th>1</th>\n",
              "      <td>00001bf2e77ff879fab36aa4fac689b9ba411dae63ae39...</td>\n",
              "      <td>0.001304</td>\n",
              "    </tr>\n",
              "    <tr>\n",
              "      <th>2</th>\n",
              "      <td>0000210045da4f81e5f122c6bde5c2a617d03eef67f82c...</td>\n",
              "      <td>0.049810</td>\n",
              "    </tr>\n",
              "    <tr>\n",
              "      <th>3</th>\n",
              "      <td>00003b41e58ede33b8daf61ab56d9952f17c9ad1c3976c...</td>\n",
              "      <td>0.198331</td>\n",
              "    </tr>\n",
              "    <tr>\n",
              "      <th>4</th>\n",
              "      <td>00004b22eaeeeb0ec976890c1d9bfc14fd9427e98c4ee9...</td>\n",
              "      <td>0.856203</td>\n",
              "    </tr>\n",
              "  </tbody>\n",
              "</table>\n",
              "</div>\n",
              "      <button class=\"colab-df-convert\" onclick=\"convertToInteractive('df-f1cd80c3-cb47-47cb-8e17-a5727962a987')\"\n",
              "              title=\"Convert this dataframe to an interactive table.\"\n",
              "              style=\"display:none;\">\n",
              "        \n",
              "  <svg xmlns=\"http://www.w3.org/2000/svg\" height=\"24px\"viewBox=\"0 0 24 24\"\n",
              "       width=\"24px\">\n",
              "    <path d=\"M0 0h24v24H0V0z\" fill=\"none\"/>\n",
              "    <path d=\"M18.56 5.44l.94 2.06.94-2.06 2.06-.94-2.06-.94-.94-2.06-.94 2.06-2.06.94zm-11 1L8.5 8.5l.94-2.06 2.06-.94-2.06-.94L8.5 2.5l-.94 2.06-2.06.94zm10 10l.94 2.06.94-2.06 2.06-.94-2.06-.94-.94-2.06-.94 2.06-2.06.94z\"/><path d=\"M17.41 7.96l-1.37-1.37c-.4-.4-.92-.59-1.43-.59-.52 0-1.04.2-1.43.59L10.3 9.45l-7.72 7.72c-.78.78-.78 2.05 0 2.83L4 21.41c.39.39.9.59 1.41.59.51 0 1.02-.2 1.41-.59l7.78-7.78 2.81-2.81c.8-.78.8-2.07 0-2.86zM5.41 20L4 18.59l7.72-7.72 1.47 1.35L5.41 20z\"/>\n",
              "  </svg>\n",
              "      </button>\n",
              "      \n",
              "  <style>\n",
              "    .colab-df-container {\n",
              "      display:flex;\n",
              "      flex-wrap:wrap;\n",
              "      gap: 12px;\n",
              "    }\n",
              "\n",
              "    .colab-df-convert {\n",
              "      background-color: #E8F0FE;\n",
              "      border: none;\n",
              "      border-radius: 50%;\n",
              "      cursor: pointer;\n",
              "      display: none;\n",
              "      fill: #1967D2;\n",
              "      height: 32px;\n",
              "      padding: 0 0 0 0;\n",
              "      width: 32px;\n",
              "    }\n",
              "\n",
              "    .colab-df-convert:hover {\n",
              "      background-color: #E2EBFA;\n",
              "      box-shadow: 0px 1px 2px rgba(60, 64, 67, 0.3), 0px 1px 3px 1px rgba(60, 64, 67, 0.15);\n",
              "      fill: #174EA6;\n",
              "    }\n",
              "\n",
              "    [theme=dark] .colab-df-convert {\n",
              "      background-color: #3B4455;\n",
              "      fill: #D2E3FC;\n",
              "    }\n",
              "\n",
              "    [theme=dark] .colab-df-convert:hover {\n",
              "      background-color: #434B5C;\n",
              "      box-shadow: 0px 1px 3px 1px rgba(0, 0, 0, 0.15);\n",
              "      filter: drop-shadow(0px 1px 2px rgba(0, 0, 0, 0.3));\n",
              "      fill: #FFFFFF;\n",
              "    }\n",
              "  </style>\n",
              "\n",
              "      <script>\n",
              "        const buttonEl =\n",
              "          document.querySelector('#df-f1cd80c3-cb47-47cb-8e17-a5727962a987 button.colab-df-convert');\n",
              "        buttonEl.style.display =\n",
              "          google.colab.kernel.accessAllowed ? 'block' : 'none';\n",
              "\n",
              "        async function convertToInteractive(key) {\n",
              "          const element = document.querySelector('#df-f1cd80c3-cb47-47cb-8e17-a5727962a987');\n",
              "          const dataTable =\n",
              "            await google.colab.kernel.invokeFunction('convertToInteractive',\n",
              "                                                     [key], {});\n",
              "          if (!dataTable) return;\n",
              "\n",
              "          const docLinkHtml = 'Like what you see? Visit the ' +\n",
              "            '<a target=\"_blank\" href=https://colab.research.google.com/notebooks/data_table.ipynb>data table notebook</a>'\n",
              "            + ' to learn more about interactive tables.';\n",
              "          element.innerHTML = '';\n",
              "          dataTable['output_type'] = 'display_data';\n",
              "          await google.colab.output.renderOutput(dataTable, element);\n",
              "          const docLink = document.createElement('div');\n",
              "          docLink.innerHTML = docLinkHtml;\n",
              "          element.appendChild(docLink);\n",
              "        }\n",
              "      </script>\n",
              "    </div>\n",
              "  </div>\n",
              "  "
            ]
          },
          "metadata": {},
          "execution_count": 20
        }
      ],
      "source": [
        "# WRITE SUBMISSION FILE\n",
        "test = pd.DataFrame(index=customers,data={'prediction': np.concatenate(test_preds)})\n",
        "sub = pd.read_csv('/content/sample_submission.csv')[['customer_ID']]\n",
        "sub['customer_ID_hash'] = sub['customer_ID'].copy()\n",
        "sub = sub.set_index('customer_ID_hash')\n",
        "sub = sub.merge(test[['prediction']], left_index=True, right_index=True, how='left')\n",
        "sub = sub.reset_index(drop=True)\n",
        "\n",
        "# DISPLAY PREDICTIONS\n",
        "sub.to_csv(f'submission_cat_v{VER}_seed{SEED}_fold{FOLDS}.csv',index=False)\n",
        "print('Submission file shape is', sub.shape )\n",
        "sub.head()"
      ]
    },
    {
      "cell_type": "code",
      "execution_count": 21,
      "id": "533e5941",
      "metadata": {
        "execution": {
          "iopub.execute_input": "2022-07-15T16:51:02.918871Z",
          "iopub.status.busy": "2022-07-15T16:51:02.918494Z",
          "iopub.status.idle": "2022-07-15T16:51:03.267833Z",
          "shell.execute_reply": "2022-07-15T16:51:03.266949Z"
        },
        "papermill": {
          "duration": 0.374502,
          "end_time": "2022-07-15T16:51:03.269960",
          "exception": false,
          "start_time": "2022-07-15T16:51:02.895458",
          "status": "completed"
        },
        "tags": [],
        "id": "533e5941",
        "outputId": "3ca7f502-2f39-4b08-a448-f1403e0f4628",
        "colab": {
          "base_uri": "https://localhost:8080/",
          "height": 281
        }
      },
      "outputs": [
        {
          "output_type": "display_data",
          "data": {
            "text/plain": [
              "<Figure size 432x288 with 1 Axes>"
            ],
            "image/png": "[encoded data removed]"
          },
          "metadata": {
            "needs_background": "light"
          }
        }
      ],
      "source": [
        "# PLOT PREDICTIONS\n",
        "plt.hist(sub.prediction, bins=100)\n",
        "plt.title('Test Predictions')\n",
        "plt.show()"
      ]
    },
    {
      "cell_type": "markdown",
      "id": "802623f7",
      "metadata": {
        "papermill": {
          "duration": 0.042841,
          "end_time": "2022-07-15T16:51:28.477165",
          "exception": false,
          "start_time": "2022-07-15T16:51:28.434324",
          "status": "completed"
        },
        "tags": [],
        "id": "802623f7"
      },
      "source": [
        "# Submit to Kaggle from Colab"
      ]
    },
    {
      "cell_type": "code",
      "execution_count": 24,
      "id": "efc54970",
      "metadata": {
        "execution": {
          "iopub.execute_input": "2022-07-15T16:51:28.552420Z",
          "iopub.status.busy": "2022-07-15T16:51:28.551829Z",
          "iopub.status.idle": "2022-07-15T16:51:28.557906Z",
          "shell.execute_reply": "2022-07-15T16:51:28.557166Z"
        },
        "papermill": {
          "duration": 0.048007,
          "end_time": "2022-07-15T16:51:28.561880",
          "exception": false,
          "start_time": "2022-07-15T16:51:28.513873",
          "status": "completed"
        },
        "tags": [],
        "id": "efc54970",
        "outputId": "745ac725-28b9-4563-acf8-ab6352ec5445",
        "colab": {
          "base_uri": "https://localhost:8080/"
        }
      },
      "outputs": [
        {
          "output_type": "stream",
          "name": "stdout",
          "text": [
            "100% 75.3M/75.3M [00:04<00:00, 16.5MB/s]\n",
            "Successfully submitted to American Express - Default Prediction"
          ]
        }
      ],
      "source": [
        "# Submit\n",
        "!kaggle competitions submit -c amex-default-prediction -f submission_cat_v1_seed42_fold5.csv -m \"From colab seed 42 fold 5 lag plus\""
      ]
    },
    {
      "cell_type": "code",
      "execution_count": 25,
      "id": "aad5cc1a",
      "metadata": {
        "execution": {
          "iopub.execute_input": "2022-07-15T16:51:28.636400Z",
          "iopub.status.busy": "2022-07-15T16:51:28.635706Z",
          "iopub.status.idle": "2022-07-15T16:51:28.643060Z",
          "shell.execute_reply": "2022-07-15T16:51:28.640501Z"
        },
        "papermill": {
          "duration": 0.04911,
          "end_time": "2022-07-15T16:51:28.647823",
          "exception": false,
          "start_time": "2022-07-15T16:51:28.598713",
          "status": "completed"
        },
        "tags": [],
        "id": "aad5cc1a",
        "outputId": "029b7883-bc62-47ec-f01f-df891c33db6e",
        "colab": {
          "base_uri": "https://localhost:8080/"
        }
      },
      "outputs": [
        {
          "output_type": "stream",
          "name": "stdout",
          "text": [
            "fileName                            date                 description                                               status    publicScore  privateScore  \n",
            "----------------------------------  -------------------  --------------------------------------------------------  --------  -----------  ------------  \n",
            "submission_cat_v1_seed42_fold5.csv  2022-07-23 09:53:21  From colab seed 42 fold 5 lag plus                        complete  0.796                      \n",
            "Amex Default Prediction - Ensemble  2022-07-22 12:32:58  Notebook Amex Default Prediction - Ensemble | Version 12  complete  0.798                      \n",
            "Amex Default Prediction - Ensemble  2022-07-22 12:30:01  Notebook Amex Default Prediction - Ensemble | Version 11  complete  0.798                      \n",
            "submission_xgb_v1_seed42_fold2.csv  2022-07-22 12:19:29  From colab seed 42 fold 5 lag plus                        complete  0.794                      \n",
            "Amex Default Prediction - Ensemble  2022-07-21 12:48:16  Notebook Amex Default Prediction - Ensemble | Version 9   complete  0.798                      \n",
            "submission_xgb_v1_seed42_fold5.csv  2022-07-21 12:36:23  From colab seed 42 fold 5 lag plus                        complete  0.794                      \n",
            "Amex Default Prediction - Ensemble  2022-07-20 17:29:34  Notebook Amex Default Prediction - Ensemble | Version 8   complete  0.798                      \n",
            "Amex Default Prediction - Ensemble  2022-07-20 17:13:37  Notebook Amex Default Prediction - Ensemble | Version 7   complete  0.798                      \n",
            "Amex Default Prediction - Ensemble  2022-07-20 17:10:16  Notebook Amex Default Prediction - Ensemble | Version 6   complete  0.798                      \n",
            "Amex Default Prediction - Ensemble  2022-07-20 17:08:15  Notebook Amex Default Prediction - Ensemble | Version 5   complete  0.798                      \n",
            "submission_xgb_v1_seed42_fold5.csv  2022-07-20 16:58:31  From colab seed 42 fold 5 lag plus                        complete  0.794                      \n",
            "submission_cat_v1_seed42_fold5.csv  2022-07-19 17:31:52  From colab seed 42 fold 5 lag plus                        complete  0.795                      \n",
            "Amex Default Prediction - Ensemble  2022-07-19 16:37:40  Notebook Amex Default Prediction - Ensemble | Version 4   complete  0.798                      \n",
            "Amex Default Prediction - Ensemble  2022-07-19 16:34:17  Notebook Amex Default Prediction - Ensemble | Version 2   complete  0.798                      \n",
            "submission_cat_v1_seed42_fold5.csv  2022-07-19 12:11:59  From colab seed 42 fold 5 lag plus                        complete  0.795                      \n",
            "Amex Default Prediction with Cat    2022-07-18 23:01:33  Notebook Amex Default Prediction with Cat | Version 129   complete  0.798                      \n",
            "Amex Default Prediction with Cat    2022-07-18 22:58:51  Notebook Amex Default Prediction with Cat | Version 128   complete  0.798                      \n",
            "submission_cat_v1_seed42_fold5.csv  2022-07-18 22:27:50  From colab seed 42 fold 5 lag plus                        complete  0.795                      \n",
            "submission_lgb_v1_seed42_fold5.csv  2022-07-18 20:37:22  the first version. fe lag plus seed 52 fold 5 From colab  complete  0.797                      \n",
            "submission_cat_v1.csv               2022-07-18 06:30:57  From colab seed 42 fold 5 lag plus                        complete  0.795                      \n",
            "Amex Default Prediction with Cat    2022-07-16 16:14:20  Notebook Amex Default Prediction with Cat | Version 125   complete  0.794                      \n",
            "Amex Default Prediction with Cat    2022-07-15 16:33:32  Notebook Amex Default Prediction with Cat | Version 127   complete  0.798                      \n",
            "Amex Default Prediction with Cat    2022-07-15 16:24:25  Notebook Amex Default Prediction with Cat | Version 126   complete  0.798                      \n",
            "submission_cat_v123_seed52_794.csv  2022-07-15 16:12:09                                                            complete  0.795                      \n",
            "submission_cat_v123_0794.csv        2022-07-15 15:47:08                                                            complete  0.795                      \n",
            "Amex Default Prediction with Cat    2022-07-15 13:53:07  Notebook Amex Default Prediction with Cat | Version 123   complete  0.798                      \n",
            "Amex Default Prediction with Cat    2022-07-12 10:17:49  Notebook Amex Default Prediction with Cat | Version 122   complete  0.794                      \n",
            "Amex Default Prediction with Cat    2022-07-11 16:41:48  Notebook Amex Default Prediction with Cat | Version 119   complete  0.794                      \n",
            "Amex Default Prediction with Cat    2022-07-11 13:00:10  Notebook Amex Default Prediction with Cat | Version 116   complete  0.794                      \n",
            "Amex Default Prediction with Cat    2022-07-10 12:29:19  Notebook Amex Default Prediction with Cat | Version 115   complete  0.798                      \n",
            "Amex Default Prediction with Cat    2022-07-10 12:26:36  Notebook Amex Default Prediction with Cat | Version 114   complete  0.797                      \n",
            "Amex Default Prediction with Cat    2022-07-10 07:38:14  Notebook Amex Default Prediction with Cat | Version 109   complete  0.798                      \n",
            "Amex Default Prediction with Cat    2022-07-10 07:34:41  Notebook Amex Default Prediction with Cat | Version 108   complete  0.798                      \n",
            "Amex Default Prediction with Cat    2022-07-10 07:31:41  Notebook Amex Default Prediction with Cat | Version 107   complete  0.798                      \n",
            "Amex Default Prediction with Cat    2022-07-07 16:06:53  Notebook Amex Default Prediction with Cat | Version 106   complete  0.798                      \n",
            "Amex Default Prediction with Cat    2022-07-07 16:01:41  Notebook Amex Default Prediction with Cat | Version 105   complete  0.797                      \n",
            "Amex Default Prediction with Cat    2022-07-07 15:55:53  Notebook Amex Default Prediction with Cat | Version 104   complete  0.798                      \n",
            "Amex Default Prediction with Cat    2022-07-07 15:52:16  Notebook Amex Default Prediction with Cat | Version 103   complete  0.797                      \n",
            "Amex Default Prediction with Cat    2022-07-05 15:48:47  Notebook Amex Default Prediction with Cat | Version 102   complete  0.797                      \n",
            "Amex Default Prediction with Cat    2022-07-05 15:46:36  Notebook Amex Default Prediction with Cat | Version 101   complete  0.797                      \n",
            "Amex Default Prediction with Cat    2022-07-05 15:37:48  Notebook Amex Default Prediction with Cat | Version 100   complete  0.797                      \n",
            "Amex Default Prediction with Cat    2022-07-05 15:33:29  Notebook Amex Default Prediction with Cat | Version 99    complete  0.797                      \n",
            "Amex Default Prediction with Cat    2022-07-05 15:29:38  Notebook Amex Default Prediction with Cat | Version 98    complete  0.797                      \n",
            "Amex Default Prediction with Cat    2022-07-04 16:21:46  Notebook Amex Default Prediction with Cat | Version 97    complete  0.797                      \n",
            "Amex Default Prediction with Cat    2022-07-04 16:09:39  Notebook Amex Default Prediction with Cat | Version 95    complete  0.797                      \n",
            "Amex Default Prediction with Cat    2022-07-04 14:45:39  Notebook Amex Default Prediction with Cat | Version 93    complete  0.797                      \n",
            "Amex Default Prediction - XGBoost   2022-07-04 14:01:00  Notebook Amex Default Prediction - XGBoost | Version 25   complete  0.793                      \n",
            "Amex Default Prediction - XGBoost   2022-07-04 13:34:15  Notebook Amex Default Prediction - XGBoost | Version 24   complete  0.794                      \n",
            "Amex Default Prediction with Cat    2022-07-03 11:56:30  Notebook Amex Default Prediction with Cat | Version 86    complete  0.797                      \n",
            "Amex Default Prediction with Cat    2022-07-03 11:17:11  Notebook Amex Default Prediction with Cat | Version 85    complete  0.797                      \n"
          ]
        }
      ],
      "source": [
        "# Run after few seconds\n",
        "!kaggle competitions submissions amex-default-prediction"
      ]
    }
  ],
  "metadata": {
    "kernelspec": {
      "display_name": "Python 3",
      "language": "python",
      "name": "python3"
    },
    "language_info": {
      "codemirror_mode": {
        "name": "ipython",
        "version": 3
      },
      "file_extension": ".py",
      "mimetype": "text/x-python",
      "name": "python",
      "nbconvert_exporter": "python",
      "pygments_lexer": "ipython3",
      "version": "3.7.12"
    },
    "papermill": {
      "default_parameters": {},
      "duration": 2291.105208,
      "end_time": "2022-07-15T16:51:29.695242",
      "environment_variables": {},
      "exception": null,
      "input_path": "__notebook__.ipynb",
      "output_path": "__notebook__.ipynb",
      "parameters": {},
      "start_time": "2022-07-15T16:13:18.590034",
      "version": "2.3.4"
    },
    "colab": {
      "name": "amex-default-prediction-with-cat.ipynb",
      "provenance": [],
      "machine_shape": "hm"
    },
    "accelerator": "GPU",
    "gpuClass": "standard"
  },
  "nbformat": 4,
  "nbformat_minor": 5
}
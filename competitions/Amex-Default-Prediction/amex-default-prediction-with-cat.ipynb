{
  "cells": [
    {
      "cell_type": "markdown",
      "id": "ec8911a0",
      "metadata": {
        "papermill": {
          "duration": 0.009252,
          "end_time": "2022-07-15T16:13:27.338460",
          "exception": false,
          "start_time": "2022-07-15T16:13:27.329208",
          "status": "completed"
        },
        "tags": [],
        "id": "ec8911a0"
      },
      "source": [
        "# Prepare for colab"
      ]
    },
    {
      "cell_type": "code",
      "execution_count": 1,
      "id": "bad112fb",
      "metadata": {
        "execution": {
          "iopub.execute_input": "2022-07-15T16:13:27.400098Z",
          "iopub.status.busy": "2022-07-15T16:13:27.399391Z",
          "iopub.status.idle": "2022-07-15T16:13:27.403356Z",
          "shell.execute_reply": "2022-07-15T16:13:27.402606Z"
        },
        "papermill": {
          "duration": 0.015568,
          "end_time": "2022-07-15T16:13:27.405067",
          "exception": false,
          "start_time": "2022-07-15T16:13:27.389499",
          "status": "completed"
        },
        "tags": [],
        "id": "bad112fb",
        "outputId": "c8260132-c2c1-40d3-fb8d-752e3da1b974",
        "colab": {
          "base_uri": "https://localhost:8080/"
        }
      },
      "outputs": [
        {
          "output_type": "stream",
          "name": "stdout",
          "text": [
            "Looking in indexes: https://pypi.org/simple, https://us-python.pkg.dev/colab-wheels/public/simple/\n",
            "Collecting catboost\n",
            "  Downloading catboost-1.0.6-cp37-none-manylinux1_x86_64.whl (76.6 MB)\n",
            "\u001b[K     |████████████████████████████████| 76.6 MB 163 kB/s \n",
            "\u001b[?25hRequirement already satisfied: pandas>=0.24.0 in /usr/local/lib/python3.7/dist-packages (from catboost) (1.3.5)\n",
            "Requirement already satisfied: graphviz in /usr/local/lib/python3.7/dist-packages (from catboost) (0.10.1)\n",
            "Requirement already satisfied: matplotlib in /usr/local/lib/python3.7/dist-packages (from catboost) (3.2.2)\n",
            "Requirement already satisfied: numpy>=1.16.0 in /usr/local/lib/python3.7/dist-packages (from catboost) (1.21.6)\n",
            "Requirement already satisfied: scipy in /usr/local/lib/python3.7/dist-packages (from catboost) (1.7.3)\n",
            "Requirement already satisfied: six in /usr/local/lib/python3.7/dist-packages (from catboost) (1.15.0)\n",
            "Requirement already satisfied: plotly in /usr/local/lib/python3.7/dist-packages (from catboost) (5.5.0)\n",
            "Requirement already satisfied: python-dateutil>=2.7.3 in /usr/local/lib/python3.7/dist-packages (from pandas>=0.24.0->catboost) (2.8.2)\n",
            "Requirement already satisfied: pytz>=2017.3 in /usr/local/lib/python3.7/dist-packages (from pandas>=0.24.0->catboost) (2022.1)\n",
            "Requirement already satisfied: pyparsing!=2.0.4,!=2.1.2,!=2.1.6,>=2.0.1 in /usr/local/lib/python3.7/dist-packages (from matplotlib->catboost) (3.0.9)\n",
            "Requirement already satisfied: cycler>=0.10 in /usr/local/lib/python3.7/dist-packages (from matplotlib->catboost) (0.11.0)\n",
            "Requirement already satisfied: kiwisolver>=1.0.1 in /usr/local/lib/python3.7/dist-packages (from matplotlib->catboost) (1.4.4)\n",
            "Requirement already satisfied: typing-extensions in /usr/local/lib/python3.7/dist-packages (from kiwisolver>=1.0.1->matplotlib->catboost) (4.1.1)\n",
            "Requirement already satisfied: tenacity>=6.2.0 in /usr/local/lib/python3.7/dist-packages (from plotly->catboost) (8.0.1)\n",
            "Installing collected packages: catboost\n",
            "Successfully installed catboost-1.0.6\n",
            "Looking in indexes: https://pypi.org/simple, https://us-python.pkg.dev/colab-wheels/public/simple/\n",
            "Requirement already satisfied: kaggle in /usr/local/lib/python3.7/dist-packages (1.5.12)\n",
            "Requirement already satisfied: requests in /usr/local/lib/python3.7/dist-packages (from kaggle) (2.23.0)\n",
            "Requirement already satisfied: python-slugify in /usr/local/lib/python3.7/dist-packages (from kaggle) (6.1.2)\n",
            "Requirement already satisfied: python-dateutil in /usr/local/lib/python3.7/dist-packages (from kaggle) (2.8.2)\n",
            "Requirement already satisfied: tqdm in /usr/local/lib/python3.7/dist-packages (from kaggle) (4.64.0)\n",
            "Requirement already satisfied: certifi in /usr/local/lib/python3.7/dist-packages (from kaggle) (2022.6.15)\n",
            "Requirement already satisfied: six>=1.10 in /usr/local/lib/python3.7/dist-packages (from kaggle) (1.15.0)\n",
            "Requirement already satisfied: urllib3 in /usr/local/lib/python3.7/dist-packages (from kaggle) (1.24.3)\n",
            "Requirement already satisfied: text-unidecode>=1.3 in /usr/local/lib/python3.7/dist-packages (from python-slugify->kaggle) (1.3)\n",
            "Requirement already satisfied: chardet<4,>=3.0.2 in /usr/local/lib/python3.7/dist-packages (from requests->kaggle) (3.0.4)\n",
            "Requirement already satisfied: idna<3,>=2.5 in /usr/local/lib/python3.7/dist-packages (from requests->kaggle) (2.10)\n"
          ]
        }
      ],
      "source": [
        "!pip install catboost\n",
        "!pip install kaggle"
      ]
    },
    {
      "cell_type": "markdown",
      "id": "3fa90515",
      "metadata": {
        "papermill": {
          "duration": 0.008806,
          "end_time": "2022-07-15T16:13:27.422550",
          "exception": false,
          "start_time": "2022-07-15T16:13:27.413744",
          "status": "completed"
        },
        "tags": [],
        "id": "3fa90515"
      },
      "source": [
        "## Upload API Token"
      ]
    },
    {
      "cell_type": "code",
      "execution_count": 2,
      "id": "54e44e29",
      "metadata": {
        "execution": {
          "iopub.execute_input": "2022-07-15T16:13:27.442237Z",
          "iopub.status.busy": "2022-07-15T16:13:27.441555Z",
          "iopub.status.idle": "2022-07-15T16:13:27.448196Z",
          "shell.execute_reply": "2022-07-15T16:13:27.447549Z"
        },
        "papermill": {
          "duration": 0.01814,
          "end_time": "2022-07-15T16:13:27.449796",
          "exception": false,
          "start_time": "2022-07-15T16:13:27.431656",
          "status": "completed"
        },
        "tags": [],
        "id": "54e44e29",
        "outputId": "602245c4-16b7-45df-e167-e5085cfa1ff2",
        "colab": {
          "base_uri": "https://localhost:8080/"
        }
      },
      "outputs": [
        {
          "output_type": "stream",
          "name": "stdout",
          "text": [
            "Mounted at /content/drive\n"
          ]
        }
      ],
      "source": [
        "from google.colab import drive\n",
        "drive.mount('/content/drive')\n",
        "\n",
        "# Then move kaggle.json into the folder where the API expects to find it.\n",
        "!mkdir -p ~/.kaggle/ && cp /content/drive/MyDrive/backups/kaggle.json ~/.kaggle/ && chmod 600 ~/.kaggle/kaggle.json"
      ]
    },
    {
      "cell_type": "markdown",
      "id": "1abbc588",
      "metadata": {
        "papermill": {
          "duration": 0.008512,
          "end_time": "2022-07-15T16:13:27.467327",
          "exception": false,
          "start_time": "2022-07-15T16:13:27.458815",
          "status": "completed"
        },
        "tags": [],
        "id": "1abbc588"
      },
      "source": [
        "## Download and unzip dataset"
      ]
    },
    {
      "cell_type": "code",
      "execution_count": 3,
      "id": "c17f8dd7",
      "metadata": {
        "execution": {
          "iopub.execute_input": "2022-07-15T16:13:27.486038Z",
          "iopub.status.busy": "2022-07-15T16:13:27.485615Z",
          "iopub.status.idle": "2022-07-15T16:13:27.490276Z",
          "shell.execute_reply": "2022-07-15T16:13:27.489580Z"
        },
        "papermill": {
          "duration": 0.016071,
          "end_time": "2022-07-15T16:13:27.491993",
          "exception": false,
          "start_time": "2022-07-15T16:13:27.475922",
          "status": "completed"
        },
        "tags": [],
        "id": "c17f8dd7",
        "outputId": "277cdeeb-b2c2-49c8-f2bf-2251e59cbc01",
        "colab": {
          "base_uri": "https://localhost:8080/"
        }
      },
      "outputs": [
        {
          "output_type": "stream",
          "name": "stdout",
          "text": [
            "Downloading amex-fe-plus.zip to /content\n",
            "100% 3.84G/3.85G [01:28<00:00, 56.1MB/s]\n",
            "100% 3.85G/3.85G [01:28<00:00, 46.8MB/s]\n",
            "Archive:  /content/amex-fe-plus.zip\n",
            "  inflating: test_fe_plus_plus.parquet  \n",
            "  inflating: train_fe_plus_plus.parquet  \n"
          ]
        }
      ],
      "source": [
        "!kaggle datasets download -d ryuina/amex-fe-plus\n",
        "!unzip /content/amex-fe-plus.zip"
      ]
    },
    {
      "cell_type": "code",
      "execution_count": 4,
      "id": "e4df1701",
      "metadata": {
        "execution": {
          "iopub.execute_input": "2022-07-15T16:13:27.515341Z",
          "iopub.status.busy": "2022-07-15T16:13:27.514880Z",
          "iopub.status.idle": "2022-07-15T16:13:27.523654Z",
          "shell.execute_reply": "2022-07-15T16:13:27.522700Z"
        },
        "papermill": {
          "duration": 0.025128,
          "end_time": "2022-07-15T16:13:27.526436",
          "exception": false,
          "start_time": "2022-07-15T16:13:27.501308",
          "status": "completed"
        },
        "tags": [],
        "id": "e4df1701",
        "outputId": "4bb07112-e2e6-44a0-bd27-55467a17d16c",
        "colab": {
          "base_uri": "https://localhost:8080/"
        }
      },
      "outputs": [
        {
          "output_type": "stream",
          "name": "stdout",
          "text": [
            "Downloading sample_submission.csv.zip to /content\n",
            " 77% 25.0M/32.4M [00:01<00:00, 34.1MB/s]\n",
            "100% 32.4M/32.4M [00:01<00:00, 32.7MB/s]\n",
            "Archive:  /content/sample_submission.csv.zip\n",
            "  inflating: sample_submission.csv   \n"
          ]
        }
      ],
      "source": [
        "!kaggle competitions download -c amex-default-prediction -f sample_submission.csv\n",
        "!unzip /content/sample_submission.csv.zip"
      ]
    },
    {
      "cell_type": "markdown",
      "id": "f4989bdc",
      "metadata": {
        "papermill": {
          "duration": 0.016438,
          "end_time": "2022-07-15T16:13:27.558017",
          "exception": false,
          "start_time": "2022-07-15T16:13:27.541579",
          "status": "completed"
        },
        "tags": [],
        "id": "f4989bdc"
      },
      "source": [
        "# Settings"
      ]
    },
    {
      "cell_type": "code",
      "execution_count": 1,
      "id": "95e00624",
      "metadata": {
        "_cell_guid": "b1076dfc-b9ad-4769-8c92-a6c4dae69d19",
        "_uuid": "8f2839f25d086af736a60e9eeb907d3b93b6e0e5",
        "execution": {
          "iopub.execute_input": "2022-07-15T16:13:27.588423Z",
          "iopub.status.busy": "2022-07-15T16:13:27.588075Z",
          "iopub.status.idle": "2022-07-15T16:13:28.957484Z",
          "shell.execute_reply": "2022-07-15T16:13:28.956421Z"
        },
        "papermill": {
          "duration": 1.38867,
          "end_time": "2022-07-15T16:13:28.960624",
          "exception": false,
          "start_time": "2022-07-15T16:13:27.571954",
          "status": "completed"
        },
        "tags": [],
        "id": "95e00624"
      },
      "outputs": [],
      "source": [
        "import pandas as pd\n",
        "import numpy as np\n",
        "import matplotlib.pyplot as plt\n",
        "import random\n",
        "\n",
        "from catboost import CatBoostClassifier, Pool\n",
        "from sklearn.preprocessing import LabelEncoder\n",
        "from sklearn.model_selection import KFold\n",
        "from tqdm import tqdm\n",
        "\n",
        "import os\n",
        "import gc; gc.enable()\n",
        "\n",
        "import warnings\n",
        "warnings.filterwarnings('ignore')"
      ]
    },
    {
      "cell_type": "code",
      "execution_count": 2,
      "id": "004febdf",
      "metadata": {
        "execution": {
          "iopub.execute_input": "2022-07-15T16:13:28.994650Z",
          "iopub.status.busy": "2022-07-15T16:13:28.994155Z",
          "iopub.status.idle": "2022-07-15T16:13:29.006339Z",
          "shell.execute_reply": "2022-07-15T16:13:29.002101Z"
        },
        "papermill": {
          "duration": 0.030433,
          "end_time": "2022-07-15T16:13:29.008239",
          "exception": false,
          "start_time": "2022-07-15T16:13:28.977806",
          "status": "completed"
        },
        "tags": [],
        "id": "004febdf"
      },
      "outputs": [],
      "source": [
        "VER=7\n",
        "SEED = 42\n",
        "FOLDS = 5\n",
        "\n",
        "cat_features = [\"B_30\", \"B_38\", \"D_114\", \"D_116\", \"D_117\", \"D_120\", \"D_126\", \"D_63\", \"D_64\", \"D_66\", \"D_68\"]\n",
        "\n",
        "def seed_everything(seed):\n",
        "    random.seed(seed)\n",
        "    np.random.seed(seed)\n",
        "    os.environ['PYTHONHASHSEED'] = str(seed)\n",
        "\n",
        "seed_everything(SEED)"
      ]
    },
    {
      "cell_type": "code",
      "execution_count": 3,
      "id": "c0e94a28",
      "metadata": {
        "execution": {
          "iopub.execute_input": "2022-07-15T16:13:29.093540Z",
          "iopub.status.busy": "2022-07-15T16:13:29.093091Z",
          "iopub.status.idle": "2022-07-15T16:14:14.382522Z",
          "shell.execute_reply": "2022-07-15T16:14:14.381643Z"
        },
        "papermill": {
          "duration": 45.307941,
          "end_time": "2022-07-15T16:14:14.385086",
          "exception": false,
          "start_time": "2022-07-15T16:13:29.077145",
          "status": "completed"
        },
        "tags": [],
        "id": "c0e94a28"
      },
      "outputs": [],
      "source": [
        "train = pd.read_parquet(\"/content/train_fe_plus_plus.parquet\")\n",
        "# train = train.reset_index(level=0)\n",
        "test = pd.read_parquet(\"/content/test_fe_plus_plus.parquet\")\n",
        "# test = test.reset_index(level=0)"
      ]
    },
    {
      "cell_type": "code",
      "execution_count": 4,
      "id": "81cbcbdf",
      "metadata": {
        "execution": {
          "iopub.execute_input": "2022-07-15T16:14:14.404618Z",
          "iopub.status.busy": "2022-07-15T16:14:14.404283Z",
          "iopub.status.idle": "2022-07-15T16:14:16.433273Z",
          "shell.execute_reply": "2022-07-15T16:14:16.432437Z"
        },
        "papermill": {
          "duration": 2.041229,
          "end_time": "2022-07-15T16:14:16.435648",
          "exception": false,
          "start_time": "2022-07-15T16:14:14.394419",
          "status": "completed"
        },
        "tags": [],
        "id": "81cbcbdf"
      },
      "outputs": [],
      "source": [
        "cat_features_last = [f\"{cf}_last\" for cf in cat_features]\n",
        "\n",
        "le_encoder = LabelEncoder()\n",
        "for categorical_feature in cat_features_last:\n",
        "    train[categorical_feature] = le_encoder.fit_transform(train[categorical_feature])\n",
        "    test[categorical_feature] = le_encoder.transform(test[categorical_feature])"
      ]
    },
    {
      "cell_type": "code",
      "execution_count": 5,
      "id": "b931bba5",
      "metadata": {
        "execution": {
          "iopub.execute_input": "2022-07-15T16:14:16.455441Z",
          "iopub.status.busy": "2022-07-15T16:14:16.455092Z",
          "iopub.status.idle": "2022-07-15T16:14:18.013098Z",
          "shell.execute_reply": "2022-07-15T16:14:18.012027Z"
        },
        "papermill": {
          "duration": 1.570551,
          "end_time": "2022-07-15T16:14:18.015521",
          "exception": false,
          "start_time": "2022-07-15T16:14:16.444970",
          "status": "completed"
        },
        "tags": [],
        "id": "b931bba5",
        "colab": {
          "base_uri": "https://localhost:8080/"
        },
        "outputId": "b0176a44-8e97-44e1-f662-ee1c331f5319"
      },
      "outputs": [
        {
          "output_type": "stream",
          "name": "stderr",
          "text": [
            "100%|██████████| 1638/1638 [06:21<00:00,  4.29it/s]\n"
          ]
        }
      ],
      "source": [
        "# https://www.kaggle.com/code/ragnar123/amex-lgbm-dart-cv-0-7963\n",
        "# Round last float features to 2 decimal place\n",
        "float_cols = list(train.dtypes[(train.dtypes == 'float32') | (train.dtypes == 'float64')].index)\n",
        "float_cols = [col for col in float_cols if 'last' in col]\n",
        "\n",
        "for col in float_cols:\n",
        "    train[col + '_round2'] = train[col].round(2)\n",
        "    test[col + '_round2'] = test[col].round(2)\n",
        "\n",
        "num_cols = [col for col in train.columns if 'last' in col]\n",
        "num_cols = [col[:-5] for col in num_cols if 'round' not in col]\n",
        "for col in num_cols:\n",
        "    try:\n",
        "        train[f'{col}_mean_min'] = train[f'{col}_mean'] - train[f'{col}_min']\n",
        "        test[f'{col}_mean_min'] = test[f'{col}_mean'] - test[f'{col}_min']\n",
        "\n",
        "        train[f'{col}_last_min'] = train[f'{col}_last'] - train[f'{col}_min']\n",
        "        test[f'{col}_last_min'] = test[f'{col}_last'] - test[f'{col}_min']\n",
        "\n",
        "        train[f'{col}_last_max'] = train[f'{col}_last'] - train[f'{col}_max']\n",
        "        test[f'{col}_last_max'] = test[f'{col}_last'] - test[f'{col}_max']\n",
        "\n",
        "        train[f'{col}_last_s2'] = (train[f'{col}_last'] / train['S_2_lag'])\n",
        "        test[f'{col}_last_s2'] = (test[f'{col}_last'] / test['S_2_lag'])\n",
        "    except: pass\n",
        "\n",
        "num_cols = list(train.dtypes[(train.dtypes == 'float32') | (train.dtypes == 'float64')].index)\n",
        "for col in tqdm(num_cols):\n",
        "    train[col] = train[col].astype(np.float16)\n",
        "    test[col] = test[col].astype(np.float16)"
      ]
    },
    {
      "cell_type": "code",
      "execution_count": 6,
      "id": "ba13c62d",
      "metadata": {
        "execution": {
          "iopub.execute_input": "2022-07-15T16:14:18.035731Z",
          "iopub.status.busy": "2022-07-15T16:14:18.035409Z",
          "iopub.status.idle": "2022-07-15T16:14:24.212689Z",
          "shell.execute_reply": "2022-07-15T16:14:24.207569Z"
        },
        "papermill": {
          "duration": 6.191719,
          "end_time": "2022-07-15T16:14:24.216845",
          "exception": false,
          "start_time": "2022-07-15T16:14:18.025126",
          "status": "completed"
        },
        "tags": [],
        "id": "ba13c62d",
        "outputId": "ea121253-4b36-443f-fbf6-49ea8818aca5",
        "colab": {
          "base_uri": "https://localhost:8080/"
        }
      },
      "outputs": [
        {
          "output_type": "stream",
          "name": "stdout",
          "text": [
            "We have 2355 features!\n"
          ]
        }
      ],
      "source": [
        "train = train.set_index('customer_ID')\n",
        "train = train.sort_index().reset_index()\n",
        "FEATURES = train.drop(columns=['customer_ID', 'target']).columns\n",
        "\n",
        "print(f\"We have {len(FEATURES)} features!\")"
      ]
    },
    {
      "cell_type": "code",
      "execution_count": 7,
      "id": "f0ecff48",
      "metadata": {
        "execution": {
          "iopub.execute_input": "2022-07-15T16:14:24.269747Z",
          "iopub.status.busy": "2022-07-15T16:14:24.269149Z",
          "iopub.status.idle": "2022-07-15T16:14:24.287474Z",
          "shell.execute_reply": "2022-07-15T16:14:24.284982Z"
        },
        "papermill": {
          "duration": 0.043293,
          "end_time": "2022-07-15T16:14:24.290609",
          "exception": false,
          "start_time": "2022-07-15T16:14:24.247316",
          "status": "completed"
        },
        "tags": [],
        "id": "f0ecff48"
      },
      "outputs": [],
      "source": [
        "# https://www.kaggle.com/competitions/amex-default-prediction/discussion/328020\n",
        "# https://www.kaggle.com/code/rohanrao/amex-competition-metric-implementations\n",
        "def amex_metric_np(target: np.ndarray, preds: np.ndarray) -> float:\n",
        "    indices = np.argsort(preds)[::-1]\n",
        "    preds, target = preds[indices], target[indices]\n",
        "\n",
        "    n_pos = np.sum(target)\n",
        "    n_neg = target.shape[0] - n_pos\n",
        "    \n",
        "    weight = 20.0 - target * 19.0\n",
        "    cum_norm_weight = (weight * (1 / weight.sum())).cumsum()\n",
        "    four_pct_mask = cum_norm_weight <= 0.04\n",
        "    d = np.sum(target[four_pct_mask]) / n_pos\n",
        "    \n",
        "    lorentz = (target * (1 / n_pos)).cumsum()\n",
        "    gini = ((lorentz - cum_norm_weight) * weight).sum()\n",
        "    gini_max = 10 * n_neg * (1 - 19 / (n_pos + 20 * n_neg))\n",
        "\n",
        "    g = gini / gini_max\n",
        "\n",
        "    return 0.5 * (g + d)"
      ]
    },
    {
      "cell_type": "code",
      "execution_count": 10,
      "id": "155fb197",
      "metadata": {
        "execution": {
          "iopub.execute_input": "2022-07-15T16:14:24.334040Z",
          "iopub.status.busy": "2022-07-15T16:14:24.333456Z",
          "iopub.status.idle": "2022-07-15T16:14:24.341948Z",
          "shell.execute_reply": "2022-07-15T16:14:24.341087Z"
        },
        "papermill": {
          "duration": 0.030338,
          "end_time": "2022-07-15T16:14:24.346412",
          "exception": false,
          "start_time": "2022-07-15T16:14:24.316074",
          "status": "completed"
        },
        "tags": [],
        "id": "155fb197"
      },
      "outputs": [],
      "source": [
        "cat_params = {\n",
        "    'iterations':25000,\n",
        "    'random_state':SEED,\n",
        "    'learning_rate':0.02,\n",
        "\n",
        "    # 'depth': 4,\n",
        "    'max_depth': 7,\n",
        "    \"od_type\": 'Iter',\n",
        "    'l2_leaf_reg':70,\n",
        "    # 'one_hot_max_size':20,\n",
        "    # 'random_strength': 0.8,\n",
        "    # 'bagging_temperature': 8,\n",
        "\n",
        "    # 'num_leaves': 100,\n",
        "    # 'min_child_samples': 8,\n",
        "\n",
        "    'task_type':\"GPU\",\n",
        "    'border_count':128,\n",
        "}"
      ]
    },
    {
      "cell_type": "code",
      "execution_count": 11,
      "id": "72e0dac6",
      "metadata": {
        "execution": {
          "iopub.execute_input": "2022-07-15T16:14:24.385070Z",
          "iopub.status.busy": "2022-07-15T16:14:24.384608Z",
          "iopub.status.idle": "2022-07-15T16:48:45.264974Z",
          "shell.execute_reply": "2022-07-15T16:48:45.263500Z"
        },
        "papermill": {
          "duration": 2060.899656,
          "end_time": "2022-07-15T16:48:45.266833",
          "exception": false,
          "start_time": "2022-07-15T16:14:24.367177",
          "status": "completed"
        },
        "tags": [],
        "id": "72e0dac6",
        "outputId": "f3fbee07-a9ed-459a-9aae-d5a2748977a0",
        "colab": {
          "base_uri": "https://localhost:8080/"
        }
      },
      "outputs": [
        {
          "output_type": "stream",
          "name": "stdout",
          "text": [
            "#########################\n",
            "### Fold 1\n",
            "### Train size 367130 Valid size 91783\n",
            "### Training with 100% fold data...\n",
            "#########################\n",
            "0:\tlearn: 0.6669886\ttest: 0.6669512\tbest: 0.6669512 (0)\ttotal: 229ms\tremaining: 1h 35m 18s\n",
            "1000:\tlearn: 0.2141520\ttest: 0.2207993\tbest: 0.2207993 (1000)\ttotal: 2m 15s\tremaining: 54m 17s\n",
            "2000:\tlearn: 0.2072508\ttest: 0.2189055\tbest: 0.2189055 (2000)\ttotal: 4m 21s\tremaining: 50m 9s\n",
            "3000:\tlearn: 0.2019702\ttest: 0.2180688\tbest: 0.2180688 (3000)\ttotal: 6m 26s\tremaining: 47m 11s\n",
            "4000:\tlearn: 0.1975097\ttest: 0.2175642\tbest: 0.2175642 (4000)\ttotal: 8m 29s\tremaining: 44m 31s\n",
            "5000:\tlearn: 0.1930352\ttest: 0.2172143\tbest: 0.2172143 (5000)\ttotal: 10m 33s\tremaining: 42m 14s\n",
            "6000:\tlearn: 0.1888432\ttest: 0.2169534\tbest: 0.2169485 (5962)\ttotal: 12m 38s\tremaining: 40m\n",
            "7000:\tlearn: 0.1849112\ttest: 0.2167612\tbest: 0.2167584 (6989)\ttotal: 14m 41s\tremaining: 37m 47s\n",
            "8000:\tlearn: 0.1809833\ttest: 0.2165681\tbest: 0.2165681 (8000)\ttotal: 16m 47s\tremaining: 35m 39s\n",
            "9000:\tlearn: 0.1771947\ttest: 0.2164497\tbest: 0.2164447 (8992)\ttotal: 18m 51s\tremaining: 33m 31s\n",
            "10000:\tlearn: 0.1735998\ttest: 0.2163463\tbest: 0.2163463 (10000)\ttotal: 20m 56s\tremaining: 31m 24s\n",
            "11000:\tlearn: 0.1701170\ttest: 0.2162286\tbest: 0.2162270 (10991)\ttotal: 23m 2s\tremaining: 29m 18s\n",
            "12000:\tlearn: 0.1666765\ttest: 0.2161519\tbest: 0.2161496 (11970)\ttotal: 25m 7s\tremaining: 27m 13s\n",
            "13000:\tlearn: 0.1633474\ttest: 0.2161236\tbest: 0.2161132 (12812)\ttotal: 27m 13s\tremaining: 25m 7s\n",
            "14000:\tlearn: 0.1600802\ttest: 0.2161340\tbest: 0.2161132 (12812)\ttotal: 29m 19s\tremaining: 23m 2s\n",
            "15000:\tlearn: 0.1568491\ttest: 0.2160927\tbest: 0.2160884 (14975)\ttotal: 31m 26s\tremaining: 20m 57s\n",
            "16000:\tlearn: 0.1538593\ttest: 0.2161202\tbest: 0.2160840 (15095)\ttotal: 33m 32s\tremaining: 18m 51s\n",
            "bestTest = 0.21608398\n",
            "bestIteration = 15095\n",
            "Shrink model to first 15096 iterations.\n",
            "Amex Metric = 0.795244500305065 \n",
            "\n",
            "#########################\n",
            "### Fold 2\n",
            "### Train size 367130 Valid size 91783\n",
            "### Training with 100% fold data...\n",
            "#########################\n",
            "0:\tlearn: 0.6674969\ttest: 0.6674921\tbest: 0.6674921 (0)\ttotal: 206ms\tremaining: 1h 25m 39s\n",
            "1000:\tlearn: 0.2140603\ttest: 0.2209727\tbest: 0.2209727 (1000)\ttotal: 2m 15s\tremaining: 54m 14s\n",
            "2000:\tlearn: 0.2071277\ttest: 0.2191374\tbest: 0.2191360 (1999)\ttotal: 4m 22s\tremaining: 50m 15s\n",
            "3000:\tlearn: 0.2017208\ttest: 0.2182650\tbest: 0.2182648 (2999)\ttotal: 6m 27s\tremaining: 47m 19s\n",
            "4000:\tlearn: 0.1969570\ttest: 0.2177316\tbest: 0.2177311 (3997)\ttotal: 8m 31s\tremaining: 44m 46s\n",
            "5000:\tlearn: 0.1927013\ttest: 0.2173470\tbest: 0.2173468 (4999)\ttotal: 10m 35s\tremaining: 42m 21s\n",
            "6000:\tlearn: 0.1886129\ttest: 0.2170782\tbest: 0.2170777 (5993)\ttotal: 12m 38s\tremaining: 40m 2s\n",
            "7000:\tlearn: 0.1846795\ttest: 0.2168261\tbest: 0.2168253 (6994)\ttotal: 14m 42s\tremaining: 37m 50s\n",
            "8000:\tlearn: 0.1808184\ttest: 0.2166823\tbest: 0.2166783 (7931)\ttotal: 16m 47s\tremaining: 35m 41s\n",
            "9000:\tlearn: 0.1771413\ttest: 0.2165241\tbest: 0.2165176 (8982)\ttotal: 18m 52s\tremaining: 33m 32s\n",
            "10000:\tlearn: 0.1734259\ttest: 0.2164316\tbest: 0.2164275 (9987)\ttotal: 20m 57s\tremaining: 31m 26s\n",
            "11000:\tlearn: 0.1700680\ttest: 0.2163881\tbest: 0.2163820 (10920)\ttotal: 23m 1s\tremaining: 29m 18s\n",
            "12000:\tlearn: 0.1666837\ttest: 0.2163234\tbest: 0.2163225 (11989)\ttotal: 25m 7s\tremaining: 27m 12s\n",
            "13000:\tlearn: 0.1635259\ttest: 0.2162533\tbest: 0.2162501 (12976)\ttotal: 27m 11s\tremaining: 25m 5s\n",
            "14000:\tlearn: 0.1603310\ttest: 0.2161948\tbest: 0.2161854 (13922)\ttotal: 29m 16s\tremaining: 22m 59s\n",
            "15000:\tlearn: 0.1571119\ttest: 0.2161760\tbest: 0.2161667 (14929)\ttotal: 31m 23s\tremaining: 20m 55s\n",
            "16000:\tlearn: 0.1540685\ttest: 0.2161395\tbest: 0.2161316 (15729)\ttotal: 33m 29s\tremaining: 18m 49s\n",
            "17000:\tlearn: 0.1510269\ttest: 0.2161250\tbest: 0.2161053 (16620)\ttotal: 35m 36s\tremaining: 16m 45s\n",
            "18000:\tlearn: 0.1481778\ttest: 0.2160513\tbest: 0.2160397 (17955)\ttotal: 37m 42s\tremaining: 14m 39s\n",
            "19000:\tlearn: 0.1453178\ttest: 0.2160748\tbest: 0.2160378 (18238)\ttotal: 39m 48s\tremaining: 12m 34s\n",
            "bestTest = 0.2160378028\n",
            "bestIteration = 18238\n",
            "Shrink model to first 18239 iterations.\n",
            "Amex Metric = 0.7936991149826973 \n",
            "\n",
            "#########################\n",
            "### Fold 3\n",
            "### Train size 367130 Valid size 91783\n",
            "### Training with 100% fold data...\n",
            "#########################\n",
            "0:\tlearn: 0.6670691\ttest: 0.6669658\tbest: 0.6669658 (0)\ttotal: 236ms\tremaining: 1h 38m 29s\n",
            "1000:\tlearn: 0.2146992\ttest: 0.2181703\tbest: 0.2181703 (1000)\ttotal: 2m 16s\tremaining: 54m 25s\n",
            "2000:\tlearn: 0.2076150\ttest: 0.2162687\tbest: 0.2162687 (2000)\ttotal: 4m 22s\tremaining: 50m 21s\n",
            "3000:\tlearn: 0.2022887\ttest: 0.2154548\tbest: 0.2154545 (2999)\ttotal: 6m 27s\tremaining: 47m 22s\n",
            "4000:\tlearn: 0.1975052\ttest: 0.2149190\tbest: 0.2149176 (3996)\ttotal: 8m 32s\tremaining: 44m 49s\n",
            "5000:\tlearn: 0.1932155\ttest: 0.2145156\tbest: 0.2145107 (4983)\ttotal: 10m 35s\tremaining: 42m 22s\n",
            "6000:\tlearn: 0.1892031\ttest: 0.2141991\tbest: 0.2141979 (5999)\ttotal: 12m 39s\tremaining: 40m 3s\n",
            "7000:\tlearn: 0.1853463\ttest: 0.2139207\tbest: 0.2139207 (7000)\ttotal: 14m 43s\tremaining: 37m 50s\n",
            "8000:\tlearn: 0.1816523\ttest: 0.2137211\tbest: 0.2137211 (8000)\ttotal: 16m 46s\tremaining: 35m 38s\n",
            "9000:\tlearn: 0.1780993\ttest: 0.2135513\tbest: 0.2135511 (8999)\ttotal: 18m 50s\tremaining: 33m 28s\n",
            "10000:\tlearn: 0.1747988\ttest: 0.2133659\tbest: 0.2133650 (9992)\ttotal: 20m 53s\tremaining: 31m 19s\n",
            "11000:\tlearn: 0.1714003\ttest: 0.2132464\tbest: 0.2132439 (10986)\ttotal: 22m 57s\tremaining: 29m 13s\n",
            "12000:\tlearn: 0.1680830\ttest: 0.2132075\tbest: 0.2132017 (11956)\ttotal: 25m 2s\tremaining: 27m 7s\n",
            "13000:\tlearn: 0.1647822\ttest: 0.2131074\tbest: 0.2131065 (12979)\ttotal: 27m 8s\tremaining: 25m 2s\n",
            "14000:\tlearn: 0.1615489\ttest: 0.2130391\tbest: 0.2130307 (13858)\ttotal: 29m 13s\tremaining: 22m 57s\n",
            "15000:\tlearn: 0.1583216\ttest: 0.2129517\tbest: 0.2129438 (14897)\ttotal: 31m 20s\tremaining: 20m 53s\n",
            "16000:\tlearn: 0.1552751\ttest: 0.2128914\tbest: 0.2128912 (15999)\ttotal: 33m 26s\tremaining: 18m 48s\n",
            "17000:\tlearn: 0.1523250\ttest: 0.2128725\tbest: 0.2128677 (16831)\ttotal: 35m 31s\tremaining: 16m 43s\n",
            "18000:\tlearn: 0.1492747\ttest: 0.2128304\tbest: 0.2128245 (17955)\ttotal: 37m 38s\tremaining: 14m 38s\n",
            "19000:\tlearn: 0.1464044\ttest: 0.2127650\tbest: 0.2127569 (18889)\ttotal: 39m 45s\tremaining: 12m 33s\n",
            "20000:\tlearn: 0.1437116\ttest: 0.2127377\tbest: 0.2127282 (19657)\ttotal: 41m 50s\tremaining: 10m 27s\n",
            "21000:\tlearn: 0.1409515\ttest: 0.2126901\tbest: 0.2126822 (20921)\ttotal: 43m 57s\tremaining: 8m 22s\n",
            "22000:\tlearn: 0.1383032\ttest: 0.2126892\tbest: 0.2126724 (21231)\ttotal: 46m 4s\tremaining: 6m 16s\n",
            "23000:\tlearn: 0.1357348\ttest: 0.2126885\tbest: 0.2126627 (22189)\ttotal: 48m 11s\tremaining: 4m 11s\n",
            "bestTest = 0.2126627395\n",
            "bestIteration = 22189\n",
            "Shrink model to first 22190 iterations.\n",
            "Amex Metric = 0.7979975126247945 \n",
            "\n",
            "#########################\n",
            "### Fold 4\n",
            "### Train size 367131 Valid size 91782\n",
            "### Training with 100% fold data...\n",
            "#########################\n",
            "0:\tlearn: 0.6666221\ttest: 0.6666952\tbest: 0.6666952 (0)\ttotal: 211ms\tremaining: 1h 27m 51s\n",
            "1000:\tlearn: 0.2140191\ttest: 0.2214303\tbest: 0.2214303 (1000)\ttotal: 2m 16s\tremaining: 54m 25s\n",
            "2000:\tlearn: 0.2070590\ttest: 0.2193718\tbest: 0.2193718 (2000)\ttotal: 4m 22s\tremaining: 50m 22s\n",
            "3000:\tlearn: 0.2017955\ttest: 0.2184464\tbest: 0.2184458 (2999)\ttotal: 6m 27s\tremaining: 47m 19s\n",
            "4000:\tlearn: 0.1971808\ttest: 0.2179250\tbest: 0.2179250 (4000)\ttotal: 8m 31s\tremaining: 44m 42s\n",
            "5000:\tlearn: 0.1930502\ttest: 0.2175373\tbest: 0.2175367 (4996)\ttotal: 10m 34s\tremaining: 42m 17s\n",
            "6000:\tlearn: 0.1890853\ttest: 0.2172250\tbest: 0.2172250 (6000)\ttotal: 12m 37s\tremaining: 39m 58s\n",
            "7000:\tlearn: 0.1852181\ttest: 0.2169915\tbest: 0.2169913 (6988)\ttotal: 14m 41s\tremaining: 37m 45s\n",
            "8000:\tlearn: 0.1813907\ttest: 0.2167298\tbest: 0.2167286 (7999)\ttotal: 16m 45s\tremaining: 35m 37s\n",
            "9000:\tlearn: 0.1777150\ttest: 0.2165787\tbest: 0.2165746 (8992)\ttotal: 18m 50s\tremaining: 33m 29s\n",
            "10000:\tlearn: 0.1742126\ttest: 0.2164290\tbest: 0.2164282 (9998)\ttotal: 20m 55s\tremaining: 31m 22s\n",
            "11000:\tlearn: 0.1707122\ttest: 0.2163437\tbest: 0.2163410 (10930)\ttotal: 23m\tremaining: 29m 16s\n",
            "12000:\tlearn: 0.1674325\ttest: 0.2162976\tbest: 0.2162976 (12000)\ttotal: 25m 5s\tremaining: 27m 10s\n",
            "13000:\tlearn: 0.1641854\ttest: 0.2162491\tbest: 0.2162333 (12838)\ttotal: 27m 10s\tremaining: 25m 4s\n",
            "14000:\tlearn: 0.1610016\ttest: 0.2162456\tbest: 0.2162333 (12838)\ttotal: 29m 16s\tremaining: 22m 59s\n",
            "15000:\tlearn: 0.1578137\ttest: 0.2161672\tbest: 0.2161666 (14999)\ttotal: 31m 22s\tremaining: 20m 54s\n",
            "16000:\tlearn: 0.1546939\ttest: 0.2160964\tbest: 0.2160961 (15997)\ttotal: 33m 29s\tremaining: 18m 50s\n",
            "17000:\tlearn: 0.1517109\ttest: 0.2161328\tbest: 0.2160915 (16077)\ttotal: 35m 35s\tremaining: 16m 44s\n",
            "bestTest = 0.2160914628\n",
            "bestIteration = 16077\n",
            "Shrink model to first 16078 iterations.\n",
            "Amex Metric = 0.793408654262308 \n",
            "\n",
            "#########################\n",
            "### Fold 5\n",
            "### Train size 367131 Valid size 91782\n",
            "### Training with 100% fold data...\n",
            "#########################\n",
            "0:\tlearn: 0.6668381\ttest: 0.6670130\tbest: 0.6670130 (0)\ttotal: 236ms\tremaining: 1h 38m 18s\n",
            "1000:\tlearn: 0.2136834\ttest: 0.2227349\tbest: 0.2227349 (1000)\ttotal: 2m 16s\tremaining: 54m 28s\n",
            "2000:\tlearn: 0.2066953\ttest: 0.2207498\tbest: 0.2207498 (2000)\ttotal: 4m 23s\tremaining: 50m 26s\n",
            "3000:\tlearn: 0.2016002\ttest: 0.2199026\tbest: 0.2199026 (3000)\ttotal: 6m 27s\tremaining: 47m 18s\n",
            "4000:\tlearn: 0.1967950\ttest: 0.2193143\tbest: 0.2193120 (3988)\ttotal: 8m 31s\tremaining: 44m 45s\n",
            "5000:\tlearn: 0.1925453\ttest: 0.2189386\tbest: 0.2189386 (5000)\ttotal: 10m 35s\tremaining: 42m 21s\n",
            "6000:\tlearn: 0.1885465\ttest: 0.2186100\tbest: 0.2186099 (5999)\ttotal: 12m 39s\tremaining: 40m 3s\n",
            "7000:\tlearn: 0.1845604\ttest: 0.2183909\tbest: 0.2183890 (6998)\ttotal: 14m 43s\tremaining: 37m 52s\n",
            "8000:\tlearn: 0.1807112\ttest: 0.2182125\tbest: 0.2182124 (7999)\ttotal: 16m 48s\tremaining: 35m 43s\n",
            "9000:\tlearn: 0.1770105\ttest: 0.2180980\tbest: 0.2180980 (9000)\ttotal: 18m 53s\tremaining: 33m 35s\n",
            "10000:\tlearn: 0.1733815\ttest: 0.2180016\tbest: 0.2180002 (9992)\ttotal: 20m 58s\tremaining: 31m 28s\n",
            "11000:\tlearn: 0.1700656\ttest: 0.2179193\tbest: 0.2179100 (10819)\ttotal: 23m 3s\tremaining: 29m 20s\n",
            "12000:\tlearn: 0.1665962\ttest: 0.2178628\tbest: 0.2178608 (11975)\ttotal: 25m 9s\tremaining: 27m 14s\n",
            "13000:\tlearn: 0.1633255\ttest: 0.2178162\tbest: 0.2178153 (12995)\ttotal: 27m 14s\tremaining: 25m 8s\n",
            "14000:\tlearn: 0.1600075\ttest: 0.2177491\tbest: 0.2177347 (13796)\ttotal: 29m 21s\tremaining: 23m 3s\n",
            "15000:\tlearn: 0.1569991\ttest: 0.2177111\tbest: 0.2176956 (14881)\ttotal: 31m 26s\tremaining: 20m 57s\n",
            "16000:\tlearn: 0.1538445\ttest: 0.2177024\tbest: 0.2176874 (15282)\ttotal: 33m 33s\tremaining: 18m 52s\n",
            "17000:\tlearn: 0.1508141\ttest: 0.2176754\tbest: 0.2176687 (16969)\ttotal: 35m 40s\tremaining: 16m 47s\n",
            "18000:\tlearn: 0.1479297\ttest: 0.2176774\tbest: 0.2176458 (17308)\ttotal: 37m 47s\tremaining: 14m 41s\n",
            "bestTest = 0.2176457572\n",
            "bestIteration = 17308\n",
            "Shrink model to first 17309 iterations.\n",
            "Amex Metric = 0.7936676345791691 \n",
            "\n",
            "#########################\n",
            "Overall Amex metric: 0.7949107154290365\n"
          ]
        }
      ],
      "source": [
        "importances = []\n",
        "oof = []\n",
        "gc.collect()\n",
        "\n",
        "clf = CatBoostClassifier(**cat_params)\n",
        "skf = KFold(n_splits=FOLDS, shuffle=True, random_state=SEED)\n",
        "for fold,(train_idx, valid_idx) in enumerate(skf.split(train, train.target)):\n",
        "    print('#'*25)\n",
        "    print('### Fold',fold+1)\n",
        "    print('### Train size',len(train_idx),'Valid size',len(valid_idx))\n",
        "    print(f'### Training with 100% fold data...')\n",
        "    print('#'*25)\n",
        "    \n",
        "    # TRAIN, VALID, TEST FOR FOLD K\n",
        "    X_train = train.loc[train_idx, FEATURES]\n",
        "    X_valid = train.target.iloc[train_idx]\n",
        "    y_train = train.loc[valid_idx, FEATURES]\n",
        "    y_valid = train.target.iloc[valid_idx]\n",
        "    \n",
        "    # TRAIN MODEL FOLD K\n",
        "    model = clf.fit(X_train,\n",
        "                    X_valid,\n",
        "                    cat_features=cat_features_last,\n",
        "                    eval_set=[(y_train, y_valid)],\n",
        "                    use_best_model=True,\n",
        "                    early_stopping_rounds=1500,\n",
        "                    verbose_eval=1000)\n",
        "    model.save_model(f'CAT_v{VER}_fold{fold}.cbm')\n",
        "    \n",
        "    # GET FEATURE IMPORTANCE FOR FOLD K\n",
        "    dd = model.feature_importances_\n",
        "    df = pd.DataFrame({'feature':FEATURES,f'importance_{fold}':dd})\n",
        "    importances.append(df)\n",
        "            \n",
        "    # INFER OOF FOLD K\n",
        "    oof_preds = model.predict_proba(y_train)[:, 1]\n",
        "    acc = amex_metric_np(y_valid.values, oof_preds)\n",
        "    print('Amex Metric =',acc,'\\n')\n",
        "\n",
        "    df = train.loc[valid_idx, ['customer_ID','target'] ].copy()\n",
        "    df['oof_preds'] = oof_preds\n",
        "    oof.append(df)\n",
        "    \n",
        "    del X_train, y_train, dd, df\n",
        "    del X_valid, y_valid, model\n",
        "    _ = gc.collect()\n",
        "    \n",
        "print('#'*25)\n",
        "oof = pd.concat(oof,axis=0,ignore_index=True).set_index('customer_ID')\n",
        "acc = amex_metric_np(oof.target.values, oof.oof_preds.values)\n",
        "print(f\"Overall Amex metric: {acc}\")"
      ]
    },
    {
      "cell_type": "code",
      "execution_count": 12,
      "id": "9382e3d0",
      "metadata": {
        "execution": {
          "iopub.execute_input": "2022-07-15T16:48:45.305370Z",
          "iopub.status.busy": "2022-07-15T16:48:45.304754Z",
          "iopub.status.idle": "2022-07-15T16:48:45.407975Z",
          "shell.execute_reply": "2022-07-15T16:48:45.407068Z"
        },
        "papermill": {
          "duration": 0.123941,
          "end_time": "2022-07-15T16:48:45.409679",
          "exception": false,
          "start_time": "2022-07-15T16:48:45.285738",
          "status": "completed"
        },
        "tags": [],
        "id": "9382e3d0"
      },
      "outputs": [],
      "source": [
        "del train\n",
        "_ = gc.collect()"
      ]
    },
    {
      "cell_type": "code",
      "execution_count": 13,
      "id": "3610c1b3",
      "metadata": {
        "execution": {
          "iopub.execute_input": "2022-07-15T16:48:45.448225Z",
          "iopub.status.busy": "2022-07-15T16:48:45.447584Z",
          "iopub.status.idle": "2022-07-15T16:48:45.488638Z",
          "shell.execute_reply": "2022-07-15T16:48:45.487878Z"
        },
        "papermill": {
          "duration": 0.06166,
          "end_time": "2022-07-15T16:48:45.490338",
          "exception": false,
          "start_time": "2022-07-15T16:48:45.428678",
          "status": "completed"
        },
        "scrolled": true,
        "tags": [],
        "id": "3610c1b3"
      },
      "outputs": [],
      "source": [
        "df = importances[0].copy()\n",
        "for k in range(1,FOLDS): df = df.merge(importances[k], on='feature', how='left')\n",
        "df['importance'] = df.iloc[:,1:].mean(axis=1, numeric_only=True)\n",
        "df = df.sort_values('importance',ascending=False)\n",
        "df.to_csv(f'cat_feature_importance_v{VER}.csv',index=False)"
      ]
    },
    {
      "cell_type": "code",
      "execution_count": 14,
      "id": "69357676",
      "metadata": {
        "execution": {
          "iopub.execute_input": "2022-07-15T16:48:45.527853Z",
          "iopub.status.busy": "2022-07-15T16:48:45.527216Z",
          "iopub.status.idle": "2022-07-15T16:48:45.823812Z",
          "shell.execute_reply": "2022-07-15T16:48:45.823089Z"
        },
        "papermill": {
          "duration": 0.317159,
          "end_time": "2022-07-15T16:48:45.825544",
          "exception": false,
          "start_time": "2022-07-15T16:48:45.508385",
          "status": "completed"
        },
        "tags": [],
        "id": "69357676",
        "outputId": "8e2c902a-f5db-42eb-9f07-67c314b1c1a9",
        "colab": {
          "base_uri": "https://localhost:8080/",
          "height": 607
        }
      },
      "outputs": [
        {
          "output_type": "display_data",
          "data": {
            "text/plain": [
              "<Figure size 720x720 with 1 Axes>"
            ],
            "image/png": "[encoded data removed]"
          },
          "metadata": {
            "needs_background": "light"
          }
        }
      ],
      "source": [
        "NUM_FEATURES = 20\n",
        "plt.figure(figsize=(10,5*NUM_FEATURES//10))\n",
        "plt.barh(np.arange(NUM_FEATURES,0,-1), df.importance.values[:NUM_FEATURES])\n",
        "plt.yticks(np.arange(NUM_FEATURES,0,-1), df.feature.values[:NUM_FEATURES])\n",
        "plt.title(f'CAT Feature Importance - Top {NUM_FEATURES}')\n",
        "plt.show()"
      ]
    },
    {
      "cell_type": "markdown",
      "id": "bf46dad6",
      "metadata": {
        "papermill": {
          "duration": 0.018388,
          "end_time": "2022-07-15T16:48:45.862462",
          "exception": false,
          "start_time": "2022-07-15T16:48:45.844074",
          "status": "completed"
        },
        "tags": [],
        "id": "bf46dad6"
      },
      "source": [
        "# Test part"
      ]
    },
    {
      "cell_type": "code",
      "execution_count": 15,
      "id": "c28f1826",
      "metadata": {
        "execution": {
          "iopub.execute_input": "2022-07-15T16:48:45.901178Z",
          "iopub.status.busy": "2022-07-15T16:48:45.900848Z",
          "iopub.status.idle": "2022-07-15T16:48:45.907526Z",
          "shell.execute_reply": "2022-07-15T16:48:45.906709Z"
        },
        "papermill": {
          "duration": 0.027751,
          "end_time": "2022-07-15T16:48:45.909278",
          "exception": false,
          "start_time": "2022-07-15T16:48:45.881527",
          "status": "completed"
        },
        "tags": [],
        "id": "c28f1826"
      },
      "outputs": [],
      "source": [
        "# CALCULATE SIZE OF EACH SEPARATE TEST PART\n",
        "def get_rows(customers, test, NUM_PARTS = 4, verbose = ''):\n",
        "    chunk = len(customers)//NUM_PARTS\n",
        "    if verbose != '':\n",
        "        print(f'We will process {verbose} data as {NUM_PARTS} separate parts.')\n",
        "        print(f'There will be {chunk} customers in each part (except the last part).')\n",
        "        print('Below are number of rows in each part:')\n",
        "    rows = []\n",
        "\n",
        "    for k in range(NUM_PARTS):\n",
        "        if k==NUM_PARTS-1: cc = customers[k*chunk:]\n",
        "        else: cc = customers[k*chunk:(k+1)*chunk]\n",
        "        s = test.loc[test.customer_ID.isin(cc)].shape[0]\n",
        "        rows.append(s)\n",
        "    if verbose != '': print( rows )\n",
        "    return rows,chunk"
      ]
    },
    {
      "cell_type": "code",
      "execution_count": 16,
      "id": "8c7e70c5",
      "metadata": {
        "execution": {
          "iopub.execute_input": "2022-07-15T16:48:45.947705Z",
          "iopub.status.busy": "2022-07-15T16:48:45.947377Z",
          "iopub.status.idle": "2022-07-15T16:48:47.039525Z",
          "shell.execute_reply": "2022-07-15T16:48:47.038640Z"
        },
        "papermill": {
          "duration": 1.113806,
          "end_time": "2022-07-15T16:48:47.041416",
          "exception": false,
          "start_time": "2022-07-15T16:48:45.927610",
          "status": "completed"
        },
        "tags": [],
        "id": "8c7e70c5",
        "outputId": "fda696db-667a-4a2a-c4b2-1e5f425123e4",
        "colab": {
          "base_uri": "https://localhost:8080/"
        }
      },
      "outputs": [
        {
          "output_type": "stream",
          "name": "stdout",
          "text": [
            "We will process test data as 4 separate parts.\n",
            "There will be 231155 customers in each part (except the last part).\n",
            "Below are number of rows in each part:\n",
            "[231155, 231155, 231155, 231156]\n"
          ]
        }
      ],
      "source": [
        "# COMPUTE SIZE OF 4 PARTS FOR TEST DATA\n",
        "NUM_PARTS = 4\n",
        "\n",
        "customers = test[['customer_ID']].drop_duplicates().sort_index().values.flatten()\n",
        "rows,num_cust = get_rows(customers, test[['customer_ID']], NUM_PARTS = NUM_PARTS, verbose = 'test')"
      ]
    },
    {
      "cell_type": "code",
      "execution_count": 17,
      "id": "9cf53fd3",
      "metadata": {
        "execution": {
          "iopub.execute_input": "2022-07-15T16:48:47.081924Z",
          "iopub.status.busy": "2022-07-15T16:48:47.081615Z",
          "iopub.status.idle": "2022-07-15T16:50:55.407348Z",
          "shell.execute_reply": "2022-07-15T16:50:55.406352Z"
        },
        "papermill": {
          "duration": 128.349422,
          "end_time": "2022-07-15T16:50:55.410249",
          "exception": false,
          "start_time": "2022-07-15T16:48:47.060827",
          "status": "completed"
        },
        "tags": [],
        "id": "9cf53fd3",
        "outputId": "e36b03aa-f916-4f2e-be66-c5fa397f9510",
        "colab": {
          "base_uri": "https://localhost:8080/"
        }
      },
      "outputs": [
        {
          "output_type": "stream",
          "name": "stdout",
          "text": [
            "\n",
            "Reading test data...\n",
            "=> Test part 1 has shape (231155, 2355)\n",
            "\n",
            "Reading test data...\n",
            "=> Test part 2 has shape (231155, 2355)\n",
            "\n",
            "Reading test data...\n",
            "=> Test part 3 has shape (231155, 2355)\n",
            "\n",
            "Reading test data...\n",
            "=> Test part 4 has shape (231156, 2355)\n"
          ]
        }
      ],
      "source": [
        "# INFER TEST DATA IN PARTS\n",
        "skip_rows = 0\n",
        "skip_cust = 0\n",
        "test_preds = []\n",
        "\n",
        "for k in range(NUM_PARTS):\n",
        "    # READ PART OF TEST DATA\n",
        "    print(f'\\nReading test data...')\n",
        "    test_copy = test.iloc[skip_rows:skip_rows+rows[k]].copy()\n",
        "    test_copy = test_copy.set_index('customer_ID')\n",
        "    skip_rows += rows[k]\n",
        "    print(f'=> Test part {k+1} has shape', test_copy.shape )\n",
        "    \n",
        "    # PROCESS AND FEATURE ENGINEER PART OF TEST DATA\n",
        "    if k==NUM_PARTS-1: test_copy = test_copy.loc[customers[skip_cust:]]\n",
        "    else: test_copy = test_copy.loc[customers[skip_cust:skip_cust+num_cust]]\n",
        "    skip_cust += num_cust\n",
        "        \n",
        "    # INFER XGB MODELS ON TEST DATA\n",
        "    model = CatBoostClassifier(**cat_params)\n",
        "    model.load_model(f'CAT_v{VER}_fold0.cbm')\n",
        "    preds = model.predict_proba(test_copy)[:, 1]\n",
        "    for f in range(1,FOLDS):\n",
        "        model.load_model(f'CAT_v{VER}_fold{f}.cbm')\n",
        "        preds += model.predict_proba(test_copy)[:, 1]\n",
        "    preds /= FOLDS\n",
        "    test_preds.append(preds)\n",
        "\n",
        "    # CLEAN MEMORY\n",
        "    del test_copy, model\n",
        "    _ = gc.collect()\n",
        "\n",
        "del test\n",
        "_ = gc.collect()"
      ]
    },
    {
      "cell_type": "markdown",
      "id": "02259545",
      "metadata": {
        "papermill": {
          "duration": 0.067515,
          "end_time": "2022-07-15T16:50:55.538577",
          "exception": false,
          "start_time": "2022-07-15T16:50:55.471062",
          "status": "completed"
        },
        "tags": [],
        "id": "02259545"
      },
      "source": [
        "# Submit"
      ]
    },
    {
      "cell_type": "code",
      "execution_count": 18,
      "id": "00d908fd",
      "metadata": {
        "execution": {
          "iopub.execute_input": "2022-07-15T16:50:55.628196Z",
          "iopub.status.busy": "2022-07-15T16:50:55.627855Z",
          "iopub.status.idle": "2022-07-15T16:51:02.864876Z",
          "shell.execute_reply": "2022-07-15T16:51:02.864114Z"
        },
        "papermill": {
          "duration": 7.268354,
          "end_time": "2022-07-15T16:51:02.866646",
          "exception": false,
          "start_time": "2022-07-15T16:50:55.598292",
          "status": "completed"
        },
        "tags": [],
        "id": "00d908fd",
        "outputId": "f3630702-a0b5-4013-fa13-9396391857e5",
        "colab": {
          "base_uri": "https://localhost:8080/",
          "height": 224
        }
      },
      "outputs": [
        {
          "output_type": "stream",
          "name": "stdout",
          "text": [
            "Submission file shape is (924621, 2)\n"
          ]
        },
        {
          "output_type": "execute_result",
          "data": {
            "text/plain": [
              "                                         customer_ID  prediction\n",
              "0  00000469ba478561f23a92a868bd366de6f6527a684c9a...    0.013561\n",
              "1  00001bf2e77ff879fab36aa4fac689b9ba411dae63ae39...    0.001102\n",
              "2  0000210045da4f81e5f122c6bde5c2a617d03eef67f82c...    0.043809\n",
              "3  00003b41e58ede33b8daf61ab56d9952f17c9ad1c3976c...    0.198262\n",
              "4  00004b22eaeeeb0ec976890c1d9bfc14fd9427e98c4ee9...    0.863818"
            ],
            "text/html": [
              "\n",
              "  <div id=\"df-a3867ead-fea2-4610-98c9-3cc464916f4e\">\n",
              "    <div class=\"colab-df-container\">\n",
              "      <div>\n",
              "<style scoped>\n",
              "    .dataframe tbody tr th:only-of-type {\n",
              "        vertical-align: middle;\n",
              "    }\n",
              "\n",
              "    .dataframe tbody tr th {\n",
              "        vertical-align: top;\n",
              "    }\n",
              "\n",
              "    .dataframe thead th {\n",
              "        text-align: right;\n",
              "    }\n",
              "</style>\n",
              "<table border=\"1\" class=\"dataframe\">\n",
              "  <thead>\n",
              "    <tr style=\"text-align: right;\">\n",
              "      <th></th>\n",
              "      <th>customer_ID</th>\n",
              "      <th>prediction</th>\n",
              "    </tr>\n",
              "  </thead>\n",
              "  <tbody>\n",
              "    <tr>\n",
              "      <th>0</th>\n",
              "      <td>00000469ba478561f23a92a868bd366de6f6527a684c9a...</td>\n",
              "      <td>0.013561</td>\n",
              "    </tr>\n",
              "    <tr>\n",
              "      <th>1</th>\n",
              "      <td>00001bf2e77ff879fab36aa4fac689b9ba411dae63ae39...</td>\n",
              "      <td>0.001102</td>\n",
              "    </tr>\n",
              "    <tr>\n",
              "      <th>2</th>\n",
              "      <td>0000210045da4f81e5f122c6bde5c2a617d03eef67f82c...</td>\n",
              "      <td>0.043809</td>\n",
              "    </tr>\n",
              "    <tr>\n",
              "      <th>3</th>\n",
              "      <td>00003b41e58ede33b8daf61ab56d9952f17c9ad1c3976c...</td>\n",
              "      <td>0.198262</td>\n",
              "    </tr>\n",
              "    <tr>\n",
              "      <th>4</th>\n",
              "      <td>00004b22eaeeeb0ec976890c1d9bfc14fd9427e98c4ee9...</td>\n",
              "      <td>0.863818</td>\n",
              "    </tr>\n",
              "  </tbody>\n",
              "</table>\n",
              "</div>\n",
              "      <button class=\"colab-df-convert\" onclick=\"convertToInteractive('df-a3867ead-fea2-4610-98c9-3cc464916f4e')\"\n",
              "              title=\"Convert this dataframe to an interactive table.\"\n",
              "              style=\"display:none;\">\n",
              "        \n",
              "  <svg xmlns=\"http://www.w3.org/2000/svg\" height=\"24px\"viewBox=\"0 0 24 24\"\n",
              "       width=\"24px\">\n",
              "    <path d=\"M0 0h24v24H0V0z\" fill=\"none\"/>\n",
              "    <path d=\"M18.56 5.44l.94 2.06.94-2.06 2.06-.94-2.06-.94-.94-2.06-.94 2.06-2.06.94zm-11 1L8.5 8.5l.94-2.06 2.06-.94-2.06-.94L8.5 2.5l-.94 2.06-2.06.94zm10 10l.94 2.06.94-2.06 2.06-.94-2.06-.94-.94-2.06-.94 2.06-2.06.94z\"/><path d=\"M17.41 7.96l-1.37-1.37c-.4-.4-.92-.59-1.43-.59-.52 0-1.04.2-1.43.59L10.3 9.45l-7.72 7.72c-.78.78-.78 2.05 0 2.83L4 21.41c.39.39.9.59 1.41.59.51 0 1.02-.2 1.41-.59l7.78-7.78 2.81-2.81c.8-.78.8-2.07 0-2.86zM5.41 20L4 18.59l7.72-7.72 1.47 1.35L5.41 20z\"/>\n",
              "  </svg>\n",
              "      </button>\n",
              "      \n",
              "  <style>\n",
              "    .colab-df-container {\n",
              "      display:flex;\n",
              "      flex-wrap:wrap;\n",
              "      gap: 12px;\n",
              "    }\n",
              "\n",
              "    .colab-df-convert {\n",
              "      background-color: #E8F0FE;\n",
              "      border: none;\n",
              "      border-radius: 50%;\n",
              "      cursor: pointer;\n",
              "      display: none;\n",
              "      fill: #1967D2;\n",
              "      height: 32px;\n",
              "      padding: 0 0 0 0;\n",
              "      width: 32px;\n",
              "    }\n",
              "\n",
              "    .colab-df-convert:hover {\n",
              "      background-color: #E2EBFA;\n",
              "      box-shadow: 0px 1px 2px rgba(60, 64, 67, 0.3), 0px 1px 3px 1px rgba(60, 64, 67, 0.15);\n",
              "      fill: #174EA6;\n",
              "    }\n",
              "\n",
              "    [theme=dark] .colab-df-convert {\n",
              "      background-color: #3B4455;\n",
              "      fill: #D2E3FC;\n",
              "    }\n",
              "\n",
              "    [theme=dark] .colab-df-convert:hover {\n",
              "      background-color: #434B5C;\n",
              "      box-shadow: 0px 1px 3px 1px rgba(0, 0, 0, 0.15);\n",
              "      filter: drop-shadow(0px 1px 2px rgba(0, 0, 0, 0.3));\n",
              "      fill: #FFFFFF;\n",
              "    }\n",
              "  </style>\n",
              "\n",
              "      <script>\n",
              "        const buttonEl =\n",
              "          document.querySelector('#df-a3867ead-fea2-4610-98c9-3cc464916f4e button.colab-df-convert');\n",
              "        buttonEl.style.display =\n",
              "          google.colab.kernel.accessAllowed ? 'block' : 'none';\n",
              "\n",
              "        async function convertToInteractive(key) {\n",
              "          const element = document.querySelector('#df-a3867ead-fea2-4610-98c9-3cc464916f4e');\n",
              "          const dataTable =\n",
              "            await google.colab.kernel.invokeFunction('convertToInteractive',\n",
              "                                                     [key], {});\n",
              "          if (!dataTable) return;\n",
              "\n",
              "          const docLinkHtml = 'Like what you see? Visit the ' +\n",
              "            '<a target=\"_blank\" href=https://colab.research.google.com/notebooks/data_table.ipynb>data table notebook</a>'\n",
              "            + ' to learn more about interactive tables.';\n",
              "          element.innerHTML = '';\n",
              "          dataTable['output_type'] = 'display_data';\n",
              "          await google.colab.output.renderOutput(dataTable, element);\n",
              "          const docLink = document.createElement('div');\n",
              "          docLink.innerHTML = docLinkHtml;\n",
              "          element.appendChild(docLink);\n",
              "        }\n",
              "      </script>\n",
              "    </div>\n",
              "  </div>\n",
              "  "
            ]
          },
          "metadata": {},
          "execution_count": 18
        }
      ],
      "source": [
        "# WRITE SUBMISSION FILE\n",
        "test = pd.DataFrame(index=customers,data={'prediction': np.concatenate(test_preds)})\n",
        "sub = pd.read_csv('/content/sample_submission.csv')[['customer_ID']]\n",
        "sub['customer_ID_hash'] = sub['customer_ID'].copy()\n",
        "sub = sub.set_index('customer_ID_hash')\n",
        "sub = sub.merge(test[['prediction']], left_index=True, right_index=True, how='left')\n",
        "sub = sub.reset_index(drop=True)\n",
        "\n",
        "# DISPLAY PREDICTIONS\n",
        "sub.to_csv(f'submission_cat_v{VER}_seed{SEED}_fold{FOLDS}.csv',index=False)\n",
        "print('Submission file shape is', sub.shape )\n",
        "sub.head()"
      ]
    },
    {
      "cell_type": "code",
      "execution_count": 19,
      "id": "533e5941",
      "metadata": {
        "execution": {
          "iopub.execute_input": "2022-07-15T16:51:02.918871Z",
          "iopub.status.busy": "2022-07-15T16:51:02.918494Z",
          "iopub.status.idle": "2022-07-15T16:51:03.267833Z",
          "shell.execute_reply": "2022-07-15T16:51:03.266949Z"
        },
        "papermill": {
          "duration": 0.374502,
          "end_time": "2022-07-15T16:51:03.269960",
          "exception": false,
          "start_time": "2022-07-15T16:51:02.895458",
          "status": "completed"
        },
        "tags": [],
        "id": "533e5941",
        "outputId": "16c4663b-5b80-4334-99e8-a190f99dc2a4",
        "colab": {
          "base_uri": "https://localhost:8080/",
          "height": 281
        }
      },
      "outputs": [
        {
          "output_type": "display_data",
          "data": {
            "text/plain": [
              "<Figure size 432x288 with 1 Axes>"
            ],
            "image/png": "[encoded data removed]"
          },
          "metadata": {
            "needs_background": "light"
          }
        }
      ],
      "source": [
        "# PLOT PREDICTIONS\n",
        "plt.hist(sub.prediction, bins=100)\n",
        "plt.title('Test Predictions')\n",
        "plt.show()"
      ]
    },
    {
      "cell_type": "markdown",
      "id": "802623f7",
      "metadata": {
        "papermill": {
          "duration": 0.042841,
          "end_time": "2022-07-15T16:51:28.477165",
          "exception": false,
          "start_time": "2022-07-15T16:51:28.434324",
          "status": "completed"
        },
        "tags": [],
        "id": "802623f7"
      },
      "source": [
        "# Submit to Kaggle from Colab"
      ]
    },
    {
      "cell_type": "code",
      "execution_count": 20,
      "id": "efc54970",
      "metadata": {
        "execution": {
          "iopub.execute_input": "2022-07-15T16:51:28.552420Z",
          "iopub.status.busy": "2022-07-15T16:51:28.551829Z",
          "iopub.status.idle": "2022-07-15T16:51:28.557906Z",
          "shell.execute_reply": "2022-07-15T16:51:28.557166Z"
        },
        "papermill": {
          "duration": 0.048007,
          "end_time": "2022-07-15T16:51:28.561880",
          "exception": false,
          "start_time": "2022-07-15T16:51:28.513873",
          "status": "completed"
        },
        "tags": [],
        "id": "efc54970"
      },
      "outputs": [],
      "source": [
        "# Submit\n",
        "# !kaggle competitions submit -c amex-default-prediction -f submission_cat_v7_seed42_fold5.csv -m \"Run with seed 42 fold 5 last / s2\""
      ]
    },
    {
      "cell_type": "code",
      "execution_count": 21,
      "id": "aad5cc1a",
      "metadata": {
        "execution": {
          "iopub.execute_input": "2022-07-15T16:51:28.636400Z",
          "iopub.status.busy": "2022-07-15T16:51:28.635706Z",
          "iopub.status.idle": "2022-07-15T16:51:28.643060Z",
          "shell.execute_reply": "2022-07-15T16:51:28.640501Z"
        },
        "papermill": {
          "duration": 0.04911,
          "end_time": "2022-07-15T16:51:28.647823",
          "exception": false,
          "start_time": "2022-07-15T16:51:28.598713",
          "status": "completed"
        },
        "tags": [],
        "id": "aad5cc1a",
        "outputId": "17eb74f8-1563-4149-bf4c-851f7b2d2a78",
        "colab": {
          "base_uri": "https://localhost:8080/"
        }
      },
      "outputs": [
        {
          "output_type": "stream",
          "name": "stdout",
          "text": [
            "fileName                            date                 description                                               status    publicScore  privateScore  \n",
            "----------------------------------  -------------------  --------------------------------------------------------  --------  -----------  ------------  \n",
            "Amex Default Prediction - Ensemble  2022-07-28 14:38:46  Notebook Amex Default Prediction - Ensemble | Version 29  complete  0.798                      \n",
            "Amex Default Prediction - Ensemble  2022-07-28 14:34:35  Notebook Amex Default Prediction - Ensemble | Version 28  complete  0.798                      \n",
            "Amex Default Prediction - Ensemble  2022-07-28 13:10:11  Notebook Amex Default Prediction - Ensemble | Version 27  complete  0.798                      \n",
            "submission_lgb_v1_seed42_fold5.csv  2022-07-28 12:43:40  the first version. fe lag plus seed 52 fold 5 From colab  complete  0.798                      \n",
            "submission_lgb_v1_seed42_fold5.csv  2022-07-28 05:46:49  the first version. fe lag plus seed 52 fold 5 From colab  complete  0.798                      \n",
            "submission_xgb_v6_seed42_fold5.csv  2022-07-27 14:21:18  Run with (last - first) / s_2 seed 42 fold 5              complete  0.796                      \n",
            "submission_cat_v1_seed42_fold5.csv  2022-07-27 09:46:57  Run with seed 42 fold 5 last / s2                         complete  0.796                      \n",
            "submission_cat_v1_seed42_fold5.csv  2022-07-27 06:08:24  From colab seed 42 fold 5 lag plus                        complete  0.794                      \n",
            "submission_xgb_v5_seed42_fold5.csv  2022-07-27 02:53:07  xgb fold 5 seed 42 last / s2 lag                          complete  0.796                      \n",
            "submission_xgb_v1_seed42_fold5.csv  2022-07-26 16:34:13  From colab seed 42 fold 5 lag plus                        complete  0.795                      \n",
            "Amex Default Prediction - Ensemble  2022-07-26 16:18:30  Notebook Amex Default Prediction - Ensemble | Version 24  complete  0.798                      \n",
            "Amex Default Prediction - Ensemble  2022-07-26 15:17:31  Notebook Amex Default Prediction - Ensemble | Version 23  complete  0.798                      \n",
            "submission_xgb_v1_seed42_fold5.csv  2022-07-26 14:59:19  From colab seed 42 fold 5 lag plus                        complete  0.795                      \n",
            "submission_cat_v1_seed42_fold5.csv  2022-07-26 13:10:11  From colab seed 42 fold 5 lag plus                        complete  0.796                      \n",
            "Amex Default Prediction - Ensemble  2022-07-25 18:21:01  Notebook Amex Default Prediction - Ensemble | Version 22  complete  0.799                      \n",
            "submission_cat_v1_seed42_fold5.csv  2022-07-25 18:15:57  From colab seed 42 fold 5 lag plus                        complete  0.796                      \n",
            "Amex Default Prediction - Ensemble  2022-07-24 15:56:24  Notebook Amex Default Prediction - Ensemble | Version 20  complete  0.759                      \n",
            "Amex Default Prediction - Ensemble  2022-07-24 15:55:05  Notebook Amex Default Prediction - Ensemble | Version 19  complete  0.745                      \n",
            "Amex Default Prediction - Ensemble  2022-07-24 14:26:44  Notebook Amex Default Prediction - Ensemble | Version 16  complete  0.798                      \n",
            "Amex Default Prediction - Ensemble  2022-07-24 14:22:52  Notebook Amex Default Prediction - Ensemble | Version 15  complete  0.798                      \n",
            "submission_cat_v1_seed42_fold5.csv  2022-07-24 13:58:18  Run with round 2 cat                                      complete  0.796                      \n",
            "submission_lgb_v1_seed42_fold5.csv  2022-07-23 16:48:14  the first version. fe lag plus seed 52 fold 5 From colab  complete  0.797                      \n",
            "Amex Default Prediction - Ensemble  2022-07-23 11:15:04  Notebook Amex Default Prediction - Ensemble | Version 14  complete  0.798                      \n",
            "Amex Default Prediction - Ensemble  2022-07-23 11:08:12  Notebook Amex Default Prediction - Ensemble | Version 13  complete  0.798                      \n",
            "submission_xgb_v1_seed42_fold5.csv  2022-07-23 10:58:31  From colab seed 42 fold 5 lag plus                        complete  0.795                      \n",
            "submission_cat_v1_seed42_fold5.csv  2022-07-23 09:53:21  From colab seed 42 fold 5 lag plus                        complete  0.796                      \n",
            "Amex Default Prediction - Ensemble  2022-07-22 12:32:58  Notebook Amex Default Prediction - Ensemble | Version 12  complete  0.798                      \n",
            "Amex Default Prediction - Ensemble  2022-07-22 12:30:01  Notebook Amex Default Prediction - Ensemble | Version 11  complete  0.798                      \n",
            "submission_xgb_v1_seed42_fold2.csv  2022-07-22 12:19:29  From colab seed 42 fold 5 lag plus                        complete  0.794                      \n",
            "Amex Default Prediction - Ensemble  2022-07-21 12:48:16  Notebook Amex Default Prediction - Ensemble | Version 9   complete  0.798                      \n",
            "submission_xgb_v1_seed42_fold5.csv  2022-07-21 12:36:23  From colab seed 42 fold 5 lag plus                        complete  0.794                      \n",
            "Amex Default Prediction - Ensemble  2022-07-20 17:29:34  Notebook Amex Default Prediction - Ensemble | Version 8   complete  0.798                      \n",
            "Amex Default Prediction - Ensemble  2022-07-20 17:13:37  Notebook Amex Default Prediction - Ensemble | Version 7   complete  0.798                      \n",
            "Amex Default Prediction - Ensemble  2022-07-20 17:10:16  Notebook Amex Default Prediction - Ensemble | Version 6   complete  0.798                      \n",
            "Amex Default Prediction - Ensemble  2022-07-20 17:08:15  Notebook Amex Default Prediction - Ensemble | Version 5   complete  0.798                      \n",
            "submission_xgb_v1_seed42_fold5.csv  2022-07-20 16:58:31  From colab seed 42 fold 5 lag plus                        complete  0.794                      \n",
            "submission_cat_v1_seed42_fold5.csv  2022-07-19 17:31:52  From colab seed 42 fold 5 lag plus                        complete  0.795                      \n",
            "Amex Default Prediction - Ensemble  2022-07-19 16:37:40  Notebook Amex Default Prediction - Ensemble | Version 4   complete  0.798                      \n",
            "Amex Default Prediction - Ensemble  2022-07-19 16:34:17  Notebook Amex Default Prediction - Ensemble | Version 2   complete  0.798                      \n",
            "submission_cat_v1_seed42_fold5.csv  2022-07-19 12:11:59  From colab seed 42 fold 5 lag plus                        complete  0.795                      \n",
            "Amex Default Prediction with Cat    2022-07-18 23:01:33  Notebook Amex Default Prediction with Cat | Version 129   complete  0.798                      \n",
            "Amex Default Prediction with Cat    2022-07-18 22:58:51  Notebook Amex Default Prediction with Cat | Version 128   complete  0.798                      \n",
            "submission_cat_v1_seed42_fold5.csv  2022-07-18 22:27:50  From colab seed 42 fold 5 lag plus                        complete  0.795                      \n",
            "submission_lgb_v1_seed42_fold5.csv  2022-07-18 20:37:22  the first version. fe lag plus seed 52 fold 5 From colab  complete  0.797                      \n",
            "submission_cat_v1.csv               2022-07-18 06:30:57  From colab seed 42 fold 5 lag plus                        complete  0.795                      \n",
            "Amex Default Prediction with Cat    2022-07-16 16:14:20  Notebook Amex Default Prediction with Cat | Version 125   complete  0.794                      \n",
            "Amex Default Prediction with Cat    2022-07-15 16:33:32  Notebook Amex Default Prediction with Cat | Version 127   complete  0.798                      \n",
            "Amex Default Prediction with Cat    2022-07-15 16:24:25  Notebook Amex Default Prediction with Cat | Version 126   complete  0.798                      \n",
            "submission_cat_v123_seed52_794.csv  2022-07-15 16:12:09                                                            complete  0.795                      \n",
            "submission_cat_v123_0794.csv        2022-07-15 15:47:08                                                            complete  0.795                      \n"
          ]
        }
      ],
      "source": [
        "# Run after few seconds\n",
        "!kaggle competitions submissions amex-default-prediction"
      ]
    }
  ],
  "metadata": {
    "kernelspec": {
      "display_name": "Python 3",
      "language": "python",
      "name": "python3"
    },
    "language_info": {
      "codemirror_mode": {
        "name": "ipython",
        "version": 3
      },
      "file_extension": ".py",
      "mimetype": "text/x-python",
      "name": "python",
      "nbconvert_exporter": "python",
      "pygments_lexer": "ipython3",
      "version": "3.7.12"
    },
    "papermill": {
      "default_parameters": {},
      "duration": 2291.105208,
      "end_time": "2022-07-15T16:51:29.695242",
      "environment_variables": {},
      "exception": null,
      "input_path": "__notebook__.ipynb",
      "output_path": "__notebook__.ipynb",
      "parameters": {},
      "start_time": "2022-07-15T16:13:18.590034",
      "version": "2.3.4"
    },
    "colab": {
      "name": "amex-default-prediction-with-cat.ipynb",
      "provenance": [],
      "machine_shape": "hm"
    },
    "accelerator": "GPU",
    "gpuClass": "standard"
  },
  "nbformat": 4,
  "nbformat_minor": 5
}
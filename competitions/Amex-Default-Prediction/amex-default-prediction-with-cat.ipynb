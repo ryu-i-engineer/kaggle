{
 "cells": [
  {
   "cell_type": "markdown",
   "id": "311f9baa",
   "metadata": {
    "papermill": {
     "duration": 0.009905,
     "end_time": "2022-07-01T17:17:06.293632",
     "exception": false,
     "start_time": "2022-07-01T17:17:06.283727",
     "status": "completed"
    },
    "tags": []
   },
   "source": [
    "# Get env info"
   ]
  },
  {
   "cell_type": "code",
   "execution_count": 1,
   "id": "c355e7e8",
   "metadata": {
    "execution": {
     "iopub.execute_input": "2022-07-01T17:17:06.313870Z",
     "iopub.status.busy": "2022-07-01T17:17:06.312879Z",
     "iopub.status.idle": "2022-07-01T17:17:06.324212Z",
     "shell.execute_reply": "2022-07-01T17:17:06.323518Z"
    },
    "papermill": {
     "duration": 0.022998,
     "end_time": "2022-07-01T17:17:06.325897",
     "exception": false,
     "start_time": "2022-07-01T17:17:06.302899",
     "status": "completed"
    },
    "tags": []
   },
   "outputs": [],
   "source": [
    "import os\n",
    "is_env_colab = True\n",
    "\n",
    "if \"kaggle\" in os.path.abspath(\".\"):\n",
    "    is_env_colab = False"
   ]
  },
  {
   "cell_type": "markdown",
   "id": "02594a4a",
   "metadata": {
    "papermill": {
     "duration": 0.008631,
     "end_time": "2022-07-01T17:17:06.343204",
     "exception": false,
     "start_time": "2022-07-01T17:17:06.334573",
     "status": "completed"
    },
    "tags": []
   },
   "source": [
    "# Prepare for colab"
   ]
  },
  {
   "cell_type": "code",
   "execution_count": 2,
   "id": "20782cb4",
   "metadata": {
    "execution": {
     "iopub.execute_input": "2022-07-01T17:17:06.362122Z",
     "iopub.status.busy": "2022-07-01T17:17:06.361865Z",
     "iopub.status.idle": "2022-07-01T17:17:06.365711Z",
     "shell.execute_reply": "2022-07-01T17:17:06.364957Z"
    },
    "papermill": {
     "duration": 0.015044,
     "end_time": "2022-07-01T17:17:06.367388",
     "exception": false,
     "start_time": "2022-07-01T17:17:06.352344",
     "status": "completed"
    },
    "tags": []
   },
   "outputs": [],
   "source": [
    "if is_env_colab:\n",
    "    !pip install catboost"
   ]
  },
  {
   "cell_type": "markdown",
   "id": "728b1e9d",
   "metadata": {
    "papermill": {
     "duration": 0.009304,
     "end_time": "2022-07-01T17:17:06.385384",
     "exception": false,
     "start_time": "2022-07-01T17:17:06.376080",
     "status": "completed"
    },
    "tags": []
   },
   "source": [
    "# Kaggle Set up"
   ]
  },
  {
   "cell_type": "code",
   "execution_count": 3,
   "id": "82787216",
   "metadata": {
    "execution": {
     "iopub.execute_input": "2022-07-01T17:17:06.403950Z",
     "iopub.status.busy": "2022-07-01T17:17:06.403704Z",
     "iopub.status.idle": "2022-07-01T17:17:06.407213Z",
     "shell.execute_reply": "2022-07-01T17:17:06.406509Z"
    },
    "papermill": {
     "duration": 0.014797,
     "end_time": "2022-07-01T17:17:06.409007",
     "exception": false,
     "start_time": "2022-07-01T17:17:06.394210",
     "status": "completed"
    },
    "tags": []
   },
   "outputs": [],
   "source": [
    "if is_env_colab:\n",
    "    !pip install kaggle"
   ]
  },
  {
   "cell_type": "markdown",
   "id": "72cdb999",
   "metadata": {
    "papermill": {
     "duration": 0.008859,
     "end_time": "2022-07-01T17:17:06.426683",
     "exception": false,
     "start_time": "2022-07-01T17:17:06.417824",
     "status": "completed"
    },
    "tags": []
   },
   "source": [
    "## Upload API Token"
   ]
  },
  {
   "cell_type": "code",
   "execution_count": 4,
   "id": "0973ceee",
   "metadata": {
    "execution": {
     "iopub.execute_input": "2022-07-01T17:17:06.445564Z",
     "iopub.status.busy": "2022-07-01T17:17:06.444976Z",
     "iopub.status.idle": "2022-07-01T17:17:06.450949Z",
     "shell.execute_reply": "2022-07-01T17:17:06.450247Z"
    },
    "papermill": {
     "duration": 0.017105,
     "end_time": "2022-07-01T17:17:06.452499",
     "exception": false,
     "start_time": "2022-07-01T17:17:06.435394",
     "status": "completed"
    },
    "tags": []
   },
   "outputs": [],
   "source": [
    "if is_env_colab:\n",
    "    from google.colab import files\n",
    "\n",
    "    uploaded = files.upload()\n",
    "\n",
    "    for fn in uploaded.keys():\n",
    "      print('User uploaded file \"{name}\" with length {length} bytes'.format(\n",
    "          name=fn, length=len(uploaded[fn])))\n",
    "\n",
    "    # Then move kaggle.json into the folder where the API expects to find it.\n",
    "    !mkdir -p ~/.kaggle/ && mv kaggle.json ~/.kaggle/ && chmod 600 ~/.kaggle/kaggle.json"
   ]
  },
  {
   "cell_type": "markdown",
   "id": "4848f00b",
   "metadata": {
    "papermill": {
     "duration": 0.008717,
     "end_time": "2022-07-01T17:17:06.470319",
     "exception": false,
     "start_time": "2022-07-01T17:17:06.461602",
     "status": "completed"
    },
    "tags": []
   },
   "source": [
    "## Download and unzip dataset"
   ]
  },
  {
   "cell_type": "code",
   "execution_count": 5,
   "id": "586800b1",
   "metadata": {
    "execution": {
     "iopub.execute_input": "2022-07-01T17:17:06.490265Z",
     "iopub.status.busy": "2022-07-01T17:17:06.489584Z",
     "iopub.status.idle": "2022-07-01T17:17:06.494316Z",
     "shell.execute_reply": "2022-07-01T17:17:06.493646Z"
    },
    "papermill": {
     "duration": 0.016619,
     "end_time": "2022-07-01T17:17:06.496015",
     "exception": false,
     "start_time": "2022-07-01T17:17:06.479396",
     "status": "completed"
    },
    "tags": []
   },
   "outputs": [],
   "source": [
    "if is_env_colab:\n",
    "    !kaggle datasets download -d huseyincot/amex-agg-data-pickle\n",
    "    !unzip /content/amex-agg-data-pickle.zip"
   ]
  },
  {
   "cell_type": "code",
   "execution_count": 6,
   "id": "e27014f2",
   "metadata": {
    "execution": {
     "iopub.execute_input": "2022-07-01T17:17:06.514786Z",
     "iopub.status.busy": "2022-07-01T17:17:06.514284Z",
     "iopub.status.idle": "2022-07-01T17:17:06.518861Z",
     "shell.execute_reply": "2022-07-01T17:17:06.518156Z"
    },
    "papermill": {
     "duration": 0.015546,
     "end_time": "2022-07-01T17:17:06.520527",
     "exception": false,
     "start_time": "2022-07-01T17:17:06.504981",
     "status": "completed"
    },
    "tags": []
   },
   "outputs": [],
   "source": [
    "if is_env_colab:\n",
    "    !kaggle competitions download -c amex-default-prediction -f sample_submission.csv\n",
    "    !unzip /content/sample_submission.csv.zip"
   ]
  },
  {
   "cell_type": "markdown",
   "id": "231b2cf2",
   "metadata": {
    "papermill": {
     "duration": 0.008466,
     "end_time": "2022-07-01T17:17:06.538261",
     "exception": false,
     "start_time": "2022-07-01T17:17:06.529795",
     "status": "completed"
    },
    "tags": []
   },
   "source": [
    "# Settings"
   ]
  },
  {
   "cell_type": "code",
   "execution_count": 7,
   "id": "7497081e",
   "metadata": {
    "_cell_guid": "b1076dfc-b9ad-4769-8c92-a6c4dae69d19",
    "_uuid": "8f2839f25d086af736a60e9eeb907d3b93b6e0e5",
    "execution": {
     "iopub.execute_input": "2022-07-01T17:17:06.557936Z",
     "iopub.status.busy": "2022-07-01T17:17:06.557408Z",
     "iopub.status.idle": "2022-07-01T17:17:07.816496Z",
     "shell.execute_reply": "2022-07-01T17:17:07.815243Z"
    },
    "papermill": {
     "duration": 1.271793,
     "end_time": "2022-07-01T17:17:07.819355",
     "exception": false,
     "start_time": "2022-07-01T17:17:06.547562",
     "status": "completed"
    },
    "tags": []
   },
   "outputs": [],
   "source": [
    "import pandas as pd\n",
    "import numpy as np\n",
    "import matplotlib.pyplot as plt\n",
    "\n",
    "from catboost import CatBoostClassifier, Pool\n",
    "from sklearn.preprocessing import LabelEncoder\n",
    "from sklearn.model_selection import KFold\n",
    "\n",
    "import os\n",
    "import gc; gc.enable()\n",
    "\n",
    "import warnings\n",
    "warnings.filterwarnings('ignore')"
   ]
  },
  {
   "cell_type": "code",
   "execution_count": 8,
   "id": "fe304be2",
   "metadata": {
    "execution": {
     "iopub.execute_input": "2022-07-01T17:17:07.859764Z",
     "iopub.status.busy": "2022-07-01T17:17:07.859399Z",
     "iopub.status.idle": "2022-07-01T17:17:07.864561Z",
     "shell.execute_reply": "2022-07-01T17:17:07.863844Z"
    },
    "papermill": {
     "duration": 0.033159,
     "end_time": "2022-07-01T17:17:07.867419",
     "exception": false,
     "start_time": "2022-07-01T17:17:07.834260",
     "status": "completed"
    },
    "tags": []
   },
   "outputs": [],
   "source": [
    "VER=1\n",
    "SEED = 42\n",
    "FOLDS = 5\n",
    "\n",
    "cat_features = [\"B_30\", \"B_38\", \"D_114\", \"D_116\", \"D_117\", \"D_120\", \"D_126\", \"D_63\", \"D_64\", \"D_66\", \"D_68\"]"
   ]
  },
  {
   "cell_type": "code",
   "execution_count": 9,
   "id": "bf3648af",
   "metadata": {
    "execution": {
     "iopub.execute_input": "2022-07-01T17:17:07.901713Z",
     "iopub.status.busy": "2022-07-01T17:17:07.901343Z",
     "iopub.status.idle": "2022-07-01T17:17:07.905377Z",
     "shell.execute_reply": "2022-07-01T17:17:07.904750Z"
    },
    "papermill": {
     "duration": 0.023506,
     "end_time": "2022-07-01T17:17:07.909037",
     "exception": false,
     "start_time": "2022-07-01T17:17:07.885531",
     "status": "completed"
    },
    "tags": []
   },
   "outputs": [],
   "source": [
    "parent_dir = \"../input/\"\n",
    "if is_env_colab:\n",
    "    parent_dir = \"/content/\"    "
   ]
  },
  {
   "cell_type": "code",
   "execution_count": 10,
   "id": "c53ca0d5",
   "metadata": {
    "collapsed": true,
    "execution": {
     "iopub.execute_input": "2022-07-01T17:17:07.939046Z",
     "iopub.status.busy": "2022-07-01T17:17:07.938737Z",
     "iopub.status.idle": "2022-07-01T17:18:06.860327Z",
     "shell.execute_reply": "2022-07-01T17:18:06.859500Z"
    },
    "jupyter": {
     "outputs_hidden": true
    },
    "papermill": {
     "duration": 58.939612,
     "end_time": "2022-07-01T17:18:06.862668",
     "exception": false,
     "start_time": "2022-07-01T17:17:07.923056",
     "status": "completed"
    },
    "tags": []
   },
   "outputs": [],
   "source": [
    "train = pd.read_pickle(parent_dir + \"amex-agg-data-pickle/train_agg.pkl\", compression=\"gzip\")\n",
    "train = train.reset_index(level=0)\n",
    "\n",
    "test = pd.read_pickle(parent_dir + \"amex-agg-data-pickle/test_agg.pkl\", compression=\"gzip\")\n",
    "test = test.reset_index(level=0)"
   ]
  },
  {
   "cell_type": "code",
   "execution_count": 11,
   "id": "9310c352",
   "metadata": {
    "execution": {
     "iopub.execute_input": "2022-07-01T17:18:06.882089Z",
     "iopub.status.busy": "2022-07-01T17:18:06.881427Z",
     "iopub.status.idle": "2022-07-01T17:18:12.915331Z",
     "shell.execute_reply": "2022-07-01T17:18:12.914502Z"
    },
    "papermill": {
     "duration": 6.045523,
     "end_time": "2022-07-01T17:18:12.917392",
     "exception": false,
     "start_time": "2022-07-01T17:18:06.871869",
     "status": "completed"
    },
    "tags": []
   },
   "outputs": [],
   "source": [
    "cat_features_last = [f\"{cf}_last\" for cf in cat_features]\n",
    "\n",
    "le_encoder = LabelEncoder()\n",
    "for categorical_feature in cat_features_last:\n",
    "    train[categorical_feature] = le_encoder.fit_transform(train[categorical_feature])\n",
    "    test[categorical_feature] = le_encoder.transform(test[categorical_feature])"
   ]
  },
  {
   "cell_type": "code",
   "execution_count": 12,
   "id": "d1e8622d",
   "metadata": {
    "execution": {
     "iopub.execute_input": "2022-07-01T17:18:12.936976Z",
     "iopub.status.busy": "2022-07-01T17:18:12.936342Z",
     "iopub.status.idle": "2022-07-01T17:18:23.256106Z",
     "shell.execute_reply": "2022-07-01T17:18:23.255290Z"
    },
    "papermill": {
     "duration": 10.331468,
     "end_time": "2022-07-01T17:18:23.258191",
     "exception": false,
     "start_time": "2022-07-01T17:18:12.926723",
     "status": "completed"
    },
    "tags": []
   },
   "outputs": [],
   "source": [
    "# https://www.kaggle.com/code/ragnar123/amex-lgbm-dart-cv-0-7963\n",
    "# Round last float features to 2 decimal place\n",
    "float_cols = list(train.dtypes[(train.dtypes == 'float16') | (train.dtypes == 'float32') | (train.dtypes == 'float64')].index)\n",
    "float_cols = [col for col in float_cols if 'last' in col]\n",
    "\n",
    "train[float_cols] = train[float_cols].round(3)\n",
    "test[float_cols] = test[float_cols].round(3)"
   ]
  },
  {
   "cell_type": "code",
   "execution_count": 13,
   "id": "3ca193c1",
   "metadata": {
    "execution": {
     "iopub.execute_input": "2022-07-01T17:18:23.277383Z",
     "iopub.status.busy": "2022-07-01T17:18:23.277101Z",
     "iopub.status.idle": "2022-07-01T17:18:25.934084Z",
     "shell.execute_reply": "2022-07-01T17:18:25.933134Z"
    },
    "papermill": {
     "duration": 2.669035,
     "end_time": "2022-07-01T17:18:25.936475",
     "exception": false,
     "start_time": "2022-07-01T17:18:23.267440",
     "status": "completed"
    },
    "tags": []
   },
   "outputs": [],
   "source": [
    "train = train.set_index('customer_ID')\n",
    "train = train.sort_index().reset_index()\n",
    "FEATURES = train.drop(columns=['customer_ID', 'target']).columns"
   ]
  },
  {
   "cell_type": "code",
   "execution_count": 14,
   "id": "e2266ca3",
   "metadata": {
    "execution": {
     "iopub.execute_input": "2022-07-01T17:18:25.955964Z",
     "iopub.status.busy": "2022-07-01T17:18:25.955376Z",
     "iopub.status.idle": "2022-07-01T17:18:25.962833Z",
     "shell.execute_reply": "2022-07-01T17:18:25.961733Z"
    },
    "papermill": {
     "duration": 0.018864,
     "end_time": "2022-07-01T17:18:25.964571",
     "exception": false,
     "start_time": "2022-07-01T17:18:25.945707",
     "status": "completed"
    },
    "tags": []
   },
   "outputs": [],
   "source": [
    "# https://www.kaggle.com/competitions/amex-default-prediction/discussion/328020\n",
    "# https://www.kaggle.com/code/rohanrao/amex-competition-metric-implementations\n",
    "def amex_metric_np(target: np.ndarray, preds: np.ndarray) -> float:\n",
    "    indices = np.argsort(preds)[::-1]\n",
    "    preds, target = preds[indices], target[indices]\n",
    "\n",
    "    n_pos = np.sum(target)\n",
    "    n_neg = target.shape[0] - n_pos\n",
    "    \n",
    "    weight = 20.0 - target * 19.0\n",
    "    cum_norm_weight = (weight * (1 / weight.sum())).cumsum()\n",
    "    four_pct_mask = cum_norm_weight <= 0.04\n",
    "    d = np.sum(target[four_pct_mask]) / n_pos\n",
    "    \n",
    "    lorentz = (target * (1 / n_pos)).cumsum()\n",
    "    gini = ((lorentz - cum_norm_weight) * weight).sum()\n",
    "    gini_max = 10 * n_neg * (1 - 19 / (n_pos + 20 * n_neg))\n",
    "\n",
    "    g = gini / gini_max\n",
    "\n",
    "    return 0.5 * (g + d)"
   ]
  },
  {
   "cell_type": "code",
   "execution_count": 15,
   "id": "dd0ea0b3",
   "metadata": {
    "execution": {
     "iopub.execute_input": "2022-07-01T17:18:25.983865Z",
     "iopub.status.busy": "2022-07-01T17:18:25.983222Z",
     "iopub.status.idle": "2022-07-01T17:18:25.988831Z",
     "shell.execute_reply": "2022-07-01T17:18:25.988178Z"
    },
    "papermill": {
     "duration": 0.017044,
     "end_time": "2022-07-01T17:18:25.990513",
     "exception": false,
     "start_time": "2022-07-01T17:18:25.973469",
     "status": "completed"
    },
    "tags": []
   },
   "outputs": [],
   "source": [
    "cat_params = {\n",
    "    'iterations':26000,\n",
    "    'random_state':SEED,\n",
    "    'learning_rate':0.02,\n",
    "    \n",
    "    'depth': 8,\n",
    "    'l2_leaf_reg':28.0,\n",
    "    'one_hot_max_size':70,\n",
    "    'random_strength': 0.5,\n",
    "    'bagging_temperature': 0.75,\n",
    "    'task_type':\"GPU\",\n",
    "    'border_count':128,\n",
    "}"
   ]
  },
  {
   "cell_type": "code",
   "execution_count": 16,
   "id": "26cded75",
   "metadata": {
    "execution": {
     "iopub.execute_input": "2022-07-01T17:18:26.009407Z",
     "iopub.status.busy": "2022-07-01T17:18:26.008971Z",
     "iopub.status.idle": "2022-07-01T18:02:50.535003Z",
     "shell.execute_reply": "2022-07-01T18:02:50.534142Z"
    },
    "papermill": {
     "duration": 2664.537451,
     "end_time": "2022-07-01T18:02:50.536952",
     "exception": false,
     "start_time": "2022-07-01T17:18:25.999501",
     "status": "completed"
    },
    "tags": []
   },
   "outputs": [
    {
     "name": "stdout",
     "output_type": "stream",
     "text": [
      "#########################\n",
      "### Fold 1\n",
      "### Train size 367130 Valid size 91783\n",
      "### Training with 100% fold data...\n",
      "#########################\n",
      "0:\tlearn: 0.6659632\ttest: 0.6659526\tbest: 0.6659526 (0)\ttotal: 59.1ms\tremaining: 25m 36s\n",
      "500:\tlearn: 0.2175350\ttest: 0.2239167\tbest: 0.2239167 (500)\ttotal: 23.7s\tremaining: 20m 8s\n",
      "1000:\tlearn: 0.2085026\ttest: 0.2207556\tbest: 0.2207556 (1000)\ttotal: 47s\tremaining: 19m 33s\n",
      "1500:\tlearn: 0.2016131\ttest: 0.2197070\tbest: 0.2197070 (1500)\ttotal: 1m 10s\tremaining: 19m 9s\n",
      "2000:\tlearn: 0.1954740\ttest: 0.2191069\tbest: 0.2191069 (2000)\ttotal: 1m 33s\tremaining: 18m 44s\n",
      "2500:\tlearn: 0.1898049\ttest: 0.2186688\tbest: 0.2186688 (2500)\ttotal: 1m 56s\tremaining: 18m 15s\n",
      "3000:\tlearn: 0.1842567\ttest: 0.2183848\tbest: 0.2183848 (3000)\ttotal: 2m 20s\tremaining: 17m 54s\n",
      "3500:\tlearn: 0.1790393\ttest: 0.2182111\tbest: 0.2182096 (3489)\ttotal: 2m 43s\tremaining: 17m 32s\n",
      "4000:\tlearn: 0.1740123\ttest: 0.2180422\tbest: 0.2180419 (3998)\ttotal: 3m 6s\tremaining: 17m 7s\n",
      "4500:\tlearn: 0.1692465\ttest: 0.2179194\tbest: 0.2179161 (4493)\ttotal: 3m 31s\tremaining: 16m 48s\n",
      "5000:\tlearn: 0.1645013\ttest: 0.2178259\tbest: 0.2178129 (4944)\ttotal: 3m 55s\tremaining: 16m 27s\n",
      "5500:\tlearn: 0.1600810\ttest: 0.2177139\tbest: 0.2177117 (5489)\ttotal: 4m 18s\tremaining: 16m 3s\n",
      "6000:\tlearn: 0.1556085\ttest: 0.2176572\tbest: 0.2176413 (5871)\ttotal: 4m 42s\tremaining: 15m 41s\n",
      "6500:\tlearn: 0.1514188\ttest: 0.2175642\tbest: 0.2175632 (6496)\ttotal: 5m 6s\tremaining: 15m 18s\n",
      "7000:\tlearn: 0.1473903\ttest: 0.2175043\tbest: 0.2174984 (6993)\ttotal: 5m 29s\tremaining: 14m 55s\n",
      "bestTest = 0.2174984066\n",
      "bestIteration = 6993\n",
      "Shrink model to first 6994 iterations.\n",
      "Amex Metric = 0.7927736433286274 \n",
      "\n",
      "#########################\n",
      "### Fold 2\n",
      "### Train size 367130 Valid size 91783\n",
      "### Training with 100% fold data...\n",
      "#########################\n",
      "0:\tlearn: 0.6657834\ttest: 0.6657844\tbest: 0.6657844 (0)\ttotal: 50.4ms\tremaining: 21m 49s\n",
      "500:\tlearn: 0.2173718\ttest: 0.2236686\tbest: 0.2236686 (500)\ttotal: 23.8s\tremaining: 20m 12s\n",
      "1000:\tlearn: 0.2081700\ttest: 0.2205797\tbest: 0.2205797 (1000)\ttotal: 47.2s\tremaining: 19m 38s\n",
      "1500:\tlearn: 0.2012877\ttest: 0.2194929\tbest: 0.2194927 (1498)\ttotal: 1m 9s\tremaining: 19m 2s\n",
      "2000:\tlearn: 0.1951064\ttest: 0.2188513\tbest: 0.2188513 (2000)\ttotal: 1m 33s\tremaining: 18m 42s\n",
      "2500:\tlearn: 0.1894315\ttest: 0.2184103\tbest: 0.2184079 (2499)\ttotal: 1m 57s\tremaining: 18m 21s\n",
      "3000:\tlearn: 0.1839543\ttest: 0.2180896\tbest: 0.2180896 (3000)\ttotal: 2m 20s\tremaining: 17m 59s\n",
      "3500:\tlearn: 0.1787295\ttest: 0.2178785\tbest: 0.2178756 (3480)\ttotal: 2m 43s\tremaining: 17m 32s\n",
      "4000:\tlearn: 0.1736438\ttest: 0.2176666\tbest: 0.2176653 (3994)\ttotal: 3m 7s\tremaining: 17m 12s\n",
      "4500:\tlearn: 0.1688285\ttest: 0.2175114\tbest: 0.2175111 (4499)\ttotal: 3m 31s\tremaining: 16m 50s\n",
      "5000:\tlearn: 0.1641997\ttest: 0.2174090\tbest: 0.2174076 (4997)\ttotal: 3m 54s\tremaining: 16m 25s\n",
      "5500:\tlearn: 0.1597884\ttest: 0.2173283\tbest: 0.2173278 (5497)\ttotal: 4m 18s\tremaining: 16m 3s\n",
      "6000:\tlearn: 0.1554509\ttest: 0.2172248\tbest: 0.2172167 (5981)\ttotal: 4m 42s\tremaining: 15m 41s\n",
      "6500:\tlearn: 0.1512737\ttest: 0.2171355\tbest: 0.2171288 (6369)\ttotal: 5m 6s\tremaining: 15m 18s\n",
      "7000:\tlearn: 0.1471582\ttest: 0.2170164\tbest: 0.2170164 (7000)\ttotal: 5m 29s\tremaining: 14m 54s\n",
      "bestTest = 0.2170092475\n",
      "bestIteration = 7082\n",
      "Shrink model to first 7083 iterations.\n",
      "Amex Metric = 0.794476692956684 \n",
      "\n",
      "#########################\n",
      "### Fold 3\n",
      "### Train size 367130 Valid size 91783\n",
      "### Training with 100% fold data...\n",
      "#########################\n",
      "0:\tlearn: 0.6660803\ttest: 0.6659873\tbest: 0.6659873 (0)\ttotal: 52ms\tremaining: 22m 32s\n",
      "500:\tlearn: 0.2180113\ttest: 0.2210583\tbest: 0.2210583 (500)\ttotal: 23.8s\tremaining: 20m 8s\n",
      "1000:\tlearn: 0.2089894\ttest: 0.2179475\tbest: 0.2179475 (1000)\ttotal: 47.2s\tremaining: 19m 38s\n",
      "1500:\tlearn: 0.2021451\ttest: 0.2167758\tbest: 0.2167758 (1500)\ttotal: 1m 9s\tremaining: 18m 59s\n",
      "2000:\tlearn: 0.1960168\ttest: 0.2161262\tbest: 0.2161262 (2000)\ttotal: 1m 33s\tremaining: 18m 39s\n",
      "2500:\tlearn: 0.1902180\ttest: 0.2156849\tbest: 0.2156833 (2497)\ttotal: 1m 56s\tremaining: 18m 18s\n",
      "3000:\tlearn: 0.1848991\ttest: 0.2153727\tbest: 0.2153727 (3000)\ttotal: 2m 20s\tremaining: 17m 57s\n",
      "3500:\tlearn: 0.1797064\ttest: 0.2151576\tbest: 0.2151527 (3493)\ttotal: 2m 43s\tremaining: 17m 28s\n",
      "4000:\tlearn: 0.1748423\ttest: 0.2149948\tbest: 0.2149924 (3996)\ttotal: 3m 6s\tremaining: 17m 6s\n",
      "4500:\tlearn: 0.1699943\ttest: 0.2148178\tbest: 0.2148161 (4484)\ttotal: 3m 30s\tremaining: 16m 45s\n",
      "5000:\tlearn: 0.1654727\ttest: 0.2147081\tbest: 0.2147004 (4962)\ttotal: 3m 53s\tremaining: 16m 19s\n",
      "5500:\tlearn: 0.1609177\ttest: 0.2146038\tbest: 0.2146038 (5500)\ttotal: 4m 16s\tremaining: 15m 56s\n",
      "6000:\tlearn: 0.1565352\ttest: 0.2145236\tbest: 0.2145176 (5919)\ttotal: 4m 40s\tremaining: 15m 35s\n",
      "6500:\tlearn: 0.1522863\ttest: 0.2144624\tbest: 0.2144608 (6483)\ttotal: 5m 4s\tremaining: 15m 14s\n",
      "7000:\tlearn: 0.1481599\ttest: 0.2144026\tbest: 0.2143996 (6997)\ttotal: 5m 28s\tremaining: 14m 50s\n",
      "bestTest = 0.2143664864\n",
      "bestIteration = 7183\n",
      "Shrink model to first 7184 iterations.\n",
      "Amex Metric = 0.7950938856453935 \n",
      "\n",
      "#########################\n",
      "### Fold 4\n",
      "### Train size 367131 Valid size 91782\n",
      "### Training with 100% fold data...\n",
      "#########################\n",
      "0:\tlearn: 0.6657681\ttest: 0.6658237\tbest: 0.6658237 (0)\ttotal: 50.7ms\tremaining: 21m 58s\n",
      "500:\tlearn: 0.2173063\ttest: 0.2241071\tbest: 0.2241071 (500)\ttotal: 24.1s\tremaining: 20m 26s\n",
      "1000:\tlearn: 0.2084732\ttest: 0.2209902\tbest: 0.2209902 (1000)\ttotal: 47.6s\tremaining: 19m 48s\n",
      "1500:\tlearn: 0.2015019\ttest: 0.2197830\tbest: 0.2197830 (1500)\ttotal: 1m 11s\tremaining: 19m 20s\n",
      "2000:\tlearn: 0.1953303\ttest: 0.2191146\tbest: 0.2191116 (1998)\ttotal: 1m 34s\tremaining: 18m 48s\n",
      "2500:\tlearn: 0.1895977\ttest: 0.2187370\tbest: 0.2187370 (2500)\ttotal: 1m 57s\tremaining: 18m 28s\n",
      "3000:\tlearn: 0.1841219\ttest: 0.2184939\tbest: 0.2184938 (2999)\ttotal: 2m 21s\tremaining: 18m 5s\n",
      "3500:\tlearn: 0.1790000\ttest: 0.2183254\tbest: 0.2183216 (3497)\ttotal: 2m 44s\tremaining: 17m 38s\n",
      "4000:\tlearn: 0.1740252\ttest: 0.2181658\tbest: 0.2181637 (3986)\ttotal: 3m 8s\tremaining: 17m 15s\n",
      "4500:\tlearn: 0.1691227\ttest: 0.2180342\tbest: 0.2180334 (4496)\ttotal: 3m 32s\tremaining: 16m 53s\n",
      "5000:\tlearn: 0.1645158\ttest: 0.2179494\tbest: 0.2179494 (5000)\ttotal: 3m 56s\tremaining: 16m 31s\n",
      "5500:\tlearn: 0.1600047\ttest: 0.2178778\tbest: 0.2178750 (5430)\ttotal: 4m 19s\tremaining: 16m 5s\n",
      "bestTest = 0.2178411932\n",
      "bestIteration = 5618\n",
      "Shrink model to first 5619 iterations.\n",
      "Amex Metric = 0.7894353867181823 \n",
      "\n",
      "#########################\n",
      "### Fold 5\n",
      "### Train size 367131 Valid size 91782\n",
      "### Training with 100% fold data...\n",
      "#########################\n",
      "0:\tlearn: 0.6658479\ttest: 0.6660020\tbest: 0.6660020 (0)\ttotal: 52.5ms\tremaining: 22m 44s\n",
      "500:\tlearn: 0.2170454\ttest: 0.2254596\tbest: 0.2254596 (500)\ttotal: 24.8s\tremaining: 21m 1s\n",
      "1000:\tlearn: 0.2081520\ttest: 0.2223695\tbest: 0.2223692 (999)\ttotal: 49s\tremaining: 20m 24s\n",
      "1500:\tlearn: 0.2015208\ttest: 0.2212780\tbest: 0.2212780 (1500)\ttotal: 1m 12s\tremaining: 19m 43s\n",
      "2000:\tlearn: 0.1953278\ttest: 0.2205986\tbest: 0.2205986 (2000)\ttotal: 1m 36s\tremaining: 19m 17s\n",
      "2500:\tlearn: 0.1897578\ttest: 0.2200781\tbest: 0.2200781 (2500)\ttotal: 2m\tremaining: 18m 53s\n",
      "3000:\tlearn: 0.1842960\ttest: 0.2197992\tbest: 0.2197992 (3000)\ttotal: 2m 25s\tremaining: 18m 34s\n",
      "3500:\tlearn: 0.1791316\ttest: 0.2195693\tbest: 0.2195680 (3499)\ttotal: 2m 48s\tremaining: 18m 4s\n",
      "4000:\tlearn: 0.1742579\ttest: 0.2193708\tbest: 0.2193704 (3999)\ttotal: 3m 12s\tremaining: 17m 39s\n",
      "4500:\tlearn: 0.1693980\ttest: 0.2191884\tbest: 0.2191884 (4500)\ttotal: 3m 37s\tremaining: 17m 17s\n",
      "5000:\tlearn: 0.1648094\ttest: 0.2190886\tbest: 0.2190869 (4997)\ttotal: 4m 1s\tremaining: 16m 53s\n",
      "5500:\tlearn: 0.1602875\ttest: 0.2189802\tbest: 0.2189796 (5499)\ttotal: 4m 25s\tremaining: 16m 27s\n",
      "6000:\tlearn: 0.1559771\ttest: 0.2188954\tbest: 0.2188951 (5996)\ttotal: 4m 49s\tremaining: 16m 4s\n",
      "6500:\tlearn: 0.1517808\ttest: 0.2188262\tbest: 0.2188140 (6464)\ttotal: 5m 13s\tremaining: 15m 40s\n",
      "7000:\tlearn: 0.1477257\ttest: 0.2187921\tbest: 0.2187865 (6863)\ttotal: 5m 38s\tremaining: 15m 17s\n",
      "7500:\tlearn: 0.1438585\ttest: 0.2187617\tbest: 0.2187435 (7412)\ttotal: 6m 1s\tremaining: 14m 52s\n",
      "bestTest = 0.2187435309\n",
      "bestIteration = 7412\n",
      "Shrink model to first 7413 iterations.\n",
      "Amex Metric = 0.7936104958293146 \n",
      "\n",
      "#########################\n",
      "Overall Amex metric: 0.7931796359807994\n"
     ]
    }
   ],
   "source": [
    "importances = []\n",
    "oof = []\n",
    "gc.collect()\n",
    "\n",
    "clf = CatBoostClassifier(**cat_params)\n",
    "skf = KFold(n_splits=FOLDS, shuffle=True, random_state=SEED)\n",
    "for fold,(train_idx, valid_idx) in enumerate(skf.split(train, train.target)):\n",
    "    \n",
    "    print('#'*25)\n",
    "    print('### Fold',fold+1)\n",
    "    print('### Train size',len(train_idx),'Valid size',len(valid_idx))\n",
    "    print(f'### Training with 100% fold data...')\n",
    "    print('#'*25)\n",
    "    \n",
    "    # TRAIN, VALID, TEST FOR FOLD K\n",
    "    X_train = train.loc[train_idx, FEATURES]\n",
    "    X_valid = train.target.iloc[train_idx]\n",
    "    y_train = train.loc[valid_idx, FEATURES]\n",
    "    y_valid = train.target.iloc[valid_idx]\n",
    "    \n",
    "    # TRAIN MODEL FOLD K\n",
    "    model = clf.fit(X_train,\n",
    "                    X_valid,\n",
    "                    cat_features=cat_features_last,\n",
    "                    eval_set=[(y_train, y_valid)],\n",
    "                    use_best_model=True,\n",
    "                    early_stopping_rounds=300,\n",
    "                    verbose_eval=500)\n",
    "    model.save_model(f'CAT_v{VER}_fold{fold}.cbm')\n",
    "    \n",
    "    # GET FEATURE IMPORTANCE FOR FOLD K\n",
    "    dd = model.feature_importances_\n",
    "    df = pd.DataFrame({'feature':FEATURES,f'importance_{fold}':dd})\n",
    "    importances.append(df)\n",
    "            \n",
    "    # INFER OOF FOLD K\n",
    "    oof_preds = model.predict_proba(y_train)[:, 1]\n",
    "    acc = amex_metric_np(y_valid.values, oof_preds)\n",
    "    print('Amex Metric =',acc,'\\n')\n",
    "\n",
    "    df = train.loc[valid_idx, ['customer_ID','target'] ].copy()\n",
    "    df['oof_preds'] = oof_preds\n",
    "    oof.append(df)\n",
    "    \n",
    "    del X_train, y_train, dd, df\n",
    "    del X_valid, y_valid, model\n",
    "    _ = gc.collect()\n",
    "    \n",
    "print('#'*25)\n",
    "oof = pd.concat(oof,axis=0,ignore_index=True).set_index('customer_ID')\n",
    "acc = amex_metric_np(oof.target.values, oof.oof_preds.values)\n",
    "print(f\"Overall Amex metric: {acc}\")"
   ]
  },
  {
   "cell_type": "code",
   "execution_count": 17,
   "id": "a344a352",
   "metadata": {
    "execution": {
     "iopub.execute_input": "2022-07-01T18:02:50.567201Z",
     "iopub.status.busy": "2022-07-01T18:02:50.566911Z",
     "iopub.status.idle": "2022-07-01T18:02:50.672212Z",
     "shell.execute_reply": "2022-07-01T18:02:50.671398Z"
    },
    "papermill": {
     "duration": 0.122067,
     "end_time": "2022-07-01T18:02:50.674239",
     "exception": false,
     "start_time": "2022-07-01T18:02:50.552172",
     "status": "completed"
    },
    "tags": []
   },
   "outputs": [],
   "source": [
    "# CLEAN RAM\n",
    "del train\n",
    "_ = gc.collect()"
   ]
  },
  {
   "cell_type": "code",
   "execution_count": 18,
   "id": "f648228d",
   "metadata": {
    "execution": {
     "iopub.execute_input": "2022-07-01T18:02:50.703602Z",
     "iopub.status.busy": "2022-07-01T18:02:50.703261Z",
     "iopub.status.idle": "2022-07-01T18:02:50.745715Z",
     "shell.execute_reply": "2022-07-01T18:02:50.745014Z"
    },
    "papermill": {
     "duration": 0.058818,
     "end_time": "2022-07-01T18:02:50.747289",
     "exception": false,
     "start_time": "2022-07-01T18:02:50.688471",
     "status": "completed"
    },
    "scrolled": true,
    "tags": []
   },
   "outputs": [],
   "source": [
    "df = importances[0].copy()\n",
    "for k in range(1,FOLDS): df = df.merge(importances[k], on='feature', how='left')\n",
    "df['importance'] = df.iloc[:,1:].mean(axis=1, numeric_only=True)\n",
    "df = df.sort_values('importance',ascending=False)\n",
    "df.to_csv(f'cat_feature_importance_v{VER}.csv',index=False)"
   ]
  },
  {
   "cell_type": "code",
   "execution_count": 19,
   "id": "5e01d167",
   "metadata": {
    "execution": {
     "iopub.execute_input": "2022-07-01T18:02:50.777224Z",
     "iopub.status.busy": "2022-07-01T18:02:50.776662Z",
     "iopub.status.idle": "2022-07-01T18:02:51.064053Z",
     "shell.execute_reply": "2022-07-01T18:02:51.063295Z"
    },
    "papermill": {
     "duration": 0.304181,
     "end_time": "2022-07-01T18:02:51.065715",
     "exception": false,
     "start_time": "2022-07-01T18:02:50.761534",
     "status": "completed"
    },
    "tags": []
   },
   "outputs": [
    {
     "data": {
      "image/png": "[encoded data removed]",
      "text/plain": [
       "<Figure size 720x720 with 1 Axes>"
      ]
     },
     "metadata": {
      "needs_background": "light"
     },
     "output_type": "display_data"
    }
   ],
   "source": [
    "NUM_FEATURES = 20\n",
    "plt.figure(figsize=(10,5*NUM_FEATURES//10))\n",
    "plt.barh(np.arange(NUM_FEATURES,0,-1), df.importance.values[:NUM_FEATURES])\n",
    "plt.yticks(np.arange(NUM_FEATURES,0,-1), df.feature.values[:NUM_FEATURES])\n",
    "plt.title(f'CAT Feature Importance - Top {NUM_FEATURES}')\n",
    "plt.show()"
   ]
  },
  {
   "cell_type": "markdown",
   "id": "099e1a95",
   "metadata": {
    "papermill": {
     "duration": 0.014293,
     "end_time": "2022-07-01T18:02:51.094576",
     "exception": false,
     "start_time": "2022-07-01T18:02:51.080283",
     "status": "completed"
    },
    "tags": []
   },
   "source": [
    "# Test part"
   ]
  },
  {
   "cell_type": "code",
   "execution_count": 20,
   "id": "52414f57",
   "metadata": {
    "execution": {
     "iopub.execute_input": "2022-07-01T18:02:51.124558Z",
     "iopub.status.busy": "2022-07-01T18:02:51.123925Z",
     "iopub.status.idle": "2022-07-01T18:02:51.130314Z",
     "shell.execute_reply": "2022-07-01T18:02:51.129571Z"
    },
    "papermill": {
     "duration": 0.02329,
     "end_time": "2022-07-01T18:02:51.131991",
     "exception": false,
     "start_time": "2022-07-01T18:02:51.108701",
     "status": "completed"
    },
    "tags": []
   },
   "outputs": [],
   "source": [
    "# CALCULATE SIZE OF EACH SEPARATE TEST PART\n",
    "def get_rows(customers, test, NUM_PARTS = 4, verbose = ''):\n",
    "    chunk = len(customers)//NUM_PARTS\n",
    "    if verbose != '':\n",
    "        print(f'We will process {verbose} data as {NUM_PARTS} separate parts.')\n",
    "        print(f'There will be {chunk} customers in each part (except the last part).')\n",
    "        print('Below are number of rows in each part:')\n",
    "    rows = []\n",
    "\n",
    "    for k in range(NUM_PARTS):\n",
    "        if k==NUM_PARTS-1: cc = customers[k*chunk:]\n",
    "        else: cc = customers[k*chunk:(k+1)*chunk]\n",
    "        s = test.loc[test.customer_ID.isin(cc)].shape[0]\n",
    "        rows.append(s)\n",
    "    if verbose != '': print( rows )\n",
    "    return rows,chunk"
   ]
  },
  {
   "cell_type": "code",
   "execution_count": 21,
   "id": "fa02c3f8",
   "metadata": {
    "execution": {
     "iopub.execute_input": "2022-07-01T18:02:51.161574Z",
     "iopub.status.busy": "2022-07-01T18:02:51.161295Z",
     "iopub.status.idle": "2022-07-01T18:02:51.807718Z",
     "shell.execute_reply": "2022-07-01T18:02:51.806678Z"
    },
    "papermill": {
     "duration": 0.663406,
     "end_time": "2022-07-01T18:02:51.810044",
     "exception": false,
     "start_time": "2022-07-01T18:02:51.146638",
     "status": "completed"
    },
    "tags": []
   },
   "outputs": [
    {
     "name": "stdout",
     "output_type": "stream",
     "text": [
      "We will process test data as 4 separate parts.\n",
      "There will be 231155 customers in each part (except the last part).\n",
      "Below are number of rows in each part:\n",
      "[231155, 231155, 231155, 231156]\n"
     ]
    }
   ],
   "source": [
    "# COMPUTE SIZE OF 4 PARTS FOR TEST DATA\n",
    "NUM_PARTS = 4\n",
    "\n",
    "customers = test[['customer_ID']].drop_duplicates().sort_index().values.flatten()\n",
    "rows,num_cust = get_rows(customers, test[['customer_ID']], NUM_PARTS = NUM_PARTS, verbose = 'test')"
   ]
  },
  {
   "cell_type": "code",
   "execution_count": 22,
   "id": "95282b4a",
   "metadata": {
    "execution": {
     "iopub.execute_input": "2022-07-01T18:02:51.840191Z",
     "iopub.status.busy": "2022-07-01T18:02:51.839858Z",
     "iopub.status.idle": "2022-07-01T18:25:30.795687Z",
     "shell.execute_reply": "2022-07-01T18:25:30.794079Z"
    },
    "papermill": {
     "duration": 1358.975971,
     "end_time": "2022-07-01T18:25:30.800803",
     "exception": false,
     "start_time": "2022-07-01T18:02:51.824832",
     "status": "completed"
    },
    "tags": []
   },
   "outputs": [
    {
     "name": "stdout",
     "output_type": "stream",
     "text": [
      "\n",
      "Reading test data...\n",
      "=> Test part 1 has shape (231155, 918)\n",
      "\n",
      "Reading test data...\n",
      "=> Test part 2 has shape (231155, 918)\n",
      "\n",
      "Reading test data...\n",
      "=> Test part 3 has shape (231155, 918)\n",
      "\n",
      "Reading test data...\n",
      "=> Test part 4 has shape (231156, 918)\n"
     ]
    }
   ],
   "source": [
    "# INFER TEST DATA IN PARTS\n",
    "skip_rows = 0\n",
    "skip_cust = 0\n",
    "test_preds = []\n",
    "\n",
    "for k in range(NUM_PARTS):\n",
    "    \n",
    "    # READ PART OF TEST DATA\n",
    "    print(f'\\nReading test data...')\n",
    "    test_copy = test.iloc[skip_rows:skip_rows+rows[k]].copy()\n",
    "    test_copy = test_copy.set_index('customer_ID')\n",
    "    skip_rows += rows[k]\n",
    "    print(f'=> Test part {k+1} has shape', test_copy.shape )\n",
    "    \n",
    "    # PROCESS AND FEATURE ENGINEER PART OF TEST DATA\n",
    "    if k==NUM_PARTS-1: test_copy = test_copy.loc[customers[skip_cust:]]\n",
    "    else: test_copy = test_copy.loc[customers[skip_cust:skip_cust+num_cust]]\n",
    "    skip_cust += num_cust\n",
    "        \n",
    "    # INFER XGB MODELS ON TEST DATA\n",
    "    model = CatBoostClassifier(**cat_params)\n",
    "    model.load_model(f'CAT_v{VER}_fold0.cbm')\n",
    "    preds = model.predict_proba(test_copy)[:, 1]\n",
    "    for f in range(1,FOLDS):\n",
    "        model.load_model(f'CAT_v{VER}_fold{f}.cbm')\n",
    "        preds += model.predict_proba(test_copy)[:, 1]\n",
    "    preds /= FOLDS\n",
    "    test_preds.append(preds)\n",
    "\n",
    "    # CLEAN MEMORY\n",
    "    del test_copy, model\n",
    "    _ = gc.collect()\n",
    "\n",
    "del test\n",
    "_ = gc.collect()"
   ]
  },
  {
   "cell_type": "markdown",
   "id": "ccf55b20",
   "metadata": {
    "papermill": {
     "duration": 0.023401,
     "end_time": "2022-07-01T18:25:30.851724",
     "exception": false,
     "start_time": "2022-07-01T18:25:30.828323",
     "status": "completed"
    },
    "tags": []
   },
   "source": [
    "# Submit"
   ]
  },
  {
   "cell_type": "code",
   "execution_count": 23,
   "id": "de2eb174",
   "metadata": {
    "execution": {
     "iopub.execute_input": "2022-07-01T18:25:30.914359Z",
     "iopub.status.busy": "2022-07-01T18:25:30.913877Z",
     "iopub.status.idle": "2022-07-01T18:25:37.975298Z",
     "shell.execute_reply": "2022-07-01T18:25:37.974335Z"
    },
    "papermill": {
     "duration": 7.097267,
     "end_time": "2022-07-01T18:25:37.977750",
     "exception": false,
     "start_time": "2022-07-01T18:25:30.880483",
     "status": "completed"
    },
    "tags": []
   },
   "outputs": [
    {
     "name": "stdout",
     "output_type": "stream",
     "text": [
      "Submission file shape is (924621, 2)\n"
     ]
    },
    {
     "data": {
      "text/html": [
       "<div>\n",
       "<style scoped>\n",
       "    .dataframe tbody tr th:only-of-type {\n",
       "        vertical-align: middle;\n",
       "    }\n",
       "\n",
       "    .dataframe tbody tr th {\n",
       "        vertical-align: top;\n",
       "    }\n",
       "\n",
       "    .dataframe thead th {\n",
       "        text-align: right;\n",
       "    }\n",
       "</style>\n",
       "<table border=\"1\" class=\"dataframe\">\n",
       "  <thead>\n",
       "    <tr style=\"text-align: right;\">\n",
       "      <th></th>\n",
       "      <th>customer_ID</th>\n",
       "      <th>prediction</th>\n",
       "    </tr>\n",
       "  </thead>\n",
       "  <tbody>\n",
       "    <tr>\n",
       "      <th>0</th>\n",
       "      <td>00000469ba478561f23a92a868bd366de6f6527a684c9a...</td>\n",
       "      <td>0.024785</td>\n",
       "    </tr>\n",
       "    <tr>\n",
       "      <th>1</th>\n",
       "      <td>00001bf2e77ff879fab36aa4fac689b9ba411dae63ae39...</td>\n",
       "      <td>0.001562</td>\n",
       "    </tr>\n",
       "    <tr>\n",
       "      <th>2</th>\n",
       "      <td>0000210045da4f81e5f122c6bde5c2a617d03eef67f82c...</td>\n",
       "      <td>0.039949</td>\n",
       "    </tr>\n",
       "    <tr>\n",
       "      <th>3</th>\n",
       "      <td>00003b41e58ede33b8daf61ab56d9952f17c9ad1c3976c...</td>\n",
       "      <td>0.217566</td>\n",
       "    </tr>\n",
       "    <tr>\n",
       "      <th>4</th>\n",
       "      <td>00004b22eaeeeb0ec976890c1d9bfc14fd9427e98c4ee9...</td>\n",
       "      <td>0.836065</td>\n",
       "    </tr>\n",
       "  </tbody>\n",
       "</table>\n",
       "</div>"
      ],
      "text/plain": [
       "                                         customer_ID  prediction\n",
       "0  00000469ba478561f23a92a868bd366de6f6527a684c9a...    0.024785\n",
       "1  00001bf2e77ff879fab36aa4fac689b9ba411dae63ae39...    0.001562\n",
       "2  0000210045da4f81e5f122c6bde5c2a617d03eef67f82c...    0.039949\n",
       "3  00003b41e58ede33b8daf61ab56d9952f17c9ad1c3976c...    0.217566\n",
       "4  00004b22eaeeeb0ec976890c1d9bfc14fd9427e98c4ee9...    0.836065"
      ]
     },
     "execution_count": 23,
     "metadata": {},
     "output_type": "execute_result"
    }
   ],
   "source": [
    "# WRITE SUBMISSION FILE\n",
    "test_preds = np.concatenate(test_preds)\n",
    "test = pd.DataFrame(index=customers,data={'prediction':test_preds})\n",
    "sub = pd.read_csv(parent_dir + 'amex-default-prediction/sample_submission.csv')[['customer_ID']]\n",
    "sub['customer_ID_hash'] = sub['customer_ID'].copy()\n",
    "sub = sub.set_index('customer_ID_hash')\n",
    "sub = sub.merge(test[['prediction']], left_index=True, right_index=True, how='left')\n",
    "sub = sub.reset_index(drop=True)\n",
    "\n",
    "# DISPLAY PREDICTIONS\n",
    "sub.to_csv(f'submission_cat_v{VER}.csv',index=False)\n",
    "print('Submission file shape is', sub.shape )\n",
    "sub.head()"
   ]
  },
  {
   "cell_type": "code",
   "execution_count": 24,
   "id": "30530c3d",
   "metadata": {
    "execution": {
     "iopub.execute_input": "2022-07-01T18:25:38.010297Z",
     "iopub.status.busy": "2022-07-01T18:25:38.009680Z",
     "iopub.status.idle": "2022-07-01T18:25:38.339216Z",
     "shell.execute_reply": "2022-07-01T18:25:38.338498Z"
    },
    "papermill": {
     "duration": 0.347238,
     "end_time": "2022-07-01T18:25:38.341043",
     "exception": false,
     "start_time": "2022-07-01T18:25:37.993805",
     "status": "completed"
    },
    "tags": []
   },
   "outputs": [
    {
     "data": {
      "image/png": "[encoded data removed]",
      "text/plain": [
       "<Figure size 432x288 with 1 Axes>"
      ]
     },
     "metadata": {
      "needs_background": "light"
     },
     "output_type": "display_data"
    }
   ],
   "source": [
    "# PLOT PREDICTIONS\n",
    "plt.hist(sub.prediction, bins=100)\n",
    "plt.title('Test Predictions')\n",
    "plt.show()"
   ]
  },
  {
   "cell_type": "markdown",
   "id": "955e268f",
   "metadata": {
    "papermill": {
     "duration": 0.015113,
     "end_time": "2022-07-01T18:25:38.372009",
     "exception": false,
     "start_time": "2022-07-01T18:25:38.356896",
     "status": "completed"
    },
    "tags": []
   },
   "source": [
    "# Ensemble"
   ]
  },
  {
   "cell_type": "markdown",
   "id": "6eb58c3d",
   "metadata": {
    "papermill": {
     "duration": 0.014927,
     "end_time": "2022-07-01T18:25:38.402888",
     "exception": false,
     "start_time": "2022-07-01T18:25:38.387961",
     "status": "completed"
    },
    "tags": []
   },
   "source": [
    "## Do only ensemble"
   ]
  },
  {
   "cell_type": "code",
   "execution_count": 25,
   "id": "26e29f27",
   "metadata": {
    "execution": {
     "iopub.execute_input": "2022-07-01T18:25:38.434967Z",
     "iopub.status.busy": "2022-07-01T18:25:38.434645Z",
     "iopub.status.idle": "2022-07-01T18:25:39.290766Z",
     "shell.execute_reply": "2022-07-01T18:25:39.289940Z"
    },
    "papermill": {
     "duration": 0.874708,
     "end_time": "2022-07-01T18:25:39.292929",
     "exception": false,
     "start_time": "2022-07-01T18:25:38.418221",
     "status": "completed"
    },
    "tags": []
   },
   "outputs": [],
   "source": [
    "sub = pd.read_csv(parent_dir + 'amex-default-prediction/sample_submission.csv')"
   ]
  },
  {
   "cell_type": "code",
   "execution_count": 26,
   "id": "10301016",
   "metadata": {
    "execution": {
     "iopub.execute_input": "2022-07-01T18:25:39.326896Z",
     "iopub.status.busy": "2022-07-01T18:25:39.326179Z",
     "iopub.status.idle": "2022-07-01T18:25:39.332978Z",
     "shell.execute_reply": "2022-07-01T18:25:39.332239Z"
    },
    "papermill": {
     "duration": 0.025406,
     "end_time": "2022-07-01T18:25:39.334713",
     "exception": false,
     "start_time": "2022-07-01T18:25:39.309307",
     "status": "completed"
    },
    "tags": []
   },
   "outputs": [],
   "source": [
    "# https://www.kaggle.com/code/beezus666/ensemble-weighted-average\n",
    "#crude formula for model weighting.\n",
    "# Using this formaula the best model's weight = 1, the worst model's weight ~0.05\n",
    "def model_weight(model_loss, worst_loss, best_loss):\n",
    "    return 1- ((best_loss - model_loss)/(best_loss-(worst_loss - 0.01)))\n",
    "\n",
    "def read_weighted_preds(sub_dict: dict, worst_score:float, best_score: float) -> list:\n",
    "    preds = []\n",
    "    weights = []\n",
    "    for path, loss in sub_dict.items():\n",
    "        weight = model_weight(loss, worst_score, best_score)\n",
    "        \n",
    "        df = pd.read_csv(path)\n",
    "        df = df.set_index('customer_ID').sort_index().reset_index() # sort\n",
    "        df['prediction'] = df['prediction']*weight\n",
    "        \n",
    "        preds.append(df['prediction'])\n",
    "        weights.append(weight)\n",
    "    \n",
    "    return preds, weights"
   ]
  },
  {
   "cell_type": "code",
   "execution_count": 27,
   "id": "ac822184",
   "metadata": {
    "execution": {
     "iopub.execute_input": "2022-07-01T18:25:39.366591Z",
     "iopub.status.busy": "2022-07-01T18:25:39.365986Z",
     "iopub.status.idle": "2022-07-01T18:25:55.062395Z",
     "shell.execute_reply": "2022-07-01T18:25:55.061482Z"
    },
    "papermill": {
     "duration": 15.718561,
     "end_time": "2022-07-01T18:25:55.068521",
     "exception": false,
     "start_time": "2022-07-01T18:25:39.349960",
     "status": "completed"
    },
    "tags": []
   },
   "outputs": [],
   "source": [
    "best = 0.7963\n",
    "worst = 0.789\n",
    "\n",
    "sub_dict = {\n",
    "    parent_dir + 'amexdefaultsubmissions/submission_cat_v26_0794.csv': 0.794,\n",
    "    parent_dir + 'amexdefaultsubmissions/submission_TF_GRU0789.csv': 0.789,\n",
    "#     parent_dir + 'amexdefaultsubmissions/submission_xgb_v21.csv': 0.794,\n",
    "    parent_dir + 'amexdefaultsubmissions/test_lgbm_baseline_5fold_seed42.csv': 0.7963,\n",
    "#     parent_dir + 'amexdefaultsubmissions/submission_cat_0.7923765971248049.csv': 0.7923765971248049,\n",
    "    parent_dir + 'amexdefaultsubmissions/submission_downsampling0791.csv': 0.791,\n",
    "    parent_dir + 'amexdefaultsubmissions/submission_tabnet0791.csv': 0.791,\n",
    "    parent_dir + 'amexdefaultsubmissions/lightautoml_tabularautoml0795.csv': 0.795,\n",
    "    parent_dir + 'amexdefaultsubmissions/submission_xgb_nvt_0._794csv.csv': 0.794,\n",
    "#     parent_dir + 'amexdefaultsubmissions/submission_CosSquareFormer_0788.csv': 0.788,\n",
    "#     parent_dir + 'amexdefaultsubmissions/submission_cat_v48.csv':0.794,\n",
    "#     '../input/amex-keras-quickstart-1-training/submission.csv': 0.79,\n",
    "#     '../input/tensorflow-transformer-0-790/submission.csv': 0.79,\n",
    "}\n",
    "\n",
    "preds, weights = read_weighted_preds(sub_dict, worst, best)"
   ]
  },
  {
   "cell_type": "code",
   "execution_count": 28,
   "id": "f40034d0",
   "metadata": {
    "execution": {
     "iopub.execute_input": "2022-07-01T18:25:55.116662Z",
     "iopub.status.busy": "2022-07-01T18:25:55.116088Z",
     "iopub.status.idle": "2022-07-01T18:26:00.145031Z",
     "shell.execute_reply": "2022-07-01T18:26:00.144279Z"
    },
    "papermill": {
     "duration": 5.0553,
     "end_time": "2022-07-01T18:26:00.147475",
     "exception": false,
     "start_time": "2022-07-01T18:25:55.092175",
     "status": "completed"
    },
    "tags": []
   },
   "outputs": [
    {
     "data": {
      "text/html": [
       "<div>\n",
       "<style scoped>\n",
       "    .dataframe tbody tr th:only-of-type {\n",
       "        vertical-align: middle;\n",
       "    }\n",
       "\n",
       "    .dataframe tbody tr th {\n",
       "        vertical-align: top;\n",
       "    }\n",
       "\n",
       "    .dataframe thead th {\n",
       "        text-align: right;\n",
       "    }\n",
       "</style>\n",
       "<table border=\"1\" class=\"dataframe\">\n",
       "  <thead>\n",
       "    <tr style=\"text-align: right;\">\n",
       "      <th></th>\n",
       "      <th>customer_ID</th>\n",
       "      <th>prediction</th>\n",
       "    </tr>\n",
       "  </thead>\n",
       "  <tbody>\n",
       "    <tr>\n",
       "      <th>0</th>\n",
       "      <td>00000469ba478561f23a92a868bd366de6f6527a684c9a...</td>\n",
       "      <td>0.023259</td>\n",
       "    </tr>\n",
       "    <tr>\n",
       "      <th>1</th>\n",
       "      <td>00001bf2e77ff879fab36aa4fac689b9ba411dae63ae39...</td>\n",
       "      <td>0.001217</td>\n",
       "    </tr>\n",
       "    <tr>\n",
       "      <th>2</th>\n",
       "      <td>0000210045da4f81e5f122c6bde5c2a617d03eef67f82c...</td>\n",
       "      <td>0.041623</td>\n",
       "    </tr>\n",
       "    <tr>\n",
       "      <th>3</th>\n",
       "      <td>00003b41e58ede33b8daf61ab56d9952f17c9ad1c3976c...</td>\n",
       "      <td>0.252496</td>\n",
       "    </tr>\n",
       "    <tr>\n",
       "      <th>4</th>\n",
       "      <td>00004b22eaeeeb0ec976890c1d9bfc14fd9427e98c4ee9...</td>\n",
       "      <td>0.752191</td>\n",
       "    </tr>\n",
       "    <tr>\n",
       "      <th>...</th>\n",
       "      <td>...</td>\n",
       "      <td>...</td>\n",
       "    </tr>\n",
       "    <tr>\n",
       "      <th>924616</th>\n",
       "      <td>ffff952c631f2c911b8a2a8ca56ea6e656309a83d2f64c...</td>\n",
       "      <td>0.014173</td>\n",
       "    </tr>\n",
       "    <tr>\n",
       "      <th>924617</th>\n",
       "      <td>ffffcf5df59e5e0bba2a5ac4578a34e2b5aa64a1546cd3...</td>\n",
       "      <td>0.693378</td>\n",
       "    </tr>\n",
       "    <tr>\n",
       "      <th>924618</th>\n",
       "      <td>ffffd61f098cc056dbd7d2a21380c4804bbfe60856f475...</td>\n",
       "      <td>0.481198</td>\n",
       "    </tr>\n",
       "    <tr>\n",
       "      <th>924619</th>\n",
       "      <td>ffffddef1fc3643ea179c93245b68dca0f36941cd83977...</td>\n",
       "      <td>0.294210</td>\n",
       "    </tr>\n",
       "    <tr>\n",
       "      <th>924620</th>\n",
       "      <td>fffffa7cf7e453e1acc6a1426475d5cb9400859f82ff61...</td>\n",
       "      <td>0.056404</td>\n",
       "    </tr>\n",
       "  </tbody>\n",
       "</table>\n",
       "<p>924621 rows × 2 columns</p>\n",
       "</div>"
      ],
      "text/plain": [
       "                                              customer_ID  prediction\n",
       "0       00000469ba478561f23a92a868bd366de6f6527a684c9a...    0.023259\n",
       "1       00001bf2e77ff879fab36aa4fac689b9ba411dae63ae39...    0.001217\n",
       "2       0000210045da4f81e5f122c6bde5c2a617d03eef67f82c...    0.041623\n",
       "3       00003b41e58ede33b8daf61ab56d9952f17c9ad1c3976c...    0.252496\n",
       "4       00004b22eaeeeb0ec976890c1d9bfc14fd9427e98c4ee9...    0.752191\n",
       "...                                                   ...         ...\n",
       "924616  ffff952c631f2c911b8a2a8ca56ea6e656309a83d2f64c...    0.014173\n",
       "924617  ffffcf5df59e5e0bba2a5ac4578a34e2b5aa64a1546cd3...    0.693378\n",
       "924618  ffffd61f098cc056dbd7d2a21380c4804bbfe60856f475...    0.481198\n",
       "924619  ffffddef1fc3643ea179c93245b68dca0f36941cd83977...    0.294210\n",
       "924620  fffffa7cf7e453e1acc6a1426475d5cb9400859f82ff61...    0.056404\n",
       "\n",
       "[924621 rows x 2 columns]"
      ]
     },
     "execution_count": 28,
     "metadata": {},
     "output_type": "execute_result"
    }
   ],
   "source": [
    "blend_ss = sub.copy()\n",
    "blend_ss['prediction'] = np.sum(np.column_stack(preds), axis=1) / sum(weights)\n",
    "# blend_ss['prediction'] = (np.mean(np.column_stack(preds), axis=1)) \n",
    "# blend_ss_prev = pd.read_csv('../input/amex-default-prediction-with-cat/submission_blend.csv')\n",
    "# preds = [(np.mean(np.column_stack(preds), axis=1)), blend_ss_prev['prediction']]\n",
    "# blend_ss['prediction'] = (np.mean(np.column_stack(preds), axis=1)) \n",
    "blend_ss.to_csv('submission_blend.csv', index=False)\n",
    "blend_ss"
   ]
  },
  {
   "cell_type": "code",
   "execution_count": 29,
   "id": "19725811",
   "metadata": {
    "execution": {
     "iopub.execute_input": "2022-07-01T18:26:00.180904Z",
     "iopub.status.busy": "2022-07-01T18:26:00.180621Z",
     "iopub.status.idle": "2022-07-01T18:26:00.507265Z",
     "shell.execute_reply": "2022-07-01T18:26:00.506301Z"
    },
    "papermill": {
     "duration": 0.345616,
     "end_time": "2022-07-01T18:26:00.509184",
     "exception": false,
     "start_time": "2022-07-01T18:26:00.163568",
     "status": "completed"
    },
    "tags": []
   },
   "outputs": [
    {
     "data": {
      "image/png": "[encoded data removed]",
      "text/plain": [
       "<Figure size 432x288 with 1 Axes>"
      ]
     },
     "metadata": {
      "needs_background": "light"
     },
     "output_type": "display_data"
    }
   ],
   "source": [
    "# PLOT PREDICTIONS\n",
    "plt.hist(blend_ss.prediction, bins=100)\n",
    "plt.title('Blend Test Predictions')\n",
    "plt.show()"
   ]
  },
  {
   "cell_type": "markdown",
   "id": "f9c2071e",
   "metadata": {
    "papermill": {
     "duration": 0.068762,
     "end_time": "2022-07-01T18:26:00.594353",
     "exception": false,
     "start_time": "2022-07-01T18:26:00.525591",
     "status": "completed"
    },
    "tags": []
   },
   "source": [
    "# Submit to Kaggle from Colab"
   ]
  },
  {
   "cell_type": "code",
   "execution_count": 30,
   "id": "e0c99a35",
   "metadata": {
    "execution": {
     "iopub.execute_input": "2022-07-01T18:26:00.627589Z",
     "iopub.status.busy": "2022-07-01T18:26:00.626912Z",
     "iopub.status.idle": "2022-07-01T18:26:00.631668Z",
     "shell.execute_reply": "2022-07-01T18:26:00.630801Z"
    },
    "papermill": {
     "duration": 0.023583,
     "end_time": "2022-07-01T18:26:00.633633",
     "exception": false,
     "start_time": "2022-07-01T18:26:00.610050",
     "status": "completed"
    },
    "tags": []
   },
   "outputs": [],
   "source": [
    "# Submit\n",
    "if is_env_colab:\n",
    "    # !kaggle competitions submit -c amex-default-prediction -f submission_cat_v1.csv -m \"From colab\"\n",
    "    !kaggle competitions submit -c amex-default-prediction -f submission_blend.csv -m \"From colab\""
   ]
  },
  {
   "cell_type": "code",
   "execution_count": 31,
   "id": "27c69e75",
   "metadata": {
    "execution": {
     "iopub.execute_input": "2022-07-01T18:26:00.665586Z",
     "iopub.status.busy": "2022-07-01T18:26:00.665317Z",
     "iopub.status.idle": "2022-07-01T18:26:01.800007Z",
     "shell.execute_reply": "2022-07-01T18:26:01.798989Z"
    },
    "papermill": {
     "duration": 1.153478,
     "end_time": "2022-07-01T18:26:01.802549",
     "exception": false,
     "start_time": "2022-07-01T18:26:00.649071",
     "status": "completed"
    },
    "tags": []
   },
   "outputs": [
    {
     "name": "stdout",
     "output_type": "stream",
     "text": [
      "Traceback (most recent call last):\r\n",
      "  File \"/opt/conda/bin/kaggle\", line 5, in <module>\r\n",
      "    from kaggle.cli import main\r\n",
      "  File \"/opt/conda/lib/python3.7/site-packages/kaggle/__init__.py\", line 23, in <module>\r\n",
      "    api.authenticate()\r\n",
      "  File \"/opt/conda/lib/python3.7/site-packages/kaggle/api/kaggle_api_extended.py\", line 166, in authenticate\r\n",
      "    self.config_file, self.config_dir))\r\n",
      "OSError: Could not find kaggle.json. Make sure it's located in /root/.kaggle. Or use the environment method.\r\n"
     ]
    }
   ],
   "source": [
    "# Run after few seconds\n",
    "!kaggle competitions submissions amex-default-prediction"
   ]
  }
 ],
 "metadata": {
  "kernelspec": {
   "display_name": "Python 3",
   "language": "python",
   "name": "python3"
  },
  "language_info": {
   "codemirror_mode": {
    "name": "ipython",
    "version": 3
   },
   "file_extension": ".py",
   "mimetype": "text/x-python",
   "name": "python",
   "nbconvert_exporter": "python",
   "pygments_lexer": "ipython3",
   "version": "3.7.12"
  },
  "papermill": {
   "default_parameters": {},
   "duration": 4144.623169,
   "end_time": "2022-07-01T18:26:02.950143",
   "environment_variables": {},
   "exception": null,
   "input_path": "__notebook__.ipynb",
   "output_path": "__notebook__.ipynb",
   "parameters": {},
   "start_time": "2022-07-01T17:16:58.326974",
   "version": "2.3.4"
  }
 },
 "nbformat": 4,
 "nbformat_minor": 5
}

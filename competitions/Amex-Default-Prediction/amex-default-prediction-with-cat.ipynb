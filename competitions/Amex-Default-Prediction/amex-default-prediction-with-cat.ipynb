{
  "cells": [
    {
      "cell_type": "markdown",
      "id": "ec8911a0",
      "metadata": {
        "papermill": {
          "duration": 0.009252,
          "end_time": "2022-07-15T16:13:27.338460",
          "exception": false,
          "start_time": "2022-07-15T16:13:27.329208",
          "status": "completed"
        },
        "tags": [],
        "id": "ec8911a0"
      },
      "source": [
        "# Prepare for colab"
      ]
    },
    {
      "cell_type": "code",
      "execution_count": 1,
      "id": "bad112fb",
      "metadata": {
        "execution": {
          "iopub.execute_input": "2022-07-15T16:13:27.400098Z",
          "iopub.status.busy": "2022-07-15T16:13:27.399391Z",
          "iopub.status.idle": "2022-07-15T16:13:27.403356Z",
          "shell.execute_reply": "2022-07-15T16:13:27.402606Z"
        },
        "papermill": {
          "duration": 0.015568,
          "end_time": "2022-07-15T16:13:27.405067",
          "exception": false,
          "start_time": "2022-07-15T16:13:27.389499",
          "status": "completed"
        },
        "tags": [],
        "id": "bad112fb",
        "outputId": "a7fb49ad-5b02-45a7-9fe4-07e053e5710f",
        "colab": {
          "base_uri": "https://localhost:8080/"
        }
      },
      "outputs": [
        {
          "output_type": "stream",
          "name": "stdout",
          "text": [
            "Looking in indexes: https://pypi.org/simple, https://us-python.pkg.dev/colab-wheels/public/simple/\n",
            "Collecting catboost\n",
            "  Downloading catboost-1.0.6-cp37-none-manylinux1_x86_64.whl (76.6 MB)\n",
            "\u001b[K     |████████████████████████████████| 76.6 MB 1.1 MB/s \n",
            "\u001b[?25hRequirement already satisfied: scipy in /usr/local/lib/python3.7/dist-packages (from catboost) (1.7.3)\n",
            "Requirement already satisfied: plotly in /usr/local/lib/python3.7/dist-packages (from catboost) (5.5.0)\n",
            "Requirement already satisfied: pandas>=0.24.0 in /usr/local/lib/python3.7/dist-packages (from catboost) (1.3.5)\n",
            "Requirement already satisfied: numpy>=1.16.0 in /usr/local/lib/python3.7/dist-packages (from catboost) (1.21.6)\n",
            "Requirement already satisfied: six in /usr/local/lib/python3.7/dist-packages (from catboost) (1.15.0)\n",
            "Requirement already satisfied: graphviz in /usr/local/lib/python3.7/dist-packages (from catboost) (0.10.1)\n",
            "Requirement already satisfied: matplotlib in /usr/local/lib/python3.7/dist-packages (from catboost) (3.2.2)\n",
            "Requirement already satisfied: pytz>=2017.3 in /usr/local/lib/python3.7/dist-packages (from pandas>=0.24.0->catboost) (2022.1)\n",
            "Requirement already satisfied: python-dateutil>=2.7.3 in /usr/local/lib/python3.7/dist-packages (from pandas>=0.24.0->catboost) (2.8.2)\n",
            "Requirement already satisfied: cycler>=0.10 in /usr/local/lib/python3.7/dist-packages (from matplotlib->catboost) (0.11.0)\n",
            "Requirement already satisfied: kiwisolver>=1.0.1 in /usr/local/lib/python3.7/dist-packages (from matplotlib->catboost) (1.4.4)\n",
            "Requirement already satisfied: pyparsing!=2.0.4,!=2.1.2,!=2.1.6,>=2.0.1 in /usr/local/lib/python3.7/dist-packages (from matplotlib->catboost) (3.0.9)\n",
            "Requirement already satisfied: typing-extensions in /usr/local/lib/python3.7/dist-packages (from kiwisolver>=1.0.1->matplotlib->catboost) (4.1.1)\n",
            "Requirement already satisfied: tenacity>=6.2.0 in /usr/local/lib/python3.7/dist-packages (from plotly->catboost) (8.0.1)\n",
            "Installing collected packages: catboost\n",
            "Successfully installed catboost-1.0.6\n",
            "Looking in indexes: https://pypi.org/simple, https://us-python.pkg.dev/colab-wheels/public/simple/\n",
            "Requirement already satisfied: kaggle in /usr/local/lib/python3.7/dist-packages (1.5.12)\n",
            "Requirement already satisfied: requests in /usr/local/lib/python3.7/dist-packages (from kaggle) (2.23.0)\n",
            "Requirement already satisfied: certifi in /usr/local/lib/python3.7/dist-packages (from kaggle) (2022.6.15)\n",
            "Requirement already satisfied: tqdm in /usr/local/lib/python3.7/dist-packages (from kaggle) (4.64.0)\n",
            "Requirement already satisfied: urllib3 in /usr/local/lib/python3.7/dist-packages (from kaggle) (1.24.3)\n",
            "Requirement already satisfied: python-slugify in /usr/local/lib/python3.7/dist-packages (from kaggle) (6.1.2)\n",
            "Requirement already satisfied: python-dateutil in /usr/local/lib/python3.7/dist-packages (from kaggle) (2.8.2)\n",
            "Requirement already satisfied: six>=1.10 in /usr/local/lib/python3.7/dist-packages (from kaggle) (1.15.0)\n",
            "Requirement already satisfied: text-unidecode>=1.3 in /usr/local/lib/python3.7/dist-packages (from python-slugify->kaggle) (1.3)\n",
            "Requirement already satisfied: idna<3,>=2.5 in /usr/local/lib/python3.7/dist-packages (from requests->kaggle) (2.10)\n",
            "Requirement already satisfied: chardet<4,>=3.0.2 in /usr/local/lib/python3.7/dist-packages (from requests->kaggle) (3.0.4)\n"
          ]
        }
      ],
      "source": [
        "!pip install catboost\n",
        "!pip install kaggle"
      ]
    },
    {
      "cell_type": "markdown",
      "id": "3fa90515",
      "metadata": {
        "papermill": {
          "duration": 0.008806,
          "end_time": "2022-07-15T16:13:27.422550",
          "exception": false,
          "start_time": "2022-07-15T16:13:27.413744",
          "status": "completed"
        },
        "tags": [],
        "id": "3fa90515"
      },
      "source": [
        "## Upload API Token"
      ]
    },
    {
      "cell_type": "code",
      "execution_count": 2,
      "id": "54e44e29",
      "metadata": {
        "execution": {
          "iopub.execute_input": "2022-07-15T16:13:27.442237Z",
          "iopub.status.busy": "2022-07-15T16:13:27.441555Z",
          "iopub.status.idle": "2022-07-15T16:13:27.448196Z",
          "shell.execute_reply": "2022-07-15T16:13:27.447549Z"
        },
        "papermill": {
          "duration": 0.01814,
          "end_time": "2022-07-15T16:13:27.449796",
          "exception": false,
          "start_time": "2022-07-15T16:13:27.431656",
          "status": "completed"
        },
        "tags": [],
        "id": "54e44e29",
        "outputId": "1ea4ccf2-f33e-406e-da92-1d2db39ef873",
        "colab": {
          "base_uri": "https://localhost:8080/"
        }
      },
      "outputs": [
        {
          "output_type": "stream",
          "name": "stdout",
          "text": [
            "Mounted at /content/drive\n"
          ]
        }
      ],
      "source": [
        "from google.colab import drive\n",
        "drive.mount('/content/drive')\n",
        "\n",
        "# Then move kaggle.json into the folder where the API expects to find it.\n",
        "!mkdir -p ~/.kaggle/ && cp /content/drive/MyDrive/backups/kaggle.json ~/.kaggle/ && chmod 600 ~/.kaggle/kaggle.json"
      ]
    },
    {
      "cell_type": "markdown",
      "id": "1abbc588",
      "metadata": {
        "papermill": {
          "duration": 0.008512,
          "end_time": "2022-07-15T16:13:27.467327",
          "exception": false,
          "start_time": "2022-07-15T16:13:27.458815",
          "status": "completed"
        },
        "tags": [],
        "id": "1abbc588"
      },
      "source": [
        "## Download and unzip dataset"
      ]
    },
    {
      "cell_type": "code",
      "execution_count": 3,
      "id": "c17f8dd7",
      "metadata": {
        "execution": {
          "iopub.execute_input": "2022-07-15T16:13:27.486038Z",
          "iopub.status.busy": "2022-07-15T16:13:27.485615Z",
          "iopub.status.idle": "2022-07-15T16:13:27.490276Z",
          "shell.execute_reply": "2022-07-15T16:13:27.489580Z"
        },
        "papermill": {
          "duration": 0.016071,
          "end_time": "2022-07-15T16:13:27.491993",
          "exception": false,
          "start_time": "2022-07-15T16:13:27.475922",
          "status": "completed"
        },
        "tags": [],
        "id": "c17f8dd7",
        "outputId": "5a5ae872-c2d0-43a3-f373-4e40f05b8324",
        "colab": {
          "base_uri": "https://localhost:8080/"
        }
      },
      "outputs": [
        {
          "output_type": "stream",
          "name": "stdout",
          "text": [
            "Downloading amex-fe-plus2.zip to /content\n",
            "100% 4.69G/4.70G [02:04<00:00, 72.2MB/s]\n",
            "100% 4.70G/4.70G [02:05<00:00, 40.3MB/s]\n",
            "Archive:  /content/amex-fe-plus2.zip\n",
            "  inflating: test_fe_plus_plus.parquet  \n",
            "  inflating: train_fe_plus_plus.parquet  \n"
          ]
        }
      ],
      "source": [
        "!kaggle datasets download -d ryuina/amex-fe-plus2\n",
        "!unzip /content/amex-fe-plus2.zip"
      ]
    },
    {
      "cell_type": "code",
      "execution_count": 4,
      "id": "e4df1701",
      "metadata": {
        "execution": {
          "iopub.execute_input": "2022-07-15T16:13:27.515341Z",
          "iopub.status.busy": "2022-07-15T16:13:27.514880Z",
          "iopub.status.idle": "2022-07-15T16:13:27.523654Z",
          "shell.execute_reply": "2022-07-15T16:13:27.522700Z"
        },
        "papermill": {
          "duration": 0.025128,
          "end_time": "2022-07-15T16:13:27.526436",
          "exception": false,
          "start_time": "2022-07-15T16:13:27.501308",
          "status": "completed"
        },
        "tags": [],
        "id": "e4df1701",
        "outputId": "c3c24930-0b08-44f9-abd6-826137877d44",
        "colab": {
          "base_uri": "https://localhost:8080/"
        }
      },
      "outputs": [
        {
          "output_type": "stream",
          "name": "stdout",
          "text": [
            "Downloading sample_submission.csv.zip to /content\n",
            " 83% 27.0M/32.4M [00:01<00:00, 25.6MB/s]\n",
            "100% 32.4M/32.4M [00:01<00:00, 21.4MB/s]\n",
            "Archive:  /content/sample_submission.csv.zip\n",
            "  inflating: sample_submission.csv   \n"
          ]
        }
      ],
      "source": [
        "!kaggle competitions download -c amex-default-prediction -f sample_submission.csv\n",
        "!unzip /content/sample_submission.csv.zip"
      ]
    },
    {
      "cell_type": "markdown",
      "id": "f4989bdc",
      "metadata": {
        "papermill": {
          "duration": 0.016438,
          "end_time": "2022-07-15T16:13:27.558017",
          "exception": false,
          "start_time": "2022-07-15T16:13:27.541579",
          "status": "completed"
        },
        "tags": [],
        "id": "f4989bdc"
      },
      "source": [
        "# Settings"
      ]
    },
    {
      "cell_type": "code",
      "execution_count": 5,
      "id": "95e00624",
      "metadata": {
        "_cell_guid": "b1076dfc-b9ad-4769-8c92-a6c4dae69d19",
        "_uuid": "8f2839f25d086af736a60e9eeb907d3b93b6e0e5",
        "execution": {
          "iopub.execute_input": "2022-07-15T16:13:27.588423Z",
          "iopub.status.busy": "2022-07-15T16:13:27.588075Z",
          "iopub.status.idle": "2022-07-15T16:13:28.957484Z",
          "shell.execute_reply": "2022-07-15T16:13:28.956421Z"
        },
        "papermill": {
          "duration": 1.38867,
          "end_time": "2022-07-15T16:13:28.960624",
          "exception": false,
          "start_time": "2022-07-15T16:13:27.571954",
          "status": "completed"
        },
        "tags": [],
        "id": "95e00624"
      },
      "outputs": [],
      "source": [
        "import pandas as pd\n",
        "import numpy as np\n",
        "import matplotlib.pyplot as plt\n",
        "import random\n",
        "\n",
        "from catboost import CatBoostClassifier, Pool\n",
        "from sklearn.preprocessing import LabelEncoder\n",
        "from sklearn.model_selection import KFold\n",
        "\n",
        "import os\n",
        "import gc; gc.enable()\n",
        "\n",
        "import warnings\n",
        "warnings.filterwarnings('ignore')"
      ]
    },
    {
      "cell_type": "code",
      "execution_count": 6,
      "id": "004febdf",
      "metadata": {
        "execution": {
          "iopub.execute_input": "2022-07-15T16:13:28.994650Z",
          "iopub.status.busy": "2022-07-15T16:13:28.994155Z",
          "iopub.status.idle": "2022-07-15T16:13:29.006339Z",
          "shell.execute_reply": "2022-07-15T16:13:29.002101Z"
        },
        "papermill": {
          "duration": 0.030433,
          "end_time": "2022-07-15T16:13:29.008239",
          "exception": false,
          "start_time": "2022-07-15T16:13:28.977806",
          "status": "completed"
        },
        "tags": [],
        "id": "004febdf"
      },
      "outputs": [],
      "source": [
        "VER=1\n",
        "SEED = 42\n",
        "FOLDS = 5\n",
        "\n",
        "cat_features = [\"B_30\", \"B_38\", \"D_114\", \"D_116\", \"D_117\", \"D_120\", \"D_126\", \"D_63\", \"D_64\", \"D_66\", \"D_68\"]\n",
        "\n",
        "def seed_everything(seed):\n",
        "    random.seed(seed)\n",
        "    np.random.seed(seed)\n",
        "    os.environ['PYTHONHASHSEED'] = str(seed)\n",
        "\n",
        "seed_everything(SEED)"
      ]
    },
    {
      "cell_type": "code",
      "execution_count": 7,
      "id": "c0e94a28",
      "metadata": {
        "execution": {
          "iopub.execute_input": "2022-07-15T16:13:29.093540Z",
          "iopub.status.busy": "2022-07-15T16:13:29.093091Z",
          "iopub.status.idle": "2022-07-15T16:14:14.382522Z",
          "shell.execute_reply": "2022-07-15T16:14:14.381643Z"
        },
        "papermill": {
          "duration": 45.307941,
          "end_time": "2022-07-15T16:14:14.385086",
          "exception": false,
          "start_time": "2022-07-15T16:13:29.077145",
          "status": "completed"
        },
        "tags": [],
        "id": "c0e94a28"
      },
      "outputs": [],
      "source": [
        "train = pd.read_parquet(\"/content/train_fe_plus_plus.parquet\")\n",
        "# train = train.reset_index(level=0)\n",
        "test = pd.read_parquet(\"/content/test_fe_plus_plus.parquet\")\n",
        "# test = test.reset_index(level=0)"
      ]
    },
    {
      "cell_type": "code",
      "execution_count": 8,
      "id": "81cbcbdf",
      "metadata": {
        "execution": {
          "iopub.execute_input": "2022-07-15T16:14:14.404618Z",
          "iopub.status.busy": "2022-07-15T16:14:14.404283Z",
          "iopub.status.idle": "2022-07-15T16:14:16.433273Z",
          "shell.execute_reply": "2022-07-15T16:14:16.432437Z"
        },
        "papermill": {
          "duration": 2.041229,
          "end_time": "2022-07-15T16:14:16.435648",
          "exception": false,
          "start_time": "2022-07-15T16:14:14.394419",
          "status": "completed"
        },
        "tags": [],
        "id": "81cbcbdf"
      },
      "outputs": [],
      "source": [
        "cat_features_last = [f\"{cf}_last\" for cf in cat_features]\n",
        "\n",
        "le_encoder = LabelEncoder()\n",
        "for categorical_feature in cat_features_last:\n",
        "    train[categorical_feature] = le_encoder.fit_transform(train[categorical_feature])\n",
        "    test[categorical_feature] = le_encoder.transform(test[categorical_feature])"
      ]
    },
    {
      "cell_type": "code",
      "execution_count": 10,
      "id": "b931bba5",
      "metadata": {
        "execution": {
          "iopub.execute_input": "2022-07-15T16:14:16.455441Z",
          "iopub.status.busy": "2022-07-15T16:14:16.455092Z",
          "iopub.status.idle": "2022-07-15T16:14:18.013098Z",
          "shell.execute_reply": "2022-07-15T16:14:18.012027Z"
        },
        "papermill": {
          "duration": 1.570551,
          "end_time": "2022-07-15T16:14:18.015521",
          "exception": false,
          "start_time": "2022-07-15T16:14:16.444970",
          "status": "completed"
        },
        "tags": [],
        "id": "b931bba5"
      },
      "outputs": [],
      "source": [
        "# https://www.kaggle.com/code/ragnar123/amex-lgbm-dart-cv-0-7963\n",
        "# Round last float features to 2 decimal place\n",
        "float_cols = list(train.dtypes[(train.dtypes == 'float32') | (train.dtypes == 'float64')].index)\n",
        "float_cols = [col for col in float_cols if 'last' in col]\n",
        "\n",
        "for col in float_cols:\n",
        "    train[col + '_round2'] = train[col].round(2)\n",
        "    test[col + '_round2'] = test[col].round(2)"
      ]
    },
    {
      "cell_type": "code",
      "execution_count": 11,
      "id": "ba13c62d",
      "metadata": {
        "execution": {
          "iopub.execute_input": "2022-07-15T16:14:18.035731Z",
          "iopub.status.busy": "2022-07-15T16:14:18.035409Z",
          "iopub.status.idle": "2022-07-15T16:14:24.212689Z",
          "shell.execute_reply": "2022-07-15T16:14:24.207569Z"
        },
        "papermill": {
          "duration": 6.191719,
          "end_time": "2022-07-15T16:14:24.216845",
          "exception": false,
          "start_time": "2022-07-15T16:14:18.025126",
          "status": "completed"
        },
        "tags": [],
        "id": "ba13c62d",
        "outputId": "e4718cf2-7aff-492a-ff2f-43f26faf37d7",
        "colab": {
          "base_uri": "https://localhost:8080/"
        }
      },
      "outputs": [
        {
          "output_type": "stream",
          "name": "stdout",
          "text": [
            "We have 2178 features!\n"
          ]
        }
      ],
      "source": [
        "train = train.set_index('customer_ID')\n",
        "train = train.sort_index().reset_index()\n",
        "FEATURES = train.drop(columns=['customer_ID', 'target']).columns\n",
        "\n",
        "print(f\"We have {len(FEATURES)} features!\")"
      ]
    },
    {
      "cell_type": "code",
      "execution_count": 12,
      "id": "f0ecff48",
      "metadata": {
        "execution": {
          "iopub.execute_input": "2022-07-15T16:14:24.269747Z",
          "iopub.status.busy": "2022-07-15T16:14:24.269149Z",
          "iopub.status.idle": "2022-07-15T16:14:24.287474Z",
          "shell.execute_reply": "2022-07-15T16:14:24.284982Z"
        },
        "papermill": {
          "duration": 0.043293,
          "end_time": "2022-07-15T16:14:24.290609",
          "exception": false,
          "start_time": "2022-07-15T16:14:24.247316",
          "status": "completed"
        },
        "tags": [],
        "id": "f0ecff48"
      },
      "outputs": [],
      "source": [
        "# https://www.kaggle.com/competitions/amex-default-prediction/discussion/328020\n",
        "# https://www.kaggle.com/code/rohanrao/amex-competition-metric-implementations\n",
        "def amex_metric_np(target: np.ndarray, preds: np.ndarray) -> float:\n",
        "    indices = np.argsort(preds)[::-1]\n",
        "    preds, target = preds[indices], target[indices]\n",
        "\n",
        "    n_pos = np.sum(target)\n",
        "    n_neg = target.shape[0] - n_pos\n",
        "    \n",
        "    weight = 20.0 - target * 19.0\n",
        "    cum_norm_weight = (weight * (1 / weight.sum())).cumsum()\n",
        "    four_pct_mask = cum_norm_weight <= 0.04\n",
        "    d = np.sum(target[four_pct_mask]) / n_pos\n",
        "    \n",
        "    lorentz = (target * (1 / n_pos)).cumsum()\n",
        "    gini = ((lorentz - cum_norm_weight) * weight).sum()\n",
        "    gini_max = 10 * n_neg * (1 - 19 / (n_pos + 20 * n_neg))\n",
        "\n",
        "    g = gini / gini_max\n",
        "\n",
        "    return 0.5 * (g + d)"
      ]
    },
    {
      "cell_type": "code",
      "execution_count": 13,
      "id": "155fb197",
      "metadata": {
        "execution": {
          "iopub.execute_input": "2022-07-15T16:14:24.334040Z",
          "iopub.status.busy": "2022-07-15T16:14:24.333456Z",
          "iopub.status.idle": "2022-07-15T16:14:24.341948Z",
          "shell.execute_reply": "2022-07-15T16:14:24.341087Z"
        },
        "papermill": {
          "duration": 0.030338,
          "end_time": "2022-07-15T16:14:24.346412",
          "exception": false,
          "start_time": "2022-07-15T16:14:24.316074",
          "status": "completed"
        },
        "tags": [],
        "id": "155fb197"
      },
      "outputs": [],
      "source": [
        "cat_params = {\n",
        "    'iterations':30000,\n",
        "    'random_state':SEED,\n",
        "    'learning_rate':0.01,\n",
        "\n",
        "    # 'depth': 4,\n",
        "    'l2_leaf_reg':14,\n",
        "    'one_hot_max_size':20,\n",
        "    # 'random_strength': 0.5,\n",
        "    # 'bagging_temperature': 0.75,\n",
        "\n",
        "    # 'num_leaves': 100,\n",
        "    'min_child_samples': 40,\n",
        "\n",
        "    'task_type':\"GPU\",\n",
        "    'border_count':128,\n",
        "}"
      ]
    },
    {
      "cell_type": "code",
      "execution_count": 14,
      "id": "72e0dac6",
      "metadata": {
        "execution": {
          "iopub.execute_input": "2022-07-15T16:14:24.385070Z",
          "iopub.status.busy": "2022-07-15T16:14:24.384608Z",
          "iopub.status.idle": "2022-07-15T16:48:45.264974Z",
          "shell.execute_reply": "2022-07-15T16:48:45.263500Z"
        },
        "papermill": {
          "duration": 2060.899656,
          "end_time": "2022-07-15T16:48:45.266833",
          "exception": false,
          "start_time": "2022-07-15T16:14:24.367177",
          "status": "completed"
        },
        "tags": [],
        "id": "72e0dac6",
        "outputId": "3edba8d0-a604-424b-aea9-3ca3c9901ddf",
        "colab": {
          "base_uri": "https://localhost:8080/"
        }
      },
      "outputs": [
        {
          "output_type": "stream",
          "name": "stdout",
          "text": [
            "#########################\n",
            "### Fold 1\n",
            "### Train size 367130 Valid size 91783\n",
            "### Training with 100% fold data...\n",
            "#########################\n",
            "0:\tlearn: 0.6805391\ttest: 0.6805293\tbest: 0.6805293 (0)\ttotal: 127ms\tremaining: 1h 3m 24s\n",
            "1000:\tlearn: 0.2232203\ttest: 0.2257941\tbest: 0.2257941 (1000)\ttotal: 58.5s\tremaining: 28m 15s\n",
            "2000:\tlearn: 0.2167508\ttest: 0.2217851\tbest: 0.2217851 (2000)\ttotal: 1m 54s\tremaining: 26m 38s\n",
            "3000:\tlearn: 0.2129843\ttest: 0.2203273\tbest: 0.2203273 (3000)\ttotal: 2m 47s\tremaining: 25m 10s\n",
            "4000:\tlearn: 0.2101095\ttest: 0.2195616\tbest: 0.2195616 (4000)\ttotal: 3m 40s\tremaining: 23m 53s\n",
            "5000:\tlearn: 0.2076156\ttest: 0.2190619\tbest: 0.2190619 (5000)\ttotal: 4m 32s\tremaining: 22m 43s\n",
            "6000:\tlearn: 0.2052943\ttest: 0.2186994\tbest: 0.2186994 (6000)\ttotal: 5m 24s\tremaining: 21m 39s\n",
            "7000:\tlearn: 0.2030792\ttest: 0.2183852\tbest: 0.2183852 (7000)\ttotal: 6m 17s\tremaining: 20m 38s\n",
            "8000:\tlearn: 0.2009965\ttest: 0.2181070\tbest: 0.2181069 (7998)\ttotal: 7m 9s\tremaining: 19m 39s\n",
            "9000:\tlearn: 0.1989699\ttest: 0.2178965\tbest: 0.2178965 (8999)\ttotal: 8m 1s\tremaining: 18m 42s\n",
            "10000:\tlearn: 0.1970202\ttest: 0.2177146\tbest: 0.2177146 (10000)\ttotal: 8m 53s\tremaining: 17m 45s\n",
            "11000:\tlearn: 0.1951089\ttest: 0.2175469\tbest: 0.2175465 (10998)\ttotal: 9m 45s\tremaining: 16m 50s\n",
            "12000:\tlearn: 0.1932508\ttest: 0.2174132\tbest: 0.2174127 (11983)\ttotal: 10m 37s\tremaining: 15m 55s\n",
            "13000:\tlearn: 0.1914107\ttest: 0.2172847\tbest: 0.2172847 (13000)\ttotal: 11m 29s\tremaining: 15m 1s\n",
            "14000:\tlearn: 0.1896048\ttest: 0.2171665\tbest: 0.2171665 (14000)\ttotal: 12m 22s\tremaining: 14m 7s\n",
            "15000:\tlearn: 0.1878776\ttest: 0.2170743\tbest: 0.2170738 (14991)\ttotal: 13m 14s\tremaining: 13m 14s\n",
            "16000:\tlearn: 0.1861495\ttest: 0.2169837\tbest: 0.2169825 (15996)\ttotal: 14m 7s\tremaining: 12m 21s\n",
            "17000:\tlearn: 0.1844372\ttest: 0.2168936\tbest: 0.2168925 (16995)\ttotal: 14m 59s\tremaining: 11m 28s\n",
            "18000:\tlearn: 0.1827770\ttest: 0.2168072\tbest: 0.2168062 (17992)\ttotal: 15m 52s\tremaining: 10m 34s\n",
            "19000:\tlearn: 0.1810799\ttest: 0.2167560\tbest: 0.2167550 (18994)\ttotal: 16m 45s\tremaining: 9m 42s\n",
            "20000:\tlearn: 0.1794302\ttest: 0.2166925\tbest: 0.2166925 (20000)\ttotal: 17m 38s\tremaining: 8m 49s\n",
            "21000:\tlearn: 0.1778243\ttest: 0.2166267\tbest: 0.2166261 (20997)\ttotal: 18m 30s\tremaining: 7m 55s\n",
            "22000:\tlearn: 0.1762262\ttest: 0.2165761\tbest: 0.2165741 (21991)\ttotal: 19m 23s\tremaining: 7m 3s\n",
            "23000:\tlearn: 0.1746440\ttest: 0.2165269\tbest: 0.2165242 (22969)\ttotal: 20m 17s\tremaining: 6m 10s\n",
            "24000:\tlearn: 0.1730803\ttest: 0.2164810\tbest: 0.2164788 (23983)\ttotal: 21m 10s\tremaining: 5m 17s\n",
            "25000:\tlearn: 0.1715309\ttest: 0.2164294\tbest: 0.2164275 (24992)\ttotal: 22m 3s\tremaining: 4m 24s\n",
            "26000:\tlearn: 0.1699654\ttest: 0.2163969\tbest: 0.2163969 (26000)\ttotal: 22m 57s\tremaining: 3m 31s\n",
            "27000:\tlearn: 0.1685110\ttest: 0.2163649\tbest: 0.2163617 (26981)\ttotal: 23m 49s\tremaining: 2m 38s\n",
            "28000:\tlearn: 0.1670385\ttest: 0.2163161\tbest: 0.2163119 (27950)\ttotal: 24m 43s\tremaining: 1m 45s\n",
            "29000:\tlearn: 0.1655897\ttest: 0.2163004\tbest: 0.2162996 (28911)\ttotal: 25m 36s\tremaining: 52.9s\n",
            "29999:\tlearn: 0.1641548\ttest: 0.2162812\tbest: 0.2162804 (29996)\ttotal: 26m 30s\tremaining: 0us\n",
            "bestTest = 0.2162804352\n",
            "bestIteration = 29996\n",
            "Shrink model to first 29997 iterations.\n",
            "Amex Metric = 0.795808869714504 \n",
            "\n",
            "#########################\n",
            "### Fold 2\n",
            "### Train size 367130 Valid size 91783\n",
            "### Training with 100% fold data...\n",
            "#########################\n",
            "0:\tlearn: 0.6805822\ttest: 0.6806037\tbest: 0.6806037 (0)\ttotal: 111ms\tremaining: 55m 25s\n",
            "1000:\tlearn: 0.2230444\ttest: 0.2259173\tbest: 0.2259173 (1000)\ttotal: 1m 1s\tremaining: 29m 27s\n",
            "2000:\tlearn: 0.2165718\ttest: 0.2219017\tbest: 0.2219017 (2000)\ttotal: 1m 58s\tremaining: 27m 36s\n",
            "3000:\tlearn: 0.2129269\ttest: 0.2204731\tbest: 0.2204731 (3000)\ttotal: 2m 52s\tremaining: 25m 55s\n",
            "4000:\tlearn: 0.2099987\ttest: 0.2196561\tbest: 0.2196561 (4000)\ttotal: 3m 46s\tremaining: 24m 29s\n",
            "5000:\tlearn: 0.2075273\ttest: 0.2191244\tbest: 0.2191244 (5000)\ttotal: 4m 38s\tremaining: 23m 11s\n",
            "6000:\tlearn: 0.2052203\ttest: 0.2187043\tbest: 0.2187041 (5999)\ttotal: 5m 30s\tremaining: 22m 1s\n",
            "7000:\tlearn: 0.2030167\ttest: 0.2183675\tbest: 0.2183675 (7000)\ttotal: 6m 22s\tremaining: 20m 56s\n",
            "8000:\tlearn: 0.2008894\ttest: 0.2180854\tbest: 0.2180854 (8000)\ttotal: 7m 15s\tremaining: 19m 56s\n",
            "9000:\tlearn: 0.1988820\ttest: 0.2178624\tbest: 0.2178620 (8997)\ttotal: 8m 7s\tremaining: 18m 56s\n",
            "10000:\tlearn: 0.1969244\ttest: 0.2177041\tbest: 0.2177041 (10000)\ttotal: 8m 59s\tremaining: 17m 59s\n",
            "11000:\tlearn: 0.1949600\ttest: 0.2175279\tbest: 0.2175278 (10999)\ttotal: 9m 52s\tremaining: 17m 3s\n",
            "12000:\tlearn: 0.1931111\ttest: 0.2174011\tbest: 0.2174006 (11995)\ttotal: 10m 44s\tremaining: 16m 6s\n",
            "13000:\tlearn: 0.1912960\ttest: 0.2172493\tbest: 0.2172475 (12975)\ttotal: 11m 38s\tremaining: 15m 13s\n",
            "14000:\tlearn: 0.1894798\ttest: 0.2171142\tbest: 0.2171137 (13999)\ttotal: 12m 31s\tremaining: 14m 19s\n",
            "15000:\tlearn: 0.1877421\ttest: 0.2169986\tbest: 0.2169986 (15000)\ttotal: 13m 24s\tremaining: 13m 24s\n",
            "16000:\tlearn: 0.1860337\ttest: 0.2169057\tbest: 0.2169041 (15976)\ttotal: 14m 17s\tremaining: 12m 30s\n",
            "17000:\tlearn: 0.1843500\ttest: 0.2168117\tbest: 0.2168117 (17000)\ttotal: 15m 11s\tremaining: 11m 36s\n",
            "18000:\tlearn: 0.1826659\ttest: 0.2167348\tbest: 0.2167334 (17977)\ttotal: 16m 4s\tremaining: 10m 43s\n",
            "19000:\tlearn: 0.1810264\ttest: 0.2166588\tbest: 0.2166586 (18999)\ttotal: 16m 57s\tremaining: 9m 49s\n",
            "20000:\tlearn: 0.1794216\ttest: 0.2165851\tbest: 0.2165849 (19999)\ttotal: 17m 50s\tremaining: 8m 55s\n",
            "21000:\tlearn: 0.1777821\ttest: 0.2165225\tbest: 0.2165222 (20974)\ttotal: 18m 44s\tremaining: 8m 1s\n",
            "22000:\tlearn: 0.1761970\ttest: 0.2164482\tbest: 0.2164482 (22000)\ttotal: 19m 37s\tremaining: 7m 8s\n",
            "23000:\tlearn: 0.1746154\ttest: 0.2164016\tbest: 0.2164014 (22998)\ttotal: 20m 32s\tremaining: 6m 14s\n",
            "24000:\tlearn: 0.1730865\ttest: 0.2163401\tbest: 0.2163392 (23985)\ttotal: 21m 25s\tremaining: 5m 21s\n",
            "25000:\tlearn: 0.1715637\ttest: 0.2163125\tbest: 0.2163094 (24947)\ttotal: 22m 20s\tremaining: 4m 27s\n",
            "26000:\tlearn: 0.1700670\ttest: 0.2162750\tbest: 0.2162728 (25986)\ttotal: 23m 14s\tremaining: 3m 34s\n",
            "27000:\tlearn: 0.1686000\ttest: 0.2162517\tbest: 0.2162517 (26939)\ttotal: 24m 8s\tremaining: 2m 40s\n",
            "bestTest = 0.2162493242\n",
            "bestIteration = 27022\n",
            "Shrink model to first 27023 iterations.\n",
            "Amex Metric = 0.7941010311859089 \n",
            "\n",
            "#########################\n",
            "### Fold 3\n",
            "### Train size 367130 Valid size 91783\n",
            "### Training with 100% fold data...\n",
            "#########################\n",
            "0:\tlearn: 0.6804300\ttest: 0.6803877\tbest: 0.6803877 (0)\ttotal: 116ms\tremaining: 57m 54s\n",
            "1000:\tlearn: 0.2238092\ttest: 0.2231894\tbest: 0.2231894 (1000)\ttotal: 1m 3s\tremaining: 30m 40s\n",
            "2000:\tlearn: 0.2172803\ttest: 0.2191806\tbest: 0.2191806 (2000)\ttotal: 2m 2s\tremaining: 28m 34s\n",
            "3000:\tlearn: 0.2135569\ttest: 0.2177790\tbest: 0.2177790 (3000)\ttotal: 2m 58s\tremaining: 26m 47s\n",
            "4000:\tlearn: 0.2105829\ttest: 0.2169526\tbest: 0.2169526 (3995)\ttotal: 3m 53s\tremaining: 25m 17s\n",
            "5000:\tlearn: 0.2081080\ttest: 0.2163899\tbest: 0.2163899 (4996)\ttotal: 4m 46s\tremaining: 23m 54s\n",
            "6000:\tlearn: 0.2057400\ttest: 0.2159779\tbest: 0.2159778 (5999)\ttotal: 5m 40s\tremaining: 22m 43s\n",
            "7000:\tlearn: 0.2036162\ttest: 0.2156476\tbest: 0.2156476 (7000)\ttotal: 6m 33s\tremaining: 21m 32s\n",
            "8000:\tlearn: 0.2015533\ttest: 0.2153686\tbest: 0.2153686 (8000)\ttotal: 7m 26s\tremaining: 20m 28s\n",
            "9000:\tlearn: 0.1996093\ttest: 0.2151543\tbest: 0.2151536 (8997)\ttotal: 8m 19s\tremaining: 19m 24s\n",
            "10000:\tlearn: 0.1976797\ttest: 0.2149339\tbest: 0.2149339 (10000)\ttotal: 9m 12s\tremaining: 18m 24s\n",
            "11000:\tlearn: 0.1957929\ttest: 0.2147595\tbest: 0.2147594 (10999)\ttotal: 10m 5s\tremaining: 17m 25s\n",
            "12000:\tlearn: 0.1939939\ttest: 0.2146168\tbest: 0.2146168 (12000)\ttotal: 10m 58s\tremaining: 16m 27s\n",
            "13000:\tlearn: 0.1921887\ttest: 0.2144428\tbest: 0.2144422 (12999)\ttotal: 11m 51s\tremaining: 15m 30s\n",
            "14000:\tlearn: 0.1904214\ttest: 0.2142945\tbest: 0.2142942 (13994)\ttotal: 12m 44s\tremaining: 14m 33s\n",
            "15000:\tlearn: 0.1886918\ttest: 0.2141721\tbest: 0.2141716 (14991)\ttotal: 13m 37s\tremaining: 13m 37s\n",
            "16000:\tlearn: 0.1870137\ttest: 0.2140434\tbest: 0.2140431 (15999)\ttotal: 14m 30s\tremaining: 12m 41s\n",
            "17000:\tlearn: 0.1853592\ttest: 0.2139347\tbest: 0.2139347 (17000)\ttotal: 15m 23s\tremaining: 11m 45s\n",
            "18000:\tlearn: 0.1837167\ttest: 0.2138465\tbest: 0.2138465 (18000)\ttotal: 16m 16s\tremaining: 10m 50s\n",
            "19000:\tlearn: 0.1820927\ttest: 0.2137659\tbest: 0.2137657 (18999)\ttotal: 17m 9s\tremaining: 9m 55s\n",
            "20000:\tlearn: 0.1804910\ttest: 0.2136867\tbest: 0.2136855 (19982)\ttotal: 18m 2s\tremaining: 9m 1s\n",
            "21000:\tlearn: 0.1788681\ttest: 0.2136150\tbest: 0.2136124 (20975)\ttotal: 18m 56s\tremaining: 8m 7s\n",
            "22000:\tlearn: 0.1772674\ttest: 0.2135539\tbest: 0.2135537 (21979)\ttotal: 19m 50s\tremaining: 7m 12s\n",
            "23000:\tlearn: 0.1756854\ttest: 0.2134807\tbest: 0.2134804 (22998)\ttotal: 20m 44s\tremaining: 6m 18s\n",
            "24000:\tlearn: 0.1741413\ttest: 0.2134150\tbest: 0.2134111 (23948)\ttotal: 21m 39s\tremaining: 5m 24s\n",
            "25000:\tlearn: 0.1726602\ttest: 0.2133687\tbest: 0.2133687 (25000)\ttotal: 22m 32s\tremaining: 4m 30s\n",
            "26000:\tlearn: 0.1711872\ttest: 0.2133125\tbest: 0.2133116 (25997)\ttotal: 23m 26s\tremaining: 3m 36s\n",
            "27000:\tlearn: 0.1697464\ttest: 0.2132682\tbest: 0.2132682 (27000)\ttotal: 24m 20s\tremaining: 2m 42s\n",
            "28000:\tlearn: 0.1682749\ttest: 0.2132211\tbest: 0.2132211 (28000)\ttotal: 25m 14s\tremaining: 1m 48s\n",
            "29000:\tlearn: 0.1668346\ttest: 0.2131615\tbest: 0.2131613 (28970)\ttotal: 26m 8s\tremaining: 54s\n",
            "29999:\tlearn: 0.1653988\ttest: 0.2131315\tbest: 0.2131299 (29989)\ttotal: 27m 3s\tremaining: 0us\n",
            "bestTest = 0.2131299378\n",
            "bestIteration = 29989\n",
            "Shrink model to first 29990 iterations.\n",
            "Amex Metric = 0.7982592404083526 \n",
            "\n",
            "#########################\n",
            "### Fold 4\n",
            "### Train size 367131 Valid size 91782\n",
            "### Training with 100% fold data...\n",
            "#########################\n",
            "0:\tlearn: 0.6807531\ttest: 0.6807753\tbest: 0.6807753 (0)\ttotal: 116ms\tremaining: 57m 49s\n",
            "1000:\tlearn: 0.2230561\ttest: 0.2266279\tbest: 0.2266279 (1000)\ttotal: 1m 3s\tremaining: 30m 46s\n",
            "2000:\tlearn: 0.2166404\ttest: 0.2225036\tbest: 0.2225036 (2000)\ttotal: 2m 2s\tremaining: 28m 35s\n",
            "3000:\tlearn: 0.2129652\ttest: 0.2210249\tbest: 0.2210249 (3000)\ttotal: 2m 58s\tremaining: 26m 42s\n",
            "4000:\tlearn: 0.2100759\ttest: 0.2201803\tbest: 0.2201803 (4000)\ttotal: 3m 52s\tremaining: 25m 12s\n",
            "5000:\tlearn: 0.2075766\ttest: 0.2196321\tbest: 0.2196320 (4999)\ttotal: 4m 45s\tremaining: 23m 48s\n",
            "6000:\tlearn: 0.2052907\ttest: 0.2192247\tbest: 0.2192240 (5998)\ttotal: 5m 38s\tremaining: 22m 33s\n",
            "7000:\tlearn: 0.2031249\ttest: 0.2188788\tbest: 0.2188788 (7000)\ttotal: 6m 30s\tremaining: 21m 23s\n",
            "8000:\tlearn: 0.2010608\ttest: 0.2185940\tbest: 0.2185927 (7994)\ttotal: 7m 22s\tremaining: 20m 17s\n",
            "9000:\tlearn: 0.1990127\ttest: 0.2183617\tbest: 0.2183617 (9000)\ttotal: 8m 15s\tremaining: 19m 15s\n",
            "10000:\tlearn: 0.1970100\ttest: 0.2181328\tbest: 0.2181312 (9999)\ttotal: 9m 7s\tremaining: 18m 15s\n",
            "11000:\tlearn: 0.1951043\ttest: 0.2179433\tbest: 0.2179433 (11000)\ttotal: 10m\tremaining: 17m 16s\n",
            "12000:\tlearn: 0.1932726\ttest: 0.2177984\tbest: 0.2177984 (12000)\ttotal: 10m 52s\tremaining: 16m 18s\n",
            "13000:\tlearn: 0.1914612\ttest: 0.2176662\tbest: 0.2176658 (12987)\ttotal: 11m 45s\tremaining: 15m 21s\n",
            "14000:\tlearn: 0.1896850\ttest: 0.2175428\tbest: 0.2175427 (13998)\ttotal: 12m 37s\tremaining: 14m 25s\n",
            "15000:\tlearn: 0.1879756\ttest: 0.2174250\tbest: 0.2174250 (14999)\ttotal: 13m 29s\tremaining: 13m 29s\n",
            "16000:\tlearn: 0.1862601\ttest: 0.2173107\tbest: 0.2173102 (15999)\ttotal: 14m 21s\tremaining: 12m 33s\n",
            "17000:\tlearn: 0.1845718\ttest: 0.2172402\tbest: 0.2172344 (16948)\ttotal: 15m 13s\tremaining: 11m 38s\n",
            "18000:\tlearn: 0.1829377\ttest: 0.2171469\tbest: 0.2171468 (17999)\ttotal: 16m 5s\tremaining: 10m 43s\n",
            "19000:\tlearn: 0.1813046\ttest: 0.2170719\tbest: 0.2170709 (18996)\ttotal: 16m 58s\tremaining: 9m 49s\n",
            "20000:\tlearn: 0.1796688\ttest: 0.2169954\tbest: 0.2169933 (19992)\ttotal: 17m 51s\tremaining: 8m 55s\n",
            "21000:\tlearn: 0.1780598\ttest: 0.2169420\tbest: 0.2169418 (20998)\ttotal: 18m 44s\tremaining: 8m 1s\n",
            "22000:\tlearn: 0.1764923\ttest: 0.2168961\tbest: 0.2168958 (21999)\ttotal: 19m 37s\tremaining: 7m 7s\n",
            "23000:\tlearn: 0.1749400\ttest: 0.2168461\tbest: 0.2168458 (22993)\ttotal: 20m 29s\tremaining: 6m 14s\n",
            "24000:\tlearn: 0.1734242\ttest: 0.2167884\tbest: 0.2167884 (24000)\ttotal: 21m 22s\tremaining: 5m 20s\n",
            "25000:\tlearn: 0.1719643\ttest: 0.2167418\tbest: 0.2167384 (24700)\ttotal: 22m 14s\tremaining: 4m 26s\n",
            "26000:\tlearn: 0.1704520\ttest: 0.2167069\tbest: 0.2167053 (25991)\ttotal: 23m 8s\tremaining: 3m 33s\n",
            "27000:\tlearn: 0.1689666\ttest: 0.2166840\tbest: 0.2166830 (26951)\ttotal: 24m 1s\tremaining: 2m 40s\n",
            "28000:\tlearn: 0.1675106\ttest: 0.2166445\tbest: 0.2166443 (27998)\ttotal: 24m 55s\tremaining: 1m 46s\n",
            "29000:\tlearn: 0.1661017\ttest: 0.2166381\tbest: 0.2166311 (28767)\ttotal: 25m 48s\tremaining: 53.3s\n",
            "29999:\tlearn: 0.1646593\ttest: 0.2166174\tbest: 0.2166078 (29831)\ttotal: 26m 41s\tremaining: 0us\n",
            "bestTest = 0.2166078231\n",
            "bestIteration = 29831\n",
            "Shrink model to first 29832 iterations.\n",
            "Amex Metric = 0.7897901615541862 \n",
            "\n",
            "#########################\n",
            "### Fold 5\n",
            "### Train size 367131 Valid size 91782\n",
            "### Training with 100% fold data...\n",
            "#########################\n",
            "0:\tlearn: 0.6804098\ttest: 0.6804723\tbest: 0.6804723 (0)\ttotal: 116ms\tremaining: 57m 47s\n",
            "1000:\tlearn: 0.2227317\ttest: 0.2277800\tbest: 0.2277800 (1000)\ttotal: 1m\tremaining: 29m 26s\n",
            "2000:\tlearn: 0.2162546\ttest: 0.2237534\tbest: 0.2237534 (2000)\ttotal: 1m 58s\tremaining: 27m 37s\n",
            "3000:\tlearn: 0.2125953\ttest: 0.2222996\tbest: 0.2222996 (3000)\ttotal: 2m 52s\tremaining: 25m 54s\n",
            "4000:\tlearn: 0.2097313\ttest: 0.2214841\tbest: 0.2214841 (4000)\ttotal: 3m 46s\tremaining: 24m 29s\n",
            "5000:\tlearn: 0.2071750\ttest: 0.2209275\tbest: 0.2209275 (4999)\ttotal: 4m 38s\tremaining: 23m 13s\n",
            "6000:\tlearn: 0.2048766\ttest: 0.2204732\tbest: 0.2204732 (6000)\ttotal: 5m 31s\tremaining: 22m 3s\n",
            "7000:\tlearn: 0.2027077\ttest: 0.2201288\tbest: 0.2201285 (6995)\ttotal: 6m 23s\tremaining: 20m 58s\n",
            "8000:\tlearn: 0.2006233\ttest: 0.2198521\tbest: 0.2198521 (8000)\ttotal: 7m 15s\tremaining: 19m 56s\n",
            "9000:\tlearn: 0.1986379\ttest: 0.2196147\tbest: 0.2196147 (9000)\ttotal: 8m 7s\tremaining: 18m 56s\n",
            "10000:\tlearn: 0.1966915\ttest: 0.2194236\tbest: 0.2194236 (10000)\ttotal: 8m 59s\tremaining: 17m 58s\n",
            "11000:\tlearn: 0.1948177\ttest: 0.2192367\tbest: 0.2192367 (11000)\ttotal: 9m 51s\tremaining: 17m 1s\n",
            "12000:\tlearn: 0.1929707\ttest: 0.2190536\tbest: 0.2190528 (11998)\ttotal: 10m 43s\tremaining: 16m 5s\n",
            "13000:\tlearn: 0.1911739\ttest: 0.2188839\tbest: 0.2188828 (12959)\ttotal: 11m 36s\tremaining: 15m 10s\n",
            "14000:\tlearn: 0.1894037\ttest: 0.2187738\tbest: 0.2187719 (13924)\ttotal: 12m 28s\tremaining: 14m 15s\n",
            "15000:\tlearn: 0.1876636\ttest: 0.2186399\tbest: 0.2186399 (15000)\ttotal: 13m 20s\tremaining: 13m 20s\n",
            "16000:\tlearn: 0.1859135\ttest: 0.2185396\tbest: 0.2185394 (15998)\ttotal: 14m 13s\tremaining: 12m 26s\n",
            "17000:\tlearn: 0.1842141\ttest: 0.2184314\tbest: 0.2184307 (16999)\ttotal: 15m 5s\tremaining: 11m 32s\n",
            "18000:\tlearn: 0.1826025\ttest: 0.2183312\tbest: 0.2183312 (18000)\ttotal: 15m 57s\tremaining: 10m 38s\n",
            "19000:\tlearn: 0.1809639\ttest: 0.2182413\tbest: 0.2182406 (18998)\ttotal: 16m 50s\tremaining: 9m 44s\n",
            "20000:\tlearn: 0.1793429\ttest: 0.2181810\tbest: 0.2181783 (19978)\ttotal: 17m 43s\tremaining: 8m 51s\n",
            "21000:\tlearn: 0.1777297\ttest: 0.2181168\tbest: 0.2181155 (20988)\ttotal: 18m 36s\tremaining: 7m 58s\n",
            "22000:\tlearn: 0.1761528\ttest: 0.2180394\tbest: 0.2180385 (21994)\ttotal: 19m 29s\tremaining: 7m 5s\n",
            "23000:\tlearn: 0.1745892\ttest: 0.2179907\tbest: 0.2179907 (22997)\ttotal: 20m 21s\tremaining: 6m 11s\n",
            "24000:\tlearn: 0.1730427\ttest: 0.2179289\tbest: 0.2179280 (23991)\ttotal: 21m 14s\tremaining: 5m 18s\n",
            "25000:\tlearn: 0.1715056\ttest: 0.2178885\tbest: 0.2178844 (24945)\ttotal: 22m 8s\tremaining: 4m 25s\n",
            "26000:\tlearn: 0.1699871\ttest: 0.2178628\tbest: 0.2178590 (25979)\ttotal: 23m 1s\tremaining: 3m 32s\n",
            "27000:\tlearn: 0.1684905\ttest: 0.2178319\tbest: 0.2178291 (26732)\ttotal: 23m 55s\tremaining: 2m 39s\n",
            "28000:\tlearn: 0.1670031\ttest: 0.2177809\tbest: 0.2177807 (27934)\ttotal: 24m 48s\tremaining: 1m 46s\n",
            "29000:\tlearn: 0.1655542\ttest: 0.2177505\tbest: 0.2177505 (29000)\ttotal: 25m 42s\tremaining: 53.1s\n",
            "29999:\tlearn: 0.1641476\ttest: 0.2177306\tbest: 0.2177221 (29862)\ttotal: 26m 35s\tremaining: 0us\n",
            "bestTest = 0.2177220888\n",
            "bestIteration = 29862\n",
            "Shrink model to first 29863 iterations.\n",
            "Amex Metric = 0.7951055279891672 \n",
            "\n",
            "#########################\n",
            "Overall Amex metric: 0.7947302296095151\n"
          ]
        }
      ],
      "source": [
        "importances = []\n",
        "oof = []\n",
        "gc.collect()\n",
        "\n",
        "clf = CatBoostClassifier(**cat_params)\n",
        "skf = KFold(n_splits=FOLDS, shuffle=True, random_state=SEED)\n",
        "for fold,(train_idx, valid_idx) in enumerate(skf.split(train, train.target)):\n",
        "    print('#'*25)\n",
        "    print('### Fold',fold+1)\n",
        "    print('### Train size',len(train_idx),'Valid size',len(valid_idx))\n",
        "    print(f'### Training with 100% fold data...')\n",
        "    print('#'*25)\n",
        "    \n",
        "    # TRAIN, VALID, TEST FOR FOLD K\n",
        "    X_train = train.loc[train_idx, FEATURES]\n",
        "    X_valid = train.target.iloc[train_idx]\n",
        "    y_train = train.loc[valid_idx, FEATURES]\n",
        "    y_valid = train.target.iloc[valid_idx]\n",
        "    \n",
        "    # TRAIN MODEL FOLD K\n",
        "    model = clf.fit(X_train,\n",
        "                    X_valid,\n",
        "                    cat_features=cat_features_last,\n",
        "                    eval_set=[(y_train, y_valid)],\n",
        "                    use_best_model=True,\n",
        "                    early_stopping_rounds=500,\n",
        "                    verbose_eval=1000)\n",
        "    model.save_model(f'CAT_v{VER}_fold{fold}.cbm')\n",
        "    \n",
        "    # GET FEATURE IMPORTANCE FOR FOLD K\n",
        "    dd = model.feature_importances_\n",
        "    df = pd.DataFrame({'feature':FEATURES,f'importance_{fold}':dd})\n",
        "    importances.append(df)\n",
        "            \n",
        "    # INFER OOF FOLD K\n",
        "    oof_preds = model.predict_proba(y_train)[:, 1]\n",
        "    acc = amex_metric_np(y_valid.values, oof_preds)\n",
        "    print('Amex Metric =',acc,'\\n')\n",
        "\n",
        "    df = train.loc[valid_idx, ['customer_ID','target'] ].copy()\n",
        "    df['oof_preds'] = oof_preds\n",
        "    oof.append(df)\n",
        "    \n",
        "    del X_train, y_train, dd, df\n",
        "    del X_valid, y_valid, model\n",
        "    _ = gc.collect()\n",
        "    \n",
        "print('#'*25)\n",
        "oof = pd.concat(oof,axis=0,ignore_index=True).set_index('customer_ID')\n",
        "acc = amex_metric_np(oof.target.values, oof.oof_preds.values)\n",
        "print(f\"Overall Amex metric: {acc}\")"
      ]
    },
    {
      "cell_type": "code",
      "execution_count": 15,
      "id": "9382e3d0",
      "metadata": {
        "execution": {
          "iopub.execute_input": "2022-07-15T16:48:45.305370Z",
          "iopub.status.busy": "2022-07-15T16:48:45.304754Z",
          "iopub.status.idle": "2022-07-15T16:48:45.407975Z",
          "shell.execute_reply": "2022-07-15T16:48:45.407068Z"
        },
        "papermill": {
          "duration": 0.123941,
          "end_time": "2022-07-15T16:48:45.409679",
          "exception": false,
          "start_time": "2022-07-15T16:48:45.285738",
          "status": "completed"
        },
        "tags": [],
        "id": "9382e3d0"
      },
      "outputs": [],
      "source": [
        "del train\n",
        "_ = gc.collect()"
      ]
    },
    {
      "cell_type": "code",
      "execution_count": 16,
      "id": "3610c1b3",
      "metadata": {
        "execution": {
          "iopub.execute_input": "2022-07-15T16:48:45.448225Z",
          "iopub.status.busy": "2022-07-15T16:48:45.447584Z",
          "iopub.status.idle": "2022-07-15T16:48:45.488638Z",
          "shell.execute_reply": "2022-07-15T16:48:45.487878Z"
        },
        "papermill": {
          "duration": 0.06166,
          "end_time": "2022-07-15T16:48:45.490338",
          "exception": false,
          "start_time": "2022-07-15T16:48:45.428678",
          "status": "completed"
        },
        "scrolled": true,
        "tags": [],
        "id": "3610c1b3"
      },
      "outputs": [],
      "source": [
        "df = importances[0].copy()\n",
        "for k in range(1,FOLDS): df = df.merge(importances[k], on='feature', how='left')\n",
        "df['importance'] = df.iloc[:,1:].mean(axis=1, numeric_only=True)\n",
        "df = df.sort_values('importance',ascending=False)\n",
        "df.to_csv(f'cat_feature_importance_v{VER}.csv',index=False)"
      ]
    },
    {
      "cell_type": "code",
      "execution_count": 17,
      "id": "69357676",
      "metadata": {
        "execution": {
          "iopub.execute_input": "2022-07-15T16:48:45.527853Z",
          "iopub.status.busy": "2022-07-15T16:48:45.527216Z",
          "iopub.status.idle": "2022-07-15T16:48:45.823812Z",
          "shell.execute_reply": "2022-07-15T16:48:45.823089Z"
        },
        "papermill": {
          "duration": 0.317159,
          "end_time": "2022-07-15T16:48:45.825544",
          "exception": false,
          "start_time": "2022-07-15T16:48:45.508385",
          "status": "completed"
        },
        "tags": [],
        "id": "69357676",
        "outputId": "76462e05-cfeb-49fb-de25-c964b72fe670",
        "colab": {
          "base_uri": "https://localhost:8080/",
          "height": 576
        }
      },
      "outputs": [
        {
          "output_type": "display_data",
          "data": {
            "text/plain": [
              "<Figure size 720x720 with 1 Axes>"
            ],
            "image/png": "[encoded data removed]"
          },
          "metadata": {
            "needs_background": "light"
          }
        }
      ],
      "source": [
        "NUM_FEATURES = 20\n",
        "plt.figure(figsize=(10,5*NUM_FEATURES//10))\n",
        "plt.barh(np.arange(NUM_FEATURES,0,-1), df.importance.values[:NUM_FEATURES])\n",
        "plt.yticks(np.arange(NUM_FEATURES,0,-1), df.feature.values[:NUM_FEATURES])\n",
        "plt.title(f'CAT Feature Importance - Top {NUM_FEATURES}')\n",
        "plt.show()"
      ]
    },
    {
      "cell_type": "markdown",
      "id": "bf46dad6",
      "metadata": {
        "papermill": {
          "duration": 0.018388,
          "end_time": "2022-07-15T16:48:45.862462",
          "exception": false,
          "start_time": "2022-07-15T16:48:45.844074",
          "status": "completed"
        },
        "tags": [],
        "id": "bf46dad6"
      },
      "source": [
        "# Test part"
      ]
    },
    {
      "cell_type": "code",
      "execution_count": 18,
      "id": "c28f1826",
      "metadata": {
        "execution": {
          "iopub.execute_input": "2022-07-15T16:48:45.901178Z",
          "iopub.status.busy": "2022-07-15T16:48:45.900848Z",
          "iopub.status.idle": "2022-07-15T16:48:45.907526Z",
          "shell.execute_reply": "2022-07-15T16:48:45.906709Z"
        },
        "papermill": {
          "duration": 0.027751,
          "end_time": "2022-07-15T16:48:45.909278",
          "exception": false,
          "start_time": "2022-07-15T16:48:45.881527",
          "status": "completed"
        },
        "tags": [],
        "id": "c28f1826"
      },
      "outputs": [],
      "source": [
        "# CALCULATE SIZE OF EACH SEPARATE TEST PART\n",
        "def get_rows(customers, test, NUM_PARTS = 4, verbose = ''):\n",
        "    chunk = len(customers)//NUM_PARTS\n",
        "    if verbose != '':\n",
        "        print(f'We will process {verbose} data as {NUM_PARTS} separate parts.')\n",
        "        print(f'There will be {chunk} customers in each part (except the last part).')\n",
        "        print('Below are number of rows in each part:')\n",
        "    rows = []\n",
        "\n",
        "    for k in range(NUM_PARTS):\n",
        "        if k==NUM_PARTS-1: cc = customers[k*chunk:]\n",
        "        else: cc = customers[k*chunk:(k+1)*chunk]\n",
        "        s = test.loc[test.customer_ID.isin(cc)].shape[0]\n",
        "        rows.append(s)\n",
        "    if verbose != '': print( rows )\n",
        "    return rows,chunk"
      ]
    },
    {
      "cell_type": "code",
      "execution_count": 19,
      "id": "8c7e70c5",
      "metadata": {
        "execution": {
          "iopub.execute_input": "2022-07-15T16:48:45.947705Z",
          "iopub.status.busy": "2022-07-15T16:48:45.947377Z",
          "iopub.status.idle": "2022-07-15T16:48:47.039525Z",
          "shell.execute_reply": "2022-07-15T16:48:47.038640Z"
        },
        "papermill": {
          "duration": 1.113806,
          "end_time": "2022-07-15T16:48:47.041416",
          "exception": false,
          "start_time": "2022-07-15T16:48:45.927610",
          "status": "completed"
        },
        "tags": [],
        "id": "8c7e70c5",
        "outputId": "3e01a7c2-579c-408d-9123-aeadf8e541b4",
        "colab": {
          "base_uri": "https://localhost:8080/"
        }
      },
      "outputs": [
        {
          "output_type": "stream",
          "name": "stdout",
          "text": [
            "We will process test data as 4 separate parts.\n",
            "There will be 231155 customers in each part (except the last part).\n",
            "Below are number of rows in each part:\n",
            "[231155, 231155, 231155, 231156]\n"
          ]
        }
      ],
      "source": [
        "# COMPUTE SIZE OF 4 PARTS FOR TEST DATA\n",
        "NUM_PARTS = 4\n",
        "\n",
        "customers = test[['customer_ID']].drop_duplicates().sort_index().values.flatten()\n",
        "rows,num_cust = get_rows(customers, test[['customer_ID']], NUM_PARTS = NUM_PARTS, verbose = 'test')"
      ]
    },
    {
      "cell_type": "code",
      "execution_count": 20,
      "id": "9cf53fd3",
      "metadata": {
        "execution": {
          "iopub.execute_input": "2022-07-15T16:48:47.081924Z",
          "iopub.status.busy": "2022-07-15T16:48:47.081615Z",
          "iopub.status.idle": "2022-07-15T16:50:55.407348Z",
          "shell.execute_reply": "2022-07-15T16:50:55.406352Z"
        },
        "papermill": {
          "duration": 128.349422,
          "end_time": "2022-07-15T16:50:55.410249",
          "exception": false,
          "start_time": "2022-07-15T16:48:47.060827",
          "status": "completed"
        },
        "tags": [],
        "id": "9cf53fd3",
        "outputId": "95b7ef8a-3e23-4e86-855a-5fcf2f470ad8",
        "colab": {
          "base_uri": "https://localhost:8080/"
        }
      },
      "outputs": [
        {
          "output_type": "stream",
          "name": "stdout",
          "text": [
            "\n",
            "Reading test data...\n",
            "=> Test part 1 has shape (231155, 2178)\n",
            "\n",
            "Reading test data...\n",
            "=> Test part 2 has shape (231155, 2178)\n",
            "\n",
            "Reading test data...\n",
            "=> Test part 3 has shape (231155, 2178)\n",
            "\n",
            "Reading test data...\n",
            "=> Test part 4 has shape (231156, 2178)\n"
          ]
        }
      ],
      "source": [
        "# INFER TEST DATA IN PARTS\n",
        "skip_rows = 0\n",
        "skip_cust = 0\n",
        "test_preds = []\n",
        "\n",
        "for k in range(NUM_PARTS):\n",
        "    # READ PART OF TEST DATA\n",
        "    print(f'\\nReading test data...')\n",
        "    test_copy = test.iloc[skip_rows:skip_rows+rows[k]].copy()\n",
        "    test_copy = test_copy.set_index('customer_ID')\n",
        "    skip_rows += rows[k]\n",
        "    print(f'=> Test part {k+1} has shape', test_copy.shape )\n",
        "    \n",
        "    # PROCESS AND FEATURE ENGINEER PART OF TEST DATA\n",
        "    if k==NUM_PARTS-1: test_copy = test_copy.loc[customers[skip_cust:]]\n",
        "    else: test_copy = test_copy.loc[customers[skip_cust:skip_cust+num_cust]]\n",
        "    skip_cust += num_cust\n",
        "        \n",
        "    # INFER XGB MODELS ON TEST DATA\n",
        "    model = CatBoostClassifier(**cat_params)\n",
        "    model.load_model(f'CAT_v{VER}_fold0.cbm')\n",
        "    preds = model.predict_proba(test_copy)[:, 1]\n",
        "    for f in range(1,FOLDS):\n",
        "        model.load_model(f'CAT_v{VER}_fold{f}.cbm')\n",
        "        preds += model.predict_proba(test_copy)[:, 1]\n",
        "    preds /= FOLDS\n",
        "    test_preds.append(preds)\n",
        "\n",
        "    # CLEAN MEMORY\n",
        "    del test_copy, model\n",
        "    _ = gc.collect()\n",
        "\n",
        "del test\n",
        "_ = gc.collect()"
      ]
    },
    {
      "cell_type": "markdown",
      "id": "02259545",
      "metadata": {
        "papermill": {
          "duration": 0.067515,
          "end_time": "2022-07-15T16:50:55.538577",
          "exception": false,
          "start_time": "2022-07-15T16:50:55.471062",
          "status": "completed"
        },
        "tags": [],
        "id": "02259545"
      },
      "source": [
        "# Submit"
      ]
    },
    {
      "cell_type": "code",
      "execution_count": 21,
      "id": "00d908fd",
      "metadata": {
        "execution": {
          "iopub.execute_input": "2022-07-15T16:50:55.628196Z",
          "iopub.status.busy": "2022-07-15T16:50:55.627855Z",
          "iopub.status.idle": "2022-07-15T16:51:02.864876Z",
          "shell.execute_reply": "2022-07-15T16:51:02.864114Z"
        },
        "papermill": {
          "duration": 7.268354,
          "end_time": "2022-07-15T16:51:02.866646",
          "exception": false,
          "start_time": "2022-07-15T16:50:55.598292",
          "status": "completed"
        },
        "tags": [],
        "id": "00d908fd",
        "outputId": "49df2d42-ff93-495a-ec33-417715710efa",
        "colab": {
          "base_uri": "https://localhost:8080/",
          "height": 224
        }
      },
      "outputs": [
        {
          "output_type": "stream",
          "name": "stdout",
          "text": [
            "Submission file shape is (924621, 2)\n"
          ]
        },
        {
          "output_type": "execute_result",
          "data": {
            "text/plain": [
              "                                         customer_ID  prediction\n",
              "0  00000469ba478561f23a92a868bd366de6f6527a684c9a...    0.016916\n",
              "1  00001bf2e77ff879fab36aa4fac689b9ba411dae63ae39...    0.001313\n",
              "2  0000210045da4f81e5f122c6bde5c2a617d03eef67f82c...    0.049867\n",
              "3  00003b41e58ede33b8daf61ab56d9952f17c9ad1c3976c...    0.194845\n",
              "4  00004b22eaeeeb0ec976890c1d9bfc14fd9427e98c4ee9...    0.855107"
            ],
            "text/html": [
              "\n",
              "  <div id=\"df-0c832295-a30b-4bdb-a3d2-e16630630c96\">\n",
              "    <div class=\"colab-df-container\">\n",
              "      <div>\n",
              "<style scoped>\n",
              "    .dataframe tbody tr th:only-of-type {\n",
              "        vertical-align: middle;\n",
              "    }\n",
              "\n",
              "    .dataframe tbody tr th {\n",
              "        vertical-align: top;\n",
              "    }\n",
              "\n",
              "    .dataframe thead th {\n",
              "        text-align: right;\n",
              "    }\n",
              "</style>\n",
              "<table border=\"1\" class=\"dataframe\">\n",
              "  <thead>\n",
              "    <tr style=\"text-align: right;\">\n",
              "      <th></th>\n",
              "      <th>customer_ID</th>\n",
              "      <th>prediction</th>\n",
              "    </tr>\n",
              "  </thead>\n",
              "  <tbody>\n",
              "    <tr>\n",
              "      <th>0</th>\n",
              "      <td>00000469ba478561f23a92a868bd366de6f6527a684c9a...</td>\n",
              "      <td>0.016916</td>\n",
              "    </tr>\n",
              "    <tr>\n",
              "      <th>1</th>\n",
              "      <td>00001bf2e77ff879fab36aa4fac689b9ba411dae63ae39...</td>\n",
              "      <td>0.001313</td>\n",
              "    </tr>\n",
              "    <tr>\n",
              "      <th>2</th>\n",
              "      <td>0000210045da4f81e5f122c6bde5c2a617d03eef67f82c...</td>\n",
              "      <td>0.049867</td>\n",
              "    </tr>\n",
              "    <tr>\n",
              "      <th>3</th>\n",
              "      <td>00003b41e58ede33b8daf61ab56d9952f17c9ad1c3976c...</td>\n",
              "      <td>0.194845</td>\n",
              "    </tr>\n",
              "    <tr>\n",
              "      <th>4</th>\n",
              "      <td>00004b22eaeeeb0ec976890c1d9bfc14fd9427e98c4ee9...</td>\n",
              "      <td>0.855107</td>\n",
              "    </tr>\n",
              "  </tbody>\n",
              "</table>\n",
              "</div>\n",
              "      <button class=\"colab-df-convert\" onclick=\"convertToInteractive('df-0c832295-a30b-4bdb-a3d2-e16630630c96')\"\n",
              "              title=\"Convert this dataframe to an interactive table.\"\n",
              "              style=\"display:none;\">\n",
              "        \n",
              "  <svg xmlns=\"http://www.w3.org/2000/svg\" height=\"24px\"viewBox=\"0 0 24 24\"\n",
              "       width=\"24px\">\n",
              "    <path d=\"M0 0h24v24H0V0z\" fill=\"none\"/>\n",
              "    <path d=\"M18.56 5.44l.94 2.06.94-2.06 2.06-.94-2.06-.94-.94-2.06-.94 2.06-2.06.94zm-11 1L8.5 8.5l.94-2.06 2.06-.94-2.06-.94L8.5 2.5l-.94 2.06-2.06.94zm10 10l.94 2.06.94-2.06 2.06-.94-2.06-.94-.94-2.06-.94 2.06-2.06.94z\"/><path d=\"M17.41 7.96l-1.37-1.37c-.4-.4-.92-.59-1.43-.59-.52 0-1.04.2-1.43.59L10.3 9.45l-7.72 7.72c-.78.78-.78 2.05 0 2.83L4 21.41c.39.39.9.59 1.41.59.51 0 1.02-.2 1.41-.59l7.78-7.78 2.81-2.81c.8-.78.8-2.07 0-2.86zM5.41 20L4 18.59l7.72-7.72 1.47 1.35L5.41 20z\"/>\n",
              "  </svg>\n",
              "      </button>\n",
              "      \n",
              "  <style>\n",
              "    .colab-df-container {\n",
              "      display:flex;\n",
              "      flex-wrap:wrap;\n",
              "      gap: 12px;\n",
              "    }\n",
              "\n",
              "    .colab-df-convert {\n",
              "      background-color: #E8F0FE;\n",
              "      border: none;\n",
              "      border-radius: 50%;\n",
              "      cursor: pointer;\n",
              "      display: none;\n",
              "      fill: #1967D2;\n",
              "      height: 32px;\n",
              "      padding: 0 0 0 0;\n",
              "      width: 32px;\n",
              "    }\n",
              "\n",
              "    .colab-df-convert:hover {\n",
              "      background-color: #E2EBFA;\n",
              "      box-shadow: 0px 1px 2px rgba(60, 64, 67, 0.3), 0px 1px 3px 1px rgba(60, 64, 67, 0.15);\n",
              "      fill: #174EA6;\n",
              "    }\n",
              "\n",
              "    [theme=dark] .colab-df-convert {\n",
              "      background-color: #3B4455;\n",
              "      fill: #D2E3FC;\n",
              "    }\n",
              "\n",
              "    [theme=dark] .colab-df-convert:hover {\n",
              "      background-color: #434B5C;\n",
              "      box-shadow: 0px 1px 3px 1px rgba(0, 0, 0, 0.15);\n",
              "      filter: drop-shadow(0px 1px 2px rgba(0, 0, 0, 0.3));\n",
              "      fill: #FFFFFF;\n",
              "    }\n",
              "  </style>\n",
              "\n",
              "      <script>\n",
              "        const buttonEl =\n",
              "          document.querySelector('#df-0c832295-a30b-4bdb-a3d2-e16630630c96 button.colab-df-convert');\n",
              "        buttonEl.style.display =\n",
              "          google.colab.kernel.accessAllowed ? 'block' : 'none';\n",
              "\n",
              "        async function convertToInteractive(key) {\n",
              "          const element = document.querySelector('#df-0c832295-a30b-4bdb-a3d2-e16630630c96');\n",
              "          const dataTable =\n",
              "            await google.colab.kernel.invokeFunction('convertToInteractive',\n",
              "                                                     [key], {});\n",
              "          if (!dataTable) return;\n",
              "\n",
              "          const docLinkHtml = 'Like what you see? Visit the ' +\n",
              "            '<a target=\"_blank\" href=https://colab.research.google.com/notebooks/data_table.ipynb>data table notebook</a>'\n",
              "            + ' to learn more about interactive tables.';\n",
              "          element.innerHTML = '';\n",
              "          dataTable['output_type'] = 'display_data';\n",
              "          await google.colab.output.renderOutput(dataTable, element);\n",
              "          const docLink = document.createElement('div');\n",
              "          docLink.innerHTML = docLinkHtml;\n",
              "          element.appendChild(docLink);\n",
              "        }\n",
              "      </script>\n",
              "    </div>\n",
              "  </div>\n",
              "  "
            ]
          },
          "metadata": {},
          "execution_count": 21
        }
      ],
      "source": [
        "# WRITE SUBMISSION FILE\n",
        "test = pd.DataFrame(index=customers,data={'prediction': np.concatenate(test_preds)})\n",
        "sub = pd.read_csv('/content/sample_submission.csv')[['customer_ID']]\n",
        "sub['customer_ID_hash'] = sub['customer_ID'].copy()\n",
        "sub = sub.set_index('customer_ID_hash')\n",
        "sub = sub.merge(test[['prediction']], left_index=True, right_index=True, how='left')\n",
        "sub = sub.reset_index(drop=True)\n",
        "\n",
        "# DISPLAY PREDICTIONS\n",
        "sub.to_csv(f'submission_cat_v{VER}_seed{SEED}_fold{FOLDS}.csv',index=False)\n",
        "print('Submission file shape is', sub.shape )\n",
        "sub.head()"
      ]
    },
    {
      "cell_type": "code",
      "execution_count": 22,
      "id": "533e5941",
      "metadata": {
        "execution": {
          "iopub.execute_input": "2022-07-15T16:51:02.918871Z",
          "iopub.status.busy": "2022-07-15T16:51:02.918494Z",
          "iopub.status.idle": "2022-07-15T16:51:03.267833Z",
          "shell.execute_reply": "2022-07-15T16:51:03.266949Z"
        },
        "papermill": {
          "duration": 0.374502,
          "end_time": "2022-07-15T16:51:03.269960",
          "exception": false,
          "start_time": "2022-07-15T16:51:02.895458",
          "status": "completed"
        },
        "tags": [],
        "id": "533e5941",
        "outputId": "f55f2622-2a8f-4403-f539-76be5acdd2af",
        "colab": {
          "base_uri": "https://localhost:8080/",
          "height": 281
        }
      },
      "outputs": [
        {
          "output_type": "display_data",
          "data": {
            "text/plain": [
              "<Figure size 432x288 with 1 Axes>"
            ],
            "image/png": "[encoded data removed]"
          },
          "metadata": {
            "needs_background": "light"
          }
        }
      ],
      "source": [
        "# PLOT PREDICTIONS\n",
        "plt.hist(sub.prediction, bins=100)\n",
        "plt.title('Test Predictions')\n",
        "plt.show()"
      ]
    },
    {
      "cell_type": "markdown",
      "id": "802623f7",
      "metadata": {
        "papermill": {
          "duration": 0.042841,
          "end_time": "2022-07-15T16:51:28.477165",
          "exception": false,
          "start_time": "2022-07-15T16:51:28.434324",
          "status": "completed"
        },
        "tags": [],
        "id": "802623f7"
      },
      "source": [
        "# Submit to Kaggle from Colab"
      ]
    },
    {
      "cell_type": "code",
      "execution_count": 23,
      "id": "efc54970",
      "metadata": {
        "execution": {
          "iopub.execute_input": "2022-07-15T16:51:28.552420Z",
          "iopub.status.busy": "2022-07-15T16:51:28.551829Z",
          "iopub.status.idle": "2022-07-15T16:51:28.557906Z",
          "shell.execute_reply": "2022-07-15T16:51:28.557166Z"
        },
        "papermill": {
          "duration": 0.048007,
          "end_time": "2022-07-15T16:51:28.561880",
          "exception": false,
          "start_time": "2022-07-15T16:51:28.513873",
          "status": "completed"
        },
        "tags": [],
        "id": "efc54970"
      },
      "outputs": [],
      "source": [
        "# Submit\n",
        "# !kaggle competitions submit -c amex-default-prediction -f submission_cat_v1_seed42_fold5.csv -m \"From colab seed 42 fold 5 lag plus\""
      ]
    },
    {
      "cell_type": "code",
      "execution_count": 24,
      "id": "aad5cc1a",
      "metadata": {
        "execution": {
          "iopub.execute_input": "2022-07-15T16:51:28.636400Z",
          "iopub.status.busy": "2022-07-15T16:51:28.635706Z",
          "iopub.status.idle": "2022-07-15T16:51:28.643060Z",
          "shell.execute_reply": "2022-07-15T16:51:28.640501Z"
        },
        "papermill": {
          "duration": 0.04911,
          "end_time": "2022-07-15T16:51:28.647823",
          "exception": false,
          "start_time": "2022-07-15T16:51:28.598713",
          "status": "completed"
        },
        "tags": [],
        "id": "aad5cc1a",
        "outputId": "0972f22f-1fbd-4277-95f2-0d2466238f69",
        "colab": {
          "base_uri": "https://localhost:8080/"
        }
      },
      "outputs": [
        {
          "output_type": "stream",
          "name": "stdout",
          "text": [
            "fileName                            date                 description                                               status    publicScore  privateScore  \n",
            "----------------------------------  -------------------  --------------------------------------------------------  --------  -----------  ------------  \n",
            "Amex Default Prediction - Ensemble  2022-07-23 11:15:04  Notebook Amex Default Prediction - Ensemble | Version 14  complete  0.798                      \n",
            "Amex Default Prediction - Ensemble  2022-07-23 11:08:12  Notebook Amex Default Prediction - Ensemble | Version 13  complete  0.798                      \n",
            "submission_xgb_v1_seed42_fold5.csv  2022-07-23 10:58:31  From colab seed 42 fold 5 lag plus                        complete  0.795                      \n",
            "submission_cat_v1_seed42_fold5.csv  2022-07-23 09:53:21  From colab seed 42 fold 5 lag plus                        complete  0.796                      \n",
            "Amex Default Prediction - Ensemble  2022-07-22 12:32:58  Notebook Amex Default Prediction - Ensemble | Version 12  complete  0.798                      \n",
            "Amex Default Prediction - Ensemble  2022-07-22 12:30:01  Notebook Amex Default Prediction - Ensemble | Version 11  complete  0.798                      \n",
            "submission_xgb_v1_seed42_fold2.csv  2022-07-22 12:19:29  From colab seed 42 fold 5 lag plus                        complete  0.794                      \n",
            "Amex Default Prediction - Ensemble  2022-07-21 12:48:16  Notebook Amex Default Prediction - Ensemble | Version 9   complete  0.798                      \n",
            "submission_xgb_v1_seed42_fold5.csv  2022-07-21 12:36:23  From colab seed 42 fold 5 lag plus                        complete  0.794                      \n",
            "Amex Default Prediction - Ensemble  2022-07-20 17:29:34  Notebook Amex Default Prediction - Ensemble | Version 8   complete  0.798                      \n",
            "Amex Default Prediction - Ensemble  2022-07-20 17:13:37  Notebook Amex Default Prediction - Ensemble | Version 7   complete  0.798                      \n",
            "Amex Default Prediction - Ensemble  2022-07-20 17:10:16  Notebook Amex Default Prediction - Ensemble | Version 6   complete  0.798                      \n",
            "Amex Default Prediction - Ensemble  2022-07-20 17:08:15  Notebook Amex Default Prediction - Ensemble | Version 5   complete  0.798                      \n",
            "submission_xgb_v1_seed42_fold5.csv  2022-07-20 16:58:31  From colab seed 42 fold 5 lag plus                        complete  0.794                      \n",
            "submission_cat_v1_seed42_fold5.csv  2022-07-19 17:31:52  From colab seed 42 fold 5 lag plus                        complete  0.795                      \n",
            "Amex Default Prediction - Ensemble  2022-07-19 16:37:40  Notebook Amex Default Prediction - Ensemble | Version 4   complete  0.798                      \n",
            "Amex Default Prediction - Ensemble  2022-07-19 16:34:17  Notebook Amex Default Prediction - Ensemble | Version 2   complete  0.798                      \n",
            "submission_cat_v1_seed42_fold5.csv  2022-07-19 12:11:59  From colab seed 42 fold 5 lag plus                        complete  0.795                      \n",
            "Amex Default Prediction with Cat    2022-07-18 23:01:33  Notebook Amex Default Prediction with Cat | Version 129   complete  0.798                      \n",
            "Amex Default Prediction with Cat    2022-07-18 22:58:51  Notebook Amex Default Prediction with Cat | Version 128   complete  0.798                      \n",
            "submission_cat_v1_seed42_fold5.csv  2022-07-18 22:27:50  From colab seed 42 fold 5 lag plus                        complete  0.795                      \n",
            "submission_lgb_v1_seed42_fold5.csv  2022-07-18 20:37:22  the first version. fe lag plus seed 52 fold 5 From colab  complete  0.797                      \n",
            "submission_cat_v1.csv               2022-07-18 06:30:57  From colab seed 42 fold 5 lag plus                        complete  0.795                      \n",
            "Amex Default Prediction with Cat    2022-07-16 16:14:20  Notebook Amex Default Prediction with Cat | Version 125   complete  0.794                      \n",
            "Amex Default Prediction with Cat    2022-07-15 16:33:32  Notebook Amex Default Prediction with Cat | Version 127   complete  0.798                      \n",
            "Amex Default Prediction with Cat    2022-07-15 16:24:25  Notebook Amex Default Prediction with Cat | Version 126   complete  0.798                      \n",
            "submission_cat_v123_seed52_794.csv  2022-07-15 16:12:09                                                            complete  0.795                      \n",
            "submission_cat_v123_0794.csv        2022-07-15 15:47:08                                                            complete  0.795                      \n",
            "Amex Default Prediction with Cat    2022-07-15 13:53:07  Notebook Amex Default Prediction with Cat | Version 123   complete  0.798                      \n",
            "Amex Default Prediction with Cat    2022-07-12 10:17:49  Notebook Amex Default Prediction with Cat | Version 122   complete  0.794                      \n",
            "Amex Default Prediction with Cat    2022-07-11 16:41:48  Notebook Amex Default Prediction with Cat | Version 119   complete  0.794                      \n",
            "Amex Default Prediction with Cat    2022-07-11 13:00:10  Notebook Amex Default Prediction with Cat | Version 116   complete  0.794                      \n",
            "Amex Default Prediction with Cat    2022-07-10 12:29:19  Notebook Amex Default Prediction with Cat | Version 115   complete  0.798                      \n",
            "Amex Default Prediction with Cat    2022-07-10 12:26:36  Notebook Amex Default Prediction with Cat | Version 114   complete  0.797                      \n",
            "Amex Default Prediction with Cat    2022-07-10 07:38:14  Notebook Amex Default Prediction with Cat | Version 109   complete  0.798                      \n",
            "Amex Default Prediction with Cat    2022-07-10 07:34:41  Notebook Amex Default Prediction with Cat | Version 108   complete  0.798                      \n",
            "Amex Default Prediction with Cat    2022-07-10 07:31:41  Notebook Amex Default Prediction with Cat | Version 107   complete  0.798                      \n",
            "Amex Default Prediction with Cat    2022-07-07 16:06:53  Notebook Amex Default Prediction with Cat | Version 106   complete  0.798                      \n",
            "Amex Default Prediction with Cat    2022-07-07 16:01:41  Notebook Amex Default Prediction with Cat | Version 105   complete  0.797                      \n",
            "Amex Default Prediction with Cat    2022-07-07 15:55:53  Notebook Amex Default Prediction with Cat | Version 104   complete  0.798                      \n",
            "Amex Default Prediction with Cat    2022-07-07 15:52:16  Notebook Amex Default Prediction with Cat | Version 103   complete  0.797                      \n",
            "Amex Default Prediction with Cat    2022-07-05 15:48:47  Notebook Amex Default Prediction with Cat | Version 102   complete  0.797                      \n",
            "Amex Default Prediction with Cat    2022-07-05 15:46:36  Notebook Amex Default Prediction with Cat | Version 101   complete  0.797                      \n",
            "Amex Default Prediction with Cat    2022-07-05 15:37:48  Notebook Amex Default Prediction with Cat | Version 100   complete  0.797                      \n",
            "Amex Default Prediction with Cat    2022-07-05 15:33:29  Notebook Amex Default Prediction with Cat | Version 99    complete  0.797                      \n",
            "Amex Default Prediction with Cat    2022-07-05 15:29:38  Notebook Amex Default Prediction with Cat | Version 98    complete  0.797                      \n",
            "Amex Default Prediction with Cat    2022-07-04 16:21:46  Notebook Amex Default Prediction with Cat | Version 97    complete  0.797                      \n",
            "Amex Default Prediction with Cat    2022-07-04 16:09:39  Notebook Amex Default Prediction with Cat | Version 95    complete  0.797                      \n",
            "Amex Default Prediction with Cat    2022-07-04 14:45:39  Notebook Amex Default Prediction with Cat | Version 93    complete  0.797                      \n",
            "Amex Default Prediction - XGBoost   2022-07-04 14:01:00  Notebook Amex Default Prediction - XGBoost | Version 25   complete  0.793                      \n"
          ]
        }
      ],
      "source": [
        "# Run after few seconds\n",
        "!kaggle competitions submissions amex-default-prediction"
      ]
    }
  ],
  "metadata": {
    "kernelspec": {
      "display_name": "Python 3",
      "language": "python",
      "name": "python3"
    },
    "language_info": {
      "codemirror_mode": {
        "name": "ipython",
        "version": 3
      },
      "file_extension": ".py",
      "mimetype": "text/x-python",
      "name": "python",
      "nbconvert_exporter": "python",
      "pygments_lexer": "ipython3",
      "version": "3.7.12"
    },
    "papermill": {
      "default_parameters": {},
      "duration": 2291.105208,
      "end_time": "2022-07-15T16:51:29.695242",
      "environment_variables": {},
      "exception": null,
      "input_path": "__notebook__.ipynb",
      "output_path": "__notebook__.ipynb",
      "parameters": {},
      "start_time": "2022-07-15T16:13:18.590034",
      "version": "2.3.4"
    },
    "colab": {
      "name": "amex-default-prediction-with-cat.ipynb",
      "provenance": [],
      "machine_shape": "hm"
    },
    "accelerator": "GPU",
    "gpuClass": "standard"
  },
  "nbformat": 4,
  "nbformat_minor": 5
}
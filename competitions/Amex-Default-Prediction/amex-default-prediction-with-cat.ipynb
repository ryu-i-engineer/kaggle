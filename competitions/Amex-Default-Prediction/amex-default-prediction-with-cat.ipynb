{
  "cells": [
    {
      "cell_type": "markdown",
      "id": "ec8911a0",
      "metadata": {
        "papermill": {
          "duration": 0.009252,
          "end_time": "2022-07-15T16:13:27.338460",
          "exception": false,
          "start_time": "2022-07-15T16:13:27.329208",
          "status": "completed"
        },
        "tags": [],
        "id": "ec8911a0"
      },
      "source": [
        "# Prepare for colab"
      ]
    },
    {
      "cell_type": "code",
      "execution_count": 1,
      "id": "bad112fb",
      "metadata": {
        "execution": {
          "iopub.execute_input": "2022-07-15T16:13:27.400098Z",
          "iopub.status.busy": "2022-07-15T16:13:27.399391Z",
          "iopub.status.idle": "2022-07-15T16:13:27.403356Z",
          "shell.execute_reply": "2022-07-15T16:13:27.402606Z"
        },
        "papermill": {
          "duration": 0.015568,
          "end_time": "2022-07-15T16:13:27.405067",
          "exception": false,
          "start_time": "2022-07-15T16:13:27.389499",
          "status": "completed"
        },
        "tags": [],
        "id": "bad112fb",
        "outputId": "717f9626-968e-467e-c816-f945a602e171",
        "colab": {
          "base_uri": "https://localhost:8080/"
        }
      },
      "outputs": [
        {
          "output_type": "stream",
          "name": "stdout",
          "text": [
            "Looking in indexes: https://pypi.org/simple, https://us-python.pkg.dev/colab-wheels/public/simple/\n",
            "Collecting catboost\n",
            "  Downloading catboost-1.0.6-cp37-none-manylinux1_x86_64.whl (76.6 MB)\n",
            "\u001b[K     |████████████████████████████████| 76.6 MB 1.1 MB/s \n",
            "\u001b[?25hRequirement already satisfied: pandas>=0.24.0 in /usr/local/lib/python3.7/dist-packages (from catboost) (1.3.5)\n",
            "Requirement already satisfied: plotly in /usr/local/lib/python3.7/dist-packages (from catboost) (5.5.0)\n",
            "Requirement already satisfied: graphviz in /usr/local/lib/python3.7/dist-packages (from catboost) (0.10.1)\n",
            "Requirement already satisfied: six in /usr/local/lib/python3.7/dist-packages (from catboost) (1.15.0)\n",
            "Requirement already satisfied: scipy in /usr/local/lib/python3.7/dist-packages (from catboost) (1.7.3)\n",
            "Requirement already satisfied: matplotlib in /usr/local/lib/python3.7/dist-packages (from catboost) (3.2.2)\n",
            "Requirement already satisfied: numpy>=1.16.0 in /usr/local/lib/python3.7/dist-packages (from catboost) (1.21.6)\n",
            "Requirement already satisfied: python-dateutil>=2.7.3 in /usr/local/lib/python3.7/dist-packages (from pandas>=0.24.0->catboost) (2.8.2)\n",
            "Requirement already satisfied: pytz>=2017.3 in /usr/local/lib/python3.7/dist-packages (from pandas>=0.24.0->catboost) (2022.1)\n",
            "Requirement already satisfied: kiwisolver>=1.0.1 in /usr/local/lib/python3.7/dist-packages (from matplotlib->catboost) (1.4.4)\n",
            "Requirement already satisfied: pyparsing!=2.0.4,!=2.1.2,!=2.1.6,>=2.0.1 in /usr/local/lib/python3.7/dist-packages (from matplotlib->catboost) (3.0.9)\n",
            "Requirement already satisfied: cycler>=0.10 in /usr/local/lib/python3.7/dist-packages (from matplotlib->catboost) (0.11.0)\n",
            "Requirement already satisfied: typing-extensions in /usr/local/lib/python3.7/dist-packages (from kiwisolver>=1.0.1->matplotlib->catboost) (4.1.1)\n",
            "Requirement already satisfied: tenacity>=6.2.0 in /usr/local/lib/python3.7/dist-packages (from plotly->catboost) (8.0.1)\n",
            "Installing collected packages: catboost\n",
            "Successfully installed catboost-1.0.6\n",
            "Looking in indexes: https://pypi.org/simple, https://us-python.pkg.dev/colab-wheels/public/simple/\n",
            "Requirement already satisfied: kaggle in /usr/local/lib/python3.7/dist-packages (1.5.12)\n",
            "Requirement already satisfied: tqdm in /usr/local/lib/python3.7/dist-packages (from kaggle) (4.64.0)\n",
            "Requirement already satisfied: python-slugify in /usr/local/lib/python3.7/dist-packages (from kaggle) (6.1.2)\n",
            "Requirement already satisfied: six>=1.10 in /usr/local/lib/python3.7/dist-packages (from kaggle) (1.15.0)\n",
            "Requirement already satisfied: requests in /usr/local/lib/python3.7/dist-packages (from kaggle) (2.23.0)\n",
            "Requirement already satisfied: urllib3 in /usr/local/lib/python3.7/dist-packages (from kaggle) (1.24.3)\n",
            "Requirement already satisfied: certifi in /usr/local/lib/python3.7/dist-packages (from kaggle) (2022.6.15)\n",
            "Requirement already satisfied: python-dateutil in /usr/local/lib/python3.7/dist-packages (from kaggle) (2.8.2)\n",
            "Requirement already satisfied: text-unidecode>=1.3 in /usr/local/lib/python3.7/dist-packages (from python-slugify->kaggle) (1.3)\n",
            "Requirement already satisfied: idna<3,>=2.5 in /usr/local/lib/python3.7/dist-packages (from requests->kaggle) (2.10)\n",
            "Requirement already satisfied: chardet<4,>=3.0.2 in /usr/local/lib/python3.7/dist-packages (from requests->kaggle) (3.0.4)\n"
          ]
        }
      ],
      "source": [
        "!pip install catboost\n",
        "!pip install kaggle"
      ]
    },
    {
      "cell_type": "markdown",
      "id": "3fa90515",
      "metadata": {
        "papermill": {
          "duration": 0.008806,
          "end_time": "2022-07-15T16:13:27.422550",
          "exception": false,
          "start_time": "2022-07-15T16:13:27.413744",
          "status": "completed"
        },
        "tags": [],
        "id": "3fa90515"
      },
      "source": [
        "## Upload API Token"
      ]
    },
    {
      "cell_type": "code",
      "execution_count": 2,
      "id": "54e44e29",
      "metadata": {
        "execution": {
          "iopub.execute_input": "2022-07-15T16:13:27.442237Z",
          "iopub.status.busy": "2022-07-15T16:13:27.441555Z",
          "iopub.status.idle": "2022-07-15T16:13:27.448196Z",
          "shell.execute_reply": "2022-07-15T16:13:27.447549Z"
        },
        "papermill": {
          "duration": 0.01814,
          "end_time": "2022-07-15T16:13:27.449796",
          "exception": false,
          "start_time": "2022-07-15T16:13:27.431656",
          "status": "completed"
        },
        "tags": [],
        "id": "54e44e29",
        "outputId": "e50cc493-5ced-44e9-f2bc-9ed451adee53",
        "colab": {
          "base_uri": "https://localhost:8080/"
        }
      },
      "outputs": [
        {
          "output_type": "stream",
          "name": "stdout",
          "text": [
            "Mounted at /content/drive\n"
          ]
        }
      ],
      "source": [
        "from google.colab import drive\n",
        "drive.mount('/content/drive')\n",
        "\n",
        "# Then move kaggle.json into the folder where the API expects to find it.\n",
        "!mkdir -p ~/.kaggle/ && cp /content/drive/MyDrive/backups/kaggle.json ~/.kaggle/ && chmod 600 ~/.kaggle/kaggle.json"
      ]
    },
    {
      "cell_type": "markdown",
      "id": "1abbc588",
      "metadata": {
        "papermill": {
          "duration": 0.008512,
          "end_time": "2022-07-15T16:13:27.467327",
          "exception": false,
          "start_time": "2022-07-15T16:13:27.458815",
          "status": "completed"
        },
        "tags": [],
        "id": "1abbc588"
      },
      "source": [
        "## Download and unzip dataset"
      ]
    },
    {
      "cell_type": "code",
      "execution_count": 3,
      "id": "c17f8dd7",
      "metadata": {
        "execution": {
          "iopub.execute_input": "2022-07-15T16:13:27.486038Z",
          "iopub.status.busy": "2022-07-15T16:13:27.485615Z",
          "iopub.status.idle": "2022-07-15T16:13:27.490276Z",
          "shell.execute_reply": "2022-07-15T16:13:27.489580Z"
        },
        "papermill": {
          "duration": 0.016071,
          "end_time": "2022-07-15T16:13:27.491993",
          "exception": false,
          "start_time": "2022-07-15T16:13:27.475922",
          "status": "completed"
        },
        "tags": [],
        "id": "c17f8dd7",
        "outputId": "e775d58b-7486-4959-b84e-86481ecd1358",
        "colab": {
          "base_uri": "https://localhost:8080/"
        }
      },
      "outputs": [
        {
          "output_type": "stream",
          "name": "stdout",
          "text": [
            "Downloading amex-fe-plus.zip to /content\n",
            "100% 3.84G/3.85G [00:31<00:00, 174MB/s]\n",
            "100% 3.85G/3.85G [00:31<00:00, 130MB/s]\n",
            "Archive:  /content/amex-fe-plus.zip\n",
            "  inflating: test_fe_plus_plus.parquet  \n",
            "  inflating: train_fe_plus_plus.parquet  \n"
          ]
        }
      ],
      "source": [
        "!kaggle datasets download -d ryuina/amex-fe-plus\n",
        "!unzip /content/amex-fe-plus.zip"
      ]
    },
    {
      "cell_type": "code",
      "execution_count": 4,
      "id": "e4df1701",
      "metadata": {
        "execution": {
          "iopub.execute_input": "2022-07-15T16:13:27.515341Z",
          "iopub.status.busy": "2022-07-15T16:13:27.514880Z",
          "iopub.status.idle": "2022-07-15T16:13:27.523654Z",
          "shell.execute_reply": "2022-07-15T16:13:27.522700Z"
        },
        "papermill": {
          "duration": 0.025128,
          "end_time": "2022-07-15T16:13:27.526436",
          "exception": false,
          "start_time": "2022-07-15T16:13:27.501308",
          "status": "completed"
        },
        "tags": [],
        "id": "e4df1701",
        "outputId": "bbf0ec7d-5405-4343-dd68-d0377ca2e7f3",
        "colab": {
          "base_uri": "https://localhost:8080/"
        }
      },
      "outputs": [
        {
          "output_type": "stream",
          "name": "stdout",
          "text": [
            "Downloading sample_submission.csv.zip to /content\n",
            " 77% 25.0M/32.4M [00:00<00:00, 125MB/s] \n",
            "100% 32.4M/32.4M [00:00<00:00, 131MB/s]\n",
            "Archive:  /content/sample_submission.csv.zip\n",
            "  inflating: sample_submission.csv   \n"
          ]
        }
      ],
      "source": [
        "!kaggle competitions download -c amex-default-prediction -f sample_submission.csv\n",
        "!unzip /content/sample_submission.csv.zip"
      ]
    },
    {
      "cell_type": "markdown",
      "id": "f4989bdc",
      "metadata": {
        "papermill": {
          "duration": 0.016438,
          "end_time": "2022-07-15T16:13:27.558017",
          "exception": false,
          "start_time": "2022-07-15T16:13:27.541579",
          "status": "completed"
        },
        "tags": [],
        "id": "f4989bdc"
      },
      "source": [
        "# Settings"
      ]
    },
    {
      "cell_type": "code",
      "execution_count": 5,
      "id": "95e00624",
      "metadata": {
        "_cell_guid": "b1076dfc-b9ad-4769-8c92-a6c4dae69d19",
        "_uuid": "8f2839f25d086af736a60e9eeb907d3b93b6e0e5",
        "execution": {
          "iopub.execute_input": "2022-07-15T16:13:27.588423Z",
          "iopub.status.busy": "2022-07-15T16:13:27.588075Z",
          "iopub.status.idle": "2022-07-15T16:13:28.957484Z",
          "shell.execute_reply": "2022-07-15T16:13:28.956421Z"
        },
        "papermill": {
          "duration": 1.38867,
          "end_time": "2022-07-15T16:13:28.960624",
          "exception": false,
          "start_time": "2022-07-15T16:13:27.571954",
          "status": "completed"
        },
        "tags": [],
        "id": "95e00624"
      },
      "outputs": [],
      "source": [
        "import pandas as pd\n",
        "import numpy as np\n",
        "import matplotlib.pyplot as plt\n",
        "import random\n",
        "\n",
        "from catboost import CatBoostClassifier, Pool\n",
        "from sklearn.preprocessing import LabelEncoder\n",
        "from sklearn.model_selection import KFold\n",
        "from tqdm import tqdm\n",
        "\n",
        "import os\n",
        "import gc; gc.enable()\n",
        "\n",
        "import warnings\n",
        "warnings.filterwarnings('ignore')"
      ]
    },
    {
      "cell_type": "code",
      "execution_count": 6,
      "id": "004febdf",
      "metadata": {
        "execution": {
          "iopub.execute_input": "2022-07-15T16:13:28.994650Z",
          "iopub.status.busy": "2022-07-15T16:13:28.994155Z",
          "iopub.status.idle": "2022-07-15T16:13:29.006339Z",
          "shell.execute_reply": "2022-07-15T16:13:29.002101Z"
        },
        "papermill": {
          "duration": 0.030433,
          "end_time": "2022-07-15T16:13:29.008239",
          "exception": false,
          "start_time": "2022-07-15T16:13:28.977806",
          "status": "completed"
        },
        "tags": [],
        "id": "004febdf"
      },
      "outputs": [],
      "source": [
        "VER=1\n",
        "SEED = 42\n",
        "FOLDS = 5\n",
        "\n",
        "cat_features = [\"B_30\", \"B_38\", \"D_114\", \"D_116\", \"D_117\", \"D_120\", \"D_126\", \"D_63\", \"D_64\", \"D_66\", \"D_68\"]\n",
        "\n",
        "def seed_everything(seed):\n",
        "    random.seed(seed)\n",
        "    np.random.seed(seed)\n",
        "    os.environ['PYTHONHASHSEED'] = str(seed)\n",
        "\n",
        "seed_everything(SEED)"
      ]
    },
    {
      "cell_type": "code",
      "execution_count": 7,
      "id": "c0e94a28",
      "metadata": {
        "execution": {
          "iopub.execute_input": "2022-07-15T16:13:29.093540Z",
          "iopub.status.busy": "2022-07-15T16:13:29.093091Z",
          "iopub.status.idle": "2022-07-15T16:14:14.382522Z",
          "shell.execute_reply": "2022-07-15T16:14:14.381643Z"
        },
        "papermill": {
          "duration": 45.307941,
          "end_time": "2022-07-15T16:14:14.385086",
          "exception": false,
          "start_time": "2022-07-15T16:13:29.077145",
          "status": "completed"
        },
        "tags": [],
        "id": "c0e94a28"
      },
      "outputs": [],
      "source": [
        "train = pd.read_parquet(\"/content/train_fe_plus_plus.parquet\")\n",
        "# train = train.reset_index(level=0)\n",
        "test = pd.read_parquet(\"/content/test_fe_plus_plus.parquet\")\n",
        "# test = test.reset_index(level=0)"
      ]
    },
    {
      "cell_type": "code",
      "execution_count": 8,
      "id": "81cbcbdf",
      "metadata": {
        "execution": {
          "iopub.execute_input": "2022-07-15T16:14:14.404618Z",
          "iopub.status.busy": "2022-07-15T16:14:14.404283Z",
          "iopub.status.idle": "2022-07-15T16:14:16.433273Z",
          "shell.execute_reply": "2022-07-15T16:14:16.432437Z"
        },
        "papermill": {
          "duration": 2.041229,
          "end_time": "2022-07-15T16:14:16.435648",
          "exception": false,
          "start_time": "2022-07-15T16:14:14.394419",
          "status": "completed"
        },
        "tags": [],
        "id": "81cbcbdf"
      },
      "outputs": [],
      "source": [
        "cat_features_last = [f\"{cf}_last\" for cf in cat_features]\n",
        "\n",
        "le_encoder = LabelEncoder()\n",
        "for categorical_feature in cat_features_last:\n",
        "    train[categorical_feature] = le_encoder.fit_transform(train[categorical_feature])\n",
        "    test[categorical_feature] = le_encoder.transform(test[categorical_feature])"
      ]
    },
    {
      "cell_type": "code",
      "execution_count": 9,
      "id": "b931bba5",
      "metadata": {
        "execution": {
          "iopub.execute_input": "2022-07-15T16:14:16.455441Z",
          "iopub.status.busy": "2022-07-15T16:14:16.455092Z",
          "iopub.status.idle": "2022-07-15T16:14:18.013098Z",
          "shell.execute_reply": "2022-07-15T16:14:18.012027Z"
        },
        "papermill": {
          "duration": 1.570551,
          "end_time": "2022-07-15T16:14:18.015521",
          "exception": false,
          "start_time": "2022-07-15T16:14:16.444970",
          "status": "completed"
        },
        "tags": [],
        "id": "b931bba5",
        "colab": {
          "base_uri": "https://localhost:8080/"
        },
        "outputId": "72222a2c-6b2e-4888-fd03-657273fa8639"
      },
      "outputs": [
        {
          "output_type": "stream",
          "name": "stderr",
          "text": [
            "100%|██████████| 1284/1284 [05:48<00:00,  3.69it/s]\n"
          ]
        }
      ],
      "source": [
        "# https://www.kaggle.com/code/ragnar123/amex-lgbm-dart-cv-0-7963\n",
        "# Round last float features to 2 decimal place\n",
        "float_cols = list(train.dtypes[(train.dtypes == 'float32') | (train.dtypes == 'float64')].index)\n",
        "float_cols = [col for col in float_cols if 'last' in col]\n",
        "\n",
        "for col in float_cols:\n",
        "    train[col + '_round2'] = train[col].round(2)\n",
        "    test[col + '_round2'] = test[col].round(2)\n",
        "\n",
        "num_cols = [col for col in train.columns if 'last' in col]\n",
        "num_cols = [col[:-5] for col in num_cols if 'round' not in col]\n",
        "for col in num_cols:\n",
        "    try:\n",
        "        train[f'{col}_last_min_diff'] = train[f'{col}_last'] - train[f'{col}_min']\n",
        "        test[f'{col}_last_min_diff'] = test[f'{col}_last'] - test[f'{col}_min']\n",
        "\n",
        "        train[f'{col}_last_max_diff'] = train[f'{col}_last'] - train[f'{col}_max']\n",
        "        test[f'{col}_last_max_diff'] = test[f'{col}_last'] - test[f'{col}_max']\n",
        "    except: pass\n",
        "num_cols = list(train.dtypes[(train.dtypes == 'float32') | (train.dtypes == 'float64')].index)\n",
        "for col in tqdm(num_cols):\n",
        "    train[col] = train[col].astype(np.float16)\n",
        "    test[col] = test[col].astype(np.float16)"
      ]
    },
    {
      "cell_type": "code",
      "execution_count": 10,
      "id": "ba13c62d",
      "metadata": {
        "execution": {
          "iopub.execute_input": "2022-07-15T16:14:18.035731Z",
          "iopub.status.busy": "2022-07-15T16:14:18.035409Z",
          "iopub.status.idle": "2022-07-15T16:14:24.212689Z",
          "shell.execute_reply": "2022-07-15T16:14:24.207569Z"
        },
        "papermill": {
          "duration": 6.191719,
          "end_time": "2022-07-15T16:14:24.216845",
          "exception": false,
          "start_time": "2022-07-15T16:14:18.025126",
          "status": "completed"
        },
        "tags": [],
        "id": "ba13c62d",
        "outputId": "c121a2a6-105c-410e-cce4-78ab4ec6c6f2",
        "colab": {
          "base_uri": "https://localhost:8080/"
        }
      },
      "outputs": [
        {
          "output_type": "stream",
          "name": "stdout",
          "text": [
            "We have 2001 features!\n"
          ]
        }
      ],
      "source": [
        "train = train.set_index('customer_ID')\n",
        "train = train.sort_index().reset_index()\n",
        "FEATURES = train.drop(columns=['customer_ID', 'target']).columns\n",
        "\n",
        "print(f\"We have {len(FEATURES)} features!\")"
      ]
    },
    {
      "cell_type": "code",
      "execution_count": 11,
      "id": "f0ecff48",
      "metadata": {
        "execution": {
          "iopub.execute_input": "2022-07-15T16:14:24.269747Z",
          "iopub.status.busy": "2022-07-15T16:14:24.269149Z",
          "iopub.status.idle": "2022-07-15T16:14:24.287474Z",
          "shell.execute_reply": "2022-07-15T16:14:24.284982Z"
        },
        "papermill": {
          "duration": 0.043293,
          "end_time": "2022-07-15T16:14:24.290609",
          "exception": false,
          "start_time": "2022-07-15T16:14:24.247316",
          "status": "completed"
        },
        "tags": [],
        "id": "f0ecff48"
      },
      "outputs": [],
      "source": [
        "# https://www.kaggle.com/competitions/amex-default-prediction/discussion/328020\n",
        "# https://www.kaggle.com/code/rohanrao/amex-competition-metric-implementations\n",
        "def amex_metric_np(target: np.ndarray, preds: np.ndarray) -> float:\n",
        "    indices = np.argsort(preds)[::-1]\n",
        "    preds, target = preds[indices], target[indices]\n",
        "\n",
        "    n_pos = np.sum(target)\n",
        "    n_neg = target.shape[0] - n_pos\n",
        "    \n",
        "    weight = 20.0 - target * 19.0\n",
        "    cum_norm_weight = (weight * (1 / weight.sum())).cumsum()\n",
        "    four_pct_mask = cum_norm_weight <= 0.04\n",
        "    d = np.sum(target[four_pct_mask]) / n_pos\n",
        "    \n",
        "    lorentz = (target * (1 / n_pos)).cumsum()\n",
        "    gini = ((lorentz - cum_norm_weight) * weight).sum()\n",
        "    gini_max = 10 * n_neg * (1 - 19 / (n_pos + 20 * n_neg))\n",
        "\n",
        "    g = gini / gini_max\n",
        "\n",
        "    return 0.5 * (g + d)"
      ]
    },
    {
      "cell_type": "code",
      "execution_count": 12,
      "id": "155fb197",
      "metadata": {
        "execution": {
          "iopub.execute_input": "2022-07-15T16:14:24.334040Z",
          "iopub.status.busy": "2022-07-15T16:14:24.333456Z",
          "iopub.status.idle": "2022-07-15T16:14:24.341948Z",
          "shell.execute_reply": "2022-07-15T16:14:24.341087Z"
        },
        "papermill": {
          "duration": 0.030338,
          "end_time": "2022-07-15T16:14:24.346412",
          "exception": false,
          "start_time": "2022-07-15T16:14:24.316074",
          "status": "completed"
        },
        "tags": [],
        "id": "155fb197"
      },
      "outputs": [],
      "source": [
        "cat_params = {\n",
        "    'iterations':25000,\n",
        "    'random_state':SEED,\n",
        "    'learning_rate':0.02,\n",
        "\n",
        "    # 'depth': 4,\n",
        "    'max_depth': 7,\n",
        "    \"od_type\": 'Iter',\n",
        "    'l2_leaf_reg':70,\n",
        "    # 'one_hot_max_size':20,\n",
        "    # 'random_strength': 0.5,\n",
        "    # 'bagging_temperature': 0.75,\n",
        "\n",
        "    # 'num_leaves': 100,\n",
        "    # 'min_child_samples': 40,\n",
        "\n",
        "    'task_type':\"GPU\",\n",
        "    'border_count':128,\n",
        "}"
      ]
    },
    {
      "cell_type": "code",
      "execution_count": 13,
      "id": "72e0dac6",
      "metadata": {
        "execution": {
          "iopub.execute_input": "2022-07-15T16:14:24.385070Z",
          "iopub.status.busy": "2022-07-15T16:14:24.384608Z",
          "iopub.status.idle": "2022-07-15T16:48:45.264974Z",
          "shell.execute_reply": "2022-07-15T16:48:45.263500Z"
        },
        "papermill": {
          "duration": 2060.899656,
          "end_time": "2022-07-15T16:48:45.266833",
          "exception": false,
          "start_time": "2022-07-15T16:14:24.367177",
          "status": "completed"
        },
        "tags": [],
        "id": "72e0dac6",
        "outputId": "276e1b62-2f35-4f4e-ffad-13cab5407f51",
        "colab": {
          "base_uri": "https://localhost:8080/"
        }
      },
      "outputs": [
        {
          "output_type": "stream",
          "name": "stdout",
          "text": [
            "#########################\n",
            "### Fold 1\n",
            "### Train size 367130 Valid size 91783\n",
            "### Training with 100% fold data...\n",
            "#########################\n",
            "0:\tlearn: 0.6674341\ttest: 0.6674450\tbest: 0.6674450 (0)\ttotal: 97.9ms\tremaining: 40m 48s\n",
            "1000:\tlearn: 0.2142544\ttest: 0.2209667\tbest: 0.2209667 (1000)\ttotal: 1m 23s\tremaining: 33m 32s\n",
            "2000:\tlearn: 0.2072053\ttest: 0.2190475\tbest: 0.2190475 (2000)\ttotal: 2m 45s\tremaining: 31m 42s\n",
            "3000:\tlearn: 0.2018625\ttest: 0.2182203\tbest: 0.2182196 (2998)\ttotal: 4m 6s\tremaining: 30m 5s\n",
            "4000:\tlearn: 0.1973312\ttest: 0.2177014\tbest: 0.2177014 (4000)\ttotal: 5m 26s\tremaining: 28m 32s\n",
            "5000:\tlearn: 0.1929507\ttest: 0.2173624\tbest: 0.2173623 (4998)\ttotal: 6m 46s\tremaining: 27m 6s\n",
            "6000:\tlearn: 0.1888262\ttest: 0.2171044\tbest: 0.2171038 (5952)\ttotal: 8m 7s\tremaining: 25m 43s\n",
            "7000:\tlearn: 0.1849364\ttest: 0.2169559\tbest: 0.2169483 (6966)\ttotal: 9m 27s\tremaining: 24m 19s\n",
            "8000:\tlearn: 0.1809819\ttest: 0.2168253\tbest: 0.2168189 (7959)\ttotal: 10m 48s\tremaining: 22m 57s\n",
            "9000:\tlearn: 0.1771662\ttest: 0.2166547\tbest: 0.2166547 (9000)\ttotal: 12m 9s\tremaining: 21m 36s\n",
            "10000:\tlearn: 0.1734772\ttest: 0.2165876\tbest: 0.2165827 (9947)\ttotal: 13m 30s\tremaining: 20m 15s\n",
            "11000:\tlearn: 0.1699999\ttest: 0.2165020\tbest: 0.2165012 (10990)\ttotal: 14m 50s\tremaining: 18m 53s\n",
            "12000:\tlearn: 0.1665435\ttest: 0.2164562\tbest: 0.2164441 (11618)\ttotal: 16m 11s\tremaining: 17m 32s\n",
            "13000:\tlearn: 0.1631236\ttest: 0.2163640\tbest: 0.2163617 (12993)\ttotal: 17m 32s\tremaining: 16m 11s\n",
            "14000:\tlearn: 0.1598218\ttest: 0.2163421\tbest: 0.2163355 (13873)\ttotal: 18m 54s\tremaining: 14m 51s\n",
            "15000:\tlearn: 0.1565776\ttest: 0.2163113\tbest: 0.2163068 (14988)\ttotal: 20m 15s\tremaining: 13m 30s\n",
            "16000:\tlearn: 0.1535207\ttest: 0.2162965\tbest: 0.2162835 (15773)\ttotal: 21m 36s\tremaining: 12m 9s\n",
            "17000:\tlearn: 0.1505231\ttest: 0.2162517\tbest: 0.2162491 (16974)\ttotal: 22m 57s\tremaining: 10m 48s\n",
            "18000:\tlearn: 0.1474866\ttest: 0.2162645\tbest: 0.2162416 (17818)\ttotal: 24m 19s\tremaining: 9m 27s\n",
            "19000:\tlearn: 0.1445764\ttest: 0.2162982\tbest: 0.2162416 (17818)\ttotal: 25m 40s\tremaining: 8m 6s\n",
            "bestTest = 0.216241557\n",
            "bestIteration = 17818\n",
            "Shrink model to first 17819 iterations.\n",
            "Amex Metric = 0.7963812206888158 \n",
            "\n",
            "#########################\n",
            "### Fold 2\n",
            "### Train size 367130 Valid size 91783\n",
            "### Training with 100% fold data...\n",
            "#########################\n",
            "0:\tlearn: 0.6672115\ttest: 0.6671909\tbest: 0.6671909 (0)\ttotal: 91.3ms\tremaining: 38m 2s\n",
            "1000:\tlearn: 0.2141398\ttest: 0.2209765\tbest: 0.2209765 (1000)\ttotal: 1m 24s\tremaining: 33m 44s\n",
            "2000:\tlearn: 0.2071258\ttest: 0.2190329\tbest: 0.2190329 (2000)\ttotal: 2m 45s\tremaining: 31m 45s\n",
            "3000:\tlearn: 0.2016360\ttest: 0.2182015\tbest: 0.2182015 (3000)\ttotal: 4m 6s\tremaining: 30m 9s\n",
            "4000:\tlearn: 0.1968495\ttest: 0.2176081\tbest: 0.2176081 (4000)\ttotal: 5m 27s\tremaining: 28m 41s\n",
            "5000:\tlearn: 0.1925332\ttest: 0.2172166\tbest: 0.2172154 (4997)\ttotal: 6m 48s\tremaining: 27m 14s\n",
            "6000:\tlearn: 0.1885215\ttest: 0.2169456\tbest: 0.2169456 (6000)\ttotal: 8m 9s\tremaining: 25m 48s\n",
            "7000:\tlearn: 0.1846297\ttest: 0.2167257\tbest: 0.2167257 (7000)\ttotal: 9m 29s\tremaining: 24m 24s\n",
            "8000:\tlearn: 0.1807827\ttest: 0.2165460\tbest: 0.2165460 (8000)\ttotal: 10m 50s\tremaining: 23m 1s\n",
            "9000:\tlearn: 0.1771160\ttest: 0.2164227\tbest: 0.2164200 (8900)\ttotal: 12m 10s\tremaining: 21m 38s\n",
            "10000:\tlearn: 0.1734238\ttest: 0.2163110\tbest: 0.2163102 (9997)\ttotal: 13m 31s\tremaining: 20m 17s\n",
            "11000:\tlearn: 0.1699736\ttest: 0.2162322\tbest: 0.2162236 (10911)\ttotal: 14m 52s\tremaining: 18m 55s\n",
            "12000:\tlearn: 0.1665675\ttest: 0.2161701\tbest: 0.2161650 (11931)\ttotal: 16m 12s\tremaining: 17m 33s\n",
            "13000:\tlearn: 0.1633345\ttest: 0.2161066\tbest: 0.2160995 (12927)\ttotal: 17m 33s\tremaining: 16m 12s\n",
            "14000:\tlearn: 0.1600629\ttest: 0.2160737\tbest: 0.2160597 (13556)\ttotal: 18m 54s\tremaining: 14m 51s\n",
            "15000:\tlearn: 0.1567963\ttest: 0.2160781\tbest: 0.2160597 (13556)\ttotal: 20m 16s\tremaining: 13m 30s\n",
            "bestTest = 0.216059721\n",
            "bestIteration = 13556\n",
            "Shrink model to first 13557 iterations.\n",
            "Amex Metric = 0.7938035513397256 \n",
            "\n",
            "#########################\n",
            "### Fold 3\n",
            "### Train size 367130 Valid size 91783\n",
            "### Training with 100% fold data...\n",
            "#########################\n",
            "0:\tlearn: 0.6674156\ttest: 0.6673035\tbest: 0.6673035 (0)\ttotal: 93.3ms\tremaining: 38m 52s\n",
            "1000:\tlearn: 0.2147691\ttest: 0.2180286\tbest: 0.2180286 (1000)\ttotal: 1m 24s\tremaining: 33m 38s\n",
            "2000:\tlearn: 0.2075580\ttest: 0.2160543\tbest: 0.2160543 (2000)\ttotal: 2m 45s\tremaining: 31m 47s\n",
            "3000:\tlearn: 0.2020898\ttest: 0.2151703\tbest: 0.2151698 (2998)\ttotal: 4m 6s\tremaining: 30m 8s\n",
            "4000:\tlearn: 0.1974100\ttest: 0.2146699\tbest: 0.2146688 (3999)\ttotal: 5m 27s\tremaining: 28m 37s\n",
            "5000:\tlearn: 0.1932773\ttest: 0.2143209\tbest: 0.2143209 (4999)\ttotal: 6m 47s\tremaining: 27m 9s\n",
            "6000:\tlearn: 0.1893713\ttest: 0.2140421\tbest: 0.2140416 (5999)\ttotal: 8m 8s\tremaining: 25m 45s\n",
            "7000:\tlearn: 0.1855189\ttest: 0.2137937\tbest: 0.2137937 (7000)\ttotal: 9m 28s\tremaining: 24m 21s\n",
            "8000:\tlearn: 0.1818259\ttest: 0.2136393\tbest: 0.2136393 (8000)\ttotal: 10m 48s\tremaining: 22m 58s\n",
            "9000:\tlearn: 0.1782355\ttest: 0.2134565\tbest: 0.2134565 (8999)\ttotal: 12m 9s\tremaining: 21m 35s\n",
            "10000:\tlearn: 0.1747755\ttest: 0.2133296\tbest: 0.2133266 (9982)\ttotal: 13m 29s\tremaining: 20m 13s\n",
            "11000:\tlearn: 0.1713834\ttest: 0.2132099\tbest: 0.2132098 (10996)\ttotal: 14m 49s\tremaining: 18m 52s\n",
            "12000:\tlearn: 0.1680539\ttest: 0.2130914\tbest: 0.2130913 (11946)\ttotal: 16m 10s\tremaining: 17m 31s\n",
            "13000:\tlearn: 0.1647911\ttest: 0.2130285\tbest: 0.2130285 (13000)\ttotal: 17m 31s\tremaining: 16m 10s\n",
            "14000:\tlearn: 0.1615455\ttest: 0.2129214\tbest: 0.2129196 (13843)\ttotal: 18m 52s\tremaining: 14m 49s\n",
            "15000:\tlearn: 0.1583259\ttest: 0.2128733\tbest: 0.2128685 (14922)\ttotal: 20m 13s\tremaining: 13m 28s\n",
            "16000:\tlearn: 0.1552092\ttest: 0.2128205\tbest: 0.2128203 (15998)\ttotal: 21m 34s\tremaining: 12m 8s\n",
            "17000:\tlearn: 0.1522869\ttest: 0.2127611\tbest: 0.2127611 (16999)\ttotal: 22m 55s\tremaining: 10m 47s\n",
            "18000:\tlearn: 0.1492672\ttest: 0.2127087\tbest: 0.2127056 (17988)\ttotal: 24m 16s\tremaining: 9m 26s\n",
            "19000:\tlearn: 0.1463374\ttest: 0.2126809\tbest: 0.2126800 (18328)\ttotal: 25m 38s\tremaining: 8m 5s\n",
            "20000:\tlearn: 0.1435930\ttest: 0.2126953\tbest: 0.2126707 (19507)\ttotal: 26m 59s\tremaining: 6m 44s\n",
            "21000:\tlearn: 0.1407773\ttest: 0.2126715\tbest: 0.2126601 (20777)\ttotal: 28m 21s\tremaining: 5m 23s\n",
            "22000:\tlearn: 0.1381523\ttest: 0.2126741\tbest: 0.2126598 (21222)\ttotal: 29m 42s\tremaining: 4m 2s\n",
            "bestTest = 0.2126598242\n",
            "bestIteration = 21222\n",
            "Shrink model to first 21223 iterations.\n",
            "Amex Metric = 0.7973825315184909 \n",
            "\n",
            "#########################\n",
            "### Fold 4\n",
            "### Train size 367131 Valid size 91782\n",
            "### Training with 100% fold data...\n",
            "#########################\n",
            "0:\tlearn: 0.6676363\ttest: 0.6676916\tbest: 0.6676916 (0)\ttotal: 91.9ms\tremaining: 38m 17s\n",
            "1000:\tlearn: 0.2141057\ttest: 0.2212632\tbest: 0.2212632 (1000)\ttotal: 1m 24s\tremaining: 33m 45s\n",
            "2000:\tlearn: 0.2072707\ttest: 0.2193019\tbest: 0.2193019 (2000)\ttotal: 2m 45s\tremaining: 31m 42s\n",
            "3000:\tlearn: 0.2020482\ttest: 0.2183706\tbest: 0.2183700 (2999)\ttotal: 4m 5s\tremaining: 30m 2s\n",
            "4000:\tlearn: 0.1973352\ttest: 0.2178062\tbest: 0.2178046 (3997)\ttotal: 5m 26s\tremaining: 28m 32s\n",
            "5000:\tlearn: 0.1931565\ttest: 0.2173925\tbest: 0.2173925 (5000)\ttotal: 6m 46s\tremaining: 27m 6s\n",
            "6000:\tlearn: 0.1892157\ttest: 0.2170908\tbest: 0.2170908 (6000)\ttotal: 8m 7s\tremaining: 25m 42s\n",
            "7000:\tlearn: 0.1853894\ttest: 0.2168297\tbest: 0.2168293 (6999)\ttotal: 9m 27s\tremaining: 24m 18s\n",
            "8000:\tlearn: 0.1815285\ttest: 0.2166620\tbest: 0.2166620 (8000)\ttotal: 10m 48s\tremaining: 22m 57s\n",
            "9000:\tlearn: 0.1778697\ttest: 0.2164268\tbest: 0.2164250 (8991)\ttotal: 12m 8s\tremaining: 21m 35s\n",
            "10000:\tlearn: 0.1743312\ttest: 0.2163106\tbest: 0.2163086 (9995)\ttotal: 13m 29s\tremaining: 20m 13s\n",
            "11000:\tlearn: 0.1708116\ttest: 0.2162118\tbest: 0.2162118 (11000)\ttotal: 14m 50s\tremaining: 18m 52s\n",
            "12000:\tlearn: 0.1674020\ttest: 0.2161606\tbest: 0.2161545 (11715)\ttotal: 16m 10s\tremaining: 17m 31s\n",
            "13000:\tlearn: 0.1641244\ttest: 0.2161024\tbest: 0.2160910 (12749)\ttotal: 17m 31s\tremaining: 16m 10s\n",
            "14000:\tlearn: 0.1608616\ttest: 0.2160987\tbest: 0.2160892 (13885)\ttotal: 18m 52s\tremaining: 14m 49s\n",
            "15000:\tlearn: 0.1576432\ttest: 0.2161057\tbest: 0.2160892 (13885)\ttotal: 20m 14s\tremaining: 13m 29s\n",
            "bestTest = 0.2160891859\n",
            "bestIteration = 13885\n",
            "Shrink model to first 13886 iterations.\n",
            "Amex Metric = 0.7922316474711528 \n",
            "\n",
            "#########################\n",
            "### Fold 5\n",
            "### Train size 367131 Valid size 91782\n",
            "### Training with 100% fold data...\n",
            "#########################\n",
            "0:\tlearn: 0.6673881\ttest: 0.6675300\tbest: 0.6675300 (0)\ttotal: 91.5ms\tremaining: 38m 7s\n",
            "1000:\tlearn: 0.2139165\ttest: 0.2228912\tbest: 0.2228912 (1000)\ttotal: 1m 24s\tremaining: 33m 34s\n",
            "2000:\tlearn: 0.2068199\ttest: 0.2208903\tbest: 0.2208903 (2000)\ttotal: 2m 45s\tremaining: 31m 43s\n",
            "3000:\tlearn: 0.2017339\ttest: 0.2200451\tbest: 0.2200448 (2996)\ttotal: 4m 5s\tremaining: 30m 1s\n",
            "4000:\tlearn: 0.1969204\ttest: 0.2194460\tbest: 0.2194455 (3997)\ttotal: 5m 26s\tremaining: 28m 33s\n",
            "5000:\tlearn: 0.1925655\ttest: 0.2190001\tbest: 0.2190001 (5000)\ttotal: 6m 47s\tremaining: 27m 8s\n",
            "6000:\tlearn: 0.1885580\ttest: 0.2186271\tbest: 0.2186269 (5998)\ttotal: 8m 7s\tremaining: 25m 44s\n",
            "7000:\tlearn: 0.1846012\ttest: 0.2184260\tbest: 0.2184258 (6994)\ttotal: 9m 28s\tremaining: 24m 20s\n",
            "8000:\tlearn: 0.1807772\ttest: 0.2182648\tbest: 0.2182647 (7998)\ttotal: 10m 48s\tremaining: 22m 58s\n",
            "9000:\tlearn: 0.1769826\ttest: 0.2181201\tbest: 0.2181188 (8994)\ttotal: 12m 9s\tremaining: 21m 36s\n",
            "10000:\tlearn: 0.1733620\ttest: 0.2180125\tbest: 0.2180099 (9974)\ttotal: 13m 30s\tremaining: 20m 15s\n",
            "11000:\tlearn: 0.1700014\ttest: 0.2179023\tbest: 0.2179023 (11000)\ttotal: 14m 50s\tremaining: 18m 53s\n",
            "12000:\tlearn: 0.1665538\ttest: 0.2178162\tbest: 0.2178133 (11964)\ttotal: 16m 11s\tremaining: 17m 32s\n",
            "13000:\tlearn: 0.1632240\ttest: 0.2177503\tbest: 0.2177403 (12885)\ttotal: 17m 32s\tremaining: 16m 11s\n",
            "14000:\tlearn: 0.1597984\ttest: 0.2177263\tbest: 0.2177170 (13972)\ttotal: 18m 54s\tremaining: 14m 50s\n",
            "15000:\tlearn: 0.1566797\ttest: 0.2177002\tbest: 0.2176729 (14635)\ttotal: 20m 15s\tremaining: 13m 29s\n",
            "16000:\tlearn: 0.1534953\ttest: 0.2177068\tbest: 0.2176729 (14635)\ttotal: 21m 36s\tremaining: 12m 9s\n",
            "bestTest = 0.2176728893\n",
            "bestIteration = 14635\n",
            "Shrink model to first 14636 iterations.\n",
            "Amex Metric = 0.7963676768844705 \n",
            "\n",
            "#########################\n",
            "Overall Amex metric: 0.7951245924658372\n"
          ]
        }
      ],
      "source": [
        "importances = []\n",
        "oof = []\n",
        "gc.collect()\n",
        "\n",
        "clf = CatBoostClassifier(**cat_params)\n",
        "skf = KFold(n_splits=FOLDS, shuffle=True, random_state=SEED)\n",
        "for fold,(train_idx, valid_idx) in enumerate(skf.split(train, train.target)):\n",
        "    print('#'*25)\n",
        "    print('### Fold',fold+1)\n",
        "    print('### Train size',len(train_idx),'Valid size',len(valid_idx))\n",
        "    print(f'### Training with 100% fold data...')\n",
        "    print('#'*25)\n",
        "    \n",
        "    # TRAIN, VALID, TEST FOR FOLD K\n",
        "    X_train = train.loc[train_idx, FEATURES]\n",
        "    X_valid = train.target.iloc[train_idx]\n",
        "    y_train = train.loc[valid_idx, FEATURES]\n",
        "    y_valid = train.target.iloc[valid_idx]\n",
        "    \n",
        "    # TRAIN MODEL FOLD K\n",
        "    model = clf.fit(X_train,\n",
        "                    X_valid,\n",
        "                    cat_features=cat_features_last,\n",
        "                    eval_set=[(y_train, y_valid)],\n",
        "                    use_best_model=True,\n",
        "                    early_stopping_rounds=1500,\n",
        "                    verbose_eval=1000)\n",
        "    model.save_model(f'CAT_v{VER}_fold{fold}.cbm')\n",
        "    \n",
        "    # GET FEATURE IMPORTANCE FOR FOLD K\n",
        "    dd = model.feature_importances_\n",
        "    df = pd.DataFrame({'feature':FEATURES,f'importance_{fold}':dd})\n",
        "    importances.append(df)\n",
        "            \n",
        "    # INFER OOF FOLD K\n",
        "    oof_preds = model.predict_proba(y_train)[:, 1]\n",
        "    acc = amex_metric_np(y_valid.values, oof_preds)\n",
        "    print('Amex Metric =',acc,'\\n')\n",
        "\n",
        "    df = train.loc[valid_idx, ['customer_ID','target'] ].copy()\n",
        "    df['oof_preds'] = oof_preds\n",
        "    oof.append(df)\n",
        "    \n",
        "    del X_train, y_train, dd, df\n",
        "    del X_valid, y_valid, model\n",
        "    _ = gc.collect()\n",
        "    \n",
        "print('#'*25)\n",
        "oof = pd.concat(oof,axis=0,ignore_index=True).set_index('customer_ID')\n",
        "acc = amex_metric_np(oof.target.values, oof.oof_preds.values)\n",
        "print(f\"Overall Amex metric: {acc}\")"
      ]
    },
    {
      "cell_type": "code",
      "execution_count": 14,
      "id": "9382e3d0",
      "metadata": {
        "execution": {
          "iopub.execute_input": "2022-07-15T16:48:45.305370Z",
          "iopub.status.busy": "2022-07-15T16:48:45.304754Z",
          "iopub.status.idle": "2022-07-15T16:48:45.407975Z",
          "shell.execute_reply": "2022-07-15T16:48:45.407068Z"
        },
        "papermill": {
          "duration": 0.123941,
          "end_time": "2022-07-15T16:48:45.409679",
          "exception": false,
          "start_time": "2022-07-15T16:48:45.285738",
          "status": "completed"
        },
        "tags": [],
        "id": "9382e3d0"
      },
      "outputs": [],
      "source": [
        "del train\n",
        "_ = gc.collect()"
      ]
    },
    {
      "cell_type": "code",
      "execution_count": 15,
      "id": "3610c1b3",
      "metadata": {
        "execution": {
          "iopub.execute_input": "2022-07-15T16:48:45.448225Z",
          "iopub.status.busy": "2022-07-15T16:48:45.447584Z",
          "iopub.status.idle": "2022-07-15T16:48:45.488638Z",
          "shell.execute_reply": "2022-07-15T16:48:45.487878Z"
        },
        "papermill": {
          "duration": 0.06166,
          "end_time": "2022-07-15T16:48:45.490338",
          "exception": false,
          "start_time": "2022-07-15T16:48:45.428678",
          "status": "completed"
        },
        "scrolled": true,
        "tags": [],
        "id": "3610c1b3"
      },
      "outputs": [],
      "source": [
        "df = importances[0].copy()\n",
        "for k in range(1,FOLDS): df = df.merge(importances[k], on='feature', how='left')\n",
        "df['importance'] = df.iloc[:,1:].mean(axis=1, numeric_only=True)\n",
        "df = df.sort_values('importance',ascending=False)\n",
        "df.to_csv(f'cat_feature_importance_v{VER}.csv',index=False)"
      ]
    },
    {
      "cell_type": "code",
      "execution_count": 16,
      "id": "69357676",
      "metadata": {
        "execution": {
          "iopub.execute_input": "2022-07-15T16:48:45.527853Z",
          "iopub.status.busy": "2022-07-15T16:48:45.527216Z",
          "iopub.status.idle": "2022-07-15T16:48:45.823812Z",
          "shell.execute_reply": "2022-07-15T16:48:45.823089Z"
        },
        "papermill": {
          "duration": 0.317159,
          "end_time": "2022-07-15T16:48:45.825544",
          "exception": false,
          "start_time": "2022-07-15T16:48:45.508385",
          "status": "completed"
        },
        "tags": [],
        "id": "69357676",
        "outputId": "8b542d46-9ef9-45b9-94f0-992a2a0857ee",
        "colab": {
          "base_uri": "https://localhost:8080/",
          "height": 607
        }
      },
      "outputs": [
        {
          "output_type": "display_data",
          "data": {
            "text/plain": [
              "<Figure size 720x720 with 1 Axes>"
            ],
            "image/png": "[encoded data removed]"
          },
          "metadata": {
            "needs_background": "light"
          }
        }
      ],
      "source": [
        "NUM_FEATURES = 20\n",
        "plt.figure(figsize=(10,5*NUM_FEATURES//10))\n",
        "plt.barh(np.arange(NUM_FEATURES,0,-1), df.importance.values[:NUM_FEATURES])\n",
        "plt.yticks(np.arange(NUM_FEATURES,0,-1), df.feature.values[:NUM_FEATURES])\n",
        "plt.title(f'CAT Feature Importance - Top {NUM_FEATURES}')\n",
        "plt.show()"
      ]
    },
    {
      "cell_type": "markdown",
      "id": "bf46dad6",
      "metadata": {
        "papermill": {
          "duration": 0.018388,
          "end_time": "2022-07-15T16:48:45.862462",
          "exception": false,
          "start_time": "2022-07-15T16:48:45.844074",
          "status": "completed"
        },
        "tags": [],
        "id": "bf46dad6"
      },
      "source": [
        "# Test part"
      ]
    },
    {
      "cell_type": "code",
      "execution_count": 17,
      "id": "c28f1826",
      "metadata": {
        "execution": {
          "iopub.execute_input": "2022-07-15T16:48:45.901178Z",
          "iopub.status.busy": "2022-07-15T16:48:45.900848Z",
          "iopub.status.idle": "2022-07-15T16:48:45.907526Z",
          "shell.execute_reply": "2022-07-15T16:48:45.906709Z"
        },
        "papermill": {
          "duration": 0.027751,
          "end_time": "2022-07-15T16:48:45.909278",
          "exception": false,
          "start_time": "2022-07-15T16:48:45.881527",
          "status": "completed"
        },
        "tags": [],
        "id": "c28f1826"
      },
      "outputs": [],
      "source": [
        "# CALCULATE SIZE OF EACH SEPARATE TEST PART\n",
        "def get_rows(customers, test, NUM_PARTS = 4, verbose = ''):\n",
        "    chunk = len(customers)//NUM_PARTS\n",
        "    if verbose != '':\n",
        "        print(f'We will process {verbose} data as {NUM_PARTS} separate parts.')\n",
        "        print(f'There will be {chunk} customers in each part (except the last part).')\n",
        "        print('Below are number of rows in each part:')\n",
        "    rows = []\n",
        "\n",
        "    for k in range(NUM_PARTS):\n",
        "        if k==NUM_PARTS-1: cc = customers[k*chunk:]\n",
        "        else: cc = customers[k*chunk:(k+1)*chunk]\n",
        "        s = test.loc[test.customer_ID.isin(cc)].shape[0]\n",
        "        rows.append(s)\n",
        "    if verbose != '': print( rows )\n",
        "    return rows,chunk"
      ]
    },
    {
      "cell_type": "code",
      "execution_count": 18,
      "id": "8c7e70c5",
      "metadata": {
        "execution": {
          "iopub.execute_input": "2022-07-15T16:48:45.947705Z",
          "iopub.status.busy": "2022-07-15T16:48:45.947377Z",
          "iopub.status.idle": "2022-07-15T16:48:47.039525Z",
          "shell.execute_reply": "2022-07-15T16:48:47.038640Z"
        },
        "papermill": {
          "duration": 1.113806,
          "end_time": "2022-07-15T16:48:47.041416",
          "exception": false,
          "start_time": "2022-07-15T16:48:45.927610",
          "status": "completed"
        },
        "tags": [],
        "id": "8c7e70c5",
        "outputId": "c4173a8d-a117-4f2d-e99c-9a8c978162e1",
        "colab": {
          "base_uri": "https://localhost:8080/"
        }
      },
      "outputs": [
        {
          "output_type": "stream",
          "name": "stdout",
          "text": [
            "We will process test data as 4 separate parts.\n",
            "There will be 231155 customers in each part (except the last part).\n",
            "Below are number of rows in each part:\n",
            "[231155, 231155, 231155, 231156]\n"
          ]
        }
      ],
      "source": [
        "# COMPUTE SIZE OF 4 PARTS FOR TEST DATA\n",
        "NUM_PARTS = 4\n",
        "\n",
        "customers = test[['customer_ID']].drop_duplicates().sort_index().values.flatten()\n",
        "rows,num_cust = get_rows(customers, test[['customer_ID']], NUM_PARTS = NUM_PARTS, verbose = 'test')"
      ]
    },
    {
      "cell_type": "code",
      "execution_count": 19,
      "id": "9cf53fd3",
      "metadata": {
        "execution": {
          "iopub.execute_input": "2022-07-15T16:48:47.081924Z",
          "iopub.status.busy": "2022-07-15T16:48:47.081615Z",
          "iopub.status.idle": "2022-07-15T16:50:55.407348Z",
          "shell.execute_reply": "2022-07-15T16:50:55.406352Z"
        },
        "papermill": {
          "duration": 128.349422,
          "end_time": "2022-07-15T16:50:55.410249",
          "exception": false,
          "start_time": "2022-07-15T16:48:47.060827",
          "status": "completed"
        },
        "tags": [],
        "id": "9cf53fd3",
        "outputId": "c21acf84-2eff-4009-c5a7-ed2b9509b463",
        "colab": {
          "base_uri": "https://localhost:8080/"
        }
      },
      "outputs": [
        {
          "output_type": "stream",
          "name": "stdout",
          "text": [
            "\n",
            "Reading test data...\n",
            "=> Test part 1 has shape (231155, 2001)\n",
            "\n",
            "Reading test data...\n",
            "=> Test part 2 has shape (231155, 2001)\n",
            "\n",
            "Reading test data...\n",
            "=> Test part 3 has shape (231155, 2001)\n",
            "\n",
            "Reading test data...\n",
            "=> Test part 4 has shape (231156, 2001)\n"
          ]
        }
      ],
      "source": [
        "# INFER TEST DATA IN PARTS\n",
        "skip_rows = 0\n",
        "skip_cust = 0\n",
        "test_preds = []\n",
        "\n",
        "for k in range(NUM_PARTS):\n",
        "    # READ PART OF TEST DATA\n",
        "    print(f'\\nReading test data...')\n",
        "    test_copy = test.iloc[skip_rows:skip_rows+rows[k]].copy()\n",
        "    test_copy = test_copy.set_index('customer_ID')\n",
        "    skip_rows += rows[k]\n",
        "    print(f'=> Test part {k+1} has shape', test_copy.shape )\n",
        "    \n",
        "    # PROCESS AND FEATURE ENGINEER PART OF TEST DATA\n",
        "    if k==NUM_PARTS-1: test_copy = test_copy.loc[customers[skip_cust:]]\n",
        "    else: test_copy = test_copy.loc[customers[skip_cust:skip_cust+num_cust]]\n",
        "    skip_cust += num_cust\n",
        "        \n",
        "    # INFER XGB MODELS ON TEST DATA\n",
        "    model = CatBoostClassifier(**cat_params)\n",
        "    model.load_model(f'CAT_v{VER}_fold0.cbm')\n",
        "    preds = model.predict_proba(test_copy)[:, 1]\n",
        "    for f in range(1,FOLDS):\n",
        "        model.load_model(f'CAT_v{VER}_fold{f}.cbm')\n",
        "        preds += model.predict_proba(test_copy)[:, 1]\n",
        "    preds /= FOLDS\n",
        "    test_preds.append(preds)\n",
        "\n",
        "    # CLEAN MEMORY\n",
        "    del test_copy, model\n",
        "    _ = gc.collect()\n",
        "\n",
        "del test\n",
        "_ = gc.collect()"
      ]
    },
    {
      "cell_type": "markdown",
      "id": "02259545",
      "metadata": {
        "papermill": {
          "duration": 0.067515,
          "end_time": "2022-07-15T16:50:55.538577",
          "exception": false,
          "start_time": "2022-07-15T16:50:55.471062",
          "status": "completed"
        },
        "tags": [],
        "id": "02259545"
      },
      "source": [
        "# Submit"
      ]
    },
    {
      "cell_type": "code",
      "execution_count": 20,
      "id": "00d908fd",
      "metadata": {
        "execution": {
          "iopub.execute_input": "2022-07-15T16:50:55.628196Z",
          "iopub.status.busy": "2022-07-15T16:50:55.627855Z",
          "iopub.status.idle": "2022-07-15T16:51:02.864876Z",
          "shell.execute_reply": "2022-07-15T16:51:02.864114Z"
        },
        "papermill": {
          "duration": 7.268354,
          "end_time": "2022-07-15T16:51:02.866646",
          "exception": false,
          "start_time": "2022-07-15T16:50:55.598292",
          "status": "completed"
        },
        "tags": [],
        "id": "00d908fd",
        "outputId": "9ca33bab-5d95-4995-eeba-ad1f1709c993",
        "colab": {
          "base_uri": "https://localhost:8080/",
          "height": 224
        }
      },
      "outputs": [
        {
          "output_type": "stream",
          "name": "stdout",
          "text": [
            "Submission file shape is (924621, 2)\n"
          ]
        },
        {
          "output_type": "execute_result",
          "data": {
            "text/plain": [
              "                                         customer_ID  prediction\n",
              "0  00000469ba478561f23a92a868bd366de6f6527a684c9a...    0.017888\n",
              "1  00001bf2e77ff879fab36aa4fac689b9ba411dae63ae39...    0.001110\n",
              "2  0000210045da4f81e5f122c6bde5c2a617d03eef67f82c...    0.044366\n",
              "3  00003b41e58ede33b8daf61ab56d9952f17c9ad1c3976c...    0.208588\n",
              "4  00004b22eaeeeb0ec976890c1d9bfc14fd9427e98c4ee9...    0.866504"
            ],
            "text/html": [
              "\n",
              "  <div id=\"df-e0536b1c-e4ac-4791-b046-9ac40d99b1fd\">\n",
              "    <div class=\"colab-df-container\">\n",
              "      <div>\n",
              "<style scoped>\n",
              "    .dataframe tbody tr th:only-of-type {\n",
              "        vertical-align: middle;\n",
              "    }\n",
              "\n",
              "    .dataframe tbody tr th {\n",
              "        vertical-align: top;\n",
              "    }\n",
              "\n",
              "    .dataframe thead th {\n",
              "        text-align: right;\n",
              "    }\n",
              "</style>\n",
              "<table border=\"1\" class=\"dataframe\">\n",
              "  <thead>\n",
              "    <tr style=\"text-align: right;\">\n",
              "      <th></th>\n",
              "      <th>customer_ID</th>\n",
              "      <th>prediction</th>\n",
              "    </tr>\n",
              "  </thead>\n",
              "  <tbody>\n",
              "    <tr>\n",
              "      <th>0</th>\n",
              "      <td>00000469ba478561f23a92a868bd366de6f6527a684c9a...</td>\n",
              "      <td>0.017888</td>\n",
              "    </tr>\n",
              "    <tr>\n",
              "      <th>1</th>\n",
              "      <td>00001bf2e77ff879fab36aa4fac689b9ba411dae63ae39...</td>\n",
              "      <td>0.001110</td>\n",
              "    </tr>\n",
              "    <tr>\n",
              "      <th>2</th>\n",
              "      <td>0000210045da4f81e5f122c6bde5c2a617d03eef67f82c...</td>\n",
              "      <td>0.044366</td>\n",
              "    </tr>\n",
              "    <tr>\n",
              "      <th>3</th>\n",
              "      <td>00003b41e58ede33b8daf61ab56d9952f17c9ad1c3976c...</td>\n",
              "      <td>0.208588</td>\n",
              "    </tr>\n",
              "    <tr>\n",
              "      <th>4</th>\n",
              "      <td>00004b22eaeeeb0ec976890c1d9bfc14fd9427e98c4ee9...</td>\n",
              "      <td>0.866504</td>\n",
              "    </tr>\n",
              "  </tbody>\n",
              "</table>\n",
              "</div>\n",
              "      <button class=\"colab-df-convert\" onclick=\"convertToInteractive('df-e0536b1c-e4ac-4791-b046-9ac40d99b1fd')\"\n",
              "              title=\"Convert this dataframe to an interactive table.\"\n",
              "              style=\"display:none;\">\n",
              "        \n",
              "  <svg xmlns=\"http://www.w3.org/2000/svg\" height=\"24px\"viewBox=\"0 0 24 24\"\n",
              "       width=\"24px\">\n",
              "    <path d=\"M0 0h24v24H0V0z\" fill=\"none\"/>\n",
              "    <path d=\"M18.56 5.44l.94 2.06.94-2.06 2.06-.94-2.06-.94-.94-2.06-.94 2.06-2.06.94zm-11 1L8.5 8.5l.94-2.06 2.06-.94-2.06-.94L8.5 2.5l-.94 2.06-2.06.94zm10 10l.94 2.06.94-2.06 2.06-.94-2.06-.94-.94-2.06-.94 2.06-2.06.94z\"/><path d=\"M17.41 7.96l-1.37-1.37c-.4-.4-.92-.59-1.43-.59-.52 0-1.04.2-1.43.59L10.3 9.45l-7.72 7.72c-.78.78-.78 2.05 0 2.83L4 21.41c.39.39.9.59 1.41.59.51 0 1.02-.2 1.41-.59l7.78-7.78 2.81-2.81c.8-.78.8-2.07 0-2.86zM5.41 20L4 18.59l7.72-7.72 1.47 1.35L5.41 20z\"/>\n",
              "  </svg>\n",
              "      </button>\n",
              "      \n",
              "  <style>\n",
              "    .colab-df-container {\n",
              "      display:flex;\n",
              "      flex-wrap:wrap;\n",
              "      gap: 12px;\n",
              "    }\n",
              "\n",
              "    .colab-df-convert {\n",
              "      background-color: #E8F0FE;\n",
              "      border: none;\n",
              "      border-radius: 50%;\n",
              "      cursor: pointer;\n",
              "      display: none;\n",
              "      fill: #1967D2;\n",
              "      height: 32px;\n",
              "      padding: 0 0 0 0;\n",
              "      width: 32px;\n",
              "    }\n",
              "\n",
              "    .colab-df-convert:hover {\n",
              "      background-color: #E2EBFA;\n",
              "      box-shadow: 0px 1px 2px rgba(60, 64, 67, 0.3), 0px 1px 3px 1px rgba(60, 64, 67, 0.15);\n",
              "      fill: #174EA6;\n",
              "    }\n",
              "\n",
              "    [theme=dark] .colab-df-convert {\n",
              "      background-color: #3B4455;\n",
              "      fill: #D2E3FC;\n",
              "    }\n",
              "\n",
              "    [theme=dark] .colab-df-convert:hover {\n",
              "      background-color: #434B5C;\n",
              "      box-shadow: 0px 1px 3px 1px rgba(0, 0, 0, 0.15);\n",
              "      filter: drop-shadow(0px 1px 2px rgba(0, 0, 0, 0.3));\n",
              "      fill: #FFFFFF;\n",
              "    }\n",
              "  </style>\n",
              "\n",
              "      <script>\n",
              "        const buttonEl =\n",
              "          document.querySelector('#df-e0536b1c-e4ac-4791-b046-9ac40d99b1fd button.colab-df-convert');\n",
              "        buttonEl.style.display =\n",
              "          google.colab.kernel.accessAllowed ? 'block' : 'none';\n",
              "\n",
              "        async function convertToInteractive(key) {\n",
              "          const element = document.querySelector('#df-e0536b1c-e4ac-4791-b046-9ac40d99b1fd');\n",
              "          const dataTable =\n",
              "            await google.colab.kernel.invokeFunction('convertToInteractive',\n",
              "                                                     [key], {});\n",
              "          if (!dataTable) return;\n",
              "\n",
              "          const docLinkHtml = 'Like what you see? Visit the ' +\n",
              "            '<a target=\"_blank\" href=https://colab.research.google.com/notebooks/data_table.ipynb>data table notebook</a>'\n",
              "            + ' to learn more about interactive tables.';\n",
              "          element.innerHTML = '';\n",
              "          dataTable['output_type'] = 'display_data';\n",
              "          await google.colab.output.renderOutput(dataTable, element);\n",
              "          const docLink = document.createElement('div');\n",
              "          docLink.innerHTML = docLinkHtml;\n",
              "          element.appendChild(docLink);\n",
              "        }\n",
              "      </script>\n",
              "    </div>\n",
              "  </div>\n",
              "  "
            ]
          },
          "metadata": {},
          "execution_count": 20
        }
      ],
      "source": [
        "# WRITE SUBMISSION FILE\n",
        "test = pd.DataFrame(index=customers,data={'prediction': np.concatenate(test_preds)})\n",
        "sub = pd.read_csv('/content/sample_submission.csv')[['customer_ID']]\n",
        "sub['customer_ID_hash'] = sub['customer_ID'].copy()\n",
        "sub = sub.set_index('customer_ID_hash')\n",
        "sub = sub.merge(test[['prediction']], left_index=True, right_index=True, how='left')\n",
        "sub = sub.reset_index(drop=True)\n",
        "\n",
        "# DISPLAY PREDICTIONS\n",
        "sub.to_csv(f'submission_cat_v{VER}_seed{SEED}_fold{FOLDS}.csv',index=False)\n",
        "print('Submission file shape is', sub.shape )\n",
        "sub.head()"
      ]
    },
    {
      "cell_type": "code",
      "execution_count": 21,
      "id": "533e5941",
      "metadata": {
        "execution": {
          "iopub.execute_input": "2022-07-15T16:51:02.918871Z",
          "iopub.status.busy": "2022-07-15T16:51:02.918494Z",
          "iopub.status.idle": "2022-07-15T16:51:03.267833Z",
          "shell.execute_reply": "2022-07-15T16:51:03.266949Z"
        },
        "papermill": {
          "duration": 0.374502,
          "end_time": "2022-07-15T16:51:03.269960",
          "exception": false,
          "start_time": "2022-07-15T16:51:02.895458",
          "status": "completed"
        },
        "tags": [],
        "id": "533e5941",
        "outputId": "37f76183-da2c-427c-aaab-c0425d977916",
        "colab": {
          "base_uri": "https://localhost:8080/",
          "height": 281
        }
      },
      "outputs": [
        {
          "output_type": "display_data",
          "data": {
            "text/plain": [
              "<Figure size 432x288 with 1 Axes>"
            ],
            "image/png": "[encoded data removed]"
          },
          "metadata": {
            "needs_background": "light"
          }
        }
      ],
      "source": [
        "# PLOT PREDICTIONS\n",
        "plt.hist(sub.prediction, bins=100)\n",
        "plt.title('Test Predictions')\n",
        "plt.show()"
      ]
    },
    {
      "cell_type": "markdown",
      "id": "802623f7",
      "metadata": {
        "papermill": {
          "duration": 0.042841,
          "end_time": "2022-07-15T16:51:28.477165",
          "exception": false,
          "start_time": "2022-07-15T16:51:28.434324",
          "status": "completed"
        },
        "tags": [],
        "id": "802623f7"
      },
      "source": [
        "# Submit to Kaggle from Colab"
      ]
    },
    {
      "cell_type": "code",
      "execution_count": 22,
      "id": "efc54970",
      "metadata": {
        "execution": {
          "iopub.execute_input": "2022-07-15T16:51:28.552420Z",
          "iopub.status.busy": "2022-07-15T16:51:28.551829Z",
          "iopub.status.idle": "2022-07-15T16:51:28.557906Z",
          "shell.execute_reply": "2022-07-15T16:51:28.557166Z"
        },
        "papermill": {
          "duration": 0.048007,
          "end_time": "2022-07-15T16:51:28.561880",
          "exception": false,
          "start_time": "2022-07-15T16:51:28.513873",
          "status": "completed"
        },
        "tags": [],
        "id": "efc54970",
        "outputId": "29c70841-cb7e-4e36-dc51-89bb62f8f11a",
        "colab": {
          "base_uri": "https://localhost:8080/"
        }
      },
      "outputs": [
        {
          "output_type": "stream",
          "name": "stdout",
          "text": [
            "100% 75.3M/75.3M [00:05<00:00, 13.8MB/s]\n",
            "Successfully submitted to American Express - Default Prediction"
          ]
        }
      ],
      "source": [
        "# Submit\n",
        "!kaggle competitions submit -c amex-default-prediction -f submission_cat_v1_seed42_fold5.csv -m \"From colab seed 42 fold 5 lag plus\""
      ]
    },
    {
      "cell_type": "code",
      "execution_count": 24,
      "id": "aad5cc1a",
      "metadata": {
        "execution": {
          "iopub.execute_input": "2022-07-15T16:51:28.636400Z",
          "iopub.status.busy": "2022-07-15T16:51:28.635706Z",
          "iopub.status.idle": "2022-07-15T16:51:28.643060Z",
          "shell.execute_reply": "2022-07-15T16:51:28.640501Z"
        },
        "papermill": {
          "duration": 0.04911,
          "end_time": "2022-07-15T16:51:28.647823",
          "exception": false,
          "start_time": "2022-07-15T16:51:28.598713",
          "status": "completed"
        },
        "tags": [],
        "id": "aad5cc1a",
        "outputId": "33e56de0-eac7-4605-c452-872f0685f5db",
        "colab": {
          "base_uri": "https://localhost:8080/"
        }
      },
      "outputs": [
        {
          "output_type": "stream",
          "name": "stdout",
          "text": [
            "fileName                            date                 description                                               status    publicScore  privateScore  \n",
            "----------------------------------  -------------------  --------------------------------------------------------  --------  -----------  ------------  \n",
            "submission_cat_v1_seed42_fold5.csv  2022-07-26 13:10:11  From colab seed 42 fold 5 lag plus                        complete  0.796                      \n",
            "Amex Default Prediction - Ensemble  2022-07-25 18:21:01  Notebook Amex Default Prediction - Ensemble | Version 22  complete  0.799                      \n",
            "submission_cat_v1_seed42_fold5.csv  2022-07-25 18:15:57  From colab seed 42 fold 5 lag plus                        complete  0.796                      \n",
            "Amex Default Prediction - Ensemble  2022-07-24 15:56:24  Notebook Amex Default Prediction - Ensemble | Version 20  complete  0.759                      \n",
            "Amex Default Prediction - Ensemble  2022-07-24 15:55:05  Notebook Amex Default Prediction - Ensemble | Version 19  complete  0.745                      \n",
            "Amex Default Prediction - Ensemble  2022-07-24 14:26:44  Notebook Amex Default Prediction - Ensemble | Version 16  complete  0.798                      \n",
            "Amex Default Prediction - Ensemble  2022-07-24 14:22:52  Notebook Amex Default Prediction - Ensemble | Version 15  complete  0.798                      \n",
            "submission_cat_v1_seed42_fold5.csv  2022-07-24 13:58:18  Run with round 2 cat                                      complete  0.796                      \n",
            "submission_lgb_v1_seed42_fold5.csv  2022-07-23 16:48:14  the first version. fe lag plus seed 52 fold 5 From colab  complete  0.797                      \n",
            "Amex Default Prediction - Ensemble  2022-07-23 11:15:04  Notebook Amex Default Prediction - Ensemble | Version 14  complete  0.798                      \n",
            "Amex Default Prediction - Ensemble  2022-07-23 11:08:12  Notebook Amex Default Prediction - Ensemble | Version 13  complete  0.798                      \n",
            "submission_xgb_v1_seed42_fold5.csv  2022-07-23 10:58:31  From colab seed 42 fold 5 lag plus                        complete  0.795                      \n",
            "submission_cat_v1_seed42_fold5.csv  2022-07-23 09:53:21  From colab seed 42 fold 5 lag plus                        complete  0.796                      \n",
            "Amex Default Prediction - Ensemble  2022-07-22 12:32:58  Notebook Amex Default Prediction - Ensemble | Version 12  complete  0.798                      \n",
            "Amex Default Prediction - Ensemble  2022-07-22 12:30:01  Notebook Amex Default Prediction - Ensemble | Version 11  complete  0.798                      \n",
            "submission_xgb_v1_seed42_fold2.csv  2022-07-22 12:19:29  From colab seed 42 fold 5 lag plus                        complete  0.794                      \n",
            "Amex Default Prediction - Ensemble  2022-07-21 12:48:16  Notebook Amex Default Prediction - Ensemble | Version 9   complete  0.798                      \n",
            "submission_xgb_v1_seed42_fold5.csv  2022-07-21 12:36:23  From colab seed 42 fold 5 lag plus                        complete  0.794                      \n",
            "Amex Default Prediction - Ensemble  2022-07-20 17:29:34  Notebook Amex Default Prediction - Ensemble | Version 8   complete  0.798                      \n",
            "Amex Default Prediction - Ensemble  2022-07-20 17:13:37  Notebook Amex Default Prediction - Ensemble | Version 7   complete  0.798                      \n",
            "Amex Default Prediction - Ensemble  2022-07-20 17:10:16  Notebook Amex Default Prediction - Ensemble | Version 6   complete  0.798                      \n",
            "Amex Default Prediction - Ensemble  2022-07-20 17:08:15  Notebook Amex Default Prediction - Ensemble | Version 5   complete  0.798                      \n",
            "submission_xgb_v1_seed42_fold5.csv  2022-07-20 16:58:31  From colab seed 42 fold 5 lag plus                        complete  0.794                      \n",
            "submission_cat_v1_seed42_fold5.csv  2022-07-19 17:31:52  From colab seed 42 fold 5 lag plus                        complete  0.795                      \n",
            "Amex Default Prediction - Ensemble  2022-07-19 16:37:40  Notebook Amex Default Prediction - Ensemble | Version 4   complete  0.798                      \n",
            "Amex Default Prediction - Ensemble  2022-07-19 16:34:17  Notebook Amex Default Prediction - Ensemble | Version 2   complete  0.798                      \n",
            "submission_cat_v1_seed42_fold5.csv  2022-07-19 12:11:59  From colab seed 42 fold 5 lag plus                        complete  0.795                      \n",
            "Amex Default Prediction with Cat    2022-07-18 23:01:33  Notebook Amex Default Prediction with Cat | Version 129   complete  0.798                      \n",
            "Amex Default Prediction with Cat    2022-07-18 22:58:51  Notebook Amex Default Prediction with Cat | Version 128   complete  0.798                      \n",
            "submission_cat_v1_seed42_fold5.csv  2022-07-18 22:27:50  From colab seed 42 fold 5 lag plus                        complete  0.795                      \n",
            "submission_lgb_v1_seed42_fold5.csv  2022-07-18 20:37:22  the first version. fe lag plus seed 52 fold 5 From colab  complete  0.797                      \n",
            "submission_cat_v1.csv               2022-07-18 06:30:57  From colab seed 42 fold 5 lag plus                        complete  0.795                      \n",
            "Amex Default Prediction with Cat    2022-07-16 16:14:20  Notebook Amex Default Prediction with Cat | Version 125   complete  0.794                      \n",
            "Amex Default Prediction with Cat    2022-07-15 16:33:32  Notebook Amex Default Prediction with Cat | Version 127   complete  0.798                      \n",
            "Amex Default Prediction with Cat    2022-07-15 16:24:25  Notebook Amex Default Prediction with Cat | Version 126   complete  0.798                      \n",
            "submission_cat_v123_seed52_794.csv  2022-07-15 16:12:09                                                            complete  0.795                      \n",
            "submission_cat_v123_0794.csv        2022-07-15 15:47:08                                                            complete  0.795                      \n",
            "Amex Default Prediction with Cat    2022-07-15 13:53:07  Notebook Amex Default Prediction with Cat | Version 123   complete  0.798                      \n",
            "Amex Default Prediction with Cat    2022-07-12 10:17:49  Notebook Amex Default Prediction with Cat | Version 122   complete  0.794                      \n",
            "Amex Default Prediction with Cat    2022-07-11 16:41:48  Notebook Amex Default Prediction with Cat | Version 119   complete  0.794                      \n",
            "Amex Default Prediction with Cat    2022-07-11 13:00:10  Notebook Amex Default Prediction with Cat | Version 116   complete  0.794                      \n",
            "Amex Default Prediction with Cat    2022-07-10 12:29:19  Notebook Amex Default Prediction with Cat | Version 115   complete  0.798                      \n",
            "Amex Default Prediction with Cat    2022-07-10 12:26:36  Notebook Amex Default Prediction with Cat | Version 114   complete  0.797                      \n",
            "Amex Default Prediction with Cat    2022-07-10 07:38:14  Notebook Amex Default Prediction with Cat | Version 109   complete  0.798                      \n",
            "Amex Default Prediction with Cat    2022-07-10 07:34:41  Notebook Amex Default Prediction with Cat | Version 108   complete  0.798                      \n",
            "Amex Default Prediction with Cat    2022-07-10 07:31:41  Notebook Amex Default Prediction with Cat | Version 107   complete  0.798                      \n",
            "Amex Default Prediction with Cat    2022-07-07 16:06:53  Notebook Amex Default Prediction with Cat | Version 106   complete  0.798                      \n",
            "Amex Default Prediction with Cat    2022-07-07 16:01:41  Notebook Amex Default Prediction with Cat | Version 105   complete  0.797                      \n",
            "Amex Default Prediction with Cat    2022-07-07 15:55:53  Notebook Amex Default Prediction with Cat | Version 104   complete  0.798                      \n",
            "Amex Default Prediction with Cat    2022-07-07 15:52:16  Notebook Amex Default Prediction with Cat | Version 103   complete  0.797                      \n"
          ]
        }
      ],
      "source": [
        "# Run after few seconds\n",
        "!kaggle competitions submissions amex-default-prediction"
      ]
    }
  ],
  "metadata": {
    "kernelspec": {
      "display_name": "Python 3",
      "language": "python",
      "name": "python3"
    },
    "language_info": {
      "codemirror_mode": {
        "name": "ipython",
        "version": 3
      },
      "file_extension": ".py",
      "mimetype": "text/x-python",
      "name": "python",
      "nbconvert_exporter": "python",
      "pygments_lexer": "ipython3",
      "version": "3.7.12"
    },
    "papermill": {
      "default_parameters": {},
      "duration": 2291.105208,
      "end_time": "2022-07-15T16:51:29.695242",
      "environment_variables": {},
      "exception": null,
      "input_path": "__notebook__.ipynb",
      "output_path": "__notebook__.ipynb",
      "parameters": {},
      "start_time": "2022-07-15T16:13:18.590034",
      "version": "2.3.4"
    },
    "colab": {
      "name": "amex-default-prediction-with-cat.ipynb",
      "provenance": [],
      "machine_shape": "hm"
    },
    "accelerator": "GPU",
    "gpuClass": "standard"
  },
  "nbformat": 4,
  "nbformat_minor": 5
}
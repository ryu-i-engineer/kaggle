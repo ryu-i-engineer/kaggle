{
 "cells": [
  {
   "cell_type": "markdown",
   "id": "4c34cc88",
   "metadata": {
    "papermill": {
     "duration": 0.016286,
     "end_time": "2022-07-15T16:13:27.288020",
     "exception": false,
     "start_time": "2022-07-15T16:13:27.271734",
     "status": "completed"
    },
    "tags": []
   },
   "source": [
    "# Get env info"
   ]
  },
  {
   "cell_type": "code",
   "execution_count": 1,
   "id": "17de3e3a",
   "metadata": {
    "execution": {
     "iopub.execute_input": "2022-07-15T16:13:27.308522Z",
     "iopub.status.busy": "2022-07-15T16:13:27.307775Z",
     "iopub.status.idle": "2022-07-15T16:13:27.318464Z",
     "shell.execute_reply": "2022-07-15T16:13:27.317771Z"
    },
    "papermill": {
     "duration": 0.022784,
     "end_time": "2022-07-15T16:13:27.320196",
     "exception": false,
     "start_time": "2022-07-15T16:13:27.297412",
     "status": "completed"
    },
    "tags": []
   },
   "outputs": [],
   "source": [
    "import os\n",
    "is_env_colab = True\n",
    "\n",
    "if \"kaggle\" in os.path.abspath(\".\"):\n",
    "    is_env_colab = False"
   ]
  },
  {
   "cell_type": "markdown",
   "id": "ec8911a0",
   "metadata": {
    "papermill": {
     "duration": 0.009252,
     "end_time": "2022-07-15T16:13:27.338460",
     "exception": false,
     "start_time": "2022-07-15T16:13:27.329208",
     "status": "completed"
    },
    "tags": []
   },
   "source": [
    "# Prepare for colab"
   ]
  },
  {
   "cell_type": "code",
   "execution_count": 2,
   "id": "e0be67aa",
   "metadata": {
    "execution": {
     "iopub.execute_input": "2022-07-15T16:13:27.357593Z",
     "iopub.status.busy": "2022-07-15T16:13:27.357300Z",
     "iopub.status.idle": "2022-07-15T16:13:27.361267Z",
     "shell.execute_reply": "2022-07-15T16:13:27.360484Z"
    },
    "papermill": {
     "duration": 0.015521,
     "end_time": "2022-07-15T16:13:27.362941",
     "exception": false,
     "start_time": "2022-07-15T16:13:27.347420",
     "status": "completed"
    },
    "tags": []
   },
   "outputs": [],
   "source": [
    "if is_env_colab:\n",
    "    !pip install catboost"
   ]
  },
  {
   "cell_type": "markdown",
   "id": "20589c9e",
   "metadata": {
    "papermill": {
     "duration": 0.008824,
     "end_time": "2022-07-15T16:13:27.380498",
     "exception": false,
     "start_time": "2022-07-15T16:13:27.371674",
     "status": "completed"
    },
    "tags": []
   },
   "source": [
    "# Kaggle Set up"
   ]
  },
  {
   "cell_type": "code",
   "execution_count": 3,
   "id": "bad112fb",
   "metadata": {
    "execution": {
     "iopub.execute_input": "2022-07-15T16:13:27.400098Z",
     "iopub.status.busy": "2022-07-15T16:13:27.399391Z",
     "iopub.status.idle": "2022-07-15T16:13:27.403356Z",
     "shell.execute_reply": "2022-07-15T16:13:27.402606Z"
    },
    "papermill": {
     "duration": 0.015568,
     "end_time": "2022-07-15T16:13:27.405067",
     "exception": false,
     "start_time": "2022-07-15T16:13:27.389499",
     "status": "completed"
    },
    "tags": []
   },
   "outputs": [],
   "source": [
    "if is_env_colab:\n",
    "    !pip install kaggle"
   ]
  },
  {
   "cell_type": "markdown",
   "id": "3fa90515",
   "metadata": {
    "papermill": {
     "duration": 0.008806,
     "end_time": "2022-07-15T16:13:27.422550",
     "exception": false,
     "start_time": "2022-07-15T16:13:27.413744",
     "status": "completed"
    },
    "tags": []
   },
   "source": [
    "## Upload API Token"
   ]
  },
  {
   "cell_type": "code",
   "execution_count": 4,
   "id": "54e44e29",
   "metadata": {
    "execution": {
     "iopub.execute_input": "2022-07-15T16:13:27.442237Z",
     "iopub.status.busy": "2022-07-15T16:13:27.441555Z",
     "iopub.status.idle": "2022-07-15T16:13:27.448196Z",
     "shell.execute_reply": "2022-07-15T16:13:27.447549Z"
    },
    "papermill": {
     "duration": 0.01814,
     "end_time": "2022-07-15T16:13:27.449796",
     "exception": false,
     "start_time": "2022-07-15T16:13:27.431656",
     "status": "completed"
    },
    "tags": []
   },
   "outputs": [],
   "source": [
    "if is_env_colab:\n",
    "    from google.colab import files\n",
    "\n",
    "    uploaded = files.upload()\n",
    "\n",
    "    for fn in uploaded.keys():\n",
    "      print('User uploaded file \"{name}\" with length {length} bytes'.format(\n",
    "          name=fn, length=len(uploaded[fn])))\n",
    "\n",
    "    # Then move kaggle.json into the folder where the API expects to find it.\n",
    "    !mkdir -p ~/.kaggle/ && mv kaggle.json ~/.kaggle/ && chmod 600 ~/.kaggle/kaggle.json"
   ]
  },
  {
   "cell_type": "markdown",
   "id": "1abbc588",
   "metadata": {
    "papermill": {
     "duration": 0.008512,
     "end_time": "2022-07-15T16:13:27.467327",
     "exception": false,
     "start_time": "2022-07-15T16:13:27.458815",
     "status": "completed"
    },
    "tags": []
   },
   "source": [
    "## Download and unzip dataset"
   ]
  },
  {
   "cell_type": "code",
   "execution_count": 5,
   "id": "c17f8dd7",
   "metadata": {
    "execution": {
     "iopub.execute_input": "2022-07-15T16:13:27.486038Z",
     "iopub.status.busy": "2022-07-15T16:13:27.485615Z",
     "iopub.status.idle": "2022-07-15T16:13:27.490276Z",
     "shell.execute_reply": "2022-07-15T16:13:27.489580Z"
    },
    "papermill": {
     "duration": 0.016071,
     "end_time": "2022-07-15T16:13:27.491993",
     "exception": false,
     "start_time": "2022-07-15T16:13:27.475922",
     "status": "completed"
    },
    "tags": []
   },
   "outputs": [],
   "source": [
    "if is_env_colab:\n",
    "    !kaggle datasets download -d huseyincot/amex-agg-data-pickle\n",
    "    !unzip /content/amex-agg-data-pickle.zip"
   ]
  },
  {
   "cell_type": "code",
   "execution_count": 6,
   "id": "e4df1701",
   "metadata": {
    "execution": {
     "iopub.execute_input": "2022-07-15T16:13:27.515341Z",
     "iopub.status.busy": "2022-07-15T16:13:27.514880Z",
     "iopub.status.idle": "2022-07-15T16:13:27.523654Z",
     "shell.execute_reply": "2022-07-15T16:13:27.522700Z"
    },
    "papermill": {
     "duration": 0.025128,
     "end_time": "2022-07-15T16:13:27.526436",
     "exception": false,
     "start_time": "2022-07-15T16:13:27.501308",
     "status": "completed"
    },
    "tags": []
   },
   "outputs": [],
   "source": [
    "if is_env_colab:\n",
    "    !kaggle competitions download -c amex-default-prediction -f sample_submission.csv\n",
    "    !unzip /content/sample_submission.csv.zip"
   ]
  },
  {
   "cell_type": "markdown",
   "id": "f4989bdc",
   "metadata": {
    "papermill": {
     "duration": 0.016438,
     "end_time": "2022-07-15T16:13:27.558017",
     "exception": false,
     "start_time": "2022-07-15T16:13:27.541579",
     "status": "completed"
    },
    "tags": []
   },
   "source": [
    "# Settings"
   ]
  },
  {
   "cell_type": "code",
   "execution_count": 7,
   "id": "95e00624",
   "metadata": {
    "_cell_guid": "b1076dfc-b9ad-4769-8c92-a6c4dae69d19",
    "_uuid": "8f2839f25d086af736a60e9eeb907d3b93b6e0e5",
    "execution": {
     "iopub.execute_input": "2022-07-15T16:13:27.588423Z",
     "iopub.status.busy": "2022-07-15T16:13:27.588075Z",
     "iopub.status.idle": "2022-07-15T16:13:28.957484Z",
     "shell.execute_reply": "2022-07-15T16:13:28.956421Z"
    },
    "papermill": {
     "duration": 1.38867,
     "end_time": "2022-07-15T16:13:28.960624",
     "exception": false,
     "start_time": "2022-07-15T16:13:27.571954",
     "status": "completed"
    },
    "tags": []
   },
   "outputs": [],
   "source": [
    "import pandas as pd\n",
    "import numpy as np\n",
    "import matplotlib.pyplot as plt\n",
    "import random\n",
    "\n",
    "from catboost import CatBoostClassifier, Pool\n",
    "from sklearn.preprocessing import LabelEncoder\n",
    "from sklearn.model_selection import KFold\n",
    "\n",
    "import os\n",
    "import gc; gc.enable()\n",
    "\n",
    "import warnings\n",
    "warnings.filterwarnings('ignore')"
   ]
  },
  {
   "cell_type": "code",
   "execution_count": 8,
   "id": "004febdf",
   "metadata": {
    "execution": {
     "iopub.execute_input": "2022-07-15T16:13:28.994650Z",
     "iopub.status.busy": "2022-07-15T16:13:28.994155Z",
     "iopub.status.idle": "2022-07-15T16:13:29.006339Z",
     "shell.execute_reply": "2022-07-15T16:13:29.002101Z"
    },
    "papermill": {
     "duration": 0.030433,
     "end_time": "2022-07-15T16:13:29.008239",
     "exception": false,
     "start_time": "2022-07-15T16:13:28.977806",
     "status": "completed"
    },
    "tags": []
   },
   "outputs": [],
   "source": [
    "VER=1\n",
    "SEED = 42\n",
    "FOLDS = 5\n",
    "\n",
    "cat_features = [\"B_30\", \"B_38\", \"D_114\", \"D_116\", \"D_117\", \"D_120\", \"D_126\", \"D_63\", \"D_64\", \"D_66\", \"D_68\"]\n",
    "\n",
    "def seed_everything(seed):\n",
    "    random.seed(seed)\n",
    "    np.random.seed(seed)\n",
    "    os.environ['PYTHONHASHSEED'] = str(seed)\n",
    "\n",
    "seed_everything(SEED)"
   ]
  },
  {
   "cell_type": "code",
   "execution_count": 9,
   "id": "3a167a09",
   "metadata": {
    "execution": {
     "iopub.execute_input": "2022-07-15T16:13:29.049841Z",
     "iopub.status.busy": "2022-07-15T16:13:29.049400Z",
     "iopub.status.idle": "2022-07-15T16:13:29.054157Z",
     "shell.execute_reply": "2022-07-15T16:13:29.053307Z"
    },
    "papermill": {
     "duration": 0.030493,
     "end_time": "2022-07-15T16:13:29.058829",
     "exception": false,
     "start_time": "2022-07-15T16:13:29.028336",
     "status": "completed"
    },
    "tags": []
   },
   "outputs": [],
   "source": [
    "parent_dir = \"../input/\"\n",
    "if is_env_colab:\n",
    "    parent_dir = \"/content/\"    "
   ]
  },
  {
   "cell_type": "code",
   "execution_count": 10,
   "id": "c0e94a28",
   "metadata": {
    "execution": {
     "iopub.execute_input": "2022-07-15T16:13:29.093540Z",
     "iopub.status.busy": "2022-07-15T16:13:29.093091Z",
     "iopub.status.idle": "2022-07-15T16:14:14.382522Z",
     "shell.execute_reply": "2022-07-15T16:14:14.381643Z"
    },
    "papermill": {
     "duration": 45.307941,
     "end_time": "2022-07-15T16:14:14.385086",
     "exception": false,
     "start_time": "2022-07-15T16:13:29.077145",
     "status": "completed"
    },
    "tags": []
   },
   "outputs": [],
   "source": [
    "# train = pd.read_pickle(parent_dir + \"amexdefaultpickleincludemedian/train_agg.pkl\", compression=\"gzip\")\n",
    "# train = train.reset_index(level=0)\n",
    "\n",
    "# test = pd.read_pickle(parent_dir + \"amexdefaultpickleincludemedian/test.pkl\", compression=\"gzip\")\n",
    "# test = test.reset_index(level=0)\n",
    "\n",
    "# train = pd.read_pickle(parent_dir + \"amex-agg-data-pickle/train_agg.pkl\", compression=\"gzip\")\n",
    "# train = train.reset_index(level=0)\n",
    "# test = pd.read_pickle(parent_dir + \"amex-agg-data-pickle/test_agg.pkl\", compression=\"gzip\")\n",
    "# test = test.reset_index(level=0)\n",
    "\n",
    "train = pd.read_parquet(parent_dir + \"amex-fe/train_fe.parquet\")\n",
    "# train = train.reset_index(level=0)\n",
    "test = pd.read_parquet(parent_dir + \"amex-fe/test_fe.parquet\")\n",
    "# test = test.reset_index(level=0)"
   ]
  },
  {
   "cell_type": "code",
   "execution_count": 11,
   "id": "81cbcbdf",
   "metadata": {
    "execution": {
     "iopub.execute_input": "2022-07-15T16:14:14.404618Z",
     "iopub.status.busy": "2022-07-15T16:14:14.404283Z",
     "iopub.status.idle": "2022-07-15T16:14:16.433273Z",
     "shell.execute_reply": "2022-07-15T16:14:16.432437Z"
    },
    "papermill": {
     "duration": 2.041229,
     "end_time": "2022-07-15T16:14:16.435648",
     "exception": false,
     "start_time": "2022-07-15T16:14:14.394419",
     "status": "completed"
    },
    "tags": []
   },
   "outputs": [],
   "source": [
    "cat_features_last = [f\"{cf}_last\" for cf in cat_features]\n",
    "\n",
    "le_encoder = LabelEncoder()\n",
    "for categorical_feature in cat_features_last:\n",
    "    train[categorical_feature] = le_encoder.fit_transform(train[categorical_feature])\n",
    "    test[categorical_feature] = le_encoder.transform(test[categorical_feature])"
   ]
  },
  {
   "cell_type": "code",
   "execution_count": 12,
   "id": "b931bba5",
   "metadata": {
    "execution": {
     "iopub.execute_input": "2022-07-15T16:14:16.455441Z",
     "iopub.status.busy": "2022-07-15T16:14:16.455092Z",
     "iopub.status.idle": "2022-07-15T16:14:18.013098Z",
     "shell.execute_reply": "2022-07-15T16:14:18.012027Z"
    },
    "papermill": {
     "duration": 1.570551,
     "end_time": "2022-07-15T16:14:18.015521",
     "exception": false,
     "start_time": "2022-07-15T16:14:16.444970",
     "status": "completed"
    },
    "tags": []
   },
   "outputs": [],
   "source": [
    "# https://www.kaggle.com/code/ragnar123/amex-lgbm-dart-cv-0-7963\n",
    "# Round last float features to 2 decimal place\n",
    "float_cols = list(train.dtypes[(train.dtypes == 'float32') | (train.dtypes == 'float64')].index)\n",
    "float_cols = [col for col in float_cols if 'last' in col]\n",
    "\n",
    "train[float_cols] = train[float_cols].round(2)\n",
    "test[float_cols] = test[float_cols].round(2)"
   ]
  },
  {
   "cell_type": "code",
   "execution_count": 13,
   "id": "ba13c62d",
   "metadata": {
    "execution": {
     "iopub.execute_input": "2022-07-15T16:14:18.035731Z",
     "iopub.status.busy": "2022-07-15T16:14:18.035409Z",
     "iopub.status.idle": "2022-07-15T16:14:24.212689Z",
     "shell.execute_reply": "2022-07-15T16:14:24.207569Z"
    },
    "papermill": {
     "duration": 6.191719,
     "end_time": "2022-07-15T16:14:24.216845",
     "exception": false,
     "start_time": "2022-07-15T16:14:18.025126",
     "status": "completed"
    },
    "tags": []
   },
   "outputs": [],
   "source": [
    "train = train.set_index('customer_ID')\n",
    "train = train.sort_index().reset_index()\n",
    "FEATURES = train.drop(columns=['customer_ID', 'target']).columns"
   ]
  },
  {
   "cell_type": "code",
   "execution_count": 14,
   "id": "f0ecff48",
   "metadata": {
    "execution": {
     "iopub.execute_input": "2022-07-15T16:14:24.269747Z",
     "iopub.status.busy": "2022-07-15T16:14:24.269149Z",
     "iopub.status.idle": "2022-07-15T16:14:24.287474Z",
     "shell.execute_reply": "2022-07-15T16:14:24.284982Z"
    },
    "papermill": {
     "duration": 0.043293,
     "end_time": "2022-07-15T16:14:24.290609",
     "exception": false,
     "start_time": "2022-07-15T16:14:24.247316",
     "status": "completed"
    },
    "tags": []
   },
   "outputs": [],
   "source": [
    "# https://www.kaggle.com/competitions/amex-default-prediction/discussion/328020\n",
    "# https://www.kaggle.com/code/rohanrao/amex-competition-metric-implementations\n",
    "def amex_metric_np(target: np.ndarray, preds: np.ndarray) -> float:\n",
    "    indices = np.argsort(preds)[::-1]\n",
    "    preds, target = preds[indices], target[indices]\n",
    "\n",
    "    n_pos = np.sum(target)\n",
    "    n_neg = target.shape[0] - n_pos\n",
    "    \n",
    "    weight = 20.0 - target * 19.0\n",
    "    cum_norm_weight = (weight * (1 / weight.sum())).cumsum()\n",
    "    four_pct_mask = cum_norm_weight <= 0.04\n",
    "    d = np.sum(target[four_pct_mask]) / n_pos\n",
    "    \n",
    "    lorentz = (target * (1 / n_pos)).cumsum()\n",
    "    gini = ((lorentz - cum_norm_weight) * weight).sum()\n",
    "    gini_max = 10 * n_neg * (1 - 19 / (n_pos + 20 * n_neg))\n",
    "\n",
    "    g = gini / gini_max\n",
    "\n",
    "    return 0.5 * (g + d)"
   ]
  },
  {
   "cell_type": "code",
   "execution_count": 15,
   "id": "155fb197",
   "metadata": {
    "execution": {
     "iopub.execute_input": "2022-07-15T16:14:24.334040Z",
     "iopub.status.busy": "2022-07-15T16:14:24.333456Z",
     "iopub.status.idle": "2022-07-15T16:14:24.341948Z",
     "shell.execute_reply": "2022-07-15T16:14:24.341087Z"
    },
    "papermill": {
     "duration": 0.030338,
     "end_time": "2022-07-15T16:14:24.346412",
     "exception": false,
     "start_time": "2022-07-15T16:14:24.316074",
     "status": "completed"
    },
    "tags": []
   },
   "outputs": [],
   "source": [
    "cat_params = {\n",
    "    'iterations':26000,\n",
    "    'random_state':SEED,\n",
    "    'learning_rate':0.02,\n",
    "    \n",
    "#     'depth': 8,\n",
    "    'l2_leaf_reg':14.0,\n",
    "    'one_hot_max_size':70,\n",
    "#     'random_strength': 0.5,\n",
    "#     'bagging_temperature': 0.75,\n",
    "    'task_type':\"GPU\",\n",
    "    'border_count':128,\n",
    "}"
   ]
  },
  {
   "cell_type": "code",
   "execution_count": 16,
   "id": "72e0dac6",
   "metadata": {
    "execution": {
     "iopub.execute_input": "2022-07-15T16:14:24.385070Z",
     "iopub.status.busy": "2022-07-15T16:14:24.384608Z",
     "iopub.status.idle": "2022-07-15T16:48:45.264974Z",
     "shell.execute_reply": "2022-07-15T16:48:45.263500Z"
    },
    "papermill": {
     "duration": 2060.899656,
     "end_time": "2022-07-15T16:48:45.266833",
     "exception": false,
     "start_time": "2022-07-15T16:14:24.367177",
     "status": "completed"
    },
    "tags": []
   },
   "outputs": [
    {
     "name": "stdout",
     "output_type": "stream",
     "text": [
      "#########################\n",
      "### Fold 1\n",
      "### Train size 367130 Valid size 91783\n",
      "### Training with 100% fold data...\n",
      "#########################\n",
      "0:\tlearn: 0.6686329\ttest: 0.6686261\tbest: 0.6686261 (0)\ttotal: 36ms\tremaining: 15m 34s\n",
      "500:\tlearn: 0.2236166\ttest: 0.2264510\tbest: 0.2264510 (500)\ttotal: 13.1s\tremaining: 11m 8s\n",
      "1000:\tlearn: 0.2171734\ttest: 0.2223574\tbest: 0.2223574 (1000)\ttotal: 26.5s\tremaining: 11m\n",
      "1500:\tlearn: 0.2134454\ttest: 0.2209100\tbest: 0.2209096 (1499)\ttotal: 38.8s\tremaining: 10m 32s\n",
      "2000:\tlearn: 0.2105705\ttest: 0.2200616\tbest: 0.2200616 (2000)\ttotal: 51.6s\tremaining: 10m 19s\n",
      "2500:\tlearn: 0.2080574\ttest: 0.2195269\tbest: 0.2195269 (2500)\ttotal: 1m 3s\tremaining: 10m\n",
      "3000:\tlearn: 0.2057329\ttest: 0.2190846\tbest: 0.2190846 (3000)\ttotal: 1m 16s\tremaining: 9m 48s\n",
      "3500:\tlearn: 0.2035181\ttest: 0.2187302\tbest: 0.2187294 (3499)\ttotal: 1m 29s\tremaining: 9m 36s\n",
      "4000:\tlearn: 0.2014635\ttest: 0.2184727\tbest: 0.2184715 (3998)\ttotal: 1m 41s\tremaining: 9m 20s\n",
      "4500:\tlearn: 0.1994563\ttest: 0.2182668\tbest: 0.2182661 (4498)\ttotal: 1m 54s\tremaining: 9m 4s\n",
      "5000:\tlearn: 0.1975259\ttest: 0.2180658\tbest: 0.2180644 (4996)\ttotal: 2m 7s\tremaining: 8m 53s\n",
      "5500:\tlearn: 0.1956150\ttest: 0.2178562\tbest: 0.2178558 (5499)\ttotal: 2m 19s\tremaining: 8m 38s\n",
      "6000:\tlearn: 0.1937148\ttest: 0.2177180\tbest: 0.2177178 (5999)\ttotal: 2m 32s\tremaining: 8m 28s\n",
      "6500:\tlearn: 0.1918811\ttest: 0.2175863\tbest: 0.2175863 (6500)\ttotal: 2m 44s\tremaining: 8m 13s\n",
      "7000:\tlearn: 0.1901141\ttest: 0.2174413\tbest: 0.2174407 (6998)\ttotal: 2m 56s\tremaining: 7m 59s\n",
      "7500:\tlearn: 0.1883463\ttest: 0.2173431\tbest: 0.2173415 (7482)\ttotal: 3m 8s\tremaining: 7m 45s\n",
      "8000:\tlearn: 0.1865955\ttest: 0.2172230\tbest: 0.2172218 (7993)\ttotal: 3m 21s\tremaining: 7m 34s\n",
      "8500:\tlearn: 0.1849048\ttest: 0.2171189\tbest: 0.2171164 (8487)\ttotal: 3m 33s\tremaining: 7m 20s\n",
      "9000:\tlearn: 0.1831765\ttest: 0.2170435\tbest: 0.2170395 (8847)\ttotal: 3m 46s\tremaining: 7m 8s\n",
      "9500:\tlearn: 0.1814762\ttest: 0.2169787\tbest: 0.2169787 (9500)\ttotal: 3m 58s\tremaining: 6m 54s\n",
      "10000:\tlearn: 0.1798689\ttest: 0.2169379\tbest: 0.2169347 (9856)\ttotal: 4m 11s\tremaining: 6m 41s\n",
      "10500:\tlearn: 0.1782529\ttest: 0.2169147\tbest: 0.2169109 (10405)\ttotal: 4m 24s\tremaining: 6m 30s\n",
      "11000:\tlearn: 0.1767300\ttest: 0.2168865\tbest: 0.2168810 (10982)\ttotal: 4m 36s\tremaining: 6m 16s\n",
      "11500:\tlearn: 0.1751490\ttest: 0.2168544\tbest: 0.2168513 (11318)\ttotal: 4m 48s\tremaining: 6m 3s\n",
      "12000:\tlearn: 0.1736100\ttest: 0.2168266\tbest: 0.2168162 (11727)\ttotal: 5m 1s\tremaining: 5m 52s\n",
      "12500:\tlearn: 0.1720625\ttest: 0.2168152\tbest: 0.2168041 (12331)\ttotal: 5m 14s\tremaining: 5m 39s\n",
      "13000:\tlearn: 0.1705741\ttest: 0.2167781\tbest: 0.2167775 (12998)\ttotal: 5m 26s\tremaining: 5m 26s\n",
      "bestTest = 0.2167775317\n",
      "bestIteration = 12998\n",
      "Shrink model to first 12999 iterations.\n",
      "Amex Metric = 0.7946992999331305 \n",
      "\n",
      "#########################\n",
      "### Fold 2\n",
      "### Train size 367130 Valid size 91783\n",
      "### Training with 100% fold data...\n",
      "#########################\n",
      "0:\tlearn: 0.6673007\ttest: 0.6673353\tbest: 0.6673353 (0)\ttotal: 77.6ms\tremaining: 33m 38s\n",
      "500:\tlearn: 0.2235755\ttest: 0.2262678\tbest: 0.2262678 (500)\ttotal: 13.7s\tremaining: 11m 34s\n",
      "1000:\tlearn: 0.2171541\ttest: 0.2222883\tbest: 0.2222883 (1000)\ttotal: 26s\tremaining: 10m 50s\n",
      "1500:\tlearn: 0.2134637\ttest: 0.2208140\tbest: 0.2208140 (1500)\ttotal: 38.7s\tremaining: 10m 32s\n",
      "2000:\tlearn: 0.2105796\ttest: 0.2199465\tbest: 0.2199465 (2000)\ttotal: 51.3s\tremaining: 10m 15s\n",
      "2500:\tlearn: 0.2080724\ttest: 0.2193941\tbest: 0.2193941 (2500)\ttotal: 1m 3s\tremaining: 9m 55s\n",
      "3000:\tlearn: 0.2058326\ttest: 0.2189735\tbest: 0.2189735 (3000)\ttotal: 1m 16s\tremaining: 9m 44s\n",
      "3500:\tlearn: 0.2036333\ttest: 0.2186748\tbest: 0.2186737 (3498)\ttotal: 1m 28s\tremaining: 9m 30s\n",
      "4000:\tlearn: 0.2015205\ttest: 0.2184016\tbest: 0.2183988 (3991)\ttotal: 1m 40s\tremaining: 9m 14s\n",
      "4500:\tlearn: 0.1995167\ttest: 0.2181949\tbest: 0.2181949 (4500)\ttotal: 1m 53s\tremaining: 9m 3s\n",
      "5000:\tlearn: 0.1976778\ttest: 0.2180065\tbest: 0.2180065 (5000)\ttotal: 2m 5s\tremaining: 8m 48s\n",
      "5500:\tlearn: 0.1957916\ttest: 0.2178492\tbest: 0.2178491 (5499)\ttotal: 2m 18s\tremaining: 8m 37s\n",
      "6000:\tlearn: 0.1939119\ttest: 0.2176954\tbest: 0.2176928 (5996)\ttotal: 2m 30s\tremaining: 8m 22s\n",
      "6500:\tlearn: 0.1921280\ttest: 0.2175957\tbest: 0.2175950 (6497)\ttotal: 2m 43s\tremaining: 8m 8s\n",
      "7000:\tlearn: 0.1903149\ttest: 0.2174627\tbest: 0.2174613 (6999)\ttotal: 2m 56s\tremaining: 7m 58s\n",
      "7500:\tlearn: 0.1885823\ttest: 0.2173355\tbest: 0.2173355 (7500)\ttotal: 3m 8s\tremaining: 7m 45s\n",
      "8000:\tlearn: 0.1868053\ttest: 0.2172022\tbest: 0.2171981 (7988)\ttotal: 3m 20s\tremaining: 7m 31s\n",
      "8500:\tlearn: 0.1851356\ttest: 0.2171193\tbest: 0.2171167 (8498)\ttotal: 3m 33s\tremaining: 7m 19s\n",
      "9000:\tlearn: 0.1835081\ttest: 0.2170502\tbest: 0.2170476 (8974)\ttotal: 3m 45s\tremaining: 7m 6s\n",
      "9500:\tlearn: 0.1818480\ttest: 0.2169527\tbest: 0.2169435 (9480)\ttotal: 3m 59s\tremaining: 6m 55s\n",
      "10000:\tlearn: 0.1801808\ttest: 0.2169233\tbest: 0.2169230 (9812)\ttotal: 4m 11s\tremaining: 6m 41s\n",
      "10500:\tlearn: 0.1785687\ttest: 0.2168569\tbest: 0.2168520 (10461)\ttotal: 4m 23s\tremaining: 6m 29s\n",
      "11000:\tlearn: 0.1769872\ttest: 0.2168039\tbest: 0.2168035 (10998)\ttotal: 4m 36s\tremaining: 6m 17s\n",
      "11500:\tlearn: 0.1754394\ttest: 0.2167569\tbest: 0.2167537 (11454)\ttotal: 4m 48s\tremaining: 6m 4s\n",
      "12000:\tlearn: 0.1739341\ttest: 0.2167183\tbest: 0.2167164 (11945)\ttotal: 5m 2s\tremaining: 5m 52s\n",
      "12500:\tlearn: 0.1723953\ttest: 0.2166966\tbest: 0.2166906 (12427)\ttotal: 5m 14s\tremaining: 5m 39s\n",
      "13000:\tlearn: 0.1709195\ttest: 0.2166549\tbest: 0.2166473 (12966)\ttotal: 5m 26s\tremaining: 5m 26s\n",
      "13500:\tlearn: 0.1694271\ttest: 0.2166280\tbest: 0.2166266 (13441)\ttotal: 5m 39s\tremaining: 5m 14s\n",
      "14000:\tlearn: 0.1679921\ttest: 0.2165943\tbest: 0.2165918 (13982)\ttotal: 5m 52s\tremaining: 5m 1s\n",
      "14500:\tlearn: 0.1665547\ttest: 0.2165906\tbest: 0.2165876 (14135)\ttotal: 6m 4s\tremaining: 4m 49s\n",
      "bestTest = 0.2165876093\n",
      "bestIteration = 14135\n",
      "Shrink model to first 14136 iterations.\n",
      "Amex Metric = 0.7937560306834066 \n",
      "\n",
      "#########################\n",
      "### Fold 3\n",
      "### Train size 367130 Valid size 91783\n",
      "### Training with 100% fold data...\n",
      "#########################\n",
      "0:\tlearn: 0.6687630\ttest: 0.6686609\tbest: 0.6686609 (0)\ttotal: 28.3ms\tremaining: 12m 14s\n",
      "500:\tlearn: 0.2242376\ttest: 0.2236705\tbest: 0.2236705 (500)\ttotal: 12.9s\tremaining: 10m 56s\n",
      "1000:\tlearn: 0.2177907\ttest: 0.2196344\tbest: 0.2196344 (1000)\ttotal: 25.4s\tremaining: 10m 34s\n",
      "1500:\tlearn: 0.2139960\ttest: 0.2180782\tbest: 0.2180782 (1499)\ttotal: 38.8s\tremaining: 10m 33s\n",
      "2000:\tlearn: 0.2111417\ttest: 0.2172579\tbest: 0.2172579 (2000)\ttotal: 50.9s\tremaining: 10m 10s\n",
      "2500:\tlearn: 0.2086118\ttest: 0.2166602\tbest: 0.2166602 (2500)\ttotal: 1m 3s\tremaining: 9m 58s\n",
      "3000:\tlearn: 0.2063873\ttest: 0.2162411\tbest: 0.2162405 (2999)\ttotal: 1m 16s\tremaining: 9m 42s\n",
      "3500:\tlearn: 0.2042416\ttest: 0.2159475\tbest: 0.2159469 (3498)\ttotal: 1m 28s\tremaining: 9m 26s\n",
      "4000:\tlearn: 0.2022268\ttest: 0.2156493\tbest: 0.2156493 (4000)\ttotal: 1m 41s\tremaining: 9m 15s\n",
      "4500:\tlearn: 0.2002602\ttest: 0.2154245\tbest: 0.2154245 (4500)\ttotal: 1m 53s\tremaining: 9m\n",
      "5000:\tlearn: 0.1983964\ttest: 0.2152605\tbest: 0.2152552 (4981)\ttotal: 2m 5s\tremaining: 8m 45s\n",
      "5500:\tlearn: 0.1965408\ttest: 0.2150965\tbest: 0.2150923 (5493)\ttotal: 2m 18s\tremaining: 8m 34s\n",
      "6000:\tlearn: 0.1946741\ttest: 0.2149417\tbest: 0.2149386 (5986)\ttotal: 2m 30s\tremaining: 8m 21s\n",
      "6500:\tlearn: 0.1928879\ttest: 0.2147960\tbest: 0.2147940 (6496)\ttotal: 2m 42s\tremaining: 8m 7s\n",
      "7000:\tlearn: 0.1911453\ttest: 0.2146785\tbest: 0.2146782 (6998)\ttotal: 2m 54s\tremaining: 7m 53s\n",
      "7500:\tlearn: 0.1893597\ttest: 0.2145445\tbest: 0.2145413 (7494)\ttotal: 3m 7s\tremaining: 7m 42s\n",
      "8000:\tlearn: 0.1876123\ttest: 0.2144552\tbest: 0.2144500 (7978)\ttotal: 3m 19s\tremaining: 7m 28s\n",
      "8500:\tlearn: 0.1859238\ttest: 0.2143627\tbest: 0.2143554 (8473)\ttotal: 3m 31s\tremaining: 7m 15s\n",
      "9000:\tlearn: 0.1842787\ttest: 0.2143049\tbest: 0.2143019 (8995)\ttotal: 3m 45s\tremaining: 7m 4s\n",
      "9500:\tlearn: 0.1826338\ttest: 0.2142441\tbest: 0.2142441 (9500)\ttotal: 3m 57s\tremaining: 6m 52s\n",
      "10000:\tlearn: 0.1810376\ttest: 0.2141858\tbest: 0.2141845 (9991)\ttotal: 4m 10s\tremaining: 6m 40s\n",
      "10500:\tlearn: 0.1794296\ttest: 0.2141125\tbest: 0.2141107 (10498)\ttotal: 4m 22s\tremaining: 6m 27s\n",
      "11000:\tlearn: 0.1777955\ttest: 0.2140448\tbest: 0.2140377 (10979)\ttotal: 4m 34s\tremaining: 6m 14s\n",
      "11500:\tlearn: 0.1762481\ttest: 0.2139969\tbest: 0.2139930 (11492)\ttotal: 4m 47s\tremaining: 6m 2s\n",
      "12000:\tlearn: 0.1747316\ttest: 0.2139291\tbest: 0.2139249 (11991)\ttotal: 4m 59s\tremaining: 5m 49s\n",
      "12500:\tlearn: 0.1732148\ttest: 0.2138802\tbest: 0.2138802 (12500)\ttotal: 5m 12s\tremaining: 5m 37s\n",
      "13000:\tlearn: 0.1717260\ttest: 0.2138158\tbest: 0.2138157 (12999)\ttotal: 5m 25s\tremaining: 5m 25s\n",
      "13500:\tlearn: 0.1702522\ttest: 0.2137618\tbest: 0.2137563 (13371)\ttotal: 5m 37s\tremaining: 5m 12s\n",
      "14000:\tlearn: 0.1687541\ttest: 0.2137484\tbest: 0.2137400 (13963)\ttotal: 5m 51s\tremaining: 5m\n",
      "14500:\tlearn: 0.1672908\ttest: 0.2137195\tbest: 0.2137186 (14483)\ttotal: 6m 3s\tremaining: 4m 48s\n",
      "15000:\tlearn: 0.1658356\ttest: 0.2136872\tbest: 0.2136780 (14880)\ttotal: 6m 15s\tremaining: 4m 35s\n",
      "15500:\tlearn: 0.1644688\ttest: 0.2136806\tbest: 0.2136739 (15425)\ttotal: 6m 29s\tremaining: 4m 23s\n",
      "16000:\tlearn: 0.1630970\ttest: 0.2136522\tbest: 0.2136515 (15998)\ttotal: 6m 41s\tremaining: 4m 10s\n",
      "16500:\tlearn: 0.1617321\ttest: 0.2136222\tbest: 0.2136117 (16435)\ttotal: 6m 54s\tremaining: 3m 58s\n",
      "bestTest = 0.213611734\n",
      "bestIteration = 16435\n",
      "Shrink model to first 16436 iterations.\n",
      "Amex Metric = 0.7980186482534175 \n",
      "\n",
      "#########################\n",
      "### Fold 4\n",
      "### Train size 367131 Valid size 91782\n",
      "### Training with 100% fold data...\n",
      "#########################\n",
      "0:\tlearn: 0.6673435\ttest: 0.6673475\tbest: 0.6673475 (0)\ttotal: 28.3ms\tremaining: 12m 15s\n",
      "500:\tlearn: 0.2235109\ttest: 0.2267070\tbest: 0.2267070 (500)\ttotal: 13s\tremaining: 11m 1s\n",
      "1000:\tlearn: 0.2171464\ttest: 0.2225857\tbest: 0.2225857 (1000)\ttotal: 25.4s\tremaining: 10m 34s\n",
      "1500:\tlearn: 0.2134208\ttest: 0.2209926\tbest: 0.2209926 (1500)\ttotal: 38.3s\tremaining: 10m 24s\n",
      "2000:\tlearn: 0.2105236\ttest: 0.2200690\tbest: 0.2200690 (2000)\ttotal: 50.8s\tremaining: 10m 9s\n",
      "2500:\tlearn: 0.2080022\ttest: 0.2194672\tbest: 0.2194672 (2500)\ttotal: 1m 3s\tremaining: 9m 57s\n",
      "3000:\tlearn: 0.2057263\ttest: 0.2190114\tbest: 0.2190109 (2999)\ttotal: 1m 16s\tremaining: 9m 42s\n",
      "3500:\tlearn: 0.2035301\ttest: 0.2186671\tbest: 0.2186671 (3500)\ttotal: 1m 28s\tremaining: 9m 26s\n",
      "4000:\tlearn: 0.2014575\ttest: 0.2183869\tbest: 0.2183867 (3999)\ttotal: 1m 41s\tremaining: 9m 16s\n",
      "4500:\tlearn: 0.1994476\ttest: 0.2181302\tbest: 0.2181302 (4500)\ttotal: 1m 53s\tremaining: 9m 1s\n",
      "5000:\tlearn: 0.1975564\ttest: 0.2179643\tbest: 0.2179583 (4977)\ttotal: 2m 5s\tremaining: 8m 47s\n",
      "5500:\tlearn: 0.1957012\ttest: 0.2177602\tbest: 0.2177602 (5500)\ttotal: 2m 18s\tremaining: 8m 36s\n",
      "6000:\tlearn: 0.1939072\ttest: 0.2176297\tbest: 0.2176272 (5986)\ttotal: 2m 30s\tremaining: 8m 21s\n",
      "6500:\tlearn: 0.1920819\ttest: 0.2175066\tbest: 0.2175055 (6492)\ttotal: 2m 43s\tremaining: 8m 10s\n",
      "7000:\tlearn: 0.1903188\ttest: 0.2173914\tbest: 0.2173891 (6993)\ttotal: 2m 55s\tremaining: 7m 56s\n",
      "7500:\tlearn: 0.1886176\ttest: 0.2173071\tbest: 0.2173071 (7500)\ttotal: 3m 7s\tremaining: 7m 43s\n",
      "8000:\tlearn: 0.1868866\ttest: 0.2172083\tbest: 0.2172072 (7998)\ttotal: 3m 21s\tremaining: 7m 32s\n",
      "8500:\tlearn: 0.1851729\ttest: 0.2170860\tbest: 0.2170810 (8485)\ttotal: 3m 33s\tremaining: 7m 18s\n",
      "9000:\tlearn: 0.1834828\ttest: 0.2170113\tbest: 0.2170108 (8998)\ttotal: 3m 45s\tremaining: 7m 6s\n",
      "9500:\tlearn: 0.1818289\ttest: 0.2169433\tbest: 0.2169433 (9500)\ttotal: 3m 58s\tremaining: 6m 54s\n",
      "10000:\tlearn: 0.1802469\ttest: 0.2168928\tbest: 0.2168915 (9999)\ttotal: 4m 10s\tremaining: 6m 41s\n",
      "10500:\tlearn: 0.1786099\ttest: 0.2168255\tbest: 0.2168245 (10499)\ttotal: 4m 23s\tremaining: 6m 29s\n",
      "11000:\tlearn: 0.1769830\ttest: 0.2167685\tbest: 0.2167685 (11000)\ttotal: 4m 36s\tremaining: 6m 16s\n",
      "11500:\tlearn: 0.1754415\ttest: 0.2167413\tbest: 0.2167400 (11453)\ttotal: 4m 48s\tremaining: 6m 3s\n",
      "12000:\tlearn: 0.1739252\ttest: 0.2166660\tbest: 0.2166660 (12000)\ttotal: 5m 1s\tremaining: 5m 51s\n",
      "12500:\tlearn: 0.1723962\ttest: 0.2166243\tbest: 0.2166243 (12500)\ttotal: 5m 14s\tremaining: 5m 39s\n",
      "13000:\tlearn: 0.1708940\ttest: 0.2165846\tbest: 0.2165834 (12999)\ttotal: 5m 26s\tremaining: 5m 26s\n",
      "13500:\tlearn: 0.1694462\ttest: 0.2166024\tbest: 0.2165826 (13016)\ttotal: 5m 39s\tremaining: 5m 14s\n",
      "bestTest = 0.2165825637\n",
      "bestIteration = 13016\n",
      "Shrink model to first 13017 iterations.\n",
      "Amex Metric = 0.7911999237744396 \n",
      "\n",
      "#########################\n",
      "### Fold 5\n",
      "### Train size 367131 Valid size 91782\n",
      "### Training with 100% fold data...\n",
      "#########################\n",
      "0:\tlearn: 0.6674392\ttest: 0.6675822\tbest: 0.6675822 (0)\ttotal: 27.8ms\tremaining: 12m 2s\n",
      "500:\tlearn: 0.2231054\ttest: 0.2279294\tbest: 0.2279294 (500)\ttotal: 12.9s\tremaining: 10m 55s\n",
      "1000:\tlearn: 0.2167976\ttest: 0.2238737\tbest: 0.2238737 (1000)\ttotal: 25.3s\tremaining: 10m 32s\n",
      "1500:\tlearn: 0.2131252\ttest: 0.2223554\tbest: 0.2223554 (1500)\ttotal: 38.7s\tremaining: 10m 31s\n",
      "2000:\tlearn: 0.2102202\ttest: 0.2214893\tbest: 0.2214893 (2000)\ttotal: 50.8s\tremaining: 10m 9s\n",
      "2500:\tlearn: 0.2076994\ttest: 0.2209127\tbest: 0.2209106 (2499)\ttotal: 1m 3s\tremaining: 10m\n",
      "3000:\tlearn: 0.2054080\ttest: 0.2205041\tbest: 0.2205041 (2999)\ttotal: 1m 16s\tremaining: 9m 43s\n",
      "3500:\tlearn: 0.2032252\ttest: 0.2201117\tbest: 0.2201114 (3499)\ttotal: 1m 28s\tremaining: 9m 26s\n",
      "4000:\tlearn: 0.2011811\ttest: 0.2198617\tbest: 0.2198609 (3999)\ttotal: 1m 41s\tremaining: 9m 15s\n",
      "4500:\tlearn: 0.1991583\ttest: 0.2196098\tbest: 0.2196095 (4498)\ttotal: 1m 53s\tremaining: 9m\n",
      "5000:\tlearn: 0.1971977\ttest: 0.2193691\tbest: 0.2193691 (5000)\ttotal: 2m 5s\tremaining: 8m 45s\n",
      "5500:\tlearn: 0.1953515\ttest: 0.2191815\tbest: 0.2191815 (5500)\ttotal: 2m 18s\tremaining: 8m 36s\n",
      "6000:\tlearn: 0.1935122\ttest: 0.2190134\tbest: 0.2190129 (5998)\ttotal: 2m 30s\tremaining: 8m 23s\n",
      "6500:\tlearn: 0.1917065\ttest: 0.2188524\tbest: 0.2188496 (6494)\ttotal: 2m 43s\tremaining: 8m 11s\n",
      "7000:\tlearn: 0.1900125\ttest: 0.2187152\tbest: 0.2187152 (7000)\ttotal: 2m 55s\tremaining: 7m 57s\n",
      "7500:\tlearn: 0.1882565\ttest: 0.2186042\tbest: 0.2186040 (7499)\ttotal: 3m 8s\tremaining: 7m 43s\n",
      "8000:\tlearn: 0.1865417\ttest: 0.2185118\tbest: 0.2185114 (7974)\ttotal: 3m 20s\tremaining: 7m 32s\n",
      "8500:\tlearn: 0.1849395\ttest: 0.2184367\tbest: 0.2184326 (8483)\ttotal: 3m 33s\tremaining: 7m 18s\n",
      "9000:\tlearn: 0.1833000\ttest: 0.2183417\tbest: 0.2183417 (9000)\ttotal: 3m 45s\tremaining: 7m 5s\n",
      "9500:\tlearn: 0.1817197\ttest: 0.2182756\tbest: 0.2182751 (9499)\ttotal: 3m 58s\tremaining: 6m 54s\n",
      "10000:\tlearn: 0.1800512\ttest: 0.2181736\tbest: 0.2181716 (9994)\ttotal: 4m 10s\tremaining: 6m 40s\n",
      "10500:\tlearn: 0.1785076\ttest: 0.2181205\tbest: 0.2181203 (10496)\ttotal: 4m 23s\tremaining: 6m 28s\n",
      "11000:\tlearn: 0.1769292\ttest: 0.2180806\tbest: 0.2180737 (10948)\ttotal: 4m 35s\tremaining: 6m 16s\n",
      "11500:\tlearn: 0.1753816\ttest: 0.2180257\tbest: 0.2180197 (11436)\ttotal: 4m 48s\tremaining: 6m 3s\n",
      "12000:\tlearn: 0.1738053\ttest: 0.2180007\tbest: 0.2179991 (11998)\ttotal: 5m 1s\tremaining: 5m 51s\n",
      "12500:\tlearn: 0.1722729\ttest: 0.2179574\tbest: 0.2179535 (12344)\ttotal: 5m 13s\tremaining: 5m 39s\n",
      "13000:\tlearn: 0.1707593\ttest: 0.2179212\tbest: 0.2179179 (12994)\ttotal: 5m 27s\tremaining: 5m 27s\n",
      "13500:\tlearn: 0.1692689\ttest: 0.2179009\tbest: 0.2178986 (13497)\ttotal: 5m 39s\tremaining: 5m 14s\n",
      "14000:\tlearn: 0.1678067\ttest: 0.2178786\tbest: 0.2178774 (13995)\ttotal: 5m 51s\tremaining: 5m 1s\n",
      "14500:\tlearn: 0.1663888\ttest: 0.2178470\tbest: 0.2178395 (14481)\ttotal: 6m 4s\tremaining: 4m 49s\n",
      "15000:\tlearn: 0.1649567\ttest: 0.2178334\tbest: 0.2178300 (14983)\ttotal: 6m 17s\tremaining: 4m 36s\n",
      "bestTest = 0.2178299999\n",
      "bestIteration = 14983\n",
      "Shrink model to first 14984 iterations.\n",
      "Amex Metric = 0.7938824760470806 \n",
      "\n",
      "#########################\n",
      "Overall Amex metric: 0.7940453603491301\n"
     ]
    }
   ],
   "source": [
    "importances = []\n",
    "oof = []\n",
    "gc.collect()\n",
    "\n",
    "clf = CatBoostClassifier(**cat_params)\n",
    "skf = KFold(n_splits=FOLDS, shuffle=True, random_state=SEED)\n",
    "for fold,(train_idx, valid_idx) in enumerate(skf.split(train, train.target)):\n",
    "    \n",
    "    print('#'*25)\n",
    "    print('### Fold',fold+1)\n",
    "    print('### Train size',len(train_idx),'Valid size',len(valid_idx))\n",
    "    print(f'### Training with 100% fold data...')\n",
    "    print('#'*25)\n",
    "    \n",
    "    # TRAIN, VALID, TEST FOR FOLD K\n",
    "    X_train = train.loc[train_idx, FEATURES]\n",
    "    X_valid = train.target.iloc[train_idx]\n",
    "    y_train = train.loc[valid_idx, FEATURES]\n",
    "    y_valid = train.target.iloc[valid_idx]\n",
    "    \n",
    "    # TRAIN MODEL FOLD K\n",
    "    model = clf.fit(X_train,\n",
    "                    X_valid,\n",
    "                    cat_features=cat_features_last,\n",
    "                    eval_set=[(y_train, y_valid)],\n",
    "                    use_best_model=True,\n",
    "                    early_stopping_rounds=500,\n",
    "                    verbose_eval=500)\n",
    "    model.save_model(f'CAT_v{VER}_fold{fold}.cbm')\n",
    "    \n",
    "    # GET FEATURE IMPORTANCE FOR FOLD K\n",
    "    dd = model.feature_importances_\n",
    "    df = pd.DataFrame({'feature':FEATURES,f'importance_{fold}':dd})\n",
    "    importances.append(df)\n",
    "            \n",
    "    # INFER OOF FOLD K\n",
    "    oof_preds = model.predict_proba(y_train)[:, 1]\n",
    "    acc = amex_metric_np(y_valid.values, oof_preds)\n",
    "    print('Amex Metric =',acc,'\\n')\n",
    "\n",
    "    df = train.loc[valid_idx, ['customer_ID','target'] ].copy()\n",
    "    df['oof_preds'] = oof_preds\n",
    "    oof.append(df)\n",
    "    \n",
    "    del X_train, y_train, dd, df\n",
    "    del X_valid, y_valid, model\n",
    "    _ = gc.collect()\n",
    "    \n",
    "print('#'*25)\n",
    "oof = pd.concat(oof,axis=0,ignore_index=True).set_index('customer_ID')\n",
    "acc = amex_metric_np(oof.target.values, oof.oof_preds.values)\n",
    "print(f\"Overall Amex metric: {acc}\")"
   ]
  },
  {
   "cell_type": "code",
   "execution_count": 17,
   "id": "9382e3d0",
   "metadata": {
    "execution": {
     "iopub.execute_input": "2022-07-15T16:48:45.305370Z",
     "iopub.status.busy": "2022-07-15T16:48:45.304754Z",
     "iopub.status.idle": "2022-07-15T16:48:45.407975Z",
     "shell.execute_reply": "2022-07-15T16:48:45.407068Z"
    },
    "papermill": {
     "duration": 0.123941,
     "end_time": "2022-07-15T16:48:45.409679",
     "exception": false,
     "start_time": "2022-07-15T16:48:45.285738",
     "status": "completed"
    },
    "tags": []
   },
   "outputs": [],
   "source": [
    "# CLEAN RAM\n",
    "del train\n",
    "_ = gc.collect()"
   ]
  },
  {
   "cell_type": "code",
   "execution_count": 18,
   "id": "3610c1b3",
   "metadata": {
    "execution": {
     "iopub.execute_input": "2022-07-15T16:48:45.448225Z",
     "iopub.status.busy": "2022-07-15T16:48:45.447584Z",
     "iopub.status.idle": "2022-07-15T16:48:45.488638Z",
     "shell.execute_reply": "2022-07-15T16:48:45.487878Z"
    },
    "papermill": {
     "duration": 0.06166,
     "end_time": "2022-07-15T16:48:45.490338",
     "exception": false,
     "start_time": "2022-07-15T16:48:45.428678",
     "status": "completed"
    },
    "scrolled": true,
    "tags": []
   },
   "outputs": [],
   "source": [
    "df = importances[0].copy()\n",
    "for k in range(1,FOLDS): df = df.merge(importances[k], on='feature', how='left')\n",
    "df['importance'] = df.iloc[:,1:].mean(axis=1, numeric_only=True)\n",
    "df = df.sort_values('importance',ascending=False)\n",
    "df.to_csv(f'cat_feature_importance_v{VER}.csv',index=False)"
   ]
  },
  {
   "cell_type": "code",
   "execution_count": 19,
   "id": "69357676",
   "metadata": {
    "execution": {
     "iopub.execute_input": "2022-07-15T16:48:45.527853Z",
     "iopub.status.busy": "2022-07-15T16:48:45.527216Z",
     "iopub.status.idle": "2022-07-15T16:48:45.823812Z",
     "shell.execute_reply": "2022-07-15T16:48:45.823089Z"
    },
    "papermill": {
     "duration": 0.317159,
     "end_time": "2022-07-15T16:48:45.825544",
     "exception": false,
     "start_time": "2022-07-15T16:48:45.508385",
     "status": "completed"
    },
    "tags": []
   },
   "outputs": [
    {
     "data": {
      "image/png": "[encoded data removed]",
      "text/plain": [
       "<Figure size 720x720 with 1 Axes>"
      ]
     },
     "metadata": {
      "needs_background": "light"
     },
     "output_type": "display_data"
    }
   ],
   "source": [
    "NUM_FEATURES = 20\n",
    "plt.figure(figsize=(10,5*NUM_FEATURES//10))\n",
    "plt.barh(np.arange(NUM_FEATURES,0,-1), df.importance.values[:NUM_FEATURES])\n",
    "plt.yticks(np.arange(NUM_FEATURES,0,-1), df.feature.values[:NUM_FEATURES])\n",
    "plt.title(f'CAT Feature Importance - Top {NUM_FEATURES}')\n",
    "plt.show()"
   ]
  },
  {
   "cell_type": "markdown",
   "id": "bf46dad6",
   "metadata": {
    "papermill": {
     "duration": 0.018388,
     "end_time": "2022-07-15T16:48:45.862462",
     "exception": false,
     "start_time": "2022-07-15T16:48:45.844074",
     "status": "completed"
    },
    "tags": []
   },
   "source": [
    "# Test part"
   ]
  },
  {
   "cell_type": "code",
   "execution_count": 20,
   "id": "c28f1826",
   "metadata": {
    "execution": {
     "iopub.execute_input": "2022-07-15T16:48:45.901178Z",
     "iopub.status.busy": "2022-07-15T16:48:45.900848Z",
     "iopub.status.idle": "2022-07-15T16:48:45.907526Z",
     "shell.execute_reply": "2022-07-15T16:48:45.906709Z"
    },
    "papermill": {
     "duration": 0.027751,
     "end_time": "2022-07-15T16:48:45.909278",
     "exception": false,
     "start_time": "2022-07-15T16:48:45.881527",
     "status": "completed"
    },
    "tags": []
   },
   "outputs": [],
   "source": [
    "# CALCULATE SIZE OF EACH SEPARATE TEST PART\n",
    "def get_rows(customers, test, NUM_PARTS = 4, verbose = ''):\n",
    "    chunk = len(customers)//NUM_PARTS\n",
    "    if verbose != '':\n",
    "        print(f'We will process {verbose} data as {NUM_PARTS} separate parts.')\n",
    "        print(f'There will be {chunk} customers in each part (except the last part).')\n",
    "        print('Below are number of rows in each part:')\n",
    "    rows = []\n",
    "\n",
    "    for k in range(NUM_PARTS):\n",
    "        if k==NUM_PARTS-1: cc = customers[k*chunk:]\n",
    "        else: cc = customers[k*chunk:(k+1)*chunk]\n",
    "        s = test.loc[test.customer_ID.isin(cc)].shape[0]\n",
    "        rows.append(s)\n",
    "    if verbose != '': print( rows )\n",
    "    return rows,chunk"
   ]
  },
  {
   "cell_type": "code",
   "execution_count": 21,
   "id": "8c7e70c5",
   "metadata": {
    "execution": {
     "iopub.execute_input": "2022-07-15T16:48:45.947705Z",
     "iopub.status.busy": "2022-07-15T16:48:45.947377Z",
     "iopub.status.idle": "2022-07-15T16:48:47.039525Z",
     "shell.execute_reply": "2022-07-15T16:48:47.038640Z"
    },
    "papermill": {
     "duration": 1.113806,
     "end_time": "2022-07-15T16:48:47.041416",
     "exception": false,
     "start_time": "2022-07-15T16:48:45.927610",
     "status": "completed"
    },
    "tags": []
   },
   "outputs": [
    {
     "name": "stdout",
     "output_type": "stream",
     "text": [
      "We will process test data as 4 separate parts.\n",
      "There will be 231155 customers in each part (except the last part).\n",
      "Below are number of rows in each part:\n",
      "[231155, 231155, 231155, 231156]\n"
     ]
    }
   ],
   "source": [
    "# COMPUTE SIZE OF 4 PARTS FOR TEST DATA\n",
    "NUM_PARTS = 4\n",
    "\n",
    "customers = test[['customer_ID']].drop_duplicates().sort_index().values.flatten()\n",
    "rows,num_cust = get_rows(customers, test[['customer_ID']], NUM_PARTS = NUM_PARTS, verbose = 'test')"
   ]
  },
  {
   "cell_type": "code",
   "execution_count": 22,
   "id": "9cf53fd3",
   "metadata": {
    "execution": {
     "iopub.execute_input": "2022-07-15T16:48:47.081924Z",
     "iopub.status.busy": "2022-07-15T16:48:47.081615Z",
     "iopub.status.idle": "2022-07-15T16:50:55.407348Z",
     "shell.execute_reply": "2022-07-15T16:50:55.406352Z"
    },
    "papermill": {
     "duration": 128.349422,
     "end_time": "2022-07-15T16:50:55.410249",
     "exception": false,
     "start_time": "2022-07-15T16:48:47.060827",
     "status": "completed"
    },
    "tags": []
   },
   "outputs": [
    {
     "name": "stdout",
     "output_type": "stream",
     "text": [
      "\n",
      "Reading test data...\n",
      "=> Test part 1 has shape (231155, 918)\n",
      "\n",
      "Reading test data...\n",
      "=> Test part 2 has shape (231155, 918)\n",
      "\n",
      "Reading test data...\n",
      "=> Test part 3 has shape (231155, 918)\n",
      "\n",
      "Reading test data...\n",
      "=> Test part 4 has shape (231156, 918)\n"
     ]
    }
   ],
   "source": [
    "# INFER TEST DATA IN PARTS\n",
    "skip_rows = 0\n",
    "skip_cust = 0\n",
    "test_preds = []\n",
    "\n",
    "for k in range(NUM_PARTS):\n",
    "    \n",
    "    # READ PART OF TEST DATA\n",
    "    print(f'\\nReading test data...')\n",
    "    test_copy = test.iloc[skip_rows:skip_rows+rows[k]].copy()\n",
    "    test_copy = test_copy.set_index('customer_ID')\n",
    "    skip_rows += rows[k]\n",
    "    print(f'=> Test part {k+1} has shape', test_copy.shape )\n",
    "    \n",
    "    # PROCESS AND FEATURE ENGINEER PART OF TEST DATA\n",
    "    if k==NUM_PARTS-1: test_copy = test_copy.loc[customers[skip_cust:]]\n",
    "    else: test_copy = test_copy.loc[customers[skip_cust:skip_cust+num_cust]]\n",
    "    skip_cust += num_cust\n",
    "        \n",
    "    # INFER XGB MODELS ON TEST DATA\n",
    "    model = CatBoostClassifier(**cat_params)\n",
    "    model.load_model(f'CAT_v{VER}_fold0.cbm')\n",
    "    preds = model.predict_proba(test_copy)[:, 1]\n",
    "    for f in range(1,FOLDS):\n",
    "        model.load_model(f'CAT_v{VER}_fold{f}.cbm')\n",
    "        preds += model.predict_proba(test_copy)[:, 1]\n",
    "    preds /= FOLDS\n",
    "    test_preds.append(preds)\n",
    "\n",
    "    # CLEAN MEMORY\n",
    "    del test_copy, model\n",
    "    _ = gc.collect()\n",
    "\n",
    "del test\n",
    "_ = gc.collect()"
   ]
  },
  {
   "cell_type": "markdown",
   "id": "02259545",
   "metadata": {
    "papermill": {
     "duration": 0.067515,
     "end_time": "2022-07-15T16:50:55.538577",
     "exception": false,
     "start_time": "2022-07-15T16:50:55.471062",
     "status": "completed"
    },
    "tags": []
   },
   "source": [
    "# Submit"
   ]
  },
  {
   "cell_type": "code",
   "execution_count": 23,
   "id": "00d908fd",
   "metadata": {
    "execution": {
     "iopub.execute_input": "2022-07-15T16:50:55.628196Z",
     "iopub.status.busy": "2022-07-15T16:50:55.627855Z",
     "iopub.status.idle": "2022-07-15T16:51:02.864876Z",
     "shell.execute_reply": "2022-07-15T16:51:02.864114Z"
    },
    "papermill": {
     "duration": 7.268354,
     "end_time": "2022-07-15T16:51:02.866646",
     "exception": false,
     "start_time": "2022-07-15T16:50:55.598292",
     "status": "completed"
    },
    "tags": []
   },
   "outputs": [
    {
     "name": "stdout",
     "output_type": "stream",
     "text": [
      "Submission file shape is (924621, 2)\n"
     ]
    },
    {
     "data": {
      "text/html": [
       "<div>\n",
       "<style scoped>\n",
       "    .dataframe tbody tr th:only-of-type {\n",
       "        vertical-align: middle;\n",
       "    }\n",
       "\n",
       "    .dataframe tbody tr th {\n",
       "        vertical-align: top;\n",
       "    }\n",
       "\n",
       "    .dataframe thead th {\n",
       "        text-align: right;\n",
       "    }\n",
       "</style>\n",
       "<table border=\"1\" class=\"dataframe\">\n",
       "  <thead>\n",
       "    <tr style=\"text-align: right;\">\n",
       "      <th></th>\n",
       "      <th>customer_ID</th>\n",
       "      <th>prediction</th>\n",
       "    </tr>\n",
       "  </thead>\n",
       "  <tbody>\n",
       "    <tr>\n",
       "      <th>0</th>\n",
       "      <td>00000469ba478561f23a92a868bd366de6f6527a684c9a...</td>\n",
       "      <td>0.017910</td>\n",
       "    </tr>\n",
       "    <tr>\n",
       "      <th>1</th>\n",
       "      <td>00001bf2e77ff879fab36aa4fac689b9ba411dae63ae39...</td>\n",
       "      <td>0.001454</td>\n",
       "    </tr>\n",
       "    <tr>\n",
       "      <th>2</th>\n",
       "      <td>0000210045da4f81e5f122c6bde5c2a617d03eef67f82c...</td>\n",
       "      <td>0.049836</td>\n",
       "    </tr>\n",
       "    <tr>\n",
       "      <th>3</th>\n",
       "      <td>00003b41e58ede33b8daf61ab56d9952f17c9ad1c3976c...</td>\n",
       "      <td>0.173627</td>\n",
       "    </tr>\n",
       "    <tr>\n",
       "      <th>4</th>\n",
       "      <td>00004b22eaeeeb0ec976890c1d9bfc14fd9427e98c4ee9...</td>\n",
       "      <td>0.837643</td>\n",
       "    </tr>\n",
       "  </tbody>\n",
       "</table>\n",
       "</div>"
      ],
      "text/plain": [
       "                                         customer_ID  prediction\n",
       "0  00000469ba478561f23a92a868bd366de6f6527a684c9a...    0.017910\n",
       "1  00001bf2e77ff879fab36aa4fac689b9ba411dae63ae39...    0.001454\n",
       "2  0000210045da4f81e5f122c6bde5c2a617d03eef67f82c...    0.049836\n",
       "3  00003b41e58ede33b8daf61ab56d9952f17c9ad1c3976c...    0.173627\n",
       "4  00004b22eaeeeb0ec976890c1d9bfc14fd9427e98c4ee9...    0.837643"
      ]
     },
     "execution_count": 23,
     "metadata": {},
     "output_type": "execute_result"
    }
   ],
   "source": [
    "# WRITE SUBMISSION FILE\n",
    "test_preds = np.concatenate(test_preds)\n",
    "test = pd.DataFrame(index=customers,data={'prediction':test_preds})\n",
    "sub = pd.read_csv(parent_dir + 'amex-default-prediction/sample_submission.csv')[['customer_ID']]\n",
    "sub['customer_ID_hash'] = sub['customer_ID'].copy()\n",
    "sub = sub.set_index('customer_ID_hash')\n",
    "sub = sub.merge(test[['prediction']], left_index=True, right_index=True, how='left')\n",
    "sub = sub.reset_index(drop=True)\n",
    "\n",
    "# DISPLAY PREDICTIONS\n",
    "sub.to_csv(f'submission_cat_v{VER}.csv',index=False)\n",
    "print('Submission file shape is', sub.shape )\n",
    "sub.head()"
   ]
  },
  {
   "cell_type": "code",
   "execution_count": 24,
   "id": "533e5941",
   "metadata": {
    "execution": {
     "iopub.execute_input": "2022-07-15T16:51:02.918871Z",
     "iopub.status.busy": "2022-07-15T16:51:02.918494Z",
     "iopub.status.idle": "2022-07-15T16:51:03.267833Z",
     "shell.execute_reply": "2022-07-15T16:51:03.266949Z"
    },
    "papermill": {
     "duration": 0.374502,
     "end_time": "2022-07-15T16:51:03.269960",
     "exception": false,
     "start_time": "2022-07-15T16:51:02.895458",
     "status": "completed"
    },
    "tags": []
   },
   "outputs": [
    {
     "data": {
      "image/png": "[encoded data removed]",
      "text/plain": [
       "<Figure size 432x288 with 1 Axes>"
      ]
     },
     "metadata": {
      "needs_background": "light"
     },
     "output_type": "display_data"
    }
   ],
   "source": [
    "# PLOT PREDICTIONS\n",
    "plt.hist(sub.prediction, bins=100)\n",
    "plt.title('Test Predictions')\n",
    "plt.show()"
   ]
  },
  {
   "cell_type": "markdown",
   "id": "185ec80b",
   "metadata": {
    "papermill": {
     "duration": 0.019597,
     "end_time": "2022-07-15T16:51:03.309452",
     "exception": false,
     "start_time": "2022-07-15T16:51:03.289855",
     "status": "completed"
    },
    "tags": []
   },
   "source": [
    "# Ensemble"
   ]
  },
  {
   "cell_type": "markdown",
   "id": "7b5329de",
   "metadata": {
    "papermill": {
     "duration": 0.019059,
     "end_time": "2022-07-15T16:51:03.348171",
     "exception": false,
     "start_time": "2022-07-15T16:51:03.329112",
     "status": "completed"
    },
    "tags": []
   },
   "source": [
    "## Do only ensemble"
   ]
  },
  {
   "cell_type": "code",
   "execution_count": 25,
   "id": "ae302481",
   "metadata": {
    "execution": {
     "iopub.execute_input": "2022-07-15T16:51:03.388764Z",
     "iopub.status.busy": "2022-07-15T16:51:03.388441Z",
     "iopub.status.idle": "2022-07-15T16:51:04.469509Z",
     "shell.execute_reply": "2022-07-15T16:51:04.468641Z"
    },
    "papermill": {
     "duration": 1.104153,
     "end_time": "2022-07-15T16:51:04.472053",
     "exception": false,
     "start_time": "2022-07-15T16:51:03.367900",
     "status": "completed"
    },
    "tags": []
   },
   "outputs": [],
   "source": [
    "sub = pd.read_csv(parent_dir + 'amex-default-prediction/sample_submission.csv')"
   ]
  },
  {
   "cell_type": "code",
   "execution_count": 26,
   "id": "8a79e96e",
   "metadata": {
    "execution": {
     "iopub.execute_input": "2022-07-15T16:51:04.513132Z",
     "iopub.status.busy": "2022-07-15T16:51:04.512793Z",
     "iopub.status.idle": "2022-07-15T16:51:04.520068Z",
     "shell.execute_reply": "2022-07-15T16:51:04.519108Z"
    },
    "papermill": {
     "duration": 0.029574,
     "end_time": "2022-07-15T16:51:04.522316",
     "exception": false,
     "start_time": "2022-07-15T16:51:04.492742",
     "status": "completed"
    },
    "tags": []
   },
   "outputs": [],
   "source": [
    "# https://www.kaggle.com/code/beezus666/ensemble-weighted-average\n",
    "#crude formula for model weighting.\n",
    "# Using this formaula the best model's weight = 1, the worst model's weight ~0.05\n",
    "def model_weight(model_loss, worst_loss, best_loss):\n",
    "    return 1- ((best_loss - model_loss)/(best_loss-(worst_loss - 0.01)))\n",
    "\n",
    "def read_weighted_preds(sub_dict: dict, worst_score:float, best_score: float) -> list:\n",
    "    preds = []\n",
    "    weights = []\n",
    "    for path, loss in sub_dict.items():\n",
    "        weight = model_weight(loss, worst_score, best_score)\n",
    "        \n",
    "        df = pd.read_csv(path)\n",
    "        df = df.set_index('customer_ID').sort_index().reset_index() # sort\n",
    "        df['prediction'] = df['prediction']*weight\n",
    "        \n",
    "        preds.append(df['prediction'])\n",
    "        weights.append(weight)\n",
    "    \n",
    "    return preds, weights"
   ]
  },
  {
   "cell_type": "code",
   "execution_count": 27,
   "id": "03b09021",
   "metadata": {
    "execution": {
     "iopub.execute_input": "2022-07-15T16:51:04.561639Z",
     "iopub.status.busy": "2022-07-15T16:51:04.561334Z",
     "iopub.status.idle": "2022-07-15T16:51:22.494528Z",
     "shell.execute_reply": "2022-07-15T16:51:22.493503Z"
    },
    "papermill": {
     "duration": 17.955551,
     "end_time": "2022-07-15T16:51:22.497045",
     "exception": false,
     "start_time": "2022-07-15T16:51:04.541494",
     "status": "completed"
    },
    "tags": []
   },
   "outputs": [],
   "source": [
    "best = 0.799\n",
    "worst = 0.7989\n",
    "\n",
    "sub_dict = {\n",
    "#     parent_dir + 'amexdefaultsubmissions/submission_cat_v26_0794.csv': 0.794,\n",
    "    parent_dir + 'amexdefaultsubmissions/submission_TF_GRU0789.csv': 0.789,\n",
    "# #     parent_dir + 'amexdefaultsubmissions/submission_xgb_v24.csv': 0.794,\n",
    "    parent_dir + 'amexdefaultsubmissions/test_lgbm_baseline_5fold_seed42.csv': 0.796,\n",
    "    parent_dir + 'amexdefaultsubmissions/test_lgbm_baseline_5fold_seed42_plus_0797.csv': 0.797,\n",
    "    parent_dir + 'amexdefaultsubmissions/submission_cat_0.7923765971248049.csv': 0.792,\n",
    "    parent_dir + 'amexdefaultsubmissions/submission_tabnet0791.csv': 0.791,\n",
    "    parent_dir + 'amexdefaultsubmissions/lightautoml_tabularautoml0795.csv': 0.795,\n",
    "    parent_dir + 'amexdefaultsubmissions/submission_xgb_nvt_0._794csv.csv': 0.794,\n",
    "    '../input/amex-lgbm-dart-cv-0-7977/test_lgbm_baseline_5fold_seed_blend.csv': 0.799\n",
    "#     '../input/amexdefaultsubmissions/submission_cat_v119seed42.csv': 0.794,\n",
    "#     '../input/amexdefaultsubmissions/submission_cat_v120seed52.csv': 0.794,\n",
    "#     '../input/amexdefaultsubmissions/submission_cat_v121_seed62.csv': 0.794\n",
    "}\n",
    "\n",
    "preds, weights = read_weighted_preds(sub_dict, worst, best)"
   ]
  },
  {
   "cell_type": "code",
   "execution_count": 28,
   "id": "3f8250ab",
   "metadata": {
    "execution": {
     "iopub.execute_input": "2022-07-15T16:51:22.539939Z",
     "iopub.status.busy": "2022-07-15T16:51:22.539178Z",
     "iopub.status.idle": "2022-07-15T16:51:27.679204Z",
     "shell.execute_reply": "2022-07-15T16:51:27.678195Z"
    },
    "papermill": {
     "duration": 5.163738,
     "end_time": "2022-07-15T16:51:27.681977",
     "exception": false,
     "start_time": "2022-07-15T16:51:22.518239",
     "status": "completed"
    },
    "tags": []
   },
   "outputs": [
    {
     "data": {
      "text/html": [
       "<div>\n",
       "<style scoped>\n",
       "    .dataframe tbody tr th:only-of-type {\n",
       "        vertical-align: middle;\n",
       "    }\n",
       "\n",
       "    .dataframe tbody tr th {\n",
       "        vertical-align: top;\n",
       "    }\n",
       "\n",
       "    .dataframe thead th {\n",
       "        text-align: right;\n",
       "    }\n",
       "</style>\n",
       "<table border=\"1\" class=\"dataframe\">\n",
       "  <thead>\n",
       "    <tr style=\"text-align: right;\">\n",
       "      <th></th>\n",
       "      <th>customer_ID</th>\n",
       "      <th>prediction</th>\n",
       "    </tr>\n",
       "  </thead>\n",
       "  <tbody>\n",
       "    <tr>\n",
       "      <th>0</th>\n",
       "      <td>00000469ba478561f23a92a868bd366de6f6527a684c9a...</td>\n",
       "      <td>0.028490</td>\n",
       "    </tr>\n",
       "    <tr>\n",
       "      <th>1</th>\n",
       "      <td>00001bf2e77ff879fab36aa4fac689b9ba411dae63ae39...</td>\n",
       "      <td>0.001000</td>\n",
       "    </tr>\n",
       "    <tr>\n",
       "      <th>2</th>\n",
       "      <td>0000210045da4f81e5f122c6bde5c2a617d03eef67f82c...</td>\n",
       "      <td>0.046015</td>\n",
       "    </tr>\n",
       "    <tr>\n",
       "      <th>3</th>\n",
       "      <td>00003b41e58ede33b8daf61ab56d9952f17c9ad1c3976c...</td>\n",
       "      <td>0.219310</td>\n",
       "    </tr>\n",
       "    <tr>\n",
       "      <th>4</th>\n",
       "      <td>00004b22eaeeeb0ec976890c1d9bfc14fd9427e98c4ee9...</td>\n",
       "      <td>0.860249</td>\n",
       "    </tr>\n",
       "    <tr>\n",
       "      <th>...</th>\n",
       "      <td>...</td>\n",
       "      <td>...</td>\n",
       "    </tr>\n",
       "    <tr>\n",
       "      <th>924616</th>\n",
       "      <td>ffff952c631f2c911b8a2a8ca56ea6e656309a83d2f64c...</td>\n",
       "      <td>0.013702</td>\n",
       "    </tr>\n",
       "    <tr>\n",
       "      <th>924617</th>\n",
       "      <td>ffffcf5df59e5e0bba2a5ac4578a34e2b5aa64a1546cd3...</td>\n",
       "      <td>0.798792</td>\n",
       "    </tr>\n",
       "    <tr>\n",
       "      <th>924618</th>\n",
       "      <td>ffffd61f098cc056dbd7d2a21380c4804bbfe60856f475...</td>\n",
       "      <td>0.440492</td>\n",
       "    </tr>\n",
       "    <tr>\n",
       "      <th>924619</th>\n",
       "      <td>ffffddef1fc3643ea179c93245b68dca0f36941cd83977...</td>\n",
       "      <td>0.270334</td>\n",
       "    </tr>\n",
       "    <tr>\n",
       "      <th>924620</th>\n",
       "      <td>fffffa7cf7e453e1acc6a1426475d5cb9400859f82ff61...</td>\n",
       "      <td>0.059215</td>\n",
       "    </tr>\n",
       "  </tbody>\n",
       "</table>\n",
       "<p>924621 rows × 2 columns</p>\n",
       "</div>"
      ],
      "text/plain": [
       "                                              customer_ID  prediction\n",
       "0       00000469ba478561f23a92a868bd366de6f6527a684c9a...    0.028490\n",
       "1       00001bf2e77ff879fab36aa4fac689b9ba411dae63ae39...    0.001000\n",
       "2       0000210045da4f81e5f122c6bde5c2a617d03eef67f82c...    0.046015\n",
       "3       00003b41e58ede33b8daf61ab56d9952f17c9ad1c3976c...    0.219310\n",
       "4       00004b22eaeeeb0ec976890c1d9bfc14fd9427e98c4ee9...    0.860249\n",
       "...                                                   ...         ...\n",
       "924616  ffff952c631f2c911b8a2a8ca56ea6e656309a83d2f64c...    0.013702\n",
       "924617  ffffcf5df59e5e0bba2a5ac4578a34e2b5aa64a1546cd3...    0.798792\n",
       "924618  ffffd61f098cc056dbd7d2a21380c4804bbfe60856f475...    0.440492\n",
       "924619  ffffddef1fc3643ea179c93245b68dca0f36941cd83977...    0.270334\n",
       "924620  fffffa7cf7e453e1acc6a1426475d5cb9400859f82ff61...    0.059215\n",
       "\n",
       "[924621 rows x 2 columns]"
      ]
     },
     "execution_count": 28,
     "metadata": {},
     "output_type": "execute_result"
    }
   ],
   "source": [
    "blend_ss = sub.copy()\n",
    "blend_ss['prediction'] = np.sum(np.column_stack(preds), axis=1) / sum(weights)\n",
    "# blend_ss['prediction'] = (np.mean(np.column_stack(preds), axis=1))\n",
    "blend_ss.to_csv('submission_blend.csv', index=False)\n",
    "blend_ss"
   ]
  },
  {
   "cell_type": "code",
   "execution_count": 29,
   "id": "f11a4404",
   "metadata": {
    "execution": {
     "iopub.execute_input": "2022-07-15T16:51:27.747823Z",
     "iopub.status.busy": "2022-07-15T16:51:27.747355Z",
     "iopub.status.idle": "2022-07-15T16:51:27.818825Z",
     "shell.execute_reply": "2022-07-15T16:51:27.813317Z"
    },
    "papermill": {
     "duration": 0.107095,
     "end_time": "2022-07-15T16:51:27.821463",
     "exception": false,
     "start_time": "2022-07-15T16:51:27.714368",
     "status": "completed"
    },
    "tags": []
   },
   "outputs": [
    {
     "data": {
      "text/html": [
       "<div>\n",
       "<style scoped>\n",
       "    .dataframe tbody tr th:only-of-type {\n",
       "        vertical-align: middle;\n",
       "    }\n",
       "\n",
       "    .dataframe tbody tr th {\n",
       "        vertical-align: top;\n",
       "    }\n",
       "\n",
       "    .dataframe thead th {\n",
       "        text-align: right;\n",
       "    }\n",
       "</style>\n",
       "<table border=\"1\" class=\"dataframe\">\n",
       "  <thead>\n",
       "    <tr style=\"text-align: right;\">\n",
       "      <th></th>\n",
       "      <th>prediction</th>\n",
       "    </tr>\n",
       "  </thead>\n",
       "  <tbody>\n",
       "    <tr>\n",
       "      <th>count</th>\n",
       "      <td>924621.000000</td>\n",
       "    </tr>\n",
       "    <tr>\n",
       "      <th>mean</th>\n",
       "      <td>0.249057</td>\n",
       "    </tr>\n",
       "    <tr>\n",
       "      <th>std</th>\n",
       "      <td>0.345441</td>\n",
       "    </tr>\n",
       "    <tr>\n",
       "      <th>min</th>\n",
       "      <td>0.000100</td>\n",
       "    </tr>\n",
       "    <tr>\n",
       "      <th>25%</th>\n",
       "      <td>0.003028</td>\n",
       "    </tr>\n",
       "    <tr>\n",
       "      <th>50%</th>\n",
       "      <td>0.026880</td>\n",
       "    </tr>\n",
       "    <tr>\n",
       "      <th>75%</th>\n",
       "      <td>0.482021</td>\n",
       "    </tr>\n",
       "    <tr>\n",
       "      <th>max</th>\n",
       "      <td>0.997465</td>\n",
       "    </tr>\n",
       "  </tbody>\n",
       "</table>\n",
       "</div>"
      ],
      "text/plain": [
       "          prediction\n",
       "count  924621.000000\n",
       "mean        0.249057\n",
       "std         0.345441\n",
       "min         0.000100\n",
       "25%         0.003028\n",
       "50%         0.026880\n",
       "75%         0.482021\n",
       "max         0.997465"
      ]
     },
     "execution_count": 29,
     "metadata": {},
     "output_type": "execute_result"
    }
   ],
   "source": [
    "blend_ss.describe()"
   ]
  },
  {
   "cell_type": "code",
   "execution_count": 30,
   "id": "5cdeb1fa",
   "metadata": {
    "execution": {
     "iopub.execute_input": "2022-07-15T16:51:27.893523Z",
     "iopub.status.busy": "2022-07-15T16:51:27.892966Z",
     "iopub.status.idle": "2022-07-15T16:51:28.388752Z",
     "shell.execute_reply": "2022-07-15T16:51:28.387872Z"
    },
    "papermill": {
     "duration": 0.532861,
     "end_time": "2022-07-15T16:51:28.391244",
     "exception": false,
     "start_time": "2022-07-15T16:51:27.858383",
     "status": "completed"
    },
    "tags": []
   },
   "outputs": [
    {
     "data": {
      "image/png": "[encoded data removed]",
      "text/plain": [
       "<Figure size 432x288 with 1 Axes>"
      ]
     },
     "metadata": {
      "needs_background": "light"
     },
     "output_type": "display_data"
    }
   ],
   "source": [
    "# PLOT PREDICTIONS\n",
    "plt.hist(blend_ss.prediction, bins=100)\n",
    "plt.title('Blend Test Predictions')\n",
    "plt.show()"
   ]
  },
  {
   "cell_type": "markdown",
   "id": "802623f7",
   "metadata": {
    "papermill": {
     "duration": 0.042841,
     "end_time": "2022-07-15T16:51:28.477165",
     "exception": false,
     "start_time": "2022-07-15T16:51:28.434324",
     "status": "completed"
    },
    "tags": []
   },
   "source": [
    "# Submit to Kaggle from Colab"
   ]
  },
  {
   "cell_type": "code",
   "execution_count": 31,
   "id": "efc54970",
   "metadata": {
    "execution": {
     "iopub.execute_input": "2022-07-15T16:51:28.552420Z",
     "iopub.status.busy": "2022-07-15T16:51:28.551829Z",
     "iopub.status.idle": "2022-07-15T16:51:28.557906Z",
     "shell.execute_reply": "2022-07-15T16:51:28.557166Z"
    },
    "papermill": {
     "duration": 0.048007,
     "end_time": "2022-07-15T16:51:28.561880",
     "exception": false,
     "start_time": "2022-07-15T16:51:28.513873",
     "status": "completed"
    },
    "tags": []
   },
   "outputs": [],
   "source": [
    "# Submit\n",
    "if is_env_colab:\n",
    "    # !kaggle competitions submit -c amex-default-prediction -f submission_cat_v1.csv -m \"From colab\"\n",
    "    !kaggle competitions submit -c amex-default-prediction -f submission_blend.csv -m \"From colab\""
   ]
  },
  {
   "cell_type": "code",
   "execution_count": 32,
   "id": "aad5cc1a",
   "metadata": {
    "execution": {
     "iopub.execute_input": "2022-07-15T16:51:28.636400Z",
     "iopub.status.busy": "2022-07-15T16:51:28.635706Z",
     "iopub.status.idle": "2022-07-15T16:51:28.643060Z",
     "shell.execute_reply": "2022-07-15T16:51:28.640501Z"
    },
    "papermill": {
     "duration": 0.04911,
     "end_time": "2022-07-15T16:51:28.647823",
     "exception": false,
     "start_time": "2022-07-15T16:51:28.598713",
     "status": "completed"
    },
    "tags": []
   },
   "outputs": [],
   "source": [
    "# Run after few seconds\n",
    "if is_env_colab:\n",
    "    !kaggle competitions submissions amex-default-prediction"
   ]
  }
 ],
 "metadata": {
  "kernelspec": {
   "display_name": "Python 3",
   "language": "python",
   "name": "python3"
  },
  "language_info": {
   "codemirror_mode": {
    "name": "ipython",
    "version": 3
   },
   "file_extension": ".py",
   "mimetype": "text/x-python",
   "name": "python",
   "nbconvert_exporter": "python",
   "pygments_lexer": "ipython3",
   "version": "3.7.12"
  },
  "papermill": {
   "default_parameters": {},
   "duration": 2291.105208,
   "end_time": "2022-07-15T16:51:29.695242",
   "environment_variables": {},
   "exception": null,
   "input_path": "__notebook__.ipynb",
   "output_path": "__notebook__.ipynb",
   "parameters": {},
   "start_time": "2022-07-15T16:13:18.590034",
   "version": "2.3.4"
  }
 },
 "nbformat": 4,
 "nbformat_minor": 5
}

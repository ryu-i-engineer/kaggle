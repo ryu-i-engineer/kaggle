{
 "cells": [
  {
   "cell_type": "markdown",
   "id": "c6769efd",
   "metadata": {
    "papermill": {
     "duration": 0.010475,
     "end_time": "2022-07-04T16:06:51.185074",
     "exception": false,
     "start_time": "2022-07-04T16:06:51.174599",
     "status": "completed"
    },
    "tags": []
   },
   "source": [
    "# Get env info"
   ]
  },
  {
   "cell_type": "code",
   "execution_count": 1,
   "id": "d06fcbd4",
   "metadata": {
    "execution": {
     "iopub.execute_input": "2022-07-04T16:06:51.205337Z",
     "iopub.status.busy": "2022-07-04T16:06:51.204879Z",
     "iopub.status.idle": "2022-07-04T16:06:51.215912Z",
     "shell.execute_reply": "2022-07-04T16:06:51.215238Z"
    },
    "papermill": {
     "duration": 0.022696,
     "end_time": "2022-07-04T16:06:51.217597",
     "exception": false,
     "start_time": "2022-07-04T16:06:51.194901",
     "status": "completed"
    },
    "tags": []
   },
   "outputs": [],
   "source": [
    "import os\n",
    "is_env_colab = True\n",
    "\n",
    "if \"kaggle\" in os.path.abspath(\".\"):\n",
    "    is_env_colab = False"
   ]
  },
  {
   "cell_type": "markdown",
   "id": "3f27696f",
   "metadata": {
    "papermill": {
     "duration": 0.00862,
     "end_time": "2022-07-04T16:06:51.235615",
     "exception": false,
     "start_time": "2022-07-04T16:06:51.226995",
     "status": "completed"
    },
    "tags": []
   },
   "source": [
    "# Prepare for colab"
   ]
  },
  {
   "cell_type": "code",
   "execution_count": 2,
   "id": "1f9851f1",
   "metadata": {
    "execution": {
     "iopub.execute_input": "2022-07-04T16:06:51.254271Z",
     "iopub.status.busy": "2022-07-04T16:06:51.254024Z",
     "iopub.status.idle": "2022-07-04T16:06:51.257787Z",
     "shell.execute_reply": "2022-07-04T16:06:51.256965Z"
    },
    "papermill": {
     "duration": 0.015125,
     "end_time": "2022-07-04T16:06:51.259563",
     "exception": false,
     "start_time": "2022-07-04T16:06:51.244438",
     "status": "completed"
    },
    "tags": []
   },
   "outputs": [],
   "source": [
    "if is_env_colab:\n",
    "    !pip install catboost"
   ]
  },
  {
   "cell_type": "markdown",
   "id": "399e197f",
   "metadata": {
    "papermill": {
     "duration": 0.008874,
     "end_time": "2022-07-04T16:06:51.277847",
     "exception": false,
     "start_time": "2022-07-04T16:06:51.268973",
     "status": "completed"
    },
    "tags": []
   },
   "source": [
    "# Kaggle Set up"
   ]
  },
  {
   "cell_type": "code",
   "execution_count": 3,
   "id": "ce34accb",
   "metadata": {
    "execution": {
     "iopub.execute_input": "2022-07-04T16:06:51.297220Z",
     "iopub.status.busy": "2022-07-04T16:06:51.296979Z",
     "iopub.status.idle": "2022-07-04T16:06:51.300853Z",
     "shell.execute_reply": "2022-07-04T16:06:51.300045Z"
    },
    "papermill": {
     "duration": 0.015513,
     "end_time": "2022-07-04T16:06:51.302731",
     "exception": false,
     "start_time": "2022-07-04T16:06:51.287218",
     "status": "completed"
    },
    "tags": []
   },
   "outputs": [],
   "source": [
    "if is_env_colab:\n",
    "    !pip install kaggle"
   ]
  },
  {
   "cell_type": "markdown",
   "id": "50debf96",
   "metadata": {
    "papermill": {
     "duration": 0.00883,
     "end_time": "2022-07-04T16:06:51.320525",
     "exception": false,
     "start_time": "2022-07-04T16:06:51.311695",
     "status": "completed"
    },
    "tags": []
   },
   "source": [
    "## Upload API Token"
   ]
  },
  {
   "cell_type": "code",
   "execution_count": 4,
   "id": "3bc0d580",
   "metadata": {
    "execution": {
     "iopub.execute_input": "2022-07-04T16:06:51.340061Z",
     "iopub.status.busy": "2022-07-04T16:06:51.339693Z",
     "iopub.status.idle": "2022-07-04T16:06:51.346289Z",
     "shell.execute_reply": "2022-07-04T16:06:51.345606Z"
    },
    "papermill": {
     "duration": 0.018116,
     "end_time": "2022-07-04T16:06:51.347994",
     "exception": false,
     "start_time": "2022-07-04T16:06:51.329878",
     "status": "completed"
    },
    "tags": []
   },
   "outputs": [],
   "source": [
    "if is_env_colab:\n",
    "    from google.colab import files\n",
    "\n",
    "    uploaded = files.upload()\n",
    "\n",
    "    for fn in uploaded.keys():\n",
    "      print('User uploaded file \"{name}\" with length {length} bytes'.format(\n",
    "          name=fn, length=len(uploaded[fn])))\n",
    "\n",
    "    # Then move kaggle.json into the folder where the API expects to find it.\n",
    "    !mkdir -p ~/.kaggle/ && mv kaggle.json ~/.kaggle/ && chmod 600 ~/.kaggle/kaggle.json"
   ]
  },
  {
   "cell_type": "markdown",
   "id": "695775a0",
   "metadata": {
    "papermill": {
     "duration": 0.008756,
     "end_time": "2022-07-04T16:06:51.365526",
     "exception": false,
     "start_time": "2022-07-04T16:06:51.356770",
     "status": "completed"
    },
    "tags": []
   },
   "source": [
    "## Download and unzip dataset"
   ]
  },
  {
   "cell_type": "code",
   "execution_count": 5,
   "id": "d0f2f3fd",
   "metadata": {
    "execution": {
     "iopub.execute_input": "2022-07-04T16:06:51.384889Z",
     "iopub.status.busy": "2022-07-04T16:06:51.384632Z",
     "iopub.status.idle": "2022-07-04T16:06:51.390257Z",
     "shell.execute_reply": "2022-07-04T16:06:51.389616Z"
    },
    "papermill": {
     "duration": 0.017322,
     "end_time": "2022-07-04T16:06:51.391813",
     "exception": false,
     "start_time": "2022-07-04T16:06:51.374491",
     "status": "completed"
    },
    "tags": []
   },
   "outputs": [],
   "source": [
    "if is_env_colab:\n",
    "    !kaggle datasets download -d huseyincot/amex-agg-data-pickle\n",
    "    !unzip /content/amex-agg-data-pickle.zip"
   ]
  },
  {
   "cell_type": "code",
   "execution_count": 6,
   "id": "24f389d4",
   "metadata": {
    "execution": {
     "iopub.execute_input": "2022-07-04T16:06:51.410949Z",
     "iopub.status.busy": "2022-07-04T16:06:51.410420Z",
     "iopub.status.idle": "2022-07-04T16:06:51.414877Z",
     "shell.execute_reply": "2022-07-04T16:06:51.414196Z"
    },
    "papermill": {
     "duration": 0.01577,
     "end_time": "2022-07-04T16:06:51.416508",
     "exception": false,
     "start_time": "2022-07-04T16:06:51.400738",
     "status": "completed"
    },
    "tags": []
   },
   "outputs": [],
   "source": [
    "if is_env_colab:\n",
    "    !kaggle competitions download -c amex-default-prediction -f sample_submission.csv\n",
    "    !unzip /content/sample_submission.csv.zip"
   ]
  },
  {
   "cell_type": "markdown",
   "id": "a79412f6",
   "metadata": {
    "papermill": {
     "duration": 0.00878,
     "end_time": "2022-07-04T16:06:51.434570",
     "exception": false,
     "start_time": "2022-07-04T16:06:51.425790",
     "status": "completed"
    },
    "tags": []
   },
   "source": [
    "# Settings"
   ]
  },
  {
   "cell_type": "code",
   "execution_count": 7,
   "id": "089a6bbb",
   "metadata": {
    "_cell_guid": "b1076dfc-b9ad-4769-8c92-a6c4dae69d19",
    "_uuid": "8f2839f25d086af736a60e9eeb907d3b93b6e0e5",
    "execution": {
     "iopub.execute_input": "2022-07-04T16:06:51.453439Z",
     "iopub.status.busy": "2022-07-04T16:06:51.453194Z",
     "iopub.status.idle": "2022-07-04T16:06:52.827890Z",
     "shell.execute_reply": "2022-07-04T16:06:52.826783Z"
    },
    "papermill": {
     "duration": 1.387004,
     "end_time": "2022-07-04T16:06:52.830379",
     "exception": false,
     "start_time": "2022-07-04T16:06:51.443375",
     "status": "completed"
    },
    "tags": []
   },
   "outputs": [],
   "source": [
    "import pandas as pd\n",
    "import numpy as np\n",
    "import matplotlib.pyplot as plt\n",
    "\n",
    "from catboost import CatBoostClassifier, Pool\n",
    "from sklearn.preprocessing import LabelEncoder\n",
    "from sklearn.model_selection import KFold\n",
    "\n",
    "import os\n",
    "import gc; gc.enable()\n",
    "\n",
    "import warnings\n",
    "warnings.filterwarnings('ignore')"
   ]
  },
  {
   "cell_type": "code",
   "execution_count": 8,
   "id": "0ccc31c1",
   "metadata": {
    "execution": {
     "iopub.execute_input": "2022-07-04T16:06:52.861508Z",
     "iopub.status.busy": "2022-07-04T16:06:52.861013Z",
     "iopub.status.idle": "2022-07-04T16:06:52.866454Z",
     "shell.execute_reply": "2022-07-04T16:06:52.865732Z"
    },
    "papermill": {
     "duration": 0.023184,
     "end_time": "2022-07-04T16:06:52.868425",
     "exception": false,
     "start_time": "2022-07-04T16:06:52.845241",
     "status": "completed"
    },
    "tags": []
   },
   "outputs": [],
   "source": [
    "VER=1\n",
    "SEED = 22\n",
    "FOLDS = 5\n",
    "\n",
    "cat_features = [\"B_30\", \"B_38\", \"D_114\", \"D_116\", \"D_117\", \"D_120\", \"D_126\", \"D_63\", \"D_64\", \"D_66\", \"D_68\"]"
   ]
  },
  {
   "cell_type": "code",
   "execution_count": 9,
   "id": "0432d6f5",
   "metadata": {
    "execution": {
     "iopub.execute_input": "2022-07-04T16:06:52.897777Z",
     "iopub.status.busy": "2022-07-04T16:06:52.897500Z",
     "iopub.status.idle": "2022-07-04T16:06:52.901386Z",
     "shell.execute_reply": "2022-07-04T16:06:52.900764Z"
    },
    "papermill": {
     "duration": 0.023498,
     "end_time": "2022-07-04T16:06:52.906055",
     "exception": false,
     "start_time": "2022-07-04T16:06:52.882557",
     "status": "completed"
    },
    "tags": []
   },
   "outputs": [],
   "source": [
    "parent_dir = \"../input/\"\n",
    "if is_env_colab:\n",
    "    parent_dir = \"/content/\"    "
   ]
  },
  {
   "cell_type": "code",
   "execution_count": 10,
   "id": "f9b6cbd9",
   "metadata": {
    "execution": {
     "iopub.execute_input": "2022-07-04T16:06:52.937704Z",
     "iopub.status.busy": "2022-07-04T16:06:52.937313Z",
     "iopub.status.idle": "2022-07-04T16:07:44.134462Z",
     "shell.execute_reply": "2022-07-04T16:07:44.133602Z"
    },
    "papermill": {
     "duration": 51.215577,
     "end_time": "2022-07-04T16:07:44.136608",
     "exception": false,
     "start_time": "2022-07-04T16:06:52.921031",
     "status": "completed"
    },
    "tags": []
   },
   "outputs": [],
   "source": [
    "# train = pd.read_pickle(parent_dir + \"amexdefaultpickleincludemedian/train_agg.pkl\", compression=\"gzip\")\n",
    "# train = train.reset_index(level=0)\n",
    "\n",
    "# test = pd.read_pickle(parent_dir + \"amexdefaultpickleincludemedian/test.pkl\", compression=\"gzip\")\n",
    "# test = test.reset_index(level=0)\n",
    "\n",
    "train = pd.read_pickle(parent_dir + \"amex-agg-data-pickle/train_agg.pkl\", compression=\"gzip\")\n",
    "test = pd.read_pickle(parent_dir + \"amex-agg-data-pickle/test_agg.pkl\", compression=\"gzip\")"
   ]
  },
  {
   "cell_type": "code",
   "execution_count": 11,
   "id": "a3948e0f",
   "metadata": {
    "execution": {
     "iopub.execute_input": "2022-07-04T16:07:44.157016Z",
     "iopub.status.busy": "2022-07-04T16:07:44.156637Z",
     "iopub.status.idle": "2022-07-04T16:07:46.197660Z",
     "shell.execute_reply": "2022-07-04T16:07:46.196772Z"
    },
    "papermill": {
     "duration": 2.053505,
     "end_time": "2022-07-04T16:07:46.199886",
     "exception": false,
     "start_time": "2022-07-04T16:07:44.146381",
     "status": "completed"
    },
    "tags": []
   },
   "outputs": [],
   "source": [
    "cat_features_last = [f\"{cf}_last\" for cf in cat_features]\n",
    "\n",
    "le_encoder = LabelEncoder()\n",
    "for categorical_feature in cat_features_last:\n",
    "    train[categorical_feature] = le_encoder.fit_transform(train[categorical_feature])\n",
    "    test[categorical_feature] = le_encoder.transform(test[categorical_feature])"
   ]
  },
  {
   "cell_type": "code",
   "execution_count": 12,
   "id": "ddd27f08",
   "metadata": {
    "execution": {
     "iopub.execute_input": "2022-07-04T16:07:46.219063Z",
     "iopub.status.busy": "2022-07-04T16:07:46.218780Z",
     "iopub.status.idle": "2022-07-04T16:08:02.267614Z",
     "shell.execute_reply": "2022-07-04T16:08:02.266765Z"
    },
    "papermill": {
     "duration": 16.060705,
     "end_time": "2022-07-04T16:08:02.269767",
     "exception": false,
     "start_time": "2022-07-04T16:07:46.209062",
     "status": "completed"
    },
    "tags": []
   },
   "outputs": [],
   "source": [
    "# https://www.kaggle.com/code/ragnar123/amex-lgbm-dart-cv-0-7963\n",
    "# Round last float features to 2 decimal place\n",
    "float_cols = list(train.dtypes[(train.dtypes == 'float16') | (train.dtypes == 'float32') | (train.dtypes == 'float64')].index)\n",
    "float_cols = [col for col in float_cols if 'last' in col]\n",
    "\n",
    "train[float_cols] = train[float_cols].round(3)\n",
    "test[float_cols] = test[float_cols].round(3)"
   ]
  },
  {
   "cell_type": "code",
   "execution_count": 13,
   "id": "4ab2149b",
   "metadata": {
    "execution": {
     "iopub.execute_input": "2022-07-04T16:08:02.289295Z",
     "iopub.status.busy": "2022-07-04T16:08:02.289013Z",
     "iopub.status.idle": "2022-07-04T16:08:03.581452Z",
     "shell.execute_reply": "2022-07-04T16:08:03.580572Z"
    },
    "papermill": {
     "duration": 1.305183,
     "end_time": "2022-07-04T16:08:03.584355",
     "exception": false,
     "start_time": "2022-07-04T16:08:02.279172",
     "status": "completed"
    },
    "tags": []
   },
   "outputs": [],
   "source": [
    "# train = train.set_index('customer_ID')\n",
    "train = train.sort_index().reset_index()\n",
    "FEATURES = train.drop(columns=['customer_ID', 'target']).columns"
   ]
  },
  {
   "cell_type": "code",
   "execution_count": 14,
   "id": "7c047700",
   "metadata": {
    "execution": {
     "iopub.execute_input": "2022-07-04T16:08:03.614233Z",
     "iopub.status.busy": "2022-07-04T16:08:03.613858Z",
     "iopub.status.idle": "2022-07-04T16:08:03.750447Z",
     "shell.execute_reply": "2022-07-04T16:08:03.749731Z"
    },
    "papermill": {
     "duration": 0.153615,
     "end_time": "2022-07-04T16:08:03.752827",
     "exception": false,
     "start_time": "2022-07-04T16:08:03.599212",
     "status": "completed"
    },
    "tags": []
   },
   "outputs": [
    {
     "data": {
      "text/plain": [
       "array([0.67470338, 1.9309969 ])"
      ]
     },
     "execution_count": 14,
     "metadata": {},
     "output_type": "execute_result"
    }
   ],
   "source": [
    "from sklearn.utils.class_weight import compute_class_weight\n",
    "class_weights = compute_class_weight(class_weight='balanced', classes=np.unique(train.target), y=train.target)\n",
    "class_weights"
   ]
  },
  {
   "cell_type": "code",
   "execution_count": 15,
   "id": "608fc4c5",
   "metadata": {
    "execution": {
     "iopub.execute_input": "2022-07-04T16:08:03.782376Z",
     "iopub.status.busy": "2022-07-04T16:08:03.782047Z",
     "iopub.status.idle": "2022-07-04T16:08:03.799883Z",
     "shell.execute_reply": "2022-07-04T16:08:03.798956Z"
    },
    "papermill": {
     "duration": 0.034327,
     "end_time": "2022-07-04T16:08:03.802214",
     "exception": false,
     "start_time": "2022-07-04T16:08:03.767887",
     "status": "completed"
    },
    "tags": []
   },
   "outputs": [],
   "source": [
    "# https://www.kaggle.com/competitions/amex-default-prediction/discussion/328020\n",
    "# https://www.kaggle.com/code/rohanrao/amex-competition-metric-implementations\n",
    "def amex_metric_np(target: np.ndarray, preds: np.ndarray) -> float:\n",
    "    indices = np.argsort(preds)[::-1]\n",
    "    preds, target = preds[indices], target[indices]\n",
    "\n",
    "    n_pos = np.sum(target)\n",
    "    n_neg = target.shape[0] - n_pos\n",
    "    \n",
    "    weight = 20.0 - target * 19.0\n",
    "    cum_norm_weight = (weight * (1 / weight.sum())).cumsum()\n",
    "    four_pct_mask = cum_norm_weight <= 0.04\n",
    "    d = np.sum(target[four_pct_mask]) / n_pos\n",
    "    \n",
    "    lorentz = (target * (1 / n_pos)).cumsum()\n",
    "    gini = ((lorentz - cum_norm_weight) * weight).sum()\n",
    "    gini_max = 10 * n_neg * (1 - 19 / (n_pos + 20 * n_neg))\n",
    "\n",
    "    g = gini / gini_max\n",
    "\n",
    "    return 0.5 * (g + d)\n",
    "\n",
    "class CustomMetric(object):\n",
    "   def get_final_error(self, error, weight): return error\n",
    "   def is_max_optimal(self): return True\n",
    "   def evaluate(self, approxes, target, weight): return amex_metric_np(np.array(target), approxes[0]), 1.0"
   ]
  },
  {
   "cell_type": "code",
   "execution_count": 16,
   "id": "516b3b8a",
   "metadata": {
    "execution": {
     "iopub.execute_input": "2022-07-04T16:08:03.835507Z",
     "iopub.status.busy": "2022-07-04T16:08:03.835207Z",
     "iopub.status.idle": "2022-07-04T16:08:03.845297Z",
     "shell.execute_reply": "2022-07-04T16:08:03.843094Z"
    },
    "papermill": {
     "duration": 0.029147,
     "end_time": "2022-07-04T16:08:03.847581",
     "exception": false,
     "start_time": "2022-07-04T16:08:03.818434",
     "status": "completed"
    },
    "tags": []
   },
   "outputs": [],
   "source": [
    "cat_params = {\n",
    "    'iterations':20000,\n",
    "    'random_state':SEED,\n",
    "    'learning_rate':0.025,\n",
    "    'one_hot_max_size':20,\n",
    "    \n",
    "#     'depth': 4,\n",
    "    'l2_leaf_reg': 14.0,\n",
    "#     'eval_metric': CustomMetric(),\n",
    "#     'random_strength': 0.5,\n",
    "#     'bagging_temperature': 0.99,\n",
    "#     'class_weights':class_weights,\n",
    "\n",
    "    'task_type':\"GPU\",\n",
    "    'border_count':128,\n",
    "}"
   ]
  },
  {
   "cell_type": "code",
   "execution_count": 17,
   "id": "496e0148",
   "metadata": {
    "execution": {
     "iopub.execute_input": "2022-07-04T16:08:03.879493Z",
     "iopub.status.busy": "2022-07-04T16:08:03.879179Z",
     "iopub.status.idle": "2022-07-04T16:48:35.805039Z",
     "shell.execute_reply": "2022-07-04T16:48:35.804204Z"
    },
    "papermill": {
     "duration": 2431.959461,
     "end_time": "2022-07-04T16:48:35.823219",
     "exception": false,
     "start_time": "2022-07-04T16:08:03.863758",
     "status": "completed"
    },
    "tags": []
   },
   "outputs": [
    {
     "name": "stdout",
     "output_type": "stream",
     "text": [
      "#########################\n",
      "### Fold 1\n",
      "### Train size 367130 Valid size 91783\n",
      "### Training with 100% fold data...\n",
      "#########################\n",
      "0:\tlearn: 0.6621056\ttest: 0.6620414\tbest: 0.6620414 (0)\ttotal: 40.7ms\tremaining: 13m 34s\n",
      "500:\tlearn: 0.2214640\ttest: 0.2236557\tbest: 0.2236557 (500)\ttotal: 15.7s\tremaining: 10m 11s\n",
      "1000:\tlearn: 0.2149955\ttest: 0.2203848\tbest: 0.2203848 (1000)\ttotal: 29.9s\tremaining: 9m 27s\n",
      "1500:\tlearn: 0.2106929\ttest: 0.2192292\tbest: 0.2192292 (1500)\ttotal: 45.4s\tremaining: 9m 19s\n",
      "2000:\tlearn: 0.2070813\ttest: 0.2185582\tbest: 0.2185582 (2000)\ttotal: 59.7s\tremaining: 8m 56s\n",
      "2500:\tlearn: 0.2037373\ttest: 0.2181370\tbest: 0.2181370 (2500)\ttotal: 1m 14s\tremaining: 8m 43s\n",
      "3000:\tlearn: 0.2006646\ttest: 0.2178010\tbest: 0.2178001 (2996)\ttotal: 1m 28s\tremaining: 8m 23s\n",
      "3500:\tlearn: 0.1977190\ttest: 0.2175591\tbest: 0.2175591 (3500)\ttotal: 1m 43s\tremaining: 8m 9s\n",
      "4000:\tlearn: 0.1948057\ttest: 0.2173978\tbest: 0.2173960 (3985)\ttotal: 1m 57s\tremaining: 7m 51s\n",
      "4500:\tlearn: 0.1920616\ttest: 0.2172323\tbest: 0.2172323 (4500)\ttotal: 2m 13s\tremaining: 7m 38s\n",
      "5000:\tlearn: 0.1894115\ttest: 0.2170938\tbest: 0.2170938 (5000)\ttotal: 2m 27s\tremaining: 7m 20s\n",
      "5500:\tlearn: 0.1867772\ttest: 0.2169719\tbest: 0.2169719 (5500)\ttotal: 2m 41s\tremaining: 7m 4s\n",
      "6000:\tlearn: 0.1842344\ttest: 0.2168925\tbest: 0.2168902 (5996)\ttotal: 2m 55s\tremaining: 6m 50s\n",
      "6500:\tlearn: 0.1817496\ttest: 0.2168081\tbest: 0.2168081 (6500)\ttotal: 3m 10s\tremaining: 6m 35s\n",
      "7000:\tlearn: 0.1793359\ttest: 0.2167685\tbest: 0.2167550 (6859)\ttotal: 3m 25s\tremaining: 6m 20s\n",
      "7500:\tlearn: 0.1769778\ttest: 0.2167007\tbest: 0.2166982 (7492)\ttotal: 3m 39s\tremaining: 6m 5s\n",
      "8000:\tlearn: 0.1746086\ttest: 0.2166411\tbest: 0.2166394 (7977)\ttotal: 3m 54s\tremaining: 5m 51s\n",
      "bestTest = 0.216630169\n",
      "bestIteration = 8074\n",
      "Shrink model to first 8075 iterations.\n",
      "Amex Metric = 0.7916500592151552 \n",
      "\n",
      "#########################\n",
      "### Fold 2\n",
      "### Train size 367130 Valid size 91783\n",
      "### Training with 100% fold data...\n",
      "#########################\n",
      "0:\tlearn: 0.6618084\ttest: 0.6618492\tbest: 0.6618492 (0)\ttotal: 32.7ms\tremaining: 10m 53s\n",
      "500:\tlearn: 0.2210698\ttest: 0.2256377\tbest: 0.2256377 (500)\ttotal: 15.7s\tremaining: 10m 11s\n",
      "1000:\tlearn: 0.2146790\ttest: 0.2222720\tbest: 0.2222720 (1000)\ttotal: 30s\tremaining: 9m 29s\n",
      "1500:\tlearn: 0.2104138\ttest: 0.2209946\tbest: 0.2209946 (1500)\ttotal: 45.4s\tremaining: 9m 19s\n",
      "2000:\tlearn: 0.2067976\ttest: 0.2202414\tbest: 0.2202414 (2000)\ttotal: 59.8s\tremaining: 8m 57s\n",
      "2500:\tlearn: 0.2034724\ttest: 0.2197690\tbest: 0.2197658 (2494)\ttotal: 1m 14s\tremaining: 8m 42s\n",
      "3000:\tlearn: 0.2003969\ttest: 0.2193573\tbest: 0.2193565 (2996)\ttotal: 1m 29s\tremaining: 8m 26s\n",
      "3500:\tlearn: 0.1974764\ttest: 0.2191297\tbest: 0.2191294 (3497)\ttotal: 1m 43s\tremaining: 8m 9s\n",
      "4000:\tlearn: 0.1946145\ttest: 0.2188463\tbest: 0.2188463 (4000)\ttotal: 1m 59s\tremaining: 7m 56s\n",
      "4500:\tlearn: 0.1918602\ttest: 0.2186893\tbest: 0.2186893 (4500)\ttotal: 2m 13s\tremaining: 7m 40s\n",
      "5000:\tlearn: 0.1891495\ttest: 0.2185434\tbest: 0.2185425 (4999)\ttotal: 2m 28s\tremaining: 7m 25s\n",
      "5500:\tlearn: 0.1865857\ttest: 0.2184107\tbest: 0.2184098 (5487)\ttotal: 2m 42s\tremaining: 7m 9s\n",
      "6000:\tlearn: 0.1840713\ttest: 0.2183376\tbest: 0.2183362 (5975)\ttotal: 2m 58s\tremaining: 6m 55s\n",
      "6500:\tlearn: 0.1815707\ttest: 0.2181937\tbest: 0.2181937 (6500)\ttotal: 3m 12s\tremaining: 6m 40s\n",
      "7000:\tlearn: 0.1791138\ttest: 0.2180831\tbest: 0.2180831 (7000)\ttotal: 3m 28s\tremaining: 6m 26s\n",
      "7500:\tlearn: 0.1767353\ttest: 0.2180139\tbest: 0.2180030 (7445)\ttotal: 3m 42s\tremaining: 6m 11s\n",
      "8000:\tlearn: 0.1744196\ttest: 0.2179673\tbest: 0.2179478 (7894)\ttotal: 3m 57s\tremaining: 5m 56s\n",
      "8500:\tlearn: 0.1721511\ttest: 0.2179076\tbest: 0.2179066 (8314)\ttotal: 4m 12s\tremaining: 5m 40s\n",
      "9000:\tlearn: 0.1698979\ttest: 0.2178173\tbest: 0.2178173 (9000)\ttotal: 4m 26s\tremaining: 5m 25s\n",
      "bestTest = 0.2178151991\n",
      "bestIteration = 9066\n",
      "Shrink model to first 9067 iterations.\n",
      "Amex Metric = 0.7952445236843506 \n",
      "\n",
      "#########################\n",
      "### Fold 3\n",
      "### Train size 367130 Valid size 91783\n",
      "### Training with 100% fold data...\n",
      "#########################\n",
      "0:\tlearn: 0.6619483\ttest: 0.6620184\tbest: 0.6620184 (0)\ttotal: 33.6ms\tremaining: 11m 12s\n",
      "500:\tlearn: 0.2211547\ttest: 0.2256903\tbest: 0.2256903 (500)\ttotal: 15.3s\tremaining: 9m 55s\n",
      "1000:\tlearn: 0.2148011\ttest: 0.2221554\tbest: 0.2221554 (1000)\ttotal: 30.2s\tremaining: 9m 32s\n",
      "1500:\tlearn: 0.2105842\ttest: 0.2208068\tbest: 0.2208068 (1500)\ttotal: 44.2s\tremaining: 9m 4s\n",
      "2000:\tlearn: 0.2069515\ttest: 0.2200324\tbest: 0.2200324 (2000)\ttotal: 59s\tremaining: 8m 51s\n",
      "2500:\tlearn: 0.2036146\ttest: 0.2194895\tbest: 0.2194895 (2500)\ttotal: 1m 13s\tremaining: 8m 34s\n",
      "3000:\tlearn: 0.2005390\ttest: 0.2191451\tbest: 0.2191451 (3000)\ttotal: 1m 28s\tremaining: 8m 21s\n",
      "3500:\tlearn: 0.1975268\ttest: 0.2188547\tbest: 0.2188541 (3499)\ttotal: 1m 42s\tremaining: 8m 3s\n",
      "4000:\tlearn: 0.1947265\ttest: 0.2186947\tbest: 0.2186947 (4000)\ttotal: 1m 57s\tremaining: 7m 51s\n",
      "4500:\tlearn: 0.1919366\ttest: 0.2184824\tbest: 0.2184769 (4489)\ttotal: 2m 11s\tremaining: 7m 34s\n",
      "5000:\tlearn: 0.1892690\ttest: 0.2183406\tbest: 0.2183406 (5000)\ttotal: 2m 26s\tremaining: 7m 20s\n",
      "5500:\tlearn: 0.1866791\ttest: 0.2181857\tbest: 0.2181831 (5498)\ttotal: 2m 41s\tremaining: 7m 5s\n",
      "6000:\tlearn: 0.1841479\ttest: 0.2181074\tbest: 0.2181047 (5847)\ttotal: 2m 55s\tremaining: 6m 49s\n",
      "6500:\tlearn: 0.1816634\ttest: 0.2180287\tbest: 0.2180232 (6469)\ttotal: 3m 10s\tremaining: 6m 35s\n",
      "7000:\tlearn: 0.1792047\ttest: 0.2179330\tbest: 0.2179324 (6999)\ttotal: 3m 24s\tremaining: 6m 20s\n",
      "7500:\tlearn: 0.1768351\ttest: 0.2178656\tbest: 0.2178615 (7482)\ttotal: 3m 39s\tremaining: 6m 6s\n",
      "8000:\tlearn: 0.1745032\ttest: 0.2177907\tbest: 0.2177905 (7980)\ttotal: 3m 54s\tremaining: 5m 50s\n",
      "8500:\tlearn: 0.1722112\ttest: 0.2177199\tbest: 0.2177169 (8493)\ttotal: 4m 9s\tremaining: 5m 37s\n",
      "9000:\tlearn: 0.1699162\ttest: 0.2176925\tbest: 0.2176911 (8991)\ttotal: 4m 23s\tremaining: 5m 22s\n",
      "9500:\tlearn: 0.1676801\ttest: 0.2176584\tbest: 0.2176547 (9459)\ttotal: 4m 38s\tremaining: 5m 7s\n",
      "10000:\tlearn: 0.1655356\ttest: 0.2175989\tbest: 0.2175962 (9992)\ttotal: 4m 53s\tremaining: 4m 53s\n",
      "bestTest = 0.2175946339\n",
      "bestIteration = 10027\n",
      "Shrink model to first 10028 iterations.\n",
      "Amex Metric = 0.790264687724844 \n",
      "\n",
      "#########################\n",
      "### Fold 4\n",
      "### Train size 367131 Valid size 91782\n",
      "### Training with 100% fold data...\n",
      "#########################\n",
      "0:\tlearn: 0.6619932\ttest: 0.6620496\tbest: 0.6620496 (0)\ttotal: 34.9ms\tremaining: 11m 38s\n",
      "500:\tlearn: 0.2211669\ttest: 0.2252436\tbest: 0.2252436 (500)\ttotal: 14.5s\tremaining: 9m 22s\n",
      "1000:\tlearn: 0.2146621\ttest: 0.2220412\tbest: 0.2220412 (1000)\ttotal: 29.5s\tremaining: 9m 19s\n",
      "1500:\tlearn: 0.2104296\ttest: 0.2208954\tbest: 0.2208954 (1500)\ttotal: 43.5s\tremaining: 8m 55s\n",
      "2000:\tlearn: 0.2068592\ttest: 0.2202480\tbest: 0.2202480 (2000)\ttotal: 58.1s\tremaining: 8m 42s\n",
      "2500:\tlearn: 0.2035879\ttest: 0.2197729\tbest: 0.2197724 (2499)\ttotal: 1m 12s\tremaining: 8m 26s\n",
      "3000:\tlearn: 0.2004708\ttest: 0.2194415\tbest: 0.2194396 (2999)\ttotal: 1m 26s\tremaining: 8m 9s\n",
      "3500:\tlearn: 0.1975385\ttest: 0.2192119\tbest: 0.2192119 (3500)\ttotal: 1m 41s\tremaining: 7m 57s\n",
      "4000:\tlearn: 0.1946929\ttest: 0.2190079\tbest: 0.2190037 (3986)\ttotal: 1m 55s\tremaining: 7m 41s\n",
      "4500:\tlearn: 0.1919302\ttest: 0.2188787\tbest: 0.2188679 (4478)\ttotal: 2m 9s\tremaining: 7m 25s\n",
      "5000:\tlearn: 0.1892708\ttest: 0.2188037\tbest: 0.2188037 (5000)\ttotal: 2m 24s\tremaining: 7m 12s\n",
      "5500:\tlearn: 0.1866861\ttest: 0.2186530\tbest: 0.2186478 (5494)\ttotal: 2m 38s\tremaining: 6m 57s\n",
      "6000:\tlearn: 0.1841282\ttest: 0.2185421\tbest: 0.2185418 (5975)\ttotal: 2m 53s\tremaining: 6m 43s\n",
      "6500:\tlearn: 0.1816525\ttest: 0.2184508\tbest: 0.2184435 (6484)\ttotal: 3m 7s\tremaining: 6m 29s\n",
      "7000:\tlearn: 0.1792000\ttest: 0.2183750\tbest: 0.2183726 (6956)\ttotal: 3m 22s\tremaining: 6m 16s\n",
      "7500:\tlearn: 0.1768335\ttest: 0.2182864\tbest: 0.2182857 (7499)\ttotal: 3m 36s\tremaining: 6m 1s\n",
      "8000:\tlearn: 0.1745059\ttest: 0.2182340\tbest: 0.2182319 (7998)\ttotal: 3m 52s\tremaining: 5m 47s\n",
      "8500:\tlearn: 0.1721829\ttest: 0.2182162\tbest: 0.2182030 (8430)\ttotal: 4m 6s\tremaining: 5m 33s\n",
      "9000:\tlearn: 0.1699185\ttest: 0.2181529\tbest: 0.2181528 (8979)\ttotal: 4m 20s\tremaining: 5m 18s\n",
      "9500:\tlearn: 0.1677569\ttest: 0.2180569\tbest: 0.2180569 (9500)\ttotal: 4m 35s\tremaining: 5m 4s\n",
      "10000:\tlearn: 0.1656114\ttest: 0.2180368\tbest: 0.2180279 (9756)\ttotal: 4m 49s\tremaining: 4m 49s\n",
      "bestTest = 0.2180278617\n",
      "bestIteration = 9756\n",
      "Shrink model to first 9757 iterations.\n",
      "Amex Metric = 0.7925154971718229 \n",
      "\n",
      "#########################\n",
      "### Fold 5\n",
      "### Train size 367131 Valid size 91782\n",
      "### Training with 100% fold data...\n",
      "#########################\n",
      "0:\tlearn: 0.6623409\ttest: 0.6623208\tbest: 0.6623208 (0)\ttotal: 32.3ms\tremaining: 10m 46s\n",
      "500:\tlearn: 0.2217454\ttest: 0.2231951\tbest: 0.2231951 (500)\ttotal: 14.7s\tremaining: 9m 32s\n",
      "1000:\tlearn: 0.2153268\ttest: 0.2200093\tbest: 0.2200093 (1000)\ttotal: 29.1s\tremaining: 9m 11s\n",
      "1500:\tlearn: 0.2110549\ttest: 0.2187857\tbest: 0.2187857 (1500)\ttotal: 43.9s\tremaining: 9m\n",
      "2000:\tlearn: 0.2074631\ttest: 0.2181704\tbest: 0.2181693 (1999)\ttotal: 57.9s\tremaining: 8m 41s\n",
      "2500:\tlearn: 0.2042047\ttest: 0.2176478\tbest: 0.2176474 (2497)\ttotal: 1m 13s\tremaining: 8m 32s\n",
      "3000:\tlearn: 0.2010565\ttest: 0.2172613\tbest: 0.2172612 (2999)\ttotal: 1m 27s\tremaining: 8m 14s\n",
      "3500:\tlearn: 0.1980896\ttest: 0.2169820\tbest: 0.2169806 (3497)\ttotal: 1m 42s\tremaining: 8m 2s\n",
      "4000:\tlearn: 0.1952165\ttest: 0.2167749\tbest: 0.2167749 (4000)\ttotal: 1m 56s\tremaining: 7m 46s\n",
      "4500:\tlearn: 0.1924350\ttest: 0.2165707\tbest: 0.2165692 (4491)\ttotal: 2m 11s\tremaining: 7m 33s\n",
      "5000:\tlearn: 0.1897700\ttest: 0.2163991\tbest: 0.2163979 (4993)\ttotal: 2m 25s\tremaining: 7m 17s\n",
      "5500:\tlearn: 0.1871407\ttest: 0.2162685\tbest: 0.2162669 (5491)\ttotal: 2m 40s\tremaining: 7m 1s\n",
      "6000:\tlearn: 0.1846208\ttest: 0.2161369\tbest: 0.2161366 (5986)\ttotal: 2m 55s\tremaining: 6m 48s\n",
      "6500:\tlearn: 0.1821829\ttest: 0.2160227\tbest: 0.2160223 (6498)\ttotal: 3m 9s\tremaining: 6m 33s\n",
      "7000:\tlearn: 0.1797641\ttest: 0.2159685\tbest: 0.2159685 (7000)\ttotal: 3m 24s\tremaining: 6m 19s\n",
      "7500:\tlearn: 0.1773929\ttest: 0.2159082\tbest: 0.2159016 (7447)\ttotal: 3m 38s\tremaining: 6m 4s\n",
      "8000:\tlearn: 0.1750640\ttest: 0.2158480\tbest: 0.2158447 (7970)\ttotal: 3m 53s\tremaining: 5m 50s\n",
      "8500:\tlearn: 0.1727682\ttest: 0.2157749\tbest: 0.2157749 (8500)\ttotal: 4m 8s\tremaining: 5m 35s\n",
      "9000:\tlearn: 0.1705179\ttest: 0.2157210\tbest: 0.2157210 (9000)\ttotal: 4m 23s\tremaining: 5m 21s\n",
      "9500:\tlearn: 0.1683229\ttest: 0.2156940\tbest: 0.2156774 (9455)\ttotal: 4m 37s\tremaining: 5m 6s\n",
      "10000:\tlearn: 0.1661432\ttest: 0.2156255\tbest: 0.2156097 (9910)\ttotal: 4m 51s\tremaining: 4m 51s\n",
      "10500:\tlearn: 0.1639859\ttest: 0.2155836\tbest: 0.2155744 (10364)\ttotal: 5m 6s\tremaining: 4m 37s\n",
      "11000:\tlearn: 0.1619128\ttest: 0.2155372\tbest: 0.2155365 (10994)\ttotal: 5m 20s\tremaining: 4m 22s\n",
      "11500:\tlearn: 0.1598884\ttest: 0.2155103\tbest: 0.2155071 (11494)\ttotal: 5m 35s\tremaining: 4m 8s\n",
      "12000:\tlearn: 0.1578517\ttest: 0.2154980\tbest: 0.2154794 (11939)\ttotal: 5m 50s\tremaining: 3m 53s\n",
      "bestTest = 0.2154794488\n",
      "bestIteration = 11939\n",
      "Shrink model to first 11940 iterations.\n",
      "Amex Metric = 0.7942074429420578 \n",
      "\n",
      "#########################\n",
      "Overall Amex metric: 0.7928957816436867\n"
     ]
    }
   ],
   "source": [
    "importances = []\n",
    "oof = []\n",
    "gc.collect()\n",
    "\n",
    "clf = CatBoostClassifier(**cat_params)\n",
    "skf = KFold(n_splits=FOLDS, shuffle=True, random_state=SEED)\n",
    "for fold,(train_idx, valid_idx) in enumerate(skf.split(train, train.target)):\n",
    "    \n",
    "    print('#'*25)\n",
    "    print('### Fold',fold+1)\n",
    "    print('### Train size',len(train_idx),'Valid size',len(valid_idx))\n",
    "    print(f'### Training with 100% fold data...')\n",
    "    print('#'*25)\n",
    "    \n",
    "    # TRAIN, VALID, TEST FOR FOLD K\n",
    "    X_train = train.loc[train_idx, FEATURES]\n",
    "    X_valid = train.target.iloc[train_idx]\n",
    "    y_train = train.loc[valid_idx, FEATURES]\n",
    "    y_valid = train.target.iloc[valid_idx]\n",
    "    \n",
    "    # TRAIN MODEL FOLD K\n",
    "    model = clf.fit(X_train,\n",
    "                    X_valid,\n",
    "                    cat_features=cat_features_last,\n",
    "                    eval_set=[(y_train, y_valid)],\n",
    "                    use_best_model=True,\n",
    "                    early_stopping_rounds=300,\n",
    "                    verbose_eval=500)\n",
    "    model.save_model(f'CAT_v{VER}_fold{fold}.cbm')\n",
    "    \n",
    "    # GET FEATURE IMPORTANCE FOR FOLD K\n",
    "    dd = model.feature_importances_\n",
    "    df = pd.DataFrame({'feature':FEATURES,f'importance_{fold}':dd})\n",
    "    importances.append(df)\n",
    "            \n",
    "    # INFER OOF FOLD K\n",
    "    oof_preds = model.predict_proba(y_train)[:, 1]\n",
    "    acc = amex_metric_np(y_valid.values, oof_preds)\n",
    "    print('Amex Metric =',acc,'\\n')\n",
    "\n",
    "    df = train.loc[valid_idx, ['customer_ID','target'] ].copy()\n",
    "    df['oof_preds'] = oof_preds\n",
    "    oof.append(df)\n",
    "    \n",
    "    del X_train, y_train, dd, df\n",
    "    del X_valid, y_valid, model\n",
    "    _ = gc.collect()\n",
    "    \n",
    "print('#'*25)\n",
    "oof = pd.concat(oof,axis=0,ignore_index=True).set_index('customer_ID')\n",
    "acc = amex_metric_np(oof.target.values, oof.oof_preds.values)\n",
    "print(f\"Overall Amex metric: {acc}\")"
   ]
  },
  {
   "cell_type": "code",
   "execution_count": 18,
   "id": "51f7faa6",
   "metadata": {
    "execution": {
     "iopub.execute_input": "2022-07-04T16:48:35.855359Z",
     "iopub.status.busy": "2022-07-04T16:48:35.855076Z",
     "iopub.status.idle": "2022-07-04T16:48:35.951175Z",
     "shell.execute_reply": "2022-07-04T16:48:35.950066Z"
    },
    "papermill": {
     "duration": 0.114306,
     "end_time": "2022-07-04T16:48:35.953092",
     "exception": false,
     "start_time": "2022-07-04T16:48:35.838786",
     "status": "completed"
    },
    "tags": []
   },
   "outputs": [],
   "source": [
    "# CLEAN RAM\n",
    "del train\n",
    "_ = gc.collect()"
   ]
  },
  {
   "cell_type": "code",
   "execution_count": 19,
   "id": "de4fb915",
   "metadata": {
    "execution": {
     "iopub.execute_input": "2022-07-04T16:48:35.986022Z",
     "iopub.status.busy": "2022-07-04T16:48:35.985750Z",
     "iopub.status.idle": "2022-07-04T16:48:36.027523Z",
     "shell.execute_reply": "2022-07-04T16:48:36.026841Z"
    },
    "papermill": {
     "duration": 0.059855,
     "end_time": "2022-07-04T16:48:36.029202",
     "exception": false,
     "start_time": "2022-07-04T16:48:35.969347",
     "status": "completed"
    },
    "scrolled": true,
    "tags": []
   },
   "outputs": [],
   "source": [
    "df = importances[0].copy()\n",
    "for k in range(1,FOLDS): df = df.merge(importances[k], on='feature', how='left')\n",
    "df['importance'] = df.iloc[:,1:].mean(axis=1, numeric_only=True)\n",
    "df = df.sort_values('importance',ascending=False)\n",
    "df.to_csv(f'cat_feature_importance_v{VER}.csv',index=False)"
   ]
  },
  {
   "cell_type": "code",
   "execution_count": 20,
   "id": "1d10ef3c",
   "metadata": {
    "execution": {
     "iopub.execute_input": "2022-07-04T16:48:36.062133Z",
     "iopub.status.busy": "2022-07-04T16:48:36.061840Z",
     "iopub.status.idle": "2022-07-04T16:48:36.347252Z",
     "shell.execute_reply": "2022-07-04T16:48:36.346550Z"
    },
    "papermill": {
     "duration": 0.304425,
     "end_time": "2022-07-04T16:48:36.349040",
     "exception": false,
     "start_time": "2022-07-04T16:48:36.044615",
     "status": "completed"
    },
    "tags": []
   },
   "outputs": [
    {
     "data": {
      "image/png": "[encoded data removed]",
      "text/plain": [
       "<Figure size 720x720 with 1 Axes>"
      ]
     },
     "metadata": {
      "needs_background": "light"
     },
     "output_type": "display_data"
    }
   ],
   "source": [
    "NUM_FEATURES = 20\n",
    "plt.figure(figsize=(10,5*NUM_FEATURES//10))\n",
    "plt.barh(np.arange(NUM_FEATURES,0,-1), df.importance.values[:NUM_FEATURES])\n",
    "plt.yticks(np.arange(NUM_FEATURES,0,-1), df.feature.values[:NUM_FEATURES])\n",
    "plt.title(f'CAT Feature Importance - Top {NUM_FEATURES}')\n",
    "plt.show()"
   ]
  },
  {
   "cell_type": "markdown",
   "id": "7aaeba76",
   "metadata": {
    "papermill": {
     "duration": 0.016239,
     "end_time": "2022-07-04T16:48:36.381815",
     "exception": false,
     "start_time": "2022-07-04T16:48:36.365576",
     "status": "completed"
    },
    "tags": []
   },
   "source": [
    "# Test part"
   ]
  },
  {
   "cell_type": "code",
   "execution_count": 21,
   "id": "b3ccd8f5",
   "metadata": {
    "execution": {
     "iopub.execute_input": "2022-07-04T16:48:36.416211Z",
     "iopub.status.busy": "2022-07-04T16:48:36.415903Z",
     "iopub.status.idle": "2022-07-04T16:48:36.422637Z",
     "shell.execute_reply": "2022-07-04T16:48:36.421792Z"
    },
    "papermill": {
     "duration": 0.026201,
     "end_time": "2022-07-04T16:48:36.424579",
     "exception": false,
     "start_time": "2022-07-04T16:48:36.398378",
     "status": "completed"
    },
    "tags": []
   },
   "outputs": [],
   "source": [
    "# CALCULATE SIZE OF EACH SEPARATE TEST PART\n",
    "def get_rows(customers, test, NUM_PARTS = 4, verbose = ''):\n",
    "    chunk = len(customers)//NUM_PARTS\n",
    "    if verbose != '':\n",
    "        print(f'We will process {verbose} data as {NUM_PARTS} separate parts.')\n",
    "        print(f'There will be {chunk} customers in each part (except the last part).')\n",
    "        print('Below are number of rows in each part:')\n",
    "    rows = []\n",
    "\n",
    "    for k in range(NUM_PARTS):\n",
    "        if k==NUM_PARTS-1: cc = customers[k*chunk:]\n",
    "        else: cc = customers[k*chunk:(k+1)*chunk]\n",
    "        s = test.loc[test.customer_ID.isin(cc)].shape[0]\n",
    "        rows.append(s)\n",
    "    if verbose != '': print( rows )\n",
    "    return rows,chunk"
   ]
  },
  {
   "cell_type": "code",
   "execution_count": 22,
   "id": "814676b7",
   "metadata": {
    "execution": {
     "iopub.execute_input": "2022-07-04T16:48:36.458065Z",
     "iopub.status.busy": "2022-07-04T16:48:36.457754Z",
     "iopub.status.idle": "2022-07-04T16:48:41.597287Z",
     "shell.execute_reply": "2022-07-04T16:48:41.595610Z"
    },
    "papermill": {
     "duration": 5.158224,
     "end_time": "2022-07-04T16:48:41.599243",
     "exception": false,
     "start_time": "2022-07-04T16:48:36.441019",
     "status": "completed"
    },
    "tags": []
   },
   "outputs": [
    {
     "name": "stdout",
     "output_type": "stream",
     "text": [
      "We will process test data as 4 separate parts.\n",
      "There will be 231155 customers in each part (except the last part).\n",
      "Below are number of rows in each part:\n",
      "[231155, 231155, 231155, 231156]\n"
     ]
    }
   ],
   "source": [
    "# COMPUTE SIZE OF 4 PARTS FOR TEST DATA\n",
    "NUM_PARTS = 4\n",
    "test = test.sort_index().reset_index()\n",
    "customers = test[['customer_ID']].drop_duplicates().sort_index().values.flatten()\n",
    "rows,num_cust = get_rows(customers, test[['customer_ID']], NUM_PARTS = NUM_PARTS, verbose = 'test')"
   ]
  },
  {
   "cell_type": "code",
   "execution_count": 23,
   "id": "7faf3df7",
   "metadata": {
    "execution": {
     "iopub.execute_input": "2022-07-04T16:48:41.633989Z",
     "iopub.status.busy": "2022-07-04T16:48:41.633150Z",
     "iopub.status.idle": "2022-07-04T17:11:19.899753Z",
     "shell.execute_reply": "2022-07-04T17:11:19.898945Z"
    },
    "papermill": {
     "duration": 1358.286549,
     "end_time": "2022-07-04T17:11:19.902423",
     "exception": false,
     "start_time": "2022-07-04T16:48:41.615874",
     "status": "completed"
    },
    "tags": []
   },
   "outputs": [
    {
     "name": "stdout",
     "output_type": "stream",
     "text": [
      "\n",
      "Reading test data...\n",
      "=> Test part 1 has shape (231155, 918)\n",
      "\n",
      "Reading test data...\n",
      "=> Test part 2 has shape (231155, 918)\n",
      "\n",
      "Reading test data...\n",
      "=> Test part 3 has shape (231155, 918)\n",
      "\n",
      "Reading test data...\n",
      "=> Test part 4 has shape (231156, 918)\n"
     ]
    }
   ],
   "source": [
    "# INFER TEST DATA IN PARTS\n",
    "skip_rows = 0\n",
    "skip_cust = 0\n",
    "test_preds = []\n",
    "\n",
    "for k in range(NUM_PARTS):\n",
    "    \n",
    "    # READ PART OF TEST DATA\n",
    "    print(f'\\nReading test data...')\n",
    "    test_copy = test.iloc[skip_rows:skip_rows+rows[k]].copy()\n",
    "    test_copy = test_copy.set_index('customer_ID')\n",
    "    skip_rows += rows[k]\n",
    "    print(f'=> Test part {k+1} has shape', test_copy.shape )\n",
    "    \n",
    "    # PROCESS AND FEATURE ENGINEER PART OF TEST DATA\n",
    "    if k==NUM_PARTS-1: test_copy = test_copy.loc[customers[skip_cust:]]\n",
    "    else: test_copy = test_copy.loc[customers[skip_cust:skip_cust+num_cust]]\n",
    "    skip_cust += num_cust\n",
    "        \n",
    "    # INFER XGB MODELS ON TEST DATA\n",
    "    model = CatBoostClassifier(**cat_params)\n",
    "    model.load_model(f'CAT_v{VER}_fold0.cbm')\n",
    "    preds = model.predict_proba(test_copy)[:, 1]\n",
    "    for f in range(1,FOLDS):\n",
    "        model.load_model(f'CAT_v{VER}_fold{f}.cbm')\n",
    "        preds += model.predict_proba(test_copy)[:, 1]\n",
    "    preds /= FOLDS\n",
    "    test_preds.append(preds)\n",
    "\n",
    "    # CLEAN MEMORY\n",
    "    del test_copy, model\n",
    "    _ = gc.collect()\n",
    "\n",
    "del test\n",
    "_ = gc.collect()"
   ]
  },
  {
   "cell_type": "markdown",
   "id": "b8adffa9",
   "metadata": {
    "papermill": {
     "duration": 0.016136,
     "end_time": "2022-07-04T17:11:19.937195",
     "exception": false,
     "start_time": "2022-07-04T17:11:19.921059",
     "status": "completed"
    },
    "tags": []
   },
   "source": [
    "# Submit"
   ]
  },
  {
   "cell_type": "code",
   "execution_count": 24,
   "id": "92c9a9e5",
   "metadata": {
    "execution": {
     "iopub.execute_input": "2022-07-04T17:11:19.971734Z",
     "iopub.status.busy": "2022-07-04T17:11:19.971442Z",
     "iopub.status.idle": "2022-07-04T17:11:27.526860Z",
     "shell.execute_reply": "2022-07-04T17:11:27.525852Z"
    },
    "papermill": {
     "duration": 7.575219,
     "end_time": "2022-07-04T17:11:27.528974",
     "exception": false,
     "start_time": "2022-07-04T17:11:19.953755",
     "status": "completed"
    },
    "tags": []
   },
   "outputs": [
    {
     "name": "stdout",
     "output_type": "stream",
     "text": [
      "Submission file shape is (924621, 2)\n"
     ]
    },
    {
     "data": {
      "text/html": [
       "<div>\n",
       "<style scoped>\n",
       "    .dataframe tbody tr th:only-of-type {\n",
       "        vertical-align: middle;\n",
       "    }\n",
       "\n",
       "    .dataframe tbody tr th {\n",
       "        vertical-align: top;\n",
       "    }\n",
       "\n",
       "    .dataframe thead th {\n",
       "        text-align: right;\n",
       "    }\n",
       "</style>\n",
       "<table border=\"1\" class=\"dataframe\">\n",
       "  <thead>\n",
       "    <tr style=\"text-align: right;\">\n",
       "      <th></th>\n",
       "      <th>customer_ID</th>\n",
       "      <th>prediction</th>\n",
       "    </tr>\n",
       "  </thead>\n",
       "  <tbody>\n",
       "    <tr>\n",
       "      <th>0</th>\n",
       "      <td>00000469ba478561f23a92a868bd366de6f6527a684c9a...</td>\n",
       "      <td>0.024480</td>\n",
       "    </tr>\n",
       "    <tr>\n",
       "      <th>1</th>\n",
       "      <td>00001bf2e77ff879fab36aa4fac689b9ba411dae63ae39...</td>\n",
       "      <td>0.001721</td>\n",
       "    </tr>\n",
       "    <tr>\n",
       "      <th>2</th>\n",
       "      <td>0000210045da4f81e5f122c6bde5c2a617d03eef67f82c...</td>\n",
       "      <td>0.043194</td>\n",
       "    </tr>\n",
       "    <tr>\n",
       "      <th>3</th>\n",
       "      <td>00003b41e58ede33b8daf61ab56d9952f17c9ad1c3976c...</td>\n",
       "      <td>0.210408</td>\n",
       "    </tr>\n",
       "    <tr>\n",
       "      <th>4</th>\n",
       "      <td>00004b22eaeeeb0ec976890c1d9bfc14fd9427e98c4ee9...</td>\n",
       "      <td>0.836260</td>\n",
       "    </tr>\n",
       "  </tbody>\n",
       "</table>\n",
       "</div>"
      ],
      "text/plain": [
       "                                         customer_ID  prediction\n",
       "0  00000469ba478561f23a92a868bd366de6f6527a684c9a...    0.024480\n",
       "1  00001bf2e77ff879fab36aa4fac689b9ba411dae63ae39...    0.001721\n",
       "2  0000210045da4f81e5f122c6bde5c2a617d03eef67f82c...    0.043194\n",
       "3  00003b41e58ede33b8daf61ab56d9952f17c9ad1c3976c...    0.210408\n",
       "4  00004b22eaeeeb0ec976890c1d9bfc14fd9427e98c4ee9...    0.836260"
      ]
     },
     "execution_count": 24,
     "metadata": {},
     "output_type": "execute_result"
    }
   ],
   "source": [
    "# WRITE SUBMISSION FILE\n",
    "test_preds = np.concatenate(test_preds)\n",
    "test = pd.DataFrame(index=customers,data={'prediction':test_preds})\n",
    "sub = pd.read_csv(parent_dir + 'amex-default-prediction/sample_submission.csv')[['customer_ID']]\n",
    "sub['customer_ID_hash'] = sub['customer_ID'].copy()\n",
    "sub = sub.set_index('customer_ID_hash')\n",
    "sub = sub.merge(test[['prediction']], left_index=True, right_index=True, how='left')\n",
    "sub = sub.reset_index(drop=True)\n",
    "\n",
    "# DISPLAY PREDICTIONS\n",
    "sub.to_csv(f'submission_cat_v{VER}.csv',index=False)\n",
    "print('Submission file shape is', sub.shape )\n",
    "sub.head()"
   ]
  },
  {
   "cell_type": "code",
   "execution_count": 25,
   "id": "7160012c",
   "metadata": {
    "execution": {
     "iopub.execute_input": "2022-07-04T17:11:27.565378Z",
     "iopub.status.busy": "2022-07-04T17:11:27.563976Z",
     "iopub.status.idle": "2022-07-04T17:11:27.886298Z",
     "shell.execute_reply": "2022-07-04T17:11:27.885554Z"
    },
    "papermill": {
     "duration": 0.342056,
     "end_time": "2022-07-04T17:11:27.888130",
     "exception": false,
     "start_time": "2022-07-04T17:11:27.546074",
     "status": "completed"
    },
    "tags": []
   },
   "outputs": [
    {
     "data": {
      "image/png": "[encoded data removed]",
      "text/plain": [
       "<Figure size 432x288 with 1 Axes>"
      ]
     },
     "metadata": {
      "needs_background": "light"
     },
     "output_type": "display_data"
    }
   ],
   "source": [
    "# PLOT PREDICTIONS\n",
    "plt.hist(sub.prediction, bins=100)\n",
    "plt.title('Test Predictions')\n",
    "plt.show()"
   ]
  },
  {
   "cell_type": "markdown",
   "id": "6f59e954",
   "metadata": {
    "papermill": {
     "duration": 0.016676,
     "end_time": "2022-07-04T17:11:27.921970",
     "exception": false,
     "start_time": "2022-07-04T17:11:27.905294",
     "status": "completed"
    },
    "tags": []
   },
   "source": [
    "# Ensemble"
   ]
  },
  {
   "cell_type": "markdown",
   "id": "6b40dd63",
   "metadata": {
    "papermill": {
     "duration": 0.017246,
     "end_time": "2022-07-04T17:11:27.956010",
     "exception": false,
     "start_time": "2022-07-04T17:11:27.938764",
     "status": "completed"
    },
    "tags": []
   },
   "source": [
    "## Do only ensemble"
   ]
  },
  {
   "cell_type": "code",
   "execution_count": 26,
   "id": "dbab55f9",
   "metadata": {
    "execution": {
     "iopub.execute_input": "2022-07-04T17:11:27.991470Z",
     "iopub.status.busy": "2022-07-04T17:11:27.991179Z",
     "iopub.status.idle": "2022-07-04T17:11:28.845173Z",
     "shell.execute_reply": "2022-07-04T17:11:28.844127Z"
    },
    "papermill": {
     "duration": 0.87436,
     "end_time": "2022-07-04T17:11:28.847276",
     "exception": false,
     "start_time": "2022-07-04T17:11:27.972916",
     "status": "completed"
    },
    "tags": []
   },
   "outputs": [],
   "source": [
    "sub = pd.read_csv(parent_dir + 'amex-default-prediction/sample_submission.csv')"
   ]
  },
  {
   "cell_type": "code",
   "execution_count": 27,
   "id": "42e6d546",
   "metadata": {
    "execution": {
     "iopub.execute_input": "2022-07-04T17:11:28.936946Z",
     "iopub.status.busy": "2022-07-04T17:11:28.936609Z",
     "iopub.status.idle": "2022-07-04T17:11:28.943389Z",
     "shell.execute_reply": "2022-07-04T17:11:28.942637Z"
    },
    "papermill": {
     "duration": 0.080128,
     "end_time": "2022-07-04T17:11:28.945021",
     "exception": false,
     "start_time": "2022-07-04T17:11:28.864893",
     "status": "completed"
    },
    "tags": []
   },
   "outputs": [],
   "source": [
    "# https://www.kaggle.com/code/beezus666/ensemble-weighted-average\n",
    "#crude formula for model weighting.\n",
    "# Using this formaula the best model's weight = 1, the worst model's weight ~0.05\n",
    "def model_weight(model_loss, worst_loss, best_loss):\n",
    "    return 1- ((best_loss - model_loss)/(best_loss-(worst_loss - 0.01)))\n",
    "\n",
    "def read_weighted_preds(sub_dict: dict, worst_score:float, best_score: float) -> list:\n",
    "    preds = []\n",
    "    weights = []\n",
    "    for path, loss in sub_dict.items():\n",
    "        weight = model_weight(loss, worst_score, best_score)\n",
    "        \n",
    "        df = pd.read_csv(path)\n",
    "        df = df.set_index('customer_ID').sort_index().reset_index() # sort\n",
    "        df['prediction'] = df['prediction']*weight\n",
    "        \n",
    "        preds.append(df['prediction'])\n",
    "        weights.append(weight)\n",
    "    \n",
    "    return preds, weights"
   ]
  },
  {
   "cell_type": "code",
   "execution_count": 28,
   "id": "50f35187",
   "metadata": {
    "execution": {
     "iopub.execute_input": "2022-07-04T17:11:28.979751Z",
     "iopub.status.busy": "2022-07-04T17:11:28.979175Z",
     "iopub.status.idle": "2022-07-04T17:11:42.326088Z",
     "shell.execute_reply": "2022-07-04T17:11:42.325127Z"
    },
    "papermill": {
     "duration": 13.366526,
     "end_time": "2022-07-04T17:11:42.328242",
     "exception": false,
     "start_time": "2022-07-04T17:11:28.961716",
     "status": "completed"
    },
    "tags": []
   },
   "outputs": [],
   "source": [
    "best = 0.7963\n",
    "worst = 0.788\n",
    "\n",
    "sub_dict = {\n",
    "    parent_dir + 'amexdefaultsubmissions/submission_cat_v26_0794.csv': 0.794,\n",
    "    parent_dir + 'amexdefaultsubmissions/submission_TF_GRU0789.csv': 0.789,\n",
    "#     parent_dir + 'amexdefaultsubmissions/submission_xgb_v21.csv': 0.794,\n",
    "    parent_dir + 'amexdefaultsubmissions/test_lgbm_baseline_5fold_seed42.csv': 0.7963,\n",
    "#     parent_dir + 'amexdefaultsubmissions/submission_cat_0.7923765971248049.csv': 0.7923765971248049,\n",
    "    parent_dir + 'amexdefaultsubmissions/submission_tabnet0791.csv': 0.791,\n",
    "    parent_dir + 'amexdefaultsubmissions/lightautoml_tabularautoml0795.csv': 0.795,\n",
    "    parent_dir + 'amexdefaultsubmissions/submission_xgb_nvt_0._794csv.csv': 0.794,\n",
    "#     parent_dir + 'amexdefaultsubmissions/submission_CosSquareFormer_0788.csv': 0.788,\n",
    "#     '../input/amex-keras-quickstart-1-training/submission.csv': 0.79,\n",
    "#     '../input/tensorflow-transformer-0-790/submission.csv': 0.79,\n",
    "}\n",
    "\n",
    "preds, weights = read_weighted_preds(sub_dict, worst, best)"
   ]
  },
  {
   "cell_type": "code",
   "execution_count": 29,
   "id": "8885008d",
   "metadata": {
    "execution": {
     "iopub.execute_input": "2022-07-04T17:11:42.364607Z",
     "iopub.status.busy": "2022-07-04T17:11:42.364050Z",
     "iopub.status.idle": "2022-07-04T17:11:47.173121Z",
     "shell.execute_reply": "2022-07-04T17:11:47.172391Z"
    },
    "papermill": {
     "duration": 4.828708,
     "end_time": "2022-07-04T17:11:47.175139",
     "exception": false,
     "start_time": "2022-07-04T17:11:42.346431",
     "status": "completed"
    },
    "tags": []
   },
   "outputs": [
    {
     "data": {
      "text/html": [
       "<div>\n",
       "<style scoped>\n",
       "    .dataframe tbody tr th:only-of-type {\n",
       "        vertical-align: middle;\n",
       "    }\n",
       "\n",
       "    .dataframe tbody tr th {\n",
       "        vertical-align: top;\n",
       "    }\n",
       "\n",
       "    .dataframe thead th {\n",
       "        text-align: right;\n",
       "    }\n",
       "</style>\n",
       "<table border=\"1\" class=\"dataframe\">\n",
       "  <thead>\n",
       "    <tr style=\"text-align: right;\">\n",
       "      <th></th>\n",
       "      <th>customer_ID</th>\n",
       "      <th>prediction</th>\n",
       "    </tr>\n",
       "  </thead>\n",
       "  <tbody>\n",
       "    <tr>\n",
       "      <th>0</th>\n",
       "      <td>00000469ba478561f23a92a868bd366de6f6527a684c9a...</td>\n",
       "      <td>0.026485</td>\n",
       "    </tr>\n",
       "    <tr>\n",
       "      <th>1</th>\n",
       "      <td>00001bf2e77ff879fab36aa4fac689b9ba411dae63ae39...</td>\n",
       "      <td>0.001219</td>\n",
       "    </tr>\n",
       "    <tr>\n",
       "      <th>2</th>\n",
       "      <td>0000210045da4f81e5f122c6bde5c2a617d03eef67f82c...</td>\n",
       "      <td>0.047355</td>\n",
       "    </tr>\n",
       "    <tr>\n",
       "      <th>3</th>\n",
       "      <td>00003b41e58ede33b8daf61ab56d9952f17c9ad1c3976c...</td>\n",
       "      <td>0.249330</td>\n",
       "    </tr>\n",
       "    <tr>\n",
       "      <th>4</th>\n",
       "      <td>00004b22eaeeeb0ec976890c1d9bfc14fd9427e98c4ee9...</td>\n",
       "      <td>0.858115</td>\n",
       "    </tr>\n",
       "    <tr>\n",
       "      <th>...</th>\n",
       "      <td>...</td>\n",
       "      <td>...</td>\n",
       "    </tr>\n",
       "    <tr>\n",
       "      <th>924616</th>\n",
       "      <td>ffff952c631f2c911b8a2a8ca56ea6e656309a83d2f64c...</td>\n",
       "      <td>0.013621</td>\n",
       "    </tr>\n",
       "    <tr>\n",
       "      <th>924617</th>\n",
       "      <td>ffffcf5df59e5e0bba2a5ac4578a34e2b5aa64a1546cd3...</td>\n",
       "      <td>0.790789</td>\n",
       "    </tr>\n",
       "    <tr>\n",
       "      <th>924618</th>\n",
       "      <td>ffffd61f098cc056dbd7d2a21380c4804bbfe60856f475...</td>\n",
       "      <td>0.467136</td>\n",
       "    </tr>\n",
       "    <tr>\n",
       "      <th>924619</th>\n",
       "      <td>ffffddef1fc3643ea179c93245b68dca0f36941cd83977...</td>\n",
       "      <td>0.289654</td>\n",
       "    </tr>\n",
       "    <tr>\n",
       "      <th>924620</th>\n",
       "      <td>fffffa7cf7e453e1acc6a1426475d5cb9400859f82ff61...</td>\n",
       "      <td>0.055213</td>\n",
       "    </tr>\n",
       "  </tbody>\n",
       "</table>\n",
       "<p>924621 rows × 2 columns</p>\n",
       "</div>"
      ],
      "text/plain": [
       "                                              customer_ID  prediction\n",
       "0       00000469ba478561f23a92a868bd366de6f6527a684c9a...    0.026485\n",
       "1       00001bf2e77ff879fab36aa4fac689b9ba411dae63ae39...    0.001219\n",
       "2       0000210045da4f81e5f122c6bde5c2a617d03eef67f82c...    0.047355\n",
       "3       00003b41e58ede33b8daf61ab56d9952f17c9ad1c3976c...    0.249330\n",
       "4       00004b22eaeeeb0ec976890c1d9bfc14fd9427e98c4ee9...    0.858115\n",
       "...                                                   ...         ...\n",
       "924616  ffff952c631f2c911b8a2a8ca56ea6e656309a83d2f64c...    0.013621\n",
       "924617  ffffcf5df59e5e0bba2a5ac4578a34e2b5aa64a1546cd3...    0.790789\n",
       "924618  ffffd61f098cc056dbd7d2a21380c4804bbfe60856f475...    0.467136\n",
       "924619  ffffddef1fc3643ea179c93245b68dca0f36941cd83977...    0.289654\n",
       "924620  fffffa7cf7e453e1acc6a1426475d5cb9400859f82ff61...    0.055213\n",
       "\n",
       "[924621 rows x 2 columns]"
      ]
     },
     "execution_count": 29,
     "metadata": {},
     "output_type": "execute_result"
    }
   ],
   "source": [
    "blend_ss = sub.copy()\n",
    "blend_ss['prediction'] = np.sum(np.column_stack(preds), axis=1) / sum(weights)\n",
    "# blend_ss['prediction'] = (np.mean(np.column_stack(preds), axis=1))\n",
    "blend_ss.to_csv('submission_blend.csv', index=False)\n",
    "blend_ss"
   ]
  },
  {
   "cell_type": "code",
   "execution_count": 30,
   "id": "82468f88",
   "metadata": {
    "execution": {
     "iopub.execute_input": "2022-07-04T17:11:47.212487Z",
     "iopub.status.busy": "2022-07-04T17:11:47.212208Z",
     "iopub.status.idle": "2022-07-04T17:11:47.263794Z",
     "shell.execute_reply": "2022-07-04T17:11:47.262840Z"
    },
    "papermill": {
     "duration": 0.072664,
     "end_time": "2022-07-04T17:11:47.265899",
     "exception": false,
     "start_time": "2022-07-04T17:11:47.193235",
     "status": "completed"
    },
    "tags": []
   },
   "outputs": [
    {
     "data": {
      "text/html": [
       "<div>\n",
       "<style scoped>\n",
       "    .dataframe tbody tr th:only-of-type {\n",
       "        vertical-align: middle;\n",
       "    }\n",
       "\n",
       "    .dataframe tbody tr th {\n",
       "        vertical-align: top;\n",
       "    }\n",
       "\n",
       "    .dataframe thead th {\n",
       "        text-align: right;\n",
       "    }\n",
       "</style>\n",
       "<table border=\"1\" class=\"dataframe\">\n",
       "  <thead>\n",
       "    <tr style=\"text-align: right;\">\n",
       "      <th></th>\n",
       "      <th>prediction</th>\n",
       "    </tr>\n",
       "  </thead>\n",
       "  <tbody>\n",
       "    <tr>\n",
       "      <th>count</th>\n",
       "      <td>924621.000000</td>\n",
       "    </tr>\n",
       "    <tr>\n",
       "      <th>mean</th>\n",
       "      <td>0.249873</td>\n",
       "    </tr>\n",
       "    <tr>\n",
       "      <th>std</th>\n",
       "      <td>0.346111</td>\n",
       "    </tr>\n",
       "    <tr>\n",
       "      <th>min</th>\n",
       "      <td>0.000163</td>\n",
       "    </tr>\n",
       "    <tr>\n",
       "      <th>25%</th>\n",
       "      <td>0.003083</td>\n",
       "    </tr>\n",
       "    <tr>\n",
       "      <th>50%</th>\n",
       "      <td>0.026854</td>\n",
       "    </tr>\n",
       "    <tr>\n",
       "      <th>75%</th>\n",
       "      <td>0.484512</td>\n",
       "    </tr>\n",
       "    <tr>\n",
       "      <th>max</th>\n",
       "      <td>0.999850</td>\n",
       "    </tr>\n",
       "  </tbody>\n",
       "</table>\n",
       "</div>"
      ],
      "text/plain": [
       "          prediction\n",
       "count  924621.000000\n",
       "mean        0.249873\n",
       "std         0.346111\n",
       "min         0.000163\n",
       "25%         0.003083\n",
       "50%         0.026854\n",
       "75%         0.484512\n",
       "max         0.999850"
      ]
     },
     "execution_count": 30,
     "metadata": {},
     "output_type": "execute_result"
    }
   ],
   "source": [
    "blend_ss.describe()"
   ]
  },
  {
   "cell_type": "code",
   "execution_count": 31,
   "id": "c6406f53",
   "metadata": {
    "execution": {
     "iopub.execute_input": "2022-07-04T17:11:47.302659Z",
     "iopub.status.busy": "2022-07-04T17:11:47.302386Z",
     "iopub.status.idle": "2022-07-04T17:11:47.626184Z",
     "shell.execute_reply": "2022-07-04T17:11:47.625441Z"
    },
    "papermill": {
     "duration": 0.344497,
     "end_time": "2022-07-04T17:11:47.628279",
     "exception": false,
     "start_time": "2022-07-04T17:11:47.283782",
     "status": "completed"
    },
    "tags": []
   },
   "outputs": [
    {
     "data": {
      "image/png": "[encoded data removed]",
      "text/plain": [
       "<Figure size 432x288 with 1 Axes>"
      ]
     },
     "metadata": {
      "needs_background": "light"
     },
     "output_type": "display_data"
    }
   ],
   "source": [
    "# PLOT PREDICTIONS\n",
    "plt.hist(blend_ss.prediction, bins=100)\n",
    "plt.title('Blend Test Predictions')\n",
    "plt.show()"
   ]
  },
  {
   "cell_type": "markdown",
   "id": "2794b130",
   "metadata": {
    "papermill": {
     "duration": 0.018832,
     "end_time": "2022-07-04T17:11:47.665619",
     "exception": false,
     "start_time": "2022-07-04T17:11:47.646787",
     "status": "completed"
    },
    "tags": []
   },
   "source": [
    "# Submit to Kaggle from Colab"
   ]
  },
  {
   "cell_type": "code",
   "execution_count": 32,
   "id": "0d7c310b",
   "metadata": {
    "execution": {
     "iopub.execute_input": "2022-07-04T17:11:47.701888Z",
     "iopub.status.busy": "2022-07-04T17:11:47.701606Z",
     "iopub.status.idle": "2022-07-04T17:11:47.706031Z",
     "shell.execute_reply": "2022-07-04T17:11:47.705207Z"
    },
    "papermill": {
     "duration": 0.024798,
     "end_time": "2022-07-04T17:11:47.707991",
     "exception": false,
     "start_time": "2022-07-04T17:11:47.683193",
     "status": "completed"
    },
    "tags": []
   },
   "outputs": [],
   "source": [
    "# Submit\n",
    "if is_env_colab:\n",
    "    # !kaggle competitions submit -c amex-default-prediction -f submission_cat_v1.csv -m \"From colab\"\n",
    "    !kaggle competitions submit -c amex-default-prediction -f submission_blend.csv -m \"From colab\""
   ]
  },
  {
   "cell_type": "code",
   "execution_count": 33,
   "id": "8fdf550a",
   "metadata": {
    "execution": {
     "iopub.execute_input": "2022-07-04T17:11:47.745146Z",
     "iopub.status.busy": "2022-07-04T17:11:47.744891Z",
     "iopub.status.idle": "2022-07-04T17:11:49.058240Z",
     "shell.execute_reply": "2022-07-04T17:11:49.057314Z"
    },
    "papermill": {
     "duration": 1.334408,
     "end_time": "2022-07-04T17:11:49.060257",
     "exception": false,
     "start_time": "2022-07-04T17:11:47.725849",
     "status": "completed"
    },
    "tags": []
   },
   "outputs": [
    {
     "name": "stdout",
     "output_type": "stream",
     "text": [
      "Traceback (most recent call last):\r\n",
      "  File \"/opt/conda/bin/kaggle\", line 5, in <module>\r\n",
      "    from kaggle.cli import main\r\n",
      "  File \"/opt/conda/lib/python3.7/site-packages/kaggle/__init__.py\", line 23, in <module>\r\n",
      "    api.authenticate()\r\n",
      "  File \"/opt/conda/lib/python3.7/site-packages/kaggle/api/kaggle_api_extended.py\", line 166, in authenticate\r\n",
      "    self.config_file, self.config_dir))\r\n",
      "OSError: Could not find kaggle.json. Make sure it's located in /root/.kaggle. Or use the environment method.\r\n"
     ]
    }
   ],
   "source": [
    "# Run after few seconds\n",
    "!kaggle competitions submissions amex-default-prediction"
   ]
  }
 ],
 "metadata": {
  "kernelspec": {
   "display_name": "Python 3",
   "language": "python",
   "name": "python3"
  },
  "language_info": {
   "codemirror_mode": {
    "name": "ipython",
    "version": 3
   },
   "file_extension": ".py",
   "mimetype": "text/x-python",
   "name": "python",
   "nbconvert_exporter": "python",
   "pygments_lexer": "ipython3",
   "version": "3.7.12"
  },
  "papermill": {
   "default_parameters": {},
   "duration": 3907.215268,
   "end_time": "2022-07-04T17:11:50.206309",
   "environment_variables": {},
   "exception": null,
   "input_path": "__notebook__.ipynb",
   "output_path": "__notebook__.ipynb",
   "parameters": {},
   "start_time": "2022-07-04T16:06:42.991041",
   "version": "2.3.4"
  }
 },
 "nbformat": 4,
 "nbformat_minor": 5
}

{
 "cells": [
  {
   "cell_type": "markdown",
   "id": "c4d39bd8",
   "metadata": {
    "papermill": {
     "duration": 0.015399,
     "end_time": "2022-07-02T19:04:20.416136",
     "exception": false,
     "start_time": "2022-07-02T19:04:20.400737",
     "status": "completed"
    },
    "tags": []
   },
   "source": [
    "# Get env info"
   ]
  },
  {
   "cell_type": "code",
   "execution_count": 1,
   "id": "40924272",
   "metadata": {
    "execution": {
     "iopub.execute_input": "2022-07-02T19:04:20.446514Z",
     "iopub.status.busy": "2022-07-02T19:04:20.445608Z",
     "iopub.status.idle": "2022-07-02T19:04:20.459556Z",
     "shell.execute_reply": "2022-07-02T19:04:20.458677Z"
    },
    "papermill": {
     "duration": 0.031589,
     "end_time": "2022-07-02T19:04:20.461876",
     "exception": false,
     "start_time": "2022-07-02T19:04:20.430287",
     "status": "completed"
    },
    "tags": []
   },
   "outputs": [],
   "source": [
    "import os\n",
    "is_env_colab = True\n",
    "\n",
    "if \"kaggle\" in os.path.abspath(\".\"):\n",
    "    is_env_colab = False"
   ]
  },
  {
   "cell_type": "markdown",
   "id": "d9463f18",
   "metadata": {
    "papermill": {
     "duration": 0.013392,
     "end_time": "2022-07-02T19:04:20.488749",
     "exception": false,
     "start_time": "2022-07-02T19:04:20.475357",
     "status": "completed"
    },
    "tags": []
   },
   "source": [
    "# Prepare for colab"
   ]
  },
  {
   "cell_type": "code",
   "execution_count": 2,
   "id": "70333833",
   "metadata": {
    "execution": {
     "iopub.execute_input": "2022-07-02T19:04:20.545147Z",
     "iopub.status.busy": "2022-07-02T19:04:20.544652Z",
     "iopub.status.idle": "2022-07-02T19:04:20.551541Z",
     "shell.execute_reply": "2022-07-02T19:04:20.550566Z"
    },
    "papermill": {
     "duration": 0.043245,
     "end_time": "2022-07-02T19:04:20.562381",
     "exception": false,
     "start_time": "2022-07-02T19:04:20.519136",
     "status": "completed"
    },
    "tags": []
   },
   "outputs": [],
   "source": [
    "if is_env_colab:\n",
    "    !pip install catboost"
   ]
  },
  {
   "cell_type": "markdown",
   "id": "0c093520",
   "metadata": {
    "papermill": {
     "duration": 0.032541,
     "end_time": "2022-07-02T19:04:20.627727",
     "exception": false,
     "start_time": "2022-07-02T19:04:20.595186",
     "status": "completed"
    },
    "tags": []
   },
   "source": [
    "# Kaggle Set up"
   ]
  },
  {
   "cell_type": "code",
   "execution_count": 3,
   "id": "0d5faba1",
   "metadata": {
    "execution": {
     "iopub.execute_input": "2022-07-02T19:04:20.687409Z",
     "iopub.status.busy": "2022-07-02T19:04:20.686607Z",
     "iopub.status.idle": "2022-07-02T19:04:20.695759Z",
     "shell.execute_reply": "2022-07-02T19:04:20.694665Z"
    },
    "papermill": {
     "duration": 0.036844,
     "end_time": "2022-07-02T19:04:20.698177",
     "exception": false,
     "start_time": "2022-07-02T19:04:20.661333",
     "status": "completed"
    },
    "tags": []
   },
   "outputs": [],
   "source": [
    "if is_env_colab:\n",
    "    !pip install kaggle"
   ]
  },
  {
   "cell_type": "markdown",
   "id": "c97f1543",
   "metadata": {
    "papermill": {
     "duration": 0.02289,
     "end_time": "2022-07-02T19:04:20.745005",
     "exception": false,
     "start_time": "2022-07-02T19:04:20.722115",
     "status": "completed"
    },
    "tags": []
   },
   "source": [
    "## Upload API Token"
   ]
  },
  {
   "cell_type": "code",
   "execution_count": 4,
   "id": "bfe456f8",
   "metadata": {
    "execution": {
     "iopub.execute_input": "2022-07-02T19:04:20.791006Z",
     "iopub.status.busy": "2022-07-02T19:04:20.790517Z",
     "iopub.status.idle": "2022-07-02T19:04:20.803518Z",
     "shell.execute_reply": "2022-07-02T19:04:20.802542Z"
    },
    "papermill": {
     "duration": 0.038597,
     "end_time": "2022-07-02T19:04:20.805785",
     "exception": false,
     "start_time": "2022-07-02T19:04:20.767188",
     "status": "completed"
    },
    "tags": []
   },
   "outputs": [],
   "source": [
    "if is_env_colab:\n",
    "    from google.colab import files\n",
    "\n",
    "    uploaded = files.upload()\n",
    "\n",
    "    for fn in uploaded.keys():\n",
    "      print('User uploaded file \"{name}\" with length {length} bytes'.format(\n",
    "          name=fn, length=len(uploaded[fn])))\n",
    "\n",
    "    # Then move kaggle.json into the folder where the API expects to find it.\n",
    "    !mkdir -p ~/.kaggle/ && mv kaggle.json ~/.kaggle/ && chmod 600 ~/.kaggle/kaggle.json"
   ]
  },
  {
   "cell_type": "markdown",
   "id": "eb44ff7d",
   "metadata": {
    "papermill": {
     "duration": 0.022376,
     "end_time": "2022-07-02T19:04:20.850746",
     "exception": false,
     "start_time": "2022-07-02T19:04:20.828370",
     "status": "completed"
    },
    "tags": []
   },
   "source": [
    "## Download and unzip dataset"
   ]
  },
  {
   "cell_type": "code",
   "execution_count": 5,
   "id": "95d457ba",
   "metadata": {
    "execution": {
     "iopub.execute_input": "2022-07-02T19:04:20.895956Z",
     "iopub.status.busy": "2022-07-02T19:04:20.895542Z",
     "iopub.status.idle": "2022-07-02T19:04:20.902812Z",
     "shell.execute_reply": "2022-07-02T19:04:20.901792Z"
    },
    "papermill": {
     "duration": 0.03214,
     "end_time": "2022-07-02T19:04:20.905075",
     "exception": false,
     "start_time": "2022-07-02T19:04:20.872935",
     "status": "completed"
    },
    "tags": []
   },
   "outputs": [],
   "source": [
    "if is_env_colab:\n",
    "    !kaggle datasets download -d huseyincot/amex-agg-data-pickle\n",
    "    !unzip /content/amex-agg-data-pickle.zip"
   ]
  },
  {
   "cell_type": "code",
   "execution_count": 6,
   "id": "de92f614",
   "metadata": {
    "execution": {
     "iopub.execute_input": "2022-07-02T19:04:20.950734Z",
     "iopub.status.busy": "2022-07-02T19:04:20.950269Z",
     "iopub.status.idle": "2022-07-02T19:04:20.959920Z",
     "shell.execute_reply": "2022-07-02T19:04:20.959027Z"
    },
    "papermill": {
     "duration": 0.03471,
     "end_time": "2022-07-02T19:04:20.962030",
     "exception": false,
     "start_time": "2022-07-02T19:04:20.927320",
     "status": "completed"
    },
    "tags": []
   },
   "outputs": [],
   "source": [
    "if is_env_colab:\n",
    "    !kaggle competitions download -c amex-default-prediction -f sample_submission.csv\n",
    "    !unzip /content/sample_submission.csv.zip"
   ]
  },
  {
   "cell_type": "markdown",
   "id": "65a11e27",
   "metadata": {
    "papermill": {
     "duration": 0.021855,
     "end_time": "2022-07-02T19:04:21.006127",
     "exception": false,
     "start_time": "2022-07-02T19:04:20.984272",
     "status": "completed"
    },
    "tags": []
   },
   "source": [
    "# Settings"
   ]
  },
  {
   "cell_type": "code",
   "execution_count": 7,
   "id": "ce282384",
   "metadata": {
    "_cell_guid": "b1076dfc-b9ad-4769-8c92-a6c4dae69d19",
    "_uuid": "8f2839f25d086af736a60e9eeb907d3b93b6e0e5",
    "execution": {
     "iopub.execute_input": "2022-07-02T19:04:21.051012Z",
     "iopub.status.busy": "2022-07-02T19:04:21.050611Z",
     "iopub.status.idle": "2022-07-02T19:04:22.787496Z",
     "shell.execute_reply": "2022-07-02T19:04:22.786248Z"
    },
    "papermill": {
     "duration": 1.763174,
     "end_time": "2022-07-02T19:04:22.790869",
     "exception": false,
     "start_time": "2022-07-02T19:04:21.027695",
     "status": "completed"
    },
    "tags": []
   },
   "outputs": [],
   "source": [
    "import pandas as pd\n",
    "import numpy as np\n",
    "import matplotlib.pyplot as plt\n",
    "\n",
    "from catboost import CatBoostClassifier, Pool\n",
    "from sklearn.preprocessing import LabelEncoder\n",
    "from sklearn.model_selection import KFold\n",
    "\n",
    "import os\n",
    "import gc; gc.enable()\n",
    "\n",
    "import warnings\n",
    "warnings.filterwarnings('ignore')"
   ]
  },
  {
   "cell_type": "code",
   "execution_count": 8,
   "id": "65b7cf60",
   "metadata": {
    "execution": {
     "iopub.execute_input": "2022-07-02T19:04:22.841501Z",
     "iopub.status.busy": "2022-07-02T19:04:22.840916Z",
     "iopub.status.idle": "2022-07-02T19:04:22.849491Z",
     "shell.execute_reply": "2022-07-02T19:04:22.848422Z"
    },
    "papermill": {
     "duration": 0.035428,
     "end_time": "2022-07-02T19:04:22.852755",
     "exception": false,
     "start_time": "2022-07-02T19:04:22.817327",
     "status": "completed"
    },
    "tags": []
   },
   "outputs": [],
   "source": [
    "VER=1\n",
    "SEED = 42\n",
    "FOLDS = 5\n",
    "\n",
    "cat_features = [\"B_30\", \"B_38\", \"D_114\", \"D_116\", \"D_117\", \"D_120\", \"D_126\", \"D_63\", \"D_64\", \"D_66\", \"D_68\"]"
   ]
  },
  {
   "cell_type": "code",
   "execution_count": 9,
   "id": "1826a783",
   "metadata": {
    "execution": {
     "iopub.execute_input": "2022-07-02T19:04:22.898645Z",
     "iopub.status.busy": "2022-07-02T19:04:22.898118Z",
     "iopub.status.idle": "2022-07-02T19:04:22.905178Z",
     "shell.execute_reply": "2022-07-02T19:04:22.904399Z"
    },
    "papermill": {
     "duration": 0.033371,
     "end_time": "2022-07-02T19:04:22.908338",
     "exception": false,
     "start_time": "2022-07-02T19:04:22.874967",
     "status": "completed"
    },
    "tags": []
   },
   "outputs": [],
   "source": [
    "parent_dir = \"../input/\"\n",
    "if is_env_colab:\n",
    "    parent_dir = \"/content/\"    "
   ]
  },
  {
   "cell_type": "code",
   "execution_count": 10,
   "id": "d4b3a64f",
   "metadata": {
    "execution": {
     "iopub.execute_input": "2022-07-02T19:04:22.953787Z",
     "iopub.status.busy": "2022-07-02T19:04:22.953232Z",
     "iopub.status.idle": "2022-07-02T19:05:40.362220Z",
     "shell.execute_reply": "2022-07-02T19:05:40.361023Z"
    },
    "papermill": {
     "duration": 77.434873,
     "end_time": "2022-07-02T19:05:40.365115",
     "exception": false,
     "start_time": "2022-07-02T19:04:22.930242",
     "status": "completed"
    },
    "tags": []
   },
   "outputs": [],
   "source": [
    "train = pd.read_pickle(parent_dir + \"amexdefaultpickleincludemedian/train_agg.pkl\", compression=\"gzip\")\n",
    "train = train.reset_index(level=0)\n",
    "\n",
    "test = pd.read_pickle(parent_dir + \"amexdefaultpickleincludemedian/test.pkl\", compression=\"gzip\")\n",
    "test = test.reset_index(level=0)"
   ]
  },
  {
   "cell_type": "code",
   "execution_count": 11,
   "id": "3ecf642c",
   "metadata": {
    "execution": {
     "iopub.execute_input": "2022-07-02T19:05:40.394148Z",
     "iopub.status.busy": "2022-07-02T19:05:40.393805Z",
     "iopub.status.idle": "2022-07-02T19:05:50.229852Z",
     "shell.execute_reply": "2022-07-02T19:05:50.228697Z"
    },
    "papermill": {
     "duration": 9.853769,
     "end_time": "2022-07-02T19:05:50.232793",
     "exception": false,
     "start_time": "2022-07-02T19:05:40.379024",
     "status": "completed"
    },
    "tags": []
   },
   "outputs": [],
   "source": [
    "cat_features_last = [f\"{cf}_last\" for cf in cat_features]\n",
    "\n",
    "le_encoder = LabelEncoder()\n",
    "for categorical_feature in cat_features_last:\n",
    "    train[categorical_feature] = le_encoder.fit_transform(train[categorical_feature])\n",
    "    test[categorical_feature] = le_encoder.transform(test[categorical_feature])"
   ]
  },
  {
   "cell_type": "code",
   "execution_count": 12,
   "id": "9b3afaf6",
   "metadata": {
    "execution": {
     "iopub.execute_input": "2022-07-02T19:05:50.262095Z",
     "iopub.status.busy": "2022-07-02T19:05:50.261757Z",
     "iopub.status.idle": "2022-07-02T19:06:03.075311Z",
     "shell.execute_reply": "2022-07-02T19:06:03.074265Z"
    },
    "papermill": {
     "duration": 12.83085,
     "end_time": "2022-07-02T19:06:03.077932",
     "exception": false,
     "start_time": "2022-07-02T19:05:50.247082",
     "status": "completed"
    },
    "tags": []
   },
   "outputs": [],
   "source": [
    "# https://www.kaggle.com/code/ragnar123/amex-lgbm-dart-cv-0-7963\n",
    "# Round last float features to 2 decimal place\n",
    "float_cols = list(train.dtypes[(train.dtypes == 'float16') | (train.dtypes == 'float32') | (train.dtypes == 'float64')].index)\n",
    "float_cols = [col for col in float_cols if 'last' in col]\n",
    "\n",
    "train[float_cols] = train[float_cols].round(3)\n",
    "test[float_cols] = test[float_cols].round(3)"
   ]
  },
  {
   "cell_type": "code",
   "execution_count": 13,
   "id": "21b7532c",
   "metadata": {
    "execution": {
     "iopub.execute_input": "2022-07-02T19:06:03.107371Z",
     "iopub.status.busy": "2022-07-02T19:06:03.107029Z",
     "iopub.status.idle": "2022-07-02T19:06:08.149612Z",
     "shell.execute_reply": "2022-07-02T19:06:08.148460Z"
    },
    "papermill": {
     "duration": 5.059821,
     "end_time": "2022-07-02T19:06:08.152223",
     "exception": false,
     "start_time": "2022-07-02T19:06:03.092402",
     "status": "completed"
    },
    "tags": []
   },
   "outputs": [],
   "source": [
    "train = train.set_index('customer_ID')\n",
    "train = train.sort_index().reset_index()\n",
    "FEATURES = train.drop(columns=['customer_ID', 'target']).columns"
   ]
  },
  {
   "cell_type": "code",
   "execution_count": 14,
   "id": "05e124d1",
   "metadata": {
    "execution": {
     "iopub.execute_input": "2022-07-02T19:06:08.183970Z",
     "iopub.status.busy": "2022-07-02T19:06:08.182937Z",
     "iopub.status.idle": "2022-07-02T19:06:08.274062Z",
     "shell.execute_reply": "2022-07-02T19:06:08.272811Z"
    },
    "papermill": {
     "duration": 0.110391,
     "end_time": "2022-07-02T19:06:08.277693",
     "exception": false,
     "start_time": "2022-07-02T19:06:08.167302",
     "status": "completed"
    },
    "tags": []
   },
   "outputs": [
    {
     "data": {
      "text/plain": [
       "array([0.67470338, 1.9309969 ])"
      ]
     },
     "execution_count": 14,
     "metadata": {},
     "output_type": "execute_result"
    }
   ],
   "source": [
    "from sklearn.utils.class_weight import compute_class_weight\n",
    "class_weights = compute_class_weight(class_weight='balanced', classes=np.unique(train.target), y=train.target)\n",
    "class_weights"
   ]
  },
  {
   "cell_type": "code",
   "execution_count": 15,
   "id": "7a8917ba",
   "metadata": {
    "execution": {
     "iopub.execute_input": "2022-07-02T19:06:08.306706Z",
     "iopub.status.busy": "2022-07-02T19:06:08.306298Z",
     "iopub.status.idle": "2022-07-02T19:06:08.315751Z",
     "shell.execute_reply": "2022-07-02T19:06:08.314509Z"
    },
    "papermill": {
     "duration": 0.026985,
     "end_time": "2022-07-02T19:06:08.318411",
     "exception": false,
     "start_time": "2022-07-02T19:06:08.291426",
     "status": "completed"
    },
    "tags": []
   },
   "outputs": [],
   "source": [
    "# https://www.kaggle.com/competitions/amex-default-prediction/discussion/328020\n",
    "# https://www.kaggle.com/code/rohanrao/amex-competition-metric-implementations\n",
    "def amex_metric_np(target: np.ndarray, preds: np.ndarray) -> float:\n",
    "    indices = np.argsort(preds)[::-1]\n",
    "    preds, target = preds[indices], target[indices]\n",
    "\n",
    "    n_pos = np.sum(target)\n",
    "    n_neg = target.shape[0] - n_pos\n",
    "    \n",
    "    weight = 20.0 - target * 19.0\n",
    "    cum_norm_weight = (weight * (1 / weight.sum())).cumsum()\n",
    "    four_pct_mask = cum_norm_weight <= 0.04\n",
    "    d = np.sum(target[four_pct_mask]) / n_pos\n",
    "    \n",
    "    lorentz = (target * (1 / n_pos)).cumsum()\n",
    "    gini = ((lorentz - cum_norm_weight) * weight).sum()\n",
    "    gini_max = 10 * n_neg * (1 - 19 / (n_pos + 20 * n_neg))\n",
    "\n",
    "    g = gini / gini_max\n",
    "\n",
    "    return 0.5 * (g + d)"
   ]
  },
  {
   "cell_type": "code",
   "execution_count": 16,
   "id": "df67e202",
   "metadata": {
    "execution": {
     "iopub.execute_input": "2022-07-02T19:06:08.347726Z",
     "iopub.status.busy": "2022-07-02T19:06:08.346945Z",
     "iopub.status.idle": "2022-07-02T19:06:08.353688Z",
     "shell.execute_reply": "2022-07-02T19:06:08.352718Z"
    },
    "papermill": {
     "duration": 0.023746,
     "end_time": "2022-07-02T19:06:08.356110",
     "exception": false,
     "start_time": "2022-07-02T19:06:08.332364",
     "status": "completed"
    },
    "tags": []
   },
   "outputs": [],
   "source": [
    "cat_params = {\n",
    "    'iterations':26000,\n",
    "    'random_state':SEED,\n",
    "    'learning_rate':0.02,\n",
    "    \n",
    "    'depth': 8,\n",
    "    'l2_leaf_reg': 28.0,\n",
    "    'one_hot_max_size':20,\n",
    "    'random_strength': 0.5,\n",
    "    'bagging_temperature': 0.99,\n",
    "    'class_weights':class_weights,\n",
    "    'task_type':\"GPU\",\n",
    "    'border_count':128,\n",
    "}"
   ]
  },
  {
   "cell_type": "code",
   "execution_count": 17,
   "id": "30f9d225",
   "metadata": {
    "execution": {
     "iopub.execute_input": "2022-07-02T19:06:08.385131Z",
     "iopub.status.busy": "2022-07-02T19:06:08.384817Z",
     "iopub.status.idle": "2022-07-02T19:51:32.490458Z",
     "shell.execute_reply": "2022-07-02T19:51:32.489129Z"
    },
    "papermill": {
     "duration": 2724.124032,
     "end_time": "2022-07-02T19:51:32.493764",
     "exception": false,
     "start_time": "2022-07-02T19:06:08.369732",
     "status": "completed"
    },
    "tags": []
   },
   "outputs": [
    {
     "name": "stdout",
     "output_type": "stream",
     "text": [
      "#########################\n",
      "### Fold 1\n",
      "### Train size 367130 Valid size 91783\n",
      "### Training with 100% fold data...\n",
      "#########################\n",
      "0:\tlearn: 0.6719858\ttest: 0.6719631\tbest: 0.6719631 (0)\ttotal: 70ms\tremaining: 30m 19s\n",
      "500:\tlearn: 0.2457715\ttest: 0.2548574\tbest: 0.2548574 (500)\ttotal: 28.7s\tremaining: 24m 22s\n",
      "1000:\tlearn: 0.2358283\ttest: 0.2513752\tbest: 0.2513752 (1000)\ttotal: 56.7s\tremaining: 23m 37s\n",
      "1500:\tlearn: 0.2284100\ttest: 0.2500977\tbest: 0.2500966 (1499)\ttotal: 1m 24s\tremaining: 22m 58s\n",
      "2000:\tlearn: 0.2219116\ttest: 0.2494427\tbest: 0.2494427 (2000)\ttotal: 1m 51s\tremaining: 22m 20s\n",
      "2500:\tlearn: 0.2159055\ttest: 0.2490085\tbest: 0.2490085 (2500)\ttotal: 2m 19s\tremaining: 21m 50s\n",
      "3000:\tlearn: 0.2101592\ttest: 0.2487180\tbest: 0.2487135 (2992)\ttotal: 2m 47s\tremaining: 21m 23s\n",
      "3500:\tlearn: 0.2047155\ttest: 0.2485566\tbest: 0.2485566 (3500)\ttotal: 3m 14s\tremaining: 20m 52s\n",
      "4000:\tlearn: 0.1995859\ttest: 0.2484558\tbest: 0.2484414 (3981)\ttotal: 3m 42s\tremaining: 20m 25s\n",
      "4500:\tlearn: 0.1945244\ttest: 0.2483961\tbest: 0.2483933 (4487)\ttotal: 4m 11s\tremaining: 19m 58s\n",
      "5000:\tlearn: 0.1896091\ttest: 0.2484136\tbest: 0.2483908 (4538)\ttotal: 4m 39s\tremaining: 19m 31s\n",
      "bestTest = 0.248390831\n",
      "bestIteration = 4538\n",
      "Shrink model to first 4539 iterations.\n",
      "Amex Metric = 0.7913409232503084 \n",
      "\n",
      "#########################\n",
      "### Fold 2\n",
      "### Train size 367130 Valid size 91783\n",
      "### Training with 100% fold data...\n",
      "#########################\n",
      "0:\tlearn: 0.6720180\ttest: 0.6720997\tbest: 0.6720997 (0)\ttotal: 97.9ms\tremaining: 42m 25s\n",
      "500:\tlearn: 0.2462478\ttest: 0.2535523\tbest: 0.2535523 (500)\ttotal: 29.1s\tremaining: 24m 41s\n",
      "1000:\tlearn: 0.2360381\ttest: 0.2499250\tbest: 0.2499250 (1000)\ttotal: 57.4s\tremaining: 23m 52s\n",
      "1500:\tlearn: 0.2286603\ttest: 0.2487210\tbest: 0.2487210 (1500)\ttotal: 1m 24s\tremaining: 23m 5s\n",
      "2000:\tlearn: 0.2221059\ttest: 0.2481615\tbest: 0.2481586 (1998)\ttotal: 1m 52s\tremaining: 22m 31s\n",
      "2500:\tlearn: 0.2160678\ttest: 0.2477784\tbest: 0.2477728 (2486)\ttotal: 2m 20s\tremaining: 22m\n",
      "3000:\tlearn: 0.2104830\ttest: 0.2475041\tbest: 0.2475017 (2999)\ttotal: 2m 47s\tremaining: 21m 24s\n",
      "3500:\tlearn: 0.2050628\ttest: 0.2473724\tbest: 0.2473703 (3494)\ttotal: 3m 15s\tremaining: 20m 55s\n",
      "4000:\tlearn: 0.1998703\ttest: 0.2474602\tbest: 0.2473631 (3576)\ttotal: 3m 43s\tremaining: 20m 27s\n",
      "bestTest = 0.2473630897\n",
      "bestIteration = 3576\n",
      "Shrink model to first 3577 iterations.\n",
      "Amex Metric = 0.7914038276695097 \n",
      "\n",
      "#########################\n",
      "### Fold 3\n",
      "### Train size 367130 Valid size 91783\n",
      "### Training with 100% fold data...\n",
      "#########################\n",
      "0:\tlearn: 0.6719954\ttest: 0.6719298\tbest: 0.6719298 (0)\ttotal: 60.1ms\tremaining: 26m 2s\n",
      "500:\tlearn: 0.2469958\ttest: 0.2502889\tbest: 0.2502889 (500)\ttotal: 28.9s\tremaining: 24m 29s\n",
      "1000:\tlearn: 0.2368411\ttest: 0.2467817\tbest: 0.2467817 (1000)\ttotal: 57s\tremaining: 23m 43s\n",
      "1500:\tlearn: 0.2293892\ttest: 0.2455809\tbest: 0.2455800 (1499)\ttotal: 1m 23s\tremaining: 22m 47s\n",
      "2000:\tlearn: 0.2227679\ttest: 0.2449122\tbest: 0.2449106 (1994)\ttotal: 1m 51s\tremaining: 22m 21s\n",
      "2500:\tlearn: 0.2165413\ttest: 0.2445834\tbest: 0.2445824 (2498)\ttotal: 2m 19s\tremaining: 21m 52s\n",
      "3000:\tlearn: 0.2108607\ttest: 0.2442368\tbest: 0.2442357 (2988)\ttotal: 2m 47s\tremaining: 21m 25s\n",
      "3500:\tlearn: 0.2053815\ttest: 0.2440913\tbest: 0.2440777 (3461)\ttotal: 3m 15s\tremaining: 20m 54s\n",
      "4000:\tlearn: 0.2002601\ttest: 0.2440296\tbest: 0.2440255 (3981)\ttotal: 3m 42s\tremaining: 20m 25s\n",
      "4500:\tlearn: 0.1952178\ttest: 0.2439843\tbest: 0.2439669 (4415)\ttotal: 4m 9s\tremaining: 19m 53s\n",
      "bestTest = 0.2439669464\n",
      "bestIteration = 4415\n",
      "Shrink model to first 4416 iterations.\n",
      "Amex Metric = 0.7935637944850571 \n",
      "\n",
      "#########################\n",
      "### Fold 4\n",
      "### Train size 367131 Valid size 91782\n",
      "### Training with 100% fold data...\n",
      "#########################\n",
      "0:\tlearn: 0.6720949\ttest: 0.6721146\tbest: 0.6721146 (0)\ttotal: 60.6ms\tremaining: 26m 15s\n",
      "500:\tlearn: 0.2465368\ttest: 0.2526542\tbest: 0.2526542 (500)\ttotal: 29.2s\tremaining: 24m 47s\n",
      "1000:\tlearn: 0.2364176\ttest: 0.2490018\tbest: 0.2490018 (1000)\ttotal: 56.7s\tremaining: 23m 35s\n",
      "1500:\tlearn: 0.2288778\ttest: 0.2477513\tbest: 0.2477513 (1500)\ttotal: 1m 24s\tremaining: 22m 52s\n",
      "2000:\tlearn: 0.2223522\ttest: 0.2470998\tbest: 0.2470998 (2000)\ttotal: 1m 51s\tremaining: 22m 20s\n",
      "2500:\tlearn: 0.2161311\ttest: 0.2466836\tbest: 0.2466814 (2496)\ttotal: 2m 19s\tremaining: 21m 51s\n",
      "3000:\tlearn: 0.2103885\ttest: 0.2465337\tbest: 0.2465323 (2997)\ttotal: 2m 47s\tremaining: 21m 25s\n",
      "3500:\tlearn: 0.2049714\ttest: 0.2463896\tbest: 0.2463819 (3482)\ttotal: 3m 15s\tremaining: 20m 57s\n",
      "4000:\tlearn: 0.1996531\ttest: 0.2463355\tbest: 0.2463272 (3990)\ttotal: 3m 43s\tremaining: 20m 29s\n",
      "4500:\tlearn: 0.1946299\ttest: 0.2463285\tbest: 0.2462846 (4276)\ttotal: 4m 10s\tremaining: 19m 56s\n",
      "bestTest = 0.2462845923\n",
      "bestIteration = 4276\n",
      "Shrink model to first 4277 iterations.\n",
      "Amex Metric = 0.7896674949895399 \n",
      "\n",
      "#########################\n",
      "### Fold 5\n",
      "### Train size 367131 Valid size 91782\n",
      "### Training with 100% fold data...\n",
      "#########################\n",
      "0:\tlearn: 0.6714173\ttest: 0.6715144\tbest: 0.6715144 (0)\ttotal: 93.4ms\tremaining: 40m 28s\n",
      "500:\tlearn: 0.2456264\ttest: 0.2561739\tbest: 0.2561739 (500)\ttotal: 28.1s\tremaining: 23m 51s\n",
      "1000:\tlearn: 0.2356295\ttest: 0.2525813\tbest: 0.2525813 (1000)\ttotal: 56.8s\tremaining: 23m 38s\n",
      "1500:\tlearn: 0.2282400\ttest: 0.2512106\tbest: 0.2512106 (1500)\ttotal: 1m 24s\tremaining: 23m 4s\n",
      "2000:\tlearn: 0.2217115\ttest: 0.2505594\tbest: 0.2505594 (2000)\ttotal: 1m 53s\tremaining: 22m 40s\n",
      "2500:\tlearn: 0.2156517\ttest: 0.2501146\tbest: 0.2501146 (2500)\ttotal: 2m 21s\tremaining: 22m 12s\n",
      "3000:\tlearn: 0.2099813\ttest: 0.2498117\tbest: 0.2498116 (2999)\ttotal: 2m 50s\tremaining: 21m 45s\n",
      "3500:\tlearn: 0.2045631\ttest: 0.2495435\tbest: 0.2495407 (3498)\ttotal: 3m 19s\tremaining: 21m 19s\n",
      "4000:\tlearn: 0.1994385\ttest: 0.2494273\tbest: 0.2494153 (3964)\ttotal: 3m 46s\tremaining: 20m 45s\n",
      "4500:\tlearn: 0.1944703\ttest: 0.2493714\tbest: 0.2493695 (4494)\ttotal: 4m 14s\tremaining: 20m 16s\n",
      "5000:\tlearn: 0.1896251\ttest: 0.2493324\tbest: 0.2493088 (4880)\ttotal: 4m 43s\tremaining: 19m 49s\n",
      "bestTest = 0.2493087941\n",
      "bestIteration = 4880\n",
      "Shrink model to first 4881 iterations.\n",
      "Amex Metric = 0.7910742652239937 \n",
      "\n",
      "#########################\n",
      "Overall Amex metric: 0.7910476719545086\n"
     ]
    }
   ],
   "source": [
    "importances = []\n",
    "oof = []\n",
    "gc.collect()\n",
    "\n",
    "clf = CatBoostClassifier(**cat_params)\n",
    "skf = KFold(n_splits=FOLDS, shuffle=True, random_state=SEED)\n",
    "for fold,(train_idx, valid_idx) in enumerate(skf.split(train, train.target)):\n",
    "    \n",
    "    print('#'*25)\n",
    "    print('### Fold',fold+1)\n",
    "    print('### Train size',len(train_idx),'Valid size',len(valid_idx))\n",
    "    print(f'### Training with 100% fold data...')\n",
    "    print('#'*25)\n",
    "    \n",
    "    # TRAIN, VALID, TEST FOR FOLD K\n",
    "    X_train = train.loc[train_idx, FEATURES]\n",
    "    X_valid = train.target.iloc[train_idx]\n",
    "    y_train = train.loc[valid_idx, FEATURES]\n",
    "    y_valid = train.target.iloc[valid_idx]\n",
    "    \n",
    "    # TRAIN MODEL FOLD K\n",
    "    model = clf.fit(X_train,\n",
    "                    X_valid,\n",
    "                    cat_features=cat_features_last,\n",
    "                    eval_set=[(y_train, y_valid)],\n",
    "                    use_best_model=True,\n",
    "                    early_stopping_rounds=500,\n",
    "                    verbose_eval=500)\n",
    "    model.save_model(f'CAT_v{VER}_fold{fold}.cbm')\n",
    "    \n",
    "    # GET FEATURE IMPORTANCE FOR FOLD K\n",
    "    dd = model.feature_importances_\n",
    "    df = pd.DataFrame({'feature':FEATURES,f'importance_{fold}':dd})\n",
    "    importances.append(df)\n",
    "            \n",
    "    # INFER OOF FOLD K\n",
    "    oof_preds = model.predict_proba(y_train)[:, 1]\n",
    "    acc = amex_metric_np(y_valid.values, oof_preds)\n",
    "    print('Amex Metric =',acc,'\\n')\n",
    "\n",
    "    df = train.loc[valid_idx, ['customer_ID','target'] ].copy()\n",
    "    df['oof_preds'] = oof_preds\n",
    "    oof.append(df)\n",
    "    \n",
    "    del X_train, y_train, dd, df\n",
    "    del X_valid, y_valid, model\n",
    "    _ = gc.collect()\n",
    "    \n",
    "print('#'*25)\n",
    "oof = pd.concat(oof,axis=0,ignore_index=True).set_index('customer_ID')\n",
    "acc = amex_metric_np(oof.target.values, oof.oof_preds.values)\n",
    "print(f\"Overall Amex metric: {acc}\")"
   ]
  },
  {
   "cell_type": "code",
   "execution_count": 18,
   "id": "2defaf8f",
   "metadata": {
    "execution": {
     "iopub.execute_input": "2022-07-02T19:51:32.532770Z",
     "iopub.status.busy": "2022-07-02T19:51:32.532420Z",
     "iopub.status.idle": "2022-07-02T19:51:32.634224Z",
     "shell.execute_reply": "2022-07-02T19:51:32.633032Z"
    },
    "papermill": {
     "duration": 0.124376,
     "end_time": "2022-07-02T19:51:32.636505",
     "exception": false,
     "start_time": "2022-07-02T19:51:32.512129",
     "status": "completed"
    },
    "tags": []
   },
   "outputs": [],
   "source": [
    "# CLEAN RAM\n",
    "del train\n",
    "_ = gc.collect()"
   ]
  },
  {
   "cell_type": "code",
   "execution_count": 19,
   "id": "275ea562",
   "metadata": {
    "execution": {
     "iopub.execute_input": "2022-07-02T19:51:32.672995Z",
     "iopub.status.busy": "2022-07-02T19:51:32.672484Z",
     "iopub.status.idle": "2022-07-02T19:51:32.723761Z",
     "shell.execute_reply": "2022-07-02T19:51:32.722858Z"
    },
    "papermill": {
     "duration": 0.071477,
     "end_time": "2022-07-02T19:51:32.725736",
     "exception": false,
     "start_time": "2022-07-02T19:51:32.654259",
     "status": "completed"
    },
    "scrolled": true,
    "tags": []
   },
   "outputs": [],
   "source": [
    "df = importances[0].copy()\n",
    "for k in range(1,FOLDS): df = df.merge(importances[k], on='feature', how='left')\n",
    "df['importance'] = df.iloc[:,1:].mean(axis=1, numeric_only=True)\n",
    "df = df.sort_values('importance',ascending=False)\n",
    "df.to_csv(f'cat_feature_importance_v{VER}.csv',index=False)"
   ]
  },
  {
   "cell_type": "code",
   "execution_count": 20,
   "id": "2041297d",
   "metadata": {
    "execution": {
     "iopub.execute_input": "2022-07-02T19:51:32.763889Z",
     "iopub.status.busy": "2022-07-02T19:51:32.762345Z",
     "iopub.status.idle": "2022-07-02T19:51:33.116451Z",
     "shell.execute_reply": "2022-07-02T19:51:33.115471Z"
    },
    "papermill": {
     "duration": 0.375501,
     "end_time": "2022-07-02T19:51:33.118589",
     "exception": false,
     "start_time": "2022-07-02T19:51:32.743088",
     "status": "completed"
    },
    "tags": []
   },
   "outputs": [
    {
     "data": {
      "image/png": "[encoded data removed]",
      "text/plain": [
       "<Figure size 720x720 with 1 Axes>"
      ]
     },
     "metadata": {
      "needs_background": "light"
     },
     "output_type": "display_data"
    }
   ],
   "source": [
    "NUM_FEATURES = 20\n",
    "plt.figure(figsize=(10,5*NUM_FEATURES//10))\n",
    "plt.barh(np.arange(NUM_FEATURES,0,-1), df.importance.values[:NUM_FEATURES])\n",
    "plt.yticks(np.arange(NUM_FEATURES,0,-1), df.feature.values[:NUM_FEATURES])\n",
    "plt.title(f'CAT Feature Importance - Top {NUM_FEATURES}')\n",
    "plt.show()"
   ]
  },
  {
   "cell_type": "markdown",
   "id": "c5b456d2",
   "metadata": {
    "papermill": {
     "duration": 0.017376,
     "end_time": "2022-07-02T19:51:33.154105",
     "exception": false,
     "start_time": "2022-07-02T19:51:33.136729",
     "status": "completed"
    },
    "tags": []
   },
   "source": [
    "# Test part"
   ]
  },
  {
   "cell_type": "code",
   "execution_count": 21,
   "id": "f51ab5cc",
   "metadata": {
    "execution": {
     "iopub.execute_input": "2022-07-02T19:51:33.190432Z",
     "iopub.status.busy": "2022-07-02T19:51:33.190128Z",
     "iopub.status.idle": "2022-07-02T19:51:33.198025Z",
     "shell.execute_reply": "2022-07-02T19:51:33.196956Z"
    },
    "papermill": {
     "duration": 0.028521,
     "end_time": "2022-07-02T19:51:33.200191",
     "exception": false,
     "start_time": "2022-07-02T19:51:33.171670",
     "status": "completed"
    },
    "tags": []
   },
   "outputs": [],
   "source": [
    "# CALCULATE SIZE OF EACH SEPARATE TEST PART\n",
    "def get_rows(customers, test, NUM_PARTS = 4, verbose = ''):\n",
    "    chunk = len(customers)//NUM_PARTS\n",
    "    if verbose != '':\n",
    "        print(f'We will process {verbose} data as {NUM_PARTS} separate parts.')\n",
    "        print(f'There will be {chunk} customers in each part (except the last part).')\n",
    "        print('Below are number of rows in each part:')\n",
    "    rows = []\n",
    "\n",
    "    for k in range(NUM_PARTS):\n",
    "        if k==NUM_PARTS-1: cc = customers[k*chunk:]\n",
    "        else: cc = customers[k*chunk:(k+1)*chunk]\n",
    "        s = test.loc[test.customer_ID.isin(cc)].shape[0]\n",
    "        rows.append(s)\n",
    "    if verbose != '': print( rows )\n",
    "    return rows,chunk"
   ]
  },
  {
   "cell_type": "code",
   "execution_count": 22,
   "id": "0078a48f",
   "metadata": {
    "execution": {
     "iopub.execute_input": "2022-07-02T19:51:33.237861Z",
     "iopub.status.busy": "2022-07-02T19:51:33.237052Z",
     "iopub.status.idle": "2022-07-02T19:51:34.275892Z",
     "shell.execute_reply": "2022-07-02T19:51:34.274349Z"
    },
    "papermill": {
     "duration": 1.059495,
     "end_time": "2022-07-02T19:51:34.277999",
     "exception": false,
     "start_time": "2022-07-02T19:51:33.218504",
     "status": "completed"
    },
    "tags": []
   },
   "outputs": [
    {
     "name": "stdout",
     "output_type": "stream",
     "text": [
      "We will process test data as 4 separate parts.\n",
      "There will be 231155 customers in each part (except the last part).\n",
      "Below are number of rows in each part:\n",
      "[231155, 231155, 231155, 231156]\n"
     ]
    }
   ],
   "source": [
    "# COMPUTE SIZE OF 4 PARTS FOR TEST DATA\n",
    "NUM_PARTS = 4\n",
    "\n",
    "customers = test[['customer_ID']].drop_duplicates().sort_index().values.flatten()\n",
    "rows,num_cust = get_rows(customers, test[['customer_ID']], NUM_PARTS = NUM_PARTS, verbose = 'test')"
   ]
  },
  {
   "cell_type": "code",
   "execution_count": 23,
   "id": "0d1962ac",
   "metadata": {
    "execution": {
     "iopub.execute_input": "2022-07-02T19:51:34.316763Z",
     "iopub.status.busy": "2022-07-02T19:51:34.316312Z",
     "iopub.status.idle": "2022-07-02T20:24:02.020224Z",
     "shell.execute_reply": "2022-07-02T20:24:02.019052Z"
    },
    "papermill": {
     "duration": 1947.726069,
     "end_time": "2022-07-02T20:24:02.022968",
     "exception": false,
     "start_time": "2022-07-02T19:51:34.296899",
     "status": "completed"
    },
    "tags": []
   },
   "outputs": [
    {
     "name": "stdout",
     "output_type": "stream",
     "text": [
      "\n",
      "Reading test data...\n",
      "=> Test part 1 has shape (231155, 1096)\n",
      "\n",
      "Reading test data...\n",
      "=> Test part 2 has shape (231155, 1096)\n",
      "\n",
      "Reading test data...\n",
      "=> Test part 3 has shape (231155, 1096)\n",
      "\n",
      "Reading test data...\n",
      "=> Test part 4 has shape (231156, 1096)\n"
     ]
    }
   ],
   "source": [
    "# INFER TEST DATA IN PARTS\n",
    "skip_rows = 0\n",
    "skip_cust = 0\n",
    "test_preds = []\n",
    "\n",
    "for k in range(NUM_PARTS):\n",
    "    \n",
    "    # READ PART OF TEST DATA\n",
    "    print(f'\\nReading test data...')\n",
    "    test_copy = test.iloc[skip_rows:skip_rows+rows[k]].copy()\n",
    "    test_copy = test_copy.set_index('customer_ID')\n",
    "    skip_rows += rows[k]\n",
    "    print(f'=> Test part {k+1} has shape', test_copy.shape )\n",
    "    \n",
    "    # PROCESS AND FEATURE ENGINEER PART OF TEST DATA\n",
    "    if k==NUM_PARTS-1: test_copy = test_copy.loc[customers[skip_cust:]]\n",
    "    else: test_copy = test_copy.loc[customers[skip_cust:skip_cust+num_cust]]\n",
    "    skip_cust += num_cust\n",
    "        \n",
    "    # INFER XGB MODELS ON TEST DATA\n",
    "    model = CatBoostClassifier(**cat_params)\n",
    "    model.load_model(f'CAT_v{VER}_fold0.cbm')\n",
    "    preds = model.predict_proba(test_copy)[:, 1]\n",
    "    for f in range(1,FOLDS):\n",
    "        model.load_model(f'CAT_v{VER}_fold{f}.cbm')\n",
    "        preds += model.predict_proba(test_copy)[:, 1]\n",
    "    preds /= FOLDS\n",
    "    test_preds.append(preds)\n",
    "\n",
    "    # CLEAN MEMORY\n",
    "    del test_copy, model\n",
    "    _ = gc.collect()\n",
    "\n",
    "del test\n",
    "_ = gc.collect()"
   ]
  },
  {
   "cell_type": "markdown",
   "id": "2270a0d3",
   "metadata": {
    "papermill": {
     "duration": 0.018258,
     "end_time": "2022-07-02T20:24:02.061281",
     "exception": false,
     "start_time": "2022-07-02T20:24:02.043023",
     "status": "completed"
    },
    "tags": []
   },
   "source": [
    "# Submit"
   ]
  },
  {
   "cell_type": "code",
   "execution_count": 24,
   "id": "d100da0f",
   "metadata": {
    "execution": {
     "iopub.execute_input": "2022-07-02T20:24:02.102838Z",
     "iopub.status.busy": "2022-07-02T20:24:02.101853Z",
     "iopub.status.idle": "2022-07-02T20:24:09.827477Z",
     "shell.execute_reply": "2022-07-02T20:24:09.825694Z"
    },
    "papermill": {
     "duration": 7.749636,
     "end_time": "2022-07-02T20:24:09.830331",
     "exception": false,
     "start_time": "2022-07-02T20:24:02.080695",
     "status": "completed"
    },
    "tags": []
   },
   "outputs": [
    {
     "name": "stdout",
     "output_type": "stream",
     "text": [
      "Submission file shape is (924621, 2)\n"
     ]
    },
    {
     "data": {
      "text/html": [
       "<div>\n",
       "<style scoped>\n",
       "    .dataframe tbody tr th:only-of-type {\n",
       "        vertical-align: middle;\n",
       "    }\n",
       "\n",
       "    .dataframe tbody tr th {\n",
       "        vertical-align: top;\n",
       "    }\n",
       "\n",
       "    .dataframe thead th {\n",
       "        text-align: right;\n",
       "    }\n",
       "</style>\n",
       "<table border=\"1\" class=\"dataframe\">\n",
       "  <thead>\n",
       "    <tr style=\"text-align: right;\">\n",
       "      <th></th>\n",
       "      <th>customer_ID</th>\n",
       "      <th>prediction</th>\n",
       "    </tr>\n",
       "  </thead>\n",
       "  <tbody>\n",
       "    <tr>\n",
       "      <th>0</th>\n",
       "      <td>00000469ba478561f23a92a868bd366de6f6527a684c9a...</td>\n",
       "      <td>0.072221</td>\n",
       "    </tr>\n",
       "    <tr>\n",
       "      <th>1</th>\n",
       "      <td>00001bf2e77ff879fab36aa4fac689b9ba411dae63ae39...</td>\n",
       "      <td>0.003118</td>\n",
       "    </tr>\n",
       "    <tr>\n",
       "      <th>2</th>\n",
       "      <td>0000210045da4f81e5f122c6bde5c2a617d03eef67f82c...</td>\n",
       "      <td>0.097652</td>\n",
       "    </tr>\n",
       "    <tr>\n",
       "      <th>3</th>\n",
       "      <td>00003b41e58ede33b8daf61ab56d9952f17c9ad1c3976c...</td>\n",
       "      <td>0.459920</td>\n",
       "    </tr>\n",
       "    <tr>\n",
       "      <th>4</th>\n",
       "      <td>00004b22eaeeeb0ec976890c1d9bfc14fd9427e98c4ee9...</td>\n",
       "      <td>0.930696</td>\n",
       "    </tr>\n",
       "  </tbody>\n",
       "</table>\n",
       "</div>"
      ],
      "text/plain": [
       "                                         customer_ID  prediction\n",
       "0  00000469ba478561f23a92a868bd366de6f6527a684c9a...    0.072221\n",
       "1  00001bf2e77ff879fab36aa4fac689b9ba411dae63ae39...    0.003118\n",
       "2  0000210045da4f81e5f122c6bde5c2a617d03eef67f82c...    0.097652\n",
       "3  00003b41e58ede33b8daf61ab56d9952f17c9ad1c3976c...    0.459920\n",
       "4  00004b22eaeeeb0ec976890c1d9bfc14fd9427e98c4ee9...    0.930696"
      ]
     },
     "execution_count": 24,
     "metadata": {},
     "output_type": "execute_result"
    }
   ],
   "source": [
    "# WRITE SUBMISSION FILE\n",
    "test_preds = np.concatenate(test_preds)\n",
    "test = pd.DataFrame(index=customers,data={'prediction':test_preds})\n",
    "sub = pd.read_csv(parent_dir + 'amex-default-prediction/sample_submission.csv')[['customer_ID']]\n",
    "sub['customer_ID_hash'] = sub['customer_ID'].copy()\n",
    "sub = sub.set_index('customer_ID_hash')\n",
    "sub = sub.merge(test[['prediction']], left_index=True, right_index=True, how='left')\n",
    "sub = sub.reset_index(drop=True)\n",
    "\n",
    "# DISPLAY PREDICTIONS\n",
    "sub.to_csv(f'submission_cat_v{VER}.csv',index=False)\n",
    "print('Submission file shape is', sub.shape )\n",
    "sub.head()"
   ]
  },
  {
   "cell_type": "code",
   "execution_count": 25,
   "id": "1f942fb6",
   "metadata": {
    "execution": {
     "iopub.execute_input": "2022-07-02T20:24:09.874427Z",
     "iopub.status.busy": "2022-07-02T20:24:09.874004Z",
     "iopub.status.idle": "2022-07-02T20:24:10.306528Z",
     "shell.execute_reply": "2022-07-02T20:24:10.305482Z"
    },
    "papermill": {
     "duration": 0.45619,
     "end_time": "2022-07-02T20:24:10.308796",
     "exception": false,
     "start_time": "2022-07-02T20:24:09.852606",
     "status": "completed"
    },
    "tags": []
   },
   "outputs": [
    {
     "data": {
      "image/png": "[encoded data removed]",
      "text/plain": [
       "<Figure size 432x288 with 1 Axes>"
      ]
     },
     "metadata": {
      "needs_background": "light"
     },
     "output_type": "display_data"
    }
   ],
   "source": [
    "# PLOT PREDICTIONS\n",
    "plt.hist(sub.prediction, bins=100)\n",
    "plt.title('Test Predictions')\n",
    "plt.show()"
   ]
  },
  {
   "cell_type": "markdown",
   "id": "7a25e286",
   "metadata": {
    "papermill": {
     "duration": 0.020504,
     "end_time": "2022-07-02T20:24:10.349780",
     "exception": false,
     "start_time": "2022-07-02T20:24:10.329276",
     "status": "completed"
    },
    "tags": []
   },
   "source": [
    "# Ensemble"
   ]
  },
  {
   "cell_type": "markdown",
   "id": "89ad6fc4",
   "metadata": {
    "papermill": {
     "duration": 0.020189,
     "end_time": "2022-07-02T20:24:10.390412",
     "exception": false,
     "start_time": "2022-07-02T20:24:10.370223",
     "status": "completed"
    },
    "tags": []
   },
   "source": [
    "## Do only ensemble"
   ]
  },
  {
   "cell_type": "code",
   "execution_count": 26,
   "id": "eb1cd629",
   "metadata": {
    "execution": {
     "iopub.execute_input": "2022-07-02T20:24:10.431694Z",
     "iopub.status.busy": "2022-07-02T20:24:10.431310Z",
     "iopub.status.idle": "2022-07-02T20:24:11.390415Z",
     "shell.execute_reply": "2022-07-02T20:24:11.389339Z"
    },
    "papermill": {
     "duration": 0.982707,
     "end_time": "2022-07-02T20:24:11.393085",
     "exception": false,
     "start_time": "2022-07-02T20:24:10.410378",
     "status": "completed"
    },
    "tags": []
   },
   "outputs": [],
   "source": [
    "sub = pd.read_csv(parent_dir + 'amex-default-prediction/sample_submission.csv')"
   ]
  },
  {
   "cell_type": "code",
   "execution_count": 27,
   "id": "7666c95a",
   "metadata": {
    "execution": {
     "iopub.execute_input": "2022-07-02T20:24:11.435547Z",
     "iopub.status.busy": "2022-07-02T20:24:11.435160Z",
     "iopub.status.idle": "2022-07-02T20:24:11.444824Z",
     "shell.execute_reply": "2022-07-02T20:24:11.443717Z"
    },
    "papermill": {
     "duration": 0.033189,
     "end_time": "2022-07-02T20:24:11.447200",
     "exception": false,
     "start_time": "2022-07-02T20:24:11.414011",
     "status": "completed"
    },
    "tags": []
   },
   "outputs": [],
   "source": [
    "# https://www.kaggle.com/code/beezus666/ensemble-weighted-average\n",
    "#crude formula for model weighting.\n",
    "# Using this formaula the best model's weight = 1, the worst model's weight ~0.05\n",
    "def model_weight(model_loss, worst_loss, best_loss):\n",
    "    return 1- ((best_loss - model_loss)/(best_loss-(worst_loss - 0.01)))\n",
    "\n",
    "def read_weighted_preds(sub_dict: dict, worst_score:float, best_score: float) -> list:\n",
    "    preds = []\n",
    "    weights = []\n",
    "    for path, loss in sub_dict.items():\n",
    "        weight = model_weight(loss, worst_score, best_score)\n",
    "        \n",
    "        df = pd.read_csv(path)\n",
    "        df = df.set_index('customer_ID').sort_index().reset_index() # sort\n",
    "        df['prediction'] = df['prediction']*weight\n",
    "        \n",
    "        preds.append(df['prediction'])\n",
    "        weights.append(weight)\n",
    "    \n",
    "    return preds, weights"
   ]
  },
  {
   "cell_type": "code",
   "execution_count": 28,
   "id": "39372a51",
   "metadata": {
    "execution": {
     "iopub.execute_input": "2022-07-02T20:24:11.487214Z",
     "iopub.status.busy": "2022-07-02T20:24:11.486907Z",
     "iopub.status.idle": "2022-07-02T20:24:25.689722Z",
     "shell.execute_reply": "2022-07-02T20:24:25.688639Z"
    },
    "papermill": {
     "duration": 14.226357,
     "end_time": "2022-07-02T20:24:25.692849",
     "exception": false,
     "start_time": "2022-07-02T20:24:11.466492",
     "status": "completed"
    },
    "tags": []
   },
   "outputs": [],
   "source": [
    "best = 0.7963\n",
    "worst = 0.789\n",
    "\n",
    "sub_dict = {\n",
    "    parent_dir + 'amexdefaultsubmissions/submission_cat_v26_0794.csv': 0.794,\n",
    "    parent_dir + 'amexdefaultsubmissions/submission_TF_GRU0789.csv': 0.789,\n",
    "#     parent_dir + 'amexdefaultsubmissions/submission_xgb_v21.csv': 0.794,\n",
    "    parent_dir + 'amexdefaultsubmissions/test_lgbm_baseline_5fold_seed42.csv': 0.7963,\n",
    "#     parent_dir + 'amexdefaultsubmissions/submission_cat_0.7923765971248049.csv': 0.7923765971248049,\n",
    "#     parent_dir + 'amexdefaultsubmissions/submission_downsampling0791.csv': 0.791,\n",
    "    parent_dir + 'amexdefaultsubmissions/submission_tabnet0791.csv': 0.791,\n",
    "    parent_dir + 'amexdefaultsubmissions/lightautoml_tabularautoml0795.csv': 0.795,\n",
    "    parent_dir + 'amexdefaultsubmissions/submission_xgb_nvt_0._794csv.csv': 0.794,\n",
    "#     parent_dir + 'amexdefaultsubmissions/submission_CosSquareFormer_0788.csv': 0.788,\n",
    "#     '../input/amex-keras-quickstart-1-training/submission.csv': 0.79,\n",
    "#     '../input/tensorflow-transformer-0-790/submission.csv': 0.79,\n",
    "}\n",
    "\n",
    "preds, weights = read_weighted_preds(sub_dict, worst, best)"
   ]
  },
  {
   "cell_type": "code",
   "execution_count": 29,
   "id": "0f233ded",
   "metadata": {
    "execution": {
     "iopub.execute_input": "2022-07-02T20:24:25.734422Z",
     "iopub.status.busy": "2022-07-02T20:24:25.734055Z",
     "iopub.status.idle": "2022-07-02T20:24:30.817646Z",
     "shell.execute_reply": "2022-07-02T20:24:30.816565Z"
    },
    "papermill": {
     "duration": 5.106108,
     "end_time": "2022-07-02T20:24:30.820070",
     "exception": false,
     "start_time": "2022-07-02T20:24:25.713962",
     "status": "completed"
    },
    "tags": []
   },
   "outputs": [
    {
     "data": {
      "text/html": [
       "<div>\n",
       "<style scoped>\n",
       "    .dataframe tbody tr th:only-of-type {\n",
       "        vertical-align: middle;\n",
       "    }\n",
       "\n",
       "    .dataframe tbody tr th {\n",
       "        vertical-align: top;\n",
       "    }\n",
       "\n",
       "    .dataframe thead th {\n",
       "        text-align: right;\n",
       "    }\n",
       "</style>\n",
       "<table border=\"1\" class=\"dataframe\">\n",
       "  <thead>\n",
       "    <tr style=\"text-align: right;\">\n",
       "      <th></th>\n",
       "      <th>customer_ID</th>\n",
       "      <th>prediction</th>\n",
       "    </tr>\n",
       "  </thead>\n",
       "  <tbody>\n",
       "    <tr>\n",
       "      <th>0</th>\n",
       "      <td>00000469ba478561f23a92a868bd366de6f6527a684c9a...</td>\n",
       "      <td>0.026531</td>\n",
       "    </tr>\n",
       "    <tr>\n",
       "      <th>1</th>\n",
       "      <td>00001bf2e77ff879fab36aa4fac689b9ba411dae63ae39...</td>\n",
       "      <td>0.001220</td>\n",
       "    </tr>\n",
       "    <tr>\n",
       "      <th>2</th>\n",
       "      <td>0000210045da4f81e5f122c6bde5c2a617d03eef67f82c...</td>\n",
       "      <td>0.047478</td>\n",
       "    </tr>\n",
       "    <tr>\n",
       "      <th>3</th>\n",
       "      <td>00003b41e58ede33b8daf61ab56d9952f17c9ad1c3976c...</td>\n",
       "      <td>0.249017</td>\n",
       "    </tr>\n",
       "    <tr>\n",
       "      <th>4</th>\n",
       "      <td>00004b22eaeeeb0ec976890c1d9bfc14fd9427e98c4ee9...</td>\n",
       "      <td>0.858009</td>\n",
       "    </tr>\n",
       "    <tr>\n",
       "      <th>...</th>\n",
       "      <td>...</td>\n",
       "      <td>...</td>\n",
       "    </tr>\n",
       "    <tr>\n",
       "      <th>924616</th>\n",
       "      <td>ffff952c631f2c911b8a2a8ca56ea6e656309a83d2f64c...</td>\n",
       "      <td>0.013619</td>\n",
       "    </tr>\n",
       "    <tr>\n",
       "      <th>924617</th>\n",
       "      <td>ffffcf5df59e5e0bba2a5ac4578a34e2b5aa64a1546cd3...</td>\n",
       "      <td>0.790922</td>\n",
       "    </tr>\n",
       "    <tr>\n",
       "      <th>924618</th>\n",
       "      <td>ffffd61f098cc056dbd7d2a21380c4804bbfe60856f475...</td>\n",
       "      <td>0.466305</td>\n",
       "    </tr>\n",
       "    <tr>\n",
       "      <th>924619</th>\n",
       "      <td>ffffddef1fc3643ea179c93245b68dca0f36941cd83977...</td>\n",
       "      <td>0.289362</td>\n",
       "    </tr>\n",
       "    <tr>\n",
       "      <th>924620</th>\n",
       "      <td>fffffa7cf7e453e1acc6a1426475d5cb9400859f82ff61...</td>\n",
       "      <td>0.055330</td>\n",
       "    </tr>\n",
       "  </tbody>\n",
       "</table>\n",
       "<p>924621 rows × 2 columns</p>\n",
       "</div>"
      ],
      "text/plain": [
       "                                              customer_ID  prediction\n",
       "0       00000469ba478561f23a92a868bd366de6f6527a684c9a...    0.026531\n",
       "1       00001bf2e77ff879fab36aa4fac689b9ba411dae63ae39...    0.001220\n",
       "2       0000210045da4f81e5f122c6bde5c2a617d03eef67f82c...    0.047478\n",
       "3       00003b41e58ede33b8daf61ab56d9952f17c9ad1c3976c...    0.249017\n",
       "4       00004b22eaeeeb0ec976890c1d9bfc14fd9427e98c4ee9...    0.858009\n",
       "...                                                   ...         ...\n",
       "924616  ffff952c631f2c911b8a2a8ca56ea6e656309a83d2f64c...    0.013619\n",
       "924617  ffffcf5df59e5e0bba2a5ac4578a34e2b5aa64a1546cd3...    0.790922\n",
       "924618  ffffd61f098cc056dbd7d2a21380c4804bbfe60856f475...    0.466305\n",
       "924619  ffffddef1fc3643ea179c93245b68dca0f36941cd83977...    0.289362\n",
       "924620  fffffa7cf7e453e1acc6a1426475d5cb9400859f82ff61...    0.055330\n",
       "\n",
       "[924621 rows x 2 columns]"
      ]
     },
     "execution_count": 29,
     "metadata": {},
     "output_type": "execute_result"
    }
   ],
   "source": [
    "blend_ss = sub.copy()\n",
    "blend_ss['prediction'] = np.sum(np.column_stack(preds), axis=1) / sum(weights)\n",
    "# blend_ss['prediction'] = (np.mean(np.column_stack(preds), axis=1))\n",
    "# blend_ss_prev = pd.read_csv('../input/amex-default-prediction-with-cat/submission_blend.csv')\n",
    "# preds = [(np.mean(np.column_stack(preds), axis=1)), blend_ss_prev['prediction']]\n",
    "# blend_ss['prediction'] = (np.mean(np.column_stack(preds), axis=1)) \n",
    "blend_ss.to_csv('submission_blend.csv', index=False)\n",
    "blend_ss"
   ]
  },
  {
   "cell_type": "code",
   "execution_count": 30,
   "id": "1383ef36",
   "metadata": {
    "execution": {
     "iopub.execute_input": "2022-07-02T20:24:30.863531Z",
     "iopub.status.busy": "2022-07-02T20:24:30.862827Z",
     "iopub.status.idle": "2022-07-02T20:24:30.917657Z",
     "shell.execute_reply": "2022-07-02T20:24:30.916565Z"
    },
    "papermill": {
     "duration": 0.078531,
     "end_time": "2022-07-02T20:24:30.919888",
     "exception": false,
     "start_time": "2022-07-02T20:24:30.841357",
     "status": "completed"
    },
    "tags": []
   },
   "outputs": [
    {
     "data": {
      "text/html": [
       "<div>\n",
       "<style scoped>\n",
       "    .dataframe tbody tr th:only-of-type {\n",
       "        vertical-align: middle;\n",
       "    }\n",
       "\n",
       "    .dataframe tbody tr th {\n",
       "        vertical-align: top;\n",
       "    }\n",
       "\n",
       "    .dataframe thead th {\n",
       "        text-align: right;\n",
       "    }\n",
       "</style>\n",
       "<table border=\"1\" class=\"dataframe\">\n",
       "  <thead>\n",
       "    <tr style=\"text-align: right;\">\n",
       "      <th></th>\n",
       "      <th>prediction</th>\n",
       "    </tr>\n",
       "  </thead>\n",
       "  <tbody>\n",
       "    <tr>\n",
       "      <th>count</th>\n",
       "      <td>924621.000000</td>\n",
       "    </tr>\n",
       "    <tr>\n",
       "      <th>mean</th>\n",
       "      <td>0.249891</td>\n",
       "    </tr>\n",
       "    <tr>\n",
       "      <th>std</th>\n",
       "      <td>0.346124</td>\n",
       "    </tr>\n",
       "    <tr>\n",
       "      <th>min</th>\n",
       "      <td>0.000162</td>\n",
       "    </tr>\n",
       "    <tr>\n",
       "      <th>25%</th>\n",
       "      <td>0.003086</td>\n",
       "    </tr>\n",
       "    <tr>\n",
       "      <th>50%</th>\n",
       "      <td>0.026869</td>\n",
       "    </tr>\n",
       "    <tr>\n",
       "      <th>75%</th>\n",
       "      <td>0.484607</td>\n",
       "    </tr>\n",
       "    <tr>\n",
       "      <th>max</th>\n",
       "      <td>0.999851</td>\n",
       "    </tr>\n",
       "  </tbody>\n",
       "</table>\n",
       "</div>"
      ],
      "text/plain": [
       "          prediction\n",
       "count  924621.000000\n",
       "mean        0.249891\n",
       "std         0.346124\n",
       "min         0.000162\n",
       "25%         0.003086\n",
       "50%         0.026869\n",
       "75%         0.484607\n",
       "max         0.999851"
      ]
     },
     "execution_count": 30,
     "metadata": {},
     "output_type": "execute_result"
    }
   ],
   "source": [
    "blend_ss.describe()"
   ]
  },
  {
   "cell_type": "code",
   "execution_count": 31,
   "id": "55cf4f0c",
   "metadata": {
    "execution": {
     "iopub.execute_input": "2022-07-02T20:24:30.962231Z",
     "iopub.status.busy": "2022-07-02T20:24:30.961892Z",
     "iopub.status.idle": "2022-07-02T20:24:31.404766Z",
     "shell.execute_reply": "2022-07-02T20:24:31.403475Z"
    },
    "papermill": {
     "duration": 0.466778,
     "end_time": "2022-07-02T20:24:31.407066",
     "exception": false,
     "start_time": "2022-07-02T20:24:30.940288",
     "status": "completed"
    },
    "tags": []
   },
   "outputs": [
    {
     "data": {
      "image/png": "[encoded data removed]",
      "text/plain": [
       "<Figure size 432x288 with 1 Axes>"
      ]
     },
     "metadata": {
      "needs_background": "light"
     },
     "output_type": "display_data"
    }
   ],
   "source": [
    "# PLOT PREDICTIONS\n",
    "plt.hist(blend_ss.prediction, bins=100)\n",
    "plt.title('Blend Test Predictions')\n",
    "plt.show()"
   ]
  },
  {
   "cell_type": "markdown",
   "id": "8a07d5de",
   "metadata": {
    "papermill": {
     "duration": 0.020504,
     "end_time": "2022-07-02T20:24:31.449417",
     "exception": false,
     "start_time": "2022-07-02T20:24:31.428913",
     "status": "completed"
    },
    "tags": []
   },
   "source": [
    "# Submit to Kaggle from Colab"
   ]
  },
  {
   "cell_type": "code",
   "execution_count": 32,
   "id": "5bf60576",
   "metadata": {
    "execution": {
     "iopub.execute_input": "2022-07-02T20:24:31.491041Z",
     "iopub.status.busy": "2022-07-02T20:24:31.490556Z",
     "iopub.status.idle": "2022-07-02T20:24:31.496007Z",
     "shell.execute_reply": "2022-07-02T20:24:31.494959Z"
    },
    "papermill": {
     "duration": 0.028792,
     "end_time": "2022-07-02T20:24:31.498100",
     "exception": false,
     "start_time": "2022-07-02T20:24:31.469308",
     "status": "completed"
    },
    "tags": []
   },
   "outputs": [],
   "source": [
    "# Submit\n",
    "if is_env_colab:\n",
    "    # !kaggle competitions submit -c amex-default-prediction -f submission_cat_v1.csv -m \"From colab\"\n",
    "    !kaggle competitions submit -c amex-default-prediction -f submission_blend.csv -m \"From colab\""
   ]
  },
  {
   "cell_type": "code",
   "execution_count": 33,
   "id": "4cc259ed",
   "metadata": {
    "execution": {
     "iopub.execute_input": "2022-07-02T20:24:31.541251Z",
     "iopub.status.busy": "2022-07-02T20:24:31.540282Z",
     "iopub.status.idle": "2022-07-02T20:24:32.856266Z",
     "shell.execute_reply": "2022-07-02T20:24:32.854985Z"
    },
    "papermill": {
     "duration": 1.340543,
     "end_time": "2022-07-02T20:24:32.859056",
     "exception": false,
     "start_time": "2022-07-02T20:24:31.518513",
     "status": "completed"
    },
    "tags": []
   },
   "outputs": [
    {
     "name": "stdout",
     "output_type": "stream",
     "text": [
      "Traceback (most recent call last):\r\n",
      "  File \"/opt/conda/bin/kaggle\", line 5, in <module>\r\n",
      "    from kaggle.cli import main\r\n",
      "  File \"/opt/conda/lib/python3.7/site-packages/kaggle/__init__.py\", line 23, in <module>\r\n",
      "    api.authenticate()\r\n",
      "  File \"/opt/conda/lib/python3.7/site-packages/kaggle/api/kaggle_api_extended.py\", line 166, in authenticate\r\n",
      "    self.config_file, self.config_dir))\r\n",
      "OSError: Could not find kaggle.json. Make sure it's located in /root/.kaggle. Or use the environment method.\r\n"
     ]
    }
   ],
   "source": [
    "# Run after few seconds\n",
    "!kaggle competitions submissions amex-default-prediction"
   ]
  },
  {
   "cell_type": "markdown",
   "id": "8b776fff",
   "metadata": {
    "papermill": {
     "duration": 0.020339,
     "end_time": "2022-07-02T20:24:32.900385",
     "exception": false,
     "start_time": "2022-07-02T20:24:32.880046",
     "status": "completed"
    },
    "tags": []
   },
   "source": [
    "# Research"
   ]
  },
  {
   "cell_type": "code",
   "execution_count": 34,
   "id": "f166ae12",
   "metadata": {
    "execution": {
     "iopub.execute_input": "2022-07-02T20:24:32.943110Z",
     "iopub.status.busy": "2022-07-02T20:24:32.942739Z",
     "iopub.status.idle": "2022-07-02T20:24:36.213258Z",
     "shell.execute_reply": "2022-07-02T20:24:36.211900Z"
    },
    "papermill": {
     "duration": 3.295237,
     "end_time": "2022-07-02T20:24:36.216059",
     "exception": false,
     "start_time": "2022-07-02T20:24:32.920822",
     "status": "completed"
    },
    "tags": []
   },
   "outputs": [],
   "source": [
    "v47 = pd.read_csv(parent_dir + 'amexdefaultsubmissions/submission_blend_v47_0797.csv')\n",
    "v71 = pd.read_csv(parent_dir + 'amexdefaultsubmissions/submission_blend_v71_0797.csv')"
   ]
  },
  {
   "cell_type": "code",
   "execution_count": 35,
   "id": "cf8eb8f2",
   "metadata": {
    "execution": {
     "iopub.execute_input": "2022-07-02T20:24:36.260337Z",
     "iopub.status.busy": "2022-07-02T20:24:36.259378Z",
     "iopub.status.idle": "2022-07-02T20:24:36.275264Z",
     "shell.execute_reply": "2022-07-02T20:24:36.274136Z"
    },
    "papermill": {
     "duration": 0.040317,
     "end_time": "2022-07-02T20:24:36.277792",
     "exception": false,
     "start_time": "2022-07-02T20:24:36.237475",
     "status": "completed"
    },
    "tags": []
   },
   "outputs": [
    {
     "data": {
      "text/html": [
       "<div>\n",
       "<style scoped>\n",
       "    .dataframe tbody tr th:only-of-type {\n",
       "        vertical-align: middle;\n",
       "    }\n",
       "\n",
       "    .dataframe tbody tr th {\n",
       "        vertical-align: top;\n",
       "    }\n",
       "\n",
       "    .dataframe thead th {\n",
       "        text-align: right;\n",
       "    }\n",
       "</style>\n",
       "<table border=\"1\" class=\"dataframe\">\n",
       "  <thead>\n",
       "    <tr style=\"text-align: right;\">\n",
       "      <th></th>\n",
       "      <th>customer_ID</th>\n",
       "      <th>prediction</th>\n",
       "    </tr>\n",
       "  </thead>\n",
       "  <tbody>\n",
       "    <tr>\n",
       "      <th>0</th>\n",
       "      <td>00000469ba478561f23a92a868bd366de6f6527a684c9a...</td>\n",
       "      <td>0.023739</td>\n",
       "    </tr>\n",
       "    <tr>\n",
       "      <th>1</th>\n",
       "      <td>00001bf2e77ff879fab36aa4fac689b9ba411dae63ae39...</td>\n",
       "      <td>0.001235</td>\n",
       "    </tr>\n",
       "    <tr>\n",
       "      <th>2</th>\n",
       "      <td>0000210045da4f81e5f122c6bde5c2a617d03eef67f82c...</td>\n",
       "      <td>0.041157</td>\n",
       "    </tr>\n",
       "    <tr>\n",
       "      <th>3</th>\n",
       "      <td>00003b41e58ede33b8daf61ab56d9952f17c9ad1c3976c...</td>\n",
       "      <td>0.251251</td>\n",
       "    </tr>\n",
       "    <tr>\n",
       "      <th>4</th>\n",
       "      <td>00004b22eaeeeb0ec976890c1d9bfc14fd9427e98c4ee9...</td>\n",
       "      <td>0.755110</td>\n",
       "    </tr>\n",
       "    <tr>\n",
       "      <th>...</th>\n",
       "      <td>...</td>\n",
       "      <td>...</td>\n",
       "    </tr>\n",
       "    <tr>\n",
       "      <th>924616</th>\n",
       "      <td>ffff952c631f2c911b8a2a8ca56ea6e656309a83d2f64c...</td>\n",
       "      <td>0.014558</td>\n",
       "    </tr>\n",
       "    <tr>\n",
       "      <th>924617</th>\n",
       "      <td>ffffcf5df59e5e0bba2a5ac4578a34e2b5aa64a1546cd3...</td>\n",
       "      <td>0.694786</td>\n",
       "    </tr>\n",
       "    <tr>\n",
       "      <th>924618</th>\n",
       "      <td>ffffd61f098cc056dbd7d2a21380c4804bbfe60856f475...</td>\n",
       "      <td>0.481251</td>\n",
       "    </tr>\n",
       "    <tr>\n",
       "      <th>924619</th>\n",
       "      <td>ffffddef1fc3643ea179c93245b68dca0f36941cd83977...</td>\n",
       "      <td>0.293683</td>\n",
       "    </tr>\n",
       "    <tr>\n",
       "      <th>924620</th>\n",
       "      <td>fffffa7cf7e453e1acc6a1426475d5cb9400859f82ff61...</td>\n",
       "      <td>0.056920</td>\n",
       "    </tr>\n",
       "  </tbody>\n",
       "</table>\n",
       "<p>924621 rows × 2 columns</p>\n",
       "</div>"
      ],
      "text/plain": [
       "                                              customer_ID  prediction\n",
       "0       00000469ba478561f23a92a868bd366de6f6527a684c9a...    0.023739\n",
       "1       00001bf2e77ff879fab36aa4fac689b9ba411dae63ae39...    0.001235\n",
       "2       0000210045da4f81e5f122c6bde5c2a617d03eef67f82c...    0.041157\n",
       "3       00003b41e58ede33b8daf61ab56d9952f17c9ad1c3976c...    0.251251\n",
       "4       00004b22eaeeeb0ec976890c1d9bfc14fd9427e98c4ee9...    0.755110\n",
       "...                                                   ...         ...\n",
       "924616  ffff952c631f2c911b8a2a8ca56ea6e656309a83d2f64c...    0.014558\n",
       "924617  ffffcf5df59e5e0bba2a5ac4578a34e2b5aa64a1546cd3...    0.694786\n",
       "924618  ffffd61f098cc056dbd7d2a21380c4804bbfe60856f475...    0.481251\n",
       "924619  ffffddef1fc3643ea179c93245b68dca0f36941cd83977...    0.293683\n",
       "924620  fffffa7cf7e453e1acc6a1426475d5cb9400859f82ff61...    0.056920\n",
       "\n",
       "[924621 rows x 2 columns]"
      ]
     },
     "execution_count": 35,
     "metadata": {},
     "output_type": "execute_result"
    }
   ],
   "source": [
    "v47"
   ]
  },
  {
   "cell_type": "code",
   "execution_count": 36,
   "id": "ea216c04",
   "metadata": {
    "execution": {
     "iopub.execute_input": "2022-07-02T20:24:36.322483Z",
     "iopub.status.busy": "2022-07-02T20:24:36.320720Z",
     "iopub.status.idle": "2022-07-02T20:24:36.335123Z",
     "shell.execute_reply": "2022-07-02T20:24:36.334037Z"
    },
    "papermill": {
     "duration": 0.038673,
     "end_time": "2022-07-02T20:24:36.337401",
     "exception": false,
     "start_time": "2022-07-02T20:24:36.298728",
     "status": "completed"
    },
    "tags": []
   },
   "outputs": [
    {
     "data": {
      "text/html": [
       "<div>\n",
       "<style scoped>\n",
       "    .dataframe tbody tr th:only-of-type {\n",
       "        vertical-align: middle;\n",
       "    }\n",
       "\n",
       "    .dataframe tbody tr th {\n",
       "        vertical-align: top;\n",
       "    }\n",
       "\n",
       "    .dataframe thead th {\n",
       "        text-align: right;\n",
       "    }\n",
       "</style>\n",
       "<table border=\"1\" class=\"dataframe\">\n",
       "  <thead>\n",
       "    <tr style=\"text-align: right;\">\n",
       "      <th></th>\n",
       "      <th>customer_ID</th>\n",
       "      <th>prediction</th>\n",
       "    </tr>\n",
       "  </thead>\n",
       "  <tbody>\n",
       "    <tr>\n",
       "      <th>0</th>\n",
       "      <td>00000469ba478561f23a92a868bd366de6f6527a684c9a...</td>\n",
       "      <td>0.018688</td>\n",
       "    </tr>\n",
       "    <tr>\n",
       "      <th>1</th>\n",
       "      <td>00001bf2e77ff879fab36aa4fac689b9ba411dae63ae39...</td>\n",
       "      <td>0.000977</td>\n",
       "    </tr>\n",
       "    <tr>\n",
       "      <th>2</th>\n",
       "      <td>0000210045da4f81e5f122c6bde5c2a617d03eef67f82c...</td>\n",
       "      <td>0.033442</td>\n",
       "    </tr>\n",
       "    <tr>\n",
       "      <th>3</th>\n",
       "      <td>00003b41e58ede33b8daf61ab56d9952f17c9ad1c3976c...</td>\n",
       "      <td>0.202872</td>\n",
       "    </tr>\n",
       "    <tr>\n",
       "      <th>4</th>\n",
       "      <td>00004b22eaeeeb0ec976890c1d9bfc14fd9427e98c4ee9...</td>\n",
       "      <td>0.604362</td>\n",
       "    </tr>\n",
       "    <tr>\n",
       "      <th>...</th>\n",
       "      <td>...</td>\n",
       "      <td>...</td>\n",
       "    </tr>\n",
       "    <tr>\n",
       "      <th>924616</th>\n",
       "      <td>ffff952c631f2c911b8a2a8ca56ea6e656309a83d2f64c...</td>\n",
       "      <td>0.011388</td>\n",
       "    </tr>\n",
       "    <tr>\n",
       "      <th>924617</th>\n",
       "      <td>ffffcf5df59e5e0bba2a5ac4578a34e2b5aa64a1546cd3...</td>\n",
       "      <td>0.557107</td>\n",
       "    </tr>\n",
       "    <tr>\n",
       "      <th>924618</th>\n",
       "      <td>ffffd61f098cc056dbd7d2a21380c4804bbfe60856f475...</td>\n",
       "      <td>0.386627</td>\n",
       "    </tr>\n",
       "    <tr>\n",
       "      <th>924619</th>\n",
       "      <td>ffffddef1fc3643ea179c93245b68dca0f36941cd83977...</td>\n",
       "      <td>0.236389</td>\n",
       "    </tr>\n",
       "    <tr>\n",
       "      <th>924620</th>\n",
       "      <td>fffffa7cf7e453e1acc6a1426475d5cb9400859f82ff61...</td>\n",
       "      <td>0.045319</td>\n",
       "    </tr>\n",
       "  </tbody>\n",
       "</table>\n",
       "<p>924621 rows × 2 columns</p>\n",
       "</div>"
      ],
      "text/plain": [
       "                                              customer_ID  prediction\n",
       "0       00000469ba478561f23a92a868bd366de6f6527a684c9a...    0.018688\n",
       "1       00001bf2e77ff879fab36aa4fac689b9ba411dae63ae39...    0.000977\n",
       "2       0000210045da4f81e5f122c6bde5c2a617d03eef67f82c...    0.033442\n",
       "3       00003b41e58ede33b8daf61ab56d9952f17c9ad1c3976c...    0.202872\n",
       "4       00004b22eaeeeb0ec976890c1d9bfc14fd9427e98c4ee9...    0.604362\n",
       "...                                                   ...         ...\n",
       "924616  ffff952c631f2c911b8a2a8ca56ea6e656309a83d2f64c...    0.011388\n",
       "924617  ffffcf5df59e5e0bba2a5ac4578a34e2b5aa64a1546cd3...    0.557107\n",
       "924618  ffffd61f098cc056dbd7d2a21380c4804bbfe60856f475...    0.386627\n",
       "924619  ffffddef1fc3643ea179c93245b68dca0f36941cd83977...    0.236389\n",
       "924620  fffffa7cf7e453e1acc6a1426475d5cb9400859f82ff61...    0.045319\n",
       "\n",
       "[924621 rows x 2 columns]"
      ]
     },
     "execution_count": 36,
     "metadata": {},
     "output_type": "execute_result"
    }
   ],
   "source": [
    "v71"
   ]
  },
  {
   "cell_type": "code",
   "execution_count": 37,
   "id": "a49406cc",
   "metadata": {
    "execution": {
     "iopub.execute_input": "2022-07-02T20:24:36.382336Z",
     "iopub.status.busy": "2022-07-02T20:24:36.381492Z",
     "iopub.status.idle": "2022-07-02T20:24:36.435489Z",
     "shell.execute_reply": "2022-07-02T20:24:36.434490Z"
    },
    "papermill": {
     "duration": 0.078784,
     "end_time": "2022-07-02T20:24:36.437745",
     "exception": false,
     "start_time": "2022-07-02T20:24:36.358961",
     "status": "completed"
    },
    "tags": []
   },
   "outputs": [
    {
     "data": {
      "text/html": [
       "<div>\n",
       "<style scoped>\n",
       "    .dataframe tbody tr th:only-of-type {\n",
       "        vertical-align: middle;\n",
       "    }\n",
       "\n",
       "    .dataframe tbody tr th {\n",
       "        vertical-align: top;\n",
       "    }\n",
       "\n",
       "    .dataframe thead th {\n",
       "        text-align: right;\n",
       "    }\n",
       "</style>\n",
       "<table border=\"1\" class=\"dataframe\">\n",
       "  <thead>\n",
       "    <tr style=\"text-align: right;\">\n",
       "      <th></th>\n",
       "      <th>prediction</th>\n",
       "    </tr>\n",
       "  </thead>\n",
       "  <tbody>\n",
       "    <tr>\n",
       "      <th>count</th>\n",
       "      <td>924621.000000</td>\n",
       "    </tr>\n",
       "    <tr>\n",
       "      <th>mean</th>\n",
       "      <td>0.234733</td>\n",
       "    </tr>\n",
       "    <tr>\n",
       "      <th>std</th>\n",
       "      <td>0.325976</td>\n",
       "    </tr>\n",
       "    <tr>\n",
       "      <th>min</th>\n",
       "      <td>0.000156</td>\n",
       "    </tr>\n",
       "    <tr>\n",
       "      <th>25%</th>\n",
       "      <td>0.002933</td>\n",
       "    </tr>\n",
       "    <tr>\n",
       "      <th>50%</th>\n",
       "      <td>0.025303</td>\n",
       "    </tr>\n",
       "    <tr>\n",
       "      <th>75%</th>\n",
       "      <td>0.453836</td>\n",
       "    </tr>\n",
       "    <tr>\n",
       "      <th>max</th>\n",
       "      <td>0.999705</td>\n",
       "    </tr>\n",
       "  </tbody>\n",
       "</table>\n",
       "</div>"
      ],
      "text/plain": [
       "          prediction\n",
       "count  924621.000000\n",
       "mean        0.234733\n",
       "std         0.325976\n",
       "min         0.000156\n",
       "25%         0.002933\n",
       "50%         0.025303\n",
       "75%         0.453836\n",
       "max         0.999705"
      ]
     },
     "execution_count": 37,
     "metadata": {},
     "output_type": "execute_result"
    }
   ],
   "source": [
    "v47.describe()"
   ]
  },
  {
   "cell_type": "code",
   "execution_count": 38,
   "id": "e07a629a",
   "metadata": {
    "execution": {
     "iopub.execute_input": "2022-07-02T20:24:36.481060Z",
     "iopub.status.busy": "2022-07-02T20:24:36.480721Z",
     "iopub.status.idle": "2022-07-02T20:24:36.530560Z",
     "shell.execute_reply": "2022-07-02T20:24:36.529384Z"
    },
    "papermill": {
     "duration": 0.073839,
     "end_time": "2022-07-02T20:24:36.532726",
     "exception": false,
     "start_time": "2022-07-02T20:24:36.458887",
     "status": "completed"
    },
    "tags": []
   },
   "outputs": [
    {
     "data": {
      "text/html": [
       "<div>\n",
       "<style scoped>\n",
       "    .dataframe tbody tr th:only-of-type {\n",
       "        vertical-align: middle;\n",
       "    }\n",
       "\n",
       "    .dataframe tbody tr th {\n",
       "        vertical-align: top;\n",
       "    }\n",
       "\n",
       "    .dataframe thead th {\n",
       "        text-align: right;\n",
       "    }\n",
       "</style>\n",
       "<table border=\"1\" class=\"dataframe\">\n",
       "  <thead>\n",
       "    <tr style=\"text-align: right;\">\n",
       "      <th></th>\n",
       "      <th>prediction</th>\n",
       "    </tr>\n",
       "  </thead>\n",
       "  <tbody>\n",
       "    <tr>\n",
       "      <th>count</th>\n",
       "      <td>924621.000000</td>\n",
       "    </tr>\n",
       "    <tr>\n",
       "      <th>mean</th>\n",
       "      <td>0.188635</td>\n",
       "    </tr>\n",
       "    <tr>\n",
       "      <th>std</th>\n",
       "      <td>0.262073</td>\n",
       "    </tr>\n",
       "    <tr>\n",
       "      <th>min</th>\n",
       "      <td>0.000121</td>\n",
       "    </tr>\n",
       "    <tr>\n",
       "      <th>25%</th>\n",
       "      <td>0.002320</td>\n",
       "    </tr>\n",
       "    <tr>\n",
       "      <th>50%</th>\n",
       "      <td>0.020234</td>\n",
       "    </tr>\n",
       "    <tr>\n",
       "      <th>75%</th>\n",
       "      <td>0.364589</td>\n",
       "    </tr>\n",
       "    <tr>\n",
       "      <th>max</th>\n",
       "      <td>0.803231</td>\n",
       "    </tr>\n",
       "  </tbody>\n",
       "</table>\n",
       "</div>"
      ],
      "text/plain": [
       "          prediction\n",
       "count  924621.000000\n",
       "mean        0.188635\n",
       "std         0.262073\n",
       "min         0.000121\n",
       "25%         0.002320\n",
       "50%         0.020234\n",
       "75%         0.364589\n",
       "max         0.803231"
      ]
     },
     "execution_count": 38,
     "metadata": {},
     "output_type": "execute_result"
    }
   ],
   "source": [
    "v71.describe()"
   ]
  },
  {
   "cell_type": "code",
   "execution_count": 39,
   "id": "faf74eec",
   "metadata": {
    "execution": {
     "iopub.execute_input": "2022-07-02T20:24:36.576023Z",
     "iopub.status.busy": "2022-07-02T20:24:36.575428Z",
     "iopub.status.idle": "2022-07-02T20:24:36.595008Z",
     "shell.execute_reply": "2022-07-02T20:24:36.593770Z"
    },
    "papermill": {
     "duration": 0.043778,
     "end_time": "2022-07-02T20:24:36.597632",
     "exception": false,
     "start_time": "2022-07-02T20:24:36.553854",
     "status": "completed"
    },
    "tags": []
   },
   "outputs": [
    {
     "data": {
      "text/html": [
       "<div>\n",
       "<style scoped>\n",
       "    .dataframe tbody tr th:only-of-type {\n",
       "        vertical-align: middle;\n",
       "    }\n",
       "\n",
       "    .dataframe tbody tr th {\n",
       "        vertical-align: top;\n",
       "    }\n",
       "\n",
       "    .dataframe thead th {\n",
       "        text-align: right;\n",
       "    }\n",
       "</style>\n",
       "<table border=\"1\" class=\"dataframe\">\n",
       "  <thead>\n",
       "    <tr style=\"text-align: right;\">\n",
       "      <th></th>\n",
       "      <th>0</th>\n",
       "    </tr>\n",
       "  </thead>\n",
       "  <tbody>\n",
       "    <tr>\n",
       "      <th>0</th>\n",
       "      <td>0.005051</td>\n",
       "    </tr>\n",
       "    <tr>\n",
       "      <th>1</th>\n",
       "      <td>0.000258</td>\n",
       "    </tr>\n",
       "    <tr>\n",
       "      <th>2</th>\n",
       "      <td>0.007714</td>\n",
       "    </tr>\n",
       "    <tr>\n",
       "      <th>3</th>\n",
       "      <td>0.048378</td>\n",
       "    </tr>\n",
       "    <tr>\n",
       "      <th>4</th>\n",
       "      <td>0.150748</td>\n",
       "    </tr>\n",
       "    <tr>\n",
       "      <th>...</th>\n",
       "      <td>...</td>\n",
       "    </tr>\n",
       "    <tr>\n",
       "      <th>924616</th>\n",
       "      <td>0.003170</td>\n",
       "    </tr>\n",
       "    <tr>\n",
       "      <th>924617</th>\n",
       "      <td>0.137679</td>\n",
       "    </tr>\n",
       "    <tr>\n",
       "      <th>924618</th>\n",
       "      <td>0.094624</td>\n",
       "    </tr>\n",
       "    <tr>\n",
       "      <th>924619</th>\n",
       "      <td>0.057294</td>\n",
       "    </tr>\n",
       "    <tr>\n",
       "      <th>924620</th>\n",
       "      <td>0.011601</td>\n",
       "    </tr>\n",
       "  </tbody>\n",
       "</table>\n",
       "<p>924621 rows × 1 columns</p>\n",
       "</div>"
      ],
      "text/plain": [
       "               0\n",
       "0       0.005051\n",
       "1       0.000258\n",
       "2       0.007714\n",
       "3       0.048378\n",
       "4       0.150748\n",
       "...          ...\n",
       "924616  0.003170\n",
       "924617  0.137679\n",
       "924618  0.094624\n",
       "924619  0.057294\n",
       "924620  0.011601\n",
       "\n",
       "[924621 rows x 1 columns]"
      ]
     },
     "execution_count": 39,
     "metadata": {},
     "output_type": "execute_result"
    }
   ],
   "source": [
    "pd.DataFrame(np.where((v47['prediction'] > v71['prediction']), v47['prediction'] - v71['prediction'], v71['prediction'] - v47['prediction']))"
   ]
  },
  {
   "cell_type": "code",
   "execution_count": 40,
   "id": "dcbd5a02",
   "metadata": {
    "execution": {
     "iopub.execute_input": "2022-07-02T20:24:36.642449Z",
     "iopub.status.busy": "2022-07-02T20:24:36.642048Z",
     "iopub.status.idle": "2022-07-02T20:24:37.093519Z",
     "shell.execute_reply": "2022-07-02T20:24:37.092510Z"
    },
    "papermill": {
     "duration": 0.47623,
     "end_time": "2022-07-02T20:24:37.095634",
     "exception": false,
     "start_time": "2022-07-02T20:24:36.619404",
     "status": "completed"
    },
    "tags": []
   },
   "outputs": [
    {
     "data": {
      "image/png": "[encoded data removed]",
      "text/plain": [
       "<Figure size 432x288 with 1 Axes>"
      ]
     },
     "metadata": {
      "needs_background": "light"
     },
     "output_type": "display_data"
    }
   ],
   "source": [
    "plt.hist(pd.DataFrame(np.where((v47['prediction'] > v71['prediction']), v47['prediction'] - v71['prediction'], v71['prediction'] - v47['prediction'])), bins=100)\n",
    "plt.show()"
   ]
  },
  {
   "cell_type": "code",
   "execution_count": 41,
   "id": "a4c453a4",
   "metadata": {
    "execution": {
     "iopub.execute_input": "2022-07-02T20:24:37.143676Z",
     "iopub.status.busy": "2022-07-02T20:24:37.143064Z",
     "iopub.status.idle": "2022-07-02T20:24:37.594559Z",
     "shell.execute_reply": "2022-07-02T20:24:37.593497Z"
    },
    "papermill": {
     "duration": 0.479158,
     "end_time": "2022-07-02T20:24:37.596994",
     "exception": false,
     "start_time": "2022-07-02T20:24:37.117836",
     "status": "completed"
    },
    "tags": []
   },
   "outputs": [
    {
     "data": {
      "image/png": "[encoded data removed]",
      "text/plain": [
       "<Figure size 432x288 with 1 Axes>"
      ]
     },
     "metadata": {
      "needs_background": "light"
     },
     "output_type": "display_data"
    }
   ],
   "source": [
    "# PLOT PREDICTIONS\n",
    "plt.hist(blend_ss.prediction, bins=100)\n",
    "plt.title('Blend Test Predictions')\n",
    "plt.show()"
   ]
  },
  {
   "cell_type": "code",
   "execution_count": 42,
   "id": "9e2bad4a",
   "metadata": {
    "execution": {
     "iopub.execute_input": "2022-07-02T20:24:37.642361Z",
     "iopub.status.busy": "2022-07-02T20:24:37.642037Z",
     "iopub.status.idle": "2022-07-02T20:24:57.785212Z",
     "shell.execute_reply": "2022-07-02T20:24:57.784147Z"
    },
    "papermill": {
     "duration": 20.168553,
     "end_time": "2022-07-02T20:24:57.787874",
     "exception": false,
     "start_time": "2022-07-02T20:24:37.619321",
     "status": "completed"
    },
    "tags": []
   },
   "outputs": [],
   "source": [
    "train = pd.read_pickle(parent_dir + \"amex-agg-data-pickle/train_agg.pkl\", compression=\"gzip\")\n",
    "train = train.reset_index(level=0)"
   ]
  },
  {
   "cell_type": "code",
   "execution_count": 43,
   "id": "5a3aa93c",
   "metadata": {
    "execution": {
     "iopub.execute_input": "2022-07-02T20:24:57.833989Z",
     "iopub.status.busy": "2022-07-02T20:24:57.833621Z",
     "iopub.status.idle": "2022-07-02T20:24:58.412656Z",
     "shell.execute_reply": "2022-07-02T20:24:58.411656Z"
    },
    "papermill": {
     "duration": 0.605262,
     "end_time": "2022-07-02T20:24:58.415535",
     "exception": false,
     "start_time": "2022-07-02T20:24:57.810273",
     "status": "completed"
    },
    "tags": []
   },
   "outputs": [],
   "source": [
    "default_df = train.loc[train['target'] > 0]"
   ]
  }
 ],
 "metadata": {
  "kernelspec": {
   "display_name": "Python 3",
   "language": "python",
   "name": "python3"
  },
  "language_info": {
   "codemirror_mode": {
    "name": "ipython",
    "version": 3
   },
   "file_extension": ".py",
   "mimetype": "text/x-python",
   "name": "python",
   "nbconvert_exporter": "python",
   "pygments_lexer": "ipython3",
   "version": "3.7.12"
  },
  "papermill": {
   "default_parameters": {},
   "duration": 4849.247439,
   "end_time": "2022-07-02T20:24:59.871038",
   "environment_variables": {},
   "exception": null,
   "input_path": "__notebook__.ipynb",
   "output_path": "__notebook__.ipynb",
   "parameters": {},
   "start_time": "2022-07-02T19:04:10.623599",
   "version": "2.3.4"
  }
 },
 "nbformat": 4,
 "nbformat_minor": 5
}

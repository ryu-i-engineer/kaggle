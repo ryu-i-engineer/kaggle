{
  "cells": [
    {
      "cell_type": "markdown",
      "id": "ec8911a0",
      "metadata": {
        "papermill": {
          "duration": 0.009252,
          "end_time": "2022-07-15T16:13:27.338460",
          "exception": false,
          "start_time": "2022-07-15T16:13:27.329208",
          "status": "completed"
        },
        "tags": [],
        "id": "ec8911a0"
      },
      "source": [
        "# Prepare for colab"
      ]
    },
    {
      "cell_type": "code",
      "execution_count": 1,
      "id": "bad112fb",
      "metadata": {
        "execution": {
          "iopub.execute_input": "2022-07-15T16:13:27.400098Z",
          "iopub.status.busy": "2022-07-15T16:13:27.399391Z",
          "iopub.status.idle": "2022-07-15T16:13:27.403356Z",
          "shell.execute_reply": "2022-07-15T16:13:27.402606Z"
        },
        "papermill": {
          "duration": 0.015568,
          "end_time": "2022-07-15T16:13:27.405067",
          "exception": false,
          "start_time": "2022-07-15T16:13:27.389499",
          "status": "completed"
        },
        "tags": [],
        "id": "bad112fb",
        "outputId": "432b4618-211c-4682-b8a5-1deeec24a63e",
        "colab": {
          "base_uri": "https://localhost:8080/"
        }
      },
      "outputs": [
        {
          "output_type": "stream",
          "name": "stdout",
          "text": [
            "Looking in indexes: https://pypi.org/simple, https://us-python.pkg.dev/colab-wheels/public/simple/\n",
            "Collecting catboost\n",
            "  Downloading catboost-1.0.6-cp37-none-manylinux1_x86_64.whl (76.6 MB)\n",
            "\u001b[K     |████████████████████████████████| 76.6 MB 1.2 MB/s \n",
            "\u001b[?25hRequirement already satisfied: numpy>=1.16.0 in /usr/local/lib/python3.7/dist-packages (from catboost) (1.21.6)\n",
            "Requirement already satisfied: scipy in /usr/local/lib/python3.7/dist-packages (from catboost) (1.7.3)\n",
            "Requirement already satisfied: matplotlib in /usr/local/lib/python3.7/dist-packages (from catboost) (3.2.2)\n",
            "Requirement already satisfied: six in /usr/local/lib/python3.7/dist-packages (from catboost) (1.15.0)\n",
            "Requirement already satisfied: graphviz in /usr/local/lib/python3.7/dist-packages (from catboost) (0.10.1)\n",
            "Requirement already satisfied: pandas>=0.24.0 in /usr/local/lib/python3.7/dist-packages (from catboost) (1.3.5)\n",
            "Requirement already satisfied: plotly in /usr/local/lib/python3.7/dist-packages (from catboost) (5.5.0)\n",
            "Requirement already satisfied: python-dateutil>=2.7.3 in /usr/local/lib/python3.7/dist-packages (from pandas>=0.24.0->catboost) (2.8.2)\n",
            "Requirement already satisfied: pytz>=2017.3 in /usr/local/lib/python3.7/dist-packages (from pandas>=0.24.0->catboost) (2022.1)\n",
            "Requirement already satisfied: pyparsing!=2.0.4,!=2.1.2,!=2.1.6,>=2.0.1 in /usr/local/lib/python3.7/dist-packages (from matplotlib->catboost) (3.0.9)\n",
            "Requirement already satisfied: kiwisolver>=1.0.1 in /usr/local/lib/python3.7/dist-packages (from matplotlib->catboost) (1.4.4)\n",
            "Requirement already satisfied: cycler>=0.10 in /usr/local/lib/python3.7/dist-packages (from matplotlib->catboost) (0.11.0)\n",
            "Requirement already satisfied: typing-extensions in /usr/local/lib/python3.7/dist-packages (from kiwisolver>=1.0.1->matplotlib->catboost) (4.1.1)\n",
            "Requirement already satisfied: tenacity>=6.2.0 in /usr/local/lib/python3.7/dist-packages (from plotly->catboost) (8.0.1)\n",
            "Installing collected packages: catboost\n",
            "Successfully installed catboost-1.0.6\n",
            "Looking in indexes: https://pypi.org/simple, https://us-python.pkg.dev/colab-wheels/public/simple/\n",
            "Requirement already satisfied: kaggle in /usr/local/lib/python3.7/dist-packages (1.5.12)\n",
            "Requirement already satisfied: certifi in /usr/local/lib/python3.7/dist-packages (from kaggle) (2022.6.15)\n",
            "Requirement already satisfied: six>=1.10 in /usr/local/lib/python3.7/dist-packages (from kaggle) (1.15.0)\n",
            "Requirement already satisfied: python-slugify in /usr/local/lib/python3.7/dist-packages (from kaggle) (6.1.2)\n",
            "Requirement already satisfied: python-dateutil in /usr/local/lib/python3.7/dist-packages (from kaggle) (2.8.2)\n",
            "Requirement already satisfied: urllib3 in /usr/local/lib/python3.7/dist-packages (from kaggle) (1.24.3)\n",
            "Requirement already satisfied: requests in /usr/local/lib/python3.7/dist-packages (from kaggle) (2.23.0)\n",
            "Requirement already satisfied: tqdm in /usr/local/lib/python3.7/dist-packages (from kaggle) (4.64.0)\n",
            "Requirement already satisfied: text-unidecode>=1.3 in /usr/local/lib/python3.7/dist-packages (from python-slugify->kaggle) (1.3)\n",
            "Requirement already satisfied: idna<3,>=2.5 in /usr/local/lib/python3.7/dist-packages (from requests->kaggle) (2.10)\n",
            "Requirement already satisfied: chardet<4,>=3.0.2 in /usr/local/lib/python3.7/dist-packages (from requests->kaggle) (3.0.4)\n"
          ]
        }
      ],
      "source": [
        "!pip install catboost\n",
        "!pip install kaggle"
      ]
    },
    {
      "cell_type": "markdown",
      "id": "3fa90515",
      "metadata": {
        "papermill": {
          "duration": 0.008806,
          "end_time": "2022-07-15T16:13:27.422550",
          "exception": false,
          "start_time": "2022-07-15T16:13:27.413744",
          "status": "completed"
        },
        "tags": [],
        "id": "3fa90515"
      },
      "source": [
        "## Upload API Token"
      ]
    },
    {
      "cell_type": "code",
      "execution_count": 2,
      "id": "54e44e29",
      "metadata": {
        "execution": {
          "iopub.execute_input": "2022-07-15T16:13:27.442237Z",
          "iopub.status.busy": "2022-07-15T16:13:27.441555Z",
          "iopub.status.idle": "2022-07-15T16:13:27.448196Z",
          "shell.execute_reply": "2022-07-15T16:13:27.447549Z"
        },
        "papermill": {
          "duration": 0.01814,
          "end_time": "2022-07-15T16:13:27.449796",
          "exception": false,
          "start_time": "2022-07-15T16:13:27.431656",
          "status": "completed"
        },
        "tags": [],
        "id": "54e44e29",
        "outputId": "d1af042e-56cd-4328-f56c-6e265d4250d5",
        "colab": {
          "base_uri": "https://localhost:8080/"
        }
      },
      "outputs": [
        {
          "output_type": "stream",
          "name": "stdout",
          "text": [
            "Mounted at /content/drive\n"
          ]
        }
      ],
      "source": [
        "from google.colab import drive\n",
        "drive.mount('/content/drive')\n",
        "\n",
        "# Then move kaggle.json into the folder where the API expects to find it.\n",
        "!mkdir -p ~/.kaggle/ && cp /content/drive/MyDrive/backups/kaggle.json ~/.kaggle/ && chmod 600 ~/.kaggle/kaggle.json"
      ]
    },
    {
      "cell_type": "markdown",
      "id": "1abbc588",
      "metadata": {
        "papermill": {
          "duration": 0.008512,
          "end_time": "2022-07-15T16:13:27.467327",
          "exception": false,
          "start_time": "2022-07-15T16:13:27.458815",
          "status": "completed"
        },
        "tags": [],
        "id": "1abbc588"
      },
      "source": [
        "## Download and unzip dataset"
      ]
    },
    {
      "cell_type": "code",
      "execution_count": 3,
      "id": "c17f8dd7",
      "metadata": {
        "execution": {
          "iopub.execute_input": "2022-07-15T16:13:27.486038Z",
          "iopub.status.busy": "2022-07-15T16:13:27.485615Z",
          "iopub.status.idle": "2022-07-15T16:13:27.490276Z",
          "shell.execute_reply": "2022-07-15T16:13:27.489580Z"
        },
        "papermill": {
          "duration": 0.016071,
          "end_time": "2022-07-15T16:13:27.491993",
          "exception": false,
          "start_time": "2022-07-15T16:13:27.475922",
          "status": "completed"
        },
        "tags": [],
        "id": "c17f8dd7",
        "outputId": "56dcb8cd-92e6-4f24-c674-5f3998220518",
        "colab": {
          "base_uri": "https://localhost:8080/"
        }
      },
      "outputs": [
        {
          "output_type": "stream",
          "name": "stdout",
          "text": [
            "Downloading amex-fe-plus3.zip to /content\n",
            "100% 3.19G/3.21G [00:27<00:00, 106MB/s]\n",
            "100% 3.21G/3.21G [00:27<00:00, 125MB/s]\n",
            "Archive:  /content/amex-fe-plus3.zip\n",
            "  inflating: test_fe_plus_plus.parquet  \n",
            "  inflating: train_fe_plus_plus.parquet  \n"
          ]
        }
      ],
      "source": [
        "!kaggle datasets download -d ryuina/amex-fe-plus3\n",
        "!unzip /content/amex-fe-plus3.zip"
      ]
    },
    {
      "cell_type": "code",
      "execution_count": 4,
      "id": "e4df1701",
      "metadata": {
        "execution": {
          "iopub.execute_input": "2022-07-15T16:13:27.515341Z",
          "iopub.status.busy": "2022-07-15T16:13:27.514880Z",
          "iopub.status.idle": "2022-07-15T16:13:27.523654Z",
          "shell.execute_reply": "2022-07-15T16:13:27.522700Z"
        },
        "papermill": {
          "duration": 0.025128,
          "end_time": "2022-07-15T16:13:27.526436",
          "exception": false,
          "start_time": "2022-07-15T16:13:27.501308",
          "status": "completed"
        },
        "tags": [],
        "id": "e4df1701",
        "outputId": "ec8ca332-9193-4333-ff15-37f02894f210",
        "colab": {
          "base_uri": "https://localhost:8080/"
        }
      },
      "outputs": [
        {
          "output_type": "stream",
          "name": "stdout",
          "text": [
            "Downloading sample_submission.csv.zip to /content\n",
            " 31% 10.0M/32.4M [00:00<00:00, 39.3MB/s]\n",
            "100% 32.4M/32.4M [00:00<00:00, 99.6MB/s]\n",
            "Archive:  /content/sample_submission.csv.zip\n",
            "  inflating: sample_submission.csv   \n"
          ]
        }
      ],
      "source": [
        "!kaggle competitions download -c amex-default-prediction -f sample_submission.csv\n",
        "!unzip /content/sample_submission.csv.zip"
      ]
    },
    {
      "cell_type": "markdown",
      "id": "f4989bdc",
      "metadata": {
        "papermill": {
          "duration": 0.016438,
          "end_time": "2022-07-15T16:13:27.558017",
          "exception": false,
          "start_time": "2022-07-15T16:13:27.541579",
          "status": "completed"
        },
        "tags": [],
        "id": "f4989bdc"
      },
      "source": [
        "# Settings"
      ]
    },
    {
      "cell_type": "code",
      "execution_count": 5,
      "id": "95e00624",
      "metadata": {
        "_cell_guid": "b1076dfc-b9ad-4769-8c92-a6c4dae69d19",
        "_uuid": "8f2839f25d086af736a60e9eeb907d3b93b6e0e5",
        "execution": {
          "iopub.execute_input": "2022-07-15T16:13:27.588423Z",
          "iopub.status.busy": "2022-07-15T16:13:27.588075Z",
          "iopub.status.idle": "2022-07-15T16:13:28.957484Z",
          "shell.execute_reply": "2022-07-15T16:13:28.956421Z"
        },
        "papermill": {
          "duration": 1.38867,
          "end_time": "2022-07-15T16:13:28.960624",
          "exception": false,
          "start_time": "2022-07-15T16:13:27.571954",
          "status": "completed"
        },
        "tags": [],
        "id": "95e00624"
      },
      "outputs": [],
      "source": [
        "import pandas as pd\n",
        "import numpy as np\n",
        "import matplotlib.pyplot as plt\n",
        "import random\n",
        "\n",
        "from catboost import CatBoostClassifier, Pool\n",
        "from sklearn.preprocessing import LabelEncoder\n",
        "from sklearn.model_selection import KFold\n",
        "from tqdm import tqdm\n",
        "\n",
        "import os\n",
        "import gc; gc.enable()\n",
        "\n",
        "import warnings\n",
        "warnings.filterwarnings('ignore')"
      ]
    },
    {
      "cell_type": "code",
      "execution_count": 6,
      "id": "004febdf",
      "metadata": {
        "execution": {
          "iopub.execute_input": "2022-07-15T16:13:28.994650Z",
          "iopub.status.busy": "2022-07-15T16:13:28.994155Z",
          "iopub.status.idle": "2022-07-15T16:13:29.006339Z",
          "shell.execute_reply": "2022-07-15T16:13:29.002101Z"
        },
        "papermill": {
          "duration": 0.030433,
          "end_time": "2022-07-15T16:13:29.008239",
          "exception": false,
          "start_time": "2022-07-15T16:13:28.977806",
          "status": "completed"
        },
        "tags": [],
        "id": "004febdf"
      },
      "outputs": [],
      "source": [
        "VER=14\n",
        "SEED = 42\n",
        "FOLDS = 5\n",
        "\n",
        "cat_features = [\"B_30\", \"B_38\", \"D_114\", \"D_116\", \"D_117\", \"D_120\", \"D_126\", \"D_63\", \"D_64\", \"D_66\", \"D_68\"]\n",
        "\n",
        "def seed_everything(seed):\n",
        "    random.seed(seed)\n",
        "    np.random.seed(seed)\n",
        "    os.environ['PYTHONHASHSEED'] = str(seed)\n",
        "\n",
        "seed_everything(SEED)"
      ]
    },
    {
      "cell_type": "code",
      "execution_count": 7,
      "id": "c0e94a28",
      "metadata": {
        "execution": {
          "iopub.execute_input": "2022-07-15T16:13:29.093540Z",
          "iopub.status.busy": "2022-07-15T16:13:29.093091Z",
          "iopub.status.idle": "2022-07-15T16:14:14.382522Z",
          "shell.execute_reply": "2022-07-15T16:14:14.381643Z"
        },
        "papermill": {
          "duration": 45.307941,
          "end_time": "2022-07-15T16:14:14.385086",
          "exception": false,
          "start_time": "2022-07-15T16:13:29.077145",
          "status": "completed"
        },
        "tags": [],
        "id": "c0e94a28"
      },
      "outputs": [],
      "source": [
        "train = pd.read_parquet(\"/content/train_fe_plus_plus.parquet\")\n",
        "# train = train.reset_index(level=0)\n",
        "test = pd.read_parquet(\"/content/test_fe_plus_plus.parquet\")\n",
        "# test = test.reset_index(level=0)"
      ]
    },
    {
      "cell_type": "code",
      "execution_count": 8,
      "id": "81cbcbdf",
      "metadata": {
        "execution": {
          "iopub.execute_input": "2022-07-15T16:14:14.404618Z",
          "iopub.status.busy": "2022-07-15T16:14:14.404283Z",
          "iopub.status.idle": "2022-07-15T16:14:16.433273Z",
          "shell.execute_reply": "2022-07-15T16:14:16.432437Z"
        },
        "papermill": {
          "duration": 2.041229,
          "end_time": "2022-07-15T16:14:16.435648",
          "exception": false,
          "start_time": "2022-07-15T16:14:14.394419",
          "status": "completed"
        },
        "tags": [],
        "id": "81cbcbdf"
      },
      "outputs": [],
      "source": [
        "cat_features_last = [f\"{cf}_last\" for cf in cat_features]\n",
        "\n",
        "le_encoder = LabelEncoder()\n",
        "for categorical_feature in cat_features_last:\n",
        "    train[categorical_feature] = le_encoder.fit_transform(train[categorical_feature])\n",
        "    test[categorical_feature] = le_encoder.transform(test[categorical_feature])"
      ]
    },
    {
      "cell_type": "code",
      "execution_count": 9,
      "id": "b931bba5",
      "metadata": {
        "execution": {
          "iopub.execute_input": "2022-07-15T16:14:16.455441Z",
          "iopub.status.busy": "2022-07-15T16:14:16.455092Z",
          "iopub.status.idle": "2022-07-15T16:14:18.013098Z",
          "shell.execute_reply": "2022-07-15T16:14:18.012027Z"
        },
        "papermill": {
          "duration": 1.570551,
          "end_time": "2022-07-15T16:14:18.015521",
          "exception": false,
          "start_time": "2022-07-15T16:14:16.444970",
          "status": "completed"
        },
        "tags": [],
        "id": "b931bba5",
        "outputId": "3593a82d-f98c-43f7-d1b2-49157614e3ff",
        "colab": {
          "base_uri": "https://localhost:8080/"
        }
      },
      "outputs": [
        {
          "output_type": "stream",
          "name": "stderr",
          "text": [
            "100%|██████████| 1359/1359 [10:04<00:00,  2.25it/s]\n"
          ]
        }
      ],
      "source": [
        "# https://www.kaggle.com/code/ragnar123/amex-lgbm-dart-cv-0-7963\n",
        "# Round last float features to 2 decimal place\n",
        "float_cols = list(train.dtypes[(train.dtypes == 'float32') | (train.dtypes == 'float64')].index)\n",
        "float_cols = [col for col in float_cols if 'last' in col]\n",
        "\n",
        "for col in float_cols:\n",
        "    train[col + '_round2'] = train[col].round(2)\n",
        "    test[col + '_round2'] = test[col].round(2)\n",
        "\n",
        "num_cols = [col for col in train.columns if 'last' in col]\n",
        "num_cols = [col[:-5] for col in num_cols if 'round' not in col]\n",
        "for col in num_cols:\n",
        "    try:\n",
        "        # train[f'{col}_max-last'] = train[f'{col}_max'] - train[f'{col}_last']\n",
        "        # test[f'{col}_max-last'] = test[f'{col}_max'] - test[f'{col}_last']\n",
        "\n",
        "        # train[f'{col}_mean_min'] = train[f'{col}_mean'] - train[f'{col}_min']\n",
        "        # test[f'{col}_mean_min'] = test[f'{col}_mean'] - test[f'{col}_min']\n",
        "\n",
        "        train[f'{col}_last_mean'] = train[f'{col}_last'] - train[f'{col}_mean']\n",
        "        test[f'{col}_last_mean'] = test[f'{col}_last'] - test[f'{col}_mean']\n",
        "\n",
        "        # train[f'{col}_last_mean_div'] = train[f'{col}_last'] / train[f'{col}_mean']\n",
        "        # test[f'{col}_last_mean_div'] = test[f'{col}_last'] / test[f'{col}_mean']\n",
        "    except: pass\n",
        "\n",
        "num_cols = list(train.dtypes[(train.dtypes == 'float32') | (train.dtypes == 'float64')].index)\n",
        "for col in tqdm(num_cols):\n",
        "    train[col] = train[col].astype(np.float16)\n",
        "    test[col] = test[col].astype(np.float16)"
      ]
    },
    {
      "cell_type": "code",
      "execution_count": 10,
      "id": "ba13c62d",
      "metadata": {
        "execution": {
          "iopub.execute_input": "2022-07-15T16:14:18.035731Z",
          "iopub.status.busy": "2022-07-15T16:14:18.035409Z",
          "iopub.status.idle": "2022-07-15T16:14:24.212689Z",
          "shell.execute_reply": "2022-07-15T16:14:24.207569Z"
        },
        "papermill": {
          "duration": 6.191719,
          "end_time": "2022-07-15T16:14:24.216845",
          "exception": false,
          "start_time": "2022-07-15T16:14:18.025126",
          "status": "completed"
        },
        "tags": [],
        "id": "ba13c62d",
        "outputId": "13c6d1d8-4d9b-4c60-e9c4-85065d6fbcc0",
        "colab": {
          "base_uri": "https://localhost:8080/"
        }
      },
      "outputs": [
        {
          "output_type": "stream",
          "name": "stdout",
          "text": [
            "We have 1823 features!\n"
          ]
        }
      ],
      "source": [
        "train = train.set_index('customer_ID')\n",
        "train = train.sort_index().reset_index()\n",
        "FEATURES = train.drop(columns=['customer_ID', 'target']).columns\n",
        "\n",
        "print(f\"We have {len(FEATURES)} features!\")"
      ]
    },
    {
      "cell_type": "code",
      "execution_count": 11,
      "id": "f0ecff48",
      "metadata": {
        "execution": {
          "iopub.execute_input": "2022-07-15T16:14:24.269747Z",
          "iopub.status.busy": "2022-07-15T16:14:24.269149Z",
          "iopub.status.idle": "2022-07-15T16:14:24.287474Z",
          "shell.execute_reply": "2022-07-15T16:14:24.284982Z"
        },
        "papermill": {
          "duration": 0.043293,
          "end_time": "2022-07-15T16:14:24.290609",
          "exception": false,
          "start_time": "2022-07-15T16:14:24.247316",
          "status": "completed"
        },
        "tags": [],
        "id": "f0ecff48"
      },
      "outputs": [],
      "source": [
        "# https://www.kaggle.com/competitions/amex-default-prediction/discussion/328020\n",
        "# https://www.kaggle.com/code/rohanrao/amex-competition-metric-implementations\n",
        "def amex_metric_np(target: np.ndarray, preds: np.ndarray) -> float:\n",
        "    indices = np.argsort(preds)[::-1]\n",
        "    preds, target = preds[indices], target[indices]\n",
        "\n",
        "    n_pos = np.sum(target)\n",
        "    n_neg = target.shape[0] - n_pos\n",
        "    \n",
        "    weight = 20.0 - target * 19.0\n",
        "    cum_norm_weight = (weight * (1 / weight.sum())).cumsum()\n",
        "    four_pct_mask = cum_norm_weight <= 0.04\n",
        "    d = np.sum(target[four_pct_mask]) / n_pos\n",
        "    \n",
        "    lorentz = (target * (1 / n_pos)).cumsum()\n",
        "    gini = ((lorentz - cum_norm_weight) * weight).sum()\n",
        "    gini_max = 10 * n_neg * (1 - 19 / (n_pos + 20 * n_neg))\n",
        "\n",
        "    g = gini / gini_max\n",
        "\n",
        "    return 0.5 * (g + d)"
      ]
    },
    {
      "cell_type": "code",
      "execution_count": 12,
      "id": "155fb197",
      "metadata": {
        "execution": {
          "iopub.execute_input": "2022-07-15T16:14:24.334040Z",
          "iopub.status.busy": "2022-07-15T16:14:24.333456Z",
          "iopub.status.idle": "2022-07-15T16:14:24.341948Z",
          "shell.execute_reply": "2022-07-15T16:14:24.341087Z"
        },
        "papermill": {
          "duration": 0.030338,
          "end_time": "2022-07-15T16:14:24.346412",
          "exception": false,
          "start_time": "2022-07-15T16:14:24.316074",
          "status": "completed"
        },
        "tags": [],
        "id": "155fb197"
      },
      "outputs": [],
      "source": [
        "cat_params = {\n",
        "    'iterations':25000,\n",
        "    'random_state':SEED,\n",
        "    'learning_rate':0.02,\n",
        "\n",
        "    # 'depth': 4,\n",
        "    'max_depth': 7,\n",
        "    \"od_type\": 'Iter',\n",
        "    'l2_leaf_reg':70,\n",
        "    # 'one_hot_max_size':20,\n",
        "    # 'random_strength': 0.8,\n",
        "    # 'bagging_temperature': 8,\n",
        "\n",
        "    # 'num_leaves': 100,\n",
        "    'min_child_samples': 8,\n",
        "\n",
        "    'task_type':\"GPU\",\n",
        "    'border_count':128,\n",
        "}"
      ]
    },
    {
      "cell_type": "code",
      "execution_count": 13,
      "id": "72e0dac6",
      "metadata": {
        "execution": {
          "iopub.execute_input": "2022-07-15T16:14:24.385070Z",
          "iopub.status.busy": "2022-07-15T16:14:24.384608Z",
          "iopub.status.idle": "2022-07-15T16:48:45.264974Z",
          "shell.execute_reply": "2022-07-15T16:48:45.263500Z"
        },
        "papermill": {
          "duration": 2060.899656,
          "end_time": "2022-07-15T16:48:45.266833",
          "exception": false,
          "start_time": "2022-07-15T16:14:24.367177",
          "status": "completed"
        },
        "tags": [],
        "id": "72e0dac6",
        "outputId": "aad9d62e-39a9-4c67-ab19-07beab868307",
        "colab": {
          "base_uri": "https://localhost:8080/"
        }
      },
      "outputs": [
        {
          "output_type": "stream",
          "name": "stdout",
          "text": [
            "#########################\n",
            "### Fold 1\n",
            "### Train size 367130 Valid size 91783\n",
            "### Training with 100% fold data...\n",
            "#########################\n",
            "0:\tlearn: 0.6676619\ttest: 0.6676426\tbest: 0.6676426 (0)\ttotal: 94.3ms\tremaining: 39m 16s\n",
            "1000:\tlearn: 0.2139813\ttest: 0.2208262\tbest: 0.2208262 (1000)\ttotal: 1m 18s\tremaining: 31m 29s\n",
            "2000:\tlearn: 0.2069366\ttest: 0.2189151\tbest: 0.2189151 (2000)\ttotal: 2m 34s\tremaining: 29m 40s\n",
            "3000:\tlearn: 0.2016634\ttest: 0.2180954\tbest: 0.2180954 (3000)\ttotal: 3m 50s\tremaining: 28m 10s\n",
            "4000:\tlearn: 0.1970409\ttest: 0.2175867\tbest: 0.2175867 (4000)\ttotal: 5m 6s\tremaining: 26m 46s\n",
            "5000:\tlearn: 0.1926529\ttest: 0.2171749\tbest: 0.2171717 (4998)\ttotal: 6m 21s\tremaining: 25m 27s\n",
            "6000:\tlearn: 0.1885891\ttest: 0.2168626\tbest: 0.2168626 (6000)\ttotal: 7m 37s\tremaining: 24m 7s\n",
            "7000:\tlearn: 0.1847586\ttest: 0.2167178\tbest: 0.2167164 (6988)\ttotal: 8m 52s\tremaining: 22m 48s\n",
            "8000:\tlearn: 0.1808787\ttest: 0.2165507\tbest: 0.2165501 (7998)\ttotal: 10m 8s\tremaining: 21m 32s\n",
            "9000:\tlearn: 0.1771203\ttest: 0.2164292\tbest: 0.2164292 (9000)\ttotal: 11m 24s\tremaining: 20m 16s\n",
            "10000:\tlearn: 0.1735103\ttest: 0.2163275\tbest: 0.2163261 (9999)\ttotal: 12m 39s\tremaining: 18m 59s\n",
            "11000:\tlearn: 0.1698738\ttest: 0.2162349\tbest: 0.2162314 (10985)\ttotal: 13m 56s\tremaining: 17m 43s\n",
            "12000:\tlearn: 0.1664220\ttest: 0.2161704\tbest: 0.2161704 (12000)\ttotal: 15m 11s\tremaining: 16m 27s\n",
            "13000:\tlearn: 0.1630729\ttest: 0.2160644\tbest: 0.2160603 (12983)\ttotal: 16m 28s\tremaining: 15m 11s\n",
            "14000:\tlearn: 0.1597532\ttest: 0.2160231\tbest: 0.2160192 (13969)\ttotal: 17m 44s\tremaining: 13m 56s\n",
            "15000:\tlearn: 0.1565164\ttest: 0.2159915\tbest: 0.2159879 (14996)\ttotal: 19m\tremaining: 12m 40s\n",
            "16000:\tlearn: 0.1534291\ttest: 0.2160106\tbest: 0.2159745 (15313)\ttotal: 20m 16s\tremaining: 11m 24s\n",
            "bestTest = 0.2159745167\n",
            "bestIteration = 15313\n",
            "Shrink model to first 15314 iterations.\n",
            "Amex Metric = 0.7963859699071398 \n",
            "\n",
            "#########################\n",
            "### Fold 2\n",
            "### Train size 367130 Valid size 91783\n",
            "### Training with 100% fold data...\n",
            "#########################\n",
            "0:\tlearn: 0.6674061\ttest: 0.6674156\tbest: 0.6674156 (0)\ttotal: 86.2ms\tremaining: 35m 55s\n",
            "1000:\tlearn: 0.2139840\ttest: 0.2206754\tbest: 0.2206754 (1000)\ttotal: 1m 18s\tremaining: 31m 28s\n",
            "2000:\tlearn: 0.2070059\ttest: 0.2187085\tbest: 0.2187085 (2000)\ttotal: 2m 34s\tremaining: 29m 38s\n",
            "3000:\tlearn: 0.2015032\ttest: 0.2178188\tbest: 0.2178188 (3000)\ttotal: 3m 50s\tremaining: 28m 11s\n",
            "4000:\tlearn: 0.1966846\ttest: 0.2172812\tbest: 0.2172812 (4000)\ttotal: 5m 6s\tremaining: 26m 48s\n",
            "5000:\tlearn: 0.1924522\ttest: 0.2169180\tbest: 0.2169121 (4984)\ttotal: 6m 21s\tremaining: 25m 27s\n",
            "6000:\tlearn: 0.1883417\ttest: 0.2166871\tbest: 0.2166857 (5998)\ttotal: 7m 37s\tremaining: 24m 8s\n",
            "7000:\tlearn: 0.1845221\ttest: 0.2164648\tbest: 0.2164632 (6943)\ttotal: 8m 52s\tremaining: 22m 49s\n",
            "8000:\tlearn: 0.1807950\ttest: 0.2162469\tbest: 0.2162461 (7997)\ttotal: 10m 8s\tremaining: 21m 32s\n",
            "9000:\tlearn: 0.1770984\ttest: 0.2161263\tbest: 0.2161258 (8994)\ttotal: 11m 23s\tremaining: 20m 15s\n",
            "10000:\tlearn: 0.1733331\ttest: 0.2160173\tbest: 0.2160168 (9995)\ttotal: 12m 39s\tremaining: 18m 59s\n",
            "11000:\tlearn: 0.1698013\ttest: 0.2159100\tbest: 0.2159043 (10941)\ttotal: 13m 56s\tremaining: 17m 43s\n",
            "12000:\tlearn: 0.1665186\ttest: 0.2158114\tbest: 0.2158101 (11992)\ttotal: 15m 11s\tremaining: 16m 27s\n",
            "13000:\tlearn: 0.1631949\ttest: 0.2157700\tbest: 0.2157646 (12977)\ttotal: 16m 27s\tremaining: 15m 11s\n",
            "14000:\tlearn: 0.1599722\ttest: 0.2157599\tbest: 0.2157599 (14000)\ttotal: 17m 43s\tremaining: 13m 55s\n",
            "15000:\tlearn: 0.1567978\ttest: 0.2157608\tbest: 0.2157403 (14161)\ttotal: 18m 59s\tremaining: 12m 39s\n",
            "bestTest = 0.215740311\n",
            "bestIteration = 14161\n",
            "Shrink model to first 14162 iterations.\n",
            "Amex Metric = 0.7958663431473703 \n",
            "\n",
            "#########################\n",
            "### Fold 3\n",
            "### Train size 367130 Valid size 91783\n",
            "### Training with 100% fold data...\n",
            "#########################\n",
            "0:\tlearn: 0.6675192\ttest: 0.6674614\tbest: 0.6674614 (0)\ttotal: 85.7ms\tremaining: 35m 42s\n",
            "1000:\tlearn: 0.2146257\ttest: 0.2178056\tbest: 0.2178056 (1000)\ttotal: 1m 18s\tremaining: 31m 29s\n",
            "2000:\tlearn: 0.2074475\ttest: 0.2158002\tbest: 0.2158002 (2000)\ttotal: 2m 35s\tremaining: 29m 47s\n",
            "3000:\tlearn: 0.2022221\ttest: 0.2149398\tbest: 0.2149398 (3000)\ttotal: 3m 51s\tremaining: 28m 15s\n",
            "4000:\tlearn: 0.1975898\ttest: 0.2143858\tbest: 0.2143841 (3997)\ttotal: 5m 6s\tremaining: 26m 50s\n",
            "5000:\tlearn: 0.1934494\ttest: 0.2140394\tbest: 0.2140382 (4988)\ttotal: 6m 22s\tremaining: 25m 28s\n",
            "6000:\tlearn: 0.1895117\ttest: 0.2137441\tbest: 0.2137441 (6000)\ttotal: 7m 37s\tremaining: 24m 9s\n",
            "7000:\tlearn: 0.1856378\ttest: 0.2134616\tbest: 0.2134616 (7000)\ttotal: 8m 53s\tremaining: 22m 50s\n",
            "8000:\tlearn: 0.1817525\ttest: 0.2132920\tbest: 0.2132892 (7982)\ttotal: 10m 8s\tremaining: 21m 33s\n",
            "9000:\tlearn: 0.1783134\ttest: 0.2131349\tbest: 0.2131325 (8970)\ttotal: 11m 24s\tremaining: 20m 16s\n",
            "10000:\tlearn: 0.1748334\ttest: 0.2130079\tbest: 0.2130076 (9997)\ttotal: 12m 39s\tremaining: 18m 59s\n",
            "11000:\tlearn: 0.1713821\ttest: 0.2128449\tbest: 0.2128449 (11000)\ttotal: 13m 55s\tremaining: 17m 43s\n",
            "12000:\tlearn: 0.1680192\ttest: 0.2127227\tbest: 0.2127137 (11879)\ttotal: 15m 11s\tremaining: 16m 27s\n",
            "13000:\tlearn: 0.1647517\ttest: 0.2126367\tbest: 0.2126295 (12937)\ttotal: 16m 27s\tremaining: 15m 11s\n",
            "14000:\tlearn: 0.1615012\ttest: 0.2126037\tbest: 0.2126021 (13376)\ttotal: 17m 43s\tremaining: 13m 55s\n",
            "15000:\tlearn: 0.1583307\ttest: 0.2125633\tbest: 0.2125599 (14995)\ttotal: 18m 59s\tremaining: 12m 39s\n",
            "16000:\tlearn: 0.1551508\ttest: 0.2125686\tbest: 0.2125581 (15938)\ttotal: 20m 15s\tremaining: 11m 23s\n",
            "bestTest = 0.2125581067\n",
            "bestIteration = 15938\n",
            "Shrink model to first 15939 iterations.\n",
            "Amex Metric = 0.7991789719733146 \n",
            "\n",
            "#########################\n",
            "### Fold 4\n",
            "### Train size 367131 Valid size 91782\n",
            "### Training with 100% fold data...\n",
            "#########################\n",
            "0:\tlearn: 0.6671621\ttest: 0.6671753\tbest: 0.6671753 (0)\ttotal: 84.9ms\tremaining: 35m 21s\n",
            "1000:\tlearn: 0.2141624\ttest: 0.2209810\tbest: 0.2209810 (1000)\ttotal: 1m 19s\tremaining: 31m 42s\n",
            "2000:\tlearn: 0.2070776\ttest: 0.2188966\tbest: 0.2188966 (2000)\ttotal: 2m 36s\tremaining: 29m 57s\n",
            "3000:\tlearn: 0.2018419\ttest: 0.2180385\tbest: 0.2180372 (2996)\ttotal: 3m 52s\tremaining: 28m 27s\n",
            "4000:\tlearn: 0.1971780\ttest: 0.2175010\tbest: 0.2174999 (3995)\ttotal: 5m 9s\tremaining: 27m 1s\n",
            "5000:\tlearn: 0.1930235\ttest: 0.2171122\tbest: 0.2171120 (4999)\ttotal: 6m 25s\tremaining: 25m 39s\n",
            "6000:\tlearn: 0.1890258\ttest: 0.2168283\tbest: 0.2168282 (5998)\ttotal: 7m 41s\tremaining: 24m 19s\n",
            "7000:\tlearn: 0.1851850\ttest: 0.2165428\tbest: 0.2165428 (7000)\ttotal: 8m 57s\tremaining: 23m 1s\n",
            "8000:\tlearn: 0.1812958\ttest: 0.2163398\tbest: 0.2163394 (7999)\ttotal: 10m 13s\tremaining: 21m 43s\n",
            "9000:\tlearn: 0.1776289\ttest: 0.2161437\tbest: 0.2161437 (9000)\ttotal: 11m 29s\tremaining: 20m 26s\n",
            "10000:\tlearn: 0.1741415\ttest: 0.2160515\tbest: 0.2160515 (10000)\ttotal: 12m 46s\tremaining: 19m 9s\n",
            "11000:\tlearn: 0.1706020\ttest: 0.2159180\tbest: 0.2159132 (10981)\ttotal: 14m 2s\tremaining: 17m 52s\n",
            "12000:\tlearn: 0.1672607\ttest: 0.2158315\tbest: 0.2158296 (11989)\ttotal: 15m 19s\tremaining: 16m 35s\n",
            "13000:\tlearn: 0.1638945\ttest: 0.2157534\tbest: 0.2157515 (12997)\ttotal: 16m 35s\tremaining: 15m 18s\n",
            "14000:\tlearn: 0.1606067\ttest: 0.2157429\tbest: 0.2157254 (13824)\ttotal: 17m 52s\tremaining: 14m 2s\n",
            "bestTest = 0.2157254248\n",
            "bestIteration = 13824\n",
            "Shrink model to first 13825 iterations.\n",
            "Amex Metric = 0.7924125038218586 \n",
            "\n",
            "#########################\n",
            "### Fold 5\n",
            "### Train size 367131 Valid size 91782\n",
            "### Training with 100% fold data...\n",
            "#########################\n",
            "0:\tlearn: 0.6667457\ttest: 0.6668718\tbest: 0.6668718 (0)\ttotal: 85.1ms\tremaining: 35m 27s\n",
            "1000:\tlearn: 0.2137018\ttest: 0.2227453\tbest: 0.2227453 (1000)\ttotal: 1m 19s\tremaining: 31m 42s\n",
            "2000:\tlearn: 0.2064552\ttest: 0.2207139\tbest: 0.2207139 (2000)\ttotal: 2m 36s\tremaining: 30m\n",
            "3000:\tlearn: 0.2013944\ttest: 0.2198735\tbest: 0.2198735 (3000)\ttotal: 3m 52s\tremaining: 28m 25s\n",
            "4000:\tlearn: 0.1966679\ttest: 0.2193146\tbest: 0.2193145 (3999)\ttotal: 5m 8s\tremaining: 27m\n",
            "5000:\tlearn: 0.1924763\ttest: 0.2189355\tbest: 0.2189338 (4998)\ttotal: 6m 24s\tremaining: 25m 38s\n",
            "6000:\tlearn: 0.1885645\ttest: 0.2186553\tbest: 0.2186553 (6000)\ttotal: 7m 40s\tremaining: 24m 19s\n",
            "7000:\tlearn: 0.1846937\ttest: 0.2184343\tbest: 0.2184333 (6941)\ttotal: 8m 56s\tremaining: 22m 59s\n",
            "8000:\tlearn: 0.1808125\ttest: 0.2182226\tbest: 0.2182225 (7994)\ttotal: 10m 13s\tremaining: 21m 42s\n",
            "9000:\tlearn: 0.1770718\ttest: 0.2181210\tbest: 0.2181122 (8971)\ttotal: 11m 29s\tremaining: 20m 25s\n",
            "10000:\tlearn: 0.1735200\ttest: 0.2179561\tbest: 0.2179556 (9980)\ttotal: 12m 45s\tremaining: 19m 8s\n",
            "11000:\tlearn: 0.1699926\ttest: 0.2178393\tbest: 0.2178393 (11000)\ttotal: 14m 2s\tremaining: 17m 51s\n",
            "12000:\tlearn: 0.1665846\ttest: 0.2177680\tbest: 0.2177574 (11959)\ttotal: 15m 18s\tremaining: 16m 34s\n",
            "13000:\tlearn: 0.1632534\ttest: 0.2176753\tbest: 0.2176533 (12933)\ttotal: 16m 34s\tremaining: 15m 18s\n",
            "14000:\tlearn: 0.1598246\ttest: 0.2176074\tbest: 0.2176007 (13796)\ttotal: 17m 52s\tremaining: 14m 2s\n",
            "15000:\tlearn: 0.1566644\ttest: 0.2176245\tbest: 0.2175864 (14353)\ttotal: 19m 8s\tremaining: 12m 45s\n",
            "bestTest = 0.2175864285\n",
            "bestIteration = 14353\n",
            "Shrink model to first 14354 iterations.\n",
            "Amex Metric = 0.7950586929602477 \n",
            "\n",
            "#########################\n",
            "Overall Amex metric: 0.7956997633814031\n"
          ]
        }
      ],
      "source": [
        "importances = []\n",
        "oof = []\n",
        "gc.collect()\n",
        "\n",
        "clf = CatBoostClassifier(**cat_params)\n",
        "skf = KFold(n_splits=FOLDS, shuffle=True, random_state=SEED)\n",
        "for fold,(train_idx, valid_idx) in enumerate(skf.split(train, train.target)):\n",
        "    print('#'*25)\n",
        "    print('### Fold',fold+1)\n",
        "    print('### Train size',len(train_idx),'Valid size',len(valid_idx))\n",
        "    print(f'### Training with 100% fold data...')\n",
        "    print('#'*25)\n",
        "    \n",
        "    # TRAIN, VALID, TEST FOR FOLD K\n",
        "    X_train = train.loc[train_idx, FEATURES]\n",
        "    X_valid = train.target.iloc[train_idx]\n",
        "    y_train = train.loc[valid_idx, FEATURES]\n",
        "    y_valid = train.target.iloc[valid_idx]\n",
        "    \n",
        "    # TRAIN MODEL FOLD K\n",
        "    model = clf.fit(X_train,\n",
        "                    X_valid,\n",
        "                    cat_features=cat_features_last,\n",
        "                    eval_set=[(y_train, y_valid)],\n",
        "                    use_best_model=True,\n",
        "                    early_stopping_rounds=1000,\n",
        "                    verbose_eval=1000)\n",
        "    model.save_model(f'CAT_v{VER}_fold{fold}.cbm')\n",
        "    \n",
        "    # GET FEATURE IMPORTANCE FOR FOLD K\n",
        "    dd = model.feature_importances_\n",
        "    df = pd.DataFrame({'feature':FEATURES,f'importance_{fold}':dd})\n",
        "    importances.append(df)\n",
        "            \n",
        "    # INFER OOF FOLD K\n",
        "    oof_preds = model.predict_proba(y_train)[:, 1]\n",
        "    acc = amex_metric_np(y_valid.values, oof_preds)\n",
        "    print('Amex Metric =',acc,'\\n')\n",
        "\n",
        "    df = train.loc[valid_idx, ['customer_ID','target'] ].copy()\n",
        "    df['oof_preds'] = oof_preds\n",
        "    oof.append(df)\n",
        "    \n",
        "    del X_train, y_train, dd, df\n",
        "    del X_valid, y_valid, model\n",
        "    _ = gc.collect()\n",
        "    \n",
        "print('#'*25)\n",
        "oof = pd.concat(oof,axis=0,ignore_index=True).set_index('customer_ID')\n",
        "acc = amex_metric_np(oof.target.values, oof.oof_preds.values)\n",
        "print(f\"Overall Amex metric: {acc}\")"
      ]
    },
    {
      "cell_type": "code",
      "execution_count": 14,
      "id": "9382e3d0",
      "metadata": {
        "execution": {
          "iopub.execute_input": "2022-07-15T16:48:45.305370Z",
          "iopub.status.busy": "2022-07-15T16:48:45.304754Z",
          "iopub.status.idle": "2022-07-15T16:48:45.407975Z",
          "shell.execute_reply": "2022-07-15T16:48:45.407068Z"
        },
        "papermill": {
          "duration": 0.123941,
          "end_time": "2022-07-15T16:48:45.409679",
          "exception": false,
          "start_time": "2022-07-15T16:48:45.285738",
          "status": "completed"
        },
        "tags": [],
        "id": "9382e3d0"
      },
      "outputs": [],
      "source": [
        "del train\n",
        "_ = gc.collect()"
      ]
    },
    {
      "cell_type": "code",
      "execution_count": 15,
      "id": "3610c1b3",
      "metadata": {
        "execution": {
          "iopub.execute_input": "2022-07-15T16:48:45.448225Z",
          "iopub.status.busy": "2022-07-15T16:48:45.447584Z",
          "iopub.status.idle": "2022-07-15T16:48:45.488638Z",
          "shell.execute_reply": "2022-07-15T16:48:45.487878Z"
        },
        "papermill": {
          "duration": 0.06166,
          "end_time": "2022-07-15T16:48:45.490338",
          "exception": false,
          "start_time": "2022-07-15T16:48:45.428678",
          "status": "completed"
        },
        "scrolled": true,
        "tags": [],
        "id": "3610c1b3"
      },
      "outputs": [],
      "source": [
        "df = importances[0].copy()\n",
        "for k in range(1,FOLDS): df = df.merge(importances[k], on='feature', how='left')\n",
        "df['importance'] = df.iloc[:,1:].mean(axis=1, numeric_only=True)\n",
        "df = df.sort_values('importance',ascending=False)\n",
        "df.to_csv(f'cat_feature_importance_v{VER}.csv',index=False)"
      ]
    },
    {
      "cell_type": "code",
      "execution_count": 16,
      "id": "69357676",
      "metadata": {
        "execution": {
          "iopub.execute_input": "2022-07-15T16:48:45.527853Z",
          "iopub.status.busy": "2022-07-15T16:48:45.527216Z",
          "iopub.status.idle": "2022-07-15T16:48:45.823812Z",
          "shell.execute_reply": "2022-07-15T16:48:45.823089Z"
        },
        "papermill": {
          "duration": 0.317159,
          "end_time": "2022-07-15T16:48:45.825544",
          "exception": false,
          "start_time": "2022-07-15T16:48:45.508385",
          "status": "completed"
        },
        "tags": [],
        "id": "69357676",
        "outputId": "506343d2-06e3-4f01-bfe0-62fc9ffabc64",
        "colab": {
          "base_uri": "https://localhost:8080/",
          "height": 607
        }
      },
      "outputs": [
        {
          "output_type": "display_data",
          "data": {
            "text/plain": [
              "<Figure size 720x720 with 1 Axes>"
            ],
            "image/png": "[encoded data removed]"
          },
          "metadata": {
            "needs_background": "light"
          }
        }
      ],
      "source": [
        "NUM_FEATURES = 20\n",
        "plt.figure(figsize=(10,5*NUM_FEATURES//10))\n",
        "plt.barh(np.arange(NUM_FEATURES,0,-1), df.importance.values[:NUM_FEATURES])\n",
        "plt.yticks(np.arange(NUM_FEATURES,0,-1), df.feature.values[:NUM_FEATURES])\n",
        "plt.title(f'CAT Feature Importance - Top {NUM_FEATURES}')\n",
        "plt.show()"
      ]
    },
    {
      "cell_type": "markdown",
      "id": "bf46dad6",
      "metadata": {
        "papermill": {
          "duration": 0.018388,
          "end_time": "2022-07-15T16:48:45.862462",
          "exception": false,
          "start_time": "2022-07-15T16:48:45.844074",
          "status": "completed"
        },
        "tags": [],
        "id": "bf46dad6"
      },
      "source": [
        "# Test part"
      ]
    },
    {
      "cell_type": "code",
      "execution_count": 17,
      "id": "c28f1826",
      "metadata": {
        "execution": {
          "iopub.execute_input": "2022-07-15T16:48:45.901178Z",
          "iopub.status.busy": "2022-07-15T16:48:45.900848Z",
          "iopub.status.idle": "2022-07-15T16:48:45.907526Z",
          "shell.execute_reply": "2022-07-15T16:48:45.906709Z"
        },
        "papermill": {
          "duration": 0.027751,
          "end_time": "2022-07-15T16:48:45.909278",
          "exception": false,
          "start_time": "2022-07-15T16:48:45.881527",
          "status": "completed"
        },
        "tags": [],
        "id": "c28f1826"
      },
      "outputs": [],
      "source": [
        "# CALCULATE SIZE OF EACH SEPARATE TEST PART\n",
        "def get_rows(customers, test, NUM_PARTS = 4, verbose = ''):\n",
        "    chunk = len(customers)//NUM_PARTS\n",
        "    if verbose != '':\n",
        "        print(f'We will process {verbose} data as {NUM_PARTS} separate parts.')\n",
        "        print(f'There will be {chunk} customers in each part (except the last part).')\n",
        "        print('Below are number of rows in each part:')\n",
        "    rows = []\n",
        "\n",
        "    for k in range(NUM_PARTS):\n",
        "        if k==NUM_PARTS-1: cc = customers[k*chunk:]\n",
        "        else: cc = customers[k*chunk:(k+1)*chunk]\n",
        "        s = test.loc[test.customer_ID.isin(cc)].shape[0]\n",
        "        rows.append(s)\n",
        "    if verbose != '': print( rows )\n",
        "    return rows,chunk"
      ]
    },
    {
      "cell_type": "code",
      "execution_count": 18,
      "id": "8c7e70c5",
      "metadata": {
        "execution": {
          "iopub.execute_input": "2022-07-15T16:48:45.947705Z",
          "iopub.status.busy": "2022-07-15T16:48:45.947377Z",
          "iopub.status.idle": "2022-07-15T16:48:47.039525Z",
          "shell.execute_reply": "2022-07-15T16:48:47.038640Z"
        },
        "papermill": {
          "duration": 1.113806,
          "end_time": "2022-07-15T16:48:47.041416",
          "exception": false,
          "start_time": "2022-07-15T16:48:45.927610",
          "status": "completed"
        },
        "tags": [],
        "id": "8c7e70c5",
        "outputId": "49f8397a-2d91-411b-913a-83d097b526d8",
        "colab": {
          "base_uri": "https://localhost:8080/"
        }
      },
      "outputs": [
        {
          "output_type": "stream",
          "name": "stdout",
          "text": [
            "We will process test data as 4 separate parts.\n",
            "There will be 231155 customers in each part (except the last part).\n",
            "Below are number of rows in each part:\n",
            "[231155, 231155, 231155, 231156]\n"
          ]
        }
      ],
      "source": [
        "# COMPUTE SIZE OF 4 PARTS FOR TEST DATA\n",
        "NUM_PARTS = 4\n",
        "\n",
        "customers = test[['customer_ID']].drop_duplicates().sort_index().values.flatten()\n",
        "rows,num_cust = get_rows(customers, test[['customer_ID']], NUM_PARTS = NUM_PARTS, verbose = 'test')"
      ]
    },
    {
      "cell_type": "code",
      "execution_count": 19,
      "id": "9cf53fd3",
      "metadata": {
        "execution": {
          "iopub.execute_input": "2022-07-15T16:48:47.081924Z",
          "iopub.status.busy": "2022-07-15T16:48:47.081615Z",
          "iopub.status.idle": "2022-07-15T16:50:55.407348Z",
          "shell.execute_reply": "2022-07-15T16:50:55.406352Z"
        },
        "papermill": {
          "duration": 128.349422,
          "end_time": "2022-07-15T16:50:55.410249",
          "exception": false,
          "start_time": "2022-07-15T16:48:47.060827",
          "status": "completed"
        },
        "tags": [],
        "id": "9cf53fd3",
        "outputId": "c985def0-ac2e-4d94-c60c-19f9db70cce3",
        "colab": {
          "base_uri": "https://localhost:8080/"
        }
      },
      "outputs": [
        {
          "output_type": "stream",
          "name": "stdout",
          "text": [
            "\n",
            "Reading test data...\n",
            "=> Test part 1 has shape (231155, 1823)\n",
            "\n",
            "Reading test data...\n",
            "=> Test part 2 has shape (231155, 1823)\n",
            "\n",
            "Reading test data...\n",
            "=> Test part 3 has shape (231155, 1823)\n",
            "\n",
            "Reading test data...\n",
            "=> Test part 4 has shape (231156, 1823)\n"
          ]
        }
      ],
      "source": [
        "# INFER TEST DATA IN PARTS\n",
        "skip_rows = 0\n",
        "skip_cust = 0\n",
        "test_preds = []\n",
        "\n",
        "for k in range(NUM_PARTS):\n",
        "    # READ PART OF TEST DATA\n",
        "    print(f'\\nReading test data...')\n",
        "    test_copy = test.iloc[skip_rows:skip_rows+rows[k]].copy()\n",
        "    test_copy = test_copy.set_index('customer_ID')\n",
        "    skip_rows += rows[k]\n",
        "    print(f'=> Test part {k+1} has shape', test_copy.shape )\n",
        "    \n",
        "    # PROCESS AND FEATURE ENGINEER PART OF TEST DATA\n",
        "    if k==NUM_PARTS-1: test_copy = test_copy.loc[customers[skip_cust:]]\n",
        "    else: test_copy = test_copy.loc[customers[skip_cust:skip_cust+num_cust]]\n",
        "    skip_cust += num_cust\n",
        "        \n",
        "    # INFER XGB MODELS ON TEST DATA\n",
        "    model = CatBoostClassifier(**cat_params)\n",
        "    model.load_model(f'CAT_v{VER}_fold0.cbm')\n",
        "    preds = model.predict_proba(test_copy)[:, 1]\n",
        "    for f in range(1,FOLDS):\n",
        "        model.load_model(f'CAT_v{VER}_fold{f}.cbm')\n",
        "        preds += model.predict_proba(test_copy)[:, 1]\n",
        "    preds /= FOLDS\n",
        "    test_preds.append(preds)\n",
        "\n",
        "    # CLEAN MEMORY\n",
        "    del test_copy, model\n",
        "    _ = gc.collect()\n",
        "\n",
        "del test\n",
        "_ = gc.collect()"
      ]
    },
    {
      "cell_type": "markdown",
      "id": "02259545",
      "metadata": {
        "papermill": {
          "duration": 0.067515,
          "end_time": "2022-07-15T16:50:55.538577",
          "exception": false,
          "start_time": "2022-07-15T16:50:55.471062",
          "status": "completed"
        },
        "tags": [],
        "id": "02259545"
      },
      "source": [
        "# Submit"
      ]
    },
    {
      "cell_type": "code",
      "execution_count": 20,
      "id": "00d908fd",
      "metadata": {
        "execution": {
          "iopub.execute_input": "2022-07-15T16:50:55.628196Z",
          "iopub.status.busy": "2022-07-15T16:50:55.627855Z",
          "iopub.status.idle": "2022-07-15T16:51:02.864876Z",
          "shell.execute_reply": "2022-07-15T16:51:02.864114Z"
        },
        "papermill": {
          "duration": 7.268354,
          "end_time": "2022-07-15T16:51:02.866646",
          "exception": false,
          "start_time": "2022-07-15T16:50:55.598292",
          "status": "completed"
        },
        "tags": [],
        "id": "00d908fd",
        "outputId": "3eef89ab-e91c-4a40-fefa-02ec3f294bbd",
        "colab": {
          "base_uri": "https://localhost:8080/",
          "height": 224
        }
      },
      "outputs": [
        {
          "output_type": "stream",
          "name": "stdout",
          "text": [
            "Submission file shape is (924621, 2)\n"
          ]
        },
        {
          "output_type": "execute_result",
          "data": {
            "text/plain": [
              "                                         customer_ID  prediction\n",
              "0  00000469ba478561f23a92a868bd366de6f6527a684c9a...    0.019413\n",
              "1  00001bf2e77ff879fab36aa4fac689b9ba411dae63ae39...    0.001159\n",
              "2  0000210045da4f81e5f122c6bde5c2a617d03eef67f82c...    0.038182\n",
              "3  00003b41e58ede33b8daf61ab56d9952f17c9ad1c3976c...    0.234104\n",
              "4  00004b22eaeeeb0ec976890c1d9bfc14fd9427e98c4ee9...    0.886082"
            ],
            "text/html": [
              "\n",
              "  <div id=\"df-1ef1486f-ebd5-47f2-b86e-f31333ce9638\">\n",
              "    <div class=\"colab-df-container\">\n",
              "      <div>\n",
              "<style scoped>\n",
              "    .dataframe tbody tr th:only-of-type {\n",
              "        vertical-align: middle;\n",
              "    }\n",
              "\n",
              "    .dataframe tbody tr th {\n",
              "        vertical-align: top;\n",
              "    }\n",
              "\n",
              "    .dataframe thead th {\n",
              "        text-align: right;\n",
              "    }\n",
              "</style>\n",
              "<table border=\"1\" class=\"dataframe\">\n",
              "  <thead>\n",
              "    <tr style=\"text-align: right;\">\n",
              "      <th></th>\n",
              "      <th>customer_ID</th>\n",
              "      <th>prediction</th>\n",
              "    </tr>\n",
              "  </thead>\n",
              "  <tbody>\n",
              "    <tr>\n",
              "      <th>0</th>\n",
              "      <td>00000469ba478561f23a92a868bd366de6f6527a684c9a...</td>\n",
              "      <td>0.019413</td>\n",
              "    </tr>\n",
              "    <tr>\n",
              "      <th>1</th>\n",
              "      <td>00001bf2e77ff879fab36aa4fac689b9ba411dae63ae39...</td>\n",
              "      <td>0.001159</td>\n",
              "    </tr>\n",
              "    <tr>\n",
              "      <th>2</th>\n",
              "      <td>0000210045da4f81e5f122c6bde5c2a617d03eef67f82c...</td>\n",
              "      <td>0.038182</td>\n",
              "    </tr>\n",
              "    <tr>\n",
              "      <th>3</th>\n",
              "      <td>00003b41e58ede33b8daf61ab56d9952f17c9ad1c3976c...</td>\n",
              "      <td>0.234104</td>\n",
              "    </tr>\n",
              "    <tr>\n",
              "      <th>4</th>\n",
              "      <td>00004b22eaeeeb0ec976890c1d9bfc14fd9427e98c4ee9...</td>\n",
              "      <td>0.886082</td>\n",
              "    </tr>\n",
              "  </tbody>\n",
              "</table>\n",
              "</div>\n",
              "      <button class=\"colab-df-convert\" onclick=\"convertToInteractive('df-1ef1486f-ebd5-47f2-b86e-f31333ce9638')\"\n",
              "              title=\"Convert this dataframe to an interactive table.\"\n",
              "              style=\"display:none;\">\n",
              "        \n",
              "  <svg xmlns=\"http://www.w3.org/2000/svg\" height=\"24px\"viewBox=\"0 0 24 24\"\n",
              "       width=\"24px\">\n",
              "    <path d=\"M0 0h24v24H0V0z\" fill=\"none\"/>\n",
              "    <path d=\"M18.56 5.44l.94 2.06.94-2.06 2.06-.94-2.06-.94-.94-2.06-.94 2.06-2.06.94zm-11 1L8.5 8.5l.94-2.06 2.06-.94-2.06-.94L8.5 2.5l-.94 2.06-2.06.94zm10 10l.94 2.06.94-2.06 2.06-.94-2.06-.94-.94-2.06-.94 2.06-2.06.94z\"/><path d=\"M17.41 7.96l-1.37-1.37c-.4-.4-.92-.59-1.43-.59-.52 0-1.04.2-1.43.59L10.3 9.45l-7.72 7.72c-.78.78-.78 2.05 0 2.83L4 21.41c.39.39.9.59 1.41.59.51 0 1.02-.2 1.41-.59l7.78-7.78 2.81-2.81c.8-.78.8-2.07 0-2.86zM5.41 20L4 18.59l7.72-7.72 1.47 1.35L5.41 20z\"/>\n",
              "  </svg>\n",
              "      </button>\n",
              "      \n",
              "  <style>\n",
              "    .colab-df-container {\n",
              "      display:flex;\n",
              "      flex-wrap:wrap;\n",
              "      gap: 12px;\n",
              "    }\n",
              "\n",
              "    .colab-df-convert {\n",
              "      background-color: #E8F0FE;\n",
              "      border: none;\n",
              "      border-radius: 50%;\n",
              "      cursor: pointer;\n",
              "      display: none;\n",
              "      fill: #1967D2;\n",
              "      height: 32px;\n",
              "      padding: 0 0 0 0;\n",
              "      width: 32px;\n",
              "    }\n",
              "\n",
              "    .colab-df-convert:hover {\n",
              "      background-color: #E2EBFA;\n",
              "      box-shadow: 0px 1px 2px rgba(60, 64, 67, 0.3), 0px 1px 3px 1px rgba(60, 64, 67, 0.15);\n",
              "      fill: #174EA6;\n",
              "    }\n",
              "\n",
              "    [theme=dark] .colab-df-convert {\n",
              "      background-color: #3B4455;\n",
              "      fill: #D2E3FC;\n",
              "    }\n",
              "\n",
              "    [theme=dark] .colab-df-convert:hover {\n",
              "      background-color: #434B5C;\n",
              "      box-shadow: 0px 1px 3px 1px rgba(0, 0, 0, 0.15);\n",
              "      filter: drop-shadow(0px 1px 2px rgba(0, 0, 0, 0.3));\n",
              "      fill: #FFFFFF;\n",
              "    }\n",
              "  </style>\n",
              "\n",
              "      <script>\n",
              "        const buttonEl =\n",
              "          document.querySelector('#df-1ef1486f-ebd5-47f2-b86e-f31333ce9638 button.colab-df-convert');\n",
              "        buttonEl.style.display =\n",
              "          google.colab.kernel.accessAllowed ? 'block' : 'none';\n",
              "\n",
              "        async function convertToInteractive(key) {\n",
              "          const element = document.querySelector('#df-1ef1486f-ebd5-47f2-b86e-f31333ce9638');\n",
              "          const dataTable =\n",
              "            await google.colab.kernel.invokeFunction('convertToInteractive',\n",
              "                                                     [key], {});\n",
              "          if (!dataTable) return;\n",
              "\n",
              "          const docLinkHtml = 'Like what you see? Visit the ' +\n",
              "            '<a target=\"_blank\" href=https://colab.research.google.com/notebooks/data_table.ipynb>data table notebook</a>'\n",
              "            + ' to learn more about interactive tables.';\n",
              "          element.innerHTML = '';\n",
              "          dataTable['output_type'] = 'display_data';\n",
              "          await google.colab.output.renderOutput(dataTable, element);\n",
              "          const docLink = document.createElement('div');\n",
              "          docLink.innerHTML = docLinkHtml;\n",
              "          element.appendChild(docLink);\n",
              "        }\n",
              "      </script>\n",
              "    </div>\n",
              "  </div>\n",
              "  "
            ]
          },
          "metadata": {},
          "execution_count": 20
        }
      ],
      "source": [
        "# WRITE SUBMISSION FILE\n",
        "test = pd.DataFrame(index=customers,data={'prediction': np.concatenate(test_preds)})\n",
        "sub = pd.read_csv('/content/sample_submission.csv')[['customer_ID']]\n",
        "sub['customer_ID_hash'] = sub['customer_ID'].copy()\n",
        "sub = sub.set_index('customer_ID_hash')\n",
        "sub = sub.merge(test[['prediction']], left_index=True, right_index=True, how='left')\n",
        "sub = sub.reset_index(drop=True)\n",
        "\n",
        "# DISPLAY PREDICTIONS\n",
        "sub.to_csv(f'submission_cat_v{VER}_seed{SEED}_fold{FOLDS}.csv',index=False)\n",
        "print('Submission file shape is', sub.shape )\n",
        "sub.head()"
      ]
    },
    {
      "cell_type": "code",
      "execution_count": 21,
      "id": "533e5941",
      "metadata": {
        "execution": {
          "iopub.execute_input": "2022-07-15T16:51:02.918871Z",
          "iopub.status.busy": "2022-07-15T16:51:02.918494Z",
          "iopub.status.idle": "2022-07-15T16:51:03.267833Z",
          "shell.execute_reply": "2022-07-15T16:51:03.266949Z"
        },
        "papermill": {
          "duration": 0.374502,
          "end_time": "2022-07-15T16:51:03.269960",
          "exception": false,
          "start_time": "2022-07-15T16:51:02.895458",
          "status": "completed"
        },
        "tags": [],
        "id": "533e5941",
        "outputId": "10710f3a-8722-4dc6-8cc2-f386842af0eb",
        "colab": {
          "base_uri": "https://localhost:8080/",
          "height": 281
        }
      },
      "outputs": [
        {
          "output_type": "display_data",
          "data": {
            "text/plain": [
              "<Figure size 432x288 with 1 Axes>"
            ],
            "image/png": "[encoded data removed]"
          },
          "metadata": {
            "needs_background": "light"
          }
        }
      ],
      "source": [
        "# PLOT PREDICTIONS\n",
        "plt.hist(sub.prediction, bins=100)\n",
        "plt.title('Test Predictions')\n",
        "plt.show()"
      ]
    },
    {
      "cell_type": "markdown",
      "id": "802623f7",
      "metadata": {
        "papermill": {
          "duration": 0.042841,
          "end_time": "2022-07-15T16:51:28.477165",
          "exception": false,
          "start_time": "2022-07-15T16:51:28.434324",
          "status": "completed"
        },
        "tags": [],
        "id": "802623f7"
      },
      "source": [
        "# Submit to Kaggle from Colab"
      ]
    },
    {
      "cell_type": "code",
      "execution_count": 24,
      "id": "efc54970",
      "metadata": {
        "execution": {
          "iopub.execute_input": "2022-07-15T16:51:28.552420Z",
          "iopub.status.busy": "2022-07-15T16:51:28.551829Z",
          "iopub.status.idle": "2022-07-15T16:51:28.557906Z",
          "shell.execute_reply": "2022-07-15T16:51:28.557166Z"
        },
        "papermill": {
          "duration": 0.048007,
          "end_time": "2022-07-15T16:51:28.561880",
          "exception": false,
          "start_time": "2022-07-15T16:51:28.513873",
          "status": "completed"
        },
        "tags": [],
        "id": "efc54970",
        "outputId": "56cf5e50-c24f-4e76-9ac2-40ab0d78e06c",
        "colab": {
          "base_uri": "https://localhost:8080/"
        }
      },
      "outputs": [
        {
          "output_type": "stream",
          "name": "stdout",
          "text": [
            "100% 75.3M/75.3M [00:05<00:00, 13.7MB/s]\n",
            "Successfully submitted to American Express - Default Prediction"
          ]
        }
      ],
      "source": [
        "# Submit\n",
        "!kaggle competitions submit -c amex-default-prediction -f submission_cat_v14_seed42_fold5.csv -m \"Run with bruto force and last - mean, last / mean\""
      ]
    },
    {
      "cell_type": "code",
      "execution_count": 26,
      "id": "aad5cc1a",
      "metadata": {
        "execution": {
          "iopub.execute_input": "2022-07-15T16:51:28.636400Z",
          "iopub.status.busy": "2022-07-15T16:51:28.635706Z",
          "iopub.status.idle": "2022-07-15T16:51:28.643060Z",
          "shell.execute_reply": "2022-07-15T16:51:28.640501Z"
        },
        "papermill": {
          "duration": 0.04911,
          "end_time": "2022-07-15T16:51:28.647823",
          "exception": false,
          "start_time": "2022-07-15T16:51:28.598713",
          "status": "completed"
        },
        "tags": [],
        "id": "aad5cc1a",
        "outputId": "c70ef66d-2843-4d6b-ba5c-46bb183a53e1",
        "colab": {
          "base_uri": "https://localhost:8080/"
        }
      },
      "outputs": [
        {
          "output_type": "stream",
          "name": "stdout",
          "text": [
            "fileName                             date                 description                                                       status    publicScore  privateScore  \n",
            "-----------------------------------  -------------------  ----------------------------------------------------------------  --------  -----------  ------------  \n",
            "submission_cat_v14_seed42_fold5.csv  2022-08-17 02:55:14  Run with bruto force and last - mean, last / mean                 complete  0.797                      \n",
            "Amex Default Prediction - Ensemble   2022-08-16 16:08:14  Notebook Amex Default Prediction - Ensemble | Version 77          complete  0.799                      \n",
            "Amex Default Prediction - Ensemble   2022-08-16 16:03:22  Notebook Amex Default Prediction - Ensemble | Version 76          complete  0.799                      \n",
            "submission_xgb_v14_seed42_fold5.csv  2022-08-16 15:51:17  Run with Risk binaries seed 42 fold 5                             complete  0.795                      \n",
            "submission_xgb_v13_seed42_fold5.csv  2022-08-16 12:59:14  Run with Risk binaries seed 42 fold 5                             complete  0.796                      \n",
            "submission_xgb_v12_seed42_fold5.csv  2022-08-16 09:56:54  Run with Risk binaries seed 42 fold 5                             complete  0.795                      \n",
            "Amex Default Prediction - Ensemble   2022-08-15 17:51:16  Notebook Amex Default Prediction - Ensemble | Version 75          complete  0.799                      \n",
            "Amex Default Prediction - Ensemble   2022-08-15 11:08:02  Notebook Amex Default Prediction - Ensemble | Version 73          complete  0.799                      \n",
            "Amex Default Prediction - Ensemble   2022-08-15 11:02:07  Notebook Amex Default Prediction - Ensemble | Version 72          complete  0.799                      \n",
            "Amex Default Prediction - Ensemble   2022-08-15 10:58:37  Notebook Amex Default Prediction - Ensemble | Version 71          complete  0.799                      \n",
            "Amex Default Prediction - Ensemble   2022-08-15 10:55:23  Notebook Amex Default Prediction - Ensemble | Version 70          complete  0.799                      \n",
            "Amex Default Prediction - Ensemble   2022-08-14 12:27:35  Notebook Amex Default Prediction - Ensemble | Version 69          complete  0.799                      \n",
            "Amex Default Prediction - Ensemble   2022-08-14 12:24:14  Notebook Amex Default Prediction - Ensemble | Version 68          complete  0.799                      \n",
            "Amex Default Prediction - Ensemble   2022-08-14 12:21:24  Notebook Amex Default Prediction - Ensemble | Version 67          complete  0.799                      \n",
            "Amex Default Prediction - Ensemble   2022-08-14 12:19:34  Notebook Amex Default Prediction - Ensemble | Version 66          complete  0.798                      \n",
            "Amex Default Prediction - Ensemble   2022-08-13 00:28:10  Notebook Amex Default Prediction - Ensemble | Version 65          complete  0.799                      \n",
            "Amex Default Prediction - Ensemble   2022-08-12 12:22:03  Notebook Amex Default Prediction - Ensemble | Version 64          complete  0.799                      \n",
            "Amex Default Prediction - Ensemble   2022-08-12 12:19:59  Notebook Amex Default Prediction - Ensemble | Version 63          complete  0.799                      \n",
            "submission_lgb_v1_seed42_fold5.csv   2022-08-12 12:11:04  the first version. fe lag plus seed 52 fold 5 From colab          complete  0.798                      \n",
            "submission_lgb_v1_seed42_fold5.csv   2022-08-12 12:10:30  the first version. fe lag plus seed 52 fold 5 From colab          complete  0.798                      \n",
            "submission_cat_v10_seed42_fold5.csv  2022-08-12 07:08:01  Run with bruto force and last - mean, last / mean                 complete  0.796                      \n",
            "submission_xgb_v11_seed42_fold5.csv  2022-08-11 18:37:49  Run with Risk binaries seed 42 fold 5                             complete  0.796                      \n",
            "Amex Default Prediction - Ensemble   2022-08-10 11:28:13  Notebook Amex Default Prediction - Ensemble | Version 62          complete  0.799                      \n",
            "Amex Default Prediction - Ensemble   2022-08-10 11:17:44  Notebook Amex Default Prediction - Ensemble | Version 61          complete  0.799                      \n",
            "Amex Default Prediction - Ensemble   2022-08-10 11:13:39  Notebook Amex Default Prediction - Ensemble | Version 60          complete  0.798                      \n",
            "Amex Default Prediction - Ensemble   2022-08-10 02:06:53  Notebook Amex Default Prediction - Ensemble | Version 58          complete  0.799                      \n",
            "Amex Default Prediction - Ensemble   2022-08-10 02:06:16  Notebook Amex Default Prediction - Ensemble | Version 59          complete  0.799                      \n",
            "Amex Default Prediction - Ensemble   2022-08-09 13:35:30  Notebook Amex Default Prediction - Ensemble | Version 57          complete  0.799                      \n",
            "Amex Default Prediction - Ensemble   2022-08-09 13:28:07  Notebook Amex Default Prediction - Ensemble | Version 56          complete  0.799                      \n",
            "Amex Default Prediction - Ensemble   2022-08-09 13:25:48  Notebook Amex Default Prediction - Ensemble | Version 55          complete  0.799                      \n",
            "submission_lgb_v1_seed42_fold5.csv   2022-08-09 13:14:51  the first version. fe lag plus seed 52 fold 5 From colab          complete  0.798                      \n",
            "submission_cat_v10_seed42_fold5.csv  2022-08-09 12:40:49  Run with bruto force and last - mean, last / mean                 complete  0.796                      \n",
            "Amex Default Prediction - Ensemble   2022-08-08 15:19:46  Notebook Amex Default Prediction - Ensemble | Version 54          complete  0.799                      \n",
            "Amex Default Prediction - Ensemble   2022-08-08 15:17:44  Notebook Amex Default Prediction - Ensemble | Version 53          complete  0.799                      \n",
            "submission_xgb_v10_seed42_fold5.csv  2022-08-08 13:34:01  Run with bruto-force and last - min and max -last seed 42 fold 5  complete  0.796                      \n",
            "submission_xgb_v10_seed42_fold5.csv  2022-08-08 11:25:33  Run with bruto-force and last - min and max -last seed 42 fold 5  complete  0.796                      \n",
            "Amex Default Prediction - Ensemble   2022-08-08 09:16:13  Notebook Amex Default Prediction - Ensemble | Version 52          complete  0.799                      \n",
            "Amex Default Prediction - Ensemble   2022-08-07 10:06:52  Notebook Amex Default Prediction - Ensemble | Version 51          complete  0.799                      \n",
            "Amex Default Prediction - Ensemble   2022-08-07 10:01:11  Notebook Amex Default Prediction - Ensemble | Version 50          complete  0.799                      \n",
            "Amex Default Prediction - Ensemble   2022-08-07 04:25:29  Notebook Amex Default Prediction - Ensemble | Version 49          complete  0.799                      \n",
            "Amex Default Prediction - Ensemble   2022-08-07 04:22:24  Notebook Amex Default Prediction - Ensemble | Version 48          complete  0.799                      \n",
            "Amex Default Prediction - Ensemble   2022-08-07 04:18:56  Notebook Amex Default Prediction - Ensemble | Version 47          complete  0.798                      \n",
            "Amex Default Prediction - Ensemble   2022-08-05 11:27:36  Notebook Amex Default Prediction - Ensemble | Version 46          complete  0.799                      \n",
            "Amex Default Prediction - Ensemble   2022-08-05 11:23:37  Notebook Amex Default Prediction - Ensemble | Version 45          complete  0.799                      \n",
            "Amex Default Prediction - Ensemble   2022-08-04 15:16:57  Notebook Amex Default Prediction - Ensemble | Version 44          complete  0.799                      \n",
            "Amex Default Prediction - Ensemble   2022-08-04 14:56:04  Notebook Amex Default Prediction - Ensemble | Version 43          complete  0.799                      \n",
            "Amex Default Prediction - Ensemble   2022-08-04 14:53:27  Notebook Amex Default Prediction - Ensemble | Version 42          complete  0.799                      \n",
            "submission_cat_v9_seed42_fold5.csv   2022-08-04 14:26:40  Run with max - last                                               complete  0.796                      \n",
            "submission_lgb_v1_seed42_fold5.csv   2022-08-04 14:14:31  the first version. fe lag plus seed 52 fold 5 From colab          complete  0.798                      \n",
            "Amex Default Prediction - Ensemble   2022-08-03 11:51:07  Notebook Amex Default Prediction - Ensemble | Version 40          complete  0.799                      \n"
          ]
        }
      ],
      "source": [
        "# Run after few seconds\n",
        "!kaggle competitions submissions amex-default-prediction"
      ]
    }
  ],
  "metadata": {
    "kernelspec": {
      "display_name": "Python 3",
      "language": "python",
      "name": "python3"
    },
    "language_info": {
      "codemirror_mode": {
        "name": "ipython",
        "version": 3
      },
      "file_extension": ".py",
      "mimetype": "text/x-python",
      "name": "python",
      "nbconvert_exporter": "python",
      "pygments_lexer": "ipython3",
      "version": "3.7.12"
    },
    "papermill": {
      "default_parameters": {},
      "duration": 2291.105208,
      "end_time": "2022-07-15T16:51:29.695242",
      "environment_variables": {},
      "exception": null,
      "input_path": "__notebook__.ipynb",
      "output_path": "__notebook__.ipynb",
      "parameters": {},
      "start_time": "2022-07-15T16:13:18.590034",
      "version": "2.3.4"
    },
    "colab": {
      "name": "amex-default-prediction-with-cat.ipynb",
      "provenance": [],
      "machine_shape": "hm"
    },
    "accelerator": "GPU",
    "gpuClass": "standard"
  },
  "nbformat": 4,
  "nbformat_minor": 5
}
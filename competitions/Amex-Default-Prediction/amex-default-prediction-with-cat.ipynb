{
 "cells": [
  {
   "cell_type": "markdown",
   "id": "477e4fd8",
   "metadata": {
    "papermill": {
     "duration": 0.010918,
     "end_time": "2022-07-10T09:24:12.524637",
     "exception": false,
     "start_time": "2022-07-10T09:24:12.513719",
     "status": "completed"
    },
    "tags": []
   },
   "source": [
    "# Get env info"
   ]
  },
  {
   "cell_type": "code",
   "execution_count": 1,
   "id": "c5b3a66d",
   "metadata": {
    "execution": {
     "iopub.execute_input": "2022-07-10T09:24:12.544695Z",
     "iopub.status.busy": "2022-07-10T09:24:12.543985Z",
     "iopub.status.idle": "2022-07-10T09:24:12.555178Z",
     "shell.execute_reply": "2022-07-10T09:24:12.554512Z"
    },
    "papermill": {
     "duration": 0.023264,
     "end_time": "2022-07-10T09:24:12.556913",
     "exception": false,
     "start_time": "2022-07-10T09:24:12.533649",
     "status": "completed"
    },
    "tags": []
   },
   "outputs": [],
   "source": [
    "import os\n",
    "is_env_colab = True\n",
    "\n",
    "if \"kaggle\" in os.path.abspath(\".\"):\n",
    "    is_env_colab = False"
   ]
  },
  {
   "cell_type": "markdown",
   "id": "883d24fd",
   "metadata": {
    "papermill": {
     "duration": 0.008677,
     "end_time": "2022-07-10T09:24:12.575200",
     "exception": false,
     "start_time": "2022-07-10T09:24:12.566523",
     "status": "completed"
    },
    "tags": []
   },
   "source": [
    "# Prepare for colab"
   ]
  },
  {
   "cell_type": "code",
   "execution_count": 2,
   "id": "a6911f87",
   "metadata": {
    "execution": {
     "iopub.execute_input": "2022-07-10T09:24:12.594806Z",
     "iopub.status.busy": "2022-07-10T09:24:12.594087Z",
     "iopub.status.idle": "2022-07-10T09:24:12.598564Z",
     "shell.execute_reply": "2022-07-10T09:24:12.597764Z"
    },
    "papermill": {
     "duration": 0.015832,
     "end_time": "2022-07-10T09:24:12.600198",
     "exception": false,
     "start_time": "2022-07-10T09:24:12.584366",
     "status": "completed"
    },
    "tags": []
   },
   "outputs": [],
   "source": [
    "if is_env_colab:\n",
    "    !pip install catboost"
   ]
  },
  {
   "cell_type": "markdown",
   "id": "08559aa3",
   "metadata": {
    "papermill": {
     "duration": 0.009016,
     "end_time": "2022-07-10T09:24:12.618390",
     "exception": false,
     "start_time": "2022-07-10T09:24:12.609374",
     "status": "completed"
    },
    "tags": []
   },
   "source": [
    "# Kaggle Set up"
   ]
  },
  {
   "cell_type": "code",
   "execution_count": 3,
   "id": "879b3e69",
   "metadata": {
    "execution": {
     "iopub.execute_input": "2022-07-10T09:24:12.638032Z",
     "iopub.status.busy": "2022-07-10T09:24:12.637410Z",
     "iopub.status.idle": "2022-07-10T09:24:12.641172Z",
     "shell.execute_reply": "2022-07-10T09:24:12.640489Z"
    },
    "papermill": {
     "duration": 0.015283,
     "end_time": "2022-07-10T09:24:12.642871",
     "exception": false,
     "start_time": "2022-07-10T09:24:12.627588",
     "status": "completed"
    },
    "tags": []
   },
   "outputs": [],
   "source": [
    "if is_env_colab:\n",
    "    !pip install kaggle"
   ]
  },
  {
   "cell_type": "markdown",
   "id": "5b6c9ad7",
   "metadata": {
    "papermill": {
     "duration": 0.009148,
     "end_time": "2022-07-10T09:24:12.661082",
     "exception": false,
     "start_time": "2022-07-10T09:24:12.651934",
     "status": "completed"
    },
    "tags": []
   },
   "source": [
    "## Upload API Token"
   ]
  },
  {
   "cell_type": "code",
   "execution_count": 4,
   "id": "d41364ae",
   "metadata": {
    "execution": {
     "iopub.execute_input": "2022-07-10T09:24:12.680621Z",
     "iopub.status.busy": "2022-07-10T09:24:12.680352Z",
     "iopub.status.idle": "2022-07-10T09:24:12.687385Z",
     "shell.execute_reply": "2022-07-10T09:24:12.686428Z"
    },
    "papermill": {
     "duration": 0.018906,
     "end_time": "2022-07-10T09:24:12.689128",
     "exception": false,
     "start_time": "2022-07-10T09:24:12.670222",
     "status": "completed"
    },
    "tags": []
   },
   "outputs": [],
   "source": [
    "if is_env_colab:\n",
    "    from google.colab import files\n",
    "\n",
    "    uploaded = files.upload()\n",
    "\n",
    "    for fn in uploaded.keys():\n",
    "      print('User uploaded file \"{name}\" with length {length} bytes'.format(\n",
    "          name=fn, length=len(uploaded[fn])))\n",
    "\n",
    "    # Then move kaggle.json into the folder where the API expects to find it.\n",
    "    !mkdir -p ~/.kaggle/ && mv kaggle.json ~/.kaggle/ && chmod 600 ~/.kaggle/kaggle.json"
   ]
  },
  {
   "cell_type": "markdown",
   "id": "2999bd76",
   "metadata": {
    "papermill": {
     "duration": 0.008863,
     "end_time": "2022-07-10T09:24:12.707375",
     "exception": false,
     "start_time": "2022-07-10T09:24:12.698512",
     "status": "completed"
    },
    "tags": []
   },
   "source": [
    "## Download and unzip dataset"
   ]
  },
  {
   "cell_type": "code",
   "execution_count": 5,
   "id": "e775bd2b",
   "metadata": {
    "execution": {
     "iopub.execute_input": "2022-07-10T09:24:12.727650Z",
     "iopub.status.busy": "2022-07-10T09:24:12.727101Z",
     "iopub.status.idle": "2022-07-10T09:24:12.732001Z",
     "shell.execute_reply": "2022-07-10T09:24:12.731294Z"
    },
    "papermill": {
     "duration": 0.016647,
     "end_time": "2022-07-10T09:24:12.733788",
     "exception": false,
     "start_time": "2022-07-10T09:24:12.717141",
     "status": "completed"
    },
    "tags": []
   },
   "outputs": [],
   "source": [
    "if is_env_colab:\n",
    "    !kaggle datasets download -d huseyincot/amex-agg-data-pickle\n",
    "    !unzip /content/amex-agg-data-pickle.zip"
   ]
  },
  {
   "cell_type": "code",
   "execution_count": 6,
   "id": "52ee74ed",
   "metadata": {
    "execution": {
     "iopub.execute_input": "2022-07-10T09:24:12.753527Z",
     "iopub.status.busy": "2022-07-10T09:24:12.752875Z",
     "iopub.status.idle": "2022-07-10T09:24:12.757748Z",
     "shell.execute_reply": "2022-07-10T09:24:12.757031Z"
    },
    "papermill": {
     "duration": 0.016414,
     "end_time": "2022-07-10T09:24:12.759485",
     "exception": false,
     "start_time": "2022-07-10T09:24:12.743071",
     "status": "completed"
    },
    "tags": []
   },
   "outputs": [],
   "source": [
    "if is_env_colab:\n",
    "    !kaggle competitions download -c amex-default-prediction -f sample_submission.csv\n",
    "    !unzip /content/sample_submission.csv.zip"
   ]
  },
  {
   "cell_type": "markdown",
   "id": "19674690",
   "metadata": {
    "papermill": {
     "duration": 0.009018,
     "end_time": "2022-07-10T09:24:12.777615",
     "exception": false,
     "start_time": "2022-07-10T09:24:12.768597",
     "status": "completed"
    },
    "tags": []
   },
   "source": [
    "# Settings"
   ]
  },
  {
   "cell_type": "code",
   "execution_count": 7,
   "id": "6ce6e882",
   "metadata": {
    "_cell_guid": "b1076dfc-b9ad-4769-8c92-a6c4dae69d19",
    "_uuid": "8f2839f25d086af736a60e9eeb907d3b93b6e0e5",
    "execution": {
     "iopub.execute_input": "2022-07-10T09:24:12.797506Z",
     "iopub.status.busy": "2022-07-10T09:24:12.796778Z",
     "iopub.status.idle": "2022-07-10T09:24:14.214208Z",
     "shell.execute_reply": "2022-07-10T09:24:14.213182Z"
    },
    "papermill": {
     "duration": 1.429624,
     "end_time": "2022-07-10T09:24:14.216412",
     "exception": false,
     "start_time": "2022-07-10T09:24:12.786788",
     "status": "completed"
    },
    "tags": []
   },
   "outputs": [],
   "source": [
    "import pandas as pd\n",
    "import numpy as np\n",
    "import matplotlib.pyplot as plt\n",
    "import random\n",
    "\n",
    "from catboost import CatBoostClassifier, Pool\n",
    "from sklearn.preprocessing import LabelEncoder\n",
    "from sklearn.model_selection import KFold\n",
    "\n",
    "import os\n",
    "import gc; gc.enable()\n",
    "\n",
    "import warnings\n",
    "warnings.filterwarnings('ignore')"
   ]
  },
  {
   "cell_type": "code",
   "execution_count": 8,
   "id": "18f7b5e8",
   "metadata": {
    "execution": {
     "iopub.execute_input": "2022-07-10T09:24:14.235355Z",
     "iopub.status.busy": "2022-07-10T09:24:14.235076Z",
     "iopub.status.idle": "2022-07-10T09:24:14.241885Z",
     "shell.execute_reply": "2022-07-10T09:24:14.240671Z"
    },
    "papermill": {
     "duration": 0.020844,
     "end_time": "2022-07-10T09:24:14.246318",
     "exception": false,
     "start_time": "2022-07-10T09:24:14.225474",
     "status": "completed"
    },
    "tags": []
   },
   "outputs": [],
   "source": [
    "VER=1\n",
    "SEED = 52\n",
    "FOLDS = 5\n",
    "\n",
    "cat_features = [\"B_30\", \"B_38\", \"D_114\", \"D_116\", \"D_117\", \"D_120\", \"D_126\", \"D_63\", \"D_64\", \"D_66\", \"D_68\"]\n",
    "\n",
    "def seed_everything(seed):\n",
    "    random.seed(seed)\n",
    "    np.random.seed(seed)\n",
    "    os.environ['PYTHONHASHSEED'] = str(seed)\n",
    "\n",
    "seed_everything(SEED)"
   ]
  },
  {
   "cell_type": "code",
   "execution_count": 9,
   "id": "f6106f0c",
   "metadata": {
    "execution": {
     "iopub.execute_input": "2022-07-10T09:24:14.282740Z",
     "iopub.status.busy": "2022-07-10T09:24:14.282398Z",
     "iopub.status.idle": "2022-07-10T09:24:14.289629Z",
     "shell.execute_reply": "2022-07-10T09:24:14.287769Z"
    },
    "papermill": {
     "duration": 0.026792,
     "end_time": "2022-07-10T09:24:14.295117",
     "exception": false,
     "start_time": "2022-07-10T09:24:14.268325",
     "status": "completed"
    },
    "tags": []
   },
   "outputs": [],
   "source": [
    "parent_dir = \"../input/\"\n",
    "if is_env_colab:\n",
    "    parent_dir = \"/content/\"    "
   ]
  },
  {
   "cell_type": "code",
   "execution_count": 10,
   "id": "a180c330",
   "metadata": {
    "execution": {
     "iopub.execute_input": "2022-07-10T09:24:14.327912Z",
     "iopub.status.busy": "2022-07-10T09:24:14.327549Z",
     "iopub.status.idle": "2022-07-10T09:25:16.458810Z",
     "shell.execute_reply": "2022-07-10T09:25:16.457811Z"
    },
    "papermill": {
     "duration": 62.148706,
     "end_time": "2022-07-10T09:25:16.461218",
     "exception": false,
     "start_time": "2022-07-10T09:24:14.312512",
     "status": "completed"
    },
    "tags": []
   },
   "outputs": [],
   "source": [
    "train = pd.read_pickle(parent_dir + \"amexdefaultpickleincludemedian/train_agg.pkl\", compression=\"gzip\")\n",
    "# train = train.reset_index(level=0)\n",
    "\n",
    "test = pd.read_pickle(parent_dir + \"amexdefaultpickleincludemedian/test.pkl\", compression=\"gzip\")\n",
    "# test = test.reset_index(level=0)\n",
    "\n",
    "# train = pd.read_pickle(parent_dir + \"amex-agg-data-pickle/train_agg.pkl\", compression=\"gzip\")\n",
    "# test = pd.read_pickle(parent_dir + \"amex-agg-data-pickle/test_agg.pkl\", compression=\"gzip\")"
   ]
  },
  {
   "cell_type": "code",
   "execution_count": 11,
   "id": "d7068b0c",
   "metadata": {
    "execution": {
     "iopub.execute_input": "2022-07-10T09:25:16.482170Z",
     "iopub.status.busy": "2022-07-10T09:25:16.481851Z",
     "iopub.status.idle": "2022-07-10T09:25:24.159399Z",
     "shell.execute_reply": "2022-07-10T09:25:24.158454Z"
    },
    "papermill": {
     "duration": 7.690793,
     "end_time": "2022-07-10T09:25:24.161880",
     "exception": false,
     "start_time": "2022-07-10T09:25:16.471087",
     "status": "completed"
    },
    "tags": []
   },
   "outputs": [],
   "source": [
    "cat_features_last = [f\"{cf}_last\" for cf in cat_features]\n",
    "\n",
    "le_encoder = LabelEncoder()\n",
    "for categorical_feature in cat_features_last:\n",
    "    train[categorical_feature] = le_encoder.fit_transform(train[categorical_feature])\n",
    "    test[categorical_feature] = le_encoder.transform(test[categorical_feature])"
   ]
  },
  {
   "cell_type": "code",
   "execution_count": 12,
   "id": "9252c3ae",
   "metadata": {
    "execution": {
     "iopub.execute_input": "2022-07-10T09:25:24.182306Z",
     "iopub.status.busy": "2022-07-10T09:25:24.182007Z",
     "iopub.status.idle": "2022-07-10T09:25:40.369305Z",
     "shell.execute_reply": "2022-07-10T09:25:40.368376Z"
    },
    "papermill": {
     "duration": 16.19974,
     "end_time": "2022-07-10T09:25:40.371587",
     "exception": false,
     "start_time": "2022-07-10T09:25:24.171847",
     "status": "completed"
    },
    "tags": []
   },
   "outputs": [],
   "source": [
    "# https://www.kaggle.com/code/ragnar123/amex-lgbm-dart-cv-0-7963\n",
    "# Round last float features to 2 decimal place\n",
    "float_cols = list(train.dtypes[(train.dtypes == 'float16') | (train.dtypes == 'float32') | (train.dtypes == 'float64')].index)\n",
    "float_cols = [col for col in float_cols if 'last' in col]\n",
    "\n",
    "train[float_cols] = train[float_cols].round(3)\n",
    "test[float_cols] = test[float_cols].round(3)"
   ]
  },
  {
   "cell_type": "code",
   "execution_count": 13,
   "id": "6ee32a7e",
   "metadata": {
    "execution": {
     "iopub.execute_input": "2022-07-10T09:25:40.392435Z",
     "iopub.status.busy": "2022-07-10T09:25:40.391675Z",
     "iopub.status.idle": "2022-07-10T09:25:45.095325Z",
     "shell.execute_reply": "2022-07-10T09:25:45.094511Z"
    },
    "papermill": {
     "duration": 4.715993,
     "end_time": "2022-07-10T09:25:45.097397",
     "exception": false,
     "start_time": "2022-07-10T09:25:40.381404",
     "status": "completed"
    },
    "tags": []
   },
   "outputs": [],
   "source": [
    "train = train.set_index('customer_ID')\n",
    "train = train.sort_index().reset_index()\n",
    "FEATURES = train.drop(columns=['customer_ID', 'target']).columns"
   ]
  },
  {
   "cell_type": "code",
   "execution_count": 14,
   "id": "dd772d26",
   "metadata": {
    "execution": {
     "iopub.execute_input": "2022-07-10T09:25:45.118234Z",
     "iopub.status.busy": "2022-07-10T09:25:45.117372Z",
     "iopub.status.idle": "2022-07-10T09:25:45.126020Z",
     "shell.execute_reply": "2022-07-10T09:25:45.125300Z"
    },
    "papermill": {
     "duration": 0.020718,
     "end_time": "2022-07-10T09:25:45.127732",
     "exception": false,
     "start_time": "2022-07-10T09:25:45.107014",
     "status": "completed"
    },
    "tags": []
   },
   "outputs": [],
   "source": [
    "# https://www.kaggle.com/competitions/amex-default-prediction/discussion/328020\n",
    "# https://www.kaggle.com/code/rohanrao/amex-competition-metric-implementations\n",
    "def amex_metric_np(target: np.ndarray, preds: np.ndarray) -> float:\n",
    "    indices = np.argsort(preds)[::-1]\n",
    "    preds, target = preds[indices], target[indices]\n",
    "\n",
    "    n_pos = np.sum(target)\n",
    "    n_neg = target.shape[0] - n_pos\n",
    "    \n",
    "    weight = 20.0 - target * 19.0\n",
    "    cum_norm_weight = (weight * (1 / weight.sum())).cumsum()\n",
    "    four_pct_mask = cum_norm_weight <= 0.04\n",
    "    d = np.sum(target[four_pct_mask]) / n_pos\n",
    "    \n",
    "    lorentz = (target * (1 / n_pos)).cumsum()\n",
    "    gini = ((lorentz - cum_norm_weight) * weight).sum()\n",
    "    gini_max = 10 * n_neg * (1 - 19 / (n_pos + 20 * n_neg))\n",
    "\n",
    "    g = gini / gini_max\n",
    "\n",
    "    return 0.5 * (g + d)"
   ]
  },
  {
   "cell_type": "code",
   "execution_count": 15,
   "id": "7cbe1715",
   "metadata": {
    "execution": {
     "iopub.execute_input": "2022-07-10T09:25:45.146341Z",
     "iopub.status.busy": "2022-07-10T09:25:45.146076Z",
     "iopub.status.idle": "2022-07-10T09:25:45.150530Z",
     "shell.execute_reply": "2022-07-10T09:25:45.149766Z"
    },
    "papermill": {
     "duration": 0.015646,
     "end_time": "2022-07-10T09:25:45.152346",
     "exception": false,
     "start_time": "2022-07-10T09:25:45.136700",
     "status": "completed"
    },
    "tags": []
   },
   "outputs": [],
   "source": [
    "cat_params = {\n",
    "    'iterations':26000,\n",
    "    'random_state':SEED,\n",
    "    'learning_rate':0.02,\n",
    "    \n",
    "    'depth': 8,\n",
    "    'l2_leaf_reg':28.0,\n",
    "    'one_hot_max_size':70,\n",
    "    'random_strength': 0.5,\n",
    "    'bagging_temperature': 0.75,\n",
    "    'task_type':\"GPU\",\n",
    "    'border_count':128,\n",
    "}"
   ]
  },
  {
   "cell_type": "code",
   "execution_count": 16,
   "id": "3b075874",
   "metadata": {
    "execution": {
     "iopub.execute_input": "2022-07-10T09:25:45.171755Z",
     "iopub.status.busy": "2022-07-10T09:25:45.171135Z",
     "iopub.status.idle": "2022-07-10T10:20:02.878528Z",
     "shell.execute_reply": "2022-07-10T10:20:02.877357Z"
    },
    "papermill": {
     "duration": 3257.720122,
     "end_time": "2022-07-10T10:20:02.881325",
     "exception": false,
     "start_time": "2022-07-10T09:25:45.161203",
     "status": "completed"
    },
    "tags": []
   },
   "outputs": [
    {
     "name": "stdout",
     "output_type": "stream",
     "text": [
      "#########################\n",
      "### Fold 1\n",
      "### Train size 367130 Valid size 91783\n",
      "### Training with 100% fold data...\n",
      "#########################\n",
      "0:\tlearn: 0.6657826\ttest: 0.6657816\tbest: 0.6657816 (0)\ttotal: 67.1ms\tremaining: 29m 3s\n",
      "500:\tlearn: 0.2176137\ttest: 0.2226207\tbest: 0.2226207 (500)\ttotal: 27.5s\tremaining: 23m 21s\n",
      "1000:\tlearn: 0.2087328\ttest: 0.2195924\tbest: 0.2195924 (1000)\ttotal: 54.2s\tremaining: 22m 32s\n",
      "1500:\tlearn: 0.2019620\ttest: 0.2184860\tbest: 0.2184860 (1500)\ttotal: 1m 21s\tremaining: 22m 5s\n",
      "2000:\tlearn: 0.1956491\ttest: 0.2177975\tbest: 0.2177970 (1999)\ttotal: 1m 49s\tremaining: 21m 48s\n",
      "2500:\tlearn: 0.1899384\ttest: 0.2173941\tbest: 0.2173927 (2497)\ttotal: 2m 15s\tremaining: 21m 10s\n",
      "3000:\tlearn: 0.1844948\ttest: 0.2171122\tbest: 0.2171122 (3000)\ttotal: 2m 42s\tremaining: 20m 45s\n",
      "3500:\tlearn: 0.1792454\ttest: 0.2169200\tbest: 0.2169200 (3500)\ttotal: 3m 9s\tremaining: 20m 18s\n",
      "4000:\tlearn: 0.1742184\ttest: 0.2167870\tbest: 0.2167764 (3953)\ttotal: 3m 36s\tremaining: 19m 52s\n",
      "4500:\tlearn: 0.1693034\ttest: 0.2166354\tbest: 0.2166350 (4473)\ttotal: 4m 4s\tremaining: 19m 26s\n",
      "5000:\tlearn: 0.1646122\ttest: 0.2165205\tbest: 0.2165152 (4983)\ttotal: 4m 31s\tremaining: 18m 59s\n",
      "5500:\tlearn: 0.1600038\ttest: 0.2164620\tbest: 0.2164599 (5498)\ttotal: 4m 57s\tremaining: 18m 29s\n",
      "6000:\tlearn: 0.1556634\ttest: 0.2164012\tbest: 0.2163987 (5760)\ttotal: 5m 24s\tremaining: 18m 2s\n",
      "6500:\tlearn: 0.1514276\ttest: 0.2163193\tbest: 0.2163124 (6480)\ttotal: 5m 52s\tremaining: 17m 36s\n",
      "bestTest = 0.2162721574\n",
      "bestIteration = 6699\n",
      "Shrink model to first 6700 iterations.\n",
      "Amex Metric = 0.7917475211149175 \n",
      "\n",
      "#########################\n",
      "### Fold 2\n",
      "### Train size 367130 Valid size 91783\n",
      "### Training with 100% fold data...\n",
      "#########################\n",
      "0:\tlearn: 0.6659842\ttest: 0.6660817\tbest: 0.6660817 (0)\ttotal: 131ms\tremaining: 56m 45s\n",
      "500:\tlearn: 0.2176510\ttest: 0.2232541\tbest: 0.2232541 (500)\ttotal: 26.5s\tremaining: 22m 28s\n",
      "1000:\tlearn: 0.2086427\ttest: 0.2201523\tbest: 0.2201498 (998)\ttotal: 53.6s\tremaining: 22m 19s\n",
      "1500:\tlearn: 0.2017727\ttest: 0.2190282\tbest: 0.2190282 (1500)\ttotal: 1m 20s\tremaining: 21m 54s\n",
      "2000:\tlearn: 0.1955391\ttest: 0.2183967\tbest: 0.2183967 (2000)\ttotal: 1m 47s\tremaining: 21m 30s\n",
      "2500:\tlearn: 0.1896679\ttest: 0.2179492\tbest: 0.2179492 (2500)\ttotal: 2m 14s\tremaining: 21m 3s\n",
      "3000:\tlearn: 0.1841718\ttest: 0.2176835\tbest: 0.2176772 (2964)\ttotal: 2m 40s\tremaining: 20m 31s\n",
      "3500:\tlearn: 0.1788533\ttest: 0.2174800\tbest: 0.2174791 (3499)\ttotal: 3m 8s\tremaining: 20m 8s\n",
      "4000:\tlearn: 0.1738611\ttest: 0.2172867\tbest: 0.2172865 (3973)\ttotal: 3m 35s\tremaining: 19m 42s\n",
      "4500:\tlearn: 0.1689936\ttest: 0.2171701\tbest: 0.2171669 (4497)\ttotal: 4m 2s\tremaining: 19m 16s\n",
      "5000:\tlearn: 0.1643568\ttest: 0.2170742\tbest: 0.2170736 (4933)\ttotal: 4m 29s\tremaining: 18m 50s\n",
      "5500:\tlearn: 0.1597081\ttest: 0.2169412\tbest: 0.2169396 (5492)\ttotal: 4m 56s\tremaining: 18m 26s\n",
      "6000:\tlearn: 0.1553333\ttest: 0.2168213\tbest: 0.2168213 (6000)\ttotal: 5m 23s\tremaining: 17m 58s\n",
      "6500:\tlearn: 0.1510037\ttest: 0.2167547\tbest: 0.2167547 (6500)\ttotal: 5m 51s\tremaining: 17m 33s\n",
      "7000:\tlearn: 0.1469248\ttest: 0.2166787\tbest: 0.2166787 (7000)\ttotal: 6m 18s\tremaining: 17m 6s\n",
      "7500:\tlearn: 0.1429918\ttest: 0.2166497\tbest: 0.2166462 (7495)\ttotal: 6m 45s\tremaining: 16m 40s\n",
      "8000:\tlearn: 0.1391162\ttest: 0.2166380\tbest: 0.2166143 (7858)\ttotal: 7m 12s\tremaining: 16m 13s\n",
      "bestTest = 0.2166112086\n",
      "bestIteration = 8120\n",
      "Shrink model to first 8121 iterations.\n",
      "Amex Metric = 0.7951731303938754 \n",
      "\n",
      "#########################\n",
      "### Fold 3\n",
      "### Train size 367130 Valid size 91783\n",
      "### Training with 100% fold data...\n",
      "#########################\n",
      "0:\tlearn: 0.6660569\ttest: 0.6661060\tbest: 0.6661060 (0)\ttotal: 60.2ms\tremaining: 26m 5s\n",
      "500:\tlearn: 0.2171354\ttest: 0.2244143\tbest: 0.2244143 (500)\ttotal: 27.2s\tremaining: 23m 5s\n",
      "1000:\tlearn: 0.2081962\ttest: 0.2215737\tbest: 0.2215737 (1000)\ttotal: 53.4s\tremaining: 22m 12s\n",
      "1500:\tlearn: 0.2012318\ttest: 0.2205414\tbest: 0.2205414 (1500)\ttotal: 1m 20s\tremaining: 21m 46s\n",
      "2000:\tlearn: 0.1950229\ttest: 0.2199478\tbest: 0.2199478 (2000)\ttotal: 1m 46s\tremaining: 21m 22s\n",
      "2500:\tlearn: 0.1892568\ttest: 0.2195966\tbest: 0.2195966 (2500)\ttotal: 2m 14s\tremaining: 21m 1s\n",
      "3000:\tlearn: 0.1838733\ttest: 0.2193269\tbest: 0.2193244 (2997)\ttotal: 2m 41s\tremaining: 20m 34s\n",
      "3500:\tlearn: 0.1786721\ttest: 0.2191387\tbest: 0.2191379 (3493)\ttotal: 3m 8s\tremaining: 20m 11s\n",
      "4000:\tlearn: 0.1734842\ttest: 0.2189636\tbest: 0.2189634 (3970)\ttotal: 3m 35s\tremaining: 19m 42s\n",
      "4500:\tlearn: 0.1686385\ttest: 0.2188552\tbest: 0.2188525 (4498)\ttotal: 4m 2s\tremaining: 19m 18s\n",
      "5000:\tlearn: 0.1639254\ttest: 0.2187645\tbest: 0.2187349 (4886)\ttotal: 4m 29s\tremaining: 18m 52s\n",
      "5500:\tlearn: 0.1594698\ttest: 0.2185967\tbest: 0.2185933 (5487)\ttotal: 4m 57s\tremaining: 18m 26s\n",
      "6000:\tlearn: 0.1551277\ttest: 0.2185464\tbest: 0.2185319 (5962)\ttotal: 5m 23s\tremaining: 17m 59s\n",
      "6500:\tlearn: 0.1508724\ttest: 0.2185023\tbest: 0.2185023 (6500)\ttotal: 5m 50s\tremaining: 17m 32s\n",
      "7000:\tlearn: 0.1466607\ttest: 0.2184770\tbest: 0.2184486 (6720)\ttotal: 6m 17s\tremaining: 17m 5s\n",
      "bestTest = 0.218448614\n",
      "bestIteration = 6720\n",
      "Shrink model to first 6721 iterations.\n",
      "Amex Metric = 0.7913440984180317 \n",
      "\n",
      "#########################\n",
      "### Fold 4\n",
      "### Train size 367131 Valid size 91782\n",
      "### Training with 100% fold data...\n",
      "#########################\n",
      "0:\tlearn: 0.6658496\ttest: 0.6657895\tbest: 0.6657895 (0)\ttotal: 59.3ms\tremaining: 25m 40s\n",
      "500:\tlearn: 0.2175782\ttest: 0.2227011\tbest: 0.2227011 (500)\ttotal: 27.3s\tremaining: 23m 9s\n",
      "1000:\tlearn: 0.2086151\ttest: 0.2195982\tbest: 0.2195982 (1000)\ttotal: 53.2s\tremaining: 22m 8s\n",
      "1500:\tlearn: 0.2016276\ttest: 0.2183692\tbest: 0.2183692 (1500)\ttotal: 1m 19s\tremaining: 21m 41s\n",
      "2000:\tlearn: 0.1954662\ttest: 0.2176794\tbest: 0.2176783 (1997)\ttotal: 1m 46s\tremaining: 21m 19s\n",
      "2500:\tlearn: 0.1897466\ttest: 0.2172804\tbest: 0.2172804 (2500)\ttotal: 2m 13s\tremaining: 20m 52s\n",
      "3000:\tlearn: 0.1842344\ttest: 0.2169622\tbest: 0.2169622 (3000)\ttotal: 2m 40s\tremaining: 20m 28s\n",
      "3500:\tlearn: 0.1788515\ttest: 0.2167478\tbest: 0.2167478 (3500)\ttotal: 3m 7s\tremaining: 20m 4s\n",
      "4000:\tlearn: 0.1737564\ttest: 0.2166074\tbest: 0.2165991 (3984)\ttotal: 3m 33s\tremaining: 19m 36s\n",
      "4500:\tlearn: 0.1689082\ttest: 0.2164193\tbest: 0.2164126 (4466)\ttotal: 4m\tremaining: 19m 10s\n",
      "5000:\tlearn: 0.1642441\ttest: 0.2163051\tbest: 0.2163010 (4975)\ttotal: 4m 27s\tremaining: 18m 44s\n",
      "5500:\tlearn: 0.1598163\ttest: 0.2161948\tbest: 0.2161891 (5476)\ttotal: 4m 54s\tremaining: 18m 17s\n",
      "6000:\tlearn: 0.1554599\ttest: 0.2161090\tbest: 0.2160925 (5939)\ttotal: 5m 21s\tremaining: 17m 52s\n",
      "6500:\tlearn: 0.1512116\ttest: 0.2160047\tbest: 0.2160047 (6500)\ttotal: 5m 49s\tremaining: 17m 26s\n",
      "7000:\tlearn: 0.1471104\ttest: 0.2159694\tbest: 0.2159545 (6912)\ttotal: 6m 15s\tremaining: 16m 59s\n",
      "bestTest = 0.2159544832\n",
      "bestIteration = 6912\n",
      "Shrink model to first 6913 iterations.\n",
      "Amex Metric = 0.7943455644412477 \n",
      "\n",
      "#########################\n",
      "### Fold 5\n",
      "### Train size 367131 Valid size 91782\n",
      "### Training with 100% fold data...\n",
      "#########################\n",
      "0:\tlearn: 0.6661439\ttest: 0.6661722\tbest: 0.6661722 (0)\ttotal: 58.9ms\tremaining: 25m 30s\n",
      "500:\tlearn: 0.2170467\ttest: 0.2250099\tbest: 0.2250099 (500)\ttotal: 27.4s\tremaining: 23m 13s\n",
      "1000:\tlearn: 0.2080972\ttest: 0.2218987\tbest: 0.2218987 (1000)\ttotal: 53.9s\tremaining: 22m 24s\n",
      "1500:\tlearn: 0.2012573\ttest: 0.2207366\tbest: 0.2207366 (1500)\ttotal: 1m 20s\tremaining: 22m\n",
      "2000:\tlearn: 0.1952181\ttest: 0.2200803\tbest: 0.2200790 (1999)\ttotal: 1m 46s\tremaining: 21m 22s\n",
      "2500:\tlearn: 0.1893319\ttest: 0.2196351\tbest: 0.2196351 (2500)\ttotal: 2m 13s\tremaining: 20m 57s\n",
      "3000:\tlearn: 0.1838799\ttest: 0.2192943\tbest: 0.2192943 (3000)\ttotal: 2m 40s\tremaining: 20m 31s\n",
      "3500:\tlearn: 0.1787439\ttest: 0.2190679\tbest: 0.2190679 (3500)\ttotal: 3m 7s\tremaining: 20m 5s\n",
      "4000:\tlearn: 0.1737089\ttest: 0.2189268\tbest: 0.2189268 (4000)\ttotal: 3m 35s\tremaining: 19m 42s\n",
      "4500:\tlearn: 0.1688508\ttest: 0.2188433\tbest: 0.2188413 (4499)\ttotal: 4m 1s\tremaining: 19m 13s\n",
      "5000:\tlearn: 0.1642174\ttest: 0.2186928\tbest: 0.2186928 (5000)\ttotal: 4m 28s\tremaining: 18m 48s\n",
      "5500:\tlearn: 0.1596954\ttest: 0.2185829\tbest: 0.2185820 (5492)\ttotal: 4m 55s\tremaining: 18m 22s\n",
      "6000:\tlearn: 0.1553387\ttest: 0.2185032\tbest: 0.2185032 (6000)\ttotal: 5m 23s\tremaining: 17m 57s\n",
      "6500:\tlearn: 0.1511297\ttest: 0.2185121\tbest: 0.2184750 (6261)\ttotal: 5m 50s\tremaining: 17m 30s\n",
      "bestTest = 0.2184749554\n",
      "bestIteration = 6261\n",
      "Shrink model to first 6262 iterations.\n",
      "Amex Metric = 0.7921233523429585 \n",
      "\n",
      "#########################\n",
      "Overall Amex metric: 0.7928983526719431\n"
     ]
    }
   ],
   "source": [
    "importances = []\n",
    "oof = []\n",
    "gc.collect()\n",
    "\n",
    "clf = CatBoostClassifier(**cat_params)\n",
    "skf = KFold(n_splits=FOLDS, shuffle=True, random_state=SEED)\n",
    "for fold,(train_idx, valid_idx) in enumerate(skf.split(train, train.target)):\n",
    "    \n",
    "    print('#'*25)\n",
    "    print('### Fold',fold+1)\n",
    "    print('### Train size',len(train_idx),'Valid size',len(valid_idx))\n",
    "    print(f'### Training with 100% fold data...')\n",
    "    print('#'*25)\n",
    "    \n",
    "    # TRAIN, VALID, TEST FOR FOLD K\n",
    "    X_train = train.loc[train_idx, FEATURES]\n",
    "    X_valid = train.target.iloc[train_idx]\n",
    "    y_train = train.loc[valid_idx, FEATURES]\n",
    "    y_valid = train.target.iloc[valid_idx]\n",
    "    \n",
    "    # TRAIN MODEL FOLD K\n",
    "    model = clf.fit(X_train,\n",
    "                    X_valid,\n",
    "                    cat_features=cat_features_last,\n",
    "                    eval_set=[(y_train, y_valid)],\n",
    "                    use_best_model=True,\n",
    "                    early_stopping_rounds=300,\n",
    "                    verbose_eval=500)\n",
    "    model.save_model(f'CAT_v{VER}_fold{fold}.cbm')\n",
    "    \n",
    "    # GET FEATURE IMPORTANCE FOR FOLD K\n",
    "    dd = model.feature_importances_\n",
    "    df = pd.DataFrame({'feature':FEATURES,f'importance_{fold}':dd})\n",
    "    importances.append(df)\n",
    "            \n",
    "    # INFER OOF FOLD K\n",
    "    oof_preds = model.predict_proba(y_train)[:, 1]\n",
    "    acc = amex_metric_np(y_valid.values, oof_preds)\n",
    "    print('Amex Metric =',acc,'\\n')\n",
    "\n",
    "    df = train.loc[valid_idx, ['customer_ID','target'] ].copy()\n",
    "    df['oof_preds'] = oof_preds\n",
    "    oof.append(df)\n",
    "    \n",
    "    del X_train, y_train, dd, df\n",
    "    del X_valid, y_valid, model\n",
    "    _ = gc.collect()\n",
    "    \n",
    "print('#'*25)\n",
    "oof = pd.concat(oof,axis=0,ignore_index=True).set_index('customer_ID')\n",
    "acc = amex_metric_np(oof.target.values, oof.oof_preds.values)\n",
    "print(f\"Overall Amex metric: {acc}\")"
   ]
  },
  {
   "cell_type": "code",
   "execution_count": 17,
   "id": "aadf0740",
   "metadata": {
    "execution": {
     "iopub.execute_input": "2022-07-10T10:20:02.913019Z",
     "iopub.status.busy": "2022-07-10T10:20:02.912716Z",
     "iopub.status.idle": "2022-07-10T10:20:03.014750Z",
     "shell.execute_reply": "2022-07-10T10:20:03.013949Z"
    },
    "papermill": {
     "duration": 0.119761,
     "end_time": "2022-07-10T10:20:03.016694",
     "exception": false,
     "start_time": "2022-07-10T10:20:02.896933",
     "status": "completed"
    },
    "tags": []
   },
   "outputs": [],
   "source": [
    "# CLEAN RAM\n",
    "del train\n",
    "_ = gc.collect()"
   ]
  },
  {
   "cell_type": "code",
   "execution_count": 18,
   "id": "68636420",
   "metadata": {
    "execution": {
     "iopub.execute_input": "2022-07-10T10:20:03.046756Z",
     "iopub.status.busy": "2022-07-10T10:20:03.046071Z",
     "iopub.status.idle": "2022-07-10T10:20:03.089304Z",
     "shell.execute_reply": "2022-07-10T10:20:03.088596Z"
    },
    "papermill": {
     "duration": 0.060019,
     "end_time": "2022-07-10T10:20:03.091497",
     "exception": false,
     "start_time": "2022-07-10T10:20:03.031478",
     "status": "completed"
    },
    "scrolled": true,
    "tags": []
   },
   "outputs": [],
   "source": [
    "df = importances[0].copy()\n",
    "for k in range(1,FOLDS): df = df.merge(importances[k], on='feature', how='left')\n",
    "df['importance'] = df.iloc[:,1:].mean(axis=1, numeric_only=True)\n",
    "df = df.sort_values('importance',ascending=False)\n",
    "df.to_csv(f'cat_feature_importance_v{VER}.csv',index=False)"
   ]
  },
  {
   "cell_type": "code",
   "execution_count": 19,
   "id": "c0efdd30",
   "metadata": {
    "execution": {
     "iopub.execute_input": "2022-07-10T10:20:03.121548Z",
     "iopub.status.busy": "2022-07-10T10:20:03.121267Z",
     "iopub.status.idle": "2022-07-10T10:20:03.423054Z",
     "shell.execute_reply": "2022-07-10T10:20:03.422299Z"
    },
    "papermill": {
     "duration": 0.318618,
     "end_time": "2022-07-10T10:20:03.424736",
     "exception": false,
     "start_time": "2022-07-10T10:20:03.106118",
     "status": "completed"
    },
    "tags": []
   },
   "outputs": [
    {
     "data": {
      "image/png": "[encoded data removed]",
      "text/plain": [
       "<Figure size 720x720 with 1 Axes>"
      ]
     },
     "metadata": {
      "needs_background": "light"
     },
     "output_type": "display_data"
    }
   ],
   "source": [
    "NUM_FEATURES = 20\n",
    "plt.figure(figsize=(10,5*NUM_FEATURES//10))\n",
    "plt.barh(np.arange(NUM_FEATURES,0,-1), df.importance.values[:NUM_FEATURES])\n",
    "plt.yticks(np.arange(NUM_FEATURES,0,-1), df.feature.values[:NUM_FEATURES])\n",
    "plt.title(f'CAT Feature Importance - Top {NUM_FEATURES}')\n",
    "plt.show()"
   ]
  },
  {
   "cell_type": "markdown",
   "id": "70bffbef",
   "metadata": {
    "papermill": {
     "duration": 0.015109,
     "end_time": "2022-07-10T10:20:03.454777",
     "exception": false,
     "start_time": "2022-07-10T10:20:03.439668",
     "status": "completed"
    },
    "tags": []
   },
   "source": [
    "# Test part"
   ]
  },
  {
   "cell_type": "code",
   "execution_count": 20,
   "id": "95ca589a",
   "metadata": {
    "execution": {
     "iopub.execute_input": "2022-07-10T10:20:03.485747Z",
     "iopub.status.busy": "2022-07-10T10:20:03.485463Z",
     "iopub.status.idle": "2022-07-10T10:20:03.492468Z",
     "shell.execute_reply": "2022-07-10T10:20:03.491626Z"
    },
    "papermill": {
     "duration": 0.024635,
     "end_time": "2022-07-10T10:20:03.494312",
     "exception": false,
     "start_time": "2022-07-10T10:20:03.469677",
     "status": "completed"
    },
    "tags": []
   },
   "outputs": [],
   "source": [
    "# CALCULATE SIZE OF EACH SEPARATE TEST PART\n",
    "def get_rows(customers, test, NUM_PARTS = 4, verbose = ''):\n",
    "    chunk = len(customers)//NUM_PARTS\n",
    "    if verbose != '':\n",
    "        print(f'We will process {verbose} data as {NUM_PARTS} separate parts.')\n",
    "        print(f'There will be {chunk} customers in each part (except the last part).')\n",
    "        print('Below are number of rows in each part:')\n",
    "    rows = []\n",
    "\n",
    "    for k in range(NUM_PARTS):\n",
    "        if k==NUM_PARTS-1: cc = customers[k*chunk:]\n",
    "        else: cc = customers[k*chunk:(k+1)*chunk]\n",
    "        s = test.loc[test.customer_ID.isin(cc)].shape[0]\n",
    "        rows.append(s)\n",
    "    if verbose != '': print( rows )\n",
    "    return rows,chunk"
   ]
  },
  {
   "cell_type": "code",
   "execution_count": 21,
   "id": "f1547a1f",
   "metadata": {
    "execution": {
     "iopub.execute_input": "2022-07-10T10:20:03.525352Z",
     "iopub.status.busy": "2022-07-10T10:20:03.525074Z",
     "iopub.status.idle": "2022-07-10T10:20:04.428352Z",
     "shell.execute_reply": "2022-07-10T10:20:04.426958Z"
    },
    "papermill": {
     "duration": 0.921852,
     "end_time": "2022-07-10T10:20:04.431081",
     "exception": false,
     "start_time": "2022-07-10T10:20:03.509229",
     "status": "completed"
    },
    "tags": []
   },
   "outputs": [
    {
     "name": "stdout",
     "output_type": "stream",
     "text": [
      "We will process test data as 4 separate parts.\n",
      "There will be 231155 customers in each part (except the last part).\n",
      "Below are number of rows in each part:\n",
      "[231155, 231155, 231155, 231156]\n"
     ]
    }
   ],
   "source": [
    "# COMPUTE SIZE OF 4 PARTS FOR TEST DATA\n",
    "NUM_PARTS = 4\n",
    "\n",
    "customers = test[['customer_ID']].drop_duplicates().sort_index().values.flatten()\n",
    "rows,num_cust = get_rows(customers, test[['customer_ID']], NUM_PARTS = NUM_PARTS, verbose = 'test')"
   ]
  },
  {
   "cell_type": "code",
   "execution_count": 22,
   "id": "0ff2bc21",
   "metadata": {
    "execution": {
     "iopub.execute_input": "2022-07-10T10:20:04.462647Z",
     "iopub.status.busy": "2022-07-10T10:20:04.462326Z",
     "iopub.status.idle": "2022-07-10T10:50:52.553777Z",
     "shell.execute_reply": "2022-07-10T10:50:52.552852Z"
    },
    "papermill": {
     "duration": 1848.109723,
     "end_time": "2022-07-10T10:50:52.556343",
     "exception": false,
     "start_time": "2022-07-10T10:20:04.446620",
     "status": "completed"
    },
    "tags": []
   },
   "outputs": [
    {
     "name": "stdout",
     "output_type": "stream",
     "text": [
      "\n",
      "Reading test data...\n",
      "=> Test part 1 has shape (231155, 1095)\n",
      "\n",
      "Reading test data...\n",
      "=> Test part 2 has shape (231155, 1095)\n",
      "\n",
      "Reading test data...\n",
      "=> Test part 3 has shape (231155, 1095)\n",
      "\n",
      "Reading test data...\n",
      "=> Test part 4 has shape (231156, 1095)\n"
     ]
    }
   ],
   "source": [
    "# INFER TEST DATA IN PARTS\n",
    "skip_rows = 0\n",
    "skip_cust = 0\n",
    "test_preds = []\n",
    "\n",
    "for k in range(NUM_PARTS):\n",
    "    \n",
    "    # READ PART OF TEST DATA\n",
    "    print(f'\\nReading test data...')\n",
    "    test_copy = test.iloc[skip_rows:skip_rows+rows[k]].copy()\n",
    "    test_copy = test_copy.set_index('customer_ID')\n",
    "    skip_rows += rows[k]\n",
    "    print(f'=> Test part {k+1} has shape', test_copy.shape )\n",
    "    \n",
    "    # PROCESS AND FEATURE ENGINEER PART OF TEST DATA\n",
    "    if k==NUM_PARTS-1: test_copy = test_copy.loc[customers[skip_cust:]]\n",
    "    else: test_copy = test_copy.loc[customers[skip_cust:skip_cust+num_cust]]\n",
    "    skip_cust += num_cust\n",
    "        \n",
    "    # INFER XGB MODELS ON TEST DATA\n",
    "    model = CatBoostClassifier(**cat_params)\n",
    "    model.load_model(f'CAT_v{VER}_fold0.cbm')\n",
    "    preds = model.predict_proba(test_copy)[:, 1]\n",
    "    for f in range(1,FOLDS):\n",
    "        model.load_model(f'CAT_v{VER}_fold{f}.cbm')\n",
    "        preds += model.predict_proba(test_copy)[:, 1]\n",
    "    preds /= FOLDS\n",
    "    test_preds.append(preds)\n",
    "\n",
    "    # CLEAN MEMORY\n",
    "    del test_copy, model\n",
    "    _ = gc.collect()\n",
    "\n",
    "del test\n",
    "_ = gc.collect()"
   ]
  },
  {
   "cell_type": "markdown",
   "id": "ade80ace",
   "metadata": {
    "papermill": {
     "duration": 0.014968,
     "end_time": "2022-07-10T10:50:52.588012",
     "exception": false,
     "start_time": "2022-07-10T10:50:52.573044",
     "status": "completed"
    },
    "tags": []
   },
   "source": [
    "# Submit"
   ]
  },
  {
   "cell_type": "code",
   "execution_count": 23,
   "id": "a1a9e615",
   "metadata": {
    "execution": {
     "iopub.execute_input": "2022-07-10T10:50:52.619854Z",
     "iopub.status.busy": "2022-07-10T10:50:52.619495Z",
     "iopub.status.idle": "2022-07-10T10:50:59.987197Z",
     "shell.execute_reply": "2022-07-10T10:50:59.986188Z"
    },
    "papermill": {
     "duration": 7.386017,
     "end_time": "2022-07-10T10:50:59.989729",
     "exception": false,
     "start_time": "2022-07-10T10:50:52.603712",
     "status": "completed"
    },
    "tags": []
   },
   "outputs": [
    {
     "name": "stdout",
     "output_type": "stream",
     "text": [
      "Submission file shape is (924621, 2)\n"
     ]
    },
    {
     "data": {
      "text/html": [
       "<div>\n",
       "<style scoped>\n",
       "    .dataframe tbody tr th:only-of-type {\n",
       "        vertical-align: middle;\n",
       "    }\n",
       "\n",
       "    .dataframe tbody tr th {\n",
       "        vertical-align: top;\n",
       "    }\n",
       "\n",
       "    .dataframe thead th {\n",
       "        text-align: right;\n",
       "    }\n",
       "</style>\n",
       "<table border=\"1\" class=\"dataframe\">\n",
       "  <thead>\n",
       "    <tr style=\"text-align: right;\">\n",
       "      <th></th>\n",
       "      <th>customer_ID</th>\n",
       "      <th>prediction</th>\n",
       "    </tr>\n",
       "  </thead>\n",
       "  <tbody>\n",
       "    <tr>\n",
       "      <th>0</th>\n",
       "      <td>00000469ba478561f23a92a868bd366de6f6527a684c9a...</td>\n",
       "      <td>0.024546</td>\n",
       "    </tr>\n",
       "    <tr>\n",
       "      <th>1</th>\n",
       "      <td>00001bf2e77ff879fab36aa4fac689b9ba411dae63ae39...</td>\n",
       "      <td>0.001424</td>\n",
       "    </tr>\n",
       "    <tr>\n",
       "      <th>2</th>\n",
       "      <td>0000210045da4f81e5f122c6bde5c2a617d03eef67f82c...</td>\n",
       "      <td>0.043300</td>\n",
       "    </tr>\n",
       "    <tr>\n",
       "      <th>3</th>\n",
       "      <td>00003b41e58ede33b8daf61ab56d9952f17c9ad1c3976c...</td>\n",
       "      <td>0.219212</td>\n",
       "    </tr>\n",
       "    <tr>\n",
       "      <th>4</th>\n",
       "      <td>00004b22eaeeeb0ec976890c1d9bfc14fd9427e98c4ee9...</td>\n",
       "      <td>0.841615</td>\n",
       "    </tr>\n",
       "  </tbody>\n",
       "</table>\n",
       "</div>"
      ],
      "text/plain": [
       "                                         customer_ID  prediction\n",
       "0  00000469ba478561f23a92a868bd366de6f6527a684c9a...    0.024546\n",
       "1  00001bf2e77ff879fab36aa4fac689b9ba411dae63ae39...    0.001424\n",
       "2  0000210045da4f81e5f122c6bde5c2a617d03eef67f82c...    0.043300\n",
       "3  00003b41e58ede33b8daf61ab56d9952f17c9ad1c3976c...    0.219212\n",
       "4  00004b22eaeeeb0ec976890c1d9bfc14fd9427e98c4ee9...    0.841615"
      ]
     },
     "execution_count": 23,
     "metadata": {},
     "output_type": "execute_result"
    }
   ],
   "source": [
    "# WRITE SUBMISSION FILE\n",
    "test_preds = np.concatenate(test_preds)\n",
    "test = pd.DataFrame(index=customers,data={'prediction':test_preds})\n",
    "sub = pd.read_csv(parent_dir + 'amex-default-prediction/sample_submission.csv')[['customer_ID']]\n",
    "sub['customer_ID_hash'] = sub['customer_ID'].copy()\n",
    "sub = sub.set_index('customer_ID_hash')\n",
    "sub = sub.merge(test[['prediction']], left_index=True, right_index=True, how='left')\n",
    "sub = sub.reset_index(drop=True)\n",
    "\n",
    "# DISPLAY PREDICTIONS\n",
    "sub.to_csv(f'submission_cat_v{VER}.csv',index=False)\n",
    "print('Submission file shape is', sub.shape )\n",
    "sub.head()"
   ]
  },
  {
   "cell_type": "code",
   "execution_count": 24,
   "id": "1da9b820",
   "metadata": {
    "execution": {
     "iopub.execute_input": "2022-07-10T10:51:00.023742Z",
     "iopub.status.busy": "2022-07-10T10:51:00.022949Z",
     "iopub.status.idle": "2022-07-10T10:51:00.378067Z",
     "shell.execute_reply": "2022-07-10T10:51:00.377357Z"
    },
    "papermill": {
     "duration": 0.373603,
     "end_time": "2022-07-10T10:51:00.379907",
     "exception": false,
     "start_time": "2022-07-10T10:51:00.006304",
     "status": "completed"
    },
    "tags": []
   },
   "outputs": [
    {
     "data": {
      "image/png": "[encoded data removed]",
      "text/plain": [
       "<Figure size 432x288 with 1 Axes>"
      ]
     },
     "metadata": {
      "needs_background": "light"
     },
     "output_type": "display_data"
    }
   ],
   "source": [
    "# PLOT PREDICTIONS\n",
    "plt.hist(sub.prediction, bins=100)\n",
    "plt.title('Test Predictions')\n",
    "plt.show()"
   ]
  },
  {
   "cell_type": "markdown",
   "id": "33cede12",
   "metadata": {
    "papermill": {
     "duration": 0.015351,
     "end_time": "2022-07-10T10:51:00.411231",
     "exception": false,
     "start_time": "2022-07-10T10:51:00.395880",
     "status": "completed"
    },
    "tags": []
   },
   "source": [
    "# Ensemble"
   ]
  },
  {
   "cell_type": "markdown",
   "id": "b916eea2",
   "metadata": {
    "papermill": {
     "duration": 0.016083,
     "end_time": "2022-07-10T10:51:00.443301",
     "exception": false,
     "start_time": "2022-07-10T10:51:00.427218",
     "status": "completed"
    },
    "tags": []
   },
   "source": [
    "## Do only ensemble"
   ]
  },
  {
   "cell_type": "code",
   "execution_count": 25,
   "id": "cac39dc3",
   "metadata": {
    "execution": {
     "iopub.execute_input": "2022-07-10T10:51:00.476135Z",
     "iopub.status.busy": "2022-07-10T10:51:00.475410Z",
     "iopub.status.idle": "2022-07-10T10:51:01.368030Z",
     "shell.execute_reply": "2022-07-10T10:51:01.367195Z"
    },
    "papermill": {
     "duration": 0.911424,
     "end_time": "2022-07-10T10:51:01.370175",
     "exception": false,
     "start_time": "2022-07-10T10:51:00.458751",
     "status": "completed"
    },
    "tags": []
   },
   "outputs": [],
   "source": [
    "sub = pd.read_csv(parent_dir + 'amex-default-prediction/sample_submission.csv')"
   ]
  },
  {
   "cell_type": "code",
   "execution_count": 26,
   "id": "96883ef2",
   "metadata": {
    "execution": {
     "iopub.execute_input": "2022-07-10T10:51:01.485436Z",
     "iopub.status.busy": "2022-07-10T10:51:01.485054Z",
     "iopub.status.idle": "2022-07-10T10:51:01.498889Z",
     "shell.execute_reply": "2022-07-10T10:51:01.498051Z"
    },
    "papermill": {
     "duration": 0.113495,
     "end_time": "2022-07-10T10:51:01.500830",
     "exception": false,
     "start_time": "2022-07-10T10:51:01.387335",
     "status": "completed"
    },
    "tags": []
   },
   "outputs": [],
   "source": [
    "# https://www.kaggle.com/code/beezus666/ensemble-weighted-average\n",
    "#crude formula for model weighting.\n",
    "# Using this formaula the best model's weight = 1, the worst model's weight ~0.05\n",
    "def model_weight(model_loss, worst_loss, best_loss):\n",
    "    return 1- ((best_loss - model_loss)/(best_loss-(worst_loss - 0.01)))\n",
    "\n",
    "def read_weighted_preds(sub_dict: dict, worst_score:float, best_score: float) -> list:\n",
    "    preds = []\n",
    "    weights = []\n",
    "    for path, loss in sub_dict.items():\n",
    "        weight = model_weight(loss, worst_score, best_score)\n",
    "        \n",
    "        df = pd.read_csv(path)\n",
    "        df = df.set_index('customer_ID').sort_index().reset_index() # sort\n",
    "        df['prediction'] = df['prediction']*weight\n",
    "        \n",
    "        preds.append(df['prediction'])\n",
    "        weights.append(weight)\n",
    "    \n",
    "    return preds, weights"
   ]
  },
  {
   "cell_type": "code",
   "execution_count": 27,
   "id": "9819d9c5",
   "metadata": {
    "execution": {
     "iopub.execute_input": "2022-07-10T10:51:01.535181Z",
     "iopub.status.busy": "2022-07-10T10:51:01.534898Z",
     "iopub.status.idle": "2022-07-10T10:51:18.672099Z",
     "shell.execute_reply": "2022-07-10T10:51:18.670828Z"
    },
    "papermill": {
     "duration": 17.157891,
     "end_time": "2022-07-10T10:51:18.675758",
     "exception": false,
     "start_time": "2022-07-10T10:51:01.517867",
     "status": "completed"
    },
    "tags": []
   },
   "outputs": [],
   "source": [
    "best = 0.799\n",
    "worst = 0.789\n",
    "\n",
    "sub_dict = {\n",
    "#     parent_dir + 'amexdefaultsubmissions/submission_cat_v26_0794.csv': 0.794,\n",
    "    parent_dir + 'amexdefaultsubmissions/submission_TF_GRU0789.csv': 0.789,\n",
    "#     parent_dir + 'amexdefaultsubmissions/submission_xgb_v24.csv': 0.794,\n",
    "    parent_dir + 'amexdefaultsubmissions/test_lgbm_baseline_5fold_seed42.csv': 0.796,\n",
    "    parent_dir + 'amexdefaultsubmissions/test_lgbm_baseline_5fold_seed42_plus_0797.csv': 0.797,\n",
    "    parent_dir + 'amexdefaultsubmissions/submission_cat_0.7923765971248049.csv': 0.792,\n",
    "    parent_dir + 'amexdefaultsubmissions/submission_tabnet0791.csv': 0.791,\n",
    "    parent_dir + 'amexdefaultsubmissions/lightautoml_tabularautoml0795.csv': 0.795,\n",
    "    parent_dir + 'amexdefaultsubmissions/submission_xgb_nvt_0._794csv.csv': 0.794,\n",
    "    '../input/amex-lgbm-dart-cv-0-7977/test_lgbm_baseline_5fold_seed_blend.csv': 0.799\n",
    "}\n",
    "\n",
    "preds, weights = read_weighted_preds(sub_dict, worst, best)"
   ]
  },
  {
   "cell_type": "code",
   "execution_count": 28,
   "id": "cc88404c",
   "metadata": {
    "execution": {
     "iopub.execute_input": "2022-07-10T10:51:18.738860Z",
     "iopub.status.busy": "2022-07-10T10:51:18.738449Z",
     "iopub.status.idle": "2022-07-10T10:51:24.395184Z",
     "shell.execute_reply": "2022-07-10T10:51:24.394304Z"
    },
    "papermill": {
     "duration": 5.689083,
     "end_time": "2022-07-10T10:51:24.397533",
     "exception": false,
     "start_time": "2022-07-10T10:51:18.708450",
     "status": "completed"
    },
    "tags": []
   },
   "outputs": [
    {
     "data": {
      "text/html": [
       "<div>\n",
       "<style scoped>\n",
       "    .dataframe tbody tr th:only-of-type {\n",
       "        vertical-align: middle;\n",
       "    }\n",
       "\n",
       "    .dataframe tbody tr th {\n",
       "        vertical-align: top;\n",
       "    }\n",
       "\n",
       "    .dataframe thead th {\n",
       "        text-align: right;\n",
       "    }\n",
       "</style>\n",
       "<table border=\"1\" class=\"dataframe\">\n",
       "  <thead>\n",
       "    <tr style=\"text-align: right;\">\n",
       "      <th></th>\n",
       "      <th>customer_ID</th>\n",
       "      <th>prediction</th>\n",
       "    </tr>\n",
       "  </thead>\n",
       "  <tbody>\n",
       "    <tr>\n",
       "      <th>0</th>\n",
       "      <td>00000469ba478561f23a92a868bd366de6f6527a684c9a...</td>\n",
       "      <td>0.027173</td>\n",
       "    </tr>\n",
       "    <tr>\n",
       "      <th>1</th>\n",
       "      <td>00001bf2e77ff879fab36aa4fac689b9ba411dae63ae39...</td>\n",
       "      <td>0.001040</td>\n",
       "    </tr>\n",
       "    <tr>\n",
       "      <th>2</th>\n",
       "      <td>0000210045da4f81e5f122c6bde5c2a617d03eef67f82c...</td>\n",
       "      <td>0.044694</td>\n",
       "    </tr>\n",
       "    <tr>\n",
       "      <th>3</th>\n",
       "      <td>00003b41e58ede33b8daf61ab56d9952f17c9ad1c3976c...</td>\n",
       "      <td>0.231494</td>\n",
       "    </tr>\n",
       "    <tr>\n",
       "      <th>4</th>\n",
       "      <td>00004b22eaeeeb0ec976890c1d9bfc14fd9427e98c4ee9...</td>\n",
       "      <td>0.861702</td>\n",
       "    </tr>\n",
       "    <tr>\n",
       "      <th>...</th>\n",
       "      <td>...</td>\n",
       "      <td>...</td>\n",
       "    </tr>\n",
       "    <tr>\n",
       "      <th>924616</th>\n",
       "      <td>ffff952c631f2c911b8a2a8ca56ea6e656309a83d2f64c...</td>\n",
       "      <td>0.013722</td>\n",
       "    </tr>\n",
       "    <tr>\n",
       "      <th>924617</th>\n",
       "      <td>ffffcf5df59e5e0bba2a5ac4578a34e2b5aa64a1546cd3...</td>\n",
       "      <td>0.793673</td>\n",
       "    </tr>\n",
       "    <tr>\n",
       "      <th>924618</th>\n",
       "      <td>ffffd61f098cc056dbd7d2a21380c4804bbfe60856f475...</td>\n",
       "      <td>0.457945</td>\n",
       "    </tr>\n",
       "    <tr>\n",
       "      <th>924619</th>\n",
       "      <td>ffffddef1fc3643ea179c93245b68dca0f36941cd83977...</td>\n",
       "      <td>0.280708</td>\n",
       "    </tr>\n",
       "    <tr>\n",
       "      <th>924620</th>\n",
       "      <td>fffffa7cf7e453e1acc6a1426475d5cb9400859f82ff61...</td>\n",
       "      <td>0.056655</td>\n",
       "    </tr>\n",
       "  </tbody>\n",
       "</table>\n",
       "<p>924621 rows × 2 columns</p>\n",
       "</div>"
      ],
      "text/plain": [
       "                                              customer_ID  prediction\n",
       "0       00000469ba478561f23a92a868bd366de6f6527a684c9a...    0.027173\n",
       "1       00001bf2e77ff879fab36aa4fac689b9ba411dae63ae39...    0.001040\n",
       "2       0000210045da4f81e5f122c6bde5c2a617d03eef67f82c...    0.044694\n",
       "3       00003b41e58ede33b8daf61ab56d9952f17c9ad1c3976c...    0.231494\n",
       "4       00004b22eaeeeb0ec976890c1d9bfc14fd9427e98c4ee9...    0.861702\n",
       "...                                                   ...         ...\n",
       "924616  ffff952c631f2c911b8a2a8ca56ea6e656309a83d2f64c...    0.013722\n",
       "924617  ffffcf5df59e5e0bba2a5ac4578a34e2b5aa64a1546cd3...    0.793673\n",
       "924618  ffffd61f098cc056dbd7d2a21380c4804bbfe60856f475...    0.457945\n",
       "924619  ffffddef1fc3643ea179c93245b68dca0f36941cd83977...    0.280708\n",
       "924620  fffffa7cf7e453e1acc6a1426475d5cb9400859f82ff61...    0.056655\n",
       "\n",
       "[924621 rows x 2 columns]"
      ]
     },
     "execution_count": 28,
     "metadata": {},
     "output_type": "execute_result"
    }
   ],
   "source": [
    "blend_ss = sub.copy()\n",
    "blend_ss['prediction'] = np.sum(np.column_stack(preds), axis=1) / sum(weights)\n",
    "# blend_ss['prediction'] = (np.mean(np.column_stack(preds), axis=1))\n",
    "blend_ss.to_csv('submission_blend.csv', index=False)\n",
    "blend_ss"
   ]
  },
  {
   "cell_type": "code",
   "execution_count": 29,
   "id": "3af7bf1a",
   "metadata": {
    "execution": {
     "iopub.execute_input": "2022-07-10T10:51:24.432807Z",
     "iopub.status.busy": "2022-07-10T10:51:24.432164Z",
     "iopub.status.idle": "2022-07-10T10:51:24.484154Z",
     "shell.execute_reply": "2022-07-10T10:51:24.483130Z"
    },
    "papermill": {
     "duration": 0.071261,
     "end_time": "2022-07-10T10:51:24.486658",
     "exception": false,
     "start_time": "2022-07-10T10:51:24.415397",
     "status": "completed"
    },
    "tags": []
   },
   "outputs": [
    {
     "data": {
      "text/html": [
       "<div>\n",
       "<style scoped>\n",
       "    .dataframe tbody tr th:only-of-type {\n",
       "        vertical-align: middle;\n",
       "    }\n",
       "\n",
       "    .dataframe tbody tr th {\n",
       "        vertical-align: top;\n",
       "    }\n",
       "\n",
       "    .dataframe thead th {\n",
       "        text-align: right;\n",
       "    }\n",
       "</style>\n",
       "<table border=\"1\" class=\"dataframe\">\n",
       "  <thead>\n",
       "    <tr style=\"text-align: right;\">\n",
       "      <th></th>\n",
       "      <th>prediction</th>\n",
       "    </tr>\n",
       "  </thead>\n",
       "  <tbody>\n",
       "    <tr>\n",
       "      <th>count</th>\n",
       "      <td>924621.000000</td>\n",
       "    </tr>\n",
       "    <tr>\n",
       "      <th>mean</th>\n",
       "      <td>0.249020</td>\n",
       "    </tr>\n",
       "    <tr>\n",
       "      <th>std</th>\n",
       "      <td>0.345388</td>\n",
       "    </tr>\n",
       "    <tr>\n",
       "      <th>min</th>\n",
       "      <td>0.000130</td>\n",
       "    </tr>\n",
       "    <tr>\n",
       "      <th>25%</th>\n",
       "      <td>0.003009</td>\n",
       "    </tr>\n",
       "    <tr>\n",
       "      <th>50%</th>\n",
       "      <td>0.026745</td>\n",
       "    </tr>\n",
       "    <tr>\n",
       "      <th>75%</th>\n",
       "      <td>0.481882</td>\n",
       "    </tr>\n",
       "    <tr>\n",
       "      <th>max</th>\n",
       "      <td>0.998206</td>\n",
       "    </tr>\n",
       "  </tbody>\n",
       "</table>\n",
       "</div>"
      ],
      "text/plain": [
       "          prediction\n",
       "count  924621.000000\n",
       "mean        0.249020\n",
       "std         0.345388\n",
       "min         0.000130\n",
       "25%         0.003009\n",
       "50%         0.026745\n",
       "75%         0.481882\n",
       "max         0.998206"
      ]
     },
     "execution_count": 29,
     "metadata": {},
     "output_type": "execute_result"
    }
   ],
   "source": [
    "blend_ss.describe()"
   ]
  },
  {
   "cell_type": "code",
   "execution_count": 30,
   "id": "135cd102",
   "metadata": {
    "execution": {
     "iopub.execute_input": "2022-07-10T10:51:24.522834Z",
     "iopub.status.busy": "2022-07-10T10:51:24.522503Z",
     "iopub.status.idle": "2022-07-10T10:51:24.882138Z",
     "shell.execute_reply": "2022-07-10T10:51:24.881300Z"
    },
    "papermill": {
     "duration": 0.379991,
     "end_time": "2022-07-10T10:51:24.884126",
     "exception": false,
     "start_time": "2022-07-10T10:51:24.504135",
     "status": "completed"
    },
    "tags": []
   },
   "outputs": [
    {
     "data": {
      "image/png": "[encoded data removed]",
      "text/plain": [
       "<Figure size 432x288 with 1 Axes>"
      ]
     },
     "metadata": {
      "needs_background": "light"
     },
     "output_type": "display_data"
    }
   ],
   "source": [
    "# PLOT PREDICTIONS\n",
    "plt.hist(blend_ss.prediction, bins=100)\n",
    "plt.title('Blend Test Predictions')\n",
    "plt.show()"
   ]
  },
  {
   "cell_type": "markdown",
   "id": "21030a7e",
   "metadata": {
    "papermill": {
     "duration": 0.018306,
     "end_time": "2022-07-10T10:51:24.921021",
     "exception": false,
     "start_time": "2022-07-10T10:51:24.902715",
     "status": "completed"
    },
    "tags": []
   },
   "source": [
    "# Submit to Kaggle from Colab"
   ]
  },
  {
   "cell_type": "code",
   "execution_count": 31,
   "id": "cb9b1771",
   "metadata": {
    "execution": {
     "iopub.execute_input": "2022-07-10T10:51:24.959785Z",
     "iopub.status.busy": "2022-07-10T10:51:24.958960Z",
     "iopub.status.idle": "2022-07-10T10:51:24.964292Z",
     "shell.execute_reply": "2022-07-10T10:51:24.963501Z"
    },
    "papermill": {
     "duration": 0.026491,
     "end_time": "2022-07-10T10:51:24.966181",
     "exception": false,
     "start_time": "2022-07-10T10:51:24.939690",
     "status": "completed"
    },
    "tags": []
   },
   "outputs": [],
   "source": [
    "# Submit\n",
    "if is_env_colab:\n",
    "    # !kaggle competitions submit -c amex-default-prediction -f submission_cat_v1.csv -m \"From colab\"\n",
    "    !kaggle competitions submit -c amex-default-prediction -f submission_blend.csv -m \"From colab\""
   ]
  },
  {
   "cell_type": "code",
   "execution_count": 32,
   "id": "7a15cd8d",
   "metadata": {
    "execution": {
     "iopub.execute_input": "2022-07-10T10:51:25.004919Z",
     "iopub.status.busy": "2022-07-10T10:51:25.004219Z",
     "iopub.status.idle": "2022-07-10T10:51:26.195245Z",
     "shell.execute_reply": "2022-07-10T10:51:26.194256Z"
    },
    "papermill": {
     "duration": 1.212893,
     "end_time": "2022-07-10T10:51:26.197659",
     "exception": false,
     "start_time": "2022-07-10T10:51:24.984766",
     "status": "completed"
    },
    "tags": []
   },
   "outputs": [
    {
     "name": "stdout",
     "output_type": "stream",
     "text": [
      "Traceback (most recent call last):\r\n",
      "  File \"/opt/conda/bin/kaggle\", line 5, in <module>\r\n",
      "    from kaggle.cli import main\r\n",
      "  File \"/opt/conda/lib/python3.7/site-packages/kaggle/__init__.py\", line 23, in <module>\r\n",
      "    api.authenticate()\r\n",
      "  File \"/opt/conda/lib/python3.7/site-packages/kaggle/api/kaggle_api_extended.py\", line 166, in authenticate\r\n",
      "    self.config_file, self.config_dir))\r\n",
      "OSError: Could not find kaggle.json. Make sure it's located in /root/.kaggle. Or use the environment method.\r\n"
     ]
    }
   ],
   "source": [
    "# Run after few seconds\n",
    "!kaggle competitions submissions amex-default-prediction"
   ]
  }
 ],
 "metadata": {
  "kernelspec": {
   "display_name": "Python 3",
   "language": "python",
   "name": "python3"
  },
  "language_info": {
   "codemirror_mode": {
    "name": "ipython",
    "version": 3
   },
   "file_extension": ".py",
   "mimetype": "text/x-python",
   "name": "python",
   "nbconvert_exporter": "python",
   "pygments_lexer": "ipython3",
   "version": "3.7.12"
  },
  "papermill": {
   "default_parameters": {},
   "duration": 5243.272196,
   "end_time": "2022-07-10T10:51:27.345380",
   "environment_variables": {},
   "exception": null,
   "input_path": "__notebook__.ipynb",
   "output_path": "__notebook__.ipynb",
   "parameters": {},
   "start_time": "2022-07-10T09:24:04.073184",
   "version": "2.3.4"
  }
 },
 "nbformat": 4,
 "nbformat_minor": 5
}

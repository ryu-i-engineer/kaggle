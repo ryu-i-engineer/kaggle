{
  "cells": [
    {
      "cell_type": "markdown",
      "id": "4c34cc88",
      "metadata": {
        "papermill": {
          "duration": 0.016286,
          "end_time": "2022-07-15T16:13:27.288020",
          "exception": false,
          "start_time": "2022-07-15T16:13:27.271734",
          "status": "completed"
        },
        "tags": [],
        "id": "4c34cc88"
      },
      "source": [
        "# Get env info"
      ]
    },
    {
      "cell_type": "code",
      "execution_count": 2,
      "id": "17de3e3a",
      "metadata": {
        "execution": {
          "iopub.execute_input": "2022-07-15T16:13:27.308522Z",
          "iopub.status.busy": "2022-07-15T16:13:27.307775Z",
          "iopub.status.idle": "2022-07-15T16:13:27.318464Z",
          "shell.execute_reply": "2022-07-15T16:13:27.317771Z"
        },
        "papermill": {
          "duration": 0.022784,
          "end_time": "2022-07-15T16:13:27.320196",
          "exception": false,
          "start_time": "2022-07-15T16:13:27.297412",
          "status": "completed"
        },
        "tags": [],
        "id": "17de3e3a"
      },
      "outputs": [],
      "source": [
        "import os\n",
        "is_env_colab = True\n",
        "\n",
        "if \"kaggle\" in os.path.abspath(\".\"):\n",
        "    is_env_colab = False"
      ]
    },
    {
      "cell_type": "markdown",
      "id": "ec8911a0",
      "metadata": {
        "papermill": {
          "duration": 0.009252,
          "end_time": "2022-07-15T16:13:27.338460",
          "exception": false,
          "start_time": "2022-07-15T16:13:27.329208",
          "status": "completed"
        },
        "tags": [],
        "id": "ec8911a0"
      },
      "source": [
        "# Prepare for colab"
      ]
    },
    {
      "cell_type": "code",
      "execution_count": 3,
      "id": "e0be67aa",
      "metadata": {
        "execution": {
          "iopub.execute_input": "2022-07-15T16:13:27.357593Z",
          "iopub.status.busy": "2022-07-15T16:13:27.357300Z",
          "iopub.status.idle": "2022-07-15T16:13:27.361267Z",
          "shell.execute_reply": "2022-07-15T16:13:27.360484Z"
        },
        "papermill": {
          "duration": 0.015521,
          "end_time": "2022-07-15T16:13:27.362941",
          "exception": false,
          "start_time": "2022-07-15T16:13:27.347420",
          "status": "completed"
        },
        "tags": [],
        "id": "e0be67aa",
        "outputId": "35d84f1f-d455-4b00-c4ad-0510e3657915",
        "colab": {
          "base_uri": "https://localhost:8080/"
        }
      },
      "outputs": [
        {
          "output_type": "stream",
          "name": "stdout",
          "text": [
            "Looking in indexes: https://pypi.org/simple, https://us-python.pkg.dev/colab-wheels/public/simple/\n",
            "Requirement already satisfied: catboost in /usr/local/lib/python3.7/dist-packages (1.0.6)\n",
            "Requirement already satisfied: matplotlib in /usr/local/lib/python3.7/dist-packages (from catboost) (3.2.2)\n",
            "Requirement already satisfied: graphviz in /usr/local/lib/python3.7/dist-packages (from catboost) (0.10.1)\n",
            "Requirement already satisfied: pandas>=0.24.0 in /usr/local/lib/python3.7/dist-packages (from catboost) (1.3.5)\n",
            "Requirement already satisfied: scipy in /usr/local/lib/python3.7/dist-packages (from catboost) (1.7.3)\n",
            "Requirement already satisfied: numpy>=1.16.0 in /usr/local/lib/python3.7/dist-packages (from catboost) (1.21.6)\n",
            "Requirement already satisfied: plotly in /usr/local/lib/python3.7/dist-packages (from catboost) (5.5.0)\n",
            "Requirement already satisfied: six in /usr/local/lib/python3.7/dist-packages (from catboost) (1.15.0)\n",
            "Requirement already satisfied: python-dateutil>=2.7.3 in /usr/local/lib/python3.7/dist-packages (from pandas>=0.24.0->catboost) (2.8.2)\n",
            "Requirement already satisfied: pytz>=2017.3 in /usr/local/lib/python3.7/dist-packages (from pandas>=0.24.0->catboost) (2022.1)\n",
            "Requirement already satisfied: kiwisolver>=1.0.1 in /usr/local/lib/python3.7/dist-packages (from matplotlib->catboost) (1.4.3)\n",
            "Requirement already satisfied: cycler>=0.10 in /usr/local/lib/python3.7/dist-packages (from matplotlib->catboost) (0.11.0)\n",
            "Requirement already satisfied: pyparsing!=2.0.4,!=2.1.2,!=2.1.6,>=2.0.1 in /usr/local/lib/python3.7/dist-packages (from matplotlib->catboost) (3.0.9)\n",
            "Requirement already satisfied: typing-extensions in /usr/local/lib/python3.7/dist-packages (from kiwisolver>=1.0.1->matplotlib->catboost) (4.1.1)\n",
            "Requirement already satisfied: tenacity>=6.2.0 in /usr/local/lib/python3.7/dist-packages (from plotly->catboost) (8.0.1)\n"
          ]
        }
      ],
      "source": [
        "if is_env_colab:\n",
        "    !pip install catboost"
      ]
    },
    {
      "cell_type": "markdown",
      "id": "20589c9e",
      "metadata": {
        "papermill": {
          "duration": 0.008824,
          "end_time": "2022-07-15T16:13:27.380498",
          "exception": false,
          "start_time": "2022-07-15T16:13:27.371674",
          "status": "completed"
        },
        "tags": [],
        "id": "20589c9e"
      },
      "source": [
        "# Kaggle Set up"
      ]
    },
    {
      "cell_type": "code",
      "execution_count": 4,
      "id": "bad112fb",
      "metadata": {
        "execution": {
          "iopub.execute_input": "2022-07-15T16:13:27.400098Z",
          "iopub.status.busy": "2022-07-15T16:13:27.399391Z",
          "iopub.status.idle": "2022-07-15T16:13:27.403356Z",
          "shell.execute_reply": "2022-07-15T16:13:27.402606Z"
        },
        "papermill": {
          "duration": 0.015568,
          "end_time": "2022-07-15T16:13:27.405067",
          "exception": false,
          "start_time": "2022-07-15T16:13:27.389499",
          "status": "completed"
        },
        "tags": [],
        "id": "bad112fb",
        "outputId": "b85198e8-9a4b-4259-b3bd-ef379d44098e",
        "colab": {
          "base_uri": "https://localhost:8080/"
        }
      },
      "outputs": [
        {
          "output_type": "stream",
          "name": "stdout",
          "text": [
            "Looking in indexes: https://pypi.org/simple, https://us-python.pkg.dev/colab-wheels/public/simple/\n",
            "Requirement already satisfied: kaggle in /usr/local/lib/python3.7/dist-packages (1.5.12)\n",
            "Requirement already satisfied: six>=1.10 in /usr/local/lib/python3.7/dist-packages (from kaggle) (1.15.0)\n",
            "Requirement already satisfied: requests in /usr/local/lib/python3.7/dist-packages (from kaggle) (2.23.0)\n",
            "Requirement already satisfied: certifi in /usr/local/lib/python3.7/dist-packages (from kaggle) (2022.6.15)\n",
            "Requirement already satisfied: tqdm in /usr/local/lib/python3.7/dist-packages (from kaggle) (4.64.0)\n",
            "Requirement already satisfied: python-dateutil in /usr/local/lib/python3.7/dist-packages (from kaggle) (2.8.2)\n",
            "Requirement already satisfied: urllib3 in /usr/local/lib/python3.7/dist-packages (from kaggle) (1.24.3)\n",
            "Requirement already satisfied: python-slugify in /usr/local/lib/python3.7/dist-packages (from kaggle) (6.1.2)\n",
            "Requirement already satisfied: text-unidecode>=1.3 in /usr/local/lib/python3.7/dist-packages (from python-slugify->kaggle) (1.3)\n",
            "Requirement already satisfied: idna<3,>=2.5 in /usr/local/lib/python3.7/dist-packages (from requests->kaggle) (2.10)\n",
            "Requirement already satisfied: chardet<4,>=3.0.2 in /usr/local/lib/python3.7/dist-packages (from requests->kaggle) (3.0.4)\n"
          ]
        }
      ],
      "source": [
        "if is_env_colab:\n",
        "    !pip install kaggle"
      ]
    },
    {
      "cell_type": "markdown",
      "id": "3fa90515",
      "metadata": {
        "papermill": {
          "duration": 0.008806,
          "end_time": "2022-07-15T16:13:27.422550",
          "exception": false,
          "start_time": "2022-07-15T16:13:27.413744",
          "status": "completed"
        },
        "tags": [],
        "id": "3fa90515"
      },
      "source": [
        "## Upload API Token"
      ]
    },
    {
      "cell_type": "code",
      "execution_count": 5,
      "id": "54e44e29",
      "metadata": {
        "execution": {
          "iopub.execute_input": "2022-07-15T16:13:27.442237Z",
          "iopub.status.busy": "2022-07-15T16:13:27.441555Z",
          "iopub.status.idle": "2022-07-15T16:13:27.448196Z",
          "shell.execute_reply": "2022-07-15T16:13:27.447549Z"
        },
        "papermill": {
          "duration": 0.01814,
          "end_time": "2022-07-15T16:13:27.449796",
          "exception": false,
          "start_time": "2022-07-15T16:13:27.431656",
          "status": "completed"
        },
        "tags": [],
        "id": "54e44e29",
        "outputId": "422d80a7-9e41-4a42-bb3b-9345c6102a77",
        "colab": {
          "resources": {
            "http://localhost:8080/nbextensions/google.colab/files.js": {
              "data": "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",
              "ok": true,
              "headers": [
                [
                  "content-type",
                  "application/javascript"
                ]
              ],
              "status": 200,
              "status_text": ""
            }
          },
          "base_uri": "https://localhost:8080/",
          "height": 90
        }
      },
      "outputs": [
        {
          "output_type": "display_data",
          "data": {
            "text/plain": [
              "<IPython.core.display.HTML object>"
            ],
            "text/html": [
              "\n",
              "     <input type=\"file\" id=\"files-a52a0aac-6388-47f4-9fcf-d0d837653061\" name=\"files[]\" multiple disabled\n",
              "        style=\"border:none\" />\n",
              "     <output id=\"result-a52a0aac-6388-47f4-9fcf-d0d837653061\">\n",
              "      Upload widget is only available when the cell has been executed in the\n",
              "      current browser session. Please rerun this cell to enable.\n",
              "      </output>\n",
              "      <script src=\"/nbextensions/google.colab/files.js\"></script> "
            ]
          },
          "metadata": {}
        },
        {
          "output_type": "stream",
          "name": "stdout",
          "text": [
            "Saving kaggle.json to kaggle.json\n",
            "User uploaded file \"kaggle.json\" with length 62 bytes\n"
          ]
        }
      ],
      "source": [
        "if is_env_colab:\n",
        "    from google.colab import files\n",
        "\n",
        "    uploaded = files.upload()\n",
        "\n",
        "    for fn in uploaded.keys():\n",
        "      print('User uploaded file \"{name}\" with length {length} bytes'.format(\n",
        "          name=fn, length=len(uploaded[fn])))\n",
        "\n",
        "    # Then move kaggle.json into the folder where the API expects to find it.\n",
        "    !mkdir -p ~/.kaggle/ && mv kaggle.json ~/.kaggle/ && chmod 600 ~/.kaggle/kaggle.json"
      ]
    },
    {
      "cell_type": "markdown",
      "id": "1abbc588",
      "metadata": {
        "papermill": {
          "duration": 0.008512,
          "end_time": "2022-07-15T16:13:27.467327",
          "exception": false,
          "start_time": "2022-07-15T16:13:27.458815",
          "status": "completed"
        },
        "tags": [],
        "id": "1abbc588"
      },
      "source": [
        "## Download and unzip dataset"
      ]
    },
    {
      "cell_type": "code",
      "execution_count": 5,
      "id": "c17f8dd7",
      "metadata": {
        "execution": {
          "iopub.execute_input": "2022-07-15T16:13:27.486038Z",
          "iopub.status.busy": "2022-07-15T16:13:27.485615Z",
          "iopub.status.idle": "2022-07-15T16:13:27.490276Z",
          "shell.execute_reply": "2022-07-15T16:13:27.489580Z"
        },
        "papermill": {
          "duration": 0.016071,
          "end_time": "2022-07-15T16:13:27.491993",
          "exception": false,
          "start_time": "2022-07-15T16:13:27.475922",
          "status": "completed"
        },
        "tags": [],
        "id": "c17f8dd7",
        "outputId": "66554b69-8f32-49e2-c98d-bef03ec35aa7",
        "colab": {
          "base_uri": "https://localhost:8080/"
        }
      },
      "outputs": [
        {
          "output_type": "stream",
          "name": "stdout",
          "text": [
            "Downloading amex-fe-plus.zip to /content\n",
            "100% 3.41G/3.42G [01:53<00:00, 28.5MB/s]\n",
            "100% 3.42G/3.42G [01:53<00:00, 32.5MB/s]\n",
            "Archive:  /content/amex-fe-plus.zip\n",
            "  inflating: test_fe_plus_plus.parquet  \n",
            "  inflating: train_fe_plus_plus.parquet  \n"
          ]
        }
      ],
      "source": [
        "if is_env_colab:\n",
        "    # !kaggle datasets download -d huseyincot/amex-agg-data-pickle\n",
        "    # !unzip /content/amex-agg-data-pickle.zip\n",
        "    !kaggle datasets download -d ryuina/amex-fe-plus\n",
        "    !unzip /content/amex-fe-plus.zip"
      ]
    },
    {
      "cell_type": "code",
      "execution_count": 6,
      "id": "e4df1701",
      "metadata": {
        "execution": {
          "iopub.execute_input": "2022-07-15T16:13:27.515341Z",
          "iopub.status.busy": "2022-07-15T16:13:27.514880Z",
          "iopub.status.idle": "2022-07-15T16:13:27.523654Z",
          "shell.execute_reply": "2022-07-15T16:13:27.522700Z"
        },
        "papermill": {
          "duration": 0.025128,
          "end_time": "2022-07-15T16:13:27.526436",
          "exception": false,
          "start_time": "2022-07-15T16:13:27.501308",
          "status": "completed"
        },
        "tags": [],
        "id": "e4df1701",
        "outputId": "c553e678-87f9-4729-ac98-ff0b208e0cf1",
        "colab": {
          "base_uri": "https://localhost:8080/"
        }
      },
      "outputs": [
        {
          "output_type": "stream",
          "name": "stdout",
          "text": [
            "Downloading sample_submission.csv.zip to /content\n",
            " 28% 9.00M/32.4M [00:01<00:04, 5.91MB/s]\n",
            "100% 32.4M/32.4M [00:01<00:00, 23.1MB/s]\n",
            "Archive:  /content/sample_submission.csv.zip\n",
            "  inflating: sample_submission.csv   \n"
          ]
        }
      ],
      "source": [
        "if is_env_colab:\n",
        "    !kaggle competitions download -c amex-default-prediction -f sample_submission.csv\n",
        "    !unzip /content/sample_submission.csv.zip"
      ]
    },
    {
      "cell_type": "markdown",
      "id": "f4989bdc",
      "metadata": {
        "papermill": {
          "duration": 0.016438,
          "end_time": "2022-07-15T16:13:27.558017",
          "exception": false,
          "start_time": "2022-07-15T16:13:27.541579",
          "status": "completed"
        },
        "tags": [],
        "id": "f4989bdc"
      },
      "source": [
        "# Settings"
      ]
    },
    {
      "cell_type": "code",
      "execution_count": 6,
      "id": "95e00624",
      "metadata": {
        "_cell_guid": "b1076dfc-b9ad-4769-8c92-a6c4dae69d19",
        "_uuid": "8f2839f25d086af736a60e9eeb907d3b93b6e0e5",
        "execution": {
          "iopub.execute_input": "2022-07-15T16:13:27.588423Z",
          "iopub.status.busy": "2022-07-15T16:13:27.588075Z",
          "iopub.status.idle": "2022-07-15T16:13:28.957484Z",
          "shell.execute_reply": "2022-07-15T16:13:28.956421Z"
        },
        "papermill": {
          "duration": 1.38867,
          "end_time": "2022-07-15T16:13:28.960624",
          "exception": false,
          "start_time": "2022-07-15T16:13:27.571954",
          "status": "completed"
        },
        "tags": [],
        "id": "95e00624"
      },
      "outputs": [],
      "source": [
        "import pandas as pd\n",
        "import numpy as np\n",
        "import matplotlib.pyplot as plt\n",
        "import random\n",
        "\n",
        "from catboost import CatBoostClassifier, Pool\n",
        "from sklearn.preprocessing import LabelEncoder\n",
        "from sklearn.model_selection import KFold\n",
        "\n",
        "import os\n",
        "import gc; gc.enable()\n",
        "\n",
        "import warnings\n",
        "warnings.filterwarnings('ignore')"
      ]
    },
    {
      "cell_type": "code",
      "execution_count": 7,
      "id": "004febdf",
      "metadata": {
        "execution": {
          "iopub.execute_input": "2022-07-15T16:13:28.994650Z",
          "iopub.status.busy": "2022-07-15T16:13:28.994155Z",
          "iopub.status.idle": "2022-07-15T16:13:29.006339Z",
          "shell.execute_reply": "2022-07-15T16:13:29.002101Z"
        },
        "papermill": {
          "duration": 0.030433,
          "end_time": "2022-07-15T16:13:29.008239",
          "exception": false,
          "start_time": "2022-07-15T16:13:28.977806",
          "status": "completed"
        },
        "tags": [],
        "id": "004febdf"
      },
      "outputs": [],
      "source": [
        "VER=1\n",
        "SEED = 42\n",
        "FOLDS = 5\n",
        "\n",
        "cat_features = [\"B_30\", \"B_38\", \"D_114\", \"D_116\", \"D_117\", \"D_120\", \"D_126\", \"D_63\", \"D_64\", \"D_66\", \"D_68\"]\n",
        "\n",
        "def seed_everything(seed):\n",
        "    random.seed(seed)\n",
        "    np.random.seed(seed)\n",
        "    os.environ['PYTHONHASHSEED'] = str(seed)\n",
        "\n",
        "seed_everything(SEED)"
      ]
    },
    {
      "cell_type": "code",
      "execution_count": 8,
      "id": "3a167a09",
      "metadata": {
        "execution": {
          "iopub.execute_input": "2022-07-15T16:13:29.049841Z",
          "iopub.status.busy": "2022-07-15T16:13:29.049400Z",
          "iopub.status.idle": "2022-07-15T16:13:29.054157Z",
          "shell.execute_reply": "2022-07-15T16:13:29.053307Z"
        },
        "papermill": {
          "duration": 0.030493,
          "end_time": "2022-07-15T16:13:29.058829",
          "exception": false,
          "start_time": "2022-07-15T16:13:29.028336",
          "status": "completed"
        },
        "tags": [],
        "id": "3a167a09"
      },
      "outputs": [],
      "source": [
        "parent_dir = \"../input/\"\n",
        "if is_env_colab:\n",
        "    parent_dir = \"/content/\"    "
      ]
    },
    {
      "cell_type": "code",
      "execution_count": 9,
      "id": "c0e94a28",
      "metadata": {
        "execution": {
          "iopub.execute_input": "2022-07-15T16:13:29.093540Z",
          "iopub.status.busy": "2022-07-15T16:13:29.093091Z",
          "iopub.status.idle": "2022-07-15T16:14:14.382522Z",
          "shell.execute_reply": "2022-07-15T16:14:14.381643Z"
        },
        "papermill": {
          "duration": 45.307941,
          "end_time": "2022-07-15T16:14:14.385086",
          "exception": false,
          "start_time": "2022-07-15T16:13:29.077145",
          "status": "completed"
        },
        "tags": [],
        "id": "c0e94a28"
      },
      "outputs": [],
      "source": [
        "# train = pd.read_pickle(parent_dir + \"amexdefaultpickleincludemedian/train_agg.pkl\", compression=\"gzip\")\n",
        "# train = train.reset_index(level=0)\n",
        "\n",
        "# test = pd.read_pickle(parent_dir + \"amexdefaultpickleincludemedian/test.pkl\", compression=\"gzip\")\n",
        "# test = test.reset_index(level=0)\n",
        "\n",
        "# train = pd.read_pickle(parent_dir + \"amex-agg-data-pickle/train_agg.pkl\", compression=\"gzip\")\n",
        "# train = train.reset_index(level=0)\n",
        "# test = pd.read_pickle(parent_dir + \"amex-agg-data-pickle/test_agg.pkl\", compression=\"gzip\")\n",
        "# test = test.reset_index(level=0)\n",
        "\n",
        "train = pd.read_parquet(parent_dir + \"train_fe_plus_plus.parquet\")\n",
        "# train = train.reset_index(level=0)\n",
        "test = pd.read_parquet(parent_dir + \"test_fe_plus_plus.parquet\")\n",
        "# test = test.reset_index(level=0)"
      ]
    },
    {
      "cell_type": "code",
      "execution_count": 10,
      "id": "81cbcbdf",
      "metadata": {
        "execution": {
          "iopub.execute_input": "2022-07-15T16:14:14.404618Z",
          "iopub.status.busy": "2022-07-15T16:14:14.404283Z",
          "iopub.status.idle": "2022-07-15T16:14:16.433273Z",
          "shell.execute_reply": "2022-07-15T16:14:16.432437Z"
        },
        "papermill": {
          "duration": 2.041229,
          "end_time": "2022-07-15T16:14:16.435648",
          "exception": false,
          "start_time": "2022-07-15T16:14:14.394419",
          "status": "completed"
        },
        "tags": [],
        "id": "81cbcbdf"
      },
      "outputs": [],
      "source": [
        "cat_features_last = [f\"{cf}_last\" for cf in cat_features]\n",
        "\n",
        "le_encoder = LabelEncoder()\n",
        "for categorical_feature in cat_features_last:\n",
        "    train[categorical_feature] = le_encoder.fit_transform(train[categorical_feature])\n",
        "    test[categorical_feature] = le_encoder.transform(test[categorical_feature])"
      ]
    },
    {
      "cell_type": "code",
      "execution_count": 11,
      "id": "b931bba5",
      "metadata": {
        "execution": {
          "iopub.execute_input": "2022-07-15T16:14:16.455441Z",
          "iopub.status.busy": "2022-07-15T16:14:16.455092Z",
          "iopub.status.idle": "2022-07-15T16:14:18.013098Z",
          "shell.execute_reply": "2022-07-15T16:14:18.012027Z"
        },
        "papermill": {
          "duration": 1.570551,
          "end_time": "2022-07-15T16:14:18.015521",
          "exception": false,
          "start_time": "2022-07-15T16:14:16.444970",
          "status": "completed"
        },
        "tags": [],
        "id": "b931bba5"
      },
      "outputs": [],
      "source": [
        "# https://www.kaggle.com/code/ragnar123/amex-lgbm-dart-cv-0-7963\n",
        "# Round last float features to 2 decimal place\n",
        "float_cols = list(train.dtypes[(train.dtypes == 'float16') | (train.dtypes == 'float32') | (train.dtypes == 'float64')].index)\n",
        "float_cols = [col for col in float_cols if 'last' in col]\n",
        "\n",
        "train[float_cols] = train[float_cols].round(2)\n",
        "test[float_cols] = test[float_cols].round(2)"
      ]
    },
    {
      "cell_type": "code",
      "execution_count": 12,
      "id": "ba13c62d",
      "metadata": {
        "execution": {
          "iopub.execute_input": "2022-07-15T16:14:18.035731Z",
          "iopub.status.busy": "2022-07-15T16:14:18.035409Z",
          "iopub.status.idle": "2022-07-15T16:14:24.212689Z",
          "shell.execute_reply": "2022-07-15T16:14:24.207569Z"
        },
        "papermill": {
          "duration": 6.191719,
          "end_time": "2022-07-15T16:14:24.216845",
          "exception": false,
          "start_time": "2022-07-15T16:14:18.025126",
          "status": "completed"
        },
        "tags": [],
        "id": "ba13c62d"
      },
      "outputs": [],
      "source": [
        "train = train.set_index('customer_ID')\n",
        "train = train.sort_index().reset_index()\n",
        "FEATURES = train.drop(columns=['customer_ID', 'target']).columns"
      ]
    },
    {
      "cell_type": "code",
      "execution_count": 13,
      "id": "f0ecff48",
      "metadata": {
        "execution": {
          "iopub.execute_input": "2022-07-15T16:14:24.269747Z",
          "iopub.status.busy": "2022-07-15T16:14:24.269149Z",
          "iopub.status.idle": "2022-07-15T16:14:24.287474Z",
          "shell.execute_reply": "2022-07-15T16:14:24.284982Z"
        },
        "papermill": {
          "duration": 0.043293,
          "end_time": "2022-07-15T16:14:24.290609",
          "exception": false,
          "start_time": "2022-07-15T16:14:24.247316",
          "status": "completed"
        },
        "tags": [],
        "id": "f0ecff48"
      },
      "outputs": [],
      "source": [
        "# https://www.kaggle.com/competitions/amex-default-prediction/discussion/328020\n",
        "# https://www.kaggle.com/code/rohanrao/amex-competition-metric-implementations\n",
        "def amex_metric_np(target: np.ndarray, preds: np.ndarray) -> float:\n",
        "    indices = np.argsort(preds)[::-1]\n",
        "    preds, target = preds[indices], target[indices]\n",
        "\n",
        "    n_pos = np.sum(target)\n",
        "    n_neg = target.shape[0] - n_pos\n",
        "    \n",
        "    weight = 20.0 - target * 19.0\n",
        "    cum_norm_weight = (weight * (1 / weight.sum())).cumsum()\n",
        "    four_pct_mask = cum_norm_weight <= 0.04\n",
        "    d = np.sum(target[four_pct_mask]) / n_pos\n",
        "    \n",
        "    lorentz = (target * (1 / n_pos)).cumsum()\n",
        "    gini = ((lorentz - cum_norm_weight) * weight).sum()\n",
        "    gini_max = 10 * n_neg * (1 - 19 / (n_pos + 20 * n_neg))\n",
        "\n",
        "    g = gini / gini_max\n",
        "\n",
        "    return 0.5 * (g + d)"
      ]
    },
    {
      "cell_type": "code",
      "execution_count": 14,
      "id": "155fb197",
      "metadata": {
        "execution": {
          "iopub.execute_input": "2022-07-15T16:14:24.334040Z",
          "iopub.status.busy": "2022-07-15T16:14:24.333456Z",
          "iopub.status.idle": "2022-07-15T16:14:24.341948Z",
          "shell.execute_reply": "2022-07-15T16:14:24.341087Z"
        },
        "papermill": {
          "duration": 0.030338,
          "end_time": "2022-07-15T16:14:24.346412",
          "exception": false,
          "start_time": "2022-07-15T16:14:24.316074",
          "status": "completed"
        },
        "tags": [],
        "id": "155fb197"
      },
      "outputs": [],
      "source": [
        "cat_params = {\n",
        "    'iterations':26000,\n",
        "    'random_state':SEED,\n",
        "    'learning_rate':0.01,\n",
        "\n",
        "    # 'depth': 4,\n",
        "    'l2_leaf_reg':14,\n",
        "    'one_hot_max_size':20,\n",
        "    # 'random_strength': 0.5,\n",
        "    # 'bagging_temperature': 0.75,\n",
        "\n",
        "    # 'num_leaves': 100,\n",
        "    'min_child_samples': 40,\n",
        "\n",
        "    'task_type':\"GPU\",\n",
        "    'border_count':128,\n",
        "}"
      ]
    },
    {
      "cell_type": "code",
      "execution_count": 15,
      "id": "72e0dac6",
      "metadata": {
        "execution": {
          "iopub.execute_input": "2022-07-15T16:14:24.385070Z",
          "iopub.status.busy": "2022-07-15T16:14:24.384608Z",
          "iopub.status.idle": "2022-07-15T16:48:45.264974Z",
          "shell.execute_reply": "2022-07-15T16:48:45.263500Z"
        },
        "papermill": {
          "duration": 2060.899656,
          "end_time": "2022-07-15T16:48:45.266833",
          "exception": false,
          "start_time": "2022-07-15T16:14:24.367177",
          "status": "completed"
        },
        "tags": [],
        "id": "72e0dac6",
        "outputId": "1f2a08c7-7c5d-41b1-f00e-8a0e7e7f5122",
        "colab": {
          "base_uri": "https://localhost:8080/"
        }
      },
      "outputs": [
        {
          "output_type": "stream",
          "name": "stdout",
          "text": [
            "#########################\n",
            "### Fold 1\n",
            "### Train size 367130 Valid size 91783\n",
            "### Training with 100% fold data...\n",
            "#########################\n",
            "0:\tlearn: 0.6805387\ttest: 0.6805309\tbest: 0.6805309 (0)\ttotal: 31.7ms\tremaining: 13m 43s\n",
            "500:\tlearn: 0.2307847\ttest: 0.2322177\tbest: 0.2322177 (500)\ttotal: 14.1s\tremaining: 11m 58s\n",
            "1000:\tlearn: 0.2233033\ttest: 0.2258938\tbest: 0.2258938 (1000)\ttotal: 27.5s\tremaining: 11m 27s\n",
            "1500:\tlearn: 0.2194457\ttest: 0.2232658\tbest: 0.2232658 (1500)\ttotal: 41.1s\tremaining: 11m 11s\n",
            "2000:\tlearn: 0.2168692\ttest: 0.2218940\tbest: 0.2218940 (2000)\ttotal: 54.3s\tremaining: 10m 51s\n",
            "2500:\tlearn: 0.2148172\ttest: 0.2210571\tbest: 0.2210571 (2500)\ttotal: 1m 8s\tremaining: 10m 39s\n",
            "3000:\tlearn: 0.2131553\ttest: 0.2204616\tbest: 0.2204616 (3000)\ttotal: 1m 21s\tremaining: 10m 22s\n",
            "3500:\tlearn: 0.2116779\ttest: 0.2200282\tbest: 0.2200282 (3500)\ttotal: 1m 34s\tremaining: 10m 6s\n",
            "4000:\tlearn: 0.2103168\ttest: 0.2196965\tbest: 0.2196964 (3999)\ttotal: 1m 47s\tremaining: 9m 49s\n",
            "4500:\tlearn: 0.2090662\ttest: 0.2194062\tbest: 0.2194062 (4500)\ttotal: 2m\tremaining: 9m 34s\n",
            "5000:\tlearn: 0.2078768\ttest: 0.2191606\tbest: 0.2191606 (5000)\ttotal: 2m 12s\tremaining: 9m 18s\n",
            "5500:\tlearn: 0.2067341\ttest: 0.2189464\tbest: 0.2189464 (5500)\ttotal: 2m 25s\tremaining: 9m 3s\n",
            "6000:\tlearn: 0.2056441\ttest: 0.2187630\tbest: 0.2187630 (6000)\ttotal: 2m 38s\tremaining: 8m 49s\n",
            "6500:\tlearn: 0.2045354\ttest: 0.2185937\tbest: 0.2185935 (6493)\ttotal: 2m 51s\tremaining: 8m 34s\n",
            "7000:\tlearn: 0.2034982\ttest: 0.2184674\tbest: 0.2184674 (7000)\ttotal: 3m 4s\tremaining: 8m 20s\n",
            "7500:\tlearn: 0.2024937\ttest: 0.2183216\tbest: 0.2183207 (7497)\ttotal: 3m 17s\tremaining: 8m 6s\n",
            "8000:\tlearn: 0.2014894\ttest: 0.2182000\tbest: 0.2181995 (7997)\ttotal: 3m 30s\tremaining: 7m 52s\n",
            "8500:\tlearn: 0.2005132\ttest: 0.2180782\tbest: 0.2180777 (8496)\ttotal: 3m 42s\tremaining: 7m 38s\n",
            "9000:\tlearn: 0.1995428\ttest: 0.2179752\tbest: 0.2179752 (9000)\ttotal: 3m 55s\tremaining: 7m 25s\n",
            "9500:\tlearn: 0.1985862\ttest: 0.2178547\tbest: 0.2178547 (9500)\ttotal: 4m 8s\tremaining: 7m 11s\n",
            "10000:\tlearn: 0.1976629\ttest: 0.2177659\tbest: 0.2177649 (9993)\ttotal: 4m 21s\tremaining: 6m 57s\n",
            "10500:\tlearn: 0.1967077\ttest: 0.2176623\tbest: 0.2176613 (10485)\ttotal: 4m 34s\tremaining: 6m 44s\n",
            "11000:\tlearn: 0.1957818\ttest: 0.2175894\tbest: 0.2175885 (10998)\ttotal: 4m 47s\tremaining: 6m 31s\n",
            "11500:\tlearn: 0.1948714\ttest: 0.2175211\tbest: 0.2175206 (11497)\ttotal: 4m 59s\tremaining: 6m 17s\n",
            "12000:\tlearn: 0.1939847\ttest: 0.2174404\tbest: 0.2174398 (11991)\ttotal: 5m 12s\tremaining: 6m 4s\n",
            "12500:\tlearn: 0.1930991\ttest: 0.2173720\tbest: 0.2173720 (12500)\ttotal: 5m 25s\tremaining: 5m 51s\n",
            "13000:\tlearn: 0.1922032\ttest: 0.2173125\tbest: 0.2173125 (13000)\ttotal: 5m 37s\tremaining: 5m 37s\n",
            "13500:\tlearn: 0.1913297\ttest: 0.2172593\tbest: 0.2172593 (13500)\ttotal: 5m 50s\tremaining: 5m 24s\n",
            "14000:\tlearn: 0.1904775\ttest: 0.2172136\tbest: 0.2172078 (13964)\ttotal: 6m 3s\tremaining: 5m 11s\n",
            "14500:\tlearn: 0.1896235\ttest: 0.2171675\tbest: 0.2171669 (14499)\ttotal: 6m 16s\tremaining: 4m 58s\n",
            "15000:\tlearn: 0.1888027\ttest: 0.2171125\tbest: 0.2171125 (15000)\ttotal: 6m 28s\tremaining: 4m 45s\n",
            "15500:\tlearn: 0.1879600\ttest: 0.2170651\tbest: 0.2170651 (15500)\ttotal: 6m 41s\tremaining: 4m 32s\n",
            "16000:\tlearn: 0.1871190\ttest: 0.2170095\tbest: 0.2170092 (15998)\ttotal: 6m 54s\tremaining: 4m 18s\n",
            "16500:\tlearn: 0.1862717\ttest: 0.2169632\tbest: 0.2169625 (16477)\ttotal: 7m 7s\tremaining: 4m 6s\n",
            "17000:\tlearn: 0.1854715\ttest: 0.2169311\tbest: 0.2169303 (16982)\ttotal: 7m 21s\tremaining: 3m 53s\n",
            "17500:\tlearn: 0.1846662\ttest: 0.2169174\tbest: 0.2169173 (17498)\ttotal: 7m 34s\tremaining: 3m 40s\n",
            "18000:\tlearn: 0.1838509\ttest: 0.2168762\tbest: 0.2168761 (17997)\ttotal: 7m 47s\tremaining: 3m 27s\n",
            "18500:\tlearn: 0.1830322\ttest: 0.2168466\tbest: 0.2168449 (18489)\ttotal: 8m\tremaining: 3m 14s\n",
            "19000:\tlearn: 0.1822166\ttest: 0.2168175\tbest: 0.2168155 (18942)\ttotal: 8m 13s\tremaining: 3m 1s\n",
            "19500:\tlearn: 0.1814239\ttest: 0.2167864\tbest: 0.2167861 (19476)\ttotal: 8m 26s\tremaining: 2m 48s\n",
            "20000:\tlearn: 0.1806338\ttest: 0.2167575\tbest: 0.2167575 (19999)\ttotal: 8m 39s\tremaining: 2m 35s\n",
            "20500:\tlearn: 0.1798276\ttest: 0.2167313\tbest: 0.2167287 (20466)\ttotal: 8m 52s\tremaining: 2m 22s\n",
            "21000:\tlearn: 0.1790451\ttest: 0.2167134\tbest: 0.2167083 (20952)\ttotal: 9m 5s\tremaining: 2m 9s\n",
            "21500:\tlearn: 0.1782510\ttest: 0.2166920\tbest: 0.2166913 (21486)\ttotal: 9m 18s\tremaining: 1m 56s\n",
            "22000:\tlearn: 0.1774812\ttest: 0.2166707\tbest: 0.2166689 (21956)\ttotal: 9m 31s\tremaining: 1m 43s\n",
            "22500:\tlearn: 0.1767191\ttest: 0.2166519\tbest: 0.2166519 (22500)\ttotal: 9m 44s\tremaining: 1m 30s\n",
            "23000:\tlearn: 0.1759716\ttest: 0.2166283\tbest: 0.2166276 (22999)\ttotal: 9m 57s\tremaining: 1m 17s\n",
            "23500:\tlearn: 0.1752218\ttest: 0.2166083\tbest: 0.2166075 (23480)\ttotal: 10m 10s\tremaining: 1m 4s\n",
            "24000:\tlearn: 0.1744670\ttest: 0.2165804\tbest: 0.2165789 (23965)\ttotal: 10m 23s\tremaining: 51.9s\n",
            "24500:\tlearn: 0.1737263\ttest: 0.2165665\tbest: 0.2165648 (24397)\ttotal: 10m 36s\tremaining: 38.9s\n",
            "25000:\tlearn: 0.1729768\ttest: 0.2165526\tbest: 0.2165493 (24990)\ttotal: 10m 49s\tremaining: 26s\n",
            "25500:\tlearn: 0.1722257\ttest: 0.2165180\tbest: 0.2165169 (25441)\ttotal: 11m 2s\tremaining: 13s\n",
            "25999:\tlearn: 0.1714838\ttest: 0.2164929\tbest: 0.2164895 (25936)\ttotal: 11m 15s\tremaining: 0us\n",
            "bestTest = 0.2164894668\n",
            "bestIteration = 25936\n",
            "Shrink model to first 25937 iterations.\n",
            "Amex Metric = 0.7960379858087423 \n",
            "\n",
            "#########################\n",
            "### Fold 2\n",
            "### Train size 367130 Valid size 91783\n",
            "### Training with 100% fold data...\n",
            "#########################\n",
            "0:\tlearn: 0.6805830\ttest: 0.6806030\tbest: 0.6806030 (0)\ttotal: 31.3ms\tremaining: 13m 34s\n",
            "500:\tlearn: 0.2308048\ttest: 0.2324430\tbest: 0.2324430 (500)\ttotal: 15.3s\tremaining: 12m 58s\n",
            "1000:\tlearn: 0.2232742\ttest: 0.2260870\tbest: 0.2260870 (1000)\ttotal: 29s\tremaining: 12m 3s\n",
            "1500:\tlearn: 0.2194442\ttest: 0.2234326\tbest: 0.2234326 (1500)\ttotal: 42.3s\tremaining: 11m 30s\n",
            "2000:\tlearn: 0.2168160\ttest: 0.2220231\tbest: 0.2220231 (2000)\ttotal: 55.9s\tremaining: 11m 10s\n",
            "2500:\tlearn: 0.2148380\ttest: 0.2211516\tbest: 0.2211516 (2500)\ttotal: 1m 9s\tremaining: 10m 49s\n",
            "3000:\tlearn: 0.2131740\ttest: 0.2205505\tbest: 0.2205505 (3000)\ttotal: 1m 25s\tremaining: 10m 53s\n",
            "3500:\tlearn: 0.2116518\ttest: 0.2200716\tbest: 0.2200716 (3500)\ttotal: 1m 38s\tremaining: 10m 31s\n",
            "4000:\tlearn: 0.2102705\ttest: 0.2196957\tbest: 0.2196957 (4000)\ttotal: 1m 50s\tremaining: 10m 9s\n",
            "4500:\tlearn: 0.2090085\ttest: 0.2194014\tbest: 0.2194014 (4500)\ttotal: 2m 3s\tremaining: 9m 49s\n",
            "5000:\tlearn: 0.2078284\ttest: 0.2191479\tbest: 0.2191479 (5000)\ttotal: 2m 16s\tremaining: 9m 31s\n",
            "5500:\tlearn: 0.2066749\ttest: 0.2189292\tbest: 0.2189289 (5499)\ttotal: 2m 28s\tremaining: 9m 14s\n",
            "6000:\tlearn: 0.2055936\ttest: 0.2187355\tbest: 0.2187355 (6000)\ttotal: 2m 42s\tremaining: 9m\n",
            "6500:\tlearn: 0.2045423\ttest: 0.2185714\tbest: 0.2185694 (6495)\ttotal: 2m 54s\tremaining: 8m 44s\n",
            "7000:\tlearn: 0.2034894\ttest: 0.2184085\tbest: 0.2184085 (7000)\ttotal: 3m 7s\tremaining: 8m 30s\n",
            "7500:\tlearn: 0.2024516\ttest: 0.2182612\tbest: 0.2182612 (7500)\ttotal: 3m 20s\tremaining: 8m 15s\n",
            "8000:\tlearn: 0.2014230\ttest: 0.2181147\tbest: 0.2181147 (8000)\ttotal: 3m 33s\tremaining: 8m 1s\n",
            "8500:\tlearn: 0.2004534\ttest: 0.2179901\tbest: 0.2179901 (8497)\ttotal: 3m 46s\tremaining: 7m 46s\n",
            "9000:\tlearn: 0.1995006\ttest: 0.2178778\tbest: 0.2178778 (9000)\ttotal: 3m 59s\tremaining: 7m 32s\n",
            "9500:\tlearn: 0.1985387\ttest: 0.2177752\tbest: 0.2177752 (9500)\ttotal: 4m 12s\tremaining: 7m 18s\n",
            "10000:\tlearn: 0.1976267\ttest: 0.2176802\tbest: 0.2176802 (10000)\ttotal: 4m 25s\tremaining: 7m 4s\n",
            "10500:\tlearn: 0.1967101\ttest: 0.2175922\tbest: 0.2175919 (10479)\ttotal: 4m 38s\tremaining: 6m 50s\n",
            "11000:\tlearn: 0.1957730\ttest: 0.2175083\tbest: 0.2175082 (10996)\ttotal: 4m 50s\tremaining: 6m 36s\n",
            "11500:\tlearn: 0.1948780\ttest: 0.2174331\tbest: 0.2174331 (11500)\ttotal: 5m 3s\tremaining: 6m 22s\n",
            "12000:\tlearn: 0.1939921\ttest: 0.2173477\tbest: 0.2173465 (11992)\ttotal: 5m 16s\tremaining: 6m 9s\n",
            "12500:\tlearn: 0.1931143\ttest: 0.2172690\tbest: 0.2172685 (12486)\ttotal: 5m 29s\tremaining: 5m 55s\n",
            "13000:\tlearn: 0.1922293\ttest: 0.2172024\tbest: 0.2172024 (12998)\ttotal: 5m 42s\tremaining: 5m 42s\n",
            "13500:\tlearn: 0.1913484\ttest: 0.2171284\tbest: 0.2171276 (13496)\ttotal: 5m 55s\tremaining: 5m 29s\n",
            "14000:\tlearn: 0.1904946\ttest: 0.2170631\tbest: 0.2170631 (14000)\ttotal: 6m 8s\tremaining: 5m 15s\n",
            "14500:\tlearn: 0.1896760\ttest: 0.2170246\tbest: 0.2170244 (14498)\ttotal: 6m 20s\tremaining: 5m 2s\n",
            "15000:\tlearn: 0.1888455\ttest: 0.2169586\tbest: 0.2169586 (15000)\ttotal: 6m 33s\tremaining: 4m 48s\n",
            "15500:\tlearn: 0.1879906\ttest: 0.2169135\tbest: 0.2169126 (15498)\ttotal: 6m 46s\tremaining: 4m 35s\n",
            "16000:\tlearn: 0.1871598\ttest: 0.2168609\tbest: 0.2168606 (15996)\ttotal: 6m 59s\tremaining: 4m 22s\n",
            "16500:\tlearn: 0.1863413\ttest: 0.2167991\tbest: 0.2167991 (16500)\ttotal: 7m 12s\tremaining: 4m 8s\n",
            "17000:\tlearn: 0.1855228\ttest: 0.2167640\tbest: 0.2167623 (16994)\ttotal: 7m 25s\tremaining: 3m 55s\n",
            "17500:\tlearn: 0.1847095\ttest: 0.2167286\tbest: 0.2167281 (17499)\ttotal: 7m 38s\tremaining: 3m 42s\n",
            "18000:\tlearn: 0.1838940\ttest: 0.2166983\tbest: 0.2166953 (17956)\ttotal: 7m 51s\tremaining: 3m 29s\n",
            "18500:\tlearn: 0.1830873\ttest: 0.2166580\tbest: 0.2166577 (18498)\ttotal: 8m 3s\tremaining: 3m 16s\n",
            "19000:\tlearn: 0.1822868\ttest: 0.2166086\tbest: 0.2166085 (18997)\ttotal: 8m 16s\tremaining: 3m 3s\n",
            "19500:\tlearn: 0.1814925\ttest: 0.2165733\tbest: 0.2165729 (19499)\ttotal: 8m 29s\tremaining: 2m 49s\n",
            "20000:\tlearn: 0.1807282\ttest: 0.2165462\tbest: 0.2165460 (19991)\ttotal: 8m 42s\tremaining: 2m 36s\n",
            "20500:\tlearn: 0.1799545\ttest: 0.2165203\tbest: 0.2165192 (20490)\ttotal: 8m 55s\tremaining: 2m 23s\n",
            "21000:\tlearn: 0.1791788\ttest: 0.2164848\tbest: 0.2164838 (20972)\ttotal: 9m 8s\tremaining: 2m 10s\n",
            "21500:\tlearn: 0.1784130\ttest: 0.2164482\tbest: 0.2164479 (21499)\ttotal: 9m 21s\tremaining: 1m 57s\n",
            "22000:\tlearn: 0.1776339\ttest: 0.2164346\tbest: 0.2164325 (21975)\ttotal: 9m 34s\tremaining: 1m 44s\n",
            "22500:\tlearn: 0.1768784\ttest: 0.2164023\tbest: 0.2164002 (22490)\ttotal: 9m 47s\tremaining: 1m 31s\n",
            "23000:\tlearn: 0.1761407\ttest: 0.2163789\tbest: 0.2163775 (22972)\ttotal: 9m 59s\tremaining: 1m 18s\n",
            "23500:\tlearn: 0.1754241\ttest: 0.2163525\tbest: 0.2163524 (23498)\ttotal: 10m 12s\tremaining: 1m 5s\n",
            "24000:\tlearn: 0.1746654\ttest: 0.2163521\tbest: 0.2163491 (23523)\ttotal: 10m 25s\tremaining: 52.1s\n",
            "bestTest = 0.2163490626\n",
            "bestIteration = 23523\n",
            "Shrink model to first 23524 iterations.\n",
            "Amex Metric = 0.7947835733674593 \n",
            "\n",
            "#########################\n",
            "### Fold 3\n",
            "### Train size 367130 Valid size 91783\n",
            "### Training with 100% fold data...\n",
            "#########################\n",
            "0:\tlearn: 0.6805202\ttest: 0.6804722\tbest: 0.6804722 (0)\ttotal: 31.5ms\tremaining: 13m 38s\n",
            "500:\tlearn: 0.2315557\ttest: 0.2298459\tbest: 0.2298459 (500)\ttotal: 14.1s\tremaining: 11m 56s\n",
            "1000:\tlearn: 0.2239583\ttest: 0.2233918\tbest: 0.2233918 (1000)\ttotal: 27.8s\tremaining: 11m 34s\n",
            "1500:\tlearn: 0.2201046\ttest: 0.2207581\tbest: 0.2207581 (1500)\ttotal: 41.4s\tremaining: 11m 15s\n",
            "2000:\tlearn: 0.2174324\ttest: 0.2193200\tbest: 0.2193200 (2000)\ttotal: 54.8s\tremaining: 10m 57s\n",
            "2500:\tlearn: 0.2154075\ttest: 0.2184474\tbest: 0.2184474 (2500)\ttotal: 1m 8s\tremaining: 10m 39s\n",
            "3000:\tlearn: 0.2136970\ttest: 0.2178285\tbest: 0.2178285 (3000)\ttotal: 1m 21s\tremaining: 10m 21s\n",
            "3500:\tlearn: 0.2121835\ttest: 0.2173496\tbest: 0.2173496 (3500)\ttotal: 1m 34s\tremaining: 10m 5s\n",
            "4000:\tlearn: 0.2108187\ttest: 0.2169844\tbest: 0.2169844 (4000)\ttotal: 1m 47s\tremaining: 9m 49s\n",
            "4500:\tlearn: 0.2095762\ttest: 0.2166718\tbest: 0.2166718 (4500)\ttotal: 2m\tremaining: 9m 33s\n",
            "5000:\tlearn: 0.2084257\ttest: 0.2164462\tbest: 0.2164462 (5000)\ttotal: 2m 13s\tremaining: 9m 18s\n",
            "5500:\tlearn: 0.2072675\ttest: 0.2162356\tbest: 0.2162356 (5500)\ttotal: 2m 25s\tremaining: 9m 3s\n",
            "6000:\tlearn: 0.2061482\ttest: 0.2160323\tbest: 0.2160323 (5999)\ttotal: 2m 38s\tremaining: 8m 48s\n",
            "6500:\tlearn: 0.2050929\ttest: 0.2158387\tbest: 0.2158387 (6500)\ttotal: 2m 51s\tremaining: 8m 34s\n",
            "7000:\tlearn: 0.2041073\ttest: 0.2156932\tbest: 0.2156932 (7000)\ttotal: 3m 4s\tremaining: 8m 20s\n",
            "7500:\tlearn: 0.2031236\ttest: 0.2155449\tbest: 0.2155449 (7499)\ttotal: 3m 17s\tremaining: 8m 6s\n",
            "8000:\tlearn: 0.2021606\ttest: 0.2154060\tbest: 0.2154056 (7999)\ttotal: 3m 29s\tremaining: 7m 51s\n",
            "8500:\tlearn: 0.2012119\ttest: 0.2152689\tbest: 0.2152689 (8500)\ttotal: 3m 42s\tremaining: 7m 37s\n",
            "9000:\tlearn: 0.2002980\ttest: 0.2151645\tbest: 0.2151644 (8999)\ttotal: 3m 54s\tremaining: 7m 23s\n",
            "9500:\tlearn: 0.1993645\ttest: 0.2150514\tbest: 0.2150514 (9500)\ttotal: 4m 7s\tremaining: 7m 9s\n",
            "10000:\tlearn: 0.1984332\ttest: 0.2149449\tbest: 0.2149449 (10000)\ttotal: 4m 20s\tremaining: 6m 56s\n",
            "10500:\tlearn: 0.1975152\ttest: 0.2148405\tbest: 0.2148399 (10498)\ttotal: 4m 32s\tremaining: 6m 42s\n",
            "11000:\tlearn: 0.1966082\ttest: 0.2147486\tbest: 0.2147482 (10996)\ttotal: 4m 45s\tremaining: 6m 29s\n",
            "11500:\tlearn: 0.1957362\ttest: 0.2146790\tbest: 0.2146790 (11500)\ttotal: 4m 58s\tremaining: 6m 15s\n",
            "12000:\tlearn: 0.1948740\ttest: 0.2145875\tbest: 0.2145875 (12000)\ttotal: 5m 10s\tremaining: 6m 2s\n",
            "12500:\tlearn: 0.1939879\ttest: 0.2145016\tbest: 0.2145016 (12500)\ttotal: 5m 23s\tremaining: 5m 49s\n",
            "13000:\tlearn: 0.1931476\ttest: 0.2144375\tbest: 0.2144362 (12998)\ttotal: 5m 36s\tremaining: 5m 36s\n",
            "13500:\tlearn: 0.1922973\ttest: 0.2143746\tbest: 0.2143742 (13480)\ttotal: 5m 48s\tremaining: 5m 23s\n",
            "14000:\tlearn: 0.1914515\ttest: 0.2143160\tbest: 0.2143152 (13996)\ttotal: 6m 1s\tremaining: 5m 10s\n",
            "14500:\tlearn: 0.1906311\ttest: 0.2142427\tbest: 0.2142420 (14493)\ttotal: 6m 14s\tremaining: 4m 56s\n",
            "15000:\tlearn: 0.1898043\ttest: 0.2141688\tbest: 0.2141688 (15000)\ttotal: 6m 27s\tremaining: 4m 43s\n",
            "15500:\tlearn: 0.1889740\ttest: 0.2141074\tbest: 0.2141068 (15489)\ttotal: 6m 39s\tremaining: 4m 30s\n",
            "16000:\tlearn: 0.1881798\ttest: 0.2140472\tbest: 0.2140468 (15999)\ttotal: 6m 52s\tremaining: 4m 17s\n",
            "16500:\tlearn: 0.1873693\ttest: 0.2139820\tbest: 0.2139820 (16500)\ttotal: 7m 5s\tremaining: 4m 4s\n",
            "17000:\tlearn: 0.1865826\ttest: 0.2139330\tbest: 0.2139320 (16987)\ttotal: 7m 18s\tremaining: 3m 51s\n",
            "17500:\tlearn: 0.1857818\ttest: 0.2138865\tbest: 0.2138862 (17490)\ttotal: 7m 31s\tremaining: 3m 39s\n",
            "18000:\tlearn: 0.1849994\ttest: 0.2138571\tbest: 0.2138566 (17999)\ttotal: 7m 44s\tremaining: 3m 26s\n",
            "18500:\tlearn: 0.1841985\ttest: 0.2138238\tbest: 0.2138230 (18421)\ttotal: 7m 56s\tremaining: 3m 13s\n",
            "19000:\tlearn: 0.1834288\ttest: 0.2137847\tbest: 0.2137840 (18998)\ttotal: 8m 9s\tremaining: 3m\n",
            "19500:\tlearn: 0.1826659\ttest: 0.2137461\tbest: 0.2137461 (19500)\ttotal: 8m 22s\tremaining: 2m 47s\n",
            "20000:\tlearn: 0.1818860\ttest: 0.2137058\tbest: 0.2137058 (19971)\ttotal: 8m 35s\tremaining: 2m 34s\n",
            "20500:\tlearn: 0.1811024\ttest: 0.2136583\tbest: 0.2136579 (20495)\ttotal: 8m 48s\tremaining: 2m 21s\n",
            "21000:\tlearn: 0.1803254\ttest: 0.2136171\tbest: 0.2136162 (20996)\ttotal: 9m 1s\tremaining: 2m 8s\n",
            "21500:\tlearn: 0.1795640\ttest: 0.2135754\tbest: 0.2135732 (21461)\ttotal: 9m 13s\tremaining: 1m 55s\n",
            "22000:\tlearn: 0.1787970\ttest: 0.2135493\tbest: 0.2135470 (21964)\ttotal: 9m 26s\tremaining: 1m 43s\n",
            "22500:\tlearn: 0.1780467\ttest: 0.2135056\tbest: 0.2135056 (22500)\ttotal: 9m 39s\tremaining: 1m 30s\n",
            "23000:\tlearn: 0.1772830\ttest: 0.2134744\tbest: 0.2134744 (23000)\ttotal: 9m 52s\tremaining: 1m 17s\n",
            "23500:\tlearn: 0.1765136\ttest: 0.2134451\tbest: 0.2134444 (23494)\ttotal: 10m 5s\tremaining: 1m 4s\n",
            "24000:\tlearn: 0.1757644\ttest: 0.2134028\tbest: 0.2134028 (24000)\ttotal: 10m 18s\tremaining: 51.5s\n",
            "24500:\tlearn: 0.1750328\ttest: 0.2133832\tbest: 0.2133817 (24489)\ttotal: 10m 31s\tremaining: 38.6s\n",
            "25000:\tlearn: 0.1743130\ttest: 0.2133505\tbest: 0.2133492 (24978)\ttotal: 10m 43s\tremaining: 25.7s\n",
            "25500:\tlearn: 0.1735875\ttest: 0.2133143\tbest: 0.2133138 (25499)\ttotal: 10m 56s\tremaining: 12.8s\n",
            "25999:\tlearn: 0.1728530\ttest: 0.2132801\tbest: 0.2132797 (25998)\ttotal: 11m 9s\tremaining: 0us\n",
            "bestTest = 0.2132797476\n",
            "bestIteration = 25998\n",
            "Shrink model to first 25999 iterations.\n",
            "Amex Metric = 0.7984846991989021 \n",
            "\n",
            "#########################\n",
            "### Fold 4\n",
            "### Train size 367131 Valid size 91782\n",
            "### Training with 100% fold data...\n",
            "#########################\n",
            "0:\tlearn: 0.6808052\ttest: 0.6808099\tbest: 0.6808099 (0)\ttotal: 32.5ms\tremaining: 14m 6s\n",
            "500:\tlearn: 0.2306670\ttest: 0.2330552\tbest: 0.2330552 (500)\ttotal: 14.2s\tremaining: 12m 3s\n",
            "1000:\tlearn: 0.2231486\ttest: 0.2266605\tbest: 0.2266605 (1000)\ttotal: 27.9s\tremaining: 11m 37s\n",
            "1500:\tlearn: 0.2193179\ttest: 0.2239325\tbest: 0.2239325 (1500)\ttotal: 41.5s\tremaining: 11m 17s\n",
            "2000:\tlearn: 0.2167237\ttest: 0.2224688\tbest: 0.2224688 (2000)\ttotal: 54.9s\tremaining: 10m 58s\n",
            "2500:\tlearn: 0.2147547\ttest: 0.2215849\tbest: 0.2215849 (2500)\ttotal: 1m 7s\tremaining: 10m 38s\n",
            "3000:\tlearn: 0.2130977\ttest: 0.2209535\tbest: 0.2209535 (3000)\ttotal: 1m 21s\tremaining: 10m 21s\n",
            "3500:\tlearn: 0.2116097\ttest: 0.2204878\tbest: 0.2204878 (3500)\ttotal: 1m 34s\tremaining: 10m 4s\n",
            "4000:\tlearn: 0.2102415\ttest: 0.2200897\tbest: 0.2200896 (3999)\ttotal: 1m 46s\tremaining: 9m 47s\n",
            "4500:\tlearn: 0.2090025\ttest: 0.2197570\tbest: 0.2197568 (4499)\ttotal: 1m 59s\tremaining: 9m 32s\n",
            "5000:\tlearn: 0.2078455\ttest: 0.2194991\tbest: 0.2194990 (4999)\ttotal: 2m 12s\tremaining: 9m 17s\n",
            "5500:\tlearn: 0.2067335\ttest: 0.2192666\tbest: 0.2192666 (5500)\ttotal: 2m 25s\tremaining: 9m 2s\n",
            "6000:\tlearn: 0.2056194\ttest: 0.2190703\tbest: 0.2190699 (5999)\ttotal: 2m 38s\tremaining: 8m 47s\n",
            "6500:\tlearn: 0.2045751\ttest: 0.2188790\tbest: 0.2188790 (6500)\ttotal: 2m 51s\tremaining: 8m 32s\n",
            "7000:\tlearn: 0.2035298\ttest: 0.2187145\tbest: 0.2187145 (7000)\ttotal: 3m 3s\tremaining: 8m 18s\n",
            "7500:\tlearn: 0.2025099\ttest: 0.2185329\tbest: 0.2185329 (7500)\ttotal: 3m 16s\tremaining: 8m 4s\n",
            "8000:\tlearn: 0.2015210\ttest: 0.2183804\tbest: 0.2183804 (8000)\ttotal: 3m 29s\tremaining: 7m 50s\n",
            "8500:\tlearn: 0.2005231\ttest: 0.2182362\tbest: 0.2182362 (8500)\ttotal: 3m 41s\tremaining: 7m 36s\n",
            "9000:\tlearn: 0.1995789\ttest: 0.2181114\tbest: 0.2181114 (9000)\ttotal: 3m 54s\tremaining: 7m 23s\n",
            "9500:\tlearn: 0.1986265\ttest: 0.2179956\tbest: 0.2179956 (9500)\ttotal: 4m 7s\tremaining: 7m 9s\n",
            "10000:\tlearn: 0.1977196\ttest: 0.2179023\tbest: 0.2179023 (10000)\ttotal: 4m 20s\tremaining: 6m 56s\n",
            "10500:\tlearn: 0.1968073\ttest: 0.2177993\tbest: 0.2177992 (10499)\ttotal: 4m 33s\tremaining: 6m 43s\n",
            "11000:\tlearn: 0.1958863\ttest: 0.2177183\tbest: 0.2177183 (11000)\ttotal: 4m 46s\tremaining: 6m 29s\n",
            "11500:\tlearn: 0.1950150\ttest: 0.2176327\tbest: 0.2176327 (11498)\ttotal: 4m 58s\tremaining: 6m 16s\n",
            "12000:\tlearn: 0.1941496\ttest: 0.2175549\tbest: 0.2175546 (11973)\ttotal: 5m 11s\tremaining: 6m 3s\n",
            "12500:\tlearn: 0.1932762\ttest: 0.2174982\tbest: 0.2174981 (12498)\ttotal: 5m 24s\tremaining: 5m 50s\n",
            "13000:\tlearn: 0.1924338\ttest: 0.2174350\tbest: 0.2174350 (13000)\ttotal: 5m 36s\tremaining: 5m 36s\n",
            "13500:\tlearn: 0.1915963\ttest: 0.2173802\tbest: 0.2173788 (13463)\ttotal: 5m 49s\tremaining: 5m 23s\n",
            "14000:\tlearn: 0.1907490\ttest: 0.2173318\tbest: 0.2173291 (13977)\ttotal: 6m 2s\tremaining: 5m 10s\n",
            "14500:\tlearn: 0.1899345\ttest: 0.2172687\tbest: 0.2172687 (14500)\ttotal: 6m 15s\tremaining: 4m 57s\n",
            "15000:\tlearn: 0.1891215\ttest: 0.2172106\tbest: 0.2172106 (15000)\ttotal: 6m 27s\tremaining: 4m 44s\n",
            "15500:\tlearn: 0.1883061\ttest: 0.2171490\tbest: 0.2171479 (15476)\ttotal: 6m 40s\tremaining: 4m 31s\n",
            "16000:\tlearn: 0.1874955\ttest: 0.2170944\tbest: 0.2170944 (16000)\ttotal: 6m 53s\tremaining: 4m 18s\n",
            "16500:\tlearn: 0.1866902\ttest: 0.2170454\tbest: 0.2170447 (16497)\ttotal: 7m 6s\tremaining: 4m 5s\n",
            "17000:\tlearn: 0.1858943\ttest: 0.2169963\tbest: 0.2169954 (16995)\ttotal: 7m 19s\tremaining: 3m 52s\n",
            "17500:\tlearn: 0.1851076\ttest: 0.2169683\tbest: 0.2169669 (17453)\ttotal: 7m 31s\tremaining: 3m 39s\n",
            "18000:\tlearn: 0.1843038\ttest: 0.2169373\tbest: 0.2169371 (17996)\ttotal: 7m 44s\tremaining: 3m 26s\n",
            "18500:\tlearn: 0.1835121\ttest: 0.2169000\tbest: 0.2169000 (18500)\ttotal: 7m 57s\tremaining: 3m 13s\n",
            "19000:\tlearn: 0.1827328\ttest: 0.2168751\tbest: 0.2168742 (18978)\ttotal: 8m 9s\tremaining: 3m\n",
            "19500:\tlearn: 0.1819347\ttest: 0.2168468\tbest: 0.2168451 (19341)\ttotal: 8m 22s\tremaining: 2m 47s\n",
            "20000:\tlearn: 0.1811568\ttest: 0.2168120\tbest: 0.2168110 (19994)\ttotal: 8m 35s\tremaining: 2m 34s\n",
            "20500:\tlearn: 0.1803794\ttest: 0.2167722\tbest: 0.2167672 (20450)\ttotal: 8m 48s\tremaining: 2m 21s\n",
            "21000:\tlearn: 0.1796084\ttest: 0.2167404\tbest: 0.2167387 (20898)\ttotal: 9m 1s\tremaining: 2m 8s\n",
            "21500:\tlearn: 0.1788515\ttest: 0.2167228\tbest: 0.2167228 (21500)\ttotal: 9m 14s\tremaining: 1m 55s\n",
            "22000:\tlearn: 0.1780827\ttest: 0.2166992\tbest: 0.2166988 (21999)\ttotal: 9m 26s\tremaining: 1m 43s\n",
            "22500:\tlearn: 0.1773224\ttest: 0.2166871\tbest: 0.2166859 (22486)\ttotal: 9m 39s\tremaining: 1m 30s\n",
            "23000:\tlearn: 0.1765703\ttest: 0.2166524\tbest: 0.2166510 (22994)\ttotal: 9m 52s\tremaining: 1m 17s\n",
            "23500:\tlearn: 0.1758258\ttest: 0.2166351\tbest: 0.2166346 (23473)\ttotal: 10m 5s\tremaining: 1m 4s\n",
            "24000:\tlearn: 0.1750642\ttest: 0.2166113\tbest: 0.2166107 (23995)\ttotal: 10m 18s\tremaining: 51.5s\n",
            "24500:\tlearn: 0.1743336\ttest: 0.2165734\tbest: 0.2165732 (24497)\ttotal: 10m 31s\tremaining: 38.6s\n",
            "25000:\tlearn: 0.1736162\ttest: 0.2165590\tbest: 0.2165511 (24870)\ttotal: 10m 44s\tremaining: 25.7s\n",
            "25500:\tlearn: 0.1728827\ttest: 0.2165339\tbest: 0.2165312 (25445)\ttotal: 10m 57s\tremaining: 12.9s\n",
            "25999:\tlearn: 0.1721616\ttest: 0.2165170\tbest: 0.2165170 (25999)\ttotal: 11m 9s\tremaining: 0us\n",
            "bestTest = 0.2165169999\n",
            "bestIteration = 25999\n",
            "Amex Metric = 0.7911790664297589 \n",
            "\n",
            "#########################\n",
            "### Fold 5\n",
            "### Train size 367131 Valid size 91782\n",
            "### Training with 100% fold data...\n",
            "#########################\n",
            "0:\tlearn: 0.6804358\ttest: 0.6805013\tbest: 0.6805013 (0)\ttotal: 30.9ms\tremaining: 13m 23s\n",
            "500:\tlearn: 0.2304479\ttest: 0.2342376\tbest: 0.2342376 (500)\ttotal: 14.3s\tremaining: 12m 5s\n",
            "1000:\tlearn: 0.2228711\ttest: 0.2278633\tbest: 0.2278633 (1000)\ttotal: 27.9s\tremaining: 11m 35s\n",
            "1500:\tlearn: 0.2190809\ttest: 0.2252606\tbest: 0.2252606 (1500)\ttotal: 41.2s\tremaining: 11m 11s\n",
            "2000:\tlearn: 0.2164434\ttest: 0.2238012\tbest: 0.2238012 (2000)\ttotal: 54.4s\tremaining: 10m 52s\n",
            "2500:\tlearn: 0.2144631\ttest: 0.2229302\tbest: 0.2229302 (2500)\ttotal: 1m 7s\tremaining: 10m 34s\n",
            "3000:\tlearn: 0.2127754\ttest: 0.2223378\tbest: 0.2223378 (3000)\ttotal: 1m 20s\tremaining: 10m 16s\n",
            "3500:\tlearn: 0.2112862\ttest: 0.2218711\tbest: 0.2218711 (3500)\ttotal: 1m 33s\tremaining: 10m\n",
            "4000:\tlearn: 0.2099425\ttest: 0.2214961\tbest: 0.2214961 (4000)\ttotal: 1m 46s\tremaining: 9m 44s\n",
            "4500:\tlearn: 0.2086643\ttest: 0.2211907\tbest: 0.2211907 (4500)\ttotal: 1m 59s\tremaining: 9m 30s\n",
            "5000:\tlearn: 0.2074341\ttest: 0.2209041\tbest: 0.2209041 (5000)\ttotal: 2m 12s\tremaining: 9m 15s\n",
            "5500:\tlearn: 0.2063267\ttest: 0.2206698\tbest: 0.2206695 (5499)\ttotal: 2m 25s\tremaining: 9m\n",
            "6000:\tlearn: 0.2052003\ttest: 0.2204457\tbest: 0.2204457 (5996)\ttotal: 2m 37s\tremaining: 8m 46s\n",
            "6500:\tlearn: 0.2041435\ttest: 0.2202702\tbest: 0.2202702 (6500)\ttotal: 2m 50s\tremaining: 8m 31s\n",
            "7000:\tlearn: 0.2031591\ttest: 0.2201273\tbest: 0.2201273 (7000)\ttotal: 3m 3s\tremaining: 8m 17s\n",
            "7500:\tlearn: 0.2021062\ttest: 0.2199667\tbest: 0.2199667 (7500)\ttotal: 3m 16s\tremaining: 8m 4s\n",
            "8000:\tlearn: 0.2011128\ttest: 0.2198338\tbest: 0.2198338 (8000)\ttotal: 3m 28s\tremaining: 7m 50s\n",
            "8500:\tlearn: 0.2001626\ttest: 0.2197148\tbest: 0.2197141 (8495)\ttotal: 3m 41s\tremaining: 7m 36s\n",
            "9000:\tlearn: 0.1992191\ttest: 0.2196012\tbest: 0.2196009 (8978)\ttotal: 3m 54s\tremaining: 7m 22s\n",
            "9500:\tlearn: 0.1982799\ttest: 0.2194926\tbest: 0.2194926 (9497)\ttotal: 4m 7s\tremaining: 7m 9s\n",
            "10000:\tlearn: 0.1973500\ttest: 0.2193865\tbest: 0.2193865 (10000)\ttotal: 4m 19s\tremaining: 6m 55s\n",
            "10500:\tlearn: 0.1964350\ttest: 0.2192748\tbest: 0.2192748 (10500)\ttotal: 4m 32s\tremaining: 6m 42s\n",
            "11000:\tlearn: 0.1955701\ttest: 0.2191834\tbest: 0.2191834 (11000)\ttotal: 4m 45s\tremaining: 6m 29s\n",
            "11500:\tlearn: 0.1946956\ttest: 0.2190986\tbest: 0.2190986 (11498)\ttotal: 4m 58s\tremaining: 6m 15s\n",
            "12000:\tlearn: 0.1938109\ttest: 0.2190162\tbest: 0.2190156 (11997)\ttotal: 5m 10s\tremaining: 6m 2s\n",
            "12500:\tlearn: 0.1929445\ttest: 0.2189305\tbest: 0.2189302 (12493)\ttotal: 5m 23s\tremaining: 5m 49s\n",
            "13000:\tlearn: 0.1920826\ttest: 0.2188575\tbest: 0.2188571 (12934)\ttotal: 5m 36s\tremaining: 5m 36s\n",
            "13500:\tlearn: 0.1912681\ttest: 0.2187909\tbest: 0.2187909 (13500)\ttotal: 5m 49s\tremaining: 5m 23s\n",
            "14000:\tlearn: 0.1904246\ttest: 0.2187176\tbest: 0.2187153 (13993)\ttotal: 6m 2s\tremaining: 5m 10s\n",
            "14500:\tlearn: 0.1895680\ttest: 0.2186540\tbest: 0.2186535 (14496)\ttotal: 6m 14s\tremaining: 4m 57s\n",
            "15000:\tlearn: 0.1887309\ttest: 0.2185908\tbest: 0.2185908 (15000)\ttotal: 6m 27s\tremaining: 4m 44s\n",
            "15500:\tlearn: 0.1878963\ttest: 0.2185252\tbest: 0.2185241 (15486)\ttotal: 6m 40s\tremaining: 4m 31s\n",
            "16000:\tlearn: 0.1870529\ttest: 0.2184746\tbest: 0.2184740 (15999)\ttotal: 6m 53s\tremaining: 4m 18s\n",
            "16500:\tlearn: 0.1862227\ttest: 0.2184284\tbest: 0.2184284 (16500)\ttotal: 7m 6s\tremaining: 4m 5s\n",
            "17000:\tlearn: 0.1854144\ttest: 0.2183992\tbest: 0.2183992 (17000)\ttotal: 7m 18s\tremaining: 3m 52s\n",
            "17500:\tlearn: 0.1846149\ttest: 0.2183577\tbest: 0.2183577 (17500)\ttotal: 7m 31s\tremaining: 3m 39s\n",
            "18000:\tlearn: 0.1838555\ttest: 0.2183092\tbest: 0.2183084 (17989)\ttotal: 7m 44s\tremaining: 3m 26s\n",
            "18500:\tlearn: 0.1830410\ttest: 0.2182685\tbest: 0.2182675 (18499)\ttotal: 7m 57s\tremaining: 3m 13s\n",
            "19000:\tlearn: 0.1822570\ttest: 0.2182185\tbest: 0.2182185 (19000)\ttotal: 8m 10s\tremaining: 3m\n",
            "19500:\tlearn: 0.1814799\ttest: 0.2181676\tbest: 0.2181668 (19481)\ttotal: 8m 23s\tremaining: 2m 47s\n",
            "20000:\tlearn: 0.1806807\ttest: 0.2181458\tbest: 0.2181449 (19988)\ttotal: 8m 36s\tremaining: 2m 34s\n",
            "20500:\tlearn: 0.1798928\ttest: 0.2181044\tbest: 0.2181033 (20451)\ttotal: 8m 48s\tremaining: 2m 21s\n",
            "21000:\tlearn: 0.1791142\ttest: 0.2180623\tbest: 0.2180610 (20979)\ttotal: 9m 1s\tremaining: 2m 8s\n",
            "21500:\tlearn: 0.1783560\ttest: 0.2180295\tbest: 0.2180286 (21420)\ttotal: 9m 14s\tremaining: 1m 56s\n",
            "22000:\tlearn: 0.1775918\ttest: 0.2179896\tbest: 0.2179889 (21990)\ttotal: 9m 27s\tremaining: 1m 43s\n",
            "22500:\tlearn: 0.1768372\ttest: 0.2179557\tbest: 0.2179550 (22414)\ttotal: 9m 40s\tremaining: 1m 30s\n",
            "23000:\tlearn: 0.1760636\ttest: 0.2179383\tbest: 0.2179325 (22904)\ttotal: 9m 53s\tremaining: 1m 17s\n",
            "23500:\tlearn: 0.1753164\ttest: 0.2179064\tbest: 0.2179059 (23499)\ttotal: 10m 6s\tremaining: 1m 4s\n",
            "24000:\tlearn: 0.1745873\ttest: 0.2178657\tbest: 0.2178657 (23990)\ttotal: 10m 18s\tremaining: 51.5s\n",
            "24500:\tlearn: 0.1738238\ttest: 0.2178319\tbest: 0.2178319 (24500)\ttotal: 10m 31s\tremaining: 38.7s\n",
            "25000:\tlearn: 0.1730890\ttest: 0.2178196\tbest: 0.2178193 (24999)\ttotal: 10m 44s\tremaining: 25.8s\n",
            "25500:\tlearn: 0.1723544\ttest: 0.2177929\tbest: 0.2177907 (25482)\ttotal: 10m 57s\tremaining: 12.9s\n",
            "25999:\tlearn: 0.1716100\ttest: 0.2177731\tbest: 0.2177690 (25839)\ttotal: 11m 10s\tremaining: 0us\n",
            "bestTest = 0.21776899\n",
            "bestIteration = 25839\n",
            "Shrink model to first 25840 iterations.\n",
            "Amex Metric = 0.7946205296038122 \n",
            "\n",
            "#########################\n",
            "Overall Amex metric: 0.7946130211039044\n"
          ]
        }
      ],
      "source": [
        "importances = []\n",
        "oof = []\n",
        "gc.collect()\n",
        "\n",
        "clf = CatBoostClassifier(**cat_params)\n",
        "skf = KFold(n_splits=FOLDS, shuffle=True, random_state=SEED)\n",
        "for fold,(train_idx, valid_idx) in enumerate(skf.split(train, train.target)):\n",
        "    \n",
        "    print('#'*25)\n",
        "    print('### Fold',fold+1)\n",
        "    print('### Train size',len(train_idx),'Valid size',len(valid_idx))\n",
        "    print(f'### Training with 100% fold data...')\n",
        "    print('#'*25)\n",
        "    \n",
        "    # TRAIN, VALID, TEST FOR FOLD K\n",
        "    X_train = train.loc[train_idx, FEATURES]\n",
        "    X_valid = train.target.iloc[train_idx]\n",
        "    y_train = train.loc[valid_idx, FEATURES]\n",
        "    y_valid = train.target.iloc[valid_idx]\n",
        "    \n",
        "    # TRAIN MODEL FOLD K\n",
        "    model = clf.fit(X_train,\n",
        "                    X_valid,\n",
        "                    cat_features=cat_features_last,\n",
        "                    eval_set=[(y_train, y_valid)],\n",
        "                    use_best_model=True,\n",
        "                    early_stopping_rounds=300,\n",
        "                    verbose_eval=500)\n",
        "    model.save_model(f'CAT_v{VER}_fold{fold}.cbm')\n",
        "    \n",
        "    # GET FEATURE IMPORTANCE FOR FOLD K\n",
        "    dd = model.feature_importances_\n",
        "    df = pd.DataFrame({'feature':FEATURES,f'importance_{fold}':dd})\n",
        "    importances.append(df)\n",
        "            \n",
        "    # INFER OOF FOLD K\n",
        "    oof_preds = model.predict_proba(y_train)[:, 1]\n",
        "    acc = amex_metric_np(y_valid.values, oof_preds)\n",
        "    print('Amex Metric =',acc,'\\n')\n",
        "\n",
        "    df = train.loc[valid_idx, ['customer_ID','target'] ].copy()\n",
        "    df['oof_preds'] = oof_preds\n",
        "    oof.append(df)\n",
        "    \n",
        "    del X_train, y_train, dd, df\n",
        "    del X_valid, y_valid, model\n",
        "    _ = gc.collect()\n",
        "    \n",
        "print('#'*25)\n",
        "oof = pd.concat(oof,axis=0,ignore_index=True).set_index('customer_ID')\n",
        "acc = amex_metric_np(oof.target.values, oof.oof_preds.values)\n",
        "print(f\"Overall Amex metric: {acc}\")"
      ]
    },
    {
      "cell_type": "code",
      "execution_count": 16,
      "id": "9382e3d0",
      "metadata": {
        "execution": {
          "iopub.execute_input": "2022-07-15T16:48:45.305370Z",
          "iopub.status.busy": "2022-07-15T16:48:45.304754Z",
          "iopub.status.idle": "2022-07-15T16:48:45.407975Z",
          "shell.execute_reply": "2022-07-15T16:48:45.407068Z"
        },
        "papermill": {
          "duration": 0.123941,
          "end_time": "2022-07-15T16:48:45.409679",
          "exception": false,
          "start_time": "2022-07-15T16:48:45.285738",
          "status": "completed"
        },
        "tags": [],
        "id": "9382e3d0"
      },
      "outputs": [],
      "source": [
        "# CLEAN RAM\n",
        "del train\n",
        "_ = gc.collect()"
      ]
    },
    {
      "cell_type": "code",
      "execution_count": 17,
      "id": "3610c1b3",
      "metadata": {
        "execution": {
          "iopub.execute_input": "2022-07-15T16:48:45.448225Z",
          "iopub.status.busy": "2022-07-15T16:48:45.447584Z",
          "iopub.status.idle": "2022-07-15T16:48:45.488638Z",
          "shell.execute_reply": "2022-07-15T16:48:45.487878Z"
        },
        "papermill": {
          "duration": 0.06166,
          "end_time": "2022-07-15T16:48:45.490338",
          "exception": false,
          "start_time": "2022-07-15T16:48:45.428678",
          "status": "completed"
        },
        "scrolled": true,
        "tags": [],
        "id": "3610c1b3"
      },
      "outputs": [],
      "source": [
        "df = importances[0].copy()\n",
        "for k in range(1,FOLDS): df = df.merge(importances[k], on='feature', how='left')\n",
        "df['importance'] = df.iloc[:,1:].mean(axis=1, numeric_only=True)\n",
        "df = df.sort_values('importance',ascending=False)\n",
        "df.to_csv(f'cat_feature_importance_v{VER}.csv',index=False)"
      ]
    },
    {
      "cell_type": "code",
      "execution_count": 18,
      "id": "69357676",
      "metadata": {
        "execution": {
          "iopub.execute_input": "2022-07-15T16:48:45.527853Z",
          "iopub.status.busy": "2022-07-15T16:48:45.527216Z",
          "iopub.status.idle": "2022-07-15T16:48:45.823812Z",
          "shell.execute_reply": "2022-07-15T16:48:45.823089Z"
        },
        "papermill": {
          "duration": 0.317159,
          "end_time": "2022-07-15T16:48:45.825544",
          "exception": false,
          "start_time": "2022-07-15T16:48:45.508385",
          "status": "completed"
        },
        "tags": [],
        "id": "69357676",
        "outputId": "f1562643-a84c-4e47-fef7-9cd476b7d0cb",
        "colab": {
          "base_uri": "https://localhost:8080/",
          "height": 607
        }
      },
      "outputs": [
        {
          "output_type": "display_data",
          "data": {
            "text/plain": [
              "<Figure size 720x720 with 1 Axes>"
            ],
            "image/png": "[encoded data removed]"
          },
          "metadata": {
            "needs_background": "light"
          }
        }
      ],
      "source": [
        "NUM_FEATURES = 20\n",
        "plt.figure(figsize=(10,5*NUM_FEATURES//10))\n",
        "plt.barh(np.arange(NUM_FEATURES,0,-1), df.importance.values[:NUM_FEATURES])\n",
        "plt.yticks(np.arange(NUM_FEATURES,0,-1), df.feature.values[:NUM_FEATURES])\n",
        "plt.title(f'CAT Feature Importance - Top {NUM_FEATURES}')\n",
        "plt.show()"
      ]
    },
    {
      "cell_type": "markdown",
      "id": "bf46dad6",
      "metadata": {
        "papermill": {
          "duration": 0.018388,
          "end_time": "2022-07-15T16:48:45.862462",
          "exception": false,
          "start_time": "2022-07-15T16:48:45.844074",
          "status": "completed"
        },
        "tags": [],
        "id": "bf46dad6"
      },
      "source": [
        "# Test part"
      ]
    },
    {
      "cell_type": "code",
      "execution_count": 19,
      "id": "c28f1826",
      "metadata": {
        "execution": {
          "iopub.execute_input": "2022-07-15T16:48:45.901178Z",
          "iopub.status.busy": "2022-07-15T16:48:45.900848Z",
          "iopub.status.idle": "2022-07-15T16:48:45.907526Z",
          "shell.execute_reply": "2022-07-15T16:48:45.906709Z"
        },
        "papermill": {
          "duration": 0.027751,
          "end_time": "2022-07-15T16:48:45.909278",
          "exception": false,
          "start_time": "2022-07-15T16:48:45.881527",
          "status": "completed"
        },
        "tags": [],
        "id": "c28f1826"
      },
      "outputs": [],
      "source": [
        "# CALCULATE SIZE OF EACH SEPARATE TEST PART\n",
        "def get_rows(customers, test, NUM_PARTS = 4, verbose = ''):\n",
        "    chunk = len(customers)//NUM_PARTS\n",
        "    if verbose != '':\n",
        "        print(f'We will process {verbose} data as {NUM_PARTS} separate parts.')\n",
        "        print(f'There will be {chunk} customers in each part (except the last part).')\n",
        "        print('Below are number of rows in each part:')\n",
        "    rows = []\n",
        "\n",
        "    for k in range(NUM_PARTS):\n",
        "        if k==NUM_PARTS-1: cc = customers[k*chunk:]\n",
        "        else: cc = customers[k*chunk:(k+1)*chunk]\n",
        "        s = test.loc[test.customer_ID.isin(cc)].shape[0]\n",
        "        rows.append(s)\n",
        "    if verbose != '': print( rows )\n",
        "    return rows,chunk"
      ]
    },
    {
      "cell_type": "code",
      "execution_count": 20,
      "id": "8c7e70c5",
      "metadata": {
        "execution": {
          "iopub.execute_input": "2022-07-15T16:48:45.947705Z",
          "iopub.status.busy": "2022-07-15T16:48:45.947377Z",
          "iopub.status.idle": "2022-07-15T16:48:47.039525Z",
          "shell.execute_reply": "2022-07-15T16:48:47.038640Z"
        },
        "papermill": {
          "duration": 1.113806,
          "end_time": "2022-07-15T16:48:47.041416",
          "exception": false,
          "start_time": "2022-07-15T16:48:45.927610",
          "status": "completed"
        },
        "tags": [],
        "colab": {
          "base_uri": "https://localhost:8080/"
        },
        "id": "8c7e70c5",
        "outputId": "4dfbe043-8f4e-4864-cbb7-53fa41ee0a5e"
      },
      "outputs": [
        {
          "output_type": "stream",
          "name": "stdout",
          "text": [
            "We will process test data as 4 separate parts.\n",
            "There will be 231155 customers in each part (except the last part).\n",
            "Below are number of rows in each part:\n",
            "[231155, 231155, 231155, 231156]\n"
          ]
        }
      ],
      "source": [
        "# COMPUTE SIZE OF 4 PARTS FOR TEST DATA\n",
        "NUM_PARTS = 4\n",
        "\n",
        "customers = test[['customer_ID']].drop_duplicates().sort_index().values.flatten()\n",
        "rows,num_cust = get_rows(customers, test[['customer_ID']], NUM_PARTS = NUM_PARTS, verbose = 'test')"
      ]
    },
    {
      "cell_type": "code",
      "execution_count": 21,
      "id": "9cf53fd3",
      "metadata": {
        "execution": {
          "iopub.execute_input": "2022-07-15T16:48:47.081924Z",
          "iopub.status.busy": "2022-07-15T16:48:47.081615Z",
          "iopub.status.idle": "2022-07-15T16:50:55.407348Z",
          "shell.execute_reply": "2022-07-15T16:50:55.406352Z"
        },
        "papermill": {
          "duration": 128.349422,
          "end_time": "2022-07-15T16:50:55.410249",
          "exception": false,
          "start_time": "2022-07-15T16:48:47.060827",
          "status": "completed"
        },
        "tags": [],
        "colab": {
          "base_uri": "https://localhost:8080/"
        },
        "id": "9cf53fd3",
        "outputId": "391070b5-c427-4b49-c0f9-439cf03c1026"
      },
      "outputs": [
        {
          "output_type": "stream",
          "name": "stdout",
          "text": [
            "\n",
            "Reading test data...\n",
            "=> Test part 1 has shape (231155, 1261)\n",
            "\n",
            "Reading test data...\n",
            "=> Test part 2 has shape (231155, 1261)\n",
            "\n",
            "Reading test data...\n",
            "=> Test part 3 has shape (231155, 1261)\n",
            "\n",
            "Reading test data...\n",
            "=> Test part 4 has shape (231156, 1261)\n"
          ]
        }
      ],
      "source": [
        "# INFER TEST DATA IN PARTS\n",
        "skip_rows = 0\n",
        "skip_cust = 0\n",
        "test_preds = []\n",
        "\n",
        "for k in range(NUM_PARTS):\n",
        "    \n",
        "    # READ PART OF TEST DATA\n",
        "    print(f'\\nReading test data...')\n",
        "    test_copy = test.iloc[skip_rows:skip_rows+rows[k]].copy()\n",
        "    test_copy = test_copy.set_index('customer_ID')\n",
        "    skip_rows += rows[k]\n",
        "    print(f'=> Test part {k+1} has shape', test_copy.shape )\n",
        "    \n",
        "    # PROCESS AND FEATURE ENGINEER PART OF TEST DATA\n",
        "    if k==NUM_PARTS-1: test_copy = test_copy.loc[customers[skip_cust:]]\n",
        "    else: test_copy = test_copy.loc[customers[skip_cust:skip_cust+num_cust]]\n",
        "    skip_cust += num_cust\n",
        "        \n",
        "    # INFER XGB MODELS ON TEST DATA\n",
        "    model = CatBoostClassifier(**cat_params)\n",
        "    model.load_model(f'CAT_v{VER}_fold0.cbm')\n",
        "    preds = model.predict_proba(test_copy)[:, 1]\n",
        "    for f in range(1,FOLDS):\n",
        "        model.load_model(f'CAT_v{VER}_fold{f}.cbm')\n",
        "        preds += model.predict_proba(test_copy)[:, 1]\n",
        "    preds /= FOLDS\n",
        "    test_preds.append(preds)\n",
        "\n",
        "    # CLEAN MEMORY\n",
        "    del test_copy, model\n",
        "    _ = gc.collect()\n",
        "\n",
        "del test\n",
        "_ = gc.collect()"
      ]
    },
    {
      "cell_type": "markdown",
      "id": "02259545",
      "metadata": {
        "papermill": {
          "duration": 0.067515,
          "end_time": "2022-07-15T16:50:55.538577",
          "exception": false,
          "start_time": "2022-07-15T16:50:55.471062",
          "status": "completed"
        },
        "tags": [],
        "id": "02259545"
      },
      "source": [
        "# Submit"
      ]
    },
    {
      "cell_type": "code",
      "execution_count": 22,
      "id": "00d908fd",
      "metadata": {
        "execution": {
          "iopub.execute_input": "2022-07-15T16:50:55.628196Z",
          "iopub.status.busy": "2022-07-15T16:50:55.627855Z",
          "iopub.status.idle": "2022-07-15T16:51:02.864876Z",
          "shell.execute_reply": "2022-07-15T16:51:02.864114Z"
        },
        "papermill": {
          "duration": 7.268354,
          "end_time": "2022-07-15T16:51:02.866646",
          "exception": false,
          "start_time": "2022-07-15T16:50:55.598292",
          "status": "completed"
        },
        "tags": [],
        "colab": {
          "base_uri": "https://localhost:8080/",
          "height": 223
        },
        "id": "00d908fd",
        "outputId": "29833068-0eee-4315-c51e-19b472f67be2"
      },
      "outputs": [
        {
          "output_type": "stream",
          "name": "stdout",
          "text": [
            "Submission file shape is (924621, 2)\n"
          ]
        },
        {
          "output_type": "execute_result",
          "data": {
            "text/plain": [
              "                                         customer_ID  prediction\n",
              "0  00000469ba478561f23a92a868bd366de6f6527a684c9a...    0.017135\n",
              "1  00001bf2e77ff879fab36aa4fac689b9ba411dae63ae39...    0.001354\n",
              "2  0000210045da4f81e5f122c6bde5c2a617d03eef67f82c...    0.047959\n",
              "3  00003b41e58ede33b8daf61ab56d9952f17c9ad1c3976c...    0.197309\n",
              "4  00004b22eaeeeb0ec976890c1d9bfc14fd9427e98c4ee9...    0.849034"
            ],
            "text/html": [
              "\n",
              "  <div id=\"df-ae32bba1-374d-48bb-89ad-cb7bdbbcc591\">\n",
              "    <div class=\"colab-df-container\">\n",
              "      <div>\n",
              "<style scoped>\n",
              "    .dataframe tbody tr th:only-of-type {\n",
              "        vertical-align: middle;\n",
              "    }\n",
              "\n",
              "    .dataframe tbody tr th {\n",
              "        vertical-align: top;\n",
              "    }\n",
              "\n",
              "    .dataframe thead th {\n",
              "        text-align: right;\n",
              "    }\n",
              "</style>\n",
              "<table border=\"1\" class=\"dataframe\">\n",
              "  <thead>\n",
              "    <tr style=\"text-align: right;\">\n",
              "      <th></th>\n",
              "      <th>customer_ID</th>\n",
              "      <th>prediction</th>\n",
              "    </tr>\n",
              "  </thead>\n",
              "  <tbody>\n",
              "    <tr>\n",
              "      <th>0</th>\n",
              "      <td>00000469ba478561f23a92a868bd366de6f6527a684c9a...</td>\n",
              "      <td>0.017135</td>\n",
              "    </tr>\n",
              "    <tr>\n",
              "      <th>1</th>\n",
              "      <td>00001bf2e77ff879fab36aa4fac689b9ba411dae63ae39...</td>\n",
              "      <td>0.001354</td>\n",
              "    </tr>\n",
              "    <tr>\n",
              "      <th>2</th>\n",
              "      <td>0000210045da4f81e5f122c6bde5c2a617d03eef67f82c...</td>\n",
              "      <td>0.047959</td>\n",
              "    </tr>\n",
              "    <tr>\n",
              "      <th>3</th>\n",
              "      <td>00003b41e58ede33b8daf61ab56d9952f17c9ad1c3976c...</td>\n",
              "      <td>0.197309</td>\n",
              "    </tr>\n",
              "    <tr>\n",
              "      <th>4</th>\n",
              "      <td>00004b22eaeeeb0ec976890c1d9bfc14fd9427e98c4ee9...</td>\n",
              "      <td>0.849034</td>\n",
              "    </tr>\n",
              "  </tbody>\n",
              "</table>\n",
              "</div>\n",
              "      <button class=\"colab-df-convert\" onclick=\"convertToInteractive('df-ae32bba1-374d-48bb-89ad-cb7bdbbcc591')\"\n",
              "              title=\"Convert this dataframe to an interactive table.\"\n",
              "              style=\"display:none;\">\n",
              "        \n",
              "  <svg xmlns=\"http://www.w3.org/2000/svg\" height=\"24px\"viewBox=\"0 0 24 24\"\n",
              "       width=\"24px\">\n",
              "    <path d=\"M0 0h24v24H0V0z\" fill=\"none\"/>\n",
              "    <path d=\"M18.56 5.44l.94 2.06.94-2.06 2.06-.94-2.06-.94-.94-2.06-.94 2.06-2.06.94zm-11 1L8.5 8.5l.94-2.06 2.06-.94-2.06-.94L8.5 2.5l-.94 2.06-2.06.94zm10 10l.94 2.06.94-2.06 2.06-.94-2.06-.94-.94-2.06-.94 2.06-2.06.94z\"/><path d=\"M17.41 7.96l-1.37-1.37c-.4-.4-.92-.59-1.43-.59-.52 0-1.04.2-1.43.59L10.3 9.45l-7.72 7.72c-.78.78-.78 2.05 0 2.83L4 21.41c.39.39.9.59 1.41.59.51 0 1.02-.2 1.41-.59l7.78-7.78 2.81-2.81c.8-.78.8-2.07 0-2.86zM5.41 20L4 18.59l7.72-7.72 1.47 1.35L5.41 20z\"/>\n",
              "  </svg>\n",
              "      </button>\n",
              "      \n",
              "  <style>\n",
              "    .colab-df-container {\n",
              "      display:flex;\n",
              "      flex-wrap:wrap;\n",
              "      gap: 12px;\n",
              "    }\n",
              "\n",
              "    .colab-df-convert {\n",
              "      background-color: #E8F0FE;\n",
              "      border: none;\n",
              "      border-radius: 50%;\n",
              "      cursor: pointer;\n",
              "      display: none;\n",
              "      fill: #1967D2;\n",
              "      height: 32px;\n",
              "      padding: 0 0 0 0;\n",
              "      width: 32px;\n",
              "    }\n",
              "\n",
              "    .colab-df-convert:hover {\n",
              "      background-color: #E2EBFA;\n",
              "      box-shadow: 0px 1px 2px rgba(60, 64, 67, 0.3), 0px 1px 3px 1px rgba(60, 64, 67, 0.15);\n",
              "      fill: #174EA6;\n",
              "    }\n",
              "\n",
              "    [theme=dark] .colab-df-convert {\n",
              "      background-color: #3B4455;\n",
              "      fill: #D2E3FC;\n",
              "    }\n",
              "\n",
              "    [theme=dark] .colab-df-convert:hover {\n",
              "      background-color: #434B5C;\n",
              "      box-shadow: 0px 1px 3px 1px rgba(0, 0, 0, 0.15);\n",
              "      filter: drop-shadow(0px 1px 2px rgba(0, 0, 0, 0.3));\n",
              "      fill: #FFFFFF;\n",
              "    }\n",
              "  </style>\n",
              "\n",
              "      <script>\n",
              "        const buttonEl =\n",
              "          document.querySelector('#df-ae32bba1-374d-48bb-89ad-cb7bdbbcc591 button.colab-df-convert');\n",
              "        buttonEl.style.display =\n",
              "          google.colab.kernel.accessAllowed ? 'block' : 'none';\n",
              "\n",
              "        async function convertToInteractive(key) {\n",
              "          const element = document.querySelector('#df-ae32bba1-374d-48bb-89ad-cb7bdbbcc591');\n",
              "          const dataTable =\n",
              "            await google.colab.kernel.invokeFunction('convertToInteractive',\n",
              "                                                     [key], {});\n",
              "          if (!dataTable) return;\n",
              "\n",
              "          const docLinkHtml = 'Like what you see? Visit the ' +\n",
              "            '<a target=\"_blank\" href=https://colab.research.google.com/notebooks/data_table.ipynb>data table notebook</a>'\n",
              "            + ' to learn more about interactive tables.';\n",
              "          element.innerHTML = '';\n",
              "          dataTable['output_type'] = 'display_data';\n",
              "          await google.colab.output.renderOutput(dataTable, element);\n",
              "          const docLink = document.createElement('div');\n",
              "          docLink.innerHTML = docLinkHtml;\n",
              "          element.appendChild(docLink);\n",
              "        }\n",
              "      </script>\n",
              "    </div>\n",
              "  </div>\n",
              "  "
            ]
          },
          "metadata": {},
          "execution_count": 22
        }
      ],
      "source": [
        "# WRITE SUBMISSION FILE\n",
        "test = pd.DataFrame(index=customers,data={'prediction': np.concatenate(test_preds)})\n",
        "sub = pd.read_csv(parent_dir + 'sample_submission.csv')[['customer_ID']]\n",
        "sub['customer_ID_hash'] = sub['customer_ID'].copy()\n",
        "sub = sub.set_index('customer_ID_hash')\n",
        "sub = sub.merge(test[['prediction']], left_index=True, right_index=True, how='left')\n",
        "sub = sub.reset_index(drop=True)\n",
        "\n",
        "# DISPLAY PREDICTIONS\n",
        "sub.to_csv(f'submission_cat_v{VER}_seed{SEED}_fold{FOLDS}.csv',index=False)\n",
        "print('Submission file shape is', sub.shape )\n",
        "sub.head()"
      ]
    },
    {
      "cell_type": "code",
      "execution_count": 23,
      "id": "533e5941",
      "metadata": {
        "execution": {
          "iopub.execute_input": "2022-07-15T16:51:02.918871Z",
          "iopub.status.busy": "2022-07-15T16:51:02.918494Z",
          "iopub.status.idle": "2022-07-15T16:51:03.267833Z",
          "shell.execute_reply": "2022-07-15T16:51:03.266949Z"
        },
        "papermill": {
          "duration": 0.374502,
          "end_time": "2022-07-15T16:51:03.269960",
          "exception": false,
          "start_time": "2022-07-15T16:51:02.895458",
          "status": "completed"
        },
        "tags": [],
        "colab": {
          "base_uri": "https://localhost:8080/",
          "height": 281
        },
        "id": "533e5941",
        "outputId": "85604be7-3c01-473f-ed0a-041898dcbcbc"
      },
      "outputs": [
        {
          "output_type": "display_data",
          "data": {
            "text/plain": [
              "<Figure size 432x288 with 1 Axes>"
            ],
            "image/png": "[encoded data removed]"
          },
          "metadata": {
            "needs_background": "light"
          }
        }
      ],
      "source": [
        "# PLOT PREDICTIONS\n",
        "plt.hist(sub.prediction, bins=100)\n",
        "plt.title('Test Predictions')\n",
        "plt.show()"
      ]
    },
    {
      "cell_type": "markdown",
      "id": "185ec80b",
      "metadata": {
        "papermill": {
          "duration": 0.019597,
          "end_time": "2022-07-15T16:51:03.309452",
          "exception": false,
          "start_time": "2022-07-15T16:51:03.289855",
          "status": "completed"
        },
        "tags": [],
        "id": "185ec80b"
      },
      "source": [
        "# Ensemble"
      ]
    },
    {
      "cell_type": "markdown",
      "id": "7b5329de",
      "metadata": {
        "papermill": {
          "duration": 0.019059,
          "end_time": "2022-07-15T16:51:03.348171",
          "exception": false,
          "start_time": "2022-07-15T16:51:03.329112",
          "status": "completed"
        },
        "tags": [],
        "id": "7b5329de"
      },
      "source": [
        "## Do only ensemble"
      ]
    },
    {
      "cell_type": "code",
      "execution_count": null,
      "id": "ae302481",
      "metadata": {
        "execution": {
          "iopub.execute_input": "2022-07-15T16:51:03.388764Z",
          "iopub.status.busy": "2022-07-15T16:51:03.388441Z",
          "iopub.status.idle": "2022-07-15T16:51:04.469509Z",
          "shell.execute_reply": "2022-07-15T16:51:04.468641Z"
        },
        "papermill": {
          "duration": 1.104153,
          "end_time": "2022-07-15T16:51:04.472053",
          "exception": false,
          "start_time": "2022-07-15T16:51:03.367900",
          "status": "completed"
        },
        "tags": [],
        "id": "ae302481"
      },
      "outputs": [],
      "source": [
        "sub = pd.read_csv(parent_dir + 'amex-default-prediction/sample_submission.csv')"
      ]
    },
    {
      "cell_type": "code",
      "execution_count": null,
      "id": "8a79e96e",
      "metadata": {
        "execution": {
          "iopub.execute_input": "2022-07-15T16:51:04.513132Z",
          "iopub.status.busy": "2022-07-15T16:51:04.512793Z",
          "iopub.status.idle": "2022-07-15T16:51:04.520068Z",
          "shell.execute_reply": "2022-07-15T16:51:04.519108Z"
        },
        "papermill": {
          "duration": 0.029574,
          "end_time": "2022-07-15T16:51:04.522316",
          "exception": false,
          "start_time": "2022-07-15T16:51:04.492742",
          "status": "completed"
        },
        "tags": [],
        "id": "8a79e96e"
      },
      "outputs": [],
      "source": [
        "# https://www.kaggle.com/code/beezus666/ensemble-weighted-average\n",
        "#crude formula for model weighting.\n",
        "# Using this formaula the best model's weight = 1, the worst model's weight ~0.05\n",
        "def model_weight(model_loss, worst_loss, best_loss):\n",
        "    return 1- ((best_loss - model_loss)/(best_loss-(worst_loss - 0.01)))\n",
        "\n",
        "def read_weighted_preds(sub_dict: dict, worst_score:float, best_score: float) -> list:\n",
        "    preds = []\n",
        "    weights = []\n",
        "    for path, loss in sub_dict.items():\n",
        "        weight = model_weight(loss, worst_score, best_score)\n",
        "        \n",
        "        df = pd.read_csv(path)\n",
        "        df = df.set_index('customer_ID').sort_index().reset_index() # sort\n",
        "        df['prediction'] = df['prediction']*weight\n",
        "        \n",
        "        preds.append(df['prediction'])\n",
        "        weights.append(weight)\n",
        "    \n",
        "    return preds, weights"
      ]
    },
    {
      "cell_type": "code",
      "execution_count": null,
      "id": "03b09021",
      "metadata": {
        "execution": {
          "iopub.execute_input": "2022-07-15T16:51:04.561639Z",
          "iopub.status.busy": "2022-07-15T16:51:04.561334Z",
          "iopub.status.idle": "2022-07-15T16:51:22.494528Z",
          "shell.execute_reply": "2022-07-15T16:51:22.493503Z"
        },
        "papermill": {
          "duration": 17.955551,
          "end_time": "2022-07-15T16:51:22.497045",
          "exception": false,
          "start_time": "2022-07-15T16:51:04.541494",
          "status": "completed"
        },
        "tags": [],
        "id": "03b09021"
      },
      "outputs": [],
      "source": [
        "best = 0.799\n",
        "worst = 0.7989\n",
        "\n",
        "sub_dict = {\n",
        "#     parent_dir + 'amexdefaultsubmissions/submission_cat_v26_0794.csv': 0.794,\n",
        "    parent_dir + 'amexdefaultsubmissions/submission_TF_GRU0789.csv': 0.789,\n",
        "# #     parent_dir + 'amexdefaultsubmissions/submission_xgb_v24.csv': 0.794,\n",
        "    parent_dir + 'amexdefaultsubmissions/test_lgbm_baseline_5fold_seed42.csv': 0.796,\n",
        "    parent_dir + 'amexdefaultsubmissions/test_lgbm_baseline_5fold_seed42_plus_0797.csv': 0.797,\n",
        "    parent_dir + 'amexdefaultsubmissions/submission_cat_0.7923765971248049.csv': 0.792,\n",
        "    parent_dir + 'amexdefaultsubmissions/submission_tabnet0791.csv': 0.791,\n",
        "    parent_dir + 'amexdefaultsubmissions/lightautoml_tabularautoml0795.csv': 0.795,\n",
        "    parent_dir + 'amexdefaultsubmissions/submission_xgb_nvt_0._794csv.csv': 0.794,\n",
        "    '../input/amex-lgbm-dart-cv-0-7977/test_lgbm_baseline_5fold_seed_blend.csv': 0.799\n",
        "#     '../input/amexdefaultsubmissions/submission_cat_v119seed42.csv': 0.794,\n",
        "#     '../input/amexdefaultsubmissions/submission_cat_v120seed52.csv': 0.794,\n",
        "#     '../input/amexdefaultsubmissions/submission_cat_v121_seed62.csv': 0.794\n",
        "}\n",
        "\n",
        "preds, weights = read_weighted_preds(sub_dict, worst, best)"
      ]
    },
    {
      "cell_type": "code",
      "execution_count": null,
      "id": "3f8250ab",
      "metadata": {
        "execution": {
          "iopub.execute_input": "2022-07-15T16:51:22.539939Z",
          "iopub.status.busy": "2022-07-15T16:51:22.539178Z",
          "iopub.status.idle": "2022-07-15T16:51:27.679204Z",
          "shell.execute_reply": "2022-07-15T16:51:27.678195Z"
        },
        "papermill": {
          "duration": 5.163738,
          "end_time": "2022-07-15T16:51:27.681977",
          "exception": false,
          "start_time": "2022-07-15T16:51:22.518239",
          "status": "completed"
        },
        "tags": [],
        "id": "3f8250ab",
        "outputId": "29063670-a8e5-4822-bbc2-590be0cbcdd6"
      },
      "outputs": [
        {
          "data": {
            "text/html": [
              "<div>\n",
              "<style scoped>\n",
              "    .dataframe tbody tr th:only-of-type {\n",
              "        vertical-align: middle;\n",
              "    }\n",
              "\n",
              "    .dataframe tbody tr th {\n",
              "        vertical-align: top;\n",
              "    }\n",
              "\n",
              "    .dataframe thead th {\n",
              "        text-align: right;\n",
              "    }\n",
              "</style>\n",
              "<table border=\"1\" class=\"dataframe\">\n",
              "  <thead>\n",
              "    <tr style=\"text-align: right;\">\n",
              "      <th></th>\n",
              "      <th>customer_ID</th>\n",
              "      <th>prediction</th>\n",
              "    </tr>\n",
              "  </thead>\n",
              "  <tbody>\n",
              "    <tr>\n",
              "      <th>0</th>\n",
              "      <td>00000469ba478561f23a92a868bd366de6f6527a684c9a...</td>\n",
              "      <td>0.028490</td>\n",
              "    </tr>\n",
              "    <tr>\n",
              "      <th>1</th>\n",
              "      <td>00001bf2e77ff879fab36aa4fac689b9ba411dae63ae39...</td>\n",
              "      <td>0.001000</td>\n",
              "    </tr>\n",
              "    <tr>\n",
              "      <th>2</th>\n",
              "      <td>0000210045da4f81e5f122c6bde5c2a617d03eef67f82c...</td>\n",
              "      <td>0.046015</td>\n",
              "    </tr>\n",
              "    <tr>\n",
              "      <th>3</th>\n",
              "      <td>00003b41e58ede33b8daf61ab56d9952f17c9ad1c3976c...</td>\n",
              "      <td>0.219310</td>\n",
              "    </tr>\n",
              "    <tr>\n",
              "      <th>4</th>\n",
              "      <td>00004b22eaeeeb0ec976890c1d9bfc14fd9427e98c4ee9...</td>\n",
              "      <td>0.860249</td>\n",
              "    </tr>\n",
              "    <tr>\n",
              "      <th>...</th>\n",
              "      <td>...</td>\n",
              "      <td>...</td>\n",
              "    </tr>\n",
              "    <tr>\n",
              "      <th>924616</th>\n",
              "      <td>ffff952c631f2c911b8a2a8ca56ea6e656309a83d2f64c...</td>\n",
              "      <td>0.013702</td>\n",
              "    </tr>\n",
              "    <tr>\n",
              "      <th>924617</th>\n",
              "      <td>ffffcf5df59e5e0bba2a5ac4578a34e2b5aa64a1546cd3...</td>\n",
              "      <td>0.798792</td>\n",
              "    </tr>\n",
              "    <tr>\n",
              "      <th>924618</th>\n",
              "      <td>ffffd61f098cc056dbd7d2a21380c4804bbfe60856f475...</td>\n",
              "      <td>0.440492</td>\n",
              "    </tr>\n",
              "    <tr>\n",
              "      <th>924619</th>\n",
              "      <td>ffffddef1fc3643ea179c93245b68dca0f36941cd83977...</td>\n",
              "      <td>0.270334</td>\n",
              "    </tr>\n",
              "    <tr>\n",
              "      <th>924620</th>\n",
              "      <td>fffffa7cf7e453e1acc6a1426475d5cb9400859f82ff61...</td>\n",
              "      <td>0.059215</td>\n",
              "    </tr>\n",
              "  </tbody>\n",
              "</table>\n",
              "<p>924621 rows × 2 columns</p>\n",
              "</div>"
            ],
            "text/plain": [
              "                                              customer_ID  prediction\n",
              "0       00000469ba478561f23a92a868bd366de6f6527a684c9a...    0.028490\n",
              "1       00001bf2e77ff879fab36aa4fac689b9ba411dae63ae39...    0.001000\n",
              "2       0000210045da4f81e5f122c6bde5c2a617d03eef67f82c...    0.046015\n",
              "3       00003b41e58ede33b8daf61ab56d9952f17c9ad1c3976c...    0.219310\n",
              "4       00004b22eaeeeb0ec976890c1d9bfc14fd9427e98c4ee9...    0.860249\n",
              "...                                                   ...         ...\n",
              "924616  ffff952c631f2c911b8a2a8ca56ea6e656309a83d2f64c...    0.013702\n",
              "924617  ffffcf5df59e5e0bba2a5ac4578a34e2b5aa64a1546cd3...    0.798792\n",
              "924618  ffffd61f098cc056dbd7d2a21380c4804bbfe60856f475...    0.440492\n",
              "924619  ffffddef1fc3643ea179c93245b68dca0f36941cd83977...    0.270334\n",
              "924620  fffffa7cf7e453e1acc6a1426475d5cb9400859f82ff61...    0.059215\n",
              "\n",
              "[924621 rows x 2 columns]"
            ]
          },
          "execution_count": 28,
          "metadata": {},
          "output_type": "execute_result"
        }
      ],
      "source": [
        "blend_ss = sub.copy()\n",
        "blend_ss['prediction'] = np.sum(np.column_stack(preds), axis=1) / sum(weights)\n",
        "# blend_ss['prediction'] = (np.mean(np.column_stack(preds), axis=1))\n",
        "blend_ss.to_csv('submission_blend.csv', index=False)\n",
        "blend_ss"
      ]
    },
    {
      "cell_type": "code",
      "execution_count": null,
      "id": "f11a4404",
      "metadata": {
        "execution": {
          "iopub.execute_input": "2022-07-15T16:51:27.747823Z",
          "iopub.status.busy": "2022-07-15T16:51:27.747355Z",
          "iopub.status.idle": "2022-07-15T16:51:27.818825Z",
          "shell.execute_reply": "2022-07-15T16:51:27.813317Z"
        },
        "papermill": {
          "duration": 0.107095,
          "end_time": "2022-07-15T16:51:27.821463",
          "exception": false,
          "start_time": "2022-07-15T16:51:27.714368",
          "status": "completed"
        },
        "tags": [],
        "id": "f11a4404",
        "outputId": "1e9ae23b-9caf-4853-9b1c-8a27f6cc152a"
      },
      "outputs": [
        {
          "data": {
            "text/html": [
              "<div>\n",
              "<style scoped>\n",
              "    .dataframe tbody tr th:only-of-type {\n",
              "        vertical-align: middle;\n",
              "    }\n",
              "\n",
              "    .dataframe tbody tr th {\n",
              "        vertical-align: top;\n",
              "    }\n",
              "\n",
              "    .dataframe thead th {\n",
              "        text-align: right;\n",
              "    }\n",
              "</style>\n",
              "<table border=\"1\" class=\"dataframe\">\n",
              "  <thead>\n",
              "    <tr style=\"text-align: right;\">\n",
              "      <th></th>\n",
              "      <th>prediction</th>\n",
              "    </tr>\n",
              "  </thead>\n",
              "  <tbody>\n",
              "    <tr>\n",
              "      <th>count</th>\n",
              "      <td>924621.000000</td>\n",
              "    </tr>\n",
              "    <tr>\n",
              "      <th>mean</th>\n",
              "      <td>0.249057</td>\n",
              "    </tr>\n",
              "    <tr>\n",
              "      <th>std</th>\n",
              "      <td>0.345441</td>\n",
              "    </tr>\n",
              "    <tr>\n",
              "      <th>min</th>\n",
              "      <td>0.000100</td>\n",
              "    </tr>\n",
              "    <tr>\n",
              "      <th>25%</th>\n",
              "      <td>0.003028</td>\n",
              "    </tr>\n",
              "    <tr>\n",
              "      <th>50%</th>\n",
              "      <td>0.026880</td>\n",
              "    </tr>\n",
              "    <tr>\n",
              "      <th>75%</th>\n",
              "      <td>0.482021</td>\n",
              "    </tr>\n",
              "    <tr>\n",
              "      <th>max</th>\n",
              "      <td>0.997465</td>\n",
              "    </tr>\n",
              "  </tbody>\n",
              "</table>\n",
              "</div>"
            ],
            "text/plain": [
              "          prediction\n",
              "count  924621.000000\n",
              "mean        0.249057\n",
              "std         0.345441\n",
              "min         0.000100\n",
              "25%         0.003028\n",
              "50%         0.026880\n",
              "75%         0.482021\n",
              "max         0.997465"
            ]
          },
          "execution_count": 29,
          "metadata": {},
          "output_type": "execute_result"
        }
      ],
      "source": [
        "blend_ss.describe()"
      ]
    },
    {
      "cell_type": "code",
      "execution_count": null,
      "id": "5cdeb1fa",
      "metadata": {
        "execution": {
          "iopub.execute_input": "2022-07-15T16:51:27.893523Z",
          "iopub.status.busy": "2022-07-15T16:51:27.892966Z",
          "iopub.status.idle": "2022-07-15T16:51:28.388752Z",
          "shell.execute_reply": "2022-07-15T16:51:28.387872Z"
        },
        "papermill": {
          "duration": 0.532861,
          "end_time": "2022-07-15T16:51:28.391244",
          "exception": false,
          "start_time": "2022-07-15T16:51:27.858383",
          "status": "completed"
        },
        "tags": [],
        "id": "5cdeb1fa",
        "outputId": "5669f4cf-4ba9-422a-8106-840bb95d2fa0"
      },
      "outputs": [
        {
          "data": {
            "image/png": "[encoded data removed]",
            "text/plain": [
              "<Figure size 432x288 with 1 Axes>"
            ]
          },
          "metadata": {
            "needs_background": "light"
          },
          "output_type": "display_data"
        }
      ],
      "source": [
        "# PLOT PREDICTIONS\n",
        "plt.hist(blend_ss.prediction, bins=100)\n",
        "plt.title('Blend Test Predictions')\n",
        "plt.show()"
      ]
    },
    {
      "cell_type": "markdown",
      "id": "802623f7",
      "metadata": {
        "papermill": {
          "duration": 0.042841,
          "end_time": "2022-07-15T16:51:28.477165",
          "exception": false,
          "start_time": "2022-07-15T16:51:28.434324",
          "status": "completed"
        },
        "tags": [],
        "id": "802623f7"
      },
      "source": [
        "# Submit to Kaggle from Colab"
      ]
    },
    {
      "cell_type": "code",
      "execution_count": 25,
      "id": "efc54970",
      "metadata": {
        "execution": {
          "iopub.execute_input": "2022-07-15T16:51:28.552420Z",
          "iopub.status.busy": "2022-07-15T16:51:28.551829Z",
          "iopub.status.idle": "2022-07-15T16:51:28.557906Z",
          "shell.execute_reply": "2022-07-15T16:51:28.557166Z"
        },
        "papermill": {
          "duration": 0.048007,
          "end_time": "2022-07-15T16:51:28.561880",
          "exception": false,
          "start_time": "2022-07-15T16:51:28.513873",
          "status": "completed"
        },
        "tags": [],
        "id": "efc54970",
        "outputId": "e8529c2d-b1bd-404d-9af6-35d5c082bcfc",
        "colab": {
          "base_uri": "https://localhost:8080/"
        }
      },
      "outputs": [
        {
          "output_type": "stream",
          "name": "stdout",
          "text": [
            "100% 75.3M/75.3M [00:10<00:00, 7.35MB/s]\n",
            "Successfully submitted to American Express - Default Prediction"
          ]
        }
      ],
      "source": [
        "# Submit\n",
        "if is_env_colab:\n",
        "    !kaggle competitions submit -c amex-default-prediction -f submission_cat_v1_seed42_fold5.csv -m \"From colab seed 42 fold 5 lag plus\"\n",
        "    # !kaggle competitions submit -c amex-default-prediction -f submission_blend.csv -m \"From colab seed 42 fold 5 lag plus\""
      ]
    },
    {
      "cell_type": "code",
      "execution_count": 27,
      "id": "aad5cc1a",
      "metadata": {
        "execution": {
          "iopub.execute_input": "2022-07-15T16:51:28.636400Z",
          "iopub.status.busy": "2022-07-15T16:51:28.635706Z",
          "iopub.status.idle": "2022-07-15T16:51:28.643060Z",
          "shell.execute_reply": "2022-07-15T16:51:28.640501Z"
        },
        "papermill": {
          "duration": 0.04911,
          "end_time": "2022-07-15T16:51:28.647823",
          "exception": false,
          "start_time": "2022-07-15T16:51:28.598713",
          "status": "completed"
        },
        "tags": [],
        "id": "aad5cc1a",
        "outputId": "4cc23dd2-4aae-490f-c55f-7aa5337975ed",
        "colab": {
          "base_uri": "https://localhost:8080/"
        }
      },
      "outputs": [
        {
          "output_type": "stream",
          "name": "stdout",
          "text": [
            "fileName                            date                 description                                               status    publicScore  privateScore  \n",
            "----------------------------------  -------------------  --------------------------------------------------------  --------  -----------  ------------  \n",
            "submission_cat_v1_seed42_fold5.csv  2022-07-18 22:27:50  From colab seed 42 fold 5 lag plus                        complete  0.795                      \n",
            "submission_lgb_v1_seed42_fold5.csv  2022-07-18 20:37:22  the first version. fe lag plus seed 52 fold 5 From colab  complete  0.797                      \n",
            "submission_cat_v1.csv               2022-07-18 06:30:57  From colab seed 42 fold 5 lag plus                        complete  0.795                      \n",
            "Amex Default Prediction with Cat    2022-07-16 16:14:20  Notebook Amex Default Prediction with Cat | Version 125   complete  0.794                      \n",
            "Amex Default Prediction with Cat    2022-07-15 16:33:32  Notebook Amex Default Prediction with Cat | Version 127   complete  0.798                      \n",
            "Amex Default Prediction with Cat    2022-07-15 16:24:25  Notebook Amex Default Prediction with Cat | Version 126   complete  0.798                      \n",
            "submission_cat_v123_seed52_794.csv  2022-07-15 16:12:09                                                            complete  0.795                      \n",
            "submission_cat_v123_0794.csv        2022-07-15 15:47:08                                                            complete  0.795                      \n",
            "Amex Default Prediction with Cat    2022-07-15 13:53:07  Notebook Amex Default Prediction with Cat | Version 123   complete  0.798                      \n",
            "Amex Default Prediction with Cat    2022-07-12 10:17:49  Notebook Amex Default Prediction with Cat | Version 122   complete  0.794                      \n",
            "Amex Default Prediction with Cat    2022-07-11 16:41:48  Notebook Amex Default Prediction with Cat | Version 119   complete  0.794                      \n",
            "Amex Default Prediction with Cat    2022-07-11 13:00:10  Notebook Amex Default Prediction with Cat | Version 116   complete  0.794                      \n",
            "Amex Default Prediction with Cat    2022-07-10 12:29:19  Notebook Amex Default Prediction with Cat | Version 115   complete  0.798                      \n",
            "Amex Default Prediction with Cat    2022-07-10 12:26:36  Notebook Amex Default Prediction with Cat | Version 114   complete  0.797                      \n",
            "Amex Default Prediction with Cat    2022-07-10 07:38:14  Notebook Amex Default Prediction with Cat | Version 109   complete  0.798                      \n",
            "Amex Default Prediction with Cat    2022-07-10 07:34:41  Notebook Amex Default Prediction with Cat | Version 108   complete  0.798                      \n",
            "Amex Default Prediction with Cat    2022-07-10 07:31:41  Notebook Amex Default Prediction with Cat | Version 107   complete  0.798                      \n",
            "Amex Default Prediction with Cat    2022-07-07 16:06:53  Notebook Amex Default Prediction with Cat | Version 106   complete  0.798                      \n",
            "Amex Default Prediction with Cat    2022-07-07 16:01:41  Notebook Amex Default Prediction with Cat | Version 105   complete  0.797                      \n",
            "Amex Default Prediction with Cat    2022-07-07 15:55:53  Notebook Amex Default Prediction with Cat | Version 104   complete  0.798                      \n",
            "Amex Default Prediction with Cat    2022-07-07 15:52:16  Notebook Amex Default Prediction with Cat | Version 103   complete  0.797                      \n",
            "Amex Default Prediction with Cat    2022-07-05 15:48:47  Notebook Amex Default Prediction with Cat | Version 102   complete  0.797                      \n",
            "Amex Default Prediction with Cat    2022-07-05 15:46:36  Notebook Amex Default Prediction with Cat | Version 101   complete  0.797                      \n",
            "Amex Default Prediction with Cat    2022-07-05 15:37:48  Notebook Amex Default Prediction with Cat | Version 100   complete  0.797                      \n",
            "Amex Default Prediction with Cat    2022-07-05 15:33:29  Notebook Amex Default Prediction with Cat | Version 99    complete  0.797                      \n",
            "Amex Default Prediction with Cat    2022-07-05 15:29:38  Notebook Amex Default Prediction with Cat | Version 98    complete  0.797                      \n",
            "Amex Default Prediction with Cat    2022-07-04 16:21:46  Notebook Amex Default Prediction with Cat | Version 97    complete  0.797                      \n",
            "Amex Default Prediction with Cat    2022-07-04 16:09:39  Notebook Amex Default Prediction with Cat | Version 95    complete  0.797                      \n",
            "Amex Default Prediction with Cat    2022-07-04 14:45:39  Notebook Amex Default Prediction with Cat | Version 93    complete  0.797                      \n",
            "Amex Default Prediction - XGBoost   2022-07-04 14:01:00  Notebook Amex Default Prediction - XGBoost | Version 25   complete  0.793                      \n",
            "Amex Default Prediction - XGBoost   2022-07-04 13:34:15  Notebook Amex Default Prediction - XGBoost | Version 24   complete  0.794                      \n",
            "Amex Default Prediction with Cat    2022-07-03 11:56:30  Notebook Amex Default Prediction with Cat | Version 86    complete  0.797                      \n",
            "Amex Default Prediction with Cat    2022-07-03 11:17:11  Notebook Amex Default Prediction with Cat | Version 85    complete  0.797                      \n",
            "Amex Default Prediction with Cat    2022-07-03 05:11:36  Notebook Amex Default Prediction with Cat | Version 84    complete  0.797                      \n",
            "Amex Default Prediction with Cat    2022-07-03 04:59:28  Notebook Amex Default Prediction with Cat | Version 83    complete  0.797                      \n",
            "Amex Default Prediction with Cat    2022-07-03 04:22:26  Notebook Amex Default Prediction with Cat | Version 82    complete  0.792                      \n",
            "Amex Default Prediction with Cat    2022-07-02 16:13:03  Notebook Amex Default Prediction with Cat | Version 81    complete  0.796                      \n",
            "Amex Default Prediction with Cat    2022-07-02 15:56:06  Notebook Amex Default Prediction with Cat | Version 80    complete  0.797                      \n",
            "Amex Default Prediction with Cat    2022-07-02 14:22:57  Notebook Amex Default Prediction with Cat | Version 79    complete  0.797                      \n",
            "Amex Default Prediction with Cat    2022-07-02 14:17:53  Notebook Amex Default Prediction with Cat | Version 78    complete  0.797                      \n",
            "Amex Default Prediction with Cat    2022-07-02 13:35:04  Notebook Amex Default Prediction with Cat | Version 77    complete  0.794                      \n",
            "Amex Default Prediction with Cat    2022-07-01 17:11:02  Notebook Amex Default Prediction with Cat | Version 76    complete  0.797                      \n",
            "Amex Default Prediction with Cat    2022-07-01 17:09:06  Notebook Amex Default Prediction with Cat | Version 75    complete  0.794                      \n",
            "Amex Default Prediction with Cat    2022-07-01 15:31:01  Notebook Amex Default Prediction with Cat | Version 74    complete  0.797                      \n",
            "Amex Default Prediction with Cat    2022-07-01 15:29:31  Notebook Amex Default Prediction with Cat | Version 73    complete  0.797                      \n",
            "TensorFlow GRU Starter - [0.790]    2022-07-01 15:25:26  Notebook TensorFlow GRU Starter - [0.790] | Version 3     complete  0.783                      \n",
            "Amex Default Prediction with Cat    2022-06-30 12:11:53  Notebook Amex Default Prediction with Cat | Version 72    complete  0.797                      \n",
            "Amex Default Prediction with Cat    2022-06-30 12:08:27  Notebook Amex Default Prediction with Cat | Version 71    complete  0.797                      \n",
            "Amex Default Prediction with Cat    2022-06-29 13:52:23  Notebook Amex Default Prediction with Cat | Version 70    complete  0.797                      \n",
            "Amex Default Prediction with Cat    2022-06-29 13:49:46  Notebook Amex Default Prediction with Cat | Version 69    complete  0.797                      \n"
          ]
        }
      ],
      "source": [
        "# Run after few seconds\n",
        "if is_env_colab:\n",
        "    !kaggle competitions submissions amex-default-prediction"
      ]
    }
  ],
  "metadata": {
    "kernelspec": {
      "display_name": "Python 3",
      "language": "python",
      "name": "python3"
    },
    "language_info": {
      "codemirror_mode": {
        "name": "ipython",
        "version": 3
      },
      "file_extension": ".py",
      "mimetype": "text/x-python",
      "name": "python",
      "nbconvert_exporter": "python",
      "pygments_lexer": "ipython3",
      "version": "3.7.12"
    },
    "papermill": {
      "default_parameters": {},
      "duration": 2291.105208,
      "end_time": "2022-07-15T16:51:29.695242",
      "environment_variables": {},
      "exception": null,
      "input_path": "__notebook__.ipynb",
      "output_path": "__notebook__.ipynb",
      "parameters": {},
      "start_time": "2022-07-15T16:13:18.590034",
      "version": "2.3.4"
    },
    "colab": {
      "name": "amex-default-prediction-with-cat.ipynb",
      "provenance": [],
      "machine_shape": "hm"
    },
    "accelerator": "GPU",
    "gpuClass": "standard"
  },
  "nbformat": 4,
  "nbformat_minor": 5
}
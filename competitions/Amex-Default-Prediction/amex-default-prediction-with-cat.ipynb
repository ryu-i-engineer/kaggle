{
  "cells": [
    {
      "cell_type": "markdown",
      "id": "4c34cc88",
      "metadata": {
        "papermill": {
          "duration": 0.016286,
          "end_time": "2022-07-15T16:13:27.288020",
          "exception": false,
          "start_time": "2022-07-15T16:13:27.271734",
          "status": "completed"
        },
        "tags": [],
        "id": "4c34cc88"
      },
      "source": [
        "# Get env info"
      ]
    },
    {
      "cell_type": "code",
      "execution_count": 1,
      "id": "17de3e3a",
      "metadata": {
        "execution": {
          "iopub.execute_input": "2022-07-15T16:13:27.308522Z",
          "iopub.status.busy": "2022-07-15T16:13:27.307775Z",
          "iopub.status.idle": "2022-07-15T16:13:27.318464Z",
          "shell.execute_reply": "2022-07-15T16:13:27.317771Z"
        },
        "papermill": {
          "duration": 0.022784,
          "end_time": "2022-07-15T16:13:27.320196",
          "exception": false,
          "start_time": "2022-07-15T16:13:27.297412",
          "status": "completed"
        },
        "tags": [],
        "id": "17de3e3a"
      },
      "outputs": [],
      "source": [
        "import os\n",
        "is_env_colab = True\n",
        "\n",
        "if \"kaggle\" in os.path.abspath(\".\"):\n",
        "    is_env_colab = False"
      ]
    },
    {
      "cell_type": "markdown",
      "id": "ec8911a0",
      "metadata": {
        "papermill": {
          "duration": 0.009252,
          "end_time": "2022-07-15T16:13:27.338460",
          "exception": false,
          "start_time": "2022-07-15T16:13:27.329208",
          "status": "completed"
        },
        "tags": [],
        "id": "ec8911a0"
      },
      "source": [
        "# Prepare for colab"
      ]
    },
    {
      "cell_type": "code",
      "execution_count": 2,
      "id": "e0be67aa",
      "metadata": {
        "execution": {
          "iopub.execute_input": "2022-07-15T16:13:27.357593Z",
          "iopub.status.busy": "2022-07-15T16:13:27.357300Z",
          "iopub.status.idle": "2022-07-15T16:13:27.361267Z",
          "shell.execute_reply": "2022-07-15T16:13:27.360484Z"
        },
        "papermill": {
          "duration": 0.015521,
          "end_time": "2022-07-15T16:13:27.362941",
          "exception": false,
          "start_time": "2022-07-15T16:13:27.347420",
          "status": "completed"
        },
        "tags": [],
        "id": "e0be67aa",
        "outputId": "4c30c3fa-05b0-494e-f6f5-ec3405992972",
        "colab": {
          "base_uri": "https://localhost:8080/"
        }
      },
      "outputs": [
        {
          "output_type": "stream",
          "name": "stdout",
          "text": [
            "Looking in indexes: https://pypi.org/simple, https://us-python.pkg.dev/colab-wheels/public/simple/\n",
            "Collecting catboost\n",
            "  Downloading catboost-1.0.6-cp37-none-manylinux1_x86_64.whl (76.6 MB)\n",
            "\u001b[K     |████████████████████████████████| 76.6 MB 158 kB/s \n",
            "\u001b[?25hRequirement already satisfied: six in /usr/local/lib/python3.7/dist-packages (from catboost) (1.15.0)\n",
            "Requirement already satisfied: scipy in /usr/local/lib/python3.7/dist-packages (from catboost) (1.7.3)\n",
            "Requirement already satisfied: numpy>=1.16.0 in /usr/local/lib/python3.7/dist-packages (from catboost) (1.21.6)\n",
            "Requirement already satisfied: graphviz in /usr/local/lib/python3.7/dist-packages (from catboost) (0.10.1)\n",
            "Requirement already satisfied: plotly in /usr/local/lib/python3.7/dist-packages (from catboost) (5.5.0)\n",
            "Requirement already satisfied: pandas>=0.24.0 in /usr/local/lib/python3.7/dist-packages (from catboost) (1.3.5)\n",
            "Requirement already satisfied: matplotlib in /usr/local/lib/python3.7/dist-packages (from catboost) (3.2.2)\n",
            "Requirement already satisfied: python-dateutil>=2.7.3 in /usr/local/lib/python3.7/dist-packages (from pandas>=0.24.0->catboost) (2.8.2)\n",
            "Requirement already satisfied: pytz>=2017.3 in /usr/local/lib/python3.7/dist-packages (from pandas>=0.24.0->catboost) (2022.1)\n",
            "Requirement already satisfied: pyparsing!=2.0.4,!=2.1.2,!=2.1.6,>=2.0.1 in /usr/local/lib/python3.7/dist-packages (from matplotlib->catboost) (3.0.9)\n",
            "Requirement already satisfied: kiwisolver>=1.0.1 in /usr/local/lib/python3.7/dist-packages (from matplotlib->catboost) (1.4.3)\n",
            "Requirement already satisfied: cycler>=0.10 in /usr/local/lib/python3.7/dist-packages (from matplotlib->catboost) (0.11.0)\n",
            "Requirement already satisfied: typing-extensions in /usr/local/lib/python3.7/dist-packages (from kiwisolver>=1.0.1->matplotlib->catboost) (4.1.1)\n",
            "Requirement already satisfied: tenacity>=6.2.0 in /usr/local/lib/python3.7/dist-packages (from plotly->catboost) (8.0.1)\n",
            "Installing collected packages: catboost\n",
            "Successfully installed catboost-1.0.6\n"
          ]
        }
      ],
      "source": [
        "if is_env_colab:\n",
        "    !pip install catboost"
      ]
    },
    {
      "cell_type": "markdown",
      "id": "20589c9e",
      "metadata": {
        "papermill": {
          "duration": 0.008824,
          "end_time": "2022-07-15T16:13:27.380498",
          "exception": false,
          "start_time": "2022-07-15T16:13:27.371674",
          "status": "completed"
        },
        "tags": [],
        "id": "20589c9e"
      },
      "source": [
        "# Kaggle Set up"
      ]
    },
    {
      "cell_type": "code",
      "execution_count": 3,
      "id": "bad112fb",
      "metadata": {
        "execution": {
          "iopub.execute_input": "2022-07-15T16:13:27.400098Z",
          "iopub.status.busy": "2022-07-15T16:13:27.399391Z",
          "iopub.status.idle": "2022-07-15T16:13:27.403356Z",
          "shell.execute_reply": "2022-07-15T16:13:27.402606Z"
        },
        "papermill": {
          "duration": 0.015568,
          "end_time": "2022-07-15T16:13:27.405067",
          "exception": false,
          "start_time": "2022-07-15T16:13:27.389499",
          "status": "completed"
        },
        "tags": [],
        "id": "bad112fb",
        "outputId": "f91a462f-63b4-4166-ac50-65f7b6e2821c",
        "colab": {
          "base_uri": "https://localhost:8080/"
        }
      },
      "outputs": [
        {
          "output_type": "stream",
          "name": "stdout",
          "text": [
            "Looking in indexes: https://pypi.org/simple, https://us-python.pkg.dev/colab-wheels/public/simple/\n",
            "Requirement already satisfied: kaggle in /usr/local/lib/python3.7/dist-packages (1.5.12)\n",
            "Requirement already satisfied: python-dateutil in /usr/local/lib/python3.7/dist-packages (from kaggle) (2.8.2)\n",
            "Requirement already satisfied: certifi in /usr/local/lib/python3.7/dist-packages (from kaggle) (2022.6.15)\n",
            "Requirement already satisfied: python-slugify in /usr/local/lib/python3.7/dist-packages (from kaggle) (6.1.2)\n",
            "Requirement already satisfied: six>=1.10 in /usr/local/lib/python3.7/dist-packages (from kaggle) (1.15.0)\n",
            "Requirement already satisfied: tqdm in /usr/local/lib/python3.7/dist-packages (from kaggle) (4.64.0)\n",
            "Requirement already satisfied: urllib3 in /usr/local/lib/python3.7/dist-packages (from kaggle) (1.24.3)\n",
            "Requirement already satisfied: requests in /usr/local/lib/python3.7/dist-packages (from kaggle) (2.23.0)\n",
            "Requirement already satisfied: text-unidecode>=1.3 in /usr/local/lib/python3.7/dist-packages (from python-slugify->kaggle) (1.3)\n",
            "Requirement already satisfied: idna<3,>=2.5 in /usr/local/lib/python3.7/dist-packages (from requests->kaggle) (2.10)\n",
            "Requirement already satisfied: chardet<4,>=3.0.2 in /usr/local/lib/python3.7/dist-packages (from requests->kaggle) (3.0.4)\n"
          ]
        }
      ],
      "source": [
        "if is_env_colab:\n",
        "    !pip install kaggle"
      ]
    },
    {
      "cell_type": "markdown",
      "id": "3fa90515",
      "metadata": {
        "papermill": {
          "duration": 0.008806,
          "end_time": "2022-07-15T16:13:27.422550",
          "exception": false,
          "start_time": "2022-07-15T16:13:27.413744",
          "status": "completed"
        },
        "tags": [],
        "id": "3fa90515"
      },
      "source": [
        "## Upload API Token"
      ]
    },
    {
      "cell_type": "code",
      "execution_count": 4,
      "id": "54e44e29",
      "metadata": {
        "execution": {
          "iopub.execute_input": "2022-07-15T16:13:27.442237Z",
          "iopub.status.busy": "2022-07-15T16:13:27.441555Z",
          "iopub.status.idle": "2022-07-15T16:13:27.448196Z",
          "shell.execute_reply": "2022-07-15T16:13:27.447549Z"
        },
        "papermill": {
          "duration": 0.01814,
          "end_time": "2022-07-15T16:13:27.449796",
          "exception": false,
          "start_time": "2022-07-15T16:13:27.431656",
          "status": "completed"
        },
        "tags": [],
        "id": "54e44e29",
        "outputId": "9e99827e-150f-4f26-d6fb-87a89c5b0f00",
        "colab": {
          "resources": {
            "http://localhost:8080/nbextensions/google.colab/files.js": {
              "data": "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",
              "ok": true,
              "headers": [
                [
                  "content-type",
                  "application/javascript"
                ]
              ],
              "status": 200,
              "status_text": ""
            }
          },
          "base_uri": "https://localhost:8080/",
          "height": 90
        }
      },
      "outputs": [
        {
          "output_type": "display_data",
          "data": {
            "text/plain": [
              "<IPython.core.display.HTML object>"
            ],
            "text/html": [
              "\n",
              "     <input type=\"file\" id=\"files-c146f368-cc93-4744-9033-7edcb4a1bdf3\" name=\"files[]\" multiple disabled\n",
              "        style=\"border:none\" />\n",
              "     <output id=\"result-c146f368-cc93-4744-9033-7edcb4a1bdf3\">\n",
              "      Upload widget is only available when the cell has been executed in the\n",
              "      current browser session. Please rerun this cell to enable.\n",
              "      </output>\n",
              "      <script src=\"/nbextensions/google.colab/files.js\"></script> "
            ]
          },
          "metadata": {}
        },
        {
          "output_type": "stream",
          "name": "stdout",
          "text": [
            "Saving kaggle.json to kaggle.json\n",
            "User uploaded file \"kaggle.json\" with length 62 bytes\n"
          ]
        }
      ],
      "source": [
        "if is_env_colab:\n",
        "    from google.colab import files\n",
        "\n",
        "    uploaded = files.upload()\n",
        "\n",
        "    for fn in uploaded.keys():\n",
        "      print('User uploaded file \"{name}\" with length {length} bytes'.format(\n",
        "          name=fn, length=len(uploaded[fn])))\n",
        "\n",
        "    # Then move kaggle.json into the folder where the API expects to find it.\n",
        "    !mkdir -p ~/.kaggle/ && mv kaggle.json ~/.kaggle/ && chmod 600 ~/.kaggle/kaggle.json"
      ]
    },
    {
      "cell_type": "markdown",
      "id": "1abbc588",
      "metadata": {
        "papermill": {
          "duration": 0.008512,
          "end_time": "2022-07-15T16:13:27.467327",
          "exception": false,
          "start_time": "2022-07-15T16:13:27.458815",
          "status": "completed"
        },
        "tags": [],
        "id": "1abbc588"
      },
      "source": [
        "## Download and unzip dataset"
      ]
    },
    {
      "cell_type": "code",
      "execution_count": 5,
      "id": "c17f8dd7",
      "metadata": {
        "execution": {
          "iopub.execute_input": "2022-07-15T16:13:27.486038Z",
          "iopub.status.busy": "2022-07-15T16:13:27.485615Z",
          "iopub.status.idle": "2022-07-15T16:13:27.490276Z",
          "shell.execute_reply": "2022-07-15T16:13:27.489580Z"
        },
        "papermill": {
          "duration": 0.016071,
          "end_time": "2022-07-15T16:13:27.491993",
          "exception": false,
          "start_time": "2022-07-15T16:13:27.475922",
          "status": "completed"
        },
        "tags": [],
        "id": "c17f8dd7",
        "outputId": "49543e0c-7787-4b8e-f26f-1cb03c86c0bf",
        "colab": {
          "base_uri": "https://localhost:8080/"
        }
      },
      "outputs": [
        {
          "output_type": "stream",
          "name": "stdout",
          "text": [
            "Downloading amex-fe-plus.zip to /content\n",
            " 99% 3.40G/3.42G [00:30<00:00, 123MB/s] \n",
            "100% 3.42G/3.42G [00:30<00:00, 120MB/s]\n",
            "Archive:  /content/amex-fe-plus.zip\n",
            "  inflating: test_fe_plus_plus.parquet  \n",
            "  inflating: train_fe_plus_plus.parquet  \n"
          ]
        }
      ],
      "source": [
        "if is_env_colab:\n",
        "    # !kaggle datasets download -d huseyincot/amex-agg-data-pickle\n",
        "    # !unzip /content/amex-agg-data-pickle.zip\n",
        "    !kaggle datasets download -d ryuina/amex-fe-plus\n",
        "    !unzip /content/amex-fe-plus.zip"
      ]
    },
    {
      "cell_type": "code",
      "execution_count": 6,
      "id": "e4df1701",
      "metadata": {
        "execution": {
          "iopub.execute_input": "2022-07-15T16:13:27.515341Z",
          "iopub.status.busy": "2022-07-15T16:13:27.514880Z",
          "iopub.status.idle": "2022-07-15T16:13:27.523654Z",
          "shell.execute_reply": "2022-07-15T16:13:27.522700Z"
        },
        "papermill": {
          "duration": 0.025128,
          "end_time": "2022-07-15T16:13:27.526436",
          "exception": false,
          "start_time": "2022-07-15T16:13:27.501308",
          "status": "completed"
        },
        "tags": [],
        "id": "e4df1701",
        "outputId": "515fd359-ecfb-44eb-e8a7-79efa544d09a",
        "colab": {
          "base_uri": "https://localhost:8080/"
        }
      },
      "outputs": [
        {
          "output_type": "stream",
          "name": "stdout",
          "text": [
            "Downloading sample_submission.csv.zip to /content\n",
            "\r  0% 0.00/32.4M [00:00<?, ?B/s]\r 15% 5.00M/32.4M [00:00<00:00, 45.4MB/s]\r 90% 29.0M/32.4M [00:00<00:00, 158MB/s] \n",
            "\r100% 32.4M/32.4M [00:00<00:00, 151MB/s]\n",
            "Archive:  /content/sample_submission.csv.zip\n",
            "  inflating: sample_submission.csv   \n"
          ]
        }
      ],
      "source": [
        "if is_env_colab:\n",
        "    !kaggle competitions download -c amex-default-prediction -f sample_submission.csv\n",
        "    !unzip /content/sample_submission.csv.zip"
      ]
    },
    {
      "cell_type": "markdown",
      "id": "f4989bdc",
      "metadata": {
        "papermill": {
          "duration": 0.016438,
          "end_time": "2022-07-15T16:13:27.558017",
          "exception": false,
          "start_time": "2022-07-15T16:13:27.541579",
          "status": "completed"
        },
        "tags": [],
        "id": "f4989bdc"
      },
      "source": [
        "# Settings"
      ]
    },
    {
      "cell_type": "code",
      "execution_count": 7,
      "id": "95e00624",
      "metadata": {
        "_cell_guid": "b1076dfc-b9ad-4769-8c92-a6c4dae69d19",
        "_uuid": "8f2839f25d086af736a60e9eeb907d3b93b6e0e5",
        "execution": {
          "iopub.execute_input": "2022-07-15T16:13:27.588423Z",
          "iopub.status.busy": "2022-07-15T16:13:27.588075Z",
          "iopub.status.idle": "2022-07-15T16:13:28.957484Z",
          "shell.execute_reply": "2022-07-15T16:13:28.956421Z"
        },
        "papermill": {
          "duration": 1.38867,
          "end_time": "2022-07-15T16:13:28.960624",
          "exception": false,
          "start_time": "2022-07-15T16:13:27.571954",
          "status": "completed"
        },
        "tags": [],
        "id": "95e00624"
      },
      "outputs": [],
      "source": [
        "import pandas as pd\n",
        "import numpy as np\n",
        "import matplotlib.pyplot as plt\n",
        "import random\n",
        "\n",
        "from catboost import CatBoostClassifier, Pool\n",
        "from sklearn.preprocessing import LabelEncoder\n",
        "from sklearn.model_selection import KFold\n",
        "\n",
        "import os\n",
        "import gc; gc.enable()\n",
        "\n",
        "import warnings\n",
        "warnings.filterwarnings('ignore')"
      ]
    },
    {
      "cell_type": "code",
      "execution_count": 8,
      "id": "004febdf",
      "metadata": {
        "execution": {
          "iopub.execute_input": "2022-07-15T16:13:28.994650Z",
          "iopub.status.busy": "2022-07-15T16:13:28.994155Z",
          "iopub.status.idle": "2022-07-15T16:13:29.006339Z",
          "shell.execute_reply": "2022-07-15T16:13:29.002101Z"
        },
        "papermill": {
          "duration": 0.030433,
          "end_time": "2022-07-15T16:13:29.008239",
          "exception": false,
          "start_time": "2022-07-15T16:13:28.977806",
          "status": "completed"
        },
        "tags": [],
        "id": "004febdf"
      },
      "outputs": [],
      "source": [
        "VER=1\n",
        "SEED = 42\n",
        "FOLDS = 5\n",
        "\n",
        "cat_features = [\"B_30\", \"B_38\", \"D_114\", \"D_116\", \"D_117\", \"D_120\", \"D_126\", \"D_63\", \"D_64\", \"D_66\", \"D_68\"]\n",
        "\n",
        "def seed_everything(seed):\n",
        "    random.seed(seed)\n",
        "    np.random.seed(seed)\n",
        "    os.environ['PYTHONHASHSEED'] = str(seed)\n",
        "\n",
        "seed_everything(SEED)"
      ]
    },
    {
      "cell_type": "code",
      "execution_count": 9,
      "id": "3a167a09",
      "metadata": {
        "execution": {
          "iopub.execute_input": "2022-07-15T16:13:29.049841Z",
          "iopub.status.busy": "2022-07-15T16:13:29.049400Z",
          "iopub.status.idle": "2022-07-15T16:13:29.054157Z",
          "shell.execute_reply": "2022-07-15T16:13:29.053307Z"
        },
        "papermill": {
          "duration": 0.030493,
          "end_time": "2022-07-15T16:13:29.058829",
          "exception": false,
          "start_time": "2022-07-15T16:13:29.028336",
          "status": "completed"
        },
        "tags": [],
        "id": "3a167a09"
      },
      "outputs": [],
      "source": [
        "parent_dir = \"../input/\"\n",
        "if is_env_colab:\n",
        "    parent_dir = \"/content/\"    "
      ]
    },
    {
      "cell_type": "code",
      "execution_count": 10,
      "id": "c0e94a28",
      "metadata": {
        "execution": {
          "iopub.execute_input": "2022-07-15T16:13:29.093540Z",
          "iopub.status.busy": "2022-07-15T16:13:29.093091Z",
          "iopub.status.idle": "2022-07-15T16:14:14.382522Z",
          "shell.execute_reply": "2022-07-15T16:14:14.381643Z"
        },
        "papermill": {
          "duration": 45.307941,
          "end_time": "2022-07-15T16:14:14.385086",
          "exception": false,
          "start_time": "2022-07-15T16:13:29.077145",
          "status": "completed"
        },
        "tags": [],
        "id": "c0e94a28"
      },
      "outputs": [],
      "source": [
        "# train = pd.read_pickle(parent_dir + \"amexdefaultpickleincludemedian/train_agg.pkl\", compression=\"gzip\")\n",
        "# train = train.reset_index(level=0)\n",
        "\n",
        "# test = pd.read_pickle(parent_dir + \"amexdefaultpickleincludemedian/test.pkl\", compression=\"gzip\")\n",
        "# test = test.reset_index(level=0)\n",
        "\n",
        "# train = pd.read_pickle(parent_dir + \"amex-agg-data-pickle/train_agg.pkl\", compression=\"gzip\")\n",
        "# train = train.reset_index(level=0)\n",
        "# test = pd.read_pickle(parent_dir + \"amex-agg-data-pickle/test_agg.pkl\", compression=\"gzip\")\n",
        "# test = test.reset_index(level=0)\n",
        "\n",
        "train = pd.read_parquet(parent_dir + \"train_fe_plus_plus.parquet\")\n",
        "# train = train.reset_index(level=0)\n",
        "test = pd.read_parquet(parent_dir + \"test_fe_plus_plus.parquet\")\n",
        "# test = test.reset_index(level=0)"
      ]
    },
    {
      "cell_type": "code",
      "execution_count": 11,
      "id": "81cbcbdf",
      "metadata": {
        "execution": {
          "iopub.execute_input": "2022-07-15T16:14:14.404618Z",
          "iopub.status.busy": "2022-07-15T16:14:14.404283Z",
          "iopub.status.idle": "2022-07-15T16:14:16.433273Z",
          "shell.execute_reply": "2022-07-15T16:14:16.432437Z"
        },
        "papermill": {
          "duration": 2.041229,
          "end_time": "2022-07-15T16:14:16.435648",
          "exception": false,
          "start_time": "2022-07-15T16:14:14.394419",
          "status": "completed"
        },
        "tags": [],
        "id": "81cbcbdf"
      },
      "outputs": [],
      "source": [
        "cat_features_last = [f\"{cf}_last\" for cf in cat_features]\n",
        "\n",
        "le_encoder = LabelEncoder()\n",
        "for categorical_feature in cat_features_last:\n",
        "    train[categorical_feature] = le_encoder.fit_transform(train[categorical_feature])\n",
        "    test[categorical_feature] = le_encoder.transform(test[categorical_feature])"
      ]
    },
    {
      "cell_type": "code",
      "execution_count": 12,
      "id": "b931bba5",
      "metadata": {
        "execution": {
          "iopub.execute_input": "2022-07-15T16:14:16.455441Z",
          "iopub.status.busy": "2022-07-15T16:14:16.455092Z",
          "iopub.status.idle": "2022-07-15T16:14:18.013098Z",
          "shell.execute_reply": "2022-07-15T16:14:18.012027Z"
        },
        "papermill": {
          "duration": 1.570551,
          "end_time": "2022-07-15T16:14:18.015521",
          "exception": false,
          "start_time": "2022-07-15T16:14:16.444970",
          "status": "completed"
        },
        "tags": [],
        "id": "b931bba5"
      },
      "outputs": [],
      "source": [
        "# https://www.kaggle.com/code/ragnar123/amex-lgbm-dart-cv-0-7963\n",
        "# Round last float features to 2 decimal place\n",
        "float_cols = list(train.dtypes[(train.dtypes == 'float16') | (train.dtypes == 'float32') | (train.dtypes == 'float64')].index)\n",
        "float_cols = [col for col in float_cols if 'last' in col]\n",
        "\n",
        "train[float_cols] = train[float_cols].round(2)\n",
        "test[float_cols] = test[float_cols].round(2)"
      ]
    },
    {
      "cell_type": "code",
      "execution_count": 13,
      "id": "ba13c62d",
      "metadata": {
        "execution": {
          "iopub.execute_input": "2022-07-15T16:14:18.035731Z",
          "iopub.status.busy": "2022-07-15T16:14:18.035409Z",
          "iopub.status.idle": "2022-07-15T16:14:24.212689Z",
          "shell.execute_reply": "2022-07-15T16:14:24.207569Z"
        },
        "papermill": {
          "duration": 6.191719,
          "end_time": "2022-07-15T16:14:24.216845",
          "exception": false,
          "start_time": "2022-07-15T16:14:18.025126",
          "status": "completed"
        },
        "tags": [],
        "id": "ba13c62d"
      },
      "outputs": [],
      "source": [
        "train = train.set_index('customer_ID')\n",
        "train = train.sort_index().reset_index()\n",
        "FEATURES = train.drop(columns=['customer_ID', 'target']).columns"
      ]
    },
    {
      "cell_type": "code",
      "execution_count": 14,
      "id": "f0ecff48",
      "metadata": {
        "execution": {
          "iopub.execute_input": "2022-07-15T16:14:24.269747Z",
          "iopub.status.busy": "2022-07-15T16:14:24.269149Z",
          "iopub.status.idle": "2022-07-15T16:14:24.287474Z",
          "shell.execute_reply": "2022-07-15T16:14:24.284982Z"
        },
        "papermill": {
          "duration": 0.043293,
          "end_time": "2022-07-15T16:14:24.290609",
          "exception": false,
          "start_time": "2022-07-15T16:14:24.247316",
          "status": "completed"
        },
        "tags": [],
        "id": "f0ecff48"
      },
      "outputs": [],
      "source": [
        "# https://www.kaggle.com/competitions/amex-default-prediction/discussion/328020\n",
        "# https://www.kaggle.com/code/rohanrao/amex-competition-metric-implementations\n",
        "def amex_metric_np(target: np.ndarray, preds: np.ndarray) -> float:\n",
        "    indices = np.argsort(preds)[::-1]\n",
        "    preds, target = preds[indices], target[indices]\n",
        "\n",
        "    n_pos = np.sum(target)\n",
        "    n_neg = target.shape[0] - n_pos\n",
        "    \n",
        "    weight = 20.0 - target * 19.0\n",
        "    cum_norm_weight = (weight * (1 / weight.sum())).cumsum()\n",
        "    four_pct_mask = cum_norm_weight <= 0.04\n",
        "    d = np.sum(target[four_pct_mask]) / n_pos\n",
        "    \n",
        "    lorentz = (target * (1 / n_pos)).cumsum()\n",
        "    gini = ((lorentz - cum_norm_weight) * weight).sum()\n",
        "    gini_max = 10 * n_neg * (1 - 19 / (n_pos + 20 * n_neg))\n",
        "\n",
        "    g = gini / gini_max\n",
        "\n",
        "    return 0.5 * (g + d)"
      ]
    },
    {
      "cell_type": "code",
      "execution_count": 15,
      "id": "155fb197",
      "metadata": {
        "execution": {
          "iopub.execute_input": "2022-07-15T16:14:24.334040Z",
          "iopub.status.busy": "2022-07-15T16:14:24.333456Z",
          "iopub.status.idle": "2022-07-15T16:14:24.341948Z",
          "shell.execute_reply": "2022-07-15T16:14:24.341087Z"
        },
        "papermill": {
          "duration": 0.030338,
          "end_time": "2022-07-15T16:14:24.346412",
          "exception": false,
          "start_time": "2022-07-15T16:14:24.316074",
          "status": "completed"
        },
        "tags": [],
        "id": "155fb197"
      },
      "outputs": [],
      "source": [
        "cat_params = {\n",
        "    'iterations':26000,\n",
        "    'random_state':SEED,\n",
        "    'learning_rate':0.02,\n",
        "    \n",
        "#     'depth': 8,\n",
        "    'l2_leaf_reg':14.0,\n",
        "    'one_hot_max_size':70,\n",
        "#     'random_strength': 0.5,\n",
        "#     'bagging_temperature': 0.75,\n",
        "    'task_type':\"GPU\",\n",
        "    'border_count':128,\n",
        "}"
      ]
    },
    {
      "cell_type": "code",
      "execution_count": 16,
      "id": "72e0dac6",
      "metadata": {
        "execution": {
          "iopub.execute_input": "2022-07-15T16:14:24.385070Z",
          "iopub.status.busy": "2022-07-15T16:14:24.384608Z",
          "iopub.status.idle": "2022-07-15T16:48:45.264974Z",
          "shell.execute_reply": "2022-07-15T16:48:45.263500Z"
        },
        "papermill": {
          "duration": 2060.899656,
          "end_time": "2022-07-15T16:48:45.266833",
          "exception": false,
          "start_time": "2022-07-15T16:14:24.367177",
          "status": "completed"
        },
        "tags": [],
        "id": "72e0dac6",
        "outputId": "544cf015-d726-4f48-9620-292dc5666168",
        "colab": {
          "base_uri": "https://localhost:8080/"
        }
      },
      "outputs": [
        {
          "output_type": "stream",
          "name": "stdout",
          "text": [
            "#########################\n",
            "### Fold 1\n",
            "### Train size 367130 Valid size 91783\n",
            "### Training with 100% fold data...\n",
            "#########################\n",
            "0:\tlearn: 0.6681933\ttest: 0.6681787\tbest: 0.6681787 (0)\ttotal: 82.6ms\tremaining: 35m 47s\n",
            "500:\tlearn: 0.2233847\ttest: 0.2260116\tbest: 0.2260116 (500)\ttotal: 18.5s\tremaining: 15m 40s\n",
            "1000:\tlearn: 0.2169397\ttest: 0.2219202\tbest: 0.2219202 (1000)\ttotal: 35.8s\tremaining: 14m 53s\n",
            "1500:\tlearn: 0.2132306\ttest: 0.2204758\tbest: 0.2204756 (1499)\ttotal: 52.6s\tremaining: 14m 18s\n",
            "2000:\tlearn: 0.2104574\ttest: 0.2197458\tbest: 0.2197458 (2000)\ttotal: 1m 9s\tremaining: 13m 48s\n",
            "2500:\tlearn: 0.2080245\ttest: 0.2191894\tbest: 0.2191894 (2500)\ttotal: 1m 25s\tremaining: 13m 25s\n",
            "3000:\tlearn: 0.2056972\ttest: 0.2188076\tbest: 0.2188076 (3000)\ttotal: 1m 42s\tremaining: 13m 6s\n",
            "3500:\tlearn: 0.2035212\ttest: 0.2184680\tbest: 0.2184680 (3500)\ttotal: 1m 59s\tremaining: 12m 48s\n",
            "4000:\tlearn: 0.2015142\ttest: 0.2182184\tbest: 0.2182168 (3994)\ttotal: 2m 16s\tremaining: 12m 30s\n",
            "4500:\tlearn: 0.1995580\ttest: 0.2180335\tbest: 0.2180327 (4495)\ttotal: 2m 33s\tremaining: 12m 12s\n",
            "5000:\tlearn: 0.1976714\ttest: 0.2178577\tbest: 0.2178560 (4999)\ttotal: 2m 50s\tremaining: 11m 54s\n",
            "5500:\tlearn: 0.1958442\ttest: 0.2176844\tbest: 0.2176821 (5495)\ttotal: 3m 6s\tremaining: 11m 36s\n",
            "6000:\tlearn: 0.1940292\ttest: 0.2175410\tbest: 0.2175405 (5999)\ttotal: 3m 23s\tremaining: 11m 19s\n",
            "6500:\tlearn: 0.1922543\ttest: 0.2174330\tbest: 0.2174325 (6481)\ttotal: 3m 40s\tremaining: 11m 2s\n",
            "7000:\tlearn: 0.1905367\ttest: 0.2173465\tbest: 0.2173420 (6969)\ttotal: 3m 57s\tremaining: 10m 44s\n",
            "7500:\tlearn: 0.1888327\ttest: 0.2172561\tbest: 0.2172539 (7498)\ttotal: 4m 14s\tremaining: 10m 27s\n",
            "8000:\tlearn: 0.1871657\ttest: 0.2171854\tbest: 0.2171826 (7997)\ttotal: 4m 31s\tremaining: 10m 10s\n",
            "8500:\tlearn: 0.1854972\ttest: 0.2171082\tbest: 0.2171060 (8493)\ttotal: 4m 48s\tremaining: 9m 54s\n",
            "9000:\tlearn: 0.1838486\ttest: 0.2170846\tbest: 0.2170846 (9000)\ttotal: 5m 5s\tremaining: 9m 37s\n",
            "9500:\tlearn: 0.1822616\ttest: 0.2170180\tbest: 0.2170162 (9493)\ttotal: 5m 22s\tremaining: 9m 20s\n",
            "10000:\tlearn: 0.1806865\ttest: 0.2169588\tbest: 0.2169558 (9989)\ttotal: 5m 40s\tremaining: 9m 3s\n",
            "10500:\tlearn: 0.1790993\ttest: 0.2169375\tbest: 0.2169310 (10405)\ttotal: 5m 57s\tremaining: 8m 47s\n",
            "11000:\tlearn: 0.1775857\ttest: 0.2168992\tbest: 0.2168992 (11000)\ttotal: 6m 14s\tremaining: 8m 30s\n",
            "11500:\tlearn: 0.1760833\ttest: 0.2168663\tbest: 0.2168637 (11486)\ttotal: 6m 31s\tremaining: 8m 13s\n",
            "12000:\tlearn: 0.1745790\ttest: 0.2168252\tbest: 0.2168212 (11986)\ttotal: 6m 48s\tremaining: 7m 56s\n",
            "12500:\tlearn: 0.1731077\ttest: 0.2167786\tbest: 0.2167658 (12427)\ttotal: 7m 5s\tremaining: 7m 39s\n",
            "13000:\tlearn: 0.1716633\ttest: 0.2167687\tbest: 0.2167648 (12870)\ttotal: 7m 22s\tremaining: 7m 22s\n",
            "13500:\tlearn: 0.1702174\ttest: 0.2167491\tbest: 0.2167432 (13463)\ttotal: 7m 40s\tremaining: 7m 6s\n",
            "14000:\tlearn: 0.1687690\ttest: 0.2167543\tbest: 0.2167314 (13733)\ttotal: 7m 57s\tremaining: 6m 49s\n",
            "bestTest = 0.2167313545\n",
            "bestIteration = 13733\n",
            "Shrink model to first 13734 iterations.\n",
            "Amex Metric = 0.795668236594596 \n",
            "\n",
            "#########################\n",
            "### Fold 2\n",
            "### Train size 367130 Valid size 91783\n",
            "### Training with 100% fold data...\n",
            "#########################\n",
            "0:\tlearn: 0.6682818\ttest: 0.6683207\tbest: 0.6683207 (0)\ttotal: 70.6ms\tremaining: 30m 36s\n",
            "500:\tlearn: 0.2231495\ttest: 0.2259565\tbest: 0.2259565 (500)\ttotal: 19.7s\tremaining: 16m 45s\n",
            "1000:\tlearn: 0.2168406\ttest: 0.2220573\tbest: 0.2220573 (1000)\ttotal: 38.3s\tremaining: 15m 57s\n",
            "1500:\tlearn: 0.2132158\ttest: 0.2206200\tbest: 0.2206200 (1500)\ttotal: 55.9s\tremaining: 15m 13s\n",
            "2000:\tlearn: 0.2102867\ttest: 0.2197456\tbest: 0.2197456 (2000)\ttotal: 1m 13s\tremaining: 14m 37s\n",
            "2500:\tlearn: 0.2078359\ttest: 0.2192132\tbest: 0.2192132 (2500)\ttotal: 1m 30s\tremaining: 14m 5s\n",
            "3000:\tlearn: 0.2056671\ttest: 0.2188224\tbest: 0.2188224 (3000)\ttotal: 1m 46s\tremaining: 13m 38s\n",
            "3500:\tlearn: 0.2035240\ttest: 0.2184796\tbest: 0.2184779 (3496)\ttotal: 2m 3s\tremaining: 13m 16s\n",
            "4000:\tlearn: 0.2015473\ttest: 0.2181863\tbest: 0.2181863 (4000)\ttotal: 2m 20s\tremaining: 12m 52s\n",
            "4500:\tlearn: 0.1996533\ttest: 0.2179457\tbest: 0.2179430 (4496)\ttotal: 2m 37s\tremaining: 12m 30s\n",
            "5000:\tlearn: 0.1978708\ttest: 0.2177955\tbest: 0.2177955 (5000)\ttotal: 2m 53s\tremaining: 12m 9s\n",
            "5500:\tlearn: 0.1960360\ttest: 0.2176463\tbest: 0.2176453 (5497)\ttotal: 3m 10s\tremaining: 11m 49s\n",
            "6000:\tlearn: 0.1941908\ttest: 0.2175083\tbest: 0.2175076 (5992)\ttotal: 3m 27s\tremaining: 11m 30s\n",
            "6500:\tlearn: 0.1924736\ttest: 0.2173833\tbest: 0.2173833 (6499)\ttotal: 3m 43s\tremaining: 11m 11s\n",
            "7000:\tlearn: 0.1907094\ttest: 0.2172282\tbest: 0.2172278 (6999)\ttotal: 4m\tremaining: 10m 53s\n",
            "7500:\tlearn: 0.1889839\ttest: 0.2171195\tbest: 0.2171156 (7472)\ttotal: 4m 17s\tremaining: 10m 35s\n",
            "8000:\tlearn: 0.1872371\ttest: 0.2170059\tbest: 0.2170047 (7992)\ttotal: 4m 34s\tremaining: 10m 18s\n",
            "8500:\tlearn: 0.1855996\ttest: 0.2169293\tbest: 0.2169275 (8479)\ttotal: 4m 51s\tremaining: 10m\n",
            "9000:\tlearn: 0.1839681\ttest: 0.2168459\tbest: 0.2168458 (8888)\ttotal: 5m 8s\tremaining: 9m 43s\n",
            "9500:\tlearn: 0.1823687\ttest: 0.2167785\tbest: 0.2167750 (9490)\ttotal: 5m 25s\tremaining: 9m 25s\n",
            "10000:\tlearn: 0.1808053\ttest: 0.2166971\tbest: 0.2166971 (10000)\ttotal: 5m 42s\tremaining: 9m 8s\n",
            "10500:\tlearn: 0.1792141\ttest: 0.2166454\tbest: 0.2166445 (10496)\ttotal: 5m 59s\tremaining: 8m 51s\n",
            "11000:\tlearn: 0.1776690\ttest: 0.2166224\tbest: 0.2166175 (10988)\ttotal: 6m 16s\tremaining: 8m 33s\n",
            "11500:\tlearn: 0.1761795\ttest: 0.2165901\tbest: 0.2165893 (11411)\ttotal: 6m 33s\tremaining: 8m 16s\n",
            "12000:\tlearn: 0.1746847\ttest: 0.2165755\tbest: 0.2165648 (11597)\ttotal: 6m 50s\tremaining: 7m 59s\n",
            "bestTest = 0.2165647548\n",
            "bestIteration = 11597\n",
            "Shrink model to first 11598 iterations.\n",
            "Amex Metric = 0.7933663909692632 \n",
            "\n",
            "#########################\n",
            "### Fold 3\n",
            "### Train size 367130 Valid size 91783\n",
            "### Training with 100% fold data...\n",
            "#########################\n",
            "0:\tlearn: 0.6681579\ttest: 0.6680621\tbest: 0.6680621 (0)\ttotal: 72.6ms\tremaining: 31m 27s\n",
            "500:\tlearn: 0.2239358\ttest: 0.2233079\tbest: 0.2233079 (500)\ttotal: 19.7s\tremaining: 16m 44s\n",
            "1000:\tlearn: 0.2175238\ttest: 0.2192577\tbest: 0.2192577 (1000)\ttotal: 38.5s\tremaining: 16m 1s\n",
            "1500:\tlearn: 0.2138966\ttest: 0.2178386\tbest: 0.2178386 (1500)\ttotal: 56.2s\tremaining: 15m 17s\n",
            "2000:\tlearn: 0.2109535\ttest: 0.2169310\tbest: 0.2169310 (2000)\ttotal: 1m 13s\tremaining: 14m 41s\n",
            "2500:\tlearn: 0.2084854\ttest: 0.2163858\tbest: 0.2163858 (2500)\ttotal: 1m 30s\tremaining: 14m 10s\n",
            "3000:\tlearn: 0.2062940\ttest: 0.2159504\tbest: 0.2159504 (3000)\ttotal: 1m 47s\tremaining: 13m 42s\n",
            "3500:\tlearn: 0.2042204\ttest: 0.2156481\tbest: 0.2156481 (3500)\ttotal: 2m 4s\tremaining: 13m 17s\n",
            "4000:\tlearn: 0.2022752\ttest: 0.2153796\tbest: 0.2153787 (3997)\ttotal: 2m 20s\tremaining: 12m 54s\n",
            "4500:\tlearn: 0.2004012\ttest: 0.2151615\tbest: 0.2151607 (4499)\ttotal: 2m 37s\tremaining: 12m 32s\n",
            "5000:\tlearn: 0.1986399\ttest: 0.2149747\tbest: 0.2149746 (4999)\ttotal: 2m 54s\tremaining: 12m 10s\n",
            "5500:\tlearn: 0.1968854\ttest: 0.2147826\tbest: 0.2147822 (5498)\ttotal: 3m 10s\tremaining: 11m 50s\n",
            "6000:\tlearn: 0.1951272\ttest: 0.2146231\tbest: 0.2146231 (6000)\ttotal: 3m 27s\tremaining: 11m 31s\n",
            "6500:\tlearn: 0.1933953\ttest: 0.2144362\tbest: 0.2144361 (6499)\ttotal: 3m 44s\tremaining: 11m 12s\n",
            "7000:\tlearn: 0.1917356\ttest: 0.2143212\tbest: 0.2143212 (7000)\ttotal: 4m 1s\tremaining: 10m 54s\n",
            "7500:\tlearn: 0.1900492\ttest: 0.2141830\tbest: 0.2141801 (7494)\ttotal: 4m 17s\tremaining: 10m 36s\n",
            "8000:\tlearn: 0.1884297\ttest: 0.2140424\tbest: 0.2140423 (7999)\ttotal: 4m 34s\tremaining: 10m 17s\n",
            "8500:\tlearn: 0.1868073\ttest: 0.2139433\tbest: 0.2139396 (8462)\ttotal: 4m 51s\tremaining: 10m\n",
            "9000:\tlearn: 0.1851926\ttest: 0.2138882\tbest: 0.2138882 (9000)\ttotal: 5m 8s\tremaining: 9m 42s\n",
            "9500:\tlearn: 0.1835836\ttest: 0.2138188\tbest: 0.2138187 (9499)\ttotal: 5m 25s\tremaining: 9m 25s\n",
            "10000:\tlearn: 0.1820316\ttest: 0.2137612\tbest: 0.2137604 (9944)\ttotal: 5m 42s\tremaining: 9m 8s\n",
            "10500:\tlearn: 0.1804798\ttest: 0.2136963\tbest: 0.2136947 (10484)\ttotal: 5m 59s\tremaining: 8m 50s\n",
            "11000:\tlearn: 0.1789010\ttest: 0.2136633\tbest: 0.2136612 (10994)\ttotal: 6m 16s\tremaining: 8m 33s\n",
            "11500:\tlearn: 0.1774372\ttest: 0.2136183\tbest: 0.2136159 (11496)\ttotal: 6m 33s\tremaining: 8m 16s\n",
            "12000:\tlearn: 0.1759907\ttest: 0.2135782\tbest: 0.2135780 (11998)\ttotal: 6m 51s\tremaining: 7m 59s\n",
            "12500:\tlearn: 0.1745143\ttest: 0.2135305\tbest: 0.2135266 (12479)\ttotal: 7m 8s\tremaining: 7m 42s\n",
            "13000:\tlearn: 0.1730794\ttest: 0.2134617\tbest: 0.2134604 (12998)\ttotal: 7m 25s\tremaining: 7m 25s\n",
            "13500:\tlearn: 0.1716623\ttest: 0.2134212\tbest: 0.2134202 (13482)\ttotal: 7m 42s\tremaining: 7m 8s\n",
            "14000:\tlearn: 0.1702125\ttest: 0.2133765\tbest: 0.2133765 (14000)\ttotal: 7m 59s\tremaining: 6m 51s\n",
            "14500:\tlearn: 0.1688432\ttest: 0.2133579\tbest: 0.2133515 (14481)\ttotal: 8m 17s\tremaining: 6m 34s\n",
            "15000:\tlearn: 0.1674443\ttest: 0.2133274\tbest: 0.2133274 (14999)\ttotal: 8m 34s\tremaining: 6m 17s\n",
            "15500:\tlearn: 0.1661169\ttest: 0.2133160\tbest: 0.2133113 (15402)\ttotal: 8m 51s\tremaining: 5m 59s\n",
            "16000:\tlearn: 0.1648161\ttest: 0.2132789\tbest: 0.2132759 (15995)\ttotal: 9m 8s\tremaining: 5m 42s\n",
            "16500:\tlearn: 0.1634808\ttest: 0.2132749\tbest: 0.2132643 (16123)\ttotal: 9m 25s\tremaining: 5m 25s\n",
            "bestTest = 0.2132643198\n",
            "bestIteration = 16123\n",
            "Shrink model to first 16124 iterations.\n",
            "Amex Metric = 0.7988522384996781 \n",
            "\n",
            "#########################\n",
            "### Fold 4\n",
            "### Train size 367131 Valid size 91782\n",
            "### Training with 100% fold data...\n",
            "#########################\n",
            "0:\tlearn: 0.6687159\ttest: 0.6687257\tbest: 0.6687257 (0)\ttotal: 71ms\tremaining: 30m 44s\n",
            "500:\tlearn: 0.2232435\ttest: 0.2266346\tbest: 0.2266346 (500)\ttotal: 19.8s\tremaining: 16m 45s\n",
            "1000:\tlearn: 0.2168864\ttest: 0.2225306\tbest: 0.2225306 (1000)\ttotal: 38.3s\tremaining: 15m 57s\n",
            "1500:\tlearn: 0.2132786\ttest: 0.2210031\tbest: 0.2210031 (1500)\ttotal: 55.9s\tremaining: 15m 11s\n",
            "2000:\tlearn: 0.2104293\ttest: 0.2201142\tbest: 0.2201142 (2000)\ttotal: 1m 12s\tremaining: 14m 35s\n",
            "2500:\tlearn: 0.2079805\ttest: 0.2195457\tbest: 0.2195457 (2500)\ttotal: 1m 29s\tremaining: 14m 3s\n",
            "3000:\tlearn: 0.2058347\ttest: 0.2191134\tbest: 0.2191134 (3000)\ttotal: 1m 46s\tremaining: 13m 35s\n",
            "3500:\tlearn: 0.2036642\ttest: 0.2187627\tbest: 0.2187627 (3500)\ttotal: 2m 3s\tremaining: 13m 13s\n",
            "4000:\tlearn: 0.2016360\ttest: 0.2184817\tbest: 0.2184808 (3999)\ttotal: 2m 20s\tremaining: 12m 51s\n",
            "4500:\tlearn: 0.1997497\ttest: 0.2182429\tbest: 0.2182429 (4500)\ttotal: 2m 36s\tremaining: 12m 29s\n",
            "5000:\tlearn: 0.1979119\ttest: 0.2180401\tbest: 0.2180401 (5000)\ttotal: 2m 53s\tremaining: 12m 8s\n",
            "5500:\tlearn: 0.1961387\ttest: 0.2178427\tbest: 0.2178426 (5499)\ttotal: 3m 10s\tremaining: 11m 49s\n",
            "6000:\tlearn: 0.1943735\ttest: 0.2177028\tbest: 0.2177028 (6000)\ttotal: 3m 27s\tremaining: 11m 29s\n",
            "6500:\tlearn: 0.1926464\ttest: 0.2175642\tbest: 0.2175642 (6500)\ttotal: 3m 43s\tremaining: 11m 11s\n",
            "7000:\tlearn: 0.1909739\ttest: 0.2174311\tbest: 0.2174298 (6981)\ttotal: 4m\tremaining: 10m 52s\n",
            "7500:\tlearn: 0.1892966\ttest: 0.2173312\tbest: 0.2173312 (7500)\ttotal: 4m 17s\tremaining: 10m 34s\n",
            "8000:\tlearn: 0.1876489\ttest: 0.2172537\tbest: 0.2172499 (7975)\ttotal: 4m 34s\tremaining: 10m 17s\n",
            "8500:\tlearn: 0.1859910\ttest: 0.2171766\tbest: 0.2171752 (8493)\ttotal: 4m 51s\tremaining: 9m 59s\n",
            "9000:\tlearn: 0.1843784\ttest: 0.2170733\tbest: 0.2170733 (9000)\ttotal: 5m 8s\tremaining: 9m 41s\n",
            "9500:\tlearn: 0.1827894\ttest: 0.2170064\tbest: 0.2170027 (9483)\ttotal: 5m 25s\tremaining: 9m 24s\n",
            "10000:\tlearn: 0.1812764\ttest: 0.2169330\tbest: 0.2169306 (9981)\ttotal: 5m 42s\tremaining: 9m 7s\n",
            "10500:\tlearn: 0.1797144\ttest: 0.2168633\tbest: 0.2168603 (10484)\ttotal: 5m 59s\tremaining: 8m 49s\n",
            "11000:\tlearn: 0.1781876\ttest: 0.2167889\tbest: 0.2167877 (10989)\ttotal: 6m 16s\tremaining: 8m 32s\n",
            "11500:\tlearn: 0.1767002\ttest: 0.2167611\tbest: 0.2167591 (11405)\ttotal: 6m 33s\tremaining: 8m 15s\n",
            "12000:\tlearn: 0.1752420\ttest: 0.2167129\tbest: 0.2167043 (11974)\ttotal: 6m 50s\tremaining: 7m 58s\n",
            "12500:\tlearn: 0.1738114\ttest: 0.2166709\tbest: 0.2166684 (12467)\ttotal: 7m 7s\tremaining: 7m 41s\n",
            "13000:\tlearn: 0.1724131\ttest: 0.2166688\tbest: 0.2166534 (12929)\ttotal: 7m 24s\tremaining: 7m 23s\n",
            "13500:\tlearn: 0.1709816\ttest: 0.2166258\tbest: 0.2166194 (13441)\ttotal: 7m 41s\tremaining: 7m 7s\n",
            "14000:\tlearn: 0.1695505\ttest: 0.2166002\tbest: 0.2165884 (13753)\ttotal: 7m 58s\tremaining: 6m 50s\n",
            "14500:\tlearn: 0.1681719\ttest: 0.2165628\tbest: 0.2165616 (14489)\ttotal: 8m 15s\tremaining: 6m 32s\n",
            "15000:\tlearn: 0.1667579\ttest: 0.2165500\tbest: 0.2165432 (14803)\ttotal: 8m 32s\tremaining: 6m 16s\n",
            "15500:\tlearn: 0.1654103\ttest: 0.2165329\tbest: 0.2165257 (15461)\ttotal: 8m 49s\tremaining: 5m 58s\n",
            "16000:\tlearn: 0.1640445\ttest: 0.2165147\tbest: 0.2165145 (15999)\ttotal: 9m 7s\tremaining: 5m 41s\n",
            "16500:\tlearn: 0.1627472\ttest: 0.2164980\tbest: 0.2164903 (16341)\ttotal: 9m 24s\tremaining: 5m 24s\n",
            "17000:\tlearn: 0.1614295\ttest: 0.2164852\tbest: 0.2164841 (16670)\ttotal: 9m 41s\tremaining: 5m 7s\n",
            "17500:\tlearn: 0.1601359\ttest: 0.2164900\tbest: 0.2164618 (17178)\ttotal: 9m 58s\tremaining: 4m 50s\n",
            "bestTest = 0.216461842\n",
            "bestIteration = 17178\n",
            "Shrink model to first 17179 iterations.\n",
            "Amex Metric = 0.7905329588986 \n",
            "\n",
            "#########################\n",
            "### Fold 5\n",
            "### Train size 367131 Valid size 91782\n",
            "### Training with 100% fold data...\n",
            "#########################\n",
            "0:\tlearn: 0.6679921\ttest: 0.6681222\tbest: 0.6681222 (0)\ttotal: 72.4ms\tremaining: 31m 23s\n",
            "500:\tlearn: 0.2228631\ttest: 0.2278290\tbest: 0.2278290 (500)\ttotal: 19.8s\tremaining: 16m 47s\n",
            "1000:\tlearn: 0.2164706\ttest: 0.2237743\tbest: 0.2237743 (1000)\ttotal: 38.4s\tremaining: 15m 58s\n",
            "1500:\tlearn: 0.2127960\ttest: 0.2222454\tbest: 0.2222454 (1500)\ttotal: 56s\tremaining: 15m 13s\n",
            "2000:\tlearn: 0.2099510\ttest: 0.2213855\tbest: 0.2213855 (2000)\ttotal: 1m 12s\tremaining: 14m 34s\n",
            "2500:\tlearn: 0.2074770\ttest: 0.2207927\tbest: 0.2207913 (2499)\ttotal: 1m 29s\tremaining: 14m 3s\n",
            "3000:\tlearn: 0.2052186\ttest: 0.2203825\tbest: 0.2203824 (2999)\ttotal: 1m 46s\tremaining: 13m 36s\n",
            "3500:\tlearn: 0.2031336\ttest: 0.2200655\tbest: 0.2200655 (3500)\ttotal: 2m 3s\tremaining: 13m 12s\n",
            "4000:\tlearn: 0.2012088\ttest: 0.2198230\tbest: 0.2198229 (3998)\ttotal: 2m 19s\tremaining: 12m 49s\n",
            "4500:\tlearn: 0.1993170\ttest: 0.2195583\tbest: 0.2195578 (4497)\ttotal: 2m 36s\tremaining: 12m 28s\n",
            "5000:\tlearn: 0.1974272\ttest: 0.2193202\tbest: 0.2193202 (5000)\ttotal: 2m 53s\tremaining: 12m 9s\n",
            "5500:\tlearn: 0.1956450\ttest: 0.2191640\tbest: 0.2191639 (5499)\ttotal: 3m 10s\tremaining: 11m 49s\n",
            "6000:\tlearn: 0.1938198\ttest: 0.2189929\tbest: 0.2189905 (5993)\ttotal: 3m 27s\tremaining: 11m 30s\n",
            "6500:\tlearn: 0.1920619\ttest: 0.2188552\tbest: 0.2188536 (6495)\ttotal: 3m 44s\tremaining: 11m 12s\n",
            "7000:\tlearn: 0.1904386\ttest: 0.2187461\tbest: 0.2187453 (6993)\ttotal: 4m\tremaining: 10m 53s\n",
            "7500:\tlearn: 0.1887078\ttest: 0.2186495\tbest: 0.2186481 (7498)\ttotal: 4m 17s\tremaining: 10m 35s\n",
            "8000:\tlearn: 0.1870452\ttest: 0.2185579\tbest: 0.2185579 (8000)\ttotal: 4m 34s\tremaining: 10m 17s\n",
            "8500:\tlearn: 0.1854364\ttest: 0.2184795\tbest: 0.2184795 (8500)\ttotal: 4m 51s\tremaining: 9m 59s\n",
            "9000:\tlearn: 0.1838734\ttest: 0.2184021\tbest: 0.2184001 (8957)\ttotal: 5m 8s\tremaining: 9m 42s\n",
            "9500:\tlearn: 0.1823198\ttest: 0.2183607\tbest: 0.2183534 (9462)\ttotal: 5m 25s\tremaining: 9m 24s\n",
            "10000:\tlearn: 0.1807391\ttest: 0.2182885\tbest: 0.2182871 (9991)\ttotal: 5m 42s\tremaining: 9m 7s\n",
            "10500:\tlearn: 0.1792081\ttest: 0.2182274\tbest: 0.2182241 (10464)\ttotal: 5m 59s\tremaining: 8m 50s\n",
            "11000:\tlearn: 0.1776924\ttest: 0.2181457\tbest: 0.2181405 (10928)\ttotal: 6m 16s\tremaining: 8m 32s\n",
            "11500:\tlearn: 0.1762025\ttest: 0.2180659\tbest: 0.2180657 (11499)\ttotal: 6m 33s\tremaining: 8m 15s\n",
            "12000:\tlearn: 0.1746711\ttest: 0.2180441\tbest: 0.2180429 (11997)\ttotal: 6m 50s\tremaining: 7m 58s\n",
            "12500:\tlearn: 0.1731726\ttest: 0.2179819\tbest: 0.2179784 (12469)\ttotal: 7m 7s\tremaining: 7m 41s\n",
            "13000:\tlearn: 0.1716970\ttest: 0.2179307\tbest: 0.2179306 (12998)\ttotal: 7m 24s\tremaining: 7m 24s\n",
            "13500:\tlearn: 0.1702947\ttest: 0.2179325\tbest: 0.2179265 (13485)\ttotal: 7m 41s\tremaining: 7m 7s\n",
            "14000:\tlearn: 0.1688804\ttest: 0.2178863\tbest: 0.2178839 (13980)\ttotal: 7m 58s\tremaining: 6m 50s\n",
            "14500:\tlearn: 0.1674706\ttest: 0.2178325\tbest: 0.2178273 (14442)\ttotal: 8m 16s\tremaining: 6m 33s\n",
            "15000:\tlearn: 0.1660998\ttest: 0.2178288\tbest: 0.2178237 (14961)\ttotal: 8m 33s\tremaining: 6m 16s\n",
            "15500:\tlearn: 0.1646906\ttest: 0.2178073\tbest: 0.2177993 (15422)\ttotal: 8m 50s\tremaining: 5m 59s\n",
            "16000:\tlearn: 0.1633612\ttest: 0.2177727\tbest: 0.2177689 (15991)\ttotal: 9m 7s\tremaining: 5m 42s\n",
            "16500:\tlearn: 0.1619821\ttest: 0.2177695\tbest: 0.2177584 (16263)\ttotal: 9m 25s\tremaining: 5m 25s\n",
            "bestTest = 0.2177583925\n",
            "bestIteration = 16263\n",
            "Shrink model to first 16264 iterations.\n",
            "Amex Metric = 0.7937118364158213 \n",
            "\n",
            "#########################\n",
            "Overall Amex metric: 0.7943824694156567\n"
          ]
        }
      ],
      "source": [
        "importances = []\n",
        "oof = []\n",
        "gc.collect()\n",
        "\n",
        "clf = CatBoostClassifier(**cat_params)\n",
        "skf = KFold(n_splits=FOLDS, shuffle=True, random_state=SEED)\n",
        "for fold,(train_idx, valid_idx) in enumerate(skf.split(train, train.target)):\n",
        "    \n",
        "    print('#'*25)\n",
        "    print('### Fold',fold+1)\n",
        "    print('### Train size',len(train_idx),'Valid size',len(valid_idx))\n",
        "    print(f'### Training with 100% fold data...')\n",
        "    print('#'*25)\n",
        "    \n",
        "    # TRAIN, VALID, TEST FOR FOLD K\n",
        "    X_train = train.loc[train_idx, FEATURES]\n",
        "    X_valid = train.target.iloc[train_idx]\n",
        "    y_train = train.loc[valid_idx, FEATURES]\n",
        "    y_valid = train.target.iloc[valid_idx]\n",
        "    \n",
        "    # TRAIN MODEL FOLD K\n",
        "    model = clf.fit(X_train,\n",
        "                    X_valid,\n",
        "                    cat_features=cat_features_last,\n",
        "                    eval_set=[(y_train, y_valid)],\n",
        "                    use_best_model=True,\n",
        "                    early_stopping_rounds=500,\n",
        "                    verbose_eval=500)\n",
        "    model.save_model(f'CAT_v{VER}_fold{fold}.cbm')\n",
        "    \n",
        "    # GET FEATURE IMPORTANCE FOR FOLD K\n",
        "    dd = model.feature_importances_\n",
        "    df = pd.DataFrame({'feature':FEATURES,f'importance_{fold}':dd})\n",
        "    importances.append(df)\n",
        "            \n",
        "    # INFER OOF FOLD K\n",
        "    oof_preds = model.predict_proba(y_train)[:, 1]\n",
        "    acc = amex_metric_np(y_valid.values, oof_preds)\n",
        "    print('Amex Metric =',acc,'\\n')\n",
        "\n",
        "    df = train.loc[valid_idx, ['customer_ID','target'] ].copy()\n",
        "    df['oof_preds'] = oof_preds\n",
        "    oof.append(df)\n",
        "    \n",
        "    del X_train, y_train, dd, df\n",
        "    del X_valid, y_valid, model\n",
        "    _ = gc.collect()\n",
        "    \n",
        "print('#'*25)\n",
        "oof = pd.concat(oof,axis=0,ignore_index=True).set_index('customer_ID')\n",
        "acc = amex_metric_np(oof.target.values, oof.oof_preds.values)\n",
        "print(f\"Overall Amex metric: {acc}\")"
      ]
    },
    {
      "cell_type": "code",
      "execution_count": 17,
      "id": "9382e3d0",
      "metadata": {
        "execution": {
          "iopub.execute_input": "2022-07-15T16:48:45.305370Z",
          "iopub.status.busy": "2022-07-15T16:48:45.304754Z",
          "iopub.status.idle": "2022-07-15T16:48:45.407975Z",
          "shell.execute_reply": "2022-07-15T16:48:45.407068Z"
        },
        "papermill": {
          "duration": 0.123941,
          "end_time": "2022-07-15T16:48:45.409679",
          "exception": false,
          "start_time": "2022-07-15T16:48:45.285738",
          "status": "completed"
        },
        "tags": [],
        "id": "9382e3d0"
      },
      "outputs": [],
      "source": [
        "# CLEAN RAM\n",
        "del train\n",
        "_ = gc.collect()"
      ]
    },
    {
      "cell_type": "code",
      "execution_count": 18,
      "id": "3610c1b3",
      "metadata": {
        "execution": {
          "iopub.execute_input": "2022-07-15T16:48:45.448225Z",
          "iopub.status.busy": "2022-07-15T16:48:45.447584Z",
          "iopub.status.idle": "2022-07-15T16:48:45.488638Z",
          "shell.execute_reply": "2022-07-15T16:48:45.487878Z"
        },
        "papermill": {
          "duration": 0.06166,
          "end_time": "2022-07-15T16:48:45.490338",
          "exception": false,
          "start_time": "2022-07-15T16:48:45.428678",
          "status": "completed"
        },
        "scrolled": true,
        "tags": [],
        "id": "3610c1b3"
      },
      "outputs": [],
      "source": [
        "df = importances[0].copy()\n",
        "for k in range(1,FOLDS): df = df.merge(importances[k], on='feature', how='left')\n",
        "df['importance'] = df.iloc[:,1:].mean(axis=1, numeric_only=True)\n",
        "df = df.sort_values('importance',ascending=False)\n",
        "df.to_csv(f'cat_feature_importance_v{VER}.csv',index=False)"
      ]
    },
    {
      "cell_type": "code",
      "execution_count": 19,
      "id": "69357676",
      "metadata": {
        "execution": {
          "iopub.execute_input": "2022-07-15T16:48:45.527853Z",
          "iopub.status.busy": "2022-07-15T16:48:45.527216Z",
          "iopub.status.idle": "2022-07-15T16:48:45.823812Z",
          "shell.execute_reply": "2022-07-15T16:48:45.823089Z"
        },
        "papermill": {
          "duration": 0.317159,
          "end_time": "2022-07-15T16:48:45.825544",
          "exception": false,
          "start_time": "2022-07-15T16:48:45.508385",
          "status": "completed"
        },
        "tags": [],
        "id": "69357676",
        "outputId": "772b01cd-13b2-4263-af58-0df5da6d32f0",
        "colab": {
          "base_uri": "https://localhost:8080/",
          "height": 607
        }
      },
      "outputs": [
        {
          "output_type": "display_data",
          "data": {
            "text/plain": [
              "<Figure size 720x720 with 1 Axes>"
            ],
            "image/png": "[encoded data removed]"
          },
          "metadata": {
            "needs_background": "light"
          }
        }
      ],
      "source": [
        "NUM_FEATURES = 20\n",
        "plt.figure(figsize=(10,5*NUM_FEATURES//10))\n",
        "plt.barh(np.arange(NUM_FEATURES,0,-1), df.importance.values[:NUM_FEATURES])\n",
        "plt.yticks(np.arange(NUM_FEATURES,0,-1), df.feature.values[:NUM_FEATURES])\n",
        "plt.title(f'CAT Feature Importance - Top {NUM_FEATURES}')\n",
        "plt.show()"
      ]
    },
    {
      "cell_type": "markdown",
      "id": "bf46dad6",
      "metadata": {
        "papermill": {
          "duration": 0.018388,
          "end_time": "2022-07-15T16:48:45.862462",
          "exception": false,
          "start_time": "2022-07-15T16:48:45.844074",
          "status": "completed"
        },
        "tags": [],
        "id": "bf46dad6"
      },
      "source": [
        "# Test part"
      ]
    },
    {
      "cell_type": "code",
      "execution_count": 20,
      "id": "c28f1826",
      "metadata": {
        "execution": {
          "iopub.execute_input": "2022-07-15T16:48:45.901178Z",
          "iopub.status.busy": "2022-07-15T16:48:45.900848Z",
          "iopub.status.idle": "2022-07-15T16:48:45.907526Z",
          "shell.execute_reply": "2022-07-15T16:48:45.906709Z"
        },
        "papermill": {
          "duration": 0.027751,
          "end_time": "2022-07-15T16:48:45.909278",
          "exception": false,
          "start_time": "2022-07-15T16:48:45.881527",
          "status": "completed"
        },
        "tags": [],
        "id": "c28f1826"
      },
      "outputs": [],
      "source": [
        "# CALCULATE SIZE OF EACH SEPARATE TEST PART\n",
        "def get_rows(customers, test, NUM_PARTS = 4, verbose = ''):\n",
        "    chunk = len(customers)//NUM_PARTS\n",
        "    if verbose != '':\n",
        "        print(f'We will process {verbose} data as {NUM_PARTS} separate parts.')\n",
        "        print(f'There will be {chunk} customers in each part (except the last part).')\n",
        "        print('Below are number of rows in each part:')\n",
        "    rows = []\n",
        "\n",
        "    for k in range(NUM_PARTS):\n",
        "        if k==NUM_PARTS-1: cc = customers[k*chunk:]\n",
        "        else: cc = customers[k*chunk:(k+1)*chunk]\n",
        "        s = test.loc[test.customer_ID.isin(cc)].shape[0]\n",
        "        rows.append(s)\n",
        "    if verbose != '': print( rows )\n",
        "    return rows,chunk"
      ]
    },
    {
      "cell_type": "code",
      "execution_count": 21,
      "id": "8c7e70c5",
      "metadata": {
        "execution": {
          "iopub.execute_input": "2022-07-15T16:48:45.947705Z",
          "iopub.status.busy": "2022-07-15T16:48:45.947377Z",
          "iopub.status.idle": "2022-07-15T16:48:47.039525Z",
          "shell.execute_reply": "2022-07-15T16:48:47.038640Z"
        },
        "papermill": {
          "duration": 1.113806,
          "end_time": "2022-07-15T16:48:47.041416",
          "exception": false,
          "start_time": "2022-07-15T16:48:45.927610",
          "status": "completed"
        },
        "tags": [],
        "colab": {
          "base_uri": "https://localhost:8080/"
        },
        "id": "8c7e70c5",
        "outputId": "ea938a8f-6a8e-4625-b1ec-7ab1d6e481eb"
      },
      "outputs": [
        {
          "output_type": "stream",
          "name": "stdout",
          "text": [
            "We will process test data as 4 separate parts.\n",
            "There will be 231155 customers in each part (except the last part).\n",
            "Below are number of rows in each part:\n",
            "[231155, 231155, 231155, 231156]\n"
          ]
        }
      ],
      "source": [
        "# COMPUTE SIZE OF 4 PARTS FOR TEST DATA\n",
        "NUM_PARTS = 4\n",
        "\n",
        "customers = test[['customer_ID']].drop_duplicates().sort_index().values.flatten()\n",
        "rows,num_cust = get_rows(customers, test[['customer_ID']], NUM_PARTS = NUM_PARTS, verbose = 'test')"
      ]
    },
    {
      "cell_type": "code",
      "execution_count": 22,
      "id": "9cf53fd3",
      "metadata": {
        "execution": {
          "iopub.execute_input": "2022-07-15T16:48:47.081924Z",
          "iopub.status.busy": "2022-07-15T16:48:47.081615Z",
          "iopub.status.idle": "2022-07-15T16:50:55.407348Z",
          "shell.execute_reply": "2022-07-15T16:50:55.406352Z"
        },
        "papermill": {
          "duration": 128.349422,
          "end_time": "2022-07-15T16:50:55.410249",
          "exception": false,
          "start_time": "2022-07-15T16:48:47.060827",
          "status": "completed"
        },
        "tags": [],
        "colab": {
          "base_uri": "https://localhost:8080/"
        },
        "id": "9cf53fd3",
        "outputId": "812b6334-00fa-4408-a375-4b6a33022e19"
      },
      "outputs": [
        {
          "output_type": "stream",
          "name": "stdout",
          "text": [
            "\n",
            "Reading test data...\n",
            "=> Test part 1 has shape (231155, 1261)\n",
            "\n",
            "Reading test data...\n",
            "=> Test part 2 has shape (231155, 1261)\n",
            "\n",
            "Reading test data...\n",
            "=> Test part 3 has shape (231155, 1261)\n",
            "\n",
            "Reading test data...\n",
            "=> Test part 4 has shape (231156, 1261)\n"
          ]
        }
      ],
      "source": [
        "# INFER TEST DATA IN PARTS\n",
        "skip_rows = 0\n",
        "skip_cust = 0\n",
        "test_preds = []\n",
        "\n",
        "for k in range(NUM_PARTS):\n",
        "    \n",
        "    # READ PART OF TEST DATA\n",
        "    print(f'\\nReading test data...')\n",
        "    test_copy = test.iloc[skip_rows:skip_rows+rows[k]].copy()\n",
        "    test_copy = test_copy.set_index('customer_ID')\n",
        "    skip_rows += rows[k]\n",
        "    print(f'=> Test part {k+1} has shape', test_copy.shape )\n",
        "    \n",
        "    # PROCESS AND FEATURE ENGINEER PART OF TEST DATA\n",
        "    if k==NUM_PARTS-1: test_copy = test_copy.loc[customers[skip_cust:]]\n",
        "    else: test_copy = test_copy.loc[customers[skip_cust:skip_cust+num_cust]]\n",
        "    skip_cust += num_cust\n",
        "        \n",
        "    # INFER XGB MODELS ON TEST DATA\n",
        "    model = CatBoostClassifier(**cat_params)\n",
        "    model.load_model(f'CAT_v{VER}_fold0.cbm')\n",
        "    preds = model.predict_proba(test_copy)[:, 1]\n",
        "    for f in range(1,FOLDS):\n",
        "        model.load_model(f'CAT_v{VER}_fold{f}.cbm')\n",
        "        preds += model.predict_proba(test_copy)[:, 1]\n",
        "    preds /= FOLDS\n",
        "    test_preds.append(preds)\n",
        "\n",
        "    # CLEAN MEMORY\n",
        "    del test_copy, model\n",
        "    _ = gc.collect()\n",
        "\n",
        "del test\n",
        "_ = gc.collect()"
      ]
    },
    {
      "cell_type": "markdown",
      "id": "02259545",
      "metadata": {
        "papermill": {
          "duration": 0.067515,
          "end_time": "2022-07-15T16:50:55.538577",
          "exception": false,
          "start_time": "2022-07-15T16:50:55.471062",
          "status": "completed"
        },
        "tags": [],
        "id": "02259545"
      },
      "source": [
        "# Submit"
      ]
    },
    {
      "cell_type": "code",
      "execution_count": 25,
      "id": "00d908fd",
      "metadata": {
        "execution": {
          "iopub.execute_input": "2022-07-15T16:50:55.628196Z",
          "iopub.status.busy": "2022-07-15T16:50:55.627855Z",
          "iopub.status.idle": "2022-07-15T16:51:02.864876Z",
          "shell.execute_reply": "2022-07-15T16:51:02.864114Z"
        },
        "papermill": {
          "duration": 7.268354,
          "end_time": "2022-07-15T16:51:02.866646",
          "exception": false,
          "start_time": "2022-07-15T16:50:55.598292",
          "status": "completed"
        },
        "tags": [],
        "colab": {
          "base_uri": "https://localhost:8080/",
          "height": 223
        },
        "id": "00d908fd",
        "outputId": "c7248a15-717d-4efa-d8e2-e935960bd048"
      },
      "outputs": [
        {
          "output_type": "stream",
          "name": "stdout",
          "text": [
            "Submission file shape is (924621, 2)\n"
          ]
        },
        {
          "output_type": "execute_result",
          "data": {
            "text/plain": [
              "                                         customer_ID  prediction\n",
              "0  00000469ba478561f23a92a868bd366de6f6527a684c9a...    0.018191\n",
              "1  00001bf2e77ff879fab36aa4fac689b9ba411dae63ae39...    0.001287\n",
              "2  0000210045da4f81e5f122c6bde5c2a617d03eef67f82c...    0.047585\n",
              "3  00003b41e58ede33b8daf61ab56d9952f17c9ad1c3976c...    0.179673\n",
              "4  00004b22eaeeeb0ec976890c1d9bfc14fd9427e98c4ee9...    0.854425"
            ],
            "text/html": [
              "\n",
              "  <div id=\"df-3a95d803-38b6-477b-bbcd-c6ceb2e51e8c\">\n",
              "    <div class=\"colab-df-container\">\n",
              "      <div>\n",
              "<style scoped>\n",
              "    .dataframe tbody tr th:only-of-type {\n",
              "        vertical-align: middle;\n",
              "    }\n",
              "\n",
              "    .dataframe tbody tr th {\n",
              "        vertical-align: top;\n",
              "    }\n",
              "\n",
              "    .dataframe thead th {\n",
              "        text-align: right;\n",
              "    }\n",
              "</style>\n",
              "<table border=\"1\" class=\"dataframe\">\n",
              "  <thead>\n",
              "    <tr style=\"text-align: right;\">\n",
              "      <th></th>\n",
              "      <th>customer_ID</th>\n",
              "      <th>prediction</th>\n",
              "    </tr>\n",
              "  </thead>\n",
              "  <tbody>\n",
              "    <tr>\n",
              "      <th>0</th>\n",
              "      <td>00000469ba478561f23a92a868bd366de6f6527a684c9a...</td>\n",
              "      <td>0.018191</td>\n",
              "    </tr>\n",
              "    <tr>\n",
              "      <th>1</th>\n",
              "      <td>00001bf2e77ff879fab36aa4fac689b9ba411dae63ae39...</td>\n",
              "      <td>0.001287</td>\n",
              "    </tr>\n",
              "    <tr>\n",
              "      <th>2</th>\n",
              "      <td>0000210045da4f81e5f122c6bde5c2a617d03eef67f82c...</td>\n",
              "      <td>0.047585</td>\n",
              "    </tr>\n",
              "    <tr>\n",
              "      <th>3</th>\n",
              "      <td>00003b41e58ede33b8daf61ab56d9952f17c9ad1c3976c...</td>\n",
              "      <td>0.179673</td>\n",
              "    </tr>\n",
              "    <tr>\n",
              "      <th>4</th>\n",
              "      <td>00004b22eaeeeb0ec976890c1d9bfc14fd9427e98c4ee9...</td>\n",
              "      <td>0.854425</td>\n",
              "    </tr>\n",
              "  </tbody>\n",
              "</table>\n",
              "</div>\n",
              "      <button class=\"colab-df-convert\" onclick=\"convertToInteractive('df-3a95d803-38b6-477b-bbcd-c6ceb2e51e8c')\"\n",
              "              title=\"Convert this dataframe to an interactive table.\"\n",
              "              style=\"display:none;\">\n",
              "        \n",
              "  <svg xmlns=\"http://www.w3.org/2000/svg\" height=\"24px\"viewBox=\"0 0 24 24\"\n",
              "       width=\"24px\">\n",
              "    <path d=\"M0 0h24v24H0V0z\" fill=\"none\"/>\n",
              "    <path d=\"M18.56 5.44l.94 2.06.94-2.06 2.06-.94-2.06-.94-.94-2.06-.94 2.06-2.06.94zm-11 1L8.5 8.5l.94-2.06 2.06-.94-2.06-.94L8.5 2.5l-.94 2.06-2.06.94zm10 10l.94 2.06.94-2.06 2.06-.94-2.06-.94-.94-2.06-.94 2.06-2.06.94z\"/><path d=\"M17.41 7.96l-1.37-1.37c-.4-.4-.92-.59-1.43-.59-.52 0-1.04.2-1.43.59L10.3 9.45l-7.72 7.72c-.78.78-.78 2.05 0 2.83L4 21.41c.39.39.9.59 1.41.59.51 0 1.02-.2 1.41-.59l7.78-7.78 2.81-2.81c.8-.78.8-2.07 0-2.86zM5.41 20L4 18.59l7.72-7.72 1.47 1.35L5.41 20z\"/>\n",
              "  </svg>\n",
              "      </button>\n",
              "      \n",
              "  <style>\n",
              "    .colab-df-container {\n",
              "      display:flex;\n",
              "      flex-wrap:wrap;\n",
              "      gap: 12px;\n",
              "    }\n",
              "\n",
              "    .colab-df-convert {\n",
              "      background-color: #E8F0FE;\n",
              "      border: none;\n",
              "      border-radius: 50%;\n",
              "      cursor: pointer;\n",
              "      display: none;\n",
              "      fill: #1967D2;\n",
              "      height: 32px;\n",
              "      padding: 0 0 0 0;\n",
              "      width: 32px;\n",
              "    }\n",
              "\n",
              "    .colab-df-convert:hover {\n",
              "      background-color: #E2EBFA;\n",
              "      box-shadow: 0px 1px 2px rgba(60, 64, 67, 0.3), 0px 1px 3px 1px rgba(60, 64, 67, 0.15);\n",
              "      fill: #174EA6;\n",
              "    }\n",
              "\n",
              "    [theme=dark] .colab-df-convert {\n",
              "      background-color: #3B4455;\n",
              "      fill: #D2E3FC;\n",
              "    }\n",
              "\n",
              "    [theme=dark] .colab-df-convert:hover {\n",
              "      background-color: #434B5C;\n",
              "      box-shadow: 0px 1px 3px 1px rgba(0, 0, 0, 0.15);\n",
              "      filter: drop-shadow(0px 1px 2px rgba(0, 0, 0, 0.3));\n",
              "      fill: #FFFFFF;\n",
              "    }\n",
              "  </style>\n",
              "\n",
              "      <script>\n",
              "        const buttonEl =\n",
              "          document.querySelector('#df-3a95d803-38b6-477b-bbcd-c6ceb2e51e8c button.colab-df-convert');\n",
              "        buttonEl.style.display =\n",
              "          google.colab.kernel.accessAllowed ? 'block' : 'none';\n",
              "\n",
              "        async function convertToInteractive(key) {\n",
              "          const element = document.querySelector('#df-3a95d803-38b6-477b-bbcd-c6ceb2e51e8c');\n",
              "          const dataTable =\n",
              "            await google.colab.kernel.invokeFunction('convertToInteractive',\n",
              "                                                     [key], {});\n",
              "          if (!dataTable) return;\n",
              "\n",
              "          const docLinkHtml = 'Like what you see? Visit the ' +\n",
              "            '<a target=\"_blank\" href=https://colab.research.google.com/notebooks/data_table.ipynb>data table notebook</a>'\n",
              "            + ' to learn more about interactive tables.';\n",
              "          element.innerHTML = '';\n",
              "          dataTable['output_type'] = 'display_data';\n",
              "          await google.colab.output.renderOutput(dataTable, element);\n",
              "          const docLink = document.createElement('div');\n",
              "          docLink.innerHTML = docLinkHtml;\n",
              "          element.appendChild(docLink);\n",
              "        }\n",
              "      </script>\n",
              "    </div>\n",
              "  </div>\n",
              "  "
            ]
          },
          "metadata": {},
          "execution_count": 25
        }
      ],
      "source": [
        "# WRITE SUBMISSION FILE\n",
        "test_preds = np.concatenate(test_preds)\n",
        "test = pd.DataFrame(index=customers,data={'prediction':test_preds})\n",
        "sub = pd.read_csv(parent_dir + 'sample_submission.csv')[['customer_ID']]\n",
        "sub['customer_ID_hash'] = sub['customer_ID'].copy()\n",
        "sub = sub.set_index('customer_ID_hash')\n",
        "sub = sub.merge(test[['prediction']], left_index=True, right_index=True, how='left')\n",
        "sub = sub.reset_index(drop=True)\n",
        "\n",
        "# DISPLAY PREDICTIONS\n",
        "sub.to_csv(f'submission_cat_v{VER}_seed{SEED}_fold{FOLDS}.csv',index=False)\n",
        "print('Submission file shape is', sub.shape )\n",
        "sub.head()"
      ]
    },
    {
      "cell_type": "code",
      "execution_count": 26,
      "id": "533e5941",
      "metadata": {
        "execution": {
          "iopub.execute_input": "2022-07-15T16:51:02.918871Z",
          "iopub.status.busy": "2022-07-15T16:51:02.918494Z",
          "iopub.status.idle": "2022-07-15T16:51:03.267833Z",
          "shell.execute_reply": "2022-07-15T16:51:03.266949Z"
        },
        "papermill": {
          "duration": 0.374502,
          "end_time": "2022-07-15T16:51:03.269960",
          "exception": false,
          "start_time": "2022-07-15T16:51:02.895458",
          "status": "completed"
        },
        "tags": [],
        "colab": {
          "base_uri": "https://localhost:8080/",
          "height": 281
        },
        "id": "533e5941",
        "outputId": "5b348d5f-2d37-48fc-b210-205933f08f92"
      },
      "outputs": [
        {
          "output_type": "display_data",
          "data": {
            "text/plain": [
              "<Figure size 432x288 with 1 Axes>"
            ],
            "image/png": "[encoded data removed]"
          },
          "metadata": {
            "needs_background": "light"
          }
        }
      ],
      "source": [
        "# PLOT PREDICTIONS\n",
        "plt.hist(sub.prediction, bins=100)\n",
        "plt.title('Test Predictions')\n",
        "plt.show()"
      ]
    },
    {
      "cell_type": "markdown",
      "id": "185ec80b",
      "metadata": {
        "papermill": {
          "duration": 0.019597,
          "end_time": "2022-07-15T16:51:03.309452",
          "exception": false,
          "start_time": "2022-07-15T16:51:03.289855",
          "status": "completed"
        },
        "tags": [],
        "id": "185ec80b"
      },
      "source": [
        "# Ensemble"
      ]
    },
    {
      "cell_type": "markdown",
      "id": "7b5329de",
      "metadata": {
        "papermill": {
          "duration": 0.019059,
          "end_time": "2022-07-15T16:51:03.348171",
          "exception": false,
          "start_time": "2022-07-15T16:51:03.329112",
          "status": "completed"
        },
        "tags": [],
        "id": "7b5329de"
      },
      "source": [
        "## Do only ensemble"
      ]
    },
    {
      "cell_type": "code",
      "execution_count": null,
      "id": "ae302481",
      "metadata": {
        "execution": {
          "iopub.execute_input": "2022-07-15T16:51:03.388764Z",
          "iopub.status.busy": "2022-07-15T16:51:03.388441Z",
          "iopub.status.idle": "2022-07-15T16:51:04.469509Z",
          "shell.execute_reply": "2022-07-15T16:51:04.468641Z"
        },
        "papermill": {
          "duration": 1.104153,
          "end_time": "2022-07-15T16:51:04.472053",
          "exception": false,
          "start_time": "2022-07-15T16:51:03.367900",
          "status": "completed"
        },
        "tags": [],
        "id": "ae302481"
      },
      "outputs": [],
      "source": [
        "sub = pd.read_csv(parent_dir + 'amex-default-prediction/sample_submission.csv')"
      ]
    },
    {
      "cell_type": "code",
      "execution_count": null,
      "id": "8a79e96e",
      "metadata": {
        "execution": {
          "iopub.execute_input": "2022-07-15T16:51:04.513132Z",
          "iopub.status.busy": "2022-07-15T16:51:04.512793Z",
          "iopub.status.idle": "2022-07-15T16:51:04.520068Z",
          "shell.execute_reply": "2022-07-15T16:51:04.519108Z"
        },
        "papermill": {
          "duration": 0.029574,
          "end_time": "2022-07-15T16:51:04.522316",
          "exception": false,
          "start_time": "2022-07-15T16:51:04.492742",
          "status": "completed"
        },
        "tags": [],
        "id": "8a79e96e"
      },
      "outputs": [],
      "source": [
        "# https://www.kaggle.com/code/beezus666/ensemble-weighted-average\n",
        "#crude formula for model weighting.\n",
        "# Using this formaula the best model's weight = 1, the worst model's weight ~0.05\n",
        "def model_weight(model_loss, worst_loss, best_loss):\n",
        "    return 1- ((best_loss - model_loss)/(best_loss-(worst_loss - 0.01)))\n",
        "\n",
        "def read_weighted_preds(sub_dict: dict, worst_score:float, best_score: float) -> list:\n",
        "    preds = []\n",
        "    weights = []\n",
        "    for path, loss in sub_dict.items():\n",
        "        weight = model_weight(loss, worst_score, best_score)\n",
        "        \n",
        "        df = pd.read_csv(path)\n",
        "        df = df.set_index('customer_ID').sort_index().reset_index() # sort\n",
        "        df['prediction'] = df['prediction']*weight\n",
        "        \n",
        "        preds.append(df['prediction'])\n",
        "        weights.append(weight)\n",
        "    \n",
        "    return preds, weights"
      ]
    },
    {
      "cell_type": "code",
      "execution_count": null,
      "id": "03b09021",
      "metadata": {
        "execution": {
          "iopub.execute_input": "2022-07-15T16:51:04.561639Z",
          "iopub.status.busy": "2022-07-15T16:51:04.561334Z",
          "iopub.status.idle": "2022-07-15T16:51:22.494528Z",
          "shell.execute_reply": "2022-07-15T16:51:22.493503Z"
        },
        "papermill": {
          "duration": 17.955551,
          "end_time": "2022-07-15T16:51:22.497045",
          "exception": false,
          "start_time": "2022-07-15T16:51:04.541494",
          "status": "completed"
        },
        "tags": [],
        "id": "03b09021"
      },
      "outputs": [],
      "source": [
        "best = 0.799\n",
        "worst = 0.7989\n",
        "\n",
        "sub_dict = {\n",
        "#     parent_dir + 'amexdefaultsubmissions/submission_cat_v26_0794.csv': 0.794,\n",
        "    parent_dir + 'amexdefaultsubmissions/submission_TF_GRU0789.csv': 0.789,\n",
        "# #     parent_dir + 'amexdefaultsubmissions/submission_xgb_v24.csv': 0.794,\n",
        "    parent_dir + 'amexdefaultsubmissions/test_lgbm_baseline_5fold_seed42.csv': 0.796,\n",
        "    parent_dir + 'amexdefaultsubmissions/test_lgbm_baseline_5fold_seed42_plus_0797.csv': 0.797,\n",
        "    parent_dir + 'amexdefaultsubmissions/submission_cat_0.7923765971248049.csv': 0.792,\n",
        "    parent_dir + 'amexdefaultsubmissions/submission_tabnet0791.csv': 0.791,\n",
        "    parent_dir + 'amexdefaultsubmissions/lightautoml_tabularautoml0795.csv': 0.795,\n",
        "    parent_dir + 'amexdefaultsubmissions/submission_xgb_nvt_0._794csv.csv': 0.794,\n",
        "    '../input/amex-lgbm-dart-cv-0-7977/test_lgbm_baseline_5fold_seed_blend.csv': 0.799\n",
        "#     '../input/amexdefaultsubmissions/submission_cat_v119seed42.csv': 0.794,\n",
        "#     '../input/amexdefaultsubmissions/submission_cat_v120seed52.csv': 0.794,\n",
        "#     '../input/amexdefaultsubmissions/submission_cat_v121_seed62.csv': 0.794\n",
        "}\n",
        "\n",
        "preds, weights = read_weighted_preds(sub_dict, worst, best)"
      ]
    },
    {
      "cell_type": "code",
      "execution_count": null,
      "id": "3f8250ab",
      "metadata": {
        "execution": {
          "iopub.execute_input": "2022-07-15T16:51:22.539939Z",
          "iopub.status.busy": "2022-07-15T16:51:22.539178Z",
          "iopub.status.idle": "2022-07-15T16:51:27.679204Z",
          "shell.execute_reply": "2022-07-15T16:51:27.678195Z"
        },
        "papermill": {
          "duration": 5.163738,
          "end_time": "2022-07-15T16:51:27.681977",
          "exception": false,
          "start_time": "2022-07-15T16:51:22.518239",
          "status": "completed"
        },
        "tags": [],
        "id": "3f8250ab",
        "outputId": "29063670-a8e5-4822-bbc2-590be0cbcdd6"
      },
      "outputs": [
        {
          "data": {
            "text/html": [
              "<div>\n",
              "<style scoped>\n",
              "    .dataframe tbody tr th:only-of-type {\n",
              "        vertical-align: middle;\n",
              "    }\n",
              "\n",
              "    .dataframe tbody tr th {\n",
              "        vertical-align: top;\n",
              "    }\n",
              "\n",
              "    .dataframe thead th {\n",
              "        text-align: right;\n",
              "    }\n",
              "</style>\n",
              "<table border=\"1\" class=\"dataframe\">\n",
              "  <thead>\n",
              "    <tr style=\"text-align: right;\">\n",
              "      <th></th>\n",
              "      <th>customer_ID</th>\n",
              "      <th>prediction</th>\n",
              "    </tr>\n",
              "  </thead>\n",
              "  <tbody>\n",
              "    <tr>\n",
              "      <th>0</th>\n",
              "      <td>00000469ba478561f23a92a868bd366de6f6527a684c9a...</td>\n",
              "      <td>0.028490</td>\n",
              "    </tr>\n",
              "    <tr>\n",
              "      <th>1</th>\n",
              "      <td>00001bf2e77ff879fab36aa4fac689b9ba411dae63ae39...</td>\n",
              "      <td>0.001000</td>\n",
              "    </tr>\n",
              "    <tr>\n",
              "      <th>2</th>\n",
              "      <td>0000210045da4f81e5f122c6bde5c2a617d03eef67f82c...</td>\n",
              "      <td>0.046015</td>\n",
              "    </tr>\n",
              "    <tr>\n",
              "      <th>3</th>\n",
              "      <td>00003b41e58ede33b8daf61ab56d9952f17c9ad1c3976c...</td>\n",
              "      <td>0.219310</td>\n",
              "    </tr>\n",
              "    <tr>\n",
              "      <th>4</th>\n",
              "      <td>00004b22eaeeeb0ec976890c1d9bfc14fd9427e98c4ee9...</td>\n",
              "      <td>0.860249</td>\n",
              "    </tr>\n",
              "    <tr>\n",
              "      <th>...</th>\n",
              "      <td>...</td>\n",
              "      <td>...</td>\n",
              "    </tr>\n",
              "    <tr>\n",
              "      <th>924616</th>\n",
              "      <td>ffff952c631f2c911b8a2a8ca56ea6e656309a83d2f64c...</td>\n",
              "      <td>0.013702</td>\n",
              "    </tr>\n",
              "    <tr>\n",
              "      <th>924617</th>\n",
              "      <td>ffffcf5df59e5e0bba2a5ac4578a34e2b5aa64a1546cd3...</td>\n",
              "      <td>0.798792</td>\n",
              "    </tr>\n",
              "    <tr>\n",
              "      <th>924618</th>\n",
              "      <td>ffffd61f098cc056dbd7d2a21380c4804bbfe60856f475...</td>\n",
              "      <td>0.440492</td>\n",
              "    </tr>\n",
              "    <tr>\n",
              "      <th>924619</th>\n",
              "      <td>ffffddef1fc3643ea179c93245b68dca0f36941cd83977...</td>\n",
              "      <td>0.270334</td>\n",
              "    </tr>\n",
              "    <tr>\n",
              "      <th>924620</th>\n",
              "      <td>fffffa7cf7e453e1acc6a1426475d5cb9400859f82ff61...</td>\n",
              "      <td>0.059215</td>\n",
              "    </tr>\n",
              "  </tbody>\n",
              "</table>\n",
              "<p>924621 rows × 2 columns</p>\n",
              "</div>"
            ],
            "text/plain": [
              "                                              customer_ID  prediction\n",
              "0       00000469ba478561f23a92a868bd366de6f6527a684c9a...    0.028490\n",
              "1       00001bf2e77ff879fab36aa4fac689b9ba411dae63ae39...    0.001000\n",
              "2       0000210045da4f81e5f122c6bde5c2a617d03eef67f82c...    0.046015\n",
              "3       00003b41e58ede33b8daf61ab56d9952f17c9ad1c3976c...    0.219310\n",
              "4       00004b22eaeeeb0ec976890c1d9bfc14fd9427e98c4ee9...    0.860249\n",
              "...                                                   ...         ...\n",
              "924616  ffff952c631f2c911b8a2a8ca56ea6e656309a83d2f64c...    0.013702\n",
              "924617  ffffcf5df59e5e0bba2a5ac4578a34e2b5aa64a1546cd3...    0.798792\n",
              "924618  ffffd61f098cc056dbd7d2a21380c4804bbfe60856f475...    0.440492\n",
              "924619  ffffddef1fc3643ea179c93245b68dca0f36941cd83977...    0.270334\n",
              "924620  fffffa7cf7e453e1acc6a1426475d5cb9400859f82ff61...    0.059215\n",
              "\n",
              "[924621 rows x 2 columns]"
            ]
          },
          "execution_count": 28,
          "metadata": {},
          "output_type": "execute_result"
        }
      ],
      "source": [
        "blend_ss = sub.copy()\n",
        "blend_ss['prediction'] = np.sum(np.column_stack(preds), axis=1) / sum(weights)\n",
        "# blend_ss['prediction'] = (np.mean(np.column_stack(preds), axis=1))\n",
        "blend_ss.to_csv('submission_blend.csv', index=False)\n",
        "blend_ss"
      ]
    },
    {
      "cell_type": "code",
      "execution_count": null,
      "id": "f11a4404",
      "metadata": {
        "execution": {
          "iopub.execute_input": "2022-07-15T16:51:27.747823Z",
          "iopub.status.busy": "2022-07-15T16:51:27.747355Z",
          "iopub.status.idle": "2022-07-15T16:51:27.818825Z",
          "shell.execute_reply": "2022-07-15T16:51:27.813317Z"
        },
        "papermill": {
          "duration": 0.107095,
          "end_time": "2022-07-15T16:51:27.821463",
          "exception": false,
          "start_time": "2022-07-15T16:51:27.714368",
          "status": "completed"
        },
        "tags": [],
        "id": "f11a4404",
        "outputId": "1e9ae23b-9caf-4853-9b1c-8a27f6cc152a"
      },
      "outputs": [
        {
          "data": {
            "text/html": [
              "<div>\n",
              "<style scoped>\n",
              "    .dataframe tbody tr th:only-of-type {\n",
              "        vertical-align: middle;\n",
              "    }\n",
              "\n",
              "    .dataframe tbody tr th {\n",
              "        vertical-align: top;\n",
              "    }\n",
              "\n",
              "    .dataframe thead th {\n",
              "        text-align: right;\n",
              "    }\n",
              "</style>\n",
              "<table border=\"1\" class=\"dataframe\">\n",
              "  <thead>\n",
              "    <tr style=\"text-align: right;\">\n",
              "      <th></th>\n",
              "      <th>prediction</th>\n",
              "    </tr>\n",
              "  </thead>\n",
              "  <tbody>\n",
              "    <tr>\n",
              "      <th>count</th>\n",
              "      <td>924621.000000</td>\n",
              "    </tr>\n",
              "    <tr>\n",
              "      <th>mean</th>\n",
              "      <td>0.249057</td>\n",
              "    </tr>\n",
              "    <tr>\n",
              "      <th>std</th>\n",
              "      <td>0.345441</td>\n",
              "    </tr>\n",
              "    <tr>\n",
              "      <th>min</th>\n",
              "      <td>0.000100</td>\n",
              "    </tr>\n",
              "    <tr>\n",
              "      <th>25%</th>\n",
              "      <td>0.003028</td>\n",
              "    </tr>\n",
              "    <tr>\n",
              "      <th>50%</th>\n",
              "      <td>0.026880</td>\n",
              "    </tr>\n",
              "    <tr>\n",
              "      <th>75%</th>\n",
              "      <td>0.482021</td>\n",
              "    </tr>\n",
              "    <tr>\n",
              "      <th>max</th>\n",
              "      <td>0.997465</td>\n",
              "    </tr>\n",
              "  </tbody>\n",
              "</table>\n",
              "</div>"
            ],
            "text/plain": [
              "          prediction\n",
              "count  924621.000000\n",
              "mean        0.249057\n",
              "std         0.345441\n",
              "min         0.000100\n",
              "25%         0.003028\n",
              "50%         0.026880\n",
              "75%         0.482021\n",
              "max         0.997465"
            ]
          },
          "execution_count": 29,
          "metadata": {},
          "output_type": "execute_result"
        }
      ],
      "source": [
        "blend_ss.describe()"
      ]
    },
    {
      "cell_type": "code",
      "execution_count": null,
      "id": "5cdeb1fa",
      "metadata": {
        "execution": {
          "iopub.execute_input": "2022-07-15T16:51:27.893523Z",
          "iopub.status.busy": "2022-07-15T16:51:27.892966Z",
          "iopub.status.idle": "2022-07-15T16:51:28.388752Z",
          "shell.execute_reply": "2022-07-15T16:51:28.387872Z"
        },
        "papermill": {
          "duration": 0.532861,
          "end_time": "2022-07-15T16:51:28.391244",
          "exception": false,
          "start_time": "2022-07-15T16:51:27.858383",
          "status": "completed"
        },
        "tags": [],
        "id": "5cdeb1fa",
        "outputId": "5669f4cf-4ba9-422a-8106-840bb95d2fa0"
      },
      "outputs": [
        {
          "data": {
            "image/png": "[encoded data removed]",
            "text/plain": [
              "<Figure size 432x288 with 1 Axes>"
            ]
          },
          "metadata": {
            "needs_background": "light"
          },
          "output_type": "display_data"
        }
      ],
      "source": [
        "# PLOT PREDICTIONS\n",
        "plt.hist(blend_ss.prediction, bins=100)\n",
        "plt.title('Blend Test Predictions')\n",
        "plt.show()"
      ]
    },
    {
      "cell_type": "markdown",
      "id": "802623f7",
      "metadata": {
        "papermill": {
          "duration": 0.042841,
          "end_time": "2022-07-15T16:51:28.477165",
          "exception": false,
          "start_time": "2022-07-15T16:51:28.434324",
          "status": "completed"
        },
        "tags": [],
        "id": "802623f7"
      },
      "source": [
        "# Submit to Kaggle from Colab"
      ]
    },
    {
      "cell_type": "code",
      "execution_count": 28,
      "id": "efc54970",
      "metadata": {
        "execution": {
          "iopub.execute_input": "2022-07-15T16:51:28.552420Z",
          "iopub.status.busy": "2022-07-15T16:51:28.551829Z",
          "iopub.status.idle": "2022-07-15T16:51:28.557906Z",
          "shell.execute_reply": "2022-07-15T16:51:28.557166Z"
        },
        "papermill": {
          "duration": 0.048007,
          "end_time": "2022-07-15T16:51:28.561880",
          "exception": false,
          "start_time": "2022-07-15T16:51:28.513873",
          "status": "completed"
        },
        "tags": [],
        "id": "efc54970",
        "outputId": "b3a74ea9-51af-4ac6-a03c-283eb20c9378",
        "colab": {
          "base_uri": "https://localhost:8080/"
        }
      },
      "outputs": [
        {
          "output_type": "stream",
          "name": "stdout",
          "text": [
            "100% 75.3M/75.3M [00:06<00:00, 12.6MB/s]\n",
            "Successfully submitted to American Express - Default Prediction"
          ]
        }
      ],
      "source": [
        "# Submit\n",
        "if is_env_colab:\n",
        "    !kaggle competitions submit -c amex-default-prediction -f submission_cat_v1.csv -m \"From colab seed 42 fold 5 lag plus\"\n",
        "    # !kaggle competitions submit -c amex-default-prediction -f submission_blend.csv -m \"From colab seed 42 fold 5 lag plus\""
      ]
    },
    {
      "cell_type": "code",
      "execution_count": 31,
      "id": "aad5cc1a",
      "metadata": {
        "execution": {
          "iopub.execute_input": "2022-07-15T16:51:28.636400Z",
          "iopub.status.busy": "2022-07-15T16:51:28.635706Z",
          "iopub.status.idle": "2022-07-15T16:51:28.643060Z",
          "shell.execute_reply": "2022-07-15T16:51:28.640501Z"
        },
        "papermill": {
          "duration": 0.04911,
          "end_time": "2022-07-15T16:51:28.647823",
          "exception": false,
          "start_time": "2022-07-15T16:51:28.598713",
          "status": "completed"
        },
        "tags": [],
        "id": "aad5cc1a",
        "outputId": "d78b1db5-36b6-47e8-8a9e-6278baa7171f",
        "colab": {
          "base_uri": "https://localhost:8080/"
        }
      },
      "outputs": [
        {
          "output_type": "stream",
          "name": "stdout",
          "text": [
            "fileName                            date                 description                                              status    publicScore  privateScore  \n",
            "----------------------------------  -------------------  -------------------------------------------------------  --------  -----------  ------------  \n",
            "submission_cat_v1.csv               2022-07-18 06:30:57  From colab seed 42 fold 5 lag plus                       complete  0.795                      \n",
            "Amex Default Prediction with Cat    2022-07-16 16:14:20  Notebook Amex Default Prediction with Cat | Version 125  complete  0.794                      \n",
            "Amex Default Prediction with Cat    2022-07-15 16:33:32  Notebook Amex Default Prediction with Cat | Version 127  complete  0.798                      \n",
            "Amex Default Prediction with Cat    2022-07-15 16:24:25  Notebook Amex Default Prediction with Cat | Version 126  complete  0.798                      \n",
            "submission_cat_v123_seed52_794.csv  2022-07-15 16:12:09                                                           complete  0.795                      \n",
            "submission_cat_v123_0794.csv        2022-07-15 15:47:08                                                           complete  0.795                      \n",
            "Amex Default Prediction with Cat    2022-07-15 13:53:07  Notebook Amex Default Prediction with Cat | Version 123  complete  0.798                      \n",
            "Amex Default Prediction with Cat    2022-07-12 10:17:49  Notebook Amex Default Prediction with Cat | Version 122  complete  0.794                      \n",
            "Amex Default Prediction with Cat    2022-07-11 16:41:48  Notebook Amex Default Prediction with Cat | Version 119  complete  0.794                      \n",
            "Amex Default Prediction with Cat    2022-07-11 13:00:10  Notebook Amex Default Prediction with Cat | Version 116  complete  0.794                      \n",
            "Amex Default Prediction with Cat    2022-07-10 12:29:19  Notebook Amex Default Prediction with Cat | Version 115  complete  0.798                      \n",
            "Amex Default Prediction with Cat    2022-07-10 12:26:36  Notebook Amex Default Prediction with Cat | Version 114  complete  0.797                      \n",
            "Amex Default Prediction with Cat    2022-07-10 07:38:14  Notebook Amex Default Prediction with Cat | Version 109  complete  0.798                      \n",
            "Amex Default Prediction with Cat    2022-07-10 07:34:41  Notebook Amex Default Prediction with Cat | Version 108  complete  0.798                      \n",
            "Amex Default Prediction with Cat    2022-07-10 07:31:41  Notebook Amex Default Prediction with Cat | Version 107  complete  0.798                      \n",
            "Amex Default Prediction with Cat    2022-07-07 16:06:53  Notebook Amex Default Prediction with Cat | Version 106  complete  0.798                      \n",
            "Amex Default Prediction with Cat    2022-07-07 16:01:41  Notebook Amex Default Prediction with Cat | Version 105  complete  0.797                      \n",
            "Amex Default Prediction with Cat    2022-07-07 15:55:53  Notebook Amex Default Prediction with Cat | Version 104  complete  0.798                      \n",
            "Amex Default Prediction with Cat    2022-07-07 15:52:16  Notebook Amex Default Prediction with Cat | Version 103  complete  0.797                      \n",
            "Amex Default Prediction with Cat    2022-07-05 15:48:47  Notebook Amex Default Prediction with Cat | Version 102  complete  0.797                      \n",
            "Amex Default Prediction with Cat    2022-07-05 15:46:36  Notebook Amex Default Prediction with Cat | Version 101  complete  0.797                      \n",
            "Amex Default Prediction with Cat    2022-07-05 15:37:48  Notebook Amex Default Prediction with Cat | Version 100  complete  0.797                      \n",
            "Amex Default Prediction with Cat    2022-07-05 15:33:29  Notebook Amex Default Prediction with Cat | Version 99   complete  0.797                      \n",
            "Amex Default Prediction with Cat    2022-07-05 15:29:38  Notebook Amex Default Prediction with Cat | Version 98   complete  0.797                      \n",
            "Amex Default Prediction with Cat    2022-07-04 16:21:46  Notebook Amex Default Prediction with Cat | Version 97   complete  0.797                      \n",
            "Amex Default Prediction with Cat    2022-07-04 16:09:39  Notebook Amex Default Prediction with Cat | Version 95   complete  0.797                      \n",
            "Amex Default Prediction with Cat    2022-07-04 14:45:39  Notebook Amex Default Prediction with Cat | Version 93   complete  0.797                      \n",
            "Amex Default Prediction - XGBoost   2022-07-04 14:01:00  Notebook Amex Default Prediction - XGBoost | Version 25  complete  0.793                      \n",
            "Amex Default Prediction - XGBoost   2022-07-04 13:34:15  Notebook Amex Default Prediction - XGBoost | Version 24  complete  0.794                      \n",
            "Amex Default Prediction with Cat    2022-07-03 11:56:30  Notebook Amex Default Prediction with Cat | Version 86   complete  0.797                      \n",
            "Amex Default Prediction with Cat    2022-07-03 11:17:11  Notebook Amex Default Prediction with Cat | Version 85   complete  0.797                      \n",
            "Amex Default Prediction with Cat    2022-07-03 05:11:36  Notebook Amex Default Prediction with Cat | Version 84   complete  0.797                      \n",
            "Amex Default Prediction with Cat    2022-07-03 04:59:28  Notebook Amex Default Prediction with Cat | Version 83   complete  0.797                      \n",
            "Amex Default Prediction with Cat    2022-07-03 04:22:26  Notebook Amex Default Prediction with Cat | Version 82   complete  0.792                      \n",
            "Amex Default Prediction with Cat    2022-07-02 16:13:03  Notebook Amex Default Prediction with Cat | Version 81   complete  0.796                      \n",
            "Amex Default Prediction with Cat    2022-07-02 15:56:06  Notebook Amex Default Prediction with Cat | Version 80   complete  0.797                      \n",
            "Amex Default Prediction with Cat    2022-07-02 14:22:57  Notebook Amex Default Prediction with Cat | Version 79   complete  0.797                      \n",
            "Amex Default Prediction with Cat    2022-07-02 14:17:53  Notebook Amex Default Prediction with Cat | Version 78   complete  0.797                      \n",
            "Amex Default Prediction with Cat    2022-07-02 13:35:04  Notebook Amex Default Prediction with Cat | Version 77   complete  0.794                      \n",
            "Amex Default Prediction with Cat    2022-07-01 17:11:02  Notebook Amex Default Prediction with Cat | Version 76   complete  0.797                      \n",
            "Amex Default Prediction with Cat    2022-07-01 17:09:06  Notebook Amex Default Prediction with Cat | Version 75   complete  0.794                      \n",
            "Amex Default Prediction with Cat    2022-07-01 15:31:01  Notebook Amex Default Prediction with Cat | Version 74   complete  0.797                      \n",
            "Amex Default Prediction with Cat    2022-07-01 15:29:31  Notebook Amex Default Prediction with Cat | Version 73   complete  0.797                      \n",
            "TensorFlow GRU Starter - [0.790]    2022-07-01 15:25:26  Notebook TensorFlow GRU Starter - [0.790] | Version 3    complete  0.783                      \n",
            "Amex Default Prediction with Cat    2022-06-30 12:11:53  Notebook Amex Default Prediction with Cat | Version 72   complete  0.797                      \n",
            "Amex Default Prediction with Cat    2022-06-30 12:08:27  Notebook Amex Default Prediction with Cat | Version 71   complete  0.797                      \n",
            "Amex Default Prediction with Cat    2022-06-29 13:52:23  Notebook Amex Default Prediction with Cat | Version 70   complete  0.797                      \n",
            "Amex Default Prediction with Cat    2022-06-29 13:49:46  Notebook Amex Default Prediction with Cat | Version 69   complete  0.797                      \n",
            "Amex Default Prediction with Cat    2022-06-29 13:43:28  Notebook Amex Default Prediction with Cat | Version 68   complete  0.797                      \n",
            "Amex Default Prediction with Cat    2022-06-29 13:41:37  Notebook Amex Default Prediction with Cat | Version 67   complete  0.797                      \n"
          ]
        }
      ],
      "source": [
        "# Run after few seconds\n",
        "if is_env_colab:\n",
        "    !kaggle competitions submissions amex-default-prediction"
      ]
    }
  ],
  "metadata": {
    "kernelspec": {
      "display_name": "Python 3",
      "language": "python",
      "name": "python3"
    },
    "language_info": {
      "codemirror_mode": {
        "name": "ipython",
        "version": 3
      },
      "file_extension": ".py",
      "mimetype": "text/x-python",
      "name": "python",
      "nbconvert_exporter": "python",
      "pygments_lexer": "ipython3",
      "version": "3.7.12"
    },
    "papermill": {
      "default_parameters": {},
      "duration": 2291.105208,
      "end_time": "2022-07-15T16:51:29.695242",
      "environment_variables": {},
      "exception": null,
      "input_path": "__notebook__.ipynb",
      "output_path": "__notebook__.ipynb",
      "parameters": {},
      "start_time": "2022-07-15T16:13:18.590034",
      "version": "2.3.4"
    },
    "colab": {
      "name": "amex-default-prediction-with-cat.ipynb",
      "provenance": [],
      "machine_shape": "hm"
    },
    "accelerator": "GPU",
    "gpuClass": "standard"
  },
  "nbformat": 4,
  "nbformat_minor": 5
}
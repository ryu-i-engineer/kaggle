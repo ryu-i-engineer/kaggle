{
  "cells": [
    {
      "cell_type": "markdown",
      "id": "ec8911a0",
      "metadata": {
        "papermill": {
          "duration": 0.009252,
          "end_time": "2022-07-15T16:13:27.338460",
          "exception": false,
          "start_time": "2022-07-15T16:13:27.329208",
          "status": "completed"
        },
        "tags": [],
        "id": "ec8911a0"
      },
      "source": [
        "# Prepare for colab"
      ]
    },
    {
      "cell_type": "code",
      "execution_count": 1,
      "id": "bad112fb",
      "metadata": {
        "execution": {
          "iopub.execute_input": "2022-07-15T16:13:27.400098Z",
          "iopub.status.busy": "2022-07-15T16:13:27.399391Z",
          "iopub.status.idle": "2022-07-15T16:13:27.403356Z",
          "shell.execute_reply": "2022-07-15T16:13:27.402606Z"
        },
        "papermill": {
          "duration": 0.015568,
          "end_time": "2022-07-15T16:13:27.405067",
          "exception": false,
          "start_time": "2022-07-15T16:13:27.389499",
          "status": "completed"
        },
        "tags": [],
        "id": "bad112fb",
        "outputId": "37e0ae98-9c3e-4dcb-e2d4-3b20f9d887ac",
        "colab": {
          "base_uri": "https://localhost:8080/"
        }
      },
      "outputs": [
        {
          "output_type": "stream",
          "name": "stdout",
          "text": [
            "Looking in indexes: https://pypi.org/simple, https://us-python.pkg.dev/colab-wheels/public/simple/\n",
            "Collecting catboost\n",
            "  Downloading catboost-1.0.6-cp37-none-manylinux1_x86_64.whl (76.6 MB)\n",
            "\u001b[K     |████████████████████████████████| 76.6 MB 144 kB/s \n",
            "\u001b[?25hRequirement already satisfied: scipy in /usr/local/lib/python3.7/dist-packages (from catboost) (1.7.3)\n",
            "Requirement already satisfied: six in /usr/local/lib/python3.7/dist-packages (from catboost) (1.15.0)\n",
            "Requirement already satisfied: plotly in /usr/local/lib/python3.7/dist-packages (from catboost) (5.5.0)\n",
            "Requirement already satisfied: numpy>=1.16.0 in /usr/local/lib/python3.7/dist-packages (from catboost) (1.21.6)\n",
            "Requirement already satisfied: pandas>=0.24.0 in /usr/local/lib/python3.7/dist-packages (from catboost) (1.3.5)\n",
            "Requirement already satisfied: graphviz in /usr/local/lib/python3.7/dist-packages (from catboost) (0.10.1)\n",
            "Requirement already satisfied: matplotlib in /usr/local/lib/python3.7/dist-packages (from catboost) (3.2.2)\n",
            "Requirement already satisfied: pytz>=2017.3 in /usr/local/lib/python3.7/dist-packages (from pandas>=0.24.0->catboost) (2022.1)\n",
            "Requirement already satisfied: python-dateutil>=2.7.3 in /usr/local/lib/python3.7/dist-packages (from pandas>=0.24.0->catboost) (2.8.2)\n",
            "Requirement already satisfied: kiwisolver>=1.0.1 in /usr/local/lib/python3.7/dist-packages (from matplotlib->catboost) (1.4.3)\n",
            "Requirement already satisfied: cycler>=0.10 in /usr/local/lib/python3.7/dist-packages (from matplotlib->catboost) (0.11.0)\n",
            "Requirement already satisfied: pyparsing!=2.0.4,!=2.1.2,!=2.1.6,>=2.0.1 in /usr/local/lib/python3.7/dist-packages (from matplotlib->catboost) (3.0.9)\n",
            "Requirement already satisfied: typing-extensions in /usr/local/lib/python3.7/dist-packages (from kiwisolver>=1.0.1->matplotlib->catboost) (4.1.1)\n",
            "Requirement already satisfied: tenacity>=6.2.0 in /usr/local/lib/python3.7/dist-packages (from plotly->catboost) (8.0.1)\n",
            "Installing collected packages: catboost\n",
            "Successfully installed catboost-1.0.6\n",
            "Looking in indexes: https://pypi.org/simple, https://us-python.pkg.dev/colab-wheels/public/simple/\n",
            "Requirement already satisfied: kaggle in /usr/local/lib/python3.7/dist-packages (1.5.12)\n",
            "Requirement already satisfied: six>=1.10 in /usr/local/lib/python3.7/dist-packages (from kaggle) (1.15.0)\n",
            "Requirement already satisfied: python-dateutil in /usr/local/lib/python3.7/dist-packages (from kaggle) (2.8.2)\n",
            "Requirement already satisfied: urllib3 in /usr/local/lib/python3.7/dist-packages (from kaggle) (1.24.3)\n",
            "Requirement already satisfied: requests in /usr/local/lib/python3.7/dist-packages (from kaggle) (2.23.0)\n",
            "Requirement already satisfied: python-slugify in /usr/local/lib/python3.7/dist-packages (from kaggle) (6.1.2)\n",
            "Requirement already satisfied: certifi in /usr/local/lib/python3.7/dist-packages (from kaggle) (2022.6.15)\n",
            "Requirement already satisfied: tqdm in /usr/local/lib/python3.7/dist-packages (from kaggle) (4.64.0)\n",
            "Requirement already satisfied: text-unidecode>=1.3 in /usr/local/lib/python3.7/dist-packages (from python-slugify->kaggle) (1.3)\n",
            "Requirement already satisfied: idna<3,>=2.5 in /usr/local/lib/python3.7/dist-packages (from requests->kaggle) (2.10)\n",
            "Requirement already satisfied: chardet<4,>=3.0.2 in /usr/local/lib/python3.7/dist-packages (from requests->kaggle) (3.0.4)\n"
          ]
        }
      ],
      "source": [
        "!pip install catboost\n",
        "!pip install kaggle"
      ]
    },
    {
      "cell_type": "markdown",
      "id": "3fa90515",
      "metadata": {
        "papermill": {
          "duration": 0.008806,
          "end_time": "2022-07-15T16:13:27.422550",
          "exception": false,
          "start_time": "2022-07-15T16:13:27.413744",
          "status": "completed"
        },
        "tags": [],
        "id": "3fa90515"
      },
      "source": [
        "## Upload API Token"
      ]
    },
    {
      "cell_type": "code",
      "execution_count": 2,
      "id": "54e44e29",
      "metadata": {
        "execution": {
          "iopub.execute_input": "2022-07-15T16:13:27.442237Z",
          "iopub.status.busy": "2022-07-15T16:13:27.441555Z",
          "iopub.status.idle": "2022-07-15T16:13:27.448196Z",
          "shell.execute_reply": "2022-07-15T16:13:27.447549Z"
        },
        "papermill": {
          "duration": 0.01814,
          "end_time": "2022-07-15T16:13:27.449796",
          "exception": false,
          "start_time": "2022-07-15T16:13:27.431656",
          "status": "completed"
        },
        "tags": [],
        "id": "54e44e29",
        "outputId": "7e95676b-d413-48b2-ea2d-afa8b577dde1",
        "colab": {
          "resources": {
            "http://localhost:8080/nbextensions/google.colab/files.js": {
              "data": "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",
              "ok": true,
              "headers": [
                [
                  "content-type",
                  "application/javascript"
                ]
              ],
              "status": 200,
              "status_text": ""
            }
          },
          "base_uri": "https://localhost:8080/",
          "height": 93
        }
      },
      "outputs": [
        {
          "output_type": "display_data",
          "data": {
            "text/plain": [
              "<IPython.core.display.HTML object>"
            ],
            "text/html": [
              "\n",
              "     <input type=\"file\" id=\"files-a1583ee5-2a86-40d8-8f27-962cb387a0e3\" name=\"files[]\" multiple disabled\n",
              "        style=\"border:none\" />\n",
              "     <output id=\"result-a1583ee5-2a86-40d8-8f27-962cb387a0e3\">\n",
              "      Upload widget is only available when the cell has been executed in the\n",
              "      current browser session. Please rerun this cell to enable.\n",
              "      </output>\n",
              "      <script src=\"/nbextensions/google.colab/files.js\"></script> "
            ]
          },
          "metadata": {}
        },
        {
          "output_type": "stream",
          "name": "stdout",
          "text": [
            "Saving kaggle.json to kaggle.json\n",
            "User uploaded file \"kaggle.json\" with length 62 bytes\n"
          ]
        }
      ],
      "source": [
        "from google.colab import files\n",
        "\n",
        "uploaded = files.upload()\n",
        "\n",
        "for fn in uploaded.keys():\n",
        "    print('User uploaded file \"{name}\" with length {length} bytes'.format(\n",
        "        name=fn, length=len(uploaded[fn])))\n",
        "\n",
        "# Then move kaggle.json into the folder where the API expects to find it.\n",
        "!mkdir -p ~/.kaggle/ && mv kaggle.json ~/.kaggle/ && chmod 600 ~/.kaggle/kaggle.json"
      ]
    },
    {
      "cell_type": "markdown",
      "id": "1abbc588",
      "metadata": {
        "papermill": {
          "duration": 0.008512,
          "end_time": "2022-07-15T16:13:27.467327",
          "exception": false,
          "start_time": "2022-07-15T16:13:27.458815",
          "status": "completed"
        },
        "tags": [],
        "id": "1abbc588"
      },
      "source": [
        "## Download and unzip dataset"
      ]
    },
    {
      "cell_type": "code",
      "execution_count": 3,
      "id": "c17f8dd7",
      "metadata": {
        "execution": {
          "iopub.execute_input": "2022-07-15T16:13:27.486038Z",
          "iopub.status.busy": "2022-07-15T16:13:27.485615Z",
          "iopub.status.idle": "2022-07-15T16:13:27.490276Z",
          "shell.execute_reply": "2022-07-15T16:13:27.489580Z"
        },
        "papermill": {
          "duration": 0.016071,
          "end_time": "2022-07-15T16:13:27.491993",
          "exception": false,
          "start_time": "2022-07-15T16:13:27.475922",
          "status": "completed"
        },
        "tags": [],
        "id": "c17f8dd7",
        "outputId": "23807f8f-054c-4351-ea4f-575ac211a085",
        "colab": {
          "base_uri": "https://localhost:8080/"
        }
      },
      "outputs": [
        {
          "output_type": "stream",
          "name": "stdout",
          "text": [
            "Downloading amex-fe-plus2.zip to /content\n",
            "100% 5.15G/5.16G [00:48<00:00, 135MB/s]\n",
            "100% 5.16G/5.16G [00:48<00:00, 115MB/s]\n",
            "Archive:  /content/amex-fe-plus2.zip\n",
            "  inflating: test_fe_plus_plus.parquet  \n",
            "  inflating: train_fe_plus_plus.parquet  \n"
          ]
        }
      ],
      "source": [
        "!kaggle datasets download -d ryuina/amex-fe-plus2\n",
        "!unzip /content/amex-fe-plus2.zip"
      ]
    },
    {
      "cell_type": "code",
      "execution_count": 4,
      "id": "e4df1701",
      "metadata": {
        "execution": {
          "iopub.execute_input": "2022-07-15T16:13:27.515341Z",
          "iopub.status.busy": "2022-07-15T16:13:27.514880Z",
          "iopub.status.idle": "2022-07-15T16:13:27.523654Z",
          "shell.execute_reply": "2022-07-15T16:13:27.522700Z"
        },
        "papermill": {
          "duration": 0.025128,
          "end_time": "2022-07-15T16:13:27.526436",
          "exception": false,
          "start_time": "2022-07-15T16:13:27.501308",
          "status": "completed"
        },
        "tags": [],
        "id": "e4df1701",
        "outputId": "1ab15da0-2713-48a9-d04b-6d1741587cbd",
        "colab": {
          "base_uri": "https://localhost:8080/"
        }
      },
      "outputs": [
        {
          "output_type": "stream",
          "name": "stdout",
          "text": [
            "Downloading sample_submission.csv.zip to /content\n",
            " 77% 25.0M/32.4M [00:00<00:00, 45.3MB/s]\n",
            "100% 32.4M/32.4M [00:00<00:00, 57.4MB/s]\n",
            "Archive:  /content/sample_submission.csv.zip\n",
            "  inflating: sample_submission.csv   \n"
          ]
        }
      ],
      "source": [
        "!kaggle competitions download -c amex-default-prediction -f sample_submission.csv\n",
        "!unzip /content/sample_submission.csv.zip"
      ]
    },
    {
      "cell_type": "markdown",
      "id": "f4989bdc",
      "metadata": {
        "papermill": {
          "duration": 0.016438,
          "end_time": "2022-07-15T16:13:27.558017",
          "exception": false,
          "start_time": "2022-07-15T16:13:27.541579",
          "status": "completed"
        },
        "tags": [],
        "id": "f4989bdc"
      },
      "source": [
        "# Settings"
      ]
    },
    {
      "cell_type": "code",
      "execution_count": 5,
      "id": "95e00624",
      "metadata": {
        "_cell_guid": "b1076dfc-b9ad-4769-8c92-a6c4dae69d19",
        "_uuid": "8f2839f25d086af736a60e9eeb907d3b93b6e0e5",
        "execution": {
          "iopub.execute_input": "2022-07-15T16:13:27.588423Z",
          "iopub.status.busy": "2022-07-15T16:13:27.588075Z",
          "iopub.status.idle": "2022-07-15T16:13:28.957484Z",
          "shell.execute_reply": "2022-07-15T16:13:28.956421Z"
        },
        "papermill": {
          "duration": 1.38867,
          "end_time": "2022-07-15T16:13:28.960624",
          "exception": false,
          "start_time": "2022-07-15T16:13:27.571954",
          "status": "completed"
        },
        "tags": [],
        "id": "95e00624"
      },
      "outputs": [],
      "source": [
        "import pandas as pd\n",
        "import numpy as np\n",
        "import matplotlib.pyplot as plt\n",
        "import random\n",
        "\n",
        "from catboost import CatBoostClassifier, Pool\n",
        "from sklearn.preprocessing import LabelEncoder\n",
        "from sklearn.model_selection import KFold\n",
        "\n",
        "import os\n",
        "import gc; gc.enable()\n",
        "\n",
        "import warnings\n",
        "warnings.filterwarnings('ignore')"
      ]
    },
    {
      "cell_type": "code",
      "execution_count": 6,
      "id": "004febdf",
      "metadata": {
        "execution": {
          "iopub.execute_input": "2022-07-15T16:13:28.994650Z",
          "iopub.status.busy": "2022-07-15T16:13:28.994155Z",
          "iopub.status.idle": "2022-07-15T16:13:29.006339Z",
          "shell.execute_reply": "2022-07-15T16:13:29.002101Z"
        },
        "papermill": {
          "duration": 0.030433,
          "end_time": "2022-07-15T16:13:29.008239",
          "exception": false,
          "start_time": "2022-07-15T16:13:28.977806",
          "status": "completed"
        },
        "tags": [],
        "id": "004febdf"
      },
      "outputs": [],
      "source": [
        "VER=1\n",
        "SEED = 42\n",
        "FOLDS = 5\n",
        "\n",
        "cat_features = [\"B_30\", \"B_38\", \"D_114\", \"D_116\", \"D_117\", \"D_120\", \"D_126\", \"D_63\", \"D_64\", \"D_66\", \"D_68\"]\n",
        "\n",
        "def seed_everything(seed):\n",
        "    random.seed(seed)\n",
        "    np.random.seed(seed)\n",
        "    os.environ['PYTHONHASHSEED'] = str(seed)\n",
        "\n",
        "seed_everything(SEED)"
      ]
    },
    {
      "cell_type": "code",
      "execution_count": 7,
      "id": "c0e94a28",
      "metadata": {
        "execution": {
          "iopub.execute_input": "2022-07-15T16:13:29.093540Z",
          "iopub.status.busy": "2022-07-15T16:13:29.093091Z",
          "iopub.status.idle": "2022-07-15T16:14:14.382522Z",
          "shell.execute_reply": "2022-07-15T16:14:14.381643Z"
        },
        "papermill": {
          "duration": 45.307941,
          "end_time": "2022-07-15T16:14:14.385086",
          "exception": false,
          "start_time": "2022-07-15T16:13:29.077145",
          "status": "completed"
        },
        "tags": [],
        "id": "c0e94a28"
      },
      "outputs": [],
      "source": [
        "train = pd.read_parquet(\"/content/train_fe_plus_plus.parquet\")\n",
        "# train = train.reset_index(level=0)\n",
        "test = pd.read_parquet(\"/content/test_fe_plus_plus.parquet\")\n",
        "# test = test.reset_index(level=0)"
      ]
    },
    {
      "cell_type": "code",
      "execution_count": 8,
      "id": "81cbcbdf",
      "metadata": {
        "execution": {
          "iopub.execute_input": "2022-07-15T16:14:14.404618Z",
          "iopub.status.busy": "2022-07-15T16:14:14.404283Z",
          "iopub.status.idle": "2022-07-15T16:14:16.433273Z",
          "shell.execute_reply": "2022-07-15T16:14:16.432437Z"
        },
        "papermill": {
          "duration": 2.041229,
          "end_time": "2022-07-15T16:14:16.435648",
          "exception": false,
          "start_time": "2022-07-15T16:14:14.394419",
          "status": "completed"
        },
        "tags": [],
        "id": "81cbcbdf"
      },
      "outputs": [],
      "source": [
        "cat_features_last = [f\"{cf}_last\" for cf in cat_features]\n",
        "\n",
        "le_encoder = LabelEncoder()\n",
        "for categorical_feature in cat_features_last:\n",
        "    train[categorical_feature] = le_encoder.fit_transform(train[categorical_feature])\n",
        "    test[categorical_feature] = le_encoder.transform(test[categorical_feature])"
      ]
    },
    {
      "cell_type": "code",
      "execution_count": 9,
      "id": "b931bba5",
      "metadata": {
        "execution": {
          "iopub.execute_input": "2022-07-15T16:14:16.455441Z",
          "iopub.status.busy": "2022-07-15T16:14:16.455092Z",
          "iopub.status.idle": "2022-07-15T16:14:18.013098Z",
          "shell.execute_reply": "2022-07-15T16:14:18.012027Z"
        },
        "papermill": {
          "duration": 1.570551,
          "end_time": "2022-07-15T16:14:18.015521",
          "exception": false,
          "start_time": "2022-07-15T16:14:16.444970",
          "status": "completed"
        },
        "tags": [],
        "id": "b931bba5"
      },
      "outputs": [],
      "source": [
        "# https://www.kaggle.com/code/ragnar123/amex-lgbm-dart-cv-0-7963\n",
        "# Round last float features to 2 decimal place\n",
        "float_cols = list(train.dtypes[(train.dtypes == 'float32') | (train.dtypes == 'float64')].index)\n",
        "float_cols = [col for col in float_cols if 'last' in col]\n",
        "\n",
        "train[float_cols] = train[float_cols].round(2)\n",
        "test[float_cols] = test[float_cols].round(2)"
      ]
    },
    {
      "cell_type": "code",
      "execution_count": 10,
      "id": "ba13c62d",
      "metadata": {
        "execution": {
          "iopub.execute_input": "2022-07-15T16:14:18.035731Z",
          "iopub.status.busy": "2022-07-15T16:14:18.035409Z",
          "iopub.status.idle": "2022-07-15T16:14:24.212689Z",
          "shell.execute_reply": "2022-07-15T16:14:24.207569Z"
        },
        "papermill": {
          "duration": 6.191719,
          "end_time": "2022-07-15T16:14:24.216845",
          "exception": false,
          "start_time": "2022-07-15T16:14:18.025126",
          "status": "completed"
        },
        "tags": [],
        "id": "ba13c62d"
      },
      "outputs": [],
      "source": [
        "train = train.set_index('customer_ID')\n",
        "train = train.sort_index().reset_index()\n",
        "FEATURES = train.drop(columns=['customer_ID', 'target']).columns"
      ]
    },
    {
      "cell_type": "code",
      "execution_count": 11,
      "id": "f0ecff48",
      "metadata": {
        "execution": {
          "iopub.execute_input": "2022-07-15T16:14:24.269747Z",
          "iopub.status.busy": "2022-07-15T16:14:24.269149Z",
          "iopub.status.idle": "2022-07-15T16:14:24.287474Z",
          "shell.execute_reply": "2022-07-15T16:14:24.284982Z"
        },
        "papermill": {
          "duration": 0.043293,
          "end_time": "2022-07-15T16:14:24.290609",
          "exception": false,
          "start_time": "2022-07-15T16:14:24.247316",
          "status": "completed"
        },
        "tags": [],
        "id": "f0ecff48"
      },
      "outputs": [],
      "source": [
        "# https://www.kaggle.com/competitions/amex-default-prediction/discussion/328020\n",
        "# https://www.kaggle.com/code/rohanrao/amex-competition-metric-implementations\n",
        "def amex_metric_np(target: np.ndarray, preds: np.ndarray) -> float:\n",
        "    indices = np.argsort(preds)[::-1]\n",
        "    preds, target = preds[indices], target[indices]\n",
        "\n",
        "    n_pos = np.sum(target)\n",
        "    n_neg = target.shape[0] - n_pos\n",
        "    \n",
        "    weight = 20.0 - target * 19.0\n",
        "    cum_norm_weight = (weight * (1 / weight.sum())).cumsum()\n",
        "    four_pct_mask = cum_norm_weight <= 0.04\n",
        "    d = np.sum(target[four_pct_mask]) / n_pos\n",
        "    \n",
        "    lorentz = (target * (1 / n_pos)).cumsum()\n",
        "    gini = ((lorentz - cum_norm_weight) * weight).sum()\n",
        "    gini_max = 10 * n_neg * (1 - 19 / (n_pos + 20 * n_neg))\n",
        "\n",
        "    g = gini / gini_max\n",
        "\n",
        "    return 0.5 * (g + d)"
      ]
    },
    {
      "cell_type": "code",
      "execution_count": 12,
      "id": "155fb197",
      "metadata": {
        "execution": {
          "iopub.execute_input": "2022-07-15T16:14:24.334040Z",
          "iopub.status.busy": "2022-07-15T16:14:24.333456Z",
          "iopub.status.idle": "2022-07-15T16:14:24.341948Z",
          "shell.execute_reply": "2022-07-15T16:14:24.341087Z"
        },
        "papermill": {
          "duration": 0.030338,
          "end_time": "2022-07-15T16:14:24.346412",
          "exception": false,
          "start_time": "2022-07-15T16:14:24.316074",
          "status": "completed"
        },
        "tags": [],
        "id": "155fb197"
      },
      "outputs": [],
      "source": [
        "cat_params = {\n",
        "    'iterations':30000,\n",
        "    'random_state':SEED,\n",
        "    'learning_rate':0.01,\n",
        "\n",
        "    # 'depth': 4,\n",
        "    'l2_leaf_reg':14,\n",
        "    'one_hot_max_size':20,\n",
        "    # 'random_strength': 0.5,\n",
        "    # 'bagging_temperature': 0.75,\n",
        "\n",
        "    # 'num_leaves': 100,\n",
        "    'min_child_samples': 40,\n",
        "\n",
        "    'task_type':\"GPU\",\n",
        "    'border_count':128,\n",
        "}"
      ]
    },
    {
      "cell_type": "code",
      "execution_count": 13,
      "id": "72e0dac6",
      "metadata": {
        "execution": {
          "iopub.execute_input": "2022-07-15T16:14:24.385070Z",
          "iopub.status.busy": "2022-07-15T16:14:24.384608Z",
          "iopub.status.idle": "2022-07-15T16:48:45.264974Z",
          "shell.execute_reply": "2022-07-15T16:48:45.263500Z"
        },
        "papermill": {
          "duration": 2060.899656,
          "end_time": "2022-07-15T16:48:45.266833",
          "exception": false,
          "start_time": "2022-07-15T16:14:24.367177",
          "status": "completed"
        },
        "tags": [],
        "id": "72e0dac6",
        "outputId": "cbf51e67-fa6e-4a6e-cec3-dc2b51291fd8",
        "colab": {
          "base_uri": "https://localhost:8080/"
        }
      },
      "outputs": [
        {
          "output_type": "stream",
          "name": "stdout",
          "text": [
            "#########################\n",
            "### Fold 1\n",
            "### Train size 367130 Valid size 91783\n",
            "### Training with 100% fold data...\n",
            "#########################\n",
            "0:\tlearn: 0.6805902\ttest: 0.6805554\tbest: 0.6805554 (0)\ttotal: 58.3ms\tremaining: 25m 15s\n",
            "500:\tlearn: 0.2307662\ttest: 0.2321906\tbest: 0.2321906 (500)\ttotal: 18.4s\tremaining: 15m 36s\n",
            "1000:\tlearn: 0.2231994\ttest: 0.2257971\tbest: 0.2257971 (1000)\ttotal: 35.8s\tremaining: 14m 54s\n",
            "1500:\tlearn: 0.2193689\ttest: 0.2231958\tbest: 0.2231958 (1500)\ttotal: 53.2s\tremaining: 14m 29s\n",
            "2000:\tlearn: 0.2167525\ttest: 0.2218158\tbest: 0.2218158 (2000)\ttotal: 1m 10s\tremaining: 14m 4s\n",
            "2500:\tlearn: 0.2147490\ttest: 0.2209837\tbest: 0.2209837 (2500)\ttotal: 1m 27s\tremaining: 13m 40s\n",
            "3000:\tlearn: 0.2130861\ttest: 0.2204067\tbest: 0.2204067 (3000)\ttotal: 1m 43s\tremaining: 13m 16s\n",
            "3500:\tlearn: 0.2116186\ttest: 0.2199753\tbest: 0.2199753 (3500)\ttotal: 2m\tremaining: 12m 53s\n",
            "4000:\tlearn: 0.2102634\ttest: 0.2196313\tbest: 0.2196313 (4000)\ttotal: 2m 17s\tremaining: 12m 38s\n",
            "4500:\tlearn: 0.2090011\ttest: 0.2193356\tbest: 0.2193356 (4500)\ttotal: 2m 34s\tremaining: 12m 16s\n",
            "5000:\tlearn: 0.2078099\ttest: 0.2191335\tbest: 0.2191335 (5000)\ttotal: 2m 50s\tremaining: 11m 56s\n",
            "5500:\tlearn: 0.2066255\ttest: 0.2189213\tbest: 0.2189213 (5500)\ttotal: 3m 7s\tremaining: 11m 37s\n",
            "6000:\tlearn: 0.2055401\ttest: 0.2187511\tbest: 0.2187511 (6000)\ttotal: 3m 23s\tremaining: 11m 17s\n",
            "6500:\tlearn: 0.2044283\ttest: 0.2185944\tbest: 0.2185944 (6498)\ttotal: 3m 39s\tremaining: 10m 59s\n",
            "7000:\tlearn: 0.2033875\ttest: 0.2184608\tbest: 0.2184608 (7000)\ttotal: 3m 55s\tremaining: 10m 39s\n",
            "7500:\tlearn: 0.2023557\ttest: 0.2183286\tbest: 0.2183286 (7500)\ttotal: 4m 11s\tremaining: 10m 21s\n",
            "8000:\tlearn: 0.2013237\ttest: 0.2181794\tbest: 0.2181792 (7998)\ttotal: 4m 28s\tremaining: 10m 3s\n",
            "8500:\tlearn: 0.2003206\ttest: 0.2180537\tbest: 0.2180537 (8500)\ttotal: 4m 44s\tremaining: 9m 45s\n",
            "9000:\tlearn: 0.1993416\ttest: 0.2179288\tbest: 0.2179288 (9000)\ttotal: 5m\tremaining: 9m 28s\n",
            "9500:\tlearn: 0.1983650\ttest: 0.2178274\tbest: 0.2178274 (9500)\ttotal: 5m 17s\tremaining: 9m 11s\n",
            "10000:\tlearn: 0.1974206\ttest: 0.2177372\tbest: 0.2177363 (9998)\ttotal: 5m 33s\tremaining: 8m 53s\n",
            "10500:\tlearn: 0.1964664\ttest: 0.2176432\tbest: 0.2176432 (10500)\ttotal: 5m 49s\tremaining: 8m 36s\n",
            "11000:\tlearn: 0.1955469\ttest: 0.2175651\tbest: 0.2175648 (10998)\ttotal: 6m 6s\tremaining: 8m 19s\n",
            "11500:\tlearn: 0.1946146\ttest: 0.2175013\tbest: 0.2174980 (11480)\ttotal: 6m 22s\tremaining: 8m 1s\n",
            "12000:\tlearn: 0.1937001\ttest: 0.2174294\tbest: 0.2174281 (11983)\ttotal: 6m 38s\tremaining: 7m 44s\n",
            "12500:\tlearn: 0.1928233\ttest: 0.2173584\tbest: 0.2173583 (12498)\ttotal: 6m 54s\tremaining: 7m 27s\n",
            "13000:\tlearn: 0.1919272\ttest: 0.2172929\tbest: 0.2172918 (12991)\ttotal: 7m 10s\tremaining: 7m 10s\n",
            "13500:\tlearn: 0.1910459\ttest: 0.2172282\tbest: 0.2172282 (13500)\ttotal: 7m 26s\tremaining: 6m 53s\n",
            "14000:\tlearn: 0.1901748\ttest: 0.2171558\tbest: 0.2171558 (14000)\ttotal: 7m 42s\tremaining: 6m 36s\n",
            "14500:\tlearn: 0.1892883\ttest: 0.2171102\tbest: 0.2171102 (14498)\ttotal: 7m 58s\tremaining: 6m 19s\n",
            "15000:\tlearn: 0.1884503\ttest: 0.2170607\tbest: 0.2170601 (14998)\ttotal: 8m 14s\tremaining: 6m 2s\n",
            "15500:\tlearn: 0.1875831\ttest: 0.2170253\tbest: 0.2170242 (15462)\ttotal: 8m 31s\tremaining: 5m 46s\n",
            "16000:\tlearn: 0.1867455\ttest: 0.2169647\tbest: 0.2169645 (15996)\ttotal: 8m 47s\tremaining: 5m 29s\n",
            "16500:\tlearn: 0.1859053\ttest: 0.2168983\tbest: 0.2168983 (16493)\ttotal: 9m 3s\tremaining: 5m 12s\n",
            "17000:\tlearn: 0.1850655\ttest: 0.2168495\tbest: 0.2168489 (16999)\ttotal: 9m 19s\tremaining: 4m 56s\n",
            "17500:\tlearn: 0.1842330\ttest: 0.2168249\tbest: 0.2168242 (17406)\ttotal: 9m 36s\tremaining: 4m 39s\n",
            "18000:\tlearn: 0.1834204\ttest: 0.2167610\tbest: 0.2167610 (18000)\ttotal: 9m 52s\tremaining: 4m 23s\n",
            "18500:\tlearn: 0.1825825\ttest: 0.2167267\tbest: 0.2167266 (18492)\ttotal: 10m 8s\tremaining: 4m 6s\n",
            "19000:\tlearn: 0.1817663\ttest: 0.2166960\tbest: 0.2166951 (18998)\ttotal: 10m 25s\tremaining: 3m 50s\n",
            "19500:\tlearn: 0.1809512\ttest: 0.2166687\tbest: 0.2166673 (19489)\ttotal: 10m 41s\tremaining: 3m 33s\n",
            "20000:\tlearn: 0.1801477\ttest: 0.2166448\tbest: 0.2166442 (19997)\ttotal: 10m 57s\tremaining: 3m 17s\n",
            "20500:\tlearn: 0.1793555\ttest: 0.2166271\tbest: 0.2166233 (20461)\ttotal: 11m 14s\tremaining: 3m\n",
            "21000:\tlearn: 0.1785894\ttest: 0.2165828\tbest: 0.2165823 (20966)\ttotal: 11m 30s\tremaining: 2m 44s\n",
            "21500:\tlearn: 0.1777875\ttest: 0.2165588\tbest: 0.2165583 (21498)\ttotal: 11m 46s\tremaining: 2m 27s\n",
            "22000:\tlearn: 0.1770111\ttest: 0.2165247\tbest: 0.2165217 (21983)\ttotal: 12m 3s\tremaining: 2m 11s\n",
            "22500:\tlearn: 0.1762315\ttest: 0.2164890\tbest: 0.2164890 (22496)\ttotal: 12m 20s\tremaining: 1m 55s\n",
            "23000:\tlearn: 0.1754576\ttest: 0.2164601\tbest: 0.2164592 (22990)\ttotal: 12m 36s\tremaining: 1m 38s\n",
            "23500:\tlearn: 0.1746930\ttest: 0.2164336\tbest: 0.2164330 (23489)\ttotal: 12m 52s\tremaining: 1m 22s\n",
            "24000:\tlearn: 0.1739294\ttest: 0.2164027\tbest: 0.2163999 (23953)\ttotal: 13m 9s\tremaining: 1m 5s\n",
            "24500:\tlearn: 0.1731847\ttest: 0.2163912\tbest: 0.2163911 (24499)\ttotal: 13m 25s\tremaining: 49.3s\n",
            "25000:\tlearn: 0.1724224\ttest: 0.2163809\tbest: 0.2163777 (24904)\ttotal: 13m 42s\tremaining: 32.8s\n",
            "25500:\tlearn: 0.1716462\ttest: 0.2163803\tbest: 0.2163736 (25379)\ttotal: 13m 58s\tremaining: 16.4s\n",
            "25999:\tlearn: 0.1709135\ttest: 0.2163636\tbest: 0.2163636 (25999)\ttotal: 14m 14s\tremaining: 0us\n",
            "bestTest = 0.2163636393\n",
            "bestIteration = 25999\n",
            "Amex Metric = 0.7968639879845967 \n",
            "\n",
            "#########################\n",
            "### Fold 2\n",
            "### Train size 367130 Valid size 91783\n",
            "### Training with 100% fold data...\n",
            "#########################\n",
            "0:\tlearn: 0.6803210\ttest: 0.6803373\tbest: 0.6803373 (0)\ttotal: 42.4ms\tremaining: 18m 22s\n",
            "500:\tlearn: 0.2306049\ttest: 0.2322217\tbest: 0.2322217 (500)\ttotal: 18.4s\tremaining: 15m 38s\n",
            "1000:\tlearn: 0.2230896\ttest: 0.2259152\tbest: 0.2259152 (1000)\ttotal: 36s\tremaining: 14m 58s\n",
            "1500:\tlearn: 0.2192895\ttest: 0.2233053\tbest: 0.2233053 (1500)\ttotal: 53.4s\tremaining: 14m 32s\n",
            "2000:\tlearn: 0.2166571\ttest: 0.2219115\tbest: 0.2219115 (2000)\ttotal: 1m 10s\tremaining: 14m 8s\n",
            "2500:\tlearn: 0.2146358\ttest: 0.2210191\tbest: 0.2210191 (2500)\ttotal: 1m 27s\tremaining: 13m 45s\n",
            "3000:\tlearn: 0.2130052\ttest: 0.2204526\tbest: 0.2204526 (3000)\ttotal: 1m 44s\tremaining: 13m 21s\n",
            "3500:\tlearn: 0.2114935\ttest: 0.2199941\tbest: 0.2199941 (3500)\ttotal: 2m 1s\tremaining: 12m 58s\n",
            "4000:\tlearn: 0.2101056\ttest: 0.2196495\tbest: 0.2196495 (4000)\ttotal: 2m 17s\tremaining: 12m 37s\n",
            "4500:\tlearn: 0.2088479\ttest: 0.2193680\tbest: 0.2193680 (4500)\ttotal: 2m 33s\tremaining: 12m 14s\n",
            "5000:\tlearn: 0.2076567\ttest: 0.2191287\tbest: 0.2191287 (5000)\ttotal: 2m 50s\tremaining: 11m 54s\n",
            "5500:\tlearn: 0.2064807\ttest: 0.2189047\tbest: 0.2189043 (5499)\ttotal: 3m 6s\tremaining: 11m 34s\n",
            "6000:\tlearn: 0.2053887\ttest: 0.2187086\tbest: 0.2187086 (6000)\ttotal: 3m 22s\tremaining: 11m 16s\n",
            "6500:\tlearn: 0.2043198\ttest: 0.2185374\tbest: 0.2185371 (6498)\ttotal: 3m 39s\tremaining: 10m 57s\n",
            "7000:\tlearn: 0.2032536\ttest: 0.2183824\tbest: 0.2183824 (7000)\ttotal: 3m 55s\tremaining: 10m 39s\n",
            "7500:\tlearn: 0.2022074\ttest: 0.2182300\tbest: 0.2182289 (7492)\ttotal: 4m 12s\tremaining: 10m 21s\n",
            "8000:\tlearn: 0.2011909\ttest: 0.2181143\tbest: 0.2181143 (8000)\ttotal: 4m 28s\tremaining: 10m 3s\n",
            "8500:\tlearn: 0.2002060\ttest: 0.2180026\tbest: 0.2180023 (8499)\ttotal: 4m 44s\tremaining: 9m 45s\n",
            "9000:\tlearn: 0.1992413\ttest: 0.2179200\tbest: 0.2179187 (8993)\ttotal: 5m\tremaining: 9m 28s\n",
            "9500:\tlearn: 0.1982505\ttest: 0.2178044\tbest: 0.2178037 (9495)\ttotal: 5m 17s\tremaining: 9m 10s\n",
            "10000:\tlearn: 0.1973152\ttest: 0.2177090\tbest: 0.2177090 (10000)\ttotal: 5m 33s\tremaining: 8m 53s\n",
            "10500:\tlearn: 0.1963613\ttest: 0.2176074\tbest: 0.2176073 (10491)\ttotal: 5m 49s\tremaining: 8m 36s\n",
            "11000:\tlearn: 0.1954096\ttest: 0.2175133\tbest: 0.2175127 (10997)\ttotal: 6m 6s\tremaining: 8m 19s\n",
            "11500:\tlearn: 0.1944998\ttest: 0.2174335\tbest: 0.2174316 (11487)\ttotal: 6m 22s\tremaining: 8m 2s\n",
            "12000:\tlearn: 0.1936117\ttest: 0.2173553\tbest: 0.2173551 (11997)\ttotal: 6m 38s\tremaining: 7m 45s\n",
            "12500:\tlearn: 0.1927065\ttest: 0.2172823\tbest: 0.2172823 (12500)\ttotal: 6m 55s\tremaining: 7m 28s\n",
            "13000:\tlearn: 0.1918288\ttest: 0.2172196\tbest: 0.2172185 (12972)\ttotal: 7m 11s\tremaining: 7m 11s\n",
            "13500:\tlearn: 0.1909274\ttest: 0.2171535\tbest: 0.2171521 (13493)\ttotal: 7m 27s\tremaining: 6m 54s\n",
            "14000:\tlearn: 0.1900525\ttest: 0.2170913\tbest: 0.2170894 (13992)\ttotal: 7m 44s\tremaining: 6m 37s\n",
            "14500:\tlearn: 0.1892218\ttest: 0.2170488\tbest: 0.2170487 (14499)\ttotal: 8m\tremaining: 6m 20s\n",
            "15000:\tlearn: 0.1883721\ttest: 0.2169885\tbest: 0.2169884 (14995)\ttotal: 8m 16s\tremaining: 6m 3s\n",
            "15500:\tlearn: 0.1875082\ttest: 0.2169421\tbest: 0.2169408 (15490)\ttotal: 8m 32s\tremaining: 5m 47s\n",
            "16000:\tlearn: 0.1866740\ttest: 0.2168986\tbest: 0.2168973 (15968)\ttotal: 8m 48s\tremaining: 5m 30s\n",
            "16500:\tlearn: 0.1858558\ttest: 0.2168491\tbest: 0.2168485 (16498)\ttotal: 9m 5s\tremaining: 5m 13s\n",
            "17000:\tlearn: 0.1850214\ttest: 0.2168023\tbest: 0.2168023 (17000)\ttotal: 9m 21s\tremaining: 4m 57s\n",
            "17500:\tlearn: 0.1841994\ttest: 0.2167608\tbest: 0.2167594 (17489)\ttotal: 9m 37s\tremaining: 4m 40s\n",
            "18000:\tlearn: 0.1833732\ttest: 0.2167229\tbest: 0.2167208 (17954)\ttotal: 9m 54s\tremaining: 4m 24s\n",
            "18500:\tlearn: 0.1825579\ttest: 0.2166813\tbest: 0.2166799 (18469)\ttotal: 10m 10s\tremaining: 4m 7s\n",
            "19000:\tlearn: 0.1817597\ttest: 0.2166324\tbest: 0.2166303 (18981)\ttotal: 10m 26s\tremaining: 3m 50s\n",
            "19500:\tlearn: 0.1809634\ttest: 0.2165909\tbest: 0.2165906 (19492)\ttotal: 10m 43s\tremaining: 3m 34s\n",
            "20000:\tlearn: 0.1801832\ttest: 0.2165788\tbest: 0.2165787 (19999)\ttotal: 10m 59s\tremaining: 3m 17s\n",
            "20500:\tlearn: 0.1793939\ttest: 0.2165283\tbest: 0.2165281 (20497)\ttotal: 11m 16s\tremaining: 3m 1s\n",
            "21000:\tlearn: 0.1786050\ttest: 0.2165072\tbest: 0.2165044 (20973)\ttotal: 11m 32s\tremaining: 2m 44s\n",
            "21500:\tlearn: 0.1778151\ttest: 0.2164828\tbest: 0.2164810 (21453)\ttotal: 11m 48s\tremaining: 2m 28s\n",
            "22000:\tlearn: 0.1770388\ttest: 0.2164606\tbest: 0.2164594 (21957)\ttotal: 12m 5s\tremaining: 2m 11s\n",
            "22500:\tlearn: 0.1762615\ttest: 0.2164300\tbest: 0.2164296 (22496)\ttotal: 12m 21s\tremaining: 1m 55s\n",
            "23000:\tlearn: 0.1755067\ttest: 0.2163989\tbest: 0.2163971 (22970)\ttotal: 12m 38s\tremaining: 1m 38s\n",
            "23500:\tlearn: 0.1747720\ttest: 0.2163776\tbest: 0.2163775 (23496)\ttotal: 12m 54s\tremaining: 1m 22s\n",
            "24000:\tlearn: 0.1740171\ttest: 0.2163685\tbest: 0.2163648 (23915)\ttotal: 13m 10s\tremaining: 1m 5s\n",
            "24500:\tlearn: 0.1732602\ttest: 0.2163622\tbest: 0.2163575 (24458)\ttotal: 13m 27s\tremaining: 49.4s\n",
            "25000:\tlearn: 0.1725124\ttest: 0.2163470\tbest: 0.2163463 (24997)\ttotal: 13m 43s\tremaining: 32.9s\n",
            "25500:\tlearn: 0.1717639\ttest: 0.2163351\tbest: 0.2163335 (25489)\ttotal: 13m 59s\tremaining: 16.4s\n",
            "25999:\tlearn: 0.1710198\ttest: 0.2163238\tbest: 0.2163207 (25867)\ttotal: 14m 16s\tremaining: 0us\n",
            "bestTest = 0.2163207179\n",
            "bestIteration = 25867\n",
            "Shrink model to first 25868 iterations.\n",
            "Amex Metric = 0.7940059244088296 \n",
            "\n",
            "#########################\n",
            "### Fold 3\n",
            "### Train size 367130 Valid size 91783\n",
            "### Training with 100% fold data...\n",
            "#########################\n",
            "0:\tlearn: 0.6806674\ttest: 0.6806214\tbest: 0.6806214 (0)\ttotal: 43.4ms\tremaining: 18m 47s\n",
            "500:\tlearn: 0.2314359\ttest: 0.2296833\tbest: 0.2296833 (500)\ttotal: 18.4s\tremaining: 15m 35s\n",
            "1000:\tlearn: 0.2238488\ttest: 0.2232617\tbest: 0.2232617 (1000)\ttotal: 35.8s\tremaining: 14m 54s\n",
            "1500:\tlearn: 0.2199975\ttest: 0.2206333\tbest: 0.2206333 (1500)\ttotal: 53.3s\tremaining: 14m 29s\n",
            "2000:\tlearn: 0.2173434\ttest: 0.2192201\tbest: 0.2192201 (2000)\ttotal: 1m 10s\tremaining: 14m 5s\n",
            "2500:\tlearn: 0.2153384\ttest: 0.2183698\tbest: 0.2183698 (2500)\ttotal: 1m 27s\tremaining: 13m 41s\n",
            "3000:\tlearn: 0.2136692\ttest: 0.2177838\tbest: 0.2177838 (3000)\ttotal: 1m 44s\tremaining: 13m 17s\n",
            "3500:\tlearn: 0.2121390\ttest: 0.2173158\tbest: 0.2173158 (3500)\ttotal: 2m\tremaining: 12m 57s\n",
            "4000:\tlearn: 0.2107307\ttest: 0.2169579\tbest: 0.2169579 (4000)\ttotal: 2m 17s\tremaining: 12m 36s\n",
            "4500:\tlearn: 0.2094683\ttest: 0.2166629\tbest: 0.2166629 (4500)\ttotal: 2m 33s\tremaining: 12m 15s\n",
            "5000:\tlearn: 0.2082774\ttest: 0.2163968\tbest: 0.2163964 (4996)\ttotal: 2m 50s\tremaining: 11m 54s\n",
            "5500:\tlearn: 0.2071103\ttest: 0.2161721\tbest: 0.2161721 (5500)\ttotal: 3m 6s\tremaining: 11m 36s\n",
            "6000:\tlearn: 0.2059701\ttest: 0.2159743\tbest: 0.2159737 (5997)\ttotal: 3m 23s\tremaining: 11m 17s\n",
            "6500:\tlearn: 0.2049218\ttest: 0.2157913\tbest: 0.2157910 (6497)\ttotal: 3m 39s\tremaining: 10m 58s\n",
            "7000:\tlearn: 0.2038918\ttest: 0.2156422\tbest: 0.2156422 (7000)\ttotal: 3m 55s\tremaining: 10m 39s\n",
            "7500:\tlearn: 0.2028810\ttest: 0.2154922\tbest: 0.2154921 (7496)\ttotal: 4m 11s\tremaining: 10m 20s\n",
            "8000:\tlearn: 0.2018934\ttest: 0.2153661\tbest: 0.2153661 (8000)\ttotal: 4m 28s\tremaining: 10m 2s\n",
            "8500:\tlearn: 0.2009154\ttest: 0.2152550\tbest: 0.2152550 (8500)\ttotal: 4m 44s\tremaining: 9m 45s\n",
            "9000:\tlearn: 0.1999764\ttest: 0.2151551\tbest: 0.2151551 (9000)\ttotal: 5m\tremaining: 9m 27s\n",
            "9500:\tlearn: 0.1990250\ttest: 0.2150410\tbest: 0.2150410 (9500)\ttotal: 5m 16s\tremaining: 9m 9s\n",
            "10000:\tlearn: 0.1980811\ttest: 0.2149504\tbest: 0.2149504 (10000)\ttotal: 5m 32s\tremaining: 8m 52s\n",
            "10500:\tlearn: 0.1971470\ttest: 0.2148522\tbest: 0.2148504 (10493)\ttotal: 5m 49s\tremaining: 8m 35s\n",
            "11000:\tlearn: 0.1962074\ttest: 0.2147685\tbest: 0.2147681 (10999)\ttotal: 6m 5s\tremaining: 8m 18s\n",
            "11500:\tlearn: 0.1952999\ttest: 0.2146824\tbest: 0.2146824 (11500)\ttotal: 6m 21s\tremaining: 8m 1s\n",
            "12000:\tlearn: 0.1944184\ttest: 0.2145845\tbest: 0.2145838 (11999)\ttotal: 6m 37s\tremaining: 7m 43s\n",
            "12500:\tlearn: 0.1935207\ttest: 0.2145053\tbest: 0.2145053 (12499)\ttotal: 6m 53s\tremaining: 7m 26s\n",
            "13000:\tlearn: 0.1926430\ttest: 0.2144430\tbest: 0.2144430 (13000)\ttotal: 7m 10s\tremaining: 7m 9s\n",
            "13500:\tlearn: 0.1917727\ttest: 0.2143651\tbest: 0.2143649 (13483)\ttotal: 7m 26s\tremaining: 6m 53s\n",
            "14000:\tlearn: 0.1909164\ttest: 0.2143064\tbest: 0.2143050 (13994)\ttotal: 7m 42s\tremaining: 6m 36s\n",
            "14500:\tlearn: 0.1900877\ttest: 0.2142311\tbest: 0.2142310 (14498)\ttotal: 7m 58s\tremaining: 6m 19s\n",
            "15000:\tlearn: 0.1892495\ttest: 0.2141658\tbest: 0.2141641 (14982)\ttotal: 8m 14s\tremaining: 6m 2s\n",
            "15500:\tlearn: 0.1884137\ttest: 0.2141211\tbest: 0.2141207 (15498)\ttotal: 8m 31s\tremaining: 5m 46s\n",
            "16000:\tlearn: 0.1875881\ttest: 0.2140619\tbest: 0.2140610 (15994)\ttotal: 8m 47s\tremaining: 5m 29s\n",
            "16500:\tlearn: 0.1867661\ttest: 0.2140110\tbest: 0.2140098 (16486)\ttotal: 9m 3s\tremaining: 5m 13s\n",
            "17000:\tlearn: 0.1859475\ttest: 0.2139614\tbest: 0.2139609 (16960)\ttotal: 9m 20s\tremaining: 4m 56s\n",
            "17500:\tlearn: 0.1851314\ttest: 0.2139323\tbest: 0.2139315 (17497)\ttotal: 9m 36s\tremaining: 4m 39s\n",
            "18000:\tlearn: 0.1843250\ttest: 0.2138904\tbest: 0.2138904 (18000)\ttotal: 9m 52s\tremaining: 4m 23s\n",
            "18500:\tlearn: 0.1835081\ttest: 0.2138531\tbest: 0.2138519 (18490)\ttotal: 10m 8s\tremaining: 4m 6s\n",
            "19000:\tlearn: 0.1827134\ttest: 0.2138095\tbest: 0.2138089 (18998)\ttotal: 10m 25s\tremaining: 3m 50s\n",
            "19500:\tlearn: 0.1819212\ttest: 0.2137549\tbest: 0.2137528 (19479)\ttotal: 10m 41s\tremaining: 3m 33s\n",
            "20000:\tlearn: 0.1811471\ttest: 0.2137306\tbest: 0.2137292 (19994)\ttotal: 10m 57s\tremaining: 3m 17s\n",
            "20500:\tlearn: 0.1803566\ttest: 0.2137044\tbest: 0.2137007 (20489)\ttotal: 11m 13s\tremaining: 3m\n",
            "21000:\tlearn: 0.1795588\ttest: 0.2136649\tbest: 0.2136629 (20988)\ttotal: 11m 30s\tremaining: 2m 44s\n",
            "21500:\tlearn: 0.1788059\ttest: 0.2136270\tbest: 0.2136270 (21500)\ttotal: 11m 46s\tremaining: 2m 27s\n",
            "22000:\tlearn: 0.1780133\ttest: 0.2135917\tbest: 0.2135905 (21975)\ttotal: 12m 3s\tremaining: 2m 11s\n",
            "22500:\tlearn: 0.1772342\ttest: 0.2135496\tbest: 0.2135496 (22500)\ttotal: 12m 19s\tremaining: 1m 54s\n",
            "23000:\tlearn: 0.1764637\ttest: 0.2135198\tbest: 0.2135173 (22979)\ttotal: 12m 35s\tremaining: 1m 38s\n",
            "23500:\tlearn: 0.1756730\ttest: 0.2134890\tbest: 0.2134886 (23498)\ttotal: 12m 52s\tremaining: 1m 22s\n",
            "24000:\tlearn: 0.1749197\ttest: 0.2134596\tbest: 0.2134589 (23990)\ttotal: 13m 8s\tremaining: 1m 5s\n",
            "24500:\tlearn: 0.1741737\ttest: 0.2134420\tbest: 0.2134398 (24485)\ttotal: 13m 25s\tremaining: 49.3s\n",
            "25000:\tlearn: 0.1734418\ttest: 0.2133976\tbest: 0.2133955 (24990)\ttotal: 13m 41s\tremaining: 32.8s\n",
            "25500:\tlearn: 0.1727110\ttest: 0.2133658\tbest: 0.2133658 (25500)\ttotal: 13m 57s\tremaining: 16.4s\n",
            "25999:\tlearn: 0.1719930\ttest: 0.2133359\tbest: 0.2133349 (25993)\ttotal: 14m 14s\tremaining: 0us\n",
            "bestTest = 0.2133349262\n",
            "bestIteration = 25993\n",
            "Shrink model to first 25994 iterations.\n",
            "Amex Metric = 0.7983793769434564 \n",
            "\n",
            "#########################\n",
            "### Fold 4\n",
            "### Train size 367131 Valid size 91782\n",
            "### Training with 100% fold data...\n",
            "#########################\n",
            "0:\tlearn: 0.6803206\ttest: 0.6803488\tbest: 0.6803488 (0)\ttotal: 43.2ms\tremaining: 18m 43s\n",
            "500:\tlearn: 0.2305529\ttest: 0.2329996\tbest: 0.2329996 (500)\ttotal: 18.3s\tremaining: 15m 28s\n",
            "1000:\tlearn: 0.2230438\ttest: 0.2266083\tbest: 0.2266083 (1000)\ttotal: 35.7s\tremaining: 14m 52s\n",
            "1500:\tlearn: 0.2192315\ttest: 0.2239470\tbest: 0.2239470 (1500)\ttotal: 53.1s\tremaining: 14m 27s\n",
            "2000:\tlearn: 0.2166430\ttest: 0.2225353\tbest: 0.2225353 (2000)\ttotal: 1m 10s\tremaining: 14m 2s\n",
            "2500:\tlearn: 0.2146249\ttest: 0.2216590\tbest: 0.2216590 (2500)\ttotal: 1m 27s\tremaining: 13m 39s\n",
            "3000:\tlearn: 0.2129712\ttest: 0.2210424\tbest: 0.2210424 (3000)\ttotal: 1m 43s\tremaining: 13m 15s\n",
            "3500:\tlearn: 0.2114825\ttest: 0.2206122\tbest: 0.2206122 (3500)\ttotal: 2m\tremaining: 12m 52s\n",
            "4000:\tlearn: 0.2101198\ttest: 0.2202389\tbest: 0.2202387 (3998)\ttotal: 2m 16s\tremaining: 12m 30s\n",
            "4500:\tlearn: 0.2088955\ttest: 0.2199469\tbest: 0.2199469 (4500)\ttotal: 2m 32s\tremaining: 12m 9s\n",
            "5000:\tlearn: 0.2077069\ttest: 0.2197077\tbest: 0.2197076 (4999)\ttotal: 2m 49s\tremaining: 11m 50s\n",
            "5500:\tlearn: 0.2065689\ttest: 0.2194880\tbest: 0.2194880 (5500)\ttotal: 3m 5s\tremaining: 11m 30s\n",
            "6000:\tlearn: 0.2054491\ttest: 0.2192945\tbest: 0.2192945 (6000)\ttotal: 3m 21s\tremaining: 11m 11s\n",
            "6500:\tlearn: 0.2043820\ttest: 0.2190998\tbest: 0.2190995 (6498)\ttotal: 3m 37s\tremaining: 10m 53s\n",
            "7000:\tlearn: 0.2032980\ttest: 0.2189324\tbest: 0.2189322 (6999)\ttotal: 3m 54s\tremaining: 10m 35s\n",
            "7500:\tlearn: 0.2022897\ttest: 0.2187984\tbest: 0.2187984 (7500)\ttotal: 4m 10s\tremaining: 10m 17s\n",
            "8000:\tlearn: 0.2012647\ttest: 0.2186643\tbest: 0.2186640 (7994)\ttotal: 4m 26s\tremaining: 9m 59s\n",
            "8500:\tlearn: 0.2002562\ttest: 0.2185417\tbest: 0.2185417 (8500)\ttotal: 4m 42s\tremaining: 9m 41s\n",
            "9000:\tlearn: 0.1992731\ttest: 0.2184234\tbest: 0.2184234 (8999)\ttotal: 4m 58s\tremaining: 9m 24s\n",
            "9500:\tlearn: 0.1982886\ttest: 0.2182965\tbest: 0.2182965 (9500)\ttotal: 5m 15s\tremaining: 9m 7s\n",
            "10000:\tlearn: 0.1973296\ttest: 0.2181964\tbest: 0.2181950 (9999)\ttotal: 5m 31s\tremaining: 8m 50s\n",
            "10500:\tlearn: 0.1963907\ttest: 0.2181052\tbest: 0.2181047 (10494)\ttotal: 5m 47s\tremaining: 8m 32s\n",
            "11000:\tlearn: 0.1954801\ttest: 0.2180226\tbest: 0.2180211 (10972)\ttotal: 6m 3s\tremaining: 8m 15s\n",
            "11500:\tlearn: 0.1945894\ttest: 0.2179516\tbest: 0.2179516 (11500)\ttotal: 6m 19s\tremaining: 7m 58s\n",
            "12000:\tlearn: 0.1936657\ttest: 0.2178797\tbest: 0.2178775 (11972)\ttotal: 6m 35s\tremaining: 7m 41s\n",
            "12500:\tlearn: 0.1927655\ttest: 0.2178030\tbest: 0.2178028 (12494)\ttotal: 6m 52s\tremaining: 7m 25s\n",
            "13000:\tlearn: 0.1918847\ttest: 0.2177381\tbest: 0.2177371 (12981)\ttotal: 7m 8s\tremaining: 7m 8s\n",
            "13500:\tlearn: 0.1910161\ttest: 0.2176817\tbest: 0.2176814 (13486)\ttotal: 7m 24s\tremaining: 6m 51s\n",
            "14000:\tlearn: 0.1901470\ttest: 0.2176213\tbest: 0.2176202 (13994)\ttotal: 7m 40s\tremaining: 6m 34s\n",
            "14500:\tlearn: 0.1892979\ttest: 0.2175432\tbest: 0.2175432 (14500)\ttotal: 7m 57s\tremaining: 6m 18s\n",
            "15000:\tlearn: 0.1884540\ttest: 0.2174956\tbest: 0.2174954 (14999)\ttotal: 8m 13s\tremaining: 6m 1s\n",
            "15500:\tlearn: 0.1876134\ttest: 0.2174323\tbest: 0.2174322 (15497)\ttotal: 8m 29s\tremaining: 5m 45s\n",
            "16000:\tlearn: 0.1867602\ttest: 0.2173687\tbest: 0.2173684 (15999)\ttotal: 8m 45s\tremaining: 5m 28s\n",
            "16500:\tlearn: 0.1859358\ttest: 0.2173260\tbest: 0.2173250 (16498)\ttotal: 9m 1s\tremaining: 5m 11s\n",
            "17000:\tlearn: 0.1851047\ttest: 0.2172793\tbest: 0.2172774 (16951)\ttotal: 9m 17s\tremaining: 4m 55s\n",
            "17500:\tlearn: 0.1843079\ttest: 0.2172382\tbest: 0.2172382 (17500)\ttotal: 9m 33s\tremaining: 4m 38s\n",
            "18000:\tlearn: 0.1834980\ttest: 0.2171992\tbest: 0.2171986 (17996)\ttotal: 9m 50s\tremaining: 4m 22s\n",
            "18500:\tlearn: 0.1826846\ttest: 0.2171638\tbest: 0.2171609 (18480)\ttotal: 10m 6s\tremaining: 4m 5s\n",
            "19000:\tlearn: 0.1818829\ttest: 0.2171309\tbest: 0.2171306 (18999)\ttotal: 10m 22s\tremaining: 3m 49s\n",
            "19500:\tlearn: 0.1810693\ttest: 0.2171010\tbest: 0.2171006 (19494)\ttotal: 10m 38s\tremaining: 3m 32s\n",
            "20000:\tlearn: 0.1802913\ttest: 0.2170837\tbest: 0.2170836 (19994)\ttotal: 10m 54s\tremaining: 3m 16s\n",
            "20500:\tlearn: 0.1794897\ttest: 0.2170561\tbest: 0.2170557 (20492)\ttotal: 11m 10s\tremaining: 2m 59s\n",
            "21000:\tlearn: 0.1786887\ttest: 0.2170370\tbest: 0.2170365 (20988)\ttotal: 11m 27s\tremaining: 2m 43s\n",
            "21500:\tlearn: 0.1779132\ttest: 0.2170273\tbest: 0.2170259 (21442)\ttotal: 11m 43s\tremaining: 2m 27s\n",
            "22000:\tlearn: 0.1771518\ttest: 0.2169991\tbest: 0.2169961 (21904)\ttotal: 12m\tremaining: 2m 10s\n",
            "22500:\tlearn: 0.1764093\ttest: 0.2169796\tbest: 0.2169745 (22449)\ttotal: 12m 16s\tremaining: 1m 54s\n",
            "23000:\tlearn: 0.1756426\ttest: 0.2169611\tbest: 0.2169599 (22925)\ttotal: 12m 32s\tremaining: 1m 38s\n",
            "23500:\tlearn: 0.1748974\ttest: 0.2169481\tbest: 0.2169470 (23476)\ttotal: 12m 48s\tremaining: 1m 21s\n",
            "24000:\tlearn: 0.1741512\ttest: 0.2169081\tbest: 0.2169081 (24000)\ttotal: 13m 5s\tremaining: 1m 5s\n",
            "24500:\tlearn: 0.1734305\ttest: 0.2168789\tbest: 0.2168768 (24477)\ttotal: 13m 21s\tremaining: 49s\n",
            "25000:\tlearn: 0.1727183\ttest: 0.2168613\tbest: 0.2168607 (24998)\ttotal: 13m 37s\tremaining: 32.7s\n",
            "25500:\tlearn: 0.1719943\ttest: 0.2168404\tbest: 0.2168396 (25479)\ttotal: 13m 53s\tremaining: 16.3s\n",
            "25999:\tlearn: 0.1712520\ttest: 0.2168160\tbest: 0.2168129 (25927)\ttotal: 14m 10s\tremaining: 0us\n",
            "bestTest = 0.2168129414\n",
            "bestIteration = 25927\n",
            "Shrink model to first 25928 iterations.\n",
            "Amex Metric = 0.7903626577167824 \n",
            "\n",
            "#########################\n",
            "### Fold 5\n",
            "### Train size 367131 Valid size 91782\n",
            "### Training with 100% fold data...\n",
            "#########################\n",
            "0:\tlearn: 0.6806329\ttest: 0.6806983\tbest: 0.6806983 (0)\ttotal: 42.9ms\tremaining: 18m 36s\n",
            "500:\tlearn: 0.2302513\ttest: 0.2340932\tbest: 0.2340932 (500)\ttotal: 18.4s\tremaining: 15m 38s\n",
            "1000:\tlearn: 0.2227305\ttest: 0.2277609\tbest: 0.2277609 (1000)\ttotal: 36s\tremaining: 14m 58s\n",
            "1500:\tlearn: 0.2188890\ttest: 0.2251462\tbest: 0.2251462 (1500)\ttotal: 53.5s\tremaining: 14m 32s\n",
            "2000:\tlearn: 0.2162721\ttest: 0.2237573\tbest: 0.2237573 (2000)\ttotal: 1m 10s\tremaining: 14m 8s\n",
            "2500:\tlearn: 0.2143197\ttest: 0.2228919\tbest: 0.2228919 (2500)\ttotal: 1m 27s\tremaining: 13m 41s\n",
            "3000:\tlearn: 0.2126584\ttest: 0.2223202\tbest: 0.2223201 (2999)\ttotal: 1m 43s\tremaining: 13m 16s\n",
            "3500:\tlearn: 0.2112058\ttest: 0.2218754\tbest: 0.2218754 (3500)\ttotal: 2m\tremaining: 12m 52s\n",
            "4000:\tlearn: 0.2098490\ttest: 0.2215213\tbest: 0.2215213 (4000)\ttotal: 2m 16s\tremaining: 12m 30s\n",
            "4500:\tlearn: 0.2085855\ttest: 0.2212305\tbest: 0.2212304 (4499)\ttotal: 2m 32s\tremaining: 12m 10s\n",
            "5000:\tlearn: 0.2073511\ttest: 0.2209441\tbest: 0.2209440 (4999)\ttotal: 2m 49s\tremaining: 11m 50s\n",
            "5500:\tlearn: 0.2062188\ttest: 0.2207350\tbest: 0.2207350 (5500)\ttotal: 3m 5s\tremaining: 11m 31s\n",
            "6000:\tlearn: 0.2051010\ttest: 0.2205359\tbest: 0.2205359 (6000)\ttotal: 3m 21s\tremaining: 11m 12s\n",
            "6500:\tlearn: 0.2040217\ttest: 0.2203623\tbest: 0.2203623 (6500)\ttotal: 3m 38s\tremaining: 10m 54s\n",
            "7000:\tlearn: 0.2030068\ttest: 0.2202039\tbest: 0.2202039 (7000)\ttotal: 3m 54s\tremaining: 10m 35s\n",
            "7500:\tlearn: 0.2019472\ttest: 0.2200700\tbest: 0.2200700 (7500)\ttotal: 4m 10s\tremaining: 10m 17s\n",
            "8000:\tlearn: 0.2009540\ttest: 0.2199211\tbest: 0.2199210 (7999)\ttotal: 4m 26s\tremaining: 9m 59s\n",
            "8500:\tlearn: 0.1999840\ttest: 0.2197895\tbest: 0.2197895 (8500)\ttotal: 4m 42s\tremaining: 9m 41s\n",
            "9000:\tlearn: 0.1990190\ttest: 0.2196689\tbest: 0.2196687 (8997)\ttotal: 4m 58s\tremaining: 9m 23s\n",
            "9500:\tlearn: 0.1980673\ttest: 0.2195705\tbest: 0.2195702 (9493)\ttotal: 5m 14s\tremaining: 9m 6s\n",
            "10000:\tlearn: 0.1971126\ttest: 0.2194844\tbest: 0.2194837 (9995)\ttotal: 5m 30s\tremaining: 8m 49s\n",
            "10500:\tlearn: 0.1961955\ttest: 0.2193880\tbest: 0.2193876 (10498)\ttotal: 5m 46s\tremaining: 8m 32s\n",
            "11000:\tlearn: 0.1953000\ttest: 0.2193025\tbest: 0.2193023 (10995)\ttotal: 6m 3s\tremaining: 8m 15s\n",
            "11500:\tlearn: 0.1944089\ttest: 0.2192161\tbest: 0.2192159 (11499)\ttotal: 6m 19s\tremaining: 7m 58s\n",
            "12000:\tlearn: 0.1935184\ttest: 0.2191373\tbest: 0.2191362 (11998)\ttotal: 6m 35s\tremaining: 7m 41s\n",
            "12500:\tlearn: 0.1926196\ttest: 0.2190632\tbest: 0.2190630 (12494)\ttotal: 6m 51s\tremaining: 7m 24s\n",
            "13000:\tlearn: 0.1917412\ttest: 0.2190045\tbest: 0.2190037 (12958)\ttotal: 7m 7s\tremaining: 7m 7s\n",
            "13500:\tlearn: 0.1908861\ttest: 0.2189308\tbest: 0.2189308 (13500)\ttotal: 7m 23s\tremaining: 6m 50s\n",
            "14000:\tlearn: 0.1900089\ttest: 0.2188605\tbest: 0.2188598 (13995)\ttotal: 7m 40s\tremaining: 6m 34s\n",
            "14500:\tlearn: 0.1891560\ttest: 0.2187932\tbest: 0.2187923 (14488)\ttotal: 7m 56s\tremaining: 6m 17s\n",
            "15000:\tlearn: 0.1883002\ttest: 0.2187595\tbest: 0.2187588 (14994)\ttotal: 8m 12s\tremaining: 6m 1s\n",
            "15500:\tlearn: 0.1874398\ttest: 0.2187182\tbest: 0.2187166 (15492)\ttotal: 8m 28s\tremaining: 5m 44s\n",
            "16000:\tlearn: 0.1865852\ttest: 0.2186651\tbest: 0.2186648 (15998)\ttotal: 8m 45s\tremaining: 5m 28s\n",
            "16500:\tlearn: 0.1857287\ttest: 0.2186140\tbest: 0.2186134 (16499)\ttotal: 9m 1s\tremaining: 5m 11s\n",
            "17000:\tlearn: 0.1849076\ttest: 0.2185693\tbest: 0.2185693 (16999)\ttotal: 9m 17s\tremaining: 4m 55s\n",
            "17500:\tlearn: 0.1840943\ttest: 0.2185269\tbest: 0.2185253 (17477)\ttotal: 9m 34s\tremaining: 4m 38s\n",
            "18000:\tlearn: 0.1833060\ttest: 0.2184950\tbest: 0.2184947 (17998)\ttotal: 9m 50s\tremaining: 4m 22s\n",
            "18500:\tlearn: 0.1824800\ttest: 0.2184588\tbest: 0.2184578 (18444)\ttotal: 10m 6s\tremaining: 4m 5s\n",
            "19000:\tlearn: 0.1816947\ttest: 0.2184123\tbest: 0.2184122 (18999)\ttotal: 10m 23s\tremaining: 3m 49s\n",
            "19500:\tlearn: 0.1809184\ttest: 0.2183653\tbest: 0.2183648 (19497)\ttotal: 10m 39s\tremaining: 3m 33s\n",
            "20000:\tlearn: 0.1801194\ttest: 0.2183212\tbest: 0.2183212 (20000)\ttotal: 10m 55s\tremaining: 3m 16s\n",
            "20500:\tlearn: 0.1793387\ttest: 0.2182680\tbest: 0.2182680 (20499)\ttotal: 11m 12s\tremaining: 3m\n",
            "21000:\tlearn: 0.1785328\ttest: 0.2182174\tbest: 0.2182158 (20972)\ttotal: 11m 28s\tremaining: 2m 43s\n",
            "21500:\tlearn: 0.1777541\ttest: 0.2181867\tbest: 0.2181860 (21493)\ttotal: 11m 44s\tremaining: 2m 27s\n",
            "22000:\tlearn: 0.1769655\ttest: 0.2181694\tbest: 0.2181685 (21996)\ttotal: 12m\tremaining: 2m 11s\n",
            "22500:\tlearn: 0.1762043\ttest: 0.2181451\tbest: 0.2181413 (22429)\ttotal: 12m 17s\tremaining: 1m 54s\n",
            "23000:\tlearn: 0.1754072\ttest: 0.2181136\tbest: 0.2181080 (22901)\ttotal: 12m 33s\tremaining: 1m 38s\n",
            "23500:\tlearn: 0.1746576\ttest: 0.2180783\tbest: 0.2180751 (23427)\ttotal: 12m 49s\tremaining: 1m 21s\n",
            "24000:\tlearn: 0.1739048\ttest: 0.2180376\tbest: 0.2180374 (23999)\ttotal: 13m 6s\tremaining: 1m 5s\n",
            "24500:\tlearn: 0.1731126\ttest: 0.2180004\tbest: 0.2179992 (24471)\ttotal: 13m 22s\tremaining: 49.1s\n",
            "25000:\tlearn: 0.1723769\ttest: 0.2179846\tbest: 0.2179842 (24987)\ttotal: 13m 39s\tremaining: 32.7s\n",
            "25500:\tlearn: 0.1716330\ttest: 0.2179707\tbest: 0.2179673 (25439)\ttotal: 13m 55s\tremaining: 16.4s\n",
            "25999:\tlearn: 0.1708782\ttest: 0.2179460\tbest: 0.2179433 (25978)\ttotal: 14m 12s\tremaining: 0us\n",
            "bestTest = 0.2179433161\n",
            "bestIteration = 25978\n",
            "Shrink model to first 25979 iterations.\n",
            "Amex Metric = 0.7945773485456235 \n",
            "\n",
            "#########################\n",
            "Overall Amex metric: 0.7945752505004069\n"
          ]
        }
      ],
      "source": [
        "importances = []\n",
        "oof = []\n",
        "gc.collect()\n",
        "\n",
        "clf = CatBoostClassifier(**cat_params)\n",
        "skf = KFold(n_splits=FOLDS, shuffle=True, random_state=SEED)\n",
        "for fold,(train_idx, valid_idx) in enumerate(skf.split(train, train.target)):\n",
        "    print('#'*25)\n",
        "    print('### Fold',fold+1)\n",
        "    print('### Train size',len(train_idx),'Valid size',len(valid_idx))\n",
        "    print(f'### Training with 100% fold data...')\n",
        "    print('#'*25)\n",
        "    \n",
        "    # TRAIN, VALID, TEST FOR FOLD K\n",
        "    X_train = train.loc[train_idx, FEATURES]\n",
        "    X_valid = train.target.iloc[train_idx]\n",
        "    y_train = train.loc[valid_idx, FEATURES]\n",
        "    y_valid = train.target.iloc[valid_idx]\n",
        "    \n",
        "    # TRAIN MODEL FOLD K\n",
        "    model = clf.fit(X_train,\n",
        "                    X_valid,\n",
        "                    cat_features=cat_features_last,\n",
        "                    eval_set=[(y_train, y_valid)],\n",
        "                    use_best_model=True,\n",
        "                    early_stopping_rounds=500,\n",
        "                    verbose_eval=1000)\n",
        "    model.save_model(f'CAT_v{VER}_fold{fold}.cbm')\n",
        "    \n",
        "    # GET FEATURE IMPORTANCE FOR FOLD K\n",
        "    dd = model.feature_importances_\n",
        "    df = pd.DataFrame({'feature':FEATURES,f'importance_{fold}':dd})\n",
        "    importances.append(df)\n",
        "            \n",
        "    # INFER OOF FOLD K\n",
        "    oof_preds = model.predict_proba(y_train)[:, 1]\n",
        "    acc = amex_metric_np(y_valid.values, oof_preds)\n",
        "    print('Amex Metric =',acc,'\\n')\n",
        "\n",
        "    df = train.loc[valid_idx, ['customer_ID','target'] ].copy()\n",
        "    df['oof_preds'] = oof_preds\n",
        "    oof.append(df)\n",
        "    \n",
        "    del X_train, y_train, dd, df\n",
        "    del X_valid, y_valid, model\n",
        "    _ = gc.collect()\n",
        "    \n",
        "print('#'*25)\n",
        "oof = pd.concat(oof,axis=0,ignore_index=True).set_index('customer_ID')\n",
        "acc = amex_metric_np(oof.target.values, oof.oof_preds.values)\n",
        "print(f\"Overall Amex metric: {acc}\")"
      ]
    },
    {
      "cell_type": "code",
      "execution_count": 14,
      "id": "9382e3d0",
      "metadata": {
        "execution": {
          "iopub.execute_input": "2022-07-15T16:48:45.305370Z",
          "iopub.status.busy": "2022-07-15T16:48:45.304754Z",
          "iopub.status.idle": "2022-07-15T16:48:45.407975Z",
          "shell.execute_reply": "2022-07-15T16:48:45.407068Z"
        },
        "papermill": {
          "duration": 0.123941,
          "end_time": "2022-07-15T16:48:45.409679",
          "exception": false,
          "start_time": "2022-07-15T16:48:45.285738",
          "status": "completed"
        },
        "tags": [],
        "id": "9382e3d0"
      },
      "outputs": [],
      "source": [
        "# CLEAN RAM\n",
        "del train\n",
        "_ = gc.collect()"
      ]
    },
    {
      "cell_type": "code",
      "execution_count": 15,
      "id": "3610c1b3",
      "metadata": {
        "execution": {
          "iopub.execute_input": "2022-07-15T16:48:45.448225Z",
          "iopub.status.busy": "2022-07-15T16:48:45.447584Z",
          "iopub.status.idle": "2022-07-15T16:48:45.488638Z",
          "shell.execute_reply": "2022-07-15T16:48:45.487878Z"
        },
        "papermill": {
          "duration": 0.06166,
          "end_time": "2022-07-15T16:48:45.490338",
          "exception": false,
          "start_time": "2022-07-15T16:48:45.428678",
          "status": "completed"
        },
        "scrolled": true,
        "tags": [],
        "id": "3610c1b3"
      },
      "outputs": [],
      "source": [
        "df = importances[0].copy()\n",
        "for k in range(1,FOLDS): df = df.merge(importances[k], on='feature', how='left')\n",
        "df['importance'] = df.iloc[:,1:].mean(axis=1, numeric_only=True)\n",
        "df = df.sort_values('importance',ascending=False)\n",
        "df.to_csv(f'cat_feature_importance_v{VER}.csv',index=False)"
      ]
    },
    {
      "cell_type": "code",
      "execution_count": 16,
      "id": "69357676",
      "metadata": {
        "execution": {
          "iopub.execute_input": "2022-07-15T16:48:45.527853Z",
          "iopub.status.busy": "2022-07-15T16:48:45.527216Z",
          "iopub.status.idle": "2022-07-15T16:48:45.823812Z",
          "shell.execute_reply": "2022-07-15T16:48:45.823089Z"
        },
        "papermill": {
          "duration": 0.317159,
          "end_time": "2022-07-15T16:48:45.825544",
          "exception": false,
          "start_time": "2022-07-15T16:48:45.508385",
          "status": "completed"
        },
        "tags": [],
        "id": "69357676",
        "outputId": "f9c7ef33-da2e-4c49-f4df-3aa3dee5c50d",
        "colab": {
          "base_uri": "https://localhost:8080/",
          "height": 607
        }
      },
      "outputs": [
        {
          "output_type": "display_data",
          "data": {
            "text/plain": [
              "<Figure size 720x720 with 1 Axes>"
            ],
            "image/png": "[encoded data removed]"
          },
          "metadata": {
            "needs_background": "light"
          }
        }
      ],
      "source": [
        "NUM_FEATURES = 20\n",
        "plt.figure(figsize=(10,5*NUM_FEATURES//10))\n",
        "plt.barh(np.arange(NUM_FEATURES,0,-1), df.importance.values[:NUM_FEATURES])\n",
        "plt.yticks(np.arange(NUM_FEATURES,0,-1), df.feature.values[:NUM_FEATURES])\n",
        "plt.title(f'CAT Feature Importance - Top {NUM_FEATURES}')\n",
        "plt.show()"
      ]
    },
    {
      "cell_type": "markdown",
      "id": "bf46dad6",
      "metadata": {
        "papermill": {
          "duration": 0.018388,
          "end_time": "2022-07-15T16:48:45.862462",
          "exception": false,
          "start_time": "2022-07-15T16:48:45.844074",
          "status": "completed"
        },
        "tags": [],
        "id": "bf46dad6"
      },
      "source": [
        "# Test part"
      ]
    },
    {
      "cell_type": "code",
      "execution_count": 17,
      "id": "c28f1826",
      "metadata": {
        "execution": {
          "iopub.execute_input": "2022-07-15T16:48:45.901178Z",
          "iopub.status.busy": "2022-07-15T16:48:45.900848Z",
          "iopub.status.idle": "2022-07-15T16:48:45.907526Z",
          "shell.execute_reply": "2022-07-15T16:48:45.906709Z"
        },
        "papermill": {
          "duration": 0.027751,
          "end_time": "2022-07-15T16:48:45.909278",
          "exception": false,
          "start_time": "2022-07-15T16:48:45.881527",
          "status": "completed"
        },
        "tags": [],
        "id": "c28f1826"
      },
      "outputs": [],
      "source": [
        "# CALCULATE SIZE OF EACH SEPARATE TEST PART\n",
        "def get_rows(customers, test, NUM_PARTS = 4, verbose = ''):\n",
        "    chunk = len(customers)//NUM_PARTS\n",
        "    if verbose != '':\n",
        "        print(f'We will process {verbose} data as {NUM_PARTS} separate parts.')\n",
        "        print(f'There will be {chunk} customers in each part (except the last part).')\n",
        "        print('Below are number of rows in each part:')\n",
        "    rows = []\n",
        "\n",
        "    for k in range(NUM_PARTS):\n",
        "        if k==NUM_PARTS-1: cc = customers[k*chunk:]\n",
        "        else: cc = customers[k*chunk:(k+1)*chunk]\n",
        "        s = test.loc[test.customer_ID.isin(cc)].shape[0]\n",
        "        rows.append(s)\n",
        "    if verbose != '': print( rows )\n",
        "    return rows,chunk"
      ]
    },
    {
      "cell_type": "code",
      "execution_count": 18,
      "id": "8c7e70c5",
      "metadata": {
        "execution": {
          "iopub.execute_input": "2022-07-15T16:48:45.947705Z",
          "iopub.status.busy": "2022-07-15T16:48:45.947377Z",
          "iopub.status.idle": "2022-07-15T16:48:47.039525Z",
          "shell.execute_reply": "2022-07-15T16:48:47.038640Z"
        },
        "papermill": {
          "duration": 1.113806,
          "end_time": "2022-07-15T16:48:47.041416",
          "exception": false,
          "start_time": "2022-07-15T16:48:45.927610",
          "status": "completed"
        },
        "tags": [],
        "id": "8c7e70c5",
        "outputId": "d6937931-a533-4836-8b07-96464b10ed3e",
        "colab": {
          "base_uri": "https://localhost:8080/"
        }
      },
      "outputs": [
        {
          "output_type": "stream",
          "name": "stdout",
          "text": [
            "We will process test data as 4 separate parts.\n",
            "There will be 231155 customers in each part (except the last part).\n",
            "Below are number of rows in each part:\n",
            "[231155, 231155, 231155, 231156]\n"
          ]
        }
      ],
      "source": [
        "# COMPUTE SIZE OF 4 PARTS FOR TEST DATA\n",
        "NUM_PARTS = 4\n",
        "\n",
        "customers = test[['customer_ID']].drop_duplicates().sort_index().values.flatten()\n",
        "rows,num_cust = get_rows(customers, test[['customer_ID']], NUM_PARTS = NUM_PARTS, verbose = 'test')"
      ]
    },
    {
      "cell_type": "code",
      "execution_count": 19,
      "id": "9cf53fd3",
      "metadata": {
        "execution": {
          "iopub.execute_input": "2022-07-15T16:48:47.081924Z",
          "iopub.status.busy": "2022-07-15T16:48:47.081615Z",
          "iopub.status.idle": "2022-07-15T16:50:55.407348Z",
          "shell.execute_reply": "2022-07-15T16:50:55.406352Z"
        },
        "papermill": {
          "duration": 128.349422,
          "end_time": "2022-07-15T16:50:55.410249",
          "exception": false,
          "start_time": "2022-07-15T16:48:47.060827",
          "status": "completed"
        },
        "tags": [],
        "id": "9cf53fd3",
        "outputId": "fca14da6-517a-4183-95b4-9831877adfe1",
        "colab": {
          "base_uri": "https://localhost:8080/"
        }
      },
      "outputs": [
        {
          "output_type": "stream",
          "name": "stdout",
          "text": [
            "\n",
            "Reading test data...\n",
            "=> Test part 1 has shape (231155, 1991)\n",
            "\n",
            "Reading test data...\n",
            "=> Test part 2 has shape (231155, 1991)\n",
            "\n",
            "Reading test data...\n",
            "=> Test part 3 has shape (231155, 1991)\n",
            "\n",
            "Reading test data...\n",
            "=> Test part 4 has shape (231156, 1991)\n"
          ]
        }
      ],
      "source": [
        "# INFER TEST DATA IN PARTS\n",
        "skip_rows = 0\n",
        "skip_cust = 0\n",
        "test_preds = []\n",
        "\n",
        "for k in range(NUM_PARTS):\n",
        "    # READ PART OF TEST DATA\n",
        "    print(f'\\nReading test data...')\n",
        "    test_copy = test.iloc[skip_rows:skip_rows+rows[k]].copy()\n",
        "    test_copy = test_copy.set_index('customer_ID')\n",
        "    skip_rows += rows[k]\n",
        "    print(f'=> Test part {k+1} has shape', test_copy.shape )\n",
        "    \n",
        "    # PROCESS AND FEATURE ENGINEER PART OF TEST DATA\n",
        "    if k==NUM_PARTS-1: test_copy = test_copy.loc[customers[skip_cust:]]\n",
        "    else: test_copy = test_copy.loc[customers[skip_cust:skip_cust+num_cust]]\n",
        "    skip_cust += num_cust\n",
        "        \n",
        "    # INFER XGB MODELS ON TEST DATA\n",
        "    model = CatBoostClassifier(**cat_params)\n",
        "    model.load_model(f'CAT_v{VER}_fold0.cbm')\n",
        "    preds = model.predict_proba(test_copy)[:, 1]\n",
        "    for f in range(1,FOLDS):\n",
        "        model.load_model(f'CAT_v{VER}_fold{f}.cbm')\n",
        "        preds += model.predict_proba(test_copy)[:, 1]\n",
        "    preds /= FOLDS\n",
        "    test_preds.append(preds)\n",
        "\n",
        "    # CLEAN MEMORY\n",
        "    del test_copy, model\n",
        "    _ = gc.collect()\n",
        "\n",
        "del test\n",
        "_ = gc.collect()"
      ]
    },
    {
      "cell_type": "markdown",
      "id": "02259545",
      "metadata": {
        "papermill": {
          "duration": 0.067515,
          "end_time": "2022-07-15T16:50:55.538577",
          "exception": false,
          "start_time": "2022-07-15T16:50:55.471062",
          "status": "completed"
        },
        "tags": [],
        "id": "02259545"
      },
      "source": [
        "# Submit"
      ]
    },
    {
      "cell_type": "code",
      "execution_count": 20,
      "id": "00d908fd",
      "metadata": {
        "execution": {
          "iopub.execute_input": "2022-07-15T16:50:55.628196Z",
          "iopub.status.busy": "2022-07-15T16:50:55.627855Z",
          "iopub.status.idle": "2022-07-15T16:51:02.864876Z",
          "shell.execute_reply": "2022-07-15T16:51:02.864114Z"
        },
        "papermill": {
          "duration": 7.268354,
          "end_time": "2022-07-15T16:51:02.866646",
          "exception": false,
          "start_time": "2022-07-15T16:50:55.598292",
          "status": "completed"
        },
        "tags": [],
        "id": "00d908fd",
        "outputId": "12bdfd1c-b06a-491d-b68a-58c0157bedcd",
        "colab": {
          "base_uri": "https://localhost:8080/",
          "height": 224
        }
      },
      "outputs": [
        {
          "output_type": "stream",
          "name": "stdout",
          "text": [
            "Submission file shape is (924621, 2)\n"
          ]
        },
        {
          "output_type": "execute_result",
          "data": {
            "text/plain": [
              "                                         customer_ID  prediction\n",
              "0  00000469ba478561f23a92a868bd366de6f6527a684c9a...    0.017506\n",
              "1  00001bf2e77ff879fab36aa4fac689b9ba411dae63ae39...    0.001394\n",
              "2  0000210045da4f81e5f122c6bde5c2a617d03eef67f82c...    0.049240\n",
              "3  00003b41e58ede33b8daf61ab56d9952f17c9ad1c3976c...    0.204723\n",
              "4  00004b22eaeeeb0ec976890c1d9bfc14fd9427e98c4ee9...    0.838837"
            ],
            "text/html": [
              "\n",
              "  <div id=\"df-482067e3-82f9-4a9d-bef6-45889f6fc16d\">\n",
              "    <div class=\"colab-df-container\">\n",
              "      <div>\n",
              "<style scoped>\n",
              "    .dataframe tbody tr th:only-of-type {\n",
              "        vertical-align: middle;\n",
              "    }\n",
              "\n",
              "    .dataframe tbody tr th {\n",
              "        vertical-align: top;\n",
              "    }\n",
              "\n",
              "    .dataframe thead th {\n",
              "        text-align: right;\n",
              "    }\n",
              "</style>\n",
              "<table border=\"1\" class=\"dataframe\">\n",
              "  <thead>\n",
              "    <tr style=\"text-align: right;\">\n",
              "      <th></th>\n",
              "      <th>customer_ID</th>\n",
              "      <th>prediction</th>\n",
              "    </tr>\n",
              "  </thead>\n",
              "  <tbody>\n",
              "    <tr>\n",
              "      <th>0</th>\n",
              "      <td>00000469ba478561f23a92a868bd366de6f6527a684c9a...</td>\n",
              "      <td>0.017506</td>\n",
              "    </tr>\n",
              "    <tr>\n",
              "      <th>1</th>\n",
              "      <td>00001bf2e77ff879fab36aa4fac689b9ba411dae63ae39...</td>\n",
              "      <td>0.001394</td>\n",
              "    </tr>\n",
              "    <tr>\n",
              "      <th>2</th>\n",
              "      <td>0000210045da4f81e5f122c6bde5c2a617d03eef67f82c...</td>\n",
              "      <td>0.049240</td>\n",
              "    </tr>\n",
              "    <tr>\n",
              "      <th>3</th>\n",
              "      <td>00003b41e58ede33b8daf61ab56d9952f17c9ad1c3976c...</td>\n",
              "      <td>0.204723</td>\n",
              "    </tr>\n",
              "    <tr>\n",
              "      <th>4</th>\n",
              "      <td>00004b22eaeeeb0ec976890c1d9bfc14fd9427e98c4ee9...</td>\n",
              "      <td>0.838837</td>\n",
              "    </tr>\n",
              "  </tbody>\n",
              "</table>\n",
              "</div>\n",
              "      <button class=\"colab-df-convert\" onclick=\"convertToInteractive('df-482067e3-82f9-4a9d-bef6-45889f6fc16d')\"\n",
              "              title=\"Convert this dataframe to an interactive table.\"\n",
              "              style=\"display:none;\">\n",
              "        \n",
              "  <svg xmlns=\"http://www.w3.org/2000/svg\" height=\"24px\"viewBox=\"0 0 24 24\"\n",
              "       width=\"24px\">\n",
              "    <path d=\"M0 0h24v24H0V0z\" fill=\"none\"/>\n",
              "    <path d=\"M18.56 5.44l.94 2.06.94-2.06 2.06-.94-2.06-.94-.94-2.06-.94 2.06-2.06.94zm-11 1L8.5 8.5l.94-2.06 2.06-.94-2.06-.94L8.5 2.5l-.94 2.06-2.06.94zm10 10l.94 2.06.94-2.06 2.06-.94-2.06-.94-.94-2.06-.94 2.06-2.06.94z\"/><path d=\"M17.41 7.96l-1.37-1.37c-.4-.4-.92-.59-1.43-.59-.52 0-1.04.2-1.43.59L10.3 9.45l-7.72 7.72c-.78.78-.78 2.05 0 2.83L4 21.41c.39.39.9.59 1.41.59.51 0 1.02-.2 1.41-.59l7.78-7.78 2.81-2.81c.8-.78.8-2.07 0-2.86zM5.41 20L4 18.59l7.72-7.72 1.47 1.35L5.41 20z\"/>\n",
              "  </svg>\n",
              "      </button>\n",
              "      \n",
              "  <style>\n",
              "    .colab-df-container {\n",
              "      display:flex;\n",
              "      flex-wrap:wrap;\n",
              "      gap: 12px;\n",
              "    }\n",
              "\n",
              "    .colab-df-convert {\n",
              "      background-color: #E8F0FE;\n",
              "      border: none;\n",
              "      border-radius: 50%;\n",
              "      cursor: pointer;\n",
              "      display: none;\n",
              "      fill: #1967D2;\n",
              "      height: 32px;\n",
              "      padding: 0 0 0 0;\n",
              "      width: 32px;\n",
              "    }\n",
              "\n",
              "    .colab-df-convert:hover {\n",
              "      background-color: #E2EBFA;\n",
              "      box-shadow: 0px 1px 2px rgba(60, 64, 67, 0.3), 0px 1px 3px 1px rgba(60, 64, 67, 0.15);\n",
              "      fill: #174EA6;\n",
              "    }\n",
              "\n",
              "    [theme=dark] .colab-df-convert {\n",
              "      background-color: #3B4455;\n",
              "      fill: #D2E3FC;\n",
              "    }\n",
              "\n",
              "    [theme=dark] .colab-df-convert:hover {\n",
              "      background-color: #434B5C;\n",
              "      box-shadow: 0px 1px 3px 1px rgba(0, 0, 0, 0.15);\n",
              "      filter: drop-shadow(0px 1px 2px rgba(0, 0, 0, 0.3));\n",
              "      fill: #FFFFFF;\n",
              "    }\n",
              "  </style>\n",
              "\n",
              "      <script>\n",
              "        const buttonEl =\n",
              "          document.querySelector('#df-482067e3-82f9-4a9d-bef6-45889f6fc16d button.colab-df-convert');\n",
              "        buttonEl.style.display =\n",
              "          google.colab.kernel.accessAllowed ? 'block' : 'none';\n",
              "\n",
              "        async function convertToInteractive(key) {\n",
              "          const element = document.querySelector('#df-482067e3-82f9-4a9d-bef6-45889f6fc16d');\n",
              "          const dataTable =\n",
              "            await google.colab.kernel.invokeFunction('convertToInteractive',\n",
              "                                                     [key], {});\n",
              "          if (!dataTable) return;\n",
              "\n",
              "          const docLinkHtml = 'Like what you see? Visit the ' +\n",
              "            '<a target=\"_blank\" href=https://colab.research.google.com/notebooks/data_table.ipynb>data table notebook</a>'\n",
              "            + ' to learn more about interactive tables.';\n",
              "          element.innerHTML = '';\n",
              "          dataTable['output_type'] = 'display_data';\n",
              "          await google.colab.output.renderOutput(dataTable, element);\n",
              "          const docLink = document.createElement('div');\n",
              "          docLink.innerHTML = docLinkHtml;\n",
              "          element.appendChild(docLink);\n",
              "        }\n",
              "      </script>\n",
              "    </div>\n",
              "  </div>\n",
              "  "
            ]
          },
          "metadata": {},
          "execution_count": 20
        }
      ],
      "source": [
        "# WRITE SUBMISSION FILE\n",
        "test = pd.DataFrame(index=customers,data={'prediction': np.concatenate(test_preds)})\n",
        "sub = pd.read_csv('/content/sample_submission.csv')[['customer_ID']]\n",
        "sub['customer_ID_hash'] = sub['customer_ID'].copy()\n",
        "sub = sub.set_index('customer_ID_hash')\n",
        "sub = sub.merge(test[['prediction']], left_index=True, right_index=True, how='left')\n",
        "sub = sub.reset_index(drop=True)\n",
        "\n",
        "# DISPLAY PREDICTIONS\n",
        "sub.to_csv(f'submission_cat_v{VER}_seed{SEED}_fold{FOLDS}.csv',index=False)\n",
        "print('Submission file shape is', sub.shape )\n",
        "sub.head()"
      ]
    },
    {
      "cell_type": "code",
      "execution_count": 21,
      "id": "533e5941",
      "metadata": {
        "execution": {
          "iopub.execute_input": "2022-07-15T16:51:02.918871Z",
          "iopub.status.busy": "2022-07-15T16:51:02.918494Z",
          "iopub.status.idle": "2022-07-15T16:51:03.267833Z",
          "shell.execute_reply": "2022-07-15T16:51:03.266949Z"
        },
        "papermill": {
          "duration": 0.374502,
          "end_time": "2022-07-15T16:51:03.269960",
          "exception": false,
          "start_time": "2022-07-15T16:51:02.895458",
          "status": "completed"
        },
        "tags": [],
        "id": "533e5941",
        "outputId": "5b1d9dea-3ec0-4c08-869b-78171fb43f26",
        "colab": {
          "base_uri": "https://localhost:8080/",
          "height": 281
        }
      },
      "outputs": [
        {
          "output_type": "display_data",
          "data": {
            "text/plain": [
              "<Figure size 432x288 with 1 Axes>"
            ],
            "image/png": "[encoded data removed]"
          },
          "metadata": {
            "needs_background": "light"
          }
        }
      ],
      "source": [
        "# PLOT PREDICTIONS\n",
        "plt.hist(sub.prediction, bins=100)\n",
        "plt.title('Test Predictions')\n",
        "plt.show()"
      ]
    },
    {
      "cell_type": "markdown",
      "id": "802623f7",
      "metadata": {
        "papermill": {
          "duration": 0.042841,
          "end_time": "2022-07-15T16:51:28.477165",
          "exception": false,
          "start_time": "2022-07-15T16:51:28.434324",
          "status": "completed"
        },
        "tags": [],
        "id": "802623f7"
      },
      "source": [
        "# Submit to Kaggle from Colab"
      ]
    },
    {
      "cell_type": "code",
      "execution_count": 24,
      "id": "efc54970",
      "metadata": {
        "execution": {
          "iopub.execute_input": "2022-07-15T16:51:28.552420Z",
          "iopub.status.busy": "2022-07-15T16:51:28.551829Z",
          "iopub.status.idle": "2022-07-15T16:51:28.557906Z",
          "shell.execute_reply": "2022-07-15T16:51:28.557166Z"
        },
        "papermill": {
          "duration": 0.048007,
          "end_time": "2022-07-15T16:51:28.561880",
          "exception": false,
          "start_time": "2022-07-15T16:51:28.513873",
          "status": "completed"
        },
        "tags": [],
        "id": "efc54970",
        "outputId": "d642e3f1-cc24-491f-bfb8-f5ad8cdb31b2",
        "colab": {
          "base_uri": "https://localhost:8080/"
        }
      },
      "outputs": [
        {
          "output_type": "stream",
          "name": "stdout",
          "text": [
            "100% 75.3M/75.3M [00:06<00:00, 12.1MB/s]\n",
            "Successfully submitted to American Express - Default Prediction"
          ]
        }
      ],
      "source": [
        "# Submit\n",
        "!kaggle competitions submit -c amex-default-prediction -f submission_cat_v1_seed42_fold5.csv -m \"From colab seed 42 fold 5 lag plus\""
      ]
    },
    {
      "cell_type": "code",
      "execution_count": 26,
      "id": "aad5cc1a",
      "metadata": {
        "execution": {
          "iopub.execute_input": "2022-07-15T16:51:28.636400Z",
          "iopub.status.busy": "2022-07-15T16:51:28.635706Z",
          "iopub.status.idle": "2022-07-15T16:51:28.643060Z",
          "shell.execute_reply": "2022-07-15T16:51:28.640501Z"
        },
        "papermill": {
          "duration": 0.04911,
          "end_time": "2022-07-15T16:51:28.647823",
          "exception": false,
          "start_time": "2022-07-15T16:51:28.598713",
          "status": "completed"
        },
        "tags": [],
        "id": "aad5cc1a",
        "outputId": "bc3136a4-be72-43f8-dfc1-6fa2dd5aa42c",
        "colab": {
          "base_uri": "https://localhost:8080/"
        }
      },
      "outputs": [
        {
          "output_type": "stream",
          "name": "stdout",
          "text": [
            "fileName                            date                 description                                               status    publicScore  privateScore  \n",
            "----------------------------------  -------------------  --------------------------------------------------------  --------  -----------  ------------  \n",
            "submission_cat_v1_seed42_fold5.csv  2022-07-19 17:31:52  From colab seed 42 fold 5 lag plus                        complete  0.795                      \n",
            "Amex Default Prediction - Ensemble  2022-07-19 16:37:40  Notebook Amex Default Prediction - Ensemble | Version 4   complete  0.798                      \n",
            "Amex Default Prediction - Ensemble  2022-07-19 16:34:17  Notebook Amex Default Prediction - Ensemble | Version 2   complete  0.798                      \n",
            "submission_cat_v1_seed42_fold5.csv  2022-07-19 12:11:59  From colab seed 42 fold 5 lag plus                        complete  0.795                      \n",
            "Amex Default Prediction with Cat    2022-07-18 23:01:33  Notebook Amex Default Prediction with Cat | Version 129   complete  0.798                      \n",
            "Amex Default Prediction with Cat    2022-07-18 22:58:51  Notebook Amex Default Prediction with Cat | Version 128   complete  0.798                      \n",
            "submission_cat_v1_seed42_fold5.csv  2022-07-18 22:27:50  From colab seed 42 fold 5 lag plus                        complete  0.795                      \n",
            "submission_lgb_v1_seed42_fold5.csv  2022-07-18 20:37:22  the first version. fe lag plus seed 52 fold 5 From colab  complete  0.797                      \n",
            "submission_cat_v1.csv               2022-07-18 06:30:57  From colab seed 42 fold 5 lag plus                        complete  0.795                      \n",
            "Amex Default Prediction with Cat    2022-07-16 16:14:20  Notebook Amex Default Prediction with Cat | Version 125   complete  0.794                      \n",
            "Amex Default Prediction with Cat    2022-07-15 16:33:32  Notebook Amex Default Prediction with Cat | Version 127   complete  0.798                      \n",
            "Amex Default Prediction with Cat    2022-07-15 16:24:25  Notebook Amex Default Prediction with Cat | Version 126   complete  0.798                      \n",
            "submission_cat_v123_seed52_794.csv  2022-07-15 16:12:09                                                            complete  0.795                      \n",
            "submission_cat_v123_0794.csv        2022-07-15 15:47:08                                                            complete  0.795                      \n",
            "Amex Default Prediction with Cat    2022-07-15 13:53:07  Notebook Amex Default Prediction with Cat | Version 123   complete  0.798                      \n",
            "Amex Default Prediction with Cat    2022-07-12 10:17:49  Notebook Amex Default Prediction with Cat | Version 122   complete  0.794                      \n",
            "Amex Default Prediction with Cat    2022-07-11 16:41:48  Notebook Amex Default Prediction with Cat | Version 119   complete  0.794                      \n",
            "Amex Default Prediction with Cat    2022-07-11 13:00:10  Notebook Amex Default Prediction with Cat | Version 116   complete  0.794                      \n",
            "Amex Default Prediction with Cat    2022-07-10 12:29:19  Notebook Amex Default Prediction with Cat | Version 115   complete  0.798                      \n",
            "Amex Default Prediction with Cat    2022-07-10 12:26:36  Notebook Amex Default Prediction with Cat | Version 114   complete  0.797                      \n",
            "Amex Default Prediction with Cat    2022-07-10 07:38:14  Notebook Amex Default Prediction with Cat | Version 109   complete  0.798                      \n",
            "Amex Default Prediction with Cat    2022-07-10 07:34:41  Notebook Amex Default Prediction with Cat | Version 108   complete  0.798                      \n",
            "Amex Default Prediction with Cat    2022-07-10 07:31:41  Notebook Amex Default Prediction with Cat | Version 107   complete  0.798                      \n",
            "Amex Default Prediction with Cat    2022-07-07 16:06:53  Notebook Amex Default Prediction with Cat | Version 106   complete  0.798                      \n",
            "Amex Default Prediction with Cat    2022-07-07 16:01:41  Notebook Amex Default Prediction with Cat | Version 105   complete  0.797                      \n",
            "Amex Default Prediction with Cat    2022-07-07 15:55:53  Notebook Amex Default Prediction with Cat | Version 104   complete  0.798                      \n",
            "Amex Default Prediction with Cat    2022-07-07 15:52:16  Notebook Amex Default Prediction with Cat | Version 103   complete  0.797                      \n",
            "Amex Default Prediction with Cat    2022-07-05 15:48:47  Notebook Amex Default Prediction with Cat | Version 102   complete  0.797                      \n",
            "Amex Default Prediction with Cat    2022-07-05 15:46:36  Notebook Amex Default Prediction with Cat | Version 101   complete  0.797                      \n",
            "Amex Default Prediction with Cat    2022-07-05 15:37:48  Notebook Amex Default Prediction with Cat | Version 100   complete  0.797                      \n",
            "Amex Default Prediction with Cat    2022-07-05 15:33:29  Notebook Amex Default Prediction with Cat | Version 99    complete  0.797                      \n",
            "Amex Default Prediction with Cat    2022-07-05 15:29:38  Notebook Amex Default Prediction with Cat | Version 98    complete  0.797                      \n",
            "Amex Default Prediction with Cat    2022-07-04 16:21:46  Notebook Amex Default Prediction with Cat | Version 97    complete  0.797                      \n",
            "Amex Default Prediction with Cat    2022-07-04 16:09:39  Notebook Amex Default Prediction with Cat | Version 95    complete  0.797                      \n",
            "Amex Default Prediction with Cat    2022-07-04 14:45:39  Notebook Amex Default Prediction with Cat | Version 93    complete  0.797                      \n",
            "Amex Default Prediction - XGBoost   2022-07-04 14:01:00  Notebook Amex Default Prediction - XGBoost | Version 25   complete  0.793                      \n",
            "Amex Default Prediction - XGBoost   2022-07-04 13:34:15  Notebook Amex Default Prediction - XGBoost | Version 24   complete  0.794                      \n",
            "Amex Default Prediction with Cat    2022-07-03 11:56:30  Notebook Amex Default Prediction with Cat | Version 86    complete  0.797                      \n",
            "Amex Default Prediction with Cat    2022-07-03 11:17:11  Notebook Amex Default Prediction with Cat | Version 85    complete  0.797                      \n",
            "Amex Default Prediction with Cat    2022-07-03 05:11:36  Notebook Amex Default Prediction with Cat | Version 84    complete  0.797                      \n",
            "Amex Default Prediction with Cat    2022-07-03 04:59:28  Notebook Amex Default Prediction with Cat | Version 83    complete  0.797                      \n",
            "Amex Default Prediction with Cat    2022-07-03 04:22:26  Notebook Amex Default Prediction with Cat | Version 82    complete  0.792                      \n",
            "Amex Default Prediction with Cat    2022-07-02 16:13:03  Notebook Amex Default Prediction with Cat | Version 81    complete  0.796                      \n",
            "Amex Default Prediction with Cat    2022-07-02 15:56:06  Notebook Amex Default Prediction with Cat | Version 80    complete  0.797                      \n",
            "Amex Default Prediction with Cat    2022-07-02 14:22:57  Notebook Amex Default Prediction with Cat | Version 79    complete  0.797                      \n",
            "Amex Default Prediction with Cat    2022-07-02 14:17:53  Notebook Amex Default Prediction with Cat | Version 78    complete  0.797                      \n",
            "Amex Default Prediction with Cat    2022-07-02 13:35:04  Notebook Amex Default Prediction with Cat | Version 77    complete  0.794                      \n",
            "Amex Default Prediction with Cat    2022-07-01 17:11:02  Notebook Amex Default Prediction with Cat | Version 76    complete  0.797                      \n",
            "Amex Default Prediction with Cat    2022-07-01 17:09:06  Notebook Amex Default Prediction with Cat | Version 75    complete  0.794                      \n",
            "Amex Default Prediction with Cat    2022-07-01 15:31:01  Notebook Amex Default Prediction with Cat | Version 74    complete  0.797                      \n"
          ]
        }
      ],
      "source": [
        "# Run after few seconds\n",
        "!kaggle competitions submissions amex-default-prediction"
      ]
    }
  ],
  "metadata": {
    "kernelspec": {
      "display_name": "Python 3",
      "language": "python",
      "name": "python3"
    },
    "language_info": {
      "codemirror_mode": {
        "name": "ipython",
        "version": 3
      },
      "file_extension": ".py",
      "mimetype": "text/x-python",
      "name": "python",
      "nbconvert_exporter": "python",
      "pygments_lexer": "ipython3",
      "version": "3.7.12"
    },
    "papermill": {
      "default_parameters": {},
      "duration": 2291.105208,
      "end_time": "2022-07-15T16:51:29.695242",
      "environment_variables": {},
      "exception": null,
      "input_path": "__notebook__.ipynb",
      "output_path": "__notebook__.ipynb",
      "parameters": {},
      "start_time": "2022-07-15T16:13:18.590034",
      "version": "2.3.4"
    },
    "colab": {
      "name": "amex-default-prediction-with-cat.ipynb",
      "provenance": [],
      "machine_shape": "hm"
    },
    "accelerator": "GPU",
    "gpuClass": "standard"
  },
  "nbformat": 4,
  "nbformat_minor": 5
}
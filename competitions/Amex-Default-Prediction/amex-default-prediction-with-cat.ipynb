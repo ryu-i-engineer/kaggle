{
  "cells": [
    {
      "cell_type": "markdown",
      "id": "ec8911a0",
      "metadata": {
        "papermill": {
          "duration": 0.009252,
          "end_time": "2022-07-15T16:13:27.338460",
          "exception": false,
          "start_time": "2022-07-15T16:13:27.329208",
          "status": "completed"
        },
        "tags": [],
        "id": "ec8911a0"
      },
      "source": [
        "# Prepare for colab"
      ]
    },
    {
      "cell_type": "code",
      "execution_count": 1,
      "id": "bad112fb",
      "metadata": {
        "execution": {
          "iopub.execute_input": "2022-07-15T16:13:27.400098Z",
          "iopub.status.busy": "2022-07-15T16:13:27.399391Z",
          "iopub.status.idle": "2022-07-15T16:13:27.403356Z",
          "shell.execute_reply": "2022-07-15T16:13:27.402606Z"
        },
        "papermill": {
          "duration": 0.015568,
          "end_time": "2022-07-15T16:13:27.405067",
          "exception": false,
          "start_time": "2022-07-15T16:13:27.389499",
          "status": "completed"
        },
        "tags": [],
        "id": "bad112fb",
        "outputId": "4266b0e7-4627-4d0c-d3f1-e0cd9e35c46f",
        "colab": {
          "base_uri": "https://localhost:8080/"
        }
      },
      "outputs": [
        {
          "output_type": "stream",
          "name": "stdout",
          "text": [
            "Looking in indexes: https://pypi.org/simple, https://us-python.pkg.dev/colab-wheels/public/simple/\n",
            "Collecting catboost\n",
            "  Downloading catboost-1.0.6-cp37-none-manylinux1_x86_64.whl (76.6 MB)\n",
            "\u001b[K     |████████████████████████████████| 76.6 MB 162 kB/s \n",
            "\u001b[?25hRequirement already satisfied: six in /usr/local/lib/python3.7/dist-packages (from catboost) (1.15.0)\n",
            "Requirement already satisfied: matplotlib in /usr/local/lib/python3.7/dist-packages (from catboost) (3.2.2)\n",
            "Requirement already satisfied: scipy in /usr/local/lib/python3.7/dist-packages (from catboost) (1.7.3)\n",
            "Requirement already satisfied: pandas>=0.24.0 in /usr/local/lib/python3.7/dist-packages (from catboost) (1.3.5)\n",
            "Requirement already satisfied: numpy>=1.16.0 in /usr/local/lib/python3.7/dist-packages (from catboost) (1.21.6)\n",
            "Requirement already satisfied: graphviz in /usr/local/lib/python3.7/dist-packages (from catboost) (0.10.1)\n",
            "Requirement already satisfied: plotly in /usr/local/lib/python3.7/dist-packages (from catboost) (5.5.0)\n",
            "Requirement already satisfied: python-dateutil>=2.7.3 in /usr/local/lib/python3.7/dist-packages (from pandas>=0.24.0->catboost) (2.8.2)\n",
            "Requirement already satisfied: pytz>=2017.3 in /usr/local/lib/python3.7/dist-packages (from pandas>=0.24.0->catboost) (2022.1)\n",
            "Requirement already satisfied: pyparsing!=2.0.4,!=2.1.2,!=2.1.6,>=2.0.1 in /usr/local/lib/python3.7/dist-packages (from matplotlib->catboost) (3.0.9)\n",
            "Requirement already satisfied: cycler>=0.10 in /usr/local/lib/python3.7/dist-packages (from matplotlib->catboost) (0.11.0)\n",
            "Requirement already satisfied: kiwisolver>=1.0.1 in /usr/local/lib/python3.7/dist-packages (from matplotlib->catboost) (1.4.4)\n",
            "Requirement already satisfied: typing-extensions in /usr/local/lib/python3.7/dist-packages (from kiwisolver>=1.0.1->matplotlib->catboost) (4.1.1)\n",
            "Requirement already satisfied: tenacity>=6.2.0 in /usr/local/lib/python3.7/dist-packages (from plotly->catboost) (8.0.1)\n",
            "Installing collected packages: catboost\n",
            "Successfully installed catboost-1.0.6\n",
            "Looking in indexes: https://pypi.org/simple, https://us-python.pkg.dev/colab-wheels/public/simple/\n",
            "Requirement already satisfied: kaggle in /usr/local/lib/python3.7/dist-packages (1.5.12)\n",
            "Requirement already satisfied: python-dateutil in /usr/local/lib/python3.7/dist-packages (from kaggle) (2.8.2)\n",
            "Requirement already satisfied: six>=1.10 in /usr/local/lib/python3.7/dist-packages (from kaggle) (1.15.0)\n",
            "Requirement already satisfied: certifi in /usr/local/lib/python3.7/dist-packages (from kaggle) (2022.6.15)\n",
            "Requirement already satisfied: requests in /usr/local/lib/python3.7/dist-packages (from kaggle) (2.23.0)\n",
            "Requirement already satisfied: urllib3 in /usr/local/lib/python3.7/dist-packages (from kaggle) (1.24.3)\n",
            "Requirement already satisfied: python-slugify in /usr/local/lib/python3.7/dist-packages (from kaggle) (6.1.2)\n",
            "Requirement already satisfied: tqdm in /usr/local/lib/python3.7/dist-packages (from kaggle) (4.64.0)\n",
            "Requirement already satisfied: text-unidecode>=1.3 in /usr/local/lib/python3.7/dist-packages (from python-slugify->kaggle) (1.3)\n",
            "Requirement already satisfied: idna<3,>=2.5 in /usr/local/lib/python3.7/dist-packages (from requests->kaggle) (2.10)\n",
            "Requirement already satisfied: chardet<4,>=3.0.2 in /usr/local/lib/python3.7/dist-packages (from requests->kaggle) (3.0.4)\n"
          ]
        }
      ],
      "source": [
        "!pip install catboost\n",
        "!pip install kaggle"
      ]
    },
    {
      "cell_type": "markdown",
      "id": "3fa90515",
      "metadata": {
        "papermill": {
          "duration": 0.008806,
          "end_time": "2022-07-15T16:13:27.422550",
          "exception": false,
          "start_time": "2022-07-15T16:13:27.413744",
          "status": "completed"
        },
        "tags": [],
        "id": "3fa90515"
      },
      "source": [
        "## Upload API Token"
      ]
    },
    {
      "cell_type": "code",
      "execution_count": 2,
      "id": "54e44e29",
      "metadata": {
        "execution": {
          "iopub.execute_input": "2022-07-15T16:13:27.442237Z",
          "iopub.status.busy": "2022-07-15T16:13:27.441555Z",
          "iopub.status.idle": "2022-07-15T16:13:27.448196Z",
          "shell.execute_reply": "2022-07-15T16:13:27.447549Z"
        },
        "papermill": {
          "duration": 0.01814,
          "end_time": "2022-07-15T16:13:27.449796",
          "exception": false,
          "start_time": "2022-07-15T16:13:27.431656",
          "status": "completed"
        },
        "tags": [],
        "id": "54e44e29",
        "outputId": "1254d740-1d82-4471-99d8-3c2b5fddf4cc",
        "colab": {
          "base_uri": "https://localhost:8080/"
        }
      },
      "outputs": [
        {
          "output_type": "stream",
          "name": "stdout",
          "text": [
            "Mounted at /content/drive\n"
          ]
        }
      ],
      "source": [
        "from google.colab import drive\n",
        "drive.mount('/content/drive')\n",
        "\n",
        "# Then move kaggle.json into the folder where the API expects to find it.\n",
        "!mkdir -p ~/.kaggle/ && cp /content/drive/MyDrive/backups/kaggle.json ~/.kaggle/ && chmod 600 ~/.kaggle/kaggle.json"
      ]
    },
    {
      "cell_type": "markdown",
      "id": "1abbc588",
      "metadata": {
        "papermill": {
          "duration": 0.008512,
          "end_time": "2022-07-15T16:13:27.467327",
          "exception": false,
          "start_time": "2022-07-15T16:13:27.458815",
          "status": "completed"
        },
        "tags": [],
        "id": "1abbc588"
      },
      "source": [
        "## Download and unzip dataset"
      ]
    },
    {
      "cell_type": "code",
      "execution_count": 3,
      "id": "c17f8dd7",
      "metadata": {
        "execution": {
          "iopub.execute_input": "2022-07-15T16:13:27.486038Z",
          "iopub.status.busy": "2022-07-15T16:13:27.485615Z",
          "iopub.status.idle": "2022-07-15T16:13:27.490276Z",
          "shell.execute_reply": "2022-07-15T16:13:27.489580Z"
        },
        "papermill": {
          "duration": 0.016071,
          "end_time": "2022-07-15T16:13:27.491993",
          "exception": false,
          "start_time": "2022-07-15T16:13:27.475922",
          "status": "completed"
        },
        "tags": [],
        "id": "c17f8dd7",
        "outputId": "eab91dd2-b3ca-4a62-9519-f650d5ae28d8",
        "colab": {
          "base_uri": "https://localhost:8080/"
        }
      },
      "outputs": [
        {
          "output_type": "stream",
          "name": "stdout",
          "text": [
            "Downloading amex-fe-plus3.zip to /content\n",
            "100% 3.45G/3.46G [00:32<00:00, 95.3MB/s]\n",
            "100% 3.46G/3.46G [00:32<00:00, 115MB/s] \n",
            "Archive:  /content/amex-fe-plus3.zip\n",
            "  inflating: test_fe_plus_plus.parquet  \n",
            "  inflating: train_fe_plus_plus.parquet  \n"
          ]
        }
      ],
      "source": [
        "!kaggle datasets download -d ryuina/amex-fe-plus3\n",
        "!unzip /content/amex-fe-plus3.zip"
      ]
    },
    {
      "cell_type": "code",
      "execution_count": 4,
      "id": "e4df1701",
      "metadata": {
        "execution": {
          "iopub.execute_input": "2022-07-15T16:13:27.515341Z",
          "iopub.status.busy": "2022-07-15T16:13:27.514880Z",
          "iopub.status.idle": "2022-07-15T16:13:27.523654Z",
          "shell.execute_reply": "2022-07-15T16:13:27.522700Z"
        },
        "papermill": {
          "duration": 0.025128,
          "end_time": "2022-07-15T16:13:27.526436",
          "exception": false,
          "start_time": "2022-07-15T16:13:27.501308",
          "status": "completed"
        },
        "tags": [],
        "id": "e4df1701",
        "outputId": "f2351c66-e9c9-439d-9650-51b3512bbecc",
        "colab": {
          "base_uri": "https://localhost:8080/"
        }
      },
      "outputs": [
        {
          "output_type": "stream",
          "name": "stdout",
          "text": [
            "Downloading sample_submission.csv.zip to /content\n",
            " 15% 5.00M/32.4M [00:00<00:00, 44.8MB/s]\n",
            "100% 32.4M/32.4M [00:00<00:00, 168MB/s] \n",
            "Archive:  /content/sample_submission.csv.zip\n",
            "  inflating: sample_submission.csv   \n"
          ]
        }
      ],
      "source": [
        "!kaggle competitions download -c amex-default-prediction -f sample_submission.csv\n",
        "!unzip /content/sample_submission.csv.zip"
      ]
    },
    {
      "cell_type": "markdown",
      "id": "f4989bdc",
      "metadata": {
        "papermill": {
          "duration": 0.016438,
          "end_time": "2022-07-15T16:13:27.558017",
          "exception": false,
          "start_time": "2022-07-15T16:13:27.541579",
          "status": "completed"
        },
        "tags": [],
        "id": "f4989bdc"
      },
      "source": [
        "# Settings"
      ]
    },
    {
      "cell_type": "code",
      "execution_count": 5,
      "id": "95e00624",
      "metadata": {
        "_cell_guid": "b1076dfc-b9ad-4769-8c92-a6c4dae69d19",
        "_uuid": "8f2839f25d086af736a60e9eeb907d3b93b6e0e5",
        "execution": {
          "iopub.execute_input": "2022-07-15T16:13:27.588423Z",
          "iopub.status.busy": "2022-07-15T16:13:27.588075Z",
          "iopub.status.idle": "2022-07-15T16:13:28.957484Z",
          "shell.execute_reply": "2022-07-15T16:13:28.956421Z"
        },
        "papermill": {
          "duration": 1.38867,
          "end_time": "2022-07-15T16:13:28.960624",
          "exception": false,
          "start_time": "2022-07-15T16:13:27.571954",
          "status": "completed"
        },
        "tags": [],
        "id": "95e00624"
      },
      "outputs": [],
      "source": [
        "import pandas as pd\n",
        "import numpy as np\n",
        "import matplotlib.pyplot as plt\n",
        "import random\n",
        "\n",
        "from catboost import CatBoostClassifier, Pool\n",
        "from sklearn.preprocessing import LabelEncoder\n",
        "from sklearn.model_selection import KFold\n",
        "from tqdm import tqdm\n",
        "\n",
        "import os\n",
        "import gc; gc.enable()\n",
        "\n",
        "import warnings\n",
        "warnings.filterwarnings('ignore')"
      ]
    },
    {
      "cell_type": "code",
      "execution_count": 6,
      "id": "004febdf",
      "metadata": {
        "execution": {
          "iopub.execute_input": "2022-07-15T16:13:28.994650Z",
          "iopub.status.busy": "2022-07-15T16:13:28.994155Z",
          "iopub.status.idle": "2022-07-15T16:13:29.006339Z",
          "shell.execute_reply": "2022-07-15T16:13:29.002101Z"
        },
        "papermill": {
          "duration": 0.030433,
          "end_time": "2022-07-15T16:13:29.008239",
          "exception": false,
          "start_time": "2022-07-15T16:13:28.977806",
          "status": "completed"
        },
        "tags": [],
        "id": "004febdf"
      },
      "outputs": [],
      "source": [
        "VER=10\n",
        "SEED = 42\n",
        "FOLDS = 5\n",
        "\n",
        "cat_features = [\"B_30\", \"B_38\", \"D_114\", \"D_116\", \"D_117\", \"D_120\", \"D_126\", \"D_63\", \"D_64\", \"D_66\", \"D_68\"]\n",
        "\n",
        "def seed_everything(seed):\n",
        "    random.seed(seed)\n",
        "    np.random.seed(seed)\n",
        "    os.environ['PYTHONHASHSEED'] = str(seed)\n",
        "\n",
        "seed_everything(SEED)"
      ]
    },
    {
      "cell_type": "code",
      "execution_count": 7,
      "id": "c0e94a28",
      "metadata": {
        "execution": {
          "iopub.execute_input": "2022-07-15T16:13:29.093540Z",
          "iopub.status.busy": "2022-07-15T16:13:29.093091Z",
          "iopub.status.idle": "2022-07-15T16:14:14.382522Z",
          "shell.execute_reply": "2022-07-15T16:14:14.381643Z"
        },
        "papermill": {
          "duration": 45.307941,
          "end_time": "2022-07-15T16:14:14.385086",
          "exception": false,
          "start_time": "2022-07-15T16:13:29.077145",
          "status": "completed"
        },
        "tags": [],
        "id": "c0e94a28"
      },
      "outputs": [],
      "source": [
        "train = pd.read_parquet(\"/content/train_fe_plus_plus.parquet\")\n",
        "# train = train.reset_index(level=0)\n",
        "test = pd.read_parquet(\"/content/test_fe_plus_plus.parquet\")\n",
        "# test = test.reset_index(level=0)"
      ]
    },
    {
      "cell_type": "code",
      "execution_count": 8,
      "id": "81cbcbdf",
      "metadata": {
        "execution": {
          "iopub.execute_input": "2022-07-15T16:14:14.404618Z",
          "iopub.status.busy": "2022-07-15T16:14:14.404283Z",
          "iopub.status.idle": "2022-07-15T16:14:16.433273Z",
          "shell.execute_reply": "2022-07-15T16:14:16.432437Z"
        },
        "papermill": {
          "duration": 2.041229,
          "end_time": "2022-07-15T16:14:16.435648",
          "exception": false,
          "start_time": "2022-07-15T16:14:14.394419",
          "status": "completed"
        },
        "tags": [],
        "id": "81cbcbdf"
      },
      "outputs": [],
      "source": [
        "cat_features_last = [f\"{cf}_last\" for cf in cat_features]\n",
        "\n",
        "le_encoder = LabelEncoder()\n",
        "for categorical_feature in cat_features_last:\n",
        "    train[categorical_feature] = le_encoder.fit_transform(train[categorical_feature])\n",
        "    test[categorical_feature] = le_encoder.transform(test[categorical_feature])"
      ]
    },
    {
      "cell_type": "code",
      "execution_count": 9,
      "id": "b931bba5",
      "metadata": {
        "execution": {
          "iopub.execute_input": "2022-07-15T16:14:16.455441Z",
          "iopub.status.busy": "2022-07-15T16:14:16.455092Z",
          "iopub.status.idle": "2022-07-15T16:14:18.013098Z",
          "shell.execute_reply": "2022-07-15T16:14:18.012027Z"
        },
        "papermill": {
          "duration": 1.570551,
          "end_time": "2022-07-15T16:14:18.015521",
          "exception": false,
          "start_time": "2022-07-15T16:14:16.444970",
          "status": "completed"
        },
        "tags": [],
        "id": "b931bba5",
        "outputId": "29281d88-b742-4cba-9712-63327344a09f",
        "colab": {
          "base_uri": "https://localhost:8080/"
        }
      },
      "outputs": [
        {
          "output_type": "stream",
          "name": "stderr",
          "text": [
            "100%|██████████| 1536/1536 [10:10<00:00,  2.51it/s]\n"
          ]
        }
      ],
      "source": [
        "# https://www.kaggle.com/code/ragnar123/amex-lgbm-dart-cv-0-7963\n",
        "# Round last float features to 2 decimal place\n",
        "float_cols = list(train.dtypes[(train.dtypes == 'float32') | (train.dtypes == 'float64')].index)\n",
        "float_cols = [col for col in float_cols if 'last' in col]\n",
        "\n",
        "for col in float_cols:\n",
        "    train[col + '_round2'] = train[col].round(2)\n",
        "    test[col + '_round2'] = test[col].round(2)\n",
        "\n",
        "num_cols = [col for col in train.columns if 'last' in col]\n",
        "num_cols = [col[:-5] for col in num_cols if 'round' not in col]\n",
        "for col in num_cols:\n",
        "    try:\n",
        "        # train[f'{col}_max-last'] = train[f'{col}_max'] - train[f'{col}_last']\n",
        "        # test[f'{col}_max-last'] = test[f'{col}_max'] - test[f'{col}_last']\n",
        "\n",
        "        # train[f'{col}_mean_min'] = train[f'{col}_mean'] - train[f'{col}_min']\n",
        "        # test[f'{col}_mean_min'] = test[f'{col}_mean'] - test[f'{col}_min']\n",
        "\n",
        "        train[f'{col}_last_mean'] = train[f'{col}_last'] - train[f'{col}_mean']\n",
        "        test[f'{col}_last_mean'] = test[f'{col}_last'] - test[f'{col}_mean']\n",
        "\n",
        "        train[f'{col}_last_mean_div'] = train[f'{col}_last'] / train[f'{col}_mean']\n",
        "        test[f'{col}_last_mean_div'] = test[f'{col}_last'] / test[f'{col}_mean']\n",
        "    except: pass\n",
        "\n",
        "num_cols = list(train.dtypes[(train.dtypes == 'float32') | (train.dtypes == 'float64')].index)\n",
        "for col in tqdm(num_cols):\n",
        "    train[col] = train[col].astype(np.float16)\n",
        "    test[col] = test[col].astype(np.float16)"
      ]
    },
    {
      "cell_type": "code",
      "execution_count": 10,
      "id": "ba13c62d",
      "metadata": {
        "execution": {
          "iopub.execute_input": "2022-07-15T16:14:18.035731Z",
          "iopub.status.busy": "2022-07-15T16:14:18.035409Z",
          "iopub.status.idle": "2022-07-15T16:14:24.212689Z",
          "shell.execute_reply": "2022-07-15T16:14:24.207569Z"
        },
        "papermill": {
          "duration": 6.191719,
          "end_time": "2022-07-15T16:14:24.216845",
          "exception": false,
          "start_time": "2022-07-15T16:14:18.025126",
          "status": "completed"
        },
        "tags": [],
        "id": "ba13c62d",
        "outputId": "01c6f364-b98e-42e8-ba41-256b53859302",
        "colab": {
          "base_uri": "https://localhost:8080/"
        }
      },
      "outputs": [
        {
          "output_type": "stream",
          "name": "stdout",
          "text": [
            "We have 2000 features!\n"
          ]
        }
      ],
      "source": [
        "train = train.set_index('customer_ID')\n",
        "train = train.sort_index().reset_index()\n",
        "FEATURES = train.drop(columns=['customer_ID', 'target']).columns\n",
        "\n",
        "print(f\"We have {len(FEATURES)} features!\")"
      ]
    },
    {
      "cell_type": "code",
      "execution_count": 11,
      "id": "f0ecff48",
      "metadata": {
        "execution": {
          "iopub.execute_input": "2022-07-15T16:14:24.269747Z",
          "iopub.status.busy": "2022-07-15T16:14:24.269149Z",
          "iopub.status.idle": "2022-07-15T16:14:24.287474Z",
          "shell.execute_reply": "2022-07-15T16:14:24.284982Z"
        },
        "papermill": {
          "duration": 0.043293,
          "end_time": "2022-07-15T16:14:24.290609",
          "exception": false,
          "start_time": "2022-07-15T16:14:24.247316",
          "status": "completed"
        },
        "tags": [],
        "id": "f0ecff48"
      },
      "outputs": [],
      "source": [
        "# https://www.kaggle.com/competitions/amex-default-prediction/discussion/328020\n",
        "# https://www.kaggle.com/code/rohanrao/amex-competition-metric-implementations\n",
        "def amex_metric_np(target: np.ndarray, preds: np.ndarray) -> float:\n",
        "    indices = np.argsort(preds)[::-1]\n",
        "    preds, target = preds[indices], target[indices]\n",
        "\n",
        "    n_pos = np.sum(target)\n",
        "    n_neg = target.shape[0] - n_pos\n",
        "    \n",
        "    weight = 20.0 - target * 19.0\n",
        "    cum_norm_weight = (weight * (1 / weight.sum())).cumsum()\n",
        "    four_pct_mask = cum_norm_weight <= 0.04\n",
        "    d = np.sum(target[four_pct_mask]) / n_pos\n",
        "    \n",
        "    lorentz = (target * (1 / n_pos)).cumsum()\n",
        "    gini = ((lorentz - cum_norm_weight) * weight).sum()\n",
        "    gini_max = 10 * n_neg * (1 - 19 / (n_pos + 20 * n_neg))\n",
        "\n",
        "    g = gini / gini_max\n",
        "\n",
        "    return 0.5 * (g + d)"
      ]
    },
    {
      "cell_type": "code",
      "execution_count": 12,
      "id": "155fb197",
      "metadata": {
        "execution": {
          "iopub.execute_input": "2022-07-15T16:14:24.334040Z",
          "iopub.status.busy": "2022-07-15T16:14:24.333456Z",
          "iopub.status.idle": "2022-07-15T16:14:24.341948Z",
          "shell.execute_reply": "2022-07-15T16:14:24.341087Z"
        },
        "papermill": {
          "duration": 0.030338,
          "end_time": "2022-07-15T16:14:24.346412",
          "exception": false,
          "start_time": "2022-07-15T16:14:24.316074",
          "status": "completed"
        },
        "tags": [],
        "id": "155fb197"
      },
      "outputs": [],
      "source": [
        "cat_params = {\n",
        "    'iterations':25000,\n",
        "    'random_state':SEED,\n",
        "    'learning_rate':0.03,\n",
        "\n",
        "    # 'depth': 4,\n",
        "    'max_depth': 7,\n",
        "    \"od_type\": 'Iter',\n",
        "    'l2_leaf_reg':70,\n",
        "    # 'one_hot_max_size':20,\n",
        "    # 'random_strength': 0.8,\n",
        "    # 'bagging_temperature': 8,\n",
        "\n",
        "    # 'num_leaves': 100,\n",
        "    'min_child_samples': 8,\n",
        "\n",
        "    'task_type':\"GPU\",\n",
        "    'border_count':128,\n",
        "}"
      ]
    },
    {
      "cell_type": "code",
      "execution_count": 13,
      "id": "72e0dac6",
      "metadata": {
        "execution": {
          "iopub.execute_input": "2022-07-15T16:14:24.385070Z",
          "iopub.status.busy": "2022-07-15T16:14:24.384608Z",
          "iopub.status.idle": "2022-07-15T16:48:45.264974Z",
          "shell.execute_reply": "2022-07-15T16:48:45.263500Z"
        },
        "papermill": {
          "duration": 2060.899656,
          "end_time": "2022-07-15T16:48:45.266833",
          "exception": false,
          "start_time": "2022-07-15T16:14:24.367177",
          "status": "completed"
        },
        "tags": [],
        "id": "72e0dac6",
        "outputId": "34b6f47f-13a7-44d3-a12f-716feb58a6ce",
        "colab": {
          "base_uri": "https://localhost:8080/"
        }
      },
      "outputs": [
        {
          "output_type": "stream",
          "name": "stdout",
          "text": [
            "#########################\n",
            "### Fold 1\n",
            "### Train size 367130 Valid size 91783\n",
            "### Training with 100% fold data...\n",
            "#########################\n",
            "0:\tlearn: 0.6563542\ttest: 0.6563231\tbest: 0.6563231 (0)\ttotal: 103ms\tremaining: 43m 4s\n",
            "1000:\tlearn: 0.2103249\ttest: 0.2197253\tbest: 0.2197253 (1000)\ttotal: 1m 26s\tremaining: 34m 33s\n",
            "2000:\tlearn: 0.2017177\ttest: 0.2181963\tbest: 0.2181963 (2000)\ttotal: 2m 50s\tremaining: 32m 42s\n",
            "3000:\tlearn: 0.1948805\ttest: 0.2175547\tbest: 0.2175547 (3000)\ttotal: 4m 14s\tremaining: 31m 4s\n",
            "4000:\tlearn: 0.1887469\ttest: 0.2171177\tbest: 0.2171177 (4000)\ttotal: 5m 37s\tremaining: 29m 33s\n",
            "5000:\tlearn: 0.1829324\ttest: 0.2168265\tbest: 0.2168206 (4992)\ttotal: 7m 1s\tremaining: 28m 6s\n",
            "6000:\tlearn: 0.1773727\ttest: 0.2166536\tbest: 0.2166469 (5993)\ttotal: 8m 25s\tremaining: 26m 39s\n",
            "7000:\tlearn: 0.1722755\ttest: 0.2165170\tbest: 0.2165128 (6986)\ttotal: 9m 49s\tremaining: 25m 14s\n",
            "8000:\tlearn: 0.1673200\ttest: 0.2163702\tbest: 0.2163470 (7937)\ttotal: 11m 13s\tremaining: 23m 49s\n",
            "9000:\tlearn: 0.1624441\ttest: 0.2163110\tbest: 0.2162927 (8815)\ttotal: 12m 37s\tremaining: 22m 25s\n",
            "10000:\tlearn: 0.1576933\ttest: 0.2162891\tbest: 0.2162772 (9921)\ttotal: 14m 1s\tremaining: 21m 1s\n",
            "11000:\tlearn: 0.1531164\ttest: 0.2162000\tbest: 0.2161683 (10722)\ttotal: 15m 25s\tremaining: 19m 37s\n",
            "bestTest = 0.2161683119\n",
            "bestIteration = 10722\n",
            "Shrink model to first 10723 iterations.\n",
            "Amex Metric = 0.7963996343641377 \n",
            "\n",
            "#########################\n",
            "### Fold 2\n",
            "### Train size 367130 Valid size 91783\n",
            "### Training with 100% fold data...\n",
            "#########################\n",
            "0:\tlearn: 0.6560454\ttest: 0.6560642\tbest: 0.6560642 (0)\ttotal: 96ms\tremaining: 40m\n",
            "1000:\tlearn: 0.2100876\ttest: 0.2196089\tbest: 0.2196078 (999)\ttotal: 1m 27s\tremaining: 34m 51s\n",
            "2000:\tlearn: 0.2018229\ttest: 0.2180838\tbest: 0.2180838 (2000)\ttotal: 2m 51s\tremaining: 32m 48s\n",
            "3000:\tlearn: 0.1948702\ttest: 0.2173178\tbest: 0.2173178 (2999)\ttotal: 4m 14s\tremaining: 31m 8s\n",
            "4000:\tlearn: 0.1887860\ttest: 0.2169373\tbest: 0.2169274 (3963)\ttotal: 5m 38s\tremaining: 29m 37s\n",
            "5000:\tlearn: 0.1833128\ttest: 0.2166875\tbest: 0.2166862 (4990)\ttotal: 7m 1s\tremaining: 28m 7s\n",
            "6000:\tlearn: 0.1779687\ttest: 0.2165080\tbest: 0.2165080 (6000)\ttotal: 8m 25s\tremaining: 26m 39s\n",
            "7000:\tlearn: 0.1728381\ttest: 0.2163698\tbest: 0.2163642 (6902)\ttotal: 9m 48s\tremaining: 25m 13s\n",
            "8000:\tlearn: 0.1678152\ttest: 0.2162167\tbest: 0.2162129 (7898)\ttotal: 11m 12s\tremaining: 23m 49s\n",
            "9000:\tlearn: 0.1629861\ttest: 0.2161641\tbest: 0.2161406 (8905)\ttotal: 12m 36s\tremaining: 22m 24s\n",
            "bestTest = 0.2161406056\n",
            "bestIteration = 8905\n",
            "Shrink model to first 8906 iterations.\n",
            "Amex Metric = 0.7944130573333872 \n",
            "\n",
            "#########################\n",
            "### Fold 3\n",
            "### Train size 367130 Valid size 91783\n",
            "### Training with 100% fold data...\n",
            "#########################\n",
            "0:\tlearn: 0.6561640\ttest: 0.6560945\tbest: 0.6560945 (0)\ttotal: 98ms\tremaining: 40m 49s\n",
            "1000:\tlearn: 0.2106095\ttest: 0.2166535\tbest: 0.2166535 (1000)\ttotal: 1m 26s\tremaining: 34m 45s\n",
            "2000:\tlearn: 0.2020869\ttest: 0.2150480\tbest: 0.2150480 (2000)\ttotal: 2m 51s\tremaining: 32m 46s\n",
            "3000:\tlearn: 0.1953476\ttest: 0.2142859\tbest: 0.2142817 (2998)\ttotal: 4m 14s\tremaining: 31m 8s\n",
            "4000:\tlearn: 0.1893025\ttest: 0.2138805\tbest: 0.2138805 (3999)\ttotal: 5m 38s\tremaining: 29m 36s\n",
            "5000:\tlearn: 0.1838260\ttest: 0.2136817\tbest: 0.2136797 (4997)\ttotal: 7m 1s\tremaining: 28m 6s\n",
            "6000:\tlearn: 0.1785447\ttest: 0.2134555\tbest: 0.2134555 (6000)\ttotal: 8m 24s\tremaining: 26m 38s\n",
            "7000:\tlearn: 0.1732736\ttest: 0.2132662\tbest: 0.2132449 (6897)\ttotal: 9m 48s\tremaining: 25m 13s\n",
            "8000:\tlearn: 0.1681996\ttest: 0.2131105\tbest: 0.2131083 (7995)\ttotal: 11m 12s\tremaining: 23m 49s\n",
            "9000:\tlearn: 0.1634798\ttest: 0.2130217\tbest: 0.2130183 (8997)\ttotal: 12m 36s\tremaining: 22m 24s\n",
            "10000:\tlearn: 0.1588721\ttest: 0.2129721\tbest: 0.2129512 (9489)\ttotal: 14m\tremaining: 21m\n",
            "11000:\tlearn: 0.1543529\ttest: 0.2128520\tbest: 0.2128504 (10968)\ttotal: 15m 24s\tremaining: 19m 36s\n",
            "12000:\tlearn: 0.1498828\ttest: 0.2128147\tbest: 0.2127977 (11913)\ttotal: 16m 49s\tremaining: 18m 13s\n",
            "13000:\tlearn: 0.1456400\ttest: 0.2127914\tbest: 0.2127872 (12868)\ttotal: 18m 13s\tremaining: 16m 49s\n",
            "14000:\tlearn: 0.1413630\ttest: 0.2128593\tbest: 0.2127693 (13122)\ttotal: 19m 38s\tremaining: 15m 26s\n",
            "bestTest = 0.2127693301\n",
            "bestIteration = 13122\n",
            "Shrink model to first 13123 iterations.\n",
            "Amex Metric = 0.797257053225924 \n",
            "\n",
            "#########################\n",
            "### Fold 4\n",
            "### Train size 367131 Valid size 91782\n",
            "### Training with 100% fold data...\n",
            "#########################\n",
            "0:\tlearn: 0.6561776\ttest: 0.6562181\tbest: 0.6562181 (0)\ttotal: 97ms\tremaining: 40m 24s\n",
            "1000:\tlearn: 0.2103514\ttest: 0.2197435\tbest: 0.2197435 (1000)\ttotal: 1m 27s\tremaining: 34m 47s\n",
            "2000:\tlearn: 0.2021959\ttest: 0.2181550\tbest: 0.2181547 (1996)\ttotal: 2m 51s\tremaining: 32m 48s\n",
            "3000:\tlearn: 0.1954099\ttest: 0.2173136\tbest: 0.2173133 (2999)\ttotal: 4m 15s\tremaining: 31m 10s\n",
            "4000:\tlearn: 0.1891615\ttest: 0.2167974\tbest: 0.2167930 (3980)\ttotal: 5m 39s\tremaining: 29m 39s\n",
            "5000:\tlearn: 0.1837573\ttest: 0.2165193\tbest: 0.2165193 (5000)\ttotal: 7m 2s\tremaining: 28m 10s\n",
            "6000:\tlearn: 0.1783601\ttest: 0.2163653\tbest: 0.2163653 (6000)\ttotal: 8m 26s\tremaining: 26m 43s\n",
            "7000:\tlearn: 0.1731910\ttest: 0.2161607\tbest: 0.2161553 (6924)\ttotal: 9m 50s\tremaining: 25m 17s\n",
            "8000:\tlearn: 0.1680476\ttest: 0.2159721\tbest: 0.2159495 (7966)\ttotal: 11m 14s\tremaining: 23m 53s\n",
            "9000:\tlearn: 0.1631849\ttest: 0.2158607\tbest: 0.2158607 (9000)\ttotal: 12m 39s\tremaining: 22m 29s\n",
            "10000:\tlearn: 0.1585707\ttest: 0.2158310\tbest: 0.2158165 (9624)\ttotal: 14m 3s\tremaining: 21m 4s\n",
            "11000:\tlearn: 0.1540043\ttest: 0.2158080\tbest: 0.2157867 (10596)\ttotal: 15m 27s\tremaining: 19m 40s\n",
            "bestTest = 0.2157866688\n",
            "bestIteration = 10596\n",
            "Shrink model to first 10597 iterations.\n",
            "Amex Metric = 0.7930227823488445 \n",
            "\n",
            "#########################\n",
            "### Fold 5\n",
            "### Train size 367131 Valid size 91782\n",
            "### Training with 100% fold data...\n",
            "#########################\n",
            "0:\tlearn: 0.6561204\ttest: 0.6562985\tbest: 0.6562985 (0)\ttotal: 96.6ms\tremaining: 40m 14s\n",
            "1000:\tlearn: 0.2097993\ttest: 0.2215412\tbest: 0.2215412 (1000)\ttotal: 1m 27s\tremaining: 34m 49s\n",
            "2000:\tlearn: 0.2012575\ttest: 0.2199427\tbest: 0.2199407 (1997)\ttotal: 2m 51s\tremaining: 32m 55s\n",
            "3000:\tlearn: 0.1948836\ttest: 0.2191883\tbest: 0.2191883 (3000)\ttotal: 4m 15s\tremaining: 31m 12s\n",
            "4000:\tlearn: 0.1886231\ttest: 0.2186891\tbest: 0.2186854 (3995)\ttotal: 5m 39s\tremaining: 29m 43s\n",
            "5000:\tlearn: 0.1830060\ttest: 0.2183871\tbest: 0.2183854 (4998)\ttotal: 7m 3s\tremaining: 28m 13s\n",
            "6000:\tlearn: 0.1776313\ttest: 0.2181831\tbest: 0.2181724 (5980)\ttotal: 8m 27s\tremaining: 26m 46s\n",
            "7000:\tlearn: 0.1725134\ttest: 0.2180336\tbest: 0.2180291 (6978)\ttotal: 9m 51s\tremaining: 25m 20s\n",
            "8000:\tlearn: 0.1673459\ttest: 0.2178981\tbest: 0.2178981 (8000)\ttotal: 11m 16s\tremaining: 23m 56s\n",
            "9000:\tlearn: 0.1624060\ttest: 0.2178321\tbest: 0.2178184 (8969)\ttotal: 12m 40s\tremaining: 22m 31s\n",
            "10000:\tlearn: 0.1577073\ttest: 0.2177608\tbest: 0.2177536 (9964)\ttotal: 14m 5s\tremaining: 21m 8s\n",
            "11000:\tlearn: 0.1531837\ttest: 0.2177345\tbest: 0.2177090 (10490)\ttotal: 15m 30s\tremaining: 19m 43s\n",
            "12000:\tlearn: 0.1488095\ttest: 0.2177654\tbest: 0.2177080 (11205)\ttotal: 16m 54s\tremaining: 18m 19s\n",
            "bestTest = 0.2177080226\n",
            "bestIteration = 11205\n",
            "Shrink model to first 11206 iterations.\n",
            "Amex Metric = 0.7947411461613774 \n",
            "\n",
            "#########################\n",
            "Overall Amex metric: 0.7951271214211263\n"
          ]
        }
      ],
      "source": [
        "importances = []\n",
        "oof = []\n",
        "gc.collect()\n",
        "\n",
        "clf = CatBoostClassifier(**cat_params)\n",
        "skf = KFold(n_splits=FOLDS, shuffle=True, random_state=SEED)\n",
        "for fold,(train_idx, valid_idx) in enumerate(skf.split(train, train.target)):\n",
        "    print('#'*25)\n",
        "    print('### Fold',fold+1)\n",
        "    print('### Train size',len(train_idx),'Valid size',len(valid_idx))\n",
        "    print(f'### Training with 100% fold data...')\n",
        "    print('#'*25)\n",
        "    \n",
        "    # TRAIN, VALID, TEST FOR FOLD K\n",
        "    X_train = train.loc[train_idx, FEATURES]\n",
        "    X_valid = train.target.iloc[train_idx]\n",
        "    y_train = train.loc[valid_idx, FEATURES]\n",
        "    y_valid = train.target.iloc[valid_idx]\n",
        "    \n",
        "    # TRAIN MODEL FOLD K\n",
        "    model = clf.fit(X_train,\n",
        "                    X_valid,\n",
        "                    cat_features=cat_features_last,\n",
        "                    eval_set=[(y_train, y_valid)],\n",
        "                    use_best_model=True,\n",
        "                    early_stopping_rounds=1000,\n",
        "                    verbose_eval=1000)\n",
        "    model.save_model(f'CAT_v{VER}_fold{fold}.cbm')\n",
        "    \n",
        "    # GET FEATURE IMPORTANCE FOR FOLD K\n",
        "    dd = model.feature_importances_\n",
        "    df = pd.DataFrame({'feature':FEATURES,f'importance_{fold}':dd})\n",
        "    importances.append(df)\n",
        "            \n",
        "    # INFER OOF FOLD K\n",
        "    oof_preds = model.predict_proba(y_train)[:, 1]\n",
        "    acc = amex_metric_np(y_valid.values, oof_preds)\n",
        "    print('Amex Metric =',acc,'\\n')\n",
        "\n",
        "    df = train.loc[valid_idx, ['customer_ID','target'] ].copy()\n",
        "    df['oof_preds'] = oof_preds\n",
        "    oof.append(df)\n",
        "    \n",
        "    del X_train, y_train, dd, df\n",
        "    del X_valid, y_valid, model\n",
        "    _ = gc.collect()\n",
        "    \n",
        "print('#'*25)\n",
        "oof = pd.concat(oof,axis=0,ignore_index=True).set_index('customer_ID')\n",
        "acc = amex_metric_np(oof.target.values, oof.oof_preds.values)\n",
        "print(f\"Overall Amex metric: {acc}\")"
      ]
    },
    {
      "cell_type": "code",
      "execution_count": 14,
      "id": "9382e3d0",
      "metadata": {
        "execution": {
          "iopub.execute_input": "2022-07-15T16:48:45.305370Z",
          "iopub.status.busy": "2022-07-15T16:48:45.304754Z",
          "iopub.status.idle": "2022-07-15T16:48:45.407975Z",
          "shell.execute_reply": "2022-07-15T16:48:45.407068Z"
        },
        "papermill": {
          "duration": 0.123941,
          "end_time": "2022-07-15T16:48:45.409679",
          "exception": false,
          "start_time": "2022-07-15T16:48:45.285738",
          "status": "completed"
        },
        "tags": [],
        "id": "9382e3d0"
      },
      "outputs": [],
      "source": [
        "del train\n",
        "_ = gc.collect()"
      ]
    },
    {
      "cell_type": "code",
      "execution_count": 15,
      "id": "3610c1b3",
      "metadata": {
        "execution": {
          "iopub.execute_input": "2022-07-15T16:48:45.448225Z",
          "iopub.status.busy": "2022-07-15T16:48:45.447584Z",
          "iopub.status.idle": "2022-07-15T16:48:45.488638Z",
          "shell.execute_reply": "2022-07-15T16:48:45.487878Z"
        },
        "papermill": {
          "duration": 0.06166,
          "end_time": "2022-07-15T16:48:45.490338",
          "exception": false,
          "start_time": "2022-07-15T16:48:45.428678",
          "status": "completed"
        },
        "scrolled": true,
        "tags": [],
        "id": "3610c1b3"
      },
      "outputs": [],
      "source": [
        "df = importances[0].copy()\n",
        "for k in range(1,FOLDS): df = df.merge(importances[k], on='feature', how='left')\n",
        "df['importance'] = df.iloc[:,1:].mean(axis=1, numeric_only=True)\n",
        "df = df.sort_values('importance',ascending=False)\n",
        "df.to_csv(f'cat_feature_importance_v{VER}.csv',index=False)"
      ]
    },
    {
      "cell_type": "code",
      "execution_count": 16,
      "id": "69357676",
      "metadata": {
        "execution": {
          "iopub.execute_input": "2022-07-15T16:48:45.527853Z",
          "iopub.status.busy": "2022-07-15T16:48:45.527216Z",
          "iopub.status.idle": "2022-07-15T16:48:45.823812Z",
          "shell.execute_reply": "2022-07-15T16:48:45.823089Z"
        },
        "papermill": {
          "duration": 0.317159,
          "end_time": "2022-07-15T16:48:45.825544",
          "exception": false,
          "start_time": "2022-07-15T16:48:45.508385",
          "status": "completed"
        },
        "tags": [],
        "id": "69357676",
        "outputId": "18131ea0-9f8c-483d-b4b4-5281ab1c4303",
        "colab": {
          "base_uri": "https://localhost:8080/",
          "height": 607
        }
      },
      "outputs": [
        {
          "output_type": "display_data",
          "data": {
            "text/plain": [
              "<Figure size 720x720 with 1 Axes>"
            ],
            "image/png": "[encoded data removed]"
          },
          "metadata": {
            "needs_background": "light"
          }
        }
      ],
      "source": [
        "NUM_FEATURES = 20\n",
        "plt.figure(figsize=(10,5*NUM_FEATURES//10))\n",
        "plt.barh(np.arange(NUM_FEATURES,0,-1), df.importance.values[:NUM_FEATURES])\n",
        "plt.yticks(np.arange(NUM_FEATURES,0,-1), df.feature.values[:NUM_FEATURES])\n",
        "plt.title(f'CAT Feature Importance - Top {NUM_FEATURES}')\n",
        "plt.show()"
      ]
    },
    {
      "cell_type": "markdown",
      "id": "bf46dad6",
      "metadata": {
        "papermill": {
          "duration": 0.018388,
          "end_time": "2022-07-15T16:48:45.862462",
          "exception": false,
          "start_time": "2022-07-15T16:48:45.844074",
          "status": "completed"
        },
        "tags": [],
        "id": "bf46dad6"
      },
      "source": [
        "# Test part"
      ]
    },
    {
      "cell_type": "code",
      "execution_count": 17,
      "id": "c28f1826",
      "metadata": {
        "execution": {
          "iopub.execute_input": "2022-07-15T16:48:45.901178Z",
          "iopub.status.busy": "2022-07-15T16:48:45.900848Z",
          "iopub.status.idle": "2022-07-15T16:48:45.907526Z",
          "shell.execute_reply": "2022-07-15T16:48:45.906709Z"
        },
        "papermill": {
          "duration": 0.027751,
          "end_time": "2022-07-15T16:48:45.909278",
          "exception": false,
          "start_time": "2022-07-15T16:48:45.881527",
          "status": "completed"
        },
        "tags": [],
        "id": "c28f1826"
      },
      "outputs": [],
      "source": [
        "# CALCULATE SIZE OF EACH SEPARATE TEST PART\n",
        "def get_rows(customers, test, NUM_PARTS = 4, verbose = ''):\n",
        "    chunk = len(customers)//NUM_PARTS\n",
        "    if verbose != '':\n",
        "        print(f'We will process {verbose} data as {NUM_PARTS} separate parts.')\n",
        "        print(f'There will be {chunk} customers in each part (except the last part).')\n",
        "        print('Below are number of rows in each part:')\n",
        "    rows = []\n",
        "\n",
        "    for k in range(NUM_PARTS):\n",
        "        if k==NUM_PARTS-1: cc = customers[k*chunk:]\n",
        "        else: cc = customers[k*chunk:(k+1)*chunk]\n",
        "        s = test.loc[test.customer_ID.isin(cc)].shape[0]\n",
        "        rows.append(s)\n",
        "    if verbose != '': print( rows )\n",
        "    return rows,chunk"
      ]
    },
    {
      "cell_type": "code",
      "execution_count": 18,
      "id": "8c7e70c5",
      "metadata": {
        "execution": {
          "iopub.execute_input": "2022-07-15T16:48:45.947705Z",
          "iopub.status.busy": "2022-07-15T16:48:45.947377Z",
          "iopub.status.idle": "2022-07-15T16:48:47.039525Z",
          "shell.execute_reply": "2022-07-15T16:48:47.038640Z"
        },
        "papermill": {
          "duration": 1.113806,
          "end_time": "2022-07-15T16:48:47.041416",
          "exception": false,
          "start_time": "2022-07-15T16:48:45.927610",
          "status": "completed"
        },
        "tags": [],
        "id": "8c7e70c5",
        "outputId": "ee2db25f-22b1-4599-ee6d-baf0268d65c2",
        "colab": {
          "base_uri": "https://localhost:8080/"
        }
      },
      "outputs": [
        {
          "output_type": "stream",
          "name": "stdout",
          "text": [
            "We will process test data as 4 separate parts.\n",
            "There will be 231155 customers in each part (except the last part).\n",
            "Below are number of rows in each part:\n",
            "[231155, 231155, 231155, 231156]\n"
          ]
        }
      ],
      "source": [
        "# COMPUTE SIZE OF 4 PARTS FOR TEST DATA\n",
        "NUM_PARTS = 4\n",
        "\n",
        "customers = test[['customer_ID']].drop_duplicates().sort_index().values.flatten()\n",
        "rows,num_cust = get_rows(customers, test[['customer_ID']], NUM_PARTS = NUM_PARTS, verbose = 'test')"
      ]
    },
    {
      "cell_type": "code",
      "execution_count": 19,
      "id": "9cf53fd3",
      "metadata": {
        "execution": {
          "iopub.execute_input": "2022-07-15T16:48:47.081924Z",
          "iopub.status.busy": "2022-07-15T16:48:47.081615Z",
          "iopub.status.idle": "2022-07-15T16:50:55.407348Z",
          "shell.execute_reply": "2022-07-15T16:50:55.406352Z"
        },
        "papermill": {
          "duration": 128.349422,
          "end_time": "2022-07-15T16:50:55.410249",
          "exception": false,
          "start_time": "2022-07-15T16:48:47.060827",
          "status": "completed"
        },
        "tags": [],
        "id": "9cf53fd3",
        "outputId": "628fb51a-fd57-43f4-d426-a465819437c5",
        "colab": {
          "base_uri": "https://localhost:8080/"
        }
      },
      "outputs": [
        {
          "output_type": "stream",
          "name": "stdout",
          "text": [
            "\n",
            "Reading test data...\n",
            "=> Test part 1 has shape (231155, 2000)\n",
            "\n",
            "Reading test data...\n",
            "=> Test part 2 has shape (231155, 2000)\n",
            "\n",
            "Reading test data...\n",
            "=> Test part 3 has shape (231155, 2000)\n",
            "\n",
            "Reading test data...\n",
            "=> Test part 4 has shape (231156, 2000)\n"
          ]
        }
      ],
      "source": [
        "# INFER TEST DATA IN PARTS\n",
        "skip_rows = 0\n",
        "skip_cust = 0\n",
        "test_preds = []\n",
        "\n",
        "for k in range(NUM_PARTS):\n",
        "    # READ PART OF TEST DATA\n",
        "    print(f'\\nReading test data...')\n",
        "    test_copy = test.iloc[skip_rows:skip_rows+rows[k]].copy()\n",
        "    test_copy = test_copy.set_index('customer_ID')\n",
        "    skip_rows += rows[k]\n",
        "    print(f'=> Test part {k+1} has shape', test_copy.shape )\n",
        "    \n",
        "    # PROCESS AND FEATURE ENGINEER PART OF TEST DATA\n",
        "    if k==NUM_PARTS-1: test_copy = test_copy.loc[customers[skip_cust:]]\n",
        "    else: test_copy = test_copy.loc[customers[skip_cust:skip_cust+num_cust]]\n",
        "    skip_cust += num_cust\n",
        "        \n",
        "    # INFER XGB MODELS ON TEST DATA\n",
        "    model = CatBoostClassifier(**cat_params)\n",
        "    model.load_model(f'CAT_v{VER}_fold0.cbm')\n",
        "    preds = model.predict_proba(test_copy)[:, 1]\n",
        "    for f in range(1,FOLDS):\n",
        "        model.load_model(f'CAT_v{VER}_fold{f}.cbm')\n",
        "        preds += model.predict_proba(test_copy)[:, 1]\n",
        "    preds /= FOLDS\n",
        "    test_preds.append(preds)\n",
        "\n",
        "    # CLEAN MEMORY\n",
        "    del test_copy, model\n",
        "    _ = gc.collect()\n",
        "\n",
        "del test\n",
        "_ = gc.collect()"
      ]
    },
    {
      "cell_type": "markdown",
      "id": "02259545",
      "metadata": {
        "papermill": {
          "duration": 0.067515,
          "end_time": "2022-07-15T16:50:55.538577",
          "exception": false,
          "start_time": "2022-07-15T16:50:55.471062",
          "status": "completed"
        },
        "tags": [],
        "id": "02259545"
      },
      "source": [
        "# Submit"
      ]
    },
    {
      "cell_type": "code",
      "execution_count": 20,
      "id": "00d908fd",
      "metadata": {
        "execution": {
          "iopub.execute_input": "2022-07-15T16:50:55.628196Z",
          "iopub.status.busy": "2022-07-15T16:50:55.627855Z",
          "iopub.status.idle": "2022-07-15T16:51:02.864876Z",
          "shell.execute_reply": "2022-07-15T16:51:02.864114Z"
        },
        "papermill": {
          "duration": 7.268354,
          "end_time": "2022-07-15T16:51:02.866646",
          "exception": false,
          "start_time": "2022-07-15T16:50:55.598292",
          "status": "completed"
        },
        "tags": [],
        "id": "00d908fd",
        "outputId": "ba0be33c-ef82-4026-9499-5e68688639a1",
        "colab": {
          "base_uri": "https://localhost:8080/",
          "height": 224
        }
      },
      "outputs": [
        {
          "output_type": "stream",
          "name": "stdout",
          "text": [
            "Submission file shape is (924621, 2)\n"
          ]
        },
        {
          "output_type": "execute_result",
          "data": {
            "text/plain": [
              "                                         customer_ID  prediction\n",
              "0  00000469ba478561f23a92a868bd366de6f6527a684c9a...    0.019775\n",
              "1  00001bf2e77ff879fab36aa4fac689b9ba411dae63ae39...    0.001262\n",
              "2  0000210045da4f81e5f122c6bde5c2a617d03eef67f82c...    0.039386\n",
              "3  00003b41e58ede33b8daf61ab56d9952f17c9ad1c3976c...    0.212795\n",
              "4  00004b22eaeeeb0ec976890c1d9bfc14fd9427e98c4ee9...    0.869086"
            ],
            "text/html": [
              "\n",
              "  <div id=\"df-b05b09ce-fe65-4a0c-8bc0-029dfd40ffeb\">\n",
              "    <div class=\"colab-df-container\">\n",
              "      <div>\n",
              "<style scoped>\n",
              "    .dataframe tbody tr th:only-of-type {\n",
              "        vertical-align: middle;\n",
              "    }\n",
              "\n",
              "    .dataframe tbody tr th {\n",
              "        vertical-align: top;\n",
              "    }\n",
              "\n",
              "    .dataframe thead th {\n",
              "        text-align: right;\n",
              "    }\n",
              "</style>\n",
              "<table border=\"1\" class=\"dataframe\">\n",
              "  <thead>\n",
              "    <tr style=\"text-align: right;\">\n",
              "      <th></th>\n",
              "      <th>customer_ID</th>\n",
              "      <th>prediction</th>\n",
              "    </tr>\n",
              "  </thead>\n",
              "  <tbody>\n",
              "    <tr>\n",
              "      <th>0</th>\n",
              "      <td>00000469ba478561f23a92a868bd366de6f6527a684c9a...</td>\n",
              "      <td>0.019775</td>\n",
              "    </tr>\n",
              "    <tr>\n",
              "      <th>1</th>\n",
              "      <td>00001bf2e77ff879fab36aa4fac689b9ba411dae63ae39...</td>\n",
              "      <td>0.001262</td>\n",
              "    </tr>\n",
              "    <tr>\n",
              "      <th>2</th>\n",
              "      <td>0000210045da4f81e5f122c6bde5c2a617d03eef67f82c...</td>\n",
              "      <td>0.039386</td>\n",
              "    </tr>\n",
              "    <tr>\n",
              "      <th>3</th>\n",
              "      <td>00003b41e58ede33b8daf61ab56d9952f17c9ad1c3976c...</td>\n",
              "      <td>0.212795</td>\n",
              "    </tr>\n",
              "    <tr>\n",
              "      <th>4</th>\n",
              "      <td>00004b22eaeeeb0ec976890c1d9bfc14fd9427e98c4ee9...</td>\n",
              "      <td>0.869086</td>\n",
              "    </tr>\n",
              "  </tbody>\n",
              "</table>\n",
              "</div>\n",
              "      <button class=\"colab-df-convert\" onclick=\"convertToInteractive('df-b05b09ce-fe65-4a0c-8bc0-029dfd40ffeb')\"\n",
              "              title=\"Convert this dataframe to an interactive table.\"\n",
              "              style=\"display:none;\">\n",
              "        \n",
              "  <svg xmlns=\"http://www.w3.org/2000/svg\" height=\"24px\"viewBox=\"0 0 24 24\"\n",
              "       width=\"24px\">\n",
              "    <path d=\"M0 0h24v24H0V0z\" fill=\"none\"/>\n",
              "    <path d=\"M18.56 5.44l.94 2.06.94-2.06 2.06-.94-2.06-.94-.94-2.06-.94 2.06-2.06.94zm-11 1L8.5 8.5l.94-2.06 2.06-.94-2.06-.94L8.5 2.5l-.94 2.06-2.06.94zm10 10l.94 2.06.94-2.06 2.06-.94-2.06-.94-.94-2.06-.94 2.06-2.06.94z\"/><path d=\"M17.41 7.96l-1.37-1.37c-.4-.4-.92-.59-1.43-.59-.52 0-1.04.2-1.43.59L10.3 9.45l-7.72 7.72c-.78.78-.78 2.05 0 2.83L4 21.41c.39.39.9.59 1.41.59.51 0 1.02-.2 1.41-.59l7.78-7.78 2.81-2.81c.8-.78.8-2.07 0-2.86zM5.41 20L4 18.59l7.72-7.72 1.47 1.35L5.41 20z\"/>\n",
              "  </svg>\n",
              "      </button>\n",
              "      \n",
              "  <style>\n",
              "    .colab-df-container {\n",
              "      display:flex;\n",
              "      flex-wrap:wrap;\n",
              "      gap: 12px;\n",
              "    }\n",
              "\n",
              "    .colab-df-convert {\n",
              "      background-color: #E8F0FE;\n",
              "      border: none;\n",
              "      border-radius: 50%;\n",
              "      cursor: pointer;\n",
              "      display: none;\n",
              "      fill: #1967D2;\n",
              "      height: 32px;\n",
              "      padding: 0 0 0 0;\n",
              "      width: 32px;\n",
              "    }\n",
              "\n",
              "    .colab-df-convert:hover {\n",
              "      background-color: #E2EBFA;\n",
              "      box-shadow: 0px 1px 2px rgba(60, 64, 67, 0.3), 0px 1px 3px 1px rgba(60, 64, 67, 0.15);\n",
              "      fill: #174EA6;\n",
              "    }\n",
              "\n",
              "    [theme=dark] .colab-df-convert {\n",
              "      background-color: #3B4455;\n",
              "      fill: #D2E3FC;\n",
              "    }\n",
              "\n",
              "    [theme=dark] .colab-df-convert:hover {\n",
              "      background-color: #434B5C;\n",
              "      box-shadow: 0px 1px 3px 1px rgba(0, 0, 0, 0.15);\n",
              "      filter: drop-shadow(0px 1px 2px rgba(0, 0, 0, 0.3));\n",
              "      fill: #FFFFFF;\n",
              "    }\n",
              "  </style>\n",
              "\n",
              "      <script>\n",
              "        const buttonEl =\n",
              "          document.querySelector('#df-b05b09ce-fe65-4a0c-8bc0-029dfd40ffeb button.colab-df-convert');\n",
              "        buttonEl.style.display =\n",
              "          google.colab.kernel.accessAllowed ? 'block' : 'none';\n",
              "\n",
              "        async function convertToInteractive(key) {\n",
              "          const element = document.querySelector('#df-b05b09ce-fe65-4a0c-8bc0-029dfd40ffeb');\n",
              "          const dataTable =\n",
              "            await google.colab.kernel.invokeFunction('convertToInteractive',\n",
              "                                                     [key], {});\n",
              "          if (!dataTable) return;\n",
              "\n",
              "          const docLinkHtml = 'Like what you see? Visit the ' +\n",
              "            '<a target=\"_blank\" href=https://colab.research.google.com/notebooks/data_table.ipynb>data table notebook</a>'\n",
              "            + ' to learn more about interactive tables.';\n",
              "          element.innerHTML = '';\n",
              "          dataTable['output_type'] = 'display_data';\n",
              "          await google.colab.output.renderOutput(dataTable, element);\n",
              "          const docLink = document.createElement('div');\n",
              "          docLink.innerHTML = docLinkHtml;\n",
              "          element.appendChild(docLink);\n",
              "        }\n",
              "      </script>\n",
              "    </div>\n",
              "  </div>\n",
              "  "
            ]
          },
          "metadata": {},
          "execution_count": 20
        }
      ],
      "source": [
        "# WRITE SUBMISSION FILE\n",
        "test = pd.DataFrame(index=customers,data={'prediction': np.concatenate(test_preds)})\n",
        "sub = pd.read_csv('/content/sample_submission.csv')[['customer_ID']]\n",
        "sub['customer_ID_hash'] = sub['customer_ID'].copy()\n",
        "sub = sub.set_index('customer_ID_hash')\n",
        "sub = sub.merge(test[['prediction']], left_index=True, right_index=True, how='left')\n",
        "sub = sub.reset_index(drop=True)\n",
        "\n",
        "# DISPLAY PREDICTIONS\n",
        "sub.to_csv(f'submission_cat_v{VER}_seed{SEED}_fold{FOLDS}.csv',index=False)\n",
        "print('Submission file shape is', sub.shape )\n",
        "sub.head()"
      ]
    },
    {
      "cell_type": "code",
      "execution_count": 21,
      "id": "533e5941",
      "metadata": {
        "execution": {
          "iopub.execute_input": "2022-07-15T16:51:02.918871Z",
          "iopub.status.busy": "2022-07-15T16:51:02.918494Z",
          "iopub.status.idle": "2022-07-15T16:51:03.267833Z",
          "shell.execute_reply": "2022-07-15T16:51:03.266949Z"
        },
        "papermill": {
          "duration": 0.374502,
          "end_time": "2022-07-15T16:51:03.269960",
          "exception": false,
          "start_time": "2022-07-15T16:51:02.895458",
          "status": "completed"
        },
        "tags": [],
        "id": "533e5941",
        "outputId": "644bf02c-ddb8-4a59-ca7d-78379cfd06f9",
        "colab": {
          "base_uri": "https://localhost:8080/",
          "height": 281
        }
      },
      "outputs": [
        {
          "output_type": "display_data",
          "data": {
            "text/plain": [
              "<Figure size 432x288 with 1 Axes>"
            ],
            "image/png": "[encoded data removed]"
          },
          "metadata": {
            "needs_background": "light"
          }
        }
      ],
      "source": [
        "# PLOT PREDICTIONS\n",
        "plt.hist(sub.prediction, bins=100)\n",
        "plt.title('Test Predictions')\n",
        "plt.show()"
      ]
    },
    {
      "cell_type": "markdown",
      "id": "802623f7",
      "metadata": {
        "papermill": {
          "duration": 0.042841,
          "end_time": "2022-07-15T16:51:28.477165",
          "exception": false,
          "start_time": "2022-07-15T16:51:28.434324",
          "status": "completed"
        },
        "tags": [],
        "id": "802623f7"
      },
      "source": [
        "# Submit to Kaggle from Colab"
      ]
    },
    {
      "cell_type": "code",
      "execution_count": 22,
      "id": "efc54970",
      "metadata": {
        "execution": {
          "iopub.execute_input": "2022-07-15T16:51:28.552420Z",
          "iopub.status.busy": "2022-07-15T16:51:28.551829Z",
          "iopub.status.idle": "2022-07-15T16:51:28.557906Z",
          "shell.execute_reply": "2022-07-15T16:51:28.557166Z"
        },
        "papermill": {
          "duration": 0.048007,
          "end_time": "2022-07-15T16:51:28.561880",
          "exception": false,
          "start_time": "2022-07-15T16:51:28.513873",
          "status": "completed"
        },
        "tags": [],
        "id": "efc54970",
        "outputId": "224f9e09-238e-412e-baad-203a9bd1ea56",
        "colab": {
          "base_uri": "https://localhost:8080/"
        }
      },
      "outputs": [
        {
          "output_type": "stream",
          "name": "stdout",
          "text": [
            "100% 75.3M/75.3M [00:04<00:00, 16.5MB/s]\n",
            "Successfully submitted to American Express - Default Prediction"
          ]
        }
      ],
      "source": [
        "# Submit\n",
        "!kaggle competitions submit -c amex-default-prediction -f submission_cat_v10_seed42_fold5.csv -m \"Run with bruto force and last - mean, last / mean\""
      ]
    },
    {
      "cell_type": "code",
      "execution_count": 24,
      "id": "aad5cc1a",
      "metadata": {
        "execution": {
          "iopub.execute_input": "2022-07-15T16:51:28.636400Z",
          "iopub.status.busy": "2022-07-15T16:51:28.635706Z",
          "iopub.status.idle": "2022-07-15T16:51:28.643060Z",
          "shell.execute_reply": "2022-07-15T16:51:28.640501Z"
        },
        "papermill": {
          "duration": 0.04911,
          "end_time": "2022-07-15T16:51:28.647823",
          "exception": false,
          "start_time": "2022-07-15T16:51:28.598713",
          "status": "completed"
        },
        "tags": [],
        "id": "aad5cc1a",
        "outputId": "ebefdff5-c0a0-4bb5-9e5a-fb6639cde89c",
        "colab": {
          "base_uri": "https://localhost:8080/"
        }
      },
      "outputs": [
        {
          "output_type": "stream",
          "name": "stdout",
          "text": [
            "fileName                             date                 description                                                       status    publicScore  privateScore  \n",
            "-----------------------------------  -------------------  ----------------------------------------------------------------  --------  -----------  ------------  \n",
            "submission_cat_v10_seed42_fold5.csv  2022-08-12 07:08:01  Run with bruto force and last - mean, last / mean                 complete  0.796                      \n",
            "submission_xgb_v11_seed42_fold5.csv  2022-08-11 18:37:49  Run with Risk binaries seed 42 fold 5                             complete  0.796                      \n",
            "Amex Default Prediction - Ensemble   2022-08-10 11:28:13  Notebook Amex Default Prediction - Ensemble | Version 62          complete  0.799                      \n",
            "Amex Default Prediction - Ensemble   2022-08-10 11:17:44  Notebook Amex Default Prediction - Ensemble | Version 61          complete  0.799                      \n",
            "Amex Default Prediction - Ensemble   2022-08-10 11:13:39  Notebook Amex Default Prediction - Ensemble | Version 60          complete  0.798                      \n",
            "Amex Default Prediction - Ensemble   2022-08-10 02:06:53  Notebook Amex Default Prediction - Ensemble | Version 58          complete  0.799                      \n",
            "Amex Default Prediction - Ensemble   2022-08-10 02:06:16  Notebook Amex Default Prediction - Ensemble | Version 59          complete  0.799                      \n",
            "Amex Default Prediction - Ensemble   2022-08-09 13:35:30  Notebook Amex Default Prediction - Ensemble | Version 57          complete  0.799                      \n",
            "Amex Default Prediction - Ensemble   2022-08-09 13:28:07  Notebook Amex Default Prediction - Ensemble | Version 56          complete  0.799                      \n",
            "Amex Default Prediction - Ensemble   2022-08-09 13:25:48  Notebook Amex Default Prediction - Ensemble | Version 55          complete  0.799                      \n",
            "submission_lgb_v1_seed42_fold5.csv   2022-08-09 13:14:51  the first version. fe lag plus seed 52 fold 5 From colab          complete  0.798                      \n",
            "submission_cat_v10_seed42_fold5.csv  2022-08-09 12:40:49  Run with bruto force and last - mean, last / mean                 complete  0.796                      \n",
            "Amex Default Prediction - Ensemble   2022-08-08 15:19:46  Notebook Amex Default Prediction - Ensemble | Version 54          complete  0.799                      \n",
            "Amex Default Prediction - Ensemble   2022-08-08 15:17:44  Notebook Amex Default Prediction - Ensemble | Version 53          complete  0.799                      \n",
            "submission_xgb_v10_seed42_fold5.csv  2022-08-08 13:34:01  Run with bruto-force and last - min and max -last seed 42 fold 5  complete  0.796                      \n",
            "submission_xgb_v10_seed42_fold5.csv  2022-08-08 11:25:33  Run with bruto-force and last - min and max -last seed 42 fold 5  complete  0.796                      \n",
            "Amex Default Prediction - Ensemble   2022-08-08 09:16:13  Notebook Amex Default Prediction - Ensemble | Version 52          complete  0.799                      \n",
            "Amex Default Prediction - Ensemble   2022-08-07 10:06:52  Notebook Amex Default Prediction - Ensemble | Version 51          complete  0.799                      \n",
            "Amex Default Prediction - Ensemble   2022-08-07 10:01:11  Notebook Amex Default Prediction - Ensemble | Version 50          complete  0.799                      \n",
            "Amex Default Prediction - Ensemble   2022-08-07 04:25:29  Notebook Amex Default Prediction - Ensemble | Version 49          complete  0.799                      \n",
            "Amex Default Prediction - Ensemble   2022-08-07 04:22:24  Notebook Amex Default Prediction - Ensemble | Version 48          complete  0.799                      \n",
            "Amex Default Prediction - Ensemble   2022-08-07 04:18:56  Notebook Amex Default Prediction - Ensemble | Version 47          complete  0.798                      \n",
            "Amex Default Prediction - Ensemble   2022-08-05 11:27:36  Notebook Amex Default Prediction - Ensemble | Version 46          complete  0.799                      \n",
            "Amex Default Prediction - Ensemble   2022-08-05 11:23:37  Notebook Amex Default Prediction - Ensemble | Version 45          complete  0.799                      \n",
            "Amex Default Prediction - Ensemble   2022-08-04 15:16:57  Notebook Amex Default Prediction - Ensemble | Version 44          complete  0.799                      \n",
            "Amex Default Prediction - Ensemble   2022-08-04 14:56:04  Notebook Amex Default Prediction - Ensemble | Version 43          complete  0.799                      \n",
            "Amex Default Prediction - Ensemble   2022-08-04 14:53:27  Notebook Amex Default Prediction - Ensemble | Version 42          complete  0.799                      \n",
            "submission_cat_v9_seed42_fold5.csv   2022-08-04 14:26:40  Run with max - last                                               complete  0.796                      \n",
            "submission_lgb_v1_seed42_fold5.csv   2022-08-04 14:14:31  the first version. fe lag plus seed 52 fold 5 From colab          complete  0.798                      \n",
            "Amex Default Prediction - Ensemble   2022-08-03 11:51:07  Notebook Amex Default Prediction - Ensemble | Version 40          complete  0.799                      \n",
            "Amex Default Prediction - Ensemble   2022-08-03 11:43:47  Notebook Amex Default Prediction - Ensemble | Version 38          complete  0.799                      \n",
            "Amex Default Prediction - Ensemble   2022-08-03 11:43:35  Notebook Amex Default Prediction - Ensemble | Version 38          complete  0.798                      \n",
            "Amex Default Prediction - Ensemble   2022-08-03 11:40:52  Notebook Amex Default Prediction - Ensemble | Version 37          complete  0.798                      \n",
            "Amex Default Prediction - Ensemble   2022-08-03 11:33:14  Notebook Amex Default Prediction - Ensemble | Version 36          complete  0.799                      \n",
            "submission_xgb_v8_seed42_fold5.csv   2022-08-02 17:47:50  Run with (last - first) / s_2 seed 42 fold 5                      complete  0.795                      \n",
            "submission_cat_v9_seed42_fold5.csv   2022-08-02 15:17:24  Run with max - last                                               complete  0.796                      \n",
            "submission_cat_v7_seed42_fold5.csv   2022-08-01 06:24:15  Run with max - last                                               complete  0.796                      \n",
            "Amex Default Prediction - Ensemble   2022-07-30 15:42:45  Notebook Amex Default Prediction - Ensemble | Version 35          complete  0.798                      \n",
            "Amex Default Prediction - Ensemble   2022-07-30 15:38:09  rank                                                              complete  0.798                      \n",
            "Amex Default Prediction - Ensemble   2022-07-30 15:36:03  mean ver                                                          complete  0.798                      \n",
            "Amex Default Prediction - Ensemble   2022-07-30 15:19:03  Notebook Amex Default Prediction - Ensemble | Version 32          complete  0.798                      \n",
            "Amex Default Prediction - Ensemble   2022-07-30 10:03:47  Notebook Amex Default Prediction - Ensemble | Version 31          complete  0.798                      \n",
            "Amex Default Prediction - Ensemble   2022-07-29 11:37:23  Notebook Amex Default Prediction - Ensemble | Version 30          complete  0.798                      \n",
            "submission_cat_v7_seed42_fold5.csv   2022-07-29 04:02:04  Run with seed 42 fold 5 last / s2                                 complete  0.796                      \n",
            "Amex Default Prediction - Ensemble   2022-07-28 14:38:46  Notebook Amex Default Prediction - Ensemble | Version 29          complete  0.798                      \n",
            "Amex Default Prediction - Ensemble   2022-07-28 14:34:35  Notebook Amex Default Prediction - Ensemble | Version 28          complete  0.798                      \n",
            "Amex Default Prediction - Ensemble   2022-07-28 13:10:11  Notebook Amex Default Prediction - Ensemble | Version 27          complete  0.798                      \n",
            "submission_lgb_v1_seed42_fold5.csv   2022-07-28 12:43:40  the first version. fe lag plus seed 52 fold 5 From colab          complete  0.798                      \n",
            "submission_lgb_v1_seed42_fold5.csv   2022-07-28 05:46:49  the first version. fe lag plus seed 52 fold 5 From colab          complete  0.798                      \n",
            "submission_xgb_v6_seed42_fold5.csv   2022-07-27 14:21:18  Run with (last - first) / s_2 seed 42 fold 5                      complete  0.796                      \n"
          ]
        }
      ],
      "source": [
        "# Run after few seconds\n",
        "!kaggle competitions submissions amex-default-prediction"
      ]
    }
  ],
  "metadata": {
    "kernelspec": {
      "display_name": "Python 3",
      "language": "python",
      "name": "python3"
    },
    "language_info": {
      "codemirror_mode": {
        "name": "ipython",
        "version": 3
      },
      "file_extension": ".py",
      "mimetype": "text/x-python",
      "name": "python",
      "nbconvert_exporter": "python",
      "pygments_lexer": "ipython3",
      "version": "3.7.12"
    },
    "papermill": {
      "default_parameters": {},
      "duration": 2291.105208,
      "end_time": "2022-07-15T16:51:29.695242",
      "environment_variables": {},
      "exception": null,
      "input_path": "__notebook__.ipynb",
      "output_path": "__notebook__.ipynb",
      "parameters": {},
      "start_time": "2022-07-15T16:13:18.590034",
      "version": "2.3.4"
    },
    "colab": {
      "name": "amex-default-prediction-with-cat.ipynb",
      "provenance": [],
      "machine_shape": "hm"
    },
    "accelerator": "GPU",
    "gpuClass": "standard"
  },
  "nbformat": 4,
  "nbformat_minor": 5
}
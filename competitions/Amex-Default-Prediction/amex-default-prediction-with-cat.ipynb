{
  "metadata": {
    "kernelspec": {
      "language": "python",
      "display_name": "Python 3",
      "name": "python3"
    },
    "language_info": {
      "name": "python",
      "version": "3.7.12",
      "mimetype": "text/x-python",
      "codemirror_mode": {
        "name": "ipython",
        "version": 3
      },
      "pygments_lexer": "ipython3",
      "nbconvert_exporter": "python",
      "file_extension": ".py"
    },
    "colab": {
      "name": "amex-default-prediction-with-cat.ipynb",
      "provenance": [],
      "toc_visible": true
    }
  },
  "nbformat_minor": 0,
  "nbformat": 4,
  "cells": [
    {
      "cell_type": "markdown",
      "source": [
        "# Prepare for colab"
      ],
      "metadata": {
        "id": "hYVtvENomM6T"
      }
    },
    {
      "cell_type": "code",
      "source": [
        "!pip install catboost"
      ],
      "metadata": {
        "id": "soXOrtM2mMJy"
      },
      "execution_count": null,
      "outputs": []
    },
    {
      "cell_type": "markdown",
      "source": [
        "# Kaggle Set Up"
      ],
      "metadata": {
        "id": "pTwi1ekGVlbT"
      }
    },
    {
      "cell_type": "code",
      "source": [
        "# install kaggle\n",
        "!pip install kaggle"
      ],
      "metadata": {
        "colab": {
          "base_uri": "https://localhost:8080/"
        },
        "id": "MDSvfa5kVn2t",
        "outputId": "dc427883-885f-4884-9286-e3da4b91fc55"
      },
      "execution_count": null,
      "outputs": [
        {
          "output_type": "stream",
          "name": "stdout",
          "text": [
            "Looking in indexes: https://pypi.org/simple, https://us-python.pkg.dev/colab-wheels/public/simple/\n",
            "Requirement already satisfied: kaggle in /usr/local/lib/python3.7/dist-packages (1.5.12)\n",
            "Requirement already satisfied: python-slugify in /usr/local/lib/python3.7/dist-packages (from kaggle) (6.1.2)\n",
            "Requirement already satisfied: python-dateutil in /usr/local/lib/python3.7/dist-packages (from kaggle) (2.8.2)\n",
            "Requirement already satisfied: six>=1.10 in /usr/local/lib/python3.7/dist-packages (from kaggle) (1.15.0)\n",
            "Requirement already satisfied: requests in /usr/local/lib/python3.7/dist-packages (from kaggle) (2.23.0)\n",
            "Requirement already satisfied: tqdm in /usr/local/lib/python3.7/dist-packages (from kaggle) (4.64.0)\n",
            "Requirement already satisfied: urllib3 in /usr/local/lib/python3.7/dist-packages (from kaggle) (1.24.3)\n",
            "Requirement already satisfied: certifi in /usr/local/lib/python3.7/dist-packages (from kaggle) (2022.6.15)\n",
            "Requirement already satisfied: text-unidecode>=1.3 in /usr/local/lib/python3.7/dist-packages (from python-slugify->kaggle) (1.3)\n",
            "Requirement already satisfied: idna<3,>=2.5 in /usr/local/lib/python3.7/dist-packages (from requests->kaggle) (2.10)\n",
            "Requirement already satisfied: chardet<4,>=3.0.2 in /usr/local/lib/python3.7/dist-packages (from requests->kaggle) (3.0.4)\n"
          ]
        }
      ]
    },
    {
      "cell_type": "markdown",
      "source": [
        "## Upload API Token"
      ],
      "metadata": {
        "id": "4eaGh9kzVsI8"
      }
    },
    {
      "cell_type": "code",
      "source": [
        "from google.colab import files\n",
        "\n",
        "uploaded = files.upload()\n",
        "\n",
        "for fn in uploaded.keys():\n",
        "  print('User uploaded file \"{name}\" with length {length} bytes'.format(\n",
        "      name=fn, length=len(uploaded[fn])))\n",
        "\n",
        "# Then move kaggle.json into the folder where the API expects to find it.\n",
        "!mkdir -p ~/.kaggle/ && mv kaggle.json ~/.kaggle/ && chmod 600 ~/.kaggle/kaggle.json"
      ],
      "metadata": {
        "colab": {
          "resources": {
            "http://localhost:8080/nbextensions/google.colab/files.js": {
              "data": "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",
              "ok": true,
              "headers": [
                [
                  "content-type",
                  "application/javascript"
                ]
              ],
              "status": 200,
              "status_text": ""
            }
          },
          "base_uri": "https://localhost:8080/",
          "height": 92
        },
        "id": "Kn1Rkdf4Vp65",
        "outputId": "0c3c47e9-8c38-4770-f661-92d5a1dc3b39"
      },
      "execution_count": null,
      "outputs": [
        {
          "output_type": "display_data",
          "data": {
            "text/plain": [
              "<IPython.core.display.HTML object>"
            ],
            "text/html": [
              "\n",
              "     <input type=\"file\" id=\"files-0c53f4b1-7edd-4f82-ac7f-3d30ed047115\" name=\"files[]\" multiple disabled\n",
              "        style=\"border:none\" />\n",
              "     <output id=\"result-0c53f4b1-7edd-4f82-ac7f-3d30ed047115\">\n",
              "      Upload widget is only available when the cell has been executed in the\n",
              "      current browser session. Please rerun this cell to enable.\n",
              "      </output>\n",
              "      <script src=\"/nbextensions/google.colab/files.js\"></script> "
            ]
          },
          "metadata": {}
        },
        {
          "output_type": "stream",
          "name": "stdout",
          "text": [
            "Saving kaggle.json to kaggle.json\n",
            "User uploaded file \"kaggle.json\" with length 62 bytes\n"
          ]
        }
      ]
    },
    {
      "cell_type": "markdown",
      "source": [
        "## Download and unzip dataset"
      ],
      "metadata": {
        "id": "knifune4V0aF"
      }
    },
    {
      "cell_type": "code",
      "source": [
        "!kaggle datasets download -d huseyincot/amex-agg-data-pickle\n",
        "!unzip /content/amex-agg-data-pickle.zip"
      ],
      "metadata": {
        "colab": {
          "base_uri": "https://localhost:8080/"
        },
        "id": "GKZW9futV3j5",
        "outputId": "0c3d482d-a7bd-4026-8dce-f8d4858ecdda"
      },
      "execution_count": null,
      "outputs": [
        {
          "output_type": "stream",
          "name": "stdout",
          "text": [
            "Downloading amex-agg-data-pickle.zip to /content\n",
            " 99% 2.75G/2.76G [00:13<00:00, 189MB/s]\n",
            "100% 2.76G/2.76G [00:13<00:00, 223MB/s]\n",
            "Archive:  /content/amex-agg-data-pickle.zip\n",
            "  inflating: test_agg.pkl            \n",
            "  inflating: train_agg.pkl           \n"
          ]
        }
      ]
    },
    {
      "cell_type": "code",
      "source": [
        "!kaggle competitions download -c amex-default-prediction -f sample_submission.csv\n",
        "!unzip /content/sample_submission.csv.zip"
      ],
      "metadata": {
        "colab": {
          "base_uri": "https://localhost:8080/"
        },
        "id": "-7K3JNjnXZ_4",
        "outputId": "fdb243f6-77b0-4636-d1ef-8765b8f88568"
      },
      "execution_count": null,
      "outputs": [
        {
          "output_type": "stream",
          "name": "stdout",
          "text": [
            "Downloading sample_submission.csv.zip to /content\n",
            " 99% 32.0M/32.4M [00:00<00:00, 170MB/s] \n",
            "100% 32.4M/32.4M [00:00<00:00, 87.1MB/s]\n",
            "Archive:  /content/sample_submission.csv.zip\n",
            "  inflating: sample_submission.csv   \n"
          ]
        }
      ]
    },
    {
      "cell_type": "markdown",
      "source": [
        "# Settings"
      ],
      "metadata": {
        "id": "Bx4LCT6SmF3D"
      }
    },
    {
      "cell_type": "code",
      "source": [
        "import pandas as pd\n",
        "import numpy as np\n",
        "import matplotlib.pyplot as plt\n",
        "\n",
        "from catboost import CatBoostClassifier, Pool\n",
        "from sklearn.preprocessing import LabelEncoder\n",
        "from sklearn.model_selection import KFold\n",
        "\n",
        "import os\n",
        "import gc; gc.enable()\n",
        "\n",
        "import warnings\n",
        "warnings.filterwarnings('ignore')"
      ],
      "metadata": {
        "_uuid": "8f2839f25d086af736a60e9eeb907d3b93b6e0e5",
        "_cell_guid": "b1076dfc-b9ad-4769-8c92-a6c4dae69d19",
        "execution": {
          "iopub.status.busy": "2022-06-22T09:14:14.947284Z",
          "iopub.execute_input": "2022-06-22T09:14:14.947742Z",
          "iopub.status.idle": "2022-06-22T09:14:15.997771Z",
          "shell.execute_reply.started": "2022-06-22T09:14:14.947653Z",
          "shell.execute_reply": "2022-06-22T09:14:15.996764Z"
        },
        "trusted": true,
        "id": "0cR_lTcMmF3F"
      },
      "execution_count": null,
      "outputs": []
    },
    {
      "cell_type": "code",
      "source": [
        "VER=1\n",
        "SEED = 42\n",
        "FOLDS = 5\n",
        "\n",
        "cat_features = [\"B_30\", \"B_38\", \"D_114\", \"D_116\", \"D_117\", \"D_120\", \"D_126\", \"D_63\", \"D_64\", \"D_66\", \"D_68\"]"
      ],
      "metadata": {
        "execution": {
          "iopub.status.busy": "2022-06-22T09:14:16.290151Z",
          "iopub.execute_input": "2022-06-22T09:14:16.291177Z",
          "iopub.status.idle": "2022-06-22T09:14:16.295656Z",
          "shell.execute_reply.started": "2022-06-22T09:14:16.291137Z",
          "shell.execute_reply": "2022-06-22T09:14:16.294915Z"
        },
        "trusted": true,
        "id": "8_gsxS6lmF3G"
      },
      "execution_count": null,
      "outputs": []
    },
    {
      "cell_type": "markdown",
      "source": [
        "# Training"
      ],
      "metadata": {
        "id": "FNQlIXUBmoVz"
      }
    },
    {
      "cell_type": "code",
      "source": [
        "train = pd.read_pickle(\"../input/amex-agg-data-pickle/train_agg.pkl\", compression=\"gzip\")\n",
        "train = train.reset_index(level=0)\n",
        "\n",
        "test = pd.read_pickle(\"../input/amex-agg-data-pickle/test_agg.pkl\", compression=\"gzip\")\n",
        "test = test.reset_index(level=0)"
      ],
      "metadata": {
        "execution": {
          "iopub.status.busy": "2022-06-22T06:12:06.685791Z",
          "iopub.execute_input": "2022-06-22T06:12:06.687375Z",
          "iopub.status.idle": "2022-06-22T06:13:08.429318Z",
          "shell.execute_reply.started": "2022-06-22T06:12:06.687333Z",
          "shell.execute_reply": "2022-06-22T06:13:08.428484Z"
        },
        "trusted": true,
        "id": "TeJ1J4v2mF3H"
      },
      "execution_count": null,
      "outputs": []
    },
    {
      "cell_type": "code",
      "source": [
        "cat_features_last = [f\"{cf}_last\" for cf in cat_features]\n",
        "\n",
        "le_encoder = LabelEncoder()\n",
        "for categorical_feature in cat_features_last:\n",
        "    train[categorical_feature] = le_encoder.fit_transform(train[categorical_feature])\n",
        "    test[categorical_feature] = le_encoder.transform(test[categorical_feature])"
      ],
      "metadata": {
        "execution": {
          "iopub.status.busy": "2022-06-22T06:13:08.431547Z",
          "iopub.execute_input": "2022-06-22T06:13:08.431937Z",
          "iopub.status.idle": "2022-06-22T06:13:14.585207Z",
          "shell.execute_reply.started": "2022-06-22T06:13:08.431899Z",
          "shell.execute_reply": "2022-06-22T06:13:14.584317Z"
        },
        "trusted": true,
        "id": "JFuJZjLemF3H"
      },
      "execution_count": null,
      "outputs": []
    },
    {
      "cell_type": "code",
      "source": [
        "# https://www.kaggle.com/code/ragnar123/amex-lgbm-dart-cv-0-7963\n",
        "# Round last float features to 2 decimal place\n",
        "float_cols = list(train.dtypes[(train.dtypes == 'float16') | (train.dtypes == 'float32') | (train.dtypes == 'float64')].index)\n",
        "float_cols = [col for col in float_cols if 'last' in col]\n",
        "\n",
        "train[float_cols] = train[float_cols].round(2)\n",
        "test[float_cols] = test[float_cols].round(2)"
      ],
      "metadata": {
        "execution": {
          "iopub.status.busy": "2022-06-22T06:13:14.586908Z",
          "iopub.execute_input": "2022-06-22T06:13:14.587284Z",
          "iopub.status.idle": "2022-06-22T06:13:26.259214Z",
          "shell.execute_reply.started": "2022-06-22T06:13:14.587245Z",
          "shell.execute_reply": "2022-06-22T06:13:26.258392Z"
        },
        "trusted": true,
        "id": "2i0F6g_CmF3H"
      },
      "execution_count": null,
      "outputs": []
    },
    {
      "cell_type": "code",
      "source": [
        "train = train.set_index('customer_ID')\n",
        "train = train.sort_index().reset_index()\n",
        "FEATURES = train.drop(columns=['customer_ID', 'target']).columns"
      ],
      "metadata": {
        "execution": {
          "iopub.status.busy": "2022-06-22T06:13:26.260731Z",
          "iopub.execute_input": "2022-06-22T06:13:26.261074Z",
          "iopub.status.idle": "2022-06-22T06:13:28.825982Z",
          "shell.execute_reply.started": "2022-06-22T06:13:26.261038Z",
          "shell.execute_reply": "2022-06-22T06:13:28.825141Z"
        },
        "trusted": true,
        "id": "UcGWlu_hmF3I"
      },
      "execution_count": null,
      "outputs": []
    },
    {
      "cell_type": "code",
      "source": [
        "# https://www.kaggle.com/competitions/amex-default-prediction/discussion/328020\n",
        "# https://www.kaggle.com/code/rohanrao/amex-competition-metric-implementations\n",
        "def amex_metric_np(target: np.ndarray, preds: np.ndarray) -> float:\n",
        "    indices = np.argsort(preds)[::-1]\n",
        "    preds, target = preds[indices], target[indices]\n",
        "\n",
        "    n_pos = np.sum(target)\n",
        "    n_neg = target.shape[0] - n_pos\n",
        "    \n",
        "    weight = 20.0 - target * 19.0\n",
        "    cum_norm_weight = (weight * (1 / weight.sum())).cumsum()\n",
        "    four_pct_mask = cum_norm_weight <= 0.04\n",
        "    d = np.sum(target[four_pct_mask]) / n_pos\n",
        "    \n",
        "    lorentz = (target * (1 / n_pos)).cumsum()\n",
        "    gini = ((lorentz - cum_norm_weight) * weight).sum()\n",
        "    gini_max = 10 * n_neg * (1 - 19 / (n_pos + 20 * n_neg))\n",
        "\n",
        "    g = gini / gini_max\n",
        "\n",
        "    return 0.5 * (g + d)"
      ],
      "metadata": {
        "execution": {
          "iopub.status.busy": "2022-06-22T06:13:28.827464Z",
          "iopub.execute_input": "2022-06-22T06:13:28.827864Z",
          "iopub.status.idle": "2022-06-22T06:13:28.835349Z",
          "shell.execute_reply.started": "2022-06-22T06:13:28.827827Z",
          "shell.execute_reply": "2022-06-22T06:13:28.834530Z"
        },
        "trusted": true,
        "id": "7lXJ4XjqmF3I"
      },
      "execution_count": null,
      "outputs": []
    },
    {
      "cell_type": "code",
      "source": [
        "cat_params = {\n",
        "    'iterations':26000,\n",
        "    'random_state':SEED,\n",
        "    'learning_rate':0.02,\n",
        "    \n",
        "    'depth': 4,\n",
        "    'l2_leaf_reg':14.0,\n",
        "    'one_hot_max_size':60,\n",
        "    'task_type':\"GPU\",\n",
        "    'border_count':128,\n",
        "}"
      ],
      "metadata": {
        "execution": {
          "iopub.status.busy": "2022-06-22T06:13:28.836802Z",
          "iopub.execute_input": "2022-06-22T06:13:28.837402Z",
          "iopub.status.idle": "2022-06-22T06:13:28.849650Z",
          "shell.execute_reply.started": "2022-06-22T06:13:28.837352Z",
          "shell.execute_reply": "2022-06-22T06:13:28.848679Z"
        },
        "trusted": true,
        "id": "ZBTk4p-zmF3I"
      },
      "execution_count": null,
      "outputs": []
    },
    {
      "cell_type": "code",
      "source": [
        "importances = []\n",
        "oof = []\n",
        "gc.collect()\n",
        "\n",
        "clf = CatBoostClassifier(**cat_params)\n",
        "skf = KFold(n_splits=FOLDS, shuffle=True, random_state=SEED)\n",
        "for fold,(train_idx, valid_idx) in enumerate(skf.split(train, train.target)):\n",
        "    \n",
        "    print('#'*25)\n",
        "    print('### Fold',fold+1)\n",
        "    print('### Train size',len(train_idx),'Valid size',len(valid_idx))\n",
        "    print(f'### Training with 100% fold data...')\n",
        "    print('#'*25)\n",
        "    \n",
        "    # TRAIN, VALID, TEST FOR FOLD K\n",
        "    X_train = train.loc[train_idx, FEATURES]\n",
        "    X_valid = train.target.iloc[train_idx]\n",
        "    y_train = train.loc[valid_idx, FEATURES]\n",
        "    y_valid = train.target.iloc[valid_idx]\n",
        "    \n",
        "    # TRAIN MODEL FOLD K\n",
        "    model = clf.fit(X_train,\n",
        "                    X_valid,\n",
        "                    cat_features=cat_features_last,\n",
        "                    eval_set=[(y_train, y_valid)],\n",
        "                    use_best_model=True,\n",
        "                    early_stopping_rounds=300,\n",
        "                    verbose_eval=500)\n",
        "    model.save_model(f'CAT_v{VER}_fold{fold}.cbm')\n",
        "    \n",
        "    # GET FEATURE IMPORTANCE FOR FOLD K\n",
        "    dd = model.feature_importances_\n",
        "    df = pd.DataFrame({'feature':FEATURES,f'importance_{fold}':dd})\n",
        "    importances.append(df)\n",
        "            \n",
        "    # INFER OOF FOLD K\n",
        "    oof_preds = model.predict_proba(y_train)[:, 1]\n",
        "    acc = amex_metric_np(y_valid.values, oof_preds)\n",
        "    print('Amex Metric =',acc,'\\n')\n",
        "\n",
        "    df = train.loc[valid_idx, ['customer_ID','target'] ].copy()\n",
        "    df['oof_preds'] = oof_preds\n",
        "    oof.append(df)\n",
        "    \n",
        "    del X_train, y_train, dd, df\n",
        "    del X_valid, y_valid, model\n",
        "    _ = gc.collect()\n",
        "    \n",
        "print('#'*25)\n",
        "oof = pd.concat(oof,axis=0,ignore_index=True).set_index('customer_ID')\n",
        "acc = amex_metric_np(oof.target.values, oof.oof_preds.values)\n",
        "print(f\"Overall Amex metric: {acc}\")"
      ],
      "metadata": {
        "execution": {
          "iopub.status.busy": "2022-06-22T06:13:28.850954Z",
          "iopub.execute_input": "2022-06-22T06:13:28.851452Z",
          "iopub.status.idle": "2022-06-22T06:58:24.690659Z",
          "shell.execute_reply.started": "2022-06-22T06:13:28.851414Z",
          "shell.execute_reply": "2022-06-22T06:58:24.689727Z"
        },
        "trusted": true,
        "id": "atQt497mmF3J",
        "outputId": "e4f4202a-604d-426a-ffa8-7f7f6c2129fe"
      },
      "execution_count": null,
      "outputs": [
        {
          "name": "stdout",
          "text": "#########################\n### Fold 1\n### Train size 367130 Valid size 91783\n### Training with 100% fold data...\n#########################\n0:\tlearn: 0.6696444\ttest: 0.6696301\tbest: 0.6696301 (0)\ttotal: 29.9ms\tremaining: 12m 57s\n500:\tlearn: 0.2288998\ttest: 0.2303357\tbest: 0.2303357 (500)\ttotal: 10.6s\tremaining: 8m 59s\n1000:\tlearn: 0.2225684\ttest: 0.2251068\tbest: 0.2251068 (1000)\ttotal: 21.6s\tremaining: 8m 59s\n1500:\tlearn: 0.2194453\ttest: 0.2230824\tbest: 0.2230824 (1500)\ttotal: 31.7s\tremaining: 8m 36s\n2000:\tlearn: 0.2173472\ttest: 0.2220242\tbest: 0.2220242 (2000)\ttotal: 41.8s\tremaining: 8m 21s\n2500:\tlearn: 0.2157064\ttest: 0.2213480\tbest: 0.2213480 (2500)\ttotal: 53.1s\tremaining: 8m 18s\n3000:\tlearn: 0.2142280\ttest: 0.2208516\tbest: 0.2208513 (2994)\ttotal: 1m 3s\tremaining: 8m 4s\n3500:\tlearn: 0.2129335\ttest: 0.2204721\tbest: 0.2204721 (3500)\ttotal: 1m 13s\tremaining: 7m 49s\n4000:\tlearn: 0.2117178\ttest: 0.2202155\tbest: 0.2202142 (3999)\ttotal: 1m 23s\tremaining: 7m 41s\n4500:\tlearn: 0.2105954\ttest: 0.2199757\tbest: 0.2199747 (4499)\ttotal: 1m 33s\tremaining: 7m 28s\n5000:\tlearn: 0.2094817\ttest: 0.2197510\tbest: 0.2197509 (4999)\ttotal: 1m 44s\tremaining: 7m 17s\n5500:\tlearn: 0.2084182\ttest: 0.2195884\tbest: 0.2195884 (5500)\ttotal: 1m 55s\tremaining: 7m 9s\n6000:\tlearn: 0.2073537\ttest: 0.2194245\tbest: 0.2194245 (6000)\ttotal: 2m 5s\tremaining: 6m 57s\n6500:\tlearn: 0.2063475\ttest: 0.2192726\tbest: 0.2192723 (6498)\ttotal: 2m 15s\tremaining: 6m 45s\n7000:\tlearn: 0.2053829\ttest: 0.2191720\tbest: 0.2191709 (6995)\ttotal: 2m 26s\tremaining: 6m 36s\n7500:\tlearn: 0.2044397\ttest: 0.2190714\tbest: 0.2190701 (7494)\ttotal: 2m 36s\tremaining: 6m 25s\n8000:\tlearn: 0.2035153\ttest: 0.2189702\tbest: 0.2189702 (8000)\ttotal: 2m 46s\tremaining: 6m 13s\n8500:\tlearn: 0.2025933\ttest: 0.2188871\tbest: 0.2188861 (8498)\ttotal: 2m 56s\tremaining: 6m 3s\n9000:\tlearn: 0.2016738\ttest: 0.2187843\tbest: 0.2187843 (9000)\ttotal: 3m 6s\tremaining: 5m 52s\n9500:\tlearn: 0.2007816\ttest: 0.2187088\tbest: 0.2187084 (9497)\ttotal: 3m 16s\tremaining: 5m 41s\n10000:\tlearn: 0.1999087\ttest: 0.2186442\tbest: 0.2186442 (10000)\ttotal: 3m 26s\tremaining: 5m 31s\n10500:\tlearn: 0.1990338\ttest: 0.2185854\tbest: 0.2185854 (10500)\ttotal: 3m 37s\tremaining: 5m 21s\n11000:\tlearn: 0.1981953\ttest: 0.2185329\tbest: 0.2185313 (10986)\ttotal: 3m 47s\tremaining: 5m 10s\n11500:\tlearn: 0.1973637\ttest: 0.2184927\tbest: 0.2184894 (11474)\ttotal: 3m 57s\tremaining: 4m 59s\n12000:\tlearn: 0.1965416\ttest: 0.2184422\tbest: 0.2184416 (11999)\ttotal: 4m 8s\tremaining: 4m 49s\n12500:\tlearn: 0.1957195\ttest: 0.2184155\tbest: 0.2184097 (12447)\ttotal: 4m 18s\tremaining: 4m 38s\n13000:\tlearn: 0.1949188\ttest: 0.2183738\tbest: 0.2183716 (12985)\ttotal: 4m 28s\tremaining: 4m 28s\n13500:\tlearn: 0.1941045\ttest: 0.2183217\tbest: 0.2183213 (13498)\ttotal: 4m 39s\tremaining: 4m 18s\n14000:\tlearn: 0.1932967\ttest: 0.2182934\tbest: 0.2182934 (14000)\ttotal: 4m 49s\tremaining: 4m 7s\n14500:\tlearn: 0.1925163\ttest: 0.2182721\tbest: 0.2182701 (14493)\ttotal: 4m 59s\tremaining: 3m 57s\n15000:\tlearn: 0.1917289\ttest: 0.2182754\tbest: 0.2182609 (14814)\ttotal: 5m 10s\tremaining: 3m 47s\nbestTest = 0.2182609048\nbestIteration = 14814\nShrink model to first 14815 iterations.\nAmex Metric = 0.7927653917846498 \n\n#########################\n### Fold 2\n### Train size 367130 Valid size 91783\n### Training with 100% fold data...\n#########################\n0:\tlearn: 0.6697436\ttest: 0.6697471\tbest: 0.6697471 (0)\ttotal: 23.3ms\tremaining: 10m 4s\n500:\tlearn: 0.2289256\ttest: 0.2301080\tbest: 0.2301080 (500)\ttotal: 10.7s\tremaining: 9m 2s\n1000:\tlearn: 0.2226518\ttest: 0.2248441\tbest: 0.2248441 (1000)\ttotal: 21.5s\tremaining: 8m 57s\n1500:\tlearn: 0.2195845\ttest: 0.2228090\tbest: 0.2228090 (1500)\ttotal: 31.4s\tremaining: 8m 33s\n2000:\tlearn: 0.2174830\ttest: 0.2216900\tbest: 0.2216900 (2000)\ttotal: 41.4s\tremaining: 8m 17s\n2500:\tlearn: 0.2157673\ttest: 0.2209236\tbest: 0.2209236 (2500)\ttotal: 52.4s\tremaining: 8m 12s\n3000:\tlearn: 0.2143690\ttest: 0.2204294\tbest: 0.2204294 (3000)\ttotal: 1m 2s\tremaining: 7m 59s\n3500:\tlearn: 0.2130726\ttest: 0.2200699\tbest: 0.2200699 (3500)\ttotal: 1m 12s\tremaining: 7m 46s\n4000:\tlearn: 0.2118497\ttest: 0.2197852\tbest: 0.2197852 (4000)\ttotal: 1m 23s\tremaining: 7m 38s\n4500:\tlearn: 0.2106784\ttest: 0.2195392\tbest: 0.2195377 (4494)\ttotal: 1m 33s\tremaining: 7m 27s\n5000:\tlearn: 0.2095833\ttest: 0.2193319\tbest: 0.2193318 (4999)\ttotal: 1m 43s\tremaining: 7m 15s\n5500:\tlearn: 0.2085502\ttest: 0.2191556\tbest: 0.2191556 (5500)\ttotal: 1m 54s\tremaining: 7m 6s\n6000:\tlearn: 0.2074996\ttest: 0.2189643\tbest: 0.2189633 (5999)\ttotal: 2m 4s\tremaining: 6m 55s\n6500:\tlearn: 0.2065137\ttest: 0.2188028\tbest: 0.2188025 (6497)\ttotal: 2m 14s\tremaining: 6m 43s\n7000:\tlearn: 0.2055640\ttest: 0.2186809\tbest: 0.2186809 (7000)\ttotal: 2m 24s\tremaining: 6m 32s\n7500:\tlearn: 0.2046077\ttest: 0.2185513\tbest: 0.2185482 (7477)\ttotal: 2m 35s\tremaining: 6m 24s\n8000:\tlearn: 0.2036959\ttest: 0.2184515\tbest: 0.2184512 (7999)\ttotal: 2m 46s\tremaining: 6m 13s\n8500:\tlearn: 0.2028095\ttest: 0.2183684\tbest: 0.2183681 (8487)\ttotal: 2m 56s\tremaining: 6m 2s\n9000:\tlearn: 0.2019345\ttest: 0.2182782\tbest: 0.2182782 (9000)\ttotal: 3m 6s\tremaining: 5m 52s\n9500:\tlearn: 0.2010334\ttest: 0.2181920\tbest: 0.2181914 (9471)\ttotal: 3m 16s\tremaining: 5m 41s\n10000:\tlearn: 0.2001710\ttest: 0.2181364\tbest: 0.2181359 (9997)\ttotal: 3m 26s\tremaining: 5m 30s\n10500:\tlearn: 0.1993118\ttest: 0.2180633\tbest: 0.2180633 (10500)\ttotal: 3m 37s\tremaining: 5m 20s\n11000:\tlearn: 0.1984627\ttest: 0.2180064\tbest: 0.2180062 (10999)\ttotal: 3m 47s\tremaining: 5m 9s\n11500:\tlearn: 0.1976294\ttest: 0.2179631\tbest: 0.2179597 (11450)\ttotal: 3m 57s\tremaining: 4m 59s\n12000:\tlearn: 0.1967835\ttest: 0.2178876\tbest: 0.2178857 (11987)\ttotal: 4m 8s\tremaining: 4m 49s\n12500:\tlearn: 0.1959575\ttest: 0.2178388\tbest: 0.2178385 (12481)\ttotal: 4m 18s\tremaining: 4m 38s\n13000:\tlearn: 0.1951517\ttest: 0.2177980\tbest: 0.2177978 (12999)\ttotal: 4m 28s\tremaining: 4m 28s\n13500:\tlearn: 0.1943501\ttest: 0.2177360\tbest: 0.2177293 (13465)\ttotal: 4m 39s\tremaining: 4m 18s\n14000:\tlearn: 0.1935624\ttest: 0.2176819\tbest: 0.2176814 (13946)\ttotal: 4m 49s\tremaining: 4m 7s\n14500:\tlearn: 0.1927854\ttest: 0.2176612\tbest: 0.2176553 (14443)\ttotal: 4m 59s\tremaining: 3m 57s\nbestTest = 0.2176552601\nbestIteration = 14443\nShrink model to first 14444 iterations.\nAmex Metric = 0.792536869975548 \n\n#########################\n### Fold 3\n### Train size 367130 Valid size 91783\n### Training with 100% fold data...\n#########################\n0:\tlearn: 0.6700008\ttest: 0.6699059\tbest: 0.6699059 (0)\ttotal: 22.6ms\tremaining: 9m 47s\n500:\tlearn: 0.2295225\ttest: 0.2276117\tbest: 0.2276117 (500)\ttotal: 10.6s\tremaining: 9m\n1000:\tlearn: 0.2232064\ttest: 0.2224003\tbest: 0.2224003 (1000)\ttotal: 20.9s\tremaining: 8m 41s\n1500:\tlearn: 0.2201555\ttest: 0.2203726\tbest: 0.2203726 (1500)\ttotal: 31.9s\tremaining: 8m 40s\n2000:\tlearn: 0.2180292\ttest: 0.2192641\tbest: 0.2192641 (2000)\ttotal: 42.1s\tremaining: 8m 24s\n2500:\tlearn: 0.2163186\ttest: 0.2185400\tbest: 0.2185400 (2500)\ttotal: 52.3s\tremaining: 8m 11s\n3000:\tlearn: 0.2149028\ttest: 0.2180219\tbest: 0.2180219 (3000)\ttotal: 1m 3s\tremaining: 8m 3s\n3500:\tlearn: 0.2135865\ttest: 0.2176364\tbest: 0.2176364 (3500)\ttotal: 1m 13s\tremaining: 7m 50s\n4000:\tlearn: 0.2123825\ttest: 0.2173320\tbest: 0.2173320 (4000)\ttotal: 1m 23s\tremaining: 7m 37s\n4500:\tlearn: 0.2112563\ttest: 0.2170926\tbest: 0.2170910 (4498)\ttotal: 1m 33s\tremaining: 7m 25s\n5000:\tlearn: 0.2101873\ttest: 0.2168657\tbest: 0.2168657 (5000)\ttotal: 1m 44s\tremaining: 7m 16s\n5500:\tlearn: 0.2091267\ttest: 0.2166841\tbest: 0.2166840 (5492)\ttotal: 1m 54s\tremaining: 7m 4s\n6000:\tlearn: 0.2081475\ttest: 0.2165047\tbest: 0.2165047 (6000)\ttotal: 2m 3s\tremaining: 6m 52s\n6500:\tlearn: 0.2071477\ttest: 0.2163393\tbest: 0.2163388 (6499)\ttotal: 2m 15s\tremaining: 6m 45s\n7000:\tlearn: 0.2061811\ttest: 0.2161911\tbest: 0.2161911 (7000)\ttotal: 2m 24s\tremaining: 6m 33s\n7500:\tlearn: 0.2052312\ttest: 0.2160377\tbest: 0.2160376 (7498)\ttotal: 2m 34s\tremaining: 6m 21s\n8000:\tlearn: 0.2043023\ttest: 0.2159350\tbest: 0.2159344 (7998)\ttotal: 2m 45s\tremaining: 6m 12s\n8500:\tlearn: 0.2033943\ttest: 0.2158423\tbest: 0.2158420 (8499)\ttotal: 2m 55s\tremaining: 6m 1s\n9000:\tlearn: 0.2025101\ttest: 0.2157401\tbest: 0.2157390 (8998)\ttotal: 3m 5s\tremaining: 5m 50s\n9500:\tlearn: 0.2016435\ttest: 0.2156506\tbest: 0.2156506 (9500)\ttotal: 3m 16s\tremaining: 5m 41s\n10000:\tlearn: 0.2007708\ttest: 0.2155789\tbest: 0.2155784 (9999)\ttotal: 3m 26s\tremaining: 5m 30s\n10500:\tlearn: 0.1999052\ttest: 0.2155112\tbest: 0.2155088 (10457)\ttotal: 3m 36s\tremaining: 5m 20s\n11000:\tlearn: 0.1990675\ttest: 0.2154475\tbest: 0.2154447 (10986)\ttotal: 3m 47s\tremaining: 5m 10s\n11500:\tlearn: 0.1982292\ttest: 0.2153776\tbest: 0.2153713 (11461)\ttotal: 3m 57s\tremaining: 4m 59s\n12000:\tlearn: 0.1974038\ttest: 0.2153292\tbest: 0.2153265 (11988)\ttotal: 4m 7s\tremaining: 4m 49s\n12500:\tlearn: 0.1965788\ttest: 0.2152615\tbest: 0.2152615 (12500)\ttotal: 4m 17s\tremaining: 4m 38s\n13000:\tlearn: 0.1957766\ttest: 0.2152242\tbest: 0.2152236 (12995)\ttotal: 4m 28s\tremaining: 4m 28s\n13500:\tlearn: 0.1949996\ttest: 0.2151867\tbest: 0.2151833 (13492)\ttotal: 4m 38s\tremaining: 4m 17s\n14000:\tlearn: 0.1942012\ttest: 0.2151648\tbest: 0.2151616 (13899)\ttotal: 4m 48s\tremaining: 4m 7s\n14500:\tlearn: 0.1934121\ttest: 0.2151186\tbest: 0.2151181 (14495)\ttotal: 4m 59s\tremaining: 3m 57s\n15000:\tlearn: 0.1926370\ttest: 0.2150603\tbest: 0.2150603 (15000)\ttotal: 5m 9s\tremaining: 3m 47s\n15500:\tlearn: 0.1918832\ttest: 0.2150349\tbest: 0.2150328 (15477)\ttotal: 5m 19s\tremaining: 3m 36s\nbestTest = 0.2150328424\nbestIteration = 15477\nShrink model to first 15478 iterations.\nAmex Metric = 0.7955058222728268 \n\n#########################\n### Fold 4\n### Train size 367131 Valid size 91782\n### Training with 100% fold data...\n#########################\n0:\tlearn: 0.6696492\ttest: 0.6696432\tbest: 0.6696432 (0)\ttotal: 23.4ms\tremaining: 10m 8s\n500:\tlearn: 0.2287399\ttest: 0.2309150\tbest: 0.2309150 (500)\ttotal: 10.4s\tremaining: 8m 50s\n1000:\tlearn: 0.2224863\ttest: 0.2254862\tbest: 0.2254862 (1000)\ttotal: 21.5s\tremaining: 8m 56s\n1500:\tlearn: 0.2194717\ttest: 0.2233456\tbest: 0.2233456 (1500)\ttotal: 31.8s\tremaining: 8m 39s\n2000:\tlearn: 0.2173860\ttest: 0.2222179\tbest: 0.2222179 (2000)\ttotal: 42.1s\tremaining: 8m 25s\n2500:\tlearn: 0.2157130\ttest: 0.2214970\tbest: 0.2214970 (2500)\ttotal: 53.1s\tremaining: 8m 18s\n3000:\tlearn: 0.2142721\ttest: 0.2209750\tbest: 0.2209745 (2999)\ttotal: 1m 3s\tremaining: 8m 2s\n3500:\tlearn: 0.2129669\ttest: 0.2206181\tbest: 0.2206181 (3500)\ttotal: 1m 13s\tremaining: 7m 49s\n4000:\tlearn: 0.2116914\ttest: 0.2202879\tbest: 0.2202872 (3999)\ttotal: 1m 23s\tremaining: 7m 39s\n4500:\tlearn: 0.2105167\ttest: 0.2200118\tbest: 0.2200118 (4500)\ttotal: 1m 34s\tremaining: 7m 29s\n5000:\tlearn: 0.2094405\ttest: 0.2197978\tbest: 0.2197971 (4993)\ttotal: 1m 43s\tremaining: 7m 15s\n5500:\tlearn: 0.2083831\ttest: 0.2196014\tbest: 0.2196014 (5500)\ttotal: 1m 54s\tremaining: 7m 5s\n6000:\tlearn: 0.2073592\ttest: 0.2194563\tbest: 0.2194561 (5996)\ttotal: 2m 5s\tremaining: 6m 57s\n6500:\tlearn: 0.2063587\ttest: 0.2193220\tbest: 0.2193220 (6500)\ttotal: 2m 15s\tremaining: 6m 45s\n7000:\tlearn: 0.2053782\ttest: 0.2191600\tbest: 0.2191600 (7000)\ttotal: 2m 25s\tremaining: 6m 34s\n7500:\tlearn: 0.2044355\ttest: 0.2190539\tbest: 0.2190534 (7481)\ttotal: 2m 36s\tremaining: 6m 26s\n8000:\tlearn: 0.2035234\ttest: 0.2189806\tbest: 0.2189791 (7986)\ttotal: 2m 46s\tremaining: 6m 15s\n8500:\tlearn: 0.2025945\ttest: 0.2188809\tbest: 0.2188808 (8499)\ttotal: 2m 57s\tremaining: 6m 4s\n9000:\tlearn: 0.2016906\ttest: 0.2187669\tbest: 0.2187627 (8975)\ttotal: 3m 7s\tremaining: 5m 54s\n9500:\tlearn: 0.2008165\ttest: 0.2186934\tbest: 0.2186898 (9495)\ttotal: 3m 18s\tremaining: 5m 43s\n10000:\tlearn: 0.1999481\ttest: 0.2186237\tbest: 0.2186224 (9977)\ttotal: 3m 28s\tremaining: 5m 33s\n10500:\tlearn: 0.1990841\ttest: 0.2185650\tbest: 0.2185650 (10500)\ttotal: 3m 39s\tremaining: 5m 23s\n11000:\tlearn: 0.1982344\ttest: 0.2184675\tbest: 0.2184675 (11000)\ttotal: 3m 49s\tremaining: 5m 12s\n11500:\tlearn: 0.1974140\ttest: 0.2184022\tbest: 0.2184005 (11493)\ttotal: 3m 59s\tremaining: 5m 2s\n12000:\tlearn: 0.1965823\ttest: 0.2183606\tbest: 0.2183598 (11999)\ttotal: 4m 10s\tremaining: 4m 51s\n12500:\tlearn: 0.1957720\ttest: 0.2183198\tbest: 0.2183174 (12495)\ttotal: 4m 20s\tremaining: 4m 41s\n13000:\tlearn: 0.1949520\ttest: 0.2182867\tbest: 0.2182810 (12936)\ttotal: 4m 30s\tremaining: 4m 30s\n13500:\tlearn: 0.1941508\ttest: 0.2182304\tbest: 0.2182301 (13458)\ttotal: 4m 40s\tremaining: 4m 19s\n14000:\tlearn: 0.1933580\ttest: 0.2181858\tbest: 0.2181848 (13986)\ttotal: 4m 51s\tremaining: 4m 10s\n14500:\tlearn: 0.1925553\ttest: 0.2181306\tbest: 0.2181294 (14463)\ttotal: 5m 1s\tremaining: 3m 59s\n15000:\tlearn: 0.1917754\ttest: 0.2180868\tbest: 0.2180803 (14967)\ttotal: 5m 11s\tremaining: 3m 48s\n15500:\tlearn: 0.1910178\ttest: 0.2180332\tbest: 0.2180261 (15464)\ttotal: 5m 22s\tremaining: 3m 38s\n16000:\tlearn: 0.1902570\ttest: 0.2180008\tbest: 0.2180008 (16000)\ttotal: 5m 32s\tremaining: 3m 28s\n16500:\tlearn: 0.1894938\ttest: 0.2179714\tbest: 0.2179704 (16482)\ttotal: 5m 43s\tremaining: 3m 17s\n17000:\tlearn: 0.1887529\ttest: 0.2179375\tbest: 0.2179353 (16984)\ttotal: 5m 53s\tremaining: 3m 7s\n17500:\tlearn: 0.1880149\ttest: 0.2179238\tbest: 0.2179194 (17387)\ttotal: 6m 3s\tremaining: 2m 56s\n18000:\tlearn: 0.1872729\ttest: 0.2179067\tbest: 0.2178988 (17920)\ttotal: 6m 13s\tremaining: 2m 46s\n18500:\tlearn: 0.1865425\ttest: 0.2178580\tbest: 0.2178577 (18461)\ttotal: 6m 24s\tremaining: 2m 36s\n19000:\tlearn: 0.1858124\ttest: 0.2178414\tbest: 0.2178336 (18919)\ttotal: 6m 35s\tremaining: 2m 25s\n19500:\tlearn: 0.1850989\ttest: 0.2178028\tbest: 0.2178019 (19481)\ttotal: 6m 45s\tremaining: 2m 15s\n20000:\tlearn: 0.1843961\ttest: 0.2177939\tbest: 0.2177908 (19874)\ttotal: 6m 56s\tremaining: 2m 4s\n20500:\tlearn: 0.1836930\ttest: 0.2177926\tbest: 0.2177826 (20321)\ttotal: 7m 6s\tremaining: 1m 54s\nbestTest = 0.2177825879\nbestIteration = 20321\nShrink model to first 20322 iterations.\nAmex Metric = 0.789342025490398 \n\n#########################\n### Fold 5\n### Train size 367131 Valid size 91782\n### Training with 100% fold data...\n#########################\n0:\tlearn: 0.6699039\ttest: 0.6700362\tbest: 0.6700362 (0)\ttotal: 23.7ms\tremaining: 10m 14s\n500:\tlearn: 0.2284252\ttest: 0.2321745\tbest: 0.2321745 (500)\ttotal: 11.3s\tremaining: 9m 34s\n1000:\tlearn: 0.2221985\ttest: 0.2269535\tbest: 0.2269535 (1000)\ttotal: 21.5s\tremaining: 8m 58s\n1500:\tlearn: 0.2191343\ttest: 0.2248850\tbest: 0.2248850 (1500)\ttotal: 31.7s\tremaining: 8m 37s\n2000:\tlearn: 0.2169954\ttest: 0.2237042\tbest: 0.2237042 (2000)\ttotal: 42.7s\tremaining: 8m 32s\n2500:\tlearn: 0.2153011\ttest: 0.2229559\tbest: 0.2229559 (2499)\ttotal: 53s\tremaining: 8m 17s\n3000:\tlearn: 0.2138537\ttest: 0.2224126\tbest: 0.2224126 (3000)\ttotal: 1m 3s\tremaining: 8m 5s\n3500:\tlearn: 0.2125582\ttest: 0.2220243\tbest: 0.2220243 (3500)\ttotal: 1m 14s\tremaining: 7m 58s\n4000:\tlearn: 0.2113403\ttest: 0.2217002\tbest: 0.2217002 (4000)\ttotal: 1m 24s\tremaining: 7m 45s\n4500:\tlearn: 0.2101944\ttest: 0.2214237\tbest: 0.2214237 (4500)\ttotal: 1m 34s\tremaining: 7m 32s\n5000:\tlearn: 0.2090746\ttest: 0.2211913\tbest: 0.2211904 (4998)\ttotal: 1m 45s\tremaining: 7m 24s\n5500:\tlearn: 0.2080197\ttest: 0.2209714\tbest: 0.2209713 (5499)\ttotal: 1m 55s\tremaining: 7m 12s\n6000:\tlearn: 0.2070059\ttest: 0.2207962\tbest: 0.2207962 (6000)\ttotal: 2m 6s\tremaining: 7m\n6500:\tlearn: 0.2060335\ttest: 0.2206300\tbest: 0.2206292 (6495)\ttotal: 2m 16s\tremaining: 6m 47s\n7000:\tlearn: 0.2050980\ttest: 0.2204887\tbest: 0.2204887 (7000)\ttotal: 2m 27s\tremaining: 6m 38s\n7500:\tlearn: 0.2041415\ttest: 0.2203737\tbest: 0.2203737 (7500)\ttotal: 2m 37s\tremaining: 6m 27s\n8000:\tlearn: 0.2032333\ttest: 0.2202797\tbest: 0.2202797 (8000)\ttotal: 2m 47s\tremaining: 6m 15s\n8500:\tlearn: 0.2023215\ttest: 0.2201499\tbest: 0.2201499 (8500)\ttotal: 2m 57s\tremaining: 6m 6s\n9000:\tlearn: 0.2014356\ttest: 0.2200621\tbest: 0.2200585 (8984)\ttotal: 3m 7s\tremaining: 5m 54s\n9500:\tlearn: 0.2005693\ttest: 0.2200085\tbest: 0.2200071 (9494)\ttotal: 3m 17s\tremaining: 5m 43s\n10000:\tlearn: 0.1997102\ttest: 0.2199336\tbest: 0.2199322 (9993)\ttotal: 3m 28s\tremaining: 5m 33s\n10500:\tlearn: 0.1988459\ttest: 0.2198864\tbest: 0.2198850 (10470)\ttotal: 3m 38s\tremaining: 5m 22s\n11000:\tlearn: 0.1980051\ttest: 0.2198483\tbest: 0.2198469 (10990)\ttotal: 3m 48s\tremaining: 5m 11s\n11500:\tlearn: 0.1971764\ttest: 0.2197918\tbest: 0.2197917 (11476)\ttotal: 3m 59s\tremaining: 5m 1s\n12000:\tlearn: 0.1963521\ttest: 0.2197461\tbest: 0.2197440 (11993)\ttotal: 4m 9s\tremaining: 4m 51s\n12500:\tlearn: 0.1955500\ttest: 0.2196870\tbest: 0.2196848 (12477)\ttotal: 4m 19s\tremaining: 4m 40s\n13000:\tlearn: 0.1947280\ttest: 0.2196624\tbest: 0.2196620 (12956)\ttotal: 4m 30s\tremaining: 4m 30s\n13500:\tlearn: 0.1939410\ttest: 0.2196100\tbest: 0.2196093 (13492)\ttotal: 4m 40s\tremaining: 4m 20s\n14000:\tlearn: 0.1931433\ttest: 0.2195489\tbest: 0.2195489 (14000)\ttotal: 4m 51s\tremaining: 4m 9s\n14500:\tlearn: 0.1923676\ttest: 0.2195190\tbest: 0.2195188 (14499)\ttotal: 5m 2s\tremaining: 3m 59s\n15000:\tlearn: 0.1915926\ttest: 0.2194987\tbest: 0.2194982 (14962)\ttotal: 5m 12s\tremaining: 3m 49s\n15500:\tlearn: 0.1908188\ttest: 0.2194540\tbest: 0.2194532 (15495)\ttotal: 5m 22s\tremaining: 3m 38s\n16000:\tlearn: 0.1900597\ttest: 0.2193978\tbest: 0.2193978 (16000)\ttotal: 5m 32s\tremaining: 3m 27s\n16500:\tlearn: 0.1893302\ttest: 0.2193584\tbest: 0.2193584 (16500)\ttotal: 5m 43s\tremaining: 3m 17s\nbestTest = 0.2193382655\nbestIteration = 16689\nShrink model to first 16690 iterations.\nAmex Metric = 0.7937028660954257 \n\n#########################\nOverall Amex metric: 0.7925929762275951\n",
          "output_type": "stream"
        }
      ]
    },
    {
      "cell_type": "code",
      "source": [
        "# CLEAN RAM\n",
        "del train\n",
        "_ = gc.collect()"
      ],
      "metadata": {
        "execution": {
          "iopub.status.busy": "2022-06-22T06:58:24.693518Z",
          "iopub.execute_input": "2022-06-22T06:58:24.694375Z",
          "iopub.status.idle": "2022-06-22T06:58:24.800165Z",
          "shell.execute_reply.started": "2022-06-22T06:58:24.694331Z",
          "shell.execute_reply": "2022-06-22T06:58:24.799212Z"
        },
        "trusted": true,
        "id": "H7_7vW0VmF3K"
      },
      "execution_count": null,
      "outputs": []
    },
    {
      "cell_type": "code",
      "source": [
        "df = importances[0].copy()\n",
        "for k in range(1,FOLDS): df = df.merge(importances[k], on='feature', how='left')\n",
        "df['importance'] = df.iloc[:,1:].mean(axis=1, numeric_only=True)\n",
        "df = df.sort_values('importance',ascending=False)\n",
        "df.to_csv(f'cat_feature_importance_v{VER}.csv',index=False)"
      ],
      "metadata": {
        "scrolled": true,
        "execution": {
          "iopub.status.busy": "2022-06-22T06:58:24.801663Z",
          "iopub.execute_input": "2022-06-22T06:58:24.802061Z",
          "iopub.status.idle": "2022-06-22T06:58:24.851912Z",
          "shell.execute_reply.started": "2022-06-22T06:58:24.802027Z",
          "shell.execute_reply": "2022-06-22T06:58:24.851033Z"
        },
        "trusted": true,
        "id": "jUQjVcXpmF3K"
      },
      "execution_count": null,
      "outputs": []
    },
    {
      "cell_type": "code",
      "source": [
        "NUM_FEATURES = 20\n",
        "plt.figure(figsize=(10,5*NUM_FEATURES//10))\n",
        "plt.barh(np.arange(NUM_FEATURES,0,-1), df.importance.values[:NUM_FEATURES])\n",
        "plt.yticks(np.arange(NUM_FEATURES,0,-1), df.feature.values[:NUM_FEATURES])\n",
        "plt.title(f'CAT Feature Importance - Top {NUM_FEATURES}')\n",
        "plt.show()"
      ],
      "metadata": {
        "execution": {
          "iopub.status.busy": "2022-06-22T06:58:24.853160Z",
          "iopub.execute_input": "2022-06-22T06:58:24.854024Z",
          "iopub.status.idle": "2022-06-22T06:58:25.152456Z",
          "shell.execute_reply.started": "2022-06-22T06:58:24.853967Z",
          "shell.execute_reply": "2022-06-22T06:58:25.151716Z"
        },
        "trusted": true,
        "id": "NFSv4wKqmF3L",
        "outputId": "fcdabe0a-55cf-4338-b82e-f27c6d8e56cf"
      },
      "execution_count": null,
      "outputs": [
        {
          "output_type": "display_data",
          "data": {
            "text/plain": "<Figure size 720x720 with 1 Axes>",
            "image/png": "[encoded data removed]"
          },
          "metadata": {
            "needs_background": "light"
          }
        }
      ]
    },
    {
      "cell_type": "markdown",
      "source": [
        "# Test part"
      ],
      "metadata": {
        "id": "9lmwEhq4mF3L"
      }
    },
    {
      "cell_type": "code",
      "source": [
        "# CALCULATE SIZE OF EACH SEPARATE TEST PART\n",
        "def get_rows(customers, test, NUM_PARTS = 4, verbose = ''):\n",
        "    chunk = len(customers)//NUM_PARTS\n",
        "    if verbose != '':\n",
        "        print(f'We will process {verbose} data as {NUM_PARTS} separate parts.')\n",
        "        print(f'There will be {chunk} customers in each part (except the last part).')\n",
        "        print('Below are number of rows in each part:')\n",
        "    rows = []\n",
        "\n",
        "    for k in range(NUM_PARTS):\n",
        "        if k==NUM_PARTS-1: cc = customers[k*chunk:]\n",
        "        else: cc = customers[k*chunk:(k+1)*chunk]\n",
        "        s = test.loc[test.customer_ID.isin(cc)].shape[0]\n",
        "        rows.append(s)\n",
        "    if verbose != '': print( rows )\n",
        "    return rows,chunk"
      ],
      "metadata": {
        "execution": {
          "iopub.status.busy": "2022-06-22T06:58:25.153588Z",
          "iopub.execute_input": "2022-06-22T06:58:25.154239Z",
          "iopub.status.idle": "2022-06-22T06:58:25.162883Z",
          "shell.execute_reply.started": "2022-06-22T06:58:25.154198Z",
          "shell.execute_reply": "2022-06-22T06:58:25.162043Z"
        },
        "trusted": true,
        "id": "SpMvpgNimF3L"
      },
      "execution_count": null,
      "outputs": []
    },
    {
      "cell_type": "code",
      "source": [
        "# COMPUTE SIZE OF 4 PARTS FOR TEST DATA\n",
        "NUM_PARTS = 4\n",
        "\n",
        "customers = test[['customer_ID']].drop_duplicates().sort_index().values.flatten()\n",
        "rows,num_cust = get_rows(customers, test[['customer_ID']], NUM_PARTS = NUM_PARTS, verbose = 'test')"
      ],
      "metadata": {
        "execution": {
          "iopub.status.busy": "2022-06-22T06:58:25.164283Z",
          "iopub.execute_input": "2022-06-22T06:58:25.164645Z",
          "iopub.status.idle": "2022-06-22T06:58:25.808776Z",
          "shell.execute_reply.started": "2022-06-22T06:58:25.164610Z",
          "shell.execute_reply": "2022-06-22T06:58:25.807901Z"
        },
        "trusted": true,
        "id": "1dwjNSTlmF3L",
        "outputId": "419d68db-c429-4e26-d263-3e2db0e4e490"
      },
      "execution_count": null,
      "outputs": [
        {
          "name": "stdout",
          "text": "We will process test data as 4 separate parts.\nThere will be 231155 customers in each part (except the last part).\nBelow are number of rows in each part:\n[231155, 231155, 231155, 231156]\n",
          "output_type": "stream"
        }
      ]
    },
    {
      "cell_type": "code",
      "source": [
        "# INFER TEST DATA IN PARTS\n",
        "skip_rows = 0\n",
        "skip_cust = 0\n",
        "test_preds = []\n",
        "\n",
        "for k in range(NUM_PARTS):\n",
        "    \n",
        "    # READ PART OF TEST DATA\n",
        "    print(f'\\nReading test data...')\n",
        "    test_copy = test.iloc[skip_rows:skip_rows+rows[k]].copy()\n",
        "    test_copy = test_copy.set_index('customer_ID')\n",
        "    skip_rows += rows[k]\n",
        "    print(f'=> Test part {k+1} has shape', test_copy.shape )\n",
        "    \n",
        "    # PROCESS AND FEATURE ENGINEER PART OF TEST DATA\n",
        "    if k==NUM_PARTS-1: test_copy = test_copy.loc[customers[skip_cust:]]\n",
        "    else: test_copy = test_copy.loc[customers[skip_cust:skip_cust+num_cust]]\n",
        "    skip_cust += num_cust\n",
        "        \n",
        "    # INFER XGB MODELS ON TEST DATA\n",
        "    model = CatBoostClassifier(**cat_params)\n",
        "    model.load_model(f'CAT_v{VER}_fold0.cbm')\n",
        "    preds = model.predict_proba(test_copy)[:, 1]\n",
        "    for f in range(1,FOLDS):\n",
        "        model.load_model(f'CAT_v{VER}_fold{f}.cbm')\n",
        "        preds += model.predict_proba(test_copy)[:, 1]\n",
        "    preds /= FOLDS\n",
        "    test_preds.append(preds)\n",
        "\n",
        "    # CLEAN MEMORY\n",
        "    del test_copy, model\n",
        "    _ = gc.collect()\n",
        "\n",
        "del test\n",
        "_ = gc.collect()"
      ],
      "metadata": {
        "trusted": true,
        "id": "A6T4k6gumF3M"
      },
      "execution_count": null,
      "outputs": []
    },
    {
      "cell_type": "markdown",
      "source": [
        "# Create a submission file"
      ],
      "metadata": {
        "id": "T0lDFUgemF3M"
      }
    },
    {
      "cell_type": "code",
      "source": [
        "# WRITE SUBMISSION FILE\n",
        "# test_preds = np.concatenate(test_preds)\n",
        "test = pd.DataFrame(index=customers,data={'prediction':test_preds})\n",
        "sub = pd.read_csv('../input/amex-default-prediction/sample_submission.csv')[['customer_ID']]\n",
        "sub['customer_ID_hash'] = sub['customer_ID'].copy()\n",
        "sub = sub.set_index('customer_ID_hash')\n",
        "sub = sub.merge(test[['prediction']], left_index=True, right_index=True, how='left')\n",
        "sub = sub.reset_index(drop=True)\n",
        "\n",
        "# DISPLAY PREDICTIONS\n",
        "sub.to_csv(f'submission_cat_v{VER}.csv',index=False)\n",
        "print('Submission file shape is', sub.shape )\n",
        "sub"
      ],
      "metadata": {
        "trusted": true,
        "id": "7fFk5F9lmF3M"
      },
      "execution_count": null,
      "outputs": []
    },
    {
      "cell_type": "code",
      "source": [
        "# PLOT PREDICTIONS\n",
        "plt.hist(sub.prediction, bins=100)\n",
        "plt.title('Test Predictions')\n",
        "plt.show()"
      ],
      "metadata": {
        "execution": {
          "iopub.status.busy": "2022-06-22T07:26:13.714885Z",
          "iopub.execute_input": "2022-06-22T07:26:13.715246Z",
          "iopub.status.idle": "2022-06-22T07:26:14.048857Z",
          "shell.execute_reply.started": "2022-06-22T07:26:13.715214Z",
          "shell.execute_reply": "2022-06-22T07:26:14.048093Z"
        },
        "trusted": true,
        "id": "B8AIHKQfmF3M",
        "outputId": "16d9ece6-22fb-4be1-a42f-0d2693c78795"
      },
      "execution_count": null,
      "outputs": [
        {
          "output_type": "display_data",
          "data": {
            "text/plain": "<Figure size 432x288 with 1 Axes>",
            "image/png": "[encoded data removed]"
          },
          "metadata": {
            "needs_background": "light"
          }
        }
      ]
    },
    {
      "cell_type": "markdown",
      "source": [
        "# Ensemble"
      ],
      "metadata": {
        "id": "17ol02Ynmx1b"
      }
    },
    {
      "cell_type": "markdown",
      "source": [
        "## Preparing when Ensemble only\n",
        "\n",
        "Run below codes."
      ],
      "metadata": {
        "id": "ezbgq9E_SAEl"
      }
    },
    {
      "cell_type": "code",
      "source": [
        "# # Load sample data\n",
        "# sub = pd.read_csv('/content/sample_submission.csv')"
      ],
      "metadata": {
        "id": "gXkI0M5gQS05"
      },
      "execution_count": null,
      "outputs": []
    },
    {
      "cell_type": "markdown",
      "source": [
        "## Do ensemble"
      ],
      "metadata": {
        "id": "zGtZdHMqSnUW"
      }
    },
    {
      "cell_type": "code",
      "source": [
        "!kaggle datasets download -d ryuina/amexdefaultsubmissions\n",
        "!unzip /content/amexdefaultsubmissions.zip"
      ],
      "metadata": {
        "colab": {
          "base_uri": "https://localhost:8080/"
        },
        "id": "XSJ_vDh77kPx",
        "outputId": "b6b949c6-7955-418c-ce49-8ab8630e86ae"
      },
      "execution_count": null,
      "outputs": [
        {
          "output_type": "stream",
          "name": "stdout",
          "text": [
            "Downloading amexdefaultsubmissions.zip to /content\n",
            " 99% 277M/280M [00:02<00:00, 80.4MB/s]\n",
            "100% 280M/280M [00:02<00:00, 113MB/s] \n",
            "Archive:  /content/amexdefaultsubmissions.zip\n",
            "  inflating: amex-default-submissions/submission_CosSquareFormer_0788.csv  \n",
            "  inflating: amex-default-submissions/submission_cat_v20.csv  \n",
            "  inflating: amex-default-submissions/submission_cat_v26.csv  \n",
            "  inflating: amex-default-submissions/submission_xgb_v10.csv  \n",
            "  inflating: amex-default-submissions/submission_xgb_v16.csv  \n",
            "  inflating: amex-default-submissions/submission_xgb_v7.csv  \n",
            "  inflating: amex-default-submissions/test_lgbm_baseline_5fold_seed42.csv  \n"
          ]
        }
      ]
    },
    {
      "cell_type": "code",
      "source": [
        "# https://www.kaggle.com/code/beezus666/ensemble-weighted-average\n",
        "#crude formula for model weighting.\n",
        "# Using this formaula the best model's weight = 1, the worst model's weight ~0.05\n",
        "def model_weight(model_loss, worst_loss, best_loss):\n",
        "    return 1- ((best_loss - model_loss)/(best_loss-(worst_loss - 0.01)))\n",
        "\n",
        "def read_weighted_preds(sub_dict: dict, worst_score:float, best_score: float) -> list:\n",
        "    preds = []\n",
        "    weights = []\n",
        "    for path, loss in sub_dict.items():\n",
        "        weight = model_weight(loss, worst_score, best_score)\n",
        "        \n",
        "        df = pd.read_csv(path)\n",
        "        df = df.set_index('customer_ID').sort_index().reset_index() # sort\n",
        "        df['prediction'] = df['prediction']*weight\n",
        "        \n",
        "        preds.append(df['prediction'])\n",
        "        weights.append(weight)\n",
        "    \n",
        "    return preds, weights"
      ],
      "metadata": {
        "execution": {
          "iopub.status.busy": "2022-06-22T09:14:25.694240Z",
          "iopub.execute_input": "2022-06-22T09:14:25.694621Z",
          "iopub.status.idle": "2022-06-22T09:14:25.702751Z",
          "shell.execute_reply.started": "2022-06-22T09:14:25.694592Z",
          "shell.execute_reply": "2022-06-22T09:14:25.701906Z"
        },
        "trusted": true,
        "id": "8wWXKQFsmF3N"
      },
      "execution_count": null,
      "outputs": []
    },
    {
      "cell_type": "code",
      "source": [
        "best = 0.7963\n",
        "worst = 0.789\n",
        "sub_dict = {\n",
        "    '../input/amex-default-prediction-with-cat/submission_cat_v1.csv': 0.794,\n",
        "    '../input/amexdefaultsubmissions/amex-default-submissions/submission_TF_GRU0789.csv': 0.789,\n",
        "#     '../input/amexdefaultsubmissions/amex-default-submissions/submission_xgb_v7.csv': 0.794,\n",
        "    '../input/amexdefaultsubmissions/amex-default-submissions/test_lgbm_baseline_5fold_seed42.csv': 0.7963,\n",
        "#     '../input/amexdefaultsubmissions/amex-default-submissions/submission_cat_0.7923765971248049.csv': 0.7924,\n",
        "    '../input/amexdefaultsubmissions/amex-default-submissions/submission_downsampling0791.csv': 0.791,\n",
        "    '../input/amexdefaultsubmissions/amex-default-submissions/submission_tabnet0791.csv': 0.791,\n",
        "    '../input/amexdefaultsubmissions/amex-default-submissions/lightautoml_tabularautoml0795.csv': 0.795,\n",
        "    '../input/amexdefaultsubmissions/amex-default-submissions/submission_xgb_nvt_0._794csv.csv': 0.794\n",
        "}\n",
        "\n",
        "preds, weights = read_weighted_preds(sub_dict, worst, best)"
      ],
      "metadata": {
        "execution": {
          "iopub.status.busy": "2022-06-22T09:19:31.554213Z",
          "iopub.execute_input": "2022-06-22T09:19:31.554765Z",
          "iopub.status.idle": "2022-06-22T09:19:46.340218Z",
          "shell.execute_reply.started": "2022-06-22T09:19:31.554730Z",
          "shell.execute_reply": "2022-06-22T09:19:46.339203Z"
        },
        "trusted": true,
        "id": "_nBk313ImF3N"
      },
      "execution_count": null,
      "outputs": []
    },
    {
      "cell_type": "code",
      "source": [
        "blend_weight = (np.sum(np.column_stack(preds), axis=1) / sum(weights))\n",
        "blend_mean = (np.mean(np.column_stack(preds), axis=1))\n",
        "\n",
        "print(f\"weight: {blend_weight}\")\n",
        "print(f\"mean: {blend_mean}\")"
      ],
      "metadata": {
        "execution": {
          "iopub.status.busy": "2022-06-22T09:19:50.060894Z",
          "iopub.execute_input": "2022-06-22T09:19:50.061385Z",
          "iopub.status.idle": "2022-06-22T09:19:50.224218Z",
          "shell.execute_reply.started": "2022-06-22T09:19:50.061332Z",
          "shell.execute_reply": "2022-06-22T09:19:50.223143Z"
        },
        "trusted": true,
        "id": "FhfTZijNmF3N",
        "outputId": "73a94039-0e46-4e06-b7bc-f19e6d4ba392"
      },
      "execution_count": null,
      "outputs": [
        {
          "name": "stdout",
          "text": "weight: [0.02398101 0.00124885 0.04104518 ... 0.48290936 0.29330231 0.05692538]\nmean: [0.01926798 0.00100341 0.0329785  ... 0.38800232 0.23565909 0.04573773]\n",
          "output_type": "stream"
        }
      ]
    },
    {
      "cell_type": "code",
      "source": [
        "sub = pd.read_csv('../input/amex-default-prediction/sample_submission.csv')[['customer_ID']]"
      ],
      "metadata": {
        "execution": {
          "iopub.status.busy": "2022-06-22T09:20:29.330565Z",
          "iopub.execute_input": "2022-06-22T09:20:29.331591Z",
          "iopub.status.idle": "2022-06-22T09:20:30.466444Z",
          "shell.execute_reply.started": "2022-06-22T09:20:29.331536Z",
          "shell.execute_reply": "2022-06-22T09:20:30.465470Z"
        },
        "trusted": true,
        "id": "R0xBpySCmF3O"
      },
      "execution_count": null,
      "outputs": []
    },
    {
      "cell_type": "code",
      "source": [
        "blend_ss = sub.copy()\n",
        "blend_ss['prediction'] = (np.sum(np.column_stack(preds), axis=1) / sum(weights))\n",
        "blend_ss.to_csv('submission_blend.csv', index=False)\n",
        "blend_ss"
      ],
      "metadata": {
        "execution": {
          "iopub.status.busy": "2022-06-22T09:20:31.335112Z",
          "iopub.execute_input": "2022-06-22T09:20:31.336075Z",
          "iopub.status.idle": "2022-06-22T09:20:36.923064Z",
          "shell.execute_reply.started": "2022-06-22T09:20:31.336022Z",
          "shell.execute_reply": "2022-06-22T09:20:36.922382Z"
        },
        "trusted": true,
        "id": "JiAvbFNnmF3O",
        "outputId": "7632f0b7-4530-43a2-bddf-836d625d7900"
      },
      "execution_count": null,
      "outputs": [
        {
          "execution_count": 16,
          "output_type": "execute_result",
          "data": {
            "text/plain": "                                              customer_ID  prediction\n0       00000469ba478561f23a92a868bd366de6f6527a684c9a...    0.023981\n1       00001bf2e77ff879fab36aa4fac689b9ba411dae63ae39...    0.001249\n2       0000210045da4f81e5f122c6bde5c2a617d03eef67f82c...    0.041045\n3       00003b41e58ede33b8daf61ab56d9952f17c9ad1c3976c...    0.252061\n4       00004b22eaeeeb0ec976890c1d9bfc14fd9427e98c4ee9...    0.755853\n...                                                   ...         ...\n924616  ffff952c631f2c911b8a2a8ca56ea6e656309a83d2f64c...    0.014509\n924617  ffffcf5df59e5e0bba2a5ac4578a34e2b5aa64a1546cd3...    0.695118\n924618  ffffd61f098cc056dbd7d2a21380c4804bbfe60856f475...    0.482909\n924619  ffffddef1fc3643ea179c93245b68dca0f36941cd83977...    0.293302\n924620  fffffa7cf7e453e1acc6a1426475d5cb9400859f82ff61...    0.056925\n\n[924621 rows x 2 columns]",
            "text/html": "<div>\n<style scoped>\n    .dataframe tbody tr th:only-of-type {\n        vertical-align: middle;\n    }\n\n    .dataframe tbody tr th {\n        vertical-align: top;\n    }\n\n    .dataframe thead th {\n        text-align: right;\n    }\n</style>\n<table border=\"1\" class=\"dataframe\">\n  <thead>\n    <tr style=\"text-align: right;\">\n      <th></th>\n      <th>customer_ID</th>\n      <th>prediction</th>\n    </tr>\n  </thead>\n  <tbody>\n    <tr>\n      <th>0</th>\n      <td>00000469ba478561f23a92a868bd366de6f6527a684c9a...</td>\n      <td>0.023981</td>\n    </tr>\n    <tr>\n      <th>1</th>\n      <td>00001bf2e77ff879fab36aa4fac689b9ba411dae63ae39...</td>\n      <td>0.001249</td>\n    </tr>\n    <tr>\n      <th>2</th>\n      <td>0000210045da4f81e5f122c6bde5c2a617d03eef67f82c...</td>\n      <td>0.041045</td>\n    </tr>\n    <tr>\n      <th>3</th>\n      <td>00003b41e58ede33b8daf61ab56d9952f17c9ad1c3976c...</td>\n      <td>0.252061</td>\n    </tr>\n    <tr>\n      <th>4</th>\n      <td>00004b22eaeeeb0ec976890c1d9bfc14fd9427e98c4ee9...</td>\n      <td>0.755853</td>\n    </tr>\n    <tr>\n      <th>...</th>\n      <td>...</td>\n      <td>...</td>\n    </tr>\n    <tr>\n      <th>924616</th>\n      <td>ffff952c631f2c911b8a2a8ca56ea6e656309a83d2f64c...</td>\n      <td>0.014509</td>\n    </tr>\n    <tr>\n      <th>924617</th>\n      <td>ffffcf5df59e5e0bba2a5ac4578a34e2b5aa64a1546cd3...</td>\n      <td>0.695118</td>\n    </tr>\n    <tr>\n      <th>924618</th>\n      <td>ffffd61f098cc056dbd7d2a21380c4804bbfe60856f475...</td>\n      <td>0.482909</td>\n    </tr>\n    <tr>\n      <th>924619</th>\n      <td>ffffddef1fc3643ea179c93245b68dca0f36941cd83977...</td>\n      <td>0.293302</td>\n    </tr>\n    <tr>\n      <th>924620</th>\n      <td>fffffa7cf7e453e1acc6a1426475d5cb9400859f82ff61...</td>\n      <td>0.056925</td>\n    </tr>\n  </tbody>\n</table>\n<p>924621 rows × 2 columns</p>\n</div>"
          },
          "metadata": {}
        }
      ]
    },
    {
      "cell_type": "code",
      "source": [
        "# PLOT PREDICTIONS\n",
        "plt.hist(blend_ss.prediction, bins=100)\n",
        "plt.title('Blend Test Predictions')\n",
        "plt.show()"
      ],
      "metadata": {
        "execution": {
          "iopub.status.busy": "2022-06-22T09:20:36.924821Z",
          "iopub.execute_input": "2022-06-22T09:20:36.925271Z",
          "iopub.status.idle": "2022-06-22T09:20:37.301608Z",
          "shell.execute_reply.started": "2022-06-22T09:20:36.925226Z",
          "shell.execute_reply": "2022-06-22T09:20:37.300425Z"
        },
        "trusted": true,
        "id": "VbpGKwhkmF3O",
        "outputId": "59a06cd0-9a86-44c0-d4a6-e736ea83e82d"
      },
      "execution_count": null,
      "outputs": [
        {
          "output_type": "display_data",
          "data": {
            "text/plain": "<Figure size 432x288 with 1 Axes>",
            "image/png": "[encoded data removed]"
          },
          "metadata": {
            "needs_background": "light"
          }
        }
      ]
    },
    {
      "cell_type": "markdown",
      "source": [
        "# Submit to Kaggle from Colab"
      ],
      "metadata": {
        "id": "TYLQpBpIWKED"
      }
    },
    {
      "cell_type": "code",
      "source": [
        "# Submit\n",
        "# !kaggle competitions submit -c amex-default-prediction -f submission_cat_v1.csv -m \"From colab\"\n",
        "!kaggle competitions submit -c amex-default-prediction -f submission_blend.csv -m \"From colab\""
      ],
      "metadata": {
        "colab": {
          "base_uri": "https://localhost:8080/"
        },
        "id": "ISnLMiQGWJkx",
        "outputId": "479c9c33-21a2-4e74-de4c-99740cd704b0"
      },
      "execution_count": null,
      "outputs": [
        {
          "output_type": "stream",
          "name": "stdout",
          "text": [
            "100% 75.3M/75.3M [00:03<00:00, 26.2MB/s]\n",
            "Successfully submitted to American Express - Default Prediction"
          ]
        }
      ]
    },
    {
      "cell_type": "code",
      "source": [
        "# Run after few seconds\n",
        "!kaggle competitions submissions amex-default-prediction"
      ],
      "metadata": {
        "colab": {
          "base_uri": "https://localhost:8080/"
        },
        "id": "TChoKo5mjifH",
        "outputId": "357a00b5-9a36-4088-c285-cf4bd5d23b81"
      },
      "execution_count": null,
      "outputs": [
        {
          "output_type": "stream",
          "name": "stdout",
          "text": [
            "fileName                          date                 description                                             status    publicScore  privateScore  \n",
            "--------------------------------  -------------------  ------------------------------------------------------  --------  -----------  ------------  \n",
            "submission_blend.csv              2022-06-21 15:30:49  From colab                                              complete  0.797                      \n",
            "Amex Default Prediction with Cat  2022-06-21 03:33:07  Notebook Amex Default Prediction with Cat | Version 30  complete  0.795                      \n",
            "Amex Default Prediction with Cat  2022-06-21 03:24:02  Notebook Amex Default Prediction with Cat | Version 29  complete  0.795                      \n",
            "Amex Default Prediction with Cat  2022-06-21 03:03:40  Notebook Amex Default Prediction with Cat | Version 28  complete  0.795                      \n",
            "Amex Default Prediction with Cat  2022-06-21 02:51:50  Notebook Amex Default Prediction with Cat | Version 27  complete  0.535                      \n",
            "Amex Default Prediction with Cat  2022-06-20 16:54:56  Notebook Amex Default Prediction with Cat | Version 26  complete  0.794                      \n",
            "Amex Default Prediction with Cat  2022-06-20 14:53:46  Notebook Amex Default Prediction with Cat | Version 24  complete  0.792                      \n",
            "Amex Default Prediction with Cat  2022-06-20 10:48:40  Notebook Amex Default Prediction with Cat | Version 20  complete  0.793                      \n",
            "submission_cat_v1.csv             2022-06-19 16:58:05  From colab                                              complete  0.793                      \n",
            "submission_cat_v1.csv             2022-06-19 15:21:17  From colab                                              complete  0.765                      \n",
            "Amex Default Prediction with Cat  2022-06-18 03:11:32  Notebook Amex Default Prediction with Cat | Version 12  complete  0.790                      \n",
            "submission_cat_v1.csv             2022-06-17 16:05:46  From colab                                              complete  0.783                      \n",
            "Amex Default Prediction with Cat  2022-06-17 12:10:09  Notebook Amex Default Prediction with Cat | Version 8   complete  0.782                      \n",
            "Amex Default Prediction with Cat  2022-06-17 08:06:01  Notebook Amex Default Prediction with Cat | Version 6   complete  0.793                      \n",
            "submission_cat_v1.csv             2022-06-17 05:14:02                                                          complete  0.793                      \n",
            "submission_v1.csv                 2022-06-17 02:25:55                                                          complete  0.793                      \n",
            "submission_v1.csv                 2022-06-16 16:13:23                                                          complete  0.793                      \n",
            "Amex Default Prediction           2022-06-15 13:39:13  Notebook Amex Default Prediction | Version 19           complete  0.791                      \n",
            "Amex Default Prediction           2022-06-15 11:51:27  Notebook Amex Default Prediction | Version 17           complete  0.792                      \n",
            "Amex Default Prediction           2022-06-13 17:32:07  Notebook Amex Default Prediction | Version 16           complete  0.794                      \n",
            "Amex Default Prediction           2022-06-13 16:40:43  Notebook Amex Default Prediction | Version 15           complete  0.793                      \n",
            "Amex Default Prediction           2022-06-13 12:14:43  Notebook Amex Default Prediction | Version 14           complete  0.794                      \n",
            "Amex Default Prediction           2022-06-13 09:31:12  Notebook Amex Default Prediction | Version 12           complete  0.793                      \n",
            "Amex Default Prediction           2022-06-13 05:35:01  Notebook Amex Default Prediction | Version 10           complete  0.788                      \n",
            "Amex Default Prediction           2022-06-12 23:53:29  Notebook Amex Default Prediction | Version 9            complete  0.793                      \n",
            "Amex Default Prediction           2022-06-11 17:11:32  Notebook Amex Default Prediction | Version 8            complete  0.794                      \n",
            "Amex Default Prediction           2022-06-11 16:30:30  Notebook Amex Default Prediction | Version 7            complete  0.794                      \n",
            "Amex Default Prediction           2022-06-11 15:30:05  Notebook Amex Default Prediction | Version 6            complete  0.792                      \n",
            "Amex Default Prediction           2022-06-11 14:17:39  Notebook Amex Default Prediction | Version 5            complete  0.793                      \n",
            "Amex Default Prediction           2022-06-11 13:01:06  Notebook Amex Default Prediction | Version 4            complete  0.794                      \n"
          ]
        }
      ]
    }
  ]
}
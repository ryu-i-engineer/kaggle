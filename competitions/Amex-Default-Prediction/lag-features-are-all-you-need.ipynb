{
  "metadata": {
    "kernelspec": {
      "language": "python",
      "display_name": "Python 3",
      "name": "python3"
    },
    "language_info": {
      "pygments_lexer": "ipython3",
      "nbconvert_exporter": "python",
      "version": "3.6.4",
      "file_extension": ".py",
      "codemirror_mode": {
        "name": "ipython",
        "version": 3
      },
      "name": "python",
      "mimetype": "text/x-python"
    },
    "colab": {
      "name": "lag-features-are-all-you-need.ipynb",
      "provenance": [],
      "machine_shape": "hm"
    },
    "gpuClass": "standard",
    "accelerator": "TPU"
  },
  "nbformat_minor": 0,
  "nbformat": 4,
  "cells": [
    {
      "cell_type": "markdown",
      "source": [
        "# Preparing for colab"
      ],
      "metadata": {
        "id": "whFMYLB1u7rD"
      }
    },
    {
      "cell_type": "code",
      "source": [
        "!pip install kaggle"
      ],
      "metadata": {
        "id": "MwbPTJbLu1oU",
        "outputId": "62639cb9-5759-42e3-a4ed-662d40b46e55",
        "colab": {
          "base_uri": "https://localhost:8080/"
        }
      },
      "execution_count": null,
      "outputs": [
        {
          "output_type": "stream",
          "name": "stdout",
          "text": [
            "Looking in indexes: https://pypi.org/simple, https://us-python.pkg.dev/colab-wheels/public/simple/\n",
            "Requirement already satisfied: kaggle in /usr/local/lib/python3.7/dist-packages (1.5.12)\n",
            "Requirement already satisfied: python-dateutil in /usr/local/lib/python3.7/dist-packages (from kaggle) (2.8.2)\n",
            "Requirement already satisfied: certifi in /usr/local/lib/python3.7/dist-packages (from kaggle) (2022.6.15)\n",
            "Requirement already satisfied: python-slugify in /usr/local/lib/python3.7/dist-packages (from kaggle) (6.1.2)\n",
            "Requirement already satisfied: urllib3 in /usr/local/lib/python3.7/dist-packages (from kaggle) (1.24.3)\n",
            "Requirement already satisfied: requests in /usr/local/lib/python3.7/dist-packages (from kaggle) (2.23.0)\n",
            "Requirement already satisfied: six>=1.10 in /usr/local/lib/python3.7/dist-packages (from kaggle) (1.15.0)\n",
            "Requirement already satisfied: tqdm in /usr/local/lib/python3.7/dist-packages (from kaggle) (4.64.0)\n",
            "Requirement already satisfied: text-unidecode>=1.3 in /usr/local/lib/python3.7/dist-packages (from python-slugify->kaggle) (1.3)\n",
            "Requirement already satisfied: idna<3,>=2.5 in /usr/local/lib/python3.7/dist-packages (from requests->kaggle) (2.10)\n",
            "Requirement already satisfied: chardet<4,>=3.0.2 in /usr/local/lib/python3.7/dist-packages (from requests->kaggle) (3.0.4)\n"
          ]
        }
      ]
    },
    {
      "cell_type": "code",
      "source": [
        "from google.colab import drive\n",
        "drive.mount('/content/drive')\n",
        "\n",
        "# Then move kaggle.json into the folder where the API expects to find it.\n",
        "!mkdir -p ~/.kaggle/ && cp /content/drive/MyDrive/backups/kaggle.json ~/.kaggle/ && chmod 600 ~/.kaggle/kaggle.json"
      ],
      "metadata": {
        "id": "Lx3ZHpcHvLK0",
        "outputId": "5d18a142-fc83-46a8-a563-efdfb5769a60",
        "colab": {
          "base_uri": "https://localhost:8080/"
        }
      },
      "execution_count": null,
      "outputs": [
        {
          "output_type": "stream",
          "name": "stdout",
          "text": [
            "Mounted at /content/drive\n"
          ]
        }
      ]
    },
    {
      "cell_type": "code",
      "source": [
        "!kaggle competitions download -c amex-default-prediction -f sample_submission.csv\n",
        "!unzip /content/sample_submission.csv.zip"
      ],
      "metadata": {
        "id": "jeIvlVN0vQ08",
        "outputId": "195c9754-3c12-4532-99b4-773d416a74d6",
        "colab": {
          "base_uri": "https://localhost:8080/"
        }
      },
      "execution_count": null,
      "outputs": [
        {
          "output_type": "stream",
          "name": "stdout",
          "text": [
            "Downloading sample_submission.csv.zip to /content\n",
            "\r  0% 0.00/32.4M [00:00<?, ?B/s]\r 15% 5.00M/32.4M [00:00<00:01, 25.2MB/s]\n",
            "\r100% 32.4M/32.4M [00:00<00:00, 121MB/s] \n",
            "Archive:  /content/sample_submission.csv.zip\n",
            "  inflating: sample_submission.csv   \n"
          ]
        }
      ]
    },
    {
      "cell_type": "code",
      "source": [
        "!kaggle competitions download -c amex-default-prediction -f train_labels.csv\n",
        "!unzip /content/train_labels.csv.zip"
      ],
      "metadata": {
        "id": "PfGNoPMDxoPk",
        "outputId": "f1cbe180-34b8-404d-f825-0882cb303f06",
        "colab": {
          "base_uri": "https://localhost:8080/"
        }
      },
      "execution_count": null,
      "outputs": [
        {
          "output_type": "stream",
          "name": "stdout",
          "text": [
            "Downloading train_labels.csv.zip to /content\n",
            "\r  0% 0.00/16.2M [00:00<?, ?B/s]\r 31% 5.00M/16.2M [00:00<00:00, 43.3MB/s]\n",
            "\r100% 16.2M/16.2M [00:00<00:00, 95.5MB/s]\n",
            "Archive:  /content/train_labels.csv.zip\n",
            "  inflating: train_labels.csv        \n"
          ]
        }
      ]
    },
    {
      "cell_type": "markdown",
      "source": [
        "# Training & Inference"
      ],
      "metadata": {
        "papermill": {
          "duration": 0.002398,
          "end_time": "2022-06-19T23:15:37.946621",
          "exception": false,
          "start_time": "2022-06-19T23:15:37.944223",
          "status": "completed"
        },
        "tags": [],
        "pycharm": {
          "name": "#%% md\n"
        },
        "id": "672r-QJMuzlw"
      }
    },
    {
      "cell_type": "code",
      "source": [
        "!kaggle datasets download -d ryuina/amex-fe-plus\n",
        "!unzip /content/amex-fe-plus.zip"
      ],
      "metadata": {
        "id": "C2Kqq_4l7Am1",
        "outputId": "b4c3b61c-61bd-4e33-a848-f2bf6cf8ed2f",
        "colab": {
          "base_uri": "https://localhost:8080/"
        }
      },
      "execution_count": null,
      "outputs": [
        {
          "output_type": "stream",
          "name": "stdout",
          "text": [
            "Downloading amex-fe-plus.zip to /content\n",
            "100% 3.84G/3.85G [00:38<00:00, 57.6MB/s]\n",
            "100% 3.85G/3.85G [00:38<00:00, 107MB/s] \n",
            "Archive:  /content/amex-fe-plus.zip\n",
            "  inflating: test_fe_plus_plus.parquet  \n",
            "  inflating: train_fe_plus_plus.parquet  \n"
          ]
        }
      ]
    },
    {
      "cell_type": "code",
      "source": [
        "# ====================================================\n",
        "# Library\n",
        "# ====================================================\n",
        "import os\n",
        "import gc; gc.enable()\n",
        "import joblib\n",
        "import pickle\n",
        "import random\n",
        "import warnings\n",
        "import itertools\n",
        "import scipy as sp\n",
        "import numpy as np\n",
        "import pandas as pd\n",
        "from tqdm import tqdm\n",
        "import xgboost as xgb\n",
        "import lightgbm as lgb\n",
        "warnings.filterwarnings('ignore')\n",
        "from itertools import combinations\n",
        "pd.set_option('display.width', 1000)\n",
        "pd.set_option('display.max_rows', 500)\n",
        "pd.set_option('display.max_columns', 500)\n",
        "from sklearn.preprocessing import LabelEncoder\n",
        "from sklearn.model_selection import StratifiedKFold, train_test_split\n",
        "\n",
        "class CFG:\n",
        "    input_dir = '/content/'\n",
        "    seed = 42\n",
        "    n_folds = 5\n",
        "    target = 'target'\n",
        "\n",
        "def seed_everything(seed):\n",
        "    random.seed(seed)\n",
        "    np.random.seed(seed)\n",
        "    os.environ['PYTHONHASHSEED'] = str(seed)\n",
        "\n",
        "def read_data():\n",
        "    train = pd.read_parquet(CFG.input_dir + 'train_fe_plus_plus.parquet')\n",
        "    test = pd.read_parquet(CFG.input_dir + 'test_fe_plus_plus.parquet')\n",
        "    return train, test\n",
        "\n",
        "def amex_metric(y_true, y_pred):\n",
        "    labels = np.transpose(np.array([y_true, y_pred]))\n",
        "    labels = labels[labels[:, 1].argsort()[::-1]]\n",
        "    weights = np.where(labels[:,0]==0, 20, 1)\n",
        "    cut_vals = labels[np.cumsum(weights) <= int(0.04 * np.sum(weights))]\n",
        "    top_four = np.sum(cut_vals[:,0]) / np.sum(labels[:,0])\n",
        "    gini = [0,0]\n",
        "    for i in [1,0]:\n",
        "        labels = np.transpose(np.array([y_true, y_pred]))\n",
        "        labels = labels[labels[:, i].argsort()[::-1]]\n",
        "        weight = np.where(labels[:,0]==0, 20, 1)\n",
        "        weight_random = np.cumsum(weight / np.sum(weight))\n",
        "        total_pos = np.sum(labels[:, 0] *  weight)\n",
        "        cum_pos_found = np.cumsum(labels[:, 0] * weight)\n",
        "        lorentz = cum_pos_found / total_pos\n",
        "        gini[i] = np.sum((lorentz - weight_random) * weight)\n",
        "    return 0.5 * (gini[1]/gini[0] + top_four)\n",
        "\n",
        "def amex_metric_np(preds, target):\n",
        "    indices = np.argsort(preds)[::-1]\n",
        "    preds, target = preds[indices], target[indices]\n",
        "    weight = 20.0 - target * 19.0\n",
        "    cum_norm_weight = (weight / weight.sum()).cumsum()\n",
        "    four_pct_mask = cum_norm_weight <= 0.04\n",
        "    d = np.sum(target[four_pct_mask]) / np.sum(target)\n",
        "    weighted_target = target * weight\n",
        "    lorentz = (weighted_target / weighted_target.sum()).cumsum()\n",
        "    gini = ((lorentz - cum_norm_weight) * weight).sum()\n",
        "    n_pos = np.sum(target)\n",
        "    n_neg = target.shape[0] - n_pos\n",
        "    gini_max = 10 * n_neg * (n_pos + 20 * n_neg - 19) / (n_pos + 20 * n_neg)\n",
        "    g = gini / gini_max\n",
        "    return 0.5 * (g + d)"
      ],
      "metadata": {
        "papermill": {
          "duration": 1.91354,
          "end_time": "2022-06-19T23:15:39.862701",
          "exception": false,
          "start_time": "2022-06-19T23:15:37.949161",
          "status": "completed"
        },
        "tags": [],
        "pycharm": {
          "name": "#%%\n"
        },
        "execution": {
          "iopub.status.busy": "2022-07-15T15:26:18.975287Z",
          "iopub.status.idle": "2022-07-15T15:26:18.975786Z",
          "shell.execute_reply.started": "2022-07-15T15:26:18.975552Z",
          "shell.execute_reply": "2022-07-15T15:26:18.975573Z"
        },
        "trusted": true,
        "id": "15l0MOvouzlw"
      },
      "execution_count": null,
      "outputs": []
    },
    {
      "cell_type": "markdown",
      "source": [
        "### Training LightGBM (DART) Model\n",
        "\n",
        "- Final predictions output uploaded as a public dataset. "
      ],
      "metadata": {
        "id": "64hhK5K2uzlx"
      }
    },
    {
      "cell_type": "code",
      "source": [
        "seed_everything(CFG.seed)\n",
        "train, test = read_data()"
      ],
      "metadata": {
        "id": "kFQsUkTpemrU"
      },
      "execution_count": null,
      "outputs": []
    },
    {
      "cell_type": "code",
      "source": [
        "# Label encode categorical features\n",
        "cat_features = [\n",
        "    \"B_30\",\n",
        "    \"B_38\",\n",
        "    \"D_114\",\n",
        "    \"D_116\",\n",
        "    \"D_117\",\n",
        "    \"D_120\",\n",
        "    \"D_126\",\n",
        "    \"D_63\",\n",
        "    \"D_64\",\n",
        "    \"D_66\",\n",
        "    \"D_68\"\n",
        "]\n",
        "cat_features = [f\"{cf}_last\" for cf in cat_features]\n",
        "for cat_col in cat_features:\n",
        "    encoder = LabelEncoder()\n",
        "    train[cat_col] = encoder.fit_transform(train[cat_col])\n",
        "    test[cat_col] = encoder.transform(test[cat_col])\n",
        "\n",
        "# Round last float features to 2 decimal place\n",
        "num_cols = list(train.dtypes[(train.dtypes == 'float32') | (train.dtypes == 'float64')].index)\n",
        "num_cols = [col for col in num_cols if 'last' in col]\n",
        "for col in num_cols:\n",
        "    train[col + '_round2'] = train[col].round(2)\n",
        "    test[col + '_round2'] = test[col].round(2)\n",
        "\n",
        "num_cols = [col for col in train.columns if 'last' in col]\n",
        "num_cols = [col[:-5] for col in num_cols if 'round' not in col]\n",
        "for col in num_cols:\n",
        "    try:\n",
        "        train[f'{col}_mean_min'] = train[f'{col}_mean'] - train[f'{col}_min']\n",
        "        test[f'{col}_mean_min'] = test[f'{col}_mean'] - test[f'{col}_min']\n",
        "\n",
        "        train[f'{col}_last_min'] = train[f'{col}_last'] - train[f'{col}_min']\n",
        "        test[f'{col}_last_min'] = test[f'{col}_last'] - test[f'{col}_min']\n",
        "\n",
        "        train[f'{col}_last_max'] = train[f'{col}_last'] - train[f'{col}_max']\n",
        "        test[f'{col}_last_max'] = test[f'{col}_last'] - test[f'{col}_max']\n",
        "\n",
        "        train[f'{col}_last_s2'] = (train[f'{col}_last'] / train['S_2_lag']).round(2)\n",
        "        test[f'{col}_last_s2'] = (test[f'{col}_last'] / test['S_2_lag']).round(2)\n",
        "    except: pass\n",
        "\n",
        "num_cols = list(train.dtypes[(train.dtypes == 'float32') | (train.dtypes == 'float64')].index)\n",
        "for col in tqdm(num_cols):\n",
        "    train[col] = train[col].astype(np.float16)\n",
        "    test[col] = test[col].astype(np.float16)\n",
        "\n",
        "# Get feature list\n",
        "features = [col for col in train.columns if col not in ['customer_ID', CFG.target]]"
      ],
      "metadata": {
        "id": "3apqtSQzbZG1",
        "outputId": "ae8f7899-374a-41bf-bfa0-dfd715475223",
        "colab": {
          "base_uri": "https://localhost:8080/"
        }
      },
      "execution_count": null,
      "outputs": [
        {
          "output_type": "stream",
          "name": "stderr",
          "text": [
            "100%|██████████| 1461/1461 [05:50<00:00,  4.16it/s]\n"
          ]
        }
      ]
    },
    {
      "cell_type": "code",
      "source": [
        "params = {\n",
        "    'objective': 'binary',\n",
        "    'metric': \"binary_logloss\",\n",
        "    'boosting': 'dart',\n",
        "    'seed': CFG.seed,\n",
        "    'num_leaves': 100,\n",
        "    'learning_rate': 0.02,\n",
        "    'feature_fraction': 0.20,\n",
        "    'bagging_freq': 10,\n",
        "    'bagging_fraction': 0.50,\n",
        "    'n_jobs': -1,\n",
        "    'lambda_l2': 2,\n",
        "    'min_data_in_leaf': 40,\n",
        "    'device_type': 'gpu'\n",
        "    }"
      ],
      "metadata": {
        "id": "S00nxuAZbdBP"
      },
      "execution_count": null,
      "outputs": []
    },
    {
      "cell_type": "code",
      "source": [
        "def lgb_amex_metric(y_pred, y_true):\n",
        "    y_true = y_true.get_label()\n",
        "    return 'amex_metric', amex_metric(y_true, y_pred), True\n",
        "\n",
        "def train_and_evaluate(train):\n",
        "    # Create a numpy array to store out of folds predictions\n",
        "    oof_predictions = np.zeros(len(train))\n",
        "    kfold = StratifiedKFold(n_splits = CFG.n_folds, shuffle = True, random_state = CFG.seed)\n",
        "    for fold, (trn_ind, val_ind) in enumerate(kfold.split(train, train[CFG.target])):\n",
        "        print(' ')\n",
        "        print('-'*50)\n",
        "        print(f'Training fold {fold} with {len(features)} features...')\n",
        "        x_train, x_val = train[features].iloc[trn_ind], train[features].iloc[val_ind]\n",
        "        y_train, y_val = train[CFG.target].iloc[trn_ind], train[CFG.target].iloc[val_ind]\n",
        "        lgb_train = lgb.Dataset(x_train, y_train, categorical_feature = cat_features)\n",
        "        lgb_valid = lgb.Dataset(x_val, y_val, categorical_feature = cat_features)\n",
        "        model = lgb.train(\n",
        "            params = params,\n",
        "            train_set = lgb_train,\n",
        "            num_boost_round = 8500,\n",
        "            valid_sets = [lgb_train, lgb_valid],\n",
        "            early_stopping_rounds = 100,\n",
        "            verbose_eval = 500,\n",
        "            feval = lgb_amex_metric\n",
        "            )\n",
        "        # Save best model\n",
        "        joblib.dump(model, f'lgbm_fold{fold}_seed{CFG.seed}.pkl')\n",
        "        # Predict validation\n",
        "        val_pred = model.predict(x_val)\n",
        "        # Add to out of folds array\n",
        "        oof_predictions[val_ind] = val_pred\n",
        "\n",
        "        # Compute fold metric\n",
        "        score = amex_metric(y_val, val_pred)\n",
        "        print(f'Our fold {fold} CV score is {score}')\n",
        "        del x_train, x_val, y_train, y_val, lgb_train, lgb_valid, model\n",
        "        gc.collect()\n",
        "    # Compute out of folds metric\n",
        "    score = amex_metric(train[CFG.target], oof_predictions)\n",
        "    print(f'Our out of folds CV score is {score}')\n",
        "    # Create a dataframe to store out of folds predictions\n",
        "    oof_df = pd.DataFrame({'customer_ID': train['customer_ID'], 'target': train[CFG.target], 'prediction': oof_predictions})\n",
        "    oof_df.to_csv(f'oof_lgbm_baseline_{CFG.n_folds}fold_seed{CFG.seed}.csv', index = False)\n",
        "\n",
        "train_and_evaluate(train)"
      ],
      "metadata": {
        "pycharm": {
          "name": "#%%\n"
        },
        "jupyter": {
          "outputs_hidden": false
        },
        "execution": {
          "iopub.status.busy": "2022-07-15T15:26:18.977741Z",
          "iopub.status.idle": "2022-07-15T15:26:18.978405Z",
          "shell.execute_reply.started": "2022-07-15T15:26:18.978196Z",
          "shell.execute_reply": "2022-07-15T15:26:18.978218Z"
        },
        "trusted": true,
        "id": "9p5Z6PX7uzlx",
        "outputId": "5928da8c-0e86-4dcc-a26c-5b79db998bdb",
        "colab": {
          "base_uri": "https://localhost:8080/"
        }
      },
      "execution_count": null,
      "outputs": [
        {
          "output_type": "stream",
          "name": "stdout",
          "text": [
            " \n",
            "--------------------------------------------------\n",
            "Training fold 0 with 2178 features...\n",
            "[500]\ttraining's binary_logloss: 0.257226\ttraining's amex_metric: 0.790689\tvalid_1's binary_logloss: 0.261877\tvalid_1's amex_metric: 0.779206\n",
            "[1000]\ttraining's binary_logloss: 0.210324\ttraining's amex_metric: 0.818221\tvalid_1's binary_logloss: 0.223478\tvalid_1's amex_metric: 0.792043\n",
            "[1500]\ttraining's binary_logloss: 0.196235\ttraining's amex_metric: 0.838043\tvalid_1's binary_logloss: 0.218064\tvalid_1's amex_metric: 0.795943\n",
            "[2000]\ttraining's binary_logloss: 0.183636\ttraining's amex_metric: 0.857685\tvalid_1's binary_logloss: 0.21536\tvalid_1's amex_metric: 0.79808\n",
            "[2500]\ttraining's binary_logloss: 0.17505\ttraining's amex_metric: 0.873482\tvalid_1's binary_logloss: 0.214459\tvalid_1's amex_metric: 0.80066\n",
            "[3000]\ttraining's binary_logloss: 0.165845\ttraining's amex_metric: 0.88783\tvalid_1's binary_logloss: 0.213675\tvalid_1's amex_metric: 0.800722\n",
            "[3500]\ttraining's binary_logloss: 0.156902\ttraining's amex_metric: 0.902893\tvalid_1's binary_logloss: 0.213159\tvalid_1's amex_metric: 0.800599\n",
            "[4000]\ttraining's binary_logloss: 0.148932\ttraining's amex_metric: 0.917265\tvalid_1's binary_logloss: 0.212997\tvalid_1's amex_metric: 0.800623\n",
            "[4500]\ttraining's binary_logloss: 0.141136\ttraining's amex_metric: 0.930035\tvalid_1's binary_logloss: 0.212935\tvalid_1's amex_metric: 0.80027\n",
            "[5000]\ttraining's binary_logloss: 0.133503\ttraining's amex_metric: 0.941855\tvalid_1's binary_logloss: 0.212809\tvalid_1's amex_metric: 0.800772\n",
            "[5500]\ttraining's binary_logloss: 0.126796\ttraining's amex_metric: 0.951863\tvalid_1's binary_logloss: 0.212783\tvalid_1's amex_metric: 0.801789\n",
            "[6000]\ttraining's binary_logloss: 0.121109\ttraining's amex_metric: 0.95968\tvalid_1's binary_logloss: 0.212868\tvalid_1's amex_metric: 0.802289\n",
            "[6500]\ttraining's binary_logloss: 0.115322\ttraining's amex_metric: 0.967004\tvalid_1's binary_logloss: 0.21296\tvalid_1's amex_metric: 0.802722\n",
            "[7000]\ttraining's binary_logloss: 0.108813\ttraining's amex_metric: 0.974314\tvalid_1's binary_logloss: 0.213083\tvalid_1's amex_metric: 0.801913\n",
            "[7500]\ttraining's binary_logloss: 0.102699\ttraining's amex_metric: 0.980788\tvalid_1's binary_logloss: 0.213334\tvalid_1's amex_metric: 0.801504\n",
            "[8000]\ttraining's binary_logloss: 0.0974146\ttraining's amex_metric: 0.985698\tvalid_1's binary_logloss: 0.213486\tvalid_1's amex_metric: 0.801882\n",
            "[8500]\ttraining's binary_logloss: 0.0930456\ttraining's amex_metric: 0.989344\tvalid_1's binary_logloss: 0.213586\tvalid_1's amex_metric: 0.801913\n",
            "Our fold 0 CV score is 0.8018917094275406\n",
            " \n",
            "--------------------------------------------------\n",
            "Training fold 1 with 2178 features...\n",
            "[500]\ttraining's binary_logloss: 0.256595\ttraining's amex_metric: 0.79272\tvalid_1's binary_logloss: 0.263294\tvalid_1's amex_metric: 0.772812\n",
            "[1000]\ttraining's binary_logloss: 0.20951\ttraining's amex_metric: 0.819775\tvalid_1's binary_logloss: 0.226142\tvalid_1's amex_metric: 0.784156\n",
            "[1500]\ttraining's binary_logloss: 0.195359\ttraining's amex_metric: 0.839552\tvalid_1's binary_logloss: 0.220965\tvalid_1's amex_metric: 0.788646\n",
            "[2000]\ttraining's binary_logloss: 0.182729\ttraining's amex_metric: 0.858911\tvalid_1's binary_logloss: 0.218608\tvalid_1's amex_metric: 0.791346\n",
            "[2500]\ttraining's binary_logloss: 0.174183\ttraining's amex_metric: 0.875148\tvalid_1's binary_logloss: 0.217954\tvalid_1's amex_metric: 0.79125\n",
            "[3000]\ttraining's binary_logloss: 0.164925\ttraining's amex_metric: 0.889819\tvalid_1's binary_logloss: 0.217218\tvalid_1's amex_metric: 0.791685\n",
            "[3500]\ttraining's binary_logloss: 0.156068\ttraining's amex_metric: 0.904804\tvalid_1's binary_logloss: 0.216721\tvalid_1's amex_metric: 0.792238\n",
            "[4000]\ttraining's binary_logloss: 0.148078\ttraining's amex_metric: 0.918929\tvalid_1's binary_logloss: 0.216589\tvalid_1's amex_metric: 0.791836\n",
            "[4500]\ttraining's binary_logloss: 0.140276\ttraining's amex_metric: 0.931303\tvalid_1's binary_logloss: 0.216394\tvalid_1's amex_metric: 0.79279\n",
            "[5000]\ttraining's binary_logloss: 0.132616\ttraining's amex_metric: 0.942951\tvalid_1's binary_logloss: 0.216384\tvalid_1's amex_metric: 0.793727\n",
            "[5500]\ttraining's binary_logloss: 0.125936\ttraining's amex_metric: 0.952212\tvalid_1's binary_logloss: 0.216441\tvalid_1's amex_metric: 0.793139\n",
            "[6000]\ttraining's binary_logloss: 0.1203\ttraining's amex_metric: 0.960231\tvalid_1's binary_logloss: 0.216484\tvalid_1's amex_metric: 0.792714\n",
            "[6500]\ttraining's binary_logloss: 0.114486\ttraining's amex_metric: 0.967078\tvalid_1's binary_logloss: 0.216578\tvalid_1's amex_metric: 0.793485\n",
            "[7000]\ttraining's binary_logloss: 0.107926\ttraining's amex_metric: 0.975097\tvalid_1's binary_logloss: 0.216855\tvalid_1's amex_metric: 0.793622\n",
            "[7500]\ttraining's binary_logloss: 0.101877\ttraining's amex_metric: 0.981556\tvalid_1's binary_logloss: 0.217054\tvalid_1's amex_metric: 0.793135\n",
            "[8000]\ttraining's binary_logloss: 0.0966478\ttraining's amex_metric: 0.986376\tvalid_1's binary_logloss: 0.217341\tvalid_1's amex_metric: 0.793615\n",
            "[8500]\ttraining's binary_logloss: 0.0922915\ttraining's amex_metric: 0.989966\tvalid_1's binary_logloss: 0.217575\tvalid_1's amex_metric: 0.793317\n",
            "Our fold 1 CV score is 0.7933377850687753\n",
            " \n",
            "--------------------------------------------------\n",
            "Training fold 2 with 2178 features...\n",
            "[500]\ttraining's binary_logloss: 0.256522\ttraining's amex_metric: 0.791719\tvalid_1's binary_logloss: 0.263819\tvalid_1's amex_metric: 0.776197\n",
            "[1000]\ttraining's binary_logloss: 0.209533\ttraining's amex_metric: 0.819427\tvalid_1's binary_logloss: 0.225847\tvalid_1's amex_metric: 0.788666\n",
            "[1500]\ttraining's binary_logloss: 0.195504\ttraining's amex_metric: 0.839378\tvalid_1's binary_logloss: 0.220567\tvalid_1's amex_metric: 0.792544\n",
            "[2000]\ttraining's binary_logloss: 0.182837\ttraining's amex_metric: 0.85842\tvalid_1's binary_logloss: 0.218121\tvalid_1's amex_metric: 0.795293\n",
            "[2500]\ttraining's binary_logloss: 0.174315\ttraining's amex_metric: 0.874268\tvalid_1's binary_logloss: 0.217361\tvalid_1's amex_metric: 0.796439\n",
            "[3000]\ttraining's binary_logloss: 0.165132\ttraining's amex_metric: 0.889546\tvalid_1's binary_logloss: 0.216702\tvalid_1's amex_metric: 0.796136\n",
            "[3500]\ttraining's binary_logloss: 0.156173\ttraining's amex_metric: 0.90512\tvalid_1's binary_logloss: 0.216289\tvalid_1's amex_metric: 0.79661\n",
            "[4000]\ttraining's binary_logloss: 0.148157\ttraining's amex_metric: 0.918117\tvalid_1's binary_logloss: 0.216019\tvalid_1's amex_metric: 0.796073\n",
            "[4500]\ttraining's binary_logloss: 0.140384\ttraining's amex_metric: 0.930501\tvalid_1's binary_logloss: 0.216026\tvalid_1's amex_metric: 0.795507\n",
            "[5000]\ttraining's binary_logloss: 0.132797\ttraining's amex_metric: 0.94235\tvalid_1's binary_logloss: 0.215926\tvalid_1's amex_metric: 0.794812\n",
            "[5500]\ttraining's binary_logloss: 0.126105\ttraining's amex_metric: 0.951694\tvalid_1's binary_logloss: 0.215978\tvalid_1's amex_metric: 0.795205\n",
            "[6000]\ttraining's binary_logloss: 0.120452\ttraining's amex_metric: 0.960106\tvalid_1's binary_logloss: 0.215991\tvalid_1's amex_metric: 0.795911\n",
            "[6500]\ttraining's binary_logloss: 0.11464\ttraining's amex_metric: 0.967192\tvalid_1's binary_logloss: 0.216126\tvalid_1's amex_metric: 0.795563\n",
            "[7000]\ttraining's binary_logloss: 0.108089\ttraining's amex_metric: 0.974992\tvalid_1's binary_logloss: 0.216244\tvalid_1's amex_metric: 0.795423\n",
            "[7500]\ttraining's binary_logloss: 0.101987\ttraining's amex_metric: 0.98116\tvalid_1's binary_logloss: 0.216497\tvalid_1's amex_metric: 0.795595\n",
            "[8000]\ttraining's binary_logloss: 0.0967568\ttraining's amex_metric: 0.986249\tvalid_1's binary_logloss: 0.216769\tvalid_1's amex_metric: 0.794853\n",
            "[8500]\ttraining's binary_logloss: 0.0923891\ttraining's amex_metric: 0.989952\tvalid_1's binary_logloss: 0.21695\tvalid_1's amex_metric: 0.794041\n",
            "Our fold 2 CV score is 0.7940416002009022\n",
            " \n",
            "--------------------------------------------------\n",
            "Training fold 3 with 2178 features...\n",
            "[500]\ttraining's binary_logloss: 0.256349\ttraining's amex_metric: 0.792643\tvalid_1's binary_logloss: 0.264682\tvalid_1's amex_metric: 0.771015\n",
            "[1000]\ttraining's binary_logloss: 0.209344\ttraining's amex_metric: 0.820011\tvalid_1's binary_logloss: 0.226859\tvalid_1's amex_metric: 0.782552\n",
            "[1500]\ttraining's binary_logloss: 0.195279\ttraining's amex_metric: 0.840328\tvalid_1's binary_logloss: 0.221691\tvalid_1's amex_metric: 0.787624\n",
            "[2000]\ttraining's binary_logloss: 0.182651\ttraining's amex_metric: 0.85983\tvalid_1's binary_logloss: 0.219064\tvalid_1's amex_metric: 0.789734\n",
            "[2500]\ttraining's binary_logloss: 0.174124\ttraining's amex_metric: 0.874729\tvalid_1's binary_logloss: 0.218138\tvalid_1's amex_metric: 0.790978\n",
            "[3000]\ttraining's binary_logloss: 0.164963\ttraining's amex_metric: 0.889037\tvalid_1's binary_logloss: 0.217292\tvalid_1's amex_metric: 0.790543\n",
            "[3500]\ttraining's binary_logloss: 0.156036\ttraining's amex_metric: 0.904584\tvalid_1's binary_logloss: 0.216884\tvalid_1's amex_metric: 0.791844\n",
            "[4000]\ttraining's binary_logloss: 0.148034\ttraining's amex_metric: 0.918134\tvalid_1's binary_logloss: 0.216685\tvalid_1's amex_metric: 0.791746\n",
            "[4500]\ttraining's binary_logloss: 0.140237\ttraining's amex_metric: 0.931114\tvalid_1's binary_logloss: 0.216433\tvalid_1's amex_metric: 0.792454\n",
            "[5000]\ttraining's binary_logloss: 0.132631\ttraining's amex_metric: 0.942344\tvalid_1's binary_logloss: 0.216241\tvalid_1's amex_metric: 0.792712\n",
            "[5500]\ttraining's binary_logloss: 0.125927\ttraining's amex_metric: 0.952234\tvalid_1's binary_logloss: 0.216246\tvalid_1's amex_metric: 0.792884\n",
            "[6000]\ttraining's binary_logloss: 0.120296\ttraining's amex_metric: 0.960195\tvalid_1's binary_logloss: 0.216316\tvalid_1's amex_metric: 0.79336\n",
            "[6500]\ttraining's binary_logloss: 0.114518\ttraining's amex_metric: 0.967689\tvalid_1's binary_logloss: 0.216379\tvalid_1's amex_metric: 0.793526\n",
            "[7000]\ttraining's binary_logloss: 0.10797\ttraining's amex_metric: 0.975436\tvalid_1's binary_logloss: 0.216474\tvalid_1's amex_metric: 0.793349\n",
            "[7500]\ttraining's binary_logloss: 0.101891\ttraining's amex_metric: 0.981453\tvalid_1's binary_logloss: 0.216716\tvalid_1's amex_metric: 0.792959\n",
            "[8000]\ttraining's binary_logloss: 0.0966367\ttraining's amex_metric: 0.986383\tvalid_1's binary_logloss: 0.216921\tvalid_1's amex_metric: 0.792792\n",
            "[8500]\ttraining's binary_logloss: 0.0922332\ttraining's amex_metric: 0.990003\tvalid_1's binary_logloss: 0.217051\tvalid_1's amex_metric: 0.793443\n",
            "Our fold 3 CV score is 0.7934431146011495\n",
            " \n",
            "--------------------------------------------------\n",
            "Training fold 4 with 2178 features...\n",
            "[500]\ttraining's binary_logloss: 0.257046\ttraining's amex_metric: 0.791609\tvalid_1's binary_logloss: 0.262929\tvalid_1's amex_metric: 0.775069\n",
            "[1000]\ttraining's binary_logloss: 0.210068\ttraining's amex_metric: 0.819645\tvalid_1's binary_logloss: 0.22469\tvalid_1's amex_metric: 0.787971\n",
            "[1500]\ttraining's binary_logloss: 0.195935\ttraining's amex_metric: 0.839432\tvalid_1's binary_logloss: 0.219116\tvalid_1's amex_metric: 0.792758\n",
            "[2000]\ttraining's binary_logloss: 0.183371\ttraining's amex_metric: 0.858176\tvalid_1's binary_logloss: 0.216459\tvalid_1's amex_metric: 0.793946\n",
            "[2500]\ttraining's binary_logloss: 0.174789\ttraining's amex_metric: 0.87406\tvalid_1's binary_logloss: 0.215618\tvalid_1's amex_metric: 0.793947\n",
            "[3000]\ttraining's binary_logloss: 0.16557\ttraining's amex_metric: 0.888419\tvalid_1's binary_logloss: 0.214836\tvalid_1's amex_metric: 0.795247\n",
            "[3500]\ttraining's binary_logloss: 0.156606\ttraining's amex_metric: 0.903794\tvalid_1's binary_logloss: 0.214411\tvalid_1's amex_metric: 0.795926\n",
            "[4000]\ttraining's binary_logloss: 0.148631\ttraining's amex_metric: 0.917339\tvalid_1's binary_logloss: 0.214141\tvalid_1's amex_metric: 0.796852\n",
            "[4500]\ttraining's binary_logloss: 0.14078\ttraining's amex_metric: 0.92993\tvalid_1's binary_logloss: 0.214107\tvalid_1's amex_metric: 0.796989\n",
            "[5000]\ttraining's binary_logloss: 0.133158\ttraining's amex_metric: 0.941533\tvalid_1's binary_logloss: 0.214057\tvalid_1's amex_metric: 0.797495\n",
            "[5500]\ttraining's binary_logloss: 0.126478\ttraining's amex_metric: 0.951621\tvalid_1's binary_logloss: 0.21401\tvalid_1's amex_metric: 0.797893\n",
            "[6000]\ttraining's binary_logloss: 0.120794\ttraining's amex_metric: 0.959946\tvalid_1's binary_logloss: 0.214063\tvalid_1's amex_metric: 0.797889\n",
            "[6500]\ttraining's binary_logloss: 0.114963\ttraining's amex_metric: 0.966873\tvalid_1's binary_logloss: 0.214132\tvalid_1's amex_metric: 0.797776\n",
            "[7000]\ttraining's binary_logloss: 0.108447\ttraining's amex_metric: 0.974481\tvalid_1's binary_logloss: 0.214212\tvalid_1's amex_metric: 0.797091\n",
            "[7500]\ttraining's binary_logloss: 0.102371\ttraining's amex_metric: 0.981106\tvalid_1's binary_logloss: 0.214372\tvalid_1's amex_metric: 0.796679\n",
            "[8000]\ttraining's binary_logloss: 0.0970978\ttraining's amex_metric: 0.986018\tvalid_1's binary_logloss: 0.214467\tvalid_1's amex_metric: 0.797435\n",
            "[8500]\ttraining's binary_logloss: 0.0926855\ttraining's amex_metric: 0.989892\tvalid_1's binary_logloss: 0.214762\tvalid_1's amex_metric: 0.796954\n",
            "Our fold 4 CV score is 0.7969540165857949\n",
            "Our out of folds CV score is 0.7956782576305141\n"
          ]
        }
      ]
    },
    {
      "cell_type": "code",
      "source": [
        "del train\n",
        "_ = gc.collect()"
      ],
      "metadata": {
        "id": "P2llPNqqOKTT"
      },
      "execution_count": null,
      "outputs": []
    },
    {
      "cell_type": "markdown",
      "metadata": {
        "papermill": {
          "duration": 0.018388,
          "end_time": "2022-07-15T16:48:45.862462",
          "exception": false,
          "start_time": "2022-07-15T16:48:45.844074",
          "status": "completed"
        },
        "tags": [],
        "id": "bf46dad6"
      },
      "source": [
        "# Test part"
      ]
    },
    {
      "cell_type": "code",
      "execution_count": null,
      "metadata": {
        "execution": {
          "iopub.execute_input": "2022-07-15T16:48:45.901178Z",
          "iopub.status.busy": "2022-07-15T16:48:45.900848Z",
          "iopub.status.idle": "2022-07-15T16:48:45.907526Z",
          "shell.execute_reply": "2022-07-15T16:48:45.906709Z"
        },
        "papermill": {
          "duration": 0.027751,
          "end_time": "2022-07-15T16:48:45.909278",
          "exception": false,
          "start_time": "2022-07-15T16:48:45.881527",
          "status": "completed"
        },
        "tags": [],
        "id": "c28f1826"
      },
      "outputs": [],
      "source": [
        "# CALCULATE SIZE OF EACH SEPARATE TEST PART\n",
        "def get_rows(customers, test, NUM_PARTS = 4, verbose = ''):\n",
        "    chunk = len(customers)//NUM_PARTS\n",
        "    if verbose != '':\n",
        "        print(f'We will process {verbose} data as {NUM_PARTS} separate parts.')\n",
        "        print(f'There will be {chunk} customers in each part (except the last part).')\n",
        "        print('Below are number of rows in each part:')\n",
        "    rows = []\n",
        "\n",
        "    for k in range(NUM_PARTS):\n",
        "        if k==NUM_PARTS-1: cc = customers[k*chunk:]\n",
        "        else: cc = customers[k*chunk:(k+1)*chunk]\n",
        "        s = test.loc[test.customer_ID.isin(cc)].shape[0]\n",
        "        rows.append(s)\n",
        "    if verbose != '': print( rows )\n",
        "    return rows,chunk"
      ]
    },
    {
      "cell_type": "code",
      "execution_count": null,
      "metadata": {
        "execution": {
          "iopub.execute_input": "2022-07-15T16:48:45.947705Z",
          "iopub.status.busy": "2022-07-15T16:48:45.947377Z",
          "iopub.status.idle": "2022-07-15T16:48:47.039525Z",
          "shell.execute_reply": "2022-07-15T16:48:47.038640Z"
        },
        "papermill": {
          "duration": 1.113806,
          "end_time": "2022-07-15T16:48:47.041416",
          "exception": false,
          "start_time": "2022-07-15T16:48:45.927610",
          "status": "completed"
        },
        "tags": [],
        "id": "8c7e70c5",
        "outputId": "9e62d725-2732-4332-cd73-dc965ed64ede",
        "colab": {
          "base_uri": "https://localhost:8080/"
        }
      },
      "outputs": [
        {
          "output_type": "stream",
          "name": "stdout",
          "text": [
            "We will process test data as 4 separate parts.\n",
            "There will be 231155 customers in each part (except the last part).\n",
            "Below are number of rows in each part:\n",
            "[231155, 231155, 231155, 231156]\n"
          ]
        }
      ],
      "source": [
        "# COMPUTE SIZE OF 4 PARTS FOR TEST DATA\n",
        "NUM_PARTS = 4\n",
        "\n",
        "customers = test[['customer_ID']].drop_duplicates().sort_index().values.flatten()\n",
        "rows,num_cust = get_rows(customers, test[['customer_ID']], NUM_PARTS = NUM_PARTS, verbose = 'test')"
      ]
    },
    {
      "cell_type": "code",
      "execution_count": null,
      "metadata": {
        "execution": {
          "iopub.execute_input": "2022-07-15T16:48:47.081924Z",
          "iopub.status.busy": "2022-07-15T16:48:47.081615Z",
          "iopub.status.idle": "2022-07-15T16:50:55.407348Z",
          "shell.execute_reply": "2022-07-15T16:50:55.406352Z"
        },
        "papermill": {
          "duration": 128.349422,
          "end_time": "2022-07-15T16:50:55.410249",
          "exception": false,
          "start_time": "2022-07-15T16:48:47.060827",
          "status": "completed"
        },
        "tags": [],
        "id": "9cf53fd3",
        "outputId": "2158cf4c-a246-443a-e2f0-b4a4b3ece43c",
        "colab": {
          "base_uri": "https://localhost:8080/"
        }
      },
      "outputs": [
        {
          "output_type": "stream",
          "name": "stdout",
          "text": [
            "\n",
            "Reading test data...\n",
            "=> Test part 1 has shape (231155, 2178)\n",
            "\n",
            "Reading test data...\n",
            "=> Test part 2 has shape (231155, 2178)\n",
            "\n",
            "Reading test data...\n",
            "=> Test part 3 has shape (231155, 2178)\n",
            "\n",
            "Reading test data...\n",
            "=> Test part 4 has shape (231156, 2178)\n"
          ]
        }
      ],
      "source": [
        "# INFER TEST DATA IN PARTS\n",
        "skip_rows = 0\n",
        "skip_cust = 0\n",
        "test_preds = []\n",
        "\n",
        "for k in range(NUM_PARTS):\n",
        "    \n",
        "    # READ PART OF TEST DATA\n",
        "    print(f'\\nReading test data...')\n",
        "    test_copy = test.iloc[skip_rows:skip_rows+rows[k]].copy()\n",
        "    test_copy = test_copy.set_index('customer_ID')\n",
        "    skip_rows += rows[k]\n",
        "    print(f'=> Test part {k+1} has shape', test_copy.shape )\n",
        "    \n",
        "    # PROCESS AND FEATURE ENGINEER PART OF TEST DATA\n",
        "    if k==NUM_PARTS-1: test_copy = test_copy.loc[customers[skip_cust:]]\n",
        "    else: test_copy = test_copy.loc[customers[skip_cust:skip_cust+num_cust]]\n",
        "    skip_cust += num_cust\n",
        "        \n",
        "    # INFER XGB MODELS ON TEST DATA\n",
        "    model = joblib.load(f'lgbm_fold0_seed{CFG.seed}.pkl')\n",
        "    preds = model.predict(test_copy)\n",
        "    for f in range(1,CFG.n_folds):\n",
        "        model = joblib.load(f'lgbm_fold{f}_seed{CFG.seed}.pkl')\n",
        "        preds += model.predict(test_copy)\n",
        "    preds /= CFG.n_folds\n",
        "    test_preds.append(preds)\n",
        "\n",
        "    # CLEAN MEMORY\n",
        "    del test_copy, model\n",
        "    _ = gc.collect()\n",
        "\n",
        "del test\n",
        "_ = gc.collect()"
      ]
    },
    {
      "cell_type": "markdown",
      "metadata": {
        "papermill": {
          "duration": 0.067515,
          "end_time": "2022-07-15T16:50:55.538577",
          "exception": false,
          "start_time": "2022-07-15T16:50:55.471062",
          "status": "completed"
        },
        "tags": [],
        "id": "02259545"
      },
      "source": [
        "# Submit"
      ]
    },
    {
      "cell_type": "code",
      "execution_count": null,
      "metadata": {
        "execution": {
          "iopub.execute_input": "2022-07-15T16:50:55.628196Z",
          "iopub.status.busy": "2022-07-15T16:50:55.627855Z",
          "iopub.status.idle": "2022-07-15T16:51:02.864876Z",
          "shell.execute_reply": "2022-07-15T16:51:02.864114Z"
        },
        "papermill": {
          "duration": 7.268354,
          "end_time": "2022-07-15T16:51:02.866646",
          "exception": false,
          "start_time": "2022-07-15T16:50:55.598292",
          "status": "completed"
        },
        "tags": [],
        "id": "00d908fd",
        "outputId": "0424a23f-7147-454f-cf58-eccfcd2d17de",
        "colab": {
          "base_uri": "https://localhost:8080/",
          "height": 224
        }
      },
      "outputs": [
        {
          "output_type": "stream",
          "name": "stdout",
          "text": [
            "Submission file shape is (924621, 2)\n"
          ]
        },
        {
          "output_type": "execute_result",
          "data": {
            "text/plain": [
              "                                         customer_ID  prediction\n",
              "0  00000469ba478561f23a92a868bd366de6f6527a684c9a...    0.017221\n",
              "1  00001bf2e77ff879fab36aa4fac689b9ba411dae63ae39...    0.000610\n",
              "2  0000210045da4f81e5f122c6bde5c2a617d03eef67f82c...    0.033446\n",
              "3  00003b41e58ede33b8daf61ab56d9952f17c9ad1c3976c...    0.180077\n",
              "4  00004b22eaeeeb0ec976890c1d9bfc14fd9427e98c4ee9...    0.897262"
            ],
            "text/html": [
              "\n",
              "  <div id=\"df-52d72c2a-8580-40a5-a215-5d03c7318066\">\n",
              "    <div class=\"colab-df-container\">\n",
              "      <div>\n",
              "<style scoped>\n",
              "    .dataframe tbody tr th:only-of-type {\n",
              "        vertical-align: middle;\n",
              "    }\n",
              "\n",
              "    .dataframe tbody tr th {\n",
              "        vertical-align: top;\n",
              "    }\n",
              "\n",
              "    .dataframe thead th {\n",
              "        text-align: right;\n",
              "    }\n",
              "</style>\n",
              "<table border=\"1\" class=\"dataframe\">\n",
              "  <thead>\n",
              "    <tr style=\"text-align: right;\">\n",
              "      <th></th>\n",
              "      <th>customer_ID</th>\n",
              "      <th>prediction</th>\n",
              "    </tr>\n",
              "  </thead>\n",
              "  <tbody>\n",
              "    <tr>\n",
              "      <th>0</th>\n",
              "      <td>00000469ba478561f23a92a868bd366de6f6527a684c9a...</td>\n",
              "      <td>0.017221</td>\n",
              "    </tr>\n",
              "    <tr>\n",
              "      <th>1</th>\n",
              "      <td>00001bf2e77ff879fab36aa4fac689b9ba411dae63ae39...</td>\n",
              "      <td>0.000610</td>\n",
              "    </tr>\n",
              "    <tr>\n",
              "      <th>2</th>\n",
              "      <td>0000210045da4f81e5f122c6bde5c2a617d03eef67f82c...</td>\n",
              "      <td>0.033446</td>\n",
              "    </tr>\n",
              "    <tr>\n",
              "      <th>3</th>\n",
              "      <td>00003b41e58ede33b8daf61ab56d9952f17c9ad1c3976c...</td>\n",
              "      <td>0.180077</td>\n",
              "    </tr>\n",
              "    <tr>\n",
              "      <th>4</th>\n",
              "      <td>00004b22eaeeeb0ec976890c1d9bfc14fd9427e98c4ee9...</td>\n",
              "      <td>0.897262</td>\n",
              "    </tr>\n",
              "  </tbody>\n",
              "</table>\n",
              "</div>\n",
              "      <button class=\"colab-df-convert\" onclick=\"convertToInteractive('df-52d72c2a-8580-40a5-a215-5d03c7318066')\"\n",
              "              title=\"Convert this dataframe to an interactive table.\"\n",
              "              style=\"display:none;\">\n",
              "        \n",
              "  <svg xmlns=\"http://www.w3.org/2000/svg\" height=\"24px\"viewBox=\"0 0 24 24\"\n",
              "       width=\"24px\">\n",
              "    <path d=\"M0 0h24v24H0V0z\" fill=\"none\"/>\n",
              "    <path d=\"M18.56 5.44l.94 2.06.94-2.06 2.06-.94-2.06-.94-.94-2.06-.94 2.06-2.06.94zm-11 1L8.5 8.5l.94-2.06 2.06-.94-2.06-.94L8.5 2.5l-.94 2.06-2.06.94zm10 10l.94 2.06.94-2.06 2.06-.94-2.06-.94-.94-2.06-.94 2.06-2.06.94z\"/><path d=\"M17.41 7.96l-1.37-1.37c-.4-.4-.92-.59-1.43-.59-.52 0-1.04.2-1.43.59L10.3 9.45l-7.72 7.72c-.78.78-.78 2.05 0 2.83L4 21.41c.39.39.9.59 1.41.59.51 0 1.02-.2 1.41-.59l7.78-7.78 2.81-2.81c.8-.78.8-2.07 0-2.86zM5.41 20L4 18.59l7.72-7.72 1.47 1.35L5.41 20z\"/>\n",
              "  </svg>\n",
              "      </button>\n",
              "      \n",
              "  <style>\n",
              "    .colab-df-container {\n",
              "      display:flex;\n",
              "      flex-wrap:wrap;\n",
              "      gap: 12px;\n",
              "    }\n",
              "\n",
              "    .colab-df-convert {\n",
              "      background-color: #E8F0FE;\n",
              "      border: none;\n",
              "      border-radius: 50%;\n",
              "      cursor: pointer;\n",
              "      display: none;\n",
              "      fill: #1967D2;\n",
              "      height: 32px;\n",
              "      padding: 0 0 0 0;\n",
              "      width: 32px;\n",
              "    }\n",
              "\n",
              "    .colab-df-convert:hover {\n",
              "      background-color: #E2EBFA;\n",
              "      box-shadow: 0px 1px 2px rgba(60, 64, 67, 0.3), 0px 1px 3px 1px rgba(60, 64, 67, 0.15);\n",
              "      fill: #174EA6;\n",
              "    }\n",
              "\n",
              "    [theme=dark] .colab-df-convert {\n",
              "      background-color: #3B4455;\n",
              "      fill: #D2E3FC;\n",
              "    }\n",
              "\n",
              "    [theme=dark] .colab-df-convert:hover {\n",
              "      background-color: #434B5C;\n",
              "      box-shadow: 0px 1px 3px 1px rgba(0, 0, 0, 0.15);\n",
              "      filter: drop-shadow(0px 1px 2px rgba(0, 0, 0, 0.3));\n",
              "      fill: #FFFFFF;\n",
              "    }\n",
              "  </style>\n",
              "\n",
              "      <script>\n",
              "        const buttonEl =\n",
              "          document.querySelector('#df-52d72c2a-8580-40a5-a215-5d03c7318066 button.colab-df-convert');\n",
              "        buttonEl.style.display =\n",
              "          google.colab.kernel.accessAllowed ? 'block' : 'none';\n",
              "\n",
              "        async function convertToInteractive(key) {\n",
              "          const element = document.querySelector('#df-52d72c2a-8580-40a5-a215-5d03c7318066');\n",
              "          const dataTable =\n",
              "            await google.colab.kernel.invokeFunction('convertToInteractive',\n",
              "                                                     [key], {});\n",
              "          if (!dataTable) return;\n",
              "\n",
              "          const docLinkHtml = 'Like what you see? Visit the ' +\n",
              "            '<a target=\"_blank\" href=https://colab.research.google.com/notebooks/data_table.ipynb>data table notebook</a>'\n",
              "            + ' to learn more about interactive tables.';\n",
              "          element.innerHTML = '';\n",
              "          dataTable['output_type'] = 'display_data';\n",
              "          await google.colab.output.renderOutput(dataTable, element);\n",
              "          const docLink = document.createElement('div');\n",
              "          docLink.innerHTML = docLinkHtml;\n",
              "          element.appendChild(docLink);\n",
              "        }\n",
              "      </script>\n",
              "    </div>\n",
              "  </div>\n",
              "  "
            ]
          },
          "metadata": {},
          "execution_count": 15
        }
      ],
      "source": [
        "# WRITE SUBMISSION FILE\n",
        "test = pd.DataFrame(index=customers,data={'prediction': np.concatenate(test_preds)})\n",
        "sub = pd.read_csv('sample_submission.csv')[['customer_ID']]\n",
        "sub['customer_ID_hash'] = sub['customer_ID'].copy()\n",
        "sub = sub.set_index('customer_ID_hash')\n",
        "sub = sub.merge(test[['prediction']], left_index=True, right_index=True, how='left')\n",
        "sub = sub.reset_index(drop=True)\n",
        "\n",
        "# DISPLAY PREDICTIONS\n",
        "sub.to_csv(f'submission_lgb_v1_seed{CFG.seed}_fold{CFG.n_folds}.csv',index=False)\n",
        "print('Submission file shape is', sub.shape )\n",
        "sub.head()"
      ]
    },
    {
      "cell_type": "code",
      "execution_count": null,
      "metadata": {
        "execution": {
          "iopub.execute_input": "2022-07-15T16:51:02.918871Z",
          "iopub.status.busy": "2022-07-15T16:51:02.918494Z",
          "iopub.status.idle": "2022-07-15T16:51:03.267833Z",
          "shell.execute_reply": "2022-07-15T16:51:03.266949Z"
        },
        "papermill": {
          "duration": 0.374502,
          "end_time": "2022-07-15T16:51:03.269960",
          "exception": false,
          "start_time": "2022-07-15T16:51:02.895458",
          "status": "completed"
        },
        "tags": [],
        "id": "533e5941",
        "outputId": "0dd1edc0-12a5-4bb8-f8a2-62a5b5b19493",
        "colab": {
          "base_uri": "https://localhost:8080/",
          "height": 281
        }
      },
      "outputs": [
        {
          "output_type": "display_data",
          "data": {
            "text/plain": [
              "<Figure size 432x288 with 1 Axes>"
            ],
            "image/png": "[encoded data removed]"
          },
          "metadata": {
            "needs_background": "light"
          }
        }
      ],
      "source": [
        "# PLOT PREDICTIONS\n",
        "import matplotlib.pyplot as plt\n",
        "plt.hist(sub.prediction, bins=100)\n",
        "plt.title('Test Predictions')\n",
        "plt.show()"
      ]
    },
    {
      "cell_type": "markdown",
      "source": [
        "# Prediction"
      ],
      "metadata": {
        "papermill": {
          "duration": 0.00263,
          "end_time": "2022-06-19T23:15:39.870669",
          "exception": false,
          "start_time": "2022-06-19T23:15:39.868039",
          "status": "completed"
        },
        "tags": [],
        "pycharm": {
          "name": "#%% md\n"
        },
        "id": "ofomkRituzly"
      }
    },
    {
      "cell_type": "code",
      "source": [
        "# Submit\n",
        "# !kaggle competitions submit -c amex-default-prediction -f submission_lgb_v1_seed42_fold5.csv -m \"the first version. fe lag plus seed 52 fold 5 From colab\""
      ],
      "metadata": {
        "id": "A6OIgRv0CD76",
        "outputId": "a3af8dd4-ee6c-4071-a985-686b5ee9c3c7",
        "colab": {
          "base_uri": "https://localhost:8080/"
        }
      },
      "execution_count": null,
      "outputs": [
        {
          "output_type": "stream",
          "name": "stdout",
          "text": [
            "100% 75.4M/75.4M [00:02<00:00, 30.8MB/s]\n",
            "Successfully submitted to American Express - Default Prediction"
          ]
        }
      ]
    },
    {
      "cell_type": "code",
      "source": [
        "!kaggle competitions submissions amex-default-prediction"
      ],
      "metadata": {
        "papermill": {
          "duration": 7.116467,
          "end_time": "2022-06-19T23:15:46.98989",
          "exception": false,
          "start_time": "2022-06-19T23:15:39.873423",
          "status": "completed"
        },
        "tags": [],
        "pycharm": {
          "name": "#%%\n"
        },
        "execution": {
          "iopub.status.busy": "2022-07-15T15:26:18.979284Z",
          "iopub.status.idle": "2022-07-15T15:26:18.979914Z",
          "shell.execute_reply.started": "2022-07-15T15:26:18.979701Z",
          "shell.execute_reply": "2022-07-15T15:26:18.979723Z"
        },
        "trusted": true,
        "id": "Ik1UoN1Auzly",
        "outputId": "5c3bbd34-4027-4b7b-f480-b16fe0f123ac",
        "colab": {
          "base_uri": "https://localhost:8080/"
        }
      },
      "execution_count": null,
      "outputs": [
        {
          "output_type": "stream",
          "name": "stdout",
          "text": [
            "fileName                            date                 description                                               status    publicScore  privateScore  \n",
            "----------------------------------  -------------------  --------------------------------------------------------  --------  -----------  ------------  \n",
            "submission_lgb_v1_seed42_fold5.csv  2022-07-28 05:46:49  the first version. fe lag plus seed 52 fold 5 From colab  complete  0.798                      \n",
            "submission_xgb_v6_seed42_fold5.csv  2022-07-27 14:21:18  Run with (last - first) / s_2 seed 42 fold 5              complete  0.796                      \n",
            "submission_cat_v1_seed42_fold5.csv  2022-07-27 09:46:57  Run with seed 42 fold 5 last / s2                         complete  0.796                      \n",
            "submission_cat_v1_seed42_fold5.csv  2022-07-27 06:08:24  From colab seed 42 fold 5 lag plus                        complete  0.794                      \n",
            "submission_xgb_v5_seed42_fold5.csv  2022-07-27 02:53:07  xgb fold 5 seed 42 last / s2 lag                          complete  0.796                      \n",
            "submission_xgb_v1_seed42_fold5.csv  2022-07-26 16:34:13  From colab seed 42 fold 5 lag plus                        complete  0.795                      \n",
            "Amex Default Prediction - Ensemble  2022-07-26 16:18:30  Notebook Amex Default Prediction - Ensemble | Version 24  complete  0.798                      \n",
            "Amex Default Prediction - Ensemble  2022-07-26 15:17:31  Notebook Amex Default Prediction - Ensemble | Version 23  complete  0.798                      \n",
            "submission_xgb_v1_seed42_fold5.csv  2022-07-26 14:59:19  From colab seed 42 fold 5 lag plus                        complete  0.795                      \n",
            "submission_cat_v1_seed42_fold5.csv  2022-07-26 13:10:11  From colab seed 42 fold 5 lag plus                        complete  0.796                      \n",
            "Amex Default Prediction - Ensemble  2022-07-25 18:21:01  Notebook Amex Default Prediction - Ensemble | Version 22  complete  0.799                      \n",
            "submission_cat_v1_seed42_fold5.csv  2022-07-25 18:15:57  From colab seed 42 fold 5 lag plus                        complete  0.796                      \n",
            "Amex Default Prediction - Ensemble  2022-07-24 15:56:24  Notebook Amex Default Prediction - Ensemble | Version 20  complete  0.759                      \n",
            "Amex Default Prediction - Ensemble  2022-07-24 15:55:05  Notebook Amex Default Prediction - Ensemble | Version 19  complete  0.745                      \n",
            "Amex Default Prediction - Ensemble  2022-07-24 14:26:44  Notebook Amex Default Prediction - Ensemble | Version 16  complete  0.798                      \n",
            "Amex Default Prediction - Ensemble  2022-07-24 14:22:52  Notebook Amex Default Prediction - Ensemble | Version 15  complete  0.798                      \n",
            "submission_cat_v1_seed42_fold5.csv  2022-07-24 13:58:18  Run with round 2 cat                                      complete  0.796                      \n",
            "submission_lgb_v1_seed42_fold5.csv  2022-07-23 16:48:14  the first version. fe lag plus seed 52 fold 5 From colab  complete  0.797                      \n",
            "Amex Default Prediction - Ensemble  2022-07-23 11:15:04  Notebook Amex Default Prediction - Ensemble | Version 14  complete  0.798                      \n",
            "Amex Default Prediction - Ensemble  2022-07-23 11:08:12  Notebook Amex Default Prediction - Ensemble | Version 13  complete  0.798                      \n",
            "submission_xgb_v1_seed42_fold5.csv  2022-07-23 10:58:31  From colab seed 42 fold 5 lag plus                        complete  0.795                      \n",
            "submission_cat_v1_seed42_fold5.csv  2022-07-23 09:53:21  From colab seed 42 fold 5 lag plus                        complete  0.796                      \n",
            "Amex Default Prediction - Ensemble  2022-07-22 12:32:58  Notebook Amex Default Prediction - Ensemble | Version 12  complete  0.798                      \n",
            "Amex Default Prediction - Ensemble  2022-07-22 12:30:01  Notebook Amex Default Prediction - Ensemble | Version 11  complete  0.798                      \n",
            "submission_xgb_v1_seed42_fold2.csv  2022-07-22 12:19:29  From colab seed 42 fold 5 lag plus                        complete  0.794                      \n",
            "Amex Default Prediction - Ensemble  2022-07-21 12:48:16  Notebook Amex Default Prediction - Ensemble | Version 9   complete  0.798                      \n",
            "submission_xgb_v1_seed42_fold5.csv  2022-07-21 12:36:23  From colab seed 42 fold 5 lag plus                        complete  0.794                      \n",
            "Amex Default Prediction - Ensemble  2022-07-20 17:29:34  Notebook Amex Default Prediction - Ensemble | Version 8   complete  0.798                      \n",
            "Amex Default Prediction - Ensemble  2022-07-20 17:13:37  Notebook Amex Default Prediction - Ensemble | Version 7   complete  0.798                      \n",
            "Amex Default Prediction - Ensemble  2022-07-20 17:10:16  Notebook Amex Default Prediction - Ensemble | Version 6   complete  0.798                      \n",
            "Amex Default Prediction - Ensemble  2022-07-20 17:08:15  Notebook Amex Default Prediction - Ensemble | Version 5   complete  0.798                      \n",
            "submission_xgb_v1_seed42_fold5.csv  2022-07-20 16:58:31  From colab seed 42 fold 5 lag plus                        complete  0.794                      \n",
            "submission_cat_v1_seed42_fold5.csv  2022-07-19 17:31:52  From colab seed 42 fold 5 lag plus                        complete  0.795                      \n",
            "Amex Default Prediction - Ensemble  2022-07-19 16:37:40  Notebook Amex Default Prediction - Ensemble | Version 4   complete  0.798                      \n",
            "Amex Default Prediction - Ensemble  2022-07-19 16:34:17  Notebook Amex Default Prediction - Ensemble | Version 2   complete  0.798                      \n",
            "submission_cat_v1_seed42_fold5.csv  2022-07-19 12:11:59  From colab seed 42 fold 5 lag plus                        complete  0.795                      \n",
            "Amex Default Prediction with Cat    2022-07-18 23:01:33  Notebook Amex Default Prediction with Cat | Version 129   complete  0.798                      \n",
            "Amex Default Prediction with Cat    2022-07-18 22:58:51  Notebook Amex Default Prediction with Cat | Version 128   complete  0.798                      \n",
            "submission_cat_v1_seed42_fold5.csv  2022-07-18 22:27:50  From colab seed 42 fold 5 lag plus                        complete  0.795                      \n",
            "submission_lgb_v1_seed42_fold5.csv  2022-07-18 20:37:22  the first version. fe lag plus seed 52 fold 5 From colab  complete  0.797                      \n",
            "submission_cat_v1.csv               2022-07-18 06:30:57  From colab seed 42 fold 5 lag plus                        complete  0.795                      \n",
            "Amex Default Prediction with Cat    2022-07-16 16:14:20  Notebook Amex Default Prediction with Cat | Version 125   complete  0.794                      \n",
            "Amex Default Prediction with Cat    2022-07-15 16:33:32  Notebook Amex Default Prediction with Cat | Version 127   complete  0.798                      \n",
            "Amex Default Prediction with Cat    2022-07-15 16:24:25  Notebook Amex Default Prediction with Cat | Version 126   complete  0.798                      \n",
            "submission_cat_v123_seed52_794.csv  2022-07-15 16:12:09                                                            complete  0.795                      \n",
            "submission_cat_v123_0794.csv        2022-07-15 15:47:08                                                            complete  0.795                      \n",
            "Amex Default Prediction with Cat    2022-07-15 13:53:07  Notebook Amex Default Prediction with Cat | Version 123   complete  0.798                      \n",
            "Amex Default Prediction with Cat    2022-07-12 10:17:49  Notebook Amex Default Prediction with Cat | Version 122   complete  0.794                      \n",
            "Amex Default Prediction with Cat    2022-07-11 16:41:48  Notebook Amex Default Prediction with Cat | Version 119   complete  0.794                      \n",
            "Amex Default Prediction with Cat    2022-07-11 13:00:10  Notebook Amex Default Prediction with Cat | Version 116   complete  0.794                      \n"
          ]
        }
      ]
    }
  ]
}
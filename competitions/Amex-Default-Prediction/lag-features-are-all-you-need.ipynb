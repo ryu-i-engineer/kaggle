{
  "metadata": {
    "kernelspec": {
      "language": "python",
      "display_name": "Python 3",
      "name": "python3"
    },
    "language_info": {
      "pygments_lexer": "ipython3",
      "nbconvert_exporter": "python",
      "version": "3.6.4",
      "file_extension": ".py",
      "codemirror_mode": {
        "name": "ipython",
        "version": 3
      },
      "name": "python",
      "mimetype": "text/x-python"
    },
    "colab": {
      "name": "lag-features-are-all-you-need.ipynb",
      "provenance": [],
      "machine_shape": "hm"
    },
    "gpuClass": "standard",
    "accelerator": "TPU"
  },
  "nbformat_minor": 0,
  "nbformat": 4,
  "cells": [
    {
      "cell_type": "markdown",
      "source": [
        "# Preparing for colab"
      ],
      "metadata": {
        "id": "whFMYLB1u7rD"
      }
    },
    {
      "cell_type": "code",
      "source": [
        "!pip install kaggle"
      ],
      "metadata": {
        "id": "MwbPTJbLu1oU",
        "outputId": "a2ed640b-ccc3-4fb9-d4cb-06923ee701a3",
        "colab": {
          "base_uri": "https://localhost:8080/"
        }
      },
      "execution_count": null,
      "outputs": [
        {
          "output_type": "stream",
          "name": "stdout",
          "text": [
            "Looking in indexes: https://pypi.org/simple, https://us-python.pkg.dev/colab-wheels/public/simple/\n",
            "Requirement already satisfied: kaggle in /usr/local/lib/python3.7/dist-packages (1.5.12)\n",
            "Requirement already satisfied: six>=1.10 in /usr/local/lib/python3.7/dist-packages (from kaggle) (1.15.0)\n",
            "Requirement already satisfied: python-dateutil in /usr/local/lib/python3.7/dist-packages (from kaggle) (2.8.2)\n",
            "Requirement already satisfied: requests in /usr/local/lib/python3.7/dist-packages (from kaggle) (2.23.0)\n",
            "Requirement already satisfied: python-slugify in /usr/local/lib/python3.7/dist-packages (from kaggle) (6.1.2)\n",
            "Requirement already satisfied: certifi in /usr/local/lib/python3.7/dist-packages (from kaggle) (2022.6.15)\n",
            "Requirement already satisfied: urllib3 in /usr/local/lib/python3.7/dist-packages (from kaggle) (1.24.3)\n",
            "Requirement already satisfied: tqdm in /usr/local/lib/python3.7/dist-packages (from kaggle) (4.64.0)\n",
            "Requirement already satisfied: text-unidecode>=1.3 in /usr/local/lib/python3.7/dist-packages (from python-slugify->kaggle) (1.3)\n",
            "Requirement already satisfied: chardet<4,>=3.0.2 in /usr/local/lib/python3.7/dist-packages (from requests->kaggle) (3.0.4)\n",
            "Requirement already satisfied: idna<3,>=2.5 in /usr/local/lib/python3.7/dist-packages (from requests->kaggle) (2.10)\n"
          ]
        }
      ]
    },
    {
      "cell_type": "code",
      "source": [
        "from google.colab import drive\n",
        "drive.mount('/content/drive')\n",
        "\n",
        "# Then move kaggle.json into the folder where the API expects to find it.\n",
        "!mkdir -p ~/.kaggle/ && cp /content/drive/MyDrive/backups/kaggle.json ~/.kaggle/ && chmod 600 ~/.kaggle/kaggle.json"
      ],
      "metadata": {
        "id": "Lx3ZHpcHvLK0",
        "outputId": "650252fe-e4d6-4407-95c4-9bef5f7eff03",
        "colab": {
          "base_uri": "https://localhost:8080/"
        }
      },
      "execution_count": null,
      "outputs": [
        {
          "output_type": "stream",
          "name": "stdout",
          "text": [
            "Mounted at /content/drive\n"
          ]
        }
      ]
    },
    {
      "cell_type": "code",
      "source": [
        "!kaggle competitions download -c amex-default-prediction -f sample_submission.csv\n",
        "!unzip /content/sample_submission.csv.zip"
      ],
      "metadata": {
        "id": "jeIvlVN0vQ08",
        "outputId": "576e2d05-85f4-47dd-fecb-0bc2e09d3eb1",
        "colab": {
          "base_uri": "https://localhost:8080/"
        }
      },
      "execution_count": null,
      "outputs": [
        {
          "output_type": "stream",
          "name": "stdout",
          "text": [
            "Downloading sample_submission.csv.zip to /content\n",
            "\r  0% 0.00/32.4M [00:00<?, ?B/s]\r 31% 10.0M/32.4M [00:00<00:00, 102MB/s]\n",
            "\r100% 32.4M/32.4M [00:00<00:00, 186MB/s]\n",
            "Archive:  /content/sample_submission.csv.zip\n",
            "  inflating: sample_submission.csv   \n"
          ]
        }
      ]
    },
    {
      "cell_type": "code",
      "source": [
        "!kaggle competitions download -c amex-default-prediction -f train_labels.csv\n",
        "!unzip /content/train_labels.csv.zip"
      ],
      "metadata": {
        "id": "PfGNoPMDxoPk",
        "outputId": "089b3486-7120-42ba-9c9c-1013e7646d87",
        "colab": {
          "base_uri": "https://localhost:8080/"
        }
      },
      "execution_count": null,
      "outputs": [
        {
          "output_type": "stream",
          "name": "stdout",
          "text": [
            "Downloading train_labels.csv.zip to /content\n",
            "\r  0% 0.00/16.2M [00:00<?, ?B/s]\r 74% 12.0M/16.2M [00:00<00:00, 123MB/s]\n",
            "\r100% 16.2M/16.2M [00:00<00:00, 151MB/s]\n",
            "Archive:  /content/train_labels.csv.zip\n",
            "  inflating: train_labels.csv        \n"
          ]
        }
      ]
    },
    {
      "cell_type": "markdown",
      "source": [
        "# Training & Inference"
      ],
      "metadata": {
        "papermill": {
          "duration": 0.002398,
          "end_time": "2022-06-19T23:15:37.946621",
          "exception": false,
          "start_time": "2022-06-19T23:15:37.944223",
          "status": "completed"
        },
        "tags": [],
        "pycharm": {
          "name": "#%% md\n"
        },
        "id": "672r-QJMuzlw"
      }
    },
    {
      "cell_type": "code",
      "source": [
        "!kaggle datasets download -d ryuina/amex-fe-plus2\n",
        "!unzip /content/amex-fe-plus2.zip"
      ],
      "metadata": {
        "id": "C2Kqq_4l7Am1",
        "outputId": "55d0e15b-1492-421c-835e-82e4db6ba979",
        "colab": {
          "base_uri": "https://localhost:8080/"
        }
      },
      "execution_count": null,
      "outputs": [
        {
          "output_type": "stream",
          "name": "stdout",
          "text": [
            "Downloading amex-fe-plus.zip to /content\n",
            "100% 3.85G/3.85G [00:32<00:00, 140MB/s]\n",
            "100% 3.85G/3.85G [00:32<00:00, 127MB/s]\n",
            "Archive:  /content/amex-fe-plus.zip\n",
            "  inflating: test_fe_plus_plus.parquet  \n",
            "  inflating: train_fe_plus_plus.parquet  \n"
          ]
        }
      ]
    },
    {
      "cell_type": "code",
      "source": [
        "# ====================================================\n",
        "# Library\n",
        "# ====================================================\n",
        "import os\n",
        "import gc; gc.enable()\n",
        "import joblib\n",
        "import pickle\n",
        "import random\n",
        "import warnings\n",
        "import itertools\n",
        "import scipy as sp\n",
        "import numpy as np\n",
        "import pandas as pd\n",
        "from tqdm import tqdm\n",
        "import xgboost as xgb\n",
        "import lightgbm as lgb\n",
        "warnings.filterwarnings('ignore')\n",
        "from itertools import combinations\n",
        "pd.set_option('display.width', 1000)\n",
        "pd.set_option('display.max_rows', 500)\n",
        "pd.set_option('display.max_columns', 500)\n",
        "from sklearn.preprocessing import LabelEncoder\n",
        "from sklearn.model_selection import StratifiedKFold, train_test_split\n",
        "\n",
        "class CFG:\n",
        "    input_dir = '/content/'\n",
        "    seed = 42\n",
        "    n_folds = 5\n",
        "    target = 'target'\n",
        "\n",
        "def seed_everything(seed):\n",
        "    random.seed(seed)\n",
        "    np.random.seed(seed)\n",
        "    os.environ['PYTHONHASHSEED'] = str(seed)\n",
        "\n",
        "def read_data():\n",
        "    train = pd.read_parquet(CFG.input_dir + 'train_fe_plus_plus.parquet')\n",
        "    test = pd.read_parquet(CFG.input_dir + 'test_fe_plus_plus.parquet')\n",
        "    return train, test\n",
        "\n",
        "def amex_metric(y_true, y_pred):\n",
        "    labels = np.transpose(np.array([y_true, y_pred]))\n",
        "    labels = labels[labels[:, 1].argsort()[::-1]]\n",
        "    weights = np.where(labels[:,0]==0, 20, 1)\n",
        "    cut_vals = labels[np.cumsum(weights) <= int(0.04 * np.sum(weights))]\n",
        "    top_four = np.sum(cut_vals[:,0]) / np.sum(labels[:,0])\n",
        "    gini = [0,0]\n",
        "    for i in [1,0]:\n",
        "        labels = np.transpose(np.array([y_true, y_pred]))\n",
        "        labels = labels[labels[:, i].argsort()[::-1]]\n",
        "        weight = np.where(labels[:,0]==0, 20, 1)\n",
        "        weight_random = np.cumsum(weight / np.sum(weight))\n",
        "        total_pos = np.sum(labels[:, 0] *  weight)\n",
        "        cum_pos_found = np.cumsum(labels[:, 0] * weight)\n",
        "        lorentz = cum_pos_found / total_pos\n",
        "        gini[i] = np.sum((lorentz - weight_random) * weight)\n",
        "    return 0.5 * (gini[1]/gini[0] + top_four)\n",
        "\n",
        "def amex_metric_np(preds, target):\n",
        "    indices = np.argsort(preds)[::-1]\n",
        "    preds, target = preds[indices], target[indices]\n",
        "    weight = 20.0 - target * 19.0\n",
        "    cum_norm_weight = (weight / weight.sum()).cumsum()\n",
        "    four_pct_mask = cum_norm_weight <= 0.04\n",
        "    d = np.sum(target[four_pct_mask]) / np.sum(target)\n",
        "    weighted_target = target * weight\n",
        "    lorentz = (weighted_target / weighted_target.sum()).cumsum()\n",
        "    gini = ((lorentz - cum_norm_weight) * weight).sum()\n",
        "    n_pos = np.sum(target)\n",
        "    n_neg = target.shape[0] - n_pos\n",
        "    gini_max = 10 * n_neg * (n_pos + 20 * n_neg - 19) / (n_pos + 20 * n_neg)\n",
        "    g = gini / gini_max\n",
        "    return 0.5 * (g + d)"
      ],
      "metadata": {
        "papermill": {
          "duration": 1.91354,
          "end_time": "2022-06-19T23:15:39.862701",
          "exception": false,
          "start_time": "2022-06-19T23:15:37.949161",
          "status": "completed"
        },
        "tags": [],
        "pycharm": {
          "name": "#%%\n"
        },
        "execution": {
          "iopub.status.busy": "2022-07-15T15:26:18.975287Z",
          "iopub.status.idle": "2022-07-15T15:26:18.975786Z",
          "shell.execute_reply.started": "2022-07-15T15:26:18.975552Z",
          "shell.execute_reply": "2022-07-15T15:26:18.975573Z"
        },
        "trusted": true,
        "id": "15l0MOvouzlw"
      },
      "execution_count": null,
      "outputs": []
    },
    {
      "cell_type": "markdown",
      "source": [
        "### Training LightGBM (DART) Model\n",
        "\n",
        "- Final predictions output uploaded as a public dataset. "
      ],
      "metadata": {
        "id": "64hhK5K2uzlx"
      }
    },
    {
      "cell_type": "code",
      "source": [
        "seed_everything(CFG.seed)\n",
        "train, test = read_data()"
      ],
      "metadata": {
        "id": "kFQsUkTpemrU"
      },
      "execution_count": null,
      "outputs": []
    },
    {
      "cell_type": "code",
      "source": [
        "# Label encode categorical features\n",
        "cat_features = [\n",
        "    \"B_30\",\n",
        "    \"B_38\",\n",
        "    \"D_114\",\n",
        "    \"D_116\",\n",
        "    \"D_117\",\n",
        "    \"D_120\",\n",
        "    \"D_126\",\n",
        "    \"D_63\",\n",
        "    \"D_64\",\n",
        "    \"D_66\",\n",
        "    \"D_68\"\n",
        "]\n",
        "cat_features = [f\"{cf}_last\" for cf in cat_features]\n",
        "for cat_col in cat_features:\n",
        "    encoder = LabelEncoder()\n",
        "    train[cat_col] = encoder.fit_transform(train[cat_col])\n",
        "    test[cat_col] = encoder.transform(test[cat_col])\n",
        "\n",
        "# Round last float features to 2 decimal place\n",
        "num_cols = list(train.dtypes[(train.dtypes == 'float32') | (train.dtypes == 'float64')].index)\n",
        "num_cols = [col for col in num_cols if 'last' in col]\n",
        "for col in num_cols:\n",
        "    train[col + '_round2'] = train[col].round(2)\n",
        "    test[col + '_round2'] = test[col].round(2)\n",
        "\n",
        "num_cols = [col for col in train.columns if 'last' in col]\n",
        "num_cols = [col[:-5] for col in num_cols if 'round' not in col]\n",
        "for col in num_cols:\n",
        "    try:\n",
        "        train[f'{col}_max-last'] = train[f'{col}_max'] - train[f'{col}_last']\n",
        "        test[f'{col}_max-last'] = test[f'{col}_max'] - test[f'{col}_last']\n",
        "\n",
        "        train[f'{col}_mean_min'] = train[f'{col}mean'] - train[f'{col}_min']\n",
        "        test[f'{col}_mean_min'] = test[f'{col}_mean'] - test[f'{col}_min']\n",
        "\n",
        "        train[f'{col}_last_mean'] = train[f'{col}_last'] - train[f'{col}_mean']\n",
        "        test[f'{col}_last_mean'] = test[f'{col}_last'] - test[f'{col}_mean']\n",
        "    except: pass\n",
        "\n",
        "num_cols = list(train.dtypes[(train.dtypes == 'float32') | (train.dtypes == 'float64')].index)\n",
        "for col in tqdm(num_cols):\n",
        "    train[col] = train[col].astype(np.float16)\n",
        "    test[col] = test[col].astype(np.float16)\n",
        "\n",
        "# Get feature list\n",
        "features = [col for col in train.columns if col not in ['customer_ID', CFG.target]]"
      ],
      "metadata": {
        "id": "3apqtSQzbZG1",
        "outputId": "8d11be21-9ade-4779-c5c3-9b22cbe43778",
        "colab": {
          "base_uri": "https://localhost:8080/"
        }
      },
      "execution_count": null,
      "outputs": [
        {
          "output_type": "stream",
          "name": "stderr",
          "text": [
            "100%|██████████| 1638/1638 [09:28<00:00,  2.88it/s]\n"
          ]
        }
      ]
    },
    {
      "cell_type": "code",
      "source": [
        "params = {\n",
        "    'objective': 'binary',\n",
        "    'metric': \"binary_logloss\",\n",
        "    'boosting': 'dart',\n",
        "    'seed': CFG.seed,\n",
        "    'num_leaves': 100,\n",
        "    'learning_rate': 0.02,\n",
        "    'feature_fraction': 0.20,\n",
        "    'bagging_freq': 10,\n",
        "    'bagging_fraction': 0.50,\n",
        "    'n_jobs': -1,\n",
        "    'lambda_l2': 2,\n",
        "    'min_data_in_leaf': 40,\n",
        "    # 'device_type': 'gpu'\n",
        "    }"
      ],
      "metadata": {
        "id": "S00nxuAZbdBP"
      },
      "execution_count": null,
      "outputs": []
    },
    {
      "cell_type": "code",
      "source": [
        "def lgb_amex_metric(y_pred, y_true):\n",
        "    y_true = y_true.get_label()\n",
        "    return 'amex_metric', amex_metric(y_true, y_pred), True\n",
        "\n",
        "def train_and_evaluate(train):\n",
        "    # Create a numpy array to store out of folds predictions\n",
        "    oof_predictions = np.zeros(len(train))\n",
        "    kfold = StratifiedKFold(n_splits = CFG.n_folds, shuffle = True, random_state = CFG.seed)\n",
        "    for fold, (trn_ind, val_ind) in enumerate(kfold.split(train, train[CFG.target])):\n",
        "        print(' ')\n",
        "        print('-'*50)\n",
        "        print(f'Training fold {fold} with {len(features)} features...')\n",
        "        x_train, x_val = train[features].iloc[trn_ind], train[features].iloc[val_ind]\n",
        "        y_train, y_val = train[CFG.target].iloc[trn_ind], train[CFG.target].iloc[val_ind]\n",
        "        lgb_train = lgb.Dataset(x_train, y_train, categorical_feature = cat_features)\n",
        "        lgb_valid = lgb.Dataset(x_val, y_val, categorical_feature = cat_features)\n",
        "        model = lgb.train(\n",
        "            params = params,\n",
        "            train_set = lgb_train,\n",
        "            num_boost_round = 8500,\n",
        "            valid_sets = [lgb_train, lgb_valid],\n",
        "            early_stopping_rounds = 100,\n",
        "            verbose_eval = 500,\n",
        "            feval = lgb_amex_metric\n",
        "            )\n",
        "        # Save best model\n",
        "        joblib.dump(model, f'lgbm_fold{fold}_seed{CFG.seed}.pkl')\n",
        "        # Predict validation\n",
        "        val_pred = model.predict(x_val)\n",
        "        # Add to out of folds array\n",
        "        oof_predictions[val_ind] = val_pred\n",
        "\n",
        "        # Compute fold metric\n",
        "        score = amex_metric(y_val, val_pred)\n",
        "        print(f'Our fold {fold} CV score is {score}')\n",
        "        del x_train, x_val, y_train, y_val, lgb_train, lgb_valid, model\n",
        "        gc.collect()\n",
        "    # Compute out of folds metric\n",
        "    score = amex_metric(train[CFG.target], oof_predictions)\n",
        "    print(f'Our out of folds CV score is {score}')\n",
        "    # Create a dataframe to store out of folds predictions\n",
        "    oof_df = pd.DataFrame({'customer_ID': train['customer_ID'], 'target': train[CFG.target], 'prediction': oof_predictions})\n",
        "    oof_df.to_csv(f'oof_lgbm_baseline_{CFG.n_folds}fold_seed{CFG.seed}.csv', index = False)\n",
        "\n",
        "train_and_evaluate(train)"
      ],
      "metadata": {
        "pycharm": {
          "name": "#%%\n"
        },
        "jupyter": {
          "outputs_hidden": false
        },
        "execution": {
          "iopub.status.busy": "2022-07-15T15:26:18.977741Z",
          "iopub.status.idle": "2022-07-15T15:26:18.978405Z",
          "shell.execute_reply.started": "2022-07-15T15:26:18.978196Z",
          "shell.execute_reply": "2022-07-15T15:26:18.978218Z"
        },
        "trusted": true,
        "id": "9p5Z6PX7uzlx",
        "outputId": "43a121e8-ebdb-4f8c-ddec-ca648b803614",
        "colab": {
          "base_uri": "https://localhost:8080/"
        }
      },
      "execution_count": null,
      "outputs": [
        {
          "output_type": "stream",
          "name": "stdout",
          "text": [
            " \n",
            "--------------------------------------------------\n",
            "Training fold 0 with 2355 features...\n",
            "[500]\ttraining's binary_logloss: 0.257089\ttraining's amex_metric: 0.790989\tvalid_1's binary_logloss: 0.261771\tvalid_1's amex_metric: 0.77888\n",
            "[1000]\ttraining's binary_logloss: 0.210214\ttraining's amex_metric: 0.818916\tvalid_1's binary_logloss: 0.22335\tvalid_1's amex_metric: 0.792324\n",
            "[1500]\ttraining's binary_logloss: 0.195995\ttraining's amex_metric: 0.838619\tvalid_1's binary_logloss: 0.218073\tvalid_1's amex_metric: 0.796908\n",
            "[2000]\ttraining's binary_logloss: 0.183219\ttraining's amex_metric: 0.858856\tvalid_1's binary_logloss: 0.215344\tvalid_1's amex_metric: 0.7988\n",
            "[2500]\ttraining's binary_logloss: 0.174605\ttraining's amex_metric: 0.87365\tvalid_1's binary_logloss: 0.214274\tvalid_1's amex_metric: 0.800435\n",
            "[3000]\ttraining's binary_logloss: 0.16538\ttraining's amex_metric: 0.889078\tvalid_1's binary_logloss: 0.213609\tvalid_1's amex_metric: 0.800166\n",
            "[3500]\ttraining's binary_logloss: 0.156402\ttraining's amex_metric: 0.903979\tvalid_1's binary_logloss: 0.21321\tvalid_1's amex_metric: 0.79987\n",
            "[4000]\ttraining's binary_logloss: 0.148356\ttraining's amex_metric: 0.918297\tvalid_1's binary_logloss: 0.212872\tvalid_1's amex_metric: 0.800446\n",
            "[4500]\ttraining's binary_logloss: 0.140518\ttraining's amex_metric: 0.931201\tvalid_1's binary_logloss: 0.212757\tvalid_1's amex_metric: 0.799518\n",
            "[5000]\ttraining's binary_logloss: 0.13279\ttraining's amex_metric: 0.942911\tvalid_1's binary_logloss: 0.212757\tvalid_1's amex_metric: 0.800424\n",
            "[5500]\ttraining's binary_logloss: 0.126033\ttraining's amex_metric: 0.952439\tvalid_1's binary_logloss: 0.212822\tvalid_1's amex_metric: 0.800684\n",
            "[6000]\ttraining's binary_logloss: 0.120344\ttraining's amex_metric: 0.961053\tvalid_1's binary_logloss: 0.21285\tvalid_1's amex_metric: 0.800749\n",
            "[6500]\ttraining's binary_logloss: 0.114488\ttraining's amex_metric: 0.96793\tvalid_1's binary_logloss: 0.213\tvalid_1's amex_metric: 0.80165\n",
            "[7000]\ttraining's binary_logloss: 0.10793\ttraining's amex_metric: 0.97564\tvalid_1's binary_logloss: 0.213069\tvalid_1's amex_metric: 0.801604\n",
            "[7500]\ttraining's binary_logloss: 0.101851\ttraining's amex_metric: 0.98169\tvalid_1's binary_logloss: 0.213189\tvalid_1's amex_metric: 0.800776\n",
            "[8000]\ttraining's binary_logloss: 0.0965328\ttraining's amex_metric: 0.986568\tvalid_1's binary_logloss: 0.213423\tvalid_1's amex_metric: 0.800603\n",
            "[8500]\ttraining's binary_logloss: 0.0920818\ttraining's amex_metric: 0.98999\tvalid_1's binary_logloss: 0.213538\tvalid_1's amex_metric: 0.801126\n",
            "Our fold 0 CV score is 0.801188901882886\n",
            " \n",
            "--------------------------------------------------\n",
            "Training fold 1 with 2355 features...\n",
            "[500]\ttraining's binary_logloss: 0.25654\ttraining's amex_metric: 0.792804\tvalid_1's binary_logloss: 0.263278\tvalid_1's amex_metric: 0.772493\n",
            "[1000]\ttraining's binary_logloss: 0.20932\ttraining's amex_metric: 0.82018\tvalid_1's binary_logloss: 0.226034\tvalid_1's amex_metric: 0.785034\n",
            "[1500]\ttraining's binary_logloss: 0.19508\ttraining's amex_metric: 0.840153\tvalid_1's binary_logloss: 0.220795\tvalid_1's amex_metric: 0.788937\n",
            "[2000]\ttraining's binary_logloss: 0.182378\ttraining's amex_metric: 0.859807\tvalid_1's binary_logloss: 0.218566\tvalid_1's amex_metric: 0.791051\n",
            "[2500]\ttraining's binary_logloss: 0.173739\ttraining's amex_metric: 0.87535\tvalid_1's binary_logloss: 0.217901\tvalid_1's amex_metric: 0.790391\n",
            "[3000]\ttraining's binary_logloss: 0.164445\ttraining's amex_metric: 0.890479\tvalid_1's binary_logloss: 0.217291\tvalid_1's amex_metric: 0.790466\n",
            "[3500]\ttraining's binary_logloss: 0.155465\ttraining's amex_metric: 0.905951\tvalid_1's binary_logloss: 0.216862\tvalid_1's amex_metric: 0.790597\n",
            "[4000]\ttraining's binary_logloss: 0.147397\ttraining's amex_metric: 0.919463\tvalid_1's binary_logloss: 0.216632\tvalid_1's amex_metric: 0.790959\n",
            "[4500]\ttraining's binary_logloss: 0.13957\ttraining's amex_metric: 0.932212\tvalid_1's binary_logloss: 0.21652\tvalid_1's amex_metric: 0.791934\n",
            "[5000]\ttraining's binary_logloss: 0.13182\ttraining's amex_metric: 0.944121\tvalid_1's binary_logloss: 0.216483\tvalid_1's amex_metric: 0.791852\n",
            "[5500]\ttraining's binary_logloss: 0.125107\ttraining's amex_metric: 0.953568\tvalid_1's binary_logloss: 0.2165\tvalid_1's amex_metric: 0.791999\n",
            "[6000]\ttraining's binary_logloss: 0.119453\ttraining's amex_metric: 0.961514\tvalid_1's binary_logloss: 0.216717\tvalid_1's amex_metric: 0.79217\n",
            "[6500]\ttraining's binary_logloss: 0.1136\ttraining's amex_metric: 0.96837\tvalid_1's binary_logloss: 0.21679\tvalid_1's amex_metric: 0.791801\n",
            "[7000]\ttraining's binary_logloss: 0.107052\ttraining's amex_metric: 0.976223\tvalid_1's binary_logloss: 0.217035\tvalid_1's amex_metric: 0.792426\n",
            "[7500]\ttraining's binary_logloss: 0.101007\ttraining's amex_metric: 0.9825\tvalid_1's binary_logloss: 0.217252\tvalid_1's amex_metric: 0.793327\n",
            "[8000]\ttraining's binary_logloss: 0.0957314\ttraining's amex_metric: 0.987128\tvalid_1's binary_logloss: 0.217478\tvalid_1's amex_metric: 0.793413\n",
            "[8500]\ttraining's binary_logloss: 0.0913454\ttraining's amex_metric: 0.990643\tvalid_1's binary_logloss: 0.217779\tvalid_1's amex_metric: 0.792803\n",
            "Our fold 1 CV score is 0.7928034294138413\n",
            " \n",
            "--------------------------------------------------\n",
            "Training fold 2 with 2355 features...\n",
            "[500]\ttraining's binary_logloss: 0.256435\ttraining's amex_metric: 0.792034\tvalid_1's binary_logloss: 0.263698\tvalid_1's amex_metric: 0.775422\n",
            "[1000]\ttraining's binary_logloss: 0.209426\ttraining's amex_metric: 0.81976\tvalid_1's binary_logloss: 0.225917\tvalid_1's amex_metric: 0.788007\n",
            "[1500]\ttraining's binary_logloss: 0.195325\ttraining's amex_metric: 0.839765\tvalid_1's binary_logloss: 0.220502\tvalid_1's amex_metric: 0.79242\n",
            "[2000]\ttraining's binary_logloss: 0.182665\ttraining's amex_metric: 0.859833\tvalid_1's binary_logloss: 0.218031\tvalid_1's amex_metric: 0.794914\n",
            "[2500]\ttraining's binary_logloss: 0.173983\ttraining's amex_metric: 0.875401\tvalid_1's binary_logloss: 0.217158\tvalid_1's amex_metric: 0.796898\n",
            "[3000]\ttraining's binary_logloss: 0.164721\ttraining's amex_metric: 0.890419\tvalid_1's binary_logloss: 0.216608\tvalid_1's amex_metric: 0.796083\n",
            "[3500]\ttraining's binary_logloss: 0.155776\ttraining's amex_metric: 0.905466\tvalid_1's binary_logloss: 0.216248\tvalid_1's amex_metric: 0.796071\n",
            "[4000]\ttraining's binary_logloss: 0.14767\ttraining's amex_metric: 0.919322\tvalid_1's binary_logloss: 0.215961\tvalid_1's amex_metric: 0.795775\n",
            "[4500]\ttraining's binary_logloss: 0.139789\ttraining's amex_metric: 0.931859\tvalid_1's binary_logloss: 0.215782\tvalid_1's amex_metric: 0.796436\n",
            "[5000]\ttraining's binary_logloss: 0.132091\ttraining's amex_metric: 0.943652\tvalid_1's binary_logloss: 0.21574\tvalid_1's amex_metric: 0.797017\n",
            "[5500]\ttraining's binary_logloss: 0.125326\ttraining's amex_metric: 0.952926\tvalid_1's binary_logloss: 0.21582\tvalid_1's amex_metric: 0.797191\n",
            "[6000]\ttraining's binary_logloss: 0.119691\ttraining's amex_metric: 0.96146\tvalid_1's binary_logloss: 0.215809\tvalid_1's amex_metric: 0.796551\n",
            "[6500]\ttraining's binary_logloss: 0.113812\ttraining's amex_metric: 0.968072\tvalid_1's binary_logloss: 0.215897\tvalid_1's amex_metric: 0.796849\n",
            "[7000]\ttraining's binary_logloss: 0.107221\ttraining's amex_metric: 0.975791\tvalid_1's binary_logloss: 0.216004\tvalid_1's amex_metric: 0.796862\n",
            "[7500]\ttraining's binary_logloss: 0.101115\ttraining's amex_metric: 0.98195\tvalid_1's binary_logloss: 0.216157\tvalid_1's amex_metric: 0.796809\n",
            "[8000]\ttraining's binary_logloss: 0.0958373\ttraining's amex_metric: 0.986976\tvalid_1's binary_logloss: 0.216328\tvalid_1's amex_metric: 0.797485\n",
            "[8500]\ttraining's binary_logloss: 0.0914922\ttraining's amex_metric: 0.990381\tvalid_1's binary_logloss: 0.216476\tvalid_1's amex_metric: 0.797506\n",
            "Our fold 2 CV score is 0.7975055177419206\n",
            " \n",
            "--------------------------------------------------\n",
            "Training fold 3 with 2355 features...\n",
            "[500]\ttraining's binary_logloss: 0.256195\ttraining's amex_metric: 0.792336\tvalid_1's binary_logloss: 0.26452\tvalid_1's amex_metric: 0.77087\n",
            "[1000]\ttraining's binary_logloss: 0.209208\ttraining's amex_metric: 0.820639\tvalid_1's binary_logloss: 0.226872\tvalid_1's amex_metric: 0.782091\n",
            "[1500]\ttraining's binary_logloss: 0.195043\ttraining's amex_metric: 0.840962\tvalid_1's binary_logloss: 0.221596\tvalid_1's amex_metric: 0.786806\n",
            "[2000]\ttraining's binary_logloss: 0.182422\ttraining's amex_metric: 0.859572\tvalid_1's binary_logloss: 0.218947\tvalid_1's amex_metric: 0.788942\n",
            "[2500]\ttraining's binary_logloss: 0.173846\ttraining's amex_metric: 0.874772\tvalid_1's binary_logloss: 0.218067\tvalid_1's amex_metric: 0.790069\n",
            "[3000]\ttraining's binary_logloss: 0.16459\ttraining's amex_metric: 0.89008\tvalid_1's binary_logloss: 0.217385\tvalid_1's amex_metric: 0.790797\n",
            "[3500]\ttraining's binary_logloss: 0.155661\ttraining's amex_metric: 0.905786\tvalid_1's binary_logloss: 0.216909\tvalid_1's amex_metric: 0.791457\n",
            "[4000]\ttraining's binary_logloss: 0.147561\ttraining's amex_metric: 0.919192\tvalid_1's binary_logloss: 0.216648\tvalid_1's amex_metric: 0.792207\n",
            "[4500]\ttraining's binary_logloss: 0.139703\ttraining's amex_metric: 0.93185\tvalid_1's binary_logloss: 0.216562\tvalid_1's amex_metric: 0.792269\n",
            "[5000]\ttraining's binary_logloss: 0.132025\ttraining's amex_metric: 0.943341\tvalid_1's binary_logloss: 0.216509\tvalid_1's amex_metric: 0.792158\n",
            "[5500]\ttraining's binary_logloss: 0.125313\ttraining's amex_metric: 0.952977\tvalid_1's binary_logloss: 0.216544\tvalid_1's amex_metric: 0.791901\n",
            "[6000]\ttraining's binary_logloss: 0.119617\ttraining's amex_metric: 0.96138\tvalid_1's binary_logloss: 0.2166\tvalid_1's amex_metric: 0.792081\n",
            "[6500]\ttraining's binary_logloss: 0.113751\ttraining's amex_metric: 0.968386\tvalid_1's binary_logloss: 0.216761\tvalid_1's amex_metric: 0.792032\n",
            "[7000]\ttraining's binary_logloss: 0.107194\ttraining's amex_metric: 0.975861\tvalid_1's binary_logloss: 0.21701\tvalid_1's amex_metric: 0.791891\n",
            "[7500]\ttraining's binary_logloss: 0.101078\ttraining's amex_metric: 0.982334\tvalid_1's binary_logloss: 0.217204\tvalid_1's amex_metric: 0.792348\n",
            "[8000]\ttraining's binary_logloss: 0.0958326\ttraining's amex_metric: 0.986924\tvalid_1's binary_logloss: 0.217457\tvalid_1's amex_metric: 0.792181\n",
            "[8500]\ttraining's binary_logloss: 0.0914013\ttraining's amex_metric: 0.99043\tvalid_1's binary_logloss: 0.217521\tvalid_1's amex_metric: 0.792275\n",
            "Our fold 3 CV score is 0.7922742817200553\n",
            " \n",
            "--------------------------------------------------\n",
            "Training fold 4 with 2355 features...\n",
            "[500]\ttraining's binary_logloss: 0.256828\ttraining's amex_metric: 0.792127\tvalid_1's binary_logloss: 0.262754\tvalid_1's amex_metric: 0.775896\n",
            "[1000]\ttraining's binary_logloss: 0.209826\ttraining's amex_metric: 0.819539\tvalid_1's binary_logloss: 0.224711\tvalid_1's amex_metric: 0.787635\n",
            "[1500]\ttraining's binary_logloss: 0.195675\ttraining's amex_metric: 0.839599\tvalid_1's binary_logloss: 0.219265\tvalid_1's amex_metric: 0.792938\n",
            "[2000]\ttraining's binary_logloss: 0.182924\ttraining's amex_metric: 0.859626\tvalid_1's binary_logloss: 0.216544\tvalid_1's amex_metric: 0.795277\n",
            "[2500]\ttraining's binary_logloss: 0.174282\ttraining's amex_metric: 0.874674\tvalid_1's binary_logloss: 0.215754\tvalid_1's amex_metric: 0.795664\n",
            "[3000]\ttraining's binary_logloss: 0.164972\ttraining's amex_metric: 0.889292\tvalid_1's binary_logloss: 0.214867\tvalid_1's amex_metric: 0.795652\n",
            "[3500]\ttraining's binary_logloss: 0.156019\ttraining's amex_metric: 0.904922\tvalid_1's binary_logloss: 0.214477\tvalid_1's amex_metric: 0.796642\n",
            "[4000]\ttraining's binary_logloss: 0.147961\ttraining's amex_metric: 0.918589\tvalid_1's binary_logloss: 0.214244\tvalid_1's amex_metric: 0.797501\n",
            "[4500]\ttraining's binary_logloss: 0.140116\ttraining's amex_metric: 0.931433\tvalid_1's binary_logloss: 0.214133\tvalid_1's amex_metric: 0.797664\n",
            "[5000]\ttraining's binary_logloss: 0.13246\ttraining's amex_metric: 0.942891\tvalid_1's binary_logloss: 0.21399\tvalid_1's amex_metric: 0.796926\n",
            "[5500]\ttraining's binary_logloss: 0.125725\ttraining's amex_metric: 0.952579\tvalid_1's binary_logloss: 0.21396\tvalid_1's amex_metric: 0.797469\n",
            "[6000]\ttraining's binary_logloss: 0.120066\ttraining's amex_metric: 0.960513\tvalid_1's binary_logloss: 0.214014\tvalid_1's amex_metric: 0.79825\n",
            "[6500]\ttraining's binary_logloss: 0.114212\ttraining's amex_metric: 0.967539\tvalid_1's binary_logloss: 0.214197\tvalid_1's amex_metric: 0.79787\n",
            "[7000]\ttraining's binary_logloss: 0.107686\ttraining's amex_metric: 0.975495\tvalid_1's binary_logloss: 0.214366\tvalid_1's amex_metric: 0.798245\n",
            "[7500]\ttraining's binary_logloss: 0.101606\ttraining's amex_metric: 0.981734\tvalid_1's binary_logloss: 0.214611\tvalid_1's amex_metric: 0.797873\n",
            "[8000]\ttraining's binary_logloss: 0.0963175\ttraining's amex_metric: 0.986771\tvalid_1's binary_logloss: 0.21484\tvalid_1's amex_metric: 0.797574\n",
            "[8500]\ttraining's binary_logloss: 0.091921\ttraining's amex_metric: 0.990301\tvalid_1's binary_logloss: 0.214997\tvalid_1's amex_metric: 0.798194\n",
            "Our fold 4 CV score is 0.7981528775189439\n",
            "Our out of folds CV score is 0.796482709972341\n"
          ]
        }
      ]
    },
    {
      "cell_type": "code",
      "source": [
        "del train\n",
        "_ = gc.collect()"
      ],
      "metadata": {
        "id": "P2llPNqqOKTT"
      },
      "execution_count": null,
      "outputs": []
    },
    {
      "cell_type": "markdown",
      "metadata": {
        "papermill": {
          "duration": 0.018388,
          "end_time": "2022-07-15T16:48:45.862462",
          "exception": false,
          "start_time": "2022-07-15T16:48:45.844074",
          "status": "completed"
        },
        "tags": [],
        "id": "bf46dad6"
      },
      "source": [
        "# Test part"
      ]
    },
    {
      "cell_type": "code",
      "execution_count": null,
      "metadata": {
        "execution": {
          "iopub.execute_input": "2022-07-15T16:48:45.901178Z",
          "iopub.status.busy": "2022-07-15T16:48:45.900848Z",
          "iopub.status.idle": "2022-07-15T16:48:45.907526Z",
          "shell.execute_reply": "2022-07-15T16:48:45.906709Z"
        },
        "papermill": {
          "duration": 0.027751,
          "end_time": "2022-07-15T16:48:45.909278",
          "exception": false,
          "start_time": "2022-07-15T16:48:45.881527",
          "status": "completed"
        },
        "tags": [],
        "id": "c28f1826"
      },
      "outputs": [],
      "source": [
        "# CALCULATE SIZE OF EACH SEPARATE TEST PART\n",
        "def get_rows(customers, test, NUM_PARTS = 4, verbose = ''):\n",
        "    chunk = len(customers)//NUM_PARTS\n",
        "    if verbose != '':\n",
        "        print(f'We will process {verbose} data as {NUM_PARTS} separate parts.')\n",
        "        print(f'There will be {chunk} customers in each part (except the last part).')\n",
        "        print('Below are number of rows in each part:')\n",
        "    rows = []\n",
        "\n",
        "    for k in range(NUM_PARTS):\n",
        "        if k==NUM_PARTS-1: cc = customers[k*chunk:]\n",
        "        else: cc = customers[k*chunk:(k+1)*chunk]\n",
        "        s = test.loc[test.customer_ID.isin(cc)].shape[0]\n",
        "        rows.append(s)\n",
        "    if verbose != '': print( rows )\n",
        "    return rows,chunk"
      ]
    },
    {
      "cell_type": "code",
      "execution_count": null,
      "metadata": {
        "execution": {
          "iopub.execute_input": "2022-07-15T16:48:45.947705Z",
          "iopub.status.busy": "2022-07-15T16:48:45.947377Z",
          "iopub.status.idle": "2022-07-15T16:48:47.039525Z",
          "shell.execute_reply": "2022-07-15T16:48:47.038640Z"
        },
        "papermill": {
          "duration": 1.113806,
          "end_time": "2022-07-15T16:48:47.041416",
          "exception": false,
          "start_time": "2022-07-15T16:48:45.927610",
          "status": "completed"
        },
        "tags": [],
        "id": "8c7e70c5",
        "outputId": "f2a14e55-51d3-4864-a1ad-6e117c0ef38d",
        "colab": {
          "base_uri": "https://localhost:8080/"
        }
      },
      "outputs": [
        {
          "output_type": "stream",
          "name": "stdout",
          "text": [
            "We will process test data as 4 separate parts.\n",
            "There will be 231155 customers in each part (except the last part).\n",
            "Below are number of rows in each part:\n",
            "[231155, 231155, 231155, 231156]\n"
          ]
        }
      ],
      "source": [
        "# COMPUTE SIZE OF 4 PARTS FOR TEST DATA\n",
        "NUM_PARTS = 4\n",
        "\n",
        "customers = test[['customer_ID']].drop_duplicates().sort_index().values.flatten()\n",
        "rows,num_cust = get_rows(customers, test[['customer_ID']], NUM_PARTS = NUM_PARTS, verbose = 'test')"
      ]
    },
    {
      "cell_type": "code",
      "execution_count": null,
      "metadata": {
        "execution": {
          "iopub.execute_input": "2022-07-15T16:48:47.081924Z",
          "iopub.status.busy": "2022-07-15T16:48:47.081615Z",
          "iopub.status.idle": "2022-07-15T16:50:55.407348Z",
          "shell.execute_reply": "2022-07-15T16:50:55.406352Z"
        },
        "papermill": {
          "duration": 128.349422,
          "end_time": "2022-07-15T16:50:55.410249",
          "exception": false,
          "start_time": "2022-07-15T16:48:47.060827",
          "status": "completed"
        },
        "tags": [],
        "id": "9cf53fd3",
        "outputId": "bc527664-62f3-4a8b-8823-c94065af1d12",
        "colab": {
          "base_uri": "https://localhost:8080/"
        }
      },
      "outputs": [
        {
          "output_type": "stream",
          "name": "stdout",
          "text": [
            "\n",
            "Reading test data...\n",
            "=> Test part 1 has shape (231155, 2355)\n",
            "\n",
            "Reading test data...\n",
            "=> Test part 2 has shape (231155, 2355)\n",
            "\n",
            "Reading test data...\n",
            "=> Test part 3 has shape (231155, 2355)\n",
            "\n",
            "Reading test data...\n",
            "=> Test part 4 has shape (231156, 2355)\n"
          ]
        }
      ],
      "source": [
        "# INFER TEST DATA IN PARTS\n",
        "skip_rows = 0\n",
        "skip_cust = 0\n",
        "test_preds = []\n",
        "\n",
        "for k in range(NUM_PARTS):\n",
        "    \n",
        "    # READ PART OF TEST DATA\n",
        "    print(f'\\nReading test data...')\n",
        "    test_copy = test.iloc[skip_rows:skip_rows+rows[k]].copy()\n",
        "    test_copy = test_copy.set_index('customer_ID')\n",
        "    skip_rows += rows[k]\n",
        "    print(f'=> Test part {k+1} has shape', test_copy.shape )\n",
        "    \n",
        "    # PROCESS AND FEATURE ENGINEER PART OF TEST DATA\n",
        "    if k==NUM_PARTS-1: test_copy = test_copy.loc[customers[skip_cust:]]\n",
        "    else: test_copy = test_copy.loc[customers[skip_cust:skip_cust+num_cust]]\n",
        "    skip_cust += num_cust\n",
        "        \n",
        "    # INFER XGB MODELS ON TEST DATA\n",
        "    model = joblib.load(f'lgbm_fold0_seed{CFG.seed}.pkl')\n",
        "    preds = model.predict(test_copy)\n",
        "    for f in range(1,CFG.n_folds):\n",
        "        model = joblib.load(f'lgbm_fold{f}_seed{CFG.seed}.pkl')\n",
        "        preds += model.predict(test_copy)\n",
        "    preds /= CFG.n_folds\n",
        "    test_preds.append(preds)\n",
        "\n",
        "    # CLEAN MEMORY\n",
        "    del test_copy, model\n",
        "    _ = gc.collect()\n",
        "\n",
        "del test\n",
        "_ = gc.collect()"
      ]
    },
    {
      "cell_type": "markdown",
      "metadata": {
        "papermill": {
          "duration": 0.067515,
          "end_time": "2022-07-15T16:50:55.538577",
          "exception": false,
          "start_time": "2022-07-15T16:50:55.471062",
          "status": "completed"
        },
        "tags": [],
        "id": "02259545"
      },
      "source": [
        "# Submit"
      ]
    },
    {
      "cell_type": "code",
      "execution_count": null,
      "metadata": {
        "execution": {
          "iopub.execute_input": "2022-07-15T16:50:55.628196Z",
          "iopub.status.busy": "2022-07-15T16:50:55.627855Z",
          "iopub.status.idle": "2022-07-15T16:51:02.864876Z",
          "shell.execute_reply": "2022-07-15T16:51:02.864114Z"
        },
        "papermill": {
          "duration": 7.268354,
          "end_time": "2022-07-15T16:51:02.866646",
          "exception": false,
          "start_time": "2022-07-15T16:50:55.598292",
          "status": "completed"
        },
        "tags": [],
        "id": "00d908fd",
        "outputId": "8b063c0d-91f4-4263-a8d4-3af8b8aa25b4",
        "colab": {
          "base_uri": "https://localhost:8080/",
          "height": 224
        }
      },
      "outputs": [
        {
          "output_type": "stream",
          "name": "stdout",
          "text": [
            "Submission file shape is (924621, 2)\n"
          ]
        },
        {
          "output_type": "execute_result",
          "data": {
            "text/plain": [
              "                                         customer_ID  prediction\n",
              "0  00000469ba478561f23a92a868bd366de6f6527a684c9a...    0.018484\n",
              "1  00001bf2e77ff879fab36aa4fac689b9ba411dae63ae39...    0.000489\n",
              "2  0000210045da4f81e5f122c6bde5c2a617d03eef67f82c...    0.031505\n",
              "3  00003b41e58ede33b8daf61ab56d9952f17c9ad1c3976c...    0.203642\n",
              "4  00004b22eaeeeb0ec976890c1d9bfc14fd9427e98c4ee9...    0.899105"
            ],
            "text/html": [
              "\n",
              "  <div id=\"df-71d675e7-d246-492e-86a0-abb616ba5ac6\">\n",
              "    <div class=\"colab-df-container\">\n",
              "      <div>\n",
              "<style scoped>\n",
              "    .dataframe tbody tr th:only-of-type {\n",
              "        vertical-align: middle;\n",
              "    }\n",
              "\n",
              "    .dataframe tbody tr th {\n",
              "        vertical-align: top;\n",
              "    }\n",
              "\n",
              "    .dataframe thead th {\n",
              "        text-align: right;\n",
              "    }\n",
              "</style>\n",
              "<table border=\"1\" class=\"dataframe\">\n",
              "  <thead>\n",
              "    <tr style=\"text-align: right;\">\n",
              "      <th></th>\n",
              "      <th>customer_ID</th>\n",
              "      <th>prediction</th>\n",
              "    </tr>\n",
              "  </thead>\n",
              "  <tbody>\n",
              "    <tr>\n",
              "      <th>0</th>\n",
              "      <td>00000469ba478561f23a92a868bd366de6f6527a684c9a...</td>\n",
              "      <td>0.018484</td>\n",
              "    </tr>\n",
              "    <tr>\n",
              "      <th>1</th>\n",
              "      <td>00001bf2e77ff879fab36aa4fac689b9ba411dae63ae39...</td>\n",
              "      <td>0.000489</td>\n",
              "    </tr>\n",
              "    <tr>\n",
              "      <th>2</th>\n",
              "      <td>0000210045da4f81e5f122c6bde5c2a617d03eef67f82c...</td>\n",
              "      <td>0.031505</td>\n",
              "    </tr>\n",
              "    <tr>\n",
              "      <th>3</th>\n",
              "      <td>00003b41e58ede33b8daf61ab56d9952f17c9ad1c3976c...</td>\n",
              "      <td>0.203642</td>\n",
              "    </tr>\n",
              "    <tr>\n",
              "      <th>4</th>\n",
              "      <td>00004b22eaeeeb0ec976890c1d9bfc14fd9427e98c4ee9...</td>\n",
              "      <td>0.899105</td>\n",
              "    </tr>\n",
              "  </tbody>\n",
              "</table>\n",
              "</div>\n",
              "      <button class=\"colab-df-convert\" onclick=\"convertToInteractive('df-71d675e7-d246-492e-86a0-abb616ba5ac6')\"\n",
              "              title=\"Convert this dataframe to an interactive table.\"\n",
              "              style=\"display:none;\">\n",
              "        \n",
              "  <svg xmlns=\"http://www.w3.org/2000/svg\" height=\"24px\"viewBox=\"0 0 24 24\"\n",
              "       width=\"24px\">\n",
              "    <path d=\"M0 0h24v24H0V0z\" fill=\"none\"/>\n",
              "    <path d=\"M18.56 5.44l.94 2.06.94-2.06 2.06-.94-2.06-.94-.94-2.06-.94 2.06-2.06.94zm-11 1L8.5 8.5l.94-2.06 2.06-.94-2.06-.94L8.5 2.5l-.94 2.06-2.06.94zm10 10l.94 2.06.94-2.06 2.06-.94-2.06-.94-.94-2.06-.94 2.06-2.06.94z\"/><path d=\"M17.41 7.96l-1.37-1.37c-.4-.4-.92-.59-1.43-.59-.52 0-1.04.2-1.43.59L10.3 9.45l-7.72 7.72c-.78.78-.78 2.05 0 2.83L4 21.41c.39.39.9.59 1.41.59.51 0 1.02-.2 1.41-.59l7.78-7.78 2.81-2.81c.8-.78.8-2.07 0-2.86zM5.41 20L4 18.59l7.72-7.72 1.47 1.35L5.41 20z\"/>\n",
              "  </svg>\n",
              "      </button>\n",
              "      \n",
              "  <style>\n",
              "    .colab-df-container {\n",
              "      display:flex;\n",
              "      flex-wrap:wrap;\n",
              "      gap: 12px;\n",
              "    }\n",
              "\n",
              "    .colab-df-convert {\n",
              "      background-color: #E8F0FE;\n",
              "      border: none;\n",
              "      border-radius: 50%;\n",
              "      cursor: pointer;\n",
              "      display: none;\n",
              "      fill: #1967D2;\n",
              "      height: 32px;\n",
              "      padding: 0 0 0 0;\n",
              "      width: 32px;\n",
              "    }\n",
              "\n",
              "    .colab-df-convert:hover {\n",
              "      background-color: #E2EBFA;\n",
              "      box-shadow: 0px 1px 2px rgba(60, 64, 67, 0.3), 0px 1px 3px 1px rgba(60, 64, 67, 0.15);\n",
              "      fill: #174EA6;\n",
              "    }\n",
              "\n",
              "    [theme=dark] .colab-df-convert {\n",
              "      background-color: #3B4455;\n",
              "      fill: #D2E3FC;\n",
              "    }\n",
              "\n",
              "    [theme=dark] .colab-df-convert:hover {\n",
              "      background-color: #434B5C;\n",
              "      box-shadow: 0px 1px 3px 1px rgba(0, 0, 0, 0.15);\n",
              "      filter: drop-shadow(0px 1px 2px rgba(0, 0, 0, 0.3));\n",
              "      fill: #FFFFFF;\n",
              "    }\n",
              "  </style>\n",
              "\n",
              "      <script>\n",
              "        const buttonEl =\n",
              "          document.querySelector('#df-71d675e7-d246-492e-86a0-abb616ba5ac6 button.colab-df-convert');\n",
              "        buttonEl.style.display =\n",
              "          google.colab.kernel.accessAllowed ? 'block' : 'none';\n",
              "\n",
              "        async function convertToInteractive(key) {\n",
              "          const element = document.querySelector('#df-71d675e7-d246-492e-86a0-abb616ba5ac6');\n",
              "          const dataTable =\n",
              "            await google.colab.kernel.invokeFunction('convertToInteractive',\n",
              "                                                     [key], {});\n",
              "          if (!dataTable) return;\n",
              "\n",
              "          const docLinkHtml = 'Like what you see? Visit the ' +\n",
              "            '<a target=\"_blank\" href=https://colab.research.google.com/notebooks/data_table.ipynb>data table notebook</a>'\n",
              "            + ' to learn more about interactive tables.';\n",
              "          element.innerHTML = '';\n",
              "          dataTable['output_type'] = 'display_data';\n",
              "          await google.colab.output.renderOutput(dataTable, element);\n",
              "          const docLink = document.createElement('div');\n",
              "          docLink.innerHTML = docLinkHtml;\n",
              "          element.appendChild(docLink);\n",
              "        }\n",
              "      </script>\n",
              "    </div>\n",
              "  </div>\n",
              "  "
            ]
          },
          "metadata": {},
          "execution_count": 17
        }
      ],
      "source": [
        "# WRITE SUBMISSION FILE\n",
        "test = pd.DataFrame(index=customers,data={'prediction': np.concatenate(test_preds)})\n",
        "sub = pd.read_csv('sample_submission.csv')[['customer_ID']]\n",
        "sub['customer_ID_hash'] = sub['customer_ID'].copy()\n",
        "sub = sub.set_index('customer_ID_hash')\n",
        "sub = sub.merge(test[['prediction']], left_index=True, right_index=True, how='left')\n",
        "sub = sub.reset_index(drop=True)\n",
        "\n",
        "# DISPLAY PREDICTIONS\n",
        "sub.to_csv(f'submission_lgb_v1_seed{CFG.seed}_fold{CFG.n_folds}.csv',index=False)\n",
        "print('Submission file shape is', sub.shape )\n",
        "sub.head()"
      ]
    },
    {
      "cell_type": "code",
      "execution_count": null,
      "metadata": {
        "execution": {
          "iopub.execute_input": "2022-07-15T16:51:02.918871Z",
          "iopub.status.busy": "2022-07-15T16:51:02.918494Z",
          "iopub.status.idle": "2022-07-15T16:51:03.267833Z",
          "shell.execute_reply": "2022-07-15T16:51:03.266949Z"
        },
        "papermill": {
          "duration": 0.374502,
          "end_time": "2022-07-15T16:51:03.269960",
          "exception": false,
          "start_time": "2022-07-15T16:51:02.895458",
          "status": "completed"
        },
        "tags": [],
        "id": "533e5941",
        "outputId": "5a6f8ce4-a796-4920-8e3b-7f2d87a4ea3c",
        "colab": {
          "base_uri": "https://localhost:8080/",
          "height": 281
        }
      },
      "outputs": [
        {
          "output_type": "display_data",
          "data": {
            "text/plain": [
              "<Figure size 432x288 with 1 Axes>"
            ],
            "image/png": "[encoded data removed]"
          },
          "metadata": {
            "needs_background": "light"
          }
        }
      ],
      "source": [
        "# PLOT PREDICTIONS\n",
        "import matplotlib.pyplot as plt\n",
        "plt.hist(sub.prediction, bins=100)\n",
        "plt.title('Test Predictions')\n",
        "plt.show()"
      ]
    },
    {
      "cell_type": "markdown",
      "source": [
        "# Prediction"
      ],
      "metadata": {
        "papermill": {
          "duration": 0.00263,
          "end_time": "2022-06-19T23:15:39.870669",
          "exception": false,
          "start_time": "2022-06-19T23:15:39.868039",
          "status": "completed"
        },
        "tags": [],
        "pycharm": {
          "name": "#%% md\n"
        },
        "id": "ofomkRituzly"
      }
    },
    {
      "cell_type": "code",
      "source": [
        "# Submit\n",
        "!kaggle competitions submit -c amex-default-prediction -f submission_lgb_v1_seed42_fold5.csv -m \"the first version. fe lag plus seed 52 fold 5 From colab\""
      ],
      "metadata": {
        "id": "A6OIgRv0CD76",
        "outputId": "98b94a37-553c-4c70-a92f-f6d321517541",
        "colab": {
          "base_uri": "https://localhost:8080/"
        }
      },
      "execution_count": null,
      "outputs": [
        {
          "output_type": "stream",
          "name": "stdout",
          "text": [
            "100% 75.4M/75.4M [00:03<00:00, 23.8MB/s]\n",
            "Successfully submitted to American Express - Default Prediction"
          ]
        }
      ]
    },
    {
      "cell_type": "code",
      "source": [
        "!kaggle competitions submissions amex-default-prediction"
      ],
      "metadata": {
        "papermill": {
          "duration": 7.116467,
          "end_time": "2022-06-19T23:15:46.98989",
          "exception": false,
          "start_time": "2022-06-19T23:15:39.873423",
          "status": "completed"
        },
        "tags": [],
        "pycharm": {
          "name": "#%%\n"
        },
        "execution": {
          "iopub.status.busy": "2022-07-15T15:26:18.979284Z",
          "iopub.status.idle": "2022-07-15T15:26:18.979914Z",
          "shell.execute_reply.started": "2022-07-15T15:26:18.979701Z",
          "shell.execute_reply": "2022-07-15T15:26:18.979723Z"
        },
        "trusted": true,
        "id": "Ik1UoN1Auzly",
        "outputId": "b87c882b-c9e5-48a6-9d4c-9a41f00bc3a3",
        "colab": {
          "base_uri": "https://localhost:8080/"
        }
      },
      "execution_count": null,
      "outputs": [
        {
          "output_type": "stream",
          "name": "stdout",
          "text": [
            "fileName                            date                 description                                               status    publicScore  privateScore  \n",
            "----------------------------------  -------------------  --------------------------------------------------------  --------  -----------  ------------  \n",
            "submission_lgb_v1_seed42_fold5.csv  2022-07-28 12:43:40  the first version. fe lag plus seed 52 fold 5 From colab  complete  0.798                      \n",
            "submission_lgb_v1_seed42_fold5.csv  2022-07-28 05:46:49  the first version. fe lag plus seed 52 fold 5 From colab  complete  0.798                      \n",
            "submission_xgb_v6_seed42_fold5.csv  2022-07-27 14:21:18  Run with (last - first) / s_2 seed 42 fold 5              complete  0.796                      \n",
            "submission_cat_v1_seed42_fold5.csv  2022-07-27 09:46:57  Run with seed 42 fold 5 last / s2                         complete  0.796                      \n",
            "submission_cat_v1_seed42_fold5.csv  2022-07-27 06:08:24  From colab seed 42 fold 5 lag plus                        complete  0.794                      \n",
            "submission_xgb_v5_seed42_fold5.csv  2022-07-27 02:53:07  xgb fold 5 seed 42 last / s2 lag                          complete  0.796                      \n",
            "submission_xgb_v1_seed42_fold5.csv  2022-07-26 16:34:13  From colab seed 42 fold 5 lag plus                        complete  0.795                      \n",
            "Amex Default Prediction - Ensemble  2022-07-26 16:18:30  Notebook Amex Default Prediction - Ensemble | Version 24  complete  0.798                      \n",
            "Amex Default Prediction - Ensemble  2022-07-26 15:17:31  Notebook Amex Default Prediction - Ensemble | Version 23  complete  0.798                      \n",
            "submission_xgb_v1_seed42_fold5.csv  2022-07-26 14:59:19  From colab seed 42 fold 5 lag plus                        complete  0.795                      \n",
            "submission_cat_v1_seed42_fold5.csv  2022-07-26 13:10:11  From colab seed 42 fold 5 lag plus                        complete  0.796                      \n",
            "Amex Default Prediction - Ensemble  2022-07-25 18:21:01  Notebook Amex Default Prediction - Ensemble | Version 22  complete  0.799                      \n",
            "submission_cat_v1_seed42_fold5.csv  2022-07-25 18:15:57  From colab seed 42 fold 5 lag plus                        complete  0.796                      \n",
            "Amex Default Prediction - Ensemble  2022-07-24 15:56:24  Notebook Amex Default Prediction - Ensemble | Version 20  complete  0.759                      \n",
            "Amex Default Prediction - Ensemble  2022-07-24 15:55:05  Notebook Amex Default Prediction - Ensemble | Version 19  complete  0.745                      \n",
            "Amex Default Prediction - Ensemble  2022-07-24 14:26:44  Notebook Amex Default Prediction - Ensemble | Version 16  complete  0.798                      \n",
            "Amex Default Prediction - Ensemble  2022-07-24 14:22:52  Notebook Amex Default Prediction - Ensemble | Version 15  complete  0.798                      \n",
            "submission_cat_v1_seed42_fold5.csv  2022-07-24 13:58:18  Run with round 2 cat                                      complete  0.796                      \n",
            "submission_lgb_v1_seed42_fold5.csv  2022-07-23 16:48:14  the first version. fe lag plus seed 52 fold 5 From colab  complete  0.797                      \n",
            "Amex Default Prediction - Ensemble  2022-07-23 11:15:04  Notebook Amex Default Prediction - Ensemble | Version 14  complete  0.798                      \n",
            "Amex Default Prediction - Ensemble  2022-07-23 11:08:12  Notebook Amex Default Prediction - Ensemble | Version 13  complete  0.798                      \n",
            "submission_xgb_v1_seed42_fold5.csv  2022-07-23 10:58:31  From colab seed 42 fold 5 lag plus                        complete  0.795                      \n",
            "submission_cat_v1_seed42_fold5.csv  2022-07-23 09:53:21  From colab seed 42 fold 5 lag plus                        complete  0.796                      \n",
            "Amex Default Prediction - Ensemble  2022-07-22 12:32:58  Notebook Amex Default Prediction - Ensemble | Version 12  complete  0.798                      \n",
            "Amex Default Prediction - Ensemble  2022-07-22 12:30:01  Notebook Amex Default Prediction - Ensemble | Version 11  complete  0.798                      \n",
            "submission_xgb_v1_seed42_fold2.csv  2022-07-22 12:19:29  From colab seed 42 fold 5 lag plus                        complete  0.794                      \n",
            "Amex Default Prediction - Ensemble  2022-07-21 12:48:16  Notebook Amex Default Prediction - Ensemble | Version 9   complete  0.798                      \n",
            "submission_xgb_v1_seed42_fold5.csv  2022-07-21 12:36:23  From colab seed 42 fold 5 lag plus                        complete  0.794                      \n",
            "Amex Default Prediction - Ensemble  2022-07-20 17:29:34  Notebook Amex Default Prediction - Ensemble | Version 8   complete  0.798                      \n",
            "Amex Default Prediction - Ensemble  2022-07-20 17:13:37  Notebook Amex Default Prediction - Ensemble | Version 7   complete  0.798                      \n",
            "Amex Default Prediction - Ensemble  2022-07-20 17:10:16  Notebook Amex Default Prediction - Ensemble | Version 6   complete  0.798                      \n",
            "Amex Default Prediction - Ensemble  2022-07-20 17:08:15  Notebook Amex Default Prediction - Ensemble | Version 5   complete  0.798                      \n",
            "submission_xgb_v1_seed42_fold5.csv  2022-07-20 16:58:31  From colab seed 42 fold 5 lag plus                        complete  0.794                      \n",
            "submission_cat_v1_seed42_fold5.csv  2022-07-19 17:31:52  From colab seed 42 fold 5 lag plus                        complete  0.795                      \n",
            "Amex Default Prediction - Ensemble  2022-07-19 16:37:40  Notebook Amex Default Prediction - Ensemble | Version 4   complete  0.798                      \n",
            "Amex Default Prediction - Ensemble  2022-07-19 16:34:17  Notebook Amex Default Prediction - Ensemble | Version 2   complete  0.798                      \n",
            "submission_cat_v1_seed42_fold5.csv  2022-07-19 12:11:59  From colab seed 42 fold 5 lag plus                        complete  0.795                      \n",
            "Amex Default Prediction with Cat    2022-07-18 23:01:33  Notebook Amex Default Prediction with Cat | Version 129   complete  0.798                      \n",
            "Amex Default Prediction with Cat    2022-07-18 22:58:51  Notebook Amex Default Prediction with Cat | Version 128   complete  0.798                      \n",
            "submission_cat_v1_seed42_fold5.csv  2022-07-18 22:27:50  From colab seed 42 fold 5 lag plus                        complete  0.795                      \n",
            "submission_lgb_v1_seed42_fold5.csv  2022-07-18 20:37:22  the first version. fe lag plus seed 52 fold 5 From colab  complete  0.797                      \n",
            "submission_cat_v1.csv               2022-07-18 06:30:57  From colab seed 42 fold 5 lag plus                        complete  0.795                      \n",
            "Amex Default Prediction with Cat    2022-07-16 16:14:20  Notebook Amex Default Prediction with Cat | Version 125   complete  0.794                      \n",
            "Amex Default Prediction with Cat    2022-07-15 16:33:32  Notebook Amex Default Prediction with Cat | Version 127   complete  0.798                      \n",
            "Amex Default Prediction with Cat    2022-07-15 16:24:25  Notebook Amex Default Prediction with Cat | Version 126   complete  0.798                      \n",
            "submission_cat_v123_seed52_794.csv  2022-07-15 16:12:09                                                            complete  0.795                      \n",
            "submission_cat_v123_0794.csv        2022-07-15 15:47:08                                                            complete  0.795                      \n",
            "Amex Default Prediction with Cat    2022-07-15 13:53:07  Notebook Amex Default Prediction with Cat | Version 123   complete  0.798                      \n",
            "Amex Default Prediction with Cat    2022-07-12 10:17:49  Notebook Amex Default Prediction with Cat | Version 122   complete  0.794                      \n",
            "Amex Default Prediction with Cat    2022-07-11 16:41:48  Notebook Amex Default Prediction with Cat | Version 119   complete  0.794                      \n"
          ]
        }
      ]
    }
  ]
}
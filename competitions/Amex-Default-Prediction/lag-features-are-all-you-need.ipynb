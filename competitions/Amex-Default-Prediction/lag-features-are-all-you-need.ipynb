{
  "metadata": {
    "kernelspec": {
      "language": "python",
      "display_name": "Python 3",
      "name": "python3"
    },
    "language_info": {
      "pygments_lexer": "ipython3",
      "nbconvert_exporter": "python",
      "version": "3.6.4",
      "file_extension": ".py",
      "codemirror_mode": {
        "name": "ipython",
        "version": 3
      },
      "name": "python",
      "mimetype": "text/x-python"
    },
    "colab": {
      "name": "lag-features-are-all-you-need.ipynb",
      "provenance": [],
      "machine_shape": "hm"
    },
    "gpuClass": "standard",
    "accelerator": "TPU"
  },
  "nbformat_minor": 0,
  "nbformat": 4,
  "cells": [
    {
      "cell_type": "markdown",
      "source": [
        "# Preparing for colab"
      ],
      "metadata": {
        "id": "whFMYLB1u7rD"
      }
    },
    {
      "cell_type": "code",
      "source": [
        "!pip install kaggle"
      ],
      "metadata": {
        "id": "MwbPTJbLu1oU",
        "outputId": "6fe9e8aa-7f3d-4539-d95d-36a25f751f40",
        "colab": {
          "base_uri": "https://localhost:8080/"
        }
      },
      "execution_count": null,
      "outputs": [
        {
          "output_type": "stream",
          "name": "stdout",
          "text": [
            "Looking in indexes: https://pypi.org/simple, https://us-python.pkg.dev/colab-wheels/public/simple/\n",
            "Requirement already satisfied: kaggle in /usr/local/lib/python3.7/dist-packages (1.5.12)\n",
            "Requirement already satisfied: requests in /usr/local/lib/python3.7/dist-packages (from kaggle) (2.23.0)\n",
            "Requirement already satisfied: certifi in /usr/local/lib/python3.7/dist-packages (from kaggle) (2022.6.15)\n",
            "Requirement already satisfied: python-slugify in /usr/local/lib/python3.7/dist-packages (from kaggle) (6.1.2)\n",
            "Requirement already satisfied: urllib3 in /usr/local/lib/python3.7/dist-packages (from kaggle) (1.24.3)\n",
            "Requirement already satisfied: python-dateutil in /usr/local/lib/python3.7/dist-packages (from kaggle) (2.8.2)\n",
            "Requirement already satisfied: six>=1.10 in /usr/local/lib/python3.7/dist-packages (from kaggle) (1.15.0)\n",
            "Requirement already satisfied: tqdm in /usr/local/lib/python3.7/dist-packages (from kaggle) (4.64.0)\n",
            "Requirement already satisfied: text-unidecode>=1.3 in /usr/local/lib/python3.7/dist-packages (from python-slugify->kaggle) (1.3)\n",
            "Requirement already satisfied: idna<3,>=2.5 in /usr/local/lib/python3.7/dist-packages (from requests->kaggle) (2.10)\n",
            "Requirement already satisfied: chardet<4,>=3.0.2 in /usr/local/lib/python3.7/dist-packages (from requests->kaggle) (3.0.4)\n"
          ]
        }
      ]
    },
    {
      "cell_type": "code",
      "source": [
        "from google.colab import drive\n",
        "drive.mount('/content/drive')\n",
        "\n",
        "# Then move kaggle.json into the folder where the API expects to find it.\n",
        "!mkdir -p ~/.kaggle/ && cp /content/drive/MyDrive/backups/kaggle.json ~/.kaggle/ && chmod 600 ~/.kaggle/kaggle.json"
      ],
      "metadata": {
        "id": "Lx3ZHpcHvLK0",
        "outputId": "90b33a49-1e36-40a7-d764-5e7873dbb0b9",
        "colab": {
          "base_uri": "https://localhost:8080/"
        }
      },
      "execution_count": null,
      "outputs": [
        {
          "output_type": "stream",
          "name": "stdout",
          "text": [
            "Mounted at /content/drive\n"
          ]
        }
      ]
    },
    {
      "cell_type": "code",
      "source": [
        "!kaggle competitions download -c amex-default-prediction -f sample_submission.csv\n",
        "!unzip /content/sample_submission.csv.zip"
      ],
      "metadata": {
        "id": "jeIvlVN0vQ08",
        "outputId": "80898686-8e4c-445c-be23-b680cb0e75b1",
        "colab": {
          "base_uri": "https://localhost:8080/"
        }
      },
      "execution_count": null,
      "outputs": [
        {
          "output_type": "stream",
          "name": "stdout",
          "text": [
            "Downloading sample_submission.csv.zip to /content\n",
            "\r  0% 0.00/32.4M [00:00<?, ?B/s]\r 25% 8.00M/32.4M [00:00<00:00, 83.0MB/s]\r 96% 31.0M/32.4M [00:00<00:00, 174MB/s] \n",
            "\r100% 32.4M/32.4M [00:00<00:00, 164MB/s]\n",
            "Archive:  /content/sample_submission.csv.zip\n",
            "  inflating: sample_submission.csv   \n"
          ]
        }
      ]
    },
    {
      "cell_type": "code",
      "source": [
        "!kaggle competitions download -c amex-default-prediction -f train_labels.csv\n",
        "!unzip /content/train_labels.csv.zip"
      ],
      "metadata": {
        "id": "PfGNoPMDxoPk",
        "outputId": "f792cd43-0837-498a-910d-cbf2b06846be",
        "colab": {
          "base_uri": "https://localhost:8080/"
        }
      },
      "execution_count": null,
      "outputs": [
        {
          "output_type": "stream",
          "name": "stdout",
          "text": [
            "Downloading train_labels.csv.zip to /content\n",
            "\r  0% 0.00/16.2M [00:00<?, ?B/s]\r 56% 9.00M/16.2M [00:00<00:00, 87.6MB/s]\n",
            "\r100% 16.2M/16.2M [00:00<00:00, 129MB/s] \n",
            "Archive:  /content/train_labels.csv.zip\n",
            "  inflating: train_labels.csv        \n"
          ]
        }
      ]
    },
    {
      "cell_type": "markdown",
      "source": [
        "# Training & Inference"
      ],
      "metadata": {
        "papermill": {
          "duration": 0.002398,
          "end_time": "2022-06-19T23:15:37.946621",
          "exception": false,
          "start_time": "2022-06-19T23:15:37.944223",
          "status": "completed"
        },
        "tags": [],
        "pycharm": {
          "name": "#%% md\n"
        },
        "id": "672r-QJMuzlw"
      }
    },
    {
      "cell_type": "code",
      "source": [
        "!kaggle datasets download -d ryuina/amex-fe-plus3\n",
        "!unzip /content/amex-fe-plus3.zip"
      ],
      "metadata": {
        "id": "C2Kqq_4l7Am1",
        "outputId": "baf09ce1-ca31-4eb1-cb56-f3ceff320d12",
        "colab": {
          "base_uri": "https://localhost:8080/"
        }
      },
      "execution_count": null,
      "outputs": [
        {
          "output_type": "stream",
          "name": "stdout",
          "text": [
            "Downloading amex-fe-plus3.zip to /content\n",
            "100% 3.45G/3.46G [00:32<00:00, 130MB/s]\n",
            "100% 3.46G/3.46G [00:32<00:00, 116MB/s]\n",
            "Archive:  /content/amex-fe-plus3.zip\n",
            "  inflating: test_fe_plus_plus.parquet  \n",
            "  inflating: train_fe_plus_plus.parquet  \n"
          ]
        }
      ]
    },
    {
      "cell_type": "code",
      "source": [
        "# ====================================================\n",
        "# Library\n",
        "# ====================================================\n",
        "import os\n",
        "import gc; gc.enable()\n",
        "import joblib\n",
        "import pickle\n",
        "import random\n",
        "import warnings\n",
        "import itertools\n",
        "import scipy as sp\n",
        "import numpy as np\n",
        "import pandas as pd\n",
        "from tqdm import tqdm\n",
        "import xgboost as xgb\n",
        "import lightgbm as lgb\n",
        "warnings.filterwarnings('ignore')\n",
        "from itertools import combinations\n",
        "pd.set_option('display.width', 1000)\n",
        "pd.set_option('display.max_rows', 500)\n",
        "pd.set_option('display.max_columns', 500)\n",
        "from sklearn.preprocessing import LabelEncoder\n",
        "from sklearn.model_selection import StratifiedKFold, train_test_split\n",
        "\n",
        "class CFG:\n",
        "    input_dir = '/content/'\n",
        "    seed = 42\n",
        "    n_folds = 5\n",
        "    target = 'target'\n",
        "\n",
        "def seed_everything(seed):\n",
        "    random.seed(seed)\n",
        "    np.random.seed(seed)\n",
        "    os.environ['PYTHONHASHSEED'] = str(seed)\n",
        "\n",
        "def read_data():\n",
        "    train = pd.read_parquet(CFG.input_dir + 'train_fe_plus_plus.parquet')\n",
        "    test = pd.read_parquet(CFG.input_dir + 'test_fe_plus_plus.parquet')\n",
        "    return train, test\n",
        "\n",
        "def amex_metric(y_true, y_pred):\n",
        "    labels = np.transpose(np.array([y_true, y_pred]))\n",
        "    labels = labels[labels[:, 1].argsort()[::-1]]\n",
        "    weights = np.where(labels[:,0]==0, 20, 1)\n",
        "    cut_vals = labels[np.cumsum(weights) <= int(0.04 * np.sum(weights))]\n",
        "    top_four = np.sum(cut_vals[:,0]) / np.sum(labels[:,0])\n",
        "    gini = [0,0]\n",
        "    for i in [1,0]:\n",
        "        labels = np.transpose(np.array([y_true, y_pred]))\n",
        "        labels = labels[labels[:, i].argsort()[::-1]]\n",
        "        weight = np.where(labels[:,0]==0, 20, 1)\n",
        "        weight_random = np.cumsum(weight / np.sum(weight))\n",
        "        total_pos = np.sum(labels[:, 0] *  weight)\n",
        "        cum_pos_found = np.cumsum(labels[:, 0] * weight)\n",
        "        lorentz = cum_pos_found / total_pos\n",
        "        gini[i] = np.sum((lorentz - weight_random) * weight)\n",
        "    return 0.5 * (gini[1]/gini[0] + top_four)\n",
        "\n",
        "def amex_metric_np(preds, target):\n",
        "    indices = np.argsort(preds)[::-1]\n",
        "    preds, target = preds[indices], target[indices]\n",
        "    weight = 20.0 - target * 19.0\n",
        "    cum_norm_weight = (weight / weight.sum()).cumsum()\n",
        "    four_pct_mask = cum_norm_weight <= 0.04\n",
        "    d = np.sum(target[four_pct_mask]) / np.sum(target)\n",
        "    weighted_target = target * weight\n",
        "    lorentz = (weighted_target / weighted_target.sum()).cumsum()\n",
        "    gini = ((lorentz - cum_norm_weight) * weight).sum()\n",
        "    n_pos = np.sum(target)\n",
        "    n_neg = target.shape[0] - n_pos\n",
        "    gini_max = 10 * n_neg * (n_pos + 20 * n_neg - 19) / (n_pos + 20 * n_neg)\n",
        "    g = gini / gini_max\n",
        "    return 0.5 * (g + d)"
      ],
      "metadata": {
        "papermill": {
          "duration": 1.91354,
          "end_time": "2022-06-19T23:15:39.862701",
          "exception": false,
          "start_time": "2022-06-19T23:15:37.949161",
          "status": "completed"
        },
        "tags": [],
        "pycharm": {
          "name": "#%%\n"
        },
        "execution": {
          "iopub.status.busy": "2022-07-15T15:26:18.975287Z",
          "iopub.status.idle": "2022-07-15T15:26:18.975786Z",
          "shell.execute_reply.started": "2022-07-15T15:26:18.975552Z",
          "shell.execute_reply": "2022-07-15T15:26:18.975573Z"
        },
        "trusted": true,
        "id": "15l0MOvouzlw"
      },
      "execution_count": null,
      "outputs": []
    },
    {
      "cell_type": "markdown",
      "source": [
        "### Training LightGBM (DART) Model\n",
        "\n",
        "- Final predictions output uploaded as a public dataset. "
      ],
      "metadata": {
        "id": "64hhK5K2uzlx"
      }
    },
    {
      "cell_type": "code",
      "source": [
        "seed_everything(CFG.seed)\n",
        "train, test = read_data()"
      ],
      "metadata": {
        "id": "kFQsUkTpemrU"
      },
      "execution_count": null,
      "outputs": []
    },
    {
      "cell_type": "code",
      "source": [
        "# Label encode categorical features\n",
        "cat_features = [\n",
        "    \"B_30\",\n",
        "    \"B_38\",\n",
        "    \"D_114\",\n",
        "    \"D_116\",\n",
        "    \"D_117\",\n",
        "    \"D_120\",\n",
        "    \"D_126\",\n",
        "    \"D_63\",\n",
        "    \"D_64\",\n",
        "    \"D_66\",\n",
        "    \"D_68\"\n",
        "]\n",
        "cat_features = [f\"{cf}_last\" for cf in cat_features]\n",
        "for cat_col in cat_features:\n",
        "    encoder = LabelEncoder()\n",
        "    train[cat_col] = encoder.fit_transform(train[cat_col])\n",
        "    test[cat_col] = encoder.transform(test[cat_col])\n",
        "\n",
        "# Round last float features to 2 decimal place\n",
        "num_cols = list(train.dtypes[(train.dtypes == 'float32') | (train.dtypes == 'float64')].index)\n",
        "num_cols = [col for col in num_cols if 'last' in col]\n",
        "for col in num_cols:\n",
        "    train[col + '_round2'] = train[col].round(2)\n",
        "    test[col + '_round2'] = test[col].round(2)\n",
        "\n",
        "# num_cols = [col for col in train.columns if 'last' in col]\n",
        "# num_cols = [col[:-5] for col in num_cols if 'round' not in col]\n",
        "# for col in num_cols:\n",
        "#     try:\n",
        "#         train[f'{col}_max-last'] = train[f'{col}_max'] - train[f'{col}_last']\n",
        "#         test[f'{col}_max-last'] = test[f'{col}_max'] - test[f'{col}_last']\n",
        "\n",
        "#         train[f'{col}_mean_min'] = train[f'{col}mean'] - train[f'{col}_min']\n",
        "#         test[f'{col}_mean_min'] = test[f'{col}_mean'] - test[f'{col}_min']\n",
        "\n",
        "#         train[f'{col}_last_mean'] = train[f'{col}_last'] - train[f'{col}_mean']\n",
        "#         test[f'{col}_last_mean'] = test[f'{col}_last'] - test[f'{col}_mean']\n",
        "#     except: pass\n",
        "\n",
        "num_cols = list(train.dtypes[(train.dtypes == 'float32') | (train.dtypes == 'float64')].index)\n",
        "for col in tqdm(num_cols):\n",
        "    train[col] = train[col].astype(np.float16)\n",
        "    test[col] = test[col].astype(np.float16)\n",
        "\n",
        "# Get feature list\n",
        "features = [col for col in train.columns if col not in ['customer_ID', CFG.target]]"
      ],
      "metadata": {
        "id": "3apqtSQzbZG1",
        "outputId": "6491bf57-37d9-4d4f-c3da-d0cfd8d8bef0",
        "colab": {
          "base_uri": "https://localhost:8080/"
        }
      },
      "execution_count": null,
      "outputs": [
        {
          "output_type": "stream",
          "name": "stderr",
          "text": [
            "100%|██████████| 1182/1182 [10:59<00:00,  1.79it/s]\n"
          ]
        }
      ]
    },
    {
      "cell_type": "code",
      "source": [
        "params = {\n",
        "    'objective': 'binary',\n",
        "    'metric': \"binary_logloss\",\n",
        "    'boosting': 'dart',\n",
        "    'seed': CFG.seed,\n",
        "    'num_leaves': 100,\n",
        "    'learning_rate': 0.02,\n",
        "    'feature_fraction': 0.20,\n",
        "    'bagging_freq': 10,\n",
        "    'bagging_fraction': 0.50,\n",
        "    'n_jobs': -1,\n",
        "    'lambda_l2': 2,\n",
        "    'min_data_in_leaf': 40,\n",
        "    # 'device_type': 'gpu'\n",
        "    }"
      ],
      "metadata": {
        "id": "S00nxuAZbdBP"
      },
      "execution_count": null,
      "outputs": []
    },
    {
      "cell_type": "code",
      "source": [
        "def lgb_amex_metric(y_pred, y_true):\n",
        "    y_true = y_true.get_label()\n",
        "    return 'amex_metric', amex_metric(y_true, y_pred), True\n",
        "\n",
        "def train_and_evaluate(train):\n",
        "    # Create a numpy array to store out of folds predictions\n",
        "    oof_predictions = np.zeros(len(train))\n",
        "    kfold = StratifiedKFold(n_splits = CFG.n_folds, shuffle = True, random_state = CFG.seed)\n",
        "    for fold, (trn_ind, val_ind) in enumerate(kfold.split(train, train[CFG.target])):\n",
        "        print(' ')\n",
        "        print('-'*50)\n",
        "        print(f'Training fold {fold} with {len(features)} features...')\n",
        "        x_train, x_val = train[features].iloc[trn_ind], train[features].iloc[val_ind]\n",
        "        y_train, y_val = train[CFG.target].iloc[trn_ind], train[CFG.target].iloc[val_ind]\n",
        "        lgb_train = lgb.Dataset(x_train, y_train, categorical_feature = cat_features)\n",
        "        lgb_valid = lgb.Dataset(x_val, y_val, categorical_feature = cat_features)\n",
        "        model = lgb.train(\n",
        "            params = params,\n",
        "            train_set = lgb_train,\n",
        "            num_boost_round = 10500,\n",
        "            valid_sets = [lgb_train, lgb_valid],\n",
        "            early_stopping_rounds = 100,\n",
        "            verbose_eval = 500,\n",
        "            feval = lgb_amex_metric\n",
        "            )\n",
        "        # Save best model\n",
        "        joblib.dump(model, f'lgbm_fold{fold}_seed{CFG.seed}.pkl')\n",
        "        # Predict validation\n",
        "        val_pred = model.predict(x_val)\n",
        "        # Add to out of folds array\n",
        "        oof_predictions[val_ind] = val_pred\n",
        "\n",
        "        # Compute fold metric\n",
        "        score = amex_metric(y_val, val_pred)\n",
        "        print(f'Our fold {fold} CV score is {score}')\n",
        "        del x_train, x_val, y_train, y_val, lgb_train, lgb_valid, model\n",
        "        gc.collect()\n",
        "    # Compute out of folds metric\n",
        "    score = amex_metric(train[CFG.target], oof_predictions)\n",
        "    print(f'Our out of folds CV score is {score}')\n",
        "    # Create a dataframe to store out of folds predictions\n",
        "    oof_df = pd.DataFrame({'customer_ID': train['customer_ID'], 'target': train[CFG.target], 'prediction': oof_predictions})\n",
        "    oof_df.to_csv(f'oof_lgbm_baseline_{CFG.n_folds}fold_seed{CFG.seed}.csv', index = False)\n",
        "\n",
        "train_and_evaluate(train)"
      ],
      "metadata": {
        "pycharm": {
          "name": "#%%\n"
        },
        "jupyter": {
          "outputs_hidden": false
        },
        "execution": {
          "iopub.status.busy": "2022-07-15T15:26:18.977741Z",
          "iopub.status.idle": "2022-07-15T15:26:18.978405Z",
          "shell.execute_reply.started": "2022-07-15T15:26:18.978196Z",
          "shell.execute_reply": "2022-07-15T15:26:18.978218Z"
        },
        "trusted": true,
        "id": "9p5Z6PX7uzlx",
        "outputId": "32850af9-e42c-445e-a135-947b2d6ce85c",
        "colab": {
          "base_uri": "https://localhost:8080/"
        }
      },
      "execution_count": null,
      "outputs": [
        {
          "output_type": "stream",
          "name": "stdout",
          "text": [
            " \n",
            "--------------------------------------------------\n",
            "Training fold 0 with 1646 features...\n",
            "[500]\ttraining's binary_logloss: 0.258192\ttraining's amex_metric: 0.789741\tvalid_1's binary_logloss: 0.262553\tvalid_1's amex_metric: 0.780016\n",
            "[1000]\ttraining's binary_logloss: 0.211065\ttraining's amex_metric: 0.817689\tvalid_1's binary_logloss: 0.223788\tvalid_1's amex_metric: 0.792392\n",
            "[1500]\ttraining's binary_logloss: 0.196955\ttraining's amex_metric: 0.837346\tvalid_1's binary_logloss: 0.218162\tvalid_1's amex_metric: 0.796939\n",
            "[2000]\ttraining's binary_logloss: 0.184356\ttraining's amex_metric: 0.856709\tvalid_1's binary_logloss: 0.215214\tvalid_1's amex_metric: 0.798511\n",
            "[2500]\ttraining's binary_logloss: 0.175844\ttraining's amex_metric: 0.871612\tvalid_1's binary_logloss: 0.214224\tvalid_1's amex_metric: 0.799959\n",
            "[3000]\ttraining's binary_logloss: 0.166809\ttraining's amex_metric: 0.886551\tvalid_1's binary_logloss: 0.213329\tvalid_1's amex_metric: 0.801023\n",
            "[3500]\ttraining's binary_logloss: 0.157982\ttraining's amex_metric: 0.901367\tvalid_1's binary_logloss: 0.212776\tvalid_1's amex_metric: 0.802805\n",
            "[4000]\ttraining's binary_logloss: 0.150049\ttraining's amex_metric: 0.915333\tvalid_1's binary_logloss: 0.212472\tvalid_1's amex_metric: 0.803052\n",
            "[4500]\ttraining's binary_logloss: 0.142339\ttraining's amex_metric: 0.928116\tvalid_1's binary_logloss: 0.212384\tvalid_1's amex_metric: 0.803522\n",
            "[5000]\ttraining's binary_logloss: 0.13477\ttraining's amex_metric: 0.93985\tvalid_1's binary_logloss: 0.212335\tvalid_1's amex_metric: 0.803062\n",
            "[5500]\ttraining's binary_logloss: 0.128154\ttraining's amex_metric: 0.949991\tvalid_1's binary_logloss: 0.212369\tvalid_1's amex_metric: 0.802648\n",
            "[6000]\ttraining's binary_logloss: 0.122505\ttraining's amex_metric: 0.957952\tvalid_1's binary_logloss: 0.212365\tvalid_1's amex_metric: 0.802632\n",
            "[6500]\ttraining's binary_logloss: 0.116709\ttraining's amex_metric: 0.965165\tvalid_1's binary_logloss: 0.212383\tvalid_1's amex_metric: 0.80229\n",
            "[7000]\ttraining's binary_logloss: 0.110213\ttraining's amex_metric: 0.973095\tvalid_1's binary_logloss: 0.212448\tvalid_1's amex_metric: 0.802107\n",
            "[7500]\ttraining's binary_logloss: 0.104185\ttraining's amex_metric: 0.979775\tvalid_1's binary_logloss: 0.212663\tvalid_1's amex_metric: 0.802251\n",
            "[8000]\ttraining's binary_logloss: 0.0989261\ttraining's amex_metric: 0.984775\tvalid_1's binary_logloss: 0.212892\tvalid_1's amex_metric: 0.801964\n",
            "[8500]\ttraining's binary_logloss: 0.0945235\ttraining's amex_metric: 0.988513\tvalid_1's binary_logloss: 0.213102\tvalid_1's amex_metric: 0.802191\n",
            "Our fold 0 CV score is 0.802190737092255\n",
            " \n",
            "--------------------------------------------------\n",
            "Training fold 1 with 1646 features...\n",
            "[500]\ttraining's binary_logloss: 0.257585\ttraining's amex_metric: 0.792382\tvalid_1's binary_logloss: 0.26422\tvalid_1's amex_metric: 0.770992\n",
            "[1000]\ttraining's binary_logloss: 0.210205\ttraining's amex_metric: 0.818843\tvalid_1's binary_logloss: 0.226443\tvalid_1's amex_metric: 0.78406\n",
            "[1500]\ttraining's binary_logloss: 0.196049\ttraining's amex_metric: 0.838452\tvalid_1's binary_logloss: 0.221122\tvalid_1's amex_metric: 0.788523\n",
            "[2000]\ttraining's binary_logloss: 0.183398\ttraining's amex_metric: 0.858019\tvalid_1's binary_logloss: 0.218651\tvalid_1's amex_metric: 0.790456\n",
            "[2500]\ttraining's binary_logloss: 0.174987\ttraining's amex_metric: 0.873747\tvalid_1's binary_logloss: 0.217844\tvalid_1's amex_metric: 0.792157\n",
            "[3000]\ttraining's binary_logloss: 0.165935\ttraining's amex_metric: 0.888506\tvalid_1's binary_logloss: 0.217088\tvalid_1's amex_metric: 0.792605\n",
            "[3500]\ttraining's binary_logloss: 0.157096\ttraining's amex_metric: 0.902925\tvalid_1's binary_logloss: 0.216727\tvalid_1's amex_metric: 0.793186\n",
            "[4000]\ttraining's binary_logloss: 0.149164\ttraining's amex_metric: 0.916864\tvalid_1's binary_logloss: 0.216505\tvalid_1's amex_metric: 0.792957\n",
            "[4500]\ttraining's binary_logloss: 0.141425\ttraining's amex_metric: 0.929409\tvalid_1's binary_logloss: 0.216486\tvalid_1's amex_metric: 0.793277\n",
            "[5000]\ttraining's binary_logloss: 0.133913\ttraining's amex_metric: 0.940985\tvalid_1's binary_logloss: 0.216497\tvalid_1's amex_metric: 0.793657\n",
            "[5500]\ttraining's binary_logloss: 0.127248\ttraining's amex_metric: 0.949992\tvalid_1's binary_logloss: 0.216503\tvalid_1's amex_metric: 0.79306\n",
            "[6000]\ttraining's binary_logloss: 0.121674\ttraining's amex_metric: 0.958368\tvalid_1's binary_logloss: 0.216655\tvalid_1's amex_metric: 0.793249\n",
            "[6500]\ttraining's binary_logloss: 0.115881\ttraining's amex_metric: 0.965586\tvalid_1's binary_logloss: 0.21677\tvalid_1's amex_metric: 0.793541\n",
            "[7000]\ttraining's binary_logloss: 0.109369\ttraining's amex_metric: 0.973499\tvalid_1's binary_logloss: 0.216965\tvalid_1's amex_metric: 0.792797\n",
            "[7500]\ttraining's binary_logloss: 0.103384\ttraining's amex_metric: 0.980249\tvalid_1's binary_logloss: 0.217184\tvalid_1's amex_metric: 0.792848\n",
            "[8000]\ttraining's binary_logloss: 0.0981208\ttraining's amex_metric: 0.985116\tvalid_1's binary_logloss: 0.217511\tvalid_1's amex_metric: 0.792978\n",
            "[8500]\ttraining's binary_logloss: 0.0937571\ttraining's amex_metric: 0.989219\tvalid_1's binary_logloss: 0.217703\tvalid_1's amex_metric: 0.792981\n",
            "Our fold 1 CV score is 0.7929811756105432\n",
            " \n",
            "--------------------------------------------------\n",
            "Training fold 2 with 1646 features...\n",
            "[500]\ttraining's binary_logloss: 0.257582\ttraining's amex_metric: 0.791028\tvalid_1's binary_logloss: 0.264518\tvalid_1's amex_metric: 0.773914\n",
            "[1000]\ttraining's binary_logloss: 0.21037\ttraining's amex_metric: 0.818662\tvalid_1's binary_logloss: 0.226253\tvalid_1's amex_metric: 0.78863\n",
            "[1500]\ttraining's binary_logloss: 0.196214\ttraining's amex_metric: 0.838473\tvalid_1's binary_logloss: 0.220727\tvalid_1's amex_metric: 0.792686\n",
            "[2000]\ttraining's binary_logloss: 0.183728\ttraining's amex_metric: 0.857522\tvalid_1's binary_logloss: 0.218197\tvalid_1's amex_metric: 0.794143\n",
            "[2500]\ttraining's binary_logloss: 0.175262\ttraining's amex_metric: 0.87291\tvalid_1's binary_logloss: 0.217278\tvalid_1's amex_metric: 0.79489\n",
            "[3000]\ttraining's binary_logloss: 0.166241\ttraining's amex_metric: 0.887781\tvalid_1's binary_logloss: 0.216637\tvalid_1's amex_metric: 0.795158\n",
            "[3500]\ttraining's binary_logloss: 0.157415\ttraining's amex_metric: 0.902625\tvalid_1's binary_logloss: 0.216184\tvalid_1's amex_metric: 0.796043\n",
            "[4000]\ttraining's binary_logloss: 0.149543\ttraining's amex_metric: 0.916157\tvalid_1's binary_logloss: 0.215974\tvalid_1's amex_metric: 0.795943\n",
            "[4500]\ttraining's binary_logloss: 0.141822\ttraining's amex_metric: 0.928627\tvalid_1's binary_logloss: 0.215691\tvalid_1's amex_metric: 0.796429\n",
            "[5000]\ttraining's binary_logloss: 0.134269\ttraining's amex_metric: 0.940475\tvalid_1's binary_logloss: 0.215702\tvalid_1's amex_metric: 0.79555\n",
            "[5500]\ttraining's binary_logloss: 0.127622\ttraining's amex_metric: 0.949882\tvalid_1's binary_logloss: 0.215674\tvalid_1's amex_metric: 0.7958\n",
            "[6000]\ttraining's binary_logloss: 0.122059\ttraining's amex_metric: 0.958316\tvalid_1's binary_logloss: 0.215672\tvalid_1's amex_metric: 0.794792\n",
            "[6500]\ttraining's binary_logloss: 0.116252\ttraining's amex_metric: 0.965409\tvalid_1's binary_logloss: 0.21578\tvalid_1's amex_metric: 0.794787\n",
            "[7000]\ttraining's binary_logloss: 0.109679\ttraining's amex_metric: 0.973394\tvalid_1's binary_logloss: 0.215903\tvalid_1's amex_metric: 0.79448\n",
            "[7500]\ttraining's binary_logloss: 0.103572\ttraining's amex_metric: 0.979787\tvalid_1's binary_logloss: 0.216053\tvalid_1's amex_metric: 0.794514\n",
            "[8000]\ttraining's binary_logloss: 0.098331\ttraining's amex_metric: 0.984817\tvalid_1's binary_logloss: 0.216342\tvalid_1's amex_metric: 0.795763\n",
            "[8500]\ttraining's binary_logloss: 0.0939554\ttraining's amex_metric: 0.988669\tvalid_1's binary_logloss: 0.216449\tvalid_1's amex_metric: 0.795375\n",
            "Our fold 2 CV score is 0.7953747843081885\n",
            " \n",
            "--------------------------------------------------\n",
            "Training fold 3 with 1646 features...\n",
            "[500]\ttraining's binary_logloss: 0.257275\ttraining's amex_metric: 0.791754\tvalid_1's binary_logloss: 0.265587\tvalid_1's amex_metric: 0.767924\n",
            "[1000]\ttraining's binary_logloss: 0.210087\ttraining's amex_metric: 0.81982\tvalid_1's binary_logloss: 0.227427\tvalid_1's amex_metric: 0.782214\n",
            "[1500]\ttraining's binary_logloss: 0.196024\ttraining's amex_metric: 0.839117\tvalid_1's binary_logloss: 0.22177\tvalid_1's amex_metric: 0.786557\n",
            "[2000]\ttraining's binary_logloss: 0.183535\ttraining's amex_metric: 0.858584\tvalid_1's binary_logloss: 0.219013\tvalid_1's amex_metric: 0.788701\n",
            "[2500]\ttraining's binary_logloss: 0.175086\ttraining's amex_metric: 0.87315\tvalid_1's binary_logloss: 0.218196\tvalid_1's amex_metric: 0.788603\n",
            "[3000]\ttraining's binary_logloss: 0.166007\ttraining's amex_metric: 0.888101\tvalid_1's binary_logloss: 0.217385\tvalid_1's amex_metric: 0.790099\n",
            "[3500]\ttraining's binary_logloss: 0.157199\ttraining's amex_metric: 0.902946\tvalid_1's binary_logloss: 0.216824\tvalid_1's amex_metric: 0.791437\n",
            "[4000]\ttraining's binary_logloss: 0.149259\ttraining's amex_metric: 0.916905\tvalid_1's binary_logloss: 0.216524\tvalid_1's amex_metric: 0.792026\n",
            "[4500]\ttraining's binary_logloss: 0.141555\ttraining's amex_metric: 0.929258\tvalid_1's binary_logloss: 0.216251\tvalid_1's amex_metric: 0.791985\n",
            "[5000]\ttraining's binary_logloss: 0.13398\ttraining's amex_metric: 0.940487\tvalid_1's binary_logloss: 0.216152\tvalid_1's amex_metric: 0.792599\n",
            "[5500]\ttraining's binary_logloss: 0.127405\ttraining's amex_metric: 0.950303\tvalid_1's binary_logloss: 0.216181\tvalid_1's amex_metric: 0.79258\n",
            "[6000]\ttraining's binary_logloss: 0.121746\ttraining's amex_metric: 0.958474\tvalid_1's binary_logloss: 0.216332\tvalid_1's amex_metric: 0.792197\n",
            "[6500]\ttraining's binary_logloss: 0.115903\ttraining's amex_metric: 0.966078\tvalid_1's binary_logloss: 0.216301\tvalid_1's amex_metric: 0.792223\n",
            "[7000]\ttraining's binary_logloss: 0.109412\ttraining's amex_metric: 0.973469\tvalid_1's binary_logloss: 0.216505\tvalid_1's amex_metric: 0.792548\n",
            "[7500]\ttraining's binary_logloss: 0.103399\ttraining's amex_metric: 0.980022\tvalid_1's binary_logloss: 0.216695\tvalid_1's amex_metric: 0.792844\n",
            "[8000]\ttraining's binary_logloss: 0.0981879\ttraining's amex_metric: 0.98506\tvalid_1's binary_logloss: 0.216893\tvalid_1's amex_metric: 0.792915\n",
            "[8500]\ttraining's binary_logloss: 0.0937687\ttraining's amex_metric: 0.98896\tvalid_1's binary_logloss: 0.217023\tvalid_1's amex_metric: 0.792642\n",
            "Our fold 3 CV score is 0.7926416652251185\n",
            " \n",
            "--------------------------------------------------\n",
            "Training fold 4 with 1646 features...\n",
            "[500]\ttraining's binary_logloss: 0.257856\ttraining's amex_metric: 0.791143\tvalid_1's binary_logloss: 0.263777\tvalid_1's amex_metric: 0.773855\n",
            "[1000]\ttraining's binary_logloss: 0.210741\ttraining's amex_metric: 0.818478\tvalid_1's binary_logloss: 0.225156\tvalid_1's amex_metric: 0.78711\n",
            "[1500]\ttraining's binary_logloss: 0.196661\ttraining's amex_metric: 0.837621\tvalid_1's binary_logloss: 0.219475\tvalid_1's amex_metric: 0.791744\n",
            "[2000]\ttraining's binary_logloss: 0.184197\ttraining's amex_metric: 0.857181\tvalid_1's binary_logloss: 0.216587\tvalid_1's amex_metric: 0.794732\n",
            "[2500]\ttraining's binary_logloss: 0.175656\ttraining's amex_metric: 0.872389\tvalid_1's binary_logloss: 0.215741\tvalid_1's amex_metric: 0.796109\n",
            "[3000]\ttraining's binary_logloss: 0.166521\ttraining's amex_metric: 0.887045\tvalid_1's binary_logloss: 0.215083\tvalid_1's amex_metric: 0.795506\n",
            "[3500]\ttraining's binary_logloss: 0.157708\ttraining's amex_metric: 0.902256\tvalid_1's binary_logloss: 0.214491\tvalid_1's amex_metric: 0.796568\n",
            "[4000]\ttraining's binary_logloss: 0.149815\ttraining's amex_metric: 0.915961\tvalid_1's binary_logloss: 0.21428\tvalid_1's amex_metric: 0.797321\n",
            "[4500]\ttraining's binary_logloss: 0.142096\ttraining's amex_metric: 0.928524\tvalid_1's binary_logloss: 0.214113\tvalid_1's amex_metric: 0.797844\n",
            "[5000]\ttraining's binary_logloss: 0.134511\ttraining's amex_metric: 0.93977\tvalid_1's binary_logloss: 0.214116\tvalid_1's amex_metric: 0.796977\n",
            "[5500]\ttraining's binary_logloss: 0.12786\ttraining's amex_metric: 0.949714\tvalid_1's binary_logloss: 0.214109\tvalid_1's amex_metric: 0.797057\n",
            "[6000]\ttraining's binary_logloss: 0.122275\ttraining's amex_metric: 0.958218\tvalid_1's binary_logloss: 0.214166\tvalid_1's amex_metric: 0.796316\n",
            "[6500]\ttraining's binary_logloss: 0.116471\ttraining's amex_metric: 0.965134\tvalid_1's binary_logloss: 0.21422\tvalid_1's amex_metric: 0.796294\n",
            "[7000]\ttraining's binary_logloss: 0.10997\ttraining's amex_metric: 0.972956\tvalid_1's binary_logloss: 0.214238\tvalid_1's amex_metric: 0.796753\n",
            "[7500]\ttraining's binary_logloss: 0.103931\ttraining's amex_metric: 0.979824\tvalid_1's binary_logloss: 0.214352\tvalid_1's amex_metric: 0.797053\n",
            "[8000]\ttraining's binary_logloss: 0.0986848\ttraining's amex_metric: 0.984853\tvalid_1's binary_logloss: 0.214476\tvalid_1's amex_metric: 0.797068\n",
            "[8500]\ttraining's binary_logloss: 0.0942848\ttraining's amex_metric: 0.988425\tvalid_1's binary_logloss: 0.214595\tvalid_1's amex_metric: 0.798017\n",
            "Our fold 4 CV score is 0.7980170057762881\n",
            "Our out of folds CV score is 0.7964314822695198\n"
          ]
        }
      ]
    },
    {
      "cell_type": "code",
      "source": [
        "del train\n",
        "_ = gc.collect()"
      ],
      "metadata": {
        "id": "P2llPNqqOKTT"
      },
      "execution_count": null,
      "outputs": []
    },
    {
      "cell_type": "markdown",
      "metadata": {
        "papermill": {
          "duration": 0.018388,
          "end_time": "2022-07-15T16:48:45.862462",
          "exception": false,
          "start_time": "2022-07-15T16:48:45.844074",
          "status": "completed"
        },
        "tags": [],
        "id": "bf46dad6"
      },
      "source": [
        "# Test part"
      ]
    },
    {
      "cell_type": "code",
      "execution_count": null,
      "metadata": {
        "execution": {
          "iopub.execute_input": "2022-07-15T16:48:45.901178Z",
          "iopub.status.busy": "2022-07-15T16:48:45.900848Z",
          "iopub.status.idle": "2022-07-15T16:48:45.907526Z",
          "shell.execute_reply": "2022-07-15T16:48:45.906709Z"
        },
        "papermill": {
          "duration": 0.027751,
          "end_time": "2022-07-15T16:48:45.909278",
          "exception": false,
          "start_time": "2022-07-15T16:48:45.881527",
          "status": "completed"
        },
        "tags": [],
        "id": "c28f1826"
      },
      "outputs": [],
      "source": [
        "# CALCULATE SIZE OF EACH SEPARATE TEST PART\n",
        "def get_rows(customers, test, NUM_PARTS = 4, verbose = ''):\n",
        "    chunk = len(customers)//NUM_PARTS\n",
        "    if verbose != '':\n",
        "        print(f'We will process {verbose} data as {NUM_PARTS} separate parts.')\n",
        "        print(f'There will be {chunk} customers in each part (except the last part).')\n",
        "        print('Below are number of rows in each part:')\n",
        "    rows = []\n",
        "\n",
        "    for k in range(NUM_PARTS):\n",
        "        if k==NUM_PARTS-1: cc = customers[k*chunk:]\n",
        "        else: cc = customers[k*chunk:(k+1)*chunk]\n",
        "        s = test.loc[test.customer_ID.isin(cc)].shape[0]\n",
        "        rows.append(s)\n",
        "    if verbose != '': print( rows )\n",
        "    return rows,chunk"
      ]
    },
    {
      "cell_type": "code",
      "execution_count": null,
      "metadata": {
        "execution": {
          "iopub.execute_input": "2022-07-15T16:48:45.947705Z",
          "iopub.status.busy": "2022-07-15T16:48:45.947377Z",
          "iopub.status.idle": "2022-07-15T16:48:47.039525Z",
          "shell.execute_reply": "2022-07-15T16:48:47.038640Z"
        },
        "papermill": {
          "duration": 1.113806,
          "end_time": "2022-07-15T16:48:47.041416",
          "exception": false,
          "start_time": "2022-07-15T16:48:45.927610",
          "status": "completed"
        },
        "tags": [],
        "id": "8c7e70c5",
        "outputId": "09e671c9-6e49-416b-e373-51adf734e91b",
        "colab": {
          "base_uri": "https://localhost:8080/"
        }
      },
      "outputs": [
        {
          "output_type": "stream",
          "name": "stdout",
          "text": [
            "We will process test data as 4 separate parts.\n",
            "There will be 231155 customers in each part (except the last part).\n",
            "Below are number of rows in each part:\n",
            "[231155, 231155, 231155, 231156]\n"
          ]
        }
      ],
      "source": [
        "# COMPUTE SIZE OF 4 PARTS FOR TEST DATA\n",
        "NUM_PARTS = 4\n",
        "\n",
        "customers = test[['customer_ID']].drop_duplicates().sort_index().values.flatten()\n",
        "rows,num_cust = get_rows(customers, test[['customer_ID']], NUM_PARTS = NUM_PARTS, verbose = 'test')"
      ]
    },
    {
      "cell_type": "code",
      "execution_count": null,
      "metadata": {
        "execution": {
          "iopub.execute_input": "2022-07-15T16:48:47.081924Z",
          "iopub.status.busy": "2022-07-15T16:48:47.081615Z",
          "iopub.status.idle": "2022-07-15T16:50:55.407348Z",
          "shell.execute_reply": "2022-07-15T16:50:55.406352Z"
        },
        "papermill": {
          "duration": 128.349422,
          "end_time": "2022-07-15T16:50:55.410249",
          "exception": false,
          "start_time": "2022-07-15T16:48:47.060827",
          "status": "completed"
        },
        "tags": [],
        "id": "9cf53fd3",
        "outputId": "066b39e3-31f1-4630-b12f-ecdcfdaf56a1",
        "colab": {
          "base_uri": "https://localhost:8080/"
        }
      },
      "outputs": [
        {
          "output_type": "stream",
          "name": "stdout",
          "text": [
            "\n",
            "Reading test data...\n",
            "=> Test part 1 has shape (231155, 1646)\n",
            "\n",
            "Reading test data...\n",
            "=> Test part 2 has shape (231155, 1646)\n",
            "\n",
            "Reading test data...\n",
            "=> Test part 3 has shape (231155, 1646)\n",
            "\n",
            "Reading test data...\n",
            "=> Test part 4 has shape (231156, 1646)\n"
          ]
        }
      ],
      "source": [
        "# INFER TEST DATA IN PARTS\n",
        "skip_rows = 0\n",
        "skip_cust = 0\n",
        "test_preds = []\n",
        "\n",
        "for k in range(NUM_PARTS):\n",
        "    \n",
        "    # READ PART OF TEST DATA\n",
        "    print(f'\\nReading test data...')\n",
        "    test_copy = test.iloc[skip_rows:skip_rows+rows[k]].copy()\n",
        "    test_copy = test_copy.set_index('customer_ID')\n",
        "    skip_rows += rows[k]\n",
        "    print(f'=> Test part {k+1} has shape', test_copy.shape )\n",
        "    \n",
        "    # PROCESS AND FEATURE ENGINEER PART OF TEST DATA\n",
        "    if k==NUM_PARTS-1: test_copy = test_copy.loc[customers[skip_cust:]]\n",
        "    else: test_copy = test_copy.loc[customers[skip_cust:skip_cust+num_cust]]\n",
        "    skip_cust += num_cust\n",
        "        \n",
        "    # INFER XGB MODELS ON TEST DATA\n",
        "    model = joblib.load(f'lgbm_fold0_seed{CFG.seed}.pkl')\n",
        "    preds = model.predict(test_copy)\n",
        "    for f in range(1,CFG.n_folds):\n",
        "        model = joblib.load(f'lgbm_fold{f}_seed{CFG.seed}.pkl')\n",
        "        preds += model.predict(test_copy)\n",
        "    preds /= CFG.n_folds\n",
        "    test_preds.append(preds)\n",
        "\n",
        "    # CLEAN MEMORY\n",
        "    del test_copy, model\n",
        "    _ = gc.collect()\n",
        "\n",
        "del test\n",
        "_ = gc.collect()"
      ]
    },
    {
      "cell_type": "markdown",
      "metadata": {
        "papermill": {
          "duration": 0.067515,
          "end_time": "2022-07-15T16:50:55.538577",
          "exception": false,
          "start_time": "2022-07-15T16:50:55.471062",
          "status": "completed"
        },
        "tags": [],
        "id": "02259545"
      },
      "source": [
        "# Submit"
      ]
    },
    {
      "cell_type": "code",
      "execution_count": null,
      "metadata": {
        "execution": {
          "iopub.execute_input": "2022-07-15T16:50:55.628196Z",
          "iopub.status.busy": "2022-07-15T16:50:55.627855Z",
          "iopub.status.idle": "2022-07-15T16:51:02.864876Z",
          "shell.execute_reply": "2022-07-15T16:51:02.864114Z"
        },
        "papermill": {
          "duration": 7.268354,
          "end_time": "2022-07-15T16:51:02.866646",
          "exception": false,
          "start_time": "2022-07-15T16:50:55.598292",
          "status": "completed"
        },
        "tags": [],
        "id": "00d908fd",
        "outputId": "3f7b104a-a559-4820-f7a3-eec642d56553",
        "colab": {
          "base_uri": "https://localhost:8080/",
          "height": 224
        }
      },
      "outputs": [
        {
          "output_type": "stream",
          "name": "stdout",
          "text": [
            "Submission file shape is (924621, 2)\n"
          ]
        },
        {
          "output_type": "execute_result",
          "data": {
            "text/plain": [
              "                                         customer_ID  prediction\n",
              "0  00000469ba478561f23a92a868bd366de6f6527a684c9a...    0.023600\n",
              "1  00001bf2e77ff879fab36aa4fac689b9ba411dae63ae39...    0.000508\n",
              "2  0000210045da4f81e5f122c6bde5c2a617d03eef67f82c...    0.024712\n",
              "3  00003b41e58ede33b8daf61ab56d9952f17c9ad1c3976c...    0.229179\n",
              "4  00004b22eaeeeb0ec976890c1d9bfc14fd9427e98c4ee9...    0.901557"
            ],
            "text/html": [
              "\n",
              "  <div id=\"df-d8f3b1fd-6c08-4537-926e-b7adee440340\">\n",
              "    <div class=\"colab-df-container\">\n",
              "      <div>\n",
              "<style scoped>\n",
              "    .dataframe tbody tr th:only-of-type {\n",
              "        vertical-align: middle;\n",
              "    }\n",
              "\n",
              "    .dataframe tbody tr th {\n",
              "        vertical-align: top;\n",
              "    }\n",
              "\n",
              "    .dataframe thead th {\n",
              "        text-align: right;\n",
              "    }\n",
              "</style>\n",
              "<table border=\"1\" class=\"dataframe\">\n",
              "  <thead>\n",
              "    <tr style=\"text-align: right;\">\n",
              "      <th></th>\n",
              "      <th>customer_ID</th>\n",
              "      <th>prediction</th>\n",
              "    </tr>\n",
              "  </thead>\n",
              "  <tbody>\n",
              "    <tr>\n",
              "      <th>0</th>\n",
              "      <td>00000469ba478561f23a92a868bd366de6f6527a684c9a...</td>\n",
              "      <td>0.023600</td>\n",
              "    </tr>\n",
              "    <tr>\n",
              "      <th>1</th>\n",
              "      <td>00001bf2e77ff879fab36aa4fac689b9ba411dae63ae39...</td>\n",
              "      <td>0.000508</td>\n",
              "    </tr>\n",
              "    <tr>\n",
              "      <th>2</th>\n",
              "      <td>0000210045da4f81e5f122c6bde5c2a617d03eef67f82c...</td>\n",
              "      <td>0.024712</td>\n",
              "    </tr>\n",
              "    <tr>\n",
              "      <th>3</th>\n",
              "      <td>00003b41e58ede33b8daf61ab56d9952f17c9ad1c3976c...</td>\n",
              "      <td>0.229179</td>\n",
              "    </tr>\n",
              "    <tr>\n",
              "      <th>4</th>\n",
              "      <td>00004b22eaeeeb0ec976890c1d9bfc14fd9427e98c4ee9...</td>\n",
              "      <td>0.901557</td>\n",
              "    </tr>\n",
              "  </tbody>\n",
              "</table>\n",
              "</div>\n",
              "      <button class=\"colab-df-convert\" onclick=\"convertToInteractive('df-d8f3b1fd-6c08-4537-926e-b7adee440340')\"\n",
              "              title=\"Convert this dataframe to an interactive table.\"\n",
              "              style=\"display:none;\">\n",
              "        \n",
              "  <svg xmlns=\"http://www.w3.org/2000/svg\" height=\"24px\"viewBox=\"0 0 24 24\"\n",
              "       width=\"24px\">\n",
              "    <path d=\"M0 0h24v24H0V0z\" fill=\"none\"/>\n",
              "    <path d=\"M18.56 5.44l.94 2.06.94-2.06 2.06-.94-2.06-.94-.94-2.06-.94 2.06-2.06.94zm-11 1L8.5 8.5l.94-2.06 2.06-.94-2.06-.94L8.5 2.5l-.94 2.06-2.06.94zm10 10l.94 2.06.94-2.06 2.06-.94-2.06-.94-.94-2.06-.94 2.06-2.06.94z\"/><path d=\"M17.41 7.96l-1.37-1.37c-.4-.4-.92-.59-1.43-.59-.52 0-1.04.2-1.43.59L10.3 9.45l-7.72 7.72c-.78.78-.78 2.05 0 2.83L4 21.41c.39.39.9.59 1.41.59.51 0 1.02-.2 1.41-.59l7.78-7.78 2.81-2.81c.8-.78.8-2.07 0-2.86zM5.41 20L4 18.59l7.72-7.72 1.47 1.35L5.41 20z\"/>\n",
              "  </svg>\n",
              "      </button>\n",
              "      \n",
              "  <style>\n",
              "    .colab-df-container {\n",
              "      display:flex;\n",
              "      flex-wrap:wrap;\n",
              "      gap: 12px;\n",
              "    }\n",
              "\n",
              "    .colab-df-convert {\n",
              "      background-color: #E8F0FE;\n",
              "      border: none;\n",
              "      border-radius: 50%;\n",
              "      cursor: pointer;\n",
              "      display: none;\n",
              "      fill: #1967D2;\n",
              "      height: 32px;\n",
              "      padding: 0 0 0 0;\n",
              "      width: 32px;\n",
              "    }\n",
              "\n",
              "    .colab-df-convert:hover {\n",
              "      background-color: #E2EBFA;\n",
              "      box-shadow: 0px 1px 2px rgba(60, 64, 67, 0.3), 0px 1px 3px 1px rgba(60, 64, 67, 0.15);\n",
              "      fill: #174EA6;\n",
              "    }\n",
              "\n",
              "    [theme=dark] .colab-df-convert {\n",
              "      background-color: #3B4455;\n",
              "      fill: #D2E3FC;\n",
              "    }\n",
              "\n",
              "    [theme=dark] .colab-df-convert:hover {\n",
              "      background-color: #434B5C;\n",
              "      box-shadow: 0px 1px 3px 1px rgba(0, 0, 0, 0.15);\n",
              "      filter: drop-shadow(0px 1px 2px rgba(0, 0, 0, 0.3));\n",
              "      fill: #FFFFFF;\n",
              "    }\n",
              "  </style>\n",
              "\n",
              "      <script>\n",
              "        const buttonEl =\n",
              "          document.querySelector('#df-d8f3b1fd-6c08-4537-926e-b7adee440340 button.colab-df-convert');\n",
              "        buttonEl.style.display =\n",
              "          google.colab.kernel.accessAllowed ? 'block' : 'none';\n",
              "\n",
              "        async function convertToInteractive(key) {\n",
              "          const element = document.querySelector('#df-d8f3b1fd-6c08-4537-926e-b7adee440340');\n",
              "          const dataTable =\n",
              "            await google.colab.kernel.invokeFunction('convertToInteractive',\n",
              "                                                     [key], {});\n",
              "          if (!dataTable) return;\n",
              "\n",
              "          const docLinkHtml = 'Like what you see? Visit the ' +\n",
              "            '<a target=\"_blank\" href=https://colab.research.google.com/notebooks/data_table.ipynb>data table notebook</a>'\n",
              "            + ' to learn more about interactive tables.';\n",
              "          element.innerHTML = '';\n",
              "          dataTable['output_type'] = 'display_data';\n",
              "          await google.colab.output.renderOutput(dataTable, element);\n",
              "          const docLink = document.createElement('div');\n",
              "          docLink.innerHTML = docLinkHtml;\n",
              "          element.appendChild(docLink);\n",
              "        }\n",
              "      </script>\n",
              "    </div>\n",
              "  </div>\n",
              "  "
            ]
          },
          "metadata": {},
          "execution_count": 15
        }
      ],
      "source": [
        "# WRITE SUBMISSION FILE\n",
        "test = pd.DataFrame(index=customers,data={'prediction': np.concatenate(test_preds)})\n",
        "sub = pd.read_csv('sample_submission.csv')[['customer_ID']]\n",
        "sub['customer_ID_hash'] = sub['customer_ID'].copy()\n",
        "sub = sub.set_index('customer_ID_hash')\n",
        "sub = sub.merge(test[['prediction']], left_index=True, right_index=True, how='left')\n",
        "sub = sub.reset_index(drop=True)\n",
        "\n",
        "# DISPLAY PREDICTIONS\n",
        "sub.to_csv(f'submission_lgb_v1_seed{CFG.seed}_fold{CFG.n_folds}.csv',index=False)\n",
        "print('Submission file shape is', sub.shape )\n",
        "sub.head()"
      ]
    },
    {
      "cell_type": "code",
      "execution_count": null,
      "metadata": {
        "execution": {
          "iopub.execute_input": "2022-07-15T16:51:02.918871Z",
          "iopub.status.busy": "2022-07-15T16:51:02.918494Z",
          "iopub.status.idle": "2022-07-15T16:51:03.267833Z",
          "shell.execute_reply": "2022-07-15T16:51:03.266949Z"
        },
        "papermill": {
          "duration": 0.374502,
          "end_time": "2022-07-15T16:51:03.269960",
          "exception": false,
          "start_time": "2022-07-15T16:51:02.895458",
          "status": "completed"
        },
        "tags": [],
        "id": "533e5941",
        "outputId": "a915e80a-30b8-4867-e650-9500216aee70",
        "colab": {
          "base_uri": "https://localhost:8080/",
          "height": 281
        }
      },
      "outputs": [
        {
          "output_type": "display_data",
          "data": {
            "text/plain": [
              "<Figure size 432x288 with 1 Axes>"
            ],
            "image/png": "[encoded data removed]"
          },
          "metadata": {
            "needs_background": "light"
          }
        }
      ],
      "source": [
        "# PLOT PREDICTIONS\n",
        "import matplotlib.pyplot as plt\n",
        "plt.hist(sub.prediction, bins=100)\n",
        "plt.title('Test Predictions')\n",
        "plt.show()"
      ]
    },
    {
      "cell_type": "markdown",
      "source": [
        "# Prediction"
      ],
      "metadata": {
        "papermill": {
          "duration": 0.00263,
          "end_time": "2022-06-19T23:15:39.870669",
          "exception": false,
          "start_time": "2022-06-19T23:15:39.868039",
          "status": "completed"
        },
        "tags": [],
        "pycharm": {
          "name": "#%% md\n"
        },
        "id": "ofomkRituzly"
      }
    },
    {
      "cell_type": "code",
      "source": [
        "# Submit\n",
        "!kaggle competitions submit -c amex-default-prediction -f submission_lgb_v1_seed42_fold5.csv -m \"the first version. fe lag plus seed 52 fold 5 From colab\""
      ],
      "metadata": {
        "id": "A6OIgRv0CD76",
        "outputId": "208134e3-a1be-436f-8956-8b04e4e54bce",
        "colab": {
          "base_uri": "https://localhost:8080/"
        }
      },
      "execution_count": null,
      "outputs": [
        {
          "output_type": "stream",
          "name": "stdout",
          "text": [
            "100% 75.3M/75.3M [00:02<00:00, 30.2MB/s]\n",
            "Successfully submitted to American Express - Default Prediction"
          ]
        }
      ]
    },
    {
      "cell_type": "code",
      "source": [
        "!kaggle competitions submissions amex-default-prediction"
      ],
      "metadata": {
        "papermill": {
          "duration": 7.116467,
          "end_time": "2022-06-19T23:15:46.98989",
          "exception": false,
          "start_time": "2022-06-19T23:15:39.873423",
          "status": "completed"
        },
        "tags": [],
        "pycharm": {
          "name": "#%%\n"
        },
        "execution": {
          "iopub.status.busy": "2022-07-15T15:26:18.979284Z",
          "iopub.status.idle": "2022-07-15T15:26:18.979914Z",
          "shell.execute_reply.started": "2022-07-15T15:26:18.979701Z",
          "shell.execute_reply": "2022-07-15T15:26:18.979723Z"
        },
        "trusted": true,
        "id": "Ik1UoN1Auzly",
        "outputId": "26ff64cc-9da9-4d26-82cb-18fb3c7b2bab",
        "colab": {
          "base_uri": "https://localhost:8080/"
        }
      },
      "execution_count": null,
      "outputs": [
        {
          "output_type": "stream",
          "name": "stdout",
          "text": [
            "fileName                            date                 description                                               status    publicScore  privateScore  \n",
            "----------------------------------  -------------------  --------------------------------------------------------  --------  -----------  ------------  \n",
            "submission_lgb_v1_seed42_fold5.csv  2022-08-04 14:14:31  the first version. fe lag plus seed 52 fold 5 From colab  complete  0.798                      \n",
            "Amex Default Prediction - Ensemble  2022-08-03 11:51:07  Notebook Amex Default Prediction - Ensemble | Version 40  complete  0.799                      \n",
            "Amex Default Prediction - Ensemble  2022-08-03 11:43:47  Notebook Amex Default Prediction - Ensemble | Version 38  complete  0.799                      \n",
            "Amex Default Prediction - Ensemble  2022-08-03 11:43:35  Notebook Amex Default Prediction - Ensemble | Version 38  complete  0.798                      \n",
            "Amex Default Prediction - Ensemble  2022-08-03 11:40:52  Notebook Amex Default Prediction - Ensemble | Version 37  complete  0.798                      \n",
            "Amex Default Prediction - Ensemble  2022-08-03 11:33:14  Notebook Amex Default Prediction - Ensemble | Version 36  complete  0.799                      \n",
            "submission_xgb_v8_seed42_fold5.csv  2022-08-02 17:47:50  Run with (last - first) / s_2 seed 42 fold 5              complete  0.795                      \n",
            "submission_cat_v9_seed42_fold5.csv  2022-08-02 15:17:24  Run with max - last                                       complete  0.796                      \n",
            "submission_cat_v7_seed42_fold5.csv  2022-08-01 06:24:15  Run with max - last                                       complete  0.796                      \n",
            "Amex Default Prediction - Ensemble  2022-07-30 15:42:45  Notebook Amex Default Prediction - Ensemble | Version 35  complete  0.798                      \n",
            "Amex Default Prediction - Ensemble  2022-07-30 15:38:09  rank                                                      complete  0.798                      \n",
            "Amex Default Prediction - Ensemble  2022-07-30 15:36:03  mean ver                                                  complete  0.798                      \n",
            "Amex Default Prediction - Ensemble  2022-07-30 15:19:03  Notebook Amex Default Prediction - Ensemble | Version 32  complete  0.798                      \n",
            "Amex Default Prediction - Ensemble  2022-07-30 10:03:47  Notebook Amex Default Prediction - Ensemble | Version 31  complete  0.798                      \n",
            "Amex Default Prediction - Ensemble  2022-07-29 11:37:23  Notebook Amex Default Prediction - Ensemble | Version 30  complete  0.798                      \n",
            "submission_cat_v7_seed42_fold5.csv  2022-07-29 04:02:04  Run with seed 42 fold 5 last / s2                         complete  0.796                      \n",
            "Amex Default Prediction - Ensemble  2022-07-28 14:38:46  Notebook Amex Default Prediction - Ensemble | Version 29  complete  0.798                      \n",
            "Amex Default Prediction - Ensemble  2022-07-28 14:34:35  Notebook Amex Default Prediction - Ensemble | Version 28  complete  0.798                      \n",
            "Amex Default Prediction - Ensemble  2022-07-28 13:10:11  Notebook Amex Default Prediction - Ensemble | Version 27  complete  0.798                      \n",
            "submission_lgb_v1_seed42_fold5.csv  2022-07-28 12:43:40  the first version. fe lag plus seed 52 fold 5 From colab  complete  0.798                      \n",
            "submission_lgb_v1_seed42_fold5.csv  2022-07-28 05:46:49  the first version. fe lag plus seed 52 fold 5 From colab  complete  0.798                      \n",
            "submission_xgb_v6_seed42_fold5.csv  2022-07-27 14:21:18  Run with (last - first) / s_2 seed 42 fold 5              complete  0.796                      \n",
            "submission_cat_v1_seed42_fold5.csv  2022-07-27 09:46:57  Run with seed 42 fold 5 last / s2                         complete  0.796                      \n",
            "submission_cat_v1_seed42_fold5.csv  2022-07-27 06:08:24  From colab seed 42 fold 5 lag plus                        complete  0.794                      \n",
            "submission_xgb_v5_seed42_fold5.csv  2022-07-27 02:53:07  xgb fold 5 seed 42 last / s2 lag                          complete  0.796                      \n",
            "submission_xgb_v1_seed42_fold5.csv  2022-07-26 16:34:13  From colab seed 42 fold 5 lag plus                        complete  0.795                      \n",
            "Amex Default Prediction - Ensemble  2022-07-26 16:18:30  Notebook Amex Default Prediction - Ensemble | Version 24  complete  0.798                      \n",
            "Amex Default Prediction - Ensemble  2022-07-26 15:17:31  Notebook Amex Default Prediction - Ensemble | Version 23  complete  0.798                      \n",
            "submission_xgb_v1_seed42_fold5.csv  2022-07-26 14:59:19  From colab seed 42 fold 5 lag plus                        complete  0.795                      \n",
            "submission_cat_v1_seed42_fold5.csv  2022-07-26 13:10:11  From colab seed 42 fold 5 lag plus                        complete  0.796                      \n",
            "Amex Default Prediction - Ensemble  2022-07-25 18:21:01  Notebook Amex Default Prediction - Ensemble | Version 22  complete  0.799                      \n",
            "submission_cat_v1_seed42_fold5.csv  2022-07-25 18:15:57  From colab seed 42 fold 5 lag plus                        complete  0.796                      \n",
            "Amex Default Prediction - Ensemble  2022-07-24 15:56:24  Notebook Amex Default Prediction - Ensemble | Version 20  complete  0.759                      \n",
            "Amex Default Prediction - Ensemble  2022-07-24 15:55:05  Notebook Amex Default Prediction - Ensemble | Version 19  complete  0.745                      \n",
            "Amex Default Prediction - Ensemble  2022-07-24 14:26:44  Notebook Amex Default Prediction - Ensemble | Version 16  complete  0.798                      \n",
            "Amex Default Prediction - Ensemble  2022-07-24 14:22:52  Notebook Amex Default Prediction - Ensemble | Version 15  complete  0.798                      \n",
            "submission_cat_v1_seed42_fold5.csv  2022-07-24 13:58:18  Run with round 2 cat                                      complete  0.796                      \n",
            "submission_lgb_v1_seed42_fold5.csv  2022-07-23 16:48:14  the first version. fe lag plus seed 52 fold 5 From colab  complete  0.797                      \n",
            "Amex Default Prediction - Ensemble  2022-07-23 11:15:04  Notebook Amex Default Prediction - Ensemble | Version 14  complete  0.798                      \n",
            "Amex Default Prediction - Ensemble  2022-07-23 11:08:12  Notebook Amex Default Prediction - Ensemble | Version 13  complete  0.798                      \n",
            "submission_xgb_v1_seed42_fold5.csv  2022-07-23 10:58:31  From colab seed 42 fold 5 lag plus                        complete  0.795                      \n",
            "submission_cat_v1_seed42_fold5.csv  2022-07-23 09:53:21  From colab seed 42 fold 5 lag plus                        complete  0.796                      \n",
            "Amex Default Prediction - Ensemble  2022-07-22 12:32:58  Notebook Amex Default Prediction - Ensemble | Version 12  complete  0.798                      \n",
            "Amex Default Prediction - Ensemble  2022-07-22 12:30:01  Notebook Amex Default Prediction - Ensemble | Version 11  complete  0.798                      \n",
            "submission_xgb_v1_seed42_fold2.csv  2022-07-22 12:19:29  From colab seed 42 fold 5 lag plus                        complete  0.794                      \n",
            "Amex Default Prediction - Ensemble  2022-07-21 12:48:16  Notebook Amex Default Prediction - Ensemble | Version 9   complete  0.798                      \n",
            "submission_xgb_v1_seed42_fold5.csv  2022-07-21 12:36:23  From colab seed 42 fold 5 lag plus                        complete  0.794                      \n",
            "Amex Default Prediction - Ensemble  2022-07-20 17:29:34  Notebook Amex Default Prediction - Ensemble | Version 8   complete  0.798                      \n",
            "Amex Default Prediction - Ensemble  2022-07-20 17:13:37  Notebook Amex Default Prediction - Ensemble | Version 7   complete  0.798                      \n",
            "Amex Default Prediction - Ensemble  2022-07-20 17:10:16  Notebook Amex Default Prediction - Ensemble | Version 6   complete  0.798                      \n"
          ]
        }
      ]
    }
  ]
}
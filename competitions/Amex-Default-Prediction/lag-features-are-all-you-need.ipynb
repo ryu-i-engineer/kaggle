{
  "metadata": {
    "kernelspec": {
      "language": "python",
      "display_name": "Python 3",
      "name": "python3"
    },
    "language_info": {
      "pygments_lexer": "ipython3",
      "nbconvert_exporter": "python",
      "version": "3.6.4",
      "file_extension": ".py",
      "codemirror_mode": {
        "name": "ipython",
        "version": 3
      },
      "name": "python",
      "mimetype": "text/x-python"
    },
    "colab": {
      "name": "lag-features-are-all-you-need.ipynb",
      "provenance": [],
      "machine_shape": "hm"
    },
    "gpuClass": "standard",
    "accelerator": "TPU"
  },
  "nbformat_minor": 0,
  "nbformat": 4,
  "cells": [
    {
      "cell_type": "markdown",
      "source": [
        "# Preparing for colab"
      ],
      "metadata": {
        "id": "whFMYLB1u7rD"
      }
    },
    {
      "cell_type": "code",
      "source": [
        "!pip install kaggle"
      ],
      "metadata": {
        "id": "MwbPTJbLu1oU",
        "outputId": "cc297430-aae1-4c1f-bd56-486fd0577da3",
        "colab": {
          "base_uri": "https://localhost:8080/"
        }
      },
      "execution_count": 1,
      "outputs": [
        {
          "output_type": "stream",
          "name": "stdout",
          "text": [
            "Looking in indexes: https://pypi.org/simple, https://us-python.pkg.dev/colab-wheels/public/simple/\n",
            "Requirement already satisfied: kaggle in /usr/local/lib/python3.7/dist-packages (1.5.12)\n",
            "Requirement already satisfied: certifi in /usr/local/lib/python3.7/dist-packages (from kaggle) (2022.6.15)\n",
            "Requirement already satisfied: tqdm in /usr/local/lib/python3.7/dist-packages (from kaggle) (4.64.0)\n",
            "Requirement already satisfied: python-slugify in /usr/local/lib/python3.7/dist-packages (from kaggle) (6.1.2)\n",
            "Requirement already satisfied: python-dateutil in /usr/local/lib/python3.7/dist-packages (from kaggle) (2.8.2)\n",
            "Requirement already satisfied: urllib3 in /usr/local/lib/python3.7/dist-packages (from kaggle) (1.24.3)\n",
            "Requirement already satisfied: requests in /usr/local/lib/python3.7/dist-packages (from kaggle) (2.23.0)\n",
            "Requirement already satisfied: six>=1.10 in /usr/local/lib/python3.7/dist-packages (from kaggle) (1.15.0)\n",
            "Requirement already satisfied: text-unidecode>=1.3 in /usr/local/lib/python3.7/dist-packages (from python-slugify->kaggle) (1.3)\n",
            "Requirement already satisfied: idna<3,>=2.5 in /usr/local/lib/python3.7/dist-packages (from requests->kaggle) (2.10)\n",
            "Requirement already satisfied: chardet<4,>=3.0.2 in /usr/local/lib/python3.7/dist-packages (from requests->kaggle) (3.0.4)\n"
          ]
        }
      ]
    },
    {
      "cell_type": "code",
      "source": [
        "from google.colab import drive\n",
        "drive.mount('/content/drive')\n",
        "\n",
        "# Then move kaggle.json into the folder where the API expects to find it.\n",
        "!mkdir -p ~/.kaggle/ && cp /content/drive/MyDrive/backups/kaggle.json ~/.kaggle/ && chmod 600 ~/.kaggle/kaggle.json"
      ],
      "metadata": {
        "id": "Lx3ZHpcHvLK0",
        "outputId": "5dbff597-88dd-49a5-fdf1-3195327c24c7",
        "colab": {
          "base_uri": "https://localhost:8080/"
        }
      },
      "execution_count": 2,
      "outputs": [
        {
          "output_type": "stream",
          "name": "stdout",
          "text": [
            "Mounted at /content/drive\n"
          ]
        }
      ]
    },
    {
      "cell_type": "code",
      "source": [
        "!kaggle competitions download -c amex-default-prediction -f sample_submission.csv\n",
        "!unzip /content/sample_submission.csv.zip"
      ],
      "metadata": {
        "id": "jeIvlVN0vQ08",
        "outputId": "f104ba08-8f94-4f83-bccc-c69a89d0c25d",
        "colab": {
          "base_uri": "https://localhost:8080/"
        }
      },
      "execution_count": 3,
      "outputs": [
        {
          "output_type": "stream",
          "name": "stdout",
          "text": [
            "Downloading sample_submission.csv.zip to /content\n",
            "\r  0% 0.00/32.4M [00:00<?, ?B/s]\r 31% 10.0M/32.4M [00:00<00:00, 104MB/s]\n",
            "\r100% 32.4M/32.4M [00:00<00:00, 203MB/s]\n",
            "Archive:  /content/sample_submission.csv.zip\n",
            "  inflating: sample_submission.csv   \n"
          ]
        }
      ]
    },
    {
      "cell_type": "code",
      "source": [
        "!kaggle competitions download -c amex-default-prediction -f train_labels.csv\n",
        "!unzip /content/train_labels.csv.zip"
      ],
      "metadata": {
        "id": "PfGNoPMDxoPk",
        "outputId": "5c1d7ab1-309d-411b-d3fb-30bccaf60336",
        "colab": {
          "base_uri": "https://localhost:8080/"
        }
      },
      "execution_count": 4,
      "outputs": [
        {
          "output_type": "stream",
          "name": "stdout",
          "text": [
            "Downloading train_labels.csv.zip to /content\n",
            "\r  0% 0.00/16.2M [00:00<?, ?B/s]\r 68% 11.0M/16.2M [00:00<00:00, 113MB/s]\n",
            "\r100% 16.2M/16.2M [00:00<00:00, 147MB/s]\n",
            "Archive:  /content/train_labels.csv.zip\n",
            "  inflating: train_labels.csv        \n"
          ]
        }
      ]
    },
    {
      "cell_type": "markdown",
      "source": [
        "# Training & Inference"
      ],
      "metadata": {
        "papermill": {
          "duration": 0.002398,
          "end_time": "2022-06-19T23:15:37.946621",
          "exception": false,
          "start_time": "2022-06-19T23:15:37.944223",
          "status": "completed"
        },
        "tags": [],
        "pycharm": {
          "name": "#%% md\n"
        },
        "id": "672r-QJMuzlw"
      }
    },
    {
      "cell_type": "code",
      "source": [
        "!kaggle datasets download -d ryuina/amex-fe-plus2\n",
        "!unzip /content/amex-fe-plus2.zip"
      ],
      "metadata": {
        "id": "C2Kqq_4l7Am1",
        "outputId": "be21571f-95a5-4ea5-8062-87381b4dcc56",
        "colab": {
          "base_uri": "https://localhost:8080/"
        }
      },
      "execution_count": 5,
      "outputs": [
        {
          "output_type": "stream",
          "name": "stdout",
          "text": [
            "Downloading amex-fe-plus2.zip to /content\n",
            "100% 4.70G/4.70G [00:28<00:00, 220MB/s]\n",
            "100% 4.70G/4.70G [00:28<00:00, 177MB/s]\n",
            "Archive:  /content/amex-fe-plus2.zip\n",
            "  inflating: test_fe_plus_plus.parquet  \n",
            "  inflating: train_fe_plus_plus.parquet  \n"
          ]
        }
      ]
    },
    {
      "cell_type": "code",
      "source": [
        "# ====================================================\n",
        "# Library\n",
        "# ====================================================\n",
        "import os\n",
        "import gc; gc.enable()\n",
        "import joblib\n",
        "import pickle\n",
        "import random\n",
        "import warnings\n",
        "import itertools\n",
        "import scipy as sp\n",
        "import numpy as np\n",
        "import pandas as pd\n",
        "from tqdm import tqdm\n",
        "import xgboost as xgb\n",
        "import lightgbm as lgb\n",
        "warnings.filterwarnings('ignore')\n",
        "from itertools import combinations\n",
        "pd.set_option('display.width', 1000)\n",
        "pd.set_option('display.max_rows', 500)\n",
        "pd.set_option('display.max_columns', 500)\n",
        "from sklearn.preprocessing import LabelEncoder\n",
        "from sklearn.model_selection import StratifiedKFold, train_test_split\n",
        "\n",
        "class CFG:\n",
        "    input_dir = '/content/'\n",
        "    seed = 42\n",
        "    n_folds = 5\n",
        "    target = 'target'\n",
        "\n",
        "def seed_everything(seed):\n",
        "    random.seed(seed)\n",
        "    np.random.seed(seed)\n",
        "    os.environ['PYTHONHASHSEED'] = str(seed)\n",
        "\n",
        "def read_data():\n",
        "    train = pd.read_parquet(CFG.input_dir + 'train_fe_plus_plus.parquet')\n",
        "    test = pd.read_parquet(CFG.input_dir + 'test_fe_plus_plus.parquet')\n",
        "    return train, test\n",
        "\n",
        "def amex_metric(y_true, y_pred):\n",
        "    labels = np.transpose(np.array([y_true, y_pred]))\n",
        "    labels = labels[labels[:, 1].argsort()[::-1]]\n",
        "    weights = np.where(labels[:,0]==0, 20, 1)\n",
        "    cut_vals = labels[np.cumsum(weights) <= int(0.04 * np.sum(weights))]\n",
        "    top_four = np.sum(cut_vals[:,0]) / np.sum(labels[:,0])\n",
        "    gini = [0,0]\n",
        "    for i in [1,0]:\n",
        "        labels = np.transpose(np.array([y_true, y_pred]))\n",
        "        labels = labels[labels[:, i].argsort()[::-1]]\n",
        "        weight = np.where(labels[:,0]==0, 20, 1)\n",
        "        weight_random = np.cumsum(weight / np.sum(weight))\n",
        "        total_pos = np.sum(labels[:, 0] *  weight)\n",
        "        cum_pos_found = np.cumsum(labels[:, 0] * weight)\n",
        "        lorentz = cum_pos_found / total_pos\n",
        "        gini[i] = np.sum((lorentz - weight_random) * weight)\n",
        "    return 0.5 * (gini[1]/gini[0] + top_four)\n",
        "\n",
        "def amex_metric_np(preds, target):\n",
        "    indices = np.argsort(preds)[::-1]\n",
        "    preds, target = preds[indices], target[indices]\n",
        "    weight = 20.0 - target * 19.0\n",
        "    cum_norm_weight = (weight / weight.sum()).cumsum()\n",
        "    four_pct_mask = cum_norm_weight <= 0.04\n",
        "    d = np.sum(target[four_pct_mask]) / np.sum(target)\n",
        "    weighted_target = target * weight\n",
        "    lorentz = (weighted_target / weighted_target.sum()).cumsum()\n",
        "    gini = ((lorentz - cum_norm_weight) * weight).sum()\n",
        "    n_pos = np.sum(target)\n",
        "    n_neg = target.shape[0] - n_pos\n",
        "    gini_max = 10 * n_neg * (n_pos + 20 * n_neg - 19) / (n_pos + 20 * n_neg)\n",
        "    g = gini / gini_max\n",
        "    return 0.5 * (g + d)"
      ],
      "metadata": {
        "papermill": {
          "duration": 1.91354,
          "end_time": "2022-06-19T23:15:39.862701",
          "exception": false,
          "start_time": "2022-06-19T23:15:37.949161",
          "status": "completed"
        },
        "tags": [],
        "pycharm": {
          "name": "#%%\n"
        },
        "execution": {
          "iopub.status.busy": "2022-07-15T15:26:18.975287Z",
          "iopub.status.idle": "2022-07-15T15:26:18.975786Z",
          "shell.execute_reply.started": "2022-07-15T15:26:18.975552Z",
          "shell.execute_reply": "2022-07-15T15:26:18.975573Z"
        },
        "trusted": true,
        "id": "15l0MOvouzlw"
      },
      "execution_count": 7,
      "outputs": []
    },
    {
      "cell_type": "markdown",
      "source": [
        "### Training LightGBM (DART) Model\n",
        "\n",
        "- Final predictions output uploaded as a public dataset. "
      ],
      "metadata": {
        "id": "64hhK5K2uzlx"
      }
    },
    {
      "cell_type": "code",
      "source": [
        "seed_everything(CFG.seed)\n",
        "train, test = read_data()"
      ],
      "metadata": {
        "id": "kFQsUkTpemrU"
      },
      "execution_count": 8,
      "outputs": []
    },
    {
      "cell_type": "code",
      "source": [
        "# Label encode categorical features\n",
        "cat_features = [\n",
        "    \"B_30\",\n",
        "    \"B_38\",\n",
        "    \"D_114\",\n",
        "    \"D_116\",\n",
        "    \"D_117\",\n",
        "    \"D_120\",\n",
        "    \"D_126\",\n",
        "    \"D_63\",\n",
        "    \"D_64\",\n",
        "    \"D_66\",\n",
        "    \"D_68\"\n",
        "]\n",
        "cat_features = [f\"{cf}_last\" for cf in cat_features]\n",
        "for cat_col in cat_features:\n",
        "    encoder = LabelEncoder()\n",
        "    train[cat_col] = encoder.fit_transform(train[cat_col])\n",
        "    test[cat_col] = encoder.transform(test[cat_col])\n",
        "\n",
        "# Round last float features to 2 decimal place\n",
        "num_cols = list(train.dtypes[(train.dtypes == 'float32') | (train.dtypes == 'float64')].index)\n",
        "num_cols = [col for col in num_cols if 'last' in col]\n",
        "for col in num_cols:\n",
        "    train[col + '_round2'] = train[col].round(2)\n",
        "    test[col + '_round2'] = test[col].round(2)\n",
        "\n",
        "# Get feature list\n",
        "features = [col for col in train.columns if col not in ['customer_ID', CFG.target]]"
      ],
      "metadata": {
        "id": "3apqtSQzbZG1"
      },
      "execution_count": 9,
      "outputs": []
    },
    {
      "cell_type": "code",
      "source": [
        "params = {\n",
        "    'objective': 'binary',\n",
        "    'metric': \"binary_logloss\",\n",
        "    'boosting': 'dart',\n",
        "    'seed': CFG.seed,\n",
        "    'num_leaves': 100,\n",
        "    'learning_rate': 0.02,\n",
        "    'feature_fraction': 0.20,\n",
        "    'bagging_freq': 10,\n",
        "    'bagging_fraction': 0.50,\n",
        "    'n_jobs': -1,\n",
        "    'lambda_l2': 2,\n",
        "    'min_data_in_leaf': 40\n",
        "    }"
      ],
      "metadata": {
        "id": "S00nxuAZbdBP"
      },
      "execution_count": 10,
      "outputs": []
    },
    {
      "cell_type": "code",
      "source": [
        "def lgb_amex_metric(y_pred, y_true):\n",
        "    y_true = y_true.get_label()\n",
        "    return 'amex_metric', amex_metric(y_true, y_pred), True\n",
        "\n",
        "def train_and_evaluate(train):\n",
        "    # Create a numpy array to store out of folds predictions\n",
        "    oof_predictions = np.zeros(len(train))\n",
        "    kfold = StratifiedKFold(n_splits = CFG.n_folds, shuffle = True, random_state = CFG.seed)\n",
        "    for fold, (trn_ind, val_ind) in enumerate(kfold.split(train, train[CFG.target])):\n",
        "        print(' ')\n",
        "        print('-'*50)\n",
        "        print(f'Training fold {fold} with {len(features)} features...')\n",
        "        x_train, x_val = train[features].iloc[trn_ind], train[features].iloc[val_ind]\n",
        "        y_train, y_val = train[CFG.target].iloc[trn_ind], train[CFG.target].iloc[val_ind]\n",
        "        lgb_train = lgb.Dataset(x_train, y_train, categorical_feature = cat_features)\n",
        "        lgb_valid = lgb.Dataset(x_val, y_val, categorical_feature = cat_features)\n",
        "        model = lgb.train(\n",
        "            params = params,\n",
        "            train_set = lgb_train,\n",
        "            num_boost_round = 8500,\n",
        "            valid_sets = [lgb_train, lgb_valid],\n",
        "            early_stopping_rounds = 100,\n",
        "            verbose_eval = 500,\n",
        "            feval = lgb_amex_metric\n",
        "            )\n",
        "        # Save best model\n",
        "        joblib.dump(model, f'lgbm_fold{fold}_seed{CFG.seed}.pkl')\n",
        "        # Predict validation\n",
        "        val_pred = model.predict(x_val)\n",
        "        # Add to out of folds array\n",
        "        oof_predictions[val_ind] = val_pred\n",
        "\n",
        "        # Compute fold metric\n",
        "        score = amex_metric(y_val, val_pred)\n",
        "        print(f'Our fold {fold} CV score is {score}')\n",
        "        del x_train, x_val, y_train, y_val, lgb_train, lgb_valid, model\n",
        "        gc.collect()\n",
        "    # Compute out of folds metric\n",
        "    score = amex_metric(train[CFG.target], oof_predictions)\n",
        "    print(f'Our out of folds CV score is {score}')\n",
        "    # Create a dataframe to store out of folds predictions\n",
        "    oof_df = pd.DataFrame({'customer_ID': train['customer_ID'], 'target': train[CFG.target], 'prediction': oof_predictions})\n",
        "    oof_df.to_csv(f'oof_lgbm_baseline_{CFG.n_folds}fold_seed{CFG.seed}.csv', index = False)\n",
        "\n",
        "train_and_evaluate(train)"
      ],
      "metadata": {
        "pycharm": {
          "name": "#%%\n"
        },
        "jupyter": {
          "outputs_hidden": false
        },
        "execution": {
          "iopub.status.busy": "2022-07-15T15:26:18.977741Z",
          "iopub.status.idle": "2022-07-15T15:26:18.978405Z",
          "shell.execute_reply.started": "2022-07-15T15:26:18.978196Z",
          "shell.execute_reply": "2022-07-15T15:26:18.978218Z"
        },
        "trusted": true,
        "id": "9p5Z6PX7uzlx",
        "outputId": "b16fc216-e65e-42c3-ab64-8e349e815d18",
        "colab": {
          "base_uri": "https://localhost:8080/"
        }
      },
      "execution_count": 11,
      "outputs": [
        {
          "output_type": "stream",
          "name": "stdout",
          "text": [
            " \n",
            "--------------------------------------------------\n",
            "Training fold 0 with 2178 features...\n",
            "[500]\ttraining's binary_logloss: 0.257558\ttraining's amex_metric: 0.789505\tvalid_1's binary_logloss: 0.262144\tvalid_1's amex_metric: 0.778334\n",
            "[1000]\ttraining's binary_logloss: 0.210774\ttraining's amex_metric: 0.817218\tvalid_1's binary_logloss: 0.223948\tvalid_1's amex_metric: 0.790329\n",
            "[1500]\ttraining's binary_logloss: 0.196528\ttraining's amex_metric: 0.837396\tvalid_1's binary_logloss: 0.218591\tvalid_1's amex_metric: 0.793774\n",
            "[2000]\ttraining's binary_logloss: 0.183818\ttraining's amex_metric: 0.857963\tvalid_1's binary_logloss: 0.215909\tvalid_1's amex_metric: 0.796579\n",
            "[2500]\ttraining's binary_logloss: 0.175135\ttraining's amex_metric: 0.872667\tvalid_1's binary_logloss: 0.214908\tvalid_1's amex_metric: 0.797444\n",
            "[3000]\ttraining's binary_logloss: 0.16577\ttraining's amex_metric: 0.888206\tvalid_1's binary_logloss: 0.214114\tvalid_1's amex_metric: 0.798566\n",
            "[3500]\ttraining's binary_logloss: 0.156729\ttraining's amex_metric: 0.903995\tvalid_1's binary_logloss: 0.213623\tvalid_1's amex_metric: 0.799238\n",
            "[4000]\ttraining's binary_logloss: 0.148659\ttraining's amex_metric: 0.917883\tvalid_1's binary_logloss: 0.213269\tvalid_1's amex_metric: 0.799382\n",
            "[4500]\ttraining's binary_logloss: 0.140763\ttraining's amex_metric: 0.931238\tvalid_1's binary_logloss: 0.213077\tvalid_1's amex_metric: 0.799296\n",
            "[5000]\ttraining's binary_logloss: 0.133105\ttraining's amex_metric: 0.943187\tvalid_1's binary_logloss: 0.213098\tvalid_1's amex_metric: 0.799489\n",
            "[5500]\ttraining's binary_logloss: 0.126358\ttraining's amex_metric: 0.952783\tvalid_1's binary_logloss: 0.21307\tvalid_1's amex_metric: 0.801226\n",
            "[6000]\ttraining's binary_logloss: 0.120616\ttraining's amex_metric: 0.961088\tvalid_1's binary_logloss: 0.213104\tvalid_1's amex_metric: 0.801241\n",
            "[6500]\ttraining's binary_logloss: 0.114747\ttraining's amex_metric: 0.968091\tvalid_1's binary_logloss: 0.213122\tvalid_1's amex_metric: 0.800611\n",
            "[7000]\ttraining's binary_logloss: 0.108188\ttraining's amex_metric: 0.9758\tvalid_1's binary_logloss: 0.213293\tvalid_1's amex_metric: 0.800552\n",
            "[7500]\ttraining's binary_logloss: 0.102075\ttraining's amex_metric: 0.981833\tvalid_1's binary_logloss: 0.213444\tvalid_1's amex_metric: 0.800329\n",
            "[8000]\ttraining's binary_logloss: 0.0967922\ttraining's amex_metric: 0.986654\tvalid_1's binary_logloss: 0.213718\tvalid_1's amex_metric: 0.799927\n",
            "[8500]\ttraining's binary_logloss: 0.0923461\ttraining's amex_metric: 0.990197\tvalid_1's binary_logloss: 0.213939\tvalid_1's amex_metric: 0.799963\n",
            "Our fold 0 CV score is 0.7993406244864336\n",
            " \n",
            "--------------------------------------------------\n",
            "Training fold 1 with 2178 features...\n",
            "[500]\ttraining's binary_logloss: 0.256966\ttraining's amex_metric: 0.791838\tvalid_1's binary_logloss: 0.263697\tvalid_1's amex_metric: 0.770888\n",
            "[1000]\ttraining's binary_logloss: 0.209827\ttraining's amex_metric: 0.819634\tvalid_1's binary_logloss: 0.226577\tvalid_1's amex_metric: 0.782383\n",
            "[1500]\ttraining's binary_logloss: 0.195507\ttraining's amex_metric: 0.83883\tvalid_1's binary_logloss: 0.221533\tvalid_1's amex_metric: 0.787492\n",
            "[2000]\ttraining's binary_logloss: 0.182708\ttraining's amex_metric: 0.85885\tvalid_1's binary_logloss: 0.219216\tvalid_1's amex_metric: 0.78943\n",
            "[2500]\ttraining's binary_logloss: 0.174063\ttraining's amex_metric: 0.874881\tvalid_1's binary_logloss: 0.218328\tvalid_1's amex_metric: 0.790202\n",
            "[3000]\ttraining's binary_logloss: 0.164759\ttraining's amex_metric: 0.890525\tvalid_1's binary_logloss: 0.217573\tvalid_1's amex_metric: 0.790996\n",
            "[3500]\ttraining's binary_logloss: 0.155734\ttraining's amex_metric: 0.905393\tvalid_1's binary_logloss: 0.217153\tvalid_1's amex_metric: 0.792393\n",
            "[4000]\ttraining's binary_logloss: 0.147679\ttraining's amex_metric: 0.919077\tvalid_1's binary_logloss: 0.216942\tvalid_1's amex_metric: 0.79178\n",
            "[4500]\ttraining's binary_logloss: 0.139828\ttraining's amex_metric: 0.932379\tvalid_1's binary_logloss: 0.216793\tvalid_1's amex_metric: 0.791473\n",
            "[5000]\ttraining's binary_logloss: 0.132218\ttraining's amex_metric: 0.943765\tvalid_1's binary_logloss: 0.216762\tvalid_1's amex_metric: 0.791911\n",
            "[5500]\ttraining's binary_logloss: 0.125513\ttraining's amex_metric: 0.952793\tvalid_1's binary_logloss: 0.216738\tvalid_1's amex_metric: 0.791936\n",
            "[6000]\ttraining's binary_logloss: 0.119892\ttraining's amex_metric: 0.961269\tvalid_1's binary_logloss: 0.216953\tvalid_1's amex_metric: 0.792508\n",
            "[6500]\ttraining's binary_logloss: 0.114049\ttraining's amex_metric: 0.968345\tvalid_1's binary_logloss: 0.217145\tvalid_1's amex_metric: 0.792221\n",
            "[7000]\ttraining's binary_logloss: 0.107457\ttraining's amex_metric: 0.976016\tvalid_1's binary_logloss: 0.217306\tvalid_1's amex_metric: 0.792072\n",
            "[7500]\ttraining's binary_logloss: 0.101351\ttraining's amex_metric: 0.982254\tvalid_1's binary_logloss: 0.217504\tvalid_1's amex_metric: 0.792124\n",
            "[8000]\ttraining's binary_logloss: 0.0960943\ttraining's amex_metric: 0.986915\tvalid_1's binary_logloss: 0.217849\tvalid_1's amex_metric: 0.790981\n",
            "[8500]\ttraining's binary_logloss: 0.0917074\ttraining's amex_metric: 0.990514\tvalid_1's binary_logloss: 0.218125\tvalid_1's amex_metric: 0.790993\n",
            "Our fold 1 CV score is 0.7911872883619404\n",
            " \n",
            "--------------------------------------------------\n",
            "Training fold 2 with 2178 features...\n",
            "[500]\ttraining's binary_logloss: 0.256972\ttraining's amex_metric: 0.790294\tvalid_1's binary_logloss: 0.26421\tvalid_1's amex_metric: 0.774469\n",
            "[1000]\ttraining's binary_logloss: 0.210036\ttraining's amex_metric: 0.818507\tvalid_1's binary_logloss: 0.226422\tvalid_1's amex_metric: 0.787284\n",
            "[1500]\ttraining's binary_logloss: 0.195765\ttraining's amex_metric: 0.839484\tvalid_1's binary_logloss: 0.221021\tvalid_1's amex_metric: 0.792694\n",
            "[2000]\ttraining's binary_logloss: 0.183042\ttraining's amex_metric: 0.85879\tvalid_1's binary_logloss: 0.218467\tvalid_1's amex_metric: 0.793935\n",
            "[2500]\ttraining's binary_logloss: 0.174372\ttraining's amex_metric: 0.874436\tvalid_1's binary_logloss: 0.217623\tvalid_1's amex_metric: 0.794018\n",
            "[3000]\ttraining's binary_logloss: 0.165075\ttraining's amex_metric: 0.890075\tvalid_1's binary_logloss: 0.216993\tvalid_1's amex_metric: 0.795062\n",
            "[3500]\ttraining's binary_logloss: 0.156032\ttraining's amex_metric: 0.905518\tvalid_1's binary_logloss: 0.216647\tvalid_1's amex_metric: 0.794476\n",
            "[4000]\ttraining's binary_logloss: 0.147944\ttraining's amex_metric: 0.918918\tvalid_1's binary_logloss: 0.216356\tvalid_1's amex_metric: 0.795314\n",
            "[4500]\ttraining's binary_logloss: 0.14009\ttraining's amex_metric: 0.93148\tvalid_1's binary_logloss: 0.216195\tvalid_1's amex_metric: 0.795435\n",
            "[5000]\ttraining's binary_logloss: 0.132412\ttraining's amex_metric: 0.943241\tvalid_1's binary_logloss: 0.216254\tvalid_1's amex_metric: 0.795311\n",
            "[5500]\ttraining's binary_logloss: 0.125673\ttraining's amex_metric: 0.952829\tvalid_1's binary_logloss: 0.21645\tvalid_1's amex_metric: 0.795377\n",
            "[6000]\ttraining's binary_logloss: 0.119977\ttraining's amex_metric: 0.961222\tvalid_1's binary_logloss: 0.216584\tvalid_1's amex_metric: 0.795005\n",
            "[6500]\ttraining's binary_logloss: 0.114094\ttraining's amex_metric: 0.968072\tvalid_1's binary_logloss: 0.21662\tvalid_1's amex_metric: 0.794989\n",
            "[7000]\ttraining's binary_logloss: 0.107505\ttraining's amex_metric: 0.975889\tvalid_1's binary_logloss: 0.216662\tvalid_1's amex_metric: 0.795525\n",
            "[7500]\ttraining's binary_logloss: 0.101368\ttraining's amex_metric: 0.982133\tvalid_1's binary_logloss: 0.216854\tvalid_1's amex_metric: 0.795866\n",
            "[8000]\ttraining's binary_logloss: 0.0960442\ttraining's amex_metric: 0.986854\tvalid_1's binary_logloss: 0.217107\tvalid_1's amex_metric: 0.796098\n",
            "[8500]\ttraining's binary_logloss: 0.0916893\ttraining's amex_metric: 0.990598\tvalid_1's binary_logloss: 0.217225\tvalid_1's amex_metric: 0.795724\n",
            "Our fold 2 CV score is 0.7954193576511361\n",
            " \n",
            "--------------------------------------------------\n",
            "Training fold 3 with 2178 features...\n",
            "[500]\ttraining's binary_logloss: 0.256579\ttraining's amex_metric: 0.792195\tvalid_1's binary_logloss: 0.265063\tvalid_1's amex_metric: 0.769616\n",
            "[1000]\ttraining's binary_logloss: 0.209697\ttraining's amex_metric: 0.819718\tvalid_1's binary_logloss: 0.227577\tvalid_1's amex_metric: 0.78251\n",
            "[1500]\ttraining's binary_logloss: 0.195488\ttraining's amex_metric: 0.839835\tvalid_1's binary_logloss: 0.22213\tvalid_1's amex_metric: 0.786302\n",
            "[2000]\ttraining's binary_logloss: 0.182721\ttraining's amex_metric: 0.859326\tvalid_1's binary_logloss: 0.219436\tvalid_1's amex_metric: 0.78876\n",
            "[2500]\ttraining's binary_logloss: 0.174087\ttraining's amex_metric: 0.875126\tvalid_1's binary_logloss: 0.21853\tvalid_1's amex_metric: 0.789258\n",
            "[3000]\ttraining's binary_logloss: 0.164821\ttraining's amex_metric: 0.89036\tvalid_1's binary_logloss: 0.217818\tvalid_1's amex_metric: 0.790171\n",
            "[3500]\ttraining's binary_logloss: 0.155844\ttraining's amex_metric: 0.905967\tvalid_1's binary_logloss: 0.217542\tvalid_1's amex_metric: 0.79051\n",
            "[4000]\ttraining's binary_logloss: 0.147792\ttraining's amex_metric: 0.919304\tvalid_1's binary_logloss: 0.217368\tvalid_1's amex_metric: 0.790368\n",
            "[4500]\ttraining's binary_logloss: 0.139881\ttraining's amex_metric: 0.93198\tvalid_1's binary_logloss: 0.217138\tvalid_1's amex_metric: 0.790334\n",
            "[5000]\ttraining's binary_logloss: 0.132204\ttraining's amex_metric: 0.943626\tvalid_1's binary_logloss: 0.217149\tvalid_1's amex_metric: 0.790789\n",
            "[5500]\ttraining's binary_logloss: 0.125481\ttraining's amex_metric: 0.953158\tvalid_1's binary_logloss: 0.217174\tvalid_1's amex_metric: 0.79077\n",
            "[6000]\ttraining's binary_logloss: 0.119822\ttraining's amex_metric: 0.96145\tvalid_1's binary_logloss: 0.217185\tvalid_1's amex_metric: 0.79086\n",
            "[6500]\ttraining's binary_logloss: 0.113954\ttraining's amex_metric: 0.968485\tvalid_1's binary_logloss: 0.217337\tvalid_1's amex_metric: 0.790061\n",
            "[7000]\ttraining's binary_logloss: 0.107359\ttraining's amex_metric: 0.976223\tvalid_1's binary_logloss: 0.217582\tvalid_1's amex_metric: 0.789784\n",
            "[7500]\ttraining's binary_logloss: 0.101261\ttraining's amex_metric: 0.982306\tvalid_1's binary_logloss: 0.217849\tvalid_1's amex_metric: 0.789184\n",
            "[8000]\ttraining's binary_logloss: 0.0959701\ttraining's amex_metric: 0.987088\tvalid_1's binary_logloss: 0.218057\tvalid_1's amex_metric: 0.78975\n",
            "[8500]\ttraining's binary_logloss: 0.0915788\ttraining's amex_metric: 0.990564\tvalid_1's binary_logloss: 0.218218\tvalid_1's amex_metric: 0.78994\n",
            "Our fold 3 CV score is 0.7896027431189422\n",
            " \n",
            "--------------------------------------------------\n",
            "Training fold 4 with 2178 features...\n",
            "[500]\ttraining's binary_logloss: 0.257286\ttraining's amex_metric: 0.791152\tvalid_1's binary_logloss: 0.263212\tvalid_1's amex_metric: 0.77434\n",
            "[1000]\ttraining's binary_logloss: 0.210433\ttraining's amex_metric: 0.818301\tvalid_1's binary_logloss: 0.225057\tvalid_1's amex_metric: 0.786332\n",
            "[1500]\ttraining's binary_logloss: 0.196186\ttraining's amex_metric: 0.838098\tvalid_1's binary_logloss: 0.219399\tvalid_1's amex_metric: 0.790532\n",
            "[2000]\ttraining's binary_logloss: 0.183425\ttraining's amex_metric: 0.85833\tvalid_1's binary_logloss: 0.216796\tvalid_1's amex_metric: 0.793993\n",
            "[2500]\ttraining's binary_logloss: 0.174761\ttraining's amex_metric: 0.874002\tvalid_1's binary_logloss: 0.215867\tvalid_1's amex_metric: 0.79485\n",
            "[3000]\ttraining's binary_logloss: 0.165426\ttraining's amex_metric: 0.889413\tvalid_1's binary_logloss: 0.214877\tvalid_1's amex_metric: 0.796871\n",
            "[3500]\ttraining's binary_logloss: 0.156383\ttraining's amex_metric: 0.905644\tvalid_1's binary_logloss: 0.214399\tvalid_1's amex_metric: 0.798164\n",
            "[4000]\ttraining's binary_logloss: 0.148303\ttraining's amex_metric: 0.918217\tvalid_1's binary_logloss: 0.214186\tvalid_1's amex_metric: 0.79836\n",
            "[4500]\ttraining's binary_logloss: 0.140413\ttraining's amex_metric: 0.931085\tvalid_1's binary_logloss: 0.21403\tvalid_1's amex_metric: 0.797972\n",
            "[5000]\ttraining's binary_logloss: 0.132769\ttraining's amex_metric: 0.942483\tvalid_1's binary_logloss: 0.214013\tvalid_1's amex_metric: 0.797674\n",
            "[5500]\ttraining's binary_logloss: 0.126028\ttraining's amex_metric: 0.952289\tvalid_1's binary_logloss: 0.214033\tvalid_1's amex_metric: 0.797517\n",
            "[6000]\ttraining's binary_logloss: 0.120371\ttraining's amex_metric: 0.96078\tvalid_1's binary_logloss: 0.214124\tvalid_1's amex_metric: 0.797323\n",
            "[6500]\ttraining's binary_logloss: 0.11454\ttraining's amex_metric: 0.967681\tvalid_1's binary_logloss: 0.214192\tvalid_1's amex_metric: 0.797842\n",
            "[7000]\ttraining's binary_logloss: 0.107947\ttraining's amex_metric: 0.975339\tvalid_1's binary_logloss: 0.214378\tvalid_1's amex_metric: 0.798652\n",
            "[7500]\ttraining's binary_logloss: 0.101889\ttraining's amex_metric: 0.98187\tvalid_1's binary_logloss: 0.21464\tvalid_1's amex_metric: 0.799311\n",
            "[8000]\ttraining's binary_logloss: 0.096591\ttraining's amex_metric: 0.986654\tvalid_1's binary_logloss: 0.214804\tvalid_1's amex_metric: 0.798236\n",
            "[8500]\ttraining's binary_logloss: 0.0921635\ttraining's amex_metric: 0.990301\tvalid_1's binary_logloss: 0.215135\tvalid_1's amex_metric: 0.796988\n",
            "Our fold 4 CV score is 0.7976852143286857\n",
            "Our out of folds CV score is 0.7947662518384035\n"
          ]
        }
      ]
    },
    {
      "cell_type": "code",
      "source": [
        "del train\n",
        "_ = gc.collect()"
      ],
      "metadata": {
        "id": "P2llPNqqOKTT"
      },
      "execution_count": 12,
      "outputs": []
    },
    {
      "cell_type": "markdown",
      "metadata": {
        "papermill": {
          "duration": 0.018388,
          "end_time": "2022-07-15T16:48:45.862462",
          "exception": false,
          "start_time": "2022-07-15T16:48:45.844074",
          "status": "completed"
        },
        "tags": [],
        "id": "bf46dad6"
      },
      "source": [
        "# Test part"
      ]
    },
    {
      "cell_type": "code",
      "execution_count": 13,
      "metadata": {
        "execution": {
          "iopub.execute_input": "2022-07-15T16:48:45.901178Z",
          "iopub.status.busy": "2022-07-15T16:48:45.900848Z",
          "iopub.status.idle": "2022-07-15T16:48:45.907526Z",
          "shell.execute_reply": "2022-07-15T16:48:45.906709Z"
        },
        "papermill": {
          "duration": 0.027751,
          "end_time": "2022-07-15T16:48:45.909278",
          "exception": false,
          "start_time": "2022-07-15T16:48:45.881527",
          "status": "completed"
        },
        "tags": [],
        "id": "c28f1826"
      },
      "outputs": [],
      "source": [
        "# CALCULATE SIZE OF EACH SEPARATE TEST PART\n",
        "def get_rows(customers, test, NUM_PARTS = 4, verbose = ''):\n",
        "    chunk = len(customers)//NUM_PARTS\n",
        "    if verbose != '':\n",
        "        print(f'We will process {verbose} data as {NUM_PARTS} separate parts.')\n",
        "        print(f'There will be {chunk} customers in each part (except the last part).')\n",
        "        print('Below are number of rows in each part:')\n",
        "    rows = []\n",
        "\n",
        "    for k in range(NUM_PARTS):\n",
        "        if k==NUM_PARTS-1: cc = customers[k*chunk:]\n",
        "        else: cc = customers[k*chunk:(k+1)*chunk]\n",
        "        s = test.loc[test.customer_ID.isin(cc)].shape[0]\n",
        "        rows.append(s)\n",
        "    if verbose != '': print( rows )\n",
        "    return rows,chunk"
      ]
    },
    {
      "cell_type": "code",
      "execution_count": 14,
      "metadata": {
        "execution": {
          "iopub.execute_input": "2022-07-15T16:48:45.947705Z",
          "iopub.status.busy": "2022-07-15T16:48:45.947377Z",
          "iopub.status.idle": "2022-07-15T16:48:47.039525Z",
          "shell.execute_reply": "2022-07-15T16:48:47.038640Z"
        },
        "papermill": {
          "duration": 1.113806,
          "end_time": "2022-07-15T16:48:47.041416",
          "exception": false,
          "start_time": "2022-07-15T16:48:45.927610",
          "status": "completed"
        },
        "tags": [],
        "id": "8c7e70c5",
        "outputId": "4c75af56-a6f1-4191-cc62-2528ac65d5d2",
        "colab": {
          "base_uri": "https://localhost:8080/"
        }
      },
      "outputs": [
        {
          "output_type": "stream",
          "name": "stdout",
          "text": [
            "We will process test data as 4 separate parts.\n",
            "There will be 231155 customers in each part (except the last part).\n",
            "Below are number of rows in each part:\n",
            "[231155, 231155, 231155, 231156]\n"
          ]
        }
      ],
      "source": [
        "# COMPUTE SIZE OF 4 PARTS FOR TEST DATA\n",
        "NUM_PARTS = 4\n",
        "\n",
        "customers = test[['customer_ID']].drop_duplicates().sort_index().values.flatten()\n",
        "rows,num_cust = get_rows(customers, test[['customer_ID']], NUM_PARTS = NUM_PARTS, verbose = 'test')"
      ]
    },
    {
      "cell_type": "code",
      "execution_count": 15,
      "metadata": {
        "execution": {
          "iopub.execute_input": "2022-07-15T16:48:47.081924Z",
          "iopub.status.busy": "2022-07-15T16:48:47.081615Z",
          "iopub.status.idle": "2022-07-15T16:50:55.407348Z",
          "shell.execute_reply": "2022-07-15T16:50:55.406352Z"
        },
        "papermill": {
          "duration": 128.349422,
          "end_time": "2022-07-15T16:50:55.410249",
          "exception": false,
          "start_time": "2022-07-15T16:48:47.060827",
          "status": "completed"
        },
        "tags": [],
        "id": "9cf53fd3",
        "outputId": "76703cd8-589e-4581-9068-f71bfd4b3d33",
        "colab": {
          "base_uri": "https://localhost:8080/"
        }
      },
      "outputs": [
        {
          "output_type": "stream",
          "name": "stdout",
          "text": [
            "\n",
            "Reading test data...\n",
            "=> Test part 1 has shape (231155, 2178)\n",
            "\n",
            "Reading test data...\n",
            "=> Test part 2 has shape (231155, 2178)\n",
            "\n",
            "Reading test data...\n",
            "=> Test part 3 has shape (231155, 2178)\n",
            "\n",
            "Reading test data...\n",
            "=> Test part 4 has shape (231156, 2178)\n"
          ]
        }
      ],
      "source": [
        "# INFER TEST DATA IN PARTS\n",
        "skip_rows = 0\n",
        "skip_cust = 0\n",
        "test_preds = []\n",
        "\n",
        "for k in range(NUM_PARTS):\n",
        "    \n",
        "    # READ PART OF TEST DATA\n",
        "    print(f'\\nReading test data...')\n",
        "    test_copy = test.iloc[skip_rows:skip_rows+rows[k]].copy()\n",
        "    test_copy = test_copy.set_index('customer_ID')\n",
        "    skip_rows += rows[k]\n",
        "    print(f'=> Test part {k+1} has shape', test_copy.shape )\n",
        "    \n",
        "    # PROCESS AND FEATURE ENGINEER PART OF TEST DATA\n",
        "    if k==NUM_PARTS-1: test_copy = test_copy.loc[customers[skip_cust:]]\n",
        "    else: test_copy = test_copy.loc[customers[skip_cust:skip_cust+num_cust]]\n",
        "    skip_cust += num_cust\n",
        "        \n",
        "    # INFER XGB MODELS ON TEST DATA\n",
        "    model = joblib.load(f'lgbm_fold0_seed{CFG.seed}.pkl')\n",
        "    preds = model.predict(test_copy)\n",
        "    for f in range(1,CFG.n_folds):\n",
        "        model = joblib.load(f'lgbm_fold{f}_seed{CFG.seed}.pkl')\n",
        "        preds += model.predict(test_copy)\n",
        "    preds /= CFG.n_folds\n",
        "    test_preds.append(preds)\n",
        "\n",
        "    # CLEAN MEMORY\n",
        "    del test_copy, model\n",
        "    _ = gc.collect()\n",
        "\n",
        "del test\n",
        "_ = gc.collect()"
      ]
    },
    {
      "cell_type": "markdown",
      "metadata": {
        "papermill": {
          "duration": 0.067515,
          "end_time": "2022-07-15T16:50:55.538577",
          "exception": false,
          "start_time": "2022-07-15T16:50:55.471062",
          "status": "completed"
        },
        "tags": [],
        "id": "02259545"
      },
      "source": [
        "# Submit"
      ]
    },
    {
      "cell_type": "code",
      "execution_count": 16,
      "metadata": {
        "execution": {
          "iopub.execute_input": "2022-07-15T16:50:55.628196Z",
          "iopub.status.busy": "2022-07-15T16:50:55.627855Z",
          "iopub.status.idle": "2022-07-15T16:51:02.864876Z",
          "shell.execute_reply": "2022-07-15T16:51:02.864114Z"
        },
        "papermill": {
          "duration": 7.268354,
          "end_time": "2022-07-15T16:51:02.866646",
          "exception": false,
          "start_time": "2022-07-15T16:50:55.598292",
          "status": "completed"
        },
        "tags": [],
        "id": "00d908fd",
        "outputId": "14a402e4-6e1c-4d7f-f8ba-20cfa40f44d0",
        "colab": {
          "base_uri": "https://localhost:8080/",
          "height": 224
        }
      },
      "outputs": [
        {
          "output_type": "stream",
          "name": "stdout",
          "text": [
            "Submission file shape is (924621, 2)\n"
          ]
        },
        {
          "output_type": "execute_result",
          "data": {
            "text/plain": [
              "                                         customer_ID  prediction\n",
              "0  00000469ba478561f23a92a868bd366de6f6527a684c9a...    0.018888\n",
              "1  00001bf2e77ff879fab36aa4fac689b9ba411dae63ae39...    0.000581\n",
              "2  0000210045da4f81e5f122c6bde5c2a617d03eef67f82c...    0.035376\n",
              "3  00003b41e58ede33b8daf61ab56d9952f17c9ad1c3976c...    0.205405\n",
              "4  00004b22eaeeeb0ec976890c1d9bfc14fd9427e98c4ee9...    0.874587"
            ],
            "text/html": [
              "\n",
              "  <div id=\"df-e049d488-3879-407b-a541-1b134db74512\">\n",
              "    <div class=\"colab-df-container\">\n",
              "      <div>\n",
              "<style scoped>\n",
              "    .dataframe tbody tr th:only-of-type {\n",
              "        vertical-align: middle;\n",
              "    }\n",
              "\n",
              "    .dataframe tbody tr th {\n",
              "        vertical-align: top;\n",
              "    }\n",
              "\n",
              "    .dataframe thead th {\n",
              "        text-align: right;\n",
              "    }\n",
              "</style>\n",
              "<table border=\"1\" class=\"dataframe\">\n",
              "  <thead>\n",
              "    <tr style=\"text-align: right;\">\n",
              "      <th></th>\n",
              "      <th>customer_ID</th>\n",
              "      <th>prediction</th>\n",
              "    </tr>\n",
              "  </thead>\n",
              "  <tbody>\n",
              "    <tr>\n",
              "      <th>0</th>\n",
              "      <td>00000469ba478561f23a92a868bd366de6f6527a684c9a...</td>\n",
              "      <td>0.018888</td>\n",
              "    </tr>\n",
              "    <tr>\n",
              "      <th>1</th>\n",
              "      <td>00001bf2e77ff879fab36aa4fac689b9ba411dae63ae39...</td>\n",
              "      <td>0.000581</td>\n",
              "    </tr>\n",
              "    <tr>\n",
              "      <th>2</th>\n",
              "      <td>0000210045da4f81e5f122c6bde5c2a617d03eef67f82c...</td>\n",
              "      <td>0.035376</td>\n",
              "    </tr>\n",
              "    <tr>\n",
              "      <th>3</th>\n",
              "      <td>00003b41e58ede33b8daf61ab56d9952f17c9ad1c3976c...</td>\n",
              "      <td>0.205405</td>\n",
              "    </tr>\n",
              "    <tr>\n",
              "      <th>4</th>\n",
              "      <td>00004b22eaeeeb0ec976890c1d9bfc14fd9427e98c4ee9...</td>\n",
              "      <td>0.874587</td>\n",
              "    </tr>\n",
              "  </tbody>\n",
              "</table>\n",
              "</div>\n",
              "      <button class=\"colab-df-convert\" onclick=\"convertToInteractive('df-e049d488-3879-407b-a541-1b134db74512')\"\n",
              "              title=\"Convert this dataframe to an interactive table.\"\n",
              "              style=\"display:none;\">\n",
              "        \n",
              "  <svg xmlns=\"http://www.w3.org/2000/svg\" height=\"24px\"viewBox=\"0 0 24 24\"\n",
              "       width=\"24px\">\n",
              "    <path d=\"M0 0h24v24H0V0z\" fill=\"none\"/>\n",
              "    <path d=\"M18.56 5.44l.94 2.06.94-2.06 2.06-.94-2.06-.94-.94-2.06-.94 2.06-2.06.94zm-11 1L8.5 8.5l.94-2.06 2.06-.94-2.06-.94L8.5 2.5l-.94 2.06-2.06.94zm10 10l.94 2.06.94-2.06 2.06-.94-2.06-.94-.94-2.06-.94 2.06-2.06.94z\"/><path d=\"M17.41 7.96l-1.37-1.37c-.4-.4-.92-.59-1.43-.59-.52 0-1.04.2-1.43.59L10.3 9.45l-7.72 7.72c-.78.78-.78 2.05 0 2.83L4 21.41c.39.39.9.59 1.41.59.51 0 1.02-.2 1.41-.59l7.78-7.78 2.81-2.81c.8-.78.8-2.07 0-2.86zM5.41 20L4 18.59l7.72-7.72 1.47 1.35L5.41 20z\"/>\n",
              "  </svg>\n",
              "      </button>\n",
              "      \n",
              "  <style>\n",
              "    .colab-df-container {\n",
              "      display:flex;\n",
              "      flex-wrap:wrap;\n",
              "      gap: 12px;\n",
              "    }\n",
              "\n",
              "    .colab-df-convert {\n",
              "      background-color: #E8F0FE;\n",
              "      border: none;\n",
              "      border-radius: 50%;\n",
              "      cursor: pointer;\n",
              "      display: none;\n",
              "      fill: #1967D2;\n",
              "      height: 32px;\n",
              "      padding: 0 0 0 0;\n",
              "      width: 32px;\n",
              "    }\n",
              "\n",
              "    .colab-df-convert:hover {\n",
              "      background-color: #E2EBFA;\n",
              "      box-shadow: 0px 1px 2px rgba(60, 64, 67, 0.3), 0px 1px 3px 1px rgba(60, 64, 67, 0.15);\n",
              "      fill: #174EA6;\n",
              "    }\n",
              "\n",
              "    [theme=dark] .colab-df-convert {\n",
              "      background-color: #3B4455;\n",
              "      fill: #D2E3FC;\n",
              "    }\n",
              "\n",
              "    [theme=dark] .colab-df-convert:hover {\n",
              "      background-color: #434B5C;\n",
              "      box-shadow: 0px 1px 3px 1px rgba(0, 0, 0, 0.15);\n",
              "      filter: drop-shadow(0px 1px 2px rgba(0, 0, 0, 0.3));\n",
              "      fill: #FFFFFF;\n",
              "    }\n",
              "  </style>\n",
              "\n",
              "      <script>\n",
              "        const buttonEl =\n",
              "          document.querySelector('#df-e049d488-3879-407b-a541-1b134db74512 button.colab-df-convert');\n",
              "        buttonEl.style.display =\n",
              "          google.colab.kernel.accessAllowed ? 'block' : 'none';\n",
              "\n",
              "        async function convertToInteractive(key) {\n",
              "          const element = document.querySelector('#df-e049d488-3879-407b-a541-1b134db74512');\n",
              "          const dataTable =\n",
              "            await google.colab.kernel.invokeFunction('convertToInteractive',\n",
              "                                                     [key], {});\n",
              "          if (!dataTable) return;\n",
              "\n",
              "          const docLinkHtml = 'Like what you see? Visit the ' +\n",
              "            '<a target=\"_blank\" href=https://colab.research.google.com/notebooks/data_table.ipynb>data table notebook</a>'\n",
              "            + ' to learn more about interactive tables.';\n",
              "          element.innerHTML = '';\n",
              "          dataTable['output_type'] = 'display_data';\n",
              "          await google.colab.output.renderOutput(dataTable, element);\n",
              "          const docLink = document.createElement('div');\n",
              "          docLink.innerHTML = docLinkHtml;\n",
              "          element.appendChild(docLink);\n",
              "        }\n",
              "      </script>\n",
              "    </div>\n",
              "  </div>\n",
              "  "
            ]
          },
          "metadata": {},
          "execution_count": 16
        }
      ],
      "source": [
        "# WRITE SUBMISSION FILE\n",
        "test = pd.DataFrame(index=customers,data={'prediction': np.concatenate(test_preds)})\n",
        "sub = pd.read_csv('sample_submission.csv')[['customer_ID']]\n",
        "sub['customer_ID_hash'] = sub['customer_ID'].copy()\n",
        "sub = sub.set_index('customer_ID_hash')\n",
        "sub = sub.merge(test[['prediction']], left_index=True, right_index=True, how='left')\n",
        "sub = sub.reset_index(drop=True)\n",
        "\n",
        "# DISPLAY PREDICTIONS\n",
        "sub.to_csv(f'submission_lgb_v1_seed{CFG.seed}_fold{CFG.n_folds}.csv',index=False)\n",
        "print('Submission file shape is', sub.shape )\n",
        "sub.head()"
      ]
    },
    {
      "cell_type": "code",
      "execution_count": 17,
      "metadata": {
        "execution": {
          "iopub.execute_input": "2022-07-15T16:51:02.918871Z",
          "iopub.status.busy": "2022-07-15T16:51:02.918494Z",
          "iopub.status.idle": "2022-07-15T16:51:03.267833Z",
          "shell.execute_reply": "2022-07-15T16:51:03.266949Z"
        },
        "papermill": {
          "duration": 0.374502,
          "end_time": "2022-07-15T16:51:03.269960",
          "exception": false,
          "start_time": "2022-07-15T16:51:02.895458",
          "status": "completed"
        },
        "tags": [],
        "id": "533e5941",
        "outputId": "bf183d72-5cd2-4154-cf9f-4f7122fac10a",
        "colab": {
          "base_uri": "https://localhost:8080/",
          "height": 281
        }
      },
      "outputs": [
        {
          "output_type": "display_data",
          "data": {
            "text/plain": [
              "<Figure size 432x288 with 1 Axes>"
            ],
            "image/png": "[encoded data removed]"
          },
          "metadata": {
            "needs_background": "light"
          }
        }
      ],
      "source": [
        "# PLOT PREDICTIONS\n",
        "import matplotlib.pyplot as plt\n",
        "plt.hist(sub.prediction, bins=100)\n",
        "plt.title('Test Predictions')\n",
        "plt.show()"
      ]
    },
    {
      "cell_type": "markdown",
      "source": [
        "# Prediction"
      ],
      "metadata": {
        "papermill": {
          "duration": 0.00263,
          "end_time": "2022-06-19T23:15:39.870669",
          "exception": false,
          "start_time": "2022-06-19T23:15:39.868039",
          "status": "completed"
        },
        "tags": [],
        "pycharm": {
          "name": "#%% md\n"
        },
        "id": "ofomkRituzly"
      }
    },
    {
      "cell_type": "code",
      "source": [
        "# Submit\n",
        "!kaggle competitions submit -c amex-default-prediction -f submission_lgb_v1_seed42_fold5.csv -m \"the first version. fe lag plus seed 52 fold 5 From colab\""
      ],
      "metadata": {
        "id": "A6OIgRv0CD76",
        "outputId": "b7d1a232-6027-4222-a844-2655f78d148d",
        "colab": {
          "base_uri": "https://localhost:8080/"
        }
      },
      "execution_count": 18,
      "outputs": [
        {
          "output_type": "stream",
          "name": "stdout",
          "text": [
            "100% 75.4M/75.4M [00:03<00:00, 22.1MB/s]\n",
            "Successfully submitted to American Express - Default Prediction"
          ]
        }
      ]
    },
    {
      "cell_type": "code",
      "source": [
        "!kaggle competitions submissions amex-default-prediction"
      ],
      "metadata": {
        "papermill": {
          "duration": 7.116467,
          "end_time": "2022-06-19T23:15:46.98989",
          "exception": false,
          "start_time": "2022-06-19T23:15:39.873423",
          "status": "completed"
        },
        "tags": [],
        "pycharm": {
          "name": "#%%\n"
        },
        "execution": {
          "iopub.status.busy": "2022-07-15T15:26:18.979284Z",
          "iopub.status.idle": "2022-07-15T15:26:18.979914Z",
          "shell.execute_reply.started": "2022-07-15T15:26:18.979701Z",
          "shell.execute_reply": "2022-07-15T15:26:18.979723Z"
        },
        "trusted": true,
        "id": "Ik1UoN1Auzly",
        "outputId": "28137c9e-b108-4cab-8960-3d555a8a081b",
        "colab": {
          "base_uri": "https://localhost:8080/"
        }
      },
      "execution_count": 20,
      "outputs": [
        {
          "output_type": "stream",
          "name": "stdout",
          "text": [
            "fileName                            date                 description                                               status    publicScore  privateScore  \n",
            "----------------------------------  -------------------  --------------------------------------------------------  --------  -----------  ------------  \n",
            "submission_lgb_v1_seed42_fold5.csv  2022-07-23 16:48:14  the first version. fe lag plus seed 52 fold 5 From colab  complete  0.797                      \n",
            "Amex Default Prediction - Ensemble  2022-07-23 11:15:04  Notebook Amex Default Prediction - Ensemble | Version 14  complete  0.798                      \n",
            "Amex Default Prediction - Ensemble  2022-07-23 11:08:12  Notebook Amex Default Prediction - Ensemble | Version 13  complete  0.798                      \n",
            "submission_xgb_v1_seed42_fold5.csv  2022-07-23 10:58:31  From colab seed 42 fold 5 lag plus                        complete  0.795                      \n",
            "submission_cat_v1_seed42_fold5.csv  2022-07-23 09:53:21  From colab seed 42 fold 5 lag plus                        complete  0.796                      \n",
            "Amex Default Prediction - Ensemble  2022-07-22 12:32:58  Notebook Amex Default Prediction - Ensemble | Version 12  complete  0.798                      \n",
            "Amex Default Prediction - Ensemble  2022-07-22 12:30:01  Notebook Amex Default Prediction - Ensemble | Version 11  complete  0.798                      \n",
            "submission_xgb_v1_seed42_fold2.csv  2022-07-22 12:19:29  From colab seed 42 fold 5 lag plus                        complete  0.794                      \n",
            "Amex Default Prediction - Ensemble  2022-07-21 12:48:16  Notebook Amex Default Prediction - Ensemble | Version 9   complete  0.798                      \n",
            "submission_xgb_v1_seed42_fold5.csv  2022-07-21 12:36:23  From colab seed 42 fold 5 lag plus                        complete  0.794                      \n",
            "Amex Default Prediction - Ensemble  2022-07-20 17:29:34  Notebook Amex Default Prediction - Ensemble | Version 8   complete  0.798                      \n",
            "Amex Default Prediction - Ensemble  2022-07-20 17:13:37  Notebook Amex Default Prediction - Ensemble | Version 7   complete  0.798                      \n",
            "Amex Default Prediction - Ensemble  2022-07-20 17:10:16  Notebook Amex Default Prediction - Ensemble | Version 6   complete  0.798                      \n",
            "Amex Default Prediction - Ensemble  2022-07-20 17:08:15  Notebook Amex Default Prediction - Ensemble | Version 5   complete  0.798                      \n",
            "submission_xgb_v1_seed42_fold5.csv  2022-07-20 16:58:31  From colab seed 42 fold 5 lag plus                        complete  0.794                      \n",
            "submission_cat_v1_seed42_fold5.csv  2022-07-19 17:31:52  From colab seed 42 fold 5 lag plus                        complete  0.795                      \n",
            "Amex Default Prediction - Ensemble  2022-07-19 16:37:40  Notebook Amex Default Prediction - Ensemble | Version 4   complete  0.798                      \n",
            "Amex Default Prediction - Ensemble  2022-07-19 16:34:17  Notebook Amex Default Prediction - Ensemble | Version 2   complete  0.798                      \n",
            "submission_cat_v1_seed42_fold5.csv  2022-07-19 12:11:59  From colab seed 42 fold 5 lag plus                        complete  0.795                      \n",
            "Amex Default Prediction with Cat    2022-07-18 23:01:33  Notebook Amex Default Prediction with Cat | Version 129   complete  0.798                      \n",
            "Amex Default Prediction with Cat    2022-07-18 22:58:51  Notebook Amex Default Prediction with Cat | Version 128   complete  0.798                      \n",
            "submission_cat_v1_seed42_fold5.csv  2022-07-18 22:27:50  From colab seed 42 fold 5 lag plus                        complete  0.795                      \n",
            "submission_lgb_v1_seed42_fold5.csv  2022-07-18 20:37:22  the first version. fe lag plus seed 52 fold 5 From colab  complete  0.797                      \n",
            "submission_cat_v1.csv               2022-07-18 06:30:57  From colab seed 42 fold 5 lag plus                        complete  0.795                      \n",
            "Amex Default Prediction with Cat    2022-07-16 16:14:20  Notebook Amex Default Prediction with Cat | Version 125   complete  0.794                      \n",
            "Amex Default Prediction with Cat    2022-07-15 16:33:32  Notebook Amex Default Prediction with Cat | Version 127   complete  0.798                      \n",
            "Amex Default Prediction with Cat    2022-07-15 16:24:25  Notebook Amex Default Prediction with Cat | Version 126   complete  0.798                      \n",
            "submission_cat_v123_seed52_794.csv  2022-07-15 16:12:09                                                            complete  0.795                      \n",
            "submission_cat_v123_0794.csv        2022-07-15 15:47:08                                                            complete  0.795                      \n",
            "Amex Default Prediction with Cat    2022-07-15 13:53:07  Notebook Amex Default Prediction with Cat | Version 123   complete  0.798                      \n",
            "Amex Default Prediction with Cat    2022-07-12 10:17:49  Notebook Amex Default Prediction with Cat | Version 122   complete  0.794                      \n",
            "Amex Default Prediction with Cat    2022-07-11 16:41:48  Notebook Amex Default Prediction with Cat | Version 119   complete  0.794                      \n",
            "Amex Default Prediction with Cat    2022-07-11 13:00:10  Notebook Amex Default Prediction with Cat | Version 116   complete  0.794                      \n",
            "Amex Default Prediction with Cat    2022-07-10 12:29:19  Notebook Amex Default Prediction with Cat | Version 115   complete  0.798                      \n",
            "Amex Default Prediction with Cat    2022-07-10 12:26:36  Notebook Amex Default Prediction with Cat | Version 114   complete  0.797                      \n",
            "Amex Default Prediction with Cat    2022-07-10 07:38:14  Notebook Amex Default Prediction with Cat | Version 109   complete  0.798                      \n",
            "Amex Default Prediction with Cat    2022-07-10 07:34:41  Notebook Amex Default Prediction with Cat | Version 108   complete  0.798                      \n",
            "Amex Default Prediction with Cat    2022-07-10 07:31:41  Notebook Amex Default Prediction with Cat | Version 107   complete  0.798                      \n",
            "Amex Default Prediction with Cat    2022-07-07 16:06:53  Notebook Amex Default Prediction with Cat | Version 106   complete  0.798                      \n",
            "Amex Default Prediction with Cat    2022-07-07 16:01:41  Notebook Amex Default Prediction with Cat | Version 105   complete  0.797                      \n",
            "Amex Default Prediction with Cat    2022-07-07 15:55:53  Notebook Amex Default Prediction with Cat | Version 104   complete  0.798                      \n",
            "Amex Default Prediction with Cat    2022-07-07 15:52:16  Notebook Amex Default Prediction with Cat | Version 103   complete  0.797                      \n",
            "Amex Default Prediction with Cat    2022-07-05 15:48:47  Notebook Amex Default Prediction with Cat | Version 102   complete  0.797                      \n",
            "Amex Default Prediction with Cat    2022-07-05 15:46:36  Notebook Amex Default Prediction with Cat | Version 101   complete  0.797                      \n",
            "Amex Default Prediction with Cat    2022-07-05 15:37:48  Notebook Amex Default Prediction with Cat | Version 100   complete  0.797                      \n",
            "Amex Default Prediction with Cat    2022-07-05 15:33:29  Notebook Amex Default Prediction with Cat | Version 99    complete  0.797                      \n",
            "Amex Default Prediction with Cat    2022-07-05 15:29:38  Notebook Amex Default Prediction with Cat | Version 98    complete  0.797                      \n",
            "Amex Default Prediction with Cat    2022-07-04 16:21:46  Notebook Amex Default Prediction with Cat | Version 97    complete  0.797                      \n",
            "Amex Default Prediction with Cat    2022-07-04 16:09:39  Notebook Amex Default Prediction with Cat | Version 95    complete  0.797                      \n",
            "Amex Default Prediction with Cat    2022-07-04 14:45:39  Notebook Amex Default Prediction with Cat | Version 93    complete  0.797                      \n"
          ]
        }
      ]
    }
  ]
}
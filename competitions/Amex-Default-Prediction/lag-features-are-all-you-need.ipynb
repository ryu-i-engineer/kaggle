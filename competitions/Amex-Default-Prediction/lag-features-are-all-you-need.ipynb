{
  "metadata": {
    "kernelspec": {
      "language": "python",
      "display_name": "Python 3",
      "name": "python3"
    },
    "language_info": {
      "pygments_lexer": "ipython3",
      "nbconvert_exporter": "python",
      "version": "3.6.4",
      "file_extension": ".py",
      "codemirror_mode": {
        "name": "ipython",
        "version": 3
      },
      "name": "python",
      "mimetype": "text/x-python"
    },
    "colab": {
      "name": "lag-features-are-all-you-need.ipynb",
      "provenance": [],
      "machine_shape": "hm"
    },
    "gpuClass": "standard",
    "accelerator": "TPU"
  },
  "nbformat_minor": 0,
  "nbformat": 4,
  "cells": [
    {
      "cell_type": "markdown",
      "source": [
        "# Preparing for colab"
      ],
      "metadata": {
        "id": "whFMYLB1u7rD"
      }
    },
    {
      "cell_type": "code",
      "source": [
        "!pip install kaggle"
      ],
      "metadata": {
        "id": "MwbPTJbLu1oU",
        "outputId": "6fe9e8aa-7f3d-4539-d95d-36a25f751f40",
        "colab": {
          "base_uri": "https://localhost:8080/"
        }
      },
      "execution_count": null,
      "outputs": [
        {
          "output_type": "stream",
          "name": "stdout",
          "text": [
            "Looking in indexes: https://pypi.org/simple, https://us-python.pkg.dev/colab-wheels/public/simple/\n",
            "Requirement already satisfied: kaggle in /usr/local/lib/python3.7/dist-packages (1.5.12)\n",
            "Requirement already satisfied: requests in /usr/local/lib/python3.7/dist-packages (from kaggle) (2.23.0)\n",
            "Requirement already satisfied: certifi in /usr/local/lib/python3.7/dist-packages (from kaggle) (2022.6.15)\n",
            "Requirement already satisfied: python-slugify in /usr/local/lib/python3.7/dist-packages (from kaggle) (6.1.2)\n",
            "Requirement already satisfied: urllib3 in /usr/local/lib/python3.7/dist-packages (from kaggle) (1.24.3)\n",
            "Requirement already satisfied: python-dateutil in /usr/local/lib/python3.7/dist-packages (from kaggle) (2.8.2)\n",
            "Requirement already satisfied: six>=1.10 in /usr/local/lib/python3.7/dist-packages (from kaggle) (1.15.0)\n",
            "Requirement already satisfied: tqdm in /usr/local/lib/python3.7/dist-packages (from kaggle) (4.64.0)\n",
            "Requirement already satisfied: text-unidecode>=1.3 in /usr/local/lib/python3.7/dist-packages (from python-slugify->kaggle) (1.3)\n",
            "Requirement already satisfied: idna<3,>=2.5 in /usr/local/lib/python3.7/dist-packages (from requests->kaggle) (2.10)\n",
            "Requirement already satisfied: chardet<4,>=3.0.2 in /usr/local/lib/python3.7/dist-packages (from requests->kaggle) (3.0.4)\n"
          ]
        }
      ]
    },
    {
      "cell_type": "code",
      "source": [
        "from google.colab import drive\n",
        "drive.mount('/content/drive')\n",
        "\n",
        "# Then move kaggle.json into the folder where the API expects to find it.\n",
        "!mkdir -p ~/.kaggle/ && cp /content/drive/MyDrive/backups/kaggle.json ~/.kaggle/ && chmod 600 ~/.kaggle/kaggle.json"
      ],
      "metadata": {
        "id": "Lx3ZHpcHvLK0",
        "outputId": "90b33a49-1e36-40a7-d764-5e7873dbb0b9",
        "colab": {
          "base_uri": "https://localhost:8080/"
        }
      },
      "execution_count": null,
      "outputs": [
        {
          "output_type": "stream",
          "name": "stdout",
          "text": [
            "Mounted at /content/drive\n"
          ]
        }
      ]
    },
    {
      "cell_type": "code",
      "source": [
        "!kaggle competitions download -c amex-default-prediction -f sample_submission.csv\n",
        "!unzip /content/sample_submission.csv.zip"
      ],
      "metadata": {
        "id": "jeIvlVN0vQ08",
        "outputId": "80898686-8e4c-445c-be23-b680cb0e75b1",
        "colab": {
          "base_uri": "https://localhost:8080/"
        }
      },
      "execution_count": null,
      "outputs": [
        {
          "output_type": "stream",
          "name": "stdout",
          "text": [
            "Downloading sample_submission.csv.zip to /content\n",
            "\r  0% 0.00/32.4M [00:00<?, ?B/s]\r 25% 8.00M/32.4M [00:00<00:00, 83.0MB/s]\r 96% 31.0M/32.4M [00:00<00:00, 174MB/s] \n",
            "\r100% 32.4M/32.4M [00:00<00:00, 164MB/s]\n",
            "Archive:  /content/sample_submission.csv.zip\n",
            "  inflating: sample_submission.csv   \n"
          ]
        }
      ]
    },
    {
      "cell_type": "code",
      "source": [
        "!kaggle competitions download -c amex-default-prediction -f train_labels.csv\n",
        "!unzip /content/train_labels.csv.zip"
      ],
      "metadata": {
        "id": "PfGNoPMDxoPk",
        "outputId": "f792cd43-0837-498a-910d-cbf2b06846be",
        "colab": {
          "base_uri": "https://localhost:8080/"
        }
      },
      "execution_count": null,
      "outputs": [
        {
          "output_type": "stream",
          "name": "stdout",
          "text": [
            "Downloading train_labels.csv.zip to /content\n",
            "\r  0% 0.00/16.2M [00:00<?, ?B/s]\r 56% 9.00M/16.2M [00:00<00:00, 87.6MB/s]\n",
            "\r100% 16.2M/16.2M [00:00<00:00, 129MB/s] \n",
            "Archive:  /content/train_labels.csv.zip\n",
            "  inflating: train_labels.csv        \n"
          ]
        }
      ]
    },
    {
      "cell_type": "markdown",
      "source": [
        "# Training & Inference"
      ],
      "metadata": {
        "papermill": {
          "duration": 0.002398,
          "end_time": "2022-06-19T23:15:37.946621",
          "exception": false,
          "start_time": "2022-06-19T23:15:37.944223",
          "status": "completed"
        },
        "tags": [],
        "pycharm": {
          "name": "#%% md\n"
        },
        "id": "672r-QJMuzlw"
      }
    },
    {
      "cell_type": "code",
      "source": [
        "!kaggle datasets download -d ryuina/amex-fe-plus3\n",
        "!unzip /content/amex-fe-plus3.zip"
      ],
      "metadata": {
        "id": "C2Kqq_4l7Am1",
        "outputId": "baf09ce1-ca31-4eb1-cb56-f3ceff320d12",
        "colab": {
          "base_uri": "https://localhost:8080/"
        }
      },
      "execution_count": null,
      "outputs": [
        {
          "output_type": "stream",
          "name": "stdout",
          "text": [
            "Downloading amex-fe-plus3.zip to /content\n",
            "100% 3.45G/3.46G [00:32<00:00, 130MB/s]\n",
            "100% 3.46G/3.46G [00:32<00:00, 116MB/s]\n",
            "Archive:  /content/amex-fe-plus3.zip\n",
            "  inflating: test_fe_plus_plus.parquet  \n",
            "  inflating: train_fe_plus_plus.parquet  \n"
          ]
        }
      ]
    },
    {
      "cell_type": "code",
      "source": [
        "# ====================================================\n",
        "# Library\n",
        "# ====================================================\n",
        "import os\n",
        "import gc; gc.enable()\n",
        "import joblib\n",
        "import pickle\n",
        "import random\n",
        "import warnings\n",
        "import itertools\n",
        "import scipy as sp\n",
        "import numpy as np\n",
        "import pandas as pd\n",
        "from tqdm import tqdm\n",
        "import xgboost as xgb\n",
        "import lightgbm as lgb\n",
        "warnings.filterwarnings('ignore')\n",
        "from itertools import combinations\n",
        "pd.set_option('display.width', 1000)\n",
        "pd.set_option('display.max_rows', 500)\n",
        "pd.set_option('display.max_columns', 500)\n",
        "from sklearn.preprocessing import LabelEncoder\n",
        "from sklearn.model_selection import StratifiedKFold, train_test_split\n",
        "\n",
        "class CFG:\n",
        "    input_dir = '/content/'\n",
        "    seed = 42\n",
        "    n_folds = 5\n",
        "    target = 'target'\n",
        "\n",
        "def seed_everything(seed):\n",
        "    random.seed(seed)\n",
        "    np.random.seed(seed)\n",
        "    os.environ['PYTHONHASHSEED'] = str(seed)\n",
        "\n",
        "def read_data():\n",
        "    train = pd.read_parquet(CFG.input_dir + 'train_fe_plus_plus.parquet')\n",
        "    test = pd.read_parquet(CFG.input_dir + 'test_fe_plus_plus.parquet')\n",
        "    return train, test\n",
        "\n",
        "def amex_metric(y_true, y_pred):\n",
        "    labels = np.transpose(np.array([y_true, y_pred]))\n",
        "    labels = labels[labels[:, 1].argsort()[::-1]]\n",
        "    weights = np.where(labels[:,0]==0, 20, 1)\n",
        "    cut_vals = labels[np.cumsum(weights) <= int(0.04 * np.sum(weights))]\n",
        "    top_four = np.sum(cut_vals[:,0]) / np.sum(labels[:,0])\n",
        "    gini = [0,0]\n",
        "    for i in [1,0]:\n",
        "        labels = np.transpose(np.array([y_true, y_pred]))\n",
        "        labels = labels[labels[:, i].argsort()[::-1]]\n",
        "        weight = np.where(labels[:,0]==0, 20, 1)\n",
        "        weight_random = np.cumsum(weight / np.sum(weight))\n",
        "        total_pos = np.sum(labels[:, 0] *  weight)\n",
        "        cum_pos_found = np.cumsum(labels[:, 0] * weight)\n",
        "        lorentz = cum_pos_found / total_pos\n",
        "        gini[i] = np.sum((lorentz - weight_random) * weight)\n",
        "    return 0.5 * (gini[1]/gini[0] + top_four)\n",
        "\n",
        "def amex_metric_np(preds, target):\n",
        "    indices = np.argsort(preds)[::-1]\n",
        "    preds, target = preds[indices], target[indices]\n",
        "    weight = 20.0 - target * 19.0\n",
        "    cum_norm_weight = (weight / weight.sum()).cumsum()\n",
        "    four_pct_mask = cum_norm_weight <= 0.04\n",
        "    d = np.sum(target[four_pct_mask]) / np.sum(target)\n",
        "    weighted_target = target * weight\n",
        "    lorentz = (weighted_target / weighted_target.sum()).cumsum()\n",
        "    gini = ((lorentz - cum_norm_weight) * weight).sum()\n",
        "    n_pos = np.sum(target)\n",
        "    n_neg = target.shape[0] - n_pos\n",
        "    gini_max = 10 * n_neg * (n_pos + 20 * n_neg - 19) / (n_pos + 20 * n_neg)\n",
        "    g = gini / gini_max\n",
        "    return 0.5 * (g + d)"
      ],
      "metadata": {
        "papermill": {
          "duration": 1.91354,
          "end_time": "2022-06-19T23:15:39.862701",
          "exception": false,
          "start_time": "2022-06-19T23:15:37.949161",
          "status": "completed"
        },
        "tags": [],
        "pycharm": {
          "name": "#%%\n"
        },
        "execution": {
          "iopub.status.busy": "2022-07-15T15:26:18.975287Z",
          "iopub.status.idle": "2022-07-15T15:26:18.975786Z",
          "shell.execute_reply.started": "2022-07-15T15:26:18.975552Z",
          "shell.execute_reply": "2022-07-15T15:26:18.975573Z"
        },
        "trusted": true,
        "id": "15l0MOvouzlw"
      },
      "execution_count": null,
      "outputs": []
    },
    {
      "cell_type": "markdown",
      "source": [
        "### Training LightGBM (DART) Model\n",
        "\n",
        "- Final predictions output uploaded as a public dataset. "
      ],
      "metadata": {
        "id": "64hhK5K2uzlx"
      }
    },
    {
      "cell_type": "code",
      "source": [
        "seed_everything(CFG.seed)\n",
        "train, test = read_data()"
      ],
      "metadata": {
        "id": "kFQsUkTpemrU"
      },
      "execution_count": null,
      "outputs": []
    },
    {
      "cell_type": "code",
      "source": [
        "# Label encode categorical features\n",
        "cat_features = [\n",
        "    \"B_30\",\n",
        "    \"B_38\",\n",
        "    \"D_114\",\n",
        "    \"D_116\",\n",
        "    \"D_117\",\n",
        "    \"D_120\",\n",
        "    \"D_126\",\n",
        "    \"D_63\",\n",
        "    \"D_64\",\n",
        "    \"D_66\",\n",
        "    \"D_68\"\n",
        "]\n",
        "cat_features = [f\"{cf}_last\" for cf in cat_features]\n",
        "for cat_col in cat_features:\n",
        "    encoder = LabelEncoder()\n",
        "    train[cat_col] = encoder.fit_transform(train[cat_col])\n",
        "    test[cat_col] = encoder.transform(test[cat_col])\n",
        "\n",
        "# Round last float features to 2 decimal place\n",
        "num_cols = list(train.dtypes[(train.dtypes == 'float32') | (train.dtypes == 'float64')].index)\n",
        "num_cols = [col for col in num_cols if 'last' in col]\n",
        "for col in num_cols:\n",
        "    train[col + '_round2'] = train[col].round(2)\n",
        "    test[col + '_round2'] = test[col].round(2)\n",
        "\n",
        "num_cols = [col for col in train.columns if 'last' in col]\n",
        "num_cols = [col[:-5] for col in num_cols if 'round' not in col]\n",
        "for col in num_cols:\n",
        "    try:\n",
        "        # train[f'{col}_max-last'] = train[f'{col}_max'] - train[f'{col}_last']\n",
        "        # test[f'{col}_max-last'] = test[f'{col}_max'] - test[f'{col}_last']\n",
        "\n",
        "        # train[f'{col}_mean_min'] = train[f'{col}mean'] - train[f'{col}_min']\n",
        "        # test[f'{col}_mean_min'] = test[f'{col}_mean'] - test[f'{col}_min']\n",
        "\n",
        "        train[f'{col}_last_mean'] = train[f'{col}_last'] - train[f'{col}_mean']\n",
        "        test[f'{col}_last_mean'] = test[f'{col}_last'] - test[f'{col}_mean']\n",
        "\n",
        "        train[f'{col}_last_mean_div'] = train[f'{col}_last'] / train[f'{col}_mean']\n",
        "        test[f'{col}_last_mean_div'] = test[f'{col}_last'] / test[f'{col}_mean']\n",
        "    except: pass\n",
        "\n",
        "num_cols = list(train.dtypes[(train.dtypes == 'float32') | (train.dtypes == 'float64')].index)\n",
        "for col in tqdm(num_cols):\n",
        "    train[col] = train[col].astype(np.float16)\n",
        "    test[col] = test[col].astype(np.float16)\n",
        "\n",
        "# Get feature list\n",
        "features = [col for col in train.columns if col not in ['customer_ID', CFG.target]]"
      ],
      "metadata": {
        "id": "3apqtSQzbZG1",
        "outputId": "6491bf57-37d9-4d4f-c3da-d0cfd8d8bef0",
        "colab": {
          "base_uri": "https://localhost:8080/"
        }
      },
      "execution_count": null,
      "outputs": [
        {
          "output_type": "stream",
          "name": "stderr",
          "text": [
            "100%|██████████| 1182/1182 [10:59<00:00,  1.79it/s]\n"
          ]
        }
      ]
    },
    {
      "cell_type": "code",
      "source": [
        "params = {\n",
        "    'objective': 'binary',\n",
        "    'metric': \"binary_logloss\",\n",
        "    'boosting': 'dart',\n",
        "    'seed': CFG.seed,\n",
        "    'num_leaves': 100,\n",
        "    'learning_rate': 0.02,\n",
        "    'feature_fraction': 0.20,\n",
        "    'bagging_freq': 10,\n",
        "    'bagging_fraction': 0.50,\n",
        "    'n_jobs': -1,\n",
        "    'lambda_l2': 2,\n",
        "    'min_data_in_leaf': 40,\n",
        "    # 'device_type': 'gpu'\n",
        "    }"
      ],
      "metadata": {
        "id": "S00nxuAZbdBP"
      },
      "execution_count": null,
      "outputs": []
    },
    {
      "cell_type": "code",
      "source": [
        "def lgb_amex_metric(y_pred, y_true):\n",
        "    y_true = y_true.get_label()\n",
        "    return 'amex_metric', amex_metric(y_true, y_pred), True\n",
        "\n",
        "def train_and_evaluate(train):\n",
        "    # Create a numpy array to store out of folds predictions\n",
        "    oof_predictions = np.zeros(len(train))\n",
        "    kfold = StratifiedKFold(n_splits = CFG.n_folds, shuffle = True, random_state = CFG.seed)\n",
        "    for fold, (trn_ind, val_ind) in enumerate(kfold.split(train, train[CFG.target])):\n",
        "        print(' ')\n",
        "        print('-'*50)\n",
        "        print(f'Training fold {fold} with {len(features)} features...')\n",
        "        x_train, x_val = train[features].iloc[trn_ind], train[features].iloc[val_ind]\n",
        "        y_train, y_val = train[CFG.target].iloc[trn_ind], train[CFG.target].iloc[val_ind]\n",
        "        lgb_train = lgb.Dataset(x_train, y_train, categorical_feature = cat_features)\n",
        "        lgb_valid = lgb.Dataset(x_val, y_val, categorical_feature = cat_features)\n",
        "        model = lgb.train(\n",
        "            params = params,\n",
        "            train_set = lgb_train,\n",
        "            num_boost_round = 10500,\n",
        "            valid_sets = [lgb_train, lgb_valid],\n",
        "            early_stopping_rounds = 100,\n",
        "            verbose_eval = 500,\n",
        "            feval = lgb_amex_metric\n",
        "            )\n",
        "        # Save best model\n",
        "        joblib.dump(model, f'lgbm_fold{fold}_seed{CFG.seed}.pkl')\n",
        "        # Predict validation\n",
        "        val_pred = model.predict(x_val)\n",
        "        # Add to out of folds array\n",
        "        oof_predictions[val_ind] = val_pred\n",
        "\n",
        "        # Compute fold metric\n",
        "        score = amex_metric(y_val, val_pred)\n",
        "        print(f'Our fold {fold} CV score is {score}')\n",
        "        del x_train, x_val, y_train, y_val, lgb_train, lgb_valid, model\n",
        "        gc.collect()\n",
        "    # Compute out of folds metric\n",
        "    score = amex_metric(train[CFG.target], oof_predictions)\n",
        "    print(f'Our out of folds CV score is {score}')\n",
        "    # Create a dataframe to store out of folds predictions\n",
        "    oof_df = pd.DataFrame({'customer_ID': train['customer_ID'], 'target': train[CFG.target], 'prediction': oof_predictions})\n",
        "    oof_df.to_csv(f'oof_lgbm_baseline_{CFG.n_folds}fold_seed{CFG.seed}.csv', index = False)\n",
        "\n",
        "train_and_evaluate(train)"
      ],
      "metadata": {
        "pycharm": {
          "name": "#%%\n"
        },
        "jupyter": {
          "outputs_hidden": false
        },
        "execution": {
          "iopub.status.busy": "2022-07-15T15:26:18.977741Z",
          "iopub.status.idle": "2022-07-15T15:26:18.978405Z",
          "shell.execute_reply.started": "2022-07-15T15:26:18.978196Z",
          "shell.execute_reply": "2022-07-15T15:26:18.978218Z"
        },
        "trusted": true,
        "id": "9p5Z6PX7uzlx",
        "outputId": "58aeb391-55d5-4f5c-b1bc-4bcbb3d7211d",
        "colab": {
          "base_uri": "https://localhost:8080/"
        }
      },
      "execution_count": 10,
      "outputs": [
        {
          "output_type": "stream",
          "name": "stdout",
          "text": [
            " \n",
            "--------------------------------------------------\n",
            "Training fold 0 with 2000 features...\n",
            "[500]\ttraining's binary_logloss: 0.257123\ttraining's amex_metric: 0.790973\tvalid_1's binary_logloss: 0.261743\tvalid_1's amex_metric: 0.779765\n",
            "[1000]\ttraining's binary_logloss: 0.210009\ttraining's amex_metric: 0.818711\tvalid_1's binary_logloss: 0.223293\tvalid_1's amex_metric: 0.793452\n",
            "[1500]\ttraining's binary_logloss: 0.195769\ttraining's amex_metric: 0.838993\tvalid_1's binary_logloss: 0.21803\tvalid_1's amex_metric: 0.796174\n",
            "[2000]\ttraining's binary_logloss: 0.182944\ttraining's amex_metric: 0.858895\tvalid_1's binary_logloss: 0.2151\tvalid_1's amex_metric: 0.800748\n",
            "[2500]\ttraining's binary_logloss: 0.1743\ttraining's amex_metric: 0.873868\tvalid_1's binary_logloss: 0.214081\tvalid_1's amex_metric: 0.801561\n",
            "[3000]\ttraining's binary_logloss: 0.165025\ttraining's amex_metric: 0.889066\tvalid_1's binary_logloss: 0.213307\tvalid_1's amex_metric: 0.801262\n",
            "[3500]\ttraining's binary_logloss: 0.156057\ttraining's amex_metric: 0.904262\tvalid_1's binary_logloss: 0.212781\tvalid_1's amex_metric: 0.801522\n",
            "[4000]\ttraining's binary_logloss: 0.147994\ttraining's amex_metric: 0.918431\tvalid_1's binary_logloss: 0.212451\tvalid_1's amex_metric: 0.801005\n",
            "[4500]\ttraining's binary_logloss: 0.140175\ttraining's amex_metric: 0.931573\tvalid_1's binary_logloss: 0.212377\tvalid_1's amex_metric: 0.801893\n",
            "[5000]\ttraining's binary_logloss: 0.132499\ttraining's amex_metric: 0.943243\tvalid_1's binary_logloss: 0.212292\tvalid_1's amex_metric: 0.801803\n",
            "[5500]\ttraining's binary_logloss: 0.125772\ttraining's amex_metric: 0.953108\tvalid_1's binary_logloss: 0.212313\tvalid_1's amex_metric: 0.802191\n",
            "[6000]\ttraining's binary_logloss: 0.120036\ttraining's amex_metric: 0.960843\tvalid_1's binary_logloss: 0.212269\tvalid_1's amex_metric: 0.801607\n",
            "[6500]\ttraining's binary_logloss: 0.11421\ttraining's amex_metric: 0.968019\tvalid_1's binary_logloss: 0.212341\tvalid_1's amex_metric: 0.80201\n",
            "[7000]\ttraining's binary_logloss: 0.107653\ttraining's amex_metric: 0.975854\tvalid_1's binary_logloss: 0.212449\tvalid_1's amex_metric: 0.801339\n",
            "[7500]\ttraining's binary_logloss: 0.101559\ttraining's amex_metric: 0.981656\tvalid_1's binary_logloss: 0.212641\tvalid_1's amex_metric: 0.801897\n",
            "[8000]\ttraining's binary_logloss: 0.0962467\ttraining's amex_metric: 0.986484\tvalid_1's binary_logloss: 0.212815\tvalid_1's amex_metric: 0.801195\n",
            "[8500]\ttraining's binary_logloss: 0.0918014\ttraining's amex_metric: 0.990307\tvalid_1's binary_logloss: 0.212948\tvalid_1's amex_metric: 0.801053\n",
            "[9000]\ttraining's binary_logloss: 0.0869074\ttraining's amex_metric: 0.993205\tvalid_1's binary_logloss: 0.213198\tvalid_1's amex_metric: 0.8012\n",
            "[9500]\ttraining's binary_logloss: 0.0826426\ttraining's amex_metric: 0.99546\tvalid_1's binary_logloss: 0.213468\tvalid_1's amex_metric: 0.801661\n",
            "[10000]\ttraining's binary_logloss: 0.0785266\ttraining's amex_metric: 0.997336\tvalid_1's binary_logloss: 0.213667\tvalid_1's amex_metric: 0.801394\n",
            "[10500]\ttraining's binary_logloss: 0.0750706\ttraining's amex_metric: 0.998309\tvalid_1's binary_logloss: 0.214008\tvalid_1's amex_metric: 0.801037\n",
            "Our fold 0 CV score is 0.8010364069054843\n",
            " \n",
            "--------------------------------------------------\n",
            "Training fold 1 with 2000 features...\n",
            "[500]\ttraining's binary_logloss: 0.256537\ttraining's amex_metric: 0.793307\tvalid_1's binary_logloss: 0.263263\tvalid_1's amex_metric: 0.772475\n",
            "[1000]\ttraining's binary_logloss: 0.209193\ttraining's amex_metric: 0.820123\tvalid_1's binary_logloss: 0.225792\tvalid_1's amex_metric: 0.784564\n",
            "[1500]\ttraining's binary_logloss: 0.194951\ttraining's amex_metric: 0.840026\tvalid_1's binary_logloss: 0.220647\tvalid_1's amex_metric: 0.788697\n",
            "[2000]\ttraining's binary_logloss: 0.182199\ttraining's amex_metric: 0.860218\tvalid_1's binary_logloss: 0.21816\tvalid_1's amex_metric: 0.790774\n",
            "[2500]\ttraining's binary_logloss: 0.17346\ttraining's amex_metric: 0.876179\tvalid_1's binary_logloss: 0.21743\tvalid_1's amex_metric: 0.791399\n",
            "[3000]\ttraining's binary_logloss: 0.164171\ttraining's amex_metric: 0.891608\tvalid_1's binary_logloss: 0.216781\tvalid_1's amex_metric: 0.792009\n",
            "[3500]\ttraining's binary_logloss: 0.155185\ttraining's amex_metric: 0.906124\tvalid_1's binary_logloss: 0.216368\tvalid_1's amex_metric: 0.792371\n",
            "[4000]\ttraining's binary_logloss: 0.147082\ttraining's amex_metric: 0.919852\tvalid_1's binary_logloss: 0.216219\tvalid_1's amex_metric: 0.792411\n",
            "[4500]\ttraining's binary_logloss: 0.139265\ttraining's amex_metric: 0.932522\tvalid_1's binary_logloss: 0.216007\tvalid_1's amex_metric: 0.79251\n",
            "[5000]\ttraining's binary_logloss: 0.131666\ttraining's amex_metric: 0.943969\tvalid_1's binary_logloss: 0.216021\tvalid_1's amex_metric: 0.792307\n",
            "[5500]\ttraining's binary_logloss: 0.124973\ttraining's amex_metric: 0.95348\tvalid_1's binary_logloss: 0.216072\tvalid_1's amex_metric: 0.79221\n",
            "[6000]\ttraining's binary_logloss: 0.119329\ttraining's amex_metric: 0.96163\tvalid_1's binary_logloss: 0.216135\tvalid_1's amex_metric: 0.79298\n",
            "[6500]\ttraining's binary_logloss: 0.113513\ttraining's amex_metric: 0.968541\tvalid_1's binary_logloss: 0.216361\tvalid_1's amex_metric: 0.793325\n",
            "[7000]\ttraining's binary_logloss: 0.106947\ttraining's amex_metric: 0.976111\tvalid_1's binary_logloss: 0.216444\tvalid_1's amex_metric: 0.792472\n",
            "[7500]\ttraining's binary_logloss: 0.100905\ttraining's amex_metric: 0.98264\tvalid_1's binary_logloss: 0.2167\tvalid_1's amex_metric: 0.793048\n",
            "[8000]\ttraining's binary_logloss: 0.0956356\ttraining's amex_metric: 0.987149\tvalid_1's binary_logloss: 0.216965\tvalid_1's amex_metric: 0.793575\n",
            "[8500]\ttraining's binary_logloss: 0.0912117\ttraining's amex_metric: 0.990591\tvalid_1's binary_logloss: 0.217151\tvalid_1's amex_metric: 0.79372\n",
            "[9000]\ttraining's binary_logloss: 0.0862987\ttraining's amex_metric: 0.993733\tvalid_1's binary_logloss: 0.217441\tvalid_1's amex_metric: 0.793846\n",
            "[9500]\ttraining's binary_logloss: 0.0820205\ttraining's amex_metric: 0.995677\tvalid_1's binary_logloss: 0.217787\tvalid_1's amex_metric: 0.793428\n",
            "[10000]\ttraining's binary_logloss: 0.0779352\ttraining's amex_metric: 0.997197\tvalid_1's binary_logloss: 0.218093\tvalid_1's amex_metric: 0.794184\n",
            "[10500]\ttraining's binary_logloss: 0.0744865\ttraining's amex_metric: 0.998185\tvalid_1's binary_logloss: 0.218449\tvalid_1's amex_metric: 0.793817\n",
            "Our fold 1 CV score is 0.7938166733939298\n",
            " \n",
            "--------------------------------------------------\n",
            "Training fold 2 with 2000 features...\n",
            "[500]\ttraining's binary_logloss: 0.256525\ttraining's amex_metric: 0.792321\tvalid_1's binary_logloss: 0.26368\tvalid_1's amex_metric: 0.775451\n",
            "[1000]\ttraining's binary_logloss: 0.209384\ttraining's amex_metric: 0.820426\tvalid_1's binary_logloss: 0.225653\tvalid_1's amex_metric: 0.788782\n",
            "[1500]\ttraining's binary_logloss: 0.195177\ttraining's amex_metric: 0.840111\tvalid_1's binary_logloss: 0.220259\tvalid_1's amex_metric: 0.792682\n",
            "[2000]\ttraining's binary_logloss: 0.182382\ttraining's amex_metric: 0.85997\tvalid_1's binary_logloss: 0.217617\tvalid_1's amex_metric: 0.79555\n",
            "[2500]\ttraining's binary_logloss: 0.173712\ttraining's amex_metric: 0.875747\tvalid_1's binary_logloss: 0.216685\tvalid_1's amex_metric: 0.79617\n",
            "[3000]\ttraining's binary_logloss: 0.164386\ttraining's amex_metric: 0.89112\tvalid_1's binary_logloss: 0.21605\tvalid_1's amex_metric: 0.796268\n",
            "[3500]\ttraining's binary_logloss: 0.155412\ttraining's amex_metric: 0.906346\tvalid_1's binary_logloss: 0.215585\tvalid_1's amex_metric: 0.79678\n",
            "[4000]\ttraining's binary_logloss: 0.147374\ttraining's amex_metric: 0.919547\tvalid_1's binary_logloss: 0.21537\tvalid_1's amex_metric: 0.79675\n",
            "[4500]\ttraining's binary_logloss: 0.139452\ttraining's amex_metric: 0.932519\tvalid_1's binary_logloss: 0.215225\tvalid_1's amex_metric: 0.796441\n",
            "[5000]\ttraining's binary_logloss: 0.131849\ttraining's amex_metric: 0.944548\tvalid_1's binary_logloss: 0.215242\tvalid_1's amex_metric: 0.796433\n",
            "[5500]\ttraining's binary_logloss: 0.1251\ttraining's amex_metric: 0.953522\tvalid_1's binary_logloss: 0.21515\tvalid_1's amex_metric: 0.797191\n",
            "[6000]\ttraining's binary_logloss: 0.119415\ttraining's amex_metric: 0.961956\tvalid_1's binary_logloss: 0.215267\tvalid_1's amex_metric: 0.796847\n",
            "[6500]\ttraining's binary_logloss: 0.113581\ttraining's amex_metric: 0.969107\tvalid_1's binary_logloss: 0.215342\tvalid_1's amex_metric: 0.796666\n",
            "[7000]\ttraining's binary_logloss: 0.106984\ttraining's amex_metric: 0.976237\tvalid_1's binary_logloss: 0.215396\tvalid_1's amex_metric: 0.795421\n",
            "[7500]\ttraining's binary_logloss: 0.10094\ttraining's amex_metric: 0.982229\tvalid_1's binary_logloss: 0.215642\tvalid_1's amex_metric: 0.795523\n",
            "[8000]\ttraining's binary_logloss: 0.0956839\ttraining's amex_metric: 0.986692\tvalid_1's binary_logloss: 0.215808\tvalid_1's amex_metric: 0.796399\n",
            "[8500]\ttraining's binary_logloss: 0.0912965\ttraining's amex_metric: 0.990368\tvalid_1's binary_logloss: 0.216038\tvalid_1's amex_metric: 0.796195\n",
            "[9000]\ttraining's binary_logloss: 0.0864256\ttraining's amex_metric: 0.993331\tvalid_1's binary_logloss: 0.216397\tvalid_1's amex_metric: 0.796242\n",
            "[9500]\ttraining's binary_logloss: 0.0821678\ttraining's amex_metric: 0.995536\tvalid_1's binary_logloss: 0.216651\tvalid_1's amex_metric: 0.796261\n",
            "[10000]\ttraining's binary_logloss: 0.0781543\ttraining's amex_metric: 0.997067\tvalid_1's binary_logloss: 0.217131\tvalid_1's amex_metric: 0.795973\n",
            "[10500]\ttraining's binary_logloss: 0.0746899\ttraining's amex_metric: 0.998137\tvalid_1's binary_logloss: 0.217443\tvalid_1's amex_metric: 0.795632\n",
            "Our fold 2 CV score is 0.7956326377019525\n",
            " \n",
            "--------------------------------------------------\n",
            "Training fold 3 with 2000 features...\n",
            "[500]\ttraining's binary_logloss: 0.256258\ttraining's amex_metric: 0.793305\tvalid_1's binary_logloss: 0.264609\tvalid_1's amex_metric: 0.769818\n",
            "[1000]\ttraining's binary_logloss: 0.209087\ttraining's amex_metric: 0.820482\tvalid_1's binary_logloss: 0.226936\tvalid_1's amex_metric: 0.782548\n",
            "[1500]\ttraining's binary_logloss: 0.194882\ttraining's amex_metric: 0.841457\tvalid_1's binary_logloss: 0.221609\tvalid_1's amex_metric: 0.787515\n",
            "[2000]\ttraining's binary_logloss: 0.182159\ttraining's amex_metric: 0.860924\tvalid_1's binary_logloss: 0.218959\tvalid_1's amex_metric: 0.790255\n",
            "[2500]\ttraining's binary_logloss: 0.173486\ttraining's amex_metric: 0.875914\tvalid_1's binary_logloss: 0.218141\tvalid_1's amex_metric: 0.791199\n",
            "[3000]\ttraining's binary_logloss: 0.1642\ttraining's amex_metric: 0.891161\tvalid_1's binary_logloss: 0.217177\tvalid_1's amex_metric: 0.791841\n",
            "[3500]\ttraining's binary_logloss: 0.155198\ttraining's amex_metric: 0.906553\tvalid_1's binary_logloss: 0.216644\tvalid_1's amex_metric: 0.792629\n",
            "[4000]\ttraining's binary_logloss: 0.147173\ttraining's amex_metric: 0.919611\tvalid_1's binary_logloss: 0.216381\tvalid_1's amex_metric: 0.793676\n",
            "[4500]\ttraining's binary_logloss: 0.139315\ttraining's amex_metric: 0.932082\tvalid_1's binary_logloss: 0.216255\tvalid_1's amex_metric: 0.793038\n",
            "[5000]\ttraining's binary_logloss: 0.131625\ttraining's amex_metric: 0.944055\tvalid_1's binary_logloss: 0.216173\tvalid_1's amex_metric: 0.79246\n",
            "[5500]\ttraining's binary_logloss: 0.124905\ttraining's amex_metric: 0.953813\tvalid_1's binary_logloss: 0.216108\tvalid_1's amex_metric: 0.793935\n",
            "[6000]\ttraining's binary_logloss: 0.119218\ttraining's amex_metric: 0.961888\tvalid_1's binary_logloss: 0.216273\tvalid_1's amex_metric: 0.79359\n",
            "[6500]\ttraining's binary_logloss: 0.11336\ttraining's amex_metric: 0.96917\tvalid_1's binary_logloss: 0.216276\tvalid_1's amex_metric: 0.793761\n",
            "[7000]\ttraining's binary_logloss: 0.106814\ttraining's amex_metric: 0.976218\tvalid_1's binary_logloss: 0.216405\tvalid_1's amex_metric: 0.79362\n",
            "[7500]\ttraining's binary_logloss: 0.10074\ttraining's amex_metric: 0.982559\tvalid_1's binary_logloss: 0.216603\tvalid_1's amex_metric: 0.794228\n",
            "[8000]\ttraining's binary_logloss: 0.0954641\ttraining's amex_metric: 0.987276\tvalid_1's binary_logloss: 0.216768\tvalid_1's amex_metric: 0.794176\n",
            "[8500]\ttraining's binary_logloss: 0.0910824\ttraining's amex_metric: 0.990701\tvalid_1's binary_logloss: 0.216974\tvalid_1's amex_metric: 0.794972\n",
            "[9000]\ttraining's binary_logloss: 0.0862443\ttraining's amex_metric: 0.993496\tvalid_1's binary_logloss: 0.217165\tvalid_1's amex_metric: 0.794538\n",
            "[9500]\ttraining's binary_logloss: 0.0819906\ttraining's amex_metric: 0.995784\tvalid_1's binary_logloss: 0.217514\tvalid_1's amex_metric: 0.79433\n",
            "[10000]\ttraining's binary_logloss: 0.0779221\ttraining's amex_metric: 0.997358\tvalid_1's binary_logloss: 0.217901\tvalid_1's amex_metric: 0.794021\n",
            "[10500]\ttraining's binary_logloss: 0.0744613\ttraining's amex_metric: 0.998288\tvalid_1's binary_logloss: 0.218337\tvalid_1's amex_metric: 0.793628\n",
            "Our fold 3 CV score is 0.793585869471764\n",
            " \n",
            "--------------------------------------------------\n",
            "Training fold 4 with 2000 features...\n",
            "[500]\ttraining's binary_logloss: 0.256843\ttraining's amex_metric: 0.791676\tvalid_1's binary_logloss: 0.262786\tvalid_1's amex_metric: 0.775877\n",
            "[1000]\ttraining's binary_logloss: 0.209806\ttraining's amex_metric: 0.819811\tvalid_1's binary_logloss: 0.224425\tvalid_1's amex_metric: 0.787824\n",
            "[1500]\ttraining's binary_logloss: 0.195628\ttraining's amex_metric: 0.839551\tvalid_1's binary_logloss: 0.218864\tvalid_1's amex_metric: 0.793328\n",
            "[2000]\ttraining's binary_logloss: 0.182753\ttraining's amex_metric: 0.860241\tvalid_1's binary_logloss: 0.216301\tvalid_1's amex_metric: 0.796308\n",
            "[2500]\ttraining's binary_logloss: 0.174055\ttraining's amex_metric: 0.875026\tvalid_1's binary_logloss: 0.215551\tvalid_1's amex_metric: 0.796644\n",
            "[3000]\ttraining's binary_logloss: 0.164743\ttraining's amex_metric: 0.889731\tvalid_1's binary_logloss: 0.214844\tvalid_1's amex_metric: 0.797025\n",
            "[3500]\ttraining's binary_logloss: 0.155759\ttraining's amex_metric: 0.905111\tvalid_1's binary_logloss: 0.214433\tvalid_1's amex_metric: 0.797233\n",
            "[4000]\ttraining's binary_logloss: 0.147711\ttraining's amex_metric: 0.918476\tvalid_1's binary_logloss: 0.214165\tvalid_1's amex_metric: 0.796956\n",
            "[4500]\ttraining's binary_logloss: 0.139843\ttraining's amex_metric: 0.931356\tvalid_1's binary_logloss: 0.214035\tvalid_1's amex_metric: 0.797212\n",
            "[5000]\ttraining's binary_logloss: 0.132158\ttraining's amex_metric: 0.942994\tvalid_1's binary_logloss: 0.213933\tvalid_1's amex_metric: 0.796599\n",
            "[5500]\ttraining's binary_logloss: 0.125419\ttraining's amex_metric: 0.953457\tvalid_1's binary_logloss: 0.213932\tvalid_1's amex_metric: 0.796578\n",
            "[6000]\ttraining's binary_logloss: 0.119731\ttraining's amex_metric: 0.961569\tvalid_1's binary_logloss: 0.214033\tvalid_1's amex_metric: 0.795894\n",
            "[6500]\ttraining's binary_logloss: 0.113842\ttraining's amex_metric: 0.96867\tvalid_1's binary_logloss: 0.213998\tvalid_1's amex_metric: 0.796092\n",
            "[7000]\ttraining's binary_logloss: 0.107363\ttraining's amex_metric: 0.97588\tvalid_1's binary_logloss: 0.213945\tvalid_1's amex_metric: 0.796096\n",
            "[7500]\ttraining's binary_logloss: 0.101279\ttraining's amex_metric: 0.982065\tvalid_1's binary_logloss: 0.21408\tvalid_1's amex_metric: 0.79642\n",
            "[8000]\ttraining's binary_logloss: 0.096026\ttraining's amex_metric: 0.986804\tvalid_1's binary_logloss: 0.214294\tvalid_1's amex_metric: 0.796691\n",
            "[8500]\ttraining's binary_logloss: 0.091644\ttraining's amex_metric: 0.990297\tvalid_1's binary_logloss: 0.214379\tvalid_1's amex_metric: 0.796879\n",
            "[9000]\ttraining's binary_logloss: 0.0867565\ttraining's amex_metric: 0.993346\tvalid_1's binary_logloss: 0.21469\tvalid_1's amex_metric: 0.796713\n",
            "[9500]\ttraining's binary_logloss: 0.0824969\ttraining's amex_metric: 0.99534\tvalid_1's binary_logloss: 0.214912\tvalid_1's amex_metric: 0.79658\n",
            "[10000]\ttraining's binary_logloss: 0.0784128\ttraining's amex_metric: 0.997027\tvalid_1's binary_logloss: 0.215217\tvalid_1's amex_metric: 0.797069\n",
            "[10500]\ttraining's binary_logloss: 0.0749484\ttraining's amex_metric: 0.998113\tvalid_1's binary_logloss: 0.215496\tvalid_1's amex_metric: 0.796636\n",
            "Our fold 4 CV score is 0.796657180969031\n",
            "Our out of folds CV score is 0.7964363528185328\n"
          ]
        }
      ]
    },
    {
      "cell_type": "code",
      "source": [
        "del train\n",
        "_ = gc.collect()"
      ],
      "metadata": {
        "id": "P2llPNqqOKTT"
      },
      "execution_count": 11,
      "outputs": []
    },
    {
      "cell_type": "markdown",
      "metadata": {
        "papermill": {
          "duration": 0.018388,
          "end_time": "2022-07-15T16:48:45.862462",
          "exception": false,
          "start_time": "2022-07-15T16:48:45.844074",
          "status": "completed"
        },
        "tags": [],
        "id": "bf46dad6"
      },
      "source": [
        "# Test part"
      ]
    },
    {
      "cell_type": "code",
      "execution_count": 12,
      "metadata": {
        "execution": {
          "iopub.execute_input": "2022-07-15T16:48:45.901178Z",
          "iopub.status.busy": "2022-07-15T16:48:45.900848Z",
          "iopub.status.idle": "2022-07-15T16:48:45.907526Z",
          "shell.execute_reply": "2022-07-15T16:48:45.906709Z"
        },
        "papermill": {
          "duration": 0.027751,
          "end_time": "2022-07-15T16:48:45.909278",
          "exception": false,
          "start_time": "2022-07-15T16:48:45.881527",
          "status": "completed"
        },
        "tags": [],
        "id": "c28f1826"
      },
      "outputs": [],
      "source": [
        "# CALCULATE SIZE OF EACH SEPARATE TEST PART\n",
        "def get_rows(customers, test, NUM_PARTS = 4, verbose = ''):\n",
        "    chunk = len(customers)//NUM_PARTS\n",
        "    if verbose != '':\n",
        "        print(f'We will process {verbose} data as {NUM_PARTS} separate parts.')\n",
        "        print(f'There will be {chunk} customers in each part (except the last part).')\n",
        "        print('Below are number of rows in each part:')\n",
        "    rows = []\n",
        "\n",
        "    for k in range(NUM_PARTS):\n",
        "        if k==NUM_PARTS-1: cc = customers[k*chunk:]\n",
        "        else: cc = customers[k*chunk:(k+1)*chunk]\n",
        "        s = test.loc[test.customer_ID.isin(cc)].shape[0]\n",
        "        rows.append(s)\n",
        "    if verbose != '': print( rows )\n",
        "    return rows,chunk"
      ]
    },
    {
      "cell_type": "code",
      "execution_count": 13,
      "metadata": {
        "execution": {
          "iopub.execute_input": "2022-07-15T16:48:45.947705Z",
          "iopub.status.busy": "2022-07-15T16:48:45.947377Z",
          "iopub.status.idle": "2022-07-15T16:48:47.039525Z",
          "shell.execute_reply": "2022-07-15T16:48:47.038640Z"
        },
        "papermill": {
          "duration": 1.113806,
          "end_time": "2022-07-15T16:48:47.041416",
          "exception": false,
          "start_time": "2022-07-15T16:48:45.927610",
          "status": "completed"
        },
        "tags": [],
        "id": "8c7e70c5",
        "outputId": "2f8c476a-0aaa-4e92-ffed-5acaccc70a91",
        "colab": {
          "base_uri": "https://localhost:8080/"
        }
      },
      "outputs": [
        {
          "output_type": "stream",
          "name": "stdout",
          "text": [
            "We will process test data as 4 separate parts.\n",
            "There will be 231155 customers in each part (except the last part).\n",
            "Below are number of rows in each part:\n",
            "[231155, 231155, 231155, 231156]\n"
          ]
        }
      ],
      "source": [
        "# COMPUTE SIZE OF 4 PARTS FOR TEST DATA\n",
        "NUM_PARTS = 4\n",
        "\n",
        "customers = test[['customer_ID']].drop_duplicates().sort_index().values.flatten()\n",
        "rows,num_cust = get_rows(customers, test[['customer_ID']], NUM_PARTS = NUM_PARTS, verbose = 'test')"
      ]
    },
    {
      "cell_type": "code",
      "execution_count": 14,
      "metadata": {
        "execution": {
          "iopub.execute_input": "2022-07-15T16:48:47.081924Z",
          "iopub.status.busy": "2022-07-15T16:48:47.081615Z",
          "iopub.status.idle": "2022-07-15T16:50:55.407348Z",
          "shell.execute_reply": "2022-07-15T16:50:55.406352Z"
        },
        "papermill": {
          "duration": 128.349422,
          "end_time": "2022-07-15T16:50:55.410249",
          "exception": false,
          "start_time": "2022-07-15T16:48:47.060827",
          "status": "completed"
        },
        "tags": [],
        "id": "9cf53fd3",
        "outputId": "16cfb1bd-4559-486f-c70a-d95f7c1669a4",
        "colab": {
          "base_uri": "https://localhost:8080/"
        }
      },
      "outputs": [
        {
          "output_type": "stream",
          "name": "stdout",
          "text": [
            "\n",
            "Reading test data...\n",
            "=> Test part 1 has shape (231155, 2000)\n",
            "\n",
            "Reading test data...\n",
            "=> Test part 2 has shape (231155, 2000)\n",
            "\n",
            "Reading test data...\n",
            "=> Test part 3 has shape (231155, 2000)\n",
            "\n",
            "Reading test data...\n",
            "=> Test part 4 has shape (231156, 2000)\n"
          ]
        }
      ],
      "source": [
        "# INFER TEST DATA IN PARTS\n",
        "skip_rows = 0\n",
        "skip_cust = 0\n",
        "test_preds = []\n",
        "\n",
        "for k in range(NUM_PARTS):\n",
        "    \n",
        "    # READ PART OF TEST DATA\n",
        "    print(f'\\nReading test data...')\n",
        "    test_copy = test.iloc[skip_rows:skip_rows+rows[k]].copy()\n",
        "    test_copy = test_copy.set_index('customer_ID')\n",
        "    skip_rows += rows[k]\n",
        "    print(f'=> Test part {k+1} has shape', test_copy.shape )\n",
        "    \n",
        "    # PROCESS AND FEATURE ENGINEER PART OF TEST DATA\n",
        "    if k==NUM_PARTS-1: test_copy = test_copy.loc[customers[skip_cust:]]\n",
        "    else: test_copy = test_copy.loc[customers[skip_cust:skip_cust+num_cust]]\n",
        "    skip_cust += num_cust\n",
        "        \n",
        "    # INFER XGB MODELS ON TEST DATA\n",
        "    model = joblib.load(f'lgbm_fold0_seed{CFG.seed}.pkl')\n",
        "    preds = model.predict(test_copy)\n",
        "    for f in range(1,CFG.n_folds):\n",
        "        model = joblib.load(f'lgbm_fold{f}_seed{CFG.seed}.pkl')\n",
        "        preds += model.predict(test_copy)\n",
        "    preds /= CFG.n_folds\n",
        "    test_preds.append(preds)\n",
        "\n",
        "    # CLEAN MEMORY\n",
        "    del test_copy, model\n",
        "    _ = gc.collect()\n",
        "\n",
        "del test\n",
        "_ = gc.collect()"
      ]
    },
    {
      "cell_type": "markdown",
      "metadata": {
        "papermill": {
          "duration": 0.067515,
          "end_time": "2022-07-15T16:50:55.538577",
          "exception": false,
          "start_time": "2022-07-15T16:50:55.471062",
          "status": "completed"
        },
        "tags": [],
        "id": "02259545"
      },
      "source": [
        "# Submit"
      ]
    },
    {
      "cell_type": "code",
      "execution_count": 15,
      "metadata": {
        "execution": {
          "iopub.execute_input": "2022-07-15T16:50:55.628196Z",
          "iopub.status.busy": "2022-07-15T16:50:55.627855Z",
          "iopub.status.idle": "2022-07-15T16:51:02.864876Z",
          "shell.execute_reply": "2022-07-15T16:51:02.864114Z"
        },
        "papermill": {
          "duration": 7.268354,
          "end_time": "2022-07-15T16:51:02.866646",
          "exception": false,
          "start_time": "2022-07-15T16:50:55.598292",
          "status": "completed"
        },
        "tags": [],
        "id": "00d908fd",
        "outputId": "71a2aefd-7cf3-4546-c117-8a04fd45b80e",
        "colab": {
          "base_uri": "https://localhost:8080/",
          "height": 224
        }
      },
      "outputs": [
        {
          "output_type": "stream",
          "name": "stdout",
          "text": [
            "Submission file shape is (924621, 2)\n"
          ]
        },
        {
          "output_type": "execute_result",
          "data": {
            "text/plain": [
              "                                         customer_ID  prediction\n",
              "0  00000469ba478561f23a92a868bd366de6f6527a684c9a...    0.015081\n",
              "1  00001bf2e77ff879fab36aa4fac689b9ba411dae63ae39...    0.000366\n",
              "2  0000210045da4f81e5f122c6bde5c2a617d03eef67f82c...    0.028370\n",
              "3  00003b41e58ede33b8daf61ab56d9952f17c9ad1c3976c...    0.153647\n",
              "4  00004b22eaeeeb0ec976890c1d9bfc14fd9427e98c4ee9...    0.913006"
            ],
            "text/html": [
              "\n",
              "  <div id=\"df-f261bbf1-62a1-4162-a109-2ea4e596fe7f\">\n",
              "    <div class=\"colab-df-container\">\n",
              "      <div>\n",
              "<style scoped>\n",
              "    .dataframe tbody tr th:only-of-type {\n",
              "        vertical-align: middle;\n",
              "    }\n",
              "\n",
              "    .dataframe tbody tr th {\n",
              "        vertical-align: top;\n",
              "    }\n",
              "\n",
              "    .dataframe thead th {\n",
              "        text-align: right;\n",
              "    }\n",
              "</style>\n",
              "<table border=\"1\" class=\"dataframe\">\n",
              "  <thead>\n",
              "    <tr style=\"text-align: right;\">\n",
              "      <th></th>\n",
              "      <th>customer_ID</th>\n",
              "      <th>prediction</th>\n",
              "    </tr>\n",
              "  </thead>\n",
              "  <tbody>\n",
              "    <tr>\n",
              "      <th>0</th>\n",
              "      <td>00000469ba478561f23a92a868bd366de6f6527a684c9a...</td>\n",
              "      <td>0.015081</td>\n",
              "    </tr>\n",
              "    <tr>\n",
              "      <th>1</th>\n",
              "      <td>00001bf2e77ff879fab36aa4fac689b9ba411dae63ae39...</td>\n",
              "      <td>0.000366</td>\n",
              "    </tr>\n",
              "    <tr>\n",
              "      <th>2</th>\n",
              "      <td>0000210045da4f81e5f122c6bde5c2a617d03eef67f82c...</td>\n",
              "      <td>0.028370</td>\n",
              "    </tr>\n",
              "    <tr>\n",
              "      <th>3</th>\n",
              "      <td>00003b41e58ede33b8daf61ab56d9952f17c9ad1c3976c...</td>\n",
              "      <td>0.153647</td>\n",
              "    </tr>\n",
              "    <tr>\n",
              "      <th>4</th>\n",
              "      <td>00004b22eaeeeb0ec976890c1d9bfc14fd9427e98c4ee9...</td>\n",
              "      <td>0.913006</td>\n",
              "    </tr>\n",
              "  </tbody>\n",
              "</table>\n",
              "</div>\n",
              "      <button class=\"colab-df-convert\" onclick=\"convertToInteractive('df-f261bbf1-62a1-4162-a109-2ea4e596fe7f')\"\n",
              "              title=\"Convert this dataframe to an interactive table.\"\n",
              "              style=\"display:none;\">\n",
              "        \n",
              "  <svg xmlns=\"http://www.w3.org/2000/svg\" height=\"24px\"viewBox=\"0 0 24 24\"\n",
              "       width=\"24px\">\n",
              "    <path d=\"M0 0h24v24H0V0z\" fill=\"none\"/>\n",
              "    <path d=\"M18.56 5.44l.94 2.06.94-2.06 2.06-.94-2.06-.94-.94-2.06-.94 2.06-2.06.94zm-11 1L8.5 8.5l.94-2.06 2.06-.94-2.06-.94L8.5 2.5l-.94 2.06-2.06.94zm10 10l.94 2.06.94-2.06 2.06-.94-2.06-.94-.94-2.06-.94 2.06-2.06.94z\"/><path d=\"M17.41 7.96l-1.37-1.37c-.4-.4-.92-.59-1.43-.59-.52 0-1.04.2-1.43.59L10.3 9.45l-7.72 7.72c-.78.78-.78 2.05 0 2.83L4 21.41c.39.39.9.59 1.41.59.51 0 1.02-.2 1.41-.59l7.78-7.78 2.81-2.81c.8-.78.8-2.07 0-2.86zM5.41 20L4 18.59l7.72-7.72 1.47 1.35L5.41 20z\"/>\n",
              "  </svg>\n",
              "      </button>\n",
              "      \n",
              "  <style>\n",
              "    .colab-df-container {\n",
              "      display:flex;\n",
              "      flex-wrap:wrap;\n",
              "      gap: 12px;\n",
              "    }\n",
              "\n",
              "    .colab-df-convert {\n",
              "      background-color: #E8F0FE;\n",
              "      border: none;\n",
              "      border-radius: 50%;\n",
              "      cursor: pointer;\n",
              "      display: none;\n",
              "      fill: #1967D2;\n",
              "      height: 32px;\n",
              "      padding: 0 0 0 0;\n",
              "      width: 32px;\n",
              "    }\n",
              "\n",
              "    .colab-df-convert:hover {\n",
              "      background-color: #E2EBFA;\n",
              "      box-shadow: 0px 1px 2px rgba(60, 64, 67, 0.3), 0px 1px 3px 1px rgba(60, 64, 67, 0.15);\n",
              "      fill: #174EA6;\n",
              "    }\n",
              "\n",
              "    [theme=dark] .colab-df-convert {\n",
              "      background-color: #3B4455;\n",
              "      fill: #D2E3FC;\n",
              "    }\n",
              "\n",
              "    [theme=dark] .colab-df-convert:hover {\n",
              "      background-color: #434B5C;\n",
              "      box-shadow: 0px 1px 3px 1px rgba(0, 0, 0, 0.15);\n",
              "      filter: drop-shadow(0px 1px 2px rgba(0, 0, 0, 0.3));\n",
              "      fill: #FFFFFF;\n",
              "    }\n",
              "  </style>\n",
              "\n",
              "      <script>\n",
              "        const buttonEl =\n",
              "          document.querySelector('#df-f261bbf1-62a1-4162-a109-2ea4e596fe7f button.colab-df-convert');\n",
              "        buttonEl.style.display =\n",
              "          google.colab.kernel.accessAllowed ? 'block' : 'none';\n",
              "\n",
              "        async function convertToInteractive(key) {\n",
              "          const element = document.querySelector('#df-f261bbf1-62a1-4162-a109-2ea4e596fe7f');\n",
              "          const dataTable =\n",
              "            await google.colab.kernel.invokeFunction('convertToInteractive',\n",
              "                                                     [key], {});\n",
              "          if (!dataTable) return;\n",
              "\n",
              "          const docLinkHtml = 'Like what you see? Visit the ' +\n",
              "            '<a target=\"_blank\" href=https://colab.research.google.com/notebooks/data_table.ipynb>data table notebook</a>'\n",
              "            + ' to learn more about interactive tables.';\n",
              "          element.innerHTML = '';\n",
              "          dataTable['output_type'] = 'display_data';\n",
              "          await google.colab.output.renderOutput(dataTable, element);\n",
              "          const docLink = document.createElement('div');\n",
              "          docLink.innerHTML = docLinkHtml;\n",
              "          element.appendChild(docLink);\n",
              "        }\n",
              "      </script>\n",
              "    </div>\n",
              "  </div>\n",
              "  "
            ]
          },
          "metadata": {},
          "execution_count": 15
        }
      ],
      "source": [
        "# WRITE SUBMISSION FILE\n",
        "test = pd.DataFrame(index=customers,data={'prediction': np.concatenate(test_preds)})\n",
        "sub = pd.read_csv('sample_submission.csv')[['customer_ID']]\n",
        "sub['customer_ID_hash'] = sub['customer_ID'].copy()\n",
        "sub = sub.set_index('customer_ID_hash')\n",
        "sub = sub.merge(test[['prediction']], left_index=True, right_index=True, how='left')\n",
        "sub = sub.reset_index(drop=True)\n",
        "\n",
        "# DISPLAY PREDICTIONS\n",
        "sub.to_csv(f'submission_lgb_v1_seed{CFG.seed}_fold{CFG.n_folds}.csv',index=False)\n",
        "print('Submission file shape is', sub.shape )\n",
        "sub.head()"
      ]
    },
    {
      "cell_type": "code",
      "execution_count": 16,
      "metadata": {
        "execution": {
          "iopub.execute_input": "2022-07-15T16:51:02.918871Z",
          "iopub.status.busy": "2022-07-15T16:51:02.918494Z",
          "iopub.status.idle": "2022-07-15T16:51:03.267833Z",
          "shell.execute_reply": "2022-07-15T16:51:03.266949Z"
        },
        "papermill": {
          "duration": 0.374502,
          "end_time": "2022-07-15T16:51:03.269960",
          "exception": false,
          "start_time": "2022-07-15T16:51:02.895458",
          "status": "completed"
        },
        "tags": [],
        "id": "533e5941",
        "outputId": "7ffd9313-26e0-4ec7-fa2b-f2059de7bdde",
        "colab": {
          "base_uri": "https://localhost:8080/",
          "height": 281
        }
      },
      "outputs": [
        {
          "output_type": "display_data",
          "data": {
            "text/plain": [
              "<Figure size 432x288 with 1 Axes>"
            ],
            "image/png": "[encoded data removed]"
          },
          "metadata": {
            "needs_background": "light"
          }
        }
      ],
      "source": [
        "# PLOT PREDICTIONS\n",
        "import matplotlib.pyplot as plt\n",
        "plt.hist(sub.prediction, bins=100)\n",
        "plt.title('Test Predictions')\n",
        "plt.show()"
      ]
    },
    {
      "cell_type": "markdown",
      "source": [
        "# Prediction"
      ],
      "metadata": {
        "papermill": {
          "duration": 0.00263,
          "end_time": "2022-06-19T23:15:39.870669",
          "exception": false,
          "start_time": "2022-06-19T23:15:39.868039",
          "status": "completed"
        },
        "tags": [],
        "pycharm": {
          "name": "#%% md\n"
        },
        "id": "ofomkRituzly"
      }
    },
    {
      "cell_type": "code",
      "source": [
        "# Submit\n",
        "!kaggle competitions submit -c amex-default-prediction -f submission_lgb_v1_seed42_fold5.csv -m \"the first version. fe lag plus seed 52 fold 5 From colab\""
      ],
      "metadata": {
        "id": "A6OIgRv0CD76",
        "outputId": "d95f13c7-714f-4274-de86-6aac265cd062",
        "colab": {
          "base_uri": "https://localhost:8080/"
        }
      },
      "execution_count": 17,
      "outputs": [
        {
          "output_type": "stream",
          "name": "stdout",
          "text": [
            "100% 75.4M/75.4M [00:03<00:00, 24.6MB/s]\n",
            "Successfully submitted to American Express - Default Prediction"
          ]
        }
      ]
    },
    {
      "cell_type": "code",
      "source": [
        "!kaggle competitions submissions amex-default-prediction"
      ],
      "metadata": {
        "papermill": {
          "duration": 7.116467,
          "end_time": "2022-06-19T23:15:46.98989",
          "exception": false,
          "start_time": "2022-06-19T23:15:39.873423",
          "status": "completed"
        },
        "tags": [],
        "pycharm": {
          "name": "#%%\n"
        },
        "execution": {
          "iopub.status.busy": "2022-07-15T15:26:18.979284Z",
          "iopub.status.idle": "2022-07-15T15:26:18.979914Z",
          "shell.execute_reply.started": "2022-07-15T15:26:18.979701Z",
          "shell.execute_reply": "2022-07-15T15:26:18.979723Z"
        },
        "trusted": true,
        "id": "Ik1UoN1Auzly",
        "outputId": "981083db-c233-4da4-8593-4bc6fee829ec",
        "colab": {
          "base_uri": "https://localhost:8080/"
        }
      },
      "execution_count": 19,
      "outputs": [
        {
          "output_type": "stream",
          "name": "stdout",
          "text": [
            "fileName                             date                 description                                                       status    publicScore  privateScore  \n",
            "-----------------------------------  -------------------  ----------------------------------------------------------------  --------  -----------  ------------  \n",
            "submission_lgb_v1_seed42_fold5.csv   2022-08-09 13:14:51  the first version. fe lag plus seed 52 fold 5 From colab          complete  0.798                      \n",
            "submission_cat_v10_seed42_fold5.csv  2022-08-09 12:40:49  Run with bruto force and last - mean, last / mean                 complete  0.796                      \n",
            "Amex Default Prediction - Ensemble   2022-08-08 15:19:46  Notebook Amex Default Prediction - Ensemble | Version 54          complete  0.799                      \n",
            "Amex Default Prediction - Ensemble   2022-08-08 15:17:44  Notebook Amex Default Prediction - Ensemble | Version 53          complete  0.799                      \n",
            "submission_xgb_v10_seed42_fold5.csv  2022-08-08 13:34:01  Run with bruto-force and last - min and max -last seed 42 fold 5  complete  0.796                      \n",
            "submission_xgb_v10_seed42_fold5.csv  2022-08-08 11:25:33  Run with bruto-force and last - min and max -last seed 42 fold 5  complete  0.796                      \n",
            "Amex Default Prediction - Ensemble   2022-08-08 09:16:13  Notebook Amex Default Prediction - Ensemble | Version 52          complete  0.799                      \n",
            "Amex Default Prediction - Ensemble   2022-08-07 10:06:52  Notebook Amex Default Prediction - Ensemble | Version 51          complete  0.799                      \n",
            "Amex Default Prediction - Ensemble   2022-08-07 10:01:11  Notebook Amex Default Prediction - Ensemble | Version 50          complete  0.799                      \n",
            "Amex Default Prediction - Ensemble   2022-08-07 04:25:29  Notebook Amex Default Prediction - Ensemble | Version 49          complete  0.799                      \n",
            "Amex Default Prediction - Ensemble   2022-08-07 04:22:24  Notebook Amex Default Prediction - Ensemble | Version 48          complete  0.799                      \n",
            "Amex Default Prediction - Ensemble   2022-08-07 04:18:56  Notebook Amex Default Prediction - Ensemble | Version 47          complete  0.798                      \n",
            "Amex Default Prediction - Ensemble   2022-08-05 11:27:36  Notebook Amex Default Prediction - Ensemble | Version 46          complete  0.799                      \n",
            "Amex Default Prediction - Ensemble   2022-08-05 11:23:37  Notebook Amex Default Prediction - Ensemble | Version 45          complete  0.799                      \n",
            "Amex Default Prediction - Ensemble   2022-08-04 15:16:57  Notebook Amex Default Prediction - Ensemble | Version 44          complete  0.799                      \n",
            "Amex Default Prediction - Ensemble   2022-08-04 14:56:04  Notebook Amex Default Prediction - Ensemble | Version 43          complete  0.799                      \n",
            "Amex Default Prediction - Ensemble   2022-08-04 14:53:27  Notebook Amex Default Prediction - Ensemble | Version 42          complete  0.799                      \n",
            "submission_cat_v9_seed42_fold5.csv   2022-08-04 14:26:40  Run with max - last                                               complete  0.796                      \n",
            "submission_lgb_v1_seed42_fold5.csv   2022-08-04 14:14:31  the first version. fe lag plus seed 52 fold 5 From colab          complete  0.798                      \n",
            "Amex Default Prediction - Ensemble   2022-08-03 11:51:07  Notebook Amex Default Prediction - Ensemble | Version 40          complete  0.799                      \n",
            "Amex Default Prediction - Ensemble   2022-08-03 11:43:47  Notebook Amex Default Prediction - Ensemble | Version 38          complete  0.799                      \n",
            "Amex Default Prediction - Ensemble   2022-08-03 11:43:35  Notebook Amex Default Prediction - Ensemble | Version 38          complete  0.798                      \n",
            "Amex Default Prediction - Ensemble   2022-08-03 11:40:52  Notebook Amex Default Prediction - Ensemble | Version 37          complete  0.798                      \n",
            "Amex Default Prediction - Ensemble   2022-08-03 11:33:14  Notebook Amex Default Prediction - Ensemble | Version 36          complete  0.799                      \n",
            "submission_xgb_v8_seed42_fold5.csv   2022-08-02 17:47:50  Run with (last - first) / s_2 seed 42 fold 5                      complete  0.795                      \n",
            "submission_cat_v9_seed42_fold5.csv   2022-08-02 15:17:24  Run with max - last                                               complete  0.796                      \n",
            "submission_cat_v7_seed42_fold5.csv   2022-08-01 06:24:15  Run with max - last                                               complete  0.796                      \n",
            "Amex Default Prediction - Ensemble   2022-07-30 15:42:45  Notebook Amex Default Prediction - Ensemble | Version 35          complete  0.798                      \n",
            "Amex Default Prediction - Ensemble   2022-07-30 15:38:09  rank                                                              complete  0.798                      \n",
            "Amex Default Prediction - Ensemble   2022-07-30 15:36:03  mean ver                                                          complete  0.798                      \n",
            "Amex Default Prediction - Ensemble   2022-07-30 15:19:03  Notebook Amex Default Prediction - Ensemble | Version 32          complete  0.798                      \n",
            "Amex Default Prediction - Ensemble   2022-07-30 10:03:47  Notebook Amex Default Prediction - Ensemble | Version 31          complete  0.798                      \n",
            "Amex Default Prediction - Ensemble   2022-07-29 11:37:23  Notebook Amex Default Prediction - Ensemble | Version 30          complete  0.798                      \n",
            "submission_cat_v7_seed42_fold5.csv   2022-07-29 04:02:04  Run with seed 42 fold 5 last / s2                                 complete  0.796                      \n",
            "Amex Default Prediction - Ensemble   2022-07-28 14:38:46  Notebook Amex Default Prediction - Ensemble | Version 29          complete  0.798                      \n",
            "Amex Default Prediction - Ensemble   2022-07-28 14:34:35  Notebook Amex Default Prediction - Ensemble | Version 28          complete  0.798                      \n",
            "Amex Default Prediction - Ensemble   2022-07-28 13:10:11  Notebook Amex Default Prediction - Ensemble | Version 27          complete  0.798                      \n",
            "submission_lgb_v1_seed42_fold5.csv   2022-07-28 12:43:40  the first version. fe lag plus seed 52 fold 5 From colab          complete  0.798                      \n",
            "submission_lgb_v1_seed42_fold5.csv   2022-07-28 05:46:49  the first version. fe lag plus seed 52 fold 5 From colab          complete  0.798                      \n",
            "submission_xgb_v6_seed42_fold5.csv   2022-07-27 14:21:18  Run with (last - first) / s_2 seed 42 fold 5                      complete  0.796                      \n",
            "submission_cat_v1_seed42_fold5.csv   2022-07-27 09:46:57  Run with seed 42 fold 5 last / s2                                 complete  0.796                      \n",
            "submission_cat_v1_seed42_fold5.csv   2022-07-27 06:08:24  From colab seed 42 fold 5 lag plus                                complete  0.794                      \n",
            "submission_xgb_v5_seed42_fold5.csv   2022-07-27 02:53:07  xgb fold 5 seed 42 last / s2 lag                                  complete  0.796                      \n",
            "submission_xgb_v1_seed42_fold5.csv   2022-07-26 16:34:13  From colab seed 42 fold 5 lag plus                                complete  0.795                      \n",
            "Amex Default Prediction - Ensemble   2022-07-26 16:18:30  Notebook Amex Default Prediction - Ensemble | Version 24          complete  0.798                      \n",
            "Amex Default Prediction - Ensemble   2022-07-26 15:17:31  Notebook Amex Default Prediction - Ensemble | Version 23          complete  0.798                      \n",
            "submission_xgb_v1_seed42_fold5.csv   2022-07-26 14:59:19  From colab seed 42 fold 5 lag plus                                complete  0.795                      \n",
            "submission_cat_v1_seed42_fold5.csv   2022-07-26 13:10:11  From colab seed 42 fold 5 lag plus                                complete  0.796                      \n",
            "Amex Default Prediction - Ensemble   2022-07-25 18:21:01  Notebook Amex Default Prediction - Ensemble | Version 22          complete  0.799                      \n",
            "submission_cat_v1_seed42_fold5.csv   2022-07-25 18:15:57  From colab seed 42 fold 5 lag plus                                complete  0.796                      \n"
          ]
        }
      ]
    }
  ]
}